{
  "cells": [
    {
      "cell_type": "markdown",
      "metadata": {
        "id": "view-in-github",
        "colab_type": "text"
      },
      "source": [
        "<a href=\"https://colab.research.google.com/github/MakkiFourati/RecSys-Thesis/blob/main/H%26M_RS.ipynb\" target=\"_parent\"><img src=\"https://colab.research.google.com/assets/colab-badge.svg\" alt=\"Open In Colab\"/></a>"
      ]
    },
    {
      "cell_type": "code",
      "execution_count": null,
      "metadata": {
        "colab": {
          "base_uri": "https://localhost:8080/",
          "height": 1000
        },
        "id": "QCWRVvzQZzuF",
        "outputId": "1122500d-a49d-497e-e004-499a898263da"
      },
      "outputs": [
        {
          "output_type": "stream",
          "name": "stdout",
          "text": [
            "Looking in indexes: https://pypi.org/simple, https://us-python.pkg.dev/colab-wheels/public/simple/\n",
            "Collecting turicreate\n",
            "  Downloading turicreate-6.4.1-cp37-cp37m-manylinux1_x86_64.whl (92.0 MB)\n",
            "\u001b[K     |████████████████████████████████| 92.0 MB 19 kB/s \n",
            "\u001b[?25hRequirement already satisfied: pandas>=0.23.2 in /usr/local/lib/python3.7/dist-packages (from turicreate) (1.3.5)\n",
            "Collecting resampy==0.2.1\n",
            "  Downloading resampy-0.2.1.tar.gz (322 kB)\n",
            "\u001b[K     |████████████████████████████████| 322 kB 56.5 MB/s \n",
            "\u001b[?25hCollecting coremltools==3.3\n",
            "  Downloading coremltools-3.3-cp37-none-manylinux1_x86_64.whl (3.5 MB)\n",
            "\u001b[K     |████████████████████████████████| 3.5 MB 27.0 MB/s \n",
            "\u001b[?25hRequirement already satisfied: pillow>=5.2.0 in /usr/local/lib/python3.7/dist-packages (from turicreate) (7.1.2)\n",
            "Requirement already satisfied: requests>=2.9.1 in /usr/local/lib/python3.7/dist-packages (from turicreate) (2.23.0)\n",
            "Requirement already satisfied: numpy in /usr/local/lib/python3.7/dist-packages (from turicreate) (1.21.6)\n",
            "Requirement already satisfied: six>=1.10.0 in /usr/local/lib/python3.7/dist-packages (from turicreate) (1.15.0)\n",
            "Collecting numba<0.51.0\n",
            "  Downloading numba-0.50.1-cp37-cp37m-manylinux2014_x86_64.whl (3.6 MB)\n",
            "\u001b[K     |████████████████████████████████| 3.6 MB 59.8 MB/s \n",
            "\u001b[?25hCollecting prettytable==0.7.2\n",
            "  Downloading prettytable-0.7.2.zip (28 kB)\n",
            "Requirement already satisfied: decorator>=4.0.9 in /usr/local/lib/python3.7/dist-packages (from turicreate) (4.4.2)\n",
            "Collecting tensorflow<2.1.0,>=2.0.0\n",
            "  Downloading tensorflow-2.0.4-cp37-cp37m-manylinux2010_x86_64.whl (86.4 MB)\n",
            "\u001b[K     |████████████████████████████████| 86.4 MB 77 kB/s \n",
            "\u001b[?25hRequirement already satisfied: scipy>=1.1.0 in /usr/local/lib/python3.7/dist-packages (from turicreate) (1.7.3)\n",
            "Requirement already satisfied: protobuf>=3.1.0 in /usr/local/lib/python3.7/dist-packages (from coremltools==3.3->turicreate) (3.17.3)\n",
            "Requirement already satisfied: setuptools in /usr/local/lib/python3.7/dist-packages (from numba<0.51.0->turicreate) (57.4.0)\n",
            "Collecting llvmlite<0.34,>=0.33.0.dev0\n",
            "  Downloading llvmlite-0.33.0-cp37-cp37m-manylinux1_x86_64.whl (18.3 MB)\n",
            "\u001b[K     |████████████████████████████████| 18.3 MB 25.5 MB/s \n",
            "\u001b[?25hRequirement already satisfied: python-dateutil>=2.7.3 in /usr/local/lib/python3.7/dist-packages (from pandas>=0.23.2->turicreate) (2.8.2)\n",
            "Requirement already satisfied: pytz>=2017.3 in /usr/local/lib/python3.7/dist-packages (from pandas>=0.23.2->turicreate) (2022.2.1)\n",
            "Requirement already satisfied: idna<3,>=2.5 in /usr/local/lib/python3.7/dist-packages (from requests>=2.9.1->turicreate) (2.10)\n",
            "Requirement already satisfied: chardet<4,>=3.0.2 in /usr/local/lib/python3.7/dist-packages (from requests>=2.9.1->turicreate) (3.0.4)\n",
            "Requirement already satisfied: certifi>=2017.4.17 in /usr/local/lib/python3.7/dist-packages (from requests>=2.9.1->turicreate) (2022.6.15)\n",
            "Requirement already satisfied: urllib3!=1.25.0,!=1.25.1,<1.26,>=1.21.1 in /usr/local/lib/python3.7/dist-packages (from requests>=2.9.1->turicreate) (1.24.3)\n",
            "Requirement already satisfied: absl-py>=0.7.0 in /usr/local/lib/python3.7/dist-packages (from tensorflow<2.1.0,>=2.0.0->turicreate) (1.2.0)\n",
            "Collecting h5py<=2.10.0\n",
            "  Downloading h5py-2.10.0-cp37-cp37m-manylinux1_x86_64.whl (2.9 MB)\n",
            "\u001b[K     |████████████████████████████████| 2.9 MB 51.3 MB/s \n",
            "\u001b[?25hRequirement already satisfied: grpcio>=1.8.6 in /usr/local/lib/python3.7/dist-packages (from tensorflow<2.1.0,>=2.0.0->turicreate) (1.48.1)\n",
            "Collecting tensorflow-estimator<2.1.0,>=2.0.0\n",
            "  Downloading tensorflow_estimator-2.0.1-py2.py3-none-any.whl (449 kB)\n",
            "\u001b[K     |████████████████████████████████| 449 kB 73.9 MB/s \n",
            "\u001b[?25hRequirement already satisfied: opt-einsum>=2.3.2 in /usr/local/lib/python3.7/dist-packages (from tensorflow<2.1.0,>=2.0.0->turicreate) (3.3.0)\n",
            "Requirement already satisfied: keras-preprocessing>=1.0.5 in /usr/local/lib/python3.7/dist-packages (from tensorflow<2.1.0,>=2.0.0->turicreate) (1.1.2)\n",
            "Requirement already satisfied: wrapt>=1.11.1 in /usr/local/lib/python3.7/dist-packages (from tensorflow<2.1.0,>=2.0.0->turicreate) (1.14.1)\n",
            "Requirement already satisfied: termcolor>=1.1.0 in /usr/local/lib/python3.7/dist-packages (from tensorflow<2.1.0,>=2.0.0->turicreate) (1.1.0)\n",
            "Requirement already satisfied: astor>=0.6.0 in /usr/local/lib/python3.7/dist-packages (from tensorflow<2.1.0,>=2.0.0->turicreate) (0.8.1)\n",
            "Collecting keras-applications>=1.0.8\n",
            "  Downloading Keras_Applications-1.0.8-py3-none-any.whl (50 kB)\n",
            "\u001b[K     |████████████████████████████████| 50 kB 7.8 MB/s \n",
            "\u001b[?25hRequirement already satisfied: wheel>=0.26 in /usr/local/lib/python3.7/dist-packages (from tensorflow<2.1.0,>=2.0.0->turicreate) (0.37.1)\n",
            "Collecting tensorboard<2.1.0,>=2.0.0\n",
            "  Downloading tensorboard-2.0.2-py3-none-any.whl (3.8 MB)\n",
            "\u001b[K     |████████████████████████████████| 3.8 MB 47.9 MB/s \n",
            "\u001b[?25hCollecting numpy\n",
            "  Downloading numpy-1.18.5-cp37-cp37m-manylinux1_x86_64.whl (20.1 MB)\n",
            "\u001b[K     |████████████████████████████████| 20.1 MB 1.3 MB/s \n",
            "\u001b[?25hRequirement already satisfied: google-pasta>=0.1.6 in /usr/local/lib/python3.7/dist-packages (from tensorflow<2.1.0,>=2.0.0->turicreate) (0.2.0)\n",
            "Collecting gast==0.2.2\n",
            "  Downloading gast-0.2.2.tar.gz (10 kB)\n",
            "Requirement already satisfied: markdown>=2.6.8 in /usr/local/lib/python3.7/dist-packages (from tensorboard<2.1.0,>=2.0.0->tensorflow<2.1.0,>=2.0.0->turicreate) (3.4.1)\n",
            "Requirement already satisfied: google-auth-oauthlib<0.5,>=0.4.1 in /usr/local/lib/python3.7/dist-packages (from tensorboard<2.1.0,>=2.0.0->tensorflow<2.1.0,>=2.0.0->turicreate) (0.4.6)\n",
            "Requirement already satisfied: google-auth<2,>=1.6.3 in /usr/local/lib/python3.7/dist-packages (from tensorboard<2.1.0,>=2.0.0->tensorflow<2.1.0,>=2.0.0->turicreate) (1.35.0)\n",
            "Requirement already satisfied: werkzeug>=0.11.15 in /usr/local/lib/python3.7/dist-packages (from tensorboard<2.1.0,>=2.0.0->tensorflow<2.1.0,>=2.0.0->turicreate) (1.0.1)\n",
            "Requirement already satisfied: cachetools<5.0,>=2.0.0 in /usr/local/lib/python3.7/dist-packages (from google-auth<2,>=1.6.3->tensorboard<2.1.0,>=2.0.0->tensorflow<2.1.0,>=2.0.0->turicreate) (4.2.4)\n",
            "Requirement already satisfied: pyasn1-modules>=0.2.1 in /usr/local/lib/python3.7/dist-packages (from google-auth<2,>=1.6.3->tensorboard<2.1.0,>=2.0.0->tensorflow<2.1.0,>=2.0.0->turicreate) (0.2.8)\n",
            "Requirement already satisfied: rsa<5,>=3.1.4 in /usr/local/lib/python3.7/dist-packages (from google-auth<2,>=1.6.3->tensorboard<2.1.0,>=2.0.0->tensorflow<2.1.0,>=2.0.0->turicreate) (4.9)\n",
            "Requirement already satisfied: requests-oauthlib>=0.7.0 in /usr/local/lib/python3.7/dist-packages (from google-auth-oauthlib<0.5,>=0.4.1->tensorboard<2.1.0,>=2.0.0->tensorflow<2.1.0,>=2.0.0->turicreate) (1.3.1)\n",
            "Requirement already satisfied: importlib-metadata>=4.4 in /usr/local/lib/python3.7/dist-packages (from markdown>=2.6.8->tensorboard<2.1.0,>=2.0.0->tensorflow<2.1.0,>=2.0.0->turicreate) (4.12.0)\n",
            "Requirement already satisfied: zipp>=0.5 in /usr/local/lib/python3.7/dist-packages (from importlib-metadata>=4.4->markdown>=2.6.8->tensorboard<2.1.0,>=2.0.0->tensorflow<2.1.0,>=2.0.0->turicreate) (3.8.1)\n",
            "Requirement already satisfied: typing-extensions>=3.6.4 in /usr/local/lib/python3.7/dist-packages (from importlib-metadata>=4.4->markdown>=2.6.8->tensorboard<2.1.0,>=2.0.0->tensorflow<2.1.0,>=2.0.0->turicreate) (4.1.1)\n",
            "Requirement already satisfied: pyasn1<0.5.0,>=0.4.6 in /usr/local/lib/python3.7/dist-packages (from pyasn1-modules>=0.2.1->google-auth<2,>=1.6.3->tensorboard<2.1.0,>=2.0.0->tensorflow<2.1.0,>=2.0.0->turicreate) (0.4.8)\n",
            "Requirement already satisfied: oauthlib>=3.0.0 in /usr/local/lib/python3.7/dist-packages (from requests-oauthlib>=0.7.0->google-auth-oauthlib<0.5,>=0.4.1->tensorboard<2.1.0,>=2.0.0->tensorflow<2.1.0,>=2.0.0->turicreate) (3.2.0)\n",
            "Building wheels for collected packages: prettytable, resampy, gast\n",
            "  Building wheel for prettytable (setup.py) ... \u001b[?25l\u001b[?25hdone\n",
            "  Created wheel for prettytable: filename=prettytable-0.7.2-py3-none-any.whl size=13714 sha256=459e6a49b00e30f5cbfcea9adcbf884c24825bdc14585dcfac797e6e2f62c6a9\n",
            "  Stored in directory: /root/.cache/pip/wheels/b2/7f/f6/f180315b584f00445045ff1699b550fa895d09471337ce21c6\n",
            "  Building wheel for resampy (setup.py) ... \u001b[?25l\u001b[?25hdone\n",
            "  Created wheel for resampy: filename=resampy-0.2.1-py3-none-any.whl size=320859 sha256=481d131196cea0637c1b87fa868132c26ea404edb59472630e88e8d815710911\n",
            "  Stored in directory: /root/.cache/pip/wheels/71/74/53/d5ceb7c5ee7a168c7d106041863e71ac3273f4a4677743a284\n",
            "  Building wheel for gast (setup.py) ... \u001b[?25l\u001b[?25hdone\n",
            "  Created wheel for gast: filename=gast-0.2.2-py3-none-any.whl size=7554 sha256=ed27dd3f99ea3d1c47d49fe6ee53c95fe9359d49820642ce2dc7d21e24966a60\n",
            "  Stored in directory: /root/.cache/pip/wheels/21/7f/02/420f32a803f7d0967b48dd823da3f558c5166991bfd204eef3\n",
            "Successfully built prettytable resampy gast\n",
            "Installing collected packages: numpy, llvmlite, h5py, tensorflow-estimator, tensorboard, numba, keras-applications, gast, tensorflow, resampy, prettytable, coremltools, turicreate\n",
            "  Attempting uninstall: numpy\n",
            "    Found existing installation: numpy 1.21.6\n",
            "    Uninstalling numpy-1.21.6:\n",
            "      Successfully uninstalled numpy-1.21.6\n",
            "  Attempting uninstall: llvmlite\n",
            "    Found existing installation: llvmlite 0.39.1\n",
            "    Uninstalling llvmlite-0.39.1:\n",
            "      Successfully uninstalled llvmlite-0.39.1\n",
            "  Attempting uninstall: h5py\n",
            "    Found existing installation: h5py 3.1.0\n",
            "    Uninstalling h5py-3.1.0:\n",
            "      Successfully uninstalled h5py-3.1.0\n",
            "  Attempting uninstall: tensorflow-estimator\n",
            "    Found existing installation: tensorflow-estimator 2.8.0\n",
            "    Uninstalling tensorflow-estimator-2.8.0:\n",
            "      Successfully uninstalled tensorflow-estimator-2.8.0\n",
            "  Attempting uninstall: tensorboard\n",
            "    Found existing installation: tensorboard 2.8.0\n",
            "    Uninstalling tensorboard-2.8.0:\n",
            "      Successfully uninstalled tensorboard-2.8.0\n",
            "  Attempting uninstall: numba\n",
            "    Found existing installation: numba 0.56.2\n",
            "    Uninstalling numba-0.56.2:\n",
            "      Successfully uninstalled numba-0.56.2\n",
            "  Attempting uninstall: gast\n",
            "    Found existing installation: gast 0.5.3\n",
            "    Uninstalling gast-0.5.3:\n",
            "      Successfully uninstalled gast-0.5.3\n",
            "  Attempting uninstall: tensorflow\n",
            "    Found existing installation: tensorflow 2.8.2+zzzcolab20220719082949\n",
            "    Uninstalling tensorflow-2.8.2+zzzcolab20220719082949:\n",
            "      Successfully uninstalled tensorflow-2.8.2+zzzcolab20220719082949\n",
            "  Attempting uninstall: resampy\n",
            "    Found existing installation: resampy 0.4.0\n",
            "    Uninstalling resampy-0.4.0:\n",
            "      Successfully uninstalled resampy-0.4.0\n",
            "  Attempting uninstall: prettytable\n",
            "    Found existing installation: prettytable 3.4.1\n",
            "    Uninstalling prettytable-3.4.1:\n",
            "      Successfully uninstalled prettytable-3.4.1\n",
            "\u001b[31mERROR: pip's dependency resolver does not currently take into account all the packages that are installed. This behaviour is the source of the following dependency conflicts.\n",
            "xarray-einstats 0.2.2 requires numpy>=1.21, but you have numpy 1.18.5 which is incompatible.\n",
            "tensorflow-probability 0.16.0 requires gast>=0.3.2, but you have gast 0.2.2 which is incompatible.\n",
            "tables 3.7.0 requires numpy>=1.19.0, but you have numpy 1.18.5 which is incompatible.\n",
            "plotnine 0.8.0 requires numpy>=1.19.0, but you have numpy 1.18.5 which is incompatible.\n",
            "librosa 0.8.1 requires resampy>=0.2.2, but you have resampy 0.2.1 which is incompatible.\n",
            "jaxlib 0.3.15+cuda11.cudnn805 requires numpy>=1.19, but you have numpy 1.18.5 which is incompatible.\n",
            "jax 0.3.17 requires numpy>=1.20, but you have numpy 1.18.5 which is incompatible.\n",
            "cmdstanpy 1.0.7 requires numpy>=1.21, but you have numpy 1.18.5 which is incompatible.\u001b[0m\n",
            "Successfully installed coremltools-3.3 gast-0.2.2 h5py-2.10.0 keras-applications-1.0.8 llvmlite-0.33.0 numba-0.50.1 numpy-1.18.5 prettytable-0.7.2 resampy-0.2.1 tensorboard-2.0.2 tensorflow-2.0.4 tensorflow-estimator-2.0.1 turicreate-6.4.1\n"
          ]
        },
        {
          "output_type": "display_data",
          "data": {
            "application/vnd.colab-display-data+json": {
              "pip_warning": {
                "packages": [
                  "numpy"
                ]
              }
            }
          },
          "metadata": {}
        }
      ],
      "source": [
        "!pip install turicreate"
      ]
    },
    {
      "cell_type": "code",
      "execution_count": null,
      "metadata": {
        "id": "GoI1coJLWYII"
      },
      "outputs": [],
      "source": [
        "import pandas as pd\n",
        "import numpy as np\n",
        "import time\n",
        "import turicreate as tc\n",
        "from datetime import date, datetime\n",
        "from sklearn.model_selection import train_test_split"
      ]
    },
    {
      "cell_type": "code",
      "execution_count": null,
      "metadata": {
        "id": "7MeSy-eLYij6"
      },
      "outputs": [],
      "source": [
        "df = pd.read_csv('drive/MyDrive/Thesis/data/transactions_train.csv')"
      ]
    },
    {
      "cell_type": "code",
      "execution_count": null,
      "metadata": {
        "colab": {
          "base_uri": "https://localhost:8080/",
          "height": 661
        },
        "id": "COFsqNbeed-C",
        "outputId": "c209c567-2989-4e93-a238-919c4bd0e253"
      },
      "outputs": [
        {
          "output_type": "execute_result",
          "data": {
            "text/plain": [
              "               t_dat                                        customer_id  \\\n",
              "0         2018-09-20  000058a12d5b43e67d225668fa1f8d618c13dc232df0ca...   \n",
              "1         2018-09-20  000058a12d5b43e67d225668fa1f8d618c13dc232df0ca...   \n",
              "2         2018-09-20  00007d2de826758b65a93dd24ce629ed66842531df6699...   \n",
              "3         2018-09-20  00007d2de826758b65a93dd24ce629ed66842531df6699...   \n",
              "4         2018-09-20  00007d2de826758b65a93dd24ce629ed66842531df6699...   \n",
              "...              ...                                                ...   \n",
              "31788319  2020-09-22  fff2282977442e327b45d8c89afde25617d00124d0f999...   \n",
              "31788320  2020-09-22  fff2282977442e327b45d8c89afde25617d00124d0f999...   \n",
              "31788321  2020-09-22  fff380805474b287b05cb2a7507b9a013482f7dd0bce0e...   \n",
              "31788322  2020-09-22  fff4d3a8b1f3b60af93e78c30a7cb4cf75edaf2590d3e5...   \n",
              "31788323  2020-09-22  fffef3b6b73545df065b521e19f64bf6fe93bfd450ab20...   \n",
              "\n",
              "          article_id     price  sales_channel_id  \n",
              "0          663713001  0.050831                 2  \n",
              "1          541518023  0.030492                 2  \n",
              "2          505221004  0.015237                 2  \n",
              "3          685687003  0.016932                 2  \n",
              "4          685687004  0.016932                 2  \n",
              "...              ...       ...               ...  \n",
              "31788319   929511001  0.059305                 2  \n",
              "31788320   891322004  0.042356                 2  \n",
              "31788321   918325001  0.043203                 1  \n",
              "31788322   833459002  0.006763                 1  \n",
              "31788323   898573003  0.033881                 2  \n",
              "\n",
              "[31788324 rows x 5 columns]"
            ],
            "text/html": [
              "\n",
              "  <div id=\"df-5c3535a9-2cb1-4a78-95bb-ea387754332f\">\n",
              "    <div class=\"colab-df-container\">\n",
              "      <div>\n",
              "<style scoped>\n",
              "    .dataframe tbody tr th:only-of-type {\n",
              "        vertical-align: middle;\n",
              "    }\n",
              "\n",
              "    .dataframe tbody tr th {\n",
              "        vertical-align: top;\n",
              "    }\n",
              "\n",
              "    .dataframe thead th {\n",
              "        text-align: right;\n",
              "    }\n",
              "</style>\n",
              "<table border=\"1\" class=\"dataframe\">\n",
              "  <thead>\n",
              "    <tr style=\"text-align: right;\">\n",
              "      <th></th>\n",
              "      <th>t_dat</th>\n",
              "      <th>customer_id</th>\n",
              "      <th>article_id</th>\n",
              "      <th>price</th>\n",
              "      <th>sales_channel_id</th>\n",
              "    </tr>\n",
              "  </thead>\n",
              "  <tbody>\n",
              "    <tr>\n",
              "      <th>0</th>\n",
              "      <td>2018-09-20</td>\n",
              "      <td>000058a12d5b43e67d225668fa1f8d618c13dc232df0ca...</td>\n",
              "      <td>663713001</td>\n",
              "      <td>0.050831</td>\n",
              "      <td>2</td>\n",
              "    </tr>\n",
              "    <tr>\n",
              "      <th>1</th>\n",
              "      <td>2018-09-20</td>\n",
              "      <td>000058a12d5b43e67d225668fa1f8d618c13dc232df0ca...</td>\n",
              "      <td>541518023</td>\n",
              "      <td>0.030492</td>\n",
              "      <td>2</td>\n",
              "    </tr>\n",
              "    <tr>\n",
              "      <th>2</th>\n",
              "      <td>2018-09-20</td>\n",
              "      <td>00007d2de826758b65a93dd24ce629ed66842531df6699...</td>\n",
              "      <td>505221004</td>\n",
              "      <td>0.015237</td>\n",
              "      <td>2</td>\n",
              "    </tr>\n",
              "    <tr>\n",
              "      <th>3</th>\n",
              "      <td>2018-09-20</td>\n",
              "      <td>00007d2de826758b65a93dd24ce629ed66842531df6699...</td>\n",
              "      <td>685687003</td>\n",
              "      <td>0.016932</td>\n",
              "      <td>2</td>\n",
              "    </tr>\n",
              "    <tr>\n",
              "      <th>4</th>\n",
              "      <td>2018-09-20</td>\n",
              "      <td>00007d2de826758b65a93dd24ce629ed66842531df6699...</td>\n",
              "      <td>685687004</td>\n",
              "      <td>0.016932</td>\n",
              "      <td>2</td>\n",
              "    </tr>\n",
              "    <tr>\n",
              "      <th>...</th>\n",
              "      <td>...</td>\n",
              "      <td>...</td>\n",
              "      <td>...</td>\n",
              "      <td>...</td>\n",
              "      <td>...</td>\n",
              "    </tr>\n",
              "    <tr>\n",
              "      <th>31788319</th>\n",
              "      <td>2020-09-22</td>\n",
              "      <td>fff2282977442e327b45d8c89afde25617d00124d0f999...</td>\n",
              "      <td>929511001</td>\n",
              "      <td>0.059305</td>\n",
              "      <td>2</td>\n",
              "    </tr>\n",
              "    <tr>\n",
              "      <th>31788320</th>\n",
              "      <td>2020-09-22</td>\n",
              "      <td>fff2282977442e327b45d8c89afde25617d00124d0f999...</td>\n",
              "      <td>891322004</td>\n",
              "      <td>0.042356</td>\n",
              "      <td>2</td>\n",
              "    </tr>\n",
              "    <tr>\n",
              "      <th>31788321</th>\n",
              "      <td>2020-09-22</td>\n",
              "      <td>fff380805474b287b05cb2a7507b9a013482f7dd0bce0e...</td>\n",
              "      <td>918325001</td>\n",
              "      <td>0.043203</td>\n",
              "      <td>1</td>\n",
              "    </tr>\n",
              "    <tr>\n",
              "      <th>31788322</th>\n",
              "      <td>2020-09-22</td>\n",
              "      <td>fff4d3a8b1f3b60af93e78c30a7cb4cf75edaf2590d3e5...</td>\n",
              "      <td>833459002</td>\n",
              "      <td>0.006763</td>\n",
              "      <td>1</td>\n",
              "    </tr>\n",
              "    <tr>\n",
              "      <th>31788323</th>\n",
              "      <td>2020-09-22</td>\n",
              "      <td>fffef3b6b73545df065b521e19f64bf6fe93bfd450ab20...</td>\n",
              "      <td>898573003</td>\n",
              "      <td>0.033881</td>\n",
              "      <td>2</td>\n",
              "    </tr>\n",
              "  </tbody>\n",
              "</table>\n",
              "<p>31788324 rows × 5 columns</p>\n",
              "</div>\n",
              "      <button class=\"colab-df-convert\" onclick=\"convertToInteractive('df-5c3535a9-2cb1-4a78-95bb-ea387754332f')\"\n",
              "              title=\"Convert this dataframe to an interactive table.\"\n",
              "              style=\"display:none;\">\n",
              "        \n",
              "  <svg xmlns=\"http://www.w3.org/2000/svg\" height=\"24px\"viewBox=\"0 0 24 24\"\n",
              "       width=\"24px\">\n",
              "    <path d=\"M0 0h24v24H0V0z\" fill=\"none\"/>\n",
              "    <path d=\"M18.56 5.44l.94 2.06.94-2.06 2.06-.94-2.06-.94-.94-2.06-.94 2.06-2.06.94zm-11 1L8.5 8.5l.94-2.06 2.06-.94-2.06-.94L8.5 2.5l-.94 2.06-2.06.94zm10 10l.94 2.06.94-2.06 2.06-.94-2.06-.94-.94-2.06-.94 2.06-2.06.94z\"/><path d=\"M17.41 7.96l-1.37-1.37c-.4-.4-.92-.59-1.43-.59-.52 0-1.04.2-1.43.59L10.3 9.45l-7.72 7.72c-.78.78-.78 2.05 0 2.83L4 21.41c.39.39.9.59 1.41.59.51 0 1.02-.2 1.41-.59l7.78-7.78 2.81-2.81c.8-.78.8-2.07 0-2.86zM5.41 20L4 18.59l7.72-7.72 1.47 1.35L5.41 20z\"/>\n",
              "  </svg>\n",
              "      </button>\n",
              "      \n",
              "  <style>\n",
              "    .colab-df-container {\n",
              "      display:flex;\n",
              "      flex-wrap:wrap;\n",
              "      gap: 12px;\n",
              "    }\n",
              "\n",
              "    .colab-df-convert {\n",
              "      background-color: #E8F0FE;\n",
              "      border: none;\n",
              "      border-radius: 50%;\n",
              "      cursor: pointer;\n",
              "      display: none;\n",
              "      fill: #1967D2;\n",
              "      height: 32px;\n",
              "      padding: 0 0 0 0;\n",
              "      width: 32px;\n",
              "    }\n",
              "\n",
              "    .colab-df-convert:hover {\n",
              "      background-color: #E2EBFA;\n",
              "      box-shadow: 0px 1px 2px rgba(60, 64, 67, 0.3), 0px 1px 3px 1px rgba(60, 64, 67, 0.15);\n",
              "      fill: #174EA6;\n",
              "    }\n",
              "\n",
              "    [theme=dark] .colab-df-convert {\n",
              "      background-color: #3B4455;\n",
              "      fill: #D2E3FC;\n",
              "    }\n",
              "\n",
              "    [theme=dark] .colab-df-convert:hover {\n",
              "      background-color: #434B5C;\n",
              "      box-shadow: 0px 1px 3px 1px rgba(0, 0, 0, 0.15);\n",
              "      filter: drop-shadow(0px 1px 2px rgba(0, 0, 0, 0.3));\n",
              "      fill: #FFFFFF;\n",
              "    }\n",
              "  </style>\n",
              "\n",
              "      <script>\n",
              "        const buttonEl =\n",
              "          document.querySelector('#df-5c3535a9-2cb1-4a78-95bb-ea387754332f button.colab-df-convert');\n",
              "        buttonEl.style.display =\n",
              "          google.colab.kernel.accessAllowed ? 'block' : 'none';\n",
              "\n",
              "        async function convertToInteractive(key) {\n",
              "          const element = document.querySelector('#df-5c3535a9-2cb1-4a78-95bb-ea387754332f');\n",
              "          const dataTable =\n",
              "            await google.colab.kernel.invokeFunction('convertToInteractive',\n",
              "                                                     [key], {});\n",
              "          if (!dataTable) return;\n",
              "\n",
              "          const docLinkHtml = 'Like what you see? Visit the ' +\n",
              "            '<a target=\"_blank\" href=https://colab.research.google.com/notebooks/data_table.ipynb>data table notebook</a>'\n",
              "            + ' to learn more about interactive tables.';\n",
              "          element.innerHTML = '';\n",
              "          dataTable['output_type'] = 'display_data';\n",
              "          await google.colab.output.renderOutput(dataTable, element);\n",
              "          const docLink = document.createElement('div');\n",
              "          docLink.innerHTML = docLinkHtml;\n",
              "          element.appendChild(docLink);\n",
              "        }\n",
              "      </script>\n",
              "    </div>\n",
              "  </div>\n",
              "  "
            ]
          },
          "metadata": {},
          "execution_count": 3
        }
      ],
      "source": [
        "df"
      ]
    },
    {
      "cell_type": "code",
      "execution_count": null,
      "metadata": {
        "colab": {
          "base_uri": "https://localhost:8080/"
        },
        "id": "UH_CEHdZfMHz",
        "outputId": "b471605d-088a-4c2f-a1d0-797ef44a68fd"
      },
      "outputs": [
        {
          "output_type": "execute_result",
          "data": {
            "text/plain": [
              "t_dat               datetime64[ns]\n",
              "customer_id                 object\n",
              "article_id                   int64\n",
              "price                      float64\n",
              "sales_channel_id             int64\n",
              "dtype: object"
            ]
          },
          "metadata": {},
          "execution_count": 4
        }
      ],
      "source": [
        "df.t_dat = pd.to_datetime(df.t_dat)\n",
        "df.dtypes"
      ]
    },
    {
      "cell_type": "code",
      "execution_count": null,
      "metadata": {
        "id": "G-w-fTMYcyZ_"
      },
      "outputs": [],
      "source": [
        "df_tmp = df[(df['t_dat']>=datetime(2020,8,16))]"
      ]
    },
    {
      "cell_type": "code",
      "execution_count": null,
      "metadata": {
        "colab": {
          "base_uri": "https://localhost:8080/",
          "height": 661
        },
        "id": "Au_ResxijWI_",
        "outputId": "a61d5c14-3ecb-488d-b7d7-98444bcd8055"
      },
      "outputs": [
        {
          "output_type": "execute_result",
          "data": {
            "text/plain": [
              "              t_dat                                        customer_id  \\\n",
              "30398232 2020-08-16  000fb6e772c5d0023892065e659963da90b1866035558e...   \n",
              "30398233 2020-08-16  000fb6e772c5d0023892065e659963da90b1866035558e...   \n",
              "30398234 2020-08-16  000fb6e772c5d0023892065e659963da90b1866035558e...   \n",
              "30398235 2020-08-16  000fb6e772c5d0023892065e659963da90b1866035558e...   \n",
              "30398236 2020-08-16  001ddeb8fb74fec5693116da83b488e05ee9a9e179f3fd...   \n",
              "...             ...                                                ...   \n",
              "31788319 2020-09-22  fff2282977442e327b45d8c89afde25617d00124d0f999...   \n",
              "31788320 2020-09-22  fff2282977442e327b45d8c89afde25617d00124d0f999...   \n",
              "31788321 2020-09-22  fff380805474b287b05cb2a7507b9a013482f7dd0bce0e...   \n",
              "31788322 2020-09-22  fff4d3a8b1f3b60af93e78c30a7cb4cf75edaf2590d3e5...   \n",
              "31788323 2020-09-22  fffef3b6b73545df065b521e19f64bf6fe93bfd450ab20...   \n",
              "\n",
              "          article_id     price  sales_channel_id  \n",
              "30398232   902999001  0.059305                 2  \n",
              "30398233   760961003  0.101678                 2  \n",
              "30398234   932243003  0.025407                 2  \n",
              "30398235   915529001  0.033881                 2  \n",
              "30398236   706016053  0.031949                 2  \n",
              "...              ...       ...               ...  \n",
              "31788319   929511001  0.059305                 2  \n",
              "31788320   891322004  0.042356                 2  \n",
              "31788321   918325001  0.043203                 1  \n",
              "31788322   833459002  0.006763                 1  \n",
              "31788323   898573003  0.033881                 2  \n",
              "\n",
              "[1390092 rows x 5 columns]"
            ],
            "text/html": [
              "\n",
              "  <div id=\"df-25c44307-ed83-48ad-8477-f14b21475497\">\n",
              "    <div class=\"colab-df-container\">\n",
              "      <div>\n",
              "<style scoped>\n",
              "    .dataframe tbody tr th:only-of-type {\n",
              "        vertical-align: middle;\n",
              "    }\n",
              "\n",
              "    .dataframe tbody tr th {\n",
              "        vertical-align: top;\n",
              "    }\n",
              "\n",
              "    .dataframe thead th {\n",
              "        text-align: right;\n",
              "    }\n",
              "</style>\n",
              "<table border=\"1\" class=\"dataframe\">\n",
              "  <thead>\n",
              "    <tr style=\"text-align: right;\">\n",
              "      <th></th>\n",
              "      <th>t_dat</th>\n",
              "      <th>customer_id</th>\n",
              "      <th>article_id</th>\n",
              "      <th>price</th>\n",
              "      <th>sales_channel_id</th>\n",
              "    </tr>\n",
              "  </thead>\n",
              "  <tbody>\n",
              "    <tr>\n",
              "      <th>30398232</th>\n",
              "      <td>2020-08-16</td>\n",
              "      <td>000fb6e772c5d0023892065e659963da90b1866035558e...</td>\n",
              "      <td>902999001</td>\n",
              "      <td>0.059305</td>\n",
              "      <td>2</td>\n",
              "    </tr>\n",
              "    <tr>\n",
              "      <th>30398233</th>\n",
              "      <td>2020-08-16</td>\n",
              "      <td>000fb6e772c5d0023892065e659963da90b1866035558e...</td>\n",
              "      <td>760961003</td>\n",
              "      <td>0.101678</td>\n",
              "      <td>2</td>\n",
              "    </tr>\n",
              "    <tr>\n",
              "      <th>30398234</th>\n",
              "      <td>2020-08-16</td>\n",
              "      <td>000fb6e772c5d0023892065e659963da90b1866035558e...</td>\n",
              "      <td>932243003</td>\n",
              "      <td>0.025407</td>\n",
              "      <td>2</td>\n",
              "    </tr>\n",
              "    <tr>\n",
              "      <th>30398235</th>\n",
              "      <td>2020-08-16</td>\n",
              "      <td>000fb6e772c5d0023892065e659963da90b1866035558e...</td>\n",
              "      <td>915529001</td>\n",
              "      <td>0.033881</td>\n",
              "      <td>2</td>\n",
              "    </tr>\n",
              "    <tr>\n",
              "      <th>30398236</th>\n",
              "      <td>2020-08-16</td>\n",
              "      <td>001ddeb8fb74fec5693116da83b488e05ee9a9e179f3fd...</td>\n",
              "      <td>706016053</td>\n",
              "      <td>0.031949</td>\n",
              "      <td>2</td>\n",
              "    </tr>\n",
              "    <tr>\n",
              "      <th>...</th>\n",
              "      <td>...</td>\n",
              "      <td>...</td>\n",
              "      <td>...</td>\n",
              "      <td>...</td>\n",
              "      <td>...</td>\n",
              "    </tr>\n",
              "    <tr>\n",
              "      <th>31788319</th>\n",
              "      <td>2020-09-22</td>\n",
              "      <td>fff2282977442e327b45d8c89afde25617d00124d0f999...</td>\n",
              "      <td>929511001</td>\n",
              "      <td>0.059305</td>\n",
              "      <td>2</td>\n",
              "    </tr>\n",
              "    <tr>\n",
              "      <th>31788320</th>\n",
              "      <td>2020-09-22</td>\n",
              "      <td>fff2282977442e327b45d8c89afde25617d00124d0f999...</td>\n",
              "      <td>891322004</td>\n",
              "      <td>0.042356</td>\n",
              "      <td>2</td>\n",
              "    </tr>\n",
              "    <tr>\n",
              "      <th>31788321</th>\n",
              "      <td>2020-09-22</td>\n",
              "      <td>fff380805474b287b05cb2a7507b9a013482f7dd0bce0e...</td>\n",
              "      <td>918325001</td>\n",
              "      <td>0.043203</td>\n",
              "      <td>1</td>\n",
              "    </tr>\n",
              "    <tr>\n",
              "      <th>31788322</th>\n",
              "      <td>2020-09-22</td>\n",
              "      <td>fff4d3a8b1f3b60af93e78c30a7cb4cf75edaf2590d3e5...</td>\n",
              "      <td>833459002</td>\n",
              "      <td>0.006763</td>\n",
              "      <td>1</td>\n",
              "    </tr>\n",
              "    <tr>\n",
              "      <th>31788323</th>\n",
              "      <td>2020-09-22</td>\n",
              "      <td>fffef3b6b73545df065b521e19f64bf6fe93bfd450ab20...</td>\n",
              "      <td>898573003</td>\n",
              "      <td>0.033881</td>\n",
              "      <td>2</td>\n",
              "    </tr>\n",
              "  </tbody>\n",
              "</table>\n",
              "<p>1390092 rows × 5 columns</p>\n",
              "</div>\n",
              "      <button class=\"colab-df-convert\" onclick=\"convertToInteractive('df-25c44307-ed83-48ad-8477-f14b21475497')\"\n",
              "              title=\"Convert this dataframe to an interactive table.\"\n",
              "              style=\"display:none;\">\n",
              "        \n",
              "  <svg xmlns=\"http://www.w3.org/2000/svg\" height=\"24px\"viewBox=\"0 0 24 24\"\n",
              "       width=\"24px\">\n",
              "    <path d=\"M0 0h24v24H0V0z\" fill=\"none\"/>\n",
              "    <path d=\"M18.56 5.44l.94 2.06.94-2.06 2.06-.94-2.06-.94-.94-2.06-.94 2.06-2.06.94zm-11 1L8.5 8.5l.94-2.06 2.06-.94-2.06-.94L8.5 2.5l-.94 2.06-2.06.94zm10 10l.94 2.06.94-2.06 2.06-.94-2.06-.94-.94-2.06-.94 2.06-2.06.94z\"/><path d=\"M17.41 7.96l-1.37-1.37c-.4-.4-.92-.59-1.43-.59-.52 0-1.04.2-1.43.59L10.3 9.45l-7.72 7.72c-.78.78-.78 2.05 0 2.83L4 21.41c.39.39.9.59 1.41.59.51 0 1.02-.2 1.41-.59l7.78-7.78 2.81-2.81c.8-.78.8-2.07 0-2.86zM5.41 20L4 18.59l7.72-7.72 1.47 1.35L5.41 20z\"/>\n",
              "  </svg>\n",
              "      </button>\n",
              "      \n",
              "  <style>\n",
              "    .colab-df-container {\n",
              "      display:flex;\n",
              "      flex-wrap:wrap;\n",
              "      gap: 12px;\n",
              "    }\n",
              "\n",
              "    .colab-df-convert {\n",
              "      background-color: #E8F0FE;\n",
              "      border: none;\n",
              "      border-radius: 50%;\n",
              "      cursor: pointer;\n",
              "      display: none;\n",
              "      fill: #1967D2;\n",
              "      height: 32px;\n",
              "      padding: 0 0 0 0;\n",
              "      width: 32px;\n",
              "    }\n",
              "\n",
              "    .colab-df-convert:hover {\n",
              "      background-color: #E2EBFA;\n",
              "      box-shadow: 0px 1px 2px rgba(60, 64, 67, 0.3), 0px 1px 3px 1px rgba(60, 64, 67, 0.15);\n",
              "      fill: #174EA6;\n",
              "    }\n",
              "\n",
              "    [theme=dark] .colab-df-convert {\n",
              "      background-color: #3B4455;\n",
              "      fill: #D2E3FC;\n",
              "    }\n",
              "\n",
              "    [theme=dark] .colab-df-convert:hover {\n",
              "      background-color: #434B5C;\n",
              "      box-shadow: 0px 1px 3px 1px rgba(0, 0, 0, 0.15);\n",
              "      filter: drop-shadow(0px 1px 2px rgba(0, 0, 0, 0.3));\n",
              "      fill: #FFFFFF;\n",
              "    }\n",
              "  </style>\n",
              "\n",
              "      <script>\n",
              "        const buttonEl =\n",
              "          document.querySelector('#df-25c44307-ed83-48ad-8477-f14b21475497 button.colab-df-convert');\n",
              "        buttonEl.style.display =\n",
              "          google.colab.kernel.accessAllowed ? 'block' : 'none';\n",
              "\n",
              "        async function convertToInteractive(key) {\n",
              "          const element = document.querySelector('#df-25c44307-ed83-48ad-8477-f14b21475497');\n",
              "          const dataTable =\n",
              "            await google.colab.kernel.invokeFunction('convertToInteractive',\n",
              "                                                     [key], {});\n",
              "          if (!dataTable) return;\n",
              "\n",
              "          const docLinkHtml = 'Like what you see? Visit the ' +\n",
              "            '<a target=\"_blank\" href=https://colab.research.google.com/notebooks/data_table.ipynb>data table notebook</a>'\n",
              "            + ' to learn more about interactive tables.';\n",
              "          element.innerHTML = '';\n",
              "          dataTable['output_type'] = 'display_data';\n",
              "          await google.colab.output.renderOutput(dataTable, element);\n",
              "          const docLink = document.createElement('div');\n",
              "          docLink.innerHTML = docLinkHtml;\n",
              "          element.appendChild(docLink);\n",
              "        }\n",
              "      </script>\n",
              "    </div>\n",
              "  </div>\n",
              "  "
            ]
          },
          "metadata": {},
          "execution_count": 6
        }
      ],
      "source": [
        "df_tmp"
      ]
    },
    {
      "cell_type": "code",
      "execution_count": null,
      "metadata": {
        "id": "Ksld0-TRfYaT"
      },
      "outputs": [],
      "source": [
        "users_ids = df_tmp['customer_id'].unique()\n",
        "users_dic = {u:j for u,j in zip(users_ids,range(len(users_ids)))}"
      ]
    },
    {
      "cell_type": "code",
      "execution_count": null,
      "metadata": {
        "id": "9_BF_GETmgwz"
      },
      "outputs": [],
      "source": [
        "items_ids = df_tmp['article_id'].unique()\n",
        "items_dic = {i:j for i,j in zip(items_ids ,range(len(items_ids)))}"
      ]
    },
    {
      "cell_type": "code",
      "execution_count": null,
      "metadata": {
        "colab": {
          "base_uri": "https://localhost:8080/",
          "height": 658
        },
        "id": "WLurdzW-nD0y",
        "outputId": "4cdb5f51-97d0-4570-fba7-e27a2049f3cd"
      },
      "outputs": [
        {
          "output_type": "stream",
          "name": "stderr",
          "text": [
            "/usr/local/lib/python3.7/dist-packages/ipykernel_launcher.py:1: SettingWithCopyWarning: \n",
            "A value is trying to be set on a copy of a slice from a DataFrame.\n",
            "Try using .loc[row_indexer,col_indexer] = value instead\n",
            "\n",
            "See the caveats in the documentation: https://pandas.pydata.org/pandas-docs/stable/user_guide/indexing.html#returning-a-view-versus-a-copy\n",
            "  \"\"\"Entry point for launching an IPython kernel.\n",
            "/usr/local/lib/python3.7/dist-packages/ipykernel_launcher.py:2: SettingWithCopyWarning: \n",
            "A value is trying to be set on a copy of a slice from a DataFrame.\n",
            "Try using .loc[row_indexer,col_indexer] = value instead\n",
            "\n",
            "See the caveats in the documentation: https://pandas.pydata.org/pandas-docs/stable/user_guide/indexing.html#returning-a-view-versus-a-copy\n",
            "  \n"
          ]
        },
        {
          "output_type": "execute_result",
          "data": {
            "text/plain": [
              "              t_dat  customer_id  article_id     price  sales_channel_id\n",
              "30398232 2020-08-16            0           0  0.059305                 2\n",
              "30398233 2020-08-16            0           1  0.101678                 2\n",
              "30398234 2020-08-16            0           2  0.025407                 2\n",
              "30398235 2020-08-16            0           3  0.033881                 2\n",
              "30398236 2020-08-16            1           4  0.031949                 2\n",
              "...             ...          ...         ...       ...               ...\n",
              "31788319 2020-09-22        37489       27389  0.059305                 2\n",
              "31788320 2020-09-22        37489        7524  0.042356                 2\n",
              "31788321 2020-09-22       156153       30304  0.043203                 1\n",
              "31788322 2020-09-22       227803        6017  0.006763                 1\n",
              "31788323 2020-09-22         6808       27851  0.033881                 2\n",
              "\n",
              "[1390092 rows x 5 columns]"
            ],
            "text/html": [
              "\n",
              "  <div id=\"df-73ceb358-d7b3-4793-9c57-d63643fc204a\">\n",
              "    <div class=\"colab-df-container\">\n",
              "      <div>\n",
              "<style scoped>\n",
              "    .dataframe tbody tr th:only-of-type {\n",
              "        vertical-align: middle;\n",
              "    }\n",
              "\n",
              "    .dataframe tbody tr th {\n",
              "        vertical-align: top;\n",
              "    }\n",
              "\n",
              "    .dataframe thead th {\n",
              "        text-align: right;\n",
              "    }\n",
              "</style>\n",
              "<table border=\"1\" class=\"dataframe\">\n",
              "  <thead>\n",
              "    <tr style=\"text-align: right;\">\n",
              "      <th></th>\n",
              "      <th>t_dat</th>\n",
              "      <th>customer_id</th>\n",
              "      <th>article_id</th>\n",
              "      <th>price</th>\n",
              "      <th>sales_channel_id</th>\n",
              "    </tr>\n",
              "  </thead>\n",
              "  <tbody>\n",
              "    <tr>\n",
              "      <th>30398232</th>\n",
              "      <td>2020-08-16</td>\n",
              "      <td>0</td>\n",
              "      <td>0</td>\n",
              "      <td>0.059305</td>\n",
              "      <td>2</td>\n",
              "    </tr>\n",
              "    <tr>\n",
              "      <th>30398233</th>\n",
              "      <td>2020-08-16</td>\n",
              "      <td>0</td>\n",
              "      <td>1</td>\n",
              "      <td>0.101678</td>\n",
              "      <td>2</td>\n",
              "    </tr>\n",
              "    <tr>\n",
              "      <th>30398234</th>\n",
              "      <td>2020-08-16</td>\n",
              "      <td>0</td>\n",
              "      <td>2</td>\n",
              "      <td>0.025407</td>\n",
              "      <td>2</td>\n",
              "    </tr>\n",
              "    <tr>\n",
              "      <th>30398235</th>\n",
              "      <td>2020-08-16</td>\n",
              "      <td>0</td>\n",
              "      <td>3</td>\n",
              "      <td>0.033881</td>\n",
              "      <td>2</td>\n",
              "    </tr>\n",
              "    <tr>\n",
              "      <th>30398236</th>\n",
              "      <td>2020-08-16</td>\n",
              "      <td>1</td>\n",
              "      <td>4</td>\n",
              "      <td>0.031949</td>\n",
              "      <td>2</td>\n",
              "    </tr>\n",
              "    <tr>\n",
              "      <th>...</th>\n",
              "      <td>...</td>\n",
              "      <td>...</td>\n",
              "      <td>...</td>\n",
              "      <td>...</td>\n",
              "      <td>...</td>\n",
              "    </tr>\n",
              "    <tr>\n",
              "      <th>31788319</th>\n",
              "      <td>2020-09-22</td>\n",
              "      <td>37489</td>\n",
              "      <td>27389</td>\n",
              "      <td>0.059305</td>\n",
              "      <td>2</td>\n",
              "    </tr>\n",
              "    <tr>\n",
              "      <th>31788320</th>\n",
              "      <td>2020-09-22</td>\n",
              "      <td>37489</td>\n",
              "      <td>7524</td>\n",
              "      <td>0.042356</td>\n",
              "      <td>2</td>\n",
              "    </tr>\n",
              "    <tr>\n",
              "      <th>31788321</th>\n",
              "      <td>2020-09-22</td>\n",
              "      <td>156153</td>\n",
              "      <td>30304</td>\n",
              "      <td>0.043203</td>\n",
              "      <td>1</td>\n",
              "    </tr>\n",
              "    <tr>\n",
              "      <th>31788322</th>\n",
              "      <td>2020-09-22</td>\n",
              "      <td>227803</td>\n",
              "      <td>6017</td>\n",
              "      <td>0.006763</td>\n",
              "      <td>1</td>\n",
              "    </tr>\n",
              "    <tr>\n",
              "      <th>31788323</th>\n",
              "      <td>2020-09-22</td>\n",
              "      <td>6808</td>\n",
              "      <td>27851</td>\n",
              "      <td>0.033881</td>\n",
              "      <td>2</td>\n",
              "    </tr>\n",
              "  </tbody>\n",
              "</table>\n",
              "<p>1390092 rows × 5 columns</p>\n",
              "</div>\n",
              "      <button class=\"colab-df-convert\" onclick=\"convertToInteractive('df-73ceb358-d7b3-4793-9c57-d63643fc204a')\"\n",
              "              title=\"Convert this dataframe to an interactive table.\"\n",
              "              style=\"display:none;\">\n",
              "        \n",
              "  <svg xmlns=\"http://www.w3.org/2000/svg\" height=\"24px\"viewBox=\"0 0 24 24\"\n",
              "       width=\"24px\">\n",
              "    <path d=\"M0 0h24v24H0V0z\" fill=\"none\"/>\n",
              "    <path d=\"M18.56 5.44l.94 2.06.94-2.06 2.06-.94-2.06-.94-.94-2.06-.94 2.06-2.06.94zm-11 1L8.5 8.5l.94-2.06 2.06-.94-2.06-.94L8.5 2.5l-.94 2.06-2.06.94zm10 10l.94 2.06.94-2.06 2.06-.94-2.06-.94-.94-2.06-.94 2.06-2.06.94z\"/><path d=\"M17.41 7.96l-1.37-1.37c-.4-.4-.92-.59-1.43-.59-.52 0-1.04.2-1.43.59L10.3 9.45l-7.72 7.72c-.78.78-.78 2.05 0 2.83L4 21.41c.39.39.9.59 1.41.59.51 0 1.02-.2 1.41-.59l7.78-7.78 2.81-2.81c.8-.78.8-2.07 0-2.86zM5.41 20L4 18.59l7.72-7.72 1.47 1.35L5.41 20z\"/>\n",
              "  </svg>\n",
              "      </button>\n",
              "      \n",
              "  <style>\n",
              "    .colab-df-container {\n",
              "      display:flex;\n",
              "      flex-wrap:wrap;\n",
              "      gap: 12px;\n",
              "    }\n",
              "\n",
              "    .colab-df-convert {\n",
              "      background-color: #E8F0FE;\n",
              "      border: none;\n",
              "      border-radius: 50%;\n",
              "      cursor: pointer;\n",
              "      display: none;\n",
              "      fill: #1967D2;\n",
              "      height: 32px;\n",
              "      padding: 0 0 0 0;\n",
              "      width: 32px;\n",
              "    }\n",
              "\n",
              "    .colab-df-convert:hover {\n",
              "      background-color: #E2EBFA;\n",
              "      box-shadow: 0px 1px 2px rgba(60, 64, 67, 0.3), 0px 1px 3px 1px rgba(60, 64, 67, 0.15);\n",
              "      fill: #174EA6;\n",
              "    }\n",
              "\n",
              "    [theme=dark] .colab-df-convert {\n",
              "      background-color: #3B4455;\n",
              "      fill: #D2E3FC;\n",
              "    }\n",
              "\n",
              "    [theme=dark] .colab-df-convert:hover {\n",
              "      background-color: #434B5C;\n",
              "      box-shadow: 0px 1px 3px 1px rgba(0, 0, 0, 0.15);\n",
              "      filter: drop-shadow(0px 1px 2px rgba(0, 0, 0, 0.3));\n",
              "      fill: #FFFFFF;\n",
              "    }\n",
              "  </style>\n",
              "\n",
              "      <script>\n",
              "        const buttonEl =\n",
              "          document.querySelector('#df-73ceb358-d7b3-4793-9c57-d63643fc204a button.colab-df-convert');\n",
              "        buttonEl.style.display =\n",
              "          google.colab.kernel.accessAllowed ? 'block' : 'none';\n",
              "\n",
              "        async function convertToInteractive(key) {\n",
              "          const element = document.querySelector('#df-73ceb358-d7b3-4793-9c57-d63643fc204a');\n",
              "          const dataTable =\n",
              "            await google.colab.kernel.invokeFunction('convertToInteractive',\n",
              "                                                     [key], {});\n",
              "          if (!dataTable) return;\n",
              "\n",
              "          const docLinkHtml = 'Like what you see? Visit the ' +\n",
              "            '<a target=\"_blank\" href=https://colab.research.google.com/notebooks/data_table.ipynb>data table notebook</a>'\n",
              "            + ' to learn more about interactive tables.';\n",
              "          element.innerHTML = '';\n",
              "          dataTable['output_type'] = 'display_data';\n",
              "          await google.colab.output.renderOutput(dataTable, element);\n",
              "          const docLink = document.createElement('div');\n",
              "          docLink.innerHTML = docLinkHtml;\n",
              "          element.appendChild(docLink);\n",
              "        }\n",
              "      </script>\n",
              "    </div>\n",
              "  </div>\n",
              "  "
            ]
          },
          "metadata": {},
          "execution_count": 9
        }
      ],
      "source": [
        "df_tmp['customer_id'] = df_tmp['customer_id'].map(users_dic)\n",
        "df_tmp['article_id'] = df_tmp['article_id'].map(items_dic)\n",
        "df_tmp"
      ]
    },
    {
      "cell_type": "code",
      "execution_count": null,
      "metadata": {
        "colab": {
          "base_uri": "https://localhost:8080/"
        },
        "id": "vztEM1WKkXmi",
        "outputId": "b882dd53-d39d-4b5e-9ce2-cd5171ab13d5"
      },
      "outputs": [
        {
          "output_type": "execute_result",
          "data": {
            "text/plain": [
              "286083"
            ]
          },
          "metadata": {},
          "execution_count": 10
        }
      ],
      "source": [
        "len(df_tmp['customer_id'].unique())"
      ]
    },
    {
      "cell_type": "code",
      "execution_count": null,
      "metadata": {
        "id": "42USOttSfcrE"
      },
      "outputs": [],
      "source": [
        "df_train = df_tmp[df_tmp['t_dat']<=datetime(2020,9,15)]\n",
        "df_val = df_tmp[df_tmp['t_dat']>=datetime(2020,9,16)]"
      ]
    },
    {
      "cell_type": "code",
      "execution_count": null,
      "metadata": {
        "colab": {
          "base_uri": "https://localhost:8080/"
        },
        "id": "HqHYI6ezjZpo",
        "outputId": "d97f50bb-ef31-45fd-be54-afe50bf00742"
      },
      "outputs": [
        {
          "output_type": "execute_result",
          "data": {
            "text/plain": [
              "(1149781, 5)"
            ]
          },
          "metadata": {},
          "execution_count": 12
        }
      ],
      "source": [
        "df_train.shape"
      ]
    },
    {
      "cell_type": "code",
      "execution_count": null,
      "metadata": {
        "colab": {
          "base_uri": "https://localhost:8080/"
        },
        "id": "_6rhF5-vjeZH",
        "outputId": "9ee7d712-63ae-4b19-8764-fb08d6db9b4e"
      },
      "outputs": [
        {
          "output_type": "execute_result",
          "data": {
            "text/plain": [
              "(240311, 5)"
            ]
          },
          "metadata": {},
          "execution_count": 13
        }
      ],
      "source": [
        "df_val.shape"
      ]
    },
    {
      "cell_type": "code",
      "execution_count": null,
      "metadata": {
        "colab": {
          "base_uri": "https://localhost:8080/"
        },
        "id": "lVAJZsNanolI",
        "outputId": "1bdf438c-375e-49fc-ca9e-daab3a82d1a5"
      },
      "outputs": [
        {
          "output_type": "stream",
          "name": "stdout",
          "text": [
            "249511\n",
            "68984\n"
          ]
        }
      ],
      "source": [
        "print(len(df_train['customer_id'].unique()))\n",
        "print(len(df_val['customer_id'].unique()))"
      ]
    },
    {
      "cell_type": "code",
      "execution_count": null,
      "metadata": {
        "id": "TTl8_FyxAJ2R"
      },
      "outputs": [],
      "source": [
        "#df=df.drop(axis=1,columns=['t_dat','price','sales_channel_id'])\n",
        "#df"
      ]
    },
    {
      "cell_type": "code",
      "execution_count": null,
      "metadata": {
        "colab": {
          "base_uri": "https://localhost:8080/",
          "height": 284
        },
        "id": "CyroU-2BKKJ9",
        "outputId": "eff0e843-31bc-4a44-fb6a-8d76be6a4163"
      },
      "outputs": [
        {
          "output_type": "execute_result",
          "data": {
            "text/plain": [
              "Columns:\n",
              "\tcustomer_id\tint\n",
              "\tarticle_id\tint\n",
              "\n",
              "Rows: 1149781\n",
              "\n",
              "Data:\n",
              "+-------------+------------+\n",
              "| customer_id | article_id |\n",
              "+-------------+------------+\n",
              "|      0      |     0      |\n",
              "|      0      |     1      |\n",
              "|      0      |     2      |\n",
              "|      0      |     3      |\n",
              "|      1      |     4      |\n",
              "|      1      |     5      |\n",
              "|      1      |     6      |\n",
              "|      1      |     7      |\n",
              "|      2      |     8      |\n",
              "|      2      |     9      |\n",
              "+-------------+------------+\n",
              "[1149781 rows x 2 columns]\n",
              "Note: Only the head of the SFrame is printed.\n",
              "You can use print_rows(num_rows=m, num_columns=n) to print more rows and columns."
            ],
            "text/html": [
              "<div style=\"max-height:1000px;max-width:1500px;overflow:auto;\"><table frame=\"box\" rules=\"cols\">\n",
              "    <tr>\n",
              "        <th style=\"padding-left: 1em; padding-right: 1em; text-align: center\">customer_id</th>\n",
              "        <th style=\"padding-left: 1em; padding-right: 1em; text-align: center\">article_id</th>\n",
              "    </tr>\n",
              "    <tr>\n",
              "        <td style=\"padding-left: 1em; padding-right: 1em; text-align: center; vertical-align: top\">0</td>\n",
              "        <td style=\"padding-left: 1em; padding-right: 1em; text-align: center; vertical-align: top\">0</td>\n",
              "    </tr>\n",
              "    <tr>\n",
              "        <td style=\"padding-left: 1em; padding-right: 1em; text-align: center; vertical-align: top\">0</td>\n",
              "        <td style=\"padding-left: 1em; padding-right: 1em; text-align: center; vertical-align: top\">1</td>\n",
              "    </tr>\n",
              "    <tr>\n",
              "        <td style=\"padding-left: 1em; padding-right: 1em; text-align: center; vertical-align: top\">0</td>\n",
              "        <td style=\"padding-left: 1em; padding-right: 1em; text-align: center; vertical-align: top\">2</td>\n",
              "    </tr>\n",
              "    <tr>\n",
              "        <td style=\"padding-left: 1em; padding-right: 1em; text-align: center; vertical-align: top\">0</td>\n",
              "        <td style=\"padding-left: 1em; padding-right: 1em; text-align: center; vertical-align: top\">3</td>\n",
              "    </tr>\n",
              "    <tr>\n",
              "        <td style=\"padding-left: 1em; padding-right: 1em; text-align: center; vertical-align: top\">1</td>\n",
              "        <td style=\"padding-left: 1em; padding-right: 1em; text-align: center; vertical-align: top\">4</td>\n",
              "    </tr>\n",
              "    <tr>\n",
              "        <td style=\"padding-left: 1em; padding-right: 1em; text-align: center; vertical-align: top\">1</td>\n",
              "        <td style=\"padding-left: 1em; padding-right: 1em; text-align: center; vertical-align: top\">5</td>\n",
              "    </tr>\n",
              "    <tr>\n",
              "        <td style=\"padding-left: 1em; padding-right: 1em; text-align: center; vertical-align: top\">1</td>\n",
              "        <td style=\"padding-left: 1em; padding-right: 1em; text-align: center; vertical-align: top\">6</td>\n",
              "    </tr>\n",
              "    <tr>\n",
              "        <td style=\"padding-left: 1em; padding-right: 1em; text-align: center; vertical-align: top\">1</td>\n",
              "        <td style=\"padding-left: 1em; padding-right: 1em; text-align: center; vertical-align: top\">7</td>\n",
              "    </tr>\n",
              "    <tr>\n",
              "        <td style=\"padding-left: 1em; padding-right: 1em; text-align: center; vertical-align: top\">2</td>\n",
              "        <td style=\"padding-left: 1em; padding-right: 1em; text-align: center; vertical-align: top\">8</td>\n",
              "    </tr>\n",
              "    <tr>\n",
              "        <td style=\"padding-left: 1em; padding-right: 1em; text-align: center; vertical-align: top\">2</td>\n",
              "        <td style=\"padding-left: 1em; padding-right: 1em; text-align: center; vertical-align: top\">9</td>\n",
              "    </tr>\n",
              "</table>\n",
              "[1149781 rows x 2 columns]<br/>Note: Only the head of the SFrame is printed.<br/>You can use print_rows(num_rows=m, num_columns=n) to print more rows and columns.\n",
              "</div>"
            ]
          },
          "metadata": {},
          "execution_count": 16
        }
      ],
      "source": [
        "# create an SFrame out of df\n",
        "dfS = tc.SFrame(df_tmp.iloc[:,1:3])\n",
        "#dfS_whole = tc.SFrame(df.iloc[:,1:3])\n",
        "dfS_train = tc.SFrame(df_train.iloc[:,1:3])\n",
        "dfS_val = tc.SFrame(df_val.iloc[:,1:3])\n",
        "dfS_train"
      ]
    },
    {
      "cell_type": "markdown",
      "metadata": {
        "id": "ax5B8LaoKh7G"
      },
      "source": [
        "# 1 Item similarity recommender"
      ]
    },
    {
      "cell_type": "markdown",
      "metadata": {
        "id": "W8vRBnjrKxYc"
      },
      "source": [
        "## 1-1 Cosine Similarity"
      ]
    },
    {
      "cell_type": "code",
      "execution_count": null,
      "metadata": {
        "colab": {
          "base_uri": "https://localhost:8080/",
          "height": 1000
        },
        "id": "OCDBsZYF9GMW",
        "outputId": "57c6b7ee-7aaf-4bbe-be90-8e38adf5d9dc"
      },
      "outputs": [
        {
          "data": {
            "text/html": [
              "<pre>Preparing data set.</pre>"
            ],
            "text/plain": [
              "Preparing data set."
            ]
          },
          "metadata": {},
          "output_type": "display_data"
        },
        {
          "data": {
            "text/html": [
              "<pre>    Data has 1149781 observations with 249511 users and 29694 items.</pre>"
            ],
            "text/plain": [
              "    Data has 1149781 observations with 249511 users and 29694 items."
            ]
          },
          "metadata": {},
          "output_type": "display_data"
        },
        {
          "data": {
            "text/html": [
              "<pre>    Data prepared in: 1.23101s</pre>"
            ],
            "text/plain": [
              "    Data prepared in: 1.23101s"
            ]
          },
          "metadata": {},
          "output_type": "display_data"
        },
        {
          "data": {
            "text/html": [
              "<pre>Training model from provided data.</pre>"
            ],
            "text/plain": [
              "Training model from provided data."
            ]
          },
          "metadata": {},
          "output_type": "display_data"
        },
        {
          "data": {
            "text/html": [
              "<pre>Gathering per-item and per-user statistics.</pre>"
            ],
            "text/plain": [
              "Gathering per-item and per-user statistics."
            ]
          },
          "metadata": {},
          "output_type": "display_data"
        },
        {
          "data": {
            "text/html": [
              "<pre>+--------------------------------+------------+</pre>"
            ],
            "text/plain": [
              "+--------------------------------+------------+"
            ]
          },
          "metadata": {},
          "output_type": "display_data"
        },
        {
          "data": {
            "text/html": [
              "<pre>| Elapsed Time (Item Statistics) | % Complete |</pre>"
            ],
            "text/plain": [
              "| Elapsed Time (Item Statistics) | % Complete |"
            ]
          },
          "metadata": {},
          "output_type": "display_data"
        },
        {
          "data": {
            "text/html": [
              "<pre>+--------------------------------+------------+</pre>"
            ],
            "text/plain": [
              "+--------------------------------+------------+"
            ]
          },
          "metadata": {},
          "output_type": "display_data"
        },
        {
          "data": {
            "text/html": [
              "<pre>| 4.722ms                        | 0.25       |</pre>"
            ],
            "text/plain": [
              "| 4.722ms                        | 0.25       |"
            ]
          },
          "metadata": {},
          "output_type": "display_data"
        },
        {
          "data": {
            "text/html": [
              "<pre>| 80.306ms                       | 100        |</pre>"
            ],
            "text/plain": [
              "| 80.306ms                       | 100        |"
            ]
          },
          "metadata": {},
          "output_type": "display_data"
        },
        {
          "data": {
            "text/html": [
              "<pre>+--------------------------------+------------+</pre>"
            ],
            "text/plain": [
              "+--------------------------------+------------+"
            ]
          },
          "metadata": {},
          "output_type": "display_data"
        },
        {
          "data": {
            "text/html": [
              "<pre>Setting up lookup tables.</pre>"
            ],
            "text/plain": [
              "Setting up lookup tables."
            ]
          },
          "metadata": {},
          "output_type": "display_data"
        },
        {
          "data": {
            "text/html": [
              "<pre>Processing data in one pass using dense lookup tables.</pre>"
            ],
            "text/plain": [
              "Processing data in one pass using dense lookup tables."
            ]
          },
          "metadata": {},
          "output_type": "display_data"
        },
        {
          "data": {
            "text/html": [
              "<pre>+-------------------------------------+------------------+-----------------+</pre>"
            ],
            "text/plain": [
              "+-------------------------------------+------------------+-----------------+"
            ]
          },
          "metadata": {},
          "output_type": "display_data"
        },
        {
          "data": {
            "text/html": [
              "<pre>| Elapsed Time (Constructing Lookups) | Total % Complete | Items Processed |</pre>"
            ],
            "text/plain": [
              "| Elapsed Time (Constructing Lookups) | Total % Complete | Items Processed |"
            ]
          },
          "metadata": {},
          "output_type": "display_data"
        },
        {
          "data": {
            "text/html": [
              "<pre>+-------------------------------------+------------------+-----------------+</pre>"
            ],
            "text/plain": [
              "+-------------------------------------+------------------+-----------------+"
            ]
          },
          "metadata": {},
          "output_type": "display_data"
        },
        {
          "data": {
            "text/html": [
              "<pre>| 2.40s                               | 0                | 0               |</pre>"
            ],
            "text/plain": [
              "| 2.40s                               | 0                | 0               |"
            ]
          },
          "metadata": {},
          "output_type": "display_data"
        },
        {
          "data": {
            "text/html": [
              "<pre>| 15.50s                              | 100              | 29694           |</pre>"
            ],
            "text/plain": [
              "| 15.50s                              | 100              | 29694           |"
            ]
          },
          "metadata": {},
          "output_type": "display_data"
        },
        {
          "data": {
            "text/html": [
              "<pre>+-------------------------------------+------------------+-----------------+</pre>"
            ],
            "text/plain": [
              "+-------------------------------------+------------------+-----------------+"
            ]
          },
          "metadata": {},
          "output_type": "display_data"
        },
        {
          "data": {
            "text/html": [
              "<pre>Finalizing lookup tables.</pre>"
            ],
            "text/plain": [
              "Finalizing lookup tables."
            ]
          },
          "metadata": {},
          "output_type": "display_data"
        },
        {
          "data": {
            "text/html": [
              "<pre>Generating candidate set for working with new users.</pre>"
            ],
            "text/plain": [
              "Generating candidate set for working with new users."
            ]
          },
          "metadata": {},
          "output_type": "display_data"
        },
        {
          "data": {
            "text/html": [
              "<pre>Finished training in 16.6942s</pre>"
            ],
            "text/plain": [
              "Finished training in 16.6942s"
            ]
          },
          "metadata": {},
          "output_type": "display_data"
        },
        {
          "data": {
            "text/html": [
              "<pre>recommendations finished on 1000/249511 queries. users per second: 1827.37</pre>"
            ],
            "text/plain": [
              "recommendations finished on 1000/249511 queries. users per second: 1827.37"
            ]
          },
          "metadata": {},
          "output_type": "display_data"
        },
        {
          "data": {
            "text/html": [
              "<pre>recommendations finished on 2000/249511 queries. users per second: 1882.4</pre>"
            ],
            "text/plain": [
              "recommendations finished on 2000/249511 queries. users per second: 1882.4"
            ]
          },
          "metadata": {},
          "output_type": "display_data"
        },
        {
          "data": {
            "text/html": [
              "<pre>recommendations finished on 3000/249511 queries. users per second: 1864.24</pre>"
            ],
            "text/plain": [
              "recommendations finished on 3000/249511 queries. users per second: 1864.24"
            ]
          },
          "metadata": {},
          "output_type": "display_data"
        },
        {
          "data": {
            "text/html": [
              "<pre>recommendations finished on 4000/249511 queries. users per second: 1815.09</pre>"
            ],
            "text/plain": [
              "recommendations finished on 4000/249511 queries. users per second: 1815.09"
            ]
          },
          "metadata": {},
          "output_type": "display_data"
        },
        {
          "data": {
            "text/html": [
              "<pre>recommendations finished on 5000/249511 queries. users per second: 1848.26</pre>"
            ],
            "text/plain": [
              "recommendations finished on 5000/249511 queries. users per second: 1848.26"
            ]
          },
          "metadata": {},
          "output_type": "display_data"
        },
        {
          "data": {
            "text/html": [
              "<pre>recommendations finished on 6000/249511 queries. users per second: 1854.28</pre>"
            ],
            "text/plain": [
              "recommendations finished on 6000/249511 queries. users per second: 1854.28"
            ]
          },
          "metadata": {},
          "output_type": "display_data"
        },
        {
          "data": {
            "text/html": [
              "<pre>recommendations finished on 7000/249511 queries. users per second: 1943.15</pre>"
            ],
            "text/plain": [
              "recommendations finished on 7000/249511 queries. users per second: 1943.15"
            ]
          },
          "metadata": {},
          "output_type": "display_data"
        },
        {
          "data": {
            "text/html": [
              "<pre>recommendations finished on 8000/249511 queries. users per second: 2013.47</pre>"
            ],
            "text/plain": [
              "recommendations finished on 8000/249511 queries. users per second: 2013.47"
            ]
          },
          "metadata": {},
          "output_type": "display_data"
        },
        {
          "data": {
            "text/html": [
              "<pre>recommendations finished on 9000/249511 queries. users per second: 2066.24</pre>"
            ],
            "text/plain": [
              "recommendations finished on 9000/249511 queries. users per second: 2066.24"
            ]
          },
          "metadata": {},
          "output_type": "display_data"
        },
        {
          "data": {
            "text/html": [
              "<pre>recommendations finished on 10000/249511 queries. users per second: 2116.75</pre>"
            ],
            "text/plain": [
              "recommendations finished on 10000/249511 queries. users per second: 2116.75"
            ]
          },
          "metadata": {},
          "output_type": "display_data"
        },
        {
          "data": {
            "text/html": [
              "<pre>recommendations finished on 11000/249511 queries. users per second: 2139.13</pre>"
            ],
            "text/plain": [
              "recommendations finished on 11000/249511 queries. users per second: 2139.13"
            ]
          },
          "metadata": {},
          "output_type": "display_data"
        },
        {
          "data": {
            "text/html": [
              "<pre>recommendations finished on 12000/249511 queries. users per second: 2168.01</pre>"
            ],
            "text/plain": [
              "recommendations finished on 12000/249511 queries. users per second: 2168.01"
            ]
          },
          "metadata": {},
          "output_type": "display_data"
        },
        {
          "data": {
            "text/html": [
              "<pre>recommendations finished on 13000/249511 queries. users per second: 2199.62</pre>"
            ],
            "text/plain": [
              "recommendations finished on 13000/249511 queries. users per second: 2199.62"
            ]
          },
          "metadata": {},
          "output_type": "display_data"
        },
        {
          "data": {
            "text/html": [
              "<pre>recommendations finished on 14000/249511 queries. users per second: 2223.37</pre>"
            ],
            "text/plain": [
              "recommendations finished on 14000/249511 queries. users per second: 2223.37"
            ]
          },
          "metadata": {},
          "output_type": "display_data"
        },
        {
          "data": {
            "text/html": [
              "<pre>recommendations finished on 15000/249511 queries. users per second: 2247.62</pre>"
            ],
            "text/plain": [
              "recommendations finished on 15000/249511 queries. users per second: 2247.62"
            ]
          },
          "metadata": {},
          "output_type": "display_data"
        },
        {
          "data": {
            "text/html": [
              "<pre>recommendations finished on 16000/249511 queries. users per second: 2270.31</pre>"
            ],
            "text/plain": [
              "recommendations finished on 16000/249511 queries. users per second: 2270.31"
            ]
          },
          "metadata": {},
          "output_type": "display_data"
        },
        {
          "data": {
            "text/html": [
              "<pre>recommendations finished on 17000/249511 queries. users per second: 2286.23</pre>"
            ],
            "text/plain": [
              "recommendations finished on 17000/249511 queries. users per second: 2286.23"
            ]
          },
          "metadata": {},
          "output_type": "display_data"
        },
        {
          "data": {
            "text/html": [
              "<pre>recommendations finished on 18000/249511 queries. users per second: 2305.79</pre>"
            ],
            "text/plain": [
              "recommendations finished on 18000/249511 queries. users per second: 2305.79"
            ]
          },
          "metadata": {},
          "output_type": "display_data"
        },
        {
          "data": {
            "text/html": [
              "<pre>recommendations finished on 19000/249511 queries. users per second: 2323.77</pre>"
            ],
            "text/plain": [
              "recommendations finished on 19000/249511 queries. users per second: 2323.77"
            ]
          },
          "metadata": {},
          "output_type": "display_data"
        },
        {
          "data": {
            "text/html": [
              "<pre>recommendations finished on 20000/249511 queries. users per second: 2334.34</pre>"
            ],
            "text/plain": [
              "recommendations finished on 20000/249511 queries. users per second: 2334.34"
            ]
          },
          "metadata": {},
          "output_type": "display_data"
        },
        {
          "data": {
            "text/html": [
              "<pre>recommendations finished on 21000/249511 queries. users per second: 2346.08</pre>"
            ],
            "text/plain": [
              "recommendations finished on 21000/249511 queries. users per second: 2346.08"
            ]
          },
          "metadata": {},
          "output_type": "display_data"
        },
        {
          "data": {
            "text/html": [
              "<pre>recommendations finished on 22000/249511 queries. users per second: 2355.89</pre>"
            ],
            "text/plain": [
              "recommendations finished on 22000/249511 queries. users per second: 2355.89"
            ]
          },
          "metadata": {},
          "output_type": "display_data"
        },
        {
          "data": {
            "text/html": [
              "<pre>recommendations finished on 23000/249511 queries. users per second: 2368.13</pre>"
            ],
            "text/plain": [
              "recommendations finished on 23000/249511 queries. users per second: 2368.13"
            ]
          },
          "metadata": {},
          "output_type": "display_data"
        },
        {
          "data": {
            "text/html": [
              "<pre>recommendations finished on 24000/249511 queries. users per second: 2378.25</pre>"
            ],
            "text/plain": [
              "recommendations finished on 24000/249511 queries. users per second: 2378.25"
            ]
          },
          "metadata": {},
          "output_type": "display_data"
        },
        {
          "data": {
            "text/html": [
              "<pre>recommendations finished on 25000/249511 queries. users per second: 2386.23</pre>"
            ],
            "text/plain": [
              "recommendations finished on 25000/249511 queries. users per second: 2386.23"
            ]
          },
          "metadata": {},
          "output_type": "display_data"
        },
        {
          "data": {
            "text/html": [
              "<pre>recommendations finished on 26000/249511 queries. users per second: 2396.38</pre>"
            ],
            "text/plain": [
              "recommendations finished on 26000/249511 queries. users per second: 2396.38"
            ]
          },
          "metadata": {},
          "output_type": "display_data"
        },
        {
          "data": {
            "text/html": [
              "<pre>recommendations finished on 27000/249511 queries. users per second: 2406.96</pre>"
            ],
            "text/plain": [
              "recommendations finished on 27000/249511 queries. users per second: 2406.96"
            ]
          },
          "metadata": {},
          "output_type": "display_data"
        },
        {
          "data": {
            "text/html": [
              "<pre>recommendations finished on 28000/249511 queries. users per second: 2414.56</pre>"
            ],
            "text/plain": [
              "recommendations finished on 28000/249511 queries. users per second: 2414.56"
            ]
          },
          "metadata": {},
          "output_type": "display_data"
        },
        {
          "data": {
            "text/html": [
              "<pre>recommendations finished on 29000/249511 queries. users per second: 2422.2</pre>"
            ],
            "text/plain": [
              "recommendations finished on 29000/249511 queries. users per second: 2422.2"
            ]
          },
          "metadata": {},
          "output_type": "display_data"
        },
        {
          "data": {
            "text/html": [
              "<pre>recommendations finished on 30000/249511 queries. users per second: 2430.59</pre>"
            ],
            "text/plain": [
              "recommendations finished on 30000/249511 queries. users per second: 2430.59"
            ]
          },
          "metadata": {},
          "output_type": "display_data"
        },
        {
          "data": {
            "text/html": [
              "<pre>recommendations finished on 31000/249511 queries. users per second: 2435.83</pre>"
            ],
            "text/plain": [
              "recommendations finished on 31000/249511 queries. users per second: 2435.83"
            ]
          },
          "metadata": {},
          "output_type": "display_data"
        },
        {
          "data": {
            "text/html": [
              "<pre>recommendations finished on 32000/249511 queries. users per second: 2443.27</pre>"
            ],
            "text/plain": [
              "recommendations finished on 32000/249511 queries. users per second: 2443.27"
            ]
          },
          "metadata": {},
          "output_type": "display_data"
        },
        {
          "data": {
            "text/html": [
              "<pre>recommendations finished on 33000/249511 queries. users per second: 2448.37</pre>"
            ],
            "text/plain": [
              "recommendations finished on 33000/249511 queries. users per second: 2448.37"
            ]
          },
          "metadata": {},
          "output_type": "display_data"
        },
        {
          "data": {
            "text/html": [
              "<pre>recommendations finished on 34000/249511 queries. users per second: 2454.53</pre>"
            ],
            "text/plain": [
              "recommendations finished on 34000/249511 queries. users per second: 2454.53"
            ]
          },
          "metadata": {},
          "output_type": "display_data"
        },
        {
          "data": {
            "text/html": [
              "<pre>recommendations finished on 35000/249511 queries. users per second: 2461.81</pre>"
            ],
            "text/plain": [
              "recommendations finished on 35000/249511 queries. users per second: 2461.81"
            ]
          },
          "metadata": {},
          "output_type": "display_data"
        },
        {
          "data": {
            "text/html": [
              "<pre>recommendations finished on 36000/249511 queries. users per second: 2466.39</pre>"
            ],
            "text/plain": [
              "recommendations finished on 36000/249511 queries. users per second: 2466.39"
            ]
          },
          "metadata": {},
          "output_type": "display_data"
        },
        {
          "data": {
            "text/html": [
              "<pre>recommendations finished on 37000/249511 queries. users per second: 2471.87</pre>"
            ],
            "text/plain": [
              "recommendations finished on 37000/249511 queries. users per second: 2471.87"
            ]
          },
          "metadata": {},
          "output_type": "display_data"
        },
        {
          "data": {
            "text/html": [
              "<pre>recommendations finished on 38000/249511 queries. users per second: 2470.99</pre>"
            ],
            "text/plain": [
              "recommendations finished on 38000/249511 queries. users per second: 2470.99"
            ]
          },
          "metadata": {},
          "output_type": "display_data"
        },
        {
          "data": {
            "text/html": [
              "<pre>recommendations finished on 39000/249511 queries. users per second: 2475.02</pre>"
            ],
            "text/plain": [
              "recommendations finished on 39000/249511 queries. users per second: 2475.02"
            ]
          },
          "metadata": {},
          "output_type": "display_data"
        },
        {
          "data": {
            "text/html": [
              "<pre>recommendations finished on 40000/249511 queries. users per second: 2480.26</pre>"
            ],
            "text/plain": [
              "recommendations finished on 40000/249511 queries. users per second: 2480.26"
            ]
          },
          "metadata": {},
          "output_type": "display_data"
        },
        {
          "data": {
            "text/html": [
              "<pre>recommendations finished on 41000/249511 queries. users per second: 2484.77</pre>"
            ],
            "text/plain": [
              "recommendations finished on 41000/249511 queries. users per second: 2484.77"
            ]
          },
          "metadata": {},
          "output_type": "display_data"
        },
        {
          "data": {
            "text/html": [
              "<pre>recommendations finished on 42000/249511 queries. users per second: 2487.02</pre>"
            ],
            "text/plain": [
              "recommendations finished on 42000/249511 queries. users per second: 2487.02"
            ]
          },
          "metadata": {},
          "output_type": "display_data"
        },
        {
          "data": {
            "text/html": [
              "<pre>recommendations finished on 43000/249511 queries. users per second: 2491.06</pre>"
            ],
            "text/plain": [
              "recommendations finished on 43000/249511 queries. users per second: 2491.06"
            ]
          },
          "metadata": {},
          "output_type": "display_data"
        },
        {
          "data": {
            "text/html": [
              "<pre>recommendations finished on 44000/249511 queries. users per second: 2493.3</pre>"
            ],
            "text/plain": [
              "recommendations finished on 44000/249511 queries. users per second: 2493.3"
            ]
          },
          "metadata": {},
          "output_type": "display_data"
        },
        {
          "data": {
            "text/html": [
              "<pre>recommendations finished on 45000/249511 queries. users per second: 2496.52</pre>"
            ],
            "text/plain": [
              "recommendations finished on 45000/249511 queries. users per second: 2496.52"
            ]
          },
          "metadata": {},
          "output_type": "display_data"
        },
        {
          "data": {
            "text/html": [
              "<pre>recommendations finished on 46000/249511 queries. users per second: 2500.98</pre>"
            ],
            "text/plain": [
              "recommendations finished on 46000/249511 queries. users per second: 2500.98"
            ]
          },
          "metadata": {},
          "output_type": "display_data"
        },
        {
          "data": {
            "text/html": [
              "<pre>recommendations finished on 47000/249511 queries. users per second: 2503.2</pre>"
            ],
            "text/plain": [
              "recommendations finished on 47000/249511 queries. users per second: 2503.2"
            ]
          },
          "metadata": {},
          "output_type": "display_data"
        },
        {
          "data": {
            "text/html": [
              "<pre>recommendations finished on 48000/249511 queries. users per second: 2506.73</pre>"
            ],
            "text/plain": [
              "recommendations finished on 48000/249511 queries. users per second: 2506.73"
            ]
          },
          "metadata": {},
          "output_type": "display_data"
        },
        {
          "data": {
            "text/html": [
              "<pre>recommendations finished on 49000/249511 queries. users per second: 2510.24</pre>"
            ],
            "text/plain": [
              "recommendations finished on 49000/249511 queries. users per second: 2510.24"
            ]
          },
          "metadata": {},
          "output_type": "display_data"
        },
        {
          "data": {
            "text/html": [
              "<pre>recommendations finished on 50000/249511 queries. users per second: 2511.98</pre>"
            ],
            "text/plain": [
              "recommendations finished on 50000/249511 queries. users per second: 2511.98"
            ]
          },
          "metadata": {},
          "output_type": "display_data"
        },
        {
          "data": {
            "text/html": [
              "<pre>recommendations finished on 51000/249511 queries. users per second: 2513.85</pre>"
            ],
            "text/plain": [
              "recommendations finished on 51000/249511 queries. users per second: 2513.85"
            ]
          },
          "metadata": {},
          "output_type": "display_data"
        },
        {
          "data": {
            "text/html": [
              "<pre>recommendations finished on 52000/249511 queries. users per second: 2516.64</pre>"
            ],
            "text/plain": [
              "recommendations finished on 52000/249511 queries. users per second: 2516.64"
            ]
          },
          "metadata": {},
          "output_type": "display_data"
        },
        {
          "data": {
            "text/html": [
              "<pre>recommendations finished on 53000/249511 queries. users per second: 2518.42</pre>"
            ],
            "text/plain": [
              "recommendations finished on 53000/249511 queries. users per second: 2518.42"
            ]
          },
          "metadata": {},
          "output_type": "display_data"
        },
        {
          "data": {
            "text/html": [
              "<pre>recommendations finished on 54000/249511 queries. users per second: 2520.9</pre>"
            ],
            "text/plain": [
              "recommendations finished on 54000/249511 queries. users per second: 2520.9"
            ]
          },
          "metadata": {},
          "output_type": "display_data"
        },
        {
          "data": {
            "text/html": [
              "<pre>recommendations finished on 55000/249511 queries. users per second: 2522.75</pre>"
            ],
            "text/plain": [
              "recommendations finished on 55000/249511 queries. users per second: 2522.75"
            ]
          },
          "metadata": {},
          "output_type": "display_data"
        },
        {
          "data": {
            "text/html": [
              "<pre>recommendations finished on 56000/249511 queries. users per second: 2524.59</pre>"
            ],
            "text/plain": [
              "recommendations finished on 56000/249511 queries. users per second: 2524.59"
            ]
          },
          "metadata": {},
          "output_type": "display_data"
        },
        {
          "data": {
            "text/html": [
              "<pre>recommendations finished on 57000/249511 queries. users per second: 2527.28</pre>"
            ],
            "text/plain": [
              "recommendations finished on 57000/249511 queries. users per second: 2527.28"
            ]
          },
          "metadata": {},
          "output_type": "display_data"
        },
        {
          "data": {
            "text/html": [
              "<pre>recommendations finished on 58000/249511 queries. users per second: 2528.47</pre>"
            ],
            "text/plain": [
              "recommendations finished on 58000/249511 queries. users per second: 2528.47"
            ]
          },
          "metadata": {},
          "output_type": "display_data"
        },
        {
          "data": {
            "text/html": [
              "<pre>recommendations finished on 59000/249511 queries. users per second: 2530.82</pre>"
            ],
            "text/plain": [
              "recommendations finished on 59000/249511 queries. users per second: 2530.82"
            ]
          },
          "metadata": {},
          "output_type": "display_data"
        },
        {
          "data": {
            "text/html": [
              "<pre>recommendations finished on 60000/249511 queries. users per second: 2532.56</pre>"
            ],
            "text/plain": [
              "recommendations finished on 60000/249511 queries. users per second: 2532.56"
            ]
          },
          "metadata": {},
          "output_type": "display_data"
        },
        {
          "data": {
            "text/html": [
              "<pre>recommendations finished on 61000/249511 queries. users per second: 2532.93</pre>"
            ],
            "text/plain": [
              "recommendations finished on 61000/249511 queries. users per second: 2532.93"
            ]
          },
          "metadata": {},
          "output_type": "display_data"
        },
        {
          "data": {
            "text/html": [
              "<pre>recommendations finished on 62000/249511 queries. users per second: 2535.07</pre>"
            ],
            "text/plain": [
              "recommendations finished on 62000/249511 queries. users per second: 2535.07"
            ]
          },
          "metadata": {},
          "output_type": "display_data"
        },
        {
          "data": {
            "text/html": [
              "<pre>recommendations finished on 63000/249511 queries. users per second: 2536.05</pre>"
            ],
            "text/plain": [
              "recommendations finished on 63000/249511 queries. users per second: 2536.05"
            ]
          },
          "metadata": {},
          "output_type": "display_data"
        },
        {
          "data": {
            "text/html": [
              "<pre>recommendations finished on 64000/249511 queries. users per second: 2527.89</pre>"
            ],
            "text/plain": [
              "recommendations finished on 64000/249511 queries. users per second: 2527.89"
            ]
          },
          "metadata": {},
          "output_type": "display_data"
        },
        {
          "data": {
            "text/html": [
              "<pre>recommendations finished on 65000/249511 queries. users per second: 2503.21</pre>"
            ],
            "text/plain": [
              "recommendations finished on 65000/249511 queries. users per second: 2503.21"
            ]
          },
          "metadata": {},
          "output_type": "display_data"
        },
        {
          "data": {
            "text/html": [
              "<pre>recommendations finished on 66000/249511 queries. users per second: 2487.55</pre>"
            ],
            "text/plain": [
              "recommendations finished on 66000/249511 queries. users per second: 2487.55"
            ]
          },
          "metadata": {},
          "output_type": "display_data"
        },
        {
          "data": {
            "text/html": [
              "<pre>recommendations finished on 67000/249511 queries. users per second: 2478.12</pre>"
            ],
            "text/plain": [
              "recommendations finished on 67000/249511 queries. users per second: 2478.12"
            ]
          },
          "metadata": {},
          "output_type": "display_data"
        },
        {
          "data": {
            "text/html": [
              "<pre>recommendations finished on 68000/249511 queries. users per second: 2480.59</pre>"
            ],
            "text/plain": [
              "recommendations finished on 68000/249511 queries. users per second: 2480.59"
            ]
          },
          "metadata": {},
          "output_type": "display_data"
        },
        {
          "data": {
            "text/html": [
              "<pre>recommendations finished on 69000/249511 queries. users per second: 2483.18</pre>"
            ],
            "text/plain": [
              "recommendations finished on 69000/249511 queries. users per second: 2483.18"
            ]
          },
          "metadata": {},
          "output_type": "display_data"
        },
        {
          "data": {
            "text/html": [
              "<pre>recommendations finished on 70000/249511 queries. users per second: 2485.18</pre>"
            ],
            "text/plain": [
              "recommendations finished on 70000/249511 queries. users per second: 2485.18"
            ]
          },
          "metadata": {},
          "output_type": "display_data"
        },
        {
          "data": {
            "text/html": [
              "<pre>recommendations finished on 71000/249511 queries. users per second: 2487.96</pre>"
            ],
            "text/plain": [
              "recommendations finished on 71000/249511 queries. users per second: 2487.96"
            ]
          },
          "metadata": {},
          "output_type": "display_data"
        },
        {
          "data": {
            "text/html": [
              "<pre>recommendations finished on 72000/249511 queries. users per second: 2490.54</pre>"
            ],
            "text/plain": [
              "recommendations finished on 72000/249511 queries. users per second: 2490.54"
            ]
          },
          "metadata": {},
          "output_type": "display_data"
        },
        {
          "data": {
            "text/html": [
              "<pre>recommendations finished on 73000/249511 queries. users per second: 2491.23</pre>"
            ],
            "text/plain": [
              "recommendations finished on 73000/249511 queries. users per second: 2491.23"
            ]
          },
          "metadata": {},
          "output_type": "display_data"
        },
        {
          "data": {
            "text/html": [
              "<pre>recommendations finished on 74000/249511 queries. users per second: 2493.8</pre>"
            ],
            "text/plain": [
              "recommendations finished on 74000/249511 queries. users per second: 2493.8"
            ]
          },
          "metadata": {},
          "output_type": "display_data"
        },
        {
          "data": {
            "text/html": [
              "<pre>recommendations finished on 75000/249511 queries. users per second: 2495.82</pre>"
            ],
            "text/plain": [
              "recommendations finished on 75000/249511 queries. users per second: 2495.82"
            ]
          },
          "metadata": {},
          "output_type": "display_data"
        },
        {
          "data": {
            "text/html": [
              "<pre>recommendations finished on 76000/249511 queries. users per second: 2498.01</pre>"
            ],
            "text/plain": [
              "recommendations finished on 76000/249511 queries. users per second: 2498.01"
            ]
          },
          "metadata": {},
          "output_type": "display_data"
        },
        {
          "data": {
            "text/html": [
              "<pre>recommendations finished on 77000/249511 queries. users per second: 2500.32</pre>"
            ],
            "text/plain": [
              "recommendations finished on 77000/249511 queries. users per second: 2500.32"
            ]
          },
          "metadata": {},
          "output_type": "display_data"
        },
        {
          "data": {
            "text/html": [
              "<pre>recommendations finished on 78000/249511 queries. users per second: 2501.7</pre>"
            ],
            "text/plain": [
              "recommendations finished on 78000/249511 queries. users per second: 2501.7"
            ]
          },
          "metadata": {},
          "output_type": "display_data"
        },
        {
          "data": {
            "text/html": [
              "<pre>recommendations finished on 79000/249511 queries. users per second: 2503.62</pre>"
            ],
            "text/plain": [
              "recommendations finished on 79000/249511 queries. users per second: 2503.62"
            ]
          },
          "metadata": {},
          "output_type": "display_data"
        },
        {
          "data": {
            "text/html": [
              "<pre>recommendations finished on 80000/249511 queries. users per second: 2505.25</pre>"
            ],
            "text/plain": [
              "recommendations finished on 80000/249511 queries. users per second: 2505.25"
            ]
          },
          "metadata": {},
          "output_type": "display_data"
        },
        {
          "data": {
            "text/html": [
              "<pre>recommendations finished on 81000/249511 queries. users per second: 2506.31</pre>"
            ],
            "text/plain": [
              "recommendations finished on 81000/249511 queries. users per second: 2506.31"
            ]
          },
          "metadata": {},
          "output_type": "display_data"
        },
        {
          "data": {
            "text/html": [
              "<pre>recommendations finished on 82000/249511 queries. users per second: 2508.54</pre>"
            ],
            "text/plain": [
              "recommendations finished on 82000/249511 queries. users per second: 2508.54"
            ]
          },
          "metadata": {},
          "output_type": "display_data"
        },
        {
          "data": {
            "text/html": [
              "<pre>recommendations finished on 83000/249511 queries. users per second: 2510.33</pre>"
            ],
            "text/plain": [
              "recommendations finished on 83000/249511 queries. users per second: 2510.33"
            ]
          },
          "metadata": {},
          "output_type": "display_data"
        },
        {
          "data": {
            "text/html": [
              "<pre>recommendations finished on 84000/249511 queries. users per second: 2511.81</pre>"
            ],
            "text/plain": [
              "recommendations finished on 84000/249511 queries. users per second: 2511.81"
            ]
          },
          "metadata": {},
          "output_type": "display_data"
        },
        {
          "data": {
            "text/html": [
              "<pre>recommendations finished on 85000/249511 queries. users per second: 2513.96</pre>"
            ],
            "text/plain": [
              "recommendations finished on 85000/249511 queries. users per second: 2513.96"
            ]
          },
          "metadata": {},
          "output_type": "display_data"
        },
        {
          "data": {
            "text/html": [
              "<pre>recommendations finished on 86000/249511 queries. users per second: 2515.15</pre>"
            ],
            "text/plain": [
              "recommendations finished on 86000/249511 queries. users per second: 2515.15"
            ]
          },
          "metadata": {},
          "output_type": "display_data"
        },
        {
          "data": {
            "text/html": [
              "<pre>recommendations finished on 87000/249511 queries. users per second: 2517.31</pre>"
            ],
            "text/plain": [
              "recommendations finished on 87000/249511 queries. users per second: 2517.31"
            ]
          },
          "metadata": {},
          "output_type": "display_data"
        },
        {
          "data": {
            "text/html": [
              "<pre>recommendations finished on 88000/249511 queries. users per second: 2519.14</pre>"
            ],
            "text/plain": [
              "recommendations finished on 88000/249511 queries. users per second: 2519.14"
            ]
          },
          "metadata": {},
          "output_type": "display_data"
        },
        {
          "data": {
            "text/html": [
              "<pre>recommendations finished on 89000/249511 queries. users per second: 2520.25</pre>"
            ],
            "text/plain": [
              "recommendations finished on 89000/249511 queries. users per second: 2520.25"
            ]
          },
          "metadata": {},
          "output_type": "display_data"
        },
        {
          "data": {
            "text/html": [
              "<pre>recommendations finished on 90000/249511 queries. users per second: 2520.53</pre>"
            ],
            "text/plain": [
              "recommendations finished on 90000/249511 queries. users per second: 2520.53"
            ]
          },
          "metadata": {},
          "output_type": "display_data"
        },
        {
          "data": {
            "text/html": [
              "<pre>recommendations finished on 91000/249511 queries. users per second: 2521.8</pre>"
            ],
            "text/plain": [
              "recommendations finished on 91000/249511 queries. users per second: 2521.8"
            ]
          },
          "metadata": {},
          "output_type": "display_data"
        },
        {
          "data": {
            "text/html": [
              "<pre>recommendations finished on 92000/249511 queries. users per second: 2521.21</pre>"
            ],
            "text/plain": [
              "recommendations finished on 92000/249511 queries. users per second: 2521.21"
            ]
          },
          "metadata": {},
          "output_type": "display_data"
        },
        {
          "data": {
            "text/html": [
              "<pre>recommendations finished on 93000/249511 queries. users per second: 2522.37</pre>"
            ],
            "text/plain": [
              "recommendations finished on 93000/249511 queries. users per second: 2522.37"
            ]
          },
          "metadata": {},
          "output_type": "display_data"
        },
        {
          "data": {
            "text/html": [
              "<pre>recommendations finished on 94000/249511 queries. users per second: 2523.78</pre>"
            ],
            "text/plain": [
              "recommendations finished on 94000/249511 queries. users per second: 2523.78"
            ]
          },
          "metadata": {},
          "output_type": "display_data"
        },
        {
          "data": {
            "text/html": [
              "<pre>recommendations finished on 95000/249511 queries. users per second: 2524.71</pre>"
            ],
            "text/plain": [
              "recommendations finished on 95000/249511 queries. users per second: 2524.71"
            ]
          },
          "metadata": {},
          "output_type": "display_data"
        },
        {
          "data": {
            "text/html": [
              "<pre>recommendations finished on 96000/249511 queries. users per second: 2526.32</pre>"
            ],
            "text/plain": [
              "recommendations finished on 96000/249511 queries. users per second: 2526.32"
            ]
          },
          "metadata": {},
          "output_type": "display_data"
        },
        {
          "data": {
            "text/html": [
              "<pre>recommendations finished on 97000/249511 queries. users per second: 2527.09</pre>"
            ],
            "text/plain": [
              "recommendations finished on 97000/249511 queries. users per second: 2527.09"
            ]
          },
          "metadata": {},
          "output_type": "display_data"
        },
        {
          "data": {
            "text/html": [
              "<pre>recommendations finished on 98000/249511 queries. users per second: 2528.39</pre>"
            ],
            "text/plain": [
              "recommendations finished on 98000/249511 queries. users per second: 2528.39"
            ]
          },
          "metadata": {},
          "output_type": "display_data"
        },
        {
          "data": {
            "text/html": [
              "<pre>recommendations finished on 99000/249511 queries. users per second: 2529.95</pre>"
            ],
            "text/plain": [
              "recommendations finished on 99000/249511 queries. users per second: 2529.95"
            ]
          },
          "metadata": {},
          "output_type": "display_data"
        },
        {
          "data": {
            "text/html": [
              "<pre>recommendations finished on 100000/249511 queries. users per second: 2530.99</pre>"
            ],
            "text/plain": [
              "recommendations finished on 100000/249511 queries. users per second: 2530.99"
            ]
          },
          "metadata": {},
          "output_type": "display_data"
        },
        {
          "data": {
            "text/html": [
              "<pre>recommendations finished on 101000/249511 queries. users per second: 2532.39</pre>"
            ],
            "text/plain": [
              "recommendations finished on 101000/249511 queries. users per second: 2532.39"
            ]
          },
          "metadata": {},
          "output_type": "display_data"
        },
        {
          "data": {
            "text/html": [
              "<pre>recommendations finished on 102000/249511 queries. users per second: 2533.49</pre>"
            ],
            "text/plain": [
              "recommendations finished on 102000/249511 queries. users per second: 2533.49"
            ]
          },
          "metadata": {},
          "output_type": "display_data"
        },
        {
          "data": {
            "text/html": [
              "<pre>recommendations finished on 103000/249511 queries. users per second: 2534.24</pre>"
            ],
            "text/plain": [
              "recommendations finished on 103000/249511 queries. users per second: 2534.24"
            ]
          },
          "metadata": {},
          "output_type": "display_data"
        },
        {
          "data": {
            "text/html": [
              "<pre>recommendations finished on 104000/249511 queries. users per second: 2535.79</pre>"
            ],
            "text/plain": [
              "recommendations finished on 104000/249511 queries. users per second: 2535.79"
            ]
          },
          "metadata": {},
          "output_type": "display_data"
        },
        {
          "data": {
            "text/html": [
              "<pre>recommendations finished on 105000/249511 queries. users per second: 2536.39</pre>"
            ],
            "text/plain": [
              "recommendations finished on 105000/249511 queries. users per second: 2536.39"
            ]
          },
          "metadata": {},
          "output_type": "display_data"
        },
        {
          "data": {
            "text/html": [
              "<pre>recommendations finished on 106000/249511 queries. users per second: 2537.7</pre>"
            ],
            "text/plain": [
              "recommendations finished on 106000/249511 queries. users per second: 2537.7"
            ]
          },
          "metadata": {},
          "output_type": "display_data"
        },
        {
          "data": {
            "text/html": [
              "<pre>recommendations finished on 107000/249511 queries. users per second: 2538.89</pre>"
            ],
            "text/plain": [
              "recommendations finished on 107000/249511 queries. users per second: 2538.89"
            ]
          },
          "metadata": {},
          "output_type": "display_data"
        },
        {
          "data": {
            "text/html": [
              "<pre>recommendations finished on 108000/249511 queries. users per second: 2539.93</pre>"
            ],
            "text/plain": [
              "recommendations finished on 108000/249511 queries. users per second: 2539.93"
            ]
          },
          "metadata": {},
          "output_type": "display_data"
        },
        {
          "data": {
            "text/html": [
              "<pre>recommendations finished on 109000/249511 queries. users per second: 2541.08</pre>"
            ],
            "text/plain": [
              "recommendations finished on 109000/249511 queries. users per second: 2541.08"
            ]
          },
          "metadata": {},
          "output_type": "display_data"
        },
        {
          "data": {
            "text/html": [
              "<pre>recommendations finished on 110000/249511 queries. users per second: 2542.11</pre>"
            ],
            "text/plain": [
              "recommendations finished on 110000/249511 queries. users per second: 2542.11"
            ]
          },
          "metadata": {},
          "output_type": "display_data"
        },
        {
          "data": {
            "text/html": [
              "<pre>recommendations finished on 111000/249511 queries. users per second: 2542.85</pre>"
            ],
            "text/plain": [
              "recommendations finished on 111000/249511 queries. users per second: 2542.85"
            ]
          },
          "metadata": {},
          "output_type": "display_data"
        },
        {
          "data": {
            "text/html": [
              "<pre>recommendations finished on 112000/249511 queries. users per second: 2544.06</pre>"
            ],
            "text/plain": [
              "recommendations finished on 112000/249511 queries. users per second: 2544.06"
            ]
          },
          "metadata": {},
          "output_type": "display_data"
        },
        {
          "data": {
            "text/html": [
              "<pre>recommendations finished on 113000/249511 queries. users per second: 2545.2</pre>"
            ],
            "text/plain": [
              "recommendations finished on 113000/249511 queries. users per second: 2545.2"
            ]
          },
          "metadata": {},
          "output_type": "display_data"
        },
        {
          "data": {
            "text/html": [
              "<pre>recommendations finished on 114000/249511 queries. users per second: 2545.75</pre>"
            ],
            "text/plain": [
              "recommendations finished on 114000/249511 queries. users per second: 2545.75"
            ]
          },
          "metadata": {},
          "output_type": "display_data"
        },
        {
          "data": {
            "text/html": [
              "<pre>recommendations finished on 115000/249511 queries. users per second: 2546.76</pre>"
            ],
            "text/plain": [
              "recommendations finished on 115000/249511 queries. users per second: 2546.76"
            ]
          },
          "metadata": {},
          "output_type": "display_data"
        },
        {
          "data": {
            "text/html": [
              "<pre>recommendations finished on 116000/249511 queries. users per second: 2547.38</pre>"
            ],
            "text/plain": [
              "recommendations finished on 116000/249511 queries. users per second: 2547.38"
            ]
          },
          "metadata": {},
          "output_type": "display_data"
        },
        {
          "data": {
            "text/html": [
              "<pre>recommendations finished on 117000/249511 queries. users per second: 2548.3</pre>"
            ],
            "text/plain": [
              "recommendations finished on 117000/249511 queries. users per second: 2548.3"
            ]
          },
          "metadata": {},
          "output_type": "display_data"
        },
        {
          "data": {
            "text/html": [
              "<pre>recommendations finished on 118000/249511 queries. users per second: 2549.44</pre>"
            ],
            "text/plain": [
              "recommendations finished on 118000/249511 queries. users per second: 2549.44"
            ]
          },
          "metadata": {},
          "output_type": "display_data"
        },
        {
          "data": {
            "text/html": [
              "<pre>recommendations finished on 119000/249511 queries. users per second: 2548.74</pre>"
            ],
            "text/plain": [
              "recommendations finished on 119000/249511 queries. users per second: 2548.74"
            ]
          },
          "metadata": {},
          "output_type": "display_data"
        },
        {
          "data": {
            "text/html": [
              "<pre>recommendations finished on 120000/249511 queries. users per second: 2549.77</pre>"
            ],
            "text/plain": [
              "recommendations finished on 120000/249511 queries. users per second: 2549.77"
            ]
          },
          "metadata": {},
          "output_type": "display_data"
        },
        {
          "data": {
            "text/html": [
              "<pre>recommendations finished on 121000/249511 queries. users per second: 2551.03</pre>"
            ],
            "text/plain": [
              "recommendations finished on 121000/249511 queries. users per second: 2551.03"
            ]
          },
          "metadata": {},
          "output_type": "display_data"
        },
        {
          "data": {
            "text/html": [
              "<pre>recommendations finished on 122000/249511 queries. users per second: 2551.63</pre>"
            ],
            "text/plain": [
              "recommendations finished on 122000/249511 queries. users per second: 2551.63"
            ]
          },
          "metadata": {},
          "output_type": "display_data"
        },
        {
          "data": {
            "text/html": [
              "<pre>recommendations finished on 123000/249511 queries. users per second: 2552.68</pre>"
            ],
            "text/plain": [
              "recommendations finished on 123000/249511 queries. users per second: 2552.68"
            ]
          },
          "metadata": {},
          "output_type": "display_data"
        },
        {
          "data": {
            "text/html": [
              "<pre>recommendations finished on 124000/249511 queries. users per second: 2553.66</pre>"
            ],
            "text/plain": [
              "recommendations finished on 124000/249511 queries. users per second: 2553.66"
            ]
          },
          "metadata": {},
          "output_type": "display_data"
        },
        {
          "data": {
            "text/html": [
              "<pre>recommendations finished on 125000/249511 queries. users per second: 2554.32</pre>"
            ],
            "text/plain": [
              "recommendations finished on 125000/249511 queries. users per second: 2554.32"
            ]
          },
          "metadata": {},
          "output_type": "display_data"
        },
        {
          "data": {
            "text/html": [
              "<pre>recommendations finished on 126000/249511 queries. users per second: 2555.38</pre>"
            ],
            "text/plain": [
              "recommendations finished on 126000/249511 queries. users per second: 2555.38"
            ]
          },
          "metadata": {},
          "output_type": "display_data"
        },
        {
          "data": {
            "text/html": [
              "<pre>recommendations finished on 127000/249511 queries. users per second: 2555.65</pre>"
            ],
            "text/plain": [
              "recommendations finished on 127000/249511 queries. users per second: 2555.65"
            ]
          },
          "metadata": {},
          "output_type": "display_data"
        },
        {
          "data": {
            "text/html": [
              "<pre>recommendations finished on 128000/249511 queries. users per second: 2556.28</pre>"
            ],
            "text/plain": [
              "recommendations finished on 128000/249511 queries. users per second: 2556.28"
            ]
          },
          "metadata": {},
          "output_type": "display_data"
        },
        {
          "data": {
            "text/html": [
              "<pre>recommendations finished on 129000/249511 queries. users per second: 2557.43</pre>"
            ],
            "text/plain": [
              "recommendations finished on 129000/249511 queries. users per second: 2557.43"
            ]
          },
          "metadata": {},
          "output_type": "display_data"
        },
        {
          "data": {
            "text/html": [
              "<pre>recommendations finished on 130000/249511 queries. users per second: 2558.03</pre>"
            ],
            "text/plain": [
              "recommendations finished on 130000/249511 queries. users per second: 2558.03"
            ]
          },
          "metadata": {},
          "output_type": "display_data"
        },
        {
          "data": {
            "text/html": [
              "<pre>recommendations finished on 131000/249511 queries. users per second: 2558.86</pre>"
            ],
            "text/plain": [
              "recommendations finished on 131000/249511 queries. users per second: 2558.86"
            ]
          },
          "metadata": {},
          "output_type": "display_data"
        },
        {
          "data": {
            "text/html": [
              "<pre>recommendations finished on 132000/249511 queries. users per second: 2559.72</pre>"
            ],
            "text/plain": [
              "recommendations finished on 132000/249511 queries. users per second: 2559.72"
            ]
          },
          "metadata": {},
          "output_type": "display_data"
        },
        {
          "data": {
            "text/html": [
              "<pre>recommendations finished on 133000/249511 queries. users per second: 2560.09</pre>"
            ],
            "text/plain": [
              "recommendations finished on 133000/249511 queries. users per second: 2560.09"
            ]
          },
          "metadata": {},
          "output_type": "display_data"
        },
        {
          "data": {
            "text/html": [
              "<pre>recommendations finished on 134000/249511 queries. users per second: 2560.96</pre>"
            ],
            "text/plain": [
              "recommendations finished on 134000/249511 queries. users per second: 2560.96"
            ]
          },
          "metadata": {},
          "output_type": "display_data"
        },
        {
          "data": {
            "text/html": [
              "<pre>recommendations finished on 135000/249511 queries. users per second: 2561.39</pre>"
            ],
            "text/plain": [
              "recommendations finished on 135000/249511 queries. users per second: 2561.39"
            ]
          },
          "metadata": {},
          "output_type": "display_data"
        },
        {
          "data": {
            "text/html": [
              "<pre>recommendations finished on 136000/249511 queries. users per second: 2561.71</pre>"
            ],
            "text/plain": [
              "recommendations finished on 136000/249511 queries. users per second: 2561.71"
            ]
          },
          "metadata": {},
          "output_type": "display_data"
        },
        {
          "data": {
            "text/html": [
              "<pre>recommendations finished on 137000/249511 queries. users per second: 2562.75</pre>"
            ],
            "text/plain": [
              "recommendations finished on 137000/249511 queries. users per second: 2562.75"
            ]
          },
          "metadata": {},
          "output_type": "display_data"
        },
        {
          "data": {
            "text/html": [
              "<pre>recommendations finished on 138000/249511 queries. users per second: 2563.22</pre>"
            ],
            "text/plain": [
              "recommendations finished on 138000/249511 queries. users per second: 2563.22"
            ]
          },
          "metadata": {},
          "output_type": "display_data"
        },
        {
          "data": {
            "text/html": [
              "<pre>recommendations finished on 139000/249511 queries. users per second: 2564.19</pre>"
            ],
            "text/plain": [
              "recommendations finished on 139000/249511 queries. users per second: 2564.19"
            ]
          },
          "metadata": {},
          "output_type": "display_data"
        },
        {
          "data": {
            "text/html": [
              "<pre>recommendations finished on 140000/249511 queries. users per second: 2565.03</pre>"
            ],
            "text/plain": [
              "recommendations finished on 140000/249511 queries. users per second: 2565.03"
            ]
          },
          "metadata": {},
          "output_type": "display_data"
        },
        {
          "data": {
            "text/html": [
              "<pre>recommendations finished on 141000/249511 queries. users per second: 2565.68</pre>"
            ],
            "text/plain": [
              "recommendations finished on 141000/249511 queries. users per second: 2565.68"
            ]
          },
          "metadata": {},
          "output_type": "display_data"
        },
        {
          "data": {
            "text/html": [
              "<pre>recommendations finished on 142000/249511 queries. users per second: 2566.62</pre>"
            ],
            "text/plain": [
              "recommendations finished on 142000/249511 queries. users per second: 2566.62"
            ]
          },
          "metadata": {},
          "output_type": "display_data"
        },
        {
          "data": {
            "text/html": [
              "<pre>recommendations finished on 143000/249511 queries. users per second: 2567.44</pre>"
            ],
            "text/plain": [
              "recommendations finished on 143000/249511 queries. users per second: 2567.44"
            ]
          },
          "metadata": {},
          "output_type": "display_data"
        },
        {
          "data": {
            "text/html": [
              "<pre>recommendations finished on 144000/249511 queries. users per second: 2567.93</pre>"
            ],
            "text/plain": [
              "recommendations finished on 144000/249511 queries. users per second: 2567.93"
            ]
          },
          "metadata": {},
          "output_type": "display_data"
        },
        {
          "data": {
            "text/html": [
              "<pre>recommendations finished on 145000/249511 queries. users per second: 2568.68</pre>"
            ],
            "text/plain": [
              "recommendations finished on 145000/249511 queries. users per second: 2568.68"
            ]
          },
          "metadata": {},
          "output_type": "display_data"
        },
        {
          "data": {
            "text/html": [
              "<pre>recommendations finished on 146000/249511 queries. users per second: 2569.27</pre>"
            ],
            "text/plain": [
              "recommendations finished on 146000/249511 queries. users per second: 2569.27"
            ]
          },
          "metadata": {},
          "output_type": "display_data"
        },
        {
          "data": {
            "text/html": [
              "<pre>recommendations finished on 147000/249511 queries. users per second: 2568.68</pre>"
            ],
            "text/plain": [
              "recommendations finished on 147000/249511 queries. users per second: 2568.68"
            ]
          },
          "metadata": {},
          "output_type": "display_data"
        },
        {
          "data": {
            "text/html": [
              "<pre>recommendations finished on 148000/249511 queries. users per second: 2569.27</pre>"
            ],
            "text/plain": [
              "recommendations finished on 148000/249511 queries. users per second: 2569.27"
            ]
          },
          "metadata": {},
          "output_type": "display_data"
        },
        {
          "data": {
            "text/html": [
              "<pre>recommendations finished on 149000/249511 queries. users per second: 2569.78</pre>"
            ],
            "text/plain": [
              "recommendations finished on 149000/249511 queries. users per second: 2569.78"
            ]
          },
          "metadata": {},
          "output_type": "display_data"
        },
        {
          "data": {
            "text/html": [
              "<pre>recommendations finished on 150000/249511 queries. users per second: 2570.02</pre>"
            ],
            "text/plain": [
              "recommendations finished on 150000/249511 queries. users per second: 2570.02"
            ]
          },
          "metadata": {},
          "output_type": "display_data"
        },
        {
          "data": {
            "text/html": [
              "<pre>recommendations finished on 151000/249511 queries. users per second: 2570.62</pre>"
            ],
            "text/plain": [
              "recommendations finished on 151000/249511 queries. users per second: 2570.62"
            ]
          },
          "metadata": {},
          "output_type": "display_data"
        },
        {
          "data": {
            "text/html": [
              "<pre>recommendations finished on 152000/249511 queries. users per second: 2570.97</pre>"
            ],
            "text/plain": [
              "recommendations finished on 152000/249511 queries. users per second: 2570.97"
            ]
          },
          "metadata": {},
          "output_type": "display_data"
        },
        {
          "data": {
            "text/html": [
              "<pre>recommendations finished on 153000/249511 queries. users per second: 2571.6</pre>"
            ],
            "text/plain": [
              "recommendations finished on 153000/249511 queries. users per second: 2571.6"
            ]
          },
          "metadata": {},
          "output_type": "display_data"
        },
        {
          "data": {
            "text/html": [
              "<pre>recommendations finished on 154000/249511 queries. users per second: 2572.31</pre>"
            ],
            "text/plain": [
              "recommendations finished on 154000/249511 queries. users per second: 2572.31"
            ]
          },
          "metadata": {},
          "output_type": "display_data"
        },
        {
          "data": {
            "text/html": [
              "<pre>recommendations finished on 155000/249511 queries. users per second: 2572.66</pre>"
            ],
            "text/plain": [
              "recommendations finished on 155000/249511 queries. users per second: 2572.66"
            ]
          },
          "metadata": {},
          "output_type": "display_data"
        },
        {
          "data": {
            "text/html": [
              "<pre>recommendations finished on 156000/249511 queries. users per second: 2573.12</pre>"
            ],
            "text/plain": [
              "recommendations finished on 156000/249511 queries. users per second: 2573.12"
            ]
          },
          "metadata": {},
          "output_type": "display_data"
        },
        {
          "data": {
            "text/html": [
              "<pre>recommendations finished on 157000/249511 queries. users per second: 2573.69</pre>"
            ],
            "text/plain": [
              "recommendations finished on 157000/249511 queries. users per second: 2573.69"
            ]
          },
          "metadata": {},
          "output_type": "display_data"
        },
        {
          "data": {
            "text/html": [
              "<pre>recommendations finished on 158000/249511 queries. users per second: 2573.86</pre>"
            ],
            "text/plain": [
              "recommendations finished on 158000/249511 queries. users per second: 2573.86"
            ]
          },
          "metadata": {},
          "output_type": "display_data"
        },
        {
          "data": {
            "text/html": [
              "<pre>recommendations finished on 159000/249511 queries. users per second: 2574.48</pre>"
            ],
            "text/plain": [
              "recommendations finished on 159000/249511 queries. users per second: 2574.48"
            ]
          },
          "metadata": {},
          "output_type": "display_data"
        },
        {
          "data": {
            "text/html": [
              "<pre>recommendations finished on 160000/249511 queries. users per second: 2574.5</pre>"
            ],
            "text/plain": [
              "recommendations finished on 160000/249511 queries. users per second: 2574.5"
            ]
          },
          "metadata": {},
          "output_type": "display_data"
        },
        {
          "data": {
            "text/html": [
              "<pre>recommendations finished on 161000/249511 queries. users per second: 2575.23</pre>"
            ],
            "text/plain": [
              "recommendations finished on 161000/249511 queries. users per second: 2575.23"
            ]
          },
          "metadata": {},
          "output_type": "display_data"
        },
        {
          "data": {
            "text/html": [
              "<pre>recommendations finished on 162000/249511 queries. users per second: 2576.02</pre>"
            ],
            "text/plain": [
              "recommendations finished on 162000/249511 queries. users per second: 2576.02"
            ]
          },
          "metadata": {},
          "output_type": "display_data"
        },
        {
          "data": {
            "text/html": [
              "<pre>recommendations finished on 163000/249511 queries. users per second: 2576.19</pre>"
            ],
            "text/plain": [
              "recommendations finished on 163000/249511 queries. users per second: 2576.19"
            ]
          },
          "metadata": {},
          "output_type": "display_data"
        },
        {
          "data": {
            "text/html": [
              "<pre>recommendations finished on 164000/249511 queries. users per second: 2576.65</pre>"
            ],
            "text/plain": [
              "recommendations finished on 164000/249511 queries. users per second: 2576.65"
            ]
          },
          "metadata": {},
          "output_type": "display_data"
        },
        {
          "data": {
            "text/html": [
              "<pre>recommendations finished on 165000/249511 queries. users per second: 2577.28</pre>"
            ],
            "text/plain": [
              "recommendations finished on 165000/249511 queries. users per second: 2577.28"
            ]
          },
          "metadata": {},
          "output_type": "display_data"
        },
        {
          "data": {
            "text/html": [
              "<pre>recommendations finished on 166000/249511 queries. users per second: 2577.21</pre>"
            ],
            "text/plain": [
              "recommendations finished on 166000/249511 queries. users per second: 2577.21"
            ]
          },
          "metadata": {},
          "output_type": "display_data"
        },
        {
          "data": {
            "text/html": [
              "<pre>recommendations finished on 167000/249511 queries. users per second: 2577.82</pre>"
            ],
            "text/plain": [
              "recommendations finished on 167000/249511 queries. users per second: 2577.82"
            ]
          },
          "metadata": {},
          "output_type": "display_data"
        },
        {
          "data": {
            "text/html": [
              "<pre>recommendations finished on 168000/249511 queries. users per second: 2577.71</pre>"
            ],
            "text/plain": [
              "recommendations finished on 168000/249511 queries. users per second: 2577.71"
            ]
          },
          "metadata": {},
          "output_type": "display_data"
        },
        {
          "data": {
            "text/html": [
              "<pre>recommendations finished on 169000/249511 queries. users per second: 2578.02</pre>"
            ],
            "text/plain": [
              "recommendations finished on 169000/249511 queries. users per second: 2578.02"
            ]
          },
          "metadata": {},
          "output_type": "display_data"
        },
        {
          "data": {
            "text/html": [
              "<pre>recommendations finished on 170000/249511 queries. users per second: 2578.42</pre>"
            ],
            "text/plain": [
              "recommendations finished on 170000/249511 queries. users per second: 2578.42"
            ]
          },
          "metadata": {},
          "output_type": "display_data"
        },
        {
          "data": {
            "text/html": [
              "<pre>recommendations finished on 171000/249511 queries. users per second: 2578.47</pre>"
            ],
            "text/plain": [
              "recommendations finished on 171000/249511 queries. users per second: 2578.47"
            ]
          },
          "metadata": {},
          "output_type": "display_data"
        },
        {
          "data": {
            "text/html": [
              "<pre>recommendations finished on 172000/249511 queries. users per second: 2579.12</pre>"
            ],
            "text/plain": [
              "recommendations finished on 172000/249511 queries. users per second: 2579.12"
            ]
          },
          "metadata": {},
          "output_type": "display_data"
        },
        {
          "data": {
            "text/html": [
              "<pre>recommendations finished on 173000/249511 queries. users per second: 2579.74</pre>"
            ],
            "text/plain": [
              "recommendations finished on 173000/249511 queries. users per second: 2579.74"
            ]
          },
          "metadata": {},
          "output_type": "display_data"
        },
        {
          "data": {
            "text/html": [
              "<pre>recommendations finished on 174000/249511 queries. users per second: 2579.38</pre>"
            ],
            "text/plain": [
              "recommendations finished on 174000/249511 queries. users per second: 2579.38"
            ]
          },
          "metadata": {},
          "output_type": "display_data"
        },
        {
          "data": {
            "text/html": [
              "<pre>recommendations finished on 175000/249511 queries. users per second: 2579.83</pre>"
            ],
            "text/plain": [
              "recommendations finished on 175000/249511 queries. users per second: 2579.83"
            ]
          },
          "metadata": {},
          "output_type": "display_data"
        },
        {
          "data": {
            "text/html": [
              "<pre>recommendations finished on 176000/249511 queries. users per second: 2580.48</pre>"
            ],
            "text/plain": [
              "recommendations finished on 176000/249511 queries. users per second: 2580.48"
            ]
          },
          "metadata": {},
          "output_type": "display_data"
        },
        {
          "data": {
            "text/html": [
              "<pre>recommendations finished on 177000/249511 queries. users per second: 2580.7</pre>"
            ],
            "text/plain": [
              "recommendations finished on 177000/249511 queries. users per second: 2580.7"
            ]
          },
          "metadata": {},
          "output_type": "display_data"
        },
        {
          "data": {
            "text/html": [
              "<pre>recommendations finished on 178000/249511 queries. users per second: 2581.18</pre>"
            ],
            "text/plain": [
              "recommendations finished on 178000/249511 queries. users per second: 2581.18"
            ]
          },
          "metadata": {},
          "output_type": "display_data"
        },
        {
          "data": {
            "text/html": [
              "<pre>recommendations finished on 179000/249511 queries. users per second: 2581.48</pre>"
            ],
            "text/plain": [
              "recommendations finished on 179000/249511 queries. users per second: 2581.48"
            ]
          },
          "metadata": {},
          "output_type": "display_data"
        },
        {
          "data": {
            "text/html": [
              "<pre>recommendations finished on 180000/249511 queries. users per second: 2581.87</pre>"
            ],
            "text/plain": [
              "recommendations finished on 180000/249511 queries. users per second: 2581.87"
            ]
          },
          "metadata": {},
          "output_type": "display_data"
        },
        {
          "data": {
            "text/html": [
              "<pre>recommendations finished on 181000/249511 queries. users per second: 2582.26</pre>"
            ],
            "text/plain": [
              "recommendations finished on 181000/249511 queries. users per second: 2582.26"
            ]
          },
          "metadata": {},
          "output_type": "display_data"
        },
        {
          "data": {
            "text/html": [
              "<pre>recommendations finished on 182000/249511 queries. users per second: 2582.37</pre>"
            ],
            "text/plain": [
              "recommendations finished on 182000/249511 queries. users per second: 2582.37"
            ]
          },
          "metadata": {},
          "output_type": "display_data"
        },
        {
          "data": {
            "text/html": [
              "<pre>recommendations finished on 183000/249511 queries. users per second: 2582.57</pre>"
            ],
            "text/plain": [
              "recommendations finished on 183000/249511 queries. users per second: 2582.57"
            ]
          },
          "metadata": {},
          "output_type": "display_data"
        },
        {
          "data": {
            "text/html": [
              "<pre>recommendations finished on 184000/249511 queries. users per second: 2582.89</pre>"
            ],
            "text/plain": [
              "recommendations finished on 184000/249511 queries. users per second: 2582.89"
            ]
          },
          "metadata": {},
          "output_type": "display_data"
        },
        {
          "data": {
            "text/html": [
              "<pre>recommendations finished on 185000/249511 queries. users per second: 2582.98</pre>"
            ],
            "text/plain": [
              "recommendations finished on 185000/249511 queries. users per second: 2582.98"
            ]
          },
          "metadata": {},
          "output_type": "display_data"
        },
        {
          "data": {
            "text/html": [
              "<pre>recommendations finished on 186000/249511 queries. users per second: 2583.59</pre>"
            ],
            "text/plain": [
              "recommendations finished on 186000/249511 queries. users per second: 2583.59"
            ]
          },
          "metadata": {},
          "output_type": "display_data"
        },
        {
          "data": {
            "text/html": [
              "<pre>recommendations finished on 187000/249511 queries. users per second: 2584.15</pre>"
            ],
            "text/plain": [
              "recommendations finished on 187000/249511 queries. users per second: 2584.15"
            ]
          },
          "metadata": {},
          "output_type": "display_data"
        },
        {
          "data": {
            "text/html": [
              "<pre>recommendations finished on 188000/249511 queries. users per second: 2584.17</pre>"
            ],
            "text/plain": [
              "recommendations finished on 188000/249511 queries. users per second: 2584.17"
            ]
          },
          "metadata": {},
          "output_type": "display_data"
        },
        {
          "data": {
            "text/html": [
              "<pre>recommendations finished on 189000/249511 queries. users per second: 2584.61</pre>"
            ],
            "text/plain": [
              "recommendations finished on 189000/249511 queries. users per second: 2584.61"
            ]
          },
          "metadata": {},
          "output_type": "display_data"
        },
        {
          "data": {
            "text/html": [
              "<pre>recommendations finished on 190000/249511 queries. users per second: 2584.69</pre>"
            ],
            "text/plain": [
              "recommendations finished on 190000/249511 queries. users per second: 2584.69"
            ]
          },
          "metadata": {},
          "output_type": "display_data"
        },
        {
          "data": {
            "text/html": [
              "<pre>recommendations finished on 191000/249511 queries. users per second: 2585.25</pre>"
            ],
            "text/plain": [
              "recommendations finished on 191000/249511 queries. users per second: 2585.25"
            ]
          },
          "metadata": {},
          "output_type": "display_data"
        },
        {
          "data": {
            "text/html": [
              "<pre>recommendations finished on 192000/249511 queries. users per second: 2585.52</pre>"
            ],
            "text/plain": [
              "recommendations finished on 192000/249511 queries. users per second: 2585.52"
            ]
          },
          "metadata": {},
          "output_type": "display_data"
        },
        {
          "data": {
            "text/html": [
              "<pre>recommendations finished on 193000/249511 queries. users per second: 2585.6</pre>"
            ],
            "text/plain": [
              "recommendations finished on 193000/249511 queries. users per second: 2585.6"
            ]
          },
          "metadata": {},
          "output_type": "display_data"
        },
        {
          "data": {
            "text/html": [
              "<pre>recommendations finished on 194000/249511 queries. users per second: 2585.94</pre>"
            ],
            "text/plain": [
              "recommendations finished on 194000/249511 queries. users per second: 2585.94"
            ]
          },
          "metadata": {},
          "output_type": "display_data"
        },
        {
          "data": {
            "text/html": [
              "<pre>recommendations finished on 195000/249511 queries. users per second: 2586.31</pre>"
            ],
            "text/plain": [
              "recommendations finished on 195000/249511 queries. users per second: 2586.31"
            ]
          },
          "metadata": {},
          "output_type": "display_data"
        },
        {
          "data": {
            "text/html": [
              "<pre>recommendations finished on 196000/249511 queries. users per second: 2586.58</pre>"
            ],
            "text/plain": [
              "recommendations finished on 196000/249511 queries. users per second: 2586.58"
            ]
          },
          "metadata": {},
          "output_type": "display_data"
        },
        {
          "data": {
            "text/html": [
              "<pre>recommendations finished on 197000/249511 queries. users per second: 2586.93</pre>"
            ],
            "text/plain": [
              "recommendations finished on 197000/249511 queries. users per second: 2586.93"
            ]
          },
          "metadata": {},
          "output_type": "display_data"
        },
        {
          "data": {
            "text/html": [
              "<pre>recommendations finished on 198000/249511 queries. users per second: 2587.24</pre>"
            ],
            "text/plain": [
              "recommendations finished on 198000/249511 queries. users per second: 2587.24"
            ]
          },
          "metadata": {},
          "output_type": "display_data"
        },
        {
          "data": {
            "text/html": [
              "<pre>recommendations finished on 199000/249511 queries. users per second: 2587.42</pre>"
            ],
            "text/plain": [
              "recommendations finished on 199000/249511 queries. users per second: 2587.42"
            ]
          },
          "metadata": {},
          "output_type": "display_data"
        },
        {
          "data": {
            "text/html": [
              "<pre>recommendations finished on 200000/249511 queries. users per second: 2587.74</pre>"
            ],
            "text/plain": [
              "recommendations finished on 200000/249511 queries. users per second: 2587.74"
            ]
          },
          "metadata": {},
          "output_type": "display_data"
        },
        {
          "data": {
            "text/html": [
              "<pre>recommendations finished on 201000/249511 queries. users per second: 2586.97</pre>"
            ],
            "text/plain": [
              "recommendations finished on 201000/249511 queries. users per second: 2586.97"
            ]
          },
          "metadata": {},
          "output_type": "display_data"
        },
        {
          "data": {
            "text/html": [
              "<pre>recommendations finished on 202000/249511 queries. users per second: 2587.43</pre>"
            ],
            "text/plain": [
              "recommendations finished on 202000/249511 queries. users per second: 2587.43"
            ]
          },
          "metadata": {},
          "output_type": "display_data"
        },
        {
          "data": {
            "text/html": [
              "<pre>recommendations finished on 203000/249511 queries. users per second: 2587.89</pre>"
            ],
            "text/plain": [
              "recommendations finished on 203000/249511 queries. users per second: 2587.89"
            ]
          },
          "metadata": {},
          "output_type": "display_data"
        },
        {
          "data": {
            "text/html": [
              "<pre>recommendations finished on 204000/249511 queries. users per second: 2587.99</pre>"
            ],
            "text/plain": [
              "recommendations finished on 204000/249511 queries. users per second: 2587.99"
            ]
          },
          "metadata": {},
          "output_type": "display_data"
        },
        {
          "data": {
            "text/html": [
              "<pre>recommendations finished on 205000/249511 queries. users per second: 2588.42</pre>"
            ],
            "text/plain": [
              "recommendations finished on 205000/249511 queries. users per second: 2588.42"
            ]
          },
          "metadata": {},
          "output_type": "display_data"
        },
        {
          "data": {
            "text/html": [
              "<pre>recommendations finished on 206000/249511 queries. users per second: 2588.68</pre>"
            ],
            "text/plain": [
              "recommendations finished on 206000/249511 queries. users per second: 2588.68"
            ]
          },
          "metadata": {},
          "output_type": "display_data"
        },
        {
          "data": {
            "text/html": [
              "<pre>recommendations finished on 207000/249511 queries. users per second: 2588.52</pre>"
            ],
            "text/plain": [
              "recommendations finished on 207000/249511 queries. users per second: 2588.52"
            ]
          },
          "metadata": {},
          "output_type": "display_data"
        },
        {
          "data": {
            "text/html": [
              "<pre>recommendations finished on 208000/249511 queries. users per second: 2589.12</pre>"
            ],
            "text/plain": [
              "recommendations finished on 208000/249511 queries. users per second: 2589.12"
            ]
          },
          "metadata": {},
          "output_type": "display_data"
        },
        {
          "data": {
            "text/html": [
              "<pre>recommendations finished on 209000/249511 queries. users per second: 2589.24</pre>"
            ],
            "text/plain": [
              "recommendations finished on 209000/249511 queries. users per second: 2589.24"
            ]
          },
          "metadata": {},
          "output_type": "display_data"
        },
        {
          "data": {
            "text/html": [
              "<pre>recommendations finished on 210000/249511 queries. users per second: 2589.75</pre>"
            ],
            "text/plain": [
              "recommendations finished on 210000/249511 queries. users per second: 2589.75"
            ]
          },
          "metadata": {},
          "output_type": "display_data"
        },
        {
          "data": {
            "text/html": [
              "<pre>recommendations finished on 211000/249511 queries. users per second: 2590.27</pre>"
            ],
            "text/plain": [
              "recommendations finished on 211000/249511 queries. users per second: 2590.27"
            ]
          },
          "metadata": {},
          "output_type": "display_data"
        },
        {
          "data": {
            "text/html": [
              "<pre>recommendations finished on 212000/249511 queries. users per second: 2590.33</pre>"
            ],
            "text/plain": [
              "recommendations finished on 212000/249511 queries. users per second: 2590.33"
            ]
          },
          "metadata": {},
          "output_type": "display_data"
        },
        {
          "data": {
            "text/html": [
              "<pre>recommendations finished on 213000/249511 queries. users per second: 2590.74</pre>"
            ],
            "text/plain": [
              "recommendations finished on 213000/249511 queries. users per second: 2590.74"
            ]
          },
          "metadata": {},
          "output_type": "display_data"
        },
        {
          "data": {
            "text/html": [
              "<pre>recommendations finished on 214000/249511 queries. users per second: 2591.27</pre>"
            ],
            "text/plain": [
              "recommendations finished on 214000/249511 queries. users per second: 2591.27"
            ]
          },
          "metadata": {},
          "output_type": "display_data"
        },
        {
          "data": {
            "text/html": [
              "<pre>recommendations finished on 215000/249511 queries. users per second: 2591.29</pre>"
            ],
            "text/plain": [
              "recommendations finished on 215000/249511 queries. users per second: 2591.29"
            ]
          },
          "metadata": {},
          "output_type": "display_data"
        },
        {
          "data": {
            "text/html": [
              "<pre>recommendations finished on 216000/249511 queries. users per second: 2591.71</pre>"
            ],
            "text/plain": [
              "recommendations finished on 216000/249511 queries. users per second: 2591.71"
            ]
          },
          "metadata": {},
          "output_type": "display_data"
        },
        {
          "data": {
            "text/html": [
              "<pre>recommendations finished on 217000/249511 queries. users per second: 2591.85</pre>"
            ],
            "text/plain": [
              "recommendations finished on 217000/249511 queries. users per second: 2591.85"
            ]
          },
          "metadata": {},
          "output_type": "display_data"
        },
        {
          "data": {
            "text/html": [
              "<pre>recommendations finished on 218000/249511 queries. users per second: 2591.92</pre>"
            ],
            "text/plain": [
              "recommendations finished on 218000/249511 queries. users per second: 2591.92"
            ]
          },
          "metadata": {},
          "output_type": "display_data"
        },
        {
          "data": {
            "text/html": [
              "<pre>recommendations finished on 219000/249511 queries. users per second: 2592.27</pre>"
            ],
            "text/plain": [
              "recommendations finished on 219000/249511 queries. users per second: 2592.27"
            ]
          },
          "metadata": {},
          "output_type": "display_data"
        },
        {
          "data": {
            "text/html": [
              "<pre>recommendations finished on 220000/249511 queries. users per second: 2592.17</pre>"
            ],
            "text/plain": [
              "recommendations finished on 220000/249511 queries. users per second: 2592.17"
            ]
          },
          "metadata": {},
          "output_type": "display_data"
        },
        {
          "data": {
            "text/html": [
              "<pre>recommendations finished on 221000/249511 queries. users per second: 2592.38</pre>"
            ],
            "text/plain": [
              "recommendations finished on 221000/249511 queries. users per second: 2592.38"
            ]
          },
          "metadata": {},
          "output_type": "display_data"
        },
        {
          "data": {
            "text/html": [
              "<pre>recommendations finished on 222000/249511 queries. users per second: 2592.62</pre>"
            ],
            "text/plain": [
              "recommendations finished on 222000/249511 queries. users per second: 2592.62"
            ]
          },
          "metadata": {},
          "output_type": "display_data"
        },
        {
          "data": {
            "text/html": [
              "<pre>recommendations finished on 223000/249511 queries. users per second: 2592.64</pre>"
            ],
            "text/plain": [
              "recommendations finished on 223000/249511 queries. users per second: 2592.64"
            ]
          },
          "metadata": {},
          "output_type": "display_data"
        },
        {
          "data": {
            "text/html": [
              "<pre>recommendations finished on 224000/249511 queries. users per second: 2592.88</pre>"
            ],
            "text/plain": [
              "recommendations finished on 224000/249511 queries. users per second: 2592.88"
            ]
          },
          "metadata": {},
          "output_type": "display_data"
        },
        {
          "data": {
            "text/html": [
              "<pre>recommendations finished on 225000/249511 queries. users per second: 2593.26</pre>"
            ],
            "text/plain": [
              "recommendations finished on 225000/249511 queries. users per second: 2593.26"
            ]
          },
          "metadata": {},
          "output_type": "display_data"
        },
        {
          "data": {
            "text/html": [
              "<pre>recommendations finished on 226000/249511 queries. users per second: 2593.24</pre>"
            ],
            "text/plain": [
              "recommendations finished on 226000/249511 queries. users per second: 2593.24"
            ]
          },
          "metadata": {},
          "output_type": "display_data"
        },
        {
          "data": {
            "text/html": [
              "<pre>recommendations finished on 227000/249511 queries. users per second: 2593.6</pre>"
            ],
            "text/plain": [
              "recommendations finished on 227000/249511 queries. users per second: 2593.6"
            ]
          },
          "metadata": {},
          "output_type": "display_data"
        },
        {
          "data": {
            "text/html": [
              "<pre>recommendations finished on 228000/249511 queries. users per second: 2593.91</pre>"
            ],
            "text/plain": [
              "recommendations finished on 228000/249511 queries. users per second: 2593.91"
            ]
          },
          "metadata": {},
          "output_type": "display_data"
        },
        {
          "data": {
            "text/html": [
              "<pre>recommendations finished on 229000/249511 queries. users per second: 2593.49</pre>"
            ],
            "text/plain": [
              "recommendations finished on 229000/249511 queries. users per second: 2593.49"
            ]
          },
          "metadata": {},
          "output_type": "display_data"
        },
        {
          "data": {
            "text/html": [
              "<pre>recommendations finished on 230000/249511 queries. users per second: 2593.99</pre>"
            ],
            "text/plain": [
              "recommendations finished on 230000/249511 queries. users per second: 2593.99"
            ]
          },
          "metadata": {},
          "output_type": "display_data"
        },
        {
          "data": {
            "text/html": [
              "<pre>recommendations finished on 231000/249511 queries. users per second: 2594.14</pre>"
            ],
            "text/plain": [
              "recommendations finished on 231000/249511 queries. users per second: 2594.14"
            ]
          },
          "metadata": {},
          "output_type": "display_data"
        },
        {
          "data": {
            "text/html": [
              "<pre>recommendations finished on 232000/249511 queries. users per second: 2594.14</pre>"
            ],
            "text/plain": [
              "recommendations finished on 232000/249511 queries. users per second: 2594.14"
            ]
          },
          "metadata": {},
          "output_type": "display_data"
        },
        {
          "data": {
            "text/html": [
              "<pre>recommendations finished on 233000/249511 queries. users per second: 2594.47</pre>"
            ],
            "text/plain": [
              "recommendations finished on 233000/249511 queries. users per second: 2594.47"
            ]
          },
          "metadata": {},
          "output_type": "display_data"
        },
        {
          "data": {
            "text/html": [
              "<pre>recommendations finished on 234000/249511 queries. users per second: 2594.44</pre>"
            ],
            "text/plain": [
              "recommendations finished on 234000/249511 queries. users per second: 2594.44"
            ]
          },
          "metadata": {},
          "output_type": "display_data"
        },
        {
          "data": {
            "text/html": [
              "<pre>recommendations finished on 235000/249511 queries. users per second: 2594.72</pre>"
            ],
            "text/plain": [
              "recommendations finished on 235000/249511 queries. users per second: 2594.72"
            ]
          },
          "metadata": {},
          "output_type": "display_data"
        },
        {
          "data": {
            "text/html": [
              "<pre>recommendations finished on 236000/249511 queries. users per second: 2595.1</pre>"
            ],
            "text/plain": [
              "recommendations finished on 236000/249511 queries. users per second: 2595.1"
            ]
          },
          "metadata": {},
          "output_type": "display_data"
        },
        {
          "data": {
            "text/html": [
              "<pre>recommendations finished on 237000/249511 queries. users per second: 2595.09</pre>"
            ],
            "text/plain": [
              "recommendations finished on 237000/249511 queries. users per second: 2595.09"
            ]
          },
          "metadata": {},
          "output_type": "display_data"
        },
        {
          "data": {
            "text/html": [
              "<pre>recommendations finished on 238000/249511 queries. users per second: 2595.55</pre>"
            ],
            "text/plain": [
              "recommendations finished on 238000/249511 queries. users per second: 2595.55"
            ]
          },
          "metadata": {},
          "output_type": "display_data"
        },
        {
          "data": {
            "text/html": [
              "<pre>recommendations finished on 239000/249511 queries. users per second: 2595.69</pre>"
            ],
            "text/plain": [
              "recommendations finished on 239000/249511 queries. users per second: 2595.69"
            ]
          },
          "metadata": {},
          "output_type": "display_data"
        },
        {
          "data": {
            "text/html": [
              "<pre>recommendations finished on 240000/249511 queries. users per second: 2596.08</pre>"
            ],
            "text/plain": [
              "recommendations finished on 240000/249511 queries. users per second: 2596.08"
            ]
          },
          "metadata": {},
          "output_type": "display_data"
        },
        {
          "data": {
            "text/html": [
              "<pre>recommendations finished on 241000/249511 queries. users per second: 2596.62</pre>"
            ],
            "text/plain": [
              "recommendations finished on 241000/249511 queries. users per second: 2596.62"
            ]
          },
          "metadata": {},
          "output_type": "display_data"
        },
        {
          "data": {
            "text/html": [
              "<pre>recommendations finished on 242000/249511 queries. users per second: 2596.79</pre>"
            ],
            "text/plain": [
              "recommendations finished on 242000/249511 queries. users per second: 2596.79"
            ]
          },
          "metadata": {},
          "output_type": "display_data"
        },
        {
          "data": {
            "text/html": [
              "<pre>recommendations finished on 243000/249511 queries. users per second: 2597.15</pre>"
            ],
            "text/plain": [
              "recommendations finished on 243000/249511 queries. users per second: 2597.15"
            ]
          },
          "metadata": {},
          "output_type": "display_data"
        },
        {
          "data": {
            "text/html": [
              "<pre>recommendations finished on 244000/249511 queries. users per second: 2597.55</pre>"
            ],
            "text/plain": [
              "recommendations finished on 244000/249511 queries. users per second: 2597.55"
            ]
          },
          "metadata": {},
          "output_type": "display_data"
        },
        {
          "data": {
            "text/html": [
              "<pre>recommendations finished on 245000/249511 queries. users per second: 2597.54</pre>"
            ],
            "text/plain": [
              "recommendations finished on 245000/249511 queries. users per second: 2597.54"
            ]
          },
          "metadata": {},
          "output_type": "display_data"
        },
        {
          "data": {
            "text/html": [
              "<pre>recommendations finished on 246000/249511 queries. users per second: 2597.81</pre>"
            ],
            "text/plain": [
              "recommendations finished on 246000/249511 queries. users per second: 2597.81"
            ]
          },
          "metadata": {},
          "output_type": "display_data"
        },
        {
          "data": {
            "text/html": [
              "<pre>recommendations finished on 247000/249511 queries. users per second: 2597.81</pre>"
            ],
            "text/plain": [
              "recommendations finished on 247000/249511 queries. users per second: 2597.81"
            ]
          },
          "metadata": {},
          "output_type": "display_data"
        },
        {
          "data": {
            "text/html": [
              "<pre>recommendations finished on 248000/249511 queries. users per second: 2597.5</pre>"
            ],
            "text/plain": [
              "recommendations finished on 248000/249511 queries. users per second: 2597.5"
            ]
          },
          "metadata": {},
          "output_type": "display_data"
        },
        {
          "data": {
            "text/html": [
              "<pre>recommendations finished on 249000/249511 queries. users per second: 2597.61</pre>"
            ],
            "text/plain": [
              "recommendations finished on 249000/249511 queries. users per second: 2597.61"
            ]
          },
          "metadata": {},
          "output_type": "display_data"
        },
        {
          "name": "stdout",
          "output_type": "stream",
          "text": [
            "+-------------+------------+----------------------+------+\n",
            "| customer_id | article_id |        score         | rank |\n",
            "+-------------+------------+----------------------+------+\n",
            "|    13990    |   96816    | 0.02265251033446368  |  1   |\n",
            "|    13990    |   99292    | 0.02029078848221723  |  2   |\n",
            "|    13990    |   99020    | 0.016634660608628216 |  3   |\n",
            "|    13990    |   99277    | 0.016199441517100614 |  4   |\n",
            "|    13990    |   98262    | 0.013634345110724954 |  5   |\n",
            "|    13990    |   64373    | 0.013183127431308521 |  6   |\n",
            "|    13990    |   99901    | 0.011291921138763428 |  7   |\n",
            "|    13990    |   98961    | 0.010768031372743495 |  8   |\n",
            "|    13990    |   98572    | 0.009394526481628418 |  9   |\n",
            "|    13990    |   81609    | 0.00925880319931928  |  10  |\n",
            "|    13990    |   100773   | 0.008978885762831745 |  11  |\n",
            "|    13990    |   63051    | 0.008935935357037713 |  12  |\n",
            "|    444730   |   75913    | 0.03952847421169281  |  1   |\n",
            "|    444730   |   98194    | 0.03466876596212387  |  2   |\n",
            "|    444730   |   93941    | 0.024514518678188324 |  3   |\n",
            "|    444730   |   96165    | 0.024514518678188324 |  4   |\n",
            "|    444730   |   78192    | 0.023741327226161957 |  5   |\n",
            "|    444730   |   77649    | 0.023729190230369568 |  6   |\n",
            "|    444730   |   84382    | 0.02101830393075943  |  7   |\n",
            "|    444730   |   101692   | 0.02001602202653885  |  8   |\n",
            "|    444730   |   78219    | 0.02001602202653885  |  9   |\n",
            "|    444730   |   79183    | 0.019764237105846405 |  10  |\n",
            "|    444730   |   95883    | 0.018729694187641144 |  11  |\n",
            "|    444730   |   96528    | 0.01748845726251602  |  12  |\n",
            "|    342821   |   92678    | 0.05717712640762329  |  1   |\n",
            "|    342821   |   89146    | 0.04589895009994507  |  2   |\n",
            "|    342821   |   93532    | 0.04589895009994507  |  3   |\n",
            "|    342821   |   86465    | 0.040430331230163576 |  4   |\n",
            "|    342821   |   86734    | 0.040430331230163576 |  5   |\n",
            "|    342821   |   71228    | 0.03999999761581421  |  6   |\n",
            "+-------------+------------+----------------------+------+\n",
            "[2994132 rows x 4 columns]\n",
            "\n"
          ]
        }
      ],
      "source": [
        "cosine = tc.item_similarity_recommender.create(dfS_train, \n",
        "                                              user_id='customer_id', \n",
        "                                              item_id='article_id',\n",
        "                                              similarity_type='cosine')\n",
        "# recommend k products for a list of users (None corresponds to all users) \n",
        "recommendation = cosine.recommend(users=None, k=12)\n",
        "# print the n first recommendations\n",
        "recommendation.print_rows(30)"
      ]
    },
    {
      "cell_type": "code",
      "execution_count": null,
      "metadata": {
        "colab": {
          "base_uri": "https://localhost:8080/"
        },
        "id": "VnH4UBo-T44m",
        "outputId": "5f5c1178-d42d-44b0-b9cf-b893410e41de"
      },
      "outputs": [
        {
          "name": "stdout",
          "output_type": "stream",
          "text": [
            "+-------------+------------+----------------------+------+\n",
            "| customer_id | article_id |        score         | rank |\n",
            "+-------------+------------+----------------------+------+\n",
            "|    13990    |   96816    | 0.02265251033446368  |  1   |\n",
            "|    13990    |   99292    | 0.02029078848221723  |  2   |\n",
            "|    13990    |   99020    | 0.016634660608628216 |  3   |\n",
            "|    13990    |   99277    | 0.016199441517100614 |  4   |\n",
            "|    13990    |   98262    | 0.013634345110724954 |  5   |\n",
            "|    13990    |   64373    | 0.013183127431308521 |  6   |\n",
            "|    13990    |   99901    | 0.011291921138763428 |  7   |\n",
            "|    13990    |   98961    | 0.010768031372743495 |  8   |\n",
            "|    13990    |   98572    | 0.009394526481628418 |  9   |\n",
            "|    13990    |   81609    | 0.00925880319931928  |  10  |\n",
            "|    13990    |   100773   | 0.008978885762831745 |  11  |\n",
            "|    13990    |   63051    | 0.008935935357037713 |  12  |\n",
            "|    444730   |   75913    | 0.03952847421169281  |  1   |\n",
            "|    444730   |   98194    | 0.03466876596212387  |  2   |\n",
            "|    444730   |   93941    | 0.024514518678188324 |  3   |\n",
            "|    444730   |   96165    | 0.024514518678188324 |  4   |\n",
            "|    444730   |   78192    | 0.023741327226161957 |  5   |\n",
            "|    444730   |   77649    | 0.023729190230369568 |  6   |\n",
            "|    444730   |   84382    | 0.02101830393075943  |  7   |\n",
            "|    444730   |   101692   | 0.02001602202653885  |  8   |\n",
            "|    444730   |   78219    | 0.02001602202653885  |  9   |\n",
            "|    444730   |   79183    | 0.019764237105846405 |  10  |\n",
            "|    444730   |   95883    | 0.018729694187641144 |  11  |\n",
            "|    444730   |   96528    | 0.01748845726251602  |  12  |\n",
            "|    342821   |   92678    | 0.05717712640762329  |  1   |\n",
            "|    342821   |   89146    | 0.04589895009994507  |  2   |\n",
            "|    342821   |   93532    | 0.04589895009994507  |  3   |\n",
            "|    342821   |   86465    | 0.040430331230163576 |  4   |\n",
            "|    342821   |   86734    | 0.040430331230163576 |  5   |\n",
            "|    342821   |   71228    | 0.03999999761581421  |  6   |\n",
            "|    342821   |   63381    | 0.03999999761581421  |  7   |\n",
            "|    342821   |   70854    | 0.03999999761581421  |  8   |\n",
            "|    342821   |   87332    | 0.03672950267791748  |  9   |\n",
            "|    342821   |   93440    | 0.03535534143447876  |  10  |\n",
            "|    342821   |   83310    | 0.03409267663955688  |  11  |\n",
            "|    342821   |   90669    | 0.033011221885681154 |  12  |\n",
            "|   1333021   |   85074    | 0.05754351615905762  |  1   |\n",
            "|   1333021   |   70689    | 0.05754351615905762  |  2   |\n",
            "|   1333021   |   103582   | 0.05754351615905762  |  3   |\n",
            "|   1333021   |   68878    | 0.05754351615905762  |  4   |\n",
            "|   1333021   |   36478    | 0.05754351615905762  |  5   |\n",
            "|   1333021   |   99658    | 0.04068940877914429  |  6   |\n",
            "|   1333021   |   103451   | 0.04068940877914429  |  7   |\n",
            "|   1333021   |   103212   | 0.04068940877914429  |  8   |\n",
            "|   1333021   |   80633    | 0.04068940877914429  |  9   |\n",
            "|   1333021   |    8294    | 0.04068940877914429  |  10  |\n",
            "|   1333021   |   97911    | 0.036321163177490234 |  11  |\n",
            "|   1333021   |   62859    | 0.03460186719894409  |  12  |\n",
            "|    639571   |   95599    | 0.04899202287197113  |  1   |\n",
            "|    639571   |   99233    | 0.03754819929599762  |  2   |\n",
            "|    639571   |   11971    | 0.023622781038284302 |  3   |\n",
            "|    639571   |   90210    | 0.023622781038284302 |  4   |\n",
            "|    639571   |   67516    | 0.016816824674606323 |  5   |\n",
            "|    639571   |    4372    | 0.016816824674606323 |  6   |\n",
            "|    639571   |   13656    | 0.016816824674606323 |  7   |\n",
            "|    639571   |    5030    | 0.016816824674606323 |  8   |\n",
            "|    639571   |   103497   | 0.016816824674606323 |  9   |\n",
            "|    639571   |   89772    | 0.016816824674606323 |  10  |\n",
            "|    639571   |   55936    | 0.016703829169273376 |  11  |\n",
            "|    639571   |   82772    | 0.016703829169273376 |  12  |\n",
            "|    140362   |   101290   | 0.07046106457710266  |  1   |\n",
            "|    140362   |   98843    | 0.05753123760223389  |  2   |\n",
            "|    140362   |   101448   | 0.05753123760223389  |  3   |\n",
            "|    140362   |   100866   | 0.05753123760223389  |  4   |\n",
            "|    140362   |   74805    | 0.05661386251449585  |  5   |\n",
            "|    140362   |   53096    | 0.05661386251449585  |  6   |\n",
            "|    140362   |   77276    | 0.05661386251449585  |  7   |\n",
            "|    140362   |   47029    | 0.05661386251449585  |  8   |\n",
            "|    140362   |   40360    | 0.05661386251449585  |  9   |\n",
            "|    140362   |   101123   | 0.049823492765426636 |  10  |\n",
            "|    140362   |   89309    | 0.049823492765426636 |  11  |\n",
            "|    140362   |   101389   | 0.044563472270965576 |  12  |\n",
            "|      20     |   65087    | 0.06950479745864868  |  1   |\n",
            "|      20     |   72308    |  0.0684619943300883  |  2   |\n",
            "|      20     |   103405   | 0.06299408276875813  |  3   |\n",
            "|      20     |    5014    | 0.05555556217829386  |  4   |\n",
            "|      20     |   56688    | 0.05555556217829386  |  5   |\n",
            "|      20     |   18947    | 0.048397680123647056 |  6   |\n",
            "|      20     |   75218    | 0.04536092281341553  |  7   |\n",
            "|      20     |   67032    | 0.04454354445139567  |  8   |\n",
            "|      20     |   88007    | 0.040128608544667564 |  9   |\n",
            "|      20     |   62236    | 0.03984095652898153  |  10  |\n",
            "|      20     |   57930    | 0.036369641621907554 |  11  |\n",
            "|      20     |   19206    | 0.03513642152150472  |  12  |\n",
            "|   1333022   |   95638    | 0.07766562700271606  |  1   |\n",
            "|   1333022   |   97143    | 0.07339245080947876  |  2   |\n",
            "|   1333022   |   60019    | 0.06311941146850586  |  3   |\n",
            "|   1333022   |   98354    | 0.06311941146850586  |  4   |\n",
            "|   1333022   |   34942    | 0.06311941146850586  |  5   |\n",
            "|   1333022   |   60317    | 0.06311941146850586  |  6   |\n",
            "|   1333022   |   97356    | 0.05975699424743652  |  7   |\n",
            "|   1333022   |   63728    | 0.058353960514068604 |  8   |\n",
            "|   1333022   |   97560    | 0.04820829629898071  |  9   |\n",
            "|   1333022   |    3979    |  0.0446321964263916  |  10  |\n",
            "|   1333022   |   64216    |  0.0446321964263916  |  11  |\n",
            "|   1333022   |   77730    |  0.0446321964263916  |  12  |\n",
            "|    101480   |   65091    | 0.040824830532073975 |  1   |\n",
            "|    101480   |   100090   | 0.03047926425933838  |  2   |\n",
            "|    101480   |   64783    | 0.029250895977020262 |  3   |\n",
            "|    101480   |   99166    | 0.022086310386657714 |  4   |\n",
            "+-------------+------------+----------------------+------+\n",
            "[2994132 rows x 4 columns]\n",
            "\n"
          ]
        }
      ],
      "source": [
        "recommendation.print_rows(100)"
      ]
    },
    {
      "cell_type": "code",
      "execution_count": null,
      "metadata": {
        "colab": {
          "base_uri": "https://localhost:8080/",
          "height": 1000
        },
        "id": "gq17PZatSVol",
        "outputId": "a77a0dc9-f755-4aba-cb98-0dbc643fc275"
      },
      "outputs": [
        {
          "data": {
            "text/html": [
              "<pre>recommendations finished on 1000/68984 queries. users per second: 1904.4</pre>"
            ],
            "text/plain": [
              "recommendations finished on 1000/68984 queries. users per second: 1904.4"
            ]
          },
          "metadata": {},
          "output_type": "display_data"
        },
        {
          "data": {
            "text/html": [
              "<pre>recommendations finished on 2000/68984 queries. users per second: 1848.76</pre>"
            ],
            "text/plain": [
              "recommendations finished on 2000/68984 queries. users per second: 1848.76"
            ]
          },
          "metadata": {},
          "output_type": "display_data"
        },
        {
          "data": {
            "text/html": [
              "<pre>recommendations finished on 3000/68984 queries. users per second: 1850.98</pre>"
            ],
            "text/plain": [
              "recommendations finished on 3000/68984 queries. users per second: 1850.98"
            ]
          },
          "metadata": {},
          "output_type": "display_data"
        },
        {
          "data": {
            "text/html": [
              "<pre>recommendations finished on 4000/68984 queries. users per second: 1844.35</pre>"
            ],
            "text/plain": [
              "recommendations finished on 4000/68984 queries. users per second: 1844.35"
            ]
          },
          "metadata": {},
          "output_type": "display_data"
        },
        {
          "data": {
            "text/html": [
              "<pre>recommendations finished on 5000/68984 queries. users per second: 1855.41</pre>"
            ],
            "text/plain": [
              "recommendations finished on 5000/68984 queries. users per second: 1855.41"
            ]
          },
          "metadata": {},
          "output_type": "display_data"
        },
        {
          "data": {
            "text/html": [
              "<pre>recommendations finished on 6000/68984 queries. users per second: 1829.44</pre>"
            ],
            "text/plain": [
              "recommendations finished on 6000/68984 queries. users per second: 1829.44"
            ]
          },
          "metadata": {},
          "output_type": "display_data"
        },
        {
          "data": {
            "text/html": [
              "<pre>recommendations finished on 7000/68984 queries. users per second: 1831.34</pre>"
            ],
            "text/plain": [
              "recommendations finished on 7000/68984 queries. users per second: 1831.34"
            ]
          },
          "metadata": {},
          "output_type": "display_data"
        },
        {
          "data": {
            "text/html": [
              "<pre>recommendations finished on 8000/68984 queries. users per second: 1832.52</pre>"
            ],
            "text/plain": [
              "recommendations finished on 8000/68984 queries. users per second: 1832.52"
            ]
          },
          "metadata": {},
          "output_type": "display_data"
        },
        {
          "data": {
            "text/html": [
              "<pre>recommendations finished on 9000/68984 queries. users per second: 1833.83</pre>"
            ],
            "text/plain": [
              "recommendations finished on 9000/68984 queries. users per second: 1833.83"
            ]
          },
          "metadata": {},
          "output_type": "display_data"
        },
        {
          "data": {
            "text/html": [
              "<pre>recommendations finished on 10000/68984 queries. users per second: 1838.2</pre>"
            ],
            "text/plain": [
              "recommendations finished on 10000/68984 queries. users per second: 1838.2"
            ]
          },
          "metadata": {},
          "output_type": "display_data"
        },
        {
          "data": {
            "text/html": [
              "<pre>recommendations finished on 11000/68984 queries. users per second: 1836.83</pre>"
            ],
            "text/plain": [
              "recommendations finished on 11000/68984 queries. users per second: 1836.83"
            ]
          },
          "metadata": {},
          "output_type": "display_data"
        },
        {
          "data": {
            "text/html": [
              "<pre>recommendations finished on 12000/68984 queries. users per second: 1837.96</pre>"
            ],
            "text/plain": [
              "recommendations finished on 12000/68984 queries. users per second: 1837.96"
            ]
          },
          "metadata": {},
          "output_type": "display_data"
        },
        {
          "data": {
            "text/html": [
              "<pre>recommendations finished on 13000/68984 queries. users per second: 1840.32</pre>"
            ],
            "text/plain": [
              "recommendations finished on 13000/68984 queries. users per second: 1840.32"
            ]
          },
          "metadata": {},
          "output_type": "display_data"
        },
        {
          "data": {
            "text/html": [
              "<pre>recommendations finished on 14000/68984 queries. users per second: 1843.86</pre>"
            ],
            "text/plain": [
              "recommendations finished on 14000/68984 queries. users per second: 1843.86"
            ]
          },
          "metadata": {},
          "output_type": "display_data"
        },
        {
          "data": {
            "text/html": [
              "<pre>recommendations finished on 15000/68984 queries. users per second: 1845.11</pre>"
            ],
            "text/plain": [
              "recommendations finished on 15000/68984 queries. users per second: 1845.11"
            ]
          },
          "metadata": {},
          "output_type": "display_data"
        },
        {
          "data": {
            "text/html": [
              "<pre>recommendations finished on 16000/68984 queries. users per second: 1845.59</pre>"
            ],
            "text/plain": [
              "recommendations finished on 16000/68984 queries. users per second: 1845.59"
            ]
          },
          "metadata": {},
          "output_type": "display_data"
        },
        {
          "data": {
            "text/html": [
              "<pre>recommendations finished on 17000/68984 queries. users per second: 1849.65</pre>"
            ],
            "text/plain": [
              "recommendations finished on 17000/68984 queries. users per second: 1849.65"
            ]
          },
          "metadata": {},
          "output_type": "display_data"
        },
        {
          "data": {
            "text/html": [
              "<pre>recommendations finished on 18000/68984 queries. users per second: 1847.51</pre>"
            ],
            "text/plain": [
              "recommendations finished on 18000/68984 queries. users per second: 1847.51"
            ]
          },
          "metadata": {},
          "output_type": "display_data"
        },
        {
          "data": {
            "text/html": [
              "<pre>recommendations finished on 19000/68984 queries. users per second: 1847.47</pre>"
            ],
            "text/plain": [
              "recommendations finished on 19000/68984 queries. users per second: 1847.47"
            ]
          },
          "metadata": {},
          "output_type": "display_data"
        },
        {
          "data": {
            "text/html": [
              "<pre>recommendations finished on 20000/68984 queries. users per second: 1847.39</pre>"
            ],
            "text/plain": [
              "recommendations finished on 20000/68984 queries. users per second: 1847.39"
            ]
          },
          "metadata": {},
          "output_type": "display_data"
        },
        {
          "data": {
            "text/html": [
              "<pre>recommendations finished on 21000/68984 queries. users per second: 1822.11</pre>"
            ],
            "text/plain": [
              "recommendations finished on 21000/68984 queries. users per second: 1822.11"
            ]
          },
          "metadata": {},
          "output_type": "display_data"
        },
        {
          "data": {
            "text/html": [
              "<pre>recommendations finished on 22000/68984 queries. users per second: 1766.36</pre>"
            ],
            "text/plain": [
              "recommendations finished on 22000/68984 queries. users per second: 1766.36"
            ]
          },
          "metadata": {},
          "output_type": "display_data"
        },
        {
          "data": {
            "text/html": [
              "<pre>recommendations finished on 23000/68984 queries. users per second: 1711.52</pre>"
            ],
            "text/plain": [
              "recommendations finished on 23000/68984 queries. users per second: 1711.52"
            ]
          },
          "metadata": {},
          "output_type": "display_data"
        },
        {
          "data": {
            "text/html": [
              "<pre>recommendations finished on 24000/68984 queries. users per second: 1670.99</pre>"
            ],
            "text/plain": [
              "recommendations finished on 24000/68984 queries. users per second: 1670.99"
            ]
          },
          "metadata": {},
          "output_type": "display_data"
        },
        {
          "data": {
            "text/html": [
              "<pre>recommendations finished on 25000/68984 queries. users per second: 1623.28</pre>"
            ],
            "text/plain": [
              "recommendations finished on 25000/68984 queries. users per second: 1623.28"
            ]
          },
          "metadata": {},
          "output_type": "display_data"
        },
        {
          "data": {
            "text/html": [
              "<pre>recommendations finished on 26000/68984 queries. users per second: 1593.86</pre>"
            ],
            "text/plain": [
              "recommendations finished on 26000/68984 queries. users per second: 1593.86"
            ]
          },
          "metadata": {},
          "output_type": "display_data"
        },
        {
          "data": {
            "text/html": [
              "<pre>recommendations finished on 27000/68984 queries. users per second: 1581.12</pre>"
            ],
            "text/plain": [
              "recommendations finished on 27000/68984 queries. users per second: 1581.12"
            ]
          },
          "metadata": {},
          "output_type": "display_data"
        },
        {
          "data": {
            "text/html": [
              "<pre>recommendations finished on 28000/68984 queries. users per second: 1569.15</pre>"
            ],
            "text/plain": [
              "recommendations finished on 28000/68984 queries. users per second: 1569.15"
            ]
          },
          "metadata": {},
          "output_type": "display_data"
        },
        {
          "data": {
            "text/html": [
              "<pre>recommendations finished on 29000/68984 queries. users per second: 1537.3</pre>"
            ],
            "text/plain": [
              "recommendations finished on 29000/68984 queries. users per second: 1537.3"
            ]
          },
          "metadata": {},
          "output_type": "display_data"
        },
        {
          "data": {
            "text/html": [
              "<pre>recommendations finished on 30000/68984 queries. users per second: 1510.35</pre>"
            ],
            "text/plain": [
              "recommendations finished on 30000/68984 queries. users per second: 1510.35"
            ]
          },
          "metadata": {},
          "output_type": "display_data"
        },
        {
          "data": {
            "text/html": [
              "<pre>recommendations finished on 31000/68984 queries. users per second: 1507.73</pre>"
            ],
            "text/plain": [
              "recommendations finished on 31000/68984 queries. users per second: 1507.73"
            ]
          },
          "metadata": {},
          "output_type": "display_data"
        },
        {
          "data": {
            "text/html": [
              "<pre>recommendations finished on 32000/68984 queries. users per second: 1516.53</pre>"
            ],
            "text/plain": [
              "recommendations finished on 32000/68984 queries. users per second: 1516.53"
            ]
          },
          "metadata": {},
          "output_type": "display_data"
        },
        {
          "data": {
            "text/html": [
              "<pre>recommendations finished on 33000/68984 queries. users per second: 1525.41</pre>"
            ],
            "text/plain": [
              "recommendations finished on 33000/68984 queries. users per second: 1525.41"
            ]
          },
          "metadata": {},
          "output_type": "display_data"
        },
        {
          "data": {
            "text/html": [
              "<pre>recommendations finished on 34000/68984 queries. users per second: 1531.06</pre>"
            ],
            "text/plain": [
              "recommendations finished on 34000/68984 queries. users per second: 1531.06"
            ]
          },
          "metadata": {},
          "output_type": "display_data"
        },
        {
          "data": {
            "text/html": [
              "<pre>recommendations finished on 35000/68984 queries. users per second: 1536.28</pre>"
            ],
            "text/plain": [
              "recommendations finished on 35000/68984 queries. users per second: 1536.28"
            ]
          },
          "metadata": {},
          "output_type": "display_data"
        },
        {
          "data": {
            "text/html": [
              "<pre>recommendations finished on 36000/68984 queries. users per second: 1542.19</pre>"
            ],
            "text/plain": [
              "recommendations finished on 36000/68984 queries. users per second: 1542.19"
            ]
          },
          "metadata": {},
          "output_type": "display_data"
        },
        {
          "data": {
            "text/html": [
              "<pre>recommendations finished on 37000/68984 queries. users per second: 1544.99</pre>"
            ],
            "text/plain": [
              "recommendations finished on 37000/68984 queries. users per second: 1544.99"
            ]
          },
          "metadata": {},
          "output_type": "display_data"
        },
        {
          "data": {
            "text/html": [
              "<pre>recommendations finished on 38000/68984 queries. users per second: 1549.5</pre>"
            ],
            "text/plain": [
              "recommendations finished on 38000/68984 queries. users per second: 1549.5"
            ]
          },
          "metadata": {},
          "output_type": "display_data"
        },
        {
          "data": {
            "text/html": [
              "<pre>recommendations finished on 39000/68984 queries. users per second: 1552.99</pre>"
            ],
            "text/plain": [
              "recommendations finished on 39000/68984 queries. users per second: 1552.99"
            ]
          },
          "metadata": {},
          "output_type": "display_data"
        },
        {
          "data": {
            "text/html": [
              "<pre>recommendations finished on 40000/68984 queries. users per second: 1558.08</pre>"
            ],
            "text/plain": [
              "recommendations finished on 40000/68984 queries. users per second: 1558.08"
            ]
          },
          "metadata": {},
          "output_type": "display_data"
        },
        {
          "data": {
            "text/html": [
              "<pre>recommendations finished on 41000/68984 queries. users per second: 1563.36</pre>"
            ],
            "text/plain": [
              "recommendations finished on 41000/68984 queries. users per second: 1563.36"
            ]
          },
          "metadata": {},
          "output_type": "display_data"
        },
        {
          "data": {
            "text/html": [
              "<pre>recommendations finished on 42000/68984 queries. users per second: 1569.15</pre>"
            ],
            "text/plain": [
              "recommendations finished on 42000/68984 queries. users per second: 1569.15"
            ]
          },
          "metadata": {},
          "output_type": "display_data"
        },
        {
          "data": {
            "text/html": [
              "<pre>recommendations finished on 43000/68984 queries. users per second: 1575.23</pre>"
            ],
            "text/plain": [
              "recommendations finished on 43000/68984 queries. users per second: 1575.23"
            ]
          },
          "metadata": {},
          "output_type": "display_data"
        },
        {
          "data": {
            "text/html": [
              "<pre>recommendations finished on 44000/68984 queries. users per second: 1581.41</pre>"
            ],
            "text/plain": [
              "recommendations finished on 44000/68984 queries. users per second: 1581.41"
            ]
          },
          "metadata": {},
          "output_type": "display_data"
        },
        {
          "data": {
            "text/html": [
              "<pre>recommendations finished on 45000/68984 queries. users per second: 1585.8</pre>"
            ],
            "text/plain": [
              "recommendations finished on 45000/68984 queries. users per second: 1585.8"
            ]
          },
          "metadata": {},
          "output_type": "display_data"
        },
        {
          "data": {
            "text/html": [
              "<pre>recommendations finished on 46000/68984 queries. users per second: 1590.53</pre>"
            ],
            "text/plain": [
              "recommendations finished on 46000/68984 queries. users per second: 1590.53"
            ]
          },
          "metadata": {},
          "output_type": "display_data"
        },
        {
          "data": {
            "text/html": [
              "<pre>recommendations finished on 47000/68984 queries. users per second: 1593.34</pre>"
            ],
            "text/plain": [
              "recommendations finished on 47000/68984 queries. users per second: 1593.34"
            ]
          },
          "metadata": {},
          "output_type": "display_data"
        },
        {
          "data": {
            "text/html": [
              "<pre>recommendations finished on 48000/68984 queries. users per second: 1598.39</pre>"
            ],
            "text/plain": [
              "recommendations finished on 48000/68984 queries. users per second: 1598.39"
            ]
          },
          "metadata": {},
          "output_type": "display_data"
        },
        {
          "data": {
            "text/html": [
              "<pre>recommendations finished on 49000/68984 queries. users per second: 1603.39</pre>"
            ],
            "text/plain": [
              "recommendations finished on 49000/68984 queries. users per second: 1603.39"
            ]
          },
          "metadata": {},
          "output_type": "display_data"
        },
        {
          "data": {
            "text/html": [
              "<pre>recommendations finished on 50000/68984 queries. users per second: 1608.25</pre>"
            ],
            "text/plain": [
              "recommendations finished on 50000/68984 queries. users per second: 1608.25"
            ]
          },
          "metadata": {},
          "output_type": "display_data"
        },
        {
          "data": {
            "text/html": [
              "<pre>recommendations finished on 51000/68984 queries. users per second: 1613.52</pre>"
            ],
            "text/plain": [
              "recommendations finished on 51000/68984 queries. users per second: 1613.52"
            ]
          },
          "metadata": {},
          "output_type": "display_data"
        },
        {
          "data": {
            "text/html": [
              "<pre>recommendations finished on 52000/68984 queries. users per second: 1618</pre>"
            ],
            "text/plain": [
              "recommendations finished on 52000/68984 queries. users per second: 1618"
            ]
          },
          "metadata": {},
          "output_type": "display_data"
        },
        {
          "data": {
            "text/html": [
              "<pre>recommendations finished on 53000/68984 queries. users per second: 1621.71</pre>"
            ],
            "text/plain": [
              "recommendations finished on 53000/68984 queries. users per second: 1621.71"
            ]
          },
          "metadata": {},
          "output_type": "display_data"
        },
        {
          "data": {
            "text/html": [
              "<pre>recommendations finished on 54000/68984 queries. users per second: 1623.84</pre>"
            ],
            "text/plain": [
              "recommendations finished on 54000/68984 queries. users per second: 1623.84"
            ]
          },
          "metadata": {},
          "output_type": "display_data"
        },
        {
          "data": {
            "text/html": [
              "<pre>recommendations finished on 55000/68984 queries. users per second: 1625.51</pre>"
            ],
            "text/plain": [
              "recommendations finished on 55000/68984 queries. users per second: 1625.51"
            ]
          },
          "metadata": {},
          "output_type": "display_data"
        },
        {
          "data": {
            "text/html": [
              "<pre>recommendations finished on 56000/68984 queries. users per second: 1625.94</pre>"
            ],
            "text/plain": [
              "recommendations finished on 56000/68984 queries. users per second: 1625.94"
            ]
          },
          "metadata": {},
          "output_type": "display_data"
        },
        {
          "data": {
            "text/html": [
              "<pre>recommendations finished on 57000/68984 queries. users per second: 1627.73</pre>"
            ],
            "text/plain": [
              "recommendations finished on 57000/68984 queries. users per second: 1627.73"
            ]
          },
          "metadata": {},
          "output_type": "display_data"
        },
        {
          "data": {
            "text/html": [
              "<pre>recommendations finished on 58000/68984 queries. users per second: 1630.2</pre>"
            ],
            "text/plain": [
              "recommendations finished on 58000/68984 queries. users per second: 1630.2"
            ]
          },
          "metadata": {},
          "output_type": "display_data"
        },
        {
          "data": {
            "text/html": [
              "<pre>recommendations finished on 59000/68984 queries. users per second: 1632.65</pre>"
            ],
            "text/plain": [
              "recommendations finished on 59000/68984 queries. users per second: 1632.65"
            ]
          },
          "metadata": {},
          "output_type": "display_data"
        },
        {
          "data": {
            "text/html": [
              "<pre>recommendations finished on 60000/68984 queries. users per second: 1635.28</pre>"
            ],
            "text/plain": [
              "recommendations finished on 60000/68984 queries. users per second: 1635.28"
            ]
          },
          "metadata": {},
          "output_type": "display_data"
        },
        {
          "data": {
            "text/html": [
              "<pre>recommendations finished on 61000/68984 queries. users per second: 1638.02</pre>"
            ],
            "text/plain": [
              "recommendations finished on 61000/68984 queries. users per second: 1638.02"
            ]
          },
          "metadata": {},
          "output_type": "display_data"
        },
        {
          "data": {
            "text/html": [
              "<pre>recommendations finished on 62000/68984 queries. users per second: 1640.09</pre>"
            ],
            "text/plain": [
              "recommendations finished on 62000/68984 queries. users per second: 1640.09"
            ]
          },
          "metadata": {},
          "output_type": "display_data"
        },
        {
          "data": {
            "text/html": [
              "<pre>recommendations finished on 63000/68984 queries. users per second: 1642.33</pre>"
            ],
            "text/plain": [
              "recommendations finished on 63000/68984 queries. users per second: 1642.33"
            ]
          },
          "metadata": {},
          "output_type": "display_data"
        },
        {
          "data": {
            "text/html": [
              "<pre>recommendations finished on 64000/68984 queries. users per second: 1645.4</pre>"
            ],
            "text/plain": [
              "recommendations finished on 64000/68984 queries. users per second: 1645.4"
            ]
          },
          "metadata": {},
          "output_type": "display_data"
        },
        {
          "data": {
            "text/html": [
              "<pre>recommendations finished on 65000/68984 queries. users per second: 1647.75</pre>"
            ],
            "text/plain": [
              "recommendations finished on 65000/68984 queries. users per second: 1647.75"
            ]
          },
          "metadata": {},
          "output_type": "display_data"
        },
        {
          "data": {
            "text/html": [
              "<pre>recommendations finished on 66000/68984 queries. users per second: 1650.69</pre>"
            ],
            "text/plain": [
              "recommendations finished on 66000/68984 queries. users per second: 1650.69"
            ]
          },
          "metadata": {},
          "output_type": "display_data"
        },
        {
          "data": {
            "text/html": [
              "<pre>recommendations finished on 67000/68984 queries. users per second: 1652.76</pre>"
            ],
            "text/plain": [
              "recommendations finished on 67000/68984 queries. users per second: 1652.76"
            ]
          },
          "metadata": {},
          "output_type": "display_data"
        },
        {
          "data": {
            "text/html": [
              "<pre>recommendations finished on 68000/68984 queries. users per second: 1655.34</pre>"
            ],
            "text/plain": [
              "recommendations finished on 68000/68984 queries. users per second: 1655.34"
            ]
          },
          "metadata": {},
          "output_type": "display_data"
        }
      ],
      "source": [
        "# evaluating the model\n",
        "cos_eval = cosine.evaluate_precision_recall(dfS_val)"
      ]
    },
    {
      "cell_type": "code",
      "execution_count": null,
      "metadata": {
        "colab": {
          "base_uri": "https://localhost:8080/"
        },
        "id": "n_yj3s93TCk1",
        "outputId": "d90ccaf2-12bc-4469-86f8-4bbf1ac58722"
      },
      "outputs": [
        {
          "data": {
            "text/plain": [
              "{'precision_recall_by_user': Columns:\n",
              " \tcustomer_id\tint\n",
              " \tcutoff\tint\n",
              " \tprecision\tfloat\n",
              " \trecall\tfloat\n",
              " \tcount\tint\n",
              " \n",
              " Rows: 1241712\n",
              " \n",
              " Data:\n",
              " +-------------+--------+-----------+--------+-------+\n",
              " | customer_id | cutoff | precision | recall | count |\n",
              " +-------------+--------+-----------+--------+-------+\n",
              " |    13990    |   1    |    0.0    |  0.0   |   9   |\n",
              " |    13990    |   2    |    0.0    |  0.0   |   9   |\n",
              " |    13990    |   3    |    0.0    |  0.0   |   9   |\n",
              " |    13990    |   4    |    0.0    |  0.0   |   9   |\n",
              " |    13990    |   5    |    0.0    |  0.0   |   9   |\n",
              " |    13990    |   6    |    0.0    |  0.0   |   9   |\n",
              " |    13990    |   7    |    0.0    |  0.0   |   9   |\n",
              " |    13990    |   8    |    0.0    |  0.0   |   9   |\n",
              " |    13990    |   9    |    0.0    |  0.0   |   9   |\n",
              " |    13990    |   10   |    0.0    |  0.0   |   9   |\n",
              " +-------------+--------+-----------+--------+-------+\n",
              " [1241712 rows x 5 columns]\n",
              " Note: Only the head of the SFrame is printed.\n",
              " You can use print_rows(num_rows=m, num_columns=n) to print more rows and columns.,\n",
              " 'precision_recall_overall': Columns:\n",
              " \tcutoff\tint\n",
              " \tprecision\tfloat\n",
              " \trecall\tfloat\n",
              " \n",
              " Rows: 18\n",
              " \n",
              " Data:\n",
              " +--------+-----------------------+----------------------+\n",
              " | cutoff |       precision       |        recall        |\n",
              " +--------+-----------------------+----------------------+\n",
              " |   1    |  0.007262553635625659 |  0.0030069562541791  |\n",
              " |   2    |  0.006175345007537966 | 0.004861253085688065 |\n",
              " |   3    |  0.005624492635973523 | 0.00671035890444467  |\n",
              " |   4    | 0.0051062565232517666 | 0.007913517097915494 |\n",
              " |   5    |  0.004659051374231623 | 0.008944832211177197 |\n",
              " |   6    |  0.004329506358962445 | 0.009930014466129473 |\n",
              " |   7    |  0.004110684050960025 | 0.010821892994270462 |\n",
              " |   8    |  0.003923011133016363 | 0.011828042496318993 |\n",
              " |   9    |  0.003839859806460809 | 0.012978493786391309 |\n",
              " |   10   | 0.0037269511770844435 | 0.013778444344580589 |\n",
              " +--------+-----------------------+----------------------+\n",
              " [18 rows x 3 columns]\n",
              " Note: Only the head of the SFrame is printed.\n",
              " You can use print_rows(num_rows=m, num_columns=n) to print more rows and columns.}"
            ]
          },
          "execution_count": 19,
          "metadata": {},
          "output_type": "execute_result"
        }
      ],
      "source": [
        "cos_eval"
      ]
    },
    {
      "cell_type": "markdown",
      "metadata": {
        "id": "Nvx0_nI2Xm4A"
      },
      "source": [
        "## 1-2 Jaccard similarity"
      ]
    },
    {
      "cell_type": "code",
      "execution_count": null,
      "metadata": {
        "colab": {
          "base_uri": "https://localhost:8080/",
          "height": 1000
        },
        "id": "z3g-BfDMUo7A",
        "outputId": "220ae7a8-9ba1-4f12-9bd8-370c627f83d4"
      },
      "outputs": [
        {
          "output_type": "display_data",
          "data": {
            "text/plain": [
              "Preparing data set."
            ],
            "text/html": [
              "<pre>Preparing data set.</pre>"
            ]
          },
          "metadata": {}
        },
        {
          "output_type": "display_data",
          "data": {
            "text/plain": [
              "    Data has 1149781 observations with 249511 users and 29694 items."
            ],
            "text/html": [
              "<pre>    Data has 1149781 observations with 249511 users and 29694 items.</pre>"
            ]
          },
          "metadata": {}
        },
        {
          "output_type": "display_data",
          "data": {
            "text/plain": [
              "    Data prepared in: 1.55789s"
            ],
            "text/html": [
              "<pre>    Data prepared in: 1.55789s</pre>"
            ]
          },
          "metadata": {}
        },
        {
          "output_type": "display_data",
          "data": {
            "text/plain": [
              "Training model from provided data."
            ],
            "text/html": [
              "<pre>Training model from provided data.</pre>"
            ]
          },
          "metadata": {}
        },
        {
          "output_type": "display_data",
          "data": {
            "text/plain": [
              "Gathering per-item and per-user statistics."
            ],
            "text/html": [
              "<pre>Gathering per-item and per-user statistics.</pre>"
            ]
          },
          "metadata": {}
        },
        {
          "output_type": "display_data",
          "data": {
            "text/plain": [
              "+--------------------------------+------------+"
            ],
            "text/html": [
              "<pre>+--------------------------------+------------+</pre>"
            ]
          },
          "metadata": {}
        },
        {
          "output_type": "display_data",
          "data": {
            "text/plain": [
              "| Elapsed Time (Item Statistics) | % Complete |"
            ],
            "text/html": [
              "<pre>| Elapsed Time (Item Statistics) | % Complete |</pre>"
            ]
          },
          "metadata": {}
        },
        {
          "output_type": "display_data",
          "data": {
            "text/plain": [
              "+--------------------------------+------------+"
            ],
            "text/html": [
              "<pre>+--------------------------------+------------+</pre>"
            ]
          },
          "metadata": {}
        },
        {
          "output_type": "display_data",
          "data": {
            "text/plain": [
              "| 1.616ms                        | 0.25       |"
            ],
            "text/html": [
              "<pre>| 1.616ms                        | 0.25       |</pre>"
            ]
          },
          "metadata": {}
        },
        {
          "output_type": "display_data",
          "data": {
            "text/plain": [
              "| 79.197ms                       | 100        |"
            ],
            "text/html": [
              "<pre>| 79.197ms                       | 100        |</pre>"
            ]
          },
          "metadata": {}
        },
        {
          "output_type": "display_data",
          "data": {
            "text/plain": [
              "+--------------------------------+------------+"
            ],
            "text/html": [
              "<pre>+--------------------------------+------------+</pre>"
            ]
          },
          "metadata": {}
        },
        {
          "output_type": "display_data",
          "data": {
            "text/plain": [
              "Setting up lookup tables."
            ],
            "text/html": [
              "<pre>Setting up lookup tables.</pre>"
            ]
          },
          "metadata": {}
        },
        {
          "output_type": "display_data",
          "data": {
            "text/plain": [
              "Processing data in one pass using dense lookup tables."
            ],
            "text/html": [
              "<pre>Processing data in one pass using dense lookup tables.</pre>"
            ]
          },
          "metadata": {}
        },
        {
          "output_type": "display_data",
          "data": {
            "text/plain": [
              "+-------------------------------------+------------------+-----------------+"
            ],
            "text/html": [
              "<pre>+-------------------------------------+------------------+-----------------+</pre>"
            ]
          },
          "metadata": {}
        },
        {
          "output_type": "display_data",
          "data": {
            "text/plain": [
              "| Elapsed Time (Constructing Lookups) | Total % Complete | Items Processed |"
            ],
            "text/html": [
              "<pre>| Elapsed Time (Constructing Lookups) | Total % Complete | Items Processed |</pre>"
            ]
          },
          "metadata": {}
        },
        {
          "output_type": "display_data",
          "data": {
            "text/plain": [
              "+-------------------------------------+------------------+-----------------+"
            ],
            "text/html": [
              "<pre>+-------------------------------------+------------------+-----------------+</pre>"
            ]
          },
          "metadata": {}
        },
        {
          "output_type": "display_data",
          "data": {
            "text/plain": [
              "| 1.96s                               | 0                | 1               |"
            ],
            "text/html": [
              "<pre>| 1.96s                               | 0                | 1               |</pre>"
            ]
          },
          "metadata": {}
        },
        {
          "output_type": "display_data",
          "data": {
            "text/plain": [
              "| 12.22s                              | 100              | 29694           |"
            ],
            "text/html": [
              "<pre>| 12.22s                              | 100              | 29694           |</pre>"
            ]
          },
          "metadata": {}
        },
        {
          "output_type": "display_data",
          "data": {
            "text/plain": [
              "+-------------------------------------+------------------+-----------------+"
            ],
            "text/html": [
              "<pre>+-------------------------------------+------------------+-----------------+</pre>"
            ]
          },
          "metadata": {}
        },
        {
          "output_type": "display_data",
          "data": {
            "text/plain": [
              "Finalizing lookup tables."
            ],
            "text/html": [
              "<pre>Finalizing lookup tables.</pre>"
            ]
          },
          "metadata": {}
        },
        {
          "output_type": "display_data",
          "data": {
            "text/plain": [
              "Generating candidate set for working with new users."
            ],
            "text/html": [
              "<pre>Generating candidate set for working with new users.</pre>"
            ]
          },
          "metadata": {}
        },
        {
          "output_type": "display_data",
          "data": {
            "text/plain": [
              "Finished training in 13.3364s"
            ],
            "text/html": [
              "<pre>Finished training in 13.3364s</pre>"
            ]
          },
          "metadata": {}
        },
        {
          "output_type": "display_data",
          "data": {
            "text/plain": [
              "recommendations finished on 1000/249511 queries. users per second: 2865.99"
            ],
            "text/html": [
              "<pre>recommendations finished on 1000/249511 queries. users per second: 2865.99</pre>"
            ]
          },
          "metadata": {}
        },
        {
          "output_type": "display_data",
          "data": {
            "text/plain": [
              "recommendations finished on 2000/249511 queries. users per second: 2825.79"
            ],
            "text/html": [
              "<pre>recommendations finished on 2000/249511 queries. users per second: 2825.79</pre>"
            ]
          },
          "metadata": {}
        },
        {
          "output_type": "display_data",
          "data": {
            "text/plain": [
              "recommendations finished on 3000/249511 queries. users per second: 2823.26"
            ],
            "text/html": [
              "<pre>recommendations finished on 3000/249511 queries. users per second: 2823.26</pre>"
            ]
          },
          "metadata": {}
        },
        {
          "output_type": "display_data",
          "data": {
            "text/plain": [
              "recommendations finished on 4000/249511 queries. users per second: 2835.92"
            ],
            "text/html": [
              "<pre>recommendations finished on 4000/249511 queries. users per second: 2835.92</pre>"
            ]
          },
          "metadata": {}
        },
        {
          "output_type": "display_data",
          "data": {
            "text/plain": [
              "recommendations finished on 5000/249511 queries. users per second: 2820.78"
            ],
            "text/html": [
              "<pre>recommendations finished on 5000/249511 queries. users per second: 2820.78</pre>"
            ]
          },
          "metadata": {}
        },
        {
          "output_type": "display_data",
          "data": {
            "text/plain": [
              "recommendations finished on 6000/249511 queries. users per second: 2825.15"
            ],
            "text/html": [
              "<pre>recommendations finished on 6000/249511 queries. users per second: 2825.15</pre>"
            ]
          },
          "metadata": {}
        },
        {
          "output_type": "display_data",
          "data": {
            "text/plain": [
              "recommendations finished on 7000/249511 queries. users per second: 2823.56"
            ],
            "text/html": [
              "<pre>recommendations finished on 7000/249511 queries. users per second: 2823.56</pre>"
            ]
          },
          "metadata": {}
        },
        {
          "output_type": "display_data",
          "data": {
            "text/plain": [
              "recommendations finished on 8000/249511 queries. users per second: 2821.45"
            ],
            "text/html": [
              "<pre>recommendations finished on 8000/249511 queries. users per second: 2821.45</pre>"
            ]
          },
          "metadata": {}
        },
        {
          "output_type": "display_data",
          "data": {
            "text/plain": [
              "recommendations finished on 9000/249511 queries. users per second: 2821.48"
            ],
            "text/html": [
              "<pre>recommendations finished on 9000/249511 queries. users per second: 2821.48</pre>"
            ]
          },
          "metadata": {}
        },
        {
          "output_type": "display_data",
          "data": {
            "text/plain": [
              "recommendations finished on 10000/249511 queries. users per second: 2825.67"
            ],
            "text/html": [
              "<pre>recommendations finished on 10000/249511 queries. users per second: 2825.67</pre>"
            ]
          },
          "metadata": {}
        },
        {
          "output_type": "display_data",
          "data": {
            "text/plain": [
              "recommendations finished on 11000/249511 queries. users per second: 2815.34"
            ],
            "text/html": [
              "<pre>recommendations finished on 11000/249511 queries. users per second: 2815.34</pre>"
            ]
          },
          "metadata": {}
        },
        {
          "output_type": "display_data",
          "data": {
            "text/plain": [
              "recommendations finished on 12000/249511 queries. users per second: 2816.4"
            ],
            "text/html": [
              "<pre>recommendations finished on 12000/249511 queries. users per second: 2816.4</pre>"
            ]
          },
          "metadata": {}
        },
        {
          "output_type": "display_data",
          "data": {
            "text/plain": [
              "recommendations finished on 13000/249511 queries. users per second: 2821.17"
            ],
            "text/html": [
              "<pre>recommendations finished on 13000/249511 queries. users per second: 2821.17</pre>"
            ]
          },
          "metadata": {}
        },
        {
          "output_type": "display_data",
          "data": {
            "text/plain": [
              "recommendations finished on 14000/249511 queries. users per second: 2818.19"
            ],
            "text/html": [
              "<pre>recommendations finished on 14000/249511 queries. users per second: 2818.19</pre>"
            ]
          },
          "metadata": {}
        },
        {
          "output_type": "display_data",
          "data": {
            "text/plain": [
              "recommendations finished on 15000/249511 queries. users per second: 2817.16"
            ],
            "text/html": [
              "<pre>recommendations finished on 15000/249511 queries. users per second: 2817.16</pre>"
            ]
          },
          "metadata": {}
        },
        {
          "output_type": "display_data",
          "data": {
            "text/plain": [
              "recommendations finished on 16000/249511 queries. users per second: 2820.83"
            ],
            "text/html": [
              "<pre>recommendations finished on 16000/249511 queries. users per second: 2820.83</pre>"
            ]
          },
          "metadata": {}
        },
        {
          "output_type": "display_data",
          "data": {
            "text/plain": [
              "recommendations finished on 17000/249511 queries. users per second: 2815.73"
            ],
            "text/html": [
              "<pre>recommendations finished on 17000/249511 queries. users per second: 2815.73</pre>"
            ]
          },
          "metadata": {}
        },
        {
          "output_type": "display_data",
          "data": {
            "text/plain": [
              "recommendations finished on 18000/249511 queries. users per second: 2817.06"
            ],
            "text/html": [
              "<pre>recommendations finished on 18000/249511 queries. users per second: 2817.06</pre>"
            ]
          },
          "metadata": {}
        },
        {
          "output_type": "display_data",
          "data": {
            "text/plain": [
              "recommendations finished on 19000/249511 queries. users per second: 2817.18"
            ],
            "text/html": [
              "<pre>recommendations finished on 19000/249511 queries. users per second: 2817.18</pre>"
            ]
          },
          "metadata": {}
        },
        {
          "output_type": "display_data",
          "data": {
            "text/plain": [
              "recommendations finished on 20000/249511 queries. users per second: 2814.31"
            ],
            "text/html": [
              "<pre>recommendations finished on 20000/249511 queries. users per second: 2814.31</pre>"
            ]
          },
          "metadata": {}
        },
        {
          "output_type": "display_data",
          "data": {
            "text/plain": [
              "recommendations finished on 21000/249511 queries. users per second: 2812.35"
            ],
            "text/html": [
              "<pre>recommendations finished on 21000/249511 queries. users per second: 2812.35</pre>"
            ]
          },
          "metadata": {}
        },
        {
          "output_type": "display_data",
          "data": {
            "text/plain": [
              "recommendations finished on 22000/249511 queries. users per second: 2815.31"
            ],
            "text/html": [
              "<pre>recommendations finished on 22000/249511 queries. users per second: 2815.31</pre>"
            ]
          },
          "metadata": {}
        },
        {
          "output_type": "display_data",
          "data": {
            "text/plain": [
              "recommendations finished on 23000/249511 queries. users per second: 2800.57"
            ],
            "text/html": [
              "<pre>recommendations finished on 23000/249511 queries. users per second: 2800.57</pre>"
            ]
          },
          "metadata": {}
        },
        {
          "output_type": "display_data",
          "data": {
            "text/plain": [
              "recommendations finished on 24000/249511 queries. users per second: 2803.39"
            ],
            "text/html": [
              "<pre>recommendations finished on 24000/249511 queries. users per second: 2803.39</pre>"
            ]
          },
          "metadata": {}
        },
        {
          "output_type": "display_data",
          "data": {
            "text/plain": [
              "recommendations finished on 25000/249511 queries. users per second: 2801.67"
            ],
            "text/html": [
              "<pre>recommendations finished on 25000/249511 queries. users per second: 2801.67</pre>"
            ]
          },
          "metadata": {}
        },
        {
          "output_type": "display_data",
          "data": {
            "text/plain": [
              "recommendations finished on 26000/249511 queries. users per second: 2802.66"
            ],
            "text/html": [
              "<pre>recommendations finished on 26000/249511 queries. users per second: 2802.66</pre>"
            ]
          },
          "metadata": {}
        },
        {
          "output_type": "display_data",
          "data": {
            "text/plain": [
              "recommendations finished on 27000/249511 queries. users per second: 2805.27"
            ],
            "text/html": [
              "<pre>recommendations finished on 27000/249511 queries. users per second: 2805.27</pre>"
            ]
          },
          "metadata": {}
        },
        {
          "output_type": "display_data",
          "data": {
            "text/plain": [
              "recommendations finished on 28000/249511 queries. users per second: 2803.93"
            ],
            "text/html": [
              "<pre>recommendations finished on 28000/249511 queries. users per second: 2803.93</pre>"
            ]
          },
          "metadata": {}
        },
        {
          "output_type": "display_data",
          "data": {
            "text/plain": [
              "recommendations finished on 29000/249511 queries. users per second: 2806.53"
            ],
            "text/html": [
              "<pre>recommendations finished on 29000/249511 queries. users per second: 2806.53</pre>"
            ]
          },
          "metadata": {}
        },
        {
          "output_type": "display_data",
          "data": {
            "text/plain": [
              "recommendations finished on 30000/249511 queries. users per second: 2807.71"
            ],
            "text/html": [
              "<pre>recommendations finished on 30000/249511 queries. users per second: 2807.71</pre>"
            ]
          },
          "metadata": {}
        },
        {
          "output_type": "display_data",
          "data": {
            "text/plain": [
              "recommendations finished on 31000/249511 queries. users per second: 2806.59"
            ],
            "text/html": [
              "<pre>recommendations finished on 31000/249511 queries. users per second: 2806.59</pre>"
            ]
          },
          "metadata": {}
        },
        {
          "output_type": "display_data",
          "data": {
            "text/plain": [
              "recommendations finished on 32000/249511 queries. users per second: 2807"
            ],
            "text/html": [
              "<pre>recommendations finished on 32000/249511 queries. users per second: 2807</pre>"
            ]
          },
          "metadata": {}
        },
        {
          "output_type": "display_data",
          "data": {
            "text/plain": [
              "recommendations finished on 33000/249511 queries. users per second: 2807.24"
            ],
            "text/html": [
              "<pre>recommendations finished on 33000/249511 queries. users per second: 2807.24</pre>"
            ]
          },
          "metadata": {}
        },
        {
          "output_type": "display_data",
          "data": {
            "text/plain": [
              "recommendations finished on 34000/249511 queries. users per second: 2804.05"
            ],
            "text/html": [
              "<pre>recommendations finished on 34000/249511 queries. users per second: 2804.05</pre>"
            ]
          },
          "metadata": {}
        },
        {
          "output_type": "display_data",
          "data": {
            "text/plain": [
              "recommendations finished on 35000/249511 queries. users per second: 2805.01"
            ],
            "text/html": [
              "<pre>recommendations finished on 35000/249511 queries. users per second: 2805.01</pre>"
            ]
          },
          "metadata": {}
        },
        {
          "output_type": "display_data",
          "data": {
            "text/plain": [
              "recommendations finished on 36000/249511 queries. users per second: 2805.38"
            ],
            "text/html": [
              "<pre>recommendations finished on 36000/249511 queries. users per second: 2805.38</pre>"
            ]
          },
          "metadata": {}
        },
        {
          "output_type": "display_data",
          "data": {
            "text/plain": [
              "recommendations finished on 37000/249511 queries. users per second: 2803.59"
            ],
            "text/html": [
              "<pre>recommendations finished on 37000/249511 queries. users per second: 2803.59</pre>"
            ]
          },
          "metadata": {}
        },
        {
          "output_type": "display_data",
          "data": {
            "text/plain": [
              "recommendations finished on 38000/249511 queries. users per second: 2805.13"
            ],
            "text/html": [
              "<pre>recommendations finished on 38000/249511 queries. users per second: 2805.13</pre>"
            ]
          },
          "metadata": {}
        },
        {
          "output_type": "display_data",
          "data": {
            "text/plain": [
              "recommendations finished on 39000/249511 queries. users per second: 2806.57"
            ],
            "text/html": [
              "<pre>recommendations finished on 39000/249511 queries. users per second: 2806.57</pre>"
            ]
          },
          "metadata": {}
        },
        {
          "output_type": "display_data",
          "data": {
            "text/plain": [
              "recommendations finished on 40000/249511 queries. users per second: 2803.99"
            ],
            "text/html": [
              "<pre>recommendations finished on 40000/249511 queries. users per second: 2803.99</pre>"
            ]
          },
          "metadata": {}
        },
        {
          "output_type": "display_data",
          "data": {
            "text/plain": [
              "recommendations finished on 41000/249511 queries. users per second: 2805.13"
            ],
            "text/html": [
              "<pre>recommendations finished on 41000/249511 queries. users per second: 2805.13</pre>"
            ]
          },
          "metadata": {}
        },
        {
          "output_type": "display_data",
          "data": {
            "text/plain": [
              "recommendations finished on 42000/249511 queries. users per second: 2806.31"
            ],
            "text/html": [
              "<pre>recommendations finished on 42000/249511 queries. users per second: 2806.31</pre>"
            ]
          },
          "metadata": {}
        },
        {
          "output_type": "display_data",
          "data": {
            "text/plain": [
              "recommendations finished on 43000/249511 queries. users per second: 2803.67"
            ],
            "text/html": [
              "<pre>recommendations finished on 43000/249511 queries. users per second: 2803.67</pre>"
            ]
          },
          "metadata": {}
        },
        {
          "output_type": "display_data",
          "data": {
            "text/plain": [
              "recommendations finished on 44000/249511 queries. users per second: 2804.85"
            ],
            "text/html": [
              "<pre>recommendations finished on 44000/249511 queries. users per second: 2804.85</pre>"
            ]
          },
          "metadata": {}
        },
        {
          "output_type": "display_data",
          "data": {
            "text/plain": [
              "recommendations finished on 45000/249511 queries. users per second: 2805.89"
            ],
            "text/html": [
              "<pre>recommendations finished on 45000/249511 queries. users per second: 2805.89</pre>"
            ]
          },
          "metadata": {}
        },
        {
          "output_type": "display_data",
          "data": {
            "text/plain": [
              "recommendations finished on 46000/249511 queries. users per second: 2804.88"
            ],
            "text/html": [
              "<pre>recommendations finished on 46000/249511 queries. users per second: 2804.88</pre>"
            ]
          },
          "metadata": {}
        },
        {
          "output_type": "display_data",
          "data": {
            "text/plain": [
              "recommendations finished on 47000/249511 queries. users per second: 2805.25"
            ],
            "text/html": [
              "<pre>recommendations finished on 47000/249511 queries. users per second: 2805.25</pre>"
            ]
          },
          "metadata": {}
        },
        {
          "output_type": "display_data",
          "data": {
            "text/plain": [
              "recommendations finished on 48000/249511 queries. users per second: 2804.3"
            ],
            "text/html": [
              "<pre>recommendations finished on 48000/249511 queries. users per second: 2804.3</pre>"
            ]
          },
          "metadata": {}
        },
        {
          "output_type": "display_data",
          "data": {
            "text/plain": [
              "recommendations finished on 49000/249511 queries. users per second: 2802.7"
            ],
            "text/html": [
              "<pre>recommendations finished on 49000/249511 queries. users per second: 2802.7</pre>"
            ]
          },
          "metadata": {}
        },
        {
          "output_type": "display_data",
          "data": {
            "text/plain": [
              "recommendations finished on 50000/249511 queries. users per second: 2804.08"
            ],
            "text/html": [
              "<pre>recommendations finished on 50000/249511 queries. users per second: 2804.08</pre>"
            ]
          },
          "metadata": {}
        },
        {
          "output_type": "display_data",
          "data": {
            "text/plain": [
              "recommendations finished on 51000/249511 queries. users per second: 2803.33"
            ],
            "text/html": [
              "<pre>recommendations finished on 51000/249511 queries. users per second: 2803.33</pre>"
            ]
          },
          "metadata": {}
        },
        {
          "output_type": "display_data",
          "data": {
            "text/plain": [
              "recommendations finished on 52000/249511 queries. users per second: 2803.15"
            ],
            "text/html": [
              "<pre>recommendations finished on 52000/249511 queries. users per second: 2803.15</pre>"
            ]
          },
          "metadata": {}
        },
        {
          "output_type": "display_data",
          "data": {
            "text/plain": [
              "recommendations finished on 53000/249511 queries. users per second: 2804.22"
            ],
            "text/html": [
              "<pre>recommendations finished on 53000/249511 queries. users per second: 2804.22</pre>"
            ]
          },
          "metadata": {}
        },
        {
          "output_type": "display_data",
          "data": {
            "text/plain": [
              "recommendations finished on 54000/249511 queries. users per second: 2799.93"
            ],
            "text/html": [
              "<pre>recommendations finished on 54000/249511 queries. users per second: 2799.93</pre>"
            ]
          },
          "metadata": {}
        },
        {
          "output_type": "display_data",
          "data": {
            "text/plain": [
              "recommendations finished on 55000/249511 queries. users per second: 2800.98"
            ],
            "text/html": [
              "<pre>recommendations finished on 55000/249511 queries. users per second: 2800.98</pre>"
            ]
          },
          "metadata": {}
        },
        {
          "output_type": "display_data",
          "data": {
            "text/plain": [
              "recommendations finished on 56000/249511 queries. users per second: 2801.51"
            ],
            "text/html": [
              "<pre>recommendations finished on 56000/249511 queries. users per second: 2801.51</pre>"
            ]
          },
          "metadata": {}
        },
        {
          "output_type": "display_data",
          "data": {
            "text/plain": [
              "recommendations finished on 57000/249511 queries. users per second: 2799.94"
            ],
            "text/html": [
              "<pre>recommendations finished on 57000/249511 queries. users per second: 2799.94</pre>"
            ]
          },
          "metadata": {}
        },
        {
          "output_type": "display_data",
          "data": {
            "text/plain": [
              "recommendations finished on 58000/249511 queries. users per second: 2801.15"
            ],
            "text/html": [
              "<pre>recommendations finished on 58000/249511 queries. users per second: 2801.15</pre>"
            ]
          },
          "metadata": {}
        },
        {
          "output_type": "display_data",
          "data": {
            "text/plain": [
              "recommendations finished on 59000/249511 queries. users per second: 2801.97"
            ],
            "text/html": [
              "<pre>recommendations finished on 59000/249511 queries. users per second: 2801.97</pre>"
            ]
          },
          "metadata": {}
        },
        {
          "output_type": "display_data",
          "data": {
            "text/plain": [
              "recommendations finished on 60000/249511 queries. users per second: 2800.88"
            ],
            "text/html": [
              "<pre>recommendations finished on 60000/249511 queries. users per second: 2800.88</pre>"
            ]
          },
          "metadata": {}
        },
        {
          "output_type": "display_data",
          "data": {
            "text/plain": [
              "recommendations finished on 61000/249511 queries. users per second: 2801.93"
            ],
            "text/html": [
              "<pre>recommendations finished on 61000/249511 queries. users per second: 2801.93</pre>"
            ]
          },
          "metadata": {}
        },
        {
          "output_type": "display_data",
          "data": {
            "text/plain": [
              "recommendations finished on 62000/249511 queries. users per second: 2802.72"
            ],
            "text/html": [
              "<pre>recommendations finished on 62000/249511 queries. users per second: 2802.72</pre>"
            ]
          },
          "metadata": {}
        },
        {
          "output_type": "display_data",
          "data": {
            "text/plain": [
              "recommendations finished on 63000/249511 queries. users per second: 2801.91"
            ],
            "text/html": [
              "<pre>recommendations finished on 63000/249511 queries. users per second: 2801.91</pre>"
            ]
          },
          "metadata": {}
        },
        {
          "output_type": "display_data",
          "data": {
            "text/plain": [
              "recommendations finished on 64000/249511 queries. users per second: 2802.76"
            ],
            "text/html": [
              "<pre>recommendations finished on 64000/249511 queries. users per second: 2802.76</pre>"
            ]
          },
          "metadata": {}
        },
        {
          "output_type": "display_data",
          "data": {
            "text/plain": [
              "recommendations finished on 65000/249511 queries. users per second: 2803.54"
            ],
            "text/html": [
              "<pre>recommendations finished on 65000/249511 queries. users per second: 2803.54</pre>"
            ]
          },
          "metadata": {}
        },
        {
          "output_type": "display_data",
          "data": {
            "text/plain": [
              "recommendations finished on 66000/249511 queries. users per second: 2803.11"
            ],
            "text/html": [
              "<pre>recommendations finished on 66000/249511 queries. users per second: 2803.11</pre>"
            ]
          },
          "metadata": {}
        },
        {
          "output_type": "display_data",
          "data": {
            "text/plain": [
              "recommendations finished on 67000/249511 queries. users per second: 2803.01"
            ],
            "text/html": [
              "<pre>recommendations finished on 67000/249511 queries. users per second: 2803.01</pre>"
            ]
          },
          "metadata": {}
        },
        {
          "output_type": "display_data",
          "data": {
            "text/plain": [
              "recommendations finished on 68000/249511 queries. users per second: 2803.05"
            ],
            "text/html": [
              "<pre>recommendations finished on 68000/249511 queries. users per second: 2803.05</pre>"
            ]
          },
          "metadata": {}
        },
        {
          "output_type": "display_data",
          "data": {
            "text/plain": [
              "recommendations finished on 69000/249511 queries. users per second: 2802.54"
            ],
            "text/html": [
              "<pre>recommendations finished on 69000/249511 queries. users per second: 2802.54</pre>"
            ]
          },
          "metadata": {}
        },
        {
          "output_type": "display_data",
          "data": {
            "text/plain": [
              "recommendations finished on 70000/249511 queries. users per second: 2803.13"
            ],
            "text/html": [
              "<pre>recommendations finished on 70000/249511 queries. users per second: 2803.13</pre>"
            ]
          },
          "metadata": {}
        },
        {
          "output_type": "display_data",
          "data": {
            "text/plain": [
              "recommendations finished on 71000/249511 queries. users per second: 2803.21"
            ],
            "text/html": [
              "<pre>recommendations finished on 71000/249511 queries. users per second: 2803.21</pre>"
            ]
          },
          "metadata": {}
        },
        {
          "output_type": "display_data",
          "data": {
            "text/plain": [
              "recommendations finished on 72000/249511 queries. users per second: 2803.09"
            ],
            "text/html": [
              "<pre>recommendations finished on 72000/249511 queries. users per second: 2803.09</pre>"
            ]
          },
          "metadata": {}
        },
        {
          "output_type": "display_data",
          "data": {
            "text/plain": [
              "recommendations finished on 73000/249511 queries. users per second: 2803.03"
            ],
            "text/html": [
              "<pre>recommendations finished on 73000/249511 queries. users per second: 2803.03</pre>"
            ]
          },
          "metadata": {}
        },
        {
          "output_type": "display_data",
          "data": {
            "text/plain": [
              "recommendations finished on 74000/249511 queries. users per second: 2803.04"
            ],
            "text/html": [
              "<pre>recommendations finished on 74000/249511 queries. users per second: 2803.04</pre>"
            ]
          },
          "metadata": {}
        },
        {
          "output_type": "display_data",
          "data": {
            "text/plain": [
              "recommendations finished on 75000/249511 queries. users per second: 2802.37"
            ],
            "text/html": [
              "<pre>recommendations finished on 75000/249511 queries. users per second: 2802.37</pre>"
            ]
          },
          "metadata": {}
        },
        {
          "output_type": "display_data",
          "data": {
            "text/plain": [
              "recommendations finished on 76000/249511 queries. users per second: 2800.25"
            ],
            "text/html": [
              "<pre>recommendations finished on 76000/249511 queries. users per second: 2800.25</pre>"
            ]
          },
          "metadata": {}
        },
        {
          "output_type": "display_data",
          "data": {
            "text/plain": [
              "recommendations finished on 77000/249511 queries. users per second: 2800.42"
            ],
            "text/html": [
              "<pre>recommendations finished on 77000/249511 queries. users per second: 2800.42</pre>"
            ]
          },
          "metadata": {}
        },
        {
          "output_type": "display_data",
          "data": {
            "text/plain": [
              "recommendations finished on 78000/249511 queries. users per second: 2800.46"
            ],
            "text/html": [
              "<pre>recommendations finished on 78000/249511 queries. users per second: 2800.46</pre>"
            ]
          },
          "metadata": {}
        },
        {
          "output_type": "display_data",
          "data": {
            "text/plain": [
              "recommendations finished on 79000/249511 queries. users per second: 2800.93"
            ],
            "text/html": [
              "<pre>recommendations finished on 79000/249511 queries. users per second: 2800.93</pre>"
            ]
          },
          "metadata": {}
        },
        {
          "output_type": "display_data",
          "data": {
            "text/plain": [
              "recommendations finished on 80000/249511 queries. users per second: 2799.76"
            ],
            "text/html": [
              "<pre>recommendations finished on 80000/249511 queries. users per second: 2799.76</pre>"
            ]
          },
          "metadata": {}
        },
        {
          "output_type": "display_data",
          "data": {
            "text/plain": [
              "recommendations finished on 81000/249511 queries. users per second: 2800.28"
            ],
            "text/html": [
              "<pre>recommendations finished on 81000/249511 queries. users per second: 2800.28</pre>"
            ]
          },
          "metadata": {}
        },
        {
          "output_type": "display_data",
          "data": {
            "text/plain": [
              "recommendations finished on 82000/249511 queries. users per second: 2800.7"
            ],
            "text/html": [
              "<pre>recommendations finished on 82000/249511 queries. users per second: 2800.7</pre>"
            ]
          },
          "metadata": {}
        },
        {
          "output_type": "display_data",
          "data": {
            "text/plain": [
              "recommendations finished on 83000/249511 queries. users per second: 2798.26"
            ],
            "text/html": [
              "<pre>recommendations finished on 83000/249511 queries. users per second: 2798.26</pre>"
            ]
          },
          "metadata": {}
        },
        {
          "output_type": "display_data",
          "data": {
            "text/plain": [
              "recommendations finished on 84000/249511 queries. users per second: 2796.53"
            ],
            "text/html": [
              "<pre>recommendations finished on 84000/249511 queries. users per second: 2796.53</pre>"
            ]
          },
          "metadata": {}
        },
        {
          "output_type": "display_data",
          "data": {
            "text/plain": [
              "recommendations finished on 85000/249511 queries. users per second: 2783.96"
            ],
            "text/html": [
              "<pre>recommendations finished on 85000/249511 queries. users per second: 2783.96</pre>"
            ]
          },
          "metadata": {}
        },
        {
          "output_type": "display_data",
          "data": {
            "text/plain": [
              "recommendations finished on 86000/249511 queries. users per second: 2744.04"
            ],
            "text/html": [
              "<pre>recommendations finished on 86000/249511 queries. users per second: 2744.04</pre>"
            ]
          },
          "metadata": {}
        },
        {
          "output_type": "display_data",
          "data": {
            "text/plain": [
              "recommendations finished on 87000/249511 queries. users per second: 2693.11"
            ],
            "text/html": [
              "<pre>recommendations finished on 87000/249511 queries. users per second: 2693.11</pre>"
            ]
          },
          "metadata": {}
        },
        {
          "output_type": "display_data",
          "data": {
            "text/plain": [
              "recommendations finished on 88000/249511 queries. users per second: 2664.4"
            ],
            "text/html": [
              "<pre>recommendations finished on 88000/249511 queries. users per second: 2664.4</pre>"
            ]
          },
          "metadata": {}
        },
        {
          "output_type": "display_data",
          "data": {
            "text/plain": [
              "recommendations finished on 89000/249511 queries. users per second: 2647.38"
            ],
            "text/html": [
              "<pre>recommendations finished on 89000/249511 queries. users per second: 2647.38</pre>"
            ]
          },
          "metadata": {}
        },
        {
          "output_type": "display_data",
          "data": {
            "text/plain": [
              "recommendations finished on 90000/249511 queries. users per second: 2632.22"
            ],
            "text/html": [
              "<pre>recommendations finished on 90000/249511 queries. users per second: 2632.22</pre>"
            ]
          },
          "metadata": {}
        },
        {
          "output_type": "display_data",
          "data": {
            "text/plain": [
              "recommendations finished on 91000/249511 queries. users per second: 2611.73"
            ],
            "text/html": [
              "<pre>recommendations finished on 91000/249511 queries. users per second: 2611.73</pre>"
            ]
          },
          "metadata": {}
        },
        {
          "output_type": "display_data",
          "data": {
            "text/plain": [
              "recommendations finished on 92000/249511 queries. users per second: 2590.09"
            ],
            "text/html": [
              "<pre>recommendations finished on 92000/249511 queries. users per second: 2590.09</pre>"
            ]
          },
          "metadata": {}
        },
        {
          "output_type": "display_data",
          "data": {
            "text/plain": [
              "recommendations finished on 93000/249511 queries. users per second: 2565.07"
            ],
            "text/html": [
              "<pre>recommendations finished on 93000/249511 queries. users per second: 2565.07</pre>"
            ]
          },
          "metadata": {}
        },
        {
          "output_type": "display_data",
          "data": {
            "text/plain": [
              "recommendations finished on 94000/249511 queries. users per second: 2554.06"
            ],
            "text/html": [
              "<pre>recommendations finished on 94000/249511 queries. users per second: 2554.06</pre>"
            ]
          },
          "metadata": {}
        },
        {
          "output_type": "display_data",
          "data": {
            "text/plain": [
              "recommendations finished on 95000/249511 queries. users per second: 2536.69"
            ],
            "text/html": [
              "<pre>recommendations finished on 95000/249511 queries. users per second: 2536.69</pre>"
            ]
          },
          "metadata": {}
        },
        {
          "output_type": "display_data",
          "data": {
            "text/plain": [
              "recommendations finished on 96000/249511 queries. users per second: 2521"
            ],
            "text/html": [
              "<pre>recommendations finished on 96000/249511 queries. users per second: 2521</pre>"
            ]
          },
          "metadata": {}
        },
        {
          "output_type": "display_data",
          "data": {
            "text/plain": [
              "recommendations finished on 97000/249511 queries. users per second: 2504.3"
            ],
            "text/html": [
              "<pre>recommendations finished on 97000/249511 queries. users per second: 2504.3</pre>"
            ]
          },
          "metadata": {}
        },
        {
          "output_type": "display_data",
          "data": {
            "text/plain": [
              "recommendations finished on 98000/249511 queries. users per second: 2489.19"
            ],
            "text/html": [
              "<pre>recommendations finished on 98000/249511 queries. users per second: 2489.19</pre>"
            ]
          },
          "metadata": {}
        },
        {
          "output_type": "display_data",
          "data": {
            "text/plain": [
              "recommendations finished on 99000/249511 queries. users per second: 2472.4"
            ],
            "text/html": [
              "<pre>recommendations finished on 99000/249511 queries. users per second: 2472.4</pre>"
            ]
          },
          "metadata": {}
        },
        {
          "output_type": "display_data",
          "data": {
            "text/plain": [
              "recommendations finished on 100000/249511 queries. users per second: 2460.99"
            ],
            "text/html": [
              "<pre>recommendations finished on 100000/249511 queries. users per second: 2460.99</pre>"
            ]
          },
          "metadata": {}
        },
        {
          "output_type": "display_data",
          "data": {
            "text/plain": [
              "recommendations finished on 101000/249511 queries. users per second: 2447.3"
            ],
            "text/html": [
              "<pre>recommendations finished on 101000/249511 queries. users per second: 2447.3</pre>"
            ]
          },
          "metadata": {}
        },
        {
          "output_type": "display_data",
          "data": {
            "text/plain": [
              "recommendations finished on 102000/249511 queries. users per second: 2432.87"
            ],
            "text/html": [
              "<pre>recommendations finished on 102000/249511 queries. users per second: 2432.87</pre>"
            ]
          },
          "metadata": {}
        },
        {
          "output_type": "display_data",
          "data": {
            "text/plain": [
              "recommendations finished on 103000/249511 queries. users per second: 2413.07"
            ],
            "text/html": [
              "<pre>recommendations finished on 103000/249511 queries. users per second: 2413.07</pre>"
            ]
          },
          "metadata": {}
        },
        {
          "output_type": "display_data",
          "data": {
            "text/plain": [
              "recommendations finished on 104000/249511 queries. users per second: 2402.95"
            ],
            "text/html": [
              "<pre>recommendations finished on 104000/249511 queries. users per second: 2402.95</pre>"
            ]
          },
          "metadata": {}
        },
        {
          "output_type": "display_data",
          "data": {
            "text/plain": [
              "recommendations finished on 105000/249511 queries. users per second: 2389.16"
            ],
            "text/html": [
              "<pre>recommendations finished on 105000/249511 queries. users per second: 2389.16</pre>"
            ]
          },
          "metadata": {}
        },
        {
          "output_type": "display_data",
          "data": {
            "text/plain": [
              "recommendations finished on 106000/249511 queries. users per second: 2373.72"
            ],
            "text/html": [
              "<pre>recommendations finished on 106000/249511 queries. users per second: 2373.72</pre>"
            ]
          },
          "metadata": {}
        },
        {
          "output_type": "display_data",
          "data": {
            "text/plain": [
              "recommendations finished on 107000/249511 queries. users per second: 2360.75"
            ],
            "text/html": [
              "<pre>recommendations finished on 107000/249511 queries. users per second: 2360.75</pre>"
            ]
          },
          "metadata": {}
        },
        {
          "output_type": "display_data",
          "data": {
            "text/plain": [
              "recommendations finished on 108000/249511 queries. users per second: 2349.66"
            ],
            "text/html": [
              "<pre>recommendations finished on 108000/249511 queries. users per second: 2349.66</pre>"
            ]
          },
          "metadata": {}
        },
        {
          "output_type": "display_data",
          "data": {
            "text/plain": [
              "recommendations finished on 109000/249511 queries. users per second: 2346.62"
            ],
            "text/html": [
              "<pre>recommendations finished on 109000/249511 queries. users per second: 2346.62</pre>"
            ]
          },
          "metadata": {}
        },
        {
          "output_type": "display_data",
          "data": {
            "text/plain": [
              "recommendations finished on 110000/249511 queries. users per second: 2334.03"
            ],
            "text/html": [
              "<pre>recommendations finished on 110000/249511 queries. users per second: 2334.03</pre>"
            ]
          },
          "metadata": {}
        },
        {
          "output_type": "display_data",
          "data": {
            "text/plain": [
              "recommendations finished on 111000/249511 queries. users per second: 2327.74"
            ],
            "text/html": [
              "<pre>recommendations finished on 111000/249511 queries. users per second: 2327.74</pre>"
            ]
          },
          "metadata": {}
        },
        {
          "output_type": "display_data",
          "data": {
            "text/plain": [
              "recommendations finished on 112000/249511 queries. users per second: 2331.44"
            ],
            "text/html": [
              "<pre>recommendations finished on 112000/249511 queries. users per second: 2331.44</pre>"
            ]
          },
          "metadata": {}
        },
        {
          "output_type": "display_data",
          "data": {
            "text/plain": [
              "recommendations finished on 113000/249511 queries. users per second: 2334.46"
            ],
            "text/html": [
              "<pre>recommendations finished on 113000/249511 queries. users per second: 2334.46</pre>"
            ]
          },
          "metadata": {}
        },
        {
          "output_type": "display_data",
          "data": {
            "text/plain": [
              "recommendations finished on 114000/249511 queries. users per second: 2338.27"
            ],
            "text/html": [
              "<pre>recommendations finished on 114000/249511 queries. users per second: 2338.27</pre>"
            ]
          },
          "metadata": {}
        },
        {
          "output_type": "display_data",
          "data": {
            "text/plain": [
              "recommendations finished on 115000/249511 queries. users per second: 2341.82"
            ],
            "text/html": [
              "<pre>recommendations finished on 115000/249511 queries. users per second: 2341.82</pre>"
            ]
          },
          "metadata": {}
        },
        {
          "output_type": "display_data",
          "data": {
            "text/plain": [
              "recommendations finished on 116000/249511 queries. users per second: 2344.75"
            ],
            "text/html": [
              "<pre>recommendations finished on 116000/249511 queries. users per second: 2344.75</pre>"
            ]
          },
          "metadata": {}
        },
        {
          "output_type": "display_data",
          "data": {
            "text/plain": [
              "recommendations finished on 117000/249511 queries. users per second: 2348.39"
            ],
            "text/html": [
              "<pre>recommendations finished on 117000/249511 queries. users per second: 2348.39</pre>"
            ]
          },
          "metadata": {}
        },
        {
          "output_type": "display_data",
          "data": {
            "text/plain": [
              "recommendations finished on 118000/249511 queries. users per second: 2351.44"
            ],
            "text/html": [
              "<pre>recommendations finished on 118000/249511 queries. users per second: 2351.44</pre>"
            ]
          },
          "metadata": {}
        },
        {
          "output_type": "display_data",
          "data": {
            "text/plain": [
              "recommendations finished on 119000/249511 queries. users per second: 2354.38"
            ],
            "text/html": [
              "<pre>recommendations finished on 119000/249511 queries. users per second: 2354.38</pre>"
            ]
          },
          "metadata": {}
        },
        {
          "output_type": "display_data",
          "data": {
            "text/plain": [
              "recommendations finished on 120000/249511 queries. users per second: 2356.45"
            ],
            "text/html": [
              "<pre>recommendations finished on 120000/249511 queries. users per second: 2356.45</pre>"
            ]
          },
          "metadata": {}
        },
        {
          "output_type": "display_data",
          "data": {
            "text/plain": [
              "recommendations finished on 121000/249511 queries. users per second: 2359.41"
            ],
            "text/html": [
              "<pre>recommendations finished on 121000/249511 queries. users per second: 2359.41</pre>"
            ]
          },
          "metadata": {}
        },
        {
          "output_type": "display_data",
          "data": {
            "text/plain": [
              "recommendations finished on 122000/249511 queries. users per second: 2362.55"
            ],
            "text/html": [
              "<pre>recommendations finished on 122000/249511 queries. users per second: 2362.55</pre>"
            ]
          },
          "metadata": {}
        },
        {
          "output_type": "display_data",
          "data": {
            "text/plain": [
              "recommendations finished on 123000/249511 queries. users per second: 2365.72"
            ],
            "text/html": [
              "<pre>recommendations finished on 123000/249511 queries. users per second: 2365.72</pre>"
            ]
          },
          "metadata": {}
        },
        {
          "output_type": "display_data",
          "data": {
            "text/plain": [
              "recommendations finished on 124000/249511 queries. users per second: 2368.34"
            ],
            "text/html": [
              "<pre>recommendations finished on 124000/249511 queries. users per second: 2368.34</pre>"
            ]
          },
          "metadata": {}
        },
        {
          "output_type": "display_data",
          "data": {
            "text/plain": [
              "recommendations finished on 125000/249511 queries. users per second: 2371.77"
            ],
            "text/html": [
              "<pre>recommendations finished on 125000/249511 queries. users per second: 2371.77</pre>"
            ]
          },
          "metadata": {}
        },
        {
          "output_type": "display_data",
          "data": {
            "text/plain": [
              "recommendations finished on 126000/249511 queries. users per second: 2374.82"
            ],
            "text/html": [
              "<pre>recommendations finished on 126000/249511 queries. users per second: 2374.82</pre>"
            ]
          },
          "metadata": {}
        },
        {
          "output_type": "display_data",
          "data": {
            "text/plain": [
              "recommendations finished on 127000/249511 queries. users per second: 2377.52"
            ],
            "text/html": [
              "<pre>recommendations finished on 127000/249511 queries. users per second: 2377.52</pre>"
            ]
          },
          "metadata": {}
        },
        {
          "output_type": "display_data",
          "data": {
            "text/plain": [
              "recommendations finished on 128000/249511 queries. users per second: 2380.91"
            ],
            "text/html": [
              "<pre>recommendations finished on 128000/249511 queries. users per second: 2380.91</pre>"
            ]
          },
          "metadata": {}
        },
        {
          "output_type": "display_data",
          "data": {
            "text/plain": [
              "recommendations finished on 129000/249511 queries. users per second: 2384.01"
            ],
            "text/html": [
              "<pre>recommendations finished on 129000/249511 queries. users per second: 2384.01</pre>"
            ]
          },
          "metadata": {}
        },
        {
          "output_type": "display_data",
          "data": {
            "text/plain": [
              "recommendations finished on 130000/249511 queries. users per second: 2386.47"
            ],
            "text/html": [
              "<pre>recommendations finished on 130000/249511 queries. users per second: 2386.47</pre>"
            ]
          },
          "metadata": {}
        },
        {
          "output_type": "display_data",
          "data": {
            "text/plain": [
              "recommendations finished on 131000/249511 queries. users per second: 2389.63"
            ],
            "text/html": [
              "<pre>recommendations finished on 131000/249511 queries. users per second: 2389.63</pre>"
            ]
          },
          "metadata": {}
        },
        {
          "output_type": "display_data",
          "data": {
            "text/plain": [
              "recommendations finished on 132000/249511 queries. users per second: 2392.37"
            ],
            "text/html": [
              "<pre>recommendations finished on 132000/249511 queries. users per second: 2392.37</pre>"
            ]
          },
          "metadata": {}
        },
        {
          "output_type": "display_data",
          "data": {
            "text/plain": [
              "recommendations finished on 133000/249511 queries. users per second: 2394.87"
            ],
            "text/html": [
              "<pre>recommendations finished on 133000/249511 queries. users per second: 2394.87</pre>"
            ]
          },
          "metadata": {}
        },
        {
          "output_type": "display_data",
          "data": {
            "text/plain": [
              "recommendations finished on 134000/249511 queries. users per second: 2397.61"
            ],
            "text/html": [
              "<pre>recommendations finished on 134000/249511 queries. users per second: 2397.61</pre>"
            ]
          },
          "metadata": {}
        },
        {
          "output_type": "display_data",
          "data": {
            "text/plain": [
              "recommendations finished on 135000/249511 queries. users per second: 2400.37"
            ],
            "text/html": [
              "<pre>recommendations finished on 135000/249511 queries. users per second: 2400.37</pre>"
            ]
          },
          "metadata": {}
        },
        {
          "output_type": "display_data",
          "data": {
            "text/plain": [
              "recommendations finished on 136000/249511 queries. users per second: 2402.33"
            ],
            "text/html": [
              "<pre>recommendations finished on 136000/249511 queries. users per second: 2402.33</pre>"
            ]
          },
          "metadata": {}
        },
        {
          "output_type": "display_data",
          "data": {
            "text/plain": [
              "recommendations finished on 137000/249511 queries. users per second: 2405.03"
            ],
            "text/html": [
              "<pre>recommendations finished on 137000/249511 queries. users per second: 2405.03</pre>"
            ]
          },
          "metadata": {}
        },
        {
          "output_type": "display_data",
          "data": {
            "text/plain": [
              "recommendations finished on 138000/249511 queries. users per second: 2407.64"
            ],
            "text/html": [
              "<pre>recommendations finished on 138000/249511 queries. users per second: 2407.64</pre>"
            ]
          },
          "metadata": {}
        },
        {
          "output_type": "display_data",
          "data": {
            "text/plain": [
              "recommendations finished on 139000/249511 queries. users per second: 2410.06"
            ],
            "text/html": [
              "<pre>recommendations finished on 139000/249511 queries. users per second: 2410.06</pre>"
            ]
          },
          "metadata": {}
        },
        {
          "output_type": "display_data",
          "data": {
            "text/plain": [
              "recommendations finished on 140000/249511 queries. users per second: 2412.61"
            ],
            "text/html": [
              "<pre>recommendations finished on 140000/249511 queries. users per second: 2412.61</pre>"
            ]
          },
          "metadata": {}
        },
        {
          "output_type": "display_data",
          "data": {
            "text/plain": [
              "recommendations finished on 141000/249511 queries. users per second: 2415.23"
            ],
            "text/html": [
              "<pre>recommendations finished on 141000/249511 queries. users per second: 2415.23</pre>"
            ]
          },
          "metadata": {}
        },
        {
          "output_type": "display_data",
          "data": {
            "text/plain": [
              "recommendations finished on 142000/249511 queries. users per second: 2417.37"
            ],
            "text/html": [
              "<pre>recommendations finished on 142000/249511 queries. users per second: 2417.37</pre>"
            ]
          },
          "metadata": {}
        },
        {
          "output_type": "display_data",
          "data": {
            "text/plain": [
              "recommendations finished on 143000/249511 queries. users per second: 2419.87"
            ],
            "text/html": [
              "<pre>recommendations finished on 143000/249511 queries. users per second: 2419.87</pre>"
            ]
          },
          "metadata": {}
        },
        {
          "output_type": "display_data",
          "data": {
            "text/plain": [
              "recommendations finished on 144000/249511 queries. users per second: 2422.45"
            ],
            "text/html": [
              "<pre>recommendations finished on 144000/249511 queries. users per second: 2422.45</pre>"
            ]
          },
          "metadata": {}
        },
        {
          "output_type": "display_data",
          "data": {
            "text/plain": [
              "recommendations finished on 145000/249511 queries. users per second: 2424.46"
            ],
            "text/html": [
              "<pre>recommendations finished on 145000/249511 queries. users per second: 2424.46</pre>"
            ]
          },
          "metadata": {}
        },
        {
          "output_type": "display_data",
          "data": {
            "text/plain": [
              "recommendations finished on 146000/249511 queries. users per second: 2426.69"
            ],
            "text/html": [
              "<pre>recommendations finished on 146000/249511 queries. users per second: 2426.69</pre>"
            ]
          },
          "metadata": {}
        },
        {
          "output_type": "display_data",
          "data": {
            "text/plain": [
              "recommendations finished on 147000/249511 queries. users per second: 2429.19"
            ],
            "text/html": [
              "<pre>recommendations finished on 147000/249511 queries. users per second: 2429.19</pre>"
            ]
          },
          "metadata": {}
        },
        {
          "output_type": "display_data",
          "data": {
            "text/plain": [
              "recommendations finished on 148000/249511 queries. users per second: 2431.08"
            ],
            "text/html": [
              "<pre>recommendations finished on 148000/249511 queries. users per second: 2431.08</pre>"
            ]
          },
          "metadata": {}
        },
        {
          "output_type": "display_data",
          "data": {
            "text/plain": [
              "recommendations finished on 149000/249511 queries. users per second: 2433.42"
            ],
            "text/html": [
              "<pre>recommendations finished on 149000/249511 queries. users per second: 2433.42</pre>"
            ]
          },
          "metadata": {}
        },
        {
          "output_type": "display_data",
          "data": {
            "text/plain": [
              "recommendations finished on 150000/249511 queries. users per second: 2435.5"
            ],
            "text/html": [
              "<pre>recommendations finished on 150000/249511 queries. users per second: 2435.5</pre>"
            ]
          },
          "metadata": {}
        },
        {
          "output_type": "display_data",
          "data": {
            "text/plain": [
              "recommendations finished on 151000/249511 queries. users per second: 2436.87"
            ],
            "text/html": [
              "<pre>recommendations finished on 151000/249511 queries. users per second: 2436.87</pre>"
            ]
          },
          "metadata": {}
        },
        {
          "output_type": "display_data",
          "data": {
            "text/plain": [
              "recommendations finished on 152000/249511 queries. users per second: 2439.1"
            ],
            "text/html": [
              "<pre>recommendations finished on 152000/249511 queries. users per second: 2439.1</pre>"
            ]
          },
          "metadata": {}
        },
        {
          "output_type": "display_data",
          "data": {
            "text/plain": [
              "recommendations finished on 153000/249511 queries. users per second: 2440.93"
            ],
            "text/html": [
              "<pre>recommendations finished on 153000/249511 queries. users per second: 2440.93</pre>"
            ]
          },
          "metadata": {}
        },
        {
          "output_type": "display_data",
          "data": {
            "text/plain": [
              "recommendations finished on 154000/249511 queries. users per second: 2442.83"
            ],
            "text/html": [
              "<pre>recommendations finished on 154000/249511 queries. users per second: 2442.83</pre>"
            ]
          },
          "metadata": {}
        },
        {
          "output_type": "display_data",
          "data": {
            "text/plain": [
              "recommendations finished on 155000/249511 queries. users per second: 2445.07"
            ],
            "text/html": [
              "<pre>recommendations finished on 155000/249511 queries. users per second: 2445.07</pre>"
            ]
          },
          "metadata": {}
        },
        {
          "output_type": "display_data",
          "data": {
            "text/plain": [
              "recommendations finished on 156000/249511 queries. users per second: 2446.95"
            ],
            "text/html": [
              "<pre>recommendations finished on 156000/249511 queries. users per second: 2446.95</pre>"
            ]
          },
          "metadata": {}
        },
        {
          "output_type": "display_data",
          "data": {
            "text/plain": [
              "recommendations finished on 157000/249511 queries. users per second: 2449.18"
            ],
            "text/html": [
              "<pre>recommendations finished on 157000/249511 queries. users per second: 2449.18</pre>"
            ]
          },
          "metadata": {}
        },
        {
          "output_type": "display_data",
          "data": {
            "text/plain": [
              "recommendations finished on 158000/249511 queries. users per second: 2451.31"
            ],
            "text/html": [
              "<pre>recommendations finished on 158000/249511 queries. users per second: 2451.31</pre>"
            ]
          },
          "metadata": {}
        },
        {
          "output_type": "display_data",
          "data": {
            "text/plain": [
              "recommendations finished on 159000/249511 queries. users per second: 2453.13"
            ],
            "text/html": [
              "<pre>recommendations finished on 159000/249511 queries. users per second: 2453.13</pre>"
            ]
          },
          "metadata": {}
        },
        {
          "output_type": "display_data",
          "data": {
            "text/plain": [
              "recommendations finished on 160000/249511 queries. users per second: 2455.07"
            ],
            "text/html": [
              "<pre>recommendations finished on 160000/249511 queries. users per second: 2455.07</pre>"
            ]
          },
          "metadata": {}
        },
        {
          "output_type": "display_data",
          "data": {
            "text/plain": [
              "recommendations finished on 161000/249511 queries. users per second: 2457.1"
            ],
            "text/html": [
              "<pre>recommendations finished on 161000/249511 queries. users per second: 2457.1</pre>"
            ]
          },
          "metadata": {}
        },
        {
          "output_type": "display_data",
          "data": {
            "text/plain": [
              "recommendations finished on 162000/249511 queries. users per second: 2458.56"
            ],
            "text/html": [
              "<pre>recommendations finished on 162000/249511 queries. users per second: 2458.56</pre>"
            ]
          },
          "metadata": {}
        },
        {
          "output_type": "display_data",
          "data": {
            "text/plain": [
              "recommendations finished on 163000/249511 queries. users per second: 2460.58"
            ],
            "text/html": [
              "<pre>recommendations finished on 163000/249511 queries. users per second: 2460.58</pre>"
            ]
          },
          "metadata": {}
        },
        {
          "output_type": "display_data",
          "data": {
            "text/plain": [
              "recommendations finished on 164000/249511 queries. users per second: 2462.45"
            ],
            "text/html": [
              "<pre>recommendations finished on 164000/249511 queries. users per second: 2462.45</pre>"
            ]
          },
          "metadata": {}
        },
        {
          "output_type": "display_data",
          "data": {
            "text/plain": [
              "recommendations finished on 165000/249511 queries. users per second: 2463.99"
            ],
            "text/html": [
              "<pre>recommendations finished on 165000/249511 queries. users per second: 2463.99</pre>"
            ]
          },
          "metadata": {}
        },
        {
          "output_type": "display_data",
          "data": {
            "text/plain": [
              "recommendations finished on 166000/249511 queries. users per second: 2465.99"
            ],
            "text/html": [
              "<pre>recommendations finished on 166000/249511 queries. users per second: 2465.99</pre>"
            ]
          },
          "metadata": {}
        },
        {
          "output_type": "display_data",
          "data": {
            "text/plain": [
              "recommendations finished on 167000/249511 queries. users per second: 2467.99"
            ],
            "text/html": [
              "<pre>recommendations finished on 167000/249511 queries. users per second: 2467.99</pre>"
            ]
          },
          "metadata": {}
        },
        {
          "output_type": "display_data",
          "data": {
            "text/plain": [
              "recommendations finished on 168000/249511 queries. users per second: 2469.47"
            ],
            "text/html": [
              "<pre>recommendations finished on 168000/249511 queries. users per second: 2469.47</pre>"
            ]
          },
          "metadata": {}
        },
        {
          "output_type": "display_data",
          "data": {
            "text/plain": [
              "recommendations finished on 169000/249511 queries. users per second: 2471.34"
            ],
            "text/html": [
              "<pre>recommendations finished on 169000/249511 queries. users per second: 2471.34</pre>"
            ]
          },
          "metadata": {}
        },
        {
          "output_type": "display_data",
          "data": {
            "text/plain": [
              "recommendations finished on 170000/249511 queries. users per second: 2473"
            ],
            "text/html": [
              "<pre>recommendations finished on 170000/249511 queries. users per second: 2473</pre>"
            ]
          },
          "metadata": {}
        },
        {
          "output_type": "display_data",
          "data": {
            "text/plain": [
              "recommendations finished on 171000/249511 queries. users per second: 2474.47"
            ],
            "text/html": [
              "<pre>recommendations finished on 171000/249511 queries. users per second: 2474.47</pre>"
            ]
          },
          "metadata": {}
        },
        {
          "output_type": "display_data",
          "data": {
            "text/plain": [
              "recommendations finished on 172000/249511 queries. users per second: 2476.18"
            ],
            "text/html": [
              "<pre>recommendations finished on 172000/249511 queries. users per second: 2476.18</pre>"
            ]
          },
          "metadata": {}
        },
        {
          "output_type": "display_data",
          "data": {
            "text/plain": [
              "recommendations finished on 173000/249511 queries. users per second: 2478.11"
            ],
            "text/html": [
              "<pre>recommendations finished on 173000/249511 queries. users per second: 2478.11</pre>"
            ]
          },
          "metadata": {}
        },
        {
          "output_type": "display_data",
          "data": {
            "text/plain": [
              "recommendations finished on 174000/249511 queries. users per second: 2479.28"
            ],
            "text/html": [
              "<pre>recommendations finished on 174000/249511 queries. users per second: 2479.28</pre>"
            ]
          },
          "metadata": {}
        },
        {
          "output_type": "display_data",
          "data": {
            "text/plain": [
              "recommendations finished on 175000/249511 queries. users per second: 2480.75"
            ],
            "text/html": [
              "<pre>recommendations finished on 175000/249511 queries. users per second: 2480.75</pre>"
            ]
          },
          "metadata": {}
        },
        {
          "output_type": "display_data",
          "data": {
            "text/plain": [
              "recommendations finished on 176000/249511 queries. users per second: 2482.61"
            ],
            "text/html": [
              "<pre>recommendations finished on 176000/249511 queries. users per second: 2482.61</pre>"
            ]
          },
          "metadata": {}
        },
        {
          "output_type": "display_data",
          "data": {
            "text/plain": [
              "recommendations finished on 177000/249511 queries. users per second: 2483.86"
            ],
            "text/html": [
              "<pre>recommendations finished on 177000/249511 queries. users per second: 2483.86</pre>"
            ]
          },
          "metadata": {}
        },
        {
          "output_type": "display_data",
          "data": {
            "text/plain": [
              "recommendations finished on 178000/249511 queries. users per second: 2485.73"
            ],
            "text/html": [
              "<pre>recommendations finished on 178000/249511 queries. users per second: 2485.73</pre>"
            ]
          },
          "metadata": {}
        },
        {
          "output_type": "display_data",
          "data": {
            "text/plain": [
              "recommendations finished on 179000/249511 queries. users per second: 2487.21"
            ],
            "text/html": [
              "<pre>recommendations finished on 179000/249511 queries. users per second: 2487.21</pre>"
            ]
          },
          "metadata": {}
        },
        {
          "output_type": "display_data",
          "data": {
            "text/plain": [
              "recommendations finished on 180000/249511 queries. users per second: 2488.22"
            ],
            "text/html": [
              "<pre>recommendations finished on 180000/249511 queries. users per second: 2488.22</pre>"
            ]
          },
          "metadata": {}
        },
        {
          "output_type": "display_data",
          "data": {
            "text/plain": [
              "recommendations finished on 181000/249511 queries. users per second: 2489.64"
            ],
            "text/html": [
              "<pre>recommendations finished on 181000/249511 queries. users per second: 2489.64</pre>"
            ]
          },
          "metadata": {}
        },
        {
          "output_type": "display_data",
          "data": {
            "text/plain": [
              "recommendations finished on 182000/249511 queries. users per second: 2490.9"
            ],
            "text/html": [
              "<pre>recommendations finished on 182000/249511 queries. users per second: 2490.9</pre>"
            ]
          },
          "metadata": {}
        },
        {
          "output_type": "display_data",
          "data": {
            "text/plain": [
              "recommendations finished on 183000/249511 queries. users per second: 2492.44"
            ],
            "text/html": [
              "<pre>recommendations finished on 183000/249511 queries. users per second: 2492.44</pre>"
            ]
          },
          "metadata": {}
        },
        {
          "output_type": "display_data",
          "data": {
            "text/plain": [
              "recommendations finished on 184000/249511 queries. users per second: 2494.13"
            ],
            "text/html": [
              "<pre>recommendations finished on 184000/249511 queries. users per second: 2494.13</pre>"
            ]
          },
          "metadata": {}
        },
        {
          "output_type": "display_data",
          "data": {
            "text/plain": [
              "recommendations finished on 185000/249511 queries. users per second: 2495.45"
            ],
            "text/html": [
              "<pre>recommendations finished on 185000/249511 queries. users per second: 2495.45</pre>"
            ]
          },
          "metadata": {}
        },
        {
          "output_type": "display_data",
          "data": {
            "text/plain": [
              "recommendations finished on 186000/249511 queries. users per second: 2497"
            ],
            "text/html": [
              "<pre>recommendations finished on 186000/249511 queries. users per second: 2497</pre>"
            ]
          },
          "metadata": {}
        },
        {
          "output_type": "display_data",
          "data": {
            "text/plain": [
              "recommendations finished on 187000/249511 queries. users per second: 2498.46"
            ],
            "text/html": [
              "<pre>recommendations finished on 187000/249511 queries. users per second: 2498.46</pre>"
            ]
          },
          "metadata": {}
        },
        {
          "output_type": "display_data",
          "data": {
            "text/plain": [
              "recommendations finished on 188000/249511 queries. users per second: 2499.59"
            ],
            "text/html": [
              "<pre>recommendations finished on 188000/249511 queries. users per second: 2499.59</pre>"
            ]
          },
          "metadata": {}
        },
        {
          "output_type": "display_data",
          "data": {
            "text/plain": [
              "recommendations finished on 189000/249511 queries. users per second: 2500.7"
            ],
            "text/html": [
              "<pre>recommendations finished on 189000/249511 queries. users per second: 2500.7</pre>"
            ]
          },
          "metadata": {}
        },
        {
          "output_type": "display_data",
          "data": {
            "text/plain": [
              "recommendations finished on 190000/249511 queries. users per second: 2502.23"
            ],
            "text/html": [
              "<pre>recommendations finished on 190000/249511 queries. users per second: 2502.23</pre>"
            ]
          },
          "metadata": {}
        },
        {
          "output_type": "display_data",
          "data": {
            "text/plain": [
              "recommendations finished on 191000/249511 queries. users per second: 2503.45"
            ],
            "text/html": [
              "<pre>recommendations finished on 191000/249511 queries. users per second: 2503.45</pre>"
            ]
          },
          "metadata": {}
        },
        {
          "output_type": "display_data",
          "data": {
            "text/plain": [
              "recommendations finished on 192000/249511 queries. users per second: 2504.8"
            ],
            "text/html": [
              "<pre>recommendations finished on 192000/249511 queries. users per second: 2504.8</pre>"
            ]
          },
          "metadata": {}
        },
        {
          "output_type": "display_data",
          "data": {
            "text/plain": [
              "recommendations finished on 193000/249511 queries. users per second: 2506.36"
            ],
            "text/html": [
              "<pre>recommendations finished on 193000/249511 queries. users per second: 2506.36</pre>"
            ]
          },
          "metadata": {}
        },
        {
          "output_type": "display_data",
          "data": {
            "text/plain": [
              "recommendations finished on 194000/249511 queries. users per second: 2507.5"
            ],
            "text/html": [
              "<pre>recommendations finished on 194000/249511 queries. users per second: 2507.5</pre>"
            ]
          },
          "metadata": {}
        },
        {
          "output_type": "display_data",
          "data": {
            "text/plain": [
              "recommendations finished on 195000/249511 queries. users per second: 2508.63"
            ],
            "text/html": [
              "<pre>recommendations finished on 195000/249511 queries. users per second: 2508.63</pre>"
            ]
          },
          "metadata": {}
        },
        {
          "output_type": "display_data",
          "data": {
            "text/plain": [
              "recommendations finished on 196000/249511 queries. users per second: 2510.1"
            ],
            "text/html": [
              "<pre>recommendations finished on 196000/249511 queries. users per second: 2510.1</pre>"
            ]
          },
          "metadata": {}
        },
        {
          "output_type": "display_data",
          "data": {
            "text/plain": [
              "recommendations finished on 197000/249511 queries. users per second: 2511.11"
            ],
            "text/html": [
              "<pre>recommendations finished on 197000/249511 queries. users per second: 2511.11</pre>"
            ]
          },
          "metadata": {}
        },
        {
          "output_type": "display_data",
          "data": {
            "text/plain": [
              "recommendations finished on 198000/249511 queries. users per second: 2512.54"
            ],
            "text/html": [
              "<pre>recommendations finished on 198000/249511 queries. users per second: 2512.54</pre>"
            ]
          },
          "metadata": {}
        },
        {
          "output_type": "display_data",
          "data": {
            "text/plain": [
              "recommendations finished on 199000/249511 queries. users per second: 2513.83"
            ],
            "text/html": [
              "<pre>recommendations finished on 199000/249511 queries. users per second: 2513.83</pre>"
            ]
          },
          "metadata": {}
        },
        {
          "output_type": "display_data",
          "data": {
            "text/plain": [
              "recommendations finished on 200000/249511 queries. users per second: 2514.98"
            ],
            "text/html": [
              "<pre>recommendations finished on 200000/249511 queries. users per second: 2514.98</pre>"
            ]
          },
          "metadata": {}
        },
        {
          "output_type": "display_data",
          "data": {
            "text/plain": [
              "recommendations finished on 201000/249511 queries. users per second: 2516.4"
            ],
            "text/html": [
              "<pre>recommendations finished on 201000/249511 queries. users per second: 2516.4</pre>"
            ]
          },
          "metadata": {}
        },
        {
          "output_type": "display_data",
          "data": {
            "text/plain": [
              "recommendations finished on 202000/249511 queries. users per second: 2517.53"
            ],
            "text/html": [
              "<pre>recommendations finished on 202000/249511 queries. users per second: 2517.53</pre>"
            ]
          },
          "metadata": {}
        },
        {
          "output_type": "display_data",
          "data": {
            "text/plain": [
              "recommendations finished on 203000/249511 queries. users per second: 2518.66"
            ],
            "text/html": [
              "<pre>recommendations finished on 203000/249511 queries. users per second: 2518.66</pre>"
            ]
          },
          "metadata": {}
        },
        {
          "output_type": "display_data",
          "data": {
            "text/plain": [
              "recommendations finished on 204000/249511 queries. users per second: 2520.03"
            ],
            "text/html": [
              "<pre>recommendations finished on 204000/249511 queries. users per second: 2520.03</pre>"
            ]
          },
          "metadata": {}
        },
        {
          "output_type": "display_data",
          "data": {
            "text/plain": [
              "recommendations finished on 205000/249511 queries. users per second: 2521"
            ],
            "text/html": [
              "<pre>recommendations finished on 205000/249511 queries. users per second: 2521</pre>"
            ]
          },
          "metadata": {}
        },
        {
          "output_type": "display_data",
          "data": {
            "text/plain": [
              "recommendations finished on 206000/249511 queries. users per second: 2522.25"
            ],
            "text/html": [
              "<pre>recommendations finished on 206000/249511 queries. users per second: 2522.25</pre>"
            ]
          },
          "metadata": {}
        },
        {
          "output_type": "display_data",
          "data": {
            "text/plain": [
              "recommendations finished on 207000/249511 queries. users per second: 2523.59"
            ],
            "text/html": [
              "<pre>recommendations finished on 207000/249511 queries. users per second: 2523.59</pre>"
            ]
          },
          "metadata": {}
        },
        {
          "output_type": "display_data",
          "data": {
            "text/plain": [
              "recommendations finished on 208000/249511 queries. users per second: 2524.54"
            ],
            "text/html": [
              "<pre>recommendations finished on 208000/249511 queries. users per second: 2524.54</pre>"
            ]
          },
          "metadata": {}
        },
        {
          "output_type": "display_data",
          "data": {
            "text/plain": [
              "recommendations finished on 209000/249511 queries. users per second: 2525.95"
            ],
            "text/html": [
              "<pre>recommendations finished on 209000/249511 queries. users per second: 2525.95</pre>"
            ]
          },
          "metadata": {}
        },
        {
          "output_type": "display_data",
          "data": {
            "text/plain": [
              "recommendations finished on 210000/249511 queries. users per second: 2526.68"
            ],
            "text/html": [
              "<pre>recommendations finished on 210000/249511 queries. users per second: 2526.68</pre>"
            ]
          },
          "metadata": {}
        },
        {
          "output_type": "display_data",
          "data": {
            "text/plain": [
              "recommendations finished on 211000/249511 queries. users per second: 2527.47"
            ],
            "text/html": [
              "<pre>recommendations finished on 211000/249511 queries. users per second: 2527.47</pre>"
            ]
          },
          "metadata": {}
        },
        {
          "output_type": "display_data",
          "data": {
            "text/plain": [
              "recommendations finished on 212000/249511 queries. users per second: 2528.9"
            ],
            "text/html": [
              "<pre>recommendations finished on 212000/249511 queries. users per second: 2528.9</pre>"
            ]
          },
          "metadata": {}
        },
        {
          "output_type": "display_data",
          "data": {
            "text/plain": [
              "recommendations finished on 213000/249511 queries. users per second: 2530.12"
            ],
            "text/html": [
              "<pre>recommendations finished on 213000/249511 queries. users per second: 2530.12</pre>"
            ]
          },
          "metadata": {}
        },
        {
          "output_type": "display_data",
          "data": {
            "text/plain": [
              "recommendations finished on 214000/249511 queries. users per second: 2531.03"
            ],
            "text/html": [
              "<pre>recommendations finished on 214000/249511 queries. users per second: 2531.03</pre>"
            ]
          },
          "metadata": {}
        },
        {
          "output_type": "display_data",
          "data": {
            "text/plain": [
              "recommendations finished on 215000/249511 queries. users per second: 2532.33"
            ],
            "text/html": [
              "<pre>recommendations finished on 215000/249511 queries. users per second: 2532.33</pre>"
            ]
          },
          "metadata": {}
        },
        {
          "output_type": "display_data",
          "data": {
            "text/plain": [
              "recommendations finished on 216000/249511 queries. users per second: 2533.5"
            ],
            "text/html": [
              "<pre>recommendations finished on 216000/249511 queries. users per second: 2533.5</pre>"
            ]
          },
          "metadata": {}
        },
        {
          "output_type": "display_data",
          "data": {
            "text/plain": [
              "recommendations finished on 217000/249511 queries. users per second: 2534.38"
            ],
            "text/html": [
              "<pre>recommendations finished on 217000/249511 queries. users per second: 2534.38</pre>"
            ]
          },
          "metadata": {}
        },
        {
          "output_type": "display_data",
          "data": {
            "text/plain": [
              "recommendations finished on 218000/249511 queries. users per second: 2535.46"
            ],
            "text/html": [
              "<pre>recommendations finished on 218000/249511 queries. users per second: 2535.46</pre>"
            ]
          },
          "metadata": {}
        },
        {
          "output_type": "display_data",
          "data": {
            "text/plain": [
              "recommendations finished on 219000/249511 queries. users per second: 2536.67"
            ],
            "text/html": [
              "<pre>recommendations finished on 219000/249511 queries. users per second: 2536.67</pre>"
            ]
          },
          "metadata": {}
        },
        {
          "output_type": "display_data",
          "data": {
            "text/plain": [
              "recommendations finished on 220000/249511 queries. users per second: 2537.77"
            ],
            "text/html": [
              "<pre>recommendations finished on 220000/249511 queries. users per second: 2537.77</pre>"
            ]
          },
          "metadata": {}
        },
        {
          "output_type": "display_data",
          "data": {
            "text/plain": [
              "recommendations finished on 221000/249511 queries. users per second: 2539.1"
            ],
            "text/html": [
              "<pre>recommendations finished on 221000/249511 queries. users per second: 2539.1</pre>"
            ]
          },
          "metadata": {}
        },
        {
          "output_type": "display_data",
          "data": {
            "text/plain": [
              "recommendations finished on 222000/249511 queries. users per second: 2540.32"
            ],
            "text/html": [
              "<pre>recommendations finished on 222000/249511 queries. users per second: 2540.32</pre>"
            ]
          },
          "metadata": {}
        },
        {
          "output_type": "display_data",
          "data": {
            "text/plain": [
              "recommendations finished on 223000/249511 queries. users per second: 2541.37"
            ],
            "text/html": [
              "<pre>recommendations finished on 223000/249511 queries. users per second: 2541.37</pre>"
            ]
          },
          "metadata": {}
        },
        {
          "output_type": "display_data",
          "data": {
            "text/plain": [
              "recommendations finished on 224000/249511 queries. users per second: 2542.49"
            ],
            "text/html": [
              "<pre>recommendations finished on 224000/249511 queries. users per second: 2542.49</pre>"
            ]
          },
          "metadata": {}
        },
        {
          "output_type": "display_data",
          "data": {
            "text/plain": [
              "recommendations finished on 225000/249511 queries. users per second: 2543.54"
            ],
            "text/html": [
              "<pre>recommendations finished on 225000/249511 queries. users per second: 2543.54</pre>"
            ]
          },
          "metadata": {}
        },
        {
          "output_type": "display_data",
          "data": {
            "text/plain": [
              "recommendations finished on 226000/249511 queries. users per second: 2544.51"
            ],
            "text/html": [
              "<pre>recommendations finished on 226000/249511 queries. users per second: 2544.51</pre>"
            ]
          },
          "metadata": {}
        },
        {
          "output_type": "display_data",
          "data": {
            "text/plain": [
              "recommendations finished on 227000/249511 queries. users per second: 2545.61"
            ],
            "text/html": [
              "<pre>recommendations finished on 227000/249511 queries. users per second: 2545.61</pre>"
            ]
          },
          "metadata": {}
        },
        {
          "output_type": "display_data",
          "data": {
            "text/plain": [
              "recommendations finished on 228000/249511 queries. users per second: 2546.72"
            ],
            "text/html": [
              "<pre>recommendations finished on 228000/249511 queries. users per second: 2546.72</pre>"
            ]
          },
          "metadata": {}
        },
        {
          "output_type": "display_data",
          "data": {
            "text/plain": [
              "recommendations finished on 229000/249511 queries. users per second: 2547.68"
            ],
            "text/html": [
              "<pre>recommendations finished on 229000/249511 queries. users per second: 2547.68</pre>"
            ]
          },
          "metadata": {}
        },
        {
          "output_type": "display_data",
          "data": {
            "text/plain": [
              "recommendations finished on 230000/249511 queries. users per second: 2548.04"
            ],
            "text/html": [
              "<pre>recommendations finished on 230000/249511 queries. users per second: 2548.04</pre>"
            ]
          },
          "metadata": {}
        },
        {
          "output_type": "display_data",
          "data": {
            "text/plain": [
              "recommendations finished on 231000/249511 queries. users per second: 2548.58"
            ],
            "text/html": [
              "<pre>recommendations finished on 231000/249511 queries. users per second: 2548.58</pre>"
            ]
          },
          "metadata": {}
        },
        {
          "output_type": "display_data",
          "data": {
            "text/plain": [
              "recommendations finished on 232000/249511 queries. users per second: 2549.75"
            ],
            "text/html": [
              "<pre>recommendations finished on 232000/249511 queries. users per second: 2549.75</pre>"
            ]
          },
          "metadata": {}
        },
        {
          "output_type": "display_data",
          "data": {
            "text/plain": [
              "recommendations finished on 233000/249511 queries. users per second: 2550.97"
            ],
            "text/html": [
              "<pre>recommendations finished on 233000/249511 queries. users per second: 2550.97</pre>"
            ]
          },
          "metadata": {}
        },
        {
          "output_type": "display_data",
          "data": {
            "text/plain": [
              "recommendations finished on 234000/249511 queries. users per second: 2551.87"
            ],
            "text/html": [
              "<pre>recommendations finished on 234000/249511 queries. users per second: 2551.87</pre>"
            ]
          },
          "metadata": {}
        },
        {
          "output_type": "display_data",
          "data": {
            "text/plain": [
              "recommendations finished on 235000/249511 queries. users per second: 2552.79"
            ],
            "text/html": [
              "<pre>recommendations finished on 235000/249511 queries. users per second: 2552.79</pre>"
            ]
          },
          "metadata": {}
        },
        {
          "output_type": "display_data",
          "data": {
            "text/plain": [
              "recommendations finished on 236000/249511 queries. users per second: 2553.76"
            ],
            "text/html": [
              "<pre>recommendations finished on 236000/249511 queries. users per second: 2553.76</pre>"
            ]
          },
          "metadata": {}
        },
        {
          "output_type": "display_data",
          "data": {
            "text/plain": [
              "recommendations finished on 237000/249511 queries. users per second: 2554.4"
            ],
            "text/html": [
              "<pre>recommendations finished on 237000/249511 queries. users per second: 2554.4</pre>"
            ]
          },
          "metadata": {}
        },
        {
          "output_type": "display_data",
          "data": {
            "text/plain": [
              "recommendations finished on 238000/249511 queries. users per second: 2555.35"
            ],
            "text/html": [
              "<pre>recommendations finished on 238000/249511 queries. users per second: 2555.35</pre>"
            ]
          },
          "metadata": {}
        },
        {
          "output_type": "display_data",
          "data": {
            "text/plain": [
              "recommendations finished on 239000/249511 queries. users per second: 2556.35"
            ],
            "text/html": [
              "<pre>recommendations finished on 239000/249511 queries. users per second: 2556.35</pre>"
            ]
          },
          "metadata": {}
        },
        {
          "output_type": "display_data",
          "data": {
            "text/plain": [
              "recommendations finished on 240000/249511 queries. users per second: 2556.44"
            ],
            "text/html": [
              "<pre>recommendations finished on 240000/249511 queries. users per second: 2556.44</pre>"
            ]
          },
          "metadata": {}
        },
        {
          "output_type": "display_data",
          "data": {
            "text/plain": [
              "recommendations finished on 241000/249511 queries. users per second: 2557.56"
            ],
            "text/html": [
              "<pre>recommendations finished on 241000/249511 queries. users per second: 2557.56</pre>"
            ]
          },
          "metadata": {}
        },
        {
          "output_type": "display_data",
          "data": {
            "text/plain": [
              "recommendations finished on 242000/249511 queries. users per second: 2558.77"
            ],
            "text/html": [
              "<pre>recommendations finished on 242000/249511 queries. users per second: 2558.77</pre>"
            ]
          },
          "metadata": {}
        },
        {
          "output_type": "display_data",
          "data": {
            "text/plain": [
              "recommendations finished on 243000/249511 queries. users per second: 2559.62"
            ],
            "text/html": [
              "<pre>recommendations finished on 243000/249511 queries. users per second: 2559.62</pre>"
            ]
          },
          "metadata": {}
        },
        {
          "output_type": "display_data",
          "data": {
            "text/plain": [
              "recommendations finished on 244000/249511 queries. users per second: 2560.62"
            ],
            "text/html": [
              "<pre>recommendations finished on 244000/249511 queries. users per second: 2560.62</pre>"
            ]
          },
          "metadata": {}
        },
        {
          "output_type": "display_data",
          "data": {
            "text/plain": [
              "recommendations finished on 245000/249511 queries. users per second: 2561.4"
            ],
            "text/html": [
              "<pre>recommendations finished on 245000/249511 queries. users per second: 2561.4</pre>"
            ]
          },
          "metadata": {}
        },
        {
          "output_type": "display_data",
          "data": {
            "text/plain": [
              "recommendations finished on 246000/249511 queries. users per second: 2562.06"
            ],
            "text/html": [
              "<pre>recommendations finished on 246000/249511 queries. users per second: 2562.06</pre>"
            ]
          },
          "metadata": {}
        },
        {
          "output_type": "display_data",
          "data": {
            "text/plain": [
              "recommendations finished on 247000/249511 queries. users per second: 2562.98"
            ],
            "text/html": [
              "<pre>recommendations finished on 247000/249511 queries. users per second: 2562.98</pre>"
            ]
          },
          "metadata": {}
        },
        {
          "output_type": "display_data",
          "data": {
            "text/plain": [
              "recommendations finished on 248000/249511 queries. users per second: 2563.85"
            ],
            "text/html": [
              "<pre>recommendations finished on 248000/249511 queries. users per second: 2563.85</pre>"
            ]
          },
          "metadata": {}
        },
        {
          "output_type": "display_data",
          "data": {
            "text/plain": [
              "recommendations finished on 249000/249511 queries. users per second: 2564.54"
            ],
            "text/html": [
              "<pre>recommendations finished on 249000/249511 queries. users per second: 2564.54</pre>"
            ]
          },
          "metadata": {}
        }
      ],
      "source": [
        "jaccard = tc.item_similarity_recommender.create(dfS_train, \n",
        "                                              user_id='customer_id', \n",
        "                                              item_id='article_id',\n",
        "                                              similarity_type='jaccard')\n",
        "# recommend k products for a list of users (None corresponds to all users) \n",
        "recommendation_jac = jaccard.recommend(users=None, k=12)"
      ]
    },
    {
      "cell_type": "code",
      "execution_count": null,
      "metadata": {
        "colab": {
          "base_uri": "https://localhost:8080/"
        },
        "id": "nV-ovTs1X5G_",
        "outputId": "1a752d56-ebbc-41e6-bc2e-c4860ffeb52b"
      },
      "outputs": [
        {
          "output_type": "stream",
          "name": "stdout",
          "text": [
            "+-------------+------------+-----------------------+------+\n",
            "| customer_id | article_id |         score         | rank |\n",
            "+-------------+------------+-----------------------+------+\n",
            "|      0      |    4345    |  0.012626262272105497 |  1   |\n",
            "|      0      |    380     |  0.011028170585632324 |  2   |\n",
            "|      0      |    1558    |  0.00903783826267018  |  3   |\n",
            "|      0      |    5470    |  0.00857757470187019  |  4   |\n",
            "|      0      |    2593    |  0.007222105475033031 |  5   |\n",
            "|      0      |     47     | 0.0063916549963109635 |  6   |\n",
            "|      0      |    8115    |  0.006204664707183838 |  7   |\n",
            "|      0      |    980     |  0.005417869371526381 |  8   |\n",
            "|      0      |    2289    |  0.004896784529966467 |  9   |\n",
            "|      0      |   23743    |  0.004854885970844942 |  10  |\n",
            "|      0      |    4178    |  0.004799064467935001 |  11  |\n",
            "|      0      |   24220    |  0.004688136717852424 |  12  |\n",
            "|      1      |    699     |  0.013108611106872559 |  1   |\n",
            "|      1      |    1691    |  0.013069704174995422 |  2   |\n",
            "|      1      |   19434    |  0.012500002980232239 |  3   |\n",
            "|      1      |    469     |  0.011434108018875122 |  4   |\n",
            "|      1      |   26957    |  0.009615384042263031 |  5   |\n",
            "|      1      |   25118    |  0.009615384042263031 |  6   |\n",
            "|      1      |     53     |  0.008975483477115631 |  7   |\n",
            "|      1      |    3856    |  0.008928574621677399 |  8   |\n",
            "+-------------+------------+-----------------------+------+\n",
            "[2994132 rows x 4 columns]\n",
            "\n"
          ]
        }
      ],
      "source": [
        "# print the n first recommendations\n",
        "recommendation_jac.print_rows(20)"
      ]
    },
    {
      "cell_type": "code",
      "execution_count": null,
      "metadata": {
        "colab": {
          "base_uri": "https://localhost:8080/",
          "height": 1000
        },
        "id": "Ls2hZArrY5-a",
        "outputId": "56fdcc22-f251-4ad0-ec1b-4445d56ce391"
      },
      "outputs": [
        {
          "output_type": "display_data",
          "data": {
            "text/plain": [
              "recommendations finished on 1000/68984 queries. users per second: 1977.7"
            ],
            "text/html": [
              "<pre>recommendations finished on 1000/68984 queries. users per second: 1977.7</pre>"
            ]
          },
          "metadata": {}
        },
        {
          "output_type": "display_data",
          "data": {
            "text/plain": [
              "recommendations finished on 2000/68984 queries. users per second: 1951.75"
            ],
            "text/html": [
              "<pre>recommendations finished on 2000/68984 queries. users per second: 1951.75</pre>"
            ]
          },
          "metadata": {}
        },
        {
          "output_type": "display_data",
          "data": {
            "text/plain": [
              "recommendations finished on 3000/68984 queries. users per second: 1934.53"
            ],
            "text/html": [
              "<pre>recommendations finished on 3000/68984 queries. users per second: 1934.53</pre>"
            ]
          },
          "metadata": {}
        },
        {
          "output_type": "display_data",
          "data": {
            "text/plain": [
              "recommendations finished on 4000/68984 queries. users per second: 1937.04"
            ],
            "text/html": [
              "<pre>recommendations finished on 4000/68984 queries. users per second: 1937.04</pre>"
            ]
          },
          "metadata": {}
        },
        {
          "output_type": "display_data",
          "data": {
            "text/plain": [
              "recommendations finished on 5000/68984 queries. users per second: 1932.43"
            ],
            "text/html": [
              "<pre>recommendations finished on 5000/68984 queries. users per second: 1932.43</pre>"
            ]
          },
          "metadata": {}
        },
        {
          "output_type": "display_data",
          "data": {
            "text/plain": [
              "recommendations finished on 6000/68984 queries. users per second: 1934.29"
            ],
            "text/html": [
              "<pre>recommendations finished on 6000/68984 queries. users per second: 1934.29</pre>"
            ]
          },
          "metadata": {}
        },
        {
          "output_type": "display_data",
          "data": {
            "text/plain": [
              "recommendations finished on 7000/68984 queries. users per second: 1933.15"
            ],
            "text/html": [
              "<pre>recommendations finished on 7000/68984 queries. users per second: 1933.15</pre>"
            ]
          },
          "metadata": {}
        },
        {
          "output_type": "display_data",
          "data": {
            "text/plain": [
              "recommendations finished on 8000/68984 queries. users per second: 1930.37"
            ],
            "text/html": [
              "<pre>recommendations finished on 8000/68984 queries. users per second: 1930.37</pre>"
            ]
          },
          "metadata": {}
        },
        {
          "output_type": "display_data",
          "data": {
            "text/plain": [
              "recommendations finished on 9000/68984 queries. users per second: 1918.33"
            ],
            "text/html": [
              "<pre>recommendations finished on 9000/68984 queries. users per second: 1918.33</pre>"
            ]
          },
          "metadata": {}
        },
        {
          "output_type": "display_data",
          "data": {
            "text/plain": [
              "recommendations finished on 10000/68984 queries. users per second: 1930"
            ],
            "text/html": [
              "<pre>recommendations finished on 10000/68984 queries. users per second: 1930</pre>"
            ]
          },
          "metadata": {}
        },
        {
          "output_type": "display_data",
          "data": {
            "text/plain": [
              "recommendations finished on 11000/68984 queries. users per second: 1926.42"
            ],
            "text/html": [
              "<pre>recommendations finished on 11000/68984 queries. users per second: 1926.42</pre>"
            ]
          },
          "metadata": {}
        },
        {
          "output_type": "display_data",
          "data": {
            "text/plain": [
              "recommendations finished on 12000/68984 queries. users per second: 1926.36"
            ],
            "text/html": [
              "<pre>recommendations finished on 12000/68984 queries. users per second: 1926.36</pre>"
            ]
          },
          "metadata": {}
        },
        {
          "output_type": "display_data",
          "data": {
            "text/plain": [
              "recommendations finished on 13000/68984 queries. users per second: 1923.79"
            ],
            "text/html": [
              "<pre>recommendations finished on 13000/68984 queries. users per second: 1923.79</pre>"
            ]
          },
          "metadata": {}
        },
        {
          "output_type": "display_data",
          "data": {
            "text/plain": [
              "recommendations finished on 14000/68984 queries. users per second: 1925.11"
            ],
            "text/html": [
              "<pre>recommendations finished on 14000/68984 queries. users per second: 1925.11</pre>"
            ]
          },
          "metadata": {}
        },
        {
          "output_type": "display_data",
          "data": {
            "text/plain": [
              "recommendations finished on 15000/68984 queries. users per second: 1927.34"
            ],
            "text/html": [
              "<pre>recommendations finished on 15000/68984 queries. users per second: 1927.34</pre>"
            ]
          },
          "metadata": {}
        },
        {
          "output_type": "display_data",
          "data": {
            "text/plain": [
              "recommendations finished on 16000/68984 queries. users per second: 1933.16"
            ],
            "text/html": [
              "<pre>recommendations finished on 16000/68984 queries. users per second: 1933.16</pre>"
            ]
          },
          "metadata": {}
        },
        {
          "output_type": "display_data",
          "data": {
            "text/plain": [
              "recommendations finished on 17000/68984 queries. users per second: 1929.58"
            ],
            "text/html": [
              "<pre>recommendations finished on 17000/68984 queries. users per second: 1929.58</pre>"
            ]
          },
          "metadata": {}
        },
        {
          "output_type": "display_data",
          "data": {
            "text/plain": [
              "recommendations finished on 18000/68984 queries. users per second: 1931.93"
            ],
            "text/html": [
              "<pre>recommendations finished on 18000/68984 queries. users per second: 1931.93</pre>"
            ]
          },
          "metadata": {}
        },
        {
          "output_type": "display_data",
          "data": {
            "text/plain": [
              "recommendations finished on 19000/68984 queries. users per second: 1928.69"
            ],
            "text/html": [
              "<pre>recommendations finished on 19000/68984 queries. users per second: 1928.69</pre>"
            ]
          },
          "metadata": {}
        },
        {
          "output_type": "display_data",
          "data": {
            "text/plain": [
              "recommendations finished on 20000/68984 queries. users per second: 1932.66"
            ],
            "text/html": [
              "<pre>recommendations finished on 20000/68984 queries. users per second: 1932.66</pre>"
            ]
          },
          "metadata": {}
        },
        {
          "output_type": "display_data",
          "data": {
            "text/plain": [
              "recommendations finished on 21000/68984 queries. users per second: 1933.07"
            ],
            "text/html": [
              "<pre>recommendations finished on 21000/68984 queries. users per second: 1933.07</pre>"
            ]
          },
          "metadata": {}
        },
        {
          "output_type": "display_data",
          "data": {
            "text/plain": [
              "recommendations finished on 22000/68984 queries. users per second: 1933.99"
            ],
            "text/html": [
              "<pre>recommendations finished on 22000/68984 queries. users per second: 1933.99</pre>"
            ]
          },
          "metadata": {}
        },
        {
          "output_type": "display_data",
          "data": {
            "text/plain": [
              "recommendations finished on 23000/68984 queries. users per second: 1931.93"
            ],
            "text/html": [
              "<pre>recommendations finished on 23000/68984 queries. users per second: 1931.93</pre>"
            ]
          },
          "metadata": {}
        },
        {
          "output_type": "display_data",
          "data": {
            "text/plain": [
              "recommendations finished on 24000/68984 queries. users per second: 1933.05"
            ],
            "text/html": [
              "<pre>recommendations finished on 24000/68984 queries. users per second: 1933.05</pre>"
            ]
          },
          "metadata": {}
        },
        {
          "output_type": "display_data",
          "data": {
            "text/plain": [
              "recommendations finished on 25000/68984 queries. users per second: 1932.23"
            ],
            "text/html": [
              "<pre>recommendations finished on 25000/68984 queries. users per second: 1932.23</pre>"
            ]
          },
          "metadata": {}
        },
        {
          "output_type": "display_data",
          "data": {
            "text/plain": [
              "recommendations finished on 26000/68984 queries. users per second: 1935.66"
            ],
            "text/html": [
              "<pre>recommendations finished on 26000/68984 queries. users per second: 1935.66</pre>"
            ]
          },
          "metadata": {}
        },
        {
          "output_type": "display_data",
          "data": {
            "text/plain": [
              "recommendations finished on 27000/68984 queries. users per second: 1934.06"
            ],
            "text/html": [
              "<pre>recommendations finished on 27000/68984 queries. users per second: 1934.06</pre>"
            ]
          },
          "metadata": {}
        },
        {
          "output_type": "display_data",
          "data": {
            "text/plain": [
              "recommendations finished on 28000/68984 queries. users per second: 1935.02"
            ],
            "text/html": [
              "<pre>recommendations finished on 28000/68984 queries. users per second: 1935.02</pre>"
            ]
          },
          "metadata": {}
        },
        {
          "output_type": "display_data",
          "data": {
            "text/plain": [
              "recommendations finished on 29000/68984 queries. users per second: 1933.73"
            ],
            "text/html": [
              "<pre>recommendations finished on 29000/68984 queries. users per second: 1933.73</pre>"
            ]
          },
          "metadata": {}
        },
        {
          "output_type": "display_data",
          "data": {
            "text/plain": [
              "recommendations finished on 30000/68984 queries. users per second: 1932.75"
            ],
            "text/html": [
              "<pre>recommendations finished on 30000/68984 queries. users per second: 1932.75</pre>"
            ]
          },
          "metadata": {}
        },
        {
          "output_type": "display_data",
          "data": {
            "text/plain": [
              "recommendations finished on 31000/68984 queries. users per second: 1930.81"
            ],
            "text/html": [
              "<pre>recommendations finished on 31000/68984 queries. users per second: 1930.81</pre>"
            ]
          },
          "metadata": {}
        },
        {
          "output_type": "display_data",
          "data": {
            "text/plain": [
              "recommendations finished on 32000/68984 queries. users per second: 1932.47"
            ],
            "text/html": [
              "<pre>recommendations finished on 32000/68984 queries. users per second: 1932.47</pre>"
            ]
          },
          "metadata": {}
        },
        {
          "output_type": "display_data",
          "data": {
            "text/plain": [
              "recommendations finished on 33000/68984 queries. users per second: 1931.51"
            ],
            "text/html": [
              "<pre>recommendations finished on 33000/68984 queries. users per second: 1931.51</pre>"
            ]
          },
          "metadata": {}
        },
        {
          "output_type": "display_data",
          "data": {
            "text/plain": [
              "recommendations finished on 34000/68984 queries. users per second: 1932.39"
            ],
            "text/html": [
              "<pre>recommendations finished on 34000/68984 queries. users per second: 1932.39</pre>"
            ]
          },
          "metadata": {}
        },
        {
          "output_type": "display_data",
          "data": {
            "text/plain": [
              "recommendations finished on 35000/68984 queries. users per second: 1928.53"
            ],
            "text/html": [
              "<pre>recommendations finished on 35000/68984 queries. users per second: 1928.53</pre>"
            ]
          },
          "metadata": {}
        },
        {
          "output_type": "display_data",
          "data": {
            "text/plain": [
              "recommendations finished on 36000/68984 queries. users per second: 1927.6"
            ],
            "text/html": [
              "<pre>recommendations finished on 36000/68984 queries. users per second: 1927.6</pre>"
            ]
          },
          "metadata": {}
        },
        {
          "output_type": "display_data",
          "data": {
            "text/plain": [
              "recommendations finished on 37000/68984 queries. users per second: 1927.56"
            ],
            "text/html": [
              "<pre>recommendations finished on 37000/68984 queries. users per second: 1927.56</pre>"
            ]
          },
          "metadata": {}
        },
        {
          "output_type": "display_data",
          "data": {
            "text/plain": [
              "recommendations finished on 38000/68984 queries. users per second: 1926.91"
            ],
            "text/html": [
              "<pre>recommendations finished on 38000/68984 queries. users per second: 1926.91</pre>"
            ]
          },
          "metadata": {}
        },
        {
          "output_type": "display_data",
          "data": {
            "text/plain": [
              "recommendations finished on 39000/68984 queries. users per second: 1901.29"
            ],
            "text/html": [
              "<pre>recommendations finished on 39000/68984 queries. users per second: 1901.29</pre>"
            ]
          },
          "metadata": {}
        },
        {
          "output_type": "display_data",
          "data": {
            "text/plain": [
              "recommendations finished on 40000/68984 queries. users per second: 1872.19"
            ],
            "text/html": [
              "<pre>recommendations finished on 40000/68984 queries. users per second: 1872.19</pre>"
            ]
          },
          "metadata": {}
        },
        {
          "output_type": "display_data",
          "data": {
            "text/plain": [
              "recommendations finished on 41000/68984 queries. users per second: 1833.49"
            ],
            "text/html": [
              "<pre>recommendations finished on 41000/68984 queries. users per second: 1833.49</pre>"
            ]
          },
          "metadata": {}
        },
        {
          "output_type": "display_data",
          "data": {
            "text/plain": [
              "recommendations finished on 42000/68984 queries. users per second: 1799.65"
            ],
            "text/html": [
              "<pre>recommendations finished on 42000/68984 queries. users per second: 1799.65</pre>"
            ]
          },
          "metadata": {}
        },
        {
          "output_type": "display_data",
          "data": {
            "text/plain": [
              "recommendations finished on 43000/68984 queries. users per second: 1768.42"
            ],
            "text/html": [
              "<pre>recommendations finished on 43000/68984 queries. users per second: 1768.42</pre>"
            ]
          },
          "metadata": {}
        },
        {
          "output_type": "display_data",
          "data": {
            "text/plain": [
              "recommendations finished on 44000/68984 queries. users per second: 1744.22"
            ],
            "text/html": [
              "<pre>recommendations finished on 44000/68984 queries. users per second: 1744.22</pre>"
            ]
          },
          "metadata": {}
        },
        {
          "output_type": "display_data",
          "data": {
            "text/plain": [
              "recommendations finished on 45000/68984 queries. users per second: 1731.96"
            ],
            "text/html": [
              "<pre>recommendations finished on 45000/68984 queries. users per second: 1731.96</pre>"
            ]
          },
          "metadata": {}
        },
        {
          "output_type": "display_data",
          "data": {
            "text/plain": [
              "recommendations finished on 46000/68984 queries. users per second: 1710.5"
            ],
            "text/html": [
              "<pre>recommendations finished on 46000/68984 queries. users per second: 1710.5</pre>"
            ]
          },
          "metadata": {}
        },
        {
          "output_type": "display_data",
          "data": {
            "text/plain": [
              "recommendations finished on 47000/68984 queries. users per second: 1682.6"
            ],
            "text/html": [
              "<pre>recommendations finished on 47000/68984 queries. users per second: 1682.6</pre>"
            ]
          },
          "metadata": {}
        },
        {
          "output_type": "display_data",
          "data": {
            "text/plain": [
              "recommendations finished on 48000/68984 queries. users per second: 1678.95"
            ],
            "text/html": [
              "<pre>recommendations finished on 48000/68984 queries. users per second: 1678.95</pre>"
            ]
          },
          "metadata": {}
        },
        {
          "output_type": "display_data",
          "data": {
            "text/plain": [
              "recommendations finished on 49000/68984 queries. users per second: 1683.35"
            ],
            "text/html": [
              "<pre>recommendations finished on 49000/68984 queries. users per second: 1683.35</pre>"
            ]
          },
          "metadata": {}
        },
        {
          "output_type": "display_data",
          "data": {
            "text/plain": [
              "recommendations finished on 50000/68984 queries. users per second: 1686.42"
            ],
            "text/html": [
              "<pre>recommendations finished on 50000/68984 queries. users per second: 1686.42</pre>"
            ]
          },
          "metadata": {}
        },
        {
          "output_type": "display_data",
          "data": {
            "text/plain": [
              "recommendations finished on 51000/68984 queries. users per second: 1691.21"
            ],
            "text/html": [
              "<pre>recommendations finished on 51000/68984 queries. users per second: 1691.21</pre>"
            ]
          },
          "metadata": {}
        },
        {
          "output_type": "display_data",
          "data": {
            "text/plain": [
              "recommendations finished on 52000/68984 queries. users per second: 1694.37"
            ],
            "text/html": [
              "<pre>recommendations finished on 52000/68984 queries. users per second: 1694.37</pre>"
            ]
          },
          "metadata": {}
        },
        {
          "output_type": "display_data",
          "data": {
            "text/plain": [
              "recommendations finished on 53000/68984 queries. users per second: 1698.85"
            ],
            "text/html": [
              "<pre>recommendations finished on 53000/68984 queries. users per second: 1698.85</pre>"
            ]
          },
          "metadata": {}
        },
        {
          "output_type": "display_data",
          "data": {
            "text/plain": [
              "recommendations finished on 54000/68984 queries. users per second: 1702.05"
            ],
            "text/html": [
              "<pre>recommendations finished on 54000/68984 queries. users per second: 1702.05</pre>"
            ]
          },
          "metadata": {}
        },
        {
          "output_type": "display_data",
          "data": {
            "text/plain": [
              "recommendations finished on 55000/68984 queries. users per second: 1705.36"
            ],
            "text/html": [
              "<pre>recommendations finished on 55000/68984 queries. users per second: 1705.36</pre>"
            ]
          },
          "metadata": {}
        },
        {
          "output_type": "display_data",
          "data": {
            "text/plain": [
              "recommendations finished on 56000/68984 queries. users per second: 1707.43"
            ],
            "text/html": [
              "<pre>recommendations finished on 56000/68984 queries. users per second: 1707.43</pre>"
            ]
          },
          "metadata": {}
        },
        {
          "output_type": "display_data",
          "data": {
            "text/plain": [
              "recommendations finished on 57000/68984 queries. users per second: 1710.13"
            ],
            "text/html": [
              "<pre>recommendations finished on 57000/68984 queries. users per second: 1710.13</pre>"
            ]
          },
          "metadata": {}
        },
        {
          "output_type": "display_data",
          "data": {
            "text/plain": [
              "recommendations finished on 58000/68984 queries. users per second: 1713.28"
            ],
            "text/html": [
              "<pre>recommendations finished on 58000/68984 queries. users per second: 1713.28</pre>"
            ]
          },
          "metadata": {}
        },
        {
          "output_type": "display_data",
          "data": {
            "text/plain": [
              "recommendations finished on 59000/68984 queries. users per second: 1716.63"
            ],
            "text/html": [
              "<pre>recommendations finished on 59000/68984 queries. users per second: 1716.63</pre>"
            ]
          },
          "metadata": {}
        },
        {
          "output_type": "display_data",
          "data": {
            "text/plain": [
              "recommendations finished on 60000/68984 queries. users per second: 1719.45"
            ],
            "text/html": [
              "<pre>recommendations finished on 60000/68984 queries. users per second: 1719.45</pre>"
            ]
          },
          "metadata": {}
        },
        {
          "output_type": "display_data",
          "data": {
            "text/plain": [
              "recommendations finished on 61000/68984 queries. users per second: 1722.54"
            ],
            "text/html": [
              "<pre>recommendations finished on 61000/68984 queries. users per second: 1722.54</pre>"
            ]
          },
          "metadata": {}
        },
        {
          "output_type": "display_data",
          "data": {
            "text/plain": [
              "recommendations finished on 62000/68984 queries. users per second: 1724.9"
            ],
            "text/html": [
              "<pre>recommendations finished on 62000/68984 queries. users per second: 1724.9</pre>"
            ]
          },
          "metadata": {}
        },
        {
          "output_type": "display_data",
          "data": {
            "text/plain": [
              "recommendations finished on 63000/68984 queries. users per second: 1727.56"
            ],
            "text/html": [
              "<pre>recommendations finished on 63000/68984 queries. users per second: 1727.56</pre>"
            ]
          },
          "metadata": {}
        },
        {
          "output_type": "display_data",
          "data": {
            "text/plain": [
              "recommendations finished on 64000/68984 queries. users per second: 1730.44"
            ],
            "text/html": [
              "<pre>recommendations finished on 64000/68984 queries. users per second: 1730.44</pre>"
            ]
          },
          "metadata": {}
        },
        {
          "output_type": "display_data",
          "data": {
            "text/plain": [
              "recommendations finished on 65000/68984 queries. users per second: 1732.98"
            ],
            "text/html": [
              "<pre>recommendations finished on 65000/68984 queries. users per second: 1732.98</pre>"
            ]
          },
          "metadata": {}
        },
        {
          "output_type": "display_data",
          "data": {
            "text/plain": [
              "recommendations finished on 66000/68984 queries. users per second: 1735.07"
            ],
            "text/html": [
              "<pre>recommendations finished on 66000/68984 queries. users per second: 1735.07</pre>"
            ]
          },
          "metadata": {}
        },
        {
          "output_type": "display_data",
          "data": {
            "text/plain": [
              "recommendations finished on 67000/68984 queries. users per second: 1737.3"
            ],
            "text/html": [
              "<pre>recommendations finished on 67000/68984 queries. users per second: 1737.3</pre>"
            ]
          },
          "metadata": {}
        },
        {
          "output_type": "display_data",
          "data": {
            "text/plain": [
              "recommendations finished on 68000/68984 queries. users per second: 1738.23"
            ],
            "text/html": [
              "<pre>recommendations finished on 68000/68984 queries. users per second: 1738.23</pre>"
            ]
          },
          "metadata": {}
        }
      ],
      "source": [
        "jac_eval = jaccard.evaluate_precision_recall(dfS_val)"
      ]
    },
    {
      "cell_type": "code",
      "execution_count": null,
      "metadata": {
        "colab": {
          "base_uri": "https://localhost:8080/"
        },
        "id": "xHR6gX3jZC_s",
        "outputId": "a34859cc-e505-4dae-a8cd-21022f4f74a6"
      },
      "outputs": [
        {
          "output_type": "execute_result",
          "data": {
            "text/plain": [
              "{'precision_recall_by_user': Columns:\n",
              " \tcustomer_id\tint\n",
              " \tcutoff\tint\n",
              " \tprecision\tfloat\n",
              " \trecall\tfloat\n",
              " \tcount\tint\n",
              " \n",
              " Rows: 1241712\n",
              " \n",
              " Data:\n",
              " +-------------+--------+-----------+--------+-------+\n",
              " | customer_id | cutoff | precision | recall | count |\n",
              " +-------------+--------+-----------+--------+-------+\n",
              " |      0      |   1    |    0.0    |  0.0   |   9   |\n",
              " |      0      |   2    |    0.0    |  0.0   |   9   |\n",
              " |      0      |   3    |    0.0    |  0.0   |   9   |\n",
              " |      0      |   4    |    0.0    |  0.0   |   9   |\n",
              " |      0      |   5    |    0.0    |  0.0   |   9   |\n",
              " |      0      |   6    |    0.0    |  0.0   |   9   |\n",
              " |      0      |   7    |    0.0    |  0.0   |   9   |\n",
              " |      0      |   8    |    0.0    |  0.0   |   9   |\n",
              " |      0      |   9    |    0.0    |  0.0   |   9   |\n",
              " |      0      |   10   |    0.0    |  0.0   |   9   |\n",
              " +-------------+--------+-----------+--------+-------+\n",
              " [1241712 rows x 5 columns]\n",
              " Note: Only the head of the SFrame is printed.\n",
              " You can use print_rows(num_rows=m, num_columns=n) to print more rows and columns.,\n",
              " 'precision_recall_overall': Columns:\n",
              " \tcutoff\tint\n",
              " \tprecision\tfloat\n",
              " \trecall\tfloat\n",
              " \n",
              " Rows: 18\n",
              " \n",
              " Data:\n",
              " +--------+-----------------------+----------------------+\n",
              " | cutoff |       precision       |        recall        |\n",
              " +--------+-----------------------+----------------------+\n",
              " |   1    |  0.008494723414125003 | 0.003570061259889739 |\n",
              " |   2    | 0.0074510031311608455 | 0.005941017692509008 |\n",
              " |   3    |  0.007620124473307754 | 0.008646510234893927 |\n",
              " |   4    |  0.006682709033978888 | 0.01014408738840736  |\n",
              " |   5    |  0.006146352777455469 | 0.011696354785841507 |\n",
              " |   6    |  0.006214001314314529 | 0.013806236571934492 |\n",
              " |   7    |  0.005823296499395445 | 0.014927338591182563 |\n",
              " |   8    |  0.005566508175808903 | 0.01631117632187379  |\n",
              " |   9    |  0.005286249951679516 | 0.017316036386251468 |\n",
              " |   10   |  0.005015655804244501 | 0.018175726490476905 |\n",
              " +--------+-----------------------+----------------------+\n",
              " [18 rows x 3 columns]\n",
              " Note: Only the head of the SFrame is printed.\n",
              " You can use print_rows(num_rows=m, num_columns=n) to print more rows and columns.}"
            ]
          },
          "metadata": {},
          "execution_count": 21
        }
      ],
      "source": [
        "jac_eval"
      ]
    },
    {
      "cell_type": "code",
      "source": [
        "#training on the whole train data\n",
        "jaccard = tc.item_similarity_recommender.create(dfS, \n",
        "                                              user_id='customer_id', \n",
        "                                              item_id='article_id',\n",
        "                                              similarity_type='jaccard')\n",
        "# recommend k products for a list of users (None corresponds to all users) \n",
        "recommendation_jac = jaccard.recommend(users=None, k=12)"
      ],
      "metadata": {
        "id": "knD-5MGPLKsq",
        "colab": {
          "base_uri": "https://localhost:8080/",
          "height": 1000
        },
        "outputId": "d9480cc2-d491-4646-91e6-7c31a340cbbc"
      },
      "execution_count": null,
      "outputs": [
        {
          "output_type": "display_data",
          "data": {
            "text/plain": [
              "Preparing data set."
            ],
            "text/html": [
              "<pre>Preparing data set.</pre>"
            ]
          },
          "metadata": {}
        },
        {
          "output_type": "display_data",
          "data": {
            "text/plain": [
              "    Data has 1390092 observations with 286083 users and 31086 items."
            ],
            "text/html": [
              "<pre>    Data has 1390092 observations with 286083 users and 31086 items.</pre>"
            ]
          },
          "metadata": {}
        },
        {
          "output_type": "display_data",
          "data": {
            "text/plain": [
              "    Data prepared in: 1.1728s"
            ],
            "text/html": [
              "<pre>    Data prepared in: 1.1728s</pre>"
            ]
          },
          "metadata": {}
        },
        {
          "output_type": "display_data",
          "data": {
            "text/plain": [
              "Training model from provided data."
            ],
            "text/html": [
              "<pre>Training model from provided data.</pre>"
            ]
          },
          "metadata": {}
        },
        {
          "output_type": "display_data",
          "data": {
            "text/plain": [
              "Gathering per-item and per-user statistics."
            ],
            "text/html": [
              "<pre>Gathering per-item and per-user statistics.</pre>"
            ]
          },
          "metadata": {}
        },
        {
          "output_type": "display_data",
          "data": {
            "text/plain": [
              "+--------------------------------+------------+"
            ],
            "text/html": [
              "<pre>+--------------------------------+------------+</pre>"
            ]
          },
          "metadata": {}
        },
        {
          "output_type": "display_data",
          "data": {
            "text/plain": [
              "| Elapsed Time (Item Statistics) | % Complete |"
            ],
            "text/html": [
              "<pre>| Elapsed Time (Item Statistics) | % Complete |</pre>"
            ]
          },
          "metadata": {}
        },
        {
          "output_type": "display_data",
          "data": {
            "text/plain": [
              "+--------------------------------+------------+"
            ],
            "text/html": [
              "<pre>+--------------------------------+------------+</pre>"
            ]
          },
          "metadata": {}
        },
        {
          "output_type": "display_data",
          "data": {
            "text/plain": [
              "| 919us                          | 0.25       |"
            ],
            "text/html": [
              "<pre>| 919us                          | 0.25       |</pre>"
            ]
          },
          "metadata": {}
        },
        {
          "output_type": "display_data",
          "data": {
            "text/plain": [
              "| 72.354ms                       | 100        |"
            ],
            "text/html": [
              "<pre>| 72.354ms                       | 100        |</pre>"
            ]
          },
          "metadata": {}
        },
        {
          "output_type": "display_data",
          "data": {
            "text/plain": [
              "+--------------------------------+------------+"
            ],
            "text/html": [
              "<pre>+--------------------------------+------------+</pre>"
            ]
          },
          "metadata": {}
        },
        {
          "output_type": "display_data",
          "data": {
            "text/plain": [
              "Setting up lookup tables."
            ],
            "text/html": [
              "<pre>Setting up lookup tables.</pre>"
            ]
          },
          "metadata": {}
        },
        {
          "output_type": "display_data",
          "data": {
            "text/plain": [
              "Processing data in one pass using dense lookup tables."
            ],
            "text/html": [
              "<pre>Processing data in one pass using dense lookup tables.</pre>"
            ]
          },
          "metadata": {}
        },
        {
          "output_type": "display_data",
          "data": {
            "text/plain": [
              "+-------------------------------------+------------------+-----------------+"
            ],
            "text/html": [
              "<pre>+-------------------------------------+------------------+-----------------+</pre>"
            ]
          },
          "metadata": {}
        },
        {
          "output_type": "display_data",
          "data": {
            "text/plain": [
              "| Elapsed Time (Constructing Lookups) | Total % Complete | Items Processed |"
            ],
            "text/html": [
              "<pre>| Elapsed Time (Constructing Lookups) | Total % Complete | Items Processed |</pre>"
            ]
          },
          "metadata": {}
        },
        {
          "output_type": "display_data",
          "data": {
            "text/plain": [
              "+-------------------------------------+------------------+-----------------+"
            ],
            "text/html": [
              "<pre>+-------------------------------------+------------------+-----------------+</pre>"
            ]
          },
          "metadata": {}
        },
        {
          "output_type": "display_data",
          "data": {
            "text/plain": [
              "| 756.707ms                           | 0                | 1               |"
            ],
            "text/html": [
              "<pre>| 756.707ms                           | 0                | 1               |</pre>"
            ]
          },
          "metadata": {}
        },
        {
          "output_type": "display_data",
          "data": {
            "text/plain": [
              "| 11.13s                              | 100              | 31086           |"
            ],
            "text/html": [
              "<pre>| 11.13s                              | 100              | 31086           |</pre>"
            ]
          },
          "metadata": {}
        },
        {
          "output_type": "display_data",
          "data": {
            "text/plain": [
              "+-------------------------------------+------------------+-----------------+"
            ],
            "text/html": [
              "<pre>+-------------------------------------+------------------+-----------------+</pre>"
            ]
          },
          "metadata": {}
        },
        {
          "output_type": "display_data",
          "data": {
            "text/plain": [
              "Finalizing lookup tables."
            ],
            "text/html": [
              "<pre>Finalizing lookup tables.</pre>"
            ]
          },
          "metadata": {}
        },
        {
          "output_type": "display_data",
          "data": {
            "text/plain": [
              "Generating candidate set for working with new users."
            ],
            "text/html": [
              "<pre>Generating candidate set for working with new users.</pre>"
            ]
          },
          "metadata": {}
        },
        {
          "output_type": "display_data",
          "data": {
            "text/plain": [
              "Finished training in 11.2309s"
            ],
            "text/html": [
              "<pre>Finished training in 11.2309s</pre>"
            ]
          },
          "metadata": {}
        },
        {
          "output_type": "display_data",
          "data": {
            "text/plain": [
              "recommendations finished on 1000/286083 queries. users per second: 3927.19"
            ],
            "text/html": [
              "<pre>recommendations finished on 1000/286083 queries. users per second: 3927.19</pre>"
            ]
          },
          "metadata": {}
        },
        {
          "output_type": "display_data",
          "data": {
            "text/plain": [
              "recommendations finished on 2000/286083 queries. users per second: 3982.44"
            ],
            "text/html": [
              "<pre>recommendations finished on 2000/286083 queries. users per second: 3982.44</pre>"
            ]
          },
          "metadata": {}
        },
        {
          "output_type": "display_data",
          "data": {
            "text/plain": [
              "recommendations finished on 3000/286083 queries. users per second: 3985.64"
            ],
            "text/html": [
              "<pre>recommendations finished on 3000/286083 queries. users per second: 3985.64</pre>"
            ]
          },
          "metadata": {}
        },
        {
          "output_type": "display_data",
          "data": {
            "text/plain": [
              "recommendations finished on 4000/286083 queries. users per second: 4000.5"
            ],
            "text/html": [
              "<pre>recommendations finished on 4000/286083 queries. users per second: 4000.5</pre>"
            ]
          },
          "metadata": {}
        },
        {
          "output_type": "display_data",
          "data": {
            "text/plain": [
              "recommendations finished on 5000/286083 queries. users per second: 3967.59"
            ],
            "text/html": [
              "<pre>recommendations finished on 5000/286083 queries. users per second: 3967.59</pre>"
            ]
          },
          "metadata": {}
        },
        {
          "output_type": "display_data",
          "data": {
            "text/plain": [
              "recommendations finished on 6000/286083 queries. users per second: 3963.62"
            ],
            "text/html": [
              "<pre>recommendations finished on 6000/286083 queries. users per second: 3963.62</pre>"
            ]
          },
          "metadata": {}
        },
        {
          "output_type": "display_data",
          "data": {
            "text/plain": [
              "recommendations finished on 7000/286083 queries. users per second: 3912.57"
            ],
            "text/html": [
              "<pre>recommendations finished on 7000/286083 queries. users per second: 3912.57</pre>"
            ]
          },
          "metadata": {}
        },
        {
          "output_type": "display_data",
          "data": {
            "text/plain": [
              "recommendations finished on 8000/286083 queries. users per second: 3911.72"
            ],
            "text/html": [
              "<pre>recommendations finished on 8000/286083 queries. users per second: 3911.72</pre>"
            ]
          },
          "metadata": {}
        },
        {
          "output_type": "display_data",
          "data": {
            "text/plain": [
              "recommendations finished on 9000/286083 queries. users per second: 3906.1"
            ],
            "text/html": [
              "<pre>recommendations finished on 9000/286083 queries. users per second: 3906.1</pre>"
            ]
          },
          "metadata": {}
        },
        {
          "output_type": "display_data",
          "data": {
            "text/plain": [
              "recommendations finished on 10000/286083 queries. users per second: 3918.48"
            ],
            "text/html": [
              "<pre>recommendations finished on 10000/286083 queries. users per second: 3918.48</pre>"
            ]
          },
          "metadata": {}
        },
        {
          "output_type": "display_data",
          "data": {
            "text/plain": [
              "recommendations finished on 11000/286083 queries. users per second: 3926.72"
            ],
            "text/html": [
              "<pre>recommendations finished on 11000/286083 queries. users per second: 3926.72</pre>"
            ]
          },
          "metadata": {}
        },
        {
          "output_type": "display_data",
          "data": {
            "text/plain": [
              "recommendations finished on 12000/286083 queries. users per second: 3931.41"
            ],
            "text/html": [
              "<pre>recommendations finished on 12000/286083 queries. users per second: 3931.41</pre>"
            ]
          },
          "metadata": {}
        },
        {
          "output_type": "display_data",
          "data": {
            "text/plain": [
              "recommendations finished on 13000/286083 queries. users per second: 3925"
            ],
            "text/html": [
              "<pre>recommendations finished on 13000/286083 queries. users per second: 3925</pre>"
            ]
          },
          "metadata": {}
        },
        {
          "output_type": "display_data",
          "data": {
            "text/plain": [
              "recommendations finished on 14000/286083 queries. users per second: 3921.09"
            ],
            "text/html": [
              "<pre>recommendations finished on 14000/286083 queries. users per second: 3921.09</pre>"
            ]
          },
          "metadata": {}
        },
        {
          "output_type": "display_data",
          "data": {
            "text/plain": [
              "recommendations finished on 15000/286083 queries. users per second: 3930.53"
            ],
            "text/html": [
              "<pre>recommendations finished on 15000/286083 queries. users per second: 3930.53</pre>"
            ]
          },
          "metadata": {}
        },
        {
          "output_type": "display_data",
          "data": {
            "text/plain": [
              "recommendations finished on 16000/286083 queries. users per second: 3933.15"
            ],
            "text/html": [
              "<pre>recommendations finished on 16000/286083 queries. users per second: 3933.15</pre>"
            ]
          },
          "metadata": {}
        },
        {
          "output_type": "display_data",
          "data": {
            "text/plain": [
              "recommendations finished on 17000/286083 queries. users per second: 3908.95"
            ],
            "text/html": [
              "<pre>recommendations finished on 17000/286083 queries. users per second: 3908.95</pre>"
            ]
          },
          "metadata": {}
        },
        {
          "output_type": "display_data",
          "data": {
            "text/plain": [
              "recommendations finished on 18000/286083 queries. users per second: 3913.98"
            ],
            "text/html": [
              "<pre>recommendations finished on 18000/286083 queries. users per second: 3913.98</pre>"
            ]
          },
          "metadata": {}
        },
        {
          "output_type": "display_data",
          "data": {
            "text/plain": [
              "recommendations finished on 19000/286083 queries. users per second: 3909.2"
            ],
            "text/html": [
              "<pre>recommendations finished on 19000/286083 queries. users per second: 3909.2</pre>"
            ]
          },
          "metadata": {}
        },
        {
          "output_type": "display_data",
          "data": {
            "text/plain": [
              "recommendations finished on 20000/286083 queries. users per second: 3908.19"
            ],
            "text/html": [
              "<pre>recommendations finished on 20000/286083 queries. users per second: 3908.19</pre>"
            ]
          },
          "metadata": {}
        },
        {
          "output_type": "display_data",
          "data": {
            "text/plain": [
              "recommendations finished on 21000/286083 queries. users per second: 3907.66"
            ],
            "text/html": [
              "<pre>recommendations finished on 21000/286083 queries. users per second: 3907.66</pre>"
            ]
          },
          "metadata": {}
        },
        {
          "output_type": "display_data",
          "data": {
            "text/plain": [
              "recommendations finished on 22000/286083 queries. users per second: 3914.83"
            ],
            "text/html": [
              "<pre>recommendations finished on 22000/286083 queries. users per second: 3914.83</pre>"
            ]
          },
          "metadata": {}
        },
        {
          "output_type": "display_data",
          "data": {
            "text/plain": [
              "recommendations finished on 23000/286083 queries. users per second: 3914.5"
            ],
            "text/html": [
              "<pre>recommendations finished on 23000/286083 queries. users per second: 3914.5</pre>"
            ]
          },
          "metadata": {}
        },
        {
          "output_type": "display_data",
          "data": {
            "text/plain": [
              "recommendations finished on 24000/286083 queries. users per second: 3916.79"
            ],
            "text/html": [
              "<pre>recommendations finished on 24000/286083 queries. users per second: 3916.79</pre>"
            ]
          },
          "metadata": {}
        },
        {
          "output_type": "display_data",
          "data": {
            "text/plain": [
              "recommendations finished on 25000/286083 queries. users per second: 3916.86"
            ],
            "text/html": [
              "<pre>recommendations finished on 25000/286083 queries. users per second: 3916.86</pre>"
            ]
          },
          "metadata": {}
        },
        {
          "output_type": "display_data",
          "data": {
            "text/plain": [
              "recommendations finished on 26000/286083 queries. users per second: 3920.52"
            ],
            "text/html": [
              "<pre>recommendations finished on 26000/286083 queries. users per second: 3920.52</pre>"
            ]
          },
          "metadata": {}
        },
        {
          "output_type": "display_data",
          "data": {
            "text/plain": [
              "recommendations finished on 27000/286083 queries. users per second: 3924.41"
            ],
            "text/html": [
              "<pre>recommendations finished on 27000/286083 queries. users per second: 3924.41</pre>"
            ]
          },
          "metadata": {}
        },
        {
          "output_type": "display_data",
          "data": {
            "text/plain": [
              "recommendations finished on 28000/286083 queries. users per second: 3924.12"
            ],
            "text/html": [
              "<pre>recommendations finished on 28000/286083 queries. users per second: 3924.12</pre>"
            ]
          },
          "metadata": {}
        },
        {
          "output_type": "display_data",
          "data": {
            "text/plain": [
              "recommendations finished on 29000/286083 queries. users per second: 3923.25"
            ],
            "text/html": [
              "<pre>recommendations finished on 29000/286083 queries. users per second: 3923.25</pre>"
            ]
          },
          "metadata": {}
        },
        {
          "output_type": "display_data",
          "data": {
            "text/plain": [
              "recommendations finished on 30000/286083 queries. users per second: 3926.19"
            ],
            "text/html": [
              "<pre>recommendations finished on 30000/286083 queries. users per second: 3926.19</pre>"
            ]
          },
          "metadata": {}
        },
        {
          "output_type": "display_data",
          "data": {
            "text/plain": [
              "recommendations finished on 31000/286083 queries. users per second: 3928.05"
            ],
            "text/html": [
              "<pre>recommendations finished on 31000/286083 queries. users per second: 3928.05</pre>"
            ]
          },
          "metadata": {}
        },
        {
          "output_type": "display_data",
          "data": {
            "text/plain": [
              "recommendations finished on 32000/286083 queries. users per second: 3932.2"
            ],
            "text/html": [
              "<pre>recommendations finished on 32000/286083 queries. users per second: 3932.2</pre>"
            ]
          },
          "metadata": {}
        },
        {
          "output_type": "display_data",
          "data": {
            "text/plain": [
              "recommendations finished on 33000/286083 queries. users per second: 3930.43"
            ],
            "text/html": [
              "<pre>recommendations finished on 33000/286083 queries. users per second: 3930.43</pre>"
            ]
          },
          "metadata": {}
        },
        {
          "output_type": "display_data",
          "data": {
            "text/plain": [
              "recommendations finished on 34000/286083 queries. users per second: 3931.44"
            ],
            "text/html": [
              "<pre>recommendations finished on 34000/286083 queries. users per second: 3931.44</pre>"
            ]
          },
          "metadata": {}
        },
        {
          "output_type": "display_data",
          "data": {
            "text/plain": [
              "recommendations finished on 35000/286083 queries. users per second: 3928.23"
            ],
            "text/html": [
              "<pre>recommendations finished on 35000/286083 queries. users per second: 3928.23</pre>"
            ]
          },
          "metadata": {}
        },
        {
          "output_type": "display_data",
          "data": {
            "text/plain": [
              "recommendations finished on 36000/286083 queries. users per second: 3930.72"
            ],
            "text/html": [
              "<pre>recommendations finished on 36000/286083 queries. users per second: 3930.72</pre>"
            ]
          },
          "metadata": {}
        },
        {
          "output_type": "display_data",
          "data": {
            "text/plain": [
              "recommendations finished on 37000/286083 queries. users per second: 3928.12"
            ],
            "text/html": [
              "<pre>recommendations finished on 37000/286083 queries. users per second: 3928.12</pre>"
            ]
          },
          "metadata": {}
        },
        {
          "output_type": "display_data",
          "data": {
            "text/plain": [
              "recommendations finished on 38000/286083 queries. users per second: 3931.12"
            ],
            "text/html": [
              "<pre>recommendations finished on 38000/286083 queries. users per second: 3931.12</pre>"
            ]
          },
          "metadata": {}
        },
        {
          "output_type": "display_data",
          "data": {
            "text/plain": [
              "recommendations finished on 39000/286083 queries. users per second: 3931.68"
            ],
            "text/html": [
              "<pre>recommendations finished on 39000/286083 queries. users per second: 3931.68</pre>"
            ]
          },
          "metadata": {}
        },
        {
          "output_type": "display_data",
          "data": {
            "text/plain": [
              "recommendations finished on 40000/286083 queries. users per second: 3935.22"
            ],
            "text/html": [
              "<pre>recommendations finished on 40000/286083 queries. users per second: 3935.22</pre>"
            ]
          },
          "metadata": {}
        },
        {
          "output_type": "display_data",
          "data": {
            "text/plain": [
              "recommendations finished on 41000/286083 queries. users per second: 3934.94"
            ],
            "text/html": [
              "<pre>recommendations finished on 41000/286083 queries. users per second: 3934.94</pre>"
            ]
          },
          "metadata": {}
        },
        {
          "output_type": "display_data",
          "data": {
            "text/plain": [
              "recommendations finished on 42000/286083 queries. users per second: 3934.45"
            ],
            "text/html": [
              "<pre>recommendations finished on 42000/286083 queries. users per second: 3934.45</pre>"
            ]
          },
          "metadata": {}
        },
        {
          "output_type": "display_data",
          "data": {
            "text/plain": [
              "recommendations finished on 43000/286083 queries. users per second: 3934.93"
            ],
            "text/html": [
              "<pre>recommendations finished on 43000/286083 queries. users per second: 3934.93</pre>"
            ]
          },
          "metadata": {}
        },
        {
          "output_type": "display_data",
          "data": {
            "text/plain": [
              "recommendations finished on 44000/286083 queries. users per second: 3934.47"
            ],
            "text/html": [
              "<pre>recommendations finished on 44000/286083 queries. users per second: 3934.47</pre>"
            ]
          },
          "metadata": {}
        },
        {
          "output_type": "display_data",
          "data": {
            "text/plain": [
              "recommendations finished on 45000/286083 queries. users per second: 3935.23"
            ],
            "text/html": [
              "<pre>recommendations finished on 45000/286083 queries. users per second: 3935.23</pre>"
            ]
          },
          "metadata": {}
        },
        {
          "output_type": "display_data",
          "data": {
            "text/plain": [
              "recommendations finished on 46000/286083 queries. users per second: 3932.49"
            ],
            "text/html": [
              "<pre>recommendations finished on 46000/286083 queries. users per second: 3932.49</pre>"
            ]
          },
          "metadata": {}
        },
        {
          "output_type": "display_data",
          "data": {
            "text/plain": [
              "recommendations finished on 47000/286083 queries. users per second: 3934.29"
            ],
            "text/html": [
              "<pre>recommendations finished on 47000/286083 queries. users per second: 3934.29</pre>"
            ]
          },
          "metadata": {}
        },
        {
          "output_type": "display_data",
          "data": {
            "text/plain": [
              "recommendations finished on 48000/286083 queries. users per second: 3935.24"
            ],
            "text/html": [
              "<pre>recommendations finished on 48000/286083 queries. users per second: 3935.24</pre>"
            ]
          },
          "metadata": {}
        },
        {
          "output_type": "display_data",
          "data": {
            "text/plain": [
              "recommendations finished on 49000/286083 queries. users per second: 3935.78"
            ],
            "text/html": [
              "<pre>recommendations finished on 49000/286083 queries. users per second: 3935.78</pre>"
            ]
          },
          "metadata": {}
        },
        {
          "output_type": "display_data",
          "data": {
            "text/plain": [
              "recommendations finished on 50000/286083 queries. users per second: 3934.48"
            ],
            "text/html": [
              "<pre>recommendations finished on 50000/286083 queries. users per second: 3934.48</pre>"
            ]
          },
          "metadata": {}
        },
        {
          "output_type": "display_data",
          "data": {
            "text/plain": [
              "recommendations finished on 51000/286083 queries. users per second: 3936.54"
            ],
            "text/html": [
              "<pre>recommendations finished on 51000/286083 queries. users per second: 3936.54</pre>"
            ]
          },
          "metadata": {}
        },
        {
          "output_type": "display_data",
          "data": {
            "text/plain": [
              "recommendations finished on 52000/286083 queries. users per second: 3936.42"
            ],
            "text/html": [
              "<pre>recommendations finished on 52000/286083 queries. users per second: 3936.42</pre>"
            ]
          },
          "metadata": {}
        },
        {
          "output_type": "display_data",
          "data": {
            "text/plain": [
              "recommendations finished on 53000/286083 queries. users per second: 3937.15"
            ],
            "text/html": [
              "<pre>recommendations finished on 53000/286083 queries. users per second: 3937.15</pre>"
            ]
          },
          "metadata": {}
        },
        {
          "output_type": "display_data",
          "data": {
            "text/plain": [
              "recommendations finished on 54000/286083 queries. users per second: 3935.97"
            ],
            "text/html": [
              "<pre>recommendations finished on 54000/286083 queries. users per second: 3935.97</pre>"
            ]
          },
          "metadata": {}
        },
        {
          "output_type": "display_data",
          "data": {
            "text/plain": [
              "recommendations finished on 55000/286083 queries. users per second: 3937.52"
            ],
            "text/html": [
              "<pre>recommendations finished on 55000/286083 queries. users per second: 3937.52</pre>"
            ]
          },
          "metadata": {}
        },
        {
          "output_type": "display_data",
          "data": {
            "text/plain": [
              "recommendations finished on 56000/286083 queries. users per second: 3936.11"
            ],
            "text/html": [
              "<pre>recommendations finished on 56000/286083 queries. users per second: 3936.11</pre>"
            ]
          },
          "metadata": {}
        },
        {
          "output_type": "display_data",
          "data": {
            "text/plain": [
              "recommendations finished on 57000/286083 queries. users per second: 3934.05"
            ],
            "text/html": [
              "<pre>recommendations finished on 57000/286083 queries. users per second: 3934.05</pre>"
            ]
          },
          "metadata": {}
        },
        {
          "output_type": "display_data",
          "data": {
            "text/plain": [
              "recommendations finished on 58000/286083 queries. users per second: 3931.85"
            ],
            "text/html": [
              "<pre>recommendations finished on 58000/286083 queries. users per second: 3931.85</pre>"
            ]
          },
          "metadata": {}
        },
        {
          "output_type": "display_data",
          "data": {
            "text/plain": [
              "recommendations finished on 59000/286083 queries. users per second: 3929.25"
            ],
            "text/html": [
              "<pre>recommendations finished on 59000/286083 queries. users per second: 3929.25</pre>"
            ]
          },
          "metadata": {}
        },
        {
          "output_type": "display_data",
          "data": {
            "text/plain": [
              "recommendations finished on 60000/286083 queries. users per second: 3924.71"
            ],
            "text/html": [
              "<pre>recommendations finished on 60000/286083 queries. users per second: 3924.71</pre>"
            ]
          },
          "metadata": {}
        },
        {
          "output_type": "display_data",
          "data": {
            "text/plain": [
              "recommendations finished on 61000/286083 queries. users per second: 3920.69"
            ],
            "text/html": [
              "<pre>recommendations finished on 61000/286083 queries. users per second: 3920.69</pre>"
            ]
          },
          "metadata": {}
        },
        {
          "output_type": "display_data",
          "data": {
            "text/plain": [
              "recommendations finished on 62000/286083 queries. users per second: 3917.8"
            ],
            "text/html": [
              "<pre>recommendations finished on 62000/286083 queries. users per second: 3917.8</pre>"
            ]
          },
          "metadata": {}
        },
        {
          "output_type": "display_data",
          "data": {
            "text/plain": [
              "recommendations finished on 63000/286083 queries. users per second: 3914.76"
            ],
            "text/html": [
              "<pre>recommendations finished on 63000/286083 queries. users per second: 3914.76</pre>"
            ]
          },
          "metadata": {}
        },
        {
          "output_type": "display_data",
          "data": {
            "text/plain": [
              "recommendations finished on 64000/286083 queries. users per second: 3898.1"
            ],
            "text/html": [
              "<pre>recommendations finished on 64000/286083 queries. users per second: 3898.1</pre>"
            ]
          },
          "metadata": {}
        },
        {
          "output_type": "display_data",
          "data": {
            "text/plain": [
              "recommendations finished on 65000/286083 queries. users per second: 3866.39"
            ],
            "text/html": [
              "<pre>recommendations finished on 65000/286083 queries. users per second: 3866.39</pre>"
            ]
          },
          "metadata": {}
        },
        {
          "output_type": "display_data",
          "data": {
            "text/plain": [
              "recommendations finished on 66000/286083 queries. users per second: 3817.52"
            ],
            "text/html": [
              "<pre>recommendations finished on 66000/286083 queries. users per second: 3817.52</pre>"
            ]
          },
          "metadata": {}
        },
        {
          "output_type": "display_data",
          "data": {
            "text/plain": [
              "recommendations finished on 67000/286083 queries. users per second: 3767.95"
            ],
            "text/html": [
              "<pre>recommendations finished on 67000/286083 queries. users per second: 3767.95</pre>"
            ]
          },
          "metadata": {}
        },
        {
          "output_type": "display_data",
          "data": {
            "text/plain": [
              "recommendations finished on 68000/286083 queries. users per second: 3733.82"
            ],
            "text/html": [
              "<pre>recommendations finished on 68000/286083 queries. users per second: 3733.82</pre>"
            ]
          },
          "metadata": {}
        },
        {
          "output_type": "display_data",
          "data": {
            "text/plain": [
              "recommendations finished on 69000/286083 queries. users per second: 3690.64"
            ],
            "text/html": [
              "<pre>recommendations finished on 69000/286083 queries. users per second: 3690.64</pre>"
            ]
          },
          "metadata": {}
        },
        {
          "output_type": "display_data",
          "data": {
            "text/plain": [
              "recommendations finished on 70000/286083 queries. users per second: 3648.76"
            ],
            "text/html": [
              "<pre>recommendations finished on 70000/286083 queries. users per second: 3648.76</pre>"
            ]
          },
          "metadata": {}
        },
        {
          "output_type": "display_data",
          "data": {
            "text/plain": [
              "recommendations finished on 71000/286083 queries. users per second: 3609.91"
            ],
            "text/html": [
              "<pre>recommendations finished on 71000/286083 queries. users per second: 3609.91</pre>"
            ]
          },
          "metadata": {}
        },
        {
          "output_type": "display_data",
          "data": {
            "text/plain": [
              "recommendations finished on 72000/286083 queries. users per second: 3581.83"
            ],
            "text/html": [
              "<pre>recommendations finished on 72000/286083 queries. users per second: 3581.83</pre>"
            ]
          },
          "metadata": {}
        },
        {
          "output_type": "display_data",
          "data": {
            "text/plain": [
              "recommendations finished on 73000/286083 queries. users per second: 3557.89"
            ],
            "text/html": [
              "<pre>recommendations finished on 73000/286083 queries. users per second: 3557.89</pre>"
            ]
          },
          "metadata": {}
        },
        {
          "output_type": "display_data",
          "data": {
            "text/plain": [
              "recommendations finished on 74000/286083 queries. users per second: 3530.1"
            ],
            "text/html": [
              "<pre>recommendations finished on 74000/286083 queries. users per second: 3530.1</pre>"
            ]
          },
          "metadata": {}
        },
        {
          "output_type": "display_data",
          "data": {
            "text/plain": [
              "recommendations finished on 75000/286083 queries. users per second: 3507.47"
            ],
            "text/html": [
              "<pre>recommendations finished on 75000/286083 queries. users per second: 3507.47</pre>"
            ]
          },
          "metadata": {}
        },
        {
          "output_type": "display_data",
          "data": {
            "text/plain": [
              "recommendations finished on 76000/286083 queries. users per second: 3483.65"
            ],
            "text/html": [
              "<pre>recommendations finished on 76000/286083 queries. users per second: 3483.65</pre>"
            ]
          },
          "metadata": {}
        },
        {
          "output_type": "display_data",
          "data": {
            "text/plain": [
              "recommendations finished on 77000/286083 queries. users per second: 3457.83"
            ],
            "text/html": [
              "<pre>recommendations finished on 77000/286083 queries. users per second: 3457.83</pre>"
            ]
          },
          "metadata": {}
        },
        {
          "output_type": "display_data",
          "data": {
            "text/plain": [
              "recommendations finished on 78000/286083 queries. users per second: 3436.21"
            ],
            "text/html": [
              "<pre>recommendations finished on 78000/286083 queries. users per second: 3436.21</pre>"
            ]
          },
          "metadata": {}
        },
        {
          "output_type": "display_data",
          "data": {
            "text/plain": [
              "recommendations finished on 79000/286083 queries. users per second: 3432.86"
            ],
            "text/html": [
              "<pre>recommendations finished on 79000/286083 queries. users per second: 3432.86</pre>"
            ]
          },
          "metadata": {}
        },
        {
          "output_type": "display_data",
          "data": {
            "text/plain": [
              "recommendations finished on 80000/286083 queries. users per second: 3438.91"
            ],
            "text/html": [
              "<pre>recommendations finished on 80000/286083 queries. users per second: 3438.91</pre>"
            ]
          },
          "metadata": {}
        },
        {
          "output_type": "display_data",
          "data": {
            "text/plain": [
              "recommendations finished on 81000/286083 queries. users per second: 3445.02"
            ],
            "text/html": [
              "<pre>recommendations finished on 81000/286083 queries. users per second: 3445.02</pre>"
            ]
          },
          "metadata": {}
        },
        {
          "output_type": "display_data",
          "data": {
            "text/plain": [
              "recommendations finished on 82000/286083 queries. users per second: 3450.7"
            ],
            "text/html": [
              "<pre>recommendations finished on 82000/286083 queries. users per second: 3450.7</pre>"
            ]
          },
          "metadata": {}
        },
        {
          "output_type": "display_data",
          "data": {
            "text/plain": [
              "recommendations finished on 83000/286083 queries. users per second: 3455.66"
            ],
            "text/html": [
              "<pre>recommendations finished on 83000/286083 queries. users per second: 3455.66</pre>"
            ]
          },
          "metadata": {}
        },
        {
          "output_type": "display_data",
          "data": {
            "text/plain": [
              "recommendations finished on 84000/286083 queries. users per second: 3461.02"
            ],
            "text/html": [
              "<pre>recommendations finished on 84000/286083 queries. users per second: 3461.02</pre>"
            ]
          },
          "metadata": {}
        },
        {
          "output_type": "display_data",
          "data": {
            "text/plain": [
              "recommendations finished on 85000/286083 queries. users per second: 3466.52"
            ],
            "text/html": [
              "<pre>recommendations finished on 85000/286083 queries. users per second: 3466.52</pre>"
            ]
          },
          "metadata": {}
        },
        {
          "output_type": "display_data",
          "data": {
            "text/plain": [
              "recommendations finished on 86000/286083 queries. users per second: 3472.08"
            ],
            "text/html": [
              "<pre>recommendations finished on 86000/286083 queries. users per second: 3472.08</pre>"
            ]
          },
          "metadata": {}
        },
        {
          "output_type": "display_data",
          "data": {
            "text/plain": [
              "recommendations finished on 87000/286083 queries. users per second: 3475.46"
            ],
            "text/html": [
              "<pre>recommendations finished on 87000/286083 queries. users per second: 3475.46</pre>"
            ]
          },
          "metadata": {}
        },
        {
          "output_type": "display_data",
          "data": {
            "text/plain": [
              "recommendations finished on 88000/286083 queries. users per second: 3480.38"
            ],
            "text/html": [
              "<pre>recommendations finished on 88000/286083 queries. users per second: 3480.38</pre>"
            ]
          },
          "metadata": {}
        },
        {
          "output_type": "display_data",
          "data": {
            "text/plain": [
              "recommendations finished on 89000/286083 queries. users per second: 3486.01"
            ],
            "text/html": [
              "<pre>recommendations finished on 89000/286083 queries. users per second: 3486.01</pre>"
            ]
          },
          "metadata": {}
        },
        {
          "output_type": "display_data",
          "data": {
            "text/plain": [
              "recommendations finished on 90000/286083 queries. users per second: 3488.8"
            ],
            "text/html": [
              "<pre>recommendations finished on 90000/286083 queries. users per second: 3488.8</pre>"
            ]
          },
          "metadata": {}
        },
        {
          "output_type": "display_data",
          "data": {
            "text/plain": [
              "recommendations finished on 91000/286083 queries. users per second: 3492.45"
            ],
            "text/html": [
              "<pre>recommendations finished on 91000/286083 queries. users per second: 3492.45</pre>"
            ]
          },
          "metadata": {}
        },
        {
          "output_type": "display_data",
          "data": {
            "text/plain": [
              "recommendations finished on 92000/286083 queries. users per second: 3496.57"
            ],
            "text/html": [
              "<pre>recommendations finished on 92000/286083 queries. users per second: 3496.57</pre>"
            ]
          },
          "metadata": {}
        },
        {
          "output_type": "display_data",
          "data": {
            "text/plain": [
              "recommendations finished on 93000/286083 queries. users per second: 3501.42"
            ],
            "text/html": [
              "<pre>recommendations finished on 93000/286083 queries. users per second: 3501.42</pre>"
            ]
          },
          "metadata": {}
        },
        {
          "output_type": "display_data",
          "data": {
            "text/plain": [
              "recommendations finished on 94000/286083 queries. users per second: 3505.63"
            ],
            "text/html": [
              "<pre>recommendations finished on 94000/286083 queries. users per second: 3505.63</pre>"
            ]
          },
          "metadata": {}
        },
        {
          "output_type": "display_data",
          "data": {
            "text/plain": [
              "recommendations finished on 95000/286083 queries. users per second: 3508.55"
            ],
            "text/html": [
              "<pre>recommendations finished on 95000/286083 queries. users per second: 3508.55</pre>"
            ]
          },
          "metadata": {}
        },
        {
          "output_type": "display_data",
          "data": {
            "text/plain": [
              "recommendations finished on 96000/286083 queries. users per second: 3513.57"
            ],
            "text/html": [
              "<pre>recommendations finished on 96000/286083 queries. users per second: 3513.57</pre>"
            ]
          },
          "metadata": {}
        },
        {
          "output_type": "display_data",
          "data": {
            "text/plain": [
              "recommendations finished on 97000/286083 queries. users per second: 3518.3"
            ],
            "text/html": [
              "<pre>recommendations finished on 97000/286083 queries. users per second: 3518.3</pre>"
            ]
          },
          "metadata": {}
        },
        {
          "output_type": "display_data",
          "data": {
            "text/plain": [
              "recommendations finished on 98000/286083 queries. users per second: 3523.17"
            ],
            "text/html": [
              "<pre>recommendations finished on 98000/286083 queries. users per second: 3523.17</pre>"
            ]
          },
          "metadata": {}
        },
        {
          "output_type": "display_data",
          "data": {
            "text/plain": [
              "recommendations finished on 99000/286083 queries. users per second: 3526.91"
            ],
            "text/html": [
              "<pre>recommendations finished on 99000/286083 queries. users per second: 3526.91</pre>"
            ]
          },
          "metadata": {}
        },
        {
          "output_type": "display_data",
          "data": {
            "text/plain": [
              "recommendations finished on 100000/286083 queries. users per second: 3531.35"
            ],
            "text/html": [
              "<pre>recommendations finished on 100000/286083 queries. users per second: 3531.35</pre>"
            ]
          },
          "metadata": {}
        },
        {
          "output_type": "display_data",
          "data": {
            "text/plain": [
              "recommendations finished on 101000/286083 queries. users per second: 3536.08"
            ],
            "text/html": [
              "<pre>recommendations finished on 101000/286083 queries. users per second: 3536.08</pre>"
            ]
          },
          "metadata": {}
        },
        {
          "output_type": "display_data",
          "data": {
            "text/plain": [
              "recommendations finished on 102000/286083 queries. users per second: 3539.41"
            ],
            "text/html": [
              "<pre>recommendations finished on 102000/286083 queries. users per second: 3539.41</pre>"
            ]
          },
          "metadata": {}
        },
        {
          "output_type": "display_data",
          "data": {
            "text/plain": [
              "recommendations finished on 103000/286083 queries. users per second: 3542.26"
            ],
            "text/html": [
              "<pre>recommendations finished on 103000/286083 queries. users per second: 3542.26</pre>"
            ]
          },
          "metadata": {}
        },
        {
          "output_type": "display_data",
          "data": {
            "text/plain": [
              "recommendations finished on 104000/286083 queries. users per second: 3545.34"
            ],
            "text/html": [
              "<pre>recommendations finished on 104000/286083 queries. users per second: 3545.34</pre>"
            ]
          },
          "metadata": {}
        },
        {
          "output_type": "display_data",
          "data": {
            "text/plain": [
              "recommendations finished on 105000/286083 queries. users per second: 3548.99"
            ],
            "text/html": [
              "<pre>recommendations finished on 105000/286083 queries. users per second: 3548.99</pre>"
            ]
          },
          "metadata": {}
        },
        {
          "output_type": "display_data",
          "data": {
            "text/plain": [
              "recommendations finished on 106000/286083 queries. users per second: 3551.3"
            ],
            "text/html": [
              "<pre>recommendations finished on 106000/286083 queries. users per second: 3551.3</pre>"
            ]
          },
          "metadata": {}
        },
        {
          "output_type": "display_data",
          "data": {
            "text/plain": [
              "recommendations finished on 107000/286083 queries. users per second: 3553.89"
            ],
            "text/html": [
              "<pre>recommendations finished on 107000/286083 queries. users per second: 3553.89</pre>"
            ]
          },
          "metadata": {}
        },
        {
          "output_type": "display_data",
          "data": {
            "text/plain": [
              "recommendations finished on 108000/286083 queries. users per second: 3553.86"
            ],
            "text/html": [
              "<pre>recommendations finished on 108000/286083 queries. users per second: 3553.86</pre>"
            ]
          },
          "metadata": {}
        },
        {
          "output_type": "display_data",
          "data": {
            "text/plain": [
              "recommendations finished on 109000/286083 queries. users per second: 3555.23"
            ],
            "text/html": [
              "<pre>recommendations finished on 109000/286083 queries. users per second: 3555.23</pre>"
            ]
          },
          "metadata": {}
        },
        {
          "output_type": "display_data",
          "data": {
            "text/plain": [
              "recommendations finished on 110000/286083 queries. users per second: 3557.98"
            ],
            "text/html": [
              "<pre>recommendations finished on 110000/286083 queries. users per second: 3557.98</pre>"
            ]
          },
          "metadata": {}
        },
        {
          "output_type": "display_data",
          "data": {
            "text/plain": [
              "recommendations finished on 111000/286083 queries. users per second: 3560.15"
            ],
            "text/html": [
              "<pre>recommendations finished on 111000/286083 queries. users per second: 3560.15</pre>"
            ]
          },
          "metadata": {}
        },
        {
          "output_type": "display_data",
          "data": {
            "text/plain": [
              "recommendations finished on 112000/286083 queries. users per second: 3564.23"
            ],
            "text/html": [
              "<pre>recommendations finished on 112000/286083 queries. users per second: 3564.23</pre>"
            ]
          },
          "metadata": {}
        },
        {
          "output_type": "display_data",
          "data": {
            "text/plain": [
              "recommendations finished on 113000/286083 queries. users per second: 3567.7"
            ],
            "text/html": [
              "<pre>recommendations finished on 113000/286083 queries. users per second: 3567.7</pre>"
            ]
          },
          "metadata": {}
        },
        {
          "output_type": "display_data",
          "data": {
            "text/plain": [
              "recommendations finished on 114000/286083 queries. users per second: 3570.3"
            ],
            "text/html": [
              "<pre>recommendations finished on 114000/286083 queries. users per second: 3570.3</pre>"
            ]
          },
          "metadata": {}
        },
        {
          "output_type": "display_data",
          "data": {
            "text/plain": [
              "recommendations finished on 115000/286083 queries. users per second: 3573.12"
            ],
            "text/html": [
              "<pre>recommendations finished on 115000/286083 queries. users per second: 3573.12</pre>"
            ]
          },
          "metadata": {}
        },
        {
          "output_type": "display_data",
          "data": {
            "text/plain": [
              "recommendations finished on 116000/286083 queries. users per second: 3576.84"
            ],
            "text/html": [
              "<pre>recommendations finished on 116000/286083 queries. users per second: 3576.84</pre>"
            ]
          },
          "metadata": {}
        },
        {
          "output_type": "display_data",
          "data": {
            "text/plain": [
              "recommendations finished on 117000/286083 queries. users per second: 3580.42"
            ],
            "text/html": [
              "<pre>recommendations finished on 117000/286083 queries. users per second: 3580.42</pre>"
            ]
          },
          "metadata": {}
        },
        {
          "output_type": "display_data",
          "data": {
            "text/plain": [
              "recommendations finished on 118000/286083 queries. users per second: 3583.51"
            ],
            "text/html": [
              "<pre>recommendations finished on 118000/286083 queries. users per second: 3583.51</pre>"
            ]
          },
          "metadata": {}
        },
        {
          "output_type": "display_data",
          "data": {
            "text/plain": [
              "recommendations finished on 119000/286083 queries. users per second: 3584.92"
            ],
            "text/html": [
              "<pre>recommendations finished on 119000/286083 queries. users per second: 3584.92</pre>"
            ]
          },
          "metadata": {}
        },
        {
          "output_type": "display_data",
          "data": {
            "text/plain": [
              "recommendations finished on 120000/286083 queries. users per second: 3579.59"
            ],
            "text/html": [
              "<pre>recommendations finished on 120000/286083 queries. users per second: 3579.59</pre>"
            ]
          },
          "metadata": {}
        },
        {
          "output_type": "display_data",
          "data": {
            "text/plain": [
              "recommendations finished on 121000/286083 queries. users per second: 3562.08"
            ],
            "text/html": [
              "<pre>recommendations finished on 121000/286083 queries. users per second: 3562.08</pre>"
            ]
          },
          "metadata": {}
        },
        {
          "output_type": "display_data",
          "data": {
            "text/plain": [
              "recommendations finished on 122000/286083 queries. users per second: 3553.02"
            ],
            "text/html": [
              "<pre>recommendations finished on 122000/286083 queries. users per second: 3553.02</pre>"
            ]
          },
          "metadata": {}
        },
        {
          "output_type": "display_data",
          "data": {
            "text/plain": [
              "recommendations finished on 123000/286083 queries. users per second: 3556.08"
            ],
            "text/html": [
              "<pre>recommendations finished on 123000/286083 queries. users per second: 3556.08</pre>"
            ]
          },
          "metadata": {}
        },
        {
          "output_type": "display_data",
          "data": {
            "text/plain": [
              "recommendations finished on 124000/286083 queries. users per second: 3559.55"
            ],
            "text/html": [
              "<pre>recommendations finished on 124000/286083 queries. users per second: 3559.55</pre>"
            ]
          },
          "metadata": {}
        },
        {
          "output_type": "display_data",
          "data": {
            "text/plain": [
              "recommendations finished on 125000/286083 queries. users per second: 3562.69"
            ],
            "text/html": [
              "<pre>recommendations finished on 125000/286083 queries. users per second: 3562.69</pre>"
            ]
          },
          "metadata": {}
        },
        {
          "output_type": "display_data",
          "data": {
            "text/plain": [
              "recommendations finished on 126000/286083 queries. users per second: 3564.91"
            ],
            "text/html": [
              "<pre>recommendations finished on 126000/286083 queries. users per second: 3564.91</pre>"
            ]
          },
          "metadata": {}
        },
        {
          "output_type": "display_data",
          "data": {
            "text/plain": [
              "recommendations finished on 127000/286083 queries. users per second: 3568.35"
            ],
            "text/html": [
              "<pre>recommendations finished on 127000/286083 queries. users per second: 3568.35</pre>"
            ]
          },
          "metadata": {}
        },
        {
          "output_type": "display_data",
          "data": {
            "text/plain": [
              "recommendations finished on 128000/286083 queries. users per second: 3571.06"
            ],
            "text/html": [
              "<pre>recommendations finished on 128000/286083 queries. users per second: 3571.06</pre>"
            ]
          },
          "metadata": {}
        },
        {
          "output_type": "display_data",
          "data": {
            "text/plain": [
              "recommendations finished on 129000/286083 queries. users per second: 3574.06"
            ],
            "text/html": [
              "<pre>recommendations finished on 129000/286083 queries. users per second: 3574.06</pre>"
            ]
          },
          "metadata": {}
        },
        {
          "output_type": "display_data",
          "data": {
            "text/plain": [
              "recommendations finished on 130000/286083 queries. users per second: 3575"
            ],
            "text/html": [
              "<pre>recommendations finished on 130000/286083 queries. users per second: 3575</pre>"
            ]
          },
          "metadata": {}
        },
        {
          "output_type": "display_data",
          "data": {
            "text/plain": [
              "recommendations finished on 131000/286083 queries. users per second: 3578.09"
            ],
            "text/html": [
              "<pre>recommendations finished on 131000/286083 queries. users per second: 3578.09</pre>"
            ]
          },
          "metadata": {}
        },
        {
          "output_type": "display_data",
          "data": {
            "text/plain": [
              "recommendations finished on 132000/286083 queries. users per second: 3580.9"
            ],
            "text/html": [
              "<pre>recommendations finished on 132000/286083 queries. users per second: 3580.9</pre>"
            ]
          },
          "metadata": {}
        },
        {
          "output_type": "display_data",
          "data": {
            "text/plain": [
              "recommendations finished on 133000/286083 queries. users per second: 3583.89"
            ],
            "text/html": [
              "<pre>recommendations finished on 133000/286083 queries. users per second: 3583.89</pre>"
            ]
          },
          "metadata": {}
        },
        {
          "output_type": "display_data",
          "data": {
            "text/plain": [
              "recommendations finished on 134000/286083 queries. users per second: 3585.75"
            ],
            "text/html": [
              "<pre>recommendations finished on 134000/286083 queries. users per second: 3585.75</pre>"
            ]
          },
          "metadata": {}
        },
        {
          "output_type": "display_data",
          "data": {
            "text/plain": [
              "recommendations finished on 135000/286083 queries. users per second: 3588.79"
            ],
            "text/html": [
              "<pre>recommendations finished on 135000/286083 queries. users per second: 3588.79</pre>"
            ]
          },
          "metadata": {}
        },
        {
          "output_type": "display_data",
          "data": {
            "text/plain": [
              "recommendations finished on 136000/286083 queries. users per second: 3591.42"
            ],
            "text/html": [
              "<pre>recommendations finished on 136000/286083 queries. users per second: 3591.42</pre>"
            ]
          },
          "metadata": {}
        },
        {
          "output_type": "display_data",
          "data": {
            "text/plain": [
              "recommendations finished on 137000/286083 queries. users per second: 3594.36"
            ],
            "text/html": [
              "<pre>recommendations finished on 137000/286083 queries. users per second: 3594.36</pre>"
            ]
          },
          "metadata": {}
        },
        {
          "output_type": "display_data",
          "data": {
            "text/plain": [
              "recommendations finished on 138000/286083 queries. users per second: 3596.13"
            ],
            "text/html": [
              "<pre>recommendations finished on 138000/286083 queries. users per second: 3596.13</pre>"
            ]
          },
          "metadata": {}
        },
        {
          "output_type": "display_data",
          "data": {
            "text/plain": [
              "recommendations finished on 139000/286083 queries. users per second: 3598.97"
            ],
            "text/html": [
              "<pre>recommendations finished on 139000/286083 queries. users per second: 3598.97</pre>"
            ]
          },
          "metadata": {}
        },
        {
          "output_type": "display_data",
          "data": {
            "text/plain": [
              "recommendations finished on 140000/286083 queries. users per second: 3601.64"
            ],
            "text/html": [
              "<pre>recommendations finished on 140000/286083 queries. users per second: 3601.64</pre>"
            ]
          },
          "metadata": {}
        },
        {
          "output_type": "display_data",
          "data": {
            "text/plain": [
              "recommendations finished on 141000/286083 queries. users per second: 3604.23"
            ],
            "text/html": [
              "<pre>recommendations finished on 141000/286083 queries. users per second: 3604.23</pre>"
            ]
          },
          "metadata": {}
        },
        {
          "output_type": "display_data",
          "data": {
            "text/plain": [
              "recommendations finished on 142000/286083 queries. users per second: 3605.86"
            ],
            "text/html": [
              "<pre>recommendations finished on 142000/286083 queries. users per second: 3605.86</pre>"
            ]
          },
          "metadata": {}
        },
        {
          "output_type": "display_data",
          "data": {
            "text/plain": [
              "recommendations finished on 143000/286083 queries. users per second: 3608.47"
            ],
            "text/html": [
              "<pre>recommendations finished on 143000/286083 queries. users per second: 3608.47</pre>"
            ]
          },
          "metadata": {}
        },
        {
          "output_type": "display_data",
          "data": {
            "text/plain": [
              "recommendations finished on 144000/286083 queries. users per second: 3611.4"
            ],
            "text/html": [
              "<pre>recommendations finished on 144000/286083 queries. users per second: 3611.4</pre>"
            ]
          },
          "metadata": {}
        },
        {
          "output_type": "display_data",
          "data": {
            "text/plain": [
              "recommendations finished on 145000/286083 queries. users per second: 3614.25"
            ],
            "text/html": [
              "<pre>recommendations finished on 145000/286083 queries. users per second: 3614.25</pre>"
            ]
          },
          "metadata": {}
        },
        {
          "output_type": "display_data",
          "data": {
            "text/plain": [
              "recommendations finished on 146000/286083 queries. users per second: 3615.71"
            ],
            "text/html": [
              "<pre>recommendations finished on 146000/286083 queries. users per second: 3615.71</pre>"
            ]
          },
          "metadata": {}
        },
        {
          "output_type": "display_data",
          "data": {
            "text/plain": [
              "recommendations finished on 147000/286083 queries. users per second: 3618.29"
            ],
            "text/html": [
              "<pre>recommendations finished on 147000/286083 queries. users per second: 3618.29</pre>"
            ]
          },
          "metadata": {}
        },
        {
          "output_type": "display_data",
          "data": {
            "text/plain": [
              "recommendations finished on 148000/286083 queries. users per second: 3620.7"
            ],
            "text/html": [
              "<pre>recommendations finished on 148000/286083 queries. users per second: 3620.7</pre>"
            ]
          },
          "metadata": {}
        },
        {
          "output_type": "display_data",
          "data": {
            "text/plain": [
              "recommendations finished on 149000/286083 queries. users per second: 3622.55"
            ],
            "text/html": [
              "<pre>recommendations finished on 149000/286083 queries. users per second: 3622.55</pre>"
            ]
          },
          "metadata": {}
        },
        {
          "output_type": "display_data",
          "data": {
            "text/plain": [
              "recommendations finished on 150000/286083 queries. users per second: 3623.99"
            ],
            "text/html": [
              "<pre>recommendations finished on 150000/286083 queries. users per second: 3623.99</pre>"
            ]
          },
          "metadata": {}
        },
        {
          "output_type": "display_data",
          "data": {
            "text/plain": [
              "recommendations finished on 151000/286083 queries. users per second: 3625.77"
            ],
            "text/html": [
              "<pre>recommendations finished on 151000/286083 queries. users per second: 3625.77</pre>"
            ]
          },
          "metadata": {}
        },
        {
          "output_type": "display_data",
          "data": {
            "text/plain": [
              "recommendations finished on 152000/286083 queries. users per second: 3626.32"
            ],
            "text/html": [
              "<pre>recommendations finished on 152000/286083 queries. users per second: 3626.32</pre>"
            ]
          },
          "metadata": {}
        },
        {
          "output_type": "display_data",
          "data": {
            "text/plain": [
              "recommendations finished on 153000/286083 queries. users per second: 3628.54"
            ],
            "text/html": [
              "<pre>recommendations finished on 153000/286083 queries. users per second: 3628.54</pre>"
            ]
          },
          "metadata": {}
        },
        {
          "output_type": "display_data",
          "data": {
            "text/plain": [
              "recommendations finished on 154000/286083 queries. users per second: 3629.96"
            ],
            "text/html": [
              "<pre>recommendations finished on 154000/286083 queries. users per second: 3629.96</pre>"
            ]
          },
          "metadata": {}
        },
        {
          "output_type": "display_data",
          "data": {
            "text/plain": [
              "recommendations finished on 155000/286083 queries. users per second: 3630.85"
            ],
            "text/html": [
              "<pre>recommendations finished on 155000/286083 queries. users per second: 3630.85</pre>"
            ]
          },
          "metadata": {}
        },
        {
          "output_type": "display_data",
          "data": {
            "text/plain": [
              "recommendations finished on 156000/286083 queries. users per second: 3625.08"
            ],
            "text/html": [
              "<pre>recommendations finished on 156000/286083 queries. users per second: 3625.08</pre>"
            ]
          },
          "metadata": {}
        },
        {
          "output_type": "display_data",
          "data": {
            "text/plain": [
              "recommendations finished on 157000/286083 queries. users per second: 3608.59"
            ],
            "text/html": [
              "<pre>recommendations finished on 157000/286083 queries. users per second: 3608.59</pre>"
            ]
          },
          "metadata": {}
        },
        {
          "output_type": "display_data",
          "data": {
            "text/plain": [
              "recommendations finished on 158000/286083 queries. users per second: 3592.13"
            ],
            "text/html": [
              "<pre>recommendations finished on 158000/286083 queries. users per second: 3592.13</pre>"
            ]
          },
          "metadata": {}
        },
        {
          "output_type": "display_data",
          "data": {
            "text/plain": [
              "recommendations finished on 159000/286083 queries. users per second: 3581.75"
            ],
            "text/html": [
              "<pre>recommendations finished on 159000/286083 queries. users per second: 3581.75</pre>"
            ]
          },
          "metadata": {}
        },
        {
          "output_type": "display_data",
          "data": {
            "text/plain": [
              "recommendations finished on 160000/286083 queries. users per second: 3571.04"
            ],
            "text/html": [
              "<pre>recommendations finished on 160000/286083 queries. users per second: 3571.04</pre>"
            ]
          },
          "metadata": {}
        },
        {
          "output_type": "display_data",
          "data": {
            "text/plain": [
              "recommendations finished on 161000/286083 queries. users per second: 3556.8"
            ],
            "text/html": [
              "<pre>recommendations finished on 161000/286083 queries. users per second: 3556.8</pre>"
            ]
          },
          "metadata": {}
        },
        {
          "output_type": "display_data",
          "data": {
            "text/plain": [
              "recommendations finished on 162000/286083 queries. users per second: 3544.77"
            ],
            "text/html": [
              "<pre>recommendations finished on 162000/286083 queries. users per second: 3544.77</pre>"
            ]
          },
          "metadata": {}
        },
        {
          "output_type": "display_data",
          "data": {
            "text/plain": [
              "recommendations finished on 163000/286083 queries. users per second: 3532.98"
            ],
            "text/html": [
              "<pre>recommendations finished on 163000/286083 queries. users per second: 3532.98</pre>"
            ]
          },
          "metadata": {}
        },
        {
          "output_type": "display_data",
          "data": {
            "text/plain": [
              "recommendations finished on 164000/286083 queries. users per second: 3519.86"
            ],
            "text/html": [
              "<pre>recommendations finished on 164000/286083 queries. users per second: 3519.86</pre>"
            ]
          },
          "metadata": {}
        },
        {
          "output_type": "display_data",
          "data": {
            "text/plain": [
              "recommendations finished on 165000/286083 queries. users per second: 3506.72"
            ],
            "text/html": [
              "<pre>recommendations finished on 165000/286083 queries. users per second: 3506.72</pre>"
            ]
          },
          "metadata": {}
        },
        {
          "output_type": "display_data",
          "data": {
            "text/plain": [
              "recommendations finished on 166000/286083 queries. users per second: 3493.7"
            ],
            "text/html": [
              "<pre>recommendations finished on 166000/286083 queries. users per second: 3493.7</pre>"
            ]
          },
          "metadata": {}
        },
        {
          "output_type": "display_data",
          "data": {
            "text/plain": [
              "recommendations finished on 167000/286083 queries. users per second: 3483.89"
            ],
            "text/html": [
              "<pre>recommendations finished on 167000/286083 queries. users per second: 3483.89</pre>"
            ]
          },
          "metadata": {}
        },
        {
          "output_type": "display_data",
          "data": {
            "text/plain": [
              "recommendations finished on 168000/286083 queries. users per second: 3477.91"
            ],
            "text/html": [
              "<pre>recommendations finished on 168000/286083 queries. users per second: 3477.91</pre>"
            ]
          },
          "metadata": {}
        },
        {
          "output_type": "display_data",
          "data": {
            "text/plain": [
              "recommendations finished on 169000/286083 queries. users per second: 3467.16"
            ],
            "text/html": [
              "<pre>recommendations finished on 169000/286083 queries. users per second: 3467.16</pre>"
            ]
          },
          "metadata": {}
        },
        {
          "output_type": "display_data",
          "data": {
            "text/plain": [
              "recommendations finished on 170000/286083 queries. users per second: 3460.05"
            ],
            "text/html": [
              "<pre>recommendations finished on 170000/286083 queries. users per second: 3460.05</pre>"
            ]
          },
          "metadata": {}
        },
        {
          "output_type": "display_data",
          "data": {
            "text/plain": [
              "recommendations finished on 171000/286083 queries. users per second: 3447.68"
            ],
            "text/html": [
              "<pre>recommendations finished on 171000/286083 queries. users per second: 3447.68</pre>"
            ]
          },
          "metadata": {}
        },
        {
          "output_type": "display_data",
          "data": {
            "text/plain": [
              "recommendations finished on 172000/286083 queries. users per second: 3442.52"
            ],
            "text/html": [
              "<pre>recommendations finished on 172000/286083 queries. users per second: 3442.52</pre>"
            ]
          },
          "metadata": {}
        },
        {
          "output_type": "display_data",
          "data": {
            "text/plain": [
              "recommendations finished on 173000/286083 queries. users per second: 3445.17"
            ],
            "text/html": [
              "<pre>recommendations finished on 173000/286083 queries. users per second: 3445.17</pre>"
            ]
          },
          "metadata": {}
        },
        {
          "output_type": "display_data",
          "data": {
            "text/plain": [
              "recommendations finished on 174000/286083 queries. users per second: 3447.63"
            ],
            "text/html": [
              "<pre>recommendations finished on 174000/286083 queries. users per second: 3447.63</pre>"
            ]
          },
          "metadata": {}
        },
        {
          "output_type": "display_data",
          "data": {
            "text/plain": [
              "recommendations finished on 175000/286083 queries. users per second: 3449.46"
            ],
            "text/html": [
              "<pre>recommendations finished on 175000/286083 queries. users per second: 3449.46</pre>"
            ]
          },
          "metadata": {}
        },
        {
          "output_type": "display_data",
          "data": {
            "text/plain": [
              "recommendations finished on 176000/286083 queries. users per second: 3451.43"
            ],
            "text/html": [
              "<pre>recommendations finished on 176000/286083 queries. users per second: 3451.43</pre>"
            ]
          },
          "metadata": {}
        },
        {
          "output_type": "display_data",
          "data": {
            "text/plain": [
              "recommendations finished on 177000/286083 queries. users per second: 3452.63"
            ],
            "text/html": [
              "<pre>recommendations finished on 177000/286083 queries. users per second: 3452.63</pre>"
            ]
          },
          "metadata": {}
        },
        {
          "output_type": "display_data",
          "data": {
            "text/plain": [
              "recommendations finished on 178000/286083 queries. users per second: 3455.12"
            ],
            "text/html": [
              "<pre>recommendations finished on 178000/286083 queries. users per second: 3455.12</pre>"
            ]
          },
          "metadata": {}
        },
        {
          "output_type": "display_data",
          "data": {
            "text/plain": [
              "recommendations finished on 179000/286083 queries. users per second: 3457.17"
            ],
            "text/html": [
              "<pre>recommendations finished on 179000/286083 queries. users per second: 3457.17</pre>"
            ]
          },
          "metadata": {}
        },
        {
          "output_type": "display_data",
          "data": {
            "text/plain": [
              "recommendations finished on 180000/286083 queries. users per second: 3459.56"
            ],
            "text/html": [
              "<pre>recommendations finished on 180000/286083 queries. users per second: 3459.56</pre>"
            ]
          },
          "metadata": {}
        },
        {
          "output_type": "display_data",
          "data": {
            "text/plain": [
              "recommendations finished on 181000/286083 queries. users per second: 3461.8"
            ],
            "text/html": [
              "<pre>recommendations finished on 181000/286083 queries. users per second: 3461.8</pre>"
            ]
          },
          "metadata": {}
        },
        {
          "output_type": "display_data",
          "data": {
            "text/plain": [
              "recommendations finished on 182000/286083 queries. users per second: 3464.5"
            ],
            "text/html": [
              "<pre>recommendations finished on 182000/286083 queries. users per second: 3464.5</pre>"
            ]
          },
          "metadata": {}
        },
        {
          "output_type": "display_data",
          "data": {
            "text/plain": [
              "recommendations finished on 183000/286083 queries. users per second: 3466.35"
            ],
            "text/html": [
              "<pre>recommendations finished on 183000/286083 queries. users per second: 3466.35</pre>"
            ]
          },
          "metadata": {}
        },
        {
          "output_type": "display_data",
          "data": {
            "text/plain": [
              "recommendations finished on 184000/286083 queries. users per second: 3468.35"
            ],
            "text/html": [
              "<pre>recommendations finished on 184000/286083 queries. users per second: 3468.35</pre>"
            ]
          },
          "metadata": {}
        },
        {
          "output_type": "display_data",
          "data": {
            "text/plain": [
              "recommendations finished on 185000/286083 queries. users per second: 3470.82"
            ],
            "text/html": [
              "<pre>recommendations finished on 185000/286083 queries. users per second: 3470.82</pre>"
            ]
          },
          "metadata": {}
        },
        {
          "output_type": "display_data",
          "data": {
            "text/plain": [
              "recommendations finished on 186000/286083 queries. users per second: 3473.31"
            ],
            "text/html": [
              "<pre>recommendations finished on 186000/286083 queries. users per second: 3473.31</pre>"
            ]
          },
          "metadata": {}
        },
        {
          "output_type": "display_data",
          "data": {
            "text/plain": [
              "recommendations finished on 187000/286083 queries. users per second: 3474.93"
            ],
            "text/html": [
              "<pre>recommendations finished on 187000/286083 queries. users per second: 3474.93</pre>"
            ]
          },
          "metadata": {}
        },
        {
          "output_type": "display_data",
          "data": {
            "text/plain": [
              "recommendations finished on 188000/286083 queries. users per second: 3477.52"
            ],
            "text/html": [
              "<pre>recommendations finished on 188000/286083 queries. users per second: 3477.52</pre>"
            ]
          },
          "metadata": {}
        },
        {
          "output_type": "display_data",
          "data": {
            "text/plain": [
              "recommendations finished on 189000/286083 queries. users per second: 3479.88"
            ],
            "text/html": [
              "<pre>recommendations finished on 189000/286083 queries. users per second: 3479.88</pre>"
            ]
          },
          "metadata": {}
        },
        {
          "output_type": "display_data",
          "data": {
            "text/plain": [
              "recommendations finished on 190000/286083 queries. users per second: 3482.39"
            ],
            "text/html": [
              "<pre>recommendations finished on 190000/286083 queries. users per second: 3482.39</pre>"
            ]
          },
          "metadata": {}
        },
        {
          "output_type": "display_data",
          "data": {
            "text/plain": [
              "recommendations finished on 191000/286083 queries. users per second: 3483.77"
            ],
            "text/html": [
              "<pre>recommendations finished on 191000/286083 queries. users per second: 3483.77</pre>"
            ]
          },
          "metadata": {}
        },
        {
          "output_type": "display_data",
          "data": {
            "text/plain": [
              "recommendations finished on 192000/286083 queries. users per second: 3485.78"
            ],
            "text/html": [
              "<pre>recommendations finished on 192000/286083 queries. users per second: 3485.78</pre>"
            ]
          },
          "metadata": {}
        },
        {
          "output_type": "display_data",
          "data": {
            "text/plain": [
              "recommendations finished on 193000/286083 queries. users per second: 3487.89"
            ],
            "text/html": [
              "<pre>recommendations finished on 193000/286083 queries. users per second: 3487.89</pre>"
            ]
          },
          "metadata": {}
        },
        {
          "output_type": "display_data",
          "data": {
            "text/plain": [
              "recommendations finished on 194000/286083 queries. users per second: 3490.18"
            ],
            "text/html": [
              "<pre>recommendations finished on 194000/286083 queries. users per second: 3490.18</pre>"
            ]
          },
          "metadata": {}
        },
        {
          "output_type": "display_data",
          "data": {
            "text/plain": [
              "recommendations finished on 195000/286083 queries. users per second: 3491.91"
            ],
            "text/html": [
              "<pre>recommendations finished on 195000/286083 queries. users per second: 3491.91</pre>"
            ]
          },
          "metadata": {}
        },
        {
          "output_type": "display_data",
          "data": {
            "text/plain": [
              "recommendations finished on 196000/286083 queries. users per second: 3494.02"
            ],
            "text/html": [
              "<pre>recommendations finished on 196000/286083 queries. users per second: 3494.02</pre>"
            ]
          },
          "metadata": {}
        },
        {
          "output_type": "display_data",
          "data": {
            "text/plain": [
              "recommendations finished on 197000/286083 queries. users per second: 3496.11"
            ],
            "text/html": [
              "<pre>recommendations finished on 197000/286083 queries. users per second: 3496.11</pre>"
            ]
          },
          "metadata": {}
        },
        {
          "output_type": "display_data",
          "data": {
            "text/plain": [
              "recommendations finished on 198000/286083 queries. users per second: 3498.51"
            ],
            "text/html": [
              "<pre>recommendations finished on 198000/286083 queries. users per second: 3498.51</pre>"
            ]
          },
          "metadata": {}
        },
        {
          "output_type": "display_data",
          "data": {
            "text/plain": [
              "recommendations finished on 199000/286083 queries. users per second: 3500.04"
            ],
            "text/html": [
              "<pre>recommendations finished on 199000/286083 queries. users per second: 3500.04</pre>"
            ]
          },
          "metadata": {}
        },
        {
          "output_type": "display_data",
          "data": {
            "text/plain": [
              "recommendations finished on 200000/286083 queries. users per second: 3502.18"
            ],
            "text/html": [
              "<pre>recommendations finished on 200000/286083 queries. users per second: 3502.18</pre>"
            ]
          },
          "metadata": {}
        },
        {
          "output_type": "display_data",
          "data": {
            "text/plain": [
              "recommendations finished on 201000/286083 queries. users per second: 3503.09"
            ],
            "text/html": [
              "<pre>recommendations finished on 201000/286083 queries. users per second: 3503.09</pre>"
            ]
          },
          "metadata": {}
        },
        {
          "output_type": "display_data",
          "data": {
            "text/plain": [
              "recommendations finished on 202000/286083 queries. users per second: 3505.27"
            ],
            "text/html": [
              "<pre>recommendations finished on 202000/286083 queries. users per second: 3505.27</pre>"
            ]
          },
          "metadata": {}
        },
        {
          "output_type": "display_data",
          "data": {
            "text/plain": [
              "recommendations finished on 203000/286083 queries. users per second: 3506.15"
            ],
            "text/html": [
              "<pre>recommendations finished on 203000/286083 queries. users per second: 3506.15</pre>"
            ]
          },
          "metadata": {}
        },
        {
          "output_type": "display_data",
          "data": {
            "text/plain": [
              "recommendations finished on 204000/286083 queries. users per second: 3508.39"
            ],
            "text/html": [
              "<pre>recommendations finished on 204000/286083 queries. users per second: 3508.39</pre>"
            ]
          },
          "metadata": {}
        },
        {
          "output_type": "display_data",
          "data": {
            "text/plain": [
              "recommendations finished on 205000/286083 queries. users per second: 3510.27"
            ],
            "text/html": [
              "<pre>recommendations finished on 205000/286083 queries. users per second: 3510.27</pre>"
            ]
          },
          "metadata": {}
        },
        {
          "output_type": "display_data",
          "data": {
            "text/plain": [
              "recommendations finished on 206000/286083 queries. users per second: 3512.23"
            ],
            "text/html": [
              "<pre>recommendations finished on 206000/286083 queries. users per second: 3512.23</pre>"
            ]
          },
          "metadata": {}
        },
        {
          "output_type": "display_data",
          "data": {
            "text/plain": [
              "recommendations finished on 207000/286083 queries. users per second: 3513.64"
            ],
            "text/html": [
              "<pre>recommendations finished on 207000/286083 queries. users per second: 3513.64</pre>"
            ]
          },
          "metadata": {}
        },
        {
          "output_type": "display_data",
          "data": {
            "text/plain": [
              "recommendations finished on 208000/286083 queries. users per second: 3515.39"
            ],
            "text/html": [
              "<pre>recommendations finished on 208000/286083 queries. users per second: 3515.39</pre>"
            ]
          },
          "metadata": {}
        },
        {
          "output_type": "display_data",
          "data": {
            "text/plain": [
              "recommendations finished on 209000/286083 queries. users per second: 3517.63"
            ],
            "text/html": [
              "<pre>recommendations finished on 209000/286083 queries. users per second: 3517.63</pre>"
            ]
          },
          "metadata": {}
        },
        {
          "output_type": "display_data",
          "data": {
            "text/plain": [
              "recommendations finished on 210000/286083 queries. users per second: 3519.59"
            ],
            "text/html": [
              "<pre>recommendations finished on 210000/286083 queries. users per second: 3519.59</pre>"
            ]
          },
          "metadata": {}
        },
        {
          "output_type": "display_data",
          "data": {
            "text/plain": [
              "recommendations finished on 211000/286083 queries. users per second: 3521.12"
            ],
            "text/html": [
              "<pre>recommendations finished on 211000/286083 queries. users per second: 3521.12</pre>"
            ]
          },
          "metadata": {}
        },
        {
          "output_type": "display_data",
          "data": {
            "text/plain": [
              "recommendations finished on 212000/286083 queries. users per second: 3522.63"
            ],
            "text/html": [
              "<pre>recommendations finished on 212000/286083 queries. users per second: 3522.63</pre>"
            ]
          },
          "metadata": {}
        },
        {
          "output_type": "display_data",
          "data": {
            "text/plain": [
              "recommendations finished on 213000/286083 queries. users per second: 3524.58"
            ],
            "text/html": [
              "<pre>recommendations finished on 213000/286083 queries. users per second: 3524.58</pre>"
            ]
          },
          "metadata": {}
        },
        {
          "output_type": "display_data",
          "data": {
            "text/plain": [
              "recommendations finished on 214000/286083 queries. users per second: 3526.57"
            ],
            "text/html": [
              "<pre>recommendations finished on 214000/286083 queries. users per second: 3526.57</pre>"
            ]
          },
          "metadata": {}
        },
        {
          "output_type": "display_data",
          "data": {
            "text/plain": [
              "recommendations finished on 215000/286083 queries. users per second: 3527.98"
            ],
            "text/html": [
              "<pre>recommendations finished on 215000/286083 queries. users per second: 3527.98</pre>"
            ]
          },
          "metadata": {}
        },
        {
          "output_type": "display_data",
          "data": {
            "text/plain": [
              "recommendations finished on 216000/286083 queries. users per second: 3529.67"
            ],
            "text/html": [
              "<pre>recommendations finished on 216000/286083 queries. users per second: 3529.67</pre>"
            ]
          },
          "metadata": {}
        },
        {
          "output_type": "display_data",
          "data": {
            "text/plain": [
              "recommendations finished on 217000/286083 queries. users per second: 3531.65"
            ],
            "text/html": [
              "<pre>recommendations finished on 217000/286083 queries. users per second: 3531.65</pre>"
            ]
          },
          "metadata": {}
        },
        {
          "output_type": "display_data",
          "data": {
            "text/plain": [
              "recommendations finished on 218000/286083 queries. users per second: 3533.35"
            ],
            "text/html": [
              "<pre>recommendations finished on 218000/286083 queries. users per second: 3533.35</pre>"
            ]
          },
          "metadata": {}
        },
        {
          "output_type": "display_data",
          "data": {
            "text/plain": [
              "recommendations finished on 219000/286083 queries. users per second: 3535.38"
            ],
            "text/html": [
              "<pre>recommendations finished on 219000/286083 queries. users per second: 3535.38</pre>"
            ]
          },
          "metadata": {}
        },
        {
          "output_type": "display_data",
          "data": {
            "text/plain": [
              "recommendations finished on 220000/286083 queries. users per second: 3536.54"
            ],
            "text/html": [
              "<pre>recommendations finished on 220000/286083 queries. users per second: 3536.54</pre>"
            ]
          },
          "metadata": {}
        },
        {
          "output_type": "display_data",
          "data": {
            "text/plain": [
              "recommendations finished on 221000/286083 queries. users per second: 3538.4"
            ],
            "text/html": [
              "<pre>recommendations finished on 221000/286083 queries. users per second: 3538.4</pre>"
            ]
          },
          "metadata": {}
        },
        {
          "output_type": "display_data",
          "data": {
            "text/plain": [
              "recommendations finished on 222000/286083 queries. users per second: 3540.26"
            ],
            "text/html": [
              "<pre>recommendations finished on 222000/286083 queries. users per second: 3540.26</pre>"
            ]
          },
          "metadata": {}
        },
        {
          "output_type": "display_data",
          "data": {
            "text/plain": [
              "recommendations finished on 223000/286083 queries. users per second: 3542.24"
            ],
            "text/html": [
              "<pre>recommendations finished on 223000/286083 queries. users per second: 3542.24</pre>"
            ]
          },
          "metadata": {}
        },
        {
          "output_type": "display_data",
          "data": {
            "text/plain": [
              "recommendations finished on 224000/286083 queries. users per second: 3543.32"
            ],
            "text/html": [
              "<pre>recommendations finished on 224000/286083 queries. users per second: 3543.32</pre>"
            ]
          },
          "metadata": {}
        },
        {
          "output_type": "display_data",
          "data": {
            "text/plain": [
              "recommendations finished on 225000/286083 queries. users per second: 3545.24"
            ],
            "text/html": [
              "<pre>recommendations finished on 225000/286083 queries. users per second: 3545.24</pre>"
            ]
          },
          "metadata": {}
        },
        {
          "output_type": "display_data",
          "data": {
            "text/plain": [
              "recommendations finished on 226000/286083 queries. users per second: 3546.67"
            ],
            "text/html": [
              "<pre>recommendations finished on 226000/286083 queries. users per second: 3546.67</pre>"
            ]
          },
          "metadata": {}
        },
        {
          "output_type": "display_data",
          "data": {
            "text/plain": [
              "recommendations finished on 227000/286083 queries. users per second: 3548.77"
            ],
            "text/html": [
              "<pre>recommendations finished on 227000/286083 queries. users per second: 3548.77</pre>"
            ]
          },
          "metadata": {}
        },
        {
          "output_type": "display_data",
          "data": {
            "text/plain": [
              "recommendations finished on 228000/286083 queries. users per second: 3550.07"
            ],
            "text/html": [
              "<pre>recommendations finished on 228000/286083 queries. users per second: 3550.07</pre>"
            ]
          },
          "metadata": {}
        },
        {
          "output_type": "display_data",
          "data": {
            "text/plain": [
              "recommendations finished on 229000/286083 queries. users per second: 3551.35"
            ],
            "text/html": [
              "<pre>recommendations finished on 229000/286083 queries. users per second: 3551.35</pre>"
            ]
          },
          "metadata": {}
        },
        {
          "output_type": "display_data",
          "data": {
            "text/plain": [
              "recommendations finished on 230000/286083 queries. users per second: 3553.32"
            ],
            "text/html": [
              "<pre>recommendations finished on 230000/286083 queries. users per second: 3553.32</pre>"
            ]
          },
          "metadata": {}
        },
        {
          "output_type": "display_data",
          "data": {
            "text/plain": [
              "recommendations finished on 231000/286083 queries. users per second: 3554.97"
            ],
            "text/html": [
              "<pre>recommendations finished on 231000/286083 queries. users per second: 3554.97</pre>"
            ]
          },
          "metadata": {}
        },
        {
          "output_type": "display_data",
          "data": {
            "text/plain": [
              "recommendations finished on 232000/286083 queries. users per second: 3556.23"
            ],
            "text/html": [
              "<pre>recommendations finished on 232000/286083 queries. users per second: 3556.23</pre>"
            ]
          },
          "metadata": {}
        },
        {
          "output_type": "display_data",
          "data": {
            "text/plain": [
              "recommendations finished on 233000/286083 queries. users per second: 3558.19"
            ],
            "text/html": [
              "<pre>recommendations finished on 233000/286083 queries. users per second: 3558.19</pre>"
            ]
          },
          "metadata": {}
        },
        {
          "output_type": "display_data",
          "data": {
            "text/plain": [
              "recommendations finished on 234000/286083 queries. users per second: 3559.84"
            ],
            "text/html": [
              "<pre>recommendations finished on 234000/286083 queries. users per second: 3559.84</pre>"
            ]
          },
          "metadata": {}
        },
        {
          "output_type": "display_data",
          "data": {
            "text/plain": [
              "recommendations finished on 235000/286083 queries. users per second: 3561.54"
            ],
            "text/html": [
              "<pre>recommendations finished on 235000/286083 queries. users per second: 3561.54</pre>"
            ]
          },
          "metadata": {}
        },
        {
          "output_type": "display_data",
          "data": {
            "text/plain": [
              "recommendations finished on 236000/286083 queries. users per second: 3562.48"
            ],
            "text/html": [
              "<pre>recommendations finished on 236000/286083 queries. users per second: 3562.48</pre>"
            ]
          },
          "metadata": {}
        },
        {
          "output_type": "display_data",
          "data": {
            "text/plain": [
              "recommendations finished on 237000/286083 queries. users per second: 3559.14"
            ],
            "text/html": [
              "<pre>recommendations finished on 237000/286083 queries. users per second: 3559.14</pre>"
            ]
          },
          "metadata": {}
        },
        {
          "output_type": "display_data",
          "data": {
            "text/plain": [
              "recommendations finished on 238000/286083 queries. users per second: 3549.17"
            ],
            "text/html": [
              "<pre>recommendations finished on 238000/286083 queries. users per second: 3549.17</pre>"
            ]
          },
          "metadata": {}
        },
        {
          "output_type": "display_data",
          "data": {
            "text/plain": [
              "recommendations finished on 239000/286083 queries. users per second: 3547.03"
            ],
            "text/html": [
              "<pre>recommendations finished on 239000/286083 queries. users per second: 3547.03</pre>"
            ]
          },
          "metadata": {}
        },
        {
          "output_type": "display_data",
          "data": {
            "text/plain": [
              "recommendations finished on 240000/286083 queries. users per second: 3547.71"
            ],
            "text/html": [
              "<pre>recommendations finished on 240000/286083 queries. users per second: 3547.71</pre>"
            ]
          },
          "metadata": {}
        },
        {
          "output_type": "display_data",
          "data": {
            "text/plain": [
              "recommendations finished on 241000/286083 queries. users per second: 3549.47"
            ],
            "text/html": [
              "<pre>recommendations finished on 241000/286083 queries. users per second: 3549.47</pre>"
            ]
          },
          "metadata": {}
        },
        {
          "output_type": "display_data",
          "data": {
            "text/plain": [
              "recommendations finished on 242000/286083 queries. users per second: 3550.84"
            ],
            "text/html": [
              "<pre>recommendations finished on 242000/286083 queries. users per second: 3550.84</pre>"
            ]
          },
          "metadata": {}
        },
        {
          "output_type": "display_data",
          "data": {
            "text/plain": [
              "recommendations finished on 243000/286083 queries. users per second: 3551.95"
            ],
            "text/html": [
              "<pre>recommendations finished on 243000/286083 queries. users per second: 3551.95</pre>"
            ]
          },
          "metadata": {}
        },
        {
          "output_type": "display_data",
          "data": {
            "text/plain": [
              "recommendations finished on 244000/286083 queries. users per second: 3553.72"
            ],
            "text/html": [
              "<pre>recommendations finished on 244000/286083 queries. users per second: 3553.72</pre>"
            ]
          },
          "metadata": {}
        },
        {
          "output_type": "display_data",
          "data": {
            "text/plain": [
              "recommendations finished on 245000/286083 queries. users per second: 3554.91"
            ],
            "text/html": [
              "<pre>recommendations finished on 245000/286083 queries. users per second: 3554.91</pre>"
            ]
          },
          "metadata": {}
        },
        {
          "output_type": "display_data",
          "data": {
            "text/plain": [
              "recommendations finished on 246000/286083 queries. users per second: 3556.16"
            ],
            "text/html": [
              "<pre>recommendations finished on 246000/286083 queries. users per second: 3556.16</pre>"
            ]
          },
          "metadata": {}
        },
        {
          "output_type": "display_data",
          "data": {
            "text/plain": [
              "recommendations finished on 247000/286083 queries. users per second: 3557.06"
            ],
            "text/html": [
              "<pre>recommendations finished on 247000/286083 queries. users per second: 3557.06</pre>"
            ]
          },
          "metadata": {}
        },
        {
          "output_type": "display_data",
          "data": {
            "text/plain": [
              "recommendations finished on 248000/286083 queries. users per second: 3558.43"
            ],
            "text/html": [
              "<pre>recommendations finished on 248000/286083 queries. users per second: 3558.43</pre>"
            ]
          },
          "metadata": {}
        },
        {
          "output_type": "display_data",
          "data": {
            "text/plain": [
              "recommendations finished on 249000/286083 queries. users per second: 3559.61"
            ],
            "text/html": [
              "<pre>recommendations finished on 249000/286083 queries. users per second: 3559.61</pre>"
            ]
          },
          "metadata": {}
        },
        {
          "output_type": "display_data",
          "data": {
            "text/plain": [
              "recommendations finished on 250000/286083 queries. users per second: 3561.38"
            ],
            "text/html": [
              "<pre>recommendations finished on 250000/286083 queries. users per second: 3561.38</pre>"
            ]
          },
          "metadata": {}
        },
        {
          "output_type": "display_data",
          "data": {
            "text/plain": [
              "recommendations finished on 251000/286083 queries. users per second: 3562.57"
            ],
            "text/html": [
              "<pre>recommendations finished on 251000/286083 queries. users per second: 3562.57</pre>"
            ]
          },
          "metadata": {}
        },
        {
          "output_type": "display_data",
          "data": {
            "text/plain": [
              "recommendations finished on 252000/286083 queries. users per second: 3564.42"
            ],
            "text/html": [
              "<pre>recommendations finished on 252000/286083 queries. users per second: 3564.42</pre>"
            ]
          },
          "metadata": {}
        },
        {
          "output_type": "display_data",
          "data": {
            "text/plain": [
              "recommendations finished on 253000/286083 queries. users per second: 3565.83"
            ],
            "text/html": [
              "<pre>recommendations finished on 253000/286083 queries. users per second: 3565.83</pre>"
            ]
          },
          "metadata": {}
        },
        {
          "output_type": "display_data",
          "data": {
            "text/plain": [
              "recommendations finished on 254000/286083 queries. users per second: 3567.19"
            ],
            "text/html": [
              "<pre>recommendations finished on 254000/286083 queries. users per second: 3567.19</pre>"
            ]
          },
          "metadata": {}
        },
        {
          "output_type": "display_data",
          "data": {
            "text/plain": [
              "recommendations finished on 255000/286083 queries. users per second: 3567.91"
            ],
            "text/html": [
              "<pre>recommendations finished on 255000/286083 queries. users per second: 3567.91</pre>"
            ]
          },
          "metadata": {}
        },
        {
          "output_type": "display_data",
          "data": {
            "text/plain": [
              "recommendations finished on 256000/286083 queries. users per second: 3569.39"
            ],
            "text/html": [
              "<pre>recommendations finished on 256000/286083 queries. users per second: 3569.39</pre>"
            ]
          },
          "metadata": {}
        },
        {
          "output_type": "display_data",
          "data": {
            "text/plain": [
              "recommendations finished on 257000/286083 queries. users per second: 3569.96"
            ],
            "text/html": [
              "<pre>recommendations finished on 257000/286083 queries. users per second: 3569.96</pre>"
            ]
          },
          "metadata": {}
        },
        {
          "output_type": "display_data",
          "data": {
            "text/plain": [
              "recommendations finished on 258000/286083 queries. users per second: 3570.76"
            ],
            "text/html": [
              "<pre>recommendations finished on 258000/286083 queries. users per second: 3570.76</pre>"
            ]
          },
          "metadata": {}
        },
        {
          "output_type": "display_data",
          "data": {
            "text/plain": [
              "recommendations finished on 259000/286083 queries. users per second: 3571.65"
            ],
            "text/html": [
              "<pre>recommendations finished on 259000/286083 queries. users per second: 3571.65</pre>"
            ]
          },
          "metadata": {}
        },
        {
          "output_type": "display_data",
          "data": {
            "text/plain": [
              "recommendations finished on 260000/286083 queries. users per second: 3572.15"
            ],
            "text/html": [
              "<pre>recommendations finished on 260000/286083 queries. users per second: 3572.15</pre>"
            ]
          },
          "metadata": {}
        },
        {
          "output_type": "display_data",
          "data": {
            "text/plain": [
              "recommendations finished on 261000/286083 queries. users per second: 3573.16"
            ],
            "text/html": [
              "<pre>recommendations finished on 261000/286083 queries. users per second: 3573.16</pre>"
            ]
          },
          "metadata": {}
        },
        {
          "output_type": "display_data",
          "data": {
            "text/plain": [
              "recommendations finished on 262000/286083 queries. users per second: 3574.34"
            ],
            "text/html": [
              "<pre>recommendations finished on 262000/286083 queries. users per second: 3574.34</pre>"
            ]
          },
          "metadata": {}
        },
        {
          "output_type": "display_data",
          "data": {
            "text/plain": [
              "recommendations finished on 263000/286083 queries. users per second: 3575.46"
            ],
            "text/html": [
              "<pre>recommendations finished on 263000/286083 queries. users per second: 3575.46</pre>"
            ]
          },
          "metadata": {}
        },
        {
          "output_type": "display_data",
          "data": {
            "text/plain": [
              "recommendations finished on 264000/286083 queries. users per second: 3576.58"
            ],
            "text/html": [
              "<pre>recommendations finished on 264000/286083 queries. users per second: 3576.58</pre>"
            ]
          },
          "metadata": {}
        },
        {
          "output_type": "display_data",
          "data": {
            "text/plain": [
              "recommendations finished on 265000/286083 queries. users per second: 3577.39"
            ],
            "text/html": [
              "<pre>recommendations finished on 265000/286083 queries. users per second: 3577.39</pre>"
            ]
          },
          "metadata": {}
        },
        {
          "output_type": "display_data",
          "data": {
            "text/plain": [
              "recommendations finished on 266000/286083 queries. users per second: 3576.97"
            ],
            "text/html": [
              "<pre>recommendations finished on 266000/286083 queries. users per second: 3576.97</pre>"
            ]
          },
          "metadata": {}
        },
        {
          "output_type": "display_data",
          "data": {
            "text/plain": [
              "recommendations finished on 267000/286083 queries. users per second: 3578.08"
            ],
            "text/html": [
              "<pre>recommendations finished on 267000/286083 queries. users per second: 3578.08</pre>"
            ]
          },
          "metadata": {}
        },
        {
          "output_type": "display_data",
          "data": {
            "text/plain": [
              "recommendations finished on 268000/286083 queries. users per second: 3579.22"
            ],
            "text/html": [
              "<pre>recommendations finished on 268000/286083 queries. users per second: 3579.22</pre>"
            ]
          },
          "metadata": {}
        },
        {
          "output_type": "display_data",
          "data": {
            "text/plain": [
              "recommendations finished on 269000/286083 queries. users per second: 3580.1"
            ],
            "text/html": [
              "<pre>recommendations finished on 269000/286083 queries. users per second: 3580.1</pre>"
            ]
          },
          "metadata": {}
        },
        {
          "output_type": "display_data",
          "data": {
            "text/plain": [
              "recommendations finished on 270000/286083 queries. users per second: 3580.92"
            ],
            "text/html": [
              "<pre>recommendations finished on 270000/286083 queries. users per second: 3580.92</pre>"
            ]
          },
          "metadata": {}
        },
        {
          "output_type": "display_data",
          "data": {
            "text/plain": [
              "recommendations finished on 271000/286083 queries. users per second: 3581.65"
            ],
            "text/html": [
              "<pre>recommendations finished on 271000/286083 queries. users per second: 3581.65</pre>"
            ]
          },
          "metadata": {}
        },
        {
          "output_type": "display_data",
          "data": {
            "text/plain": [
              "recommendations finished on 272000/286083 queries. users per second: 3581.8"
            ],
            "text/html": [
              "<pre>recommendations finished on 272000/286083 queries. users per second: 3581.8</pre>"
            ]
          },
          "metadata": {}
        },
        {
          "output_type": "display_data",
          "data": {
            "text/plain": [
              "recommendations finished on 273000/286083 queries. users per second: 3583.14"
            ],
            "text/html": [
              "<pre>recommendations finished on 273000/286083 queries. users per second: 3583.14</pre>"
            ]
          },
          "metadata": {}
        },
        {
          "output_type": "display_data",
          "data": {
            "text/plain": [
              "recommendations finished on 274000/286083 queries. users per second: 3583.46"
            ],
            "text/html": [
              "<pre>recommendations finished on 274000/286083 queries. users per second: 3583.46</pre>"
            ]
          },
          "metadata": {}
        },
        {
          "output_type": "display_data",
          "data": {
            "text/plain": [
              "recommendations finished on 275000/286083 queries. users per second: 3583.77"
            ],
            "text/html": [
              "<pre>recommendations finished on 275000/286083 queries. users per second: 3583.77</pre>"
            ]
          },
          "metadata": {}
        },
        {
          "output_type": "display_data",
          "data": {
            "text/plain": [
              "recommendations finished on 276000/286083 queries. users per second: 3584.32"
            ],
            "text/html": [
              "<pre>recommendations finished on 276000/286083 queries. users per second: 3584.32</pre>"
            ]
          },
          "metadata": {}
        },
        {
          "output_type": "display_data",
          "data": {
            "text/plain": [
              "recommendations finished on 277000/286083 queries. users per second: 3585.42"
            ],
            "text/html": [
              "<pre>recommendations finished on 277000/286083 queries. users per second: 3585.42</pre>"
            ]
          },
          "metadata": {}
        },
        {
          "output_type": "display_data",
          "data": {
            "text/plain": [
              "recommendations finished on 278000/286083 queries. users per second: 3586.03"
            ],
            "text/html": [
              "<pre>recommendations finished on 278000/286083 queries. users per second: 3586.03</pre>"
            ]
          },
          "metadata": {}
        },
        {
          "output_type": "display_data",
          "data": {
            "text/plain": [
              "recommendations finished on 279000/286083 queries. users per second: 3587.2"
            ],
            "text/html": [
              "<pre>recommendations finished on 279000/286083 queries. users per second: 3587.2</pre>"
            ]
          },
          "metadata": {}
        },
        {
          "output_type": "display_data",
          "data": {
            "text/plain": [
              "recommendations finished on 280000/286083 queries. users per second: 3588.01"
            ],
            "text/html": [
              "<pre>recommendations finished on 280000/286083 queries. users per second: 3588.01</pre>"
            ]
          },
          "metadata": {}
        },
        {
          "output_type": "display_data",
          "data": {
            "text/plain": [
              "recommendations finished on 281000/286083 queries. users per second: 3588.71"
            ],
            "text/html": [
              "<pre>recommendations finished on 281000/286083 queries. users per second: 3588.71</pre>"
            ]
          },
          "metadata": {}
        },
        {
          "output_type": "display_data",
          "data": {
            "text/plain": [
              "recommendations finished on 282000/286083 queries. users per second: 3589.42"
            ],
            "text/html": [
              "<pre>recommendations finished on 282000/286083 queries. users per second: 3589.42</pre>"
            ]
          },
          "metadata": {}
        },
        {
          "output_type": "display_data",
          "data": {
            "text/plain": [
              "recommendations finished on 283000/286083 queries. users per second: 3590.53"
            ],
            "text/html": [
              "<pre>recommendations finished on 283000/286083 queries. users per second: 3590.53</pre>"
            ]
          },
          "metadata": {}
        },
        {
          "output_type": "display_data",
          "data": {
            "text/plain": [
              "recommendations finished on 284000/286083 queries. users per second: 3591.7"
            ],
            "text/html": [
              "<pre>recommendations finished on 284000/286083 queries. users per second: 3591.7</pre>"
            ]
          },
          "metadata": {}
        },
        {
          "output_type": "display_data",
          "data": {
            "text/plain": [
              "recommendations finished on 285000/286083 queries. users per second: 3592.7"
            ],
            "text/html": [
              "<pre>recommendations finished on 285000/286083 queries. users per second: 3592.7</pre>"
            ]
          },
          "metadata": {}
        },
        {
          "output_type": "display_data",
          "data": {
            "text/plain": [
              "recommendations finished on 286000/286083 queries. users per second: 3591.34"
            ],
            "text/html": [
              "<pre>recommendations finished on 286000/286083 queries. users per second: 3591.34</pre>"
            ]
          },
          "metadata": {}
        }
      ]
    },
    {
      "cell_type": "markdown",
      "metadata": {
        "id": "WGxO3TZmg9Yv"
      },
      "source": [
        "# 2 Matrix Factorization"
      ]
    },
    {
      "cell_type": "markdown",
      "metadata": {
        "id": "bWAStoCUxRnH"
      },
      "source": [
        "Latent dimensionality: K < 18609"
      ]
    },
    {
      "cell_type": "markdown",
      "metadata": {
        "id": "gqjWGLbticY6"
      },
      "source": [
        "## 2-1 Adagrad and SGD"
      ]
    },
    {
      "cell_type": "code",
      "execution_count": null,
      "metadata": {
        "colab": {
          "base_uri": "https://localhost:8080/",
          "height": 1000
        },
        "id": "01UNoe3-i3oY",
        "outputId": "f72991dc-0146-45f8-b1fe-161fca74ebc9"
      },
      "outputs": [
        {
          "data": {
            "text/html": [
              "<pre>Preparing data set.</pre>"
            ],
            "text/plain": [
              "Preparing data set."
            ]
          },
          "metadata": {},
          "output_type": "display_data"
        },
        {
          "data": {
            "text/html": [
              "<pre>    Data has 16380622 observations with 305945 users and 42373 items.</pre>"
            ],
            "text/plain": [
              "    Data has 16380622 observations with 305945 users and 42373 items."
            ]
          },
          "metadata": {},
          "output_type": "display_data"
        },
        {
          "data": {
            "text/html": [
              "<pre>    Data prepared in: 16.0679s</pre>"
            ],
            "text/plain": [
              "    Data prepared in: 16.0679s"
            ]
          },
          "metadata": {},
          "output_type": "display_data"
        },
        {
          "data": {
            "text/html": [
              "<pre>Training ranking_factorization_recommender for recommendations.</pre>"
            ],
            "text/plain": [
              "Training ranking_factorization_recommender for recommendations."
            ]
          },
          "metadata": {},
          "output_type": "display_data"
        },
        {
          "data": {
            "text/html": [
              "<pre>+--------------------------------+--------------------------------------------------+----------+</pre>"
            ],
            "text/plain": [
              "+--------------------------------+--------------------------------------------------+----------+"
            ]
          },
          "metadata": {},
          "output_type": "display_data"
        },
        {
          "data": {
            "text/html": [
              "<pre>| Parameter                      | Description                                      | Value    |</pre>"
            ],
            "text/plain": [
              "| Parameter                      | Description                                      | Value    |"
            ]
          },
          "metadata": {},
          "output_type": "display_data"
        },
        {
          "data": {
            "text/html": [
              "<pre>+--------------------------------+--------------------------------------------------+----------+</pre>"
            ],
            "text/plain": [
              "+--------------------------------+--------------------------------------------------+----------+"
            ]
          },
          "metadata": {},
          "output_type": "display_data"
        },
        {
          "data": {
            "text/html": [
              "<pre>| num_factors                    | Factor Dimension                                 | 10       |</pre>"
            ],
            "text/plain": [
              "| num_factors                    | Factor Dimension                                 | 10       |"
            ]
          },
          "metadata": {},
          "output_type": "display_data"
        },
        {
          "data": {
            "text/html": [
              "<pre>| regularization                 | L2 Regularization on Factors                     | 1e-09    |</pre>"
            ],
            "text/plain": [
              "| regularization                 | L2 Regularization on Factors                     | 1e-09    |"
            ]
          },
          "metadata": {},
          "output_type": "display_data"
        },
        {
          "data": {
            "text/html": [
              "<pre>| solver                         | Solver used for training                         | adagrad  |</pre>"
            ],
            "text/plain": [
              "| solver                         | Solver used for training                         | adagrad  |"
            ]
          },
          "metadata": {},
          "output_type": "display_data"
        },
        {
          "data": {
            "text/html": [
              "<pre>| linear_regularization          | L2 Regularization on Linear Coefficients         | 1e-09    |</pre>"
            ],
            "text/plain": [
              "| linear_regularization          | L2 Regularization on Linear Coefficients         | 1e-09    |"
            ]
          },
          "metadata": {},
          "output_type": "display_data"
        },
        {
          "data": {
            "text/html": [
              "<pre>| binary_target                  | Assume Binary Targets                            | True     |</pre>"
            ],
            "text/plain": [
              "| binary_target                  | Assume Binary Targets                            | True     |"
            ]
          },
          "metadata": {},
          "output_type": "display_data"
        },
        {
          "data": {
            "text/html": [
              "<pre>| max_iterations                 | Maximum Number of Iterations                     | 25       |</pre>"
            ],
            "text/plain": [
              "| max_iterations                 | Maximum Number of Iterations                     | 25       |"
            ]
          },
          "metadata": {},
          "output_type": "display_data"
        },
        {
          "data": {
            "text/html": [
              "<pre>+--------------------------------+--------------------------------------------------+----------+</pre>"
            ],
            "text/plain": [
              "+--------------------------------+--------------------------------------------------+----------+"
            ]
          },
          "metadata": {},
          "output_type": "display_data"
        },
        {
          "data": {
            "text/html": [
              "<pre>  Optimizing model using SGD; tuning step size.</pre>"
            ],
            "text/plain": [
              "  Optimizing model using SGD; tuning step size."
            ]
          },
          "metadata": {},
          "output_type": "display_data"
        },
        {
          "data": {
            "text/html": [
              "<pre>  Using 2047577 / 16380622 points for tuning the step size.</pre>"
            ],
            "text/plain": [
              "  Using 2047577 / 16380622 points for tuning the step size."
            ]
          },
          "metadata": {},
          "output_type": "display_data"
        },
        {
          "data": {
            "text/html": [
              "<pre>+---------+-------------------+------------------------------------------+</pre>"
            ],
            "text/plain": [
              "+---------+-------------------+------------------------------------------+"
            ]
          },
          "metadata": {},
          "output_type": "display_data"
        },
        {
          "data": {
            "text/html": [
              "<pre>| Attempt | Initial Step Size | Estimated Objective Value                |</pre>"
            ],
            "text/plain": [
              "| Attempt | Initial Step Size | Estimated Objective Value                |"
            ]
          },
          "metadata": {},
          "output_type": "display_data"
        },
        {
          "data": {
            "text/html": [
              "<pre>+---------+-------------------+------------------------------------------+</pre>"
            ],
            "text/plain": [
              "+---------+-------------------+------------------------------------------+"
            ]
          },
          "metadata": {},
          "output_type": "display_data"
        },
        {
          "data": {
            "text/html": [
              "<pre>| 0       | 25                | No Decrease (13.1825 >= 1.38644)         |</pre>"
            ],
            "text/plain": [
              "| 0       | 25                | No Decrease (13.1825 >= 1.38644)         |"
            ]
          },
          "metadata": {},
          "output_type": "display_data"
        },
        {
          "data": {
            "text/html": [
              "<pre>| 1       | 6.25              | No Decrease (3.33527 >= 1.38644)         |</pre>"
            ],
            "text/plain": [
              "| 1       | 6.25              | No Decrease (3.33527 >= 1.38644)         |"
            ]
          },
          "metadata": {},
          "output_type": "display_data"
        },
        {
          "data": {
            "text/html": [
              "<pre>| 2       | 1.5625            | No Decrease (1.45021 >= 1.38644)         |</pre>"
            ],
            "text/plain": [
              "| 2       | 1.5625            | No Decrease (1.45021 >= 1.38644)         |"
            ]
          },
          "metadata": {},
          "output_type": "display_data"
        },
        {
          "data": {
            "text/html": [
              "<pre>| 3       | 0.390625          | 1.26471                                  |</pre>"
            ],
            "text/plain": [
              "| 3       | 0.390625          | 1.26471                                  |"
            ]
          },
          "metadata": {},
          "output_type": "display_data"
        },
        {
          "data": {
            "text/html": [
              "<pre>| 4       | 0.195312          | 1.2637                                   |</pre>"
            ],
            "text/plain": [
              "| 4       | 0.195312          | 1.2637                                   |"
            ]
          },
          "metadata": {},
          "output_type": "display_data"
        },
        {
          "data": {
            "text/html": [
              "<pre>| 5       | 0.0976562         | 1.28823                                  |</pre>"
            ],
            "text/plain": [
              "| 5       | 0.0976562         | 1.28823                                  |"
            ]
          },
          "metadata": {},
          "output_type": "display_data"
        },
        {
          "data": {
            "text/html": [
              "<pre>| 6       | 0.0488281         | 1.32305                                  |</pre>"
            ],
            "text/plain": [
              "| 6       | 0.0488281         | 1.32305                                  |"
            ]
          },
          "metadata": {},
          "output_type": "display_data"
        },
        {
          "data": {
            "text/html": [
              "<pre>| 7       | 0.0244141         | 1.34976                                  |</pre>"
            ],
            "text/plain": [
              "| 7       | 0.0244141         | 1.34976                                  |"
            ]
          },
          "metadata": {},
          "output_type": "display_data"
        },
        {
          "data": {
            "text/html": [
              "<pre>+---------+-------------------+------------------------------------------+</pre>"
            ],
            "text/plain": [
              "+---------+-------------------+------------------------------------------+"
            ]
          },
          "metadata": {},
          "output_type": "display_data"
        },
        {
          "data": {
            "text/html": [
              "<pre>| Final   | 0.195312          | 1.2637                                   |</pre>"
            ],
            "text/plain": [
              "| Final   | 0.195312          | 1.2637                                   |"
            ]
          },
          "metadata": {},
          "output_type": "display_data"
        },
        {
          "data": {
            "text/html": [
              "<pre>+---------+-------------------+------------------------------------------+</pre>"
            ],
            "text/plain": [
              "+---------+-------------------+------------------------------------------+"
            ]
          },
          "metadata": {},
          "output_type": "display_data"
        },
        {
          "data": {
            "text/html": [
              "<pre>Starting Optimization.</pre>"
            ],
            "text/plain": [
              "Starting Optimization."
            ]
          },
          "metadata": {},
          "output_type": "display_data"
        },
        {
          "data": {
            "text/html": [
              "<pre>+---------+--------------+-------------------+-----------------------------------+-------------+</pre>"
            ],
            "text/plain": [
              "+---------+--------------+-------------------+-----------------------------------+-------------+"
            ]
          },
          "metadata": {},
          "output_type": "display_data"
        },
        {
          "data": {
            "text/html": [
              "<pre>| Iter.   | Elapsed Time | Approx. Objective | Approx. Training Predictive Error | Step Size   |</pre>"
            ],
            "text/plain": [
              "| Iter.   | Elapsed Time | Approx. Objective | Approx. Training Predictive Error | Step Size   |"
            ]
          },
          "metadata": {},
          "output_type": "display_data"
        },
        {
          "data": {
            "text/html": [
              "<pre>+---------+--------------+-------------------+-----------------------------------+-------------+</pre>"
            ],
            "text/plain": [
              "+---------+--------------+-------------------+-----------------------------------+-------------+"
            ]
          },
          "metadata": {},
          "output_type": "display_data"
        },
        {
          "data": {
            "text/html": [
              "<pre>| Initial | 122us        | 1.38644           | 0.693146                          |             |</pre>"
            ],
            "text/plain": [
              "| Initial | 122us        | 1.38644           | 0.693146                          |             |"
            ]
          },
          "metadata": {},
          "output_type": "display_data"
        },
        {
          "data": {
            "text/html": [
              "<pre>+---------+--------------+-------------------+-----------------------------------+-------------+</pre>"
            ],
            "text/plain": [
              "+---------+--------------+-------------------+-----------------------------------+-------------+"
            ]
          },
          "metadata": {},
          "output_type": "display_data"
        },
        {
          "data": {
            "text/html": [
              "<pre>| 1       | 22.19s       | 1.29411           | 0.644891                          | 0.195312    |</pre>"
            ],
            "text/plain": [
              "| 1       | 22.19s       | 1.29411           | 0.644891                          | 0.195312    |"
            ]
          },
          "metadata": {},
          "output_type": "display_data"
        },
        {
          "data": {
            "text/html": [
              "<pre>| 2       | 44.68s       | 1.32145           | 0.66609                           | 0.195312    |</pre>"
            ],
            "text/plain": [
              "| 2       | 44.68s       | 1.32145           | 0.66609                           | 0.195312    |"
            ]
          },
          "metadata": {},
          "output_type": "display_data"
        },
        {
          "data": {
            "text/html": [
              "<pre>| 3       | 1m 6s        | 1.28842           | 0.64992                           | 0.195312    |</pre>"
            ],
            "text/plain": [
              "| 3       | 1m 6s        | 1.28842           | 0.64992                           | 0.195312    |"
            ]
          },
          "metadata": {},
          "output_type": "display_data"
        },
        {
          "data": {
            "text/html": [
              "<pre>| 4       | 1m 29s       | 1.27334           | 0.642814                          | 0.195312    |</pre>"
            ],
            "text/plain": [
              "| 4       | 1m 29s       | 1.27334           | 0.642814                          | 0.195312    |"
            ]
          },
          "metadata": {},
          "output_type": "display_data"
        },
        {
          "data": {
            "text/html": [
              "<pre>| 5       | 1m 53s       | 1.26437           | 0.638682                          | 0.195312    |</pre>"
            ],
            "text/plain": [
              "| 5       | 1m 53s       | 1.26437           | 0.638682                          | 0.195312    |"
            ]
          },
          "metadata": {},
          "output_type": "display_data"
        },
        {
          "data": {
            "text/html": [
              "<pre>| 7       | 2m 35s       | 1.2541            | 0.633889                          | 0.195312    |</pre>"
            ],
            "text/plain": [
              "| 7       | 2m 35s       | 1.2541            | 0.633889                          | 0.195312    |"
            ]
          },
          "metadata": {},
          "output_type": "display_data"
        },
        {
          "data": {
            "text/html": [
              "<pre>| 8       | 2m 56s       | 1.25055           | 0.631531                          | 0.195312    |</pre>"
            ],
            "text/plain": [
              "| 8       | 2m 56s       | 1.25055           | 0.631531                          | 0.195312    |"
            ]
          },
          "metadata": {},
          "output_type": "display_data"
        },
        {
          "data": {
            "text/html": [
              "<pre>| 9       | 3m 17s       | 1.24803           | 0.630747                          | 0.195312    |</pre>"
            ],
            "text/plain": [
              "| 9       | 3m 17s       | 1.24803           | 0.630747                          | 0.195312    |"
            ]
          },
          "metadata": {},
          "output_type": "display_data"
        },
        {
          "data": {
            "text/html": [
              "<pre>| 10      | 3m 38s       | 1.24605           | 0.629364                          | 0.195312    |</pre>"
            ],
            "text/plain": [
              "| 10      | 3m 38s       | 1.24605           | 0.629364                          | 0.195312    |"
            ]
          },
          "metadata": {},
          "output_type": "display_data"
        },
        {
          "data": {
            "text/html": [
              "<pre>| 11      | 4m 1s        | 1.24421           | 0.628246                          | 0.195312    |</pre>"
            ],
            "text/plain": [
              "| 11      | 4m 1s        | 1.24421           | 0.628246                          | 0.195312    |"
            ]
          },
          "metadata": {},
          "output_type": "display_data"
        },
        {
          "data": {
            "text/html": [
              "<pre>| 12      | 4m 22s       | 1.2426            | 0.627749                          | 0.195312    |</pre>"
            ],
            "text/plain": [
              "| 12      | 4m 22s       | 1.2426            | 0.627749                          | 0.195312    |"
            ]
          },
          "metadata": {},
          "output_type": "display_data"
        },
        {
          "data": {
            "text/html": [
              "<pre>| 13      | 4m 43s       | 1.24116           | 0.626753                          | 0.195312    |</pre>"
            ],
            "text/plain": [
              "| 13      | 4m 43s       | 1.24116           | 0.626753                          | 0.195312    |"
            ]
          },
          "metadata": {},
          "output_type": "display_data"
        },
        {
          "data": {
            "text/html": [
              "<pre>| 14      | 5m 4s        | 1.24008           | 0.62614                           | 0.195312    |</pre>"
            ],
            "text/plain": [
              "| 14      | 5m 4s        | 1.24008           | 0.62614                           | 0.195312    |"
            ]
          },
          "metadata": {},
          "output_type": "display_data"
        },
        {
          "data": {
            "text/html": [
              "<pre>| 15      | 5m 25s       | 1.23896           | 0.625872                          | 0.195312    |</pre>"
            ],
            "text/plain": [
              "| 15      | 5m 25s       | 1.23896           | 0.625872                          | 0.195312    |"
            ]
          },
          "metadata": {},
          "output_type": "display_data"
        },
        {
          "data": {
            "text/html": [
              "<pre>| 16      | 5m 47s       | 1.23791           | 0.624912                          | 0.195312    |</pre>"
            ],
            "text/plain": [
              "| 16      | 5m 47s       | 1.23791           | 0.624912                          | 0.195312    |"
            ]
          },
          "metadata": {},
          "output_type": "display_data"
        },
        {
          "data": {
            "text/html": [
              "<pre>| 17      | 6m 8s        | 1.23713           | 0.624498                          | 0.195312    |</pre>"
            ],
            "text/plain": [
              "| 17      | 6m 8s        | 1.23713           | 0.624498                          | 0.195312    |"
            ]
          },
          "metadata": {},
          "output_type": "display_data"
        },
        {
          "data": {
            "text/html": [
              "<pre>| 18      | 6m 29s       | 1.23664           | 0.624203                          | 0.195312    |</pre>"
            ],
            "text/plain": [
              "| 18      | 6m 29s       | 1.23664           | 0.624203                          | 0.195312    |"
            ]
          },
          "metadata": {},
          "output_type": "display_data"
        },
        {
          "data": {
            "text/html": [
              "<pre>| 19      | 6m 50s       | 1.23571           | 0.623788                          | 0.195312    |</pre>"
            ],
            "text/plain": [
              "| 19      | 6m 50s       | 1.23571           | 0.623788                          | 0.195312    |"
            ]
          },
          "metadata": {},
          "output_type": "display_data"
        },
        {
          "data": {
            "text/html": [
              "<pre>| 20      | 7m 11s       | 1.23512           | 0.623478                          | 0.195312    |</pre>"
            ],
            "text/plain": [
              "| 20      | 7m 11s       | 1.23512           | 0.623478                          | 0.195312    |"
            ]
          },
          "metadata": {},
          "output_type": "display_data"
        },
        {
          "data": {
            "text/html": [
              "<pre>| 21      | 7m 32s       | 1.23451           | 0.623094                          | 0.195312    |</pre>"
            ],
            "text/plain": [
              "| 21      | 7m 32s       | 1.23451           | 0.623094                          | 0.195312    |"
            ]
          },
          "metadata": {},
          "output_type": "display_data"
        },
        {
          "data": {
            "text/html": [
              "<pre>| 22      | 7m 55s       | 1.23416           | 0.622804                          | 0.195312    |</pre>"
            ],
            "text/plain": [
              "| 22      | 7m 55s       | 1.23416           | 0.622804                          | 0.195312    |"
            ]
          },
          "metadata": {},
          "output_type": "display_data"
        },
        {
          "data": {
            "text/html": [
              "<pre>| 23      | 8m 16s       | 1.23361           | 0.622601                          | 0.195312    |</pre>"
            ],
            "text/plain": [
              "| 23      | 8m 16s       | 1.23361           | 0.622601                          | 0.195312    |"
            ]
          },
          "metadata": {},
          "output_type": "display_data"
        },
        {
          "data": {
            "text/html": [
              "<pre>| 24      | 8m 36s       | 1.23316           | 0.62214                           | 0.195312    |</pre>"
            ],
            "text/plain": [
              "| 24      | 8m 36s       | 1.23316           | 0.62214                           | 0.195312    |"
            ]
          },
          "metadata": {},
          "output_type": "display_data"
        },
        {
          "data": {
            "text/html": [
              "<pre>| 25      | 8m 56s       | 1.23283           | 0.621907                          | 0.195312    |</pre>"
            ],
            "text/plain": [
              "| 25      | 8m 56s       | 1.23283           | 0.621907                          | 0.195312    |"
            ]
          },
          "metadata": {},
          "output_type": "display_data"
        },
        {
          "data": {
            "text/html": [
              "<pre>+---------+--------------+-------------------+-----------------------------------+-------------+</pre>"
            ],
            "text/plain": [
              "+---------+--------------+-------------------+-----------------------------------+-------------+"
            ]
          },
          "metadata": {},
          "output_type": "display_data"
        },
        {
          "data": {
            "text/html": [
              "<pre>Optimization Complete: Maximum number of passes through the data reached.</pre>"
            ],
            "text/plain": [
              "Optimization Complete: Maximum number of passes through the data reached."
            ]
          },
          "metadata": {},
          "output_type": "display_data"
        },
        {
          "data": {
            "text/html": [
              "<pre>Computing final objective value and training Predictive Error.</pre>"
            ],
            "text/plain": [
              "Computing final objective value and training Predictive Error."
            ]
          },
          "metadata": {},
          "output_type": "display_data"
        },
        {
          "data": {
            "text/html": [
              "<pre>       Final objective value: 1.22702</pre>"
            ],
            "text/plain": [
              "       Final objective value: 1.22702"
            ]
          },
          "metadata": {},
          "output_type": "display_data"
        },
        {
          "data": {
            "text/html": [
              "<pre>       Final training Predictive Error: 0.624688</pre>"
            ],
            "text/plain": [
              "       Final training Predictive Error: 0.624688"
            ]
          },
          "metadata": {},
          "output_type": "display_data"
        },
        {
          "data": {
            "text/html": [
              "<pre>recommendations finished on 1000/305945 queries. users per second: 1360.41</pre>"
            ],
            "text/plain": [
              "recommendations finished on 1000/305945 queries. users per second: 1360.41"
            ]
          },
          "metadata": {},
          "output_type": "display_data"
        },
        {
          "data": {
            "text/html": [
              "<pre>recommendations finished on 2000/305945 queries. users per second: 1396.41</pre>"
            ],
            "text/plain": [
              "recommendations finished on 2000/305945 queries. users per second: 1396.41"
            ]
          },
          "metadata": {},
          "output_type": "display_data"
        },
        {
          "data": {
            "text/html": [
              "<pre>recommendations finished on 3000/305945 queries. users per second: 1397.36</pre>"
            ],
            "text/plain": [
              "recommendations finished on 3000/305945 queries. users per second: 1397.36"
            ]
          },
          "metadata": {},
          "output_type": "display_data"
        },
        {
          "data": {
            "text/html": [
              "<pre>recommendations finished on 4000/305945 queries. users per second: 1398.59</pre>"
            ],
            "text/plain": [
              "recommendations finished on 4000/305945 queries. users per second: 1398.59"
            ]
          },
          "metadata": {},
          "output_type": "display_data"
        },
        {
          "data": {
            "text/html": [
              "<pre>recommendations finished on 5000/305945 queries. users per second: 1407.3</pre>"
            ],
            "text/plain": [
              "recommendations finished on 5000/305945 queries. users per second: 1407.3"
            ]
          },
          "metadata": {},
          "output_type": "display_data"
        },
        {
          "data": {
            "text/html": [
              "<pre>recommendations finished on 6000/305945 queries. users per second: 1407.99</pre>"
            ],
            "text/plain": [
              "recommendations finished on 6000/305945 queries. users per second: 1407.99"
            ]
          },
          "metadata": {},
          "output_type": "display_data"
        },
        {
          "data": {
            "text/html": [
              "<pre>recommendations finished on 7000/305945 queries. users per second: 1407.09</pre>"
            ],
            "text/plain": [
              "recommendations finished on 7000/305945 queries. users per second: 1407.09"
            ]
          },
          "metadata": {},
          "output_type": "display_data"
        },
        {
          "data": {
            "text/html": [
              "<pre>recommendations finished on 8000/305945 queries. users per second: 1409.27</pre>"
            ],
            "text/plain": [
              "recommendations finished on 8000/305945 queries. users per second: 1409.27"
            ]
          },
          "metadata": {},
          "output_type": "display_data"
        },
        {
          "data": {
            "text/html": [
              "<pre>recommendations finished on 9000/305945 queries. users per second: 1404.72</pre>"
            ],
            "text/plain": [
              "recommendations finished on 9000/305945 queries. users per second: 1404.72"
            ]
          },
          "metadata": {},
          "output_type": "display_data"
        },
        {
          "data": {
            "text/html": [
              "<pre>recommendations finished on 10000/305945 queries. users per second: 1405.38</pre>"
            ],
            "text/plain": [
              "recommendations finished on 10000/305945 queries. users per second: 1405.38"
            ]
          },
          "metadata": {},
          "output_type": "display_data"
        },
        {
          "data": {
            "text/html": [
              "<pre>recommendations finished on 11000/305945 queries. users per second: 1401.94</pre>"
            ],
            "text/plain": [
              "recommendations finished on 11000/305945 queries. users per second: 1401.94"
            ]
          },
          "metadata": {},
          "output_type": "display_data"
        },
        {
          "data": {
            "text/html": [
              "<pre>recommendations finished on 12000/305945 queries. users per second: 1398.11</pre>"
            ],
            "text/plain": [
              "recommendations finished on 12000/305945 queries. users per second: 1398.11"
            ]
          },
          "metadata": {},
          "output_type": "display_data"
        },
        {
          "data": {
            "text/html": [
              "<pre>recommendations finished on 13000/305945 queries. users per second: 1395.93</pre>"
            ],
            "text/plain": [
              "recommendations finished on 13000/305945 queries. users per second: 1395.93"
            ]
          },
          "metadata": {},
          "output_type": "display_data"
        },
        {
          "data": {
            "text/html": [
              "<pre>recommendations finished on 14000/305945 queries. users per second: 1392.56</pre>"
            ],
            "text/plain": [
              "recommendations finished on 14000/305945 queries. users per second: 1392.56"
            ]
          },
          "metadata": {},
          "output_type": "display_data"
        },
        {
          "data": {
            "text/html": [
              "<pre>recommendations finished on 15000/305945 queries. users per second: 1393.88</pre>"
            ],
            "text/plain": [
              "recommendations finished on 15000/305945 queries. users per second: 1393.88"
            ]
          },
          "metadata": {},
          "output_type": "display_data"
        },
        {
          "data": {
            "text/html": [
              "<pre>recommendations finished on 16000/305945 queries. users per second: 1395.07</pre>"
            ],
            "text/plain": [
              "recommendations finished on 16000/305945 queries. users per second: 1395.07"
            ]
          },
          "metadata": {},
          "output_type": "display_data"
        },
        {
          "data": {
            "text/html": [
              "<pre>recommendations finished on 17000/305945 queries. users per second: 1394.78</pre>"
            ],
            "text/plain": [
              "recommendations finished on 17000/305945 queries. users per second: 1394.78"
            ]
          },
          "metadata": {},
          "output_type": "display_data"
        },
        {
          "data": {
            "text/html": [
              "<pre>recommendations finished on 18000/305945 queries. users per second: 1393.36</pre>"
            ],
            "text/plain": [
              "recommendations finished on 18000/305945 queries. users per second: 1393.36"
            ]
          },
          "metadata": {},
          "output_type": "display_data"
        },
        {
          "data": {
            "text/html": [
              "<pre>recommendations finished on 19000/305945 queries. users per second: 1391.9</pre>"
            ],
            "text/plain": [
              "recommendations finished on 19000/305945 queries. users per second: 1391.9"
            ]
          },
          "metadata": {},
          "output_type": "display_data"
        },
        {
          "data": {
            "text/html": [
              "<pre>recommendations finished on 20000/305945 queries. users per second: 1391.93</pre>"
            ],
            "text/plain": [
              "recommendations finished on 20000/305945 queries. users per second: 1391.93"
            ]
          },
          "metadata": {},
          "output_type": "display_data"
        },
        {
          "data": {
            "text/html": [
              "<pre>recommendations finished on 21000/305945 queries. users per second: 1392.39</pre>"
            ],
            "text/plain": [
              "recommendations finished on 21000/305945 queries. users per second: 1392.39"
            ]
          },
          "metadata": {},
          "output_type": "display_data"
        },
        {
          "data": {
            "text/html": [
              "<pre>recommendations finished on 22000/305945 queries. users per second: 1394.15</pre>"
            ],
            "text/plain": [
              "recommendations finished on 22000/305945 queries. users per second: 1394.15"
            ]
          },
          "metadata": {},
          "output_type": "display_data"
        },
        {
          "data": {
            "text/html": [
              "<pre>recommendations finished on 23000/305945 queries. users per second: 1393.76</pre>"
            ],
            "text/plain": [
              "recommendations finished on 23000/305945 queries. users per second: 1393.76"
            ]
          },
          "metadata": {},
          "output_type": "display_data"
        },
        {
          "data": {
            "text/html": [
              "<pre>recommendations finished on 24000/305945 queries. users per second: 1393.23</pre>"
            ],
            "text/plain": [
              "recommendations finished on 24000/305945 queries. users per second: 1393.23"
            ]
          },
          "metadata": {},
          "output_type": "display_data"
        },
        {
          "data": {
            "text/html": [
              "<pre>recommendations finished on 25000/305945 queries. users per second: 1394.19</pre>"
            ],
            "text/plain": [
              "recommendations finished on 25000/305945 queries. users per second: 1394.19"
            ]
          },
          "metadata": {},
          "output_type": "display_data"
        },
        {
          "data": {
            "text/html": [
              "<pre>recommendations finished on 26000/305945 queries. users per second: 1393.32</pre>"
            ],
            "text/plain": [
              "recommendations finished on 26000/305945 queries. users per second: 1393.32"
            ]
          },
          "metadata": {},
          "output_type": "display_data"
        },
        {
          "data": {
            "text/html": [
              "<pre>recommendations finished on 27000/305945 queries. users per second: 1394.7</pre>"
            ],
            "text/plain": [
              "recommendations finished on 27000/305945 queries. users per second: 1394.7"
            ]
          },
          "metadata": {},
          "output_type": "display_data"
        },
        {
          "data": {
            "text/html": [
              "<pre>recommendations finished on 28000/305945 queries. users per second: 1396.16</pre>"
            ],
            "text/plain": [
              "recommendations finished on 28000/305945 queries. users per second: 1396.16"
            ]
          },
          "metadata": {},
          "output_type": "display_data"
        },
        {
          "data": {
            "text/html": [
              "<pre>recommendations finished on 29000/305945 queries. users per second: 1397.21</pre>"
            ],
            "text/plain": [
              "recommendations finished on 29000/305945 queries. users per second: 1397.21"
            ]
          },
          "metadata": {},
          "output_type": "display_data"
        },
        {
          "data": {
            "text/html": [
              "<pre>recommendations finished on 30000/305945 queries. users per second: 1397.81</pre>"
            ],
            "text/plain": [
              "recommendations finished on 30000/305945 queries. users per second: 1397.81"
            ]
          },
          "metadata": {},
          "output_type": "display_data"
        },
        {
          "data": {
            "text/html": [
              "<pre>recommendations finished on 31000/305945 queries. users per second: 1398.3</pre>"
            ],
            "text/plain": [
              "recommendations finished on 31000/305945 queries. users per second: 1398.3"
            ]
          },
          "metadata": {},
          "output_type": "display_data"
        },
        {
          "data": {
            "text/html": [
              "<pre>recommendations finished on 32000/305945 queries. users per second: 1399.27</pre>"
            ],
            "text/plain": [
              "recommendations finished on 32000/305945 queries. users per second: 1399.27"
            ]
          },
          "metadata": {},
          "output_type": "display_data"
        },
        {
          "data": {
            "text/html": [
              "<pre>recommendations finished on 33000/305945 queries. users per second: 1399.61</pre>"
            ],
            "text/plain": [
              "recommendations finished on 33000/305945 queries. users per second: 1399.61"
            ]
          },
          "metadata": {},
          "output_type": "display_data"
        },
        {
          "data": {
            "text/html": [
              "<pre>recommendations finished on 34000/305945 queries. users per second: 1399.67</pre>"
            ],
            "text/plain": [
              "recommendations finished on 34000/305945 queries. users per second: 1399.67"
            ]
          },
          "metadata": {},
          "output_type": "display_data"
        },
        {
          "data": {
            "text/html": [
              "<pre>recommendations finished on 35000/305945 queries. users per second: 1398.91</pre>"
            ],
            "text/plain": [
              "recommendations finished on 35000/305945 queries. users per second: 1398.91"
            ]
          },
          "metadata": {},
          "output_type": "display_data"
        },
        {
          "data": {
            "text/html": [
              "<pre>recommendations finished on 36000/305945 queries. users per second: 1398.95</pre>"
            ],
            "text/plain": [
              "recommendations finished on 36000/305945 queries. users per second: 1398.95"
            ]
          },
          "metadata": {},
          "output_type": "display_data"
        },
        {
          "data": {
            "text/html": [
              "<pre>recommendations finished on 37000/305945 queries. users per second: 1398.24</pre>"
            ],
            "text/plain": [
              "recommendations finished on 37000/305945 queries. users per second: 1398.24"
            ]
          },
          "metadata": {},
          "output_type": "display_data"
        },
        {
          "data": {
            "text/html": [
              "<pre>recommendations finished on 38000/305945 queries. users per second: 1398.14</pre>"
            ],
            "text/plain": [
              "recommendations finished on 38000/305945 queries. users per second: 1398.14"
            ]
          },
          "metadata": {},
          "output_type": "display_data"
        },
        {
          "data": {
            "text/html": [
              "<pre>recommendations finished on 39000/305945 queries. users per second: 1398.2</pre>"
            ],
            "text/plain": [
              "recommendations finished on 39000/305945 queries. users per second: 1398.2"
            ]
          },
          "metadata": {},
          "output_type": "display_data"
        },
        {
          "data": {
            "text/html": [
              "<pre>recommendations finished on 40000/305945 queries. users per second: 1398.02</pre>"
            ],
            "text/plain": [
              "recommendations finished on 40000/305945 queries. users per second: 1398.02"
            ]
          },
          "metadata": {},
          "output_type": "display_data"
        },
        {
          "data": {
            "text/html": [
              "<pre>recommendations finished on 41000/305945 queries. users per second: 1396.86</pre>"
            ],
            "text/plain": [
              "recommendations finished on 41000/305945 queries. users per second: 1396.86"
            ]
          },
          "metadata": {},
          "output_type": "display_data"
        },
        {
          "data": {
            "text/html": [
              "<pre>recommendations finished on 42000/305945 queries. users per second: 1397.09</pre>"
            ],
            "text/plain": [
              "recommendations finished on 42000/305945 queries. users per second: 1397.09"
            ]
          },
          "metadata": {},
          "output_type": "display_data"
        },
        {
          "data": {
            "text/html": [
              "<pre>recommendations finished on 43000/305945 queries. users per second: 1397.65</pre>"
            ],
            "text/plain": [
              "recommendations finished on 43000/305945 queries. users per second: 1397.65"
            ]
          },
          "metadata": {},
          "output_type": "display_data"
        },
        {
          "data": {
            "text/html": [
              "<pre>recommendations finished on 44000/305945 queries. users per second: 1397.82</pre>"
            ],
            "text/plain": [
              "recommendations finished on 44000/305945 queries. users per second: 1397.82"
            ]
          },
          "metadata": {},
          "output_type": "display_data"
        },
        {
          "data": {
            "text/html": [
              "<pre>recommendations finished on 45000/305945 queries. users per second: 1397.91</pre>"
            ],
            "text/plain": [
              "recommendations finished on 45000/305945 queries. users per second: 1397.91"
            ]
          },
          "metadata": {},
          "output_type": "display_data"
        },
        {
          "data": {
            "text/html": [
              "<pre>recommendations finished on 46000/305945 queries. users per second: 1397.66</pre>"
            ],
            "text/plain": [
              "recommendations finished on 46000/305945 queries. users per second: 1397.66"
            ]
          },
          "metadata": {},
          "output_type": "display_data"
        },
        {
          "data": {
            "text/html": [
              "<pre>recommendations finished on 47000/305945 queries. users per second: 1397.94</pre>"
            ],
            "text/plain": [
              "recommendations finished on 47000/305945 queries. users per second: 1397.94"
            ]
          },
          "metadata": {},
          "output_type": "display_data"
        },
        {
          "data": {
            "text/html": [
              "<pre>recommendations finished on 48000/305945 queries. users per second: 1398.55</pre>"
            ],
            "text/plain": [
              "recommendations finished on 48000/305945 queries. users per second: 1398.55"
            ]
          },
          "metadata": {},
          "output_type": "display_data"
        },
        {
          "data": {
            "text/html": [
              "<pre>recommendations finished on 49000/305945 queries. users per second: 1398.3</pre>"
            ],
            "text/plain": [
              "recommendations finished on 49000/305945 queries. users per second: 1398.3"
            ]
          },
          "metadata": {},
          "output_type": "display_data"
        },
        {
          "data": {
            "text/html": [
              "<pre>recommendations finished on 50000/305945 queries. users per second: 1397.88</pre>"
            ],
            "text/plain": [
              "recommendations finished on 50000/305945 queries. users per second: 1397.88"
            ]
          },
          "metadata": {},
          "output_type": "display_data"
        },
        {
          "data": {
            "text/html": [
              "<pre>recommendations finished on 51000/305945 queries. users per second: 1397.48</pre>"
            ],
            "text/plain": [
              "recommendations finished on 51000/305945 queries. users per second: 1397.48"
            ]
          },
          "metadata": {},
          "output_type": "display_data"
        },
        {
          "data": {
            "text/html": [
              "<pre>recommendations finished on 52000/305945 queries. users per second: 1397.17</pre>"
            ],
            "text/plain": [
              "recommendations finished on 52000/305945 queries. users per second: 1397.17"
            ]
          },
          "metadata": {},
          "output_type": "display_data"
        },
        {
          "data": {
            "text/html": [
              "<pre>recommendations finished on 53000/305945 queries. users per second: 1396.88</pre>"
            ],
            "text/plain": [
              "recommendations finished on 53000/305945 queries. users per second: 1396.88"
            ]
          },
          "metadata": {},
          "output_type": "display_data"
        },
        {
          "data": {
            "text/html": [
              "<pre>recommendations finished on 54000/305945 queries. users per second: 1397.08</pre>"
            ],
            "text/plain": [
              "recommendations finished on 54000/305945 queries. users per second: 1397.08"
            ]
          },
          "metadata": {},
          "output_type": "display_data"
        },
        {
          "data": {
            "text/html": [
              "<pre>recommendations finished on 55000/305945 queries. users per second: 1397.67</pre>"
            ],
            "text/plain": [
              "recommendations finished on 55000/305945 queries. users per second: 1397.67"
            ]
          },
          "metadata": {},
          "output_type": "display_data"
        },
        {
          "data": {
            "text/html": [
              "<pre>recommendations finished on 56000/305945 queries. users per second: 1397.49</pre>"
            ],
            "text/plain": [
              "recommendations finished on 56000/305945 queries. users per second: 1397.49"
            ]
          },
          "metadata": {},
          "output_type": "display_data"
        },
        {
          "data": {
            "text/html": [
              "<pre>recommendations finished on 57000/305945 queries. users per second: 1397.67</pre>"
            ],
            "text/plain": [
              "recommendations finished on 57000/305945 queries. users per second: 1397.67"
            ]
          },
          "metadata": {},
          "output_type": "display_data"
        },
        {
          "data": {
            "text/html": [
              "<pre>recommendations finished on 58000/305945 queries. users per second: 1398.19</pre>"
            ],
            "text/plain": [
              "recommendations finished on 58000/305945 queries. users per second: 1398.19"
            ]
          },
          "metadata": {},
          "output_type": "display_data"
        },
        {
          "data": {
            "text/html": [
              "<pre>recommendations finished on 59000/305945 queries. users per second: 1398.68</pre>"
            ],
            "text/plain": [
              "recommendations finished on 59000/305945 queries. users per second: 1398.68"
            ]
          },
          "metadata": {},
          "output_type": "display_data"
        },
        {
          "data": {
            "text/html": [
              "<pre>recommendations finished on 60000/305945 queries. users per second: 1398.56</pre>"
            ],
            "text/plain": [
              "recommendations finished on 60000/305945 queries. users per second: 1398.56"
            ]
          },
          "metadata": {},
          "output_type": "display_data"
        },
        {
          "data": {
            "text/html": [
              "<pre>recommendations finished on 61000/305945 queries. users per second: 1398.28</pre>"
            ],
            "text/plain": [
              "recommendations finished on 61000/305945 queries. users per second: 1398.28"
            ]
          },
          "metadata": {},
          "output_type": "display_data"
        },
        {
          "data": {
            "text/html": [
              "<pre>recommendations finished on 62000/305945 queries. users per second: 1398.08</pre>"
            ],
            "text/plain": [
              "recommendations finished on 62000/305945 queries. users per second: 1398.08"
            ]
          },
          "metadata": {},
          "output_type": "display_data"
        },
        {
          "data": {
            "text/html": [
              "<pre>recommendations finished on 63000/305945 queries. users per second: 1397.45</pre>"
            ],
            "text/plain": [
              "recommendations finished on 63000/305945 queries. users per second: 1397.45"
            ]
          },
          "metadata": {},
          "output_type": "display_data"
        },
        {
          "data": {
            "text/html": [
              "<pre>recommendations finished on 64000/305945 queries. users per second: 1397.33</pre>"
            ],
            "text/plain": [
              "recommendations finished on 64000/305945 queries. users per second: 1397.33"
            ]
          },
          "metadata": {},
          "output_type": "display_data"
        },
        {
          "data": {
            "text/html": [
              "<pre>recommendations finished on 65000/305945 queries. users per second: 1388.7</pre>"
            ],
            "text/plain": [
              "recommendations finished on 65000/305945 queries. users per second: 1388.7"
            ]
          },
          "metadata": {},
          "output_type": "display_data"
        },
        {
          "data": {
            "text/html": [
              "<pre>recommendations finished on 66000/305945 queries. users per second: 1371.46</pre>"
            ],
            "text/plain": [
              "recommendations finished on 66000/305945 queries. users per second: 1371.46"
            ]
          },
          "metadata": {},
          "output_type": "display_data"
        },
        {
          "data": {
            "text/html": [
              "<pre>recommendations finished on 67000/305945 queries. users per second: 1355.8</pre>"
            ],
            "text/plain": [
              "recommendations finished on 67000/305945 queries. users per second: 1355.8"
            ]
          },
          "metadata": {},
          "output_type": "display_data"
        },
        {
          "data": {
            "text/html": [
              "<pre>recommendations finished on 68000/305945 queries. users per second: 1345.77</pre>"
            ],
            "text/plain": [
              "recommendations finished on 68000/305945 queries. users per second: 1345.77"
            ]
          },
          "metadata": {},
          "output_type": "display_data"
        },
        {
          "data": {
            "text/html": [
              "<pre>recommendations finished on 69000/305945 queries. users per second: 1346.88</pre>"
            ],
            "text/plain": [
              "recommendations finished on 69000/305945 queries. users per second: 1346.88"
            ]
          },
          "metadata": {},
          "output_type": "display_data"
        },
        {
          "data": {
            "text/html": [
              "<pre>recommendations finished on 70000/305945 queries. users per second: 1347.47</pre>"
            ],
            "text/plain": [
              "recommendations finished on 70000/305945 queries. users per second: 1347.47"
            ]
          },
          "metadata": {},
          "output_type": "display_data"
        },
        {
          "data": {
            "text/html": [
              "<pre>recommendations finished on 71000/305945 queries. users per second: 1348.46</pre>"
            ],
            "text/plain": [
              "recommendations finished on 71000/305945 queries. users per second: 1348.46"
            ]
          },
          "metadata": {},
          "output_type": "display_data"
        },
        {
          "data": {
            "text/html": [
              "<pre>recommendations finished on 72000/305945 queries. users per second: 1349.21</pre>"
            ],
            "text/plain": [
              "recommendations finished on 72000/305945 queries. users per second: 1349.21"
            ]
          },
          "metadata": {},
          "output_type": "display_data"
        },
        {
          "data": {
            "text/html": [
              "<pre>recommendations finished on 73000/305945 queries. users per second: 1350.32</pre>"
            ],
            "text/plain": [
              "recommendations finished on 73000/305945 queries. users per second: 1350.32"
            ]
          },
          "metadata": {},
          "output_type": "display_data"
        },
        {
          "data": {
            "text/html": [
              "<pre>recommendations finished on 74000/305945 queries. users per second: 1351.36</pre>"
            ],
            "text/plain": [
              "recommendations finished on 74000/305945 queries. users per second: 1351.36"
            ]
          },
          "metadata": {},
          "output_type": "display_data"
        },
        {
          "data": {
            "text/html": [
              "<pre>recommendations finished on 75000/305945 queries. users per second: 1351.72</pre>"
            ],
            "text/plain": [
              "recommendations finished on 75000/305945 queries. users per second: 1351.72"
            ]
          },
          "metadata": {},
          "output_type": "display_data"
        },
        {
          "data": {
            "text/html": [
              "<pre>recommendations finished on 76000/305945 queries. users per second: 1351.96</pre>"
            ],
            "text/plain": [
              "recommendations finished on 76000/305945 queries. users per second: 1351.96"
            ]
          },
          "metadata": {},
          "output_type": "display_data"
        },
        {
          "data": {
            "text/html": [
              "<pre>recommendations finished on 77000/305945 queries. users per second: 1352.83</pre>"
            ],
            "text/plain": [
              "recommendations finished on 77000/305945 queries. users per second: 1352.83"
            ]
          },
          "metadata": {},
          "output_type": "display_data"
        },
        {
          "data": {
            "text/html": [
              "<pre>recommendations finished on 78000/305945 queries. users per second: 1353.37</pre>"
            ],
            "text/plain": [
              "recommendations finished on 78000/305945 queries. users per second: 1353.37"
            ]
          },
          "metadata": {},
          "output_type": "display_data"
        },
        {
          "data": {
            "text/html": [
              "<pre>recommendations finished on 79000/305945 queries. users per second: 1353.96</pre>"
            ],
            "text/plain": [
              "recommendations finished on 79000/305945 queries. users per second: 1353.96"
            ]
          },
          "metadata": {},
          "output_type": "display_data"
        },
        {
          "data": {
            "text/html": [
              "<pre>recommendations finished on 80000/305945 queries. users per second: 1354.18</pre>"
            ],
            "text/plain": [
              "recommendations finished on 80000/305945 queries. users per second: 1354.18"
            ]
          },
          "metadata": {},
          "output_type": "display_data"
        },
        {
          "data": {
            "text/html": [
              "<pre>recommendations finished on 81000/305945 queries. users per second: 1355.04</pre>"
            ],
            "text/plain": [
              "recommendations finished on 81000/305945 queries. users per second: 1355.04"
            ]
          },
          "metadata": {},
          "output_type": "display_data"
        },
        {
          "data": {
            "text/html": [
              "<pre>recommendations finished on 82000/305945 queries. users per second: 1355.98</pre>"
            ],
            "text/plain": [
              "recommendations finished on 82000/305945 queries. users per second: 1355.98"
            ]
          },
          "metadata": {},
          "output_type": "display_data"
        },
        {
          "data": {
            "text/html": [
              "<pre>recommendations finished on 83000/305945 queries. users per second: 1356.66</pre>"
            ],
            "text/plain": [
              "recommendations finished on 83000/305945 queries. users per second: 1356.66"
            ]
          },
          "metadata": {},
          "output_type": "display_data"
        },
        {
          "data": {
            "text/html": [
              "<pre>recommendations finished on 84000/305945 queries. users per second: 1357.51</pre>"
            ],
            "text/plain": [
              "recommendations finished on 84000/305945 queries. users per second: 1357.51"
            ]
          },
          "metadata": {},
          "output_type": "display_data"
        },
        {
          "data": {
            "text/html": [
              "<pre>recommendations finished on 85000/305945 queries. users per second: 1357.51</pre>"
            ],
            "text/plain": [
              "recommendations finished on 85000/305945 queries. users per second: 1357.51"
            ]
          },
          "metadata": {},
          "output_type": "display_data"
        },
        {
          "data": {
            "text/html": [
              "<pre>recommendations finished on 86000/305945 queries. users per second: 1357.63</pre>"
            ],
            "text/plain": [
              "recommendations finished on 86000/305945 queries. users per second: 1357.63"
            ]
          },
          "metadata": {},
          "output_type": "display_data"
        },
        {
          "data": {
            "text/html": [
              "<pre>recommendations finished on 87000/305945 queries. users per second: 1358.38</pre>"
            ],
            "text/plain": [
              "recommendations finished on 87000/305945 queries. users per second: 1358.38"
            ]
          },
          "metadata": {},
          "output_type": "display_data"
        },
        {
          "data": {
            "text/html": [
              "<pre>recommendations finished on 88000/305945 queries. users per second: 1358.82</pre>"
            ],
            "text/plain": [
              "recommendations finished on 88000/305945 queries. users per second: 1358.82"
            ]
          },
          "metadata": {},
          "output_type": "display_data"
        },
        {
          "data": {
            "text/html": [
              "<pre>recommendations finished on 89000/305945 queries. users per second: 1359.51</pre>"
            ],
            "text/plain": [
              "recommendations finished on 89000/305945 queries. users per second: 1359.51"
            ]
          },
          "metadata": {},
          "output_type": "display_data"
        },
        {
          "data": {
            "text/html": [
              "<pre>recommendations finished on 90000/305945 queries. users per second: 1360.44</pre>"
            ],
            "text/plain": [
              "recommendations finished on 90000/305945 queries. users per second: 1360.44"
            ]
          },
          "metadata": {},
          "output_type": "display_data"
        },
        {
          "data": {
            "text/html": [
              "<pre>recommendations finished on 91000/305945 queries. users per second: 1361.34</pre>"
            ],
            "text/plain": [
              "recommendations finished on 91000/305945 queries. users per second: 1361.34"
            ]
          },
          "metadata": {},
          "output_type": "display_data"
        },
        {
          "data": {
            "text/html": [
              "<pre>recommendations finished on 92000/305945 queries. users per second: 1362.13</pre>"
            ],
            "text/plain": [
              "recommendations finished on 92000/305945 queries. users per second: 1362.13"
            ]
          },
          "metadata": {},
          "output_type": "display_data"
        },
        {
          "data": {
            "text/html": [
              "<pre>recommendations finished on 93000/305945 queries. users per second: 1362.69</pre>"
            ],
            "text/plain": [
              "recommendations finished on 93000/305945 queries. users per second: 1362.69"
            ]
          },
          "metadata": {},
          "output_type": "display_data"
        },
        {
          "data": {
            "text/html": [
              "<pre>recommendations finished on 94000/305945 queries. users per second: 1363.34</pre>"
            ],
            "text/plain": [
              "recommendations finished on 94000/305945 queries. users per second: 1363.34"
            ]
          },
          "metadata": {},
          "output_type": "display_data"
        },
        {
          "data": {
            "text/html": [
              "<pre>recommendations finished on 95000/305945 queries. users per second: 1363.82</pre>"
            ],
            "text/plain": [
              "recommendations finished on 95000/305945 queries. users per second: 1363.82"
            ]
          },
          "metadata": {},
          "output_type": "display_data"
        },
        {
          "data": {
            "text/html": [
              "<pre>recommendations finished on 96000/305945 queries. users per second: 1364.13</pre>"
            ],
            "text/plain": [
              "recommendations finished on 96000/305945 queries. users per second: 1364.13"
            ]
          },
          "metadata": {},
          "output_type": "display_data"
        },
        {
          "data": {
            "text/html": [
              "<pre>recommendations finished on 97000/305945 queries. users per second: 1364.61</pre>"
            ],
            "text/plain": [
              "recommendations finished on 97000/305945 queries. users per second: 1364.61"
            ]
          },
          "metadata": {},
          "output_type": "display_data"
        },
        {
          "data": {
            "text/html": [
              "<pre>recommendations finished on 98000/305945 queries. users per second: 1365.07</pre>"
            ],
            "text/plain": [
              "recommendations finished on 98000/305945 queries. users per second: 1365.07"
            ]
          },
          "metadata": {},
          "output_type": "display_data"
        },
        {
          "data": {
            "text/html": [
              "<pre>recommendations finished on 99000/305945 queries. users per second: 1365.68</pre>"
            ],
            "text/plain": [
              "recommendations finished on 99000/305945 queries. users per second: 1365.68"
            ]
          },
          "metadata": {},
          "output_type": "display_data"
        },
        {
          "data": {
            "text/html": [
              "<pre>recommendations finished on 100000/305945 queries. users per second: 1366.22</pre>"
            ],
            "text/plain": [
              "recommendations finished on 100000/305945 queries. users per second: 1366.22"
            ]
          },
          "metadata": {},
          "output_type": "display_data"
        },
        {
          "data": {
            "text/html": [
              "<pre>recommendations finished on 101000/305945 queries. users per second: 1366.35</pre>"
            ],
            "text/plain": [
              "recommendations finished on 101000/305945 queries. users per second: 1366.35"
            ]
          },
          "metadata": {},
          "output_type": "display_data"
        },
        {
          "data": {
            "text/html": [
              "<pre>recommendations finished on 102000/305945 queries. users per second: 1366.35</pre>"
            ],
            "text/plain": [
              "recommendations finished on 102000/305945 queries. users per second: 1366.35"
            ]
          },
          "metadata": {},
          "output_type": "display_data"
        },
        {
          "data": {
            "text/html": [
              "<pre>recommendations finished on 103000/305945 queries. users per second: 1366.7</pre>"
            ],
            "text/plain": [
              "recommendations finished on 103000/305945 queries. users per second: 1366.7"
            ]
          },
          "metadata": {},
          "output_type": "display_data"
        },
        {
          "data": {
            "text/html": [
              "<pre>recommendations finished on 104000/305945 queries. users per second: 1367.23</pre>"
            ],
            "text/plain": [
              "recommendations finished on 104000/305945 queries. users per second: 1367.23"
            ]
          },
          "metadata": {},
          "output_type": "display_data"
        },
        {
          "data": {
            "text/html": [
              "<pre>recommendations finished on 105000/305945 queries. users per second: 1367.54</pre>"
            ],
            "text/plain": [
              "recommendations finished on 105000/305945 queries. users per second: 1367.54"
            ]
          },
          "metadata": {},
          "output_type": "display_data"
        },
        {
          "data": {
            "text/html": [
              "<pre>recommendations finished on 106000/305945 queries. users per second: 1367.96</pre>"
            ],
            "text/plain": [
              "recommendations finished on 106000/305945 queries. users per second: 1367.96"
            ]
          },
          "metadata": {},
          "output_type": "display_data"
        },
        {
          "data": {
            "text/html": [
              "<pre>recommendations finished on 107000/305945 queries. users per second: 1368.15</pre>"
            ],
            "text/plain": [
              "recommendations finished on 107000/305945 queries. users per second: 1368.15"
            ]
          },
          "metadata": {},
          "output_type": "display_data"
        },
        {
          "data": {
            "text/html": [
              "<pre>recommendations finished on 108000/305945 queries. users per second: 1368.61</pre>"
            ],
            "text/plain": [
              "recommendations finished on 108000/305945 queries. users per second: 1368.61"
            ]
          },
          "metadata": {},
          "output_type": "display_data"
        },
        {
          "data": {
            "text/html": [
              "<pre>recommendations finished on 109000/305945 queries. users per second: 1368.9</pre>"
            ],
            "text/plain": [
              "recommendations finished on 109000/305945 queries. users per second: 1368.9"
            ]
          },
          "metadata": {},
          "output_type": "display_data"
        },
        {
          "data": {
            "text/html": [
              "<pre>recommendations finished on 110000/305945 queries. users per second: 1369.41</pre>"
            ],
            "text/plain": [
              "recommendations finished on 110000/305945 queries. users per second: 1369.41"
            ]
          },
          "metadata": {},
          "output_type": "display_data"
        },
        {
          "data": {
            "text/html": [
              "<pre>recommendations finished on 111000/305945 queries. users per second: 1369.64</pre>"
            ],
            "text/plain": [
              "recommendations finished on 111000/305945 queries. users per second: 1369.64"
            ]
          },
          "metadata": {},
          "output_type": "display_data"
        },
        {
          "data": {
            "text/html": [
              "<pre>recommendations finished on 112000/305945 queries. users per second: 1370.22</pre>"
            ],
            "text/plain": [
              "recommendations finished on 112000/305945 queries. users per second: 1370.22"
            ]
          },
          "metadata": {},
          "output_type": "display_data"
        },
        {
          "data": {
            "text/html": [
              "<pre>recommendations finished on 113000/305945 queries. users per second: 1370.6</pre>"
            ],
            "text/plain": [
              "recommendations finished on 113000/305945 queries. users per second: 1370.6"
            ]
          },
          "metadata": {},
          "output_type": "display_data"
        },
        {
          "data": {
            "text/html": [
              "<pre>recommendations finished on 114000/305945 queries. users per second: 1371.06</pre>"
            ],
            "text/plain": [
              "recommendations finished on 114000/305945 queries. users per second: 1371.06"
            ]
          },
          "metadata": {},
          "output_type": "display_data"
        },
        {
          "data": {
            "text/html": [
              "<pre>recommendations finished on 115000/305945 queries. users per second: 1371.41</pre>"
            ],
            "text/plain": [
              "recommendations finished on 115000/305945 queries. users per second: 1371.41"
            ]
          },
          "metadata": {},
          "output_type": "display_data"
        },
        {
          "data": {
            "text/html": [
              "<pre>recommendations finished on 116000/305945 queries. users per second: 1371.82</pre>"
            ],
            "text/plain": [
              "recommendations finished on 116000/305945 queries. users per second: 1371.82"
            ]
          },
          "metadata": {},
          "output_type": "display_data"
        },
        {
          "data": {
            "text/html": [
              "<pre>recommendations finished on 117000/305945 queries. users per second: 1372.22</pre>"
            ],
            "text/plain": [
              "recommendations finished on 117000/305945 queries. users per second: 1372.22"
            ]
          },
          "metadata": {},
          "output_type": "display_data"
        },
        {
          "data": {
            "text/html": [
              "<pre>recommendations finished on 118000/305945 queries. users per second: 1372.62</pre>"
            ],
            "text/plain": [
              "recommendations finished on 118000/305945 queries. users per second: 1372.62"
            ]
          },
          "metadata": {},
          "output_type": "display_data"
        },
        {
          "data": {
            "text/html": [
              "<pre>recommendations finished on 119000/305945 queries. users per second: 1373.15</pre>"
            ],
            "text/plain": [
              "recommendations finished on 119000/305945 queries. users per second: 1373.15"
            ]
          },
          "metadata": {},
          "output_type": "display_data"
        },
        {
          "data": {
            "text/html": [
              "<pre>recommendations finished on 120000/305945 queries. users per second: 1373.48</pre>"
            ],
            "text/plain": [
              "recommendations finished on 120000/305945 queries. users per second: 1373.48"
            ]
          },
          "metadata": {},
          "output_type": "display_data"
        },
        {
          "data": {
            "text/html": [
              "<pre>recommendations finished on 121000/305945 queries. users per second: 1373.95</pre>"
            ],
            "text/plain": [
              "recommendations finished on 121000/305945 queries. users per second: 1373.95"
            ]
          },
          "metadata": {},
          "output_type": "display_data"
        },
        {
          "data": {
            "text/html": [
              "<pre>recommendations finished on 122000/305945 queries. users per second: 1374.37</pre>"
            ],
            "text/plain": [
              "recommendations finished on 122000/305945 queries. users per second: 1374.37"
            ]
          },
          "metadata": {},
          "output_type": "display_data"
        },
        {
          "data": {
            "text/html": [
              "<pre>recommendations finished on 123000/305945 queries. users per second: 1374.75</pre>"
            ],
            "text/plain": [
              "recommendations finished on 123000/305945 queries. users per second: 1374.75"
            ]
          },
          "metadata": {},
          "output_type": "display_data"
        },
        {
          "data": {
            "text/html": [
              "<pre>recommendations finished on 124000/305945 queries. users per second: 1374.95</pre>"
            ],
            "text/plain": [
              "recommendations finished on 124000/305945 queries. users per second: 1374.95"
            ]
          },
          "metadata": {},
          "output_type": "display_data"
        },
        {
          "data": {
            "text/html": [
              "<pre>recommendations finished on 125000/305945 queries. users per second: 1375.43</pre>"
            ],
            "text/plain": [
              "recommendations finished on 125000/305945 queries. users per second: 1375.43"
            ]
          },
          "metadata": {},
          "output_type": "display_data"
        },
        {
          "data": {
            "text/html": [
              "<pre>recommendations finished on 126000/305945 queries. users per second: 1375.95</pre>"
            ],
            "text/plain": [
              "recommendations finished on 126000/305945 queries. users per second: 1375.95"
            ]
          },
          "metadata": {},
          "output_type": "display_data"
        },
        {
          "data": {
            "text/html": [
              "<pre>recommendations finished on 127000/305945 queries. users per second: 1376.33</pre>"
            ],
            "text/plain": [
              "recommendations finished on 127000/305945 queries. users per second: 1376.33"
            ]
          },
          "metadata": {},
          "output_type": "display_data"
        },
        {
          "data": {
            "text/html": [
              "<pre>recommendations finished on 128000/305945 queries. users per second: 1376.4</pre>"
            ],
            "text/plain": [
              "recommendations finished on 128000/305945 queries. users per second: 1376.4"
            ]
          },
          "metadata": {},
          "output_type": "display_data"
        },
        {
          "data": {
            "text/html": [
              "<pre>recommendations finished on 129000/305945 queries. users per second: 1376.87</pre>"
            ],
            "text/plain": [
              "recommendations finished on 129000/305945 queries. users per second: 1376.87"
            ]
          },
          "metadata": {},
          "output_type": "display_data"
        },
        {
          "data": {
            "text/html": [
              "<pre>recommendations finished on 130000/305945 queries. users per second: 1377.26</pre>"
            ],
            "text/plain": [
              "recommendations finished on 130000/305945 queries. users per second: 1377.26"
            ]
          },
          "metadata": {},
          "output_type": "display_data"
        },
        {
          "data": {
            "text/html": [
              "<pre>recommendations finished on 131000/305945 queries. users per second: 1377.48</pre>"
            ],
            "text/plain": [
              "recommendations finished on 131000/305945 queries. users per second: 1377.48"
            ]
          },
          "metadata": {},
          "output_type": "display_data"
        },
        {
          "data": {
            "text/html": [
              "<pre>recommendations finished on 132000/305945 queries. users per second: 1377.64</pre>"
            ],
            "text/plain": [
              "recommendations finished on 132000/305945 queries. users per second: 1377.64"
            ]
          },
          "metadata": {},
          "output_type": "display_data"
        },
        {
          "data": {
            "text/html": [
              "<pre>recommendations finished on 133000/305945 queries. users per second: 1377.9</pre>"
            ],
            "text/plain": [
              "recommendations finished on 133000/305945 queries. users per second: 1377.9"
            ]
          },
          "metadata": {},
          "output_type": "display_data"
        },
        {
          "data": {
            "text/html": [
              "<pre>recommendations finished on 134000/305945 queries. users per second: 1378.15</pre>"
            ],
            "text/plain": [
              "recommendations finished on 134000/305945 queries. users per second: 1378.15"
            ]
          },
          "metadata": {},
          "output_type": "display_data"
        },
        {
          "data": {
            "text/html": [
              "<pre>recommendations finished on 135000/305945 queries. users per second: 1378.61</pre>"
            ],
            "text/plain": [
              "recommendations finished on 135000/305945 queries. users per second: 1378.61"
            ]
          },
          "metadata": {},
          "output_type": "display_data"
        },
        {
          "data": {
            "text/html": [
              "<pre>recommendations finished on 136000/305945 queries. users per second: 1378.74</pre>"
            ],
            "text/plain": [
              "recommendations finished on 136000/305945 queries. users per second: 1378.74"
            ]
          },
          "metadata": {},
          "output_type": "display_data"
        },
        {
          "data": {
            "text/html": [
              "<pre>recommendations finished on 137000/305945 queries. users per second: 1378.67</pre>"
            ],
            "text/plain": [
              "recommendations finished on 137000/305945 queries. users per second: 1378.67"
            ]
          },
          "metadata": {},
          "output_type": "display_data"
        },
        {
          "data": {
            "text/html": [
              "<pre>recommendations finished on 138000/305945 queries. users per second: 1378.69</pre>"
            ],
            "text/plain": [
              "recommendations finished on 138000/305945 queries. users per second: 1378.69"
            ]
          },
          "metadata": {},
          "output_type": "display_data"
        },
        {
          "data": {
            "text/html": [
              "<pre>recommendations finished on 139000/305945 queries. users per second: 1378.89</pre>"
            ],
            "text/plain": [
              "recommendations finished on 139000/305945 queries. users per second: 1378.89"
            ]
          },
          "metadata": {},
          "output_type": "display_data"
        },
        {
          "data": {
            "text/html": [
              "<pre>recommendations finished on 140000/305945 queries. users per second: 1379.14</pre>"
            ],
            "text/plain": [
              "recommendations finished on 140000/305945 queries. users per second: 1379.14"
            ]
          },
          "metadata": {},
          "output_type": "display_data"
        },
        {
          "data": {
            "text/html": [
              "<pre>recommendations finished on 141000/305945 queries. users per second: 1379.48</pre>"
            ],
            "text/plain": [
              "recommendations finished on 141000/305945 queries. users per second: 1379.48"
            ]
          },
          "metadata": {},
          "output_type": "display_data"
        },
        {
          "data": {
            "text/html": [
              "<pre>recommendations finished on 142000/305945 queries. users per second: 1379.86</pre>"
            ],
            "text/plain": [
              "recommendations finished on 142000/305945 queries. users per second: 1379.86"
            ]
          },
          "metadata": {},
          "output_type": "display_data"
        },
        {
          "data": {
            "text/html": [
              "<pre>recommendations finished on 143000/305945 queries. users per second: 1380.04</pre>"
            ],
            "text/plain": [
              "recommendations finished on 143000/305945 queries. users per second: 1380.04"
            ]
          },
          "metadata": {},
          "output_type": "display_data"
        },
        {
          "data": {
            "text/html": [
              "<pre>recommendations finished on 144000/305945 queries. users per second: 1380.27</pre>"
            ],
            "text/plain": [
              "recommendations finished on 144000/305945 queries. users per second: 1380.27"
            ]
          },
          "metadata": {},
          "output_type": "display_data"
        },
        {
          "data": {
            "text/html": [
              "<pre>recommendations finished on 145000/305945 queries. users per second: 1379.88</pre>"
            ],
            "text/plain": [
              "recommendations finished on 145000/305945 queries. users per second: 1379.88"
            ]
          },
          "metadata": {},
          "output_type": "display_data"
        },
        {
          "data": {
            "text/html": [
              "<pre>recommendations finished on 146000/305945 queries. users per second: 1380.09</pre>"
            ],
            "text/plain": [
              "recommendations finished on 146000/305945 queries. users per second: 1380.09"
            ]
          },
          "metadata": {},
          "output_type": "display_data"
        },
        {
          "data": {
            "text/html": [
              "<pre>recommendations finished on 147000/305945 queries. users per second: 1380.04</pre>"
            ],
            "text/plain": [
              "recommendations finished on 147000/305945 queries. users per second: 1380.04"
            ]
          },
          "metadata": {},
          "output_type": "display_data"
        },
        {
          "data": {
            "text/html": [
              "<pre>recommendations finished on 148000/305945 queries. users per second: 1380.02</pre>"
            ],
            "text/plain": [
              "recommendations finished on 148000/305945 queries. users per second: 1380.02"
            ]
          },
          "metadata": {},
          "output_type": "display_data"
        },
        {
          "data": {
            "text/html": [
              "<pre>recommendations finished on 149000/305945 queries. users per second: 1380.16</pre>"
            ],
            "text/plain": [
              "recommendations finished on 149000/305945 queries. users per second: 1380.16"
            ]
          },
          "metadata": {},
          "output_type": "display_data"
        },
        {
          "data": {
            "text/html": [
              "<pre>recommendations finished on 150000/305945 queries. users per second: 1380.15</pre>"
            ],
            "text/plain": [
              "recommendations finished on 150000/305945 queries. users per second: 1380.15"
            ]
          },
          "metadata": {},
          "output_type": "display_data"
        },
        {
          "data": {
            "text/html": [
              "<pre>recommendations finished on 151000/305945 queries. users per second: 1380.31</pre>"
            ],
            "text/plain": [
              "recommendations finished on 151000/305945 queries. users per second: 1380.31"
            ]
          },
          "metadata": {},
          "output_type": "display_data"
        },
        {
          "data": {
            "text/html": [
              "<pre>recommendations finished on 152000/305945 queries. users per second: 1380.45</pre>"
            ],
            "text/plain": [
              "recommendations finished on 152000/305945 queries. users per second: 1380.45"
            ]
          },
          "metadata": {},
          "output_type": "display_data"
        },
        {
          "data": {
            "text/html": [
              "<pre>recommendations finished on 153000/305945 queries. users per second: 1380.6</pre>"
            ],
            "text/plain": [
              "recommendations finished on 153000/305945 queries. users per second: 1380.6"
            ]
          },
          "metadata": {},
          "output_type": "display_data"
        },
        {
          "data": {
            "text/html": [
              "<pre>recommendations finished on 154000/305945 queries. users per second: 1380.8</pre>"
            ],
            "text/plain": [
              "recommendations finished on 154000/305945 queries. users per second: 1380.8"
            ]
          },
          "metadata": {},
          "output_type": "display_data"
        },
        {
          "data": {
            "text/html": [
              "<pre>recommendations finished on 155000/305945 queries. users per second: 1381.09</pre>"
            ],
            "text/plain": [
              "recommendations finished on 155000/305945 queries. users per second: 1381.09"
            ]
          },
          "metadata": {},
          "output_type": "display_data"
        },
        {
          "data": {
            "text/html": [
              "<pre>recommendations finished on 156000/305945 queries. users per second: 1381.25</pre>"
            ],
            "text/plain": [
              "recommendations finished on 156000/305945 queries. users per second: 1381.25"
            ]
          },
          "metadata": {},
          "output_type": "display_data"
        },
        {
          "data": {
            "text/html": [
              "<pre>recommendations finished on 157000/305945 queries. users per second: 1381.37</pre>"
            ],
            "text/plain": [
              "recommendations finished on 157000/305945 queries. users per second: 1381.37"
            ]
          },
          "metadata": {},
          "output_type": "display_data"
        },
        {
          "data": {
            "text/html": [
              "<pre>recommendations finished on 158000/305945 queries. users per second: 1381.67</pre>"
            ],
            "text/plain": [
              "recommendations finished on 158000/305945 queries. users per second: 1381.67"
            ]
          },
          "metadata": {},
          "output_type": "display_data"
        },
        {
          "data": {
            "text/html": [
              "<pre>recommendations finished on 159000/305945 queries. users per second: 1381.5</pre>"
            ],
            "text/plain": [
              "recommendations finished on 159000/305945 queries. users per second: 1381.5"
            ]
          },
          "metadata": {},
          "output_type": "display_data"
        },
        {
          "data": {
            "text/html": [
              "<pre>recommendations finished on 160000/305945 queries. users per second: 1381.61</pre>"
            ],
            "text/plain": [
              "recommendations finished on 160000/305945 queries. users per second: 1381.61"
            ]
          },
          "metadata": {},
          "output_type": "display_data"
        },
        {
          "data": {
            "text/html": [
              "<pre>recommendations finished on 161000/305945 queries. users per second: 1381.88</pre>"
            ],
            "text/plain": [
              "recommendations finished on 161000/305945 queries. users per second: 1381.88"
            ]
          },
          "metadata": {},
          "output_type": "display_data"
        },
        {
          "data": {
            "text/html": [
              "<pre>recommendations finished on 162000/305945 queries. users per second: 1382.19</pre>"
            ],
            "text/plain": [
              "recommendations finished on 162000/305945 queries. users per second: 1382.19"
            ]
          },
          "metadata": {},
          "output_type": "display_data"
        },
        {
          "data": {
            "text/html": [
              "<pre>recommendations finished on 163000/305945 queries. users per second: 1382.28</pre>"
            ],
            "text/plain": [
              "recommendations finished on 163000/305945 queries. users per second: 1382.28"
            ]
          },
          "metadata": {},
          "output_type": "display_data"
        },
        {
          "data": {
            "text/html": [
              "<pre>recommendations finished on 164000/305945 queries. users per second: 1382.49</pre>"
            ],
            "text/plain": [
              "recommendations finished on 164000/305945 queries. users per second: 1382.49"
            ]
          },
          "metadata": {},
          "output_type": "display_data"
        },
        {
          "data": {
            "text/html": [
              "<pre>recommendations finished on 165000/305945 queries. users per second: 1382.85</pre>"
            ],
            "text/plain": [
              "recommendations finished on 165000/305945 queries. users per second: 1382.85"
            ]
          },
          "metadata": {},
          "output_type": "display_data"
        },
        {
          "data": {
            "text/html": [
              "<pre>recommendations finished on 166000/305945 queries. users per second: 1383.02</pre>"
            ],
            "text/plain": [
              "recommendations finished on 166000/305945 queries. users per second: 1383.02"
            ]
          },
          "metadata": {},
          "output_type": "display_data"
        },
        {
          "data": {
            "text/html": [
              "<pre>recommendations finished on 167000/305945 queries. users per second: 1383.08</pre>"
            ],
            "text/plain": [
              "recommendations finished on 167000/305945 queries. users per second: 1383.08"
            ]
          },
          "metadata": {},
          "output_type": "display_data"
        },
        {
          "data": {
            "text/html": [
              "<pre>recommendations finished on 168000/305945 queries. users per second: 1383.42</pre>"
            ],
            "text/plain": [
              "recommendations finished on 168000/305945 queries. users per second: 1383.42"
            ]
          },
          "metadata": {},
          "output_type": "display_data"
        },
        {
          "data": {
            "text/html": [
              "<pre>recommendations finished on 169000/305945 queries. users per second: 1383.5</pre>"
            ],
            "text/plain": [
              "recommendations finished on 169000/305945 queries. users per second: 1383.5"
            ]
          },
          "metadata": {},
          "output_type": "display_data"
        },
        {
          "data": {
            "text/html": [
              "<pre>recommendations finished on 170000/305945 queries. users per second: 1383.49</pre>"
            ],
            "text/plain": [
              "recommendations finished on 170000/305945 queries. users per second: 1383.49"
            ]
          },
          "metadata": {},
          "output_type": "display_data"
        },
        {
          "data": {
            "text/html": [
              "<pre>recommendations finished on 171000/305945 queries. users per second: 1383.66</pre>"
            ],
            "text/plain": [
              "recommendations finished on 171000/305945 queries. users per second: 1383.66"
            ]
          },
          "metadata": {},
          "output_type": "display_data"
        },
        {
          "data": {
            "text/html": [
              "<pre>recommendations finished on 172000/305945 queries. users per second: 1383.78</pre>"
            ],
            "text/plain": [
              "recommendations finished on 172000/305945 queries. users per second: 1383.78"
            ]
          },
          "metadata": {},
          "output_type": "display_data"
        },
        {
          "data": {
            "text/html": [
              "<pre>recommendations finished on 173000/305945 queries. users per second: 1383.9</pre>"
            ],
            "text/plain": [
              "recommendations finished on 173000/305945 queries. users per second: 1383.9"
            ]
          },
          "metadata": {},
          "output_type": "display_data"
        },
        {
          "data": {
            "text/html": [
              "<pre>recommendations finished on 174000/305945 queries. users per second: 1383.8</pre>"
            ],
            "text/plain": [
              "recommendations finished on 174000/305945 queries. users per second: 1383.8"
            ]
          },
          "metadata": {},
          "output_type": "display_data"
        },
        {
          "data": {
            "text/html": [
              "<pre>recommendations finished on 175000/305945 queries. users per second: 1383.93</pre>"
            ],
            "text/plain": [
              "recommendations finished on 175000/305945 queries. users per second: 1383.93"
            ]
          },
          "metadata": {},
          "output_type": "display_data"
        },
        {
          "data": {
            "text/html": [
              "<pre>recommendations finished on 176000/305945 queries. users per second: 1384.03</pre>"
            ],
            "text/plain": [
              "recommendations finished on 176000/305945 queries. users per second: 1384.03"
            ]
          },
          "metadata": {},
          "output_type": "display_data"
        },
        {
          "data": {
            "text/html": [
              "<pre>recommendations finished on 177000/305945 queries. users per second: 1384.08</pre>"
            ],
            "text/plain": [
              "recommendations finished on 177000/305945 queries. users per second: 1384.08"
            ]
          },
          "metadata": {},
          "output_type": "display_data"
        },
        {
          "data": {
            "text/html": [
              "<pre>recommendations finished on 178000/305945 queries. users per second: 1384.3</pre>"
            ],
            "text/plain": [
              "recommendations finished on 178000/305945 queries. users per second: 1384.3"
            ]
          },
          "metadata": {},
          "output_type": "display_data"
        },
        {
          "data": {
            "text/html": [
              "<pre>recommendations finished on 179000/305945 queries. users per second: 1384.37</pre>"
            ],
            "text/plain": [
              "recommendations finished on 179000/305945 queries. users per second: 1384.37"
            ]
          },
          "metadata": {},
          "output_type": "display_data"
        },
        {
          "data": {
            "text/html": [
              "<pre>recommendations finished on 180000/305945 queries. users per second: 1384.44</pre>"
            ],
            "text/plain": [
              "recommendations finished on 180000/305945 queries. users per second: 1384.44"
            ]
          },
          "metadata": {},
          "output_type": "display_data"
        },
        {
          "data": {
            "text/html": [
              "<pre>recommendations finished on 181000/305945 queries. users per second: 1384.61</pre>"
            ],
            "text/plain": [
              "recommendations finished on 181000/305945 queries. users per second: 1384.61"
            ]
          },
          "metadata": {},
          "output_type": "display_data"
        },
        {
          "data": {
            "text/html": [
              "<pre>recommendations finished on 182000/305945 queries. users per second: 1384.67</pre>"
            ],
            "text/plain": [
              "recommendations finished on 182000/305945 queries. users per second: 1384.67"
            ]
          },
          "metadata": {},
          "output_type": "display_data"
        },
        {
          "data": {
            "text/html": [
              "<pre>recommendations finished on 183000/305945 queries. users per second: 1384.8</pre>"
            ],
            "text/plain": [
              "recommendations finished on 183000/305945 queries. users per second: 1384.8"
            ]
          },
          "metadata": {},
          "output_type": "display_data"
        },
        {
          "data": {
            "text/html": [
              "<pre>recommendations finished on 184000/305945 queries. users per second: 1384.78</pre>"
            ],
            "text/plain": [
              "recommendations finished on 184000/305945 queries. users per second: 1384.78"
            ]
          },
          "metadata": {},
          "output_type": "display_data"
        },
        {
          "data": {
            "text/html": [
              "<pre>recommendations finished on 185000/305945 queries. users per second: 1385.06</pre>"
            ],
            "text/plain": [
              "recommendations finished on 185000/305945 queries. users per second: 1385.06"
            ]
          },
          "metadata": {},
          "output_type": "display_data"
        },
        {
          "data": {
            "text/html": [
              "<pre>recommendations finished on 186000/305945 queries. users per second: 1385.18</pre>"
            ],
            "text/plain": [
              "recommendations finished on 186000/305945 queries. users per second: 1385.18"
            ]
          },
          "metadata": {},
          "output_type": "display_data"
        },
        {
          "data": {
            "text/html": [
              "<pre>recommendations finished on 187000/305945 queries. users per second: 1385.46</pre>"
            ],
            "text/plain": [
              "recommendations finished on 187000/305945 queries. users per second: 1385.46"
            ]
          },
          "metadata": {},
          "output_type": "display_data"
        },
        {
          "data": {
            "text/html": [
              "<pre>recommendations finished on 188000/305945 queries. users per second: 1385.68</pre>"
            ],
            "text/plain": [
              "recommendations finished on 188000/305945 queries. users per second: 1385.68"
            ]
          },
          "metadata": {},
          "output_type": "display_data"
        },
        {
          "data": {
            "text/html": [
              "<pre>recommendations finished on 189000/305945 queries. users per second: 1385.59</pre>"
            ],
            "text/plain": [
              "recommendations finished on 189000/305945 queries. users per second: 1385.59"
            ]
          },
          "metadata": {},
          "output_type": "display_data"
        },
        {
          "data": {
            "text/html": [
              "<pre>recommendations finished on 190000/305945 queries. users per second: 1385.76</pre>"
            ],
            "text/plain": [
              "recommendations finished on 190000/305945 queries. users per second: 1385.76"
            ]
          },
          "metadata": {},
          "output_type": "display_data"
        },
        {
          "data": {
            "text/html": [
              "<pre>recommendations finished on 191000/305945 queries. users per second: 1386.02</pre>"
            ],
            "text/plain": [
              "recommendations finished on 191000/305945 queries. users per second: 1386.02"
            ]
          },
          "metadata": {},
          "output_type": "display_data"
        },
        {
          "data": {
            "text/html": [
              "<pre>recommendations finished on 192000/305945 queries. users per second: 1386.15</pre>"
            ],
            "text/plain": [
              "recommendations finished on 192000/305945 queries. users per second: 1386.15"
            ]
          },
          "metadata": {},
          "output_type": "display_data"
        },
        {
          "data": {
            "text/html": [
              "<pre>recommendations finished on 193000/305945 queries. users per second: 1386.41</pre>"
            ],
            "text/plain": [
              "recommendations finished on 193000/305945 queries. users per second: 1386.41"
            ]
          },
          "metadata": {},
          "output_type": "display_data"
        },
        {
          "data": {
            "text/html": [
              "<pre>recommendations finished on 194000/305945 queries. users per second: 1386.55</pre>"
            ],
            "text/plain": [
              "recommendations finished on 194000/305945 queries. users per second: 1386.55"
            ]
          },
          "metadata": {},
          "output_type": "display_data"
        },
        {
          "data": {
            "text/html": [
              "<pre>recommendations finished on 195000/305945 queries. users per second: 1386.63</pre>"
            ],
            "text/plain": [
              "recommendations finished on 195000/305945 queries. users per second: 1386.63"
            ]
          },
          "metadata": {},
          "output_type": "display_data"
        },
        {
          "data": {
            "text/html": [
              "<pre>recommendations finished on 196000/305945 queries. users per second: 1386.58</pre>"
            ],
            "text/plain": [
              "recommendations finished on 196000/305945 queries. users per second: 1386.58"
            ]
          },
          "metadata": {},
          "output_type": "display_data"
        },
        {
          "data": {
            "text/html": [
              "<pre>recommendations finished on 197000/305945 queries. users per second: 1386.49</pre>"
            ],
            "text/plain": [
              "recommendations finished on 197000/305945 queries. users per second: 1386.49"
            ]
          },
          "metadata": {},
          "output_type": "display_data"
        },
        {
          "data": {
            "text/html": [
              "<pre>recommendations finished on 198000/305945 queries. users per second: 1386.59</pre>"
            ],
            "text/plain": [
              "recommendations finished on 198000/305945 queries. users per second: 1386.59"
            ]
          },
          "metadata": {},
          "output_type": "display_data"
        },
        {
          "data": {
            "text/html": [
              "<pre>recommendations finished on 199000/305945 queries. users per second: 1386.7</pre>"
            ],
            "text/plain": [
              "recommendations finished on 199000/305945 queries. users per second: 1386.7"
            ]
          },
          "metadata": {},
          "output_type": "display_data"
        },
        {
          "data": {
            "text/html": [
              "<pre>recommendations finished on 200000/305945 queries. users per second: 1386.53</pre>"
            ],
            "text/plain": [
              "recommendations finished on 200000/305945 queries. users per second: 1386.53"
            ]
          },
          "metadata": {},
          "output_type": "display_data"
        },
        {
          "data": {
            "text/html": [
              "<pre>recommendations finished on 201000/305945 queries. users per second: 1386.57</pre>"
            ],
            "text/plain": [
              "recommendations finished on 201000/305945 queries. users per second: 1386.57"
            ]
          },
          "metadata": {},
          "output_type": "display_data"
        },
        {
          "data": {
            "text/html": [
              "<pre>recommendations finished on 202000/305945 queries. users per second: 1386.64</pre>"
            ],
            "text/plain": [
              "recommendations finished on 202000/305945 queries. users per second: 1386.64"
            ]
          },
          "metadata": {},
          "output_type": "display_data"
        },
        {
          "data": {
            "text/html": [
              "<pre>recommendations finished on 203000/305945 queries. users per second: 1386.49</pre>"
            ],
            "text/plain": [
              "recommendations finished on 203000/305945 queries. users per second: 1386.49"
            ]
          },
          "metadata": {},
          "output_type": "display_data"
        },
        {
          "data": {
            "text/html": [
              "<pre>recommendations finished on 204000/305945 queries. users per second: 1386.36</pre>"
            ],
            "text/plain": [
              "recommendations finished on 204000/305945 queries. users per second: 1386.36"
            ]
          },
          "metadata": {},
          "output_type": "display_data"
        },
        {
          "data": {
            "text/html": [
              "<pre>recommendations finished on 205000/305945 queries. users per second: 1386.46</pre>"
            ],
            "text/plain": [
              "recommendations finished on 205000/305945 queries. users per second: 1386.46"
            ]
          },
          "metadata": {},
          "output_type": "display_data"
        },
        {
          "data": {
            "text/html": [
              "<pre>recommendations finished on 206000/305945 queries. users per second: 1386.43</pre>"
            ],
            "text/plain": [
              "recommendations finished on 206000/305945 queries. users per second: 1386.43"
            ]
          },
          "metadata": {},
          "output_type": "display_data"
        },
        {
          "data": {
            "text/html": [
              "<pre>recommendations finished on 207000/305945 queries. users per second: 1386.54</pre>"
            ],
            "text/plain": [
              "recommendations finished on 207000/305945 queries. users per second: 1386.54"
            ]
          },
          "metadata": {},
          "output_type": "display_data"
        },
        {
          "data": {
            "text/html": [
              "<pre>recommendations finished on 208000/305945 queries. users per second: 1386.61</pre>"
            ],
            "text/plain": [
              "recommendations finished on 208000/305945 queries. users per second: 1386.61"
            ]
          },
          "metadata": {},
          "output_type": "display_data"
        },
        {
          "data": {
            "text/html": [
              "<pre>recommendations finished on 209000/305945 queries. users per second: 1386.66</pre>"
            ],
            "text/plain": [
              "recommendations finished on 209000/305945 queries. users per second: 1386.66"
            ]
          },
          "metadata": {},
          "output_type": "display_data"
        },
        {
          "data": {
            "text/html": [
              "<pre>recommendations finished on 210000/305945 queries. users per second: 1386.68</pre>"
            ],
            "text/plain": [
              "recommendations finished on 210000/305945 queries. users per second: 1386.68"
            ]
          },
          "metadata": {},
          "output_type": "display_data"
        },
        {
          "data": {
            "text/html": [
              "<pre>recommendations finished on 211000/305945 queries. users per second: 1386.89</pre>"
            ],
            "text/plain": [
              "recommendations finished on 211000/305945 queries. users per second: 1386.89"
            ]
          },
          "metadata": {},
          "output_type": "display_data"
        },
        {
          "data": {
            "text/html": [
              "<pre>recommendations finished on 212000/305945 queries. users per second: 1387.1</pre>"
            ],
            "text/plain": [
              "recommendations finished on 212000/305945 queries. users per second: 1387.1"
            ]
          },
          "metadata": {},
          "output_type": "display_data"
        },
        {
          "data": {
            "text/html": [
              "<pre>recommendations finished on 213000/305945 queries. users per second: 1387.23</pre>"
            ],
            "text/plain": [
              "recommendations finished on 213000/305945 queries. users per second: 1387.23"
            ]
          },
          "metadata": {},
          "output_type": "display_data"
        },
        {
          "data": {
            "text/html": [
              "<pre>recommendations finished on 214000/305945 queries. users per second: 1387.4</pre>"
            ],
            "text/plain": [
              "recommendations finished on 214000/305945 queries. users per second: 1387.4"
            ]
          },
          "metadata": {},
          "output_type": "display_data"
        },
        {
          "data": {
            "text/html": [
              "<pre>recommendations finished on 215000/305945 queries. users per second: 1387.43</pre>"
            ],
            "text/plain": [
              "recommendations finished on 215000/305945 queries. users per second: 1387.43"
            ]
          },
          "metadata": {},
          "output_type": "display_data"
        },
        {
          "data": {
            "text/html": [
              "<pre>recommendations finished on 216000/305945 queries. users per second: 1387.43</pre>"
            ],
            "text/plain": [
              "recommendations finished on 216000/305945 queries. users per second: 1387.43"
            ]
          },
          "metadata": {},
          "output_type": "display_data"
        },
        {
          "data": {
            "text/html": [
              "<pre>recommendations finished on 217000/305945 queries. users per second: 1387.33</pre>"
            ],
            "text/plain": [
              "recommendations finished on 217000/305945 queries. users per second: 1387.33"
            ]
          },
          "metadata": {},
          "output_type": "display_data"
        },
        {
          "data": {
            "text/html": [
              "<pre>recommendations finished on 218000/305945 queries. users per second: 1387.41</pre>"
            ],
            "text/plain": [
              "recommendations finished on 218000/305945 queries. users per second: 1387.41"
            ]
          },
          "metadata": {},
          "output_type": "display_data"
        },
        {
          "data": {
            "text/html": [
              "<pre>recommendations finished on 219000/305945 queries. users per second: 1387.29</pre>"
            ],
            "text/plain": [
              "recommendations finished on 219000/305945 queries. users per second: 1387.29"
            ]
          },
          "metadata": {},
          "output_type": "display_data"
        },
        {
          "data": {
            "text/html": [
              "<pre>recommendations finished on 220000/305945 queries. users per second: 1387.33</pre>"
            ],
            "text/plain": [
              "recommendations finished on 220000/305945 queries. users per second: 1387.33"
            ]
          },
          "metadata": {},
          "output_type": "display_data"
        },
        {
          "data": {
            "text/html": [
              "<pre>recommendations finished on 221000/305945 queries. users per second: 1387.1</pre>"
            ],
            "text/plain": [
              "recommendations finished on 221000/305945 queries. users per second: 1387.1"
            ]
          },
          "metadata": {},
          "output_type": "display_data"
        },
        {
          "data": {
            "text/html": [
              "<pre>recommendations finished on 222000/305945 queries. users per second: 1387.09</pre>"
            ],
            "text/plain": [
              "recommendations finished on 222000/305945 queries. users per second: 1387.09"
            ]
          },
          "metadata": {},
          "output_type": "display_data"
        },
        {
          "data": {
            "text/html": [
              "<pre>recommendations finished on 223000/305945 queries. users per second: 1387.12</pre>"
            ],
            "text/plain": [
              "recommendations finished on 223000/305945 queries. users per second: 1387.12"
            ]
          },
          "metadata": {},
          "output_type": "display_data"
        },
        {
          "data": {
            "text/html": [
              "<pre>recommendations finished on 224000/305945 queries. users per second: 1387.2</pre>"
            ],
            "text/plain": [
              "recommendations finished on 224000/305945 queries. users per second: 1387.2"
            ]
          },
          "metadata": {},
          "output_type": "display_data"
        },
        {
          "data": {
            "text/html": [
              "<pre>recommendations finished on 225000/305945 queries. users per second: 1387.15</pre>"
            ],
            "text/plain": [
              "recommendations finished on 225000/305945 queries. users per second: 1387.15"
            ]
          },
          "metadata": {},
          "output_type": "display_data"
        },
        {
          "data": {
            "text/html": [
              "<pre>recommendations finished on 226000/305945 queries. users per second: 1387.31</pre>"
            ],
            "text/plain": [
              "recommendations finished on 226000/305945 queries. users per second: 1387.31"
            ]
          },
          "metadata": {},
          "output_type": "display_data"
        },
        {
          "data": {
            "text/html": [
              "<pre>recommendations finished on 227000/305945 queries. users per second: 1387.36</pre>"
            ],
            "text/plain": [
              "recommendations finished on 227000/305945 queries. users per second: 1387.36"
            ]
          },
          "metadata": {},
          "output_type": "display_data"
        },
        {
          "data": {
            "text/html": [
              "<pre>recommendations finished on 228000/305945 queries. users per second: 1387.43</pre>"
            ],
            "text/plain": [
              "recommendations finished on 228000/305945 queries. users per second: 1387.43"
            ]
          },
          "metadata": {},
          "output_type": "display_data"
        },
        {
          "data": {
            "text/html": [
              "<pre>recommendations finished on 229000/305945 queries. users per second: 1387.44</pre>"
            ],
            "text/plain": [
              "recommendations finished on 229000/305945 queries. users per second: 1387.44"
            ]
          },
          "metadata": {},
          "output_type": "display_data"
        },
        {
          "data": {
            "text/html": [
              "<pre>recommendations finished on 230000/305945 queries. users per second: 1387.39</pre>"
            ],
            "text/plain": [
              "recommendations finished on 230000/305945 queries. users per second: 1387.39"
            ]
          },
          "metadata": {},
          "output_type": "display_data"
        },
        {
          "data": {
            "text/html": [
              "<pre>recommendations finished on 231000/305945 queries. users per second: 1387.39</pre>"
            ],
            "text/plain": [
              "recommendations finished on 231000/305945 queries. users per second: 1387.39"
            ]
          },
          "metadata": {},
          "output_type": "display_data"
        },
        {
          "data": {
            "text/html": [
              "<pre>recommendations finished on 232000/305945 queries. users per second: 1387.28</pre>"
            ],
            "text/plain": [
              "recommendations finished on 232000/305945 queries. users per second: 1387.28"
            ]
          },
          "metadata": {},
          "output_type": "display_data"
        },
        {
          "data": {
            "text/html": [
              "<pre>recommendations finished on 233000/305945 queries. users per second: 1387.29</pre>"
            ],
            "text/plain": [
              "recommendations finished on 233000/305945 queries. users per second: 1387.29"
            ]
          },
          "metadata": {},
          "output_type": "display_data"
        },
        {
          "data": {
            "text/html": [
              "<pre>recommendations finished on 234000/305945 queries. users per second: 1387.37</pre>"
            ],
            "text/plain": [
              "recommendations finished on 234000/305945 queries. users per second: 1387.37"
            ]
          },
          "metadata": {},
          "output_type": "display_data"
        },
        {
          "data": {
            "text/html": [
              "<pre>recommendations finished on 235000/305945 queries. users per second: 1387.03</pre>"
            ],
            "text/plain": [
              "recommendations finished on 235000/305945 queries. users per second: 1387.03"
            ]
          },
          "metadata": {},
          "output_type": "display_data"
        },
        {
          "data": {
            "text/html": [
              "<pre>recommendations finished on 236000/305945 queries. users per second: 1386.69</pre>"
            ],
            "text/plain": [
              "recommendations finished on 236000/305945 queries. users per second: 1386.69"
            ]
          },
          "metadata": {},
          "output_type": "display_data"
        },
        {
          "data": {
            "text/html": [
              "<pre>recommendations finished on 237000/305945 queries. users per second: 1382.46</pre>"
            ],
            "text/plain": [
              "recommendations finished on 237000/305945 queries. users per second: 1382.46"
            ]
          },
          "metadata": {},
          "output_type": "display_data"
        },
        {
          "data": {
            "text/html": [
              "<pre>recommendations finished on 238000/305945 queries. users per second: 1377.85</pre>"
            ],
            "text/plain": [
              "recommendations finished on 238000/305945 queries. users per second: 1377.85"
            ]
          },
          "metadata": {},
          "output_type": "display_data"
        },
        {
          "data": {
            "text/html": [
              "<pre>recommendations finished on 239000/305945 queries. users per second: 1373.36</pre>"
            ],
            "text/plain": [
              "recommendations finished on 239000/305945 queries. users per second: 1373.36"
            ]
          },
          "metadata": {},
          "output_type": "display_data"
        },
        {
          "data": {
            "text/html": [
              "<pre>recommendations finished on 240000/305945 queries. users per second: 1372.69</pre>"
            ],
            "text/plain": [
              "recommendations finished on 240000/305945 queries. users per second: 1372.69"
            ]
          },
          "metadata": {},
          "output_type": "display_data"
        },
        {
          "data": {
            "text/html": [
              "<pre>recommendations finished on 241000/305945 queries. users per second: 1372.71</pre>"
            ],
            "text/plain": [
              "recommendations finished on 241000/305945 queries. users per second: 1372.71"
            ]
          },
          "metadata": {},
          "output_type": "display_data"
        },
        {
          "data": {
            "text/html": [
              "<pre>recommendations finished on 242000/305945 queries. users per second: 1372.82</pre>"
            ],
            "text/plain": [
              "recommendations finished on 242000/305945 queries. users per second: 1372.82"
            ]
          },
          "metadata": {},
          "output_type": "display_data"
        },
        {
          "data": {
            "text/html": [
              "<pre>recommendations finished on 243000/305945 queries. users per second: 1372.98</pre>"
            ],
            "text/plain": [
              "recommendations finished on 243000/305945 queries. users per second: 1372.98"
            ]
          },
          "metadata": {},
          "output_type": "display_data"
        },
        {
          "data": {
            "text/html": [
              "<pre>recommendations finished on 244000/305945 queries. users per second: 1373.19</pre>"
            ],
            "text/plain": [
              "recommendations finished on 244000/305945 queries. users per second: 1373.19"
            ]
          },
          "metadata": {},
          "output_type": "display_data"
        },
        {
          "data": {
            "text/html": [
              "<pre>recommendations finished on 245000/305945 queries. users per second: 1373.27</pre>"
            ],
            "text/plain": [
              "recommendations finished on 245000/305945 queries. users per second: 1373.27"
            ]
          },
          "metadata": {},
          "output_type": "display_data"
        },
        {
          "data": {
            "text/html": [
              "<pre>recommendations finished on 246000/305945 queries. users per second: 1373.35</pre>"
            ],
            "text/plain": [
              "recommendations finished on 246000/305945 queries. users per second: 1373.35"
            ]
          },
          "metadata": {},
          "output_type": "display_data"
        },
        {
          "data": {
            "text/html": [
              "<pre>recommendations finished on 247000/305945 queries. users per second: 1373.48</pre>"
            ],
            "text/plain": [
              "recommendations finished on 247000/305945 queries. users per second: 1373.48"
            ]
          },
          "metadata": {},
          "output_type": "display_data"
        },
        {
          "data": {
            "text/html": [
              "<pre>recommendations finished on 248000/305945 queries. users per second: 1373.45</pre>"
            ],
            "text/plain": [
              "recommendations finished on 248000/305945 queries. users per second: 1373.45"
            ]
          },
          "metadata": {},
          "output_type": "display_data"
        },
        {
          "data": {
            "text/html": [
              "<pre>recommendations finished on 249000/305945 queries. users per second: 1373.52</pre>"
            ],
            "text/plain": [
              "recommendations finished on 249000/305945 queries. users per second: 1373.52"
            ]
          },
          "metadata": {},
          "output_type": "display_data"
        },
        {
          "data": {
            "text/html": [
              "<pre>recommendations finished on 250000/305945 queries. users per second: 1373.63</pre>"
            ],
            "text/plain": [
              "recommendations finished on 250000/305945 queries. users per second: 1373.63"
            ]
          },
          "metadata": {},
          "output_type": "display_data"
        },
        {
          "data": {
            "text/html": [
              "<pre>recommendations finished on 251000/305945 queries. users per second: 1373.69</pre>"
            ],
            "text/plain": [
              "recommendations finished on 251000/305945 queries. users per second: 1373.69"
            ]
          },
          "metadata": {},
          "output_type": "display_data"
        },
        {
          "data": {
            "text/html": [
              "<pre>recommendations finished on 252000/305945 queries. users per second: 1373.7</pre>"
            ],
            "text/plain": [
              "recommendations finished on 252000/305945 queries. users per second: 1373.7"
            ]
          },
          "metadata": {},
          "output_type": "display_data"
        },
        {
          "data": {
            "text/html": [
              "<pre>recommendations finished on 253000/305945 queries. users per second: 1373.73</pre>"
            ],
            "text/plain": [
              "recommendations finished on 253000/305945 queries. users per second: 1373.73"
            ]
          },
          "metadata": {},
          "output_type": "display_data"
        },
        {
          "data": {
            "text/html": [
              "<pre>recommendations finished on 254000/305945 queries. users per second: 1373.82</pre>"
            ],
            "text/plain": [
              "recommendations finished on 254000/305945 queries. users per second: 1373.82"
            ]
          },
          "metadata": {},
          "output_type": "display_data"
        },
        {
          "data": {
            "text/html": [
              "<pre>recommendations finished on 255000/305945 queries. users per second: 1374.04</pre>"
            ],
            "text/plain": [
              "recommendations finished on 255000/305945 queries. users per second: 1374.04"
            ]
          },
          "metadata": {},
          "output_type": "display_data"
        },
        {
          "data": {
            "text/html": [
              "<pre>recommendations finished on 256000/305945 queries. users per second: 1374.1</pre>"
            ],
            "text/plain": [
              "recommendations finished on 256000/305945 queries. users per second: 1374.1"
            ]
          },
          "metadata": {},
          "output_type": "display_data"
        },
        {
          "data": {
            "text/html": [
              "<pre>recommendations finished on 257000/305945 queries. users per second: 1374.26</pre>"
            ],
            "text/plain": [
              "recommendations finished on 257000/305945 queries. users per second: 1374.26"
            ]
          },
          "metadata": {},
          "output_type": "display_data"
        },
        {
          "data": {
            "text/html": [
              "<pre>recommendations finished on 258000/305945 queries. users per second: 1374.35</pre>"
            ],
            "text/plain": [
              "recommendations finished on 258000/305945 queries. users per second: 1374.35"
            ]
          },
          "metadata": {},
          "output_type": "display_data"
        },
        {
          "data": {
            "text/html": [
              "<pre>recommendations finished on 259000/305945 queries. users per second: 1374.39</pre>"
            ],
            "text/plain": [
              "recommendations finished on 259000/305945 queries. users per second: 1374.39"
            ]
          },
          "metadata": {},
          "output_type": "display_data"
        },
        {
          "data": {
            "text/html": [
              "<pre>recommendations finished on 260000/305945 queries. users per second: 1374.58</pre>"
            ],
            "text/plain": [
              "recommendations finished on 260000/305945 queries. users per second: 1374.58"
            ]
          },
          "metadata": {},
          "output_type": "display_data"
        },
        {
          "data": {
            "text/html": [
              "<pre>recommendations finished on 261000/305945 queries. users per second: 1374.68</pre>"
            ],
            "text/plain": [
              "recommendations finished on 261000/305945 queries. users per second: 1374.68"
            ]
          },
          "metadata": {},
          "output_type": "display_data"
        },
        {
          "data": {
            "text/html": [
              "<pre>recommendations finished on 262000/305945 queries. users per second: 1374.7</pre>"
            ],
            "text/plain": [
              "recommendations finished on 262000/305945 queries. users per second: 1374.7"
            ]
          },
          "metadata": {},
          "output_type": "display_data"
        },
        {
          "data": {
            "text/html": [
              "<pre>recommendations finished on 263000/305945 queries. users per second: 1374.77</pre>"
            ],
            "text/plain": [
              "recommendations finished on 263000/305945 queries. users per second: 1374.77"
            ]
          },
          "metadata": {},
          "output_type": "display_data"
        },
        {
          "data": {
            "text/html": [
              "<pre>recommendations finished on 264000/305945 queries. users per second: 1374.92</pre>"
            ],
            "text/plain": [
              "recommendations finished on 264000/305945 queries. users per second: 1374.92"
            ]
          },
          "metadata": {},
          "output_type": "display_data"
        },
        {
          "data": {
            "text/html": [
              "<pre>recommendations finished on 265000/305945 queries. users per second: 1374.94</pre>"
            ],
            "text/plain": [
              "recommendations finished on 265000/305945 queries. users per second: 1374.94"
            ]
          },
          "metadata": {},
          "output_type": "display_data"
        },
        {
          "data": {
            "text/html": [
              "<pre>recommendations finished on 266000/305945 queries. users per second: 1375.03</pre>"
            ],
            "text/plain": [
              "recommendations finished on 266000/305945 queries. users per second: 1375.03"
            ]
          },
          "metadata": {},
          "output_type": "display_data"
        },
        {
          "data": {
            "text/html": [
              "<pre>recommendations finished on 267000/305945 queries. users per second: 1375.23</pre>"
            ],
            "text/plain": [
              "recommendations finished on 267000/305945 queries. users per second: 1375.23"
            ]
          },
          "metadata": {},
          "output_type": "display_data"
        },
        {
          "data": {
            "text/html": [
              "<pre>recommendations finished on 268000/305945 queries. users per second: 1375.33</pre>"
            ],
            "text/plain": [
              "recommendations finished on 268000/305945 queries. users per second: 1375.33"
            ]
          },
          "metadata": {},
          "output_type": "display_data"
        },
        {
          "data": {
            "text/html": [
              "<pre>recommendations finished on 269000/305945 queries. users per second: 1375.43</pre>"
            ],
            "text/plain": [
              "recommendations finished on 269000/305945 queries. users per second: 1375.43"
            ]
          },
          "metadata": {},
          "output_type": "display_data"
        },
        {
          "data": {
            "text/html": [
              "<pre>recommendations finished on 270000/305945 queries. users per second: 1375.37</pre>"
            ],
            "text/plain": [
              "recommendations finished on 270000/305945 queries. users per second: 1375.37"
            ]
          },
          "metadata": {},
          "output_type": "display_data"
        },
        {
          "data": {
            "text/html": [
              "<pre>recommendations finished on 271000/305945 queries. users per second: 1375.31</pre>"
            ],
            "text/plain": [
              "recommendations finished on 271000/305945 queries. users per second: 1375.31"
            ]
          },
          "metadata": {},
          "output_type": "display_data"
        },
        {
          "data": {
            "text/html": [
              "<pre>recommendations finished on 272000/305945 queries. users per second: 1375.31</pre>"
            ],
            "text/plain": [
              "recommendations finished on 272000/305945 queries. users per second: 1375.31"
            ]
          },
          "metadata": {},
          "output_type": "display_data"
        },
        {
          "data": {
            "text/html": [
              "<pre>recommendations finished on 273000/305945 queries. users per second: 1375.43</pre>"
            ],
            "text/plain": [
              "recommendations finished on 273000/305945 queries. users per second: 1375.43"
            ]
          },
          "metadata": {},
          "output_type": "display_data"
        },
        {
          "data": {
            "text/html": [
              "<pre>recommendations finished on 274000/305945 queries. users per second: 1375.5</pre>"
            ],
            "text/plain": [
              "recommendations finished on 274000/305945 queries. users per second: 1375.5"
            ]
          },
          "metadata": {},
          "output_type": "display_data"
        },
        {
          "data": {
            "text/html": [
              "<pre>recommendations finished on 275000/305945 queries. users per second: 1375.49</pre>"
            ],
            "text/plain": [
              "recommendations finished on 275000/305945 queries. users per second: 1375.49"
            ]
          },
          "metadata": {},
          "output_type": "display_data"
        },
        {
          "data": {
            "text/html": [
              "<pre>recommendations finished on 276000/305945 queries. users per second: 1375.53</pre>"
            ],
            "text/plain": [
              "recommendations finished on 276000/305945 queries. users per second: 1375.53"
            ]
          },
          "metadata": {},
          "output_type": "display_data"
        },
        {
          "data": {
            "text/html": [
              "<pre>recommendations finished on 277000/305945 queries. users per second: 1375.62</pre>"
            ],
            "text/plain": [
              "recommendations finished on 277000/305945 queries. users per second: 1375.62"
            ]
          },
          "metadata": {},
          "output_type": "display_data"
        },
        {
          "data": {
            "text/html": [
              "<pre>recommendations finished on 278000/305945 queries. users per second: 1375.74</pre>"
            ],
            "text/plain": [
              "recommendations finished on 278000/305945 queries. users per second: 1375.74"
            ]
          },
          "metadata": {},
          "output_type": "display_data"
        },
        {
          "data": {
            "text/html": [
              "<pre>recommendations finished on 279000/305945 queries. users per second: 1375.78</pre>"
            ],
            "text/plain": [
              "recommendations finished on 279000/305945 queries. users per second: 1375.78"
            ]
          },
          "metadata": {},
          "output_type": "display_data"
        },
        {
          "data": {
            "text/html": [
              "<pre>recommendations finished on 280000/305945 queries. users per second: 1375.87</pre>"
            ],
            "text/plain": [
              "recommendations finished on 280000/305945 queries. users per second: 1375.87"
            ]
          },
          "metadata": {},
          "output_type": "display_data"
        },
        {
          "data": {
            "text/html": [
              "<pre>recommendations finished on 281000/305945 queries. users per second: 1375.82</pre>"
            ],
            "text/plain": [
              "recommendations finished on 281000/305945 queries. users per second: 1375.82"
            ]
          },
          "metadata": {},
          "output_type": "display_data"
        },
        {
          "data": {
            "text/html": [
              "<pre>recommendations finished on 282000/305945 queries. users per second: 1375.83</pre>"
            ],
            "text/plain": [
              "recommendations finished on 282000/305945 queries. users per second: 1375.83"
            ]
          },
          "metadata": {},
          "output_type": "display_data"
        },
        {
          "data": {
            "text/html": [
              "<pre>recommendations finished on 283000/305945 queries. users per second: 1375.91</pre>"
            ],
            "text/plain": [
              "recommendations finished on 283000/305945 queries. users per second: 1375.91"
            ]
          },
          "metadata": {},
          "output_type": "display_data"
        },
        {
          "data": {
            "text/html": [
              "<pre>recommendations finished on 284000/305945 queries. users per second: 1375.9</pre>"
            ],
            "text/plain": [
              "recommendations finished on 284000/305945 queries. users per second: 1375.9"
            ]
          },
          "metadata": {},
          "output_type": "display_data"
        },
        {
          "data": {
            "text/html": [
              "<pre>recommendations finished on 285000/305945 queries. users per second: 1375.84</pre>"
            ],
            "text/plain": [
              "recommendations finished on 285000/305945 queries. users per second: 1375.84"
            ]
          },
          "metadata": {},
          "output_type": "display_data"
        },
        {
          "data": {
            "text/html": [
              "<pre>recommendations finished on 286000/305945 queries. users per second: 1375.87</pre>"
            ],
            "text/plain": [
              "recommendations finished on 286000/305945 queries. users per second: 1375.87"
            ]
          },
          "metadata": {},
          "output_type": "display_data"
        },
        {
          "data": {
            "text/html": [
              "<pre>recommendations finished on 287000/305945 queries. users per second: 1375.91</pre>"
            ],
            "text/plain": [
              "recommendations finished on 287000/305945 queries. users per second: 1375.91"
            ]
          },
          "metadata": {},
          "output_type": "display_data"
        },
        {
          "data": {
            "text/html": [
              "<pre>recommendations finished on 288000/305945 queries. users per second: 1375.96</pre>"
            ],
            "text/plain": [
              "recommendations finished on 288000/305945 queries. users per second: 1375.96"
            ]
          },
          "metadata": {},
          "output_type": "display_data"
        },
        {
          "data": {
            "text/html": [
              "<pre>recommendations finished on 289000/305945 queries. users per second: 1376.09</pre>"
            ],
            "text/plain": [
              "recommendations finished on 289000/305945 queries. users per second: 1376.09"
            ]
          },
          "metadata": {},
          "output_type": "display_data"
        },
        {
          "data": {
            "text/html": [
              "<pre>recommendations finished on 290000/305945 queries. users per second: 1376.13</pre>"
            ],
            "text/plain": [
              "recommendations finished on 290000/305945 queries. users per second: 1376.13"
            ]
          },
          "metadata": {},
          "output_type": "display_data"
        },
        {
          "data": {
            "text/html": [
              "<pre>recommendations finished on 291000/305945 queries. users per second: 1376.1</pre>"
            ],
            "text/plain": [
              "recommendations finished on 291000/305945 queries. users per second: 1376.1"
            ]
          },
          "metadata": {},
          "output_type": "display_data"
        },
        {
          "data": {
            "text/html": [
              "<pre>recommendations finished on 292000/305945 queries. users per second: 1375.95</pre>"
            ],
            "text/plain": [
              "recommendations finished on 292000/305945 queries. users per second: 1375.95"
            ]
          },
          "metadata": {},
          "output_type": "display_data"
        },
        {
          "data": {
            "text/html": [
              "<pre>recommendations finished on 293000/305945 queries. users per second: 1375.91</pre>"
            ],
            "text/plain": [
              "recommendations finished on 293000/305945 queries. users per second: 1375.91"
            ]
          },
          "metadata": {},
          "output_type": "display_data"
        },
        {
          "data": {
            "text/html": [
              "<pre>recommendations finished on 294000/305945 queries. users per second: 1375.97</pre>"
            ],
            "text/plain": [
              "recommendations finished on 294000/305945 queries. users per second: 1375.97"
            ]
          },
          "metadata": {},
          "output_type": "display_data"
        },
        {
          "data": {
            "text/html": [
              "<pre>recommendations finished on 295000/305945 queries. users per second: 1375.93</pre>"
            ],
            "text/plain": [
              "recommendations finished on 295000/305945 queries. users per second: 1375.93"
            ]
          },
          "metadata": {},
          "output_type": "display_data"
        },
        {
          "data": {
            "text/html": [
              "<pre>recommendations finished on 296000/305945 queries. users per second: 1375.86</pre>"
            ],
            "text/plain": [
              "recommendations finished on 296000/305945 queries. users per second: 1375.86"
            ]
          },
          "metadata": {},
          "output_type": "display_data"
        },
        {
          "data": {
            "text/html": [
              "<pre>recommendations finished on 297000/305945 queries. users per second: 1375.97</pre>"
            ],
            "text/plain": [
              "recommendations finished on 297000/305945 queries. users per second: 1375.97"
            ]
          },
          "metadata": {},
          "output_type": "display_data"
        },
        {
          "data": {
            "text/html": [
              "<pre>recommendations finished on 298000/305945 queries. users per second: 1376.07</pre>"
            ],
            "text/plain": [
              "recommendations finished on 298000/305945 queries. users per second: 1376.07"
            ]
          },
          "metadata": {},
          "output_type": "display_data"
        },
        {
          "data": {
            "text/html": [
              "<pre>recommendations finished on 299000/305945 queries. users per second: 1376.01</pre>"
            ],
            "text/plain": [
              "recommendations finished on 299000/305945 queries. users per second: 1376.01"
            ]
          },
          "metadata": {},
          "output_type": "display_data"
        },
        {
          "data": {
            "text/html": [
              "<pre>recommendations finished on 300000/305945 queries. users per second: 1376.1</pre>"
            ],
            "text/plain": [
              "recommendations finished on 300000/305945 queries. users per second: 1376.1"
            ]
          },
          "metadata": {},
          "output_type": "display_data"
        },
        {
          "data": {
            "text/html": [
              "<pre>recommendations finished on 301000/305945 queries. users per second: 1376.21</pre>"
            ],
            "text/plain": [
              "recommendations finished on 301000/305945 queries. users per second: 1376.21"
            ]
          },
          "metadata": {},
          "output_type": "display_data"
        },
        {
          "data": {
            "text/html": [
              "<pre>recommendations finished on 302000/305945 queries. users per second: 1376.23</pre>"
            ],
            "text/plain": [
              "recommendations finished on 302000/305945 queries. users per second: 1376.23"
            ]
          },
          "metadata": {},
          "output_type": "display_data"
        },
        {
          "data": {
            "text/html": [
              "<pre>recommendations finished on 303000/305945 queries. users per second: 1376.33</pre>"
            ],
            "text/plain": [
              "recommendations finished on 303000/305945 queries. users per second: 1376.33"
            ]
          },
          "metadata": {},
          "output_type": "display_data"
        },
        {
          "data": {
            "text/html": [
              "<pre>recommendations finished on 304000/305945 queries. users per second: 1376.4</pre>"
            ],
            "text/plain": [
              "recommendations finished on 304000/305945 queries. users per second: 1376.4"
            ]
          },
          "metadata": {},
          "output_type": "display_data"
        },
        {
          "data": {
            "text/html": [
              "<pre>recommendations finished on 305000/305945 queries. users per second: 1376.54</pre>"
            ],
            "text/plain": [
              "recommendations finished on 305000/305945 queries. users per second: 1376.54"
            ]
          },
          "metadata": {},
          "output_type": "display_data"
        }
      ],
      "source": [
        "mf_grad = tc.ranking_factorization_recommender.create(df_train, \n",
        "                                              user_id='user_id', \n",
        "                                              item_id='item_id',\n",
        "                                              num_factors=10,\n",
        "                                              #max_iterations=40\n",
        "                                              solver='adagrad')\n",
        "# recommend k products for a list of users (None corresponds to all users) \n",
        "recommendation = mf_grad.recommend(users=None, k=12)"
      ]
    },
    {
      "cell_type": "code",
      "execution_count": null,
      "metadata": {
        "colab": {
          "base_uri": "https://localhost:8080/"
        },
        "id": "xKdwjYiopVPx",
        "outputId": "2fe63d33-7b9a-4ef2-a838-7b81edc7b637"
      },
      "outputs": [
        {
          "name": "stdout",
          "output_type": "stream",
          "text": [
            "+---------+---------+---------------------+------+\n",
            "| user_id | item_id |        score        | rank |\n",
            "+---------+---------+---------------------+------+\n",
            "|    0    |  19240  | 0.35698288679122925 |  1   |\n",
            "|    0    |   3921  |  0.3095870316028595 |  2   |\n",
            "|    0    |   3876  |  0.2810938358306885 |  3   |\n",
            "|    0    |   6153  | 0.22873052954673767 |  4   |\n",
            "|    0    |   1179  | 0.21884199976921082 |  5   |\n",
            "|    0    |   2350  | 0.20630986988544464 |  6   |\n",
            "|    0    |   6691  | 0.19016516208648682 |  7   |\n",
            "|    0    |   1744  | 0.16090434789657593 |  8   |\n",
            "|    0    |   7937  | 0.15766994655132294 |  9   |\n",
            "|    0    |   1125  | 0.15361566841602325 |  10  |\n",
            "|    0    |   7928  | 0.15068849921226501 |  11  |\n",
            "|    0    |   6079  | 0.13560670614242554 |  12  |\n",
            "|    1    |   896   |  0.2353052794933319 |  1   |\n",
            "|    1    |   3559  |  0.2041281759738922 |  2   |\n",
            "|    1    |   5371  | 0.18876758217811584 |  3   |\n",
            "|    1    |   3431  | 0.17464987933635712 |  4   |\n",
            "|    1    |   361   |  0.1396971344947815 |  5   |\n",
            "|    1    |   1127  | 0.11500201374292374 |  6   |\n",
            "|    1    |   8915  |  0.1145920529961586 |  7   |\n",
            "|    1    |   1125  | 0.10855940729379654 |  8   |\n",
            "|    1    |   1293  |  0.1084841936826706 |  9   |\n",
            "|    1    |   3691  | 0.10593197494745255 |  10  |\n",
            "|    1    |   4467  | 0.09895715862512589 |  11  |\n",
            "|    1    |   2433  | 0.09463860094547272 |  12  |\n",
            "|    2    |   1779  | 0.12206225842237473 |  1   |\n",
            "|    2    |   9976  |  0.1129414439201355 |  2   |\n",
            "|    2    |   5035  | 0.09633030742406845 |  3   |\n",
            "|    2    |   9332  | 0.08647596091032028 |  4   |\n",
            "|    2    |   1462  | 0.07868199050426483 |  5   |\n",
            "|    2    |   1968  | 0.07450259476900101 |  6   |\n",
            "|    2    |   3815  | 0.07360730320215225 |  7   |\n",
            "|    2    |  12515  | 0.07098530232906342 |  8   |\n",
            "|    2    |   174   | 0.06985746324062347 |  9   |\n",
            "|    2    |   1930  | 0.06899910420179367 |  10  |\n",
            "|    2    |  12162  |  0.0688633993268013 |  11  |\n",
            "|    2    |   3691  | 0.06764675676822662 |  12  |\n",
            "|    3    |   836   | 0.24058295786380768 |  1   |\n",
            "|    3    |   762   |  0.2362111508846283 |  2   |\n",
            "|    3    |   2712  |  0.2292376160621643 |  3   |\n",
            "|    3    |   2713  |  0.2041490375995636 |  4   |\n",
            "|    3    |   8184  | 0.17885655164718628 |  5   |\n",
            "|    3    |   2941  |  0.1543007493019104 |  6   |\n",
            "|    3    |   6414  | 0.14577357470989227 |  7   |\n",
            "|    3    |   3876  | 0.14012372493743896 |  8   |\n",
            "|    3    |   1117  |  0.1341417133808136 |  9   |\n",
            "|    3    |   1211  | 0.13397444784641266 |  10  |\n",
            "|    3    |   600   | 0.13008958101272583 |  11  |\n",
            "|    3    |   554   | 0.11591397225856781 |  12  |\n",
            "|    4    |   9704  | 0.30686241388320923 |  1   |\n",
            "|    4    |   1757  | 0.18582135438919067 |  2   |\n",
            "|    4    |   3725  | 0.13515086472034454 |  3   |\n",
            "|    4    |   5875  | 0.12767484784126282 |  4   |\n",
            "|    4    |   969   | 0.11879612505435944 |  5   |\n",
            "|    4    |  13667  | 0.11866089701652527 |  6   |\n",
            "|    4    |   1179  |  0.1157846599817276 |  7   |\n",
            "|    4    |   2120  | 0.11218460649251938 |  8   |\n",
            "|    4    |   2350  | 0.11101537942886353 |  9   |\n",
            "|    4    |   2007  | 0.10409960150718689 |  10  |\n",
            "|    4    |   1187  | 0.10220187902450562 |  11  |\n",
            "|    4    |   613   | 0.10017025470733643 |  12  |\n",
            "|    5    |   3431  |  0.2123647779226303 |  1   |\n",
            "|    5    |   554   | 0.12999507784843445 |  2   |\n",
            "|    5    |   1806  | 0.11691966652870178 |  3   |\n",
            "|    5    |   1187  |  0.1090298593044281 |  4   |\n",
            "|    5    |   286   | 0.10167474299669266 |  5   |\n",
            "|    5    |  13271  | 0.09575289487838745 |  6   |\n",
            "|    5    |   5371  | 0.08948931097984314 |  7   |\n",
            "|    5    |   5456  | 0.07659880816936493 |  8   |\n",
            "|    5    |  11860  |  0.0744687095284462 |  9   |\n",
            "|    5    |  22470  | 0.07252097129821777 |  10  |\n",
            "|    5    |   6825  | 0.07207901775836945 |  11  |\n",
            "|    5    |   3352  | 0.06758829206228256 |  12  |\n",
            "|    6    |   3559  |  0.4721381664276123 |  1   |\n",
            "|    6    |   361   |  0.3702249825000763 |  2   |\n",
            "|    6    |   429   |  0.3176714777946472 |  3   |\n",
            "|    6    |   497   | 0.30555111169815063 |  4   |\n",
            "|    6    |  11278  |  0.287710964679718  |  5   |\n",
            "|    6    |   509   | 0.24426211416721344 |  6   |\n",
            "|    6    |   999   | 0.22274300456047058 |  7   |\n",
            "|    6    |   969   |  0.2109735906124115 |  8   |\n",
            "|    6    |   3637  | 0.20565757155418396 |  9   |\n",
            "|    6    |   7951  | 0.18439799547195435 |  10  |\n",
            "|    6    |   851   | 0.17922434210777283 |  11  |\n",
            "|    6    |   867   |  0.1766829788684845 |  12  |\n",
            "|    7    |   6075  |  0.7149144411087036 |  1   |\n",
            "|    7    |    88   |  0.7133349180221558 |  2   |\n",
            "|    7    |   3501  |  0.684447705745697  |  3   |\n",
            "|    7    |   1374  |  0.6806724071502686 |  4   |\n",
            "|    7    |   1779  |  0.6006115078926086 |  5   |\n",
            "|    7    |   1441  |  0.5673649311065674 |  6   |\n",
            "|    7    |   3482  |  0.5603530406951904 |  7   |\n",
            "|    7    |   1127  |  0.557433545589447  |  8   |\n",
            "|    7    |   1776  |  0.5567293167114258 |  9   |\n",
            "|    7    |   6354  |  0.5351152420043945 |  10  |\n",
            "|    7    |   4173  |  0.532363772392273  |  11  |\n",
            "|    7    |   554   |  0.5130189657211304 |  12  |\n",
            "|    8    |   286   | 0.22845911979675293 |  1   |\n",
            "|    8    |   1374  |  0.2155235856771469 |  2   |\n",
            "|    8    |   462   | 0.19142234325408936 |  3   |\n",
            "|    8    |   939   |  0.1831125020980835 |  4   |\n",
            "+---------+---------+---------------------+------+\n",
            "[3671340 rows x 4 columns]\n",
            "\n"
          ]
        }
      ],
      "source": [
        "# print the n first recommendations\n",
        "recommendation.print_rows(100)"
      ]
    },
    {
      "cell_type": "code",
      "execution_count": null,
      "metadata": {
        "id": "nruo33dppY4_"
      },
      "outputs": [],
      "source": [
        "mfg_eval = mf_grad.evaluate_precision_recall(df_test)"
      ]
    },
    {
      "cell_type": "code",
      "execution_count": null,
      "metadata": {
        "colab": {
          "base_uri": "https://localhost:8080/"
        },
        "id": "fouAx2k1paOr",
        "outputId": "9dd9dae6-54af-476f-e4ee-c14863dd8409"
      },
      "outputs": [
        {
          "data": {
            "text/plain": [
              "{'precision_recall_by_user': Columns:\n",
              " \tuser_id\tint\n",
              " \tcutoff\tint\n",
              " \tprecision\tfloat\n",
              " \trecall\tfloat\n",
              " \tcount\tint\n",
              " \n",
              " Rows: 1619658\n",
              " \n",
              " Data:\n",
              " +---------+--------+-----------+--------+-------+\n",
              " | user_id | cutoff | precision | recall | count |\n",
              " +---------+--------+-----------+--------+-------+\n",
              " |    5    |   1    |    0.0    |  0.0   |   9   |\n",
              " |    5    |   2    |    0.0    |  0.0   |   9   |\n",
              " |    5    |   3    |    0.0    |  0.0   |   9   |\n",
              " |    5    |   4    |    0.0    |  0.0   |   9   |\n",
              " |    5    |   5    |    0.0    |  0.0   |   9   |\n",
              " |    5    |   6    |    0.0    |  0.0   |   9   |\n",
              " |    5    |   7    |    0.0    |  0.0   |   9   |\n",
              " |    5    |   8    |    0.0    |  0.0   |   9   |\n",
              " |    5    |   9    |    0.0    |  0.0   |   9   |\n",
              " |    5    |   10   |    0.0    |  0.0   |   9   |\n",
              " +---------+--------+-----------+--------+-------+\n",
              " [1619658 rows x 5 columns]\n",
              " Note: Only the head of the SFrame is printed.\n",
              " You can use print_rows(num_rows=m, num_columns=n) to print more rows and columns.,\n",
              " 'precision_recall_overall': Columns:\n",
              " \tcutoff\tint\n",
              " \tprecision\tfloat\n",
              " \trecall\tfloat\n",
              " \n",
              " Rows: 18\n",
              " \n",
              " Data:\n",
              " +--------+----------------------+-----------------------+\n",
              " | cutoff |      precision       |         recall        |\n",
              " +--------+----------------------+-----------------------+\n",
              " |   1    | 0.04227559151376417  | 0.0027063045808191147 |\n",
              " |   2    | 0.03743012413731789  |  0.004803563538087145 |\n",
              " |   3    | 0.034470240013633746 |  0.006608808602403164 |\n",
              " |   4    | 0.03252075438148046  |  0.00830224070295459  |\n",
              " |   5    | 0.030986541603226694 |  0.00988403942131205  |\n",
              " |   6    | 0.02983592832560921  |  0.011400139371867938 |\n",
              " |   7    | 0.028734637629849114 |  0.012792843808877819 |\n",
              " |   8    | 0.027761416298996446 |  0.014093805603643107 |\n",
              " |   9    | 0.02694519460281045  |  0.015412700738938136 |\n",
              " |   10   | 0.02628554917148996  |  0.016737909461139896 |\n",
              " +--------+----------------------+-----------------------+\n",
              " [18 rows x 3 columns]\n",
              " Note: Only the head of the SFrame is printed.\n",
              " You can use print_rows(num_rows=m, num_columns=n) to print more rows and columns.}"
            ]
          },
          "execution_count": 23,
          "metadata": {},
          "output_type": "execute_result"
        }
      ],
      "source": [
        "mfg_eval"
      ]
    },
    {
      "cell_type": "markdown",
      "metadata": {
        "id": "RyINVBRQig0p"
      },
      "source": [
        "## 2-2 iALS"
      ]
    },
    {
      "cell_type": "code",
      "execution_count": null,
      "metadata": {
        "colab": {
          "base_uri": "https://localhost:8080/",
          "height": 1000
        },
        "id": "HNMq-blTZEr-",
        "outputId": "7d56b683-b021-41ec-b5bf-aeac5406f9af"
      },
      "outputs": [
        {
          "output_type": "display_data",
          "data": {
            "text/plain": [
              "Preparing data set."
            ],
            "text/html": [
              "<pre>Preparing data set.</pre>"
            ]
          },
          "metadata": {}
        },
        {
          "output_type": "display_data",
          "data": {
            "text/plain": [
              "    Data has 1149781 observations with 249511 users and 29694 items."
            ],
            "text/html": [
              "<pre>    Data has 1149781 observations with 249511 users and 29694 items.</pre>"
            ]
          },
          "metadata": {}
        },
        {
          "output_type": "display_data",
          "data": {
            "text/plain": [
              "    Data prepared in: 1.12s"
            ],
            "text/html": [
              "<pre>    Data prepared in: 1.12s</pre>"
            ]
          },
          "metadata": {}
        },
        {
          "output_type": "display_data",
          "data": {
            "text/plain": [
              "Training ranking_factorization_recommender for recommendations."
            ],
            "text/html": [
              "<pre>Training ranking_factorization_recommender for recommendations.</pre>"
            ]
          },
          "metadata": {}
        },
        {
          "output_type": "display_data",
          "data": {
            "text/plain": [
              "+------------------------------+--------------------------------------------------+----------+"
            ],
            "text/html": [
              "<pre>+------------------------------+--------------------------------------------------+----------+</pre>"
            ]
          },
          "metadata": {}
        },
        {
          "output_type": "display_data",
          "data": {
            "text/plain": [
              "| Parameter                    | Description                                      | Value    |"
            ],
            "text/html": [
              "<pre>| Parameter                    | Description                                      | Value    |</pre>"
            ]
          },
          "metadata": {}
        },
        {
          "output_type": "display_data",
          "data": {
            "text/plain": [
              "+------------------------------+--------------------------------------------------+----------+"
            ],
            "text/html": [
              "<pre>+------------------------------+--------------------------------------------------+----------+</pre>"
            ]
          },
          "metadata": {}
        },
        {
          "output_type": "display_data",
          "data": {
            "text/plain": [
              "| num_factors                  | Factor Dimension                                 | 200      |"
            ],
            "text/html": [
              "<pre>| num_factors                  | Factor Dimension                                 | 200      |</pre>"
            ]
          },
          "metadata": {}
        },
        {
          "output_type": "display_data",
          "data": {
            "text/plain": [
              "| regularization               | L2 Regularization on Factors                     | 1e-09    |"
            ],
            "text/html": [
              "<pre>| regularization               | L2 Regularization on Factors                     | 1e-09    |</pre>"
            ]
          },
          "metadata": {}
        },
        {
          "output_type": "display_data",
          "data": {
            "text/plain": [
              "| max_iterations               | Maximum Number of Iterations                     | 50       |"
            ],
            "text/html": [
              "<pre>| max_iterations               | Maximum Number of Iterations                     | 50       |</pre>"
            ]
          },
          "metadata": {}
        },
        {
          "output_type": "display_data",
          "data": {
            "text/plain": [
              "| solver                       | Solver used for training                         | ials     |"
            ],
            "text/html": [
              "<pre>| solver                       | Solver used for training                         | ials     |</pre>"
            ]
          },
          "metadata": {}
        },
        {
          "output_type": "display_data",
          "data": {
            "text/plain": [
              "+------------------------------+--------------------------------------------------+----------+"
            ],
            "text/html": [
              "<pre>+------------------------------+--------------------------------------------------+----------+</pre>"
            ]
          },
          "metadata": {}
        },
        {
          "output_type": "display_data",
          "data": {
            "text/plain": [
              "+---------+--------------+---------------------------+"
            ],
            "text/html": [
              "<pre>+---------+--------------+---------------------------+</pre>"
            ]
          },
          "metadata": {}
        },
        {
          "output_type": "display_data",
          "data": {
            "text/plain": [
              "| Iter.   | Elapsed time | Estimated Objective Value |"
            ],
            "text/html": [
              "<pre>| Iter.   | Elapsed time | Estimated Objective Value |</pre>"
            ]
          },
          "metadata": {}
        },
        {
          "output_type": "display_data",
          "data": {
            "text/plain": [
              "+---------+--------------+---------------------------+"
            ],
            "text/html": [
              "<pre>+---------+--------------+---------------------------+</pre>"
            ]
          },
          "metadata": {}
        },
        {
          "output_type": "display_data",
          "data": {
            "text/plain": [
              "| Initial | 82us         | NA                        |"
            ],
            "text/html": [
              "<pre>| Initial | 82us         | NA                        |</pre>"
            ]
          },
          "metadata": {}
        },
        {
          "output_type": "display_data",
          "data": {
            "text/plain": [
              "+---------+--------------+---------------------------+"
            ],
            "text/html": [
              "<pre>+---------+--------------+---------------------------+</pre>"
            ]
          },
          "metadata": {}
        },
        {
          "output_type": "display_data",
          "data": {
            "text/plain": [
              "| 0       | 1m 55s       | 0.889156                  |"
            ],
            "text/html": [
              "<pre>| 0       | 1m 55s       | 0.889156                  |</pre>"
            ]
          },
          "metadata": {}
        },
        {
          "output_type": "display_data",
          "data": {
            "text/plain": [
              "| 1       | 3m 44s       | 0.831149                  |"
            ],
            "text/html": [
              "<pre>| 1       | 3m 44s       | 0.831149                  |</pre>"
            ]
          },
          "metadata": {}
        },
        {
          "output_type": "display_data",
          "data": {
            "text/plain": [
              "| 2       | 5m 37s       | 0.824531                  |"
            ],
            "text/html": [
              "<pre>| 2       | 5m 37s       | 0.824531                  |</pre>"
            ]
          },
          "metadata": {}
        },
        {
          "output_type": "display_data",
          "data": {
            "text/plain": [
              "| 3       | 7m 30s       | 0.822272                  |"
            ],
            "text/html": [
              "<pre>| 3       | 7m 30s       | 0.822272                  |</pre>"
            ]
          },
          "metadata": {}
        },
        {
          "output_type": "display_data",
          "data": {
            "text/plain": [
              "| 4       | 9m 22s       | 0.820932                  |"
            ],
            "text/html": [
              "<pre>| 4       | 9m 22s       | 0.820932                  |</pre>"
            ]
          },
          "metadata": {}
        },
        {
          "output_type": "display_data",
          "data": {
            "text/plain": [
              "| 5       | 11m 14s      | 0.820015                  |"
            ],
            "text/html": [
              "<pre>| 5       | 11m 14s      | 0.820015                  |</pre>"
            ]
          },
          "metadata": {}
        },
        {
          "output_type": "display_data",
          "data": {
            "text/plain": [
              "| 6       | 13m 6s       | 0.819351                  |"
            ],
            "text/html": [
              "<pre>| 6       | 13m 6s       | 0.819351                  |</pre>"
            ]
          },
          "metadata": {}
        },
        {
          "output_type": "display_data",
          "data": {
            "text/plain": [
              "| 7       | 14m 57s      | 0.818853                  |"
            ],
            "text/html": [
              "<pre>| 7       | 14m 57s      | 0.818853                  |</pre>"
            ]
          },
          "metadata": {}
        },
        {
          "output_type": "display_data",
          "data": {
            "text/plain": [
              "| 8       | 16m 49s      | 0.818471                  |"
            ],
            "text/html": [
              "<pre>| 8       | 16m 49s      | 0.818471                  |</pre>"
            ]
          },
          "metadata": {}
        },
        {
          "output_type": "display_data",
          "data": {
            "text/plain": [
              "| 9       | 18m 39s      | 0.818171                  |"
            ],
            "text/html": [
              "<pre>| 9       | 18m 39s      | 0.818171                  |</pre>"
            ]
          },
          "metadata": {}
        },
        {
          "output_type": "display_data",
          "data": {
            "text/plain": [
              "| 10      | 20m 29s      | 0.817931                  |"
            ],
            "text/html": [
              "<pre>| 10      | 20m 29s      | 0.817931                  |</pre>"
            ]
          },
          "metadata": {}
        },
        {
          "output_type": "display_data",
          "data": {
            "text/plain": [
              "| 11      | 22m 16s      | 0.817738                  |"
            ],
            "text/html": [
              "<pre>| 11      | 22m 16s      | 0.817738                  |</pre>"
            ]
          },
          "metadata": {}
        },
        {
          "output_type": "display_data",
          "data": {
            "text/plain": [
              "| 12      | 24m 6s       | 0.817579                  |"
            ],
            "text/html": [
              "<pre>| 12      | 24m 6s       | 0.817579                  |</pre>"
            ]
          },
          "metadata": {}
        },
        {
          "output_type": "display_data",
          "data": {
            "text/plain": [
              "| 13      | 25m 57s      | 0.817447                  |"
            ],
            "text/html": [
              "<pre>| 13      | 25m 57s      | 0.817447                  |</pre>"
            ]
          },
          "metadata": {}
        },
        {
          "output_type": "display_data",
          "data": {
            "text/plain": [
              "| 14      | 27m 47s      | 0.817337                  |"
            ],
            "text/html": [
              "<pre>| 14      | 27m 47s      | 0.817337                  |</pre>"
            ]
          },
          "metadata": {}
        },
        {
          "output_type": "display_data",
          "data": {
            "text/plain": [
              "| 15      | 29m 37s      | 0.817243                  |"
            ],
            "text/html": [
              "<pre>| 15      | 29m 37s      | 0.817243                  |</pre>"
            ]
          },
          "metadata": {}
        },
        {
          "output_type": "display_data",
          "data": {
            "text/plain": [
              "| 16      | 31m 28s      | 0.817163                  |"
            ],
            "text/html": [
              "<pre>| 16      | 31m 28s      | 0.817163                  |</pre>"
            ]
          },
          "metadata": {}
        },
        {
          "output_type": "display_data",
          "data": {
            "text/plain": [
              "| 17      | 33m 19s      | 0.817095                  |"
            ],
            "text/html": [
              "<pre>| 17      | 33m 19s      | 0.817095                  |</pre>"
            ]
          },
          "metadata": {}
        },
        {
          "output_type": "display_data",
          "data": {
            "text/plain": [
              "| 18      | 35m 9s       | 0.817036                  |"
            ],
            "text/html": [
              "<pre>| 18      | 35m 9s       | 0.817036                  |</pre>"
            ]
          },
          "metadata": {}
        },
        {
          "output_type": "display_data",
          "data": {
            "text/plain": [
              "| 19      | 37m 1s       | 0.816984                  |"
            ],
            "text/html": [
              "<pre>| 19      | 37m 1s       | 0.816984                  |</pre>"
            ]
          },
          "metadata": {}
        },
        {
          "output_type": "display_data",
          "data": {
            "text/plain": [
              "| 20      | 38m 52s      | 0.816938                  |"
            ],
            "text/html": [
              "<pre>| 20      | 38m 52s      | 0.816938                  |</pre>"
            ]
          },
          "metadata": {}
        },
        {
          "output_type": "display_data",
          "data": {
            "text/plain": [
              "| 21      | 40m 44s      | 0.816898                  |"
            ],
            "text/html": [
              "<pre>| 21      | 40m 44s      | 0.816898                  |</pre>"
            ]
          },
          "metadata": {}
        },
        {
          "output_type": "display_data",
          "data": {
            "text/plain": [
              "| 22      | 42m 37s      | 0.816863                  |"
            ],
            "text/html": [
              "<pre>| 22      | 42m 37s      | 0.816863                  |</pre>"
            ]
          },
          "metadata": {}
        },
        {
          "output_type": "display_data",
          "data": {
            "text/plain": [
              "| 23      | 44m 28s      | 0.816831                  |"
            ],
            "text/html": [
              "<pre>| 23      | 44m 28s      | 0.816831                  |</pre>"
            ]
          },
          "metadata": {}
        },
        {
          "output_type": "display_data",
          "data": {
            "text/plain": [
              "| 24      | 46m 19s      | 0.816802                  |"
            ],
            "text/html": [
              "<pre>| 24      | 46m 19s      | 0.816802                  |</pre>"
            ]
          },
          "metadata": {}
        },
        {
          "output_type": "display_data",
          "data": {
            "text/plain": [
              "| 25      | 48m 7s       | 0.816777                  |"
            ],
            "text/html": [
              "<pre>| 25      | 48m 7s       | 0.816777                  |</pre>"
            ]
          },
          "metadata": {}
        },
        {
          "output_type": "display_data",
          "data": {
            "text/plain": [
              "| 26      | 49m 57s      | 0.816753                  |"
            ],
            "text/html": [
              "<pre>| 26      | 49m 57s      | 0.816753                  |</pre>"
            ]
          },
          "metadata": {}
        },
        {
          "output_type": "display_data",
          "data": {
            "text/plain": [
              "| 27      | 51m 48s      | 0.816732                  |"
            ],
            "text/html": [
              "<pre>| 27      | 51m 48s      | 0.816732                  |</pre>"
            ]
          },
          "metadata": {}
        },
        {
          "output_type": "display_data",
          "data": {
            "text/plain": [
              "| 28      | 53m 37s      | 0.816713                  |"
            ],
            "text/html": [
              "<pre>| 28      | 53m 37s      | 0.816713                  |</pre>"
            ]
          },
          "metadata": {}
        },
        {
          "output_type": "display_data",
          "data": {
            "text/plain": [
              "| 29      | 55m 28s      | 0.816695                  |"
            ],
            "text/html": [
              "<pre>| 29      | 55m 28s      | 0.816695                  |</pre>"
            ]
          },
          "metadata": {}
        },
        {
          "output_type": "display_data",
          "data": {
            "text/plain": [
              "| 30      | 57m 18s      | 0.816679                  |"
            ],
            "text/html": [
              "<pre>| 30      | 57m 18s      | 0.816679                  |</pre>"
            ]
          },
          "metadata": {}
        },
        {
          "output_type": "display_data",
          "data": {
            "text/plain": [
              "| 31      | 59m 8s       | 0.816664                  |"
            ],
            "text/html": [
              "<pre>| 31      | 59m 8s       | 0.816664                  |</pre>"
            ]
          },
          "metadata": {}
        },
        {
          "output_type": "display_data",
          "data": {
            "text/plain": [
              "| 32      | 1h 1m        | 0.816651                  |"
            ],
            "text/html": [
              "<pre>| 32      | 1h 1m        | 0.816651                  |</pre>"
            ]
          },
          "metadata": {}
        },
        {
          "output_type": "display_data",
          "data": {
            "text/plain": [
              "| 33      | 1h 2m        | 0.816638                  |"
            ],
            "text/html": [
              "<pre>| 33      | 1h 2m        | 0.816638                  |</pre>"
            ]
          },
          "metadata": {}
        },
        {
          "output_type": "display_data",
          "data": {
            "text/plain": [
              "| 34      | 1h 4m        | 0.816627                  |"
            ],
            "text/html": [
              "<pre>| 34      | 1h 4m        | 0.816627                  |</pre>"
            ]
          },
          "metadata": {}
        },
        {
          "output_type": "display_data",
          "data": {
            "text/plain": [
              "| 35      | 1h 6m        | 0.816616                  |"
            ],
            "text/html": [
              "<pre>| 35      | 1h 6m        | 0.816616                  |</pre>"
            ]
          },
          "metadata": {}
        },
        {
          "output_type": "display_data",
          "data": {
            "text/plain": [
              "| 36      | 1h 8m        | 0.816606                  |"
            ],
            "text/html": [
              "<pre>| 36      | 1h 8m        | 0.816606                  |</pre>"
            ]
          },
          "metadata": {}
        },
        {
          "output_type": "display_data",
          "data": {
            "text/plain": [
              "| 37      | 1h 10m       | 0.816596                  |"
            ],
            "text/html": [
              "<pre>| 37      | 1h 10m       | 0.816596                  |</pre>"
            ]
          },
          "metadata": {}
        },
        {
          "output_type": "display_data",
          "data": {
            "text/plain": [
              "| 38      | 1h 12m       | 0.816588                  |"
            ],
            "text/html": [
              "<pre>| 38      | 1h 12m       | 0.816588                  |</pre>"
            ]
          },
          "metadata": {}
        },
        {
          "output_type": "display_data",
          "data": {
            "text/plain": [
              "| 39      | 1h 13m       | 0.816579                  |"
            ],
            "text/html": [
              "<pre>| 39      | 1h 13m       | 0.816579                  |</pre>"
            ]
          },
          "metadata": {}
        },
        {
          "output_type": "display_data",
          "data": {
            "text/plain": [
              "| 40      | 1h 15m       | 0.816572                  |"
            ],
            "text/html": [
              "<pre>| 40      | 1h 15m       | 0.816572                  |</pre>"
            ]
          },
          "metadata": {}
        },
        {
          "output_type": "display_data",
          "data": {
            "text/plain": [
              "| 41      | 1h 17m       | 0.816565                  |"
            ],
            "text/html": [
              "<pre>| 41      | 1h 17m       | 0.816565                  |</pre>"
            ]
          },
          "metadata": {}
        },
        {
          "output_type": "display_data",
          "data": {
            "text/plain": [
              "| 42      | 1h 19m       | 0.816558                  |"
            ],
            "text/html": [
              "<pre>| 42      | 1h 19m       | 0.816558                  |</pre>"
            ]
          },
          "metadata": {}
        },
        {
          "output_type": "display_data",
          "data": {
            "text/plain": [
              "| 43      | 1h 21m       | 0.816552                  |"
            ],
            "text/html": [
              "<pre>| 43      | 1h 21m       | 0.816552                  |</pre>"
            ]
          },
          "metadata": {}
        },
        {
          "output_type": "display_data",
          "data": {
            "text/plain": [
              "| 44      | 1h 23m       | 0.816546                  |"
            ],
            "text/html": [
              "<pre>| 44      | 1h 23m       | 0.816546                  |</pre>"
            ]
          },
          "metadata": {}
        },
        {
          "output_type": "display_data",
          "data": {
            "text/plain": [
              "| 45      | 1h 24m       | 0.81654                   |"
            ],
            "text/html": [
              "<pre>| 45      | 1h 24m       | 0.81654                   |</pre>"
            ]
          },
          "metadata": {}
        },
        {
          "output_type": "display_data",
          "data": {
            "text/plain": [
              "| 48      | 1h 30m       | 0.816525                  |"
            ],
            "text/html": [
              "<pre>| 48      | 1h 30m       | 0.816525                  |</pre>"
            ]
          },
          "metadata": {}
        },
        {
          "output_type": "display_data",
          "data": {
            "text/plain": [
              "| 49      | 1h 32m       | 0.81652                   |"
            ],
            "text/html": [
              "<pre>| 49      | 1h 32m       | 0.81652                   |</pre>"
            ]
          },
          "metadata": {}
        },
        {
          "output_type": "display_data",
          "data": {
            "text/plain": [
              "| FINAL   | 1h 32m       | 0.81652                   |"
            ],
            "text/html": [
              "<pre>| FINAL   | 1h 32m       | 0.81652                   |</pre>"
            ]
          },
          "metadata": {}
        },
        {
          "output_type": "display_data",
          "data": {
            "text/plain": [
              "+---------+--------------+---------------------------+"
            ],
            "text/html": [
              "<pre>+---------+--------------+---------------------------+</pre>"
            ]
          },
          "metadata": {}
        },
        {
          "output_type": "display_data",
          "data": {
            "text/plain": [
              "Optimization Complete: Iteration limit reached."
            ],
            "text/html": [
              "<pre>Optimization Complete: Iteration limit reached.</pre>"
            ]
          },
          "metadata": {}
        }
      ],
      "source": [
        "mf_als = tc.ranking_factorization_recommender.create(dfS_train, \n",
        "                                              user_id='customer_id', \n",
        "                                              item_id='article_id',\n",
        "                                              num_factors=200,\n",
        "                                              #regularization=0.0001,\n",
        "                                              max_iterations=50,\n",
        "                                              solver='ials')\n",
        "# recommend k products for a list of users (None corresponds to all users) \n"
      ]
    },
    {
      "cell_type": "code",
      "execution_count": null,
      "metadata": {
        "colab": {
          "base_uri": "https://localhost:8080/",
          "height": 1000
        },
        "id": "RK344Ht_QfP2",
        "outputId": "ca82ba89-77ca-4bde-d130-323cd4186a60"
      },
      "outputs": [
        {
          "output_type": "display_data",
          "data": {
            "text/plain": [
              "recommendations finished on 1000/249511 queries. users per second: 974.9"
            ],
            "text/html": [
              "<pre>recommendations finished on 1000/249511 queries. users per second: 974.9</pre>"
            ]
          },
          "metadata": {}
        },
        {
          "output_type": "display_data",
          "data": {
            "text/plain": [
              "recommendations finished on 2000/249511 queries. users per second: 942.046"
            ],
            "text/html": [
              "<pre>recommendations finished on 2000/249511 queries. users per second: 942.046</pre>"
            ]
          },
          "metadata": {}
        },
        {
          "output_type": "display_data",
          "data": {
            "text/plain": [
              "recommendations finished on 3000/249511 queries. users per second: 948.573"
            ],
            "text/html": [
              "<pre>recommendations finished on 3000/249511 queries. users per second: 948.573</pre>"
            ]
          },
          "metadata": {}
        },
        {
          "output_type": "display_data",
          "data": {
            "text/plain": [
              "recommendations finished on 4000/249511 queries. users per second: 951.284"
            ],
            "text/html": [
              "<pre>recommendations finished on 4000/249511 queries. users per second: 951.284</pre>"
            ]
          },
          "metadata": {}
        },
        {
          "output_type": "display_data",
          "data": {
            "text/plain": [
              "recommendations finished on 5000/249511 queries. users per second: 955.96"
            ],
            "text/html": [
              "<pre>recommendations finished on 5000/249511 queries. users per second: 955.96</pre>"
            ]
          },
          "metadata": {}
        },
        {
          "output_type": "display_data",
          "data": {
            "text/plain": [
              "recommendations finished on 6000/249511 queries. users per second: 939.5"
            ],
            "text/html": [
              "<pre>recommendations finished on 6000/249511 queries. users per second: 939.5</pre>"
            ]
          },
          "metadata": {}
        },
        {
          "output_type": "display_data",
          "data": {
            "text/plain": [
              "recommendations finished on 7000/249511 queries. users per second: 939.928"
            ],
            "text/html": [
              "<pre>recommendations finished on 7000/249511 queries. users per second: 939.928</pre>"
            ]
          },
          "metadata": {}
        },
        {
          "output_type": "display_data",
          "data": {
            "text/plain": [
              "recommendations finished on 8000/249511 queries. users per second: 946.762"
            ],
            "text/html": [
              "<pre>recommendations finished on 8000/249511 queries. users per second: 946.762</pre>"
            ]
          },
          "metadata": {}
        },
        {
          "output_type": "display_data",
          "data": {
            "text/plain": [
              "recommendations finished on 9000/249511 queries. users per second: 944.052"
            ],
            "text/html": [
              "<pre>recommendations finished on 9000/249511 queries. users per second: 944.052</pre>"
            ]
          },
          "metadata": {}
        },
        {
          "output_type": "display_data",
          "data": {
            "text/plain": [
              "recommendations finished on 10000/249511 queries. users per second: 937.94"
            ],
            "text/html": [
              "<pre>recommendations finished on 10000/249511 queries. users per second: 937.94</pre>"
            ]
          },
          "metadata": {}
        },
        {
          "output_type": "display_data",
          "data": {
            "text/plain": [
              "recommendations finished on 11000/249511 queries. users per second: 930.527"
            ],
            "text/html": [
              "<pre>recommendations finished on 11000/249511 queries. users per second: 930.527</pre>"
            ]
          },
          "metadata": {}
        },
        {
          "output_type": "display_data",
          "data": {
            "text/plain": [
              "recommendations finished on 12000/249511 queries. users per second: 923.748"
            ],
            "text/html": [
              "<pre>recommendations finished on 12000/249511 queries. users per second: 923.748</pre>"
            ]
          },
          "metadata": {}
        },
        {
          "output_type": "display_data",
          "data": {
            "text/plain": [
              "recommendations finished on 13000/249511 queries. users per second: 919.266"
            ],
            "text/html": [
              "<pre>recommendations finished on 13000/249511 queries. users per second: 919.266</pre>"
            ]
          },
          "metadata": {}
        },
        {
          "output_type": "display_data",
          "data": {
            "text/plain": [
              "recommendations finished on 14000/249511 queries. users per second: 920.003"
            ],
            "text/html": [
              "<pre>recommendations finished on 14000/249511 queries. users per second: 920.003</pre>"
            ]
          },
          "metadata": {}
        },
        {
          "output_type": "display_data",
          "data": {
            "text/plain": [
              "recommendations finished on 15000/249511 queries. users per second: 917.32"
            ],
            "text/html": [
              "<pre>recommendations finished on 15000/249511 queries. users per second: 917.32</pre>"
            ]
          },
          "metadata": {}
        },
        {
          "output_type": "display_data",
          "data": {
            "text/plain": [
              "recommendations finished on 16000/249511 queries. users per second: 917.608"
            ],
            "text/html": [
              "<pre>recommendations finished on 16000/249511 queries. users per second: 917.608</pre>"
            ]
          },
          "metadata": {}
        },
        {
          "output_type": "display_data",
          "data": {
            "text/plain": [
              "recommendations finished on 17000/249511 queries. users per second: 916.867"
            ],
            "text/html": [
              "<pre>recommendations finished on 17000/249511 queries. users per second: 916.867</pre>"
            ]
          },
          "metadata": {}
        },
        {
          "output_type": "display_data",
          "data": {
            "text/plain": [
              "recommendations finished on 18000/249511 queries. users per second: 917.712"
            ],
            "text/html": [
              "<pre>recommendations finished on 18000/249511 queries. users per second: 917.712</pre>"
            ]
          },
          "metadata": {}
        },
        {
          "output_type": "display_data",
          "data": {
            "text/plain": [
              "recommendations finished on 19000/249511 queries. users per second: 917.4"
            ],
            "text/html": [
              "<pre>recommendations finished on 19000/249511 queries. users per second: 917.4</pre>"
            ]
          },
          "metadata": {}
        },
        {
          "output_type": "display_data",
          "data": {
            "text/plain": [
              "recommendations finished on 20000/249511 queries. users per second: 917.827"
            ],
            "text/html": [
              "<pre>recommendations finished on 20000/249511 queries. users per second: 917.827</pre>"
            ]
          },
          "metadata": {}
        },
        {
          "output_type": "display_data",
          "data": {
            "text/plain": [
              "recommendations finished on 21000/249511 queries. users per second: 920.178"
            ],
            "text/html": [
              "<pre>recommendations finished on 21000/249511 queries. users per second: 920.178</pre>"
            ]
          },
          "metadata": {}
        },
        {
          "output_type": "display_data",
          "data": {
            "text/plain": [
              "recommendations finished on 22000/249511 queries. users per second: 920.566"
            ],
            "text/html": [
              "<pre>recommendations finished on 22000/249511 queries. users per second: 920.566</pre>"
            ]
          },
          "metadata": {}
        },
        {
          "output_type": "display_data",
          "data": {
            "text/plain": [
              "recommendations finished on 23000/249511 queries. users per second: 919.84"
            ],
            "text/html": [
              "<pre>recommendations finished on 23000/249511 queries. users per second: 919.84</pre>"
            ]
          },
          "metadata": {}
        },
        {
          "output_type": "display_data",
          "data": {
            "text/plain": [
              "recommendations finished on 24000/249511 queries. users per second: 921.477"
            ],
            "text/html": [
              "<pre>recommendations finished on 24000/249511 queries. users per second: 921.477</pre>"
            ]
          },
          "metadata": {}
        },
        {
          "output_type": "display_data",
          "data": {
            "text/plain": [
              "recommendations finished on 25000/249511 queries. users per second: 919.534"
            ],
            "text/html": [
              "<pre>recommendations finished on 25000/249511 queries. users per second: 919.534</pre>"
            ]
          },
          "metadata": {}
        },
        {
          "output_type": "display_data",
          "data": {
            "text/plain": [
              "recommendations finished on 26000/249511 queries. users per second: 915.803"
            ],
            "text/html": [
              "<pre>recommendations finished on 26000/249511 queries. users per second: 915.803</pre>"
            ]
          },
          "metadata": {}
        },
        {
          "output_type": "display_data",
          "data": {
            "text/plain": [
              "recommendations finished on 27000/249511 queries. users per second: 913.761"
            ],
            "text/html": [
              "<pre>recommendations finished on 27000/249511 queries. users per second: 913.761</pre>"
            ]
          },
          "metadata": {}
        },
        {
          "output_type": "display_data",
          "data": {
            "text/plain": [
              "recommendations finished on 28000/249511 queries. users per second: 913.945"
            ],
            "text/html": [
              "<pre>recommendations finished on 28000/249511 queries. users per second: 913.945</pre>"
            ]
          },
          "metadata": {}
        },
        {
          "output_type": "display_data",
          "data": {
            "text/plain": [
              "recommendations finished on 29000/249511 queries. users per second: 915.589"
            ],
            "text/html": [
              "<pre>recommendations finished on 29000/249511 queries. users per second: 915.589</pre>"
            ]
          },
          "metadata": {}
        },
        {
          "output_type": "display_data",
          "data": {
            "text/plain": [
              "recommendations finished on 30000/249511 queries. users per second: 917.728"
            ],
            "text/html": [
              "<pre>recommendations finished on 30000/249511 queries. users per second: 917.728</pre>"
            ]
          },
          "metadata": {}
        },
        {
          "output_type": "display_data",
          "data": {
            "text/plain": [
              "recommendations finished on 31000/249511 queries. users per second: 918.175"
            ],
            "text/html": [
              "<pre>recommendations finished on 31000/249511 queries. users per second: 918.175</pre>"
            ]
          },
          "metadata": {}
        },
        {
          "output_type": "display_data",
          "data": {
            "text/plain": [
              "recommendations finished on 32000/249511 queries. users per second: 918.367"
            ],
            "text/html": [
              "<pre>recommendations finished on 32000/249511 queries. users per second: 918.367</pre>"
            ]
          },
          "metadata": {}
        },
        {
          "output_type": "display_data",
          "data": {
            "text/plain": [
              "recommendations finished on 33000/249511 queries. users per second: 906.796"
            ],
            "text/html": [
              "<pre>recommendations finished on 33000/249511 queries. users per second: 906.796</pre>"
            ]
          },
          "metadata": {}
        },
        {
          "output_type": "display_data",
          "data": {
            "text/plain": [
              "recommendations finished on 34000/249511 queries. users per second: 908.127"
            ],
            "text/html": [
              "<pre>recommendations finished on 34000/249511 queries. users per second: 908.127</pre>"
            ]
          },
          "metadata": {}
        },
        {
          "output_type": "display_data",
          "data": {
            "text/plain": [
              "recommendations finished on 35000/249511 queries. users per second: 908.253"
            ],
            "text/html": [
              "<pre>recommendations finished on 35000/249511 queries. users per second: 908.253</pre>"
            ]
          },
          "metadata": {}
        },
        {
          "output_type": "display_data",
          "data": {
            "text/plain": [
              "recommendations finished on 36000/249511 queries. users per second: 909.069"
            ],
            "text/html": [
              "<pre>recommendations finished on 36000/249511 queries. users per second: 909.069</pre>"
            ]
          },
          "metadata": {}
        },
        {
          "output_type": "display_data",
          "data": {
            "text/plain": [
              "recommendations finished on 37000/249511 queries. users per second: 909.792"
            ],
            "text/html": [
              "<pre>recommendations finished on 37000/249511 queries. users per second: 909.792</pre>"
            ]
          },
          "metadata": {}
        },
        {
          "output_type": "display_data",
          "data": {
            "text/plain": [
              "recommendations finished on 38000/249511 queries. users per second: 910.798"
            ],
            "text/html": [
              "<pre>recommendations finished on 38000/249511 queries. users per second: 910.798</pre>"
            ]
          },
          "metadata": {}
        },
        {
          "output_type": "display_data",
          "data": {
            "text/plain": [
              "recommendations finished on 39000/249511 queries. users per second: 912.173"
            ],
            "text/html": [
              "<pre>recommendations finished on 39000/249511 queries. users per second: 912.173</pre>"
            ]
          },
          "metadata": {}
        },
        {
          "output_type": "display_data",
          "data": {
            "text/plain": [
              "recommendations finished on 40000/249511 queries. users per second: 912.831"
            ],
            "text/html": [
              "<pre>recommendations finished on 40000/249511 queries. users per second: 912.831</pre>"
            ]
          },
          "metadata": {}
        },
        {
          "output_type": "display_data",
          "data": {
            "text/plain": [
              "recommendations finished on 41000/249511 queries. users per second: 912.347"
            ],
            "text/html": [
              "<pre>recommendations finished on 41000/249511 queries. users per second: 912.347</pre>"
            ]
          },
          "metadata": {}
        },
        {
          "output_type": "display_data",
          "data": {
            "text/plain": [
              "recommendations finished on 42000/249511 queries. users per second: 912"
            ],
            "text/html": [
              "<pre>recommendations finished on 42000/249511 queries. users per second: 912</pre>"
            ]
          },
          "metadata": {}
        },
        {
          "output_type": "display_data",
          "data": {
            "text/plain": [
              "recommendations finished on 43000/249511 queries. users per second: 912.709"
            ],
            "text/html": [
              "<pre>recommendations finished on 43000/249511 queries. users per second: 912.709</pre>"
            ]
          },
          "metadata": {}
        },
        {
          "output_type": "display_data",
          "data": {
            "text/plain": [
              "recommendations finished on 44000/249511 queries. users per second: 913.215"
            ],
            "text/html": [
              "<pre>recommendations finished on 44000/249511 queries. users per second: 913.215</pre>"
            ]
          },
          "metadata": {}
        },
        {
          "output_type": "display_data",
          "data": {
            "text/plain": [
              "recommendations finished on 45000/249511 queries. users per second: 913.573"
            ],
            "text/html": [
              "<pre>recommendations finished on 45000/249511 queries. users per second: 913.573</pre>"
            ]
          },
          "metadata": {}
        },
        {
          "output_type": "display_data",
          "data": {
            "text/plain": [
              "recommendations finished on 46000/249511 queries. users per second: 913.509"
            ],
            "text/html": [
              "<pre>recommendations finished on 46000/249511 queries. users per second: 913.509</pre>"
            ]
          },
          "metadata": {}
        },
        {
          "output_type": "display_data",
          "data": {
            "text/plain": [
              "recommendations finished on 47000/249511 queries. users per second: 913.348"
            ],
            "text/html": [
              "<pre>recommendations finished on 47000/249511 queries. users per second: 913.348</pre>"
            ]
          },
          "metadata": {}
        },
        {
          "output_type": "display_data",
          "data": {
            "text/plain": [
              "recommendations finished on 48000/249511 queries. users per second: 914.053"
            ],
            "text/html": [
              "<pre>recommendations finished on 48000/249511 queries. users per second: 914.053</pre>"
            ]
          },
          "metadata": {}
        },
        {
          "output_type": "display_data",
          "data": {
            "text/plain": [
              "recommendations finished on 49000/249511 queries. users per second: 913.811"
            ],
            "text/html": [
              "<pre>recommendations finished on 49000/249511 queries. users per second: 913.811</pre>"
            ]
          },
          "metadata": {}
        },
        {
          "output_type": "display_data",
          "data": {
            "text/plain": [
              "recommendations finished on 50000/249511 queries. users per second: 913.379"
            ],
            "text/html": [
              "<pre>recommendations finished on 50000/249511 queries. users per second: 913.379</pre>"
            ]
          },
          "metadata": {}
        },
        {
          "output_type": "display_data",
          "data": {
            "text/plain": [
              "recommendations finished on 51000/249511 queries. users per second: 911.343"
            ],
            "text/html": [
              "<pre>recommendations finished on 51000/249511 queries. users per second: 911.343</pre>"
            ]
          },
          "metadata": {}
        },
        {
          "output_type": "display_data",
          "data": {
            "text/plain": [
              "recommendations finished on 52000/249511 queries. users per second: 911.104"
            ],
            "text/html": [
              "<pre>recommendations finished on 52000/249511 queries. users per second: 911.104</pre>"
            ]
          },
          "metadata": {}
        },
        {
          "output_type": "display_data",
          "data": {
            "text/plain": [
              "recommendations finished on 53000/249511 queries. users per second: 911.703"
            ],
            "text/html": [
              "<pre>recommendations finished on 53000/249511 queries. users per second: 911.703</pre>"
            ]
          },
          "metadata": {}
        },
        {
          "output_type": "display_data",
          "data": {
            "text/plain": [
              "recommendations finished on 54000/249511 queries. users per second: 913.191"
            ],
            "text/html": [
              "<pre>recommendations finished on 54000/249511 queries. users per second: 913.191</pre>"
            ]
          },
          "metadata": {}
        },
        {
          "output_type": "display_data",
          "data": {
            "text/plain": [
              "recommendations finished on 55000/249511 queries. users per second: 913.965"
            ],
            "text/html": [
              "<pre>recommendations finished on 55000/249511 queries. users per second: 913.965</pre>"
            ]
          },
          "metadata": {}
        },
        {
          "output_type": "display_data",
          "data": {
            "text/plain": [
              "recommendations finished on 56000/249511 queries. users per second: 914.032"
            ],
            "text/html": [
              "<pre>recommendations finished on 56000/249511 queries. users per second: 914.032</pre>"
            ]
          },
          "metadata": {}
        },
        {
          "output_type": "display_data",
          "data": {
            "text/plain": [
              "recommendations finished on 57000/249511 queries. users per second: 914.324"
            ],
            "text/html": [
              "<pre>recommendations finished on 57000/249511 queries. users per second: 914.324</pre>"
            ]
          },
          "metadata": {}
        },
        {
          "output_type": "display_data",
          "data": {
            "text/plain": [
              "recommendations finished on 58000/249511 queries. users per second: 914.892"
            ],
            "text/html": [
              "<pre>recommendations finished on 58000/249511 queries. users per second: 914.892</pre>"
            ]
          },
          "metadata": {}
        },
        {
          "output_type": "display_data",
          "data": {
            "text/plain": [
              "recommendations finished on 59000/249511 queries. users per second: 914.831"
            ],
            "text/html": [
              "<pre>recommendations finished on 59000/249511 queries. users per second: 914.831</pre>"
            ]
          },
          "metadata": {}
        },
        {
          "output_type": "display_data",
          "data": {
            "text/plain": [
              "recommendations finished on 60000/249511 queries. users per second: 914.603"
            ],
            "text/html": [
              "<pre>recommendations finished on 60000/249511 queries. users per second: 914.603</pre>"
            ]
          },
          "metadata": {}
        },
        {
          "output_type": "display_data",
          "data": {
            "text/plain": [
              "recommendations finished on 61000/249511 queries. users per second: 914.524"
            ],
            "text/html": [
              "<pre>recommendations finished on 61000/249511 queries. users per second: 914.524</pre>"
            ]
          },
          "metadata": {}
        },
        {
          "output_type": "display_data",
          "data": {
            "text/plain": [
              "recommendations finished on 62000/249511 queries. users per second: 914.799"
            ],
            "text/html": [
              "<pre>recommendations finished on 62000/249511 queries. users per second: 914.799</pre>"
            ]
          },
          "metadata": {}
        },
        {
          "output_type": "display_data",
          "data": {
            "text/plain": [
              "recommendations finished on 63000/249511 queries. users per second: 914.313"
            ],
            "text/html": [
              "<pre>recommendations finished on 63000/249511 queries. users per second: 914.313</pre>"
            ]
          },
          "metadata": {}
        },
        {
          "output_type": "display_data",
          "data": {
            "text/plain": [
              "recommendations finished on 64000/249511 queries. users per second: 912.921"
            ],
            "text/html": [
              "<pre>recommendations finished on 64000/249511 queries. users per second: 912.921</pre>"
            ]
          },
          "metadata": {}
        },
        {
          "output_type": "display_data",
          "data": {
            "text/plain": [
              "recommendations finished on 65000/249511 queries. users per second: 911.944"
            ],
            "text/html": [
              "<pre>recommendations finished on 65000/249511 queries. users per second: 911.944</pre>"
            ]
          },
          "metadata": {}
        },
        {
          "output_type": "display_data",
          "data": {
            "text/plain": [
              "recommendations finished on 66000/249511 queries. users per second: 911.579"
            ],
            "text/html": [
              "<pre>recommendations finished on 66000/249511 queries. users per second: 911.579</pre>"
            ]
          },
          "metadata": {}
        },
        {
          "output_type": "display_data",
          "data": {
            "text/plain": [
              "recommendations finished on 67000/249511 queries. users per second: 911.606"
            ],
            "text/html": [
              "<pre>recommendations finished on 67000/249511 queries. users per second: 911.606</pre>"
            ]
          },
          "metadata": {}
        },
        {
          "output_type": "display_data",
          "data": {
            "text/plain": [
              "recommendations finished on 68000/249511 queries. users per second: 910.8"
            ],
            "text/html": [
              "<pre>recommendations finished on 68000/249511 queries. users per second: 910.8</pre>"
            ]
          },
          "metadata": {}
        },
        {
          "output_type": "display_data",
          "data": {
            "text/plain": [
              "recommendations finished on 69000/249511 queries. users per second: 909.847"
            ],
            "text/html": [
              "<pre>recommendations finished on 69000/249511 queries. users per second: 909.847</pre>"
            ]
          },
          "metadata": {}
        },
        {
          "output_type": "display_data",
          "data": {
            "text/plain": [
              "recommendations finished on 70000/249511 queries. users per second: 909.484"
            ],
            "text/html": [
              "<pre>recommendations finished on 70000/249511 queries. users per second: 909.484</pre>"
            ]
          },
          "metadata": {}
        },
        {
          "output_type": "display_data",
          "data": {
            "text/plain": [
              "recommendations finished on 71000/249511 queries. users per second: 909.065"
            ],
            "text/html": [
              "<pre>recommendations finished on 71000/249511 queries. users per second: 909.065</pre>"
            ]
          },
          "metadata": {}
        },
        {
          "output_type": "display_data",
          "data": {
            "text/plain": [
              "recommendations finished on 72000/249511 queries. users per second: 909.537"
            ],
            "text/html": [
              "<pre>recommendations finished on 72000/249511 queries. users per second: 909.537</pre>"
            ]
          },
          "metadata": {}
        },
        {
          "output_type": "display_data",
          "data": {
            "text/plain": [
              "recommendations finished on 73000/249511 queries. users per second: 909.944"
            ],
            "text/html": [
              "<pre>recommendations finished on 73000/249511 queries. users per second: 909.944</pre>"
            ]
          },
          "metadata": {}
        },
        {
          "output_type": "display_data",
          "data": {
            "text/plain": [
              "recommendations finished on 74000/249511 queries. users per second: 909.728"
            ],
            "text/html": [
              "<pre>recommendations finished on 74000/249511 queries. users per second: 909.728</pre>"
            ]
          },
          "metadata": {}
        },
        {
          "output_type": "display_data",
          "data": {
            "text/plain": [
              "recommendations finished on 75000/249511 queries. users per second: 909.47"
            ],
            "text/html": [
              "<pre>recommendations finished on 75000/249511 queries. users per second: 909.47</pre>"
            ]
          },
          "metadata": {}
        },
        {
          "output_type": "display_data",
          "data": {
            "text/plain": [
              "recommendations finished on 76000/249511 queries. users per second: 909.605"
            ],
            "text/html": [
              "<pre>recommendations finished on 76000/249511 queries. users per second: 909.605</pre>"
            ]
          },
          "metadata": {}
        },
        {
          "output_type": "display_data",
          "data": {
            "text/plain": [
              "recommendations finished on 77000/249511 queries. users per second: 909.576"
            ],
            "text/html": [
              "<pre>recommendations finished on 77000/249511 queries. users per second: 909.576</pre>"
            ]
          },
          "metadata": {}
        },
        {
          "output_type": "display_data",
          "data": {
            "text/plain": [
              "recommendations finished on 78000/249511 queries. users per second: 909.835"
            ],
            "text/html": [
              "<pre>recommendations finished on 78000/249511 queries. users per second: 909.835</pre>"
            ]
          },
          "metadata": {}
        },
        {
          "output_type": "display_data",
          "data": {
            "text/plain": [
              "recommendations finished on 79000/249511 queries. users per second: 909.583"
            ],
            "text/html": [
              "<pre>recommendations finished on 79000/249511 queries. users per second: 909.583</pre>"
            ]
          },
          "metadata": {}
        },
        {
          "output_type": "display_data",
          "data": {
            "text/plain": [
              "recommendations finished on 80000/249511 queries. users per second: 908.956"
            ],
            "text/html": [
              "<pre>recommendations finished on 80000/249511 queries. users per second: 908.956</pre>"
            ]
          },
          "metadata": {}
        },
        {
          "output_type": "display_data",
          "data": {
            "text/plain": [
              "recommendations finished on 81000/249511 queries. users per second: 909.315"
            ],
            "text/html": [
              "<pre>recommendations finished on 81000/249511 queries. users per second: 909.315</pre>"
            ]
          },
          "metadata": {}
        },
        {
          "output_type": "display_data",
          "data": {
            "text/plain": [
              "recommendations finished on 82000/249511 queries. users per second: 909.134"
            ],
            "text/html": [
              "<pre>recommendations finished on 82000/249511 queries. users per second: 909.134</pre>"
            ]
          },
          "metadata": {}
        },
        {
          "output_type": "display_data",
          "data": {
            "text/plain": [
              "recommendations finished on 83000/249511 queries. users per second: 909.165"
            ],
            "text/html": [
              "<pre>recommendations finished on 83000/249511 queries. users per second: 909.165</pre>"
            ]
          },
          "metadata": {}
        },
        {
          "output_type": "display_data",
          "data": {
            "text/plain": [
              "recommendations finished on 84000/249511 queries. users per second: 908.854"
            ],
            "text/html": [
              "<pre>recommendations finished on 84000/249511 queries. users per second: 908.854</pre>"
            ]
          },
          "metadata": {}
        },
        {
          "output_type": "display_data",
          "data": {
            "text/plain": [
              "recommendations finished on 85000/249511 queries. users per second: 908.58"
            ],
            "text/html": [
              "<pre>recommendations finished on 85000/249511 queries. users per second: 908.58</pre>"
            ]
          },
          "metadata": {}
        },
        {
          "output_type": "display_data",
          "data": {
            "text/plain": [
              "recommendations finished on 86000/249511 queries. users per second: 908.74"
            ],
            "text/html": [
              "<pre>recommendations finished on 86000/249511 queries. users per second: 908.74</pre>"
            ]
          },
          "metadata": {}
        },
        {
          "output_type": "display_data",
          "data": {
            "text/plain": [
              "recommendations finished on 87000/249511 queries. users per second: 908.575"
            ],
            "text/html": [
              "<pre>recommendations finished on 87000/249511 queries. users per second: 908.575</pre>"
            ]
          },
          "metadata": {}
        },
        {
          "output_type": "display_data",
          "data": {
            "text/plain": [
              "recommendations finished on 88000/249511 queries. users per second: 908.259"
            ],
            "text/html": [
              "<pre>recommendations finished on 88000/249511 queries. users per second: 908.259</pre>"
            ]
          },
          "metadata": {}
        },
        {
          "output_type": "display_data",
          "data": {
            "text/plain": [
              "recommendations finished on 89000/249511 queries. users per second: 908.678"
            ],
            "text/html": [
              "<pre>recommendations finished on 89000/249511 queries. users per second: 908.678</pre>"
            ]
          },
          "metadata": {}
        },
        {
          "output_type": "display_data",
          "data": {
            "text/plain": [
              "recommendations finished on 90000/249511 queries. users per second: 908.94"
            ],
            "text/html": [
              "<pre>recommendations finished on 90000/249511 queries. users per second: 908.94</pre>"
            ]
          },
          "metadata": {}
        },
        {
          "output_type": "display_data",
          "data": {
            "text/plain": [
              "recommendations finished on 91000/249511 queries. users per second: 909.562"
            ],
            "text/html": [
              "<pre>recommendations finished on 91000/249511 queries. users per second: 909.562</pre>"
            ]
          },
          "metadata": {}
        },
        {
          "output_type": "display_data",
          "data": {
            "text/plain": [
              "recommendations finished on 92000/249511 queries. users per second: 910.208"
            ],
            "text/html": [
              "<pre>recommendations finished on 92000/249511 queries. users per second: 910.208</pre>"
            ]
          },
          "metadata": {}
        },
        {
          "output_type": "display_data",
          "data": {
            "text/plain": [
              "recommendations finished on 93000/249511 queries. users per second: 908.885"
            ],
            "text/html": [
              "<pre>recommendations finished on 93000/249511 queries. users per second: 908.885</pre>"
            ]
          },
          "metadata": {}
        },
        {
          "output_type": "display_data",
          "data": {
            "text/plain": [
              "recommendations finished on 94000/249511 queries. users per second: 903.952"
            ],
            "text/html": [
              "<pre>recommendations finished on 94000/249511 queries. users per second: 903.952</pre>"
            ]
          },
          "metadata": {}
        },
        {
          "output_type": "display_data",
          "data": {
            "text/plain": [
              "recommendations finished on 95000/249511 queries. users per second: 898.546"
            ],
            "text/html": [
              "<pre>recommendations finished on 95000/249511 queries. users per second: 898.546</pre>"
            ]
          },
          "metadata": {}
        },
        {
          "output_type": "display_data",
          "data": {
            "text/plain": [
              "recommendations finished on 96000/249511 queries. users per second: 898.89"
            ],
            "text/html": [
              "<pre>recommendations finished on 96000/249511 queries. users per second: 898.89</pre>"
            ]
          },
          "metadata": {}
        },
        {
          "output_type": "display_data",
          "data": {
            "text/plain": [
              "recommendations finished on 97000/249511 queries. users per second: 898.284"
            ],
            "text/html": [
              "<pre>recommendations finished on 97000/249511 queries. users per second: 898.284</pre>"
            ]
          },
          "metadata": {}
        },
        {
          "output_type": "display_data",
          "data": {
            "text/plain": [
              "recommendations finished on 98000/249511 queries. users per second: 898.704"
            ],
            "text/html": [
              "<pre>recommendations finished on 98000/249511 queries. users per second: 898.704</pre>"
            ]
          },
          "metadata": {}
        },
        {
          "output_type": "display_data",
          "data": {
            "text/plain": [
              "recommendations finished on 99000/249511 queries. users per second: 895.32"
            ],
            "text/html": [
              "<pre>recommendations finished on 99000/249511 queries. users per second: 895.32</pre>"
            ]
          },
          "metadata": {}
        },
        {
          "output_type": "display_data",
          "data": {
            "text/plain": [
              "recommendations finished on 100000/249511 queries. users per second: 895.455"
            ],
            "text/html": [
              "<pre>recommendations finished on 100000/249511 queries. users per second: 895.455</pre>"
            ]
          },
          "metadata": {}
        },
        {
          "output_type": "display_data",
          "data": {
            "text/plain": [
              "recommendations finished on 101000/249511 queries. users per second: 895.336"
            ],
            "text/html": [
              "<pre>recommendations finished on 101000/249511 queries. users per second: 895.336</pre>"
            ]
          },
          "metadata": {}
        },
        {
          "output_type": "display_data",
          "data": {
            "text/plain": [
              "recommendations finished on 102000/249511 queries. users per second: 895.131"
            ],
            "text/html": [
              "<pre>recommendations finished on 102000/249511 queries. users per second: 895.131</pre>"
            ]
          },
          "metadata": {}
        },
        {
          "output_type": "display_data",
          "data": {
            "text/plain": [
              "recommendations finished on 103000/249511 queries. users per second: 895.32"
            ],
            "text/html": [
              "<pre>recommendations finished on 103000/249511 queries. users per second: 895.32</pre>"
            ]
          },
          "metadata": {}
        },
        {
          "output_type": "display_data",
          "data": {
            "text/plain": [
              "recommendations finished on 104000/249511 queries. users per second: 895.113"
            ],
            "text/html": [
              "<pre>recommendations finished on 104000/249511 queries. users per second: 895.113</pre>"
            ]
          },
          "metadata": {}
        },
        {
          "output_type": "display_data",
          "data": {
            "text/plain": [
              "recommendations finished on 105000/249511 queries. users per second: 889.565"
            ],
            "text/html": [
              "<pre>recommendations finished on 105000/249511 queries. users per second: 889.565</pre>"
            ]
          },
          "metadata": {}
        },
        {
          "output_type": "display_data",
          "data": {
            "text/plain": [
              "recommendations finished on 106000/249511 queries. users per second: 885.052"
            ],
            "text/html": [
              "<pre>recommendations finished on 106000/249511 queries. users per second: 885.052</pre>"
            ]
          },
          "metadata": {}
        },
        {
          "output_type": "display_data",
          "data": {
            "text/plain": [
              "recommendations finished on 107000/249511 queries. users per second: 882.82"
            ],
            "text/html": [
              "<pre>recommendations finished on 107000/249511 queries. users per second: 882.82</pre>"
            ]
          },
          "metadata": {}
        },
        {
          "output_type": "display_data",
          "data": {
            "text/plain": [
              "recommendations finished on 108000/249511 queries. users per second: 875.429"
            ],
            "text/html": [
              "<pre>recommendations finished on 108000/249511 queries. users per second: 875.429</pre>"
            ]
          },
          "metadata": {}
        },
        {
          "output_type": "display_data",
          "data": {
            "text/plain": [
              "recommendations finished on 109000/249511 queries. users per second: 876.418"
            ],
            "text/html": [
              "<pre>recommendations finished on 109000/249511 queries. users per second: 876.418</pre>"
            ]
          },
          "metadata": {}
        },
        {
          "output_type": "display_data",
          "data": {
            "text/plain": [
              "recommendations finished on 110000/249511 queries. users per second: 876.724"
            ],
            "text/html": [
              "<pre>recommendations finished on 110000/249511 queries. users per second: 876.724</pre>"
            ]
          },
          "metadata": {}
        },
        {
          "output_type": "display_data",
          "data": {
            "text/plain": [
              "recommendations finished on 111000/249511 queries. users per second: 876.882"
            ],
            "text/html": [
              "<pre>recommendations finished on 111000/249511 queries. users per second: 876.882</pre>"
            ]
          },
          "metadata": {}
        },
        {
          "output_type": "display_data",
          "data": {
            "text/plain": [
              "recommendations finished on 112000/249511 queries. users per second: 877.408"
            ],
            "text/html": [
              "<pre>recommendations finished on 112000/249511 queries. users per second: 877.408</pre>"
            ]
          },
          "metadata": {}
        },
        {
          "output_type": "display_data",
          "data": {
            "text/plain": [
              "recommendations finished on 113000/249511 queries. users per second: 877.432"
            ],
            "text/html": [
              "<pre>recommendations finished on 113000/249511 queries. users per second: 877.432</pre>"
            ]
          },
          "metadata": {}
        },
        {
          "output_type": "display_data",
          "data": {
            "text/plain": [
              "recommendations finished on 114000/249511 queries. users per second: 875.815"
            ],
            "text/html": [
              "<pre>recommendations finished on 114000/249511 queries. users per second: 875.815</pre>"
            ]
          },
          "metadata": {}
        },
        {
          "output_type": "display_data",
          "data": {
            "text/plain": [
              "recommendations finished on 115000/249511 queries. users per second: 876.077"
            ],
            "text/html": [
              "<pre>recommendations finished on 115000/249511 queries. users per second: 876.077</pre>"
            ]
          },
          "metadata": {}
        },
        {
          "output_type": "display_data",
          "data": {
            "text/plain": [
              "recommendations finished on 116000/249511 queries. users per second: 876.666"
            ],
            "text/html": [
              "<pre>recommendations finished on 116000/249511 queries. users per second: 876.666</pre>"
            ]
          },
          "metadata": {}
        },
        {
          "output_type": "display_data",
          "data": {
            "text/plain": [
              "recommendations finished on 117000/249511 queries. users per second: 876.843"
            ],
            "text/html": [
              "<pre>recommendations finished on 117000/249511 queries. users per second: 876.843</pre>"
            ]
          },
          "metadata": {}
        },
        {
          "output_type": "display_data",
          "data": {
            "text/plain": [
              "recommendations finished on 118000/249511 queries. users per second: 877.099"
            ],
            "text/html": [
              "<pre>recommendations finished on 118000/249511 queries. users per second: 877.099</pre>"
            ]
          },
          "metadata": {}
        },
        {
          "output_type": "display_data",
          "data": {
            "text/plain": [
              "recommendations finished on 119000/249511 queries. users per second: 877.398"
            ],
            "text/html": [
              "<pre>recommendations finished on 119000/249511 queries. users per second: 877.398</pre>"
            ]
          },
          "metadata": {}
        },
        {
          "output_type": "display_data",
          "data": {
            "text/plain": [
              "recommendations finished on 120000/249511 queries. users per second: 877.34"
            ],
            "text/html": [
              "<pre>recommendations finished on 120000/249511 queries. users per second: 877.34</pre>"
            ]
          },
          "metadata": {}
        },
        {
          "output_type": "display_data",
          "data": {
            "text/plain": [
              "recommendations finished on 121000/249511 queries. users per second: 877.869"
            ],
            "text/html": [
              "<pre>recommendations finished on 121000/249511 queries. users per second: 877.869</pre>"
            ]
          },
          "metadata": {}
        },
        {
          "output_type": "display_data",
          "data": {
            "text/plain": [
              "recommendations finished on 122000/249511 queries. users per second: 878.201"
            ],
            "text/html": [
              "<pre>recommendations finished on 122000/249511 queries. users per second: 878.201</pre>"
            ]
          },
          "metadata": {}
        },
        {
          "output_type": "display_data",
          "data": {
            "text/plain": [
              "recommendations finished on 123000/249511 queries. users per second: 878.351"
            ],
            "text/html": [
              "<pre>recommendations finished on 123000/249511 queries. users per second: 878.351</pre>"
            ]
          },
          "metadata": {}
        },
        {
          "output_type": "display_data",
          "data": {
            "text/plain": [
              "recommendations finished on 124000/249511 queries. users per second: 877.871"
            ],
            "text/html": [
              "<pre>recommendations finished on 124000/249511 queries. users per second: 877.871</pre>"
            ]
          },
          "metadata": {}
        },
        {
          "output_type": "display_data",
          "data": {
            "text/plain": [
              "recommendations finished on 125000/249511 queries. users per second: 877.966"
            ],
            "text/html": [
              "<pre>recommendations finished on 125000/249511 queries. users per second: 877.966</pre>"
            ]
          },
          "metadata": {}
        },
        {
          "output_type": "display_data",
          "data": {
            "text/plain": [
              "recommendations finished on 126000/249511 queries. users per second: 878.396"
            ],
            "text/html": [
              "<pre>recommendations finished on 126000/249511 queries. users per second: 878.396</pre>"
            ]
          },
          "metadata": {}
        },
        {
          "output_type": "display_data",
          "data": {
            "text/plain": [
              "recommendations finished on 127000/249511 queries. users per second: 878.679"
            ],
            "text/html": [
              "<pre>recommendations finished on 127000/249511 queries. users per second: 878.679</pre>"
            ]
          },
          "metadata": {}
        },
        {
          "output_type": "display_data",
          "data": {
            "text/plain": [
              "recommendations finished on 128000/249511 queries. users per second: 878.709"
            ],
            "text/html": [
              "<pre>recommendations finished on 128000/249511 queries. users per second: 878.709</pre>"
            ]
          },
          "metadata": {}
        },
        {
          "output_type": "display_data",
          "data": {
            "text/plain": [
              "recommendations finished on 129000/249511 queries. users per second: 878.862"
            ],
            "text/html": [
              "<pre>recommendations finished on 129000/249511 queries. users per second: 878.862</pre>"
            ]
          },
          "metadata": {}
        },
        {
          "output_type": "display_data",
          "data": {
            "text/plain": [
              "recommendations finished on 130000/249511 queries. users per second: 878.512"
            ],
            "text/html": [
              "<pre>recommendations finished on 130000/249511 queries. users per second: 878.512</pre>"
            ]
          },
          "metadata": {}
        },
        {
          "output_type": "display_data",
          "data": {
            "text/plain": [
              "recommendations finished on 131000/249511 queries. users per second: 878.698"
            ],
            "text/html": [
              "<pre>recommendations finished on 131000/249511 queries. users per second: 878.698</pre>"
            ]
          },
          "metadata": {}
        },
        {
          "output_type": "display_data",
          "data": {
            "text/plain": [
              "recommendations finished on 132000/249511 queries. users per second: 878.403"
            ],
            "text/html": [
              "<pre>recommendations finished on 132000/249511 queries. users per second: 878.403</pre>"
            ]
          },
          "metadata": {}
        },
        {
          "output_type": "display_data",
          "data": {
            "text/plain": [
              "recommendations finished on 133000/249511 queries. users per second: 878.823"
            ],
            "text/html": [
              "<pre>recommendations finished on 133000/249511 queries. users per second: 878.823</pre>"
            ]
          },
          "metadata": {}
        },
        {
          "output_type": "display_data",
          "data": {
            "text/plain": [
              "recommendations finished on 134000/249511 queries. users per second: 878.778"
            ],
            "text/html": [
              "<pre>recommendations finished on 134000/249511 queries. users per second: 878.778</pre>"
            ]
          },
          "metadata": {}
        },
        {
          "output_type": "display_data",
          "data": {
            "text/plain": [
              "recommendations finished on 135000/249511 queries. users per second: 879.022"
            ],
            "text/html": [
              "<pre>recommendations finished on 135000/249511 queries. users per second: 879.022</pre>"
            ]
          },
          "metadata": {}
        },
        {
          "output_type": "display_data",
          "data": {
            "text/plain": [
              "recommendations finished on 136000/249511 queries. users per second: 878.382"
            ],
            "text/html": [
              "<pre>recommendations finished on 136000/249511 queries. users per second: 878.382</pre>"
            ]
          },
          "metadata": {}
        },
        {
          "output_type": "display_data",
          "data": {
            "text/plain": [
              "recommendations finished on 137000/249511 queries. users per second: 875.121"
            ],
            "text/html": [
              "<pre>recommendations finished on 137000/249511 queries. users per second: 875.121</pre>"
            ]
          },
          "metadata": {}
        },
        {
          "output_type": "display_data",
          "data": {
            "text/plain": [
              "recommendations finished on 138000/249511 queries. users per second: 873.961"
            ],
            "text/html": [
              "<pre>recommendations finished on 138000/249511 queries. users per second: 873.961</pre>"
            ]
          },
          "metadata": {}
        },
        {
          "output_type": "display_data",
          "data": {
            "text/plain": [
              "recommendations finished on 139000/249511 queries. users per second: 871.467"
            ],
            "text/html": [
              "<pre>recommendations finished on 139000/249511 queries. users per second: 871.467</pre>"
            ]
          },
          "metadata": {}
        },
        {
          "output_type": "display_data",
          "data": {
            "text/plain": [
              "recommendations finished on 140000/249511 queries. users per second: 871.032"
            ],
            "text/html": [
              "<pre>recommendations finished on 140000/249511 queries. users per second: 871.032</pre>"
            ]
          },
          "metadata": {}
        },
        {
          "output_type": "display_data",
          "data": {
            "text/plain": [
              "recommendations finished on 141000/249511 queries. users per second: 870.816"
            ],
            "text/html": [
              "<pre>recommendations finished on 141000/249511 queries. users per second: 870.816</pre>"
            ]
          },
          "metadata": {}
        },
        {
          "output_type": "display_data",
          "data": {
            "text/plain": [
              "recommendations finished on 142000/249511 queries. users per second: 870.718"
            ],
            "text/html": [
              "<pre>recommendations finished on 142000/249511 queries. users per second: 870.718</pre>"
            ]
          },
          "metadata": {}
        },
        {
          "output_type": "display_data",
          "data": {
            "text/plain": [
              "recommendations finished on 143000/249511 queries. users per second: 870.615"
            ],
            "text/html": [
              "<pre>recommendations finished on 143000/249511 queries. users per second: 870.615</pre>"
            ]
          },
          "metadata": {}
        },
        {
          "output_type": "display_data",
          "data": {
            "text/plain": [
              "recommendations finished on 144000/249511 queries. users per second: 868.242"
            ],
            "text/html": [
              "<pre>recommendations finished on 144000/249511 queries. users per second: 868.242</pre>"
            ]
          },
          "metadata": {}
        },
        {
          "output_type": "display_data",
          "data": {
            "text/plain": [
              "recommendations finished on 145000/249511 queries. users per second: 868.76"
            ],
            "text/html": [
              "<pre>recommendations finished on 145000/249511 queries. users per second: 868.76</pre>"
            ]
          },
          "metadata": {}
        },
        {
          "output_type": "display_data",
          "data": {
            "text/plain": [
              "recommendations finished on 146000/249511 queries. users per second: 868.682"
            ],
            "text/html": [
              "<pre>recommendations finished on 146000/249511 queries. users per second: 868.682</pre>"
            ]
          },
          "metadata": {}
        },
        {
          "output_type": "display_data",
          "data": {
            "text/plain": [
              "recommendations finished on 147000/249511 queries. users per second: 868.117"
            ],
            "text/html": [
              "<pre>recommendations finished on 147000/249511 queries. users per second: 868.117</pre>"
            ]
          },
          "metadata": {}
        },
        {
          "output_type": "display_data",
          "data": {
            "text/plain": [
              "recommendations finished on 148000/249511 queries. users per second: 864.57"
            ],
            "text/html": [
              "<pre>recommendations finished on 148000/249511 queries. users per second: 864.57</pre>"
            ]
          },
          "metadata": {}
        },
        {
          "output_type": "display_data",
          "data": {
            "text/plain": [
              "recommendations finished on 149000/249511 queries. users per second: 862.489"
            ],
            "text/html": [
              "<pre>recommendations finished on 149000/249511 queries. users per second: 862.489</pre>"
            ]
          },
          "metadata": {}
        },
        {
          "output_type": "display_data",
          "data": {
            "text/plain": [
              "recommendations finished on 150000/249511 queries. users per second: 861.654"
            ],
            "text/html": [
              "<pre>recommendations finished on 150000/249511 queries. users per second: 861.654</pre>"
            ]
          },
          "metadata": {}
        },
        {
          "output_type": "display_data",
          "data": {
            "text/plain": [
              "recommendations finished on 151000/249511 queries. users per second: 861.851"
            ],
            "text/html": [
              "<pre>recommendations finished on 151000/249511 queries. users per second: 861.851</pre>"
            ]
          },
          "metadata": {}
        },
        {
          "output_type": "display_data",
          "data": {
            "text/plain": [
              "recommendations finished on 152000/249511 queries. users per second: 861.877"
            ],
            "text/html": [
              "<pre>recommendations finished on 152000/249511 queries. users per second: 861.877</pre>"
            ]
          },
          "metadata": {}
        },
        {
          "output_type": "display_data",
          "data": {
            "text/plain": [
              "recommendations finished on 153000/249511 queries. users per second: 862.198"
            ],
            "text/html": [
              "<pre>recommendations finished on 153000/249511 queries. users per second: 862.198</pre>"
            ]
          },
          "metadata": {}
        },
        {
          "output_type": "display_data",
          "data": {
            "text/plain": [
              "recommendations finished on 154000/249511 queries. users per second: 862.574"
            ],
            "text/html": [
              "<pre>recommendations finished on 154000/249511 queries. users per second: 862.574</pre>"
            ]
          },
          "metadata": {}
        },
        {
          "output_type": "display_data",
          "data": {
            "text/plain": [
              "recommendations finished on 155000/249511 queries. users per second: 862.899"
            ],
            "text/html": [
              "<pre>recommendations finished on 155000/249511 queries. users per second: 862.899</pre>"
            ]
          },
          "metadata": {}
        },
        {
          "output_type": "display_data",
          "data": {
            "text/plain": [
              "recommendations finished on 156000/249511 queries. users per second: 863.274"
            ],
            "text/html": [
              "<pre>recommendations finished on 156000/249511 queries. users per second: 863.274</pre>"
            ]
          },
          "metadata": {}
        },
        {
          "output_type": "display_data",
          "data": {
            "text/plain": [
              "recommendations finished on 157000/249511 queries. users per second: 863.778"
            ],
            "text/html": [
              "<pre>recommendations finished on 157000/249511 queries. users per second: 863.778</pre>"
            ]
          },
          "metadata": {}
        },
        {
          "output_type": "display_data",
          "data": {
            "text/plain": [
              "recommendations finished on 158000/249511 queries. users per second: 863.851"
            ],
            "text/html": [
              "<pre>recommendations finished on 158000/249511 queries. users per second: 863.851</pre>"
            ]
          },
          "metadata": {}
        },
        {
          "output_type": "display_data",
          "data": {
            "text/plain": [
              "recommendations finished on 159000/249511 queries. users per second: 864.001"
            ],
            "text/html": [
              "<pre>recommendations finished on 159000/249511 queries. users per second: 864.001</pre>"
            ]
          },
          "metadata": {}
        },
        {
          "output_type": "display_data",
          "data": {
            "text/plain": [
              "recommendations finished on 160000/249511 queries. users per second: 864.612"
            ],
            "text/html": [
              "<pre>recommendations finished on 160000/249511 queries. users per second: 864.612</pre>"
            ]
          },
          "metadata": {}
        },
        {
          "output_type": "display_data",
          "data": {
            "text/plain": [
              "recommendations finished on 161000/249511 queries. users per second: 864.776"
            ],
            "text/html": [
              "<pre>recommendations finished on 161000/249511 queries. users per second: 864.776</pre>"
            ]
          },
          "metadata": {}
        },
        {
          "output_type": "display_data",
          "data": {
            "text/plain": [
              "recommendations finished on 162000/249511 queries. users per second: 864.973"
            ],
            "text/html": [
              "<pre>recommendations finished on 162000/249511 queries. users per second: 864.973</pre>"
            ]
          },
          "metadata": {}
        },
        {
          "output_type": "display_data",
          "data": {
            "text/plain": [
              "recommendations finished on 163000/249511 queries. users per second: 865.307"
            ],
            "text/html": [
              "<pre>recommendations finished on 163000/249511 queries. users per second: 865.307</pre>"
            ]
          },
          "metadata": {}
        },
        {
          "output_type": "display_data",
          "data": {
            "text/plain": [
              "recommendations finished on 164000/249511 queries. users per second: 865.615"
            ],
            "text/html": [
              "<pre>recommendations finished on 164000/249511 queries. users per second: 865.615</pre>"
            ]
          },
          "metadata": {}
        },
        {
          "output_type": "display_data",
          "data": {
            "text/plain": [
              "recommendations finished on 165000/249511 queries. users per second: 865.923"
            ],
            "text/html": [
              "<pre>recommendations finished on 165000/249511 queries. users per second: 865.923</pre>"
            ]
          },
          "metadata": {}
        },
        {
          "output_type": "display_data",
          "data": {
            "text/plain": [
              "recommendations finished on 166000/249511 queries. users per second: 866.034"
            ],
            "text/html": [
              "<pre>recommendations finished on 166000/249511 queries. users per second: 866.034</pre>"
            ]
          },
          "metadata": {}
        },
        {
          "output_type": "display_data",
          "data": {
            "text/plain": [
              "recommendations finished on 167000/249511 queries. users per second: 866.407"
            ],
            "text/html": [
              "<pre>recommendations finished on 167000/249511 queries. users per second: 866.407</pre>"
            ]
          },
          "metadata": {}
        },
        {
          "output_type": "display_data",
          "data": {
            "text/plain": [
              "recommendations finished on 168000/249511 queries. users per second: 866.309"
            ],
            "text/html": [
              "<pre>recommendations finished on 168000/249511 queries. users per second: 866.309</pre>"
            ]
          },
          "metadata": {}
        },
        {
          "output_type": "display_data",
          "data": {
            "text/plain": [
              "recommendations finished on 169000/249511 queries. users per second: 866.266"
            ],
            "text/html": [
              "<pre>recommendations finished on 169000/249511 queries. users per second: 866.266</pre>"
            ]
          },
          "metadata": {}
        },
        {
          "output_type": "display_data",
          "data": {
            "text/plain": [
              "recommendations finished on 170000/249511 queries. users per second: 866.257"
            ],
            "text/html": [
              "<pre>recommendations finished on 170000/249511 queries. users per second: 866.257</pre>"
            ]
          },
          "metadata": {}
        },
        {
          "output_type": "display_data",
          "data": {
            "text/plain": [
              "recommendations finished on 171000/249511 queries. users per second: 866.518"
            ],
            "text/html": [
              "<pre>recommendations finished on 171000/249511 queries. users per second: 866.518</pre>"
            ]
          },
          "metadata": {}
        },
        {
          "output_type": "display_data",
          "data": {
            "text/plain": [
              "recommendations finished on 172000/249511 queries. users per second: 866.86"
            ],
            "text/html": [
              "<pre>recommendations finished on 172000/249511 queries. users per second: 866.86</pre>"
            ]
          },
          "metadata": {}
        },
        {
          "output_type": "display_data",
          "data": {
            "text/plain": [
              "recommendations finished on 173000/249511 queries. users per second: 867.186"
            ],
            "text/html": [
              "<pre>recommendations finished on 173000/249511 queries. users per second: 867.186</pre>"
            ]
          },
          "metadata": {}
        },
        {
          "output_type": "display_data",
          "data": {
            "text/plain": [
              "recommendations finished on 174000/249511 queries. users per second: 867.382"
            ],
            "text/html": [
              "<pre>recommendations finished on 174000/249511 queries. users per second: 867.382</pre>"
            ]
          },
          "metadata": {}
        },
        {
          "output_type": "display_data",
          "data": {
            "text/plain": [
              "recommendations finished on 175000/249511 queries. users per second: 867.293"
            ],
            "text/html": [
              "<pre>recommendations finished on 175000/249511 queries. users per second: 867.293</pre>"
            ]
          },
          "metadata": {}
        },
        {
          "output_type": "display_data",
          "data": {
            "text/plain": [
              "recommendations finished on 176000/249511 queries. users per second: 867.397"
            ],
            "text/html": [
              "<pre>recommendations finished on 176000/249511 queries. users per second: 867.397</pre>"
            ]
          },
          "metadata": {}
        },
        {
          "output_type": "display_data",
          "data": {
            "text/plain": [
              "recommendations finished on 177000/249511 queries. users per second: 867.833"
            ],
            "text/html": [
              "<pre>recommendations finished on 177000/249511 queries. users per second: 867.833</pre>"
            ]
          },
          "metadata": {}
        },
        {
          "output_type": "display_data",
          "data": {
            "text/plain": [
              "recommendations finished on 178000/249511 queries. users per second: 867.767"
            ],
            "text/html": [
              "<pre>recommendations finished on 178000/249511 queries. users per second: 867.767</pre>"
            ]
          },
          "metadata": {}
        },
        {
          "output_type": "display_data",
          "data": {
            "text/plain": [
              "recommendations finished on 179000/249511 queries. users per second: 867.518"
            ],
            "text/html": [
              "<pre>recommendations finished on 179000/249511 queries. users per second: 867.518</pre>"
            ]
          },
          "metadata": {}
        },
        {
          "output_type": "display_data",
          "data": {
            "text/plain": [
              "recommendations finished on 180000/249511 queries. users per second: 867.235"
            ],
            "text/html": [
              "<pre>recommendations finished on 180000/249511 queries. users per second: 867.235</pre>"
            ]
          },
          "metadata": {}
        },
        {
          "output_type": "display_data",
          "data": {
            "text/plain": [
              "recommendations finished on 181000/249511 queries. users per second: 867.072"
            ],
            "text/html": [
              "<pre>recommendations finished on 181000/249511 queries. users per second: 867.072</pre>"
            ]
          },
          "metadata": {}
        },
        {
          "output_type": "display_data",
          "data": {
            "text/plain": [
              "recommendations finished on 182000/249511 queries. users per second: 867.059"
            ],
            "text/html": [
              "<pre>recommendations finished on 182000/249511 queries. users per second: 867.059</pre>"
            ]
          },
          "metadata": {}
        },
        {
          "output_type": "display_data",
          "data": {
            "text/plain": [
              "recommendations finished on 183000/249511 queries. users per second: 867.402"
            ],
            "text/html": [
              "<pre>recommendations finished on 183000/249511 queries. users per second: 867.402</pre>"
            ]
          },
          "metadata": {}
        },
        {
          "output_type": "display_data",
          "data": {
            "text/plain": [
              "recommendations finished on 184000/249511 queries. users per second: 867.743"
            ],
            "text/html": [
              "<pre>recommendations finished on 184000/249511 queries. users per second: 867.743</pre>"
            ]
          },
          "metadata": {}
        },
        {
          "output_type": "display_data",
          "data": {
            "text/plain": [
              "recommendations finished on 185000/249511 queries. users per second: 868"
            ],
            "text/html": [
              "<pre>recommendations finished on 185000/249511 queries. users per second: 868</pre>"
            ]
          },
          "metadata": {}
        },
        {
          "output_type": "display_data",
          "data": {
            "text/plain": [
              "recommendations finished on 186000/249511 queries. users per second: 868.089"
            ],
            "text/html": [
              "<pre>recommendations finished on 186000/249511 queries. users per second: 868.089</pre>"
            ]
          },
          "metadata": {}
        },
        {
          "output_type": "display_data",
          "data": {
            "text/plain": [
              "recommendations finished on 187000/249511 queries. users per second: 868.446"
            ],
            "text/html": [
              "<pre>recommendations finished on 187000/249511 queries. users per second: 868.446</pre>"
            ]
          },
          "metadata": {}
        },
        {
          "output_type": "display_data",
          "data": {
            "text/plain": [
              "recommendations finished on 188000/249511 queries. users per second: 868.626"
            ],
            "text/html": [
              "<pre>recommendations finished on 188000/249511 queries. users per second: 868.626</pre>"
            ]
          },
          "metadata": {}
        },
        {
          "output_type": "display_data",
          "data": {
            "text/plain": [
              "recommendations finished on 189000/249511 queries. users per second: 868.448"
            ],
            "text/html": [
              "<pre>recommendations finished on 189000/249511 queries. users per second: 868.448</pre>"
            ]
          },
          "metadata": {}
        },
        {
          "output_type": "display_data",
          "data": {
            "text/plain": [
              "recommendations finished on 190000/249511 queries. users per second: 868.499"
            ],
            "text/html": [
              "<pre>recommendations finished on 190000/249511 queries. users per second: 868.499</pre>"
            ]
          },
          "metadata": {}
        },
        {
          "output_type": "display_data",
          "data": {
            "text/plain": [
              "recommendations finished on 191000/249511 queries. users per second: 868.628"
            ],
            "text/html": [
              "<pre>recommendations finished on 191000/249511 queries. users per second: 868.628</pre>"
            ]
          },
          "metadata": {}
        },
        {
          "output_type": "display_data",
          "data": {
            "text/plain": [
              "recommendations finished on 192000/249511 queries. users per second: 868.785"
            ],
            "text/html": [
              "<pre>recommendations finished on 192000/249511 queries. users per second: 868.785</pre>"
            ]
          },
          "metadata": {}
        },
        {
          "output_type": "display_data",
          "data": {
            "text/plain": [
              "recommendations finished on 193000/249511 queries. users per second: 868.997"
            ],
            "text/html": [
              "<pre>recommendations finished on 193000/249511 queries. users per second: 868.997</pre>"
            ]
          },
          "metadata": {}
        },
        {
          "output_type": "display_data",
          "data": {
            "text/plain": [
              "recommendations finished on 194000/249511 queries. users per second: 869.27"
            ],
            "text/html": [
              "<pre>recommendations finished on 194000/249511 queries. users per second: 869.27</pre>"
            ]
          },
          "metadata": {}
        },
        {
          "output_type": "display_data",
          "data": {
            "text/plain": [
              "recommendations finished on 195000/249511 queries. users per second: 869.344"
            ],
            "text/html": [
              "<pre>recommendations finished on 195000/249511 queries. users per second: 869.344</pre>"
            ]
          },
          "metadata": {}
        },
        {
          "output_type": "display_data",
          "data": {
            "text/plain": [
              "recommendations finished on 196000/249511 queries. users per second: 869.761"
            ],
            "text/html": [
              "<pre>recommendations finished on 196000/249511 queries. users per second: 869.761</pre>"
            ]
          },
          "metadata": {}
        },
        {
          "output_type": "display_data",
          "data": {
            "text/plain": [
              "recommendations finished on 197000/249511 queries. users per second: 869.728"
            ],
            "text/html": [
              "<pre>recommendations finished on 197000/249511 queries. users per second: 869.728</pre>"
            ]
          },
          "metadata": {}
        },
        {
          "output_type": "display_data",
          "data": {
            "text/plain": [
              "recommendations finished on 198000/249511 queries. users per second: 869.624"
            ],
            "text/html": [
              "<pre>recommendations finished on 198000/249511 queries. users per second: 869.624</pre>"
            ]
          },
          "metadata": {}
        },
        {
          "output_type": "display_data",
          "data": {
            "text/plain": [
              "recommendations finished on 199000/249511 queries. users per second: 869.855"
            ],
            "text/html": [
              "<pre>recommendations finished on 199000/249511 queries. users per second: 869.855</pre>"
            ]
          },
          "metadata": {}
        },
        {
          "output_type": "display_data",
          "data": {
            "text/plain": [
              "recommendations finished on 200000/249511 queries. users per second: 870.058"
            ],
            "text/html": [
              "<pre>recommendations finished on 200000/249511 queries. users per second: 870.058</pre>"
            ]
          },
          "metadata": {}
        },
        {
          "output_type": "display_data",
          "data": {
            "text/plain": [
              "recommendations finished on 201000/249511 queries. users per second: 870.266"
            ],
            "text/html": [
              "<pre>recommendations finished on 201000/249511 queries. users per second: 870.266</pre>"
            ]
          },
          "metadata": {}
        },
        {
          "output_type": "display_data",
          "data": {
            "text/plain": [
              "recommendations finished on 202000/249511 queries. users per second: 870.364"
            ],
            "text/html": [
              "<pre>recommendations finished on 202000/249511 queries. users per second: 870.364</pre>"
            ]
          },
          "metadata": {}
        },
        {
          "output_type": "display_data",
          "data": {
            "text/plain": [
              "recommendations finished on 203000/249511 queries. users per second: 870.502"
            ],
            "text/html": [
              "<pre>recommendations finished on 203000/249511 queries. users per second: 870.502</pre>"
            ]
          },
          "metadata": {}
        },
        {
          "output_type": "display_data",
          "data": {
            "text/plain": [
              "recommendations finished on 204000/249511 queries. users per second: 870.497"
            ],
            "text/html": [
              "<pre>recommendations finished on 204000/249511 queries. users per second: 870.497</pre>"
            ]
          },
          "metadata": {}
        },
        {
          "output_type": "display_data",
          "data": {
            "text/plain": [
              "recommendations finished on 205000/249511 queries. users per second: 870.556"
            ],
            "text/html": [
              "<pre>recommendations finished on 205000/249511 queries. users per second: 870.556</pre>"
            ]
          },
          "metadata": {}
        },
        {
          "output_type": "display_data",
          "data": {
            "text/plain": [
              "recommendations finished on 206000/249511 queries. users per second: 870.567"
            ],
            "text/html": [
              "<pre>recommendations finished on 206000/249511 queries. users per second: 870.567</pre>"
            ]
          },
          "metadata": {}
        },
        {
          "output_type": "display_data",
          "data": {
            "text/plain": [
              "recommendations finished on 207000/249511 queries. users per second: 870.514"
            ],
            "text/html": [
              "<pre>recommendations finished on 207000/249511 queries. users per second: 870.514</pre>"
            ]
          },
          "metadata": {}
        },
        {
          "output_type": "display_data",
          "data": {
            "text/plain": [
              "recommendations finished on 208000/249511 queries. users per second: 870.67"
            ],
            "text/html": [
              "<pre>recommendations finished on 208000/249511 queries. users per second: 870.67</pre>"
            ]
          },
          "metadata": {}
        },
        {
          "output_type": "display_data",
          "data": {
            "text/plain": [
              "recommendations finished on 209000/249511 queries. users per second: 870.817"
            ],
            "text/html": [
              "<pre>recommendations finished on 209000/249511 queries. users per second: 870.817</pre>"
            ]
          },
          "metadata": {}
        },
        {
          "output_type": "display_data",
          "data": {
            "text/plain": [
              "recommendations finished on 210000/249511 queries. users per second: 871.163"
            ],
            "text/html": [
              "<pre>recommendations finished on 210000/249511 queries. users per second: 871.163</pre>"
            ]
          },
          "metadata": {}
        },
        {
          "output_type": "display_data",
          "data": {
            "text/plain": [
              "recommendations finished on 211000/249511 queries. users per second: 871.383"
            ],
            "text/html": [
              "<pre>recommendations finished on 211000/249511 queries. users per second: 871.383</pre>"
            ]
          },
          "metadata": {}
        },
        {
          "output_type": "display_data",
          "data": {
            "text/plain": [
              "recommendations finished on 212000/249511 queries. users per second: 871.777"
            ],
            "text/html": [
              "<pre>recommendations finished on 212000/249511 queries. users per second: 871.777</pre>"
            ]
          },
          "metadata": {}
        },
        {
          "output_type": "display_data",
          "data": {
            "text/plain": [
              "recommendations finished on 213000/249511 queries. users per second: 872.107"
            ],
            "text/html": [
              "<pre>recommendations finished on 213000/249511 queries. users per second: 872.107</pre>"
            ]
          },
          "metadata": {}
        },
        {
          "output_type": "display_data",
          "data": {
            "text/plain": [
              "recommendations finished on 214000/249511 queries. users per second: 871.935"
            ],
            "text/html": [
              "<pre>recommendations finished on 214000/249511 queries. users per second: 871.935</pre>"
            ]
          },
          "metadata": {}
        },
        {
          "output_type": "display_data",
          "data": {
            "text/plain": [
              "recommendations finished on 215000/249511 queries. users per second: 871.767"
            ],
            "text/html": [
              "<pre>recommendations finished on 215000/249511 queries. users per second: 871.767</pre>"
            ]
          },
          "metadata": {}
        },
        {
          "output_type": "display_data",
          "data": {
            "text/plain": [
              "recommendations finished on 216000/249511 queries. users per second: 871.778"
            ],
            "text/html": [
              "<pre>recommendations finished on 216000/249511 queries. users per second: 871.778</pre>"
            ]
          },
          "metadata": {}
        },
        {
          "output_type": "display_data",
          "data": {
            "text/plain": [
              "recommendations finished on 217000/249511 queries. users per second: 871.512"
            ],
            "text/html": [
              "<pre>recommendations finished on 217000/249511 queries. users per second: 871.512</pre>"
            ]
          },
          "metadata": {}
        },
        {
          "output_type": "display_data",
          "data": {
            "text/plain": [
              "recommendations finished on 218000/249511 queries. users per second: 871.483"
            ],
            "text/html": [
              "<pre>recommendations finished on 218000/249511 queries. users per second: 871.483</pre>"
            ]
          },
          "metadata": {}
        },
        {
          "output_type": "display_data",
          "data": {
            "text/plain": [
              "recommendations finished on 219000/249511 queries. users per second: 871.464"
            ],
            "text/html": [
              "<pre>recommendations finished on 219000/249511 queries. users per second: 871.464</pre>"
            ]
          },
          "metadata": {}
        },
        {
          "output_type": "display_data",
          "data": {
            "text/plain": [
              "recommendations finished on 220000/249511 queries. users per second: 871.621"
            ],
            "text/html": [
              "<pre>recommendations finished on 220000/249511 queries. users per second: 871.621</pre>"
            ]
          },
          "metadata": {}
        },
        {
          "output_type": "display_data",
          "data": {
            "text/plain": [
              "recommendations finished on 221000/249511 queries. users per second: 871.79"
            ],
            "text/html": [
              "<pre>recommendations finished on 221000/249511 queries. users per second: 871.79</pre>"
            ]
          },
          "metadata": {}
        },
        {
          "output_type": "display_data",
          "data": {
            "text/plain": [
              "recommendations finished on 222000/249511 queries. users per second: 871.906"
            ],
            "text/html": [
              "<pre>recommendations finished on 222000/249511 queries. users per second: 871.906</pre>"
            ]
          },
          "metadata": {}
        },
        {
          "output_type": "display_data",
          "data": {
            "text/plain": [
              "recommendations finished on 223000/249511 queries. users per second: 872.11"
            ],
            "text/html": [
              "<pre>recommendations finished on 223000/249511 queries. users per second: 872.11</pre>"
            ]
          },
          "metadata": {}
        },
        {
          "output_type": "display_data",
          "data": {
            "text/plain": [
              "recommendations finished on 224000/249511 queries. users per second: 872.243"
            ],
            "text/html": [
              "<pre>recommendations finished on 224000/249511 queries. users per second: 872.243</pre>"
            ]
          },
          "metadata": {}
        },
        {
          "output_type": "display_data",
          "data": {
            "text/plain": [
              "recommendations finished on 225000/249511 queries. users per second: 872.321"
            ],
            "text/html": [
              "<pre>recommendations finished on 225000/249511 queries. users per second: 872.321</pre>"
            ]
          },
          "metadata": {}
        },
        {
          "output_type": "display_data",
          "data": {
            "text/plain": [
              "recommendations finished on 226000/249511 queries. users per second: 872.596"
            ],
            "text/html": [
              "<pre>recommendations finished on 226000/249511 queries. users per second: 872.596</pre>"
            ]
          },
          "metadata": {}
        },
        {
          "output_type": "display_data",
          "data": {
            "text/plain": [
              "recommendations finished on 227000/249511 queries. users per second: 872.881"
            ],
            "text/html": [
              "<pre>recommendations finished on 227000/249511 queries. users per second: 872.881</pre>"
            ]
          },
          "metadata": {}
        },
        {
          "output_type": "display_data",
          "data": {
            "text/plain": [
              "recommendations finished on 228000/249511 queries. users per second: 872.828"
            ],
            "text/html": [
              "<pre>recommendations finished on 228000/249511 queries. users per second: 872.828</pre>"
            ]
          },
          "metadata": {}
        },
        {
          "output_type": "display_data",
          "data": {
            "text/plain": [
              "recommendations finished on 229000/249511 queries. users per second: 873.07"
            ],
            "text/html": [
              "<pre>recommendations finished on 229000/249511 queries. users per second: 873.07</pre>"
            ]
          },
          "metadata": {}
        },
        {
          "output_type": "display_data",
          "data": {
            "text/plain": [
              "recommendations finished on 230000/249511 queries. users per second: 873.099"
            ],
            "text/html": [
              "<pre>recommendations finished on 230000/249511 queries. users per second: 873.099</pre>"
            ]
          },
          "metadata": {}
        },
        {
          "output_type": "display_data",
          "data": {
            "text/plain": [
              "recommendations finished on 231000/249511 queries. users per second: 873.11"
            ],
            "text/html": [
              "<pre>recommendations finished on 231000/249511 queries. users per second: 873.11</pre>"
            ]
          },
          "metadata": {}
        },
        {
          "output_type": "display_data",
          "data": {
            "text/plain": [
              "recommendations finished on 232000/249511 queries. users per second: 872.949"
            ],
            "text/html": [
              "<pre>recommendations finished on 232000/249511 queries. users per second: 872.949</pre>"
            ]
          },
          "metadata": {}
        },
        {
          "output_type": "display_data",
          "data": {
            "text/plain": [
              "recommendations finished on 233000/249511 queries. users per second: 872.835"
            ],
            "text/html": [
              "<pre>recommendations finished on 233000/249511 queries. users per second: 872.835</pre>"
            ]
          },
          "metadata": {}
        },
        {
          "output_type": "display_data",
          "data": {
            "text/plain": [
              "recommendations finished on 234000/249511 queries. users per second: 872.609"
            ],
            "text/html": [
              "<pre>recommendations finished on 234000/249511 queries. users per second: 872.609</pre>"
            ]
          },
          "metadata": {}
        },
        {
          "output_type": "display_data",
          "data": {
            "text/plain": [
              "recommendations finished on 235000/249511 queries. users per second: 872.555"
            ],
            "text/html": [
              "<pre>recommendations finished on 235000/249511 queries. users per second: 872.555</pre>"
            ]
          },
          "metadata": {}
        },
        {
          "output_type": "display_data",
          "data": {
            "text/plain": [
              "recommendations finished on 236000/249511 queries. users per second: 872.332"
            ],
            "text/html": [
              "<pre>recommendations finished on 236000/249511 queries. users per second: 872.332</pre>"
            ]
          },
          "metadata": {}
        },
        {
          "output_type": "display_data",
          "data": {
            "text/plain": [
              "recommendations finished on 237000/249511 queries. users per second: 872.314"
            ],
            "text/html": [
              "<pre>recommendations finished on 237000/249511 queries. users per second: 872.314</pre>"
            ]
          },
          "metadata": {}
        },
        {
          "output_type": "display_data",
          "data": {
            "text/plain": [
              "recommendations finished on 238000/249511 queries. users per second: 872.369"
            ],
            "text/html": [
              "<pre>recommendations finished on 238000/249511 queries. users per second: 872.369</pre>"
            ]
          },
          "metadata": {}
        },
        {
          "output_type": "display_data",
          "data": {
            "text/plain": [
              "recommendations finished on 239000/249511 queries. users per second: 872.445"
            ],
            "text/html": [
              "<pre>recommendations finished on 239000/249511 queries. users per second: 872.445</pre>"
            ]
          },
          "metadata": {}
        },
        {
          "output_type": "display_data",
          "data": {
            "text/plain": [
              "recommendations finished on 240000/249511 queries. users per second: 872.588"
            ],
            "text/html": [
              "<pre>recommendations finished on 240000/249511 queries. users per second: 872.588</pre>"
            ]
          },
          "metadata": {}
        },
        {
          "output_type": "display_data",
          "data": {
            "text/plain": [
              "recommendations finished on 241000/249511 queries. users per second: 872.73"
            ],
            "text/html": [
              "<pre>recommendations finished on 241000/249511 queries. users per second: 872.73</pre>"
            ]
          },
          "metadata": {}
        },
        {
          "output_type": "display_data",
          "data": {
            "text/plain": [
              "recommendations finished on 242000/249511 queries. users per second: 872.731"
            ],
            "text/html": [
              "<pre>recommendations finished on 242000/249511 queries. users per second: 872.731</pre>"
            ]
          },
          "metadata": {}
        },
        {
          "output_type": "display_data",
          "data": {
            "text/plain": [
              "recommendations finished on 243000/249511 queries. users per second: 872.623"
            ],
            "text/html": [
              "<pre>recommendations finished on 243000/249511 queries. users per second: 872.623</pre>"
            ]
          },
          "metadata": {}
        },
        {
          "output_type": "display_data",
          "data": {
            "text/plain": [
              "recommendations finished on 244000/249511 queries. users per second: 872.42"
            ],
            "text/html": [
              "<pre>recommendations finished on 244000/249511 queries. users per second: 872.42</pre>"
            ]
          },
          "metadata": {}
        },
        {
          "output_type": "display_data",
          "data": {
            "text/plain": [
              "recommendations finished on 245000/249511 queries. users per second: 872.366"
            ],
            "text/html": [
              "<pre>recommendations finished on 245000/249511 queries. users per second: 872.366</pre>"
            ]
          },
          "metadata": {}
        },
        {
          "output_type": "display_data",
          "data": {
            "text/plain": [
              "recommendations finished on 246000/249511 queries. users per second: 872.367"
            ],
            "text/html": [
              "<pre>recommendations finished on 246000/249511 queries. users per second: 872.367</pre>"
            ]
          },
          "metadata": {}
        },
        {
          "output_type": "display_data",
          "data": {
            "text/plain": [
              "recommendations finished on 247000/249511 queries. users per second: 872.386"
            ],
            "text/html": [
              "<pre>recommendations finished on 247000/249511 queries. users per second: 872.386</pre>"
            ]
          },
          "metadata": {}
        },
        {
          "output_type": "display_data",
          "data": {
            "text/plain": [
              "recommendations finished on 248000/249511 queries. users per second: 872.471"
            ],
            "text/html": [
              "<pre>recommendations finished on 248000/249511 queries. users per second: 872.471</pre>"
            ]
          },
          "metadata": {}
        },
        {
          "output_type": "display_data",
          "data": {
            "text/plain": [
              "recommendations finished on 249000/249511 queries. users per second: 872.692"
            ],
            "text/html": [
              "<pre>recommendations finished on 249000/249511 queries. users per second: 872.692</pre>"
            ]
          },
          "metadata": {}
        }
      ],
      "source": [
        "recommendation_als = mf_als.recommend(users=None, k=12)"
      ]
    },
    {
      "cell_type": "code",
      "execution_count": null,
      "metadata": {
        "colab": {
          "base_uri": "https://localhost:8080/"
        },
        "id": "BB9ceIHRprOJ",
        "outputId": "7253d48e-7276-459e-a516-77b237110b4b"
      },
      "outputs": [
        {
          "output_type": "stream",
          "name": "stdout",
          "text": [
            "+-------------+------------+----------------------+------+\n",
            "| customer_id | article_id |        score         | rank |\n",
            "+-------------+------------+----------------------+------+\n",
            "|      0      |    304     | 0.053468815982341766 |  1   |\n",
            "|      0      |     58     | 0.03685280680656433  |  2   |\n",
            "|      0      |    254     | 0.03209333494305611  |  3   |\n",
            "|      0      |    5470    | 0.02973403036594391  |  4   |\n",
            "|      0      |    360     | 0.029155481606721878 |  5   |\n",
            "|      0      |    109     | 0.02635830268263817  |  6   |\n",
            "|      0      |    479     | 0.025852560997009277 |  7   |\n",
            "|      0      |    122     | 0.023259928449988365 |  8   |\n",
            "|      0      |    1698    | 0.023181816563010216 |  9   |\n",
            "|      0      |    195     | 0.022834401577711105 |  10  |\n",
            "|      0      |     96     | 0.02091541513800621  |  11  |\n",
            "|      0      |    648     | 0.016916681081056595 |  12  |\n",
            "|      1      |    254     | 0.011271383613348007 |  1   |\n",
            "|      1      |    304     | 0.009975682944059372 |  2   |\n",
            "|      1      |     58     | 0.007503158412873745 |  3   |\n",
            "|      1      |    1698    | 0.007017009891569614 |  4   |\n",
            "|      1      |    5470    | 0.006973770447075367 |  5   |\n",
            "|      1      |    195     | 0.006086220033466816 |  6   |\n",
            "|      1      |    360     | 0.006019119173288345 |  7   |\n",
            "|      1      |    109     | 0.005831926595419645 |  8   |\n",
            "+-------------+------------+----------------------+------+\n",
            "[2994132 rows x 4 columns]\n",
            "\n"
          ]
        }
      ],
      "source": [
        "# print the n first recommendations\n",
        "recommendation_als.print_rows(20)"
      ]
    },
    {
      "cell_type": "code",
      "execution_count": null,
      "metadata": {
        "colab": {
          "base_uri": "https://localhost:8080/",
          "height": 1000
        },
        "id": "S6mguVhcpsF3",
        "outputId": "b60ae6eb-a3d7-4468-c849-3e64e680ce8f"
      },
      "outputs": [
        {
          "output_type": "display_data",
          "data": {
            "text/plain": [
              "recommendations finished on 1000/68984 queries. users per second: 575.262"
            ],
            "text/html": [
              "<pre>recommendations finished on 1000/68984 queries. users per second: 575.262</pre>"
            ]
          },
          "metadata": {}
        },
        {
          "output_type": "display_data",
          "data": {
            "text/plain": [
              "recommendations finished on 2000/68984 queries. users per second: 561.783"
            ],
            "text/html": [
              "<pre>recommendations finished on 2000/68984 queries. users per second: 561.783</pre>"
            ]
          },
          "metadata": {}
        },
        {
          "output_type": "display_data",
          "data": {
            "text/plain": [
              "recommendations finished on 3000/68984 queries. users per second: 564.354"
            ],
            "text/html": [
              "<pre>recommendations finished on 3000/68984 queries. users per second: 564.354</pre>"
            ]
          },
          "metadata": {}
        },
        {
          "output_type": "display_data",
          "data": {
            "text/plain": [
              "recommendations finished on 4000/68984 queries. users per second: 569.102"
            ],
            "text/html": [
              "<pre>recommendations finished on 4000/68984 queries. users per second: 569.102</pre>"
            ]
          },
          "metadata": {}
        },
        {
          "output_type": "display_data",
          "data": {
            "text/plain": [
              "recommendations finished on 5000/68984 queries. users per second: 569.497"
            ],
            "text/html": [
              "<pre>recommendations finished on 5000/68984 queries. users per second: 569.497</pre>"
            ]
          },
          "metadata": {}
        },
        {
          "output_type": "display_data",
          "data": {
            "text/plain": [
              "recommendations finished on 6000/68984 queries. users per second: 570.149"
            ],
            "text/html": [
              "<pre>recommendations finished on 6000/68984 queries. users per second: 570.149</pre>"
            ]
          },
          "metadata": {}
        },
        {
          "output_type": "display_data",
          "data": {
            "text/plain": [
              "recommendations finished on 7000/68984 queries. users per second: 571.006"
            ],
            "text/html": [
              "<pre>recommendations finished on 7000/68984 queries. users per second: 571.006</pre>"
            ]
          },
          "metadata": {}
        },
        {
          "output_type": "display_data",
          "data": {
            "text/plain": [
              "recommendations finished on 8000/68984 queries. users per second: 568.971"
            ],
            "text/html": [
              "<pre>recommendations finished on 8000/68984 queries. users per second: 568.971</pre>"
            ]
          },
          "metadata": {}
        },
        {
          "output_type": "display_data",
          "data": {
            "text/plain": [
              "recommendations finished on 9000/68984 queries. users per second: 568.096"
            ],
            "text/html": [
              "<pre>recommendations finished on 9000/68984 queries. users per second: 568.096</pre>"
            ]
          },
          "metadata": {}
        },
        {
          "output_type": "display_data",
          "data": {
            "text/plain": [
              "recommendations finished on 10000/68984 queries. users per second: 569.713"
            ],
            "text/html": [
              "<pre>recommendations finished on 10000/68984 queries. users per second: 569.713</pre>"
            ]
          },
          "metadata": {}
        },
        {
          "output_type": "display_data",
          "data": {
            "text/plain": [
              "recommendations finished on 11000/68984 queries. users per second: 571.441"
            ],
            "text/html": [
              "<pre>recommendations finished on 11000/68984 queries. users per second: 571.441</pre>"
            ]
          },
          "metadata": {}
        },
        {
          "output_type": "display_data",
          "data": {
            "text/plain": [
              "recommendations finished on 12000/68984 queries. users per second: 572.234"
            ],
            "text/html": [
              "<pre>recommendations finished on 12000/68984 queries. users per second: 572.234</pre>"
            ]
          },
          "metadata": {}
        },
        {
          "output_type": "display_data",
          "data": {
            "text/plain": [
              "recommendations finished on 13000/68984 queries. users per second: 572.59"
            ],
            "text/html": [
              "<pre>recommendations finished on 13000/68984 queries. users per second: 572.59</pre>"
            ]
          },
          "metadata": {}
        },
        {
          "output_type": "display_data",
          "data": {
            "text/plain": [
              "recommendations finished on 14000/68984 queries. users per second: 572.838"
            ],
            "text/html": [
              "<pre>recommendations finished on 14000/68984 queries. users per second: 572.838</pre>"
            ]
          },
          "metadata": {}
        },
        {
          "output_type": "display_data",
          "data": {
            "text/plain": [
              "recommendations finished on 15000/68984 queries. users per second: 573.261"
            ],
            "text/html": [
              "<pre>recommendations finished on 15000/68984 queries. users per second: 573.261</pre>"
            ]
          },
          "metadata": {}
        },
        {
          "output_type": "display_data",
          "data": {
            "text/plain": [
              "recommendations finished on 16000/68984 queries. users per second: 574.281"
            ],
            "text/html": [
              "<pre>recommendations finished on 16000/68984 queries. users per second: 574.281</pre>"
            ]
          },
          "metadata": {}
        },
        {
          "output_type": "display_data",
          "data": {
            "text/plain": [
              "recommendations finished on 17000/68984 queries. users per second: 575.489"
            ],
            "text/html": [
              "<pre>recommendations finished on 17000/68984 queries. users per second: 575.489</pre>"
            ]
          },
          "metadata": {}
        },
        {
          "output_type": "display_data",
          "data": {
            "text/plain": [
              "recommendations finished on 18000/68984 queries. users per second: 576.49"
            ],
            "text/html": [
              "<pre>recommendations finished on 18000/68984 queries. users per second: 576.49</pre>"
            ]
          },
          "metadata": {}
        },
        {
          "output_type": "display_data",
          "data": {
            "text/plain": [
              "recommendations finished on 19000/68984 queries. users per second: 574.519"
            ],
            "text/html": [
              "<pre>recommendations finished on 19000/68984 queries. users per second: 574.519</pre>"
            ]
          },
          "metadata": {}
        },
        {
          "output_type": "display_data",
          "data": {
            "text/plain": [
              "recommendations finished on 20000/68984 queries. users per second: 573.953"
            ],
            "text/html": [
              "<pre>recommendations finished on 20000/68984 queries. users per second: 573.953</pre>"
            ]
          },
          "metadata": {}
        },
        {
          "output_type": "display_data",
          "data": {
            "text/plain": [
              "recommendations finished on 21000/68984 queries. users per second: 574.302"
            ],
            "text/html": [
              "<pre>recommendations finished on 21000/68984 queries. users per second: 574.302</pre>"
            ]
          },
          "metadata": {}
        },
        {
          "output_type": "display_data",
          "data": {
            "text/plain": [
              "recommendations finished on 22000/68984 queries. users per second: 574.874"
            ],
            "text/html": [
              "<pre>recommendations finished on 22000/68984 queries. users per second: 574.874</pre>"
            ]
          },
          "metadata": {}
        },
        {
          "output_type": "display_data",
          "data": {
            "text/plain": [
              "recommendations finished on 23000/68984 queries. users per second: 575.39"
            ],
            "text/html": [
              "<pre>recommendations finished on 23000/68984 queries. users per second: 575.39</pre>"
            ]
          },
          "metadata": {}
        },
        {
          "output_type": "display_data",
          "data": {
            "text/plain": [
              "recommendations finished on 24000/68984 queries. users per second: 575.813"
            ],
            "text/html": [
              "<pre>recommendations finished on 24000/68984 queries. users per second: 575.813</pre>"
            ]
          },
          "metadata": {}
        },
        {
          "output_type": "display_data",
          "data": {
            "text/plain": [
              "recommendations finished on 25000/68984 queries. users per second: 576.499"
            ],
            "text/html": [
              "<pre>recommendations finished on 25000/68984 queries. users per second: 576.499</pre>"
            ]
          },
          "metadata": {}
        },
        {
          "output_type": "display_data",
          "data": {
            "text/plain": [
              "recommendations finished on 26000/68984 queries. users per second: 576.988"
            ],
            "text/html": [
              "<pre>recommendations finished on 26000/68984 queries. users per second: 576.988</pre>"
            ]
          },
          "metadata": {}
        },
        {
          "output_type": "display_data",
          "data": {
            "text/plain": [
              "recommendations finished on 27000/68984 queries. users per second: 577.176"
            ],
            "text/html": [
              "<pre>recommendations finished on 27000/68984 queries. users per second: 577.176</pre>"
            ]
          },
          "metadata": {}
        },
        {
          "output_type": "display_data",
          "data": {
            "text/plain": [
              "recommendations finished on 28000/68984 queries. users per second: 577.416"
            ],
            "text/html": [
              "<pre>recommendations finished on 28000/68984 queries. users per second: 577.416</pre>"
            ]
          },
          "metadata": {}
        },
        {
          "output_type": "display_data",
          "data": {
            "text/plain": [
              "recommendations finished on 29000/68984 queries. users per second: 576.558"
            ],
            "text/html": [
              "<pre>recommendations finished on 29000/68984 queries. users per second: 576.558</pre>"
            ]
          },
          "metadata": {}
        },
        {
          "output_type": "display_data",
          "data": {
            "text/plain": [
              "recommendations finished on 30000/68984 queries. users per second: 576.659"
            ],
            "text/html": [
              "<pre>recommendations finished on 30000/68984 queries. users per second: 576.659</pre>"
            ]
          },
          "metadata": {}
        },
        {
          "output_type": "display_data",
          "data": {
            "text/plain": [
              "recommendations finished on 31000/68984 queries. users per second: 576.791"
            ],
            "text/html": [
              "<pre>recommendations finished on 31000/68984 queries. users per second: 576.791</pre>"
            ]
          },
          "metadata": {}
        },
        {
          "output_type": "display_data",
          "data": {
            "text/plain": [
              "recommendations finished on 32000/68984 queries. users per second: 576.848"
            ],
            "text/html": [
              "<pre>recommendations finished on 32000/68984 queries. users per second: 576.848</pre>"
            ]
          },
          "metadata": {}
        },
        {
          "output_type": "display_data",
          "data": {
            "text/plain": [
              "recommendations finished on 33000/68984 queries. users per second: 576.883"
            ],
            "text/html": [
              "<pre>recommendations finished on 33000/68984 queries. users per second: 576.883</pre>"
            ]
          },
          "metadata": {}
        },
        {
          "output_type": "display_data",
          "data": {
            "text/plain": [
              "recommendations finished on 34000/68984 queries. users per second: 577.082"
            ],
            "text/html": [
              "<pre>recommendations finished on 34000/68984 queries. users per second: 577.082</pre>"
            ]
          },
          "metadata": {}
        },
        {
          "output_type": "display_data",
          "data": {
            "text/plain": [
              "recommendations finished on 35000/68984 queries. users per second: 577.339"
            ],
            "text/html": [
              "<pre>recommendations finished on 35000/68984 queries. users per second: 577.339</pre>"
            ]
          },
          "metadata": {}
        },
        {
          "output_type": "display_data",
          "data": {
            "text/plain": [
              "recommendations finished on 36000/68984 queries. users per second: 577.426"
            ],
            "text/html": [
              "<pre>recommendations finished on 36000/68984 queries. users per second: 577.426</pre>"
            ]
          },
          "metadata": {}
        },
        {
          "output_type": "display_data",
          "data": {
            "text/plain": [
              "recommendations finished on 37000/68984 queries. users per second: 577.238"
            ],
            "text/html": [
              "<pre>recommendations finished on 37000/68984 queries. users per second: 577.238</pre>"
            ]
          },
          "metadata": {}
        },
        {
          "output_type": "display_data",
          "data": {
            "text/plain": [
              "recommendations finished on 38000/68984 queries. users per second: 577.355"
            ],
            "text/html": [
              "<pre>recommendations finished on 38000/68984 queries. users per second: 577.355</pre>"
            ]
          },
          "metadata": {}
        },
        {
          "output_type": "display_data",
          "data": {
            "text/plain": [
              "recommendations finished on 39000/68984 queries. users per second: 577.283"
            ],
            "text/html": [
              "<pre>recommendations finished on 39000/68984 queries. users per second: 577.283</pre>"
            ]
          },
          "metadata": {}
        },
        {
          "output_type": "display_data",
          "data": {
            "text/plain": [
              "recommendations finished on 40000/68984 queries. users per second: 577.268"
            ],
            "text/html": [
              "<pre>recommendations finished on 40000/68984 queries. users per second: 577.268</pre>"
            ]
          },
          "metadata": {}
        },
        {
          "output_type": "display_data",
          "data": {
            "text/plain": [
              "recommendations finished on 41000/68984 queries. users per second: 577.361"
            ],
            "text/html": [
              "<pre>recommendations finished on 41000/68984 queries. users per second: 577.361</pre>"
            ]
          },
          "metadata": {}
        },
        {
          "output_type": "display_data",
          "data": {
            "text/plain": [
              "recommendations finished on 42000/68984 queries. users per second: 577.547"
            ],
            "text/html": [
              "<pre>recommendations finished on 42000/68984 queries. users per second: 577.547</pre>"
            ]
          },
          "metadata": {}
        },
        {
          "output_type": "display_data",
          "data": {
            "text/plain": [
              "recommendations finished on 43000/68984 queries. users per second: 577.751"
            ],
            "text/html": [
              "<pre>recommendations finished on 43000/68984 queries. users per second: 577.751</pre>"
            ]
          },
          "metadata": {}
        },
        {
          "output_type": "display_data",
          "data": {
            "text/plain": [
              "recommendations finished on 44000/68984 queries. users per second: 578.15"
            ],
            "text/html": [
              "<pre>recommendations finished on 44000/68984 queries. users per second: 578.15</pre>"
            ]
          },
          "metadata": {}
        },
        {
          "output_type": "display_data",
          "data": {
            "text/plain": [
              "recommendations finished on 45000/68984 queries. users per second: 578.104"
            ],
            "text/html": [
              "<pre>recommendations finished on 45000/68984 queries. users per second: 578.104</pre>"
            ]
          },
          "metadata": {}
        },
        {
          "output_type": "display_data",
          "data": {
            "text/plain": [
              "recommendations finished on 46000/68984 queries. users per second: 578.24"
            ],
            "text/html": [
              "<pre>recommendations finished on 46000/68984 queries. users per second: 578.24</pre>"
            ]
          },
          "metadata": {}
        },
        {
          "output_type": "display_data",
          "data": {
            "text/plain": [
              "recommendations finished on 47000/68984 queries. users per second: 578.509"
            ],
            "text/html": [
              "<pre>recommendations finished on 47000/68984 queries. users per second: 578.509</pre>"
            ]
          },
          "metadata": {}
        },
        {
          "output_type": "display_data",
          "data": {
            "text/plain": [
              "recommendations finished on 48000/68984 queries. users per second: 578.203"
            ],
            "text/html": [
              "<pre>recommendations finished on 48000/68984 queries. users per second: 578.203</pre>"
            ]
          },
          "metadata": {}
        },
        {
          "output_type": "display_data",
          "data": {
            "text/plain": [
              "recommendations finished on 49000/68984 queries. users per second: 577.927"
            ],
            "text/html": [
              "<pre>recommendations finished on 49000/68984 queries. users per second: 577.927</pre>"
            ]
          },
          "metadata": {}
        },
        {
          "output_type": "display_data",
          "data": {
            "text/plain": [
              "recommendations finished on 50000/68984 queries. users per second: 578.171"
            ],
            "text/html": [
              "<pre>recommendations finished on 50000/68984 queries. users per second: 578.171</pre>"
            ]
          },
          "metadata": {}
        },
        {
          "output_type": "display_data",
          "data": {
            "text/plain": [
              "recommendations finished on 51000/68984 queries. users per second: 577.867"
            ],
            "text/html": [
              "<pre>recommendations finished on 51000/68984 queries. users per second: 577.867</pre>"
            ]
          },
          "metadata": {}
        },
        {
          "output_type": "display_data",
          "data": {
            "text/plain": [
              "recommendations finished on 52000/68984 queries. users per second: 577.808"
            ],
            "text/html": [
              "<pre>recommendations finished on 52000/68984 queries. users per second: 577.808</pre>"
            ]
          },
          "metadata": {}
        },
        {
          "output_type": "display_data",
          "data": {
            "text/plain": [
              "recommendations finished on 53000/68984 queries. users per second: 577.767"
            ],
            "text/html": [
              "<pre>recommendations finished on 53000/68984 queries. users per second: 577.767</pre>"
            ]
          },
          "metadata": {}
        },
        {
          "output_type": "display_data",
          "data": {
            "text/plain": [
              "recommendations finished on 54000/68984 queries. users per second: 577.279"
            ],
            "text/html": [
              "<pre>recommendations finished on 54000/68984 queries. users per second: 577.279</pre>"
            ]
          },
          "metadata": {}
        },
        {
          "output_type": "display_data",
          "data": {
            "text/plain": [
              "recommendations finished on 55000/68984 queries. users per second: 577.23"
            ],
            "text/html": [
              "<pre>recommendations finished on 55000/68984 queries. users per second: 577.23</pre>"
            ]
          },
          "metadata": {}
        },
        {
          "output_type": "display_data",
          "data": {
            "text/plain": [
              "recommendations finished on 56000/68984 queries. users per second: 577.278"
            ],
            "text/html": [
              "<pre>recommendations finished on 56000/68984 queries. users per second: 577.278</pre>"
            ]
          },
          "metadata": {}
        },
        {
          "output_type": "display_data",
          "data": {
            "text/plain": [
              "recommendations finished on 57000/68984 queries. users per second: 575.724"
            ],
            "text/html": [
              "<pre>recommendations finished on 57000/68984 queries. users per second: 575.724</pre>"
            ]
          },
          "metadata": {}
        },
        {
          "output_type": "display_data",
          "data": {
            "text/plain": [
              "recommendations finished on 58000/68984 queries. users per second: 567.299"
            ],
            "text/html": [
              "<pre>recommendations finished on 58000/68984 queries. users per second: 567.299</pre>"
            ]
          },
          "metadata": {}
        },
        {
          "output_type": "display_data",
          "data": {
            "text/plain": [
              "recommendations finished on 59000/68984 queries. users per second: 563.474"
            ],
            "text/html": [
              "<pre>recommendations finished on 59000/68984 queries. users per second: 563.474</pre>"
            ]
          },
          "metadata": {}
        },
        {
          "output_type": "display_data",
          "data": {
            "text/plain": [
              "recommendations finished on 60000/68984 queries. users per second: 563.822"
            ],
            "text/html": [
              "<pre>recommendations finished on 60000/68984 queries. users per second: 563.822</pre>"
            ]
          },
          "metadata": {}
        },
        {
          "output_type": "display_data",
          "data": {
            "text/plain": [
              "recommendations finished on 61000/68984 queries. users per second: 564.032"
            ],
            "text/html": [
              "<pre>recommendations finished on 61000/68984 queries. users per second: 564.032</pre>"
            ]
          },
          "metadata": {}
        },
        {
          "output_type": "display_data",
          "data": {
            "text/plain": [
              "recommendations finished on 62000/68984 queries. users per second: 564.538"
            ],
            "text/html": [
              "<pre>recommendations finished on 62000/68984 queries. users per second: 564.538</pre>"
            ]
          },
          "metadata": {}
        },
        {
          "output_type": "display_data",
          "data": {
            "text/plain": [
              "recommendations finished on 63000/68984 queries. users per second: 564.702"
            ],
            "text/html": [
              "<pre>recommendations finished on 63000/68984 queries. users per second: 564.702</pre>"
            ]
          },
          "metadata": {}
        },
        {
          "output_type": "display_data",
          "data": {
            "text/plain": [
              "recommendations finished on 64000/68984 queries. users per second: 565.009"
            ],
            "text/html": [
              "<pre>recommendations finished on 64000/68984 queries. users per second: 565.009</pre>"
            ]
          },
          "metadata": {}
        },
        {
          "output_type": "display_data",
          "data": {
            "text/plain": [
              "recommendations finished on 65000/68984 queries. users per second: 565.256"
            ],
            "text/html": [
              "<pre>recommendations finished on 65000/68984 queries. users per second: 565.256</pre>"
            ]
          },
          "metadata": {}
        },
        {
          "output_type": "display_data",
          "data": {
            "text/plain": [
              "recommendations finished on 66000/68984 queries. users per second: 565.523"
            ],
            "text/html": [
              "<pre>recommendations finished on 66000/68984 queries. users per second: 565.523</pre>"
            ]
          },
          "metadata": {}
        },
        {
          "output_type": "display_data",
          "data": {
            "text/plain": [
              "recommendations finished on 67000/68984 queries. users per second: 565.859"
            ],
            "text/html": [
              "<pre>recommendations finished on 67000/68984 queries. users per second: 565.859</pre>"
            ]
          },
          "metadata": {}
        },
        {
          "output_type": "display_data",
          "data": {
            "text/plain": [
              "recommendations finished on 68000/68984 queries. users per second: 566.134"
            ],
            "text/html": [
              "<pre>recommendations finished on 68000/68984 queries. users per second: 566.134</pre>"
            ]
          },
          "metadata": {}
        }
      ],
      "source": [
        "mfa_eval = mf_als.evaluate_precision_recall(dfS_val)"
      ]
    },
    {
      "cell_type": "code",
      "execution_count": null,
      "metadata": {
        "colab": {
          "base_uri": "https://localhost:8080/"
        },
        "id": "gYOb6Qllp-2A",
        "outputId": "fb3f9c7f-63a6-4dcc-dfad-cd1543be1984"
      },
      "outputs": [
        {
          "output_type": "execute_result",
          "data": {
            "text/plain": [
              "{'precision_recall_by_user': Columns:\n",
              " \tcustomer_id\tint\n",
              " \tcutoff\tint\n",
              " \tprecision\tfloat\n",
              " \trecall\tfloat\n",
              " \tcount\tint\n",
              " \n",
              " Rows: 1241712\n",
              " \n",
              " Data:\n",
              " +-------------+--------+-----------+--------+-------+\n",
              " | customer_id | cutoff | precision | recall | count |\n",
              " +-------------+--------+-----------+--------+-------+\n",
              " |      0      |   1    |    0.0    |  0.0   |   9   |\n",
              " |      0      |   2    |    0.0    |  0.0   |   9   |\n",
              " |      0      |   3    |    0.0    |  0.0   |   9   |\n",
              " |      0      |   4    |    0.0    |  0.0   |   9   |\n",
              " |      0      |   5    |    0.0    |  0.0   |   9   |\n",
              " |      0      |   6    |    0.0    |  0.0   |   9   |\n",
              " |      0      |   7    |    0.0    |  0.0   |   9   |\n",
              " |      0      |   8    |    0.0    |  0.0   |   9   |\n",
              " |      0      |   9    |    0.0    |  0.0   |   9   |\n",
              " |      0      |   10   |    0.0    |  0.0   |   9   |\n",
              " +-------------+--------+-----------+--------+-------+\n",
              " [1241712 rows x 5 columns]\n",
              " Note: Only the head of the SFrame is printed.\n",
              " You can use print_rows(num_rows=m, num_columns=n) to print more rows and columns.,\n",
              " 'precision_recall_overall': Columns:\n",
              " \tcutoff\tint\n",
              " \tprecision\tfloat\n",
              " \trecall\tfloat\n",
              " \n",
              " Rows: 18\n",
              " \n",
              " Data:\n",
              " +--------+-----------------------+-----------------------+\n",
              " | cutoff |       precision       |         recall        |\n",
              " +--------+-----------------------+-----------------------+\n",
              " |   1    |  0.007291545865707991 | 0.0030332872929363618 |\n",
              " |   2    |  0.006400034790676092 |  0.005183662634591923 |\n",
              " |   3    |  0.005885422706714567 |  0.006933902172726976 |\n",
              " |   4    |  0.005269337817464922 |  0.008189797503026177 |\n",
              " |   5    |  0.004815609416676235 |  0.009168395390952157 |\n",
              " |   6    |  0.004510707796977087 |  0.010230236347493976 |\n",
              " |   7    |  0.004220440350557456 |  0.011042744761047267 |\n",
              " |   8    |  0.003995491708222193 |  0.011874690811251256 |\n",
              " |   9    | 0.0037947607818883027 |  0.012611845546749417 |\n",
              " |   10   | 0.0036283775948045046 |  0.013273757563837696 |\n",
              " +--------+-----------------------+-----------------------+\n",
              " [18 rows x 3 columns]\n",
              " Note: Only the head of the SFrame is printed.\n",
              " You can use print_rows(num_rows=m, num_columns=n) to print more rows and columns.}"
            ]
          },
          "metadata": {},
          "execution_count": 19
        }
      ],
      "source": [
        "mfa_eval"
      ]
    },
    {
      "cell_type": "markdown",
      "metadata": {
        "id": "tv4aoCFvJ41R"
      },
      "source": [
        "# 5 Recommending to new customers"
      ]
    },
    {
      "cell_type": "markdown",
      "metadata": {
        "id": "TZ1eh3-BJ-tk"
      },
      "source": [
        "## 1 Popularity"
      ]
    },
    {
      "cell_type": "code",
      "execution_count": null,
      "metadata": {
        "colab": {
          "base_uri": "https://localhost:8080/",
          "height": 284
        },
        "id": "K9BEWjfco78x",
        "outputId": "389e8d8c-4685-42be-81dd-981b8986c86f"
      },
      "outputs": [
        {
          "output_type": "execute_result",
          "data": {
            "text/plain": [
              "Columns:\n",
              "\tcustomer_id\tint\n",
              "\tarticle_id\tint\n",
              "\tscore\tfloat\n",
              "\trank\tint\n",
              "\n",
              "Rows: 3432996\n",
              "\n",
              "Data:\n",
              "+-------------+------------+-----------------------+------+\n",
              "| customer_id | article_id |         score         | rank |\n",
              "+-------------+------------+-----------------------+------+\n",
              "|      0      |   25624    |  0.011904761904761904 |  1   |\n",
              "|      0      |    4345    |  0.010389608996255057 |  2   |\n",
              "|      0      |    380     |  0.00900240455354963  |  3   |\n",
              "|      0      |    1558    | 0.0072163428579057965 |  4   |\n",
              "|      0      |    5470    |  0.006177309013548351 |  5   |\n",
              "|      0      |    2593    | 0.0057019562948317755 |  6   |\n",
              "|      0      |    8115    |  0.005425226120721726 |  7   |\n",
              "|      0      |     47     |  0.005372862021128337 |  8   |\n",
              "|      0      |    2289    | 0.0049786510921659925 |  9   |\n",
              "|      0      |   24220    | 0.0049484968185424805 |  10  |\n",
              "+-------------+------------+-----------------------+------+\n",
              "[3432996 rows x 4 columns]\n",
              "Note: Only the head of the SFrame is printed.\n",
              "You can use print_rows(num_rows=m, num_columns=n) to print more rows and columns."
            ],
            "text/html": [
              "<div style=\"max-height:1000px;max-width:1500px;overflow:auto;\"><table frame=\"box\" rules=\"cols\">\n",
              "    <tr>\n",
              "        <th style=\"padding-left: 1em; padding-right: 1em; text-align: center\">customer_id</th>\n",
              "        <th style=\"padding-left: 1em; padding-right: 1em; text-align: center\">article_id</th>\n",
              "        <th style=\"padding-left: 1em; padding-right: 1em; text-align: center\">score</th>\n",
              "        <th style=\"padding-left: 1em; padding-right: 1em; text-align: center\">rank</th>\n",
              "    </tr>\n",
              "    <tr>\n",
              "        <td style=\"padding-left: 1em; padding-right: 1em; text-align: center; vertical-align: top\">0</td>\n",
              "        <td style=\"padding-left: 1em; padding-right: 1em; text-align: center; vertical-align: top\">25624</td>\n",
              "        <td style=\"padding-left: 1em; padding-right: 1em; text-align: center; vertical-align: top\">0.011904761904761904</td>\n",
              "        <td style=\"padding-left: 1em; padding-right: 1em; text-align: center; vertical-align: top\">1</td>\n",
              "    </tr>\n",
              "    <tr>\n",
              "        <td style=\"padding-left: 1em; padding-right: 1em; text-align: center; vertical-align: top\">0</td>\n",
              "        <td style=\"padding-left: 1em; padding-right: 1em; text-align: center; vertical-align: top\">4345</td>\n",
              "        <td style=\"padding-left: 1em; padding-right: 1em; text-align: center; vertical-align: top\">0.010389608996255057</td>\n",
              "        <td style=\"padding-left: 1em; padding-right: 1em; text-align: center; vertical-align: top\">2</td>\n",
              "    </tr>\n",
              "    <tr>\n",
              "        <td style=\"padding-left: 1em; padding-right: 1em; text-align: center; vertical-align: top\">0</td>\n",
              "        <td style=\"padding-left: 1em; padding-right: 1em; text-align: center; vertical-align: top\">380</td>\n",
              "        <td style=\"padding-left: 1em; padding-right: 1em; text-align: center; vertical-align: top\">0.00900240455354963</td>\n",
              "        <td style=\"padding-left: 1em; padding-right: 1em; text-align: center; vertical-align: top\">3</td>\n",
              "    </tr>\n",
              "    <tr>\n",
              "        <td style=\"padding-left: 1em; padding-right: 1em; text-align: center; vertical-align: top\">0</td>\n",
              "        <td style=\"padding-left: 1em; padding-right: 1em; text-align: center; vertical-align: top\">1558</td>\n",
              "        <td style=\"padding-left: 1em; padding-right: 1em; text-align: center; vertical-align: top\">0.0072163428579057965</td>\n",
              "        <td style=\"padding-left: 1em; padding-right: 1em; text-align: center; vertical-align: top\">4</td>\n",
              "    </tr>\n",
              "    <tr>\n",
              "        <td style=\"padding-left: 1em; padding-right: 1em; text-align: center; vertical-align: top\">0</td>\n",
              "        <td style=\"padding-left: 1em; padding-right: 1em; text-align: center; vertical-align: top\">5470</td>\n",
              "        <td style=\"padding-left: 1em; padding-right: 1em; text-align: center; vertical-align: top\">0.006177309013548351</td>\n",
              "        <td style=\"padding-left: 1em; padding-right: 1em; text-align: center; vertical-align: top\">5</td>\n",
              "    </tr>\n",
              "    <tr>\n",
              "        <td style=\"padding-left: 1em; padding-right: 1em; text-align: center; vertical-align: top\">0</td>\n",
              "        <td style=\"padding-left: 1em; padding-right: 1em; text-align: center; vertical-align: top\">2593</td>\n",
              "        <td style=\"padding-left: 1em; padding-right: 1em; text-align: center; vertical-align: top\">0.0057019562948317755</td>\n",
              "        <td style=\"padding-left: 1em; padding-right: 1em; text-align: center; vertical-align: top\">6</td>\n",
              "    </tr>\n",
              "    <tr>\n",
              "        <td style=\"padding-left: 1em; padding-right: 1em; text-align: center; vertical-align: top\">0</td>\n",
              "        <td style=\"padding-left: 1em; padding-right: 1em; text-align: center; vertical-align: top\">8115</td>\n",
              "        <td style=\"padding-left: 1em; padding-right: 1em; text-align: center; vertical-align: top\">0.005425226120721726</td>\n",
              "        <td style=\"padding-left: 1em; padding-right: 1em; text-align: center; vertical-align: top\">7</td>\n",
              "    </tr>\n",
              "    <tr>\n",
              "        <td style=\"padding-left: 1em; padding-right: 1em; text-align: center; vertical-align: top\">0</td>\n",
              "        <td style=\"padding-left: 1em; padding-right: 1em; text-align: center; vertical-align: top\">47</td>\n",
              "        <td style=\"padding-left: 1em; padding-right: 1em; text-align: center; vertical-align: top\">0.005372862021128337</td>\n",
              "        <td style=\"padding-left: 1em; padding-right: 1em; text-align: center; vertical-align: top\">8</td>\n",
              "    </tr>\n",
              "    <tr>\n",
              "        <td style=\"padding-left: 1em; padding-right: 1em; text-align: center; vertical-align: top\">0</td>\n",
              "        <td style=\"padding-left: 1em; padding-right: 1em; text-align: center; vertical-align: top\">2289</td>\n",
              "        <td style=\"padding-left: 1em; padding-right: 1em; text-align: center; vertical-align: top\">0.0049786510921659925</td>\n",
              "        <td style=\"padding-left: 1em; padding-right: 1em; text-align: center; vertical-align: top\">9</td>\n",
              "    </tr>\n",
              "    <tr>\n",
              "        <td style=\"padding-left: 1em; padding-right: 1em; text-align: center; vertical-align: top\">0</td>\n",
              "        <td style=\"padding-left: 1em; padding-right: 1em; text-align: center; vertical-align: top\">24220</td>\n",
              "        <td style=\"padding-left: 1em; padding-right: 1em; text-align: center; vertical-align: top\">0.0049484968185424805</td>\n",
              "        <td style=\"padding-left: 1em; padding-right: 1em; text-align: center; vertical-align: top\">10</td>\n",
              "    </tr>\n",
              "</table>\n",
              "[3432996 rows x 4 columns]<br/>Note: Only the head of the SFrame is printed.<br/>You can use print_rows(num_rows=m, num_columns=n) to print more rows and columns.\n",
              "</div>"
            ]
          },
          "metadata": {},
          "execution_count": 19
        }
      ],
      "source": [
        "recommendation_jac"
      ]
    },
    {
      "cell_type": "code",
      "execution_count": null,
      "metadata": {
        "colab": {
          "base_uri": "https://localhost:8080/",
          "height": 424
        },
        "id": "NJQITgFapBda",
        "outputId": "ff817c61-45b1-4a67-d9d1-c53d5f8d95d8"
      },
      "outputs": [
        {
          "output_type": "execute_result",
          "data": {
            "text/plain": [
              "         customer_id  article_id     score  rank\n",
              "0                  0       25624  0.011905     1\n",
              "1                  0        4345  0.010390     2\n",
              "2                  0         380  0.009002     3\n",
              "3                  0        1558  0.007216     4\n",
              "4                  0        5470  0.006177     5\n",
              "...              ...         ...       ...   ...\n",
              "3432991       286082        7253  0.013158     8\n",
              "3432992       286082       14771  0.012865     9\n",
              "3432993       286082        8158  0.012821    10\n",
              "3432994       286082       12983  0.012821    11\n",
              "3432995       286082       17808  0.012821    12\n",
              "\n",
              "[3432996 rows x 4 columns]"
            ],
            "text/html": [
              "\n",
              "  <div id=\"df-310c8026-f33b-4d02-8c1f-1d4a992ed637\">\n",
              "    <div class=\"colab-df-container\">\n",
              "      <div>\n",
              "<style scoped>\n",
              "    .dataframe tbody tr th:only-of-type {\n",
              "        vertical-align: middle;\n",
              "    }\n",
              "\n",
              "    .dataframe tbody tr th {\n",
              "        vertical-align: top;\n",
              "    }\n",
              "\n",
              "    .dataframe thead th {\n",
              "        text-align: right;\n",
              "    }\n",
              "</style>\n",
              "<table border=\"1\" class=\"dataframe\">\n",
              "  <thead>\n",
              "    <tr style=\"text-align: right;\">\n",
              "      <th></th>\n",
              "      <th>customer_id</th>\n",
              "      <th>article_id</th>\n",
              "      <th>score</th>\n",
              "      <th>rank</th>\n",
              "    </tr>\n",
              "  </thead>\n",
              "  <tbody>\n",
              "    <tr>\n",
              "      <th>0</th>\n",
              "      <td>0</td>\n",
              "      <td>25624</td>\n",
              "      <td>0.011905</td>\n",
              "      <td>1</td>\n",
              "    </tr>\n",
              "    <tr>\n",
              "      <th>1</th>\n",
              "      <td>0</td>\n",
              "      <td>4345</td>\n",
              "      <td>0.010390</td>\n",
              "      <td>2</td>\n",
              "    </tr>\n",
              "    <tr>\n",
              "      <th>2</th>\n",
              "      <td>0</td>\n",
              "      <td>380</td>\n",
              "      <td>0.009002</td>\n",
              "      <td>3</td>\n",
              "    </tr>\n",
              "    <tr>\n",
              "      <th>3</th>\n",
              "      <td>0</td>\n",
              "      <td>1558</td>\n",
              "      <td>0.007216</td>\n",
              "      <td>4</td>\n",
              "    </tr>\n",
              "    <tr>\n",
              "      <th>4</th>\n",
              "      <td>0</td>\n",
              "      <td>5470</td>\n",
              "      <td>0.006177</td>\n",
              "      <td>5</td>\n",
              "    </tr>\n",
              "    <tr>\n",
              "      <th>...</th>\n",
              "      <td>...</td>\n",
              "      <td>...</td>\n",
              "      <td>...</td>\n",
              "      <td>...</td>\n",
              "    </tr>\n",
              "    <tr>\n",
              "      <th>3432991</th>\n",
              "      <td>286082</td>\n",
              "      <td>7253</td>\n",
              "      <td>0.013158</td>\n",
              "      <td>8</td>\n",
              "    </tr>\n",
              "    <tr>\n",
              "      <th>3432992</th>\n",
              "      <td>286082</td>\n",
              "      <td>14771</td>\n",
              "      <td>0.012865</td>\n",
              "      <td>9</td>\n",
              "    </tr>\n",
              "    <tr>\n",
              "      <th>3432993</th>\n",
              "      <td>286082</td>\n",
              "      <td>8158</td>\n",
              "      <td>0.012821</td>\n",
              "      <td>10</td>\n",
              "    </tr>\n",
              "    <tr>\n",
              "      <th>3432994</th>\n",
              "      <td>286082</td>\n",
              "      <td>12983</td>\n",
              "      <td>0.012821</td>\n",
              "      <td>11</td>\n",
              "    </tr>\n",
              "    <tr>\n",
              "      <th>3432995</th>\n",
              "      <td>286082</td>\n",
              "      <td>17808</td>\n",
              "      <td>0.012821</td>\n",
              "      <td>12</td>\n",
              "    </tr>\n",
              "  </tbody>\n",
              "</table>\n",
              "<p>3432996 rows × 4 columns</p>\n",
              "</div>\n",
              "      <button class=\"colab-df-convert\" onclick=\"convertToInteractive('df-310c8026-f33b-4d02-8c1f-1d4a992ed637')\"\n",
              "              title=\"Convert this dataframe to an interactive table.\"\n",
              "              style=\"display:none;\">\n",
              "        \n",
              "  <svg xmlns=\"http://www.w3.org/2000/svg\" height=\"24px\"viewBox=\"0 0 24 24\"\n",
              "       width=\"24px\">\n",
              "    <path d=\"M0 0h24v24H0V0z\" fill=\"none\"/>\n",
              "    <path d=\"M18.56 5.44l.94 2.06.94-2.06 2.06-.94-2.06-.94-.94-2.06-.94 2.06-2.06.94zm-11 1L8.5 8.5l.94-2.06 2.06-.94-2.06-.94L8.5 2.5l-.94 2.06-2.06.94zm10 10l.94 2.06.94-2.06 2.06-.94-2.06-.94-.94-2.06-.94 2.06-2.06.94z\"/><path d=\"M17.41 7.96l-1.37-1.37c-.4-.4-.92-.59-1.43-.59-.52 0-1.04.2-1.43.59L10.3 9.45l-7.72 7.72c-.78.78-.78 2.05 0 2.83L4 21.41c.39.39.9.59 1.41.59.51 0 1.02-.2 1.41-.59l7.78-7.78 2.81-2.81c.8-.78.8-2.07 0-2.86zM5.41 20L4 18.59l7.72-7.72 1.47 1.35L5.41 20z\"/>\n",
              "  </svg>\n",
              "      </button>\n",
              "      \n",
              "  <style>\n",
              "    .colab-df-container {\n",
              "      display:flex;\n",
              "      flex-wrap:wrap;\n",
              "      gap: 12px;\n",
              "    }\n",
              "\n",
              "    .colab-df-convert {\n",
              "      background-color: #E8F0FE;\n",
              "      border: none;\n",
              "      border-radius: 50%;\n",
              "      cursor: pointer;\n",
              "      display: none;\n",
              "      fill: #1967D2;\n",
              "      height: 32px;\n",
              "      padding: 0 0 0 0;\n",
              "      width: 32px;\n",
              "    }\n",
              "\n",
              "    .colab-df-convert:hover {\n",
              "      background-color: #E2EBFA;\n",
              "      box-shadow: 0px 1px 2px rgba(60, 64, 67, 0.3), 0px 1px 3px 1px rgba(60, 64, 67, 0.15);\n",
              "      fill: #174EA6;\n",
              "    }\n",
              "\n",
              "    [theme=dark] .colab-df-convert {\n",
              "      background-color: #3B4455;\n",
              "      fill: #D2E3FC;\n",
              "    }\n",
              "\n",
              "    [theme=dark] .colab-df-convert:hover {\n",
              "      background-color: #434B5C;\n",
              "      box-shadow: 0px 1px 3px 1px rgba(0, 0, 0, 0.15);\n",
              "      filter: drop-shadow(0px 1px 2px rgba(0, 0, 0, 0.3));\n",
              "      fill: #FFFFFF;\n",
              "    }\n",
              "  </style>\n",
              "\n",
              "      <script>\n",
              "        const buttonEl =\n",
              "          document.querySelector('#df-310c8026-f33b-4d02-8c1f-1d4a992ed637 button.colab-df-convert');\n",
              "        buttonEl.style.display =\n",
              "          google.colab.kernel.accessAllowed ? 'block' : 'none';\n",
              "\n",
              "        async function convertToInteractive(key) {\n",
              "          const element = document.querySelector('#df-310c8026-f33b-4d02-8c1f-1d4a992ed637');\n",
              "          const dataTable =\n",
              "            await google.colab.kernel.invokeFunction('convertToInteractive',\n",
              "                                                     [key], {});\n",
              "          if (!dataTable) return;\n",
              "\n",
              "          const docLinkHtml = 'Like what you see? Visit the ' +\n",
              "            '<a target=\"_blank\" href=https://colab.research.google.com/notebooks/data_table.ipynb>data table notebook</a>'\n",
              "            + ' to learn more about interactive tables.';\n",
              "          element.innerHTML = '';\n",
              "          dataTable['output_type'] = 'display_data';\n",
              "          await google.colab.output.renderOutput(dataTable, element);\n",
              "          const docLink = document.createElement('div');\n",
              "          docLink.innerHTML = docLinkHtml;\n",
              "          element.appendChild(docLink);\n",
              "        }\n",
              "      </script>\n",
              "    </div>\n",
              "  </div>\n",
              "  "
            ]
          },
          "metadata": {},
          "execution_count": 20
        }
      ],
      "source": [
        "df_rec = recommendation_jac.to_dataframe()\n",
        "df_rec"
      ]
    },
    {
      "cell_type": "code",
      "execution_count": null,
      "metadata": {
        "colab": {
          "base_uri": "https://localhost:8080/",
          "height": 424
        },
        "id": "OoiZl4mFpCVl",
        "outputId": "d2d9c7f2-8051-4582-92f4-aa710cd1f3b3"
      },
      "outputs": [
        {
          "output_type": "execute_result",
          "data": {
            "text/plain": [
              "         customer_id  article_id\n",
              "0                  0       25624\n",
              "1                  0        4345\n",
              "2                  0         380\n",
              "3                  0        1558\n",
              "4                  0        5470\n",
              "...              ...         ...\n",
              "3432991       286082        7253\n",
              "3432992       286082       14771\n",
              "3432993       286082        8158\n",
              "3432994       286082       12983\n",
              "3432995       286082       17808\n",
              "\n",
              "[3432996 rows x 2 columns]"
            ],
            "text/html": [
              "\n",
              "  <div id=\"df-43a440dd-88fd-4fa3-94c1-729bf780ec8a\">\n",
              "    <div class=\"colab-df-container\">\n",
              "      <div>\n",
              "<style scoped>\n",
              "    .dataframe tbody tr th:only-of-type {\n",
              "        vertical-align: middle;\n",
              "    }\n",
              "\n",
              "    .dataframe tbody tr th {\n",
              "        vertical-align: top;\n",
              "    }\n",
              "\n",
              "    .dataframe thead th {\n",
              "        text-align: right;\n",
              "    }\n",
              "</style>\n",
              "<table border=\"1\" class=\"dataframe\">\n",
              "  <thead>\n",
              "    <tr style=\"text-align: right;\">\n",
              "      <th></th>\n",
              "      <th>customer_id</th>\n",
              "      <th>article_id</th>\n",
              "    </tr>\n",
              "  </thead>\n",
              "  <tbody>\n",
              "    <tr>\n",
              "      <th>0</th>\n",
              "      <td>0</td>\n",
              "      <td>25624</td>\n",
              "    </tr>\n",
              "    <tr>\n",
              "      <th>1</th>\n",
              "      <td>0</td>\n",
              "      <td>4345</td>\n",
              "    </tr>\n",
              "    <tr>\n",
              "      <th>2</th>\n",
              "      <td>0</td>\n",
              "      <td>380</td>\n",
              "    </tr>\n",
              "    <tr>\n",
              "      <th>3</th>\n",
              "      <td>0</td>\n",
              "      <td>1558</td>\n",
              "    </tr>\n",
              "    <tr>\n",
              "      <th>4</th>\n",
              "      <td>0</td>\n",
              "      <td>5470</td>\n",
              "    </tr>\n",
              "    <tr>\n",
              "      <th>...</th>\n",
              "      <td>...</td>\n",
              "      <td>...</td>\n",
              "    </tr>\n",
              "    <tr>\n",
              "      <th>3432991</th>\n",
              "      <td>286082</td>\n",
              "      <td>7253</td>\n",
              "    </tr>\n",
              "    <tr>\n",
              "      <th>3432992</th>\n",
              "      <td>286082</td>\n",
              "      <td>14771</td>\n",
              "    </tr>\n",
              "    <tr>\n",
              "      <th>3432993</th>\n",
              "      <td>286082</td>\n",
              "      <td>8158</td>\n",
              "    </tr>\n",
              "    <tr>\n",
              "      <th>3432994</th>\n",
              "      <td>286082</td>\n",
              "      <td>12983</td>\n",
              "    </tr>\n",
              "    <tr>\n",
              "      <th>3432995</th>\n",
              "      <td>286082</td>\n",
              "      <td>17808</td>\n",
              "    </tr>\n",
              "  </tbody>\n",
              "</table>\n",
              "<p>3432996 rows × 2 columns</p>\n",
              "</div>\n",
              "      <button class=\"colab-df-convert\" onclick=\"convertToInteractive('df-43a440dd-88fd-4fa3-94c1-729bf780ec8a')\"\n",
              "              title=\"Convert this dataframe to an interactive table.\"\n",
              "              style=\"display:none;\">\n",
              "        \n",
              "  <svg xmlns=\"http://www.w3.org/2000/svg\" height=\"24px\"viewBox=\"0 0 24 24\"\n",
              "       width=\"24px\">\n",
              "    <path d=\"M0 0h24v24H0V0z\" fill=\"none\"/>\n",
              "    <path d=\"M18.56 5.44l.94 2.06.94-2.06 2.06-.94-2.06-.94-.94-2.06-.94 2.06-2.06.94zm-11 1L8.5 8.5l.94-2.06 2.06-.94-2.06-.94L8.5 2.5l-.94 2.06-2.06.94zm10 10l.94 2.06.94-2.06 2.06-.94-2.06-.94-.94-2.06-.94 2.06-2.06.94z\"/><path d=\"M17.41 7.96l-1.37-1.37c-.4-.4-.92-.59-1.43-.59-.52 0-1.04.2-1.43.59L10.3 9.45l-7.72 7.72c-.78.78-.78 2.05 0 2.83L4 21.41c.39.39.9.59 1.41.59.51 0 1.02-.2 1.41-.59l7.78-7.78 2.81-2.81c.8-.78.8-2.07 0-2.86zM5.41 20L4 18.59l7.72-7.72 1.47 1.35L5.41 20z\"/>\n",
              "  </svg>\n",
              "      </button>\n",
              "      \n",
              "  <style>\n",
              "    .colab-df-container {\n",
              "      display:flex;\n",
              "      flex-wrap:wrap;\n",
              "      gap: 12px;\n",
              "    }\n",
              "\n",
              "    .colab-df-convert {\n",
              "      background-color: #E8F0FE;\n",
              "      border: none;\n",
              "      border-radius: 50%;\n",
              "      cursor: pointer;\n",
              "      display: none;\n",
              "      fill: #1967D2;\n",
              "      height: 32px;\n",
              "      padding: 0 0 0 0;\n",
              "      width: 32px;\n",
              "    }\n",
              "\n",
              "    .colab-df-convert:hover {\n",
              "      background-color: #E2EBFA;\n",
              "      box-shadow: 0px 1px 2px rgba(60, 64, 67, 0.3), 0px 1px 3px 1px rgba(60, 64, 67, 0.15);\n",
              "      fill: #174EA6;\n",
              "    }\n",
              "\n",
              "    [theme=dark] .colab-df-convert {\n",
              "      background-color: #3B4455;\n",
              "      fill: #D2E3FC;\n",
              "    }\n",
              "\n",
              "    [theme=dark] .colab-df-convert:hover {\n",
              "      background-color: #434B5C;\n",
              "      box-shadow: 0px 1px 3px 1px rgba(0, 0, 0, 0.15);\n",
              "      filter: drop-shadow(0px 1px 2px rgba(0, 0, 0, 0.3));\n",
              "      fill: #FFFFFF;\n",
              "    }\n",
              "  </style>\n",
              "\n",
              "      <script>\n",
              "        const buttonEl =\n",
              "          document.querySelector('#df-43a440dd-88fd-4fa3-94c1-729bf780ec8a button.colab-df-convert');\n",
              "        buttonEl.style.display =\n",
              "          google.colab.kernel.accessAllowed ? 'block' : 'none';\n",
              "\n",
              "        async function convertToInteractive(key) {\n",
              "          const element = document.querySelector('#df-43a440dd-88fd-4fa3-94c1-729bf780ec8a');\n",
              "          const dataTable =\n",
              "            await google.colab.kernel.invokeFunction('convertToInteractive',\n",
              "                                                     [key], {});\n",
              "          if (!dataTable) return;\n",
              "\n",
              "          const docLinkHtml = 'Like what you see? Visit the ' +\n",
              "            '<a target=\"_blank\" href=https://colab.research.google.com/notebooks/data_table.ipynb>data table notebook</a>'\n",
              "            + ' to learn more about interactive tables.';\n",
              "          element.innerHTML = '';\n",
              "          dataTable['output_type'] = 'display_data';\n",
              "          await google.colab.output.renderOutput(dataTable, element);\n",
              "          const docLink = document.createElement('div');\n",
              "          docLink.innerHTML = docLinkHtml;\n",
              "          element.appendChild(docLink);\n",
              "        }\n",
              "      </script>\n",
              "    </div>\n",
              "  </div>\n",
              "  "
            ]
          },
          "metadata": {},
          "execution_count": 21
        }
      ],
      "source": [
        "df_rec = df_rec.loc[:,'customer_id':\t'article_id']\n",
        "df_rec"
      ]
    },
    {
      "cell_type": "code",
      "source": [
        "inv_users_dic = {v: k for k, v in users_dic.items()}\n",
        "inv_items_dic = {v: k for k, v in items_dic.items()}"
      ],
      "metadata": {
        "id": "XLf4seLOv1C8"
      },
      "execution_count": null,
      "outputs": []
    },
    {
      "cell_type": "code",
      "execution_count": null,
      "metadata": {
        "colab": {
          "base_uri": "https://localhost:8080/",
          "height": 424
        },
        "id": "rGzzeeGypM8q",
        "outputId": "b376bde7-72e9-4282-ebc3-0685254df9e5"
      },
      "outputs": [
        {
          "output_type": "execute_result",
          "data": {
            "text/plain": [
              "                                               customer_id  article_id\n",
              "0        000fb6e772c5d0023892065e659963da90b1866035558e...  0905660002\n",
              "1        000fb6e772c5d0023892065e659963da90b1866035558e...  0903049003\n",
              "2        000fb6e772c5d0023892065e659963da90b1866035558e...  0884319005\n",
              "3        000fb6e772c5d0023892065e659963da90b1866035558e...  0927922001\n",
              "4        000fb6e772c5d0023892065e659963da90b1866035558e...  0915529003\n",
              "...                                                    ...         ...\n",
              "3432991  ffc92c3f7b0b302f393c2968b290f6e5c5b5510d1cf1df...  0769880001\n",
              "3432992  ffc92c3f7b0b302f393c2968b290f6e5c5b5510d1cf1df...  0805000007\n",
              "3432993  ffc92c3f7b0b302f393c2968b290f6e5c5b5510d1cf1df...  0770855001\n",
              "3432994  ffc92c3f7b0b302f393c2968b290f6e5c5b5510d1cf1df...  0622710001\n",
              "3432995  ffc92c3f7b0b302f393c2968b290f6e5c5b5510d1cf1df...  0571451001\n",
              "\n",
              "[3432996 rows x 2 columns]"
            ],
            "text/html": [
              "\n",
              "  <div id=\"df-51e65c10-b2b7-4122-a451-b53fc05c0c56\">\n",
              "    <div class=\"colab-df-container\">\n",
              "      <div>\n",
              "<style scoped>\n",
              "    .dataframe tbody tr th:only-of-type {\n",
              "        vertical-align: middle;\n",
              "    }\n",
              "\n",
              "    .dataframe tbody tr th {\n",
              "        vertical-align: top;\n",
              "    }\n",
              "\n",
              "    .dataframe thead th {\n",
              "        text-align: right;\n",
              "    }\n",
              "</style>\n",
              "<table border=\"1\" class=\"dataframe\">\n",
              "  <thead>\n",
              "    <tr style=\"text-align: right;\">\n",
              "      <th></th>\n",
              "      <th>customer_id</th>\n",
              "      <th>article_id</th>\n",
              "    </tr>\n",
              "  </thead>\n",
              "  <tbody>\n",
              "    <tr>\n",
              "      <th>0</th>\n",
              "      <td>000fb6e772c5d0023892065e659963da90b1866035558e...</td>\n",
              "      <td>0905660002</td>\n",
              "    </tr>\n",
              "    <tr>\n",
              "      <th>1</th>\n",
              "      <td>000fb6e772c5d0023892065e659963da90b1866035558e...</td>\n",
              "      <td>0903049003</td>\n",
              "    </tr>\n",
              "    <tr>\n",
              "      <th>2</th>\n",
              "      <td>000fb6e772c5d0023892065e659963da90b1866035558e...</td>\n",
              "      <td>0884319005</td>\n",
              "    </tr>\n",
              "    <tr>\n",
              "      <th>3</th>\n",
              "      <td>000fb6e772c5d0023892065e659963da90b1866035558e...</td>\n",
              "      <td>0927922001</td>\n",
              "    </tr>\n",
              "    <tr>\n",
              "      <th>4</th>\n",
              "      <td>000fb6e772c5d0023892065e659963da90b1866035558e...</td>\n",
              "      <td>0915529003</td>\n",
              "    </tr>\n",
              "    <tr>\n",
              "      <th>...</th>\n",
              "      <td>...</td>\n",
              "      <td>...</td>\n",
              "    </tr>\n",
              "    <tr>\n",
              "      <th>3432991</th>\n",
              "      <td>ffc92c3f7b0b302f393c2968b290f6e5c5b5510d1cf1df...</td>\n",
              "      <td>0769880001</td>\n",
              "    </tr>\n",
              "    <tr>\n",
              "      <th>3432992</th>\n",
              "      <td>ffc92c3f7b0b302f393c2968b290f6e5c5b5510d1cf1df...</td>\n",
              "      <td>0805000007</td>\n",
              "    </tr>\n",
              "    <tr>\n",
              "      <th>3432993</th>\n",
              "      <td>ffc92c3f7b0b302f393c2968b290f6e5c5b5510d1cf1df...</td>\n",
              "      <td>0770855001</td>\n",
              "    </tr>\n",
              "    <tr>\n",
              "      <th>3432994</th>\n",
              "      <td>ffc92c3f7b0b302f393c2968b290f6e5c5b5510d1cf1df...</td>\n",
              "      <td>0622710001</td>\n",
              "    </tr>\n",
              "    <tr>\n",
              "      <th>3432995</th>\n",
              "      <td>ffc92c3f7b0b302f393c2968b290f6e5c5b5510d1cf1df...</td>\n",
              "      <td>0571451001</td>\n",
              "    </tr>\n",
              "  </tbody>\n",
              "</table>\n",
              "<p>3432996 rows × 2 columns</p>\n",
              "</div>\n",
              "      <button class=\"colab-df-convert\" onclick=\"convertToInteractive('df-51e65c10-b2b7-4122-a451-b53fc05c0c56')\"\n",
              "              title=\"Convert this dataframe to an interactive table.\"\n",
              "              style=\"display:none;\">\n",
              "        \n",
              "  <svg xmlns=\"http://www.w3.org/2000/svg\" height=\"24px\"viewBox=\"0 0 24 24\"\n",
              "       width=\"24px\">\n",
              "    <path d=\"M0 0h24v24H0V0z\" fill=\"none\"/>\n",
              "    <path d=\"M18.56 5.44l.94 2.06.94-2.06 2.06-.94-2.06-.94-.94-2.06-.94 2.06-2.06.94zm-11 1L8.5 8.5l.94-2.06 2.06-.94-2.06-.94L8.5 2.5l-.94 2.06-2.06.94zm10 10l.94 2.06.94-2.06 2.06-.94-2.06-.94-.94-2.06-.94 2.06-2.06.94z\"/><path d=\"M17.41 7.96l-1.37-1.37c-.4-.4-.92-.59-1.43-.59-.52 0-1.04.2-1.43.59L10.3 9.45l-7.72 7.72c-.78.78-.78 2.05 0 2.83L4 21.41c.39.39.9.59 1.41.59.51 0 1.02-.2 1.41-.59l7.78-7.78 2.81-2.81c.8-.78.8-2.07 0-2.86zM5.41 20L4 18.59l7.72-7.72 1.47 1.35L5.41 20z\"/>\n",
              "  </svg>\n",
              "      </button>\n",
              "      \n",
              "  <style>\n",
              "    .colab-df-container {\n",
              "      display:flex;\n",
              "      flex-wrap:wrap;\n",
              "      gap: 12px;\n",
              "    }\n",
              "\n",
              "    .colab-df-convert {\n",
              "      background-color: #E8F0FE;\n",
              "      border: none;\n",
              "      border-radius: 50%;\n",
              "      cursor: pointer;\n",
              "      display: none;\n",
              "      fill: #1967D2;\n",
              "      height: 32px;\n",
              "      padding: 0 0 0 0;\n",
              "      width: 32px;\n",
              "    }\n",
              "\n",
              "    .colab-df-convert:hover {\n",
              "      background-color: #E2EBFA;\n",
              "      box-shadow: 0px 1px 2px rgba(60, 64, 67, 0.3), 0px 1px 3px 1px rgba(60, 64, 67, 0.15);\n",
              "      fill: #174EA6;\n",
              "    }\n",
              "\n",
              "    [theme=dark] .colab-df-convert {\n",
              "      background-color: #3B4455;\n",
              "      fill: #D2E3FC;\n",
              "    }\n",
              "\n",
              "    [theme=dark] .colab-df-convert:hover {\n",
              "      background-color: #434B5C;\n",
              "      box-shadow: 0px 1px 3px 1px rgba(0, 0, 0, 0.15);\n",
              "      filter: drop-shadow(0px 1px 2px rgba(0, 0, 0, 0.3));\n",
              "      fill: #FFFFFF;\n",
              "    }\n",
              "  </style>\n",
              "\n",
              "      <script>\n",
              "        const buttonEl =\n",
              "          document.querySelector('#df-51e65c10-b2b7-4122-a451-b53fc05c0c56 button.colab-df-convert');\n",
              "        buttonEl.style.display =\n",
              "          google.colab.kernel.accessAllowed ? 'block' : 'none';\n",
              "\n",
              "        async function convertToInteractive(key) {\n",
              "          const element = document.querySelector('#df-51e65c10-b2b7-4122-a451-b53fc05c0c56');\n",
              "          const dataTable =\n",
              "            await google.colab.kernel.invokeFunction('convertToInteractive',\n",
              "                                                     [key], {});\n",
              "          if (!dataTable) return;\n",
              "\n",
              "          const docLinkHtml = 'Like what you see? Visit the ' +\n",
              "            '<a target=\"_blank\" href=https://colab.research.google.com/notebooks/data_table.ipynb>data table notebook</a>'\n",
              "            + ' to learn more about interactive tables.';\n",
              "          element.innerHTML = '';\n",
              "          dataTable['output_type'] = 'display_data';\n",
              "          await google.colab.output.renderOutput(dataTable, element);\n",
              "          const docLink = document.createElement('div');\n",
              "          docLink.innerHTML = docLinkHtml;\n",
              "          element.appendChild(docLink);\n",
              "        }\n",
              "      </script>\n",
              "    </div>\n",
              "  </div>\n",
              "  "
            ]
          },
          "metadata": {},
          "execution_count": 23
        }
      ],
      "source": [
        "df_rec_t = df_rec.copy()\n",
        "df_rec_t['article_id'] = df_rec_t['article_id'].apply(lambda x: '0'+str(inv_items_dic[x]))\n",
        "df_rec_t['customer_id'] = df_rec_t['customer_id'].apply(lambda x: str(inv_users_dic[x]))\n",
        "df_rec_t"
      ]
    },
    {
      "cell_type": "code",
      "execution_count": null,
      "metadata": {
        "id": "eVAcBGU6pT0f"
      },
      "outputs": [],
      "source": [
        "df_rec_f = df_rec_t.groupby(by = ['customer_id'], as_index = False).agg({'article_id': ' '.join})"
      ]
    },
    {
      "cell_type": "code",
      "execution_count": null,
      "metadata": {
        "id": "za2k5JWypfqQ"
      },
      "outputs": [],
      "source": [
        "df_rec_f.rename(columns={'article_id':'prediction'},inplace=True)"
      ]
    },
    {
      "cell_type": "code",
      "execution_count": null,
      "metadata": {
        "colab": {
          "base_uri": "https://localhost:8080/",
          "height": 468
        },
        "id": "a_1MD6GOp2C9",
        "outputId": "aeb68be8-3022-4fbd-b7f9-95e3b1025e4b"
      },
      "outputs": [
        {
          "output_type": "execute_result",
          "data": {
            "text/plain": [
              "                                              customer_id  \\\n",
              "0       00000dbacae5abe5e23885899a1fa44253a17956c6d1c3...   \n",
              "1       000058a12d5b43e67d225668fa1f8d618c13dc232df0ca...   \n",
              "2       0000757967448a6cb83efb3ea7a3fb9d418ac7adf2379d...   \n",
              "3       00009d946eec3ea54add5ba56d5210ea898def4b46c685...   \n",
              "4       0000b2f1829e23b24feec422ef13df3ccedaedc85368e6...   \n",
              "...                                                   ...   \n",
              "286078  ffff12aa623c69eae8959d673f1f12ad0194ad760d77fd...   \n",
              "286079  ffff61677073258d461e043cc9ed4ed97be5617a920640...   \n",
              "286080  ffffbbf78b6eaac697a8a5dfbfd2bfa8113ee5b403e474...   \n",
              "286081  ffffcd5046a6143d29a04fb8c424ce494a76e5cdf4fab5...   \n",
              "286082  ffffcf35913a0bee60e8741cb2b4e78b8a98ee5ff2e6a1...   \n",
              "\n",
              "                                               prediction  \n",
              "0       0779781015 0858856005 0716670009 0568601007 05...  \n",
              "1       0794321011 0805000001 0805000007 0805000008 07...  \n",
              "2       0448509001 0448509018 0719530014 0714790020 09...  \n",
              "3       0568601007 0889652002 0903326006 0730863043 07...  \n",
              "4       0914441004 0807244041 0706016003 0706016001 07...  \n",
              "...                                                   ...  \n",
              "286078  0737994021 0813051009 0630525039 0885970001 03...  \n",
              "286079  0889392001 0794567002 0889392002 0656067007 08...  \n",
              "286080  0804992013 0740922001 0791587010 0854663005 07...  \n",
              "286081  0762846027 0762846026 0889460003 0762846008 07...  \n",
              "286082  0762846026 0762846031 0534210006 0633109001 08...  \n",
              "\n",
              "[286083 rows x 2 columns]"
            ],
            "text/html": [
              "\n",
              "  <div id=\"df-f595b668-1236-447c-9b0f-3ccd5e3be0be\">\n",
              "    <div class=\"colab-df-container\">\n",
              "      <div>\n",
              "<style scoped>\n",
              "    .dataframe tbody tr th:only-of-type {\n",
              "        vertical-align: middle;\n",
              "    }\n",
              "\n",
              "    .dataframe tbody tr th {\n",
              "        vertical-align: top;\n",
              "    }\n",
              "\n",
              "    .dataframe thead th {\n",
              "        text-align: right;\n",
              "    }\n",
              "</style>\n",
              "<table border=\"1\" class=\"dataframe\">\n",
              "  <thead>\n",
              "    <tr style=\"text-align: right;\">\n",
              "      <th></th>\n",
              "      <th>customer_id</th>\n",
              "      <th>prediction</th>\n",
              "    </tr>\n",
              "  </thead>\n",
              "  <tbody>\n",
              "    <tr>\n",
              "      <th>0</th>\n",
              "      <td>00000dbacae5abe5e23885899a1fa44253a17956c6d1c3...</td>\n",
              "      <td>0779781015 0858856005 0716670009 0568601007 05...</td>\n",
              "    </tr>\n",
              "    <tr>\n",
              "      <th>1</th>\n",
              "      <td>000058a12d5b43e67d225668fa1f8d618c13dc232df0ca...</td>\n",
              "      <td>0794321011 0805000001 0805000007 0805000008 07...</td>\n",
              "    </tr>\n",
              "    <tr>\n",
              "      <th>2</th>\n",
              "      <td>0000757967448a6cb83efb3ea7a3fb9d418ac7adf2379d...</td>\n",
              "      <td>0448509001 0448509018 0719530014 0714790020 09...</td>\n",
              "    </tr>\n",
              "    <tr>\n",
              "      <th>3</th>\n",
              "      <td>00009d946eec3ea54add5ba56d5210ea898def4b46c685...</td>\n",
              "      <td>0568601007 0889652002 0903326006 0730863043 07...</td>\n",
              "    </tr>\n",
              "    <tr>\n",
              "      <th>4</th>\n",
              "      <td>0000b2f1829e23b24feec422ef13df3ccedaedc85368e6...</td>\n",
              "      <td>0914441004 0807244041 0706016003 0706016001 07...</td>\n",
              "    </tr>\n",
              "    <tr>\n",
              "      <th>...</th>\n",
              "      <td>...</td>\n",
              "      <td>...</td>\n",
              "    </tr>\n",
              "    <tr>\n",
              "      <th>286078</th>\n",
              "      <td>ffff12aa623c69eae8959d673f1f12ad0194ad760d77fd...</td>\n",
              "      <td>0737994021 0813051009 0630525039 0885970001 03...</td>\n",
              "    </tr>\n",
              "    <tr>\n",
              "      <th>286079</th>\n",
              "      <td>ffff61677073258d461e043cc9ed4ed97be5617a920640...</td>\n",
              "      <td>0889392001 0794567002 0889392002 0656067007 08...</td>\n",
              "    </tr>\n",
              "    <tr>\n",
              "      <th>286080</th>\n",
              "      <td>ffffbbf78b6eaac697a8a5dfbfd2bfa8113ee5b403e474...</td>\n",
              "      <td>0804992013 0740922001 0791587010 0854663005 07...</td>\n",
              "    </tr>\n",
              "    <tr>\n",
              "      <th>286081</th>\n",
              "      <td>ffffcd5046a6143d29a04fb8c424ce494a76e5cdf4fab5...</td>\n",
              "      <td>0762846027 0762846026 0889460003 0762846008 07...</td>\n",
              "    </tr>\n",
              "    <tr>\n",
              "      <th>286082</th>\n",
              "      <td>ffffcf35913a0bee60e8741cb2b4e78b8a98ee5ff2e6a1...</td>\n",
              "      <td>0762846026 0762846031 0534210006 0633109001 08...</td>\n",
              "    </tr>\n",
              "  </tbody>\n",
              "</table>\n",
              "<p>286083 rows × 2 columns</p>\n",
              "</div>\n",
              "      <button class=\"colab-df-convert\" onclick=\"convertToInteractive('df-f595b668-1236-447c-9b0f-3ccd5e3be0be')\"\n",
              "              title=\"Convert this dataframe to an interactive table.\"\n",
              "              style=\"display:none;\">\n",
              "        \n",
              "  <svg xmlns=\"http://www.w3.org/2000/svg\" height=\"24px\"viewBox=\"0 0 24 24\"\n",
              "       width=\"24px\">\n",
              "    <path d=\"M0 0h24v24H0V0z\" fill=\"none\"/>\n",
              "    <path d=\"M18.56 5.44l.94 2.06.94-2.06 2.06-.94-2.06-.94-.94-2.06-.94 2.06-2.06.94zm-11 1L8.5 8.5l.94-2.06 2.06-.94-2.06-.94L8.5 2.5l-.94 2.06-2.06.94zm10 10l.94 2.06.94-2.06 2.06-.94-2.06-.94-.94-2.06-.94 2.06-2.06.94z\"/><path d=\"M17.41 7.96l-1.37-1.37c-.4-.4-.92-.59-1.43-.59-.52 0-1.04.2-1.43.59L10.3 9.45l-7.72 7.72c-.78.78-.78 2.05 0 2.83L4 21.41c.39.39.9.59 1.41.59.51 0 1.02-.2 1.41-.59l7.78-7.78 2.81-2.81c.8-.78.8-2.07 0-2.86zM5.41 20L4 18.59l7.72-7.72 1.47 1.35L5.41 20z\"/>\n",
              "  </svg>\n",
              "      </button>\n",
              "      \n",
              "  <style>\n",
              "    .colab-df-container {\n",
              "      display:flex;\n",
              "      flex-wrap:wrap;\n",
              "      gap: 12px;\n",
              "    }\n",
              "\n",
              "    .colab-df-convert {\n",
              "      background-color: #E8F0FE;\n",
              "      border: none;\n",
              "      border-radius: 50%;\n",
              "      cursor: pointer;\n",
              "      display: none;\n",
              "      fill: #1967D2;\n",
              "      height: 32px;\n",
              "      padding: 0 0 0 0;\n",
              "      width: 32px;\n",
              "    }\n",
              "\n",
              "    .colab-df-convert:hover {\n",
              "      background-color: #E2EBFA;\n",
              "      box-shadow: 0px 1px 2px rgba(60, 64, 67, 0.3), 0px 1px 3px 1px rgba(60, 64, 67, 0.15);\n",
              "      fill: #174EA6;\n",
              "    }\n",
              "\n",
              "    [theme=dark] .colab-df-convert {\n",
              "      background-color: #3B4455;\n",
              "      fill: #D2E3FC;\n",
              "    }\n",
              "\n",
              "    [theme=dark] .colab-df-convert:hover {\n",
              "      background-color: #434B5C;\n",
              "      box-shadow: 0px 1px 3px 1px rgba(0, 0, 0, 0.15);\n",
              "      filter: drop-shadow(0px 1px 2px rgba(0, 0, 0, 0.3));\n",
              "      fill: #FFFFFF;\n",
              "    }\n",
              "  </style>\n",
              "\n",
              "      <script>\n",
              "        const buttonEl =\n",
              "          document.querySelector('#df-f595b668-1236-447c-9b0f-3ccd5e3be0be button.colab-df-convert');\n",
              "        buttonEl.style.display =\n",
              "          google.colab.kernel.accessAllowed ? 'block' : 'none';\n",
              "\n",
              "        async function convertToInteractive(key) {\n",
              "          const element = document.querySelector('#df-f595b668-1236-447c-9b0f-3ccd5e3be0be');\n",
              "          const dataTable =\n",
              "            await google.colab.kernel.invokeFunction('convertToInteractive',\n",
              "                                                     [key], {});\n",
              "          if (!dataTable) return;\n",
              "\n",
              "          const docLinkHtml = 'Like what you see? Visit the ' +\n",
              "            '<a target=\"_blank\" href=https://colab.research.google.com/notebooks/data_table.ipynb>data table notebook</a>'\n",
              "            + ' to learn more about interactive tables.';\n",
              "          element.innerHTML = '';\n",
              "          dataTable['output_type'] = 'display_data';\n",
              "          await google.colab.output.renderOutput(dataTable, element);\n",
              "          const docLink = document.createElement('div');\n",
              "          docLink.innerHTML = docLinkHtml;\n",
              "          element.appendChild(docLink);\n",
              "        }\n",
              "      </script>\n",
              "    </div>\n",
              "  </div>\n",
              "  "
            ]
          },
          "metadata": {},
          "execution_count": 26
        }
      ],
      "source": [
        "df_rec_f"
      ]
    },
    {
      "cell_type": "code",
      "execution_count": null,
      "metadata": {
        "colab": {
          "base_uri": "https://localhost:8080/",
          "height": 426
        },
        "id": "oXHnKcn_LQ00",
        "outputId": "72e5baf9-617b-46b4-abf1-df9046b82bb3"
      },
      "outputs": [
        {
          "output_type": "execute_result",
          "data": {
            "text/plain": [
              "       article_id  count\n",
              "304           304   3471\n",
              "1698         1698   2928\n",
              "254           254   2911\n",
              "360           360   2799\n",
              "58             58   2788\n",
              "5470         5470   2687\n",
              "195           195   2418\n",
              "109           109   2402\n",
              "122           122   2239\n",
              "56             56   2165\n",
              "479           479   2148\n",
              "15623       15623   2099"
            ],
            "text/html": [
              "\n",
              "  <div id=\"df-3c14535c-5efe-4001-b4d8-39309b1e949e\">\n",
              "    <div class=\"colab-df-container\">\n",
              "      <div>\n",
              "<style scoped>\n",
              "    .dataframe tbody tr th:only-of-type {\n",
              "        vertical-align: middle;\n",
              "    }\n",
              "\n",
              "    .dataframe tbody tr th {\n",
              "        vertical-align: top;\n",
              "    }\n",
              "\n",
              "    .dataframe thead th {\n",
              "        text-align: right;\n",
              "    }\n",
              "</style>\n",
              "<table border=\"1\" class=\"dataframe\">\n",
              "  <thead>\n",
              "    <tr style=\"text-align: right;\">\n",
              "      <th></th>\n",
              "      <th>article_id</th>\n",
              "      <th>count</th>\n",
              "    </tr>\n",
              "  </thead>\n",
              "  <tbody>\n",
              "    <tr>\n",
              "      <th>304</th>\n",
              "      <td>304</td>\n",
              "      <td>3471</td>\n",
              "    </tr>\n",
              "    <tr>\n",
              "      <th>1698</th>\n",
              "      <td>1698</td>\n",
              "      <td>2928</td>\n",
              "    </tr>\n",
              "    <tr>\n",
              "      <th>254</th>\n",
              "      <td>254</td>\n",
              "      <td>2911</td>\n",
              "    </tr>\n",
              "    <tr>\n",
              "      <th>360</th>\n",
              "      <td>360</td>\n",
              "      <td>2799</td>\n",
              "    </tr>\n",
              "    <tr>\n",
              "      <th>58</th>\n",
              "      <td>58</td>\n",
              "      <td>2788</td>\n",
              "    </tr>\n",
              "    <tr>\n",
              "      <th>5470</th>\n",
              "      <td>5470</td>\n",
              "      <td>2687</td>\n",
              "    </tr>\n",
              "    <tr>\n",
              "      <th>195</th>\n",
              "      <td>195</td>\n",
              "      <td>2418</td>\n",
              "    </tr>\n",
              "    <tr>\n",
              "      <th>109</th>\n",
              "      <td>109</td>\n",
              "      <td>2402</td>\n",
              "    </tr>\n",
              "    <tr>\n",
              "      <th>122</th>\n",
              "      <td>122</td>\n",
              "      <td>2239</td>\n",
              "    </tr>\n",
              "    <tr>\n",
              "      <th>56</th>\n",
              "      <td>56</td>\n",
              "      <td>2165</td>\n",
              "    </tr>\n",
              "    <tr>\n",
              "      <th>479</th>\n",
              "      <td>479</td>\n",
              "      <td>2148</td>\n",
              "    </tr>\n",
              "    <tr>\n",
              "      <th>15623</th>\n",
              "      <td>15623</td>\n",
              "      <td>2099</td>\n",
              "    </tr>\n",
              "  </tbody>\n",
              "</table>\n",
              "</div>\n",
              "      <button class=\"colab-df-convert\" onclick=\"convertToInteractive('df-3c14535c-5efe-4001-b4d8-39309b1e949e')\"\n",
              "              title=\"Convert this dataframe to an interactive table.\"\n",
              "              style=\"display:none;\">\n",
              "        \n",
              "  <svg xmlns=\"http://www.w3.org/2000/svg\" height=\"24px\"viewBox=\"0 0 24 24\"\n",
              "       width=\"24px\">\n",
              "    <path d=\"M0 0h24v24H0V0z\" fill=\"none\"/>\n",
              "    <path d=\"M18.56 5.44l.94 2.06.94-2.06 2.06-.94-2.06-.94-.94-2.06-.94 2.06-2.06.94zm-11 1L8.5 8.5l.94-2.06 2.06-.94-2.06-.94L8.5 2.5l-.94 2.06-2.06.94zm10 10l.94 2.06.94-2.06 2.06-.94-2.06-.94-.94-2.06-.94 2.06-2.06.94z\"/><path d=\"M17.41 7.96l-1.37-1.37c-.4-.4-.92-.59-1.43-.59-.52 0-1.04.2-1.43.59L10.3 9.45l-7.72 7.72c-.78.78-.78 2.05 0 2.83L4 21.41c.39.39.9.59 1.41.59.51 0 1.02-.2 1.41-.59l7.78-7.78 2.81-2.81c.8-.78.8-2.07 0-2.86zM5.41 20L4 18.59l7.72-7.72 1.47 1.35L5.41 20z\"/>\n",
              "  </svg>\n",
              "      </button>\n",
              "      \n",
              "  <style>\n",
              "    .colab-df-container {\n",
              "      display:flex;\n",
              "      flex-wrap:wrap;\n",
              "      gap: 12px;\n",
              "    }\n",
              "\n",
              "    .colab-df-convert {\n",
              "      background-color: #E8F0FE;\n",
              "      border: none;\n",
              "      border-radius: 50%;\n",
              "      cursor: pointer;\n",
              "      display: none;\n",
              "      fill: #1967D2;\n",
              "      height: 32px;\n",
              "      padding: 0 0 0 0;\n",
              "      width: 32px;\n",
              "    }\n",
              "\n",
              "    .colab-df-convert:hover {\n",
              "      background-color: #E2EBFA;\n",
              "      box-shadow: 0px 1px 2px rgba(60, 64, 67, 0.3), 0px 1px 3px 1px rgba(60, 64, 67, 0.15);\n",
              "      fill: #174EA6;\n",
              "    }\n",
              "\n",
              "    [theme=dark] .colab-df-convert {\n",
              "      background-color: #3B4455;\n",
              "      fill: #D2E3FC;\n",
              "    }\n",
              "\n",
              "    [theme=dark] .colab-df-convert:hover {\n",
              "      background-color: #434B5C;\n",
              "      box-shadow: 0px 1px 3px 1px rgba(0, 0, 0, 0.15);\n",
              "      filter: drop-shadow(0px 1px 2px rgba(0, 0, 0, 0.3));\n",
              "      fill: #FFFFFF;\n",
              "    }\n",
              "  </style>\n",
              "\n",
              "      <script>\n",
              "        const buttonEl =\n",
              "          document.querySelector('#df-3c14535c-5efe-4001-b4d8-39309b1e949e button.colab-df-convert');\n",
              "        buttonEl.style.display =\n",
              "          google.colab.kernel.accessAllowed ? 'block' : 'none';\n",
              "\n",
              "        async function convertToInteractive(key) {\n",
              "          const element = document.querySelector('#df-3c14535c-5efe-4001-b4d8-39309b1e949e');\n",
              "          const dataTable =\n",
              "            await google.colab.kernel.invokeFunction('convertToInteractive',\n",
              "                                                     [key], {});\n",
              "          if (!dataTable) return;\n",
              "\n",
              "          const docLinkHtml = 'Like what you see? Visit the ' +\n",
              "            '<a target=\"_blank\" href=https://colab.research.google.com/notebooks/data_table.ipynb>data table notebook</a>'\n",
              "            + ' to learn more about interactive tables.';\n",
              "          element.innerHTML = '';\n",
              "          dataTable['output_type'] = 'display_data';\n",
              "          await google.colab.output.renderOutput(dataTable, element);\n",
              "          const docLink = document.createElement('div');\n",
              "          docLink.innerHTML = docLinkHtml;\n",
              "          element.appendChild(docLink);\n",
              "        }\n",
              "      </script>\n",
              "    </div>\n",
              "  </div>\n",
              "  "
            ]
          },
          "metadata": {},
          "execution_count": 27
        }
      ],
      "source": [
        "df_a = df_tmp.groupby('article_id',as_index=False).count().iloc[:,:2]\n",
        "df_a.rename(columns={'t_dat': 'count'},inplace=True)\n",
        "df_best = df_a.sort_values(by=['count'], ascending= False).iloc[:12]\n",
        "df_best"
      ]
    },
    {
      "cell_type": "code",
      "execution_count": null,
      "metadata": {
        "id": "Sm4GsLaaeP0_"
      },
      "outputs": [],
      "source": [
        "df_best['article_id'] = df_best['article_id'].map(inv_items_dic)"
      ]
    },
    {
      "cell_type": "code",
      "execution_count": null,
      "metadata": {
        "colab": {
          "base_uri": "https://localhost:8080/",
          "height": 53
        },
        "id": "b9pA-xMqXWp7",
        "outputId": "8e7688d3-6d61-4ebe-e3db-781d332a9c61"
      },
      "outputs": [
        {
          "output_type": "execute_result",
          "data": {
            "text/plain": [
              "'0751471001 0918292001 0706016001 0915526001 0751471043 0915529003 0448509014 0896152002 0916468003 0863595006 0850917001 0898694001'"
            ],
            "application/vnd.google.colaboratory.intrinsic+json": {
              "type": "string"
            }
          },
          "metadata": {},
          "execution_count": 29
        }
      ],
      "source": [
        "best = df_best['article_id'].values\n",
        "best_articles = ' '.join('0' + str(x) for x in best)\n",
        "best_articles"
      ]
    },
    {
      "cell_type": "code",
      "execution_count": null,
      "metadata": {
        "id": "808WWndzppFL"
      },
      "outputs": [],
      "source": [
        "df_cust = pd.read_csv('drive/MyDrive/Thesis/data/customers.csv')"
      ]
    },
    {
      "cell_type": "code",
      "execution_count": null,
      "metadata": {
        "id": "APYh5i28bOSj"
      },
      "outputs": [],
      "source": [
        "c = df_cust['customer_id'].to_list()\n",
        "c_rec = df_rec_f['customer_id'].to_list()\n",
        "new_customers = list(set(c) - set(c_rec))"
      ]
    },
    {
      "cell_type": "code",
      "source": [
        "len(new_customers)"
      ],
      "metadata": {
        "colab": {
          "base_uri": "https://localhost:8080/"
        },
        "id": "6IRtlaxhwY2L",
        "outputId": "699042c6-6d58-4d6a-fcc9-a4a90c95af5b"
      },
      "execution_count": null,
      "outputs": [
        {
          "output_type": "execute_result",
          "data": {
            "text/plain": [
              "1085897"
            ]
          },
          "metadata": {},
          "execution_count": 32
        }
      ]
    },
    {
      "cell_type": "code",
      "source": [
        "df_new = pd.DataFrame({'customer_id' : new_customers})\n",
        "df_new"
      ],
      "metadata": {
        "colab": {
          "base_uri": "https://localhost:8080/",
          "height": 424
        },
        "id": "sorRfpqzw9I9",
        "outputId": "36f7d088-c3af-40fe-fae9-e9ac57eebadd"
      },
      "execution_count": null,
      "outputs": [
        {
          "output_type": "execute_result",
          "data": {
            "text/plain": [
              "                                               customer_id\n",
              "0        b018518500e1bdba7c00e0c71e5136a42cdbb8e87c1aa0...\n",
              "1        9725fea0542581b104a1bbc3fe8f68896fb67e8dc3512b...\n",
              "2        2978dbdc38dd7ade1153537ca38976c766d2ebefabae54...\n",
              "3        dd123e290fadf6a72d0674c0096a47497e21d687a15dee...\n",
              "4        c9d73d8646459d3b10c4c6d6440f271050c57811c76cb1...\n",
              "...                                                    ...\n",
              "1085892  b710c067ade7d0e50b33c13dc3a331b98c8108427cf6c0...\n",
              "1085893  e1152d8635b9e46781528635cdafba6bd2c0bdd72c48ef...\n",
              "1085894  e71277406206205d5c8ac3b2f61d18527a41514fde51dc...\n",
              "1085895  27cda611cd1e6aace8ceb47333fb6f523966eba02d063c...\n",
              "1085896  8d7bb8f07f7eeb72f4353ce88933c09cfcbb5e12225d21...\n",
              "\n",
              "[1085897 rows x 1 columns]"
            ],
            "text/html": [
              "\n",
              "  <div id=\"df-7705675f-154f-4b3f-b5c2-38e41b173ab0\">\n",
              "    <div class=\"colab-df-container\">\n",
              "      <div>\n",
              "<style scoped>\n",
              "    .dataframe tbody tr th:only-of-type {\n",
              "        vertical-align: middle;\n",
              "    }\n",
              "\n",
              "    .dataframe tbody tr th {\n",
              "        vertical-align: top;\n",
              "    }\n",
              "\n",
              "    .dataframe thead th {\n",
              "        text-align: right;\n",
              "    }\n",
              "</style>\n",
              "<table border=\"1\" class=\"dataframe\">\n",
              "  <thead>\n",
              "    <tr style=\"text-align: right;\">\n",
              "      <th></th>\n",
              "      <th>customer_id</th>\n",
              "    </tr>\n",
              "  </thead>\n",
              "  <tbody>\n",
              "    <tr>\n",
              "      <th>0</th>\n",
              "      <td>b018518500e1bdba7c00e0c71e5136a42cdbb8e87c1aa0...</td>\n",
              "    </tr>\n",
              "    <tr>\n",
              "      <th>1</th>\n",
              "      <td>9725fea0542581b104a1bbc3fe8f68896fb67e8dc3512b...</td>\n",
              "    </tr>\n",
              "    <tr>\n",
              "      <th>2</th>\n",
              "      <td>2978dbdc38dd7ade1153537ca38976c766d2ebefabae54...</td>\n",
              "    </tr>\n",
              "    <tr>\n",
              "      <th>3</th>\n",
              "      <td>dd123e290fadf6a72d0674c0096a47497e21d687a15dee...</td>\n",
              "    </tr>\n",
              "    <tr>\n",
              "      <th>4</th>\n",
              "      <td>c9d73d8646459d3b10c4c6d6440f271050c57811c76cb1...</td>\n",
              "    </tr>\n",
              "    <tr>\n",
              "      <th>...</th>\n",
              "      <td>...</td>\n",
              "    </tr>\n",
              "    <tr>\n",
              "      <th>1085892</th>\n",
              "      <td>b710c067ade7d0e50b33c13dc3a331b98c8108427cf6c0...</td>\n",
              "    </tr>\n",
              "    <tr>\n",
              "      <th>1085893</th>\n",
              "      <td>e1152d8635b9e46781528635cdafba6bd2c0bdd72c48ef...</td>\n",
              "    </tr>\n",
              "    <tr>\n",
              "      <th>1085894</th>\n",
              "      <td>e71277406206205d5c8ac3b2f61d18527a41514fde51dc...</td>\n",
              "    </tr>\n",
              "    <tr>\n",
              "      <th>1085895</th>\n",
              "      <td>27cda611cd1e6aace8ceb47333fb6f523966eba02d063c...</td>\n",
              "    </tr>\n",
              "    <tr>\n",
              "      <th>1085896</th>\n",
              "      <td>8d7bb8f07f7eeb72f4353ce88933c09cfcbb5e12225d21...</td>\n",
              "    </tr>\n",
              "  </tbody>\n",
              "</table>\n",
              "<p>1085897 rows × 1 columns</p>\n",
              "</div>\n",
              "      <button class=\"colab-df-convert\" onclick=\"convertToInteractive('df-7705675f-154f-4b3f-b5c2-38e41b173ab0')\"\n",
              "              title=\"Convert this dataframe to an interactive table.\"\n",
              "              style=\"display:none;\">\n",
              "        \n",
              "  <svg xmlns=\"http://www.w3.org/2000/svg\" height=\"24px\"viewBox=\"0 0 24 24\"\n",
              "       width=\"24px\">\n",
              "    <path d=\"M0 0h24v24H0V0z\" fill=\"none\"/>\n",
              "    <path d=\"M18.56 5.44l.94 2.06.94-2.06 2.06-.94-2.06-.94-.94-2.06-.94 2.06-2.06.94zm-11 1L8.5 8.5l.94-2.06 2.06-.94-2.06-.94L8.5 2.5l-.94 2.06-2.06.94zm10 10l.94 2.06.94-2.06 2.06-.94-2.06-.94-.94-2.06-.94 2.06-2.06.94z\"/><path d=\"M17.41 7.96l-1.37-1.37c-.4-.4-.92-.59-1.43-.59-.52 0-1.04.2-1.43.59L10.3 9.45l-7.72 7.72c-.78.78-.78 2.05 0 2.83L4 21.41c.39.39.9.59 1.41.59.51 0 1.02-.2 1.41-.59l7.78-7.78 2.81-2.81c.8-.78.8-2.07 0-2.86zM5.41 20L4 18.59l7.72-7.72 1.47 1.35L5.41 20z\"/>\n",
              "  </svg>\n",
              "      </button>\n",
              "      \n",
              "  <style>\n",
              "    .colab-df-container {\n",
              "      display:flex;\n",
              "      flex-wrap:wrap;\n",
              "      gap: 12px;\n",
              "    }\n",
              "\n",
              "    .colab-df-convert {\n",
              "      background-color: #E8F0FE;\n",
              "      border: none;\n",
              "      border-radius: 50%;\n",
              "      cursor: pointer;\n",
              "      display: none;\n",
              "      fill: #1967D2;\n",
              "      height: 32px;\n",
              "      padding: 0 0 0 0;\n",
              "      width: 32px;\n",
              "    }\n",
              "\n",
              "    .colab-df-convert:hover {\n",
              "      background-color: #E2EBFA;\n",
              "      box-shadow: 0px 1px 2px rgba(60, 64, 67, 0.3), 0px 1px 3px 1px rgba(60, 64, 67, 0.15);\n",
              "      fill: #174EA6;\n",
              "    }\n",
              "\n",
              "    [theme=dark] .colab-df-convert {\n",
              "      background-color: #3B4455;\n",
              "      fill: #D2E3FC;\n",
              "    }\n",
              "\n",
              "    [theme=dark] .colab-df-convert:hover {\n",
              "      background-color: #434B5C;\n",
              "      box-shadow: 0px 1px 3px 1px rgba(0, 0, 0, 0.15);\n",
              "      filter: drop-shadow(0px 1px 2px rgba(0, 0, 0, 0.3));\n",
              "      fill: #FFFFFF;\n",
              "    }\n",
              "  </style>\n",
              "\n",
              "      <script>\n",
              "        const buttonEl =\n",
              "          document.querySelector('#df-7705675f-154f-4b3f-b5c2-38e41b173ab0 button.colab-df-convert');\n",
              "        buttonEl.style.display =\n",
              "          google.colab.kernel.accessAllowed ? 'block' : 'none';\n",
              "\n",
              "        async function convertToInteractive(key) {\n",
              "          const element = document.querySelector('#df-7705675f-154f-4b3f-b5c2-38e41b173ab0');\n",
              "          const dataTable =\n",
              "            await google.colab.kernel.invokeFunction('convertToInteractive',\n",
              "                                                     [key], {});\n",
              "          if (!dataTable) return;\n",
              "\n",
              "          const docLinkHtml = 'Like what you see? Visit the ' +\n",
              "            '<a target=\"_blank\" href=https://colab.research.google.com/notebooks/data_table.ipynb>data table notebook</a>'\n",
              "            + ' to learn more about interactive tables.';\n",
              "          element.innerHTML = '';\n",
              "          dataTable['output_type'] = 'display_data';\n",
              "          await google.colab.output.renderOutput(dataTable, element);\n",
              "          const docLink = document.createElement('div');\n",
              "          docLink.innerHTML = docLinkHtml;\n",
              "          element.appendChild(docLink);\n",
              "        }\n",
              "      </script>\n",
              "    </div>\n",
              "  </div>\n",
              "  "
            ]
          },
          "metadata": {},
          "execution_count": 33
        }
      ]
    },
    {
      "cell_type": "code",
      "execution_count": null,
      "metadata": {
        "colab": {
          "base_uri": "https://localhost:8080/",
          "height": 641
        },
        "id": "9j_9WW-Geex0",
        "outputId": "41178b85-2e8f-4627-cc03-86ffe62784c3"
      },
      "outputs": [
        {
          "output_type": "execute_result",
          "data": {
            "text/plain": [
              "                                               customer_id  \\\n",
              "0        b018518500e1bdba7c00e0c71e5136a42cdbb8e87c1aa0...   \n",
              "1        9725fea0542581b104a1bbc3fe8f68896fb67e8dc3512b...   \n",
              "2        2978dbdc38dd7ade1153537ca38976c766d2ebefabae54...   \n",
              "3        dd123e290fadf6a72d0674c0096a47497e21d687a15dee...   \n",
              "4        c9d73d8646459d3b10c4c6d6440f271050c57811c76cb1...   \n",
              "...                                                    ...   \n",
              "1085892  b710c067ade7d0e50b33c13dc3a331b98c8108427cf6c0...   \n",
              "1085893  e1152d8635b9e46781528635cdafba6bd2c0bdd72c48ef...   \n",
              "1085894  e71277406206205d5c8ac3b2f61d18527a41514fde51dc...   \n",
              "1085895  27cda611cd1e6aace8ceb47333fb6f523966eba02d063c...   \n",
              "1085896  8d7bb8f07f7eeb72f4353ce88933c09cfcbb5e12225d21...   \n",
              "\n",
              "                                                prediction  \n",
              "0        0751471001 0918292001 0706016001 0915526001 07...  \n",
              "1        0751471001 0918292001 0706016001 0915526001 07...  \n",
              "2        0751471001 0918292001 0706016001 0915526001 07...  \n",
              "3        0751471001 0918292001 0706016001 0915526001 07...  \n",
              "4        0751471001 0918292001 0706016001 0915526001 07...  \n",
              "...                                                    ...  \n",
              "1085892  0751471001 0918292001 0706016001 0915526001 07...  \n",
              "1085893  0751471001 0918292001 0706016001 0915526001 07...  \n",
              "1085894  0751471001 0918292001 0706016001 0915526001 07...  \n",
              "1085895  0751471001 0918292001 0706016001 0915526001 07...  \n",
              "1085896  0751471001 0918292001 0706016001 0915526001 07...  \n",
              "\n",
              "[1085897 rows x 2 columns]"
            ],
            "text/html": [
              "\n",
              "  <div id=\"df-8e3ccab1-0764-49c1-ba05-9d1d497483a1\">\n",
              "    <div class=\"colab-df-container\">\n",
              "      <div>\n",
              "<style scoped>\n",
              "    .dataframe tbody tr th:only-of-type {\n",
              "        vertical-align: middle;\n",
              "    }\n",
              "\n",
              "    .dataframe tbody tr th {\n",
              "        vertical-align: top;\n",
              "    }\n",
              "\n",
              "    .dataframe thead th {\n",
              "        text-align: right;\n",
              "    }\n",
              "</style>\n",
              "<table border=\"1\" class=\"dataframe\">\n",
              "  <thead>\n",
              "    <tr style=\"text-align: right;\">\n",
              "      <th></th>\n",
              "      <th>customer_id</th>\n",
              "      <th>prediction</th>\n",
              "    </tr>\n",
              "  </thead>\n",
              "  <tbody>\n",
              "    <tr>\n",
              "      <th>0</th>\n",
              "      <td>b018518500e1bdba7c00e0c71e5136a42cdbb8e87c1aa0...</td>\n",
              "      <td>0751471001 0918292001 0706016001 0915526001 07...</td>\n",
              "    </tr>\n",
              "    <tr>\n",
              "      <th>1</th>\n",
              "      <td>9725fea0542581b104a1bbc3fe8f68896fb67e8dc3512b...</td>\n",
              "      <td>0751471001 0918292001 0706016001 0915526001 07...</td>\n",
              "    </tr>\n",
              "    <tr>\n",
              "      <th>2</th>\n",
              "      <td>2978dbdc38dd7ade1153537ca38976c766d2ebefabae54...</td>\n",
              "      <td>0751471001 0918292001 0706016001 0915526001 07...</td>\n",
              "    </tr>\n",
              "    <tr>\n",
              "      <th>3</th>\n",
              "      <td>dd123e290fadf6a72d0674c0096a47497e21d687a15dee...</td>\n",
              "      <td>0751471001 0918292001 0706016001 0915526001 07...</td>\n",
              "    </tr>\n",
              "    <tr>\n",
              "      <th>4</th>\n",
              "      <td>c9d73d8646459d3b10c4c6d6440f271050c57811c76cb1...</td>\n",
              "      <td>0751471001 0918292001 0706016001 0915526001 07...</td>\n",
              "    </tr>\n",
              "    <tr>\n",
              "      <th>...</th>\n",
              "      <td>...</td>\n",
              "      <td>...</td>\n",
              "    </tr>\n",
              "    <tr>\n",
              "      <th>1085892</th>\n",
              "      <td>b710c067ade7d0e50b33c13dc3a331b98c8108427cf6c0...</td>\n",
              "      <td>0751471001 0918292001 0706016001 0915526001 07...</td>\n",
              "    </tr>\n",
              "    <tr>\n",
              "      <th>1085893</th>\n",
              "      <td>e1152d8635b9e46781528635cdafba6bd2c0bdd72c48ef...</td>\n",
              "      <td>0751471001 0918292001 0706016001 0915526001 07...</td>\n",
              "    </tr>\n",
              "    <tr>\n",
              "      <th>1085894</th>\n",
              "      <td>e71277406206205d5c8ac3b2f61d18527a41514fde51dc...</td>\n",
              "      <td>0751471001 0918292001 0706016001 0915526001 07...</td>\n",
              "    </tr>\n",
              "    <tr>\n",
              "      <th>1085895</th>\n",
              "      <td>27cda611cd1e6aace8ceb47333fb6f523966eba02d063c...</td>\n",
              "      <td>0751471001 0918292001 0706016001 0915526001 07...</td>\n",
              "    </tr>\n",
              "    <tr>\n",
              "      <th>1085896</th>\n",
              "      <td>8d7bb8f07f7eeb72f4353ce88933c09cfcbb5e12225d21...</td>\n",
              "      <td>0751471001 0918292001 0706016001 0915526001 07...</td>\n",
              "    </tr>\n",
              "  </tbody>\n",
              "</table>\n",
              "<p>1085897 rows × 2 columns</p>\n",
              "</div>\n",
              "      <button class=\"colab-df-convert\" onclick=\"convertToInteractive('df-8e3ccab1-0764-49c1-ba05-9d1d497483a1')\"\n",
              "              title=\"Convert this dataframe to an interactive table.\"\n",
              "              style=\"display:none;\">\n",
              "        \n",
              "  <svg xmlns=\"http://www.w3.org/2000/svg\" height=\"24px\"viewBox=\"0 0 24 24\"\n",
              "       width=\"24px\">\n",
              "    <path d=\"M0 0h24v24H0V0z\" fill=\"none\"/>\n",
              "    <path d=\"M18.56 5.44l.94 2.06.94-2.06 2.06-.94-2.06-.94-.94-2.06-.94 2.06-2.06.94zm-11 1L8.5 8.5l.94-2.06 2.06-.94-2.06-.94L8.5 2.5l-.94 2.06-2.06.94zm10 10l.94 2.06.94-2.06 2.06-.94-2.06-.94-.94-2.06-.94 2.06-2.06.94z\"/><path d=\"M17.41 7.96l-1.37-1.37c-.4-.4-.92-.59-1.43-.59-.52 0-1.04.2-1.43.59L10.3 9.45l-7.72 7.72c-.78.78-.78 2.05 0 2.83L4 21.41c.39.39.9.59 1.41.59.51 0 1.02-.2 1.41-.59l7.78-7.78 2.81-2.81c.8-.78.8-2.07 0-2.86zM5.41 20L4 18.59l7.72-7.72 1.47 1.35L5.41 20z\"/>\n",
              "  </svg>\n",
              "      </button>\n",
              "      \n",
              "  <style>\n",
              "    .colab-df-container {\n",
              "      display:flex;\n",
              "      flex-wrap:wrap;\n",
              "      gap: 12px;\n",
              "    }\n",
              "\n",
              "    .colab-df-convert {\n",
              "      background-color: #E8F0FE;\n",
              "      border: none;\n",
              "      border-radius: 50%;\n",
              "      cursor: pointer;\n",
              "      display: none;\n",
              "      fill: #1967D2;\n",
              "      height: 32px;\n",
              "      padding: 0 0 0 0;\n",
              "      width: 32px;\n",
              "    }\n",
              "\n",
              "    .colab-df-convert:hover {\n",
              "      background-color: #E2EBFA;\n",
              "      box-shadow: 0px 1px 2px rgba(60, 64, 67, 0.3), 0px 1px 3px 1px rgba(60, 64, 67, 0.15);\n",
              "      fill: #174EA6;\n",
              "    }\n",
              "\n",
              "    [theme=dark] .colab-df-convert {\n",
              "      background-color: #3B4455;\n",
              "      fill: #D2E3FC;\n",
              "    }\n",
              "\n",
              "    [theme=dark] .colab-df-convert:hover {\n",
              "      background-color: #434B5C;\n",
              "      box-shadow: 0px 1px 3px 1px rgba(0, 0, 0, 0.15);\n",
              "      filter: drop-shadow(0px 1px 2px rgba(0, 0, 0, 0.3));\n",
              "      fill: #FFFFFF;\n",
              "    }\n",
              "  </style>\n",
              "\n",
              "      <script>\n",
              "        const buttonEl =\n",
              "          document.querySelector('#df-8e3ccab1-0764-49c1-ba05-9d1d497483a1 button.colab-df-convert');\n",
              "        buttonEl.style.display =\n",
              "          google.colab.kernel.accessAllowed ? 'block' : 'none';\n",
              "\n",
              "        async function convertToInteractive(key) {\n",
              "          const element = document.querySelector('#df-8e3ccab1-0764-49c1-ba05-9d1d497483a1');\n",
              "          const dataTable =\n",
              "            await google.colab.kernel.invokeFunction('convertToInteractive',\n",
              "                                                     [key], {});\n",
              "          if (!dataTable) return;\n",
              "\n",
              "          const docLinkHtml = 'Like what you see? Visit the ' +\n",
              "            '<a target=\"_blank\" href=https://colab.research.google.com/notebooks/data_table.ipynb>data table notebook</a>'\n",
              "            + ' to learn more about interactive tables.';\n",
              "          element.innerHTML = '';\n",
              "          dataTable['output_type'] = 'display_data';\n",
              "          await google.colab.output.renderOutput(dataTable, element);\n",
              "          const docLink = document.createElement('div');\n",
              "          docLink.innerHTML = docLinkHtml;\n",
              "          element.appendChild(docLink);\n",
              "        }\n",
              "      </script>\n",
              "    </div>\n",
              "  </div>\n",
              "  "
            ]
          },
          "metadata": {},
          "execution_count": 34
        }
      ],
      "source": [
        "df_new['prediction'] = best_articles\n",
        "df_new"
      ]
    },
    {
      "cell_type": "code",
      "execution_count": null,
      "metadata": {
        "colab": {
          "base_uri": "https://localhost:8080/",
          "height": 468
        },
        "id": "Ne2TP4AvmjVh",
        "outputId": "a4a08f29-569c-4702-a0ae-589004a10ca0"
      },
      "outputs": [
        {
          "output_type": "execute_result",
          "data": {
            "text/plain": [
              "                                              customer_id  \\\n",
              "0       b018518500e1bdba7c00e0c71e5136a42cdbb8e87c1aa0...   \n",
              "1       9725fea0542581b104a1bbc3fe8f68896fb67e8dc3512b...   \n",
              "2       2978dbdc38dd7ade1153537ca38976c766d2ebefabae54...   \n",
              "3       dd123e290fadf6a72d0674c0096a47497e21d687a15dee...   \n",
              "4       c9d73d8646459d3b10c4c6d6440f271050c57811c76cb1...   \n",
              "...                                                   ...   \n",
              "286078  ffff12aa623c69eae8959d673f1f12ad0194ad760d77fd...   \n",
              "286079  ffff61677073258d461e043cc9ed4ed97be5617a920640...   \n",
              "286080  ffffbbf78b6eaac697a8a5dfbfd2bfa8113ee5b403e474...   \n",
              "286081  ffffcd5046a6143d29a04fb8c424ce494a76e5cdf4fab5...   \n",
              "286082  ffffcf35913a0bee60e8741cb2b4e78b8a98ee5ff2e6a1...   \n",
              "\n",
              "                                               prediction  \n",
              "0       0751471001 0918292001 0706016001 0915526001 07...  \n",
              "1       0751471001 0918292001 0706016001 0915526001 07...  \n",
              "2       0751471001 0918292001 0706016001 0915526001 07...  \n",
              "3       0751471001 0918292001 0706016001 0915526001 07...  \n",
              "4       0751471001 0918292001 0706016001 0915526001 07...  \n",
              "...                                                   ...  \n",
              "286078  0737994021 0813051009 0630525039 0885970001 03...  \n",
              "286079  0889392001 0794567002 0889392002 0656067007 08...  \n",
              "286080  0804992013 0740922001 0791587010 0854663005 07...  \n",
              "286081  0762846027 0762846026 0889460003 0762846008 07...  \n",
              "286082  0762846026 0762846031 0534210006 0633109001 08...  \n",
              "\n",
              "[1371980 rows x 2 columns]"
            ],
            "text/html": [
              "\n",
              "  <div id=\"df-2697a3b3-c7b7-438f-b682-772cc0b7e5a0\">\n",
              "    <div class=\"colab-df-container\">\n",
              "      <div>\n",
              "<style scoped>\n",
              "    .dataframe tbody tr th:only-of-type {\n",
              "        vertical-align: middle;\n",
              "    }\n",
              "\n",
              "    .dataframe tbody tr th {\n",
              "        vertical-align: top;\n",
              "    }\n",
              "\n",
              "    .dataframe thead th {\n",
              "        text-align: right;\n",
              "    }\n",
              "</style>\n",
              "<table border=\"1\" class=\"dataframe\">\n",
              "  <thead>\n",
              "    <tr style=\"text-align: right;\">\n",
              "      <th></th>\n",
              "      <th>customer_id</th>\n",
              "      <th>prediction</th>\n",
              "    </tr>\n",
              "  </thead>\n",
              "  <tbody>\n",
              "    <tr>\n",
              "      <th>0</th>\n",
              "      <td>b018518500e1bdba7c00e0c71e5136a42cdbb8e87c1aa0...</td>\n",
              "      <td>0751471001 0918292001 0706016001 0915526001 07...</td>\n",
              "    </tr>\n",
              "    <tr>\n",
              "      <th>1</th>\n",
              "      <td>9725fea0542581b104a1bbc3fe8f68896fb67e8dc3512b...</td>\n",
              "      <td>0751471001 0918292001 0706016001 0915526001 07...</td>\n",
              "    </tr>\n",
              "    <tr>\n",
              "      <th>2</th>\n",
              "      <td>2978dbdc38dd7ade1153537ca38976c766d2ebefabae54...</td>\n",
              "      <td>0751471001 0918292001 0706016001 0915526001 07...</td>\n",
              "    </tr>\n",
              "    <tr>\n",
              "      <th>3</th>\n",
              "      <td>dd123e290fadf6a72d0674c0096a47497e21d687a15dee...</td>\n",
              "      <td>0751471001 0918292001 0706016001 0915526001 07...</td>\n",
              "    </tr>\n",
              "    <tr>\n",
              "      <th>4</th>\n",
              "      <td>c9d73d8646459d3b10c4c6d6440f271050c57811c76cb1...</td>\n",
              "      <td>0751471001 0918292001 0706016001 0915526001 07...</td>\n",
              "    </tr>\n",
              "    <tr>\n",
              "      <th>...</th>\n",
              "      <td>...</td>\n",
              "      <td>...</td>\n",
              "    </tr>\n",
              "    <tr>\n",
              "      <th>286078</th>\n",
              "      <td>ffff12aa623c69eae8959d673f1f12ad0194ad760d77fd...</td>\n",
              "      <td>0737994021 0813051009 0630525039 0885970001 03...</td>\n",
              "    </tr>\n",
              "    <tr>\n",
              "      <th>286079</th>\n",
              "      <td>ffff61677073258d461e043cc9ed4ed97be5617a920640...</td>\n",
              "      <td>0889392001 0794567002 0889392002 0656067007 08...</td>\n",
              "    </tr>\n",
              "    <tr>\n",
              "      <th>286080</th>\n",
              "      <td>ffffbbf78b6eaac697a8a5dfbfd2bfa8113ee5b403e474...</td>\n",
              "      <td>0804992013 0740922001 0791587010 0854663005 07...</td>\n",
              "    </tr>\n",
              "    <tr>\n",
              "      <th>286081</th>\n",
              "      <td>ffffcd5046a6143d29a04fb8c424ce494a76e5cdf4fab5...</td>\n",
              "      <td>0762846027 0762846026 0889460003 0762846008 07...</td>\n",
              "    </tr>\n",
              "    <tr>\n",
              "      <th>286082</th>\n",
              "      <td>ffffcf35913a0bee60e8741cb2b4e78b8a98ee5ff2e6a1...</td>\n",
              "      <td>0762846026 0762846031 0534210006 0633109001 08...</td>\n",
              "    </tr>\n",
              "  </tbody>\n",
              "</table>\n",
              "<p>1371980 rows × 2 columns</p>\n",
              "</div>\n",
              "      <button class=\"colab-df-convert\" onclick=\"convertToInteractive('df-2697a3b3-c7b7-438f-b682-772cc0b7e5a0')\"\n",
              "              title=\"Convert this dataframe to an interactive table.\"\n",
              "              style=\"display:none;\">\n",
              "        \n",
              "  <svg xmlns=\"http://www.w3.org/2000/svg\" height=\"24px\"viewBox=\"0 0 24 24\"\n",
              "       width=\"24px\">\n",
              "    <path d=\"M0 0h24v24H0V0z\" fill=\"none\"/>\n",
              "    <path d=\"M18.56 5.44l.94 2.06.94-2.06 2.06-.94-2.06-.94-.94-2.06-.94 2.06-2.06.94zm-11 1L8.5 8.5l.94-2.06 2.06-.94-2.06-.94L8.5 2.5l-.94 2.06-2.06.94zm10 10l.94 2.06.94-2.06 2.06-.94-2.06-.94-.94-2.06-.94 2.06-2.06.94z\"/><path d=\"M17.41 7.96l-1.37-1.37c-.4-.4-.92-.59-1.43-.59-.52 0-1.04.2-1.43.59L10.3 9.45l-7.72 7.72c-.78.78-.78 2.05 0 2.83L4 21.41c.39.39.9.59 1.41.59.51 0 1.02-.2 1.41-.59l7.78-7.78 2.81-2.81c.8-.78.8-2.07 0-2.86zM5.41 20L4 18.59l7.72-7.72 1.47 1.35L5.41 20z\"/>\n",
              "  </svg>\n",
              "      </button>\n",
              "      \n",
              "  <style>\n",
              "    .colab-df-container {\n",
              "      display:flex;\n",
              "      flex-wrap:wrap;\n",
              "      gap: 12px;\n",
              "    }\n",
              "\n",
              "    .colab-df-convert {\n",
              "      background-color: #E8F0FE;\n",
              "      border: none;\n",
              "      border-radius: 50%;\n",
              "      cursor: pointer;\n",
              "      display: none;\n",
              "      fill: #1967D2;\n",
              "      height: 32px;\n",
              "      padding: 0 0 0 0;\n",
              "      width: 32px;\n",
              "    }\n",
              "\n",
              "    .colab-df-convert:hover {\n",
              "      background-color: #E2EBFA;\n",
              "      box-shadow: 0px 1px 2px rgba(60, 64, 67, 0.3), 0px 1px 3px 1px rgba(60, 64, 67, 0.15);\n",
              "      fill: #174EA6;\n",
              "    }\n",
              "\n",
              "    [theme=dark] .colab-df-convert {\n",
              "      background-color: #3B4455;\n",
              "      fill: #D2E3FC;\n",
              "    }\n",
              "\n",
              "    [theme=dark] .colab-df-convert:hover {\n",
              "      background-color: #434B5C;\n",
              "      box-shadow: 0px 1px 3px 1px rgba(0, 0, 0, 0.15);\n",
              "      filter: drop-shadow(0px 1px 2px rgba(0, 0, 0, 0.3));\n",
              "      fill: #FFFFFF;\n",
              "    }\n",
              "  </style>\n",
              "\n",
              "      <script>\n",
              "        const buttonEl =\n",
              "          document.querySelector('#df-2697a3b3-c7b7-438f-b682-772cc0b7e5a0 button.colab-df-convert');\n",
              "        buttonEl.style.display =\n",
              "          google.colab.kernel.accessAllowed ? 'block' : 'none';\n",
              "\n",
              "        async function convertToInteractive(key) {\n",
              "          const element = document.querySelector('#df-2697a3b3-c7b7-438f-b682-772cc0b7e5a0');\n",
              "          const dataTable =\n",
              "            await google.colab.kernel.invokeFunction('convertToInteractive',\n",
              "                                                     [key], {});\n",
              "          if (!dataTable) return;\n",
              "\n",
              "          const docLinkHtml = 'Like what you see? Visit the ' +\n",
              "            '<a target=\"_blank\" href=https://colab.research.google.com/notebooks/data_table.ipynb>data table notebook</a>'\n",
              "            + ' to learn more about interactive tables.';\n",
              "          element.innerHTML = '';\n",
              "          dataTable['output_type'] = 'display_data';\n",
              "          await google.colab.output.renderOutput(dataTable, element);\n",
              "          const docLink = document.createElement('div');\n",
              "          docLink.innerHTML = docLinkHtml;\n",
              "          element.appendChild(docLink);\n",
              "        }\n",
              "      </script>\n",
              "    </div>\n",
              "  </div>\n",
              "  "
            ]
          },
          "metadata": {},
          "execution_count": 35
        }
      ],
      "source": [
        "submission = pd.concat([df_new,df_rec_f],axis=0)\n",
        "submission"
      ]
    },
    {
      "cell_type": "code",
      "source": [
        "submission.dtypes"
      ],
      "metadata": {
        "colab": {
          "base_uri": "https://localhost:8080/"
        },
        "id": "DE_QWSAl3y5p",
        "outputId": "02581479-f14b-4239-f0a0-7ca808e97e84"
      },
      "execution_count": null,
      "outputs": [
        {
          "output_type": "execute_result",
          "data": {
            "text/plain": [
              "customer_id    object\n",
              "prediction     object\n",
              "dtype: object"
            ]
          },
          "metadata": {},
          "execution_count": 36
        }
      ]
    },
    {
      "cell_type": "code",
      "source": [
        "len(submission['customer_id'].unique())"
      ],
      "metadata": {
        "colab": {
          "base_uri": "https://localhost:8080/"
        },
        "id": "3x6byzZP2d8D",
        "outputId": "37cbad64-ea1b-43e9-c746-c6f90e99a865"
      },
      "execution_count": null,
      "outputs": [
        {
          "output_type": "execute_result",
          "data": {
            "text/plain": [
              "1371980"
            ]
          },
          "metadata": {},
          "execution_count": 37
        }
      ]
    },
    {
      "cell_type": "code",
      "execution_count": null,
      "metadata": {
        "id": "zD73ZN4zmMHy"
      },
      "outputs": [],
      "source": [
        "submission.to_csv('my_submission.csv',index=False)"
      ]
    },
    {
      "cell_type": "code",
      "source": [],
      "metadata": {
        "id": "JAtWnaFHyIki"
      },
      "execution_count": null,
      "outputs": []
    }
  ],
  "metadata": {
    "accelerator": "GPU",
    "colab": {
      "collapsed_sections": [
        "W8vRBnjrKxYc",
        "WGxO3TZmg9Yv",
        "gqjWGLbticY6",
        "RyINVBRQig0p",
        "dndQFxQF0QH6"
      ],
      "provenance": [],
      "mount_file_id": "1zDYJZyXp4KYP_md5hQalbhDNscYdAt3L",
      "authorship_tag": "ABX9TyPLZJUvy4VSxMEHnP3MHXpd",
      "include_colab_link": true
    },
    "gpuClass": "standard",
    "kernelspec": {
      "display_name": "Python 3",
      "name": "python3"
    },
    "language_info": {
      "name": "python"
    }
  },
  "nbformat": 4,
  "nbformat_minor": 0
}