{
  "cells": [
    {
      "cell_type": "markdown",
      "metadata": {
        "id": "view-in-github",
        "colab_type": "text"
      },
      "source": [
        "<a href=\"https://colab.research.google.com/github/MakkiFourati/RecSys-Thesis/blob/main/Retrieval_Ranking.ipynb\" target=\"_parent\"><img src=\"https://colab.research.google.com/assets/colab-badge.svg\" alt=\"Open In Colab\"/></a>"
      ]
    },
    {
      "cell_type": "code",
      "execution_count": null,
      "metadata": {
        "id": "QCWRVvzQZzuF",
        "colab": {
          "base_uri": "https://localhost:8080/"
        },
        "outputId": "2e034cd8-d5d8-47c4-bc98-3bb0d16a6bad"
      },
      "outputs": [
        {
          "output_type": "stream",
          "name": "stdout",
          "text": [
            "Looking in indexes: https://pypi.org/simple, https://us-python.pkg.dev/colab-wheels/public/simple/\n",
            "Requirement already satisfied: turicreate in /usr/local/lib/python3.7/dist-packages (6.4.1)\n",
            "Requirement already satisfied: resampy==0.2.1 in /usr/local/lib/python3.7/dist-packages (from turicreate) (0.2.1)\n",
            "Requirement already satisfied: prettytable==0.7.2 in /usr/local/lib/python3.7/dist-packages (from turicreate) (0.7.2)\n",
            "Requirement already satisfied: scipy>=1.1.0 in /usr/local/lib/python3.7/dist-packages (from turicreate) (1.7.3)\n",
            "Requirement already satisfied: six>=1.10.0 in /usr/local/lib/python3.7/dist-packages (from turicreate) (1.15.0)\n",
            "Requirement already satisfied: numba<0.51.0 in /usr/local/lib/python3.7/dist-packages (from turicreate) (0.50.1)\n",
            "Requirement already satisfied: requests>=2.9.1 in /usr/local/lib/python3.7/dist-packages (from turicreate) (2.23.0)\n",
            "Requirement already satisfied: coremltools==3.3 in /usr/local/lib/python3.7/dist-packages (from turicreate) (3.3)\n",
            "Requirement already satisfied: tensorflow<2.1.0,>=2.0.0 in /usr/local/lib/python3.7/dist-packages (from turicreate) (2.0.4)\n",
            "Requirement already satisfied: pillow>=5.2.0 in /usr/local/lib/python3.7/dist-packages (from turicreate) (7.1.2)\n",
            "Requirement already satisfied: pandas>=0.23.2 in /usr/local/lib/python3.7/dist-packages (from turicreate) (1.3.5)\n",
            "Requirement already satisfied: numpy in /usr/local/lib/python3.7/dist-packages (from turicreate) (1.18.5)\n",
            "Requirement already satisfied: decorator>=4.0.9 in /usr/local/lib/python3.7/dist-packages (from turicreate) (4.4.2)\n",
            "Requirement already satisfied: protobuf>=3.1.0 in /usr/local/lib/python3.7/dist-packages (from coremltools==3.3->turicreate) (3.17.3)\n",
            "Requirement already satisfied: llvmlite<0.34,>=0.33.0.dev0 in /usr/local/lib/python3.7/dist-packages (from numba<0.51.0->turicreate) (0.33.0)\n",
            "Requirement already satisfied: setuptools in /usr/local/lib/python3.7/dist-packages (from numba<0.51.0->turicreate) (57.4.0)\n",
            "Requirement already satisfied: python-dateutil>=2.7.3 in /usr/local/lib/python3.7/dist-packages (from pandas>=0.23.2->turicreate) (2.8.2)\n",
            "Requirement already satisfied: pytz>=2017.3 in /usr/local/lib/python3.7/dist-packages (from pandas>=0.23.2->turicreate) (2022.2.1)\n",
            "Requirement already satisfied: chardet<4,>=3.0.2 in /usr/local/lib/python3.7/dist-packages (from requests>=2.9.1->turicreate) (3.0.4)\n",
            "Requirement already satisfied: idna<3,>=2.5 in /usr/local/lib/python3.7/dist-packages (from requests>=2.9.1->turicreate) (2.10)\n",
            "Requirement already satisfied: certifi>=2017.4.17 in /usr/local/lib/python3.7/dist-packages (from requests>=2.9.1->turicreate) (2022.6.15)\n",
            "Requirement already satisfied: urllib3!=1.25.0,!=1.25.1,<1.26,>=1.21.1 in /usr/local/lib/python3.7/dist-packages (from requests>=2.9.1->turicreate) (1.24.3)\n",
            "Requirement already satisfied: tensorflow-estimator<2.1.0,>=2.0.0 in /usr/local/lib/python3.7/dist-packages (from tensorflow<2.1.0,>=2.0.0->turicreate) (2.0.1)\n",
            "Requirement already satisfied: google-pasta>=0.1.6 in /usr/local/lib/python3.7/dist-packages (from tensorflow<2.1.0,>=2.0.0->turicreate) (0.2.0)\n",
            "Requirement already satisfied: opt-einsum>=2.3.2 in /usr/local/lib/python3.7/dist-packages (from tensorflow<2.1.0,>=2.0.0->turicreate) (3.3.0)\n",
            "Requirement already satisfied: termcolor>=1.1.0 in /usr/local/lib/python3.7/dist-packages (from tensorflow<2.1.0,>=2.0.0->turicreate) (1.1.0)\n",
            "Requirement already satisfied: keras-preprocessing>=1.0.5 in /usr/local/lib/python3.7/dist-packages (from tensorflow<2.1.0,>=2.0.0->turicreate) (1.1.2)\n",
            "Requirement already satisfied: h5py<=2.10.0 in /usr/local/lib/python3.7/dist-packages (from tensorflow<2.1.0,>=2.0.0->turicreate) (2.10.0)\n",
            "Requirement already satisfied: grpcio>=1.8.6 in /usr/local/lib/python3.7/dist-packages (from tensorflow<2.1.0,>=2.0.0->turicreate) (1.48.1)\n",
            "Requirement already satisfied: keras-applications>=1.0.8 in /usr/local/lib/python3.7/dist-packages (from tensorflow<2.1.0,>=2.0.0->turicreate) (1.0.8)\n",
            "Requirement already satisfied: wheel>=0.26 in /usr/local/lib/python3.7/dist-packages (from tensorflow<2.1.0,>=2.0.0->turicreate) (0.37.1)\n",
            "Requirement already satisfied: tensorboard<2.1.0,>=2.0.0 in /usr/local/lib/python3.7/dist-packages (from tensorflow<2.1.0,>=2.0.0->turicreate) (2.0.2)\n",
            "Requirement already satisfied: absl-py>=0.7.0 in /usr/local/lib/python3.7/dist-packages (from tensorflow<2.1.0,>=2.0.0->turicreate) (1.2.0)\n",
            "Requirement already satisfied: wrapt>=1.11.1 in /usr/local/lib/python3.7/dist-packages (from tensorflow<2.1.0,>=2.0.0->turicreate) (1.14.1)\n",
            "Requirement already satisfied: astor>=0.6.0 in /usr/local/lib/python3.7/dist-packages (from tensorflow<2.1.0,>=2.0.0->turicreate) (0.8.1)\n",
            "Requirement already satisfied: gast==0.2.2 in /usr/local/lib/python3.7/dist-packages (from tensorflow<2.1.0,>=2.0.0->turicreate) (0.2.2)\n",
            "Requirement already satisfied: google-auth<2,>=1.6.3 in /usr/local/lib/python3.7/dist-packages (from tensorboard<2.1.0,>=2.0.0->tensorflow<2.1.0,>=2.0.0->turicreate) (1.35.0)\n",
            "Requirement already satisfied: werkzeug>=0.11.15 in /usr/local/lib/python3.7/dist-packages (from tensorboard<2.1.0,>=2.0.0->tensorflow<2.1.0,>=2.0.0->turicreate) (1.0.1)\n",
            "Requirement already satisfied: google-auth-oauthlib<0.5,>=0.4.1 in /usr/local/lib/python3.7/dist-packages (from tensorboard<2.1.0,>=2.0.0->tensorflow<2.1.0,>=2.0.0->turicreate) (0.4.6)\n",
            "Requirement already satisfied: markdown>=2.6.8 in /usr/local/lib/python3.7/dist-packages (from tensorboard<2.1.0,>=2.0.0->tensorflow<2.1.0,>=2.0.0->turicreate) (3.4.1)\n",
            "Requirement already satisfied: pyasn1-modules>=0.2.1 in /usr/local/lib/python3.7/dist-packages (from google-auth<2,>=1.6.3->tensorboard<2.1.0,>=2.0.0->tensorflow<2.1.0,>=2.0.0->turicreate) (0.2.8)\n",
            "Requirement already satisfied: rsa<5,>=3.1.4 in /usr/local/lib/python3.7/dist-packages (from google-auth<2,>=1.6.3->tensorboard<2.1.0,>=2.0.0->tensorflow<2.1.0,>=2.0.0->turicreate) (4.9)\n",
            "Requirement already satisfied: cachetools<5.0,>=2.0.0 in /usr/local/lib/python3.7/dist-packages (from google-auth<2,>=1.6.3->tensorboard<2.1.0,>=2.0.0->tensorflow<2.1.0,>=2.0.0->turicreate) (4.2.4)\n",
            "Requirement already satisfied: requests-oauthlib>=0.7.0 in /usr/local/lib/python3.7/dist-packages (from google-auth-oauthlib<0.5,>=0.4.1->tensorboard<2.1.0,>=2.0.0->tensorflow<2.1.0,>=2.0.0->turicreate) (1.3.1)\n",
            "Requirement already satisfied: importlib-metadata>=4.4 in /usr/local/lib/python3.7/dist-packages (from markdown>=2.6.8->tensorboard<2.1.0,>=2.0.0->tensorflow<2.1.0,>=2.0.0->turicreate) (4.12.0)\n",
            "Requirement already satisfied: zipp>=0.5 in /usr/local/lib/python3.7/dist-packages (from importlib-metadata>=4.4->markdown>=2.6.8->tensorboard<2.1.0,>=2.0.0->tensorflow<2.1.0,>=2.0.0->turicreate) (3.8.1)\n",
            "Requirement already satisfied: typing-extensions>=3.6.4 in /usr/local/lib/python3.7/dist-packages (from importlib-metadata>=4.4->markdown>=2.6.8->tensorboard<2.1.0,>=2.0.0->tensorflow<2.1.0,>=2.0.0->turicreate) (4.1.1)\n",
            "Requirement already satisfied: pyasn1<0.5.0,>=0.4.6 in /usr/local/lib/python3.7/dist-packages (from pyasn1-modules>=0.2.1->google-auth<2,>=1.6.3->tensorboard<2.1.0,>=2.0.0->tensorflow<2.1.0,>=2.0.0->turicreate) (0.4.8)\n",
            "Requirement already satisfied: oauthlib>=3.0.0 in /usr/local/lib/python3.7/dist-packages (from requests-oauthlib>=0.7.0->google-auth-oauthlib<0.5,>=0.4.1->tensorboard<2.1.0,>=2.0.0->tensorflow<2.1.0,>=2.0.0->turicreate) (3.2.0)\n"
          ]
        }
      ],
      "source": [
        "!pip install turicreate"
      ]
    },
    {
      "cell_type": "code",
      "execution_count": null,
      "metadata": {
        "id": "GoI1coJLWYII"
      },
      "outputs": [],
      "source": [
        "import pandas as pd\n",
        "import numpy as np\n",
        "import time\n",
        "import turicreate as tc\n",
        "from datetime import date, datetime\n",
        "from sklearn.model_selection import train_test_split"
      ]
    },
    {
      "cell_type": "markdown",
      "metadata": {
        "id": "ax5B8LaoKh7G"
      },
      "source": [
        "# 1 Candidate Retrieval"
      ]
    },
    {
      "cell_type": "markdown",
      "source": [
        "## 1-1 Positive Samples"
      ],
      "metadata": {
        "id": "HC2OumthA548"
      }
    },
    {
      "cell_type": "code",
      "execution_count": null,
      "metadata": {
        "id": "7MeSy-eLYij6"
      },
      "outputs": [],
      "source": [
        "df_t = pd.read_csv('drive/MyDrive/Thesis/data/transactions_train.csv')"
      ]
    },
    {
      "cell_type": "code",
      "execution_count": null,
      "metadata": {
        "colab": {
          "base_uri": "https://localhost:8080/",
          "height": 661
        },
        "id": "COFsqNbeed-C",
        "outputId": "8f31dc13-8644-4c1c-d7a6-c37fbe01444c"
      },
      "outputs": [
        {
          "output_type": "execute_result",
          "data": {
            "text/plain": [
              "               t_dat                                        customer_id  \\\n",
              "0         2018-09-20  000058a12d5b43e67d225668fa1f8d618c13dc232df0ca...   \n",
              "1         2018-09-20  000058a12d5b43e67d225668fa1f8d618c13dc232df0ca...   \n",
              "2         2018-09-20  00007d2de826758b65a93dd24ce629ed66842531df6699...   \n",
              "3         2018-09-20  00007d2de826758b65a93dd24ce629ed66842531df6699...   \n",
              "4         2018-09-20  00007d2de826758b65a93dd24ce629ed66842531df6699...   \n",
              "...              ...                                                ...   \n",
              "31788319  2020-09-22  fff2282977442e327b45d8c89afde25617d00124d0f999...   \n",
              "31788320  2020-09-22  fff2282977442e327b45d8c89afde25617d00124d0f999...   \n",
              "31788321  2020-09-22  fff380805474b287b05cb2a7507b9a013482f7dd0bce0e...   \n",
              "31788322  2020-09-22  fff4d3a8b1f3b60af93e78c30a7cb4cf75edaf2590d3e5...   \n",
              "31788323  2020-09-22  fffef3b6b73545df065b521e19f64bf6fe93bfd450ab20...   \n",
              "\n",
              "          article_id     price  sales_channel_id  \n",
              "0          663713001  0.050831                 2  \n",
              "1          541518023  0.030492                 2  \n",
              "2          505221004  0.015237                 2  \n",
              "3          685687003  0.016932                 2  \n",
              "4          685687004  0.016932                 2  \n",
              "...              ...       ...               ...  \n",
              "31788319   929511001  0.059305                 2  \n",
              "31788320   891322004  0.042356                 2  \n",
              "31788321   918325001  0.043203                 1  \n",
              "31788322   833459002  0.006763                 1  \n",
              "31788323   898573003  0.033881                 2  \n",
              "\n",
              "[31788324 rows x 5 columns]"
            ],
            "text/html": [
              "\n",
              "  <div id=\"df-859c4571-46f3-4a40-9dab-e864171fd93b\">\n",
              "    <div class=\"colab-df-container\">\n",
              "      <div>\n",
              "<style scoped>\n",
              "    .dataframe tbody tr th:only-of-type {\n",
              "        vertical-align: middle;\n",
              "    }\n",
              "\n",
              "    .dataframe tbody tr th {\n",
              "        vertical-align: top;\n",
              "    }\n",
              "\n",
              "    .dataframe thead th {\n",
              "        text-align: right;\n",
              "    }\n",
              "</style>\n",
              "<table border=\"1\" class=\"dataframe\">\n",
              "  <thead>\n",
              "    <tr style=\"text-align: right;\">\n",
              "      <th></th>\n",
              "      <th>t_dat</th>\n",
              "      <th>customer_id</th>\n",
              "      <th>article_id</th>\n",
              "      <th>price</th>\n",
              "      <th>sales_channel_id</th>\n",
              "    </tr>\n",
              "  </thead>\n",
              "  <tbody>\n",
              "    <tr>\n",
              "      <th>0</th>\n",
              "      <td>2018-09-20</td>\n",
              "      <td>000058a12d5b43e67d225668fa1f8d618c13dc232df0ca...</td>\n",
              "      <td>663713001</td>\n",
              "      <td>0.050831</td>\n",
              "      <td>2</td>\n",
              "    </tr>\n",
              "    <tr>\n",
              "      <th>1</th>\n",
              "      <td>2018-09-20</td>\n",
              "      <td>000058a12d5b43e67d225668fa1f8d618c13dc232df0ca...</td>\n",
              "      <td>541518023</td>\n",
              "      <td>0.030492</td>\n",
              "      <td>2</td>\n",
              "    </tr>\n",
              "    <tr>\n",
              "      <th>2</th>\n",
              "      <td>2018-09-20</td>\n",
              "      <td>00007d2de826758b65a93dd24ce629ed66842531df6699...</td>\n",
              "      <td>505221004</td>\n",
              "      <td>0.015237</td>\n",
              "      <td>2</td>\n",
              "    </tr>\n",
              "    <tr>\n",
              "      <th>3</th>\n",
              "      <td>2018-09-20</td>\n",
              "      <td>00007d2de826758b65a93dd24ce629ed66842531df6699...</td>\n",
              "      <td>685687003</td>\n",
              "      <td>0.016932</td>\n",
              "      <td>2</td>\n",
              "    </tr>\n",
              "    <tr>\n",
              "      <th>4</th>\n",
              "      <td>2018-09-20</td>\n",
              "      <td>00007d2de826758b65a93dd24ce629ed66842531df6699...</td>\n",
              "      <td>685687004</td>\n",
              "      <td>0.016932</td>\n",
              "      <td>2</td>\n",
              "    </tr>\n",
              "    <tr>\n",
              "      <th>...</th>\n",
              "      <td>...</td>\n",
              "      <td>...</td>\n",
              "      <td>...</td>\n",
              "      <td>...</td>\n",
              "      <td>...</td>\n",
              "    </tr>\n",
              "    <tr>\n",
              "      <th>31788319</th>\n",
              "      <td>2020-09-22</td>\n",
              "      <td>fff2282977442e327b45d8c89afde25617d00124d0f999...</td>\n",
              "      <td>929511001</td>\n",
              "      <td>0.059305</td>\n",
              "      <td>2</td>\n",
              "    </tr>\n",
              "    <tr>\n",
              "      <th>31788320</th>\n",
              "      <td>2020-09-22</td>\n",
              "      <td>fff2282977442e327b45d8c89afde25617d00124d0f999...</td>\n",
              "      <td>891322004</td>\n",
              "      <td>0.042356</td>\n",
              "      <td>2</td>\n",
              "    </tr>\n",
              "    <tr>\n",
              "      <th>31788321</th>\n",
              "      <td>2020-09-22</td>\n",
              "      <td>fff380805474b287b05cb2a7507b9a013482f7dd0bce0e...</td>\n",
              "      <td>918325001</td>\n",
              "      <td>0.043203</td>\n",
              "      <td>1</td>\n",
              "    </tr>\n",
              "    <tr>\n",
              "      <th>31788322</th>\n",
              "      <td>2020-09-22</td>\n",
              "      <td>fff4d3a8b1f3b60af93e78c30a7cb4cf75edaf2590d3e5...</td>\n",
              "      <td>833459002</td>\n",
              "      <td>0.006763</td>\n",
              "      <td>1</td>\n",
              "    </tr>\n",
              "    <tr>\n",
              "      <th>31788323</th>\n",
              "      <td>2020-09-22</td>\n",
              "      <td>fffef3b6b73545df065b521e19f64bf6fe93bfd450ab20...</td>\n",
              "      <td>898573003</td>\n",
              "      <td>0.033881</td>\n",
              "      <td>2</td>\n",
              "    </tr>\n",
              "  </tbody>\n",
              "</table>\n",
              "<p>31788324 rows × 5 columns</p>\n",
              "</div>\n",
              "      <button class=\"colab-df-convert\" onclick=\"convertToInteractive('df-859c4571-46f3-4a40-9dab-e864171fd93b')\"\n",
              "              title=\"Convert this dataframe to an interactive table.\"\n",
              "              style=\"display:none;\">\n",
              "        \n",
              "  <svg xmlns=\"http://www.w3.org/2000/svg\" height=\"24px\"viewBox=\"0 0 24 24\"\n",
              "       width=\"24px\">\n",
              "    <path d=\"M0 0h24v24H0V0z\" fill=\"none\"/>\n",
              "    <path d=\"M18.56 5.44l.94 2.06.94-2.06 2.06-.94-2.06-.94-.94-2.06-.94 2.06-2.06.94zm-11 1L8.5 8.5l.94-2.06 2.06-.94-2.06-.94L8.5 2.5l-.94 2.06-2.06.94zm10 10l.94 2.06.94-2.06 2.06-.94-2.06-.94-.94-2.06-.94 2.06-2.06.94z\"/><path d=\"M17.41 7.96l-1.37-1.37c-.4-.4-.92-.59-1.43-.59-.52 0-1.04.2-1.43.59L10.3 9.45l-7.72 7.72c-.78.78-.78 2.05 0 2.83L4 21.41c.39.39.9.59 1.41.59.51 0 1.02-.2 1.41-.59l7.78-7.78 2.81-2.81c.8-.78.8-2.07 0-2.86zM5.41 20L4 18.59l7.72-7.72 1.47 1.35L5.41 20z\"/>\n",
              "  </svg>\n",
              "      </button>\n",
              "      \n",
              "  <style>\n",
              "    .colab-df-container {\n",
              "      display:flex;\n",
              "      flex-wrap:wrap;\n",
              "      gap: 12px;\n",
              "    }\n",
              "\n",
              "    .colab-df-convert {\n",
              "      background-color: #E8F0FE;\n",
              "      border: none;\n",
              "      border-radius: 50%;\n",
              "      cursor: pointer;\n",
              "      display: none;\n",
              "      fill: #1967D2;\n",
              "      height: 32px;\n",
              "      padding: 0 0 0 0;\n",
              "      width: 32px;\n",
              "    }\n",
              "\n",
              "    .colab-df-convert:hover {\n",
              "      background-color: #E2EBFA;\n",
              "      box-shadow: 0px 1px 2px rgba(60, 64, 67, 0.3), 0px 1px 3px 1px rgba(60, 64, 67, 0.15);\n",
              "      fill: #174EA6;\n",
              "    }\n",
              "\n",
              "    [theme=dark] .colab-df-convert {\n",
              "      background-color: #3B4455;\n",
              "      fill: #D2E3FC;\n",
              "    }\n",
              "\n",
              "    [theme=dark] .colab-df-convert:hover {\n",
              "      background-color: #434B5C;\n",
              "      box-shadow: 0px 1px 3px 1px rgba(0, 0, 0, 0.15);\n",
              "      filter: drop-shadow(0px 1px 2px rgba(0, 0, 0, 0.3));\n",
              "      fill: #FFFFFF;\n",
              "    }\n",
              "  </style>\n",
              "\n",
              "      <script>\n",
              "        const buttonEl =\n",
              "          document.querySelector('#df-859c4571-46f3-4a40-9dab-e864171fd93b button.colab-df-convert');\n",
              "        buttonEl.style.display =\n",
              "          google.colab.kernel.accessAllowed ? 'block' : 'none';\n",
              "\n",
              "        async function convertToInteractive(key) {\n",
              "          const element = document.querySelector('#df-859c4571-46f3-4a40-9dab-e864171fd93b');\n",
              "          const dataTable =\n",
              "            await google.colab.kernel.invokeFunction('convertToInteractive',\n",
              "                                                     [key], {});\n",
              "          if (!dataTable) return;\n",
              "\n",
              "          const docLinkHtml = 'Like what you see? Visit the ' +\n",
              "            '<a target=\"_blank\" href=https://colab.research.google.com/notebooks/data_table.ipynb>data table notebook</a>'\n",
              "            + ' to learn more about interactive tables.';\n",
              "          element.innerHTML = '';\n",
              "          dataTable['output_type'] = 'display_data';\n",
              "          await google.colab.output.renderOutput(dataTable, element);\n",
              "          const docLink = document.createElement('div');\n",
              "          docLink.innerHTML = docLinkHtml;\n",
              "          element.appendChild(docLink);\n",
              "        }\n",
              "      </script>\n",
              "    </div>\n",
              "  </div>\n",
              "  "
            ]
          },
          "metadata": {},
          "execution_count": 3
        }
      ],
      "source": [
        "df_t"
      ]
    },
    {
      "cell_type": "code",
      "execution_count": null,
      "metadata": {
        "colab": {
          "base_uri": "https://localhost:8080/"
        },
        "id": "UH_CEHdZfMHz",
        "outputId": "4332a64a-58bd-469b-d645-c111490a8eed"
      },
      "outputs": [
        {
          "output_type": "execute_result",
          "data": {
            "text/plain": [
              "t_dat               datetime64[ns]\n",
              "customer_id                 object\n",
              "article_id                   int64\n",
              "price                      float64\n",
              "sales_channel_id             int64\n",
              "dtype: object"
            ]
          },
          "metadata": {},
          "execution_count": 3
        }
      ],
      "source": [
        "df_t.t_dat = pd.to_datetime(df_t.t_dat)\n",
        "df_t.dtypes"
      ]
    },
    {
      "cell_type": "code",
      "execution_count": null,
      "metadata": {
        "id": "G-w-fTMYcyZ_"
      },
      "outputs": [],
      "source": [
        "#df_train = df_t[(df_t['t_dat'] >= datetime(2020,8,19)) & (df_t['t_dat'] <= datetime(2020,9,15))]\n",
        "#df_val = df_t[(df_t['t_dat']>=datetime(2020,9,16))]\n",
        "df_train = df_t[df_t['t_dat'] >= datetime(2020,8,5)]"
      ]
    },
    {
      "cell_type": "code",
      "source": [
        "del df_t"
      ],
      "metadata": {
        "id": "89GROXF5IiJS"
      },
      "execution_count": null,
      "outputs": []
    },
    {
      "cell_type": "code",
      "source": [
        "def week_encode(d):\n",
        "  if d <= datetime(2020,8,11):\n",
        "    return 1\n",
        "  elif d <= datetime(2020,8,18):\n",
        "    return 2\n",
        "  elif d <= datetime(2020,8,25):\n",
        "    return 3\n",
        "  elif d <= datetime(2020,9,1):\n",
        "    return 4\n",
        "  elif d <= datetime(2020,9,8):\n",
        "    return 5\n",
        "  elif d <= datetime(2020,9,15):\n",
        "    return 6\n",
        "  else:\n",
        "    return 7"
      ],
      "metadata": {
        "id": "xD613SLfBpH0"
      },
      "execution_count": null,
      "outputs": []
    },
    {
      "cell_type": "code",
      "source": [
        "df_train = df_train.drop_duplicates(subset=df_train.columns.to_list())"
      ],
      "metadata": {
        "id": "I4sDAJJ4ffIG"
      },
      "execution_count": null,
      "outputs": []
    },
    {
      "cell_type": "code",
      "source": [
        "df_train['week'] = df_train['t_dat'].apply(week_encode)\n",
        "df_train.sort_values('t_dat')"
      ],
      "metadata": {
        "colab": {
          "base_uri": "https://localhost:8080/",
          "height": 661
        },
        "id": "Ze-pVWmJCbpQ",
        "outputId": "5b5ffb55-2c16-4766-d0fe-ae806de40ca3"
      },
      "execution_count": null,
      "outputs": [
        {
          "output_type": "execute_result",
          "data": {
            "text/plain": [
              "              t_dat                                        customer_id  \\\n",
              "29933918 2020-08-05  0011e0bd4c39195ff342c0ca0ac0601ce2b943a8265506...   \n",
              "29969470 2020-08-05  aa0779c1a1dcd4bae98731cf10c9be8070ff102a998f4e...   \n",
              "29969471 2020-08-05  aa0779c1a1dcd4bae98731cf10c9be8070ff102a998f4e...   \n",
              "29969472 2020-08-05  aa0779c1a1dcd4bae98731cf10c9be8070ff102a998f4e...   \n",
              "29969473 2020-08-05  aa0779c1a1dcd4bae98731cf10c9be8070ff102a998f4e...   \n",
              "...             ...                                                ...   \n",
              "31766357 2020-09-22  53da4b44e81286ed175a46d8ffd5a2baf47843089dc03f...   \n",
              "31766356 2020-09-22  53da4b44e81286ed175a46d8ffd5a2baf47843089dc03f...   \n",
              "31766355 2020-09-22  53d894ef004472123c51784d6de628ae9efbb823c1295b...   \n",
              "31766352 2020-09-22  53d5f95331b01525404c3cbb2da6a84e1173dccb979d28...   \n",
              "31788323 2020-09-22  fffef3b6b73545df065b521e19f64bf6fe93bfd450ab20...   \n",
              "\n",
              "          article_id     price  sales_channel_id  week  \n",
              "29933918   751471042  0.032746                 2     1  \n",
              "29969470   749615006  0.020322                 2     1  \n",
              "29969471   790564001  0.025407                 2     1  \n",
              "29969472   861558003  0.016932                 2     1  \n",
              "29969473   918547001  0.008458                 2     1  \n",
              "...              ...       ...               ...   ...  \n",
              "31766357   874169001  0.042356                 1     7  \n",
              "31766356   793506006  0.025407                 1     7  \n",
              "31766355   904416001  0.033881                 2     7  \n",
              "31766352   752814020  0.033881                 2     7  \n",
              "31788323   898573003  0.033881                 2     7  \n",
              "\n",
              "[1692779 rows x 6 columns]"
            ],
            "text/html": [
              "\n",
              "  <div id=\"df-26cf8636-f928-4e98-b714-b62b004cf364\">\n",
              "    <div class=\"colab-df-container\">\n",
              "      <div>\n",
              "<style scoped>\n",
              "    .dataframe tbody tr th:only-of-type {\n",
              "        vertical-align: middle;\n",
              "    }\n",
              "\n",
              "    .dataframe tbody tr th {\n",
              "        vertical-align: top;\n",
              "    }\n",
              "\n",
              "    .dataframe thead th {\n",
              "        text-align: right;\n",
              "    }\n",
              "</style>\n",
              "<table border=\"1\" class=\"dataframe\">\n",
              "  <thead>\n",
              "    <tr style=\"text-align: right;\">\n",
              "      <th></th>\n",
              "      <th>t_dat</th>\n",
              "      <th>customer_id</th>\n",
              "      <th>article_id</th>\n",
              "      <th>price</th>\n",
              "      <th>sales_channel_id</th>\n",
              "      <th>week</th>\n",
              "    </tr>\n",
              "  </thead>\n",
              "  <tbody>\n",
              "    <tr>\n",
              "      <th>29933918</th>\n",
              "      <td>2020-08-05</td>\n",
              "      <td>0011e0bd4c39195ff342c0ca0ac0601ce2b943a8265506...</td>\n",
              "      <td>751471042</td>\n",
              "      <td>0.032746</td>\n",
              "      <td>2</td>\n",
              "      <td>1</td>\n",
              "    </tr>\n",
              "    <tr>\n",
              "      <th>29969470</th>\n",
              "      <td>2020-08-05</td>\n",
              "      <td>aa0779c1a1dcd4bae98731cf10c9be8070ff102a998f4e...</td>\n",
              "      <td>749615006</td>\n",
              "      <td>0.020322</td>\n",
              "      <td>2</td>\n",
              "      <td>1</td>\n",
              "    </tr>\n",
              "    <tr>\n",
              "      <th>29969471</th>\n",
              "      <td>2020-08-05</td>\n",
              "      <td>aa0779c1a1dcd4bae98731cf10c9be8070ff102a998f4e...</td>\n",
              "      <td>790564001</td>\n",
              "      <td>0.025407</td>\n",
              "      <td>2</td>\n",
              "      <td>1</td>\n",
              "    </tr>\n",
              "    <tr>\n",
              "      <th>29969472</th>\n",
              "      <td>2020-08-05</td>\n",
              "      <td>aa0779c1a1dcd4bae98731cf10c9be8070ff102a998f4e...</td>\n",
              "      <td>861558003</td>\n",
              "      <td>0.016932</td>\n",
              "      <td>2</td>\n",
              "      <td>1</td>\n",
              "    </tr>\n",
              "    <tr>\n",
              "      <th>29969473</th>\n",
              "      <td>2020-08-05</td>\n",
              "      <td>aa0779c1a1dcd4bae98731cf10c9be8070ff102a998f4e...</td>\n",
              "      <td>918547001</td>\n",
              "      <td>0.008458</td>\n",
              "      <td>2</td>\n",
              "      <td>1</td>\n",
              "    </tr>\n",
              "    <tr>\n",
              "      <th>...</th>\n",
              "      <td>...</td>\n",
              "      <td>...</td>\n",
              "      <td>...</td>\n",
              "      <td>...</td>\n",
              "      <td>...</td>\n",
              "      <td>...</td>\n",
              "    </tr>\n",
              "    <tr>\n",
              "      <th>31766357</th>\n",
              "      <td>2020-09-22</td>\n",
              "      <td>53da4b44e81286ed175a46d8ffd5a2baf47843089dc03f...</td>\n",
              "      <td>874169001</td>\n",
              "      <td>0.042356</td>\n",
              "      <td>1</td>\n",
              "      <td>7</td>\n",
              "    </tr>\n",
              "    <tr>\n",
              "      <th>31766356</th>\n",
              "      <td>2020-09-22</td>\n",
              "      <td>53da4b44e81286ed175a46d8ffd5a2baf47843089dc03f...</td>\n",
              "      <td>793506006</td>\n",
              "      <td>0.025407</td>\n",
              "      <td>1</td>\n",
              "      <td>7</td>\n",
              "    </tr>\n",
              "    <tr>\n",
              "      <th>31766355</th>\n",
              "      <td>2020-09-22</td>\n",
              "      <td>53d894ef004472123c51784d6de628ae9efbb823c1295b...</td>\n",
              "      <td>904416001</td>\n",
              "      <td>0.033881</td>\n",
              "      <td>2</td>\n",
              "      <td>7</td>\n",
              "    </tr>\n",
              "    <tr>\n",
              "      <th>31766352</th>\n",
              "      <td>2020-09-22</td>\n",
              "      <td>53d5f95331b01525404c3cbb2da6a84e1173dccb979d28...</td>\n",
              "      <td>752814020</td>\n",
              "      <td>0.033881</td>\n",
              "      <td>2</td>\n",
              "      <td>7</td>\n",
              "    </tr>\n",
              "    <tr>\n",
              "      <th>31788323</th>\n",
              "      <td>2020-09-22</td>\n",
              "      <td>fffef3b6b73545df065b521e19f64bf6fe93bfd450ab20...</td>\n",
              "      <td>898573003</td>\n",
              "      <td>0.033881</td>\n",
              "      <td>2</td>\n",
              "      <td>7</td>\n",
              "    </tr>\n",
              "  </tbody>\n",
              "</table>\n",
              "<p>1692779 rows × 6 columns</p>\n",
              "</div>\n",
              "      <button class=\"colab-df-convert\" onclick=\"convertToInteractive('df-26cf8636-f928-4e98-b714-b62b004cf364')\"\n",
              "              title=\"Convert this dataframe to an interactive table.\"\n",
              "              style=\"display:none;\">\n",
              "        \n",
              "  <svg xmlns=\"http://www.w3.org/2000/svg\" height=\"24px\"viewBox=\"0 0 24 24\"\n",
              "       width=\"24px\">\n",
              "    <path d=\"M0 0h24v24H0V0z\" fill=\"none\"/>\n",
              "    <path d=\"M18.56 5.44l.94 2.06.94-2.06 2.06-.94-2.06-.94-.94-2.06-.94 2.06-2.06.94zm-11 1L8.5 8.5l.94-2.06 2.06-.94-2.06-.94L8.5 2.5l-.94 2.06-2.06.94zm10 10l.94 2.06.94-2.06 2.06-.94-2.06-.94-.94-2.06-.94 2.06-2.06.94z\"/><path d=\"M17.41 7.96l-1.37-1.37c-.4-.4-.92-.59-1.43-.59-.52 0-1.04.2-1.43.59L10.3 9.45l-7.72 7.72c-.78.78-.78 2.05 0 2.83L4 21.41c.39.39.9.59 1.41.59.51 0 1.02-.2 1.41-.59l7.78-7.78 2.81-2.81c.8-.78.8-2.07 0-2.86zM5.41 20L4 18.59l7.72-7.72 1.47 1.35L5.41 20z\"/>\n",
              "  </svg>\n",
              "      </button>\n",
              "      \n",
              "  <style>\n",
              "    .colab-df-container {\n",
              "      display:flex;\n",
              "      flex-wrap:wrap;\n",
              "      gap: 12px;\n",
              "    }\n",
              "\n",
              "    .colab-df-convert {\n",
              "      background-color: #E8F0FE;\n",
              "      border: none;\n",
              "      border-radius: 50%;\n",
              "      cursor: pointer;\n",
              "      display: none;\n",
              "      fill: #1967D2;\n",
              "      height: 32px;\n",
              "      padding: 0 0 0 0;\n",
              "      width: 32px;\n",
              "    }\n",
              "\n",
              "    .colab-df-convert:hover {\n",
              "      background-color: #E2EBFA;\n",
              "      box-shadow: 0px 1px 2px rgba(60, 64, 67, 0.3), 0px 1px 3px 1px rgba(60, 64, 67, 0.15);\n",
              "      fill: #174EA6;\n",
              "    }\n",
              "\n",
              "    [theme=dark] .colab-df-convert {\n",
              "      background-color: #3B4455;\n",
              "      fill: #D2E3FC;\n",
              "    }\n",
              "\n",
              "    [theme=dark] .colab-df-convert:hover {\n",
              "      background-color: #434B5C;\n",
              "      box-shadow: 0px 1px 3px 1px rgba(0, 0, 0, 0.15);\n",
              "      filter: drop-shadow(0px 1px 2px rgba(0, 0, 0, 0.3));\n",
              "      fill: #FFFFFF;\n",
              "    }\n",
              "  </style>\n",
              "\n",
              "      <script>\n",
              "        const buttonEl =\n",
              "          document.querySelector('#df-26cf8636-f928-4e98-b714-b62b004cf364 button.colab-df-convert');\n",
              "        buttonEl.style.display =\n",
              "          google.colab.kernel.accessAllowed ? 'block' : 'none';\n",
              "\n",
              "        async function convertToInteractive(key) {\n",
              "          const element = document.querySelector('#df-26cf8636-f928-4e98-b714-b62b004cf364');\n",
              "          const dataTable =\n",
              "            await google.colab.kernel.invokeFunction('convertToInteractive',\n",
              "                                                     [key], {});\n",
              "          if (!dataTable) return;\n",
              "\n",
              "          const docLinkHtml = 'Like what you see? Visit the ' +\n",
              "            '<a target=\"_blank\" href=https://colab.research.google.com/notebooks/data_table.ipynb>data table notebook</a>'\n",
              "            + ' to learn more about interactive tables.';\n",
              "          element.innerHTML = '';\n",
              "          dataTable['output_type'] = 'display_data';\n",
              "          await google.colab.output.renderOutput(dataTable, element);\n",
              "          const docLink = document.createElement('div');\n",
              "          docLink.innerHTML = docLinkHtml;\n",
              "          element.appendChild(docLink);\n",
              "        }\n",
              "      </script>\n",
              "    </div>\n",
              "  </div>\n",
              "  "
            ]
          },
          "metadata": {},
          "execution_count": 8
        }
      ]
    },
    {
      "cell_type": "code",
      "source": [
        "df_train.groupby('week')['t_dat'].count()"
      ],
      "metadata": {
        "colab": {
          "base_uri": "https://localhost:8080/"
        },
        "id": "6nT73SnDDR5b",
        "outputId": "35683208-e6ed-4f46-9e43-41f500458a2e"
      },
      "execution_count": null,
      "outputs": [
        {
          "output_type": "execute_result",
          "data": {
            "text/plain": [
              "week\n",
              "1    263971\n",
              "2    242131\n",
              "3    234712\n",
              "4    259513\n",
              "5    242228\n",
              "6    232308\n",
              "7    217916\n",
              "Name: t_dat, dtype: int64"
            ]
          },
          "metadata": {},
          "execution_count": 12
        }
      ]
    },
    {
      "cell_type": "code",
      "source": [
        "tmp = df_train[['customer_id','week']].groupby('customer_id',as_index=False).max()"
      ],
      "metadata": {
        "id": "sDXOMrqsvPHQ"
      },
      "execution_count": null,
      "outputs": []
    },
    {
      "cell_type": "code",
      "source": [
        "#df_positives = df_train.merge(tmp, on = ['customer_id', 'week']).loc[:,['customer_id','article_id']]\n",
        "df_positives = df_train.merge(tmp, on = ['customer_id', 'week'])#.drop(columns=['t_dat','week'])"
      ],
      "metadata": {
        "id": "0OtYpYQxIW7u"
      },
      "execution_count": null,
      "outputs": []
    },
    {
      "cell_type": "code",
      "source": [
        "df_positives"
      ],
      "metadata": {
        "id": "ym13BH3UaGR-"
      },
      "execution_count": null,
      "outputs": []
    },
    {
      "cell_type": "code",
      "source": [
        "df_positives['label'] = 1"
      ],
      "metadata": {
        "id": "q3ARTnVxbAYI"
      },
      "execution_count": null,
      "outputs": []
    },
    {
      "cell_type": "code",
      "source": [
        "df_train.shape"
      ],
      "metadata": {
        "colab": {
          "base_uri": "https://localhost:8080/"
        },
        "id": "RJa3txZxcIYn",
        "outputId": "080b9137-f179-42fc-9053-f3d0998e72d8"
      },
      "execution_count": null,
      "outputs": [
        {
          "output_type": "execute_result",
          "data": {
            "text/plain": [
              "(1692779, 6)"
            ]
          },
          "metadata": {},
          "execution_count": 17
        }
      ]
    },
    {
      "cell_type": "markdown",
      "source": [
        "## 1-2 Negative Samples"
      ],
      "metadata": {
        "id": "1Fb4POmYW1Ee"
      }
    },
    {
      "cell_type": "markdown",
      "source": [
        "### Repurchase"
      ],
      "metadata": {
        "id": "H8QkxC9Ni7JI"
      }
    },
    {
      "cell_type": "code",
      "source": [
        "df_positives = df_positives.merge(df_train,how='right',on=df_train.columns.to_list())\n",
        "df_positives"
      ],
      "metadata": {
        "colab": {
          "base_uri": "https://localhost:8080/",
          "height": 661
        },
        "id": "So56FLq-bBLn",
        "outputId": "d2cb6e3e-b982-4a90-b0a3-38d67ef331f1"
      },
      "execution_count": null,
      "outputs": [
        {
          "output_type": "execute_result",
          "data": {
            "text/plain": [
              "             t_dat                                        customer_id  \\\n",
              "0       2020-08-05  0011e0bd4c39195ff342c0ca0ac0601ce2b943a8265506...   \n",
              "1       2020-08-05  0011e0bd4c39195ff342c0ca0ac0601ce2b943a8265506...   \n",
              "2       2020-08-05  0011e0bd4c39195ff342c0ca0ac0601ce2b943a8265506...   \n",
              "3       2020-08-05  0013bde09d10db6b0a6a3b0987ac60b643013dfc6f924b...   \n",
              "4       2020-08-05  0013bde09d10db6b0a6a3b0987ac60b643013dfc6f924b...   \n",
              "...            ...                                                ...   \n",
              "1692774 2020-09-22  fff2282977442e327b45d8c89afde25617d00124d0f999...   \n",
              "1692775 2020-09-22  fff2282977442e327b45d8c89afde25617d00124d0f999...   \n",
              "1692776 2020-09-22  fff380805474b287b05cb2a7507b9a013482f7dd0bce0e...   \n",
              "1692777 2020-09-22  fff4d3a8b1f3b60af93e78c30a7cb4cf75edaf2590d3e5...   \n",
              "1692778 2020-09-22  fffef3b6b73545df065b521e19f64bf6fe93bfd450ab20...   \n",
              "\n",
              "         article_id     price  sales_channel_id  week  label  \n",
              "0         751471042  0.032746                 2     1    NaN  \n",
              "1         824499006  0.065525                 2     1    NaN  \n",
              "2         913688001  0.032746                 2     1    NaN  \n",
              "3         776237020  0.025407                 2     1    1.0  \n",
              "4         599580055  0.016932                 2     1    1.0  \n",
              "...             ...       ...               ...   ...    ...  \n",
              "1692774   929511001  0.059305                 2     7    1.0  \n",
              "1692775   891322004  0.042356                 2     7    1.0  \n",
              "1692776   918325001  0.043203                 1     7    1.0  \n",
              "1692777   833459002  0.006763                 1     7    1.0  \n",
              "1692778   898573003  0.033881                 2     7    1.0  \n",
              "\n",
              "[1692779 rows x 7 columns]"
            ],
            "text/html": [
              "\n",
              "  <div id=\"df-5aa5e8b9-61e2-4a6c-b286-ed0f3414284b\">\n",
              "    <div class=\"colab-df-container\">\n",
              "      <div>\n",
              "<style scoped>\n",
              "    .dataframe tbody tr th:only-of-type {\n",
              "        vertical-align: middle;\n",
              "    }\n",
              "\n",
              "    .dataframe tbody tr th {\n",
              "        vertical-align: top;\n",
              "    }\n",
              "\n",
              "    .dataframe thead th {\n",
              "        text-align: right;\n",
              "    }\n",
              "</style>\n",
              "<table border=\"1\" class=\"dataframe\">\n",
              "  <thead>\n",
              "    <tr style=\"text-align: right;\">\n",
              "      <th></th>\n",
              "      <th>t_dat</th>\n",
              "      <th>customer_id</th>\n",
              "      <th>article_id</th>\n",
              "      <th>price</th>\n",
              "      <th>sales_channel_id</th>\n",
              "      <th>week</th>\n",
              "      <th>label</th>\n",
              "    </tr>\n",
              "  </thead>\n",
              "  <tbody>\n",
              "    <tr>\n",
              "      <th>0</th>\n",
              "      <td>2020-08-05</td>\n",
              "      <td>0011e0bd4c39195ff342c0ca0ac0601ce2b943a8265506...</td>\n",
              "      <td>751471042</td>\n",
              "      <td>0.032746</td>\n",
              "      <td>2</td>\n",
              "      <td>1</td>\n",
              "      <td>NaN</td>\n",
              "    </tr>\n",
              "    <tr>\n",
              "      <th>1</th>\n",
              "      <td>2020-08-05</td>\n",
              "      <td>0011e0bd4c39195ff342c0ca0ac0601ce2b943a8265506...</td>\n",
              "      <td>824499006</td>\n",
              "      <td>0.065525</td>\n",
              "      <td>2</td>\n",
              "      <td>1</td>\n",
              "      <td>NaN</td>\n",
              "    </tr>\n",
              "    <tr>\n",
              "      <th>2</th>\n",
              "      <td>2020-08-05</td>\n",
              "      <td>0011e0bd4c39195ff342c0ca0ac0601ce2b943a8265506...</td>\n",
              "      <td>913688001</td>\n",
              "      <td>0.032746</td>\n",
              "      <td>2</td>\n",
              "      <td>1</td>\n",
              "      <td>NaN</td>\n",
              "    </tr>\n",
              "    <tr>\n",
              "      <th>3</th>\n",
              "      <td>2020-08-05</td>\n",
              "      <td>0013bde09d10db6b0a6a3b0987ac60b643013dfc6f924b...</td>\n",
              "      <td>776237020</td>\n",
              "      <td>0.025407</td>\n",
              "      <td>2</td>\n",
              "      <td>1</td>\n",
              "      <td>1.0</td>\n",
              "    </tr>\n",
              "    <tr>\n",
              "      <th>4</th>\n",
              "      <td>2020-08-05</td>\n",
              "      <td>0013bde09d10db6b0a6a3b0987ac60b643013dfc6f924b...</td>\n",
              "      <td>599580055</td>\n",
              "      <td>0.016932</td>\n",
              "      <td>2</td>\n",
              "      <td>1</td>\n",
              "      <td>1.0</td>\n",
              "    </tr>\n",
              "    <tr>\n",
              "      <th>...</th>\n",
              "      <td>...</td>\n",
              "      <td>...</td>\n",
              "      <td>...</td>\n",
              "      <td>...</td>\n",
              "      <td>...</td>\n",
              "      <td>...</td>\n",
              "      <td>...</td>\n",
              "    </tr>\n",
              "    <tr>\n",
              "      <th>1692774</th>\n",
              "      <td>2020-09-22</td>\n",
              "      <td>fff2282977442e327b45d8c89afde25617d00124d0f999...</td>\n",
              "      <td>929511001</td>\n",
              "      <td>0.059305</td>\n",
              "      <td>2</td>\n",
              "      <td>7</td>\n",
              "      <td>1.0</td>\n",
              "    </tr>\n",
              "    <tr>\n",
              "      <th>1692775</th>\n",
              "      <td>2020-09-22</td>\n",
              "      <td>fff2282977442e327b45d8c89afde25617d00124d0f999...</td>\n",
              "      <td>891322004</td>\n",
              "      <td>0.042356</td>\n",
              "      <td>2</td>\n",
              "      <td>7</td>\n",
              "      <td>1.0</td>\n",
              "    </tr>\n",
              "    <tr>\n",
              "      <th>1692776</th>\n",
              "      <td>2020-09-22</td>\n",
              "      <td>fff380805474b287b05cb2a7507b9a013482f7dd0bce0e...</td>\n",
              "      <td>918325001</td>\n",
              "      <td>0.043203</td>\n",
              "      <td>1</td>\n",
              "      <td>7</td>\n",
              "      <td>1.0</td>\n",
              "    </tr>\n",
              "    <tr>\n",
              "      <th>1692777</th>\n",
              "      <td>2020-09-22</td>\n",
              "      <td>fff4d3a8b1f3b60af93e78c30a7cb4cf75edaf2590d3e5...</td>\n",
              "      <td>833459002</td>\n",
              "      <td>0.006763</td>\n",
              "      <td>1</td>\n",
              "      <td>7</td>\n",
              "      <td>1.0</td>\n",
              "    </tr>\n",
              "    <tr>\n",
              "      <th>1692778</th>\n",
              "      <td>2020-09-22</td>\n",
              "      <td>fffef3b6b73545df065b521e19f64bf6fe93bfd450ab20...</td>\n",
              "      <td>898573003</td>\n",
              "      <td>0.033881</td>\n",
              "      <td>2</td>\n",
              "      <td>7</td>\n",
              "      <td>1.0</td>\n",
              "    </tr>\n",
              "  </tbody>\n",
              "</table>\n",
              "<p>1692779 rows × 7 columns</p>\n",
              "</div>\n",
              "      <button class=\"colab-df-convert\" onclick=\"convertToInteractive('df-5aa5e8b9-61e2-4a6c-b286-ed0f3414284b')\"\n",
              "              title=\"Convert this dataframe to an interactive table.\"\n",
              "              style=\"display:none;\">\n",
              "        \n",
              "  <svg xmlns=\"http://www.w3.org/2000/svg\" height=\"24px\"viewBox=\"0 0 24 24\"\n",
              "       width=\"24px\">\n",
              "    <path d=\"M0 0h24v24H0V0z\" fill=\"none\"/>\n",
              "    <path d=\"M18.56 5.44l.94 2.06.94-2.06 2.06-.94-2.06-.94-.94-2.06-.94 2.06-2.06.94zm-11 1L8.5 8.5l.94-2.06 2.06-.94-2.06-.94L8.5 2.5l-.94 2.06-2.06.94zm10 10l.94 2.06.94-2.06 2.06-.94-2.06-.94-.94-2.06-.94 2.06-2.06.94z\"/><path d=\"M17.41 7.96l-1.37-1.37c-.4-.4-.92-.59-1.43-.59-.52 0-1.04.2-1.43.59L10.3 9.45l-7.72 7.72c-.78.78-.78 2.05 0 2.83L4 21.41c.39.39.9.59 1.41.59.51 0 1.02-.2 1.41-.59l7.78-7.78 2.81-2.81c.8-.78.8-2.07 0-2.86zM5.41 20L4 18.59l7.72-7.72 1.47 1.35L5.41 20z\"/>\n",
              "  </svg>\n",
              "      </button>\n",
              "      \n",
              "  <style>\n",
              "    .colab-df-container {\n",
              "      display:flex;\n",
              "      flex-wrap:wrap;\n",
              "      gap: 12px;\n",
              "    }\n",
              "\n",
              "    .colab-df-convert {\n",
              "      background-color: #E8F0FE;\n",
              "      border: none;\n",
              "      border-radius: 50%;\n",
              "      cursor: pointer;\n",
              "      display: none;\n",
              "      fill: #1967D2;\n",
              "      height: 32px;\n",
              "      padding: 0 0 0 0;\n",
              "      width: 32px;\n",
              "    }\n",
              "\n",
              "    .colab-df-convert:hover {\n",
              "      background-color: #E2EBFA;\n",
              "      box-shadow: 0px 1px 2px rgba(60, 64, 67, 0.3), 0px 1px 3px 1px rgba(60, 64, 67, 0.15);\n",
              "      fill: #174EA6;\n",
              "    }\n",
              "\n",
              "    [theme=dark] .colab-df-convert {\n",
              "      background-color: #3B4455;\n",
              "      fill: #D2E3FC;\n",
              "    }\n",
              "\n",
              "    [theme=dark] .colab-df-convert:hover {\n",
              "      background-color: #434B5C;\n",
              "      box-shadow: 0px 1px 3px 1px rgba(0, 0, 0, 0.15);\n",
              "      filter: drop-shadow(0px 1px 2px rgba(0, 0, 0, 0.3));\n",
              "      fill: #FFFFFF;\n",
              "    }\n",
              "  </style>\n",
              "\n",
              "      <script>\n",
              "        const buttonEl =\n",
              "          document.querySelector('#df-5aa5e8b9-61e2-4a6c-b286-ed0f3414284b button.colab-df-convert');\n",
              "        buttonEl.style.display =\n",
              "          google.colab.kernel.accessAllowed ? 'block' : 'none';\n",
              "\n",
              "        async function convertToInteractive(key) {\n",
              "          const element = document.querySelector('#df-5aa5e8b9-61e2-4a6c-b286-ed0f3414284b');\n",
              "          const dataTable =\n",
              "            await google.colab.kernel.invokeFunction('convertToInteractive',\n",
              "                                                     [key], {});\n",
              "          if (!dataTable) return;\n",
              "\n",
              "          const docLinkHtml = 'Like what you see? Visit the ' +\n",
              "            '<a target=\"_blank\" href=https://colab.research.google.com/notebooks/data_table.ipynb>data table notebook</a>'\n",
              "            + ' to learn more about interactive tables.';\n",
              "          element.innerHTML = '';\n",
              "          dataTable['output_type'] = 'display_data';\n",
              "          await google.colab.output.renderOutput(dataTable, element);\n",
              "          const docLink = document.createElement('div');\n",
              "          docLink.innerHTML = docLinkHtml;\n",
              "          element.appendChild(docLink);\n",
              "        }\n",
              "      </script>\n",
              "    </div>\n",
              "  </div>\n",
              "  "
            ]
          },
          "metadata": {},
          "execution_count": 18
        }
      ]
    },
    {
      "cell_type": "code",
      "source": [
        "df_positives['label'] = df_positives['label'].fillna(0)"
      ],
      "metadata": {
        "id": "h8HB1fYVgpmP"
      },
      "execution_count": null,
      "outputs": []
    },
    {
      "cell_type": "code",
      "source": [
        "df_positives.groupby('label').count()"
      ],
      "metadata": {
        "colab": {
          "base_uri": "https://localhost:8080/",
          "height": 143
        },
        "id": "DXC667gLg0b9",
        "outputId": "cdbfdd90-52dc-44b7-8ae0-ac153706aae7"
      },
      "execution_count": null,
      "outputs": [
        {
          "output_type": "execute_result",
          "data": {
            "text/plain": [
              "         t_dat  customer_id  article_id    price  sales_channel_id     week\n",
              "label                                                                      \n",
              "0.0     604093       604093      604093   604093            604093   604093\n",
              "1.0    1088686      1088686     1088686  1088686           1088686  1088686"
            ],
            "text/html": [
              "\n",
              "  <div id=\"df-b12bc02d-1244-4685-a3f0-19db08817e10\">\n",
              "    <div class=\"colab-df-container\">\n",
              "      <div>\n",
              "<style scoped>\n",
              "    .dataframe tbody tr th:only-of-type {\n",
              "        vertical-align: middle;\n",
              "    }\n",
              "\n",
              "    .dataframe tbody tr th {\n",
              "        vertical-align: top;\n",
              "    }\n",
              "\n",
              "    .dataframe thead th {\n",
              "        text-align: right;\n",
              "    }\n",
              "</style>\n",
              "<table border=\"1\" class=\"dataframe\">\n",
              "  <thead>\n",
              "    <tr style=\"text-align: right;\">\n",
              "      <th></th>\n",
              "      <th>t_dat</th>\n",
              "      <th>customer_id</th>\n",
              "      <th>article_id</th>\n",
              "      <th>price</th>\n",
              "      <th>sales_channel_id</th>\n",
              "      <th>week</th>\n",
              "    </tr>\n",
              "    <tr>\n",
              "      <th>label</th>\n",
              "      <th></th>\n",
              "      <th></th>\n",
              "      <th></th>\n",
              "      <th></th>\n",
              "      <th></th>\n",
              "      <th></th>\n",
              "    </tr>\n",
              "  </thead>\n",
              "  <tbody>\n",
              "    <tr>\n",
              "      <th>0.0</th>\n",
              "      <td>604093</td>\n",
              "      <td>604093</td>\n",
              "      <td>604093</td>\n",
              "      <td>604093</td>\n",
              "      <td>604093</td>\n",
              "      <td>604093</td>\n",
              "    </tr>\n",
              "    <tr>\n",
              "      <th>1.0</th>\n",
              "      <td>1088686</td>\n",
              "      <td>1088686</td>\n",
              "      <td>1088686</td>\n",
              "      <td>1088686</td>\n",
              "      <td>1088686</td>\n",
              "      <td>1088686</td>\n",
              "    </tr>\n",
              "  </tbody>\n",
              "</table>\n",
              "</div>\n",
              "      <button class=\"colab-df-convert\" onclick=\"convertToInteractive('df-b12bc02d-1244-4685-a3f0-19db08817e10')\"\n",
              "              title=\"Convert this dataframe to an interactive table.\"\n",
              "              style=\"display:none;\">\n",
              "        \n",
              "  <svg xmlns=\"http://www.w3.org/2000/svg\" height=\"24px\"viewBox=\"0 0 24 24\"\n",
              "       width=\"24px\">\n",
              "    <path d=\"M0 0h24v24H0V0z\" fill=\"none\"/>\n",
              "    <path d=\"M18.56 5.44l.94 2.06.94-2.06 2.06-.94-2.06-.94-.94-2.06-.94 2.06-2.06.94zm-11 1L8.5 8.5l.94-2.06 2.06-.94-2.06-.94L8.5 2.5l-.94 2.06-2.06.94zm10 10l.94 2.06.94-2.06 2.06-.94-2.06-.94-.94-2.06-.94 2.06-2.06.94z\"/><path d=\"M17.41 7.96l-1.37-1.37c-.4-.4-.92-.59-1.43-.59-.52 0-1.04.2-1.43.59L10.3 9.45l-7.72 7.72c-.78.78-.78 2.05 0 2.83L4 21.41c.39.39.9.59 1.41.59.51 0 1.02-.2 1.41-.59l7.78-7.78 2.81-2.81c.8-.78.8-2.07 0-2.86zM5.41 20L4 18.59l7.72-7.72 1.47 1.35L5.41 20z\"/>\n",
              "  </svg>\n",
              "      </button>\n",
              "      \n",
              "  <style>\n",
              "    .colab-df-container {\n",
              "      display:flex;\n",
              "      flex-wrap:wrap;\n",
              "      gap: 12px;\n",
              "    }\n",
              "\n",
              "    .colab-df-convert {\n",
              "      background-color: #E8F0FE;\n",
              "      border: none;\n",
              "      border-radius: 50%;\n",
              "      cursor: pointer;\n",
              "      display: none;\n",
              "      fill: #1967D2;\n",
              "      height: 32px;\n",
              "      padding: 0 0 0 0;\n",
              "      width: 32px;\n",
              "    }\n",
              "\n",
              "    .colab-df-convert:hover {\n",
              "      background-color: #E2EBFA;\n",
              "      box-shadow: 0px 1px 2px rgba(60, 64, 67, 0.3), 0px 1px 3px 1px rgba(60, 64, 67, 0.15);\n",
              "      fill: #174EA6;\n",
              "    }\n",
              "\n",
              "    [theme=dark] .colab-df-convert {\n",
              "      background-color: #3B4455;\n",
              "      fill: #D2E3FC;\n",
              "    }\n",
              "\n",
              "    [theme=dark] .colab-df-convert:hover {\n",
              "      background-color: #434B5C;\n",
              "      box-shadow: 0px 1px 3px 1px rgba(0, 0, 0, 0.15);\n",
              "      filter: drop-shadow(0px 1px 2px rgba(0, 0, 0, 0.3));\n",
              "      fill: #FFFFFF;\n",
              "    }\n",
              "  </style>\n",
              "\n",
              "      <script>\n",
              "        const buttonEl =\n",
              "          document.querySelector('#df-b12bc02d-1244-4685-a3f0-19db08817e10 button.colab-df-convert');\n",
              "        buttonEl.style.display =\n",
              "          google.colab.kernel.accessAllowed ? 'block' : 'none';\n",
              "\n",
              "        async function convertToInteractive(key) {\n",
              "          const element = document.querySelector('#df-b12bc02d-1244-4685-a3f0-19db08817e10');\n",
              "          const dataTable =\n",
              "            await google.colab.kernel.invokeFunction('convertToInteractive',\n",
              "                                                     [key], {});\n",
              "          if (!dataTable) return;\n",
              "\n",
              "          const docLinkHtml = 'Like what you see? Visit the ' +\n",
              "            '<a target=\"_blank\" href=https://colab.research.google.com/notebooks/data_table.ipynb>data table notebook</a>'\n",
              "            + ' to learn more about interactive tables.';\n",
              "          element.innerHTML = '';\n",
              "          dataTable['output_type'] = 'display_data';\n",
              "          await google.colab.output.renderOutput(dataTable, element);\n",
              "          const docLink = document.createElement('div');\n",
              "          docLink.innerHTML = docLinkHtml;\n",
              "          element.appendChild(docLink);\n",
              "        }\n",
              "      </script>\n",
              "    </div>\n",
              "  </div>\n",
              "  "
            ]
          },
          "metadata": {},
          "execution_count": 20
        }
      ]
    },
    {
      "cell_type": "code",
      "source": [
        "del tmp"
      ],
      "metadata": {
        "id": "xCOdWU3G0QQW"
      },
      "execution_count": null,
      "outputs": []
    },
    {
      "cell_type": "code",
      "source": [
        "df_positives['CF'] = 0\n",
        "df_positives['CF_score'] = 0\n",
        "df_positives"
      ],
      "metadata": {
        "colab": {
          "base_uri": "https://localhost:8080/",
          "height": 661
        },
        "id": "7egmbafDlACE",
        "outputId": "a52d3bed-b530-4092-be94-404f0ad9d489"
      },
      "execution_count": null,
      "outputs": [
        {
          "output_type": "execute_result",
          "data": {
            "text/plain": [
              "             t_dat                                        customer_id  \\\n",
              "0       2020-08-05  0011e0bd4c39195ff342c0ca0ac0601ce2b943a8265506...   \n",
              "1       2020-08-05  0011e0bd4c39195ff342c0ca0ac0601ce2b943a8265506...   \n",
              "2       2020-08-05  0011e0bd4c39195ff342c0ca0ac0601ce2b943a8265506...   \n",
              "3       2020-08-05  0013bde09d10db6b0a6a3b0987ac60b643013dfc6f924b...   \n",
              "4       2020-08-05  0013bde09d10db6b0a6a3b0987ac60b643013dfc6f924b...   \n",
              "...            ...                                                ...   \n",
              "1692774 2020-09-22  fff2282977442e327b45d8c89afde25617d00124d0f999...   \n",
              "1692775 2020-09-22  fff2282977442e327b45d8c89afde25617d00124d0f999...   \n",
              "1692776 2020-09-22  fff380805474b287b05cb2a7507b9a013482f7dd0bce0e...   \n",
              "1692777 2020-09-22  fff4d3a8b1f3b60af93e78c30a7cb4cf75edaf2590d3e5...   \n",
              "1692778 2020-09-22  fffef3b6b73545df065b521e19f64bf6fe93bfd450ab20...   \n",
              "\n",
              "         article_id     price  sales_channel_id  week  label  CF  CF_score  \n",
              "0         751471042  0.032746                 2     1    0.0   0         0  \n",
              "1         824499006  0.065525                 2     1    0.0   0         0  \n",
              "2         913688001  0.032746                 2     1    0.0   0         0  \n",
              "3         776237020  0.025407                 2     1    1.0   0         0  \n",
              "4         599580055  0.016932                 2     1    1.0   0         0  \n",
              "...             ...       ...               ...   ...    ...  ..       ...  \n",
              "1692774   929511001  0.059305                 2     7    1.0   0         0  \n",
              "1692775   891322004  0.042356                 2     7    1.0   0         0  \n",
              "1692776   918325001  0.043203                 1     7    1.0   0         0  \n",
              "1692777   833459002  0.006763                 1     7    1.0   0         0  \n",
              "1692778   898573003  0.033881                 2     7    1.0   0         0  \n",
              "\n",
              "[1692779 rows x 9 columns]"
            ],
            "text/html": [
              "\n",
              "  <div id=\"df-908ab409-a3c2-473a-95ca-acfe961fb596\">\n",
              "    <div class=\"colab-df-container\">\n",
              "      <div>\n",
              "<style scoped>\n",
              "    .dataframe tbody tr th:only-of-type {\n",
              "        vertical-align: middle;\n",
              "    }\n",
              "\n",
              "    .dataframe tbody tr th {\n",
              "        vertical-align: top;\n",
              "    }\n",
              "\n",
              "    .dataframe thead th {\n",
              "        text-align: right;\n",
              "    }\n",
              "</style>\n",
              "<table border=\"1\" class=\"dataframe\">\n",
              "  <thead>\n",
              "    <tr style=\"text-align: right;\">\n",
              "      <th></th>\n",
              "      <th>t_dat</th>\n",
              "      <th>customer_id</th>\n",
              "      <th>article_id</th>\n",
              "      <th>price</th>\n",
              "      <th>sales_channel_id</th>\n",
              "      <th>week</th>\n",
              "      <th>label</th>\n",
              "      <th>CF</th>\n",
              "      <th>CF_score</th>\n",
              "    </tr>\n",
              "  </thead>\n",
              "  <tbody>\n",
              "    <tr>\n",
              "      <th>0</th>\n",
              "      <td>2020-08-05</td>\n",
              "      <td>0011e0bd4c39195ff342c0ca0ac0601ce2b943a8265506...</td>\n",
              "      <td>751471042</td>\n",
              "      <td>0.032746</td>\n",
              "      <td>2</td>\n",
              "      <td>1</td>\n",
              "      <td>0.0</td>\n",
              "      <td>0</td>\n",
              "      <td>0</td>\n",
              "    </tr>\n",
              "    <tr>\n",
              "      <th>1</th>\n",
              "      <td>2020-08-05</td>\n",
              "      <td>0011e0bd4c39195ff342c0ca0ac0601ce2b943a8265506...</td>\n",
              "      <td>824499006</td>\n",
              "      <td>0.065525</td>\n",
              "      <td>2</td>\n",
              "      <td>1</td>\n",
              "      <td>0.0</td>\n",
              "      <td>0</td>\n",
              "      <td>0</td>\n",
              "    </tr>\n",
              "    <tr>\n",
              "      <th>2</th>\n",
              "      <td>2020-08-05</td>\n",
              "      <td>0011e0bd4c39195ff342c0ca0ac0601ce2b943a8265506...</td>\n",
              "      <td>913688001</td>\n",
              "      <td>0.032746</td>\n",
              "      <td>2</td>\n",
              "      <td>1</td>\n",
              "      <td>0.0</td>\n",
              "      <td>0</td>\n",
              "      <td>0</td>\n",
              "    </tr>\n",
              "    <tr>\n",
              "      <th>3</th>\n",
              "      <td>2020-08-05</td>\n",
              "      <td>0013bde09d10db6b0a6a3b0987ac60b643013dfc6f924b...</td>\n",
              "      <td>776237020</td>\n",
              "      <td>0.025407</td>\n",
              "      <td>2</td>\n",
              "      <td>1</td>\n",
              "      <td>1.0</td>\n",
              "      <td>0</td>\n",
              "      <td>0</td>\n",
              "    </tr>\n",
              "    <tr>\n",
              "      <th>4</th>\n",
              "      <td>2020-08-05</td>\n",
              "      <td>0013bde09d10db6b0a6a3b0987ac60b643013dfc6f924b...</td>\n",
              "      <td>599580055</td>\n",
              "      <td>0.016932</td>\n",
              "      <td>2</td>\n",
              "      <td>1</td>\n",
              "      <td>1.0</td>\n",
              "      <td>0</td>\n",
              "      <td>0</td>\n",
              "    </tr>\n",
              "    <tr>\n",
              "      <th>...</th>\n",
              "      <td>...</td>\n",
              "      <td>...</td>\n",
              "      <td>...</td>\n",
              "      <td>...</td>\n",
              "      <td>...</td>\n",
              "      <td>...</td>\n",
              "      <td>...</td>\n",
              "      <td>...</td>\n",
              "      <td>...</td>\n",
              "    </tr>\n",
              "    <tr>\n",
              "      <th>1692774</th>\n",
              "      <td>2020-09-22</td>\n",
              "      <td>fff2282977442e327b45d8c89afde25617d00124d0f999...</td>\n",
              "      <td>929511001</td>\n",
              "      <td>0.059305</td>\n",
              "      <td>2</td>\n",
              "      <td>7</td>\n",
              "      <td>1.0</td>\n",
              "      <td>0</td>\n",
              "      <td>0</td>\n",
              "    </tr>\n",
              "    <tr>\n",
              "      <th>1692775</th>\n",
              "      <td>2020-09-22</td>\n",
              "      <td>fff2282977442e327b45d8c89afde25617d00124d0f999...</td>\n",
              "      <td>891322004</td>\n",
              "      <td>0.042356</td>\n",
              "      <td>2</td>\n",
              "      <td>7</td>\n",
              "      <td>1.0</td>\n",
              "      <td>0</td>\n",
              "      <td>0</td>\n",
              "    </tr>\n",
              "    <tr>\n",
              "      <th>1692776</th>\n",
              "      <td>2020-09-22</td>\n",
              "      <td>fff380805474b287b05cb2a7507b9a013482f7dd0bce0e...</td>\n",
              "      <td>918325001</td>\n",
              "      <td>0.043203</td>\n",
              "      <td>1</td>\n",
              "      <td>7</td>\n",
              "      <td>1.0</td>\n",
              "      <td>0</td>\n",
              "      <td>0</td>\n",
              "    </tr>\n",
              "    <tr>\n",
              "      <th>1692777</th>\n",
              "      <td>2020-09-22</td>\n",
              "      <td>fff4d3a8b1f3b60af93e78c30a7cb4cf75edaf2590d3e5...</td>\n",
              "      <td>833459002</td>\n",
              "      <td>0.006763</td>\n",
              "      <td>1</td>\n",
              "      <td>7</td>\n",
              "      <td>1.0</td>\n",
              "      <td>0</td>\n",
              "      <td>0</td>\n",
              "    </tr>\n",
              "    <tr>\n",
              "      <th>1692778</th>\n",
              "      <td>2020-09-22</td>\n",
              "      <td>fffef3b6b73545df065b521e19f64bf6fe93bfd450ab20...</td>\n",
              "      <td>898573003</td>\n",
              "      <td>0.033881</td>\n",
              "      <td>2</td>\n",
              "      <td>7</td>\n",
              "      <td>1.0</td>\n",
              "      <td>0</td>\n",
              "      <td>0</td>\n",
              "    </tr>\n",
              "  </tbody>\n",
              "</table>\n",
              "<p>1692779 rows × 9 columns</p>\n",
              "</div>\n",
              "      <button class=\"colab-df-convert\" onclick=\"convertToInteractive('df-908ab409-a3c2-473a-95ca-acfe961fb596')\"\n",
              "              title=\"Convert this dataframe to an interactive table.\"\n",
              "              style=\"display:none;\">\n",
              "        \n",
              "  <svg xmlns=\"http://www.w3.org/2000/svg\" height=\"24px\"viewBox=\"0 0 24 24\"\n",
              "       width=\"24px\">\n",
              "    <path d=\"M0 0h24v24H0V0z\" fill=\"none\"/>\n",
              "    <path d=\"M18.56 5.44l.94 2.06.94-2.06 2.06-.94-2.06-.94-.94-2.06-.94 2.06-2.06.94zm-11 1L8.5 8.5l.94-2.06 2.06-.94-2.06-.94L8.5 2.5l-.94 2.06-2.06.94zm10 10l.94 2.06.94-2.06 2.06-.94-2.06-.94-.94-2.06-.94 2.06-2.06.94z\"/><path d=\"M17.41 7.96l-1.37-1.37c-.4-.4-.92-.59-1.43-.59-.52 0-1.04.2-1.43.59L10.3 9.45l-7.72 7.72c-.78.78-.78 2.05 0 2.83L4 21.41c.39.39.9.59 1.41.59.51 0 1.02-.2 1.41-.59l7.78-7.78 2.81-2.81c.8-.78.8-2.07 0-2.86zM5.41 20L4 18.59l7.72-7.72 1.47 1.35L5.41 20z\"/>\n",
              "  </svg>\n",
              "      </button>\n",
              "      \n",
              "  <style>\n",
              "    .colab-df-container {\n",
              "      display:flex;\n",
              "      flex-wrap:wrap;\n",
              "      gap: 12px;\n",
              "    }\n",
              "\n",
              "    .colab-df-convert {\n",
              "      background-color: #E8F0FE;\n",
              "      border: none;\n",
              "      border-radius: 50%;\n",
              "      cursor: pointer;\n",
              "      display: none;\n",
              "      fill: #1967D2;\n",
              "      height: 32px;\n",
              "      padding: 0 0 0 0;\n",
              "      width: 32px;\n",
              "    }\n",
              "\n",
              "    .colab-df-convert:hover {\n",
              "      background-color: #E2EBFA;\n",
              "      box-shadow: 0px 1px 2px rgba(60, 64, 67, 0.3), 0px 1px 3px 1px rgba(60, 64, 67, 0.15);\n",
              "      fill: #174EA6;\n",
              "    }\n",
              "\n",
              "    [theme=dark] .colab-df-convert {\n",
              "      background-color: #3B4455;\n",
              "      fill: #D2E3FC;\n",
              "    }\n",
              "\n",
              "    [theme=dark] .colab-df-convert:hover {\n",
              "      background-color: #434B5C;\n",
              "      box-shadow: 0px 1px 3px 1px rgba(0, 0, 0, 0.15);\n",
              "      filter: drop-shadow(0px 1px 2px rgba(0, 0, 0, 0.3));\n",
              "      fill: #FFFFFF;\n",
              "    }\n",
              "  </style>\n",
              "\n",
              "      <script>\n",
              "        const buttonEl =\n",
              "          document.querySelector('#df-908ab409-a3c2-473a-95ca-acfe961fb596 button.colab-df-convert');\n",
              "        buttonEl.style.display =\n",
              "          google.colab.kernel.accessAllowed ? 'block' : 'none';\n",
              "\n",
              "        async function convertToInteractive(key) {\n",
              "          const element = document.querySelector('#df-908ab409-a3c2-473a-95ca-acfe961fb596');\n",
              "          const dataTable =\n",
              "            await google.colab.kernel.invokeFunction('convertToInteractive',\n",
              "                                                     [key], {});\n",
              "          if (!dataTable) return;\n",
              "\n",
              "          const docLinkHtml = 'Like what you see? Visit the ' +\n",
              "            '<a target=\"_blank\" href=https://colab.research.google.com/notebooks/data_table.ipynb>data table notebook</a>'\n",
              "            + ' to learn more about interactive tables.';\n",
              "          element.innerHTML = '';\n",
              "          dataTable['output_type'] = 'display_data';\n",
              "          await google.colab.output.renderOutput(dataTable, element);\n",
              "          const docLink = document.createElement('div');\n",
              "          docLink.innerHTML = docLinkHtml;\n",
              "          element.appendChild(docLink);\n",
              "        }\n",
              "      </script>\n",
              "    </div>\n",
              "  </div>\n",
              "  "
            ]
          },
          "metadata": {},
          "execution_count": 22
        }
      ]
    },
    {
      "cell_type": "code",
      "source": [
        "df_positives['repurchase'] = df_positives['label'].apply(lambda x: 0 if x == 1 else 1)"
      ],
      "metadata": {
        "id": "FP6CSY3djYMF"
      },
      "execution_count": null,
      "outputs": []
    },
    {
      "cell_type": "code",
      "source": [
        "df_positives.drop(columns=['t_dat'],inplace=True)\n",
        "df_positives"
      ],
      "metadata": {
        "colab": {
          "base_uri": "https://localhost:8080/",
          "height": 488
        },
        "id": "KchfCat_jtfX",
        "outputId": "888bbe06-584e-4c58-bbb2-dca9cf905488"
      },
      "execution_count": null,
      "outputs": [
        {
          "output_type": "execute_result",
          "data": {
            "text/plain": [
              "                                               customer_id  article_id  \\\n",
              "0        0011e0bd4c39195ff342c0ca0ac0601ce2b943a8265506...   751471042   \n",
              "1        0011e0bd4c39195ff342c0ca0ac0601ce2b943a8265506...   824499006   \n",
              "2        0011e0bd4c39195ff342c0ca0ac0601ce2b943a8265506...   913688001   \n",
              "3        0013bde09d10db6b0a6a3b0987ac60b643013dfc6f924b...   776237020   \n",
              "4        0013bde09d10db6b0a6a3b0987ac60b643013dfc6f924b...   599580055   \n",
              "...                                                    ...         ...   \n",
              "1692774  fff2282977442e327b45d8c89afde25617d00124d0f999...   929511001   \n",
              "1692775  fff2282977442e327b45d8c89afde25617d00124d0f999...   891322004   \n",
              "1692776  fff380805474b287b05cb2a7507b9a013482f7dd0bce0e...   918325001   \n",
              "1692777  fff4d3a8b1f3b60af93e78c30a7cb4cf75edaf2590d3e5...   833459002   \n",
              "1692778  fffef3b6b73545df065b521e19f64bf6fe93bfd450ab20...   898573003   \n",
              "\n",
              "            price  sales_channel_id  week  label  CF  CF_score  repurchase  \n",
              "0        0.032746                 2     1    0.0   0         0           1  \n",
              "1        0.065525                 2     1    0.0   0         0           1  \n",
              "2        0.032746                 2     1    0.0   0         0           1  \n",
              "3        0.025407                 2     1    1.0   0         0           0  \n",
              "4        0.016932                 2     1    1.0   0         0           0  \n",
              "...           ...               ...   ...    ...  ..       ...         ...  \n",
              "1692774  0.059305                 2     7    1.0   0         0           0  \n",
              "1692775  0.042356                 2     7    1.0   0         0           0  \n",
              "1692776  0.043203                 1     7    1.0   0         0           0  \n",
              "1692777  0.006763                 1     7    1.0   0         0           0  \n",
              "1692778  0.033881                 2     7    1.0   0         0           0  \n",
              "\n",
              "[1692779 rows x 9 columns]"
            ],
            "text/html": [
              "\n",
              "  <div id=\"df-5b7da99d-b0b3-42c4-b11c-73de027d31b1\">\n",
              "    <div class=\"colab-df-container\">\n",
              "      <div>\n",
              "<style scoped>\n",
              "    .dataframe tbody tr th:only-of-type {\n",
              "        vertical-align: middle;\n",
              "    }\n",
              "\n",
              "    .dataframe tbody tr th {\n",
              "        vertical-align: top;\n",
              "    }\n",
              "\n",
              "    .dataframe thead th {\n",
              "        text-align: right;\n",
              "    }\n",
              "</style>\n",
              "<table border=\"1\" class=\"dataframe\">\n",
              "  <thead>\n",
              "    <tr style=\"text-align: right;\">\n",
              "      <th></th>\n",
              "      <th>customer_id</th>\n",
              "      <th>article_id</th>\n",
              "      <th>price</th>\n",
              "      <th>sales_channel_id</th>\n",
              "      <th>week</th>\n",
              "      <th>label</th>\n",
              "      <th>CF</th>\n",
              "      <th>CF_score</th>\n",
              "      <th>repurchase</th>\n",
              "    </tr>\n",
              "  </thead>\n",
              "  <tbody>\n",
              "    <tr>\n",
              "      <th>0</th>\n",
              "      <td>0011e0bd4c39195ff342c0ca0ac0601ce2b943a8265506...</td>\n",
              "      <td>751471042</td>\n",
              "      <td>0.032746</td>\n",
              "      <td>2</td>\n",
              "      <td>1</td>\n",
              "      <td>0.0</td>\n",
              "      <td>0</td>\n",
              "      <td>0</td>\n",
              "      <td>1</td>\n",
              "    </tr>\n",
              "    <tr>\n",
              "      <th>1</th>\n",
              "      <td>0011e0bd4c39195ff342c0ca0ac0601ce2b943a8265506...</td>\n",
              "      <td>824499006</td>\n",
              "      <td>0.065525</td>\n",
              "      <td>2</td>\n",
              "      <td>1</td>\n",
              "      <td>0.0</td>\n",
              "      <td>0</td>\n",
              "      <td>0</td>\n",
              "      <td>1</td>\n",
              "    </tr>\n",
              "    <tr>\n",
              "      <th>2</th>\n",
              "      <td>0011e0bd4c39195ff342c0ca0ac0601ce2b943a8265506...</td>\n",
              "      <td>913688001</td>\n",
              "      <td>0.032746</td>\n",
              "      <td>2</td>\n",
              "      <td>1</td>\n",
              "      <td>0.0</td>\n",
              "      <td>0</td>\n",
              "      <td>0</td>\n",
              "      <td>1</td>\n",
              "    </tr>\n",
              "    <tr>\n",
              "      <th>3</th>\n",
              "      <td>0013bde09d10db6b0a6a3b0987ac60b643013dfc6f924b...</td>\n",
              "      <td>776237020</td>\n",
              "      <td>0.025407</td>\n",
              "      <td>2</td>\n",
              "      <td>1</td>\n",
              "      <td>1.0</td>\n",
              "      <td>0</td>\n",
              "      <td>0</td>\n",
              "      <td>0</td>\n",
              "    </tr>\n",
              "    <tr>\n",
              "      <th>4</th>\n",
              "      <td>0013bde09d10db6b0a6a3b0987ac60b643013dfc6f924b...</td>\n",
              "      <td>599580055</td>\n",
              "      <td>0.016932</td>\n",
              "      <td>2</td>\n",
              "      <td>1</td>\n",
              "      <td>1.0</td>\n",
              "      <td>0</td>\n",
              "      <td>0</td>\n",
              "      <td>0</td>\n",
              "    </tr>\n",
              "    <tr>\n",
              "      <th>...</th>\n",
              "      <td>...</td>\n",
              "      <td>...</td>\n",
              "      <td>...</td>\n",
              "      <td>...</td>\n",
              "      <td>...</td>\n",
              "      <td>...</td>\n",
              "      <td>...</td>\n",
              "      <td>...</td>\n",
              "      <td>...</td>\n",
              "    </tr>\n",
              "    <tr>\n",
              "      <th>1692774</th>\n",
              "      <td>fff2282977442e327b45d8c89afde25617d00124d0f999...</td>\n",
              "      <td>929511001</td>\n",
              "      <td>0.059305</td>\n",
              "      <td>2</td>\n",
              "      <td>7</td>\n",
              "      <td>1.0</td>\n",
              "      <td>0</td>\n",
              "      <td>0</td>\n",
              "      <td>0</td>\n",
              "    </tr>\n",
              "    <tr>\n",
              "      <th>1692775</th>\n",
              "      <td>fff2282977442e327b45d8c89afde25617d00124d0f999...</td>\n",
              "      <td>891322004</td>\n",
              "      <td>0.042356</td>\n",
              "      <td>2</td>\n",
              "      <td>7</td>\n",
              "      <td>1.0</td>\n",
              "      <td>0</td>\n",
              "      <td>0</td>\n",
              "      <td>0</td>\n",
              "    </tr>\n",
              "    <tr>\n",
              "      <th>1692776</th>\n",
              "      <td>fff380805474b287b05cb2a7507b9a013482f7dd0bce0e...</td>\n",
              "      <td>918325001</td>\n",
              "      <td>0.043203</td>\n",
              "      <td>1</td>\n",
              "      <td>7</td>\n",
              "      <td>1.0</td>\n",
              "      <td>0</td>\n",
              "      <td>0</td>\n",
              "      <td>0</td>\n",
              "    </tr>\n",
              "    <tr>\n",
              "      <th>1692777</th>\n",
              "      <td>fff4d3a8b1f3b60af93e78c30a7cb4cf75edaf2590d3e5...</td>\n",
              "      <td>833459002</td>\n",
              "      <td>0.006763</td>\n",
              "      <td>1</td>\n",
              "      <td>7</td>\n",
              "      <td>1.0</td>\n",
              "      <td>0</td>\n",
              "      <td>0</td>\n",
              "      <td>0</td>\n",
              "    </tr>\n",
              "    <tr>\n",
              "      <th>1692778</th>\n",
              "      <td>fffef3b6b73545df065b521e19f64bf6fe93bfd450ab20...</td>\n",
              "      <td>898573003</td>\n",
              "      <td>0.033881</td>\n",
              "      <td>2</td>\n",
              "      <td>7</td>\n",
              "      <td>1.0</td>\n",
              "      <td>0</td>\n",
              "      <td>0</td>\n",
              "      <td>0</td>\n",
              "    </tr>\n",
              "  </tbody>\n",
              "</table>\n",
              "<p>1692779 rows × 9 columns</p>\n",
              "</div>\n",
              "      <button class=\"colab-df-convert\" onclick=\"convertToInteractive('df-5b7da99d-b0b3-42c4-b11c-73de027d31b1')\"\n",
              "              title=\"Convert this dataframe to an interactive table.\"\n",
              "              style=\"display:none;\">\n",
              "        \n",
              "  <svg xmlns=\"http://www.w3.org/2000/svg\" height=\"24px\"viewBox=\"0 0 24 24\"\n",
              "       width=\"24px\">\n",
              "    <path d=\"M0 0h24v24H0V0z\" fill=\"none\"/>\n",
              "    <path d=\"M18.56 5.44l.94 2.06.94-2.06 2.06-.94-2.06-.94-.94-2.06-.94 2.06-2.06.94zm-11 1L8.5 8.5l.94-2.06 2.06-.94-2.06-.94L8.5 2.5l-.94 2.06-2.06.94zm10 10l.94 2.06.94-2.06 2.06-.94-2.06-.94-.94-2.06-.94 2.06-2.06.94z\"/><path d=\"M17.41 7.96l-1.37-1.37c-.4-.4-.92-.59-1.43-.59-.52 0-1.04.2-1.43.59L10.3 9.45l-7.72 7.72c-.78.78-.78 2.05 0 2.83L4 21.41c.39.39.9.59 1.41.59.51 0 1.02-.2 1.41-.59l7.78-7.78 2.81-2.81c.8-.78.8-2.07 0-2.86zM5.41 20L4 18.59l7.72-7.72 1.47 1.35L5.41 20z\"/>\n",
              "  </svg>\n",
              "      </button>\n",
              "      \n",
              "  <style>\n",
              "    .colab-df-container {\n",
              "      display:flex;\n",
              "      flex-wrap:wrap;\n",
              "      gap: 12px;\n",
              "    }\n",
              "\n",
              "    .colab-df-convert {\n",
              "      background-color: #E8F0FE;\n",
              "      border: none;\n",
              "      border-radius: 50%;\n",
              "      cursor: pointer;\n",
              "      display: none;\n",
              "      fill: #1967D2;\n",
              "      height: 32px;\n",
              "      padding: 0 0 0 0;\n",
              "      width: 32px;\n",
              "    }\n",
              "\n",
              "    .colab-df-convert:hover {\n",
              "      background-color: #E2EBFA;\n",
              "      box-shadow: 0px 1px 2px rgba(60, 64, 67, 0.3), 0px 1px 3px 1px rgba(60, 64, 67, 0.15);\n",
              "      fill: #174EA6;\n",
              "    }\n",
              "\n",
              "    [theme=dark] .colab-df-convert {\n",
              "      background-color: #3B4455;\n",
              "      fill: #D2E3FC;\n",
              "    }\n",
              "\n",
              "    [theme=dark] .colab-df-convert:hover {\n",
              "      background-color: #434B5C;\n",
              "      box-shadow: 0px 1px 3px 1px rgba(0, 0, 0, 0.15);\n",
              "      filter: drop-shadow(0px 1px 2px rgba(0, 0, 0, 0.3));\n",
              "      fill: #FFFFFF;\n",
              "    }\n",
              "  </style>\n",
              "\n",
              "      <script>\n",
              "        const buttonEl =\n",
              "          document.querySelector('#df-5b7da99d-b0b3-42c4-b11c-73de027d31b1 button.colab-df-convert');\n",
              "        buttonEl.style.display =\n",
              "          google.colab.kernel.accessAllowed ? 'block' : 'none';\n",
              "\n",
              "        async function convertToInteractive(key) {\n",
              "          const element = document.querySelector('#df-5b7da99d-b0b3-42c4-b11c-73de027d31b1');\n",
              "          const dataTable =\n",
              "            await google.colab.kernel.invokeFunction('convertToInteractive',\n",
              "                                                     [key], {});\n",
              "          if (!dataTable) return;\n",
              "\n",
              "          const docLinkHtml = 'Like what you see? Visit the ' +\n",
              "            '<a target=\"_blank\" href=https://colab.research.google.com/notebooks/data_table.ipynb>data table notebook</a>'\n",
              "            + ' to learn more about interactive tables.';\n",
              "          element.innerHTML = '';\n",
              "          dataTable['output_type'] = 'display_data';\n",
              "          await google.colab.output.renderOutput(dataTable, element);\n",
              "          const docLink = document.createElement('div');\n",
              "          docLink.innerHTML = docLinkHtml;\n",
              "          element.appendChild(docLink);\n",
              "        }\n",
              "      </script>\n",
              "    </div>\n",
              "  </div>\n",
              "  "
            ]
          },
          "metadata": {},
          "execution_count": 24
        }
      ]
    },
    {
      "cell_type": "markdown",
      "source": [
        "### 1-2-1 Collaborative Filtering"
      ],
      "metadata": {
        "id": "N2TCsAHy7czM"
      }
    },
    {
      "cell_type": "code",
      "execution_count": null,
      "metadata": {
        "id": "Ksld0-TRfYaT"
      },
      "outputs": [],
      "source": [
        "users_ids = df_train['customer_id'].unique()\n",
        "users_dic = {u:j for u,j in zip(users_ids,range(len(users_ids)))}"
      ]
    },
    {
      "cell_type": "code",
      "execution_count": null,
      "metadata": {
        "id": "9_BF_GETmgwz"
      },
      "outputs": [],
      "source": [
        "items_ids = df_train['article_id'].unique()\n",
        "items_dic = {i:j for i,j in zip(items_ids ,range(len(items_ids)))}"
      ]
    },
    {
      "cell_type": "code",
      "execution_count": null,
      "metadata": {
        "colab": {
          "base_uri": "https://localhost:8080/",
          "height": 424
        },
        "id": "WLurdzW-nD0y",
        "outputId": "25cc7a8e-6520-4e81-b9bd-bdc79ebe75f2"
      },
      "outputs": [
        {
          "output_type": "execute_result",
          "data": {
            "text/plain": [
              "              t_dat  customer_id  article_id     price  sales_channel_id  week\n",
              "29933918 2020-08-05            0           0  0.032746                 2     1\n",
              "29933919 2020-08-05            0           1  0.065525                 2     1\n",
              "29933921 2020-08-05            0           2  0.032746                 2     1\n",
              "29933922 2020-08-05            1           3  0.025407                 2     1\n",
              "29933923 2020-08-05            1           4  0.016932                 2     1\n",
              "...             ...          ...         ...       ...               ...   ...\n",
              "31788319 2020-09-22        30350       30882  0.059305                 2     7\n",
              "31788320 2020-09-22        30350        1849  0.042356                 2     7\n",
              "31788321 2020-09-22       234034       33320  0.043203                 1     7\n",
              "31788322 2020-09-22        65267       11952  0.006763                 1     7\n",
              "31788323 2020-09-22        50455       31277  0.033881                 2     7\n",
              "\n",
              "[1692779 rows x 6 columns]"
            ],
            "text/html": [
              "\n",
              "  <div id=\"df-47ea0666-779d-41e6-b181-a1f3fec6a0e7\">\n",
              "    <div class=\"colab-df-container\">\n",
              "      <div>\n",
              "<style scoped>\n",
              "    .dataframe tbody tr th:only-of-type {\n",
              "        vertical-align: middle;\n",
              "    }\n",
              "\n",
              "    .dataframe tbody tr th {\n",
              "        vertical-align: top;\n",
              "    }\n",
              "\n",
              "    .dataframe thead th {\n",
              "        text-align: right;\n",
              "    }\n",
              "</style>\n",
              "<table border=\"1\" class=\"dataframe\">\n",
              "  <thead>\n",
              "    <tr style=\"text-align: right;\">\n",
              "      <th></th>\n",
              "      <th>t_dat</th>\n",
              "      <th>customer_id</th>\n",
              "      <th>article_id</th>\n",
              "      <th>price</th>\n",
              "      <th>sales_channel_id</th>\n",
              "      <th>week</th>\n",
              "    </tr>\n",
              "  </thead>\n",
              "  <tbody>\n",
              "    <tr>\n",
              "      <th>29933918</th>\n",
              "      <td>2020-08-05</td>\n",
              "      <td>0</td>\n",
              "      <td>0</td>\n",
              "      <td>0.032746</td>\n",
              "      <td>2</td>\n",
              "      <td>1</td>\n",
              "    </tr>\n",
              "    <tr>\n",
              "      <th>29933919</th>\n",
              "      <td>2020-08-05</td>\n",
              "      <td>0</td>\n",
              "      <td>1</td>\n",
              "      <td>0.065525</td>\n",
              "      <td>2</td>\n",
              "      <td>1</td>\n",
              "    </tr>\n",
              "    <tr>\n",
              "      <th>29933921</th>\n",
              "      <td>2020-08-05</td>\n",
              "      <td>0</td>\n",
              "      <td>2</td>\n",
              "      <td>0.032746</td>\n",
              "      <td>2</td>\n",
              "      <td>1</td>\n",
              "    </tr>\n",
              "    <tr>\n",
              "      <th>29933922</th>\n",
              "      <td>2020-08-05</td>\n",
              "      <td>1</td>\n",
              "      <td>3</td>\n",
              "      <td>0.025407</td>\n",
              "      <td>2</td>\n",
              "      <td>1</td>\n",
              "    </tr>\n",
              "    <tr>\n",
              "      <th>29933923</th>\n",
              "      <td>2020-08-05</td>\n",
              "      <td>1</td>\n",
              "      <td>4</td>\n",
              "      <td>0.016932</td>\n",
              "      <td>2</td>\n",
              "      <td>1</td>\n",
              "    </tr>\n",
              "    <tr>\n",
              "      <th>...</th>\n",
              "      <td>...</td>\n",
              "      <td>...</td>\n",
              "      <td>...</td>\n",
              "      <td>...</td>\n",
              "      <td>...</td>\n",
              "      <td>...</td>\n",
              "    </tr>\n",
              "    <tr>\n",
              "      <th>31788319</th>\n",
              "      <td>2020-09-22</td>\n",
              "      <td>30350</td>\n",
              "      <td>30882</td>\n",
              "      <td>0.059305</td>\n",
              "      <td>2</td>\n",
              "      <td>7</td>\n",
              "    </tr>\n",
              "    <tr>\n",
              "      <th>31788320</th>\n",
              "      <td>2020-09-22</td>\n",
              "      <td>30350</td>\n",
              "      <td>1849</td>\n",
              "      <td>0.042356</td>\n",
              "      <td>2</td>\n",
              "      <td>7</td>\n",
              "    </tr>\n",
              "    <tr>\n",
              "      <th>31788321</th>\n",
              "      <td>2020-09-22</td>\n",
              "      <td>234034</td>\n",
              "      <td>33320</td>\n",
              "      <td>0.043203</td>\n",
              "      <td>1</td>\n",
              "      <td>7</td>\n",
              "    </tr>\n",
              "    <tr>\n",
              "      <th>31788322</th>\n",
              "      <td>2020-09-22</td>\n",
              "      <td>65267</td>\n",
              "      <td>11952</td>\n",
              "      <td>0.006763</td>\n",
              "      <td>1</td>\n",
              "      <td>7</td>\n",
              "    </tr>\n",
              "    <tr>\n",
              "      <th>31788323</th>\n",
              "      <td>2020-09-22</td>\n",
              "      <td>50455</td>\n",
              "      <td>31277</td>\n",
              "      <td>0.033881</td>\n",
              "      <td>2</td>\n",
              "      <td>7</td>\n",
              "    </tr>\n",
              "  </tbody>\n",
              "</table>\n",
              "<p>1692779 rows × 6 columns</p>\n",
              "</div>\n",
              "      <button class=\"colab-df-convert\" onclick=\"convertToInteractive('df-47ea0666-779d-41e6-b181-a1f3fec6a0e7')\"\n",
              "              title=\"Convert this dataframe to an interactive table.\"\n",
              "              style=\"display:none;\">\n",
              "        \n",
              "  <svg xmlns=\"http://www.w3.org/2000/svg\" height=\"24px\"viewBox=\"0 0 24 24\"\n",
              "       width=\"24px\">\n",
              "    <path d=\"M0 0h24v24H0V0z\" fill=\"none\"/>\n",
              "    <path d=\"M18.56 5.44l.94 2.06.94-2.06 2.06-.94-2.06-.94-.94-2.06-.94 2.06-2.06.94zm-11 1L8.5 8.5l.94-2.06 2.06-.94-2.06-.94L8.5 2.5l-.94 2.06-2.06.94zm10 10l.94 2.06.94-2.06 2.06-.94-2.06-.94-.94-2.06-.94 2.06-2.06.94z\"/><path d=\"M17.41 7.96l-1.37-1.37c-.4-.4-.92-.59-1.43-.59-.52 0-1.04.2-1.43.59L10.3 9.45l-7.72 7.72c-.78.78-.78 2.05 0 2.83L4 21.41c.39.39.9.59 1.41.59.51 0 1.02-.2 1.41-.59l7.78-7.78 2.81-2.81c.8-.78.8-2.07 0-2.86zM5.41 20L4 18.59l7.72-7.72 1.47 1.35L5.41 20z\"/>\n",
              "  </svg>\n",
              "      </button>\n",
              "      \n",
              "  <style>\n",
              "    .colab-df-container {\n",
              "      display:flex;\n",
              "      flex-wrap:wrap;\n",
              "      gap: 12px;\n",
              "    }\n",
              "\n",
              "    .colab-df-convert {\n",
              "      background-color: #E8F0FE;\n",
              "      border: none;\n",
              "      border-radius: 50%;\n",
              "      cursor: pointer;\n",
              "      display: none;\n",
              "      fill: #1967D2;\n",
              "      height: 32px;\n",
              "      padding: 0 0 0 0;\n",
              "      width: 32px;\n",
              "    }\n",
              "\n",
              "    .colab-df-convert:hover {\n",
              "      background-color: #E2EBFA;\n",
              "      box-shadow: 0px 1px 2px rgba(60, 64, 67, 0.3), 0px 1px 3px 1px rgba(60, 64, 67, 0.15);\n",
              "      fill: #174EA6;\n",
              "    }\n",
              "\n",
              "    [theme=dark] .colab-df-convert {\n",
              "      background-color: #3B4455;\n",
              "      fill: #D2E3FC;\n",
              "    }\n",
              "\n",
              "    [theme=dark] .colab-df-convert:hover {\n",
              "      background-color: #434B5C;\n",
              "      box-shadow: 0px 1px 3px 1px rgba(0, 0, 0, 0.15);\n",
              "      filter: drop-shadow(0px 1px 2px rgba(0, 0, 0, 0.3));\n",
              "      fill: #FFFFFF;\n",
              "    }\n",
              "  </style>\n",
              "\n",
              "      <script>\n",
              "        const buttonEl =\n",
              "          document.querySelector('#df-47ea0666-779d-41e6-b181-a1f3fec6a0e7 button.colab-df-convert');\n",
              "        buttonEl.style.display =\n",
              "          google.colab.kernel.accessAllowed ? 'block' : 'none';\n",
              "\n",
              "        async function convertToInteractive(key) {\n",
              "          const element = document.querySelector('#df-47ea0666-779d-41e6-b181-a1f3fec6a0e7');\n",
              "          const dataTable =\n",
              "            await google.colab.kernel.invokeFunction('convertToInteractive',\n",
              "                                                     [key], {});\n",
              "          if (!dataTable) return;\n",
              "\n",
              "          const docLinkHtml = 'Like what you see? Visit the ' +\n",
              "            '<a target=\"_blank\" href=https://colab.research.google.com/notebooks/data_table.ipynb>data table notebook</a>'\n",
              "            + ' to learn more about interactive tables.';\n",
              "          element.innerHTML = '';\n",
              "          dataTable['output_type'] = 'display_data';\n",
              "          await google.colab.output.renderOutput(dataTable, element);\n",
              "          const docLink = document.createElement('div');\n",
              "          docLink.innerHTML = docLinkHtml;\n",
              "          element.appendChild(docLink);\n",
              "        }\n",
              "      </script>\n",
              "    </div>\n",
              "  </div>\n",
              "  "
            ]
          },
          "metadata": {},
          "execution_count": 27
        }
      ],
      "source": [
        "df_CF_train = df_train.copy()\n",
        "df_CF_train['customer_id'] = df_CF_train['customer_id'].map(users_dic)\n",
        "df_CF_train['article_id'] = df_CF_train['article_id'].map(items_dic)\n",
        "df_CF_train"
      ]
    },
    {
      "cell_type": "code",
      "execution_count": null,
      "metadata": {
        "id": "CyroU-2BKKJ9"
      },
      "outputs": [],
      "source": [
        "# create an SFrame out of df\n",
        "dfS = tc.SFrame(df_CF_train.iloc[:,1:3])"
      ]
    },
    {
      "cell_type": "code",
      "source": [
        "del df_CF_train"
      ],
      "metadata": {
        "id": "L_MKg3ck0Xap"
      },
      "execution_count": null,
      "outputs": []
    },
    {
      "cell_type": "code",
      "source": [
        "N_CF_ITEMS = 20"
      ],
      "metadata": {
        "id": "wHNbIM3N75pA"
      },
      "execution_count": null,
      "outputs": []
    },
    {
      "cell_type": "markdown",
      "metadata": {
        "id": "W8vRBnjrKxYc"
      },
      "source": [
        "#### Cosine Similarity"
      ]
    },
    {
      "cell_type": "code",
      "execution_count": null,
      "metadata": {
        "colab": {
          "base_uri": "https://localhost:8080/",
          "height": 399
        },
        "id": "OCDBsZYF9GMW",
        "outputId": "47ea913f-0e18-406f-f53f-9d74013ecd7f"
      },
      "outputs": [
        {
          "output_type": "display_data",
          "data": {
            "text/plain": [
              "Preparing data set."
            ],
            "text/html": [
              "<pre>Preparing data set.</pre>"
            ]
          },
          "metadata": {}
        },
        {
          "output_type": "display_data",
          "data": {
            "text/plain": [
              "    Data has 1149781 observations with 249511 users and 29694 items."
            ],
            "text/html": [
              "<pre>    Data has 1149781 observations with 249511 users and 29694 items.</pre>"
            ]
          },
          "metadata": {}
        },
        {
          "output_type": "display_data",
          "data": {
            "text/plain": [
              "    Data prepared in: 1.45085s"
            ],
            "text/html": [
              "<pre>    Data prepared in: 1.45085s</pre>"
            ]
          },
          "metadata": {}
        },
        {
          "output_type": "display_data",
          "data": {
            "text/plain": [
              "Training model from provided data."
            ],
            "text/html": [
              "<pre>Training model from provided data.</pre>"
            ]
          },
          "metadata": {}
        },
        {
          "output_type": "display_data",
          "data": {
            "text/plain": [
              "Gathering per-item and per-user statistics."
            ],
            "text/html": [
              "<pre>Gathering per-item and per-user statistics.</pre>"
            ]
          },
          "metadata": {}
        },
        {
          "output_type": "display_data",
          "data": {
            "text/plain": [
              "+--------------------------------+------------+"
            ],
            "text/html": [
              "<pre>+--------------------------------+------------+</pre>"
            ]
          },
          "metadata": {}
        },
        {
          "output_type": "display_data",
          "data": {
            "text/plain": [
              "| Elapsed Time (Item Statistics) | % Complete |"
            ],
            "text/html": [
              "<pre>| Elapsed Time (Item Statistics) | % Complete |</pre>"
            ]
          },
          "metadata": {}
        },
        {
          "output_type": "display_data",
          "data": {
            "text/plain": [
              "+--------------------------------+------------+"
            ],
            "text/html": [
              "<pre>+--------------------------------+------------+</pre>"
            ]
          },
          "metadata": {}
        },
        {
          "output_type": "display_data",
          "data": {
            "text/plain": [
              "| 4.58ms                         | 0.25       |"
            ],
            "text/html": [
              "<pre>| 4.58ms                         | 0.25       |</pre>"
            ]
          },
          "metadata": {}
        },
        {
          "output_type": "display_data",
          "data": {
            "text/plain": [
              "| 75.172ms                       | 100        |"
            ],
            "text/html": [
              "<pre>| 75.172ms                       | 100        |</pre>"
            ]
          },
          "metadata": {}
        },
        {
          "output_type": "display_data",
          "data": {
            "text/plain": [
              "+--------------------------------+------------+"
            ],
            "text/html": [
              "<pre>+--------------------------------+------------+</pre>"
            ]
          },
          "metadata": {}
        },
        {
          "output_type": "display_data",
          "data": {
            "text/plain": [
              "Setting up lookup tables."
            ],
            "text/html": [
              "<pre>Setting up lookup tables.</pre>"
            ]
          },
          "metadata": {}
        },
        {
          "output_type": "display_data",
          "data": {
            "text/plain": [
              "Processing data in one pass using dense lookup tables."
            ],
            "text/html": [
              "<pre>Processing data in one pass using dense lookup tables.</pre>"
            ]
          },
          "metadata": {}
        },
        {
          "output_type": "display_data",
          "data": {
            "text/plain": [
              "+-------------------------------------+------------------+-----------------+"
            ],
            "text/html": [
              "<pre>+-------------------------------------+------------------+-----------------+</pre>"
            ]
          },
          "metadata": {}
        },
        {
          "output_type": "display_data",
          "data": {
            "text/plain": [
              "| Elapsed Time (Constructing Lookups) | Total % Complete | Items Processed |"
            ],
            "text/html": [
              "<pre>| Elapsed Time (Constructing Lookups) | Total % Complete | Items Processed |</pre>"
            ]
          },
          "metadata": {}
        },
        {
          "output_type": "display_data",
          "data": {
            "text/plain": [
              "+-------------------------------------+------------------+-----------------+"
            ],
            "text/html": [
              "<pre>+-------------------------------------+------------------+-----------------+</pre>"
            ]
          },
          "metadata": {}
        },
        {
          "output_type": "display_data",
          "data": {
            "text/plain": [
              "| 2.00s                               | 0                | 1               |"
            ],
            "text/html": [
              "<pre>| 2.00s                               | 0                | 1               |</pre>"
            ]
          },
          "metadata": {}
        },
        {
          "output_type": "display_data",
          "data": {
            "text/plain": [
              "| 10.88s                              | 100              | 29694           |"
            ],
            "text/html": [
              "<pre>| 10.88s                              | 100              | 29694           |</pre>"
            ]
          },
          "metadata": {}
        },
        {
          "output_type": "display_data",
          "data": {
            "text/plain": [
              "+-------------------------------------+------------------+-----------------+"
            ],
            "text/html": [
              "<pre>+-------------------------------------+------------------+-----------------+</pre>"
            ]
          },
          "metadata": {}
        },
        {
          "output_type": "display_data",
          "data": {
            "text/plain": [
              "Finalizing lookup tables."
            ],
            "text/html": [
              "<pre>Finalizing lookup tables.</pre>"
            ]
          },
          "metadata": {}
        },
        {
          "output_type": "display_data",
          "data": {
            "text/plain": [
              "Generating candidate set for working with new users."
            ],
            "text/html": [
              "<pre>Generating candidate set for working with new users.</pre>"
            ]
          },
          "metadata": {}
        },
        {
          "output_type": "display_data",
          "data": {
            "text/plain": [
              "Finished training in 12.0005s"
            ],
            "text/html": [
              "<pre>Finished training in 12.0005s</pre>"
            ]
          },
          "metadata": {}
        }
      ],
      "source": [
        "cosine = tc.item_similarity_recommender.create(dfS_train, \n",
        "                                              user_id='customer_id', \n",
        "                                              item_id='article_id',\n",
        "                                              similarity_type='cosine')"
      ]
    },
    {
      "cell_type": "code",
      "source": [
        "# recommend k products for a list of users (None corresponds to all users) \n",
        "recommendation_cos = cosine.recommend(users=None, k=N_CF_ITEMS)"
      ],
      "metadata": {
        "colab": {
          "base_uri": "https://localhost:8080/",
          "height": 1000
        },
        "id": "_Uuh7S8F6gN7",
        "outputId": "ff8bd846-6a91-4328-c55a-78df62331858"
      },
      "execution_count": null,
      "outputs": [
        {
          "output_type": "display_data",
          "data": {
            "text/plain": [
              "recommendations finished on 1000/249511 queries. users per second: 2552.44"
            ],
            "text/html": [
              "<pre>recommendations finished on 1000/249511 queries. users per second: 2552.44</pre>"
            ]
          },
          "metadata": {}
        },
        {
          "output_type": "display_data",
          "data": {
            "text/plain": [
              "recommendations finished on 2000/249511 queries. users per second: 2579.36"
            ],
            "text/html": [
              "<pre>recommendations finished on 2000/249511 queries. users per second: 2579.36</pre>"
            ]
          },
          "metadata": {}
        },
        {
          "output_type": "display_data",
          "data": {
            "text/plain": [
              "recommendations finished on 3000/249511 queries. users per second: 2525.79"
            ],
            "text/html": [
              "<pre>recommendations finished on 3000/249511 queries. users per second: 2525.79</pre>"
            ]
          },
          "metadata": {}
        },
        {
          "output_type": "display_data",
          "data": {
            "text/plain": [
              "recommendations finished on 4000/249511 queries. users per second: 2541.37"
            ],
            "text/html": [
              "<pre>recommendations finished on 4000/249511 queries. users per second: 2541.37</pre>"
            ]
          },
          "metadata": {}
        },
        {
          "output_type": "display_data",
          "data": {
            "text/plain": [
              "recommendations finished on 5000/249511 queries. users per second: 2568.36"
            ],
            "text/html": [
              "<pre>recommendations finished on 5000/249511 queries. users per second: 2568.36</pre>"
            ]
          },
          "metadata": {}
        },
        {
          "output_type": "display_data",
          "data": {
            "text/plain": [
              "recommendations finished on 6000/249511 queries. users per second: 2569.29"
            ],
            "text/html": [
              "<pre>recommendations finished on 6000/249511 queries. users per second: 2569.29</pre>"
            ]
          },
          "metadata": {}
        },
        {
          "output_type": "display_data",
          "data": {
            "text/plain": [
              "recommendations finished on 7000/249511 queries. users per second: 2577.67"
            ],
            "text/html": [
              "<pre>recommendations finished on 7000/249511 queries. users per second: 2577.67</pre>"
            ]
          },
          "metadata": {}
        },
        {
          "output_type": "display_data",
          "data": {
            "text/plain": [
              "recommendations finished on 8000/249511 queries. users per second: 2586.52"
            ],
            "text/html": [
              "<pre>recommendations finished on 8000/249511 queries. users per second: 2586.52</pre>"
            ]
          },
          "metadata": {}
        },
        {
          "output_type": "display_data",
          "data": {
            "text/plain": [
              "recommendations finished on 9000/249511 queries. users per second: 2579.91"
            ],
            "text/html": [
              "<pre>recommendations finished on 9000/249511 queries. users per second: 2579.91</pre>"
            ]
          },
          "metadata": {}
        },
        {
          "output_type": "display_data",
          "data": {
            "text/plain": [
              "recommendations finished on 10000/249511 queries. users per second: 2588.85"
            ],
            "text/html": [
              "<pre>recommendations finished on 10000/249511 queries. users per second: 2588.85</pre>"
            ]
          },
          "metadata": {}
        },
        {
          "output_type": "display_data",
          "data": {
            "text/plain": [
              "recommendations finished on 11000/249511 queries. users per second: 2586.07"
            ],
            "text/html": [
              "<pre>recommendations finished on 11000/249511 queries. users per second: 2586.07</pre>"
            ]
          },
          "metadata": {}
        },
        {
          "output_type": "display_data",
          "data": {
            "text/plain": [
              "recommendations finished on 12000/249511 queries. users per second: 2589.08"
            ],
            "text/html": [
              "<pre>recommendations finished on 12000/249511 queries. users per second: 2589.08</pre>"
            ]
          },
          "metadata": {}
        },
        {
          "output_type": "display_data",
          "data": {
            "text/plain": [
              "recommendations finished on 13000/249511 queries. users per second: 2592.98"
            ],
            "text/html": [
              "<pre>recommendations finished on 13000/249511 queries. users per second: 2592.98</pre>"
            ]
          },
          "metadata": {}
        },
        {
          "output_type": "display_data",
          "data": {
            "text/plain": [
              "recommendations finished on 14000/249511 queries. users per second: 2590.32"
            ],
            "text/html": [
              "<pre>recommendations finished on 14000/249511 queries. users per second: 2590.32</pre>"
            ]
          },
          "metadata": {}
        },
        {
          "output_type": "display_data",
          "data": {
            "text/plain": [
              "recommendations finished on 15000/249511 queries. users per second: 2594.26"
            ],
            "text/html": [
              "<pre>recommendations finished on 15000/249511 queries. users per second: 2594.26</pre>"
            ]
          },
          "metadata": {}
        },
        {
          "output_type": "display_data",
          "data": {
            "text/plain": [
              "recommendations finished on 16000/249511 queries. users per second: 2589.71"
            ],
            "text/html": [
              "<pre>recommendations finished on 16000/249511 queries. users per second: 2589.71</pre>"
            ]
          },
          "metadata": {}
        },
        {
          "output_type": "display_data",
          "data": {
            "text/plain": [
              "recommendations finished on 17000/249511 queries. users per second: 2584.77"
            ],
            "text/html": [
              "<pre>recommendations finished on 17000/249511 queries. users per second: 2584.77</pre>"
            ]
          },
          "metadata": {}
        },
        {
          "output_type": "display_data",
          "data": {
            "text/plain": [
              "recommendations finished on 18000/249511 queries. users per second: 2586.15"
            ],
            "text/html": [
              "<pre>recommendations finished on 18000/249511 queries. users per second: 2586.15</pre>"
            ]
          },
          "metadata": {}
        },
        {
          "output_type": "display_data",
          "data": {
            "text/plain": [
              "recommendations finished on 19000/249511 queries. users per second: 2585.47"
            ],
            "text/html": [
              "<pre>recommendations finished on 19000/249511 queries. users per second: 2585.47</pre>"
            ]
          },
          "metadata": {}
        },
        {
          "output_type": "display_data",
          "data": {
            "text/plain": [
              "recommendations finished on 20000/249511 queries. users per second: 2584.2"
            ],
            "text/html": [
              "<pre>recommendations finished on 20000/249511 queries. users per second: 2584.2</pre>"
            ]
          },
          "metadata": {}
        },
        {
          "output_type": "display_data",
          "data": {
            "text/plain": [
              "recommendations finished on 21000/249511 queries. users per second: 2588.06"
            ],
            "text/html": [
              "<pre>recommendations finished on 21000/249511 queries. users per second: 2588.06</pre>"
            ]
          },
          "metadata": {}
        },
        {
          "output_type": "display_data",
          "data": {
            "text/plain": [
              "recommendations finished on 22000/249511 queries. users per second: 2587.35"
            ],
            "text/html": [
              "<pre>recommendations finished on 22000/249511 queries. users per second: 2587.35</pre>"
            ]
          },
          "metadata": {}
        },
        {
          "output_type": "display_data",
          "data": {
            "text/plain": [
              "recommendations finished on 23000/249511 queries. users per second: 2591.22"
            ],
            "text/html": [
              "<pre>recommendations finished on 23000/249511 queries. users per second: 2591.22</pre>"
            ]
          },
          "metadata": {}
        },
        {
          "output_type": "display_data",
          "data": {
            "text/plain": [
              "recommendations finished on 24000/249511 queries. users per second: 2594.1"
            ],
            "text/html": [
              "<pre>recommendations finished on 24000/249511 queries. users per second: 2594.1</pre>"
            ]
          },
          "metadata": {}
        },
        {
          "output_type": "display_data",
          "data": {
            "text/plain": [
              "recommendations finished on 25000/249511 queries. users per second: 2592.11"
            ],
            "text/html": [
              "<pre>recommendations finished on 25000/249511 queries. users per second: 2592.11</pre>"
            ]
          },
          "metadata": {}
        },
        {
          "output_type": "display_data",
          "data": {
            "text/plain": [
              "recommendations finished on 26000/249511 queries. users per second: 2594.14"
            ],
            "text/html": [
              "<pre>recommendations finished on 26000/249511 queries. users per second: 2594.14</pre>"
            ]
          },
          "metadata": {}
        },
        {
          "output_type": "display_data",
          "data": {
            "text/plain": [
              "recommendations finished on 27000/249511 queries. users per second: 2596.64"
            ],
            "text/html": [
              "<pre>recommendations finished on 27000/249511 queries. users per second: 2596.64</pre>"
            ]
          },
          "metadata": {}
        },
        {
          "output_type": "display_data",
          "data": {
            "text/plain": [
              "recommendations finished on 28000/249511 queries. users per second: 2595.65"
            ],
            "text/html": [
              "<pre>recommendations finished on 28000/249511 queries. users per second: 2595.65</pre>"
            ]
          },
          "metadata": {}
        },
        {
          "output_type": "display_data",
          "data": {
            "text/plain": [
              "recommendations finished on 29000/249511 queries. users per second: 2596.58"
            ],
            "text/html": [
              "<pre>recommendations finished on 29000/249511 queries. users per second: 2596.58</pre>"
            ]
          },
          "metadata": {}
        },
        {
          "output_type": "display_data",
          "data": {
            "text/plain": [
              "recommendations finished on 30000/249511 queries. users per second: 2594.57"
            ],
            "text/html": [
              "<pre>recommendations finished on 30000/249511 queries. users per second: 2594.57</pre>"
            ]
          },
          "metadata": {}
        },
        {
          "output_type": "display_data",
          "data": {
            "text/plain": [
              "recommendations finished on 31000/249511 queries. users per second: 2596.89"
            ],
            "text/html": [
              "<pre>recommendations finished on 31000/249511 queries. users per second: 2596.89</pre>"
            ]
          },
          "metadata": {}
        },
        {
          "output_type": "display_data",
          "data": {
            "text/plain": [
              "recommendations finished on 32000/249511 queries. users per second: 2595.88"
            ],
            "text/html": [
              "<pre>recommendations finished on 32000/249511 queries. users per second: 2595.88</pre>"
            ]
          },
          "metadata": {}
        },
        {
          "output_type": "display_data",
          "data": {
            "text/plain": [
              "recommendations finished on 33000/249511 queries. users per second: 2595.47"
            ],
            "text/html": [
              "<pre>recommendations finished on 33000/249511 queries. users per second: 2595.47</pre>"
            ]
          },
          "metadata": {}
        },
        {
          "output_type": "display_data",
          "data": {
            "text/plain": [
              "recommendations finished on 34000/249511 queries. users per second: 2596.36"
            ],
            "text/html": [
              "<pre>recommendations finished on 34000/249511 queries. users per second: 2596.36</pre>"
            ]
          },
          "metadata": {}
        },
        {
          "output_type": "display_data",
          "data": {
            "text/plain": [
              "recommendations finished on 35000/249511 queries. users per second: 2598.05"
            ],
            "text/html": [
              "<pre>recommendations finished on 35000/249511 queries. users per second: 2598.05</pre>"
            ]
          },
          "metadata": {}
        },
        {
          "output_type": "display_data",
          "data": {
            "text/plain": [
              "recommendations finished on 36000/249511 queries. users per second: 2597.88"
            ],
            "text/html": [
              "<pre>recommendations finished on 36000/249511 queries. users per second: 2597.88</pre>"
            ]
          },
          "metadata": {}
        },
        {
          "output_type": "display_data",
          "data": {
            "text/plain": [
              "recommendations finished on 37000/249511 queries. users per second: 2599.83"
            ],
            "text/html": [
              "<pre>recommendations finished on 37000/249511 queries. users per second: 2599.83</pre>"
            ]
          },
          "metadata": {}
        },
        {
          "output_type": "display_data",
          "data": {
            "text/plain": [
              "recommendations finished on 38000/249511 queries. users per second: 2597.6"
            ],
            "text/html": [
              "<pre>recommendations finished on 38000/249511 queries. users per second: 2597.6</pre>"
            ]
          },
          "metadata": {}
        },
        {
          "output_type": "display_data",
          "data": {
            "text/plain": [
              "recommendations finished on 39000/249511 queries. users per second: 2599.29"
            ],
            "text/html": [
              "<pre>recommendations finished on 39000/249511 queries. users per second: 2599.29</pre>"
            ]
          },
          "metadata": {}
        },
        {
          "output_type": "display_data",
          "data": {
            "text/plain": [
              "recommendations finished on 40000/249511 queries. users per second: 2600.05"
            ],
            "text/html": [
              "<pre>recommendations finished on 40000/249511 queries. users per second: 2600.05</pre>"
            ]
          },
          "metadata": {}
        },
        {
          "output_type": "display_data",
          "data": {
            "text/plain": [
              "recommendations finished on 41000/249511 queries. users per second: 2598.48"
            ],
            "text/html": [
              "<pre>recommendations finished on 41000/249511 queries. users per second: 2598.48</pre>"
            ]
          },
          "metadata": {}
        },
        {
          "output_type": "display_data",
          "data": {
            "text/plain": [
              "recommendations finished on 42000/249511 queries. users per second: 2599.24"
            ],
            "text/html": [
              "<pre>recommendations finished on 42000/249511 queries. users per second: 2599.24</pre>"
            ]
          },
          "metadata": {}
        },
        {
          "output_type": "display_data",
          "data": {
            "text/plain": [
              "recommendations finished on 43000/249511 queries. users per second: 2597.2"
            ],
            "text/html": [
              "<pre>recommendations finished on 43000/249511 queries. users per second: 2597.2</pre>"
            ]
          },
          "metadata": {}
        },
        {
          "output_type": "display_data",
          "data": {
            "text/plain": [
              "recommendations finished on 44000/249511 queries. users per second: 2596.52"
            ],
            "text/html": [
              "<pre>recommendations finished on 44000/249511 queries. users per second: 2596.52</pre>"
            ]
          },
          "metadata": {}
        },
        {
          "output_type": "display_data",
          "data": {
            "text/plain": [
              "recommendations finished on 45000/249511 queries. users per second: 2596.68"
            ],
            "text/html": [
              "<pre>recommendations finished on 45000/249511 queries. users per second: 2596.68</pre>"
            ]
          },
          "metadata": {}
        },
        {
          "output_type": "display_data",
          "data": {
            "text/plain": [
              "recommendations finished on 46000/249511 queries. users per second: 2596.06"
            ],
            "text/html": [
              "<pre>recommendations finished on 46000/249511 queries. users per second: 2596.06</pre>"
            ]
          },
          "metadata": {}
        },
        {
          "output_type": "display_data",
          "data": {
            "text/plain": [
              "recommendations finished on 47000/249511 queries. users per second: 2597.1"
            ],
            "text/html": [
              "<pre>recommendations finished on 47000/249511 queries. users per second: 2597.1</pre>"
            ]
          },
          "metadata": {}
        },
        {
          "output_type": "display_data",
          "data": {
            "text/plain": [
              "recommendations finished on 48000/249511 queries. users per second: 2597.95"
            ],
            "text/html": [
              "<pre>recommendations finished on 48000/249511 queries. users per second: 2597.95</pre>"
            ]
          },
          "metadata": {}
        },
        {
          "output_type": "display_data",
          "data": {
            "text/plain": [
              "recommendations finished on 49000/249511 queries. users per second: 2597.59"
            ],
            "text/html": [
              "<pre>recommendations finished on 49000/249511 queries. users per second: 2597.59</pre>"
            ]
          },
          "metadata": {}
        },
        {
          "output_type": "display_data",
          "data": {
            "text/plain": [
              "recommendations finished on 50000/249511 queries. users per second: 2597.8"
            ],
            "text/html": [
              "<pre>recommendations finished on 50000/249511 queries. users per second: 2597.8</pre>"
            ]
          },
          "metadata": {}
        },
        {
          "output_type": "display_data",
          "data": {
            "text/plain": [
              "recommendations finished on 51000/249511 queries. users per second: 2598.05"
            ],
            "text/html": [
              "<pre>recommendations finished on 51000/249511 queries. users per second: 2598.05</pre>"
            ]
          },
          "metadata": {}
        },
        {
          "output_type": "display_data",
          "data": {
            "text/plain": [
              "recommendations finished on 52000/249511 queries. users per second: 2597.63"
            ],
            "text/html": [
              "<pre>recommendations finished on 52000/249511 queries. users per second: 2597.63</pre>"
            ]
          },
          "metadata": {}
        },
        {
          "output_type": "display_data",
          "data": {
            "text/plain": [
              "recommendations finished on 53000/249511 queries. users per second: 2597.73"
            ],
            "text/html": [
              "<pre>recommendations finished on 53000/249511 queries. users per second: 2597.73</pre>"
            ]
          },
          "metadata": {}
        },
        {
          "output_type": "display_data",
          "data": {
            "text/plain": [
              "recommendations finished on 54000/249511 queries. users per second: 2597.25"
            ],
            "text/html": [
              "<pre>recommendations finished on 54000/249511 queries. users per second: 2597.25</pre>"
            ]
          },
          "metadata": {}
        },
        {
          "output_type": "display_data",
          "data": {
            "text/plain": [
              "recommendations finished on 55000/249511 queries. users per second: 2598.43"
            ],
            "text/html": [
              "<pre>recommendations finished on 55000/249511 queries. users per second: 2598.43</pre>"
            ]
          },
          "metadata": {}
        },
        {
          "output_type": "display_data",
          "data": {
            "text/plain": [
              "recommendations finished on 56000/249511 queries. users per second: 2599.66"
            ],
            "text/html": [
              "<pre>recommendations finished on 56000/249511 queries. users per second: 2599.66</pre>"
            ]
          },
          "metadata": {}
        },
        {
          "output_type": "display_data",
          "data": {
            "text/plain": [
              "recommendations finished on 57000/249511 queries. users per second: 2599.11"
            ],
            "text/html": [
              "<pre>recommendations finished on 57000/249511 queries. users per second: 2599.11</pre>"
            ]
          },
          "metadata": {}
        },
        {
          "output_type": "display_data",
          "data": {
            "text/plain": [
              "recommendations finished on 58000/249511 queries. users per second: 2599.84"
            ],
            "text/html": [
              "<pre>recommendations finished on 58000/249511 queries. users per second: 2599.84</pre>"
            ]
          },
          "metadata": {}
        },
        {
          "output_type": "display_data",
          "data": {
            "text/plain": [
              "recommendations finished on 59000/249511 queries. users per second: 2600.03"
            ],
            "text/html": [
              "<pre>recommendations finished on 59000/249511 queries. users per second: 2600.03</pre>"
            ]
          },
          "metadata": {}
        },
        {
          "output_type": "display_data",
          "data": {
            "text/plain": [
              "recommendations finished on 60000/249511 queries. users per second: 2599.14"
            ],
            "text/html": [
              "<pre>recommendations finished on 60000/249511 queries. users per second: 2599.14</pre>"
            ]
          },
          "metadata": {}
        },
        {
          "output_type": "display_data",
          "data": {
            "text/plain": [
              "recommendations finished on 61000/249511 queries. users per second: 2600.03"
            ],
            "text/html": [
              "<pre>recommendations finished on 61000/249511 queries. users per second: 2600.03</pre>"
            ]
          },
          "metadata": {}
        },
        {
          "output_type": "display_data",
          "data": {
            "text/plain": [
              "recommendations finished on 62000/249511 queries. users per second: 2599.3"
            ],
            "text/html": [
              "<pre>recommendations finished on 62000/249511 queries. users per second: 2599.3</pre>"
            ]
          },
          "metadata": {}
        },
        {
          "output_type": "display_data",
          "data": {
            "text/plain": [
              "recommendations finished on 63000/249511 queries. users per second: 2599.44"
            ],
            "text/html": [
              "<pre>recommendations finished on 63000/249511 queries. users per second: 2599.44</pre>"
            ]
          },
          "metadata": {}
        },
        {
          "output_type": "display_data",
          "data": {
            "text/plain": [
              "recommendations finished on 64000/249511 queries. users per second: 2600.09"
            ],
            "text/html": [
              "<pre>recommendations finished on 64000/249511 queries. users per second: 2600.09</pre>"
            ]
          },
          "metadata": {}
        },
        {
          "output_type": "display_data",
          "data": {
            "text/plain": [
              "recommendations finished on 65000/249511 queries. users per second: 2599.98"
            ],
            "text/html": [
              "<pre>recommendations finished on 65000/249511 queries. users per second: 2599.98</pre>"
            ]
          },
          "metadata": {}
        },
        {
          "output_type": "display_data",
          "data": {
            "text/plain": [
              "recommendations finished on 66000/249511 queries. users per second: 2600.77"
            ],
            "text/html": [
              "<pre>recommendations finished on 66000/249511 queries. users per second: 2600.77</pre>"
            ]
          },
          "metadata": {}
        },
        {
          "output_type": "display_data",
          "data": {
            "text/plain": [
              "recommendations finished on 67000/249511 queries. users per second: 2601.41"
            ],
            "text/html": [
              "<pre>recommendations finished on 67000/249511 queries. users per second: 2601.41</pre>"
            ]
          },
          "metadata": {}
        },
        {
          "output_type": "display_data",
          "data": {
            "text/plain": [
              "recommendations finished on 68000/249511 queries. users per second: 2601.12"
            ],
            "text/html": [
              "<pre>recommendations finished on 68000/249511 queries. users per second: 2601.12</pre>"
            ]
          },
          "metadata": {}
        },
        {
          "output_type": "display_data",
          "data": {
            "text/plain": [
              "recommendations finished on 69000/249511 queries. users per second: 2602.06"
            ],
            "text/html": [
              "<pre>recommendations finished on 69000/249511 queries. users per second: 2602.06</pre>"
            ]
          },
          "metadata": {}
        },
        {
          "output_type": "display_data",
          "data": {
            "text/plain": [
              "recommendations finished on 70000/249511 queries. users per second: 2600.93"
            ],
            "text/html": [
              "<pre>recommendations finished on 70000/249511 queries. users per second: 2600.93</pre>"
            ]
          },
          "metadata": {}
        },
        {
          "output_type": "display_data",
          "data": {
            "text/plain": [
              "recommendations finished on 71000/249511 queries. users per second: 2600.4"
            ],
            "text/html": [
              "<pre>recommendations finished on 71000/249511 queries. users per second: 2600.4</pre>"
            ]
          },
          "metadata": {}
        },
        {
          "output_type": "display_data",
          "data": {
            "text/plain": [
              "recommendations finished on 72000/249511 queries. users per second: 2600.41"
            ],
            "text/html": [
              "<pre>recommendations finished on 72000/249511 queries. users per second: 2600.41</pre>"
            ]
          },
          "metadata": {}
        },
        {
          "output_type": "display_data",
          "data": {
            "text/plain": [
              "recommendations finished on 73000/249511 queries. users per second: 2599.69"
            ],
            "text/html": [
              "<pre>recommendations finished on 73000/249511 queries. users per second: 2599.69</pre>"
            ]
          },
          "metadata": {}
        },
        {
          "output_type": "display_data",
          "data": {
            "text/plain": [
              "recommendations finished on 74000/249511 queries. users per second: 2589.97"
            ],
            "text/html": [
              "<pre>recommendations finished on 74000/249511 queries. users per second: 2589.97</pre>"
            ]
          },
          "metadata": {}
        },
        {
          "output_type": "display_data",
          "data": {
            "text/plain": [
              "recommendations finished on 75000/249511 queries. users per second: 2573.17"
            ],
            "text/html": [
              "<pre>recommendations finished on 75000/249511 queries. users per second: 2573.17</pre>"
            ]
          },
          "metadata": {}
        },
        {
          "output_type": "display_data",
          "data": {
            "text/plain": [
              "recommendations finished on 76000/249511 queries. users per second: 2573.93"
            ],
            "text/html": [
              "<pre>recommendations finished on 76000/249511 queries. users per second: 2573.93</pre>"
            ]
          },
          "metadata": {}
        },
        {
          "output_type": "display_data",
          "data": {
            "text/plain": [
              "recommendations finished on 77000/249511 queries. users per second: 2575.25"
            ],
            "text/html": [
              "<pre>recommendations finished on 77000/249511 queries. users per second: 2575.25</pre>"
            ]
          },
          "metadata": {}
        },
        {
          "output_type": "display_data",
          "data": {
            "text/plain": [
              "recommendations finished on 78000/249511 queries. users per second: 2575.18"
            ],
            "text/html": [
              "<pre>recommendations finished on 78000/249511 queries. users per second: 2575.18</pre>"
            ]
          },
          "metadata": {}
        },
        {
          "output_type": "display_data",
          "data": {
            "text/plain": [
              "recommendations finished on 79000/249511 queries. users per second: 2576.14"
            ],
            "text/html": [
              "<pre>recommendations finished on 79000/249511 queries. users per second: 2576.14</pre>"
            ]
          },
          "metadata": {}
        },
        {
          "output_type": "display_data",
          "data": {
            "text/plain": [
              "recommendations finished on 80000/249511 queries. users per second: 2577.11"
            ],
            "text/html": [
              "<pre>recommendations finished on 80000/249511 queries. users per second: 2577.11</pre>"
            ]
          },
          "metadata": {}
        },
        {
          "output_type": "display_data",
          "data": {
            "text/plain": [
              "recommendations finished on 81000/249511 queries. users per second: 2577.18"
            ],
            "text/html": [
              "<pre>recommendations finished on 81000/249511 queries. users per second: 2577.18</pre>"
            ]
          },
          "metadata": {}
        },
        {
          "output_type": "display_data",
          "data": {
            "text/plain": [
              "recommendations finished on 82000/249511 queries. users per second: 2577.75"
            ],
            "text/html": [
              "<pre>recommendations finished on 82000/249511 queries. users per second: 2577.75</pre>"
            ]
          },
          "metadata": {}
        },
        {
          "output_type": "display_data",
          "data": {
            "text/plain": [
              "recommendations finished on 83000/249511 queries. users per second: 2577.06"
            ],
            "text/html": [
              "<pre>recommendations finished on 83000/249511 queries. users per second: 2577.06</pre>"
            ]
          },
          "metadata": {}
        },
        {
          "output_type": "display_data",
          "data": {
            "text/plain": [
              "recommendations finished on 84000/249511 queries. users per second: 2577.45"
            ],
            "text/html": [
              "<pre>recommendations finished on 84000/249511 queries. users per second: 2577.45</pre>"
            ]
          },
          "metadata": {}
        },
        {
          "output_type": "display_data",
          "data": {
            "text/plain": [
              "recommendations finished on 85000/249511 queries. users per second: 2577.49"
            ],
            "text/html": [
              "<pre>recommendations finished on 85000/249511 queries. users per second: 2577.49</pre>"
            ]
          },
          "metadata": {}
        },
        {
          "output_type": "display_data",
          "data": {
            "text/plain": [
              "recommendations finished on 86000/249511 queries. users per second: 2577.26"
            ],
            "text/html": [
              "<pre>recommendations finished on 86000/249511 queries. users per second: 2577.26</pre>"
            ]
          },
          "metadata": {}
        },
        {
          "output_type": "display_data",
          "data": {
            "text/plain": [
              "recommendations finished on 87000/249511 queries. users per second: 2578.02"
            ],
            "text/html": [
              "<pre>recommendations finished on 87000/249511 queries. users per second: 2578.02</pre>"
            ]
          },
          "metadata": {}
        },
        {
          "output_type": "display_data",
          "data": {
            "text/plain": [
              "recommendations finished on 88000/249511 queries. users per second: 2578.77"
            ],
            "text/html": [
              "<pre>recommendations finished on 88000/249511 queries. users per second: 2578.77</pre>"
            ]
          },
          "metadata": {}
        },
        {
          "output_type": "display_data",
          "data": {
            "text/plain": [
              "recommendations finished on 89000/249511 queries. users per second: 2578.83"
            ],
            "text/html": [
              "<pre>recommendations finished on 89000/249511 queries. users per second: 2578.83</pre>"
            ]
          },
          "metadata": {}
        },
        {
          "output_type": "display_data",
          "data": {
            "text/plain": [
              "recommendations finished on 90000/249511 queries. users per second: 2580.15"
            ],
            "text/html": [
              "<pre>recommendations finished on 90000/249511 queries. users per second: 2580.15</pre>"
            ]
          },
          "metadata": {}
        },
        {
          "output_type": "display_data",
          "data": {
            "text/plain": [
              "recommendations finished on 91000/249511 queries. users per second: 2580.18"
            ],
            "text/html": [
              "<pre>recommendations finished on 91000/249511 queries. users per second: 2580.18</pre>"
            ]
          },
          "metadata": {}
        },
        {
          "output_type": "display_data",
          "data": {
            "text/plain": [
              "recommendations finished on 92000/249511 queries. users per second: 2581.09"
            ],
            "text/html": [
              "<pre>recommendations finished on 92000/249511 queries. users per second: 2581.09</pre>"
            ]
          },
          "metadata": {}
        },
        {
          "output_type": "display_data",
          "data": {
            "text/plain": [
              "recommendations finished on 93000/249511 queries. users per second: 2581.18"
            ],
            "text/html": [
              "<pre>recommendations finished on 93000/249511 queries. users per second: 2581.18</pre>"
            ]
          },
          "metadata": {}
        },
        {
          "output_type": "display_data",
          "data": {
            "text/plain": [
              "recommendations finished on 94000/249511 queries. users per second: 2581.16"
            ],
            "text/html": [
              "<pre>recommendations finished on 94000/249511 queries. users per second: 2581.16</pre>"
            ]
          },
          "metadata": {}
        },
        {
          "output_type": "display_data",
          "data": {
            "text/plain": [
              "recommendations finished on 95000/249511 queries. users per second: 2581.93"
            ],
            "text/html": [
              "<pre>recommendations finished on 95000/249511 queries. users per second: 2581.93</pre>"
            ]
          },
          "metadata": {}
        },
        {
          "output_type": "display_data",
          "data": {
            "text/plain": [
              "recommendations finished on 96000/249511 queries. users per second: 2582.67"
            ],
            "text/html": [
              "<pre>recommendations finished on 96000/249511 queries. users per second: 2582.67</pre>"
            ]
          },
          "metadata": {}
        },
        {
          "output_type": "display_data",
          "data": {
            "text/plain": [
              "recommendations finished on 97000/249511 queries. users per second: 2581.06"
            ],
            "text/html": [
              "<pre>recommendations finished on 97000/249511 queries. users per second: 2581.06</pre>"
            ]
          },
          "metadata": {}
        },
        {
          "output_type": "display_data",
          "data": {
            "text/plain": [
              "recommendations finished on 98000/249511 queries. users per second: 2580.85"
            ],
            "text/html": [
              "<pre>recommendations finished on 98000/249511 queries. users per second: 2580.85</pre>"
            ]
          },
          "metadata": {}
        },
        {
          "output_type": "display_data",
          "data": {
            "text/plain": [
              "recommendations finished on 99000/249511 queries. users per second: 2580.78"
            ],
            "text/html": [
              "<pre>recommendations finished on 99000/249511 queries. users per second: 2580.78</pre>"
            ]
          },
          "metadata": {}
        },
        {
          "output_type": "display_data",
          "data": {
            "text/plain": [
              "recommendations finished on 100000/249511 queries. users per second: 2581.3"
            ],
            "text/html": [
              "<pre>recommendations finished on 100000/249511 queries. users per second: 2581.3</pre>"
            ]
          },
          "metadata": {}
        },
        {
          "output_type": "display_data",
          "data": {
            "text/plain": [
              "recommendations finished on 101000/249511 queries. users per second: 2582.23"
            ],
            "text/html": [
              "<pre>recommendations finished on 101000/249511 queries. users per second: 2582.23</pre>"
            ]
          },
          "metadata": {}
        },
        {
          "output_type": "display_data",
          "data": {
            "text/plain": [
              "recommendations finished on 102000/249511 queries. users per second: 2581.89"
            ],
            "text/html": [
              "<pre>recommendations finished on 102000/249511 queries. users per second: 2581.89</pre>"
            ]
          },
          "metadata": {}
        },
        {
          "output_type": "display_data",
          "data": {
            "text/plain": [
              "recommendations finished on 103000/249511 queries. users per second: 2582.83"
            ],
            "text/html": [
              "<pre>recommendations finished on 103000/249511 queries. users per second: 2582.83</pre>"
            ]
          },
          "metadata": {}
        },
        {
          "output_type": "display_data",
          "data": {
            "text/plain": [
              "recommendations finished on 104000/249511 queries. users per second: 2583.64"
            ],
            "text/html": [
              "<pre>recommendations finished on 104000/249511 queries. users per second: 2583.64</pre>"
            ]
          },
          "metadata": {}
        },
        {
          "output_type": "display_data",
          "data": {
            "text/plain": [
              "recommendations finished on 105000/249511 queries. users per second: 2583.54"
            ],
            "text/html": [
              "<pre>recommendations finished on 105000/249511 queries. users per second: 2583.54</pre>"
            ]
          },
          "metadata": {}
        },
        {
          "output_type": "display_data",
          "data": {
            "text/plain": [
              "recommendations finished on 106000/249511 queries. users per second: 2584.24"
            ],
            "text/html": [
              "<pre>recommendations finished on 106000/249511 queries. users per second: 2584.24</pre>"
            ]
          },
          "metadata": {}
        },
        {
          "output_type": "display_data",
          "data": {
            "text/plain": [
              "recommendations finished on 107000/249511 queries. users per second: 2584.67"
            ],
            "text/html": [
              "<pre>recommendations finished on 107000/249511 queries. users per second: 2584.67</pre>"
            ]
          },
          "metadata": {}
        },
        {
          "output_type": "display_data",
          "data": {
            "text/plain": [
              "recommendations finished on 108000/249511 queries. users per second: 2584.77"
            ],
            "text/html": [
              "<pre>recommendations finished on 108000/249511 queries. users per second: 2584.77</pre>"
            ]
          },
          "metadata": {}
        },
        {
          "output_type": "display_data",
          "data": {
            "text/plain": [
              "recommendations finished on 109000/249511 queries. users per second: 2585.13"
            ],
            "text/html": [
              "<pre>recommendations finished on 109000/249511 queries. users per second: 2585.13</pre>"
            ]
          },
          "metadata": {}
        },
        {
          "output_type": "display_data",
          "data": {
            "text/plain": [
              "recommendations finished on 110000/249511 queries. users per second: 2585.05"
            ],
            "text/html": [
              "<pre>recommendations finished on 110000/249511 queries. users per second: 2585.05</pre>"
            ]
          },
          "metadata": {}
        },
        {
          "output_type": "display_data",
          "data": {
            "text/plain": [
              "recommendations finished on 111000/249511 queries. users per second: 2585.54"
            ],
            "text/html": [
              "<pre>recommendations finished on 111000/249511 queries. users per second: 2585.54</pre>"
            ]
          },
          "metadata": {}
        },
        {
          "output_type": "display_data",
          "data": {
            "text/plain": [
              "recommendations finished on 112000/249511 queries. users per second: 2585.68"
            ],
            "text/html": [
              "<pre>recommendations finished on 112000/249511 queries. users per second: 2585.68</pre>"
            ]
          },
          "metadata": {}
        },
        {
          "output_type": "display_data",
          "data": {
            "text/plain": [
              "recommendations finished on 113000/249511 queries. users per second: 2585.38"
            ],
            "text/html": [
              "<pre>recommendations finished on 113000/249511 queries. users per second: 2585.38</pre>"
            ]
          },
          "metadata": {}
        },
        {
          "output_type": "display_data",
          "data": {
            "text/plain": [
              "recommendations finished on 114000/249511 queries. users per second: 2584.94"
            ],
            "text/html": [
              "<pre>recommendations finished on 114000/249511 queries. users per second: 2584.94</pre>"
            ]
          },
          "metadata": {}
        },
        {
          "output_type": "display_data",
          "data": {
            "text/plain": [
              "recommendations finished on 115000/249511 queries. users per second: 2585.52"
            ],
            "text/html": [
              "<pre>recommendations finished on 115000/249511 queries. users per second: 2585.52</pre>"
            ]
          },
          "metadata": {}
        },
        {
          "output_type": "display_data",
          "data": {
            "text/plain": [
              "recommendations finished on 116000/249511 queries. users per second: 2585.38"
            ],
            "text/html": [
              "<pre>recommendations finished on 116000/249511 queries. users per second: 2585.38</pre>"
            ]
          },
          "metadata": {}
        },
        {
          "output_type": "display_data",
          "data": {
            "text/plain": [
              "recommendations finished on 117000/249511 queries. users per second: 2585.98"
            ],
            "text/html": [
              "<pre>recommendations finished on 117000/249511 queries. users per second: 2585.98</pre>"
            ]
          },
          "metadata": {}
        },
        {
          "output_type": "display_data",
          "data": {
            "text/plain": [
              "recommendations finished on 118000/249511 queries. users per second: 2585.76"
            ],
            "text/html": [
              "<pre>recommendations finished on 118000/249511 queries. users per second: 2585.76</pre>"
            ]
          },
          "metadata": {}
        },
        {
          "output_type": "display_data",
          "data": {
            "text/plain": [
              "recommendations finished on 119000/249511 queries. users per second: 2586.67"
            ],
            "text/html": [
              "<pre>recommendations finished on 119000/249511 queries. users per second: 2586.67</pre>"
            ]
          },
          "metadata": {}
        },
        {
          "output_type": "display_data",
          "data": {
            "text/plain": [
              "recommendations finished on 120000/249511 queries. users per second: 2587.32"
            ],
            "text/html": [
              "<pre>recommendations finished on 120000/249511 queries. users per second: 2587.32</pre>"
            ]
          },
          "metadata": {}
        },
        {
          "output_type": "display_data",
          "data": {
            "text/plain": [
              "recommendations finished on 121000/249511 queries. users per second: 2587.28"
            ],
            "text/html": [
              "<pre>recommendations finished on 121000/249511 queries. users per second: 2587.28</pre>"
            ]
          },
          "metadata": {}
        },
        {
          "output_type": "display_data",
          "data": {
            "text/plain": [
              "recommendations finished on 122000/249511 queries. users per second: 2587.43"
            ],
            "text/html": [
              "<pre>recommendations finished on 122000/249511 queries. users per second: 2587.43</pre>"
            ]
          },
          "metadata": {}
        },
        {
          "output_type": "display_data",
          "data": {
            "text/plain": [
              "recommendations finished on 123000/249511 queries. users per second: 2587.91"
            ],
            "text/html": [
              "<pre>recommendations finished on 123000/249511 queries. users per second: 2587.91</pre>"
            ]
          },
          "metadata": {}
        },
        {
          "output_type": "display_data",
          "data": {
            "text/plain": [
              "recommendations finished on 124000/249511 queries. users per second: 2586.83"
            ],
            "text/html": [
              "<pre>recommendations finished on 124000/249511 queries. users per second: 2586.83</pre>"
            ]
          },
          "metadata": {}
        },
        {
          "output_type": "display_data",
          "data": {
            "text/plain": [
              "recommendations finished on 125000/249511 queries. users per second: 2586.98"
            ],
            "text/html": [
              "<pre>recommendations finished on 125000/249511 queries. users per second: 2586.98</pre>"
            ]
          },
          "metadata": {}
        },
        {
          "output_type": "display_data",
          "data": {
            "text/plain": [
              "recommendations finished on 126000/249511 queries. users per second: 2586.77"
            ],
            "text/html": [
              "<pre>recommendations finished on 126000/249511 queries. users per second: 2586.77</pre>"
            ]
          },
          "metadata": {}
        },
        {
          "output_type": "display_data",
          "data": {
            "text/plain": [
              "recommendations finished on 127000/249511 queries. users per second: 2586.98"
            ],
            "text/html": [
              "<pre>recommendations finished on 127000/249511 queries. users per second: 2586.98</pre>"
            ]
          },
          "metadata": {}
        },
        {
          "output_type": "display_data",
          "data": {
            "text/plain": [
              "recommendations finished on 128000/249511 queries. users per second: 2587.52"
            ],
            "text/html": [
              "<pre>recommendations finished on 128000/249511 queries. users per second: 2587.52</pre>"
            ]
          },
          "metadata": {}
        },
        {
          "output_type": "display_data",
          "data": {
            "text/plain": [
              "recommendations finished on 129000/249511 queries. users per second: 2587.36"
            ],
            "text/html": [
              "<pre>recommendations finished on 129000/249511 queries. users per second: 2587.36</pre>"
            ]
          },
          "metadata": {}
        },
        {
          "output_type": "display_data",
          "data": {
            "text/plain": [
              "recommendations finished on 130000/249511 queries. users per second: 2587.82"
            ],
            "text/html": [
              "<pre>recommendations finished on 130000/249511 queries. users per second: 2587.82</pre>"
            ]
          },
          "metadata": {}
        },
        {
          "output_type": "display_data",
          "data": {
            "text/plain": [
              "recommendations finished on 131000/249511 queries. users per second: 2588.26"
            ],
            "text/html": [
              "<pre>recommendations finished on 131000/249511 queries. users per second: 2588.26</pre>"
            ]
          },
          "metadata": {}
        },
        {
          "output_type": "display_data",
          "data": {
            "text/plain": [
              "recommendations finished on 132000/249511 queries. users per second: 2588.09"
            ],
            "text/html": [
              "<pre>recommendations finished on 132000/249511 queries. users per second: 2588.09</pre>"
            ]
          },
          "metadata": {}
        },
        {
          "output_type": "display_data",
          "data": {
            "text/plain": [
              "recommendations finished on 133000/249511 queries. users per second: 2588.36"
            ],
            "text/html": [
              "<pre>recommendations finished on 133000/249511 queries. users per second: 2588.36</pre>"
            ]
          },
          "metadata": {}
        },
        {
          "output_type": "display_data",
          "data": {
            "text/plain": [
              "recommendations finished on 134000/249511 queries. users per second: 2588.21"
            ],
            "text/html": [
              "<pre>recommendations finished on 134000/249511 queries. users per second: 2588.21</pre>"
            ]
          },
          "metadata": {}
        },
        {
          "output_type": "display_data",
          "data": {
            "text/plain": [
              "recommendations finished on 135000/249511 queries. users per second: 2588.74"
            ],
            "text/html": [
              "<pre>recommendations finished on 135000/249511 queries. users per second: 2588.74</pre>"
            ]
          },
          "metadata": {}
        },
        {
          "output_type": "display_data",
          "data": {
            "text/plain": [
              "recommendations finished on 136000/249511 queries. users per second: 2588.81"
            ],
            "text/html": [
              "<pre>recommendations finished on 136000/249511 queries. users per second: 2588.81</pre>"
            ]
          },
          "metadata": {}
        },
        {
          "output_type": "display_data",
          "data": {
            "text/plain": [
              "recommendations finished on 137000/249511 queries. users per second: 2588.87"
            ],
            "text/html": [
              "<pre>recommendations finished on 137000/249511 queries. users per second: 2588.87</pre>"
            ]
          },
          "metadata": {}
        },
        {
          "output_type": "display_data",
          "data": {
            "text/plain": [
              "recommendations finished on 138000/249511 queries. users per second: 2580.01"
            ],
            "text/html": [
              "<pre>recommendations finished on 138000/249511 queries. users per second: 2580.01</pre>"
            ]
          },
          "metadata": {}
        },
        {
          "output_type": "display_data",
          "data": {
            "text/plain": [
              "recommendations finished on 139000/249511 queries. users per second: 2547.93"
            ],
            "text/html": [
              "<pre>recommendations finished on 139000/249511 queries. users per second: 2547.93</pre>"
            ]
          },
          "metadata": {}
        },
        {
          "output_type": "display_data",
          "data": {
            "text/plain": [
              "recommendations finished on 140000/249511 queries. users per second: 2525.72"
            ],
            "text/html": [
              "<pre>recommendations finished on 140000/249511 queries. users per second: 2525.72</pre>"
            ]
          },
          "metadata": {}
        },
        {
          "output_type": "display_data",
          "data": {
            "text/plain": [
              "recommendations finished on 141000/249511 queries. users per second: 2523.07"
            ],
            "text/html": [
              "<pre>recommendations finished on 141000/249511 queries. users per second: 2523.07</pre>"
            ]
          },
          "metadata": {}
        },
        {
          "output_type": "display_data",
          "data": {
            "text/plain": [
              "recommendations finished on 142000/249511 queries. users per second: 2524.04"
            ],
            "text/html": [
              "<pre>recommendations finished on 142000/249511 queries. users per second: 2524.04</pre>"
            ]
          },
          "metadata": {}
        },
        {
          "output_type": "display_data",
          "data": {
            "text/plain": [
              "recommendations finished on 143000/249511 queries. users per second: 2524.93"
            ],
            "text/html": [
              "<pre>recommendations finished on 143000/249511 queries. users per second: 2524.93</pre>"
            ]
          },
          "metadata": {}
        },
        {
          "output_type": "display_data",
          "data": {
            "text/plain": [
              "recommendations finished on 144000/249511 queries. users per second: 2525.17"
            ],
            "text/html": [
              "<pre>recommendations finished on 144000/249511 queries. users per second: 2525.17</pre>"
            ]
          },
          "metadata": {}
        },
        {
          "output_type": "display_data",
          "data": {
            "text/plain": [
              "recommendations finished on 145000/249511 queries. users per second: 2525.72"
            ],
            "text/html": [
              "<pre>recommendations finished on 145000/249511 queries. users per second: 2525.72</pre>"
            ]
          },
          "metadata": {}
        },
        {
          "output_type": "display_data",
          "data": {
            "text/plain": [
              "recommendations finished on 146000/249511 queries. users per second: 2526.52"
            ],
            "text/html": [
              "<pre>recommendations finished on 146000/249511 queries. users per second: 2526.52</pre>"
            ]
          },
          "metadata": {}
        },
        {
          "output_type": "display_data",
          "data": {
            "text/plain": [
              "recommendations finished on 147000/249511 queries. users per second: 2526.28"
            ],
            "text/html": [
              "<pre>recommendations finished on 147000/249511 queries. users per second: 2526.28</pre>"
            ]
          },
          "metadata": {}
        },
        {
          "output_type": "display_data",
          "data": {
            "text/plain": [
              "recommendations finished on 148000/249511 queries. users per second: 2526.01"
            ],
            "text/html": [
              "<pre>recommendations finished on 148000/249511 queries. users per second: 2526.01</pre>"
            ]
          },
          "metadata": {}
        },
        {
          "output_type": "display_data",
          "data": {
            "text/plain": [
              "recommendations finished on 149000/249511 queries. users per second: 2526.27"
            ],
            "text/html": [
              "<pre>recommendations finished on 149000/249511 queries. users per second: 2526.27</pre>"
            ]
          },
          "metadata": {}
        },
        {
          "output_type": "display_data",
          "data": {
            "text/plain": [
              "recommendations finished on 150000/249511 queries. users per second: 2526.85"
            ],
            "text/html": [
              "<pre>recommendations finished on 150000/249511 queries. users per second: 2526.85</pre>"
            ]
          },
          "metadata": {}
        },
        {
          "output_type": "display_data",
          "data": {
            "text/plain": [
              "recommendations finished on 151000/249511 queries. users per second: 2527.67"
            ],
            "text/html": [
              "<pre>recommendations finished on 151000/249511 queries. users per second: 2527.67</pre>"
            ]
          },
          "metadata": {}
        },
        {
          "output_type": "display_data",
          "data": {
            "text/plain": [
              "recommendations finished on 152000/249511 queries. users per second: 2528.2"
            ],
            "text/html": [
              "<pre>recommendations finished on 152000/249511 queries. users per second: 2528.2</pre>"
            ]
          },
          "metadata": {}
        },
        {
          "output_type": "display_data",
          "data": {
            "text/plain": [
              "recommendations finished on 153000/249511 queries. users per second: 2529.06"
            ],
            "text/html": [
              "<pre>recommendations finished on 153000/249511 queries. users per second: 2529.06</pre>"
            ]
          },
          "metadata": {}
        },
        {
          "output_type": "display_data",
          "data": {
            "text/plain": [
              "recommendations finished on 154000/249511 queries. users per second: 2529.77"
            ],
            "text/html": [
              "<pre>recommendations finished on 154000/249511 queries. users per second: 2529.77</pre>"
            ]
          },
          "metadata": {}
        },
        {
          "output_type": "display_data",
          "data": {
            "text/plain": [
              "recommendations finished on 155000/249511 queries. users per second: 2530.23"
            ],
            "text/html": [
              "<pre>recommendations finished on 155000/249511 queries. users per second: 2530.23</pre>"
            ]
          },
          "metadata": {}
        },
        {
          "output_type": "display_data",
          "data": {
            "text/plain": [
              "recommendations finished on 156000/249511 queries. users per second: 2530.18"
            ],
            "text/html": [
              "<pre>recommendations finished on 156000/249511 queries. users per second: 2530.18</pre>"
            ]
          },
          "metadata": {}
        },
        {
          "output_type": "display_data",
          "data": {
            "text/plain": [
              "recommendations finished on 157000/249511 queries. users per second: 2530.58"
            ],
            "text/html": [
              "<pre>recommendations finished on 157000/249511 queries. users per second: 2530.58</pre>"
            ]
          },
          "metadata": {}
        },
        {
          "output_type": "display_data",
          "data": {
            "text/plain": [
              "recommendations finished on 158000/249511 queries. users per second: 2530.34"
            ],
            "text/html": [
              "<pre>recommendations finished on 158000/249511 queries. users per second: 2530.34</pre>"
            ]
          },
          "metadata": {}
        },
        {
          "output_type": "display_data",
          "data": {
            "text/plain": [
              "recommendations finished on 159000/249511 queries. users per second: 2531.06"
            ],
            "text/html": [
              "<pre>recommendations finished on 159000/249511 queries. users per second: 2531.06</pre>"
            ]
          },
          "metadata": {}
        },
        {
          "output_type": "display_data",
          "data": {
            "text/plain": [
              "recommendations finished on 160000/249511 queries. users per second: 2531.28"
            ],
            "text/html": [
              "<pre>recommendations finished on 160000/249511 queries. users per second: 2531.28</pre>"
            ]
          },
          "metadata": {}
        },
        {
          "output_type": "display_data",
          "data": {
            "text/plain": [
              "recommendations finished on 161000/249511 queries. users per second: 2531.98"
            ],
            "text/html": [
              "<pre>recommendations finished on 161000/249511 queries. users per second: 2531.98</pre>"
            ]
          },
          "metadata": {}
        },
        {
          "output_type": "display_data",
          "data": {
            "text/plain": [
              "recommendations finished on 162000/249511 queries. users per second: 2532.71"
            ],
            "text/html": [
              "<pre>recommendations finished on 162000/249511 queries. users per second: 2532.71</pre>"
            ]
          },
          "metadata": {}
        },
        {
          "output_type": "display_data",
          "data": {
            "text/plain": [
              "recommendations finished on 163000/249511 queries. users per second: 2532.96"
            ],
            "text/html": [
              "<pre>recommendations finished on 163000/249511 queries. users per second: 2532.96</pre>"
            ]
          },
          "metadata": {}
        },
        {
          "output_type": "display_data",
          "data": {
            "text/plain": [
              "recommendations finished on 164000/249511 queries. users per second: 2533.7"
            ],
            "text/html": [
              "<pre>recommendations finished on 164000/249511 queries. users per second: 2533.7</pre>"
            ]
          },
          "metadata": {}
        },
        {
          "output_type": "display_data",
          "data": {
            "text/plain": [
              "recommendations finished on 165000/249511 queries. users per second: 2534.4"
            ],
            "text/html": [
              "<pre>recommendations finished on 165000/249511 queries. users per second: 2534.4</pre>"
            ]
          },
          "metadata": {}
        },
        {
          "output_type": "display_data",
          "data": {
            "text/plain": [
              "recommendations finished on 166000/249511 queries. users per second: 2534.66"
            ],
            "text/html": [
              "<pre>recommendations finished on 166000/249511 queries. users per second: 2534.66</pre>"
            ]
          },
          "metadata": {}
        },
        {
          "output_type": "display_data",
          "data": {
            "text/plain": [
              "recommendations finished on 167000/249511 queries. users per second: 2535.06"
            ],
            "text/html": [
              "<pre>recommendations finished on 167000/249511 queries. users per second: 2535.06</pre>"
            ]
          },
          "metadata": {}
        },
        {
          "output_type": "display_data",
          "data": {
            "text/plain": [
              "recommendations finished on 168000/249511 queries. users per second: 2535.15"
            ],
            "text/html": [
              "<pre>recommendations finished on 168000/249511 queries. users per second: 2535.15</pre>"
            ]
          },
          "metadata": {}
        },
        {
          "output_type": "display_data",
          "data": {
            "text/plain": [
              "recommendations finished on 169000/249511 queries. users per second: 2535.7"
            ],
            "text/html": [
              "<pre>recommendations finished on 169000/249511 queries. users per second: 2535.7</pre>"
            ]
          },
          "metadata": {}
        },
        {
          "output_type": "display_data",
          "data": {
            "text/plain": [
              "recommendations finished on 170000/249511 queries. users per second: 2536.36"
            ],
            "text/html": [
              "<pre>recommendations finished on 170000/249511 queries. users per second: 2536.36</pre>"
            ]
          },
          "metadata": {}
        },
        {
          "output_type": "display_data",
          "data": {
            "text/plain": [
              "recommendations finished on 171000/249511 queries. users per second: 2536.67"
            ],
            "text/html": [
              "<pre>recommendations finished on 171000/249511 queries. users per second: 2536.67</pre>"
            ]
          },
          "metadata": {}
        },
        {
          "output_type": "display_data",
          "data": {
            "text/plain": [
              "recommendations finished on 172000/249511 queries. users per second: 2537.33"
            ],
            "text/html": [
              "<pre>recommendations finished on 172000/249511 queries. users per second: 2537.33</pre>"
            ]
          },
          "metadata": {}
        },
        {
          "output_type": "display_data",
          "data": {
            "text/plain": [
              "recommendations finished on 173000/249511 queries. users per second: 2537.61"
            ],
            "text/html": [
              "<pre>recommendations finished on 173000/249511 queries. users per second: 2537.61</pre>"
            ]
          },
          "metadata": {}
        },
        {
          "output_type": "display_data",
          "data": {
            "text/plain": [
              "recommendations finished on 174000/249511 queries. users per second: 2537.16"
            ],
            "text/html": [
              "<pre>recommendations finished on 174000/249511 queries. users per second: 2537.16</pre>"
            ]
          },
          "metadata": {}
        },
        {
          "output_type": "display_data",
          "data": {
            "text/plain": [
              "recommendations finished on 175000/249511 queries. users per second: 2537.42"
            ],
            "text/html": [
              "<pre>recommendations finished on 175000/249511 queries. users per second: 2537.42</pre>"
            ]
          },
          "metadata": {}
        },
        {
          "output_type": "display_data",
          "data": {
            "text/plain": [
              "recommendations finished on 176000/249511 queries. users per second: 2537.72"
            ],
            "text/html": [
              "<pre>recommendations finished on 176000/249511 queries. users per second: 2537.72</pre>"
            ]
          },
          "metadata": {}
        },
        {
          "output_type": "display_data",
          "data": {
            "text/plain": [
              "recommendations finished on 177000/249511 queries. users per second: 2538.46"
            ],
            "text/html": [
              "<pre>recommendations finished on 177000/249511 queries. users per second: 2538.46</pre>"
            ]
          },
          "metadata": {}
        },
        {
          "output_type": "display_data",
          "data": {
            "text/plain": [
              "recommendations finished on 178000/249511 queries. users per second: 2538.98"
            ],
            "text/html": [
              "<pre>recommendations finished on 178000/249511 queries. users per second: 2538.98</pre>"
            ]
          },
          "metadata": {}
        },
        {
          "output_type": "display_data",
          "data": {
            "text/plain": [
              "recommendations finished on 179000/249511 queries. users per second: 2539.07"
            ],
            "text/html": [
              "<pre>recommendations finished on 179000/249511 queries. users per second: 2539.07</pre>"
            ]
          },
          "metadata": {}
        },
        {
          "output_type": "display_data",
          "data": {
            "text/plain": [
              "recommendations finished on 180000/249511 queries. users per second: 2539.92"
            ],
            "text/html": [
              "<pre>recommendations finished on 180000/249511 queries. users per second: 2539.92</pre>"
            ]
          },
          "metadata": {}
        },
        {
          "output_type": "display_data",
          "data": {
            "text/plain": [
              "recommendations finished on 181000/249511 queries. users per second: 2539.94"
            ],
            "text/html": [
              "<pre>recommendations finished on 181000/249511 queries. users per second: 2539.94</pre>"
            ]
          },
          "metadata": {}
        },
        {
          "output_type": "display_data",
          "data": {
            "text/plain": [
              "recommendations finished on 182000/249511 queries. users per second: 2540.05"
            ],
            "text/html": [
              "<pre>recommendations finished on 182000/249511 queries. users per second: 2540.05</pre>"
            ]
          },
          "metadata": {}
        },
        {
          "output_type": "display_data",
          "data": {
            "text/plain": [
              "recommendations finished on 183000/249511 queries. users per second: 2540.54"
            ],
            "text/html": [
              "<pre>recommendations finished on 183000/249511 queries. users per second: 2540.54</pre>"
            ]
          },
          "metadata": {}
        },
        {
          "output_type": "display_data",
          "data": {
            "text/plain": [
              "recommendations finished on 184000/249511 queries. users per second: 2540.72"
            ],
            "text/html": [
              "<pre>recommendations finished on 184000/249511 queries. users per second: 2540.72</pre>"
            ]
          },
          "metadata": {}
        },
        {
          "output_type": "display_data",
          "data": {
            "text/plain": [
              "recommendations finished on 185000/249511 queries. users per second: 2541.37"
            ],
            "text/html": [
              "<pre>recommendations finished on 185000/249511 queries. users per second: 2541.37</pre>"
            ]
          },
          "metadata": {}
        },
        {
          "output_type": "display_data",
          "data": {
            "text/plain": [
              "recommendations finished on 186000/249511 queries. users per second: 2541.69"
            ],
            "text/html": [
              "<pre>recommendations finished on 186000/249511 queries. users per second: 2541.69</pre>"
            ]
          },
          "metadata": {}
        },
        {
          "output_type": "display_data",
          "data": {
            "text/plain": [
              "recommendations finished on 187000/249511 queries. users per second: 2541.77"
            ],
            "text/html": [
              "<pre>recommendations finished on 187000/249511 queries. users per second: 2541.77</pre>"
            ]
          },
          "metadata": {}
        },
        {
          "output_type": "display_data",
          "data": {
            "text/plain": [
              "recommendations finished on 188000/249511 queries. users per second: 2542.36"
            ],
            "text/html": [
              "<pre>recommendations finished on 188000/249511 queries. users per second: 2542.36</pre>"
            ]
          },
          "metadata": {}
        },
        {
          "output_type": "display_data",
          "data": {
            "text/plain": [
              "recommendations finished on 189000/249511 queries. users per second: 2542.93"
            ],
            "text/html": [
              "<pre>recommendations finished on 189000/249511 queries. users per second: 2542.93</pre>"
            ]
          },
          "metadata": {}
        },
        {
          "output_type": "display_data",
          "data": {
            "text/plain": [
              "recommendations finished on 190000/249511 queries. users per second: 2543.07"
            ],
            "text/html": [
              "<pre>recommendations finished on 190000/249511 queries. users per second: 2543.07</pre>"
            ]
          },
          "metadata": {}
        },
        {
          "output_type": "display_data",
          "data": {
            "text/plain": [
              "recommendations finished on 191000/249511 queries. users per second: 2543.73"
            ],
            "text/html": [
              "<pre>recommendations finished on 191000/249511 queries. users per second: 2543.73</pre>"
            ]
          },
          "metadata": {}
        },
        {
          "output_type": "display_data",
          "data": {
            "text/plain": [
              "recommendations finished on 192000/249511 queries. users per second: 2544.1"
            ],
            "text/html": [
              "<pre>recommendations finished on 192000/249511 queries. users per second: 2544.1</pre>"
            ]
          },
          "metadata": {}
        },
        {
          "output_type": "display_data",
          "data": {
            "text/plain": [
              "recommendations finished on 193000/249511 queries. users per second: 2544.19"
            ],
            "text/html": [
              "<pre>recommendations finished on 193000/249511 queries. users per second: 2544.19</pre>"
            ]
          },
          "metadata": {}
        },
        {
          "output_type": "display_data",
          "data": {
            "text/plain": [
              "recommendations finished on 194000/249511 queries. users per second: 2544.66"
            ],
            "text/html": [
              "<pre>recommendations finished on 194000/249511 queries. users per second: 2544.66</pre>"
            ]
          },
          "metadata": {}
        },
        {
          "output_type": "display_data",
          "data": {
            "text/plain": [
              "recommendations finished on 195000/249511 queries. users per second: 2544.8"
            ],
            "text/html": [
              "<pre>recommendations finished on 195000/249511 queries. users per second: 2544.8</pre>"
            ]
          },
          "metadata": {}
        },
        {
          "output_type": "display_data",
          "data": {
            "text/plain": [
              "recommendations finished on 196000/249511 queries. users per second: 2545.2"
            ],
            "text/html": [
              "<pre>recommendations finished on 196000/249511 queries. users per second: 2545.2</pre>"
            ]
          },
          "metadata": {}
        },
        {
          "output_type": "display_data",
          "data": {
            "text/plain": [
              "recommendations finished on 197000/249511 queries. users per second: 2545.75"
            ],
            "text/html": [
              "<pre>recommendations finished on 197000/249511 queries. users per second: 2545.75</pre>"
            ]
          },
          "metadata": {}
        },
        {
          "output_type": "display_data",
          "data": {
            "text/plain": [
              "recommendations finished on 198000/249511 queries. users per second: 2545.76"
            ],
            "text/html": [
              "<pre>recommendations finished on 198000/249511 queries. users per second: 2545.76</pre>"
            ]
          },
          "metadata": {}
        },
        {
          "output_type": "display_data",
          "data": {
            "text/plain": [
              "recommendations finished on 199000/249511 queries. users per second: 2546.06"
            ],
            "text/html": [
              "<pre>recommendations finished on 199000/249511 queries. users per second: 2546.06</pre>"
            ]
          },
          "metadata": {}
        },
        {
          "output_type": "display_data",
          "data": {
            "text/plain": [
              "recommendations finished on 200000/249511 queries. users per second: 2546.23"
            ],
            "text/html": [
              "<pre>recommendations finished on 200000/249511 queries. users per second: 2546.23</pre>"
            ]
          },
          "metadata": {}
        },
        {
          "output_type": "display_data",
          "data": {
            "text/plain": [
              "recommendations finished on 201000/249511 queries. users per second: 2546.5"
            ],
            "text/html": [
              "<pre>recommendations finished on 201000/249511 queries. users per second: 2546.5</pre>"
            ]
          },
          "metadata": {}
        },
        {
          "output_type": "display_data",
          "data": {
            "text/plain": [
              "recommendations finished on 202000/249511 queries. users per second: 2546.23"
            ],
            "text/html": [
              "<pre>recommendations finished on 202000/249511 queries. users per second: 2546.23</pre>"
            ]
          },
          "metadata": {}
        },
        {
          "output_type": "display_data",
          "data": {
            "text/plain": [
              "recommendations finished on 203000/249511 queries. users per second: 2546.2"
            ],
            "text/html": [
              "<pre>recommendations finished on 203000/249511 queries. users per second: 2546.2</pre>"
            ]
          },
          "metadata": {}
        },
        {
          "output_type": "display_data",
          "data": {
            "text/plain": [
              "recommendations finished on 204000/249511 queries. users per second: 2546.64"
            ],
            "text/html": [
              "<pre>recommendations finished on 204000/249511 queries. users per second: 2546.64</pre>"
            ]
          },
          "metadata": {}
        },
        {
          "output_type": "display_data",
          "data": {
            "text/plain": [
              "recommendations finished on 205000/249511 queries. users per second: 2547.07"
            ],
            "text/html": [
              "<pre>recommendations finished on 205000/249511 queries. users per second: 2547.07</pre>"
            ]
          },
          "metadata": {}
        },
        {
          "output_type": "display_data",
          "data": {
            "text/plain": [
              "recommendations finished on 206000/249511 queries. users per second: 2547.23"
            ],
            "text/html": [
              "<pre>recommendations finished on 206000/249511 queries. users per second: 2547.23</pre>"
            ]
          },
          "metadata": {}
        },
        {
          "output_type": "display_data",
          "data": {
            "text/plain": [
              "recommendations finished on 207000/249511 queries. users per second: 2547.71"
            ],
            "text/html": [
              "<pre>recommendations finished on 207000/249511 queries. users per second: 2547.71</pre>"
            ]
          },
          "metadata": {}
        },
        {
          "output_type": "display_data",
          "data": {
            "text/plain": [
              "recommendations finished on 208000/249511 queries. users per second: 2547.94"
            ],
            "text/html": [
              "<pre>recommendations finished on 208000/249511 queries. users per second: 2547.94</pre>"
            ]
          },
          "metadata": {}
        },
        {
          "output_type": "display_data",
          "data": {
            "text/plain": [
              "recommendations finished on 209000/249511 queries. users per second: 2548.04"
            ],
            "text/html": [
              "<pre>recommendations finished on 209000/249511 queries. users per second: 2548.04</pre>"
            ]
          },
          "metadata": {}
        },
        {
          "output_type": "display_data",
          "data": {
            "text/plain": [
              "recommendations finished on 210000/249511 queries. users per second: 2548.34"
            ],
            "text/html": [
              "<pre>recommendations finished on 210000/249511 queries. users per second: 2548.34</pre>"
            ]
          },
          "metadata": {}
        },
        {
          "output_type": "display_data",
          "data": {
            "text/plain": [
              "recommendations finished on 211000/249511 queries. users per second: 2548.37"
            ],
            "text/html": [
              "<pre>recommendations finished on 211000/249511 queries. users per second: 2548.37</pre>"
            ]
          },
          "metadata": {}
        },
        {
          "output_type": "display_data",
          "data": {
            "text/plain": [
              "recommendations finished on 212000/249511 queries. users per second: 2548.93"
            ],
            "text/html": [
              "<pre>recommendations finished on 212000/249511 queries. users per second: 2548.93</pre>"
            ]
          },
          "metadata": {}
        },
        {
          "output_type": "display_data",
          "data": {
            "text/plain": [
              "recommendations finished on 213000/249511 queries. users per second: 2549.42"
            ],
            "text/html": [
              "<pre>recommendations finished on 213000/249511 queries. users per second: 2549.42</pre>"
            ]
          },
          "metadata": {}
        },
        {
          "output_type": "display_data",
          "data": {
            "text/plain": [
              "recommendations finished on 214000/249511 queries. users per second: 2549.65"
            ],
            "text/html": [
              "<pre>recommendations finished on 214000/249511 queries. users per second: 2549.65</pre>"
            ]
          },
          "metadata": {}
        },
        {
          "output_type": "display_data",
          "data": {
            "text/plain": [
              "recommendations finished on 215000/249511 queries. users per second: 2549.95"
            ],
            "text/html": [
              "<pre>recommendations finished on 215000/249511 queries. users per second: 2549.95</pre>"
            ]
          },
          "metadata": {}
        },
        {
          "output_type": "display_data",
          "data": {
            "text/plain": [
              "recommendations finished on 216000/249511 queries. users per second: 2550.54"
            ],
            "text/html": [
              "<pre>recommendations finished on 216000/249511 queries. users per second: 2550.54</pre>"
            ]
          },
          "metadata": {}
        },
        {
          "output_type": "display_data",
          "data": {
            "text/plain": [
              "recommendations finished on 217000/249511 queries. users per second: 2550.78"
            ],
            "text/html": [
              "<pre>recommendations finished on 217000/249511 queries. users per second: 2550.78</pre>"
            ]
          },
          "metadata": {}
        },
        {
          "output_type": "display_data",
          "data": {
            "text/plain": [
              "recommendations finished on 218000/249511 queries. users per second: 2551.03"
            ],
            "text/html": [
              "<pre>recommendations finished on 218000/249511 queries. users per second: 2551.03</pre>"
            ]
          },
          "metadata": {}
        },
        {
          "output_type": "display_data",
          "data": {
            "text/plain": [
              "recommendations finished on 219000/249511 queries. users per second: 2551.48"
            ],
            "text/html": [
              "<pre>recommendations finished on 219000/249511 queries. users per second: 2551.48</pre>"
            ]
          },
          "metadata": {}
        },
        {
          "output_type": "display_data",
          "data": {
            "text/plain": [
              "recommendations finished on 220000/249511 queries. users per second: 2551.34"
            ],
            "text/html": [
              "<pre>recommendations finished on 220000/249511 queries. users per second: 2551.34</pre>"
            ]
          },
          "metadata": {}
        },
        {
          "output_type": "display_data",
          "data": {
            "text/plain": [
              "recommendations finished on 221000/249511 queries. users per second: 2551.65"
            ],
            "text/html": [
              "<pre>recommendations finished on 221000/249511 queries. users per second: 2551.65</pre>"
            ]
          },
          "metadata": {}
        },
        {
          "output_type": "display_data",
          "data": {
            "text/plain": [
              "recommendations finished on 222000/249511 queries. users per second: 2551.33"
            ],
            "text/html": [
              "<pre>recommendations finished on 222000/249511 queries. users per second: 2551.33</pre>"
            ]
          },
          "metadata": {}
        },
        {
          "output_type": "display_data",
          "data": {
            "text/plain": [
              "recommendations finished on 223000/249511 queries. users per second: 2551.66"
            ],
            "text/html": [
              "<pre>recommendations finished on 223000/249511 queries. users per second: 2551.66</pre>"
            ]
          },
          "metadata": {}
        },
        {
          "output_type": "display_data",
          "data": {
            "text/plain": [
              "recommendations finished on 224000/249511 queries. users per second: 2552.03"
            ],
            "text/html": [
              "<pre>recommendations finished on 224000/249511 queries. users per second: 2552.03</pre>"
            ]
          },
          "metadata": {}
        },
        {
          "output_type": "display_data",
          "data": {
            "text/plain": [
              "recommendations finished on 225000/249511 queries. users per second: 2552.13"
            ],
            "text/html": [
              "<pre>recommendations finished on 225000/249511 queries. users per second: 2552.13</pre>"
            ]
          },
          "metadata": {}
        },
        {
          "output_type": "display_data",
          "data": {
            "text/plain": [
              "recommendations finished on 226000/249511 queries. users per second: 2552.43"
            ],
            "text/html": [
              "<pre>recommendations finished on 226000/249511 queries. users per second: 2552.43</pre>"
            ]
          },
          "metadata": {}
        },
        {
          "output_type": "display_data",
          "data": {
            "text/plain": [
              "recommendations finished on 227000/249511 queries. users per second: 2552.76"
            ],
            "text/html": [
              "<pre>recommendations finished on 227000/249511 queries. users per second: 2552.76</pre>"
            ]
          },
          "metadata": {}
        },
        {
          "output_type": "display_data",
          "data": {
            "text/plain": [
              "recommendations finished on 228000/249511 queries. users per second: 2552.94"
            ],
            "text/html": [
              "<pre>recommendations finished on 228000/249511 queries. users per second: 2552.94</pre>"
            ]
          },
          "metadata": {}
        },
        {
          "output_type": "display_data",
          "data": {
            "text/plain": [
              "recommendations finished on 229000/249511 queries. users per second: 2552.67"
            ],
            "text/html": [
              "<pre>recommendations finished on 229000/249511 queries. users per second: 2552.67</pre>"
            ]
          },
          "metadata": {}
        },
        {
          "output_type": "display_data",
          "data": {
            "text/plain": [
              "recommendations finished on 230000/249511 queries. users per second: 2552.3"
            ],
            "text/html": [
              "<pre>recommendations finished on 230000/249511 queries. users per second: 2552.3</pre>"
            ]
          },
          "metadata": {}
        },
        {
          "output_type": "display_data",
          "data": {
            "text/plain": [
              "recommendations finished on 231000/249511 queries. users per second: 2552.68"
            ],
            "text/html": [
              "<pre>recommendations finished on 231000/249511 queries. users per second: 2552.68</pre>"
            ]
          },
          "metadata": {}
        },
        {
          "output_type": "display_data",
          "data": {
            "text/plain": [
              "recommendations finished on 232000/249511 queries. users per second: 2553.18"
            ],
            "text/html": [
              "<pre>recommendations finished on 232000/249511 queries. users per second: 2553.18</pre>"
            ]
          },
          "metadata": {}
        },
        {
          "output_type": "display_data",
          "data": {
            "text/plain": [
              "recommendations finished on 233000/249511 queries. users per second: 2553.11"
            ],
            "text/html": [
              "<pre>recommendations finished on 233000/249511 queries. users per second: 2553.11</pre>"
            ]
          },
          "metadata": {}
        },
        {
          "output_type": "display_data",
          "data": {
            "text/plain": [
              "recommendations finished on 234000/249511 queries. users per second: 2553.35"
            ],
            "text/html": [
              "<pre>recommendations finished on 234000/249511 queries. users per second: 2553.35</pre>"
            ]
          },
          "metadata": {}
        },
        {
          "output_type": "display_data",
          "data": {
            "text/plain": [
              "recommendations finished on 235000/249511 queries. users per second: 2553.68"
            ],
            "text/html": [
              "<pre>recommendations finished on 235000/249511 queries. users per second: 2553.68</pre>"
            ]
          },
          "metadata": {}
        },
        {
          "output_type": "display_data",
          "data": {
            "text/plain": [
              "recommendations finished on 236000/249511 queries. users per second: 2553.69"
            ],
            "text/html": [
              "<pre>recommendations finished on 236000/249511 queries. users per second: 2553.69</pre>"
            ]
          },
          "metadata": {}
        },
        {
          "output_type": "display_data",
          "data": {
            "text/plain": [
              "recommendations finished on 237000/249511 queries. users per second: 2553.97"
            ],
            "text/html": [
              "<pre>recommendations finished on 237000/249511 queries. users per second: 2553.97</pre>"
            ]
          },
          "metadata": {}
        },
        {
          "output_type": "display_data",
          "data": {
            "text/plain": [
              "recommendations finished on 238000/249511 queries. users per second: 2553.99"
            ],
            "text/html": [
              "<pre>recommendations finished on 238000/249511 queries. users per second: 2553.99</pre>"
            ]
          },
          "metadata": {}
        },
        {
          "output_type": "display_data",
          "data": {
            "text/plain": [
              "recommendations finished on 239000/249511 queries. users per second: 2554.27"
            ],
            "text/html": [
              "<pre>recommendations finished on 239000/249511 queries. users per second: 2554.27</pre>"
            ]
          },
          "metadata": {}
        },
        {
          "output_type": "display_data",
          "data": {
            "text/plain": [
              "recommendations finished on 240000/249511 queries. users per second: 2554.64"
            ],
            "text/html": [
              "<pre>recommendations finished on 240000/249511 queries. users per second: 2554.64</pre>"
            ]
          },
          "metadata": {}
        },
        {
          "output_type": "display_data",
          "data": {
            "text/plain": [
              "recommendations finished on 241000/249511 queries. users per second: 2554.43"
            ],
            "text/html": [
              "<pre>recommendations finished on 241000/249511 queries. users per second: 2554.43</pre>"
            ]
          },
          "metadata": {}
        },
        {
          "output_type": "display_data",
          "data": {
            "text/plain": [
              "recommendations finished on 242000/249511 queries. users per second: 2554.77"
            ],
            "text/html": [
              "<pre>recommendations finished on 242000/249511 queries. users per second: 2554.77</pre>"
            ]
          },
          "metadata": {}
        },
        {
          "output_type": "display_data",
          "data": {
            "text/plain": [
              "recommendations finished on 243000/249511 queries. users per second: 2555.23"
            ],
            "text/html": [
              "<pre>recommendations finished on 243000/249511 queries. users per second: 2555.23</pre>"
            ]
          },
          "metadata": {}
        },
        {
          "output_type": "display_data",
          "data": {
            "text/plain": [
              "recommendations finished on 244000/249511 queries. users per second: 2555.26"
            ],
            "text/html": [
              "<pre>recommendations finished on 244000/249511 queries. users per second: 2555.26</pre>"
            ]
          },
          "metadata": {}
        },
        {
          "output_type": "display_data",
          "data": {
            "text/plain": [
              "recommendations finished on 245000/249511 queries. users per second: 2555.72"
            ],
            "text/html": [
              "<pre>recommendations finished on 245000/249511 queries. users per second: 2555.72</pre>"
            ]
          },
          "metadata": {}
        },
        {
          "output_type": "display_data",
          "data": {
            "text/plain": [
              "recommendations finished on 246000/249511 queries. users per second: 2555.81"
            ],
            "text/html": [
              "<pre>recommendations finished on 246000/249511 queries. users per second: 2555.81</pre>"
            ]
          },
          "metadata": {}
        },
        {
          "output_type": "display_data",
          "data": {
            "text/plain": [
              "recommendations finished on 247000/249511 queries. users per second: 2556.18"
            ],
            "text/html": [
              "<pre>recommendations finished on 247000/249511 queries. users per second: 2556.18</pre>"
            ]
          },
          "metadata": {}
        },
        {
          "output_type": "display_data",
          "data": {
            "text/plain": [
              "recommendations finished on 248000/249511 queries. users per second: 2556.49"
            ],
            "text/html": [
              "<pre>recommendations finished on 248000/249511 queries. users per second: 2556.49</pre>"
            ]
          },
          "metadata": {}
        },
        {
          "output_type": "display_data",
          "data": {
            "text/plain": [
              "recommendations finished on 249000/249511 queries. users per second: 2556.48"
            ],
            "text/html": [
              "<pre>recommendations finished on 249000/249511 queries. users per second: 2556.48</pre>"
            ]
          },
          "metadata": {}
        }
      ]
    },
    {
      "cell_type": "code",
      "execution_count": null,
      "metadata": {
        "colab": {
          "base_uri": "https://localhost:8080/"
        },
        "id": "VnH4UBo-T44m",
        "outputId": "44dd594c-f47b-47f7-fe8c-d87fbda4c1ef"
      },
      "outputs": [
        {
          "output_type": "stream",
          "name": "stdout",
          "text": [
            "+-------------+------------+-----------------------+------+\n",
            "| customer_id | article_id |         score         | rank |\n",
            "+-------------+------------+-----------------------+------+\n",
            "|      0      |    4345    |  0.02265251033446368  |  1   |\n",
            "|      0      |    380     |  0.02029078848221723  |  2   |\n",
            "|      0      |    5470    |  0.016634660608628216 |  3   |\n",
            "|      0      |    1558    |  0.016199441517100614 |  4   |\n",
            "|      0      |    2593    |  0.013634345110724954 |  5   |\n",
            "|      0      |     47     |  0.013183127431308521 |  6   |\n",
            "|      0      |    8115    |  0.011291921138763428 |  7   |\n",
            "|      0      |    980     |  0.010768031372743495 |  8   |\n",
            "|      0      |    1633    |  0.009394526481628418 |  9   |\n",
            "|      0      |    4178    |  0.00925880319931928  |  10  |\n",
            "|      0      |   20144    |  0.008978885762831745 |  11  |\n",
            "|      0      |   17340    |  0.008935935357037713 |  12  |\n",
            "|      0      |    2289    |  0.008660803822910084 |  13  |\n",
            "|      0      |    8116    |  0.008575632291681626 |  14  |\n",
            "|      0      |   24271    |  0.008389806046205409 |  15  |\n",
            "|      0      |    3786    |  0.008312930079067455 |  16  |\n",
            "|      0      |   21762    |  0.008177876472473145 |  17  |\n",
            "|      0      |    4179    |  0.008084034218507655 |  18  |\n",
            "|      0      |    837     |  0.008066910154679242 |  19  |\n",
            "|      0      |    2779    |  0.00798716615228092  |  20  |\n",
            "|      0      |    570     |  0.007900872651268454 |  21  |\n",
            "|      0      |   28768    |  0.007766306400299072 |  22  |\n",
            "|      0      |   24220    |  0.007744477075688979 |  23  |\n",
            "|      0      |   20193    |  0.007724463939666748 |  24  |\n",
            "|      0      |   20267    |  0.007657086147981531 |  25  |\n",
            "|      0      |    1413    |  0.007650883758769315 |  26  |\n",
            "|      0      |   15948    |  0.007594084038453943 |  27  |\n",
            "|      0      |    576     | 0.0072812087395611935 |  28  |\n",
            "|      0      |   28931    |  0.007065113853005802 |  29  |\n",
            "|      0      |    1904    |  0.006968810277826646 |  30  |\n",
            "+-------------+------------+-----------------------+------+\n",
            "[12475550 rows x 4 columns]\n",
            "\n"
          ]
        }
      ],
      "source": [
        "recommendation_cos.print_rows(30)"
      ]
    },
    {
      "cell_type": "code",
      "execution_count": null,
      "metadata": {
        "colab": {
          "base_uri": "https://localhost:8080/",
          "height": 1000
        },
        "id": "gq17PZatSVol",
        "outputId": "b816a8c4-d783-4e1e-e7fe-6cbb8e86785a"
      },
      "outputs": [
        {
          "output_type": "display_data",
          "data": {
            "text/plain": [
              "recommendations finished on 1000/68984 queries. users per second: 1965.29"
            ],
            "text/html": [
              "<pre>recommendations finished on 1000/68984 queries. users per second: 1965.29</pre>"
            ]
          },
          "metadata": {}
        },
        {
          "output_type": "display_data",
          "data": {
            "text/plain": [
              "recommendations finished on 2000/68984 queries. users per second: 1946.11"
            ],
            "text/html": [
              "<pre>recommendations finished on 2000/68984 queries. users per second: 1946.11</pre>"
            ]
          },
          "metadata": {}
        },
        {
          "output_type": "display_data",
          "data": {
            "text/plain": [
              "recommendations finished on 3000/68984 queries. users per second: 1944.04"
            ],
            "text/html": [
              "<pre>recommendations finished on 3000/68984 queries. users per second: 1944.04</pre>"
            ]
          },
          "metadata": {}
        },
        {
          "output_type": "display_data",
          "data": {
            "text/plain": [
              "recommendations finished on 4000/68984 queries. users per second: 1944.08"
            ],
            "text/html": [
              "<pre>recommendations finished on 4000/68984 queries. users per second: 1944.08</pre>"
            ]
          },
          "metadata": {}
        },
        {
          "output_type": "display_data",
          "data": {
            "text/plain": [
              "recommendations finished on 5000/68984 queries. users per second: 1925.54"
            ],
            "text/html": [
              "<pre>recommendations finished on 5000/68984 queries. users per second: 1925.54</pre>"
            ]
          },
          "metadata": {}
        },
        {
          "output_type": "display_data",
          "data": {
            "text/plain": [
              "recommendations finished on 6000/68984 queries. users per second: 1937.53"
            ],
            "text/html": [
              "<pre>recommendations finished on 6000/68984 queries. users per second: 1937.53</pre>"
            ]
          },
          "metadata": {}
        },
        {
          "output_type": "display_data",
          "data": {
            "text/plain": [
              "recommendations finished on 7000/68984 queries. users per second: 1936.99"
            ],
            "text/html": [
              "<pre>recommendations finished on 7000/68984 queries. users per second: 1936.99</pre>"
            ]
          },
          "metadata": {}
        },
        {
          "output_type": "display_data",
          "data": {
            "text/plain": [
              "recommendations finished on 8000/68984 queries. users per second: 1941.82"
            ],
            "text/html": [
              "<pre>recommendations finished on 8000/68984 queries. users per second: 1941.82</pre>"
            ]
          },
          "metadata": {}
        },
        {
          "output_type": "display_data",
          "data": {
            "text/plain": [
              "recommendations finished on 9000/68984 queries. users per second: 1938.79"
            ],
            "text/html": [
              "<pre>recommendations finished on 9000/68984 queries. users per second: 1938.79</pre>"
            ]
          },
          "metadata": {}
        },
        {
          "output_type": "display_data",
          "data": {
            "text/plain": [
              "recommendations finished on 10000/68984 queries. users per second: 1942.07"
            ],
            "text/html": [
              "<pre>recommendations finished on 10000/68984 queries. users per second: 1942.07</pre>"
            ]
          },
          "metadata": {}
        },
        {
          "output_type": "display_data",
          "data": {
            "text/plain": [
              "recommendations finished on 11000/68984 queries. users per second: 1941.74"
            ],
            "text/html": [
              "<pre>recommendations finished on 11000/68984 queries. users per second: 1941.74</pre>"
            ]
          },
          "metadata": {}
        },
        {
          "output_type": "display_data",
          "data": {
            "text/plain": [
              "recommendations finished on 12000/68984 queries. users per second: 1944.7"
            ],
            "text/html": [
              "<pre>recommendations finished on 12000/68984 queries. users per second: 1944.7</pre>"
            ]
          },
          "metadata": {}
        },
        {
          "output_type": "display_data",
          "data": {
            "text/plain": [
              "recommendations finished on 13000/68984 queries. users per second: 1936.24"
            ],
            "text/html": [
              "<pre>recommendations finished on 13000/68984 queries. users per second: 1936.24</pre>"
            ]
          },
          "metadata": {}
        },
        {
          "output_type": "display_data",
          "data": {
            "text/plain": [
              "recommendations finished on 14000/68984 queries. users per second: 1941.03"
            ],
            "text/html": [
              "<pre>recommendations finished on 14000/68984 queries. users per second: 1941.03</pre>"
            ]
          },
          "metadata": {}
        },
        {
          "output_type": "display_data",
          "data": {
            "text/plain": [
              "recommendations finished on 15000/68984 queries. users per second: 1944.94"
            ],
            "text/html": [
              "<pre>recommendations finished on 15000/68984 queries. users per second: 1944.94</pre>"
            ]
          },
          "metadata": {}
        },
        {
          "output_type": "display_data",
          "data": {
            "text/plain": [
              "recommendations finished on 16000/68984 queries. users per second: 1944.72"
            ],
            "text/html": [
              "<pre>recommendations finished on 16000/68984 queries. users per second: 1944.72</pre>"
            ]
          },
          "metadata": {}
        },
        {
          "output_type": "display_data",
          "data": {
            "text/plain": [
              "recommendations finished on 17000/68984 queries. users per second: 1941.48"
            ],
            "text/html": [
              "<pre>recommendations finished on 17000/68984 queries. users per second: 1941.48</pre>"
            ]
          },
          "metadata": {}
        },
        {
          "output_type": "display_data",
          "data": {
            "text/plain": [
              "recommendations finished on 18000/68984 queries. users per second: 1942.57"
            ],
            "text/html": [
              "<pre>recommendations finished on 18000/68984 queries. users per second: 1942.57</pre>"
            ]
          },
          "metadata": {}
        },
        {
          "output_type": "display_data",
          "data": {
            "text/plain": [
              "recommendations finished on 19000/68984 queries. users per second: 1944.31"
            ],
            "text/html": [
              "<pre>recommendations finished on 19000/68984 queries. users per second: 1944.31</pre>"
            ]
          },
          "metadata": {}
        },
        {
          "output_type": "display_data",
          "data": {
            "text/plain": [
              "recommendations finished on 20000/68984 queries. users per second: 1941.62"
            ],
            "text/html": [
              "<pre>recommendations finished on 20000/68984 queries. users per second: 1941.62</pre>"
            ]
          },
          "metadata": {}
        },
        {
          "output_type": "display_data",
          "data": {
            "text/plain": [
              "recommendations finished on 21000/68984 queries. users per second: 1944.58"
            ],
            "text/html": [
              "<pre>recommendations finished on 21000/68984 queries. users per second: 1944.58</pre>"
            ]
          },
          "metadata": {}
        },
        {
          "output_type": "display_data",
          "data": {
            "text/plain": [
              "recommendations finished on 22000/68984 queries. users per second: 1942.52"
            ],
            "text/html": [
              "<pre>recommendations finished on 22000/68984 queries. users per second: 1942.52</pre>"
            ]
          },
          "metadata": {}
        },
        {
          "output_type": "display_data",
          "data": {
            "text/plain": [
              "recommendations finished on 23000/68984 queries. users per second: 1945.43"
            ],
            "text/html": [
              "<pre>recommendations finished on 23000/68984 queries. users per second: 1945.43</pre>"
            ]
          },
          "metadata": {}
        },
        {
          "output_type": "display_data",
          "data": {
            "text/plain": [
              "recommendations finished on 24000/68984 queries. users per second: 1946.56"
            ],
            "text/html": [
              "<pre>recommendations finished on 24000/68984 queries. users per second: 1946.56</pre>"
            ]
          },
          "metadata": {}
        },
        {
          "output_type": "display_data",
          "data": {
            "text/plain": [
              "recommendations finished on 25000/68984 queries. users per second: 1943.37"
            ],
            "text/html": [
              "<pre>recommendations finished on 25000/68984 queries. users per second: 1943.37</pre>"
            ]
          },
          "metadata": {}
        },
        {
          "output_type": "display_data",
          "data": {
            "text/plain": [
              "recommendations finished on 26000/68984 queries. users per second: 1942.72"
            ],
            "text/html": [
              "<pre>recommendations finished on 26000/68984 queries. users per second: 1942.72</pre>"
            ]
          },
          "metadata": {}
        },
        {
          "output_type": "display_data",
          "data": {
            "text/plain": [
              "recommendations finished on 27000/68984 queries. users per second: 1944.34"
            ],
            "text/html": [
              "<pre>recommendations finished on 27000/68984 queries. users per second: 1944.34</pre>"
            ]
          },
          "metadata": {}
        },
        {
          "output_type": "display_data",
          "data": {
            "text/plain": [
              "recommendations finished on 28000/68984 queries. users per second: 1944.48"
            ],
            "text/html": [
              "<pre>recommendations finished on 28000/68984 queries. users per second: 1944.48</pre>"
            ]
          },
          "metadata": {}
        },
        {
          "output_type": "display_data",
          "data": {
            "text/plain": [
              "recommendations finished on 29000/68984 queries. users per second: 1944.8"
            ],
            "text/html": [
              "<pre>recommendations finished on 29000/68984 queries. users per second: 1944.8</pre>"
            ]
          },
          "metadata": {}
        },
        {
          "output_type": "display_data",
          "data": {
            "text/plain": [
              "recommendations finished on 30000/68984 queries. users per second: 1942.08"
            ],
            "text/html": [
              "<pre>recommendations finished on 30000/68984 queries. users per second: 1942.08</pre>"
            ]
          },
          "metadata": {}
        },
        {
          "output_type": "display_data",
          "data": {
            "text/plain": [
              "recommendations finished on 31000/68984 queries. users per second: 1942.95"
            ],
            "text/html": [
              "<pre>recommendations finished on 31000/68984 queries. users per second: 1942.95</pre>"
            ]
          },
          "metadata": {}
        },
        {
          "output_type": "display_data",
          "data": {
            "text/plain": [
              "recommendations finished on 32000/68984 queries. users per second: 1943.6"
            ],
            "text/html": [
              "<pre>recommendations finished on 32000/68984 queries. users per second: 1943.6</pre>"
            ]
          },
          "metadata": {}
        },
        {
          "output_type": "display_data",
          "data": {
            "text/plain": [
              "recommendations finished on 33000/68984 queries. users per second: 1944.2"
            ],
            "text/html": [
              "<pre>recommendations finished on 33000/68984 queries. users per second: 1944.2</pre>"
            ]
          },
          "metadata": {}
        },
        {
          "output_type": "display_data",
          "data": {
            "text/plain": [
              "recommendations finished on 34000/68984 queries. users per second: 1942.93"
            ],
            "text/html": [
              "<pre>recommendations finished on 34000/68984 queries. users per second: 1942.93</pre>"
            ]
          },
          "metadata": {}
        },
        {
          "output_type": "display_data",
          "data": {
            "text/plain": [
              "recommendations finished on 35000/68984 queries. users per second: 1944.37"
            ],
            "text/html": [
              "<pre>recommendations finished on 35000/68984 queries. users per second: 1944.37</pre>"
            ]
          },
          "metadata": {}
        },
        {
          "output_type": "display_data",
          "data": {
            "text/plain": [
              "recommendations finished on 36000/68984 queries. users per second: 1940.34"
            ],
            "text/html": [
              "<pre>recommendations finished on 36000/68984 queries. users per second: 1940.34</pre>"
            ]
          },
          "metadata": {}
        },
        {
          "output_type": "display_data",
          "data": {
            "text/plain": [
              "recommendations finished on 37000/68984 queries. users per second: 1941.48"
            ],
            "text/html": [
              "<pre>recommendations finished on 37000/68984 queries. users per second: 1941.48</pre>"
            ]
          },
          "metadata": {}
        },
        {
          "output_type": "display_data",
          "data": {
            "text/plain": [
              "recommendations finished on 38000/68984 queries. users per second: 1941.21"
            ],
            "text/html": [
              "<pre>recommendations finished on 38000/68984 queries. users per second: 1941.21</pre>"
            ]
          },
          "metadata": {}
        },
        {
          "output_type": "display_data",
          "data": {
            "text/plain": [
              "recommendations finished on 39000/68984 queries. users per second: 1942.67"
            ],
            "text/html": [
              "<pre>recommendations finished on 39000/68984 queries. users per second: 1942.67</pre>"
            ]
          },
          "metadata": {}
        },
        {
          "output_type": "display_data",
          "data": {
            "text/plain": [
              "recommendations finished on 40000/68984 queries. users per second: 1941.46"
            ],
            "text/html": [
              "<pre>recommendations finished on 40000/68984 queries. users per second: 1941.46</pre>"
            ]
          },
          "metadata": {}
        },
        {
          "output_type": "display_data",
          "data": {
            "text/plain": [
              "recommendations finished on 41000/68984 queries. users per second: 1942.76"
            ],
            "text/html": [
              "<pre>recommendations finished on 41000/68984 queries. users per second: 1942.76</pre>"
            ]
          },
          "metadata": {}
        },
        {
          "output_type": "display_data",
          "data": {
            "text/plain": [
              "recommendations finished on 42000/68984 queries. users per second: 1942.6"
            ],
            "text/html": [
              "<pre>recommendations finished on 42000/68984 queries. users per second: 1942.6</pre>"
            ]
          },
          "metadata": {}
        },
        {
          "output_type": "display_data",
          "data": {
            "text/plain": [
              "recommendations finished on 43000/68984 queries. users per second: 1941.92"
            ],
            "text/html": [
              "<pre>recommendations finished on 43000/68984 queries. users per second: 1941.92</pre>"
            ]
          },
          "metadata": {}
        },
        {
          "output_type": "display_data",
          "data": {
            "text/plain": [
              "recommendations finished on 44000/68984 queries. users per second: 1941.21"
            ],
            "text/html": [
              "<pre>recommendations finished on 44000/68984 queries. users per second: 1941.21</pre>"
            ]
          },
          "metadata": {}
        },
        {
          "output_type": "display_data",
          "data": {
            "text/plain": [
              "recommendations finished on 45000/68984 queries. users per second: 1939.6"
            ],
            "text/html": [
              "<pre>recommendations finished on 45000/68984 queries. users per second: 1939.6</pre>"
            ]
          },
          "metadata": {}
        },
        {
          "output_type": "display_data",
          "data": {
            "text/plain": [
              "recommendations finished on 46000/68984 queries. users per second: 1939.88"
            ],
            "text/html": [
              "<pre>recommendations finished on 46000/68984 queries. users per second: 1939.88</pre>"
            ]
          },
          "metadata": {}
        },
        {
          "output_type": "display_data",
          "data": {
            "text/plain": [
              "recommendations finished on 47000/68984 queries. users per second: 1938.61"
            ],
            "text/html": [
              "<pre>recommendations finished on 47000/68984 queries. users per second: 1938.61</pre>"
            ]
          },
          "metadata": {}
        },
        {
          "output_type": "display_data",
          "data": {
            "text/plain": [
              "recommendations finished on 48000/68984 queries. users per second: 1937.53"
            ],
            "text/html": [
              "<pre>recommendations finished on 48000/68984 queries. users per second: 1937.53</pre>"
            ]
          },
          "metadata": {}
        },
        {
          "output_type": "display_data",
          "data": {
            "text/plain": [
              "recommendations finished on 49000/68984 queries. users per second: 1937.61"
            ],
            "text/html": [
              "<pre>recommendations finished on 49000/68984 queries. users per second: 1937.61</pre>"
            ]
          },
          "metadata": {}
        },
        {
          "output_type": "display_data",
          "data": {
            "text/plain": [
              "recommendations finished on 50000/68984 queries. users per second: 1936.72"
            ],
            "text/html": [
              "<pre>recommendations finished on 50000/68984 queries. users per second: 1936.72</pre>"
            ]
          },
          "metadata": {}
        },
        {
          "output_type": "display_data",
          "data": {
            "text/plain": [
              "recommendations finished on 51000/68984 queries. users per second: 1938.02"
            ],
            "text/html": [
              "<pre>recommendations finished on 51000/68984 queries. users per second: 1938.02</pre>"
            ]
          },
          "metadata": {}
        },
        {
          "output_type": "display_data",
          "data": {
            "text/plain": [
              "recommendations finished on 52000/68984 queries. users per second: 1937.9"
            ],
            "text/html": [
              "<pre>recommendations finished on 52000/68984 queries. users per second: 1937.9</pre>"
            ]
          },
          "metadata": {}
        },
        {
          "output_type": "display_data",
          "data": {
            "text/plain": [
              "recommendations finished on 53000/68984 queries. users per second: 1938.32"
            ],
            "text/html": [
              "<pre>recommendations finished on 53000/68984 queries. users per second: 1938.32</pre>"
            ]
          },
          "metadata": {}
        },
        {
          "output_type": "display_data",
          "data": {
            "text/plain": [
              "recommendations finished on 54000/68984 queries. users per second: 1937.1"
            ],
            "text/html": [
              "<pre>recommendations finished on 54000/68984 queries. users per second: 1937.1</pre>"
            ]
          },
          "metadata": {}
        },
        {
          "output_type": "display_data",
          "data": {
            "text/plain": [
              "recommendations finished on 55000/68984 queries. users per second: 1936.53"
            ],
            "text/html": [
              "<pre>recommendations finished on 55000/68984 queries. users per second: 1936.53</pre>"
            ]
          },
          "metadata": {}
        },
        {
          "output_type": "display_data",
          "data": {
            "text/plain": [
              "recommendations finished on 56000/68984 queries. users per second: 1937.22"
            ],
            "text/html": [
              "<pre>recommendations finished on 56000/68984 queries. users per second: 1937.22</pre>"
            ]
          },
          "metadata": {}
        },
        {
          "output_type": "display_data",
          "data": {
            "text/plain": [
              "recommendations finished on 57000/68984 queries. users per second: 1936.44"
            ],
            "text/html": [
              "<pre>recommendations finished on 57000/68984 queries. users per second: 1936.44</pre>"
            ]
          },
          "metadata": {}
        },
        {
          "output_type": "display_data",
          "data": {
            "text/plain": [
              "recommendations finished on 58000/68984 queries. users per second: 1933.72"
            ],
            "text/html": [
              "<pre>recommendations finished on 58000/68984 queries. users per second: 1933.72</pre>"
            ]
          },
          "metadata": {}
        },
        {
          "output_type": "display_data",
          "data": {
            "text/plain": [
              "recommendations finished on 59000/68984 queries. users per second: 1932.45"
            ],
            "text/html": [
              "<pre>recommendations finished on 59000/68984 queries. users per second: 1932.45</pre>"
            ]
          },
          "metadata": {}
        },
        {
          "output_type": "display_data",
          "data": {
            "text/plain": [
              "recommendations finished on 60000/68984 queries. users per second: 1932.97"
            ],
            "text/html": [
              "<pre>recommendations finished on 60000/68984 queries. users per second: 1932.97</pre>"
            ]
          },
          "metadata": {}
        },
        {
          "output_type": "display_data",
          "data": {
            "text/plain": [
              "recommendations finished on 61000/68984 queries. users per second: 1932.31"
            ],
            "text/html": [
              "<pre>recommendations finished on 61000/68984 queries. users per second: 1932.31</pre>"
            ]
          },
          "metadata": {}
        },
        {
          "output_type": "display_data",
          "data": {
            "text/plain": [
              "recommendations finished on 62000/68984 queries. users per second: 1932.38"
            ],
            "text/html": [
              "<pre>recommendations finished on 62000/68984 queries. users per second: 1932.38</pre>"
            ]
          },
          "metadata": {}
        },
        {
          "output_type": "display_data",
          "data": {
            "text/plain": [
              "recommendations finished on 63000/68984 queries. users per second: 1931.25"
            ],
            "text/html": [
              "<pre>recommendations finished on 63000/68984 queries. users per second: 1931.25</pre>"
            ]
          },
          "metadata": {}
        },
        {
          "output_type": "display_data",
          "data": {
            "text/plain": [
              "recommendations finished on 64000/68984 queries. users per second: 1931.71"
            ],
            "text/html": [
              "<pre>recommendations finished on 64000/68984 queries. users per second: 1931.71</pre>"
            ]
          },
          "metadata": {}
        },
        {
          "output_type": "display_data",
          "data": {
            "text/plain": [
              "recommendations finished on 65000/68984 queries. users per second: 1929.39"
            ],
            "text/html": [
              "<pre>recommendations finished on 65000/68984 queries. users per second: 1929.39</pre>"
            ]
          },
          "metadata": {}
        },
        {
          "output_type": "display_data",
          "data": {
            "text/plain": [
              "recommendations finished on 66000/68984 queries. users per second: 1929.79"
            ],
            "text/html": [
              "<pre>recommendations finished on 66000/68984 queries. users per second: 1929.79</pre>"
            ]
          },
          "metadata": {}
        },
        {
          "output_type": "display_data",
          "data": {
            "text/plain": [
              "recommendations finished on 67000/68984 queries. users per second: 1928.62"
            ],
            "text/html": [
              "<pre>recommendations finished on 67000/68984 queries. users per second: 1928.62</pre>"
            ]
          },
          "metadata": {}
        },
        {
          "output_type": "display_data",
          "data": {
            "text/plain": [
              "recommendations finished on 68000/68984 queries. users per second: 1929.59"
            ],
            "text/html": [
              "<pre>recommendations finished on 68000/68984 queries. users per second: 1929.59</pre>"
            ]
          },
          "metadata": {}
        }
      ],
      "source": [
        "# evaluating the model\n",
        "cos_eval = cosine.evaluate_precision_recall(dfS_val,cutoffs=range(1,13))"
      ]
    },
    {
      "cell_type": "code",
      "execution_count": null,
      "metadata": {
        "colab": {
          "base_uri": "https://localhost:8080/"
        },
        "id": "n_yj3s93TCk1",
        "outputId": "3a78b527-901d-4835-9d69-2fa8ec33c174"
      },
      "outputs": [
        {
          "output_type": "execute_result",
          "data": {
            "text/plain": [
              "{'precision_recall_by_user': Columns:\n",
              " \tcustomer_id\tint\n",
              " \tcutoff\tint\n",
              " \tprecision\tfloat\n",
              " \trecall\tfloat\n",
              " \tcount\tint\n",
              " \n",
              " Rows: 827808\n",
              " \n",
              " Data:\n",
              " +-------------+--------+-----------+--------+-------+\n",
              " | customer_id | cutoff | precision | recall | count |\n",
              " +-------------+--------+-----------+--------+-------+\n",
              " |      0      |   1    |    0.0    |  0.0   |   9   |\n",
              " |      0      |   2    |    0.0    |  0.0   |   9   |\n",
              " |      0      |   3    |    0.0    |  0.0   |   9   |\n",
              " |      0      |   4    |    0.0    |  0.0   |   9   |\n",
              " |      0      |   5    |    0.0    |  0.0   |   9   |\n",
              " |      0      |   6    |    0.0    |  0.0   |   9   |\n",
              " |      0      |   7    |    0.0    |  0.0   |   9   |\n",
              " |      0      |   8    |    0.0    |  0.0   |   9   |\n",
              " |      0      |   9    |    0.0    |  0.0   |   9   |\n",
              " |      0      |   10   |    0.0    |  0.0   |   9   |\n",
              " +-------------+--------+-----------+--------+-------+\n",
              " [827808 rows x 5 columns]\n",
              " Note: Only the head of the SFrame is printed.\n",
              " You can use print_rows(num_rows=m, num_columns=n) to print more rows and columns.,\n",
              " 'precision_recall_overall': Columns:\n",
              " \tcutoff\tint\n",
              " \tprecision\tfloat\n",
              " \trecall\tfloat\n",
              " \n",
              " Rows: 12\n",
              " \n",
              " Data:\n",
              " +--------+-----------------------+-----------------------+\n",
              " | cutoff |       precision       |         recall        |\n",
              " +--------+-----------------------+-----------------------+\n",
              " |   1    | 0.0072625536356256525 |  0.002991654799413419 |\n",
              " |   2    |  0.006189841122579142 | 0.0048652797843105906 |\n",
              " |   3    |  0.005634156712667644 |  0.006712452787728414 |\n",
              " |   4    |  0.005117128609532645 |  0.007942509327997841 |\n",
              " |   5    |  0.00467064826626454  |  0.008978656479606613 |\n",
              " |   6    |  0.004346418493177157 |  0.009966576889622188 |\n",
              " |   7    |  0.004121038418846599 |  0.010865059203504125 |\n",
              " |   8    |  0.003935695233677373 |  0.011876984141862746 |\n",
              " |   9    | 0.0038511345626039426 |  0.013029995261773659 |\n",
              " |   10   |  0.003738548069117389 |  0.013841290128173218 |\n",
              " +--------+-----------------------+-----------------------+\n",
              " [12 rows x 3 columns]\n",
              " Note: Only the head of the SFrame is printed.\n",
              " You can use print_rows(num_rows=m, num_columns=n) to print more rows and columns.}"
            ]
          },
          "metadata": {},
          "execution_count": 23
        }
      ],
      "source": [
        "cos_eval"
      ]
    },
    {
      "cell_type": "code",
      "source": [
        "cos_eval['precision_recall_overall'][11]"
      ],
      "metadata": {
        "colab": {
          "base_uri": "https://localhost:8080/"
        },
        "id": "VuBMqb_C8QlU",
        "outputId": "79b5540d-2526-4d21-e195-87f36ba2aba7"
      },
      "execution_count": null,
      "outputs": [
        {
          "output_type": "execute_result",
          "data": {
            "text/plain": [
              "{'cutoff': 12,\n",
              " 'precision': 0.003494771734508516,\n",
              " 'recall': 0.015252726430950244}"
            ]
          },
          "metadata": {},
          "execution_count": 24
        }
      ]
    },
    {
      "cell_type": "markdown",
      "metadata": {
        "id": "Nvx0_nI2Xm4A"
      },
      "source": [
        "#### Jaccard similarity"
      ]
    },
    {
      "cell_type": "code",
      "execution_count": null,
      "metadata": {
        "id": "z3g-BfDMUo7A",
        "colab": {
          "base_uri": "https://localhost:8080/",
          "height": 1000
        },
        "outputId": "2c9b10ab-5303-492b-c789-cfffcc3351fd"
      },
      "outputs": [
        {
          "output_type": "display_data",
          "data": {
            "text/plain": [
              "Preparing data set."
            ],
            "text/html": [
              "<pre>Preparing data set.</pre>"
            ]
          },
          "metadata": {}
        },
        {
          "output_type": "display_data",
          "data": {
            "text/plain": [
              "    Data has 2471174 observations with 407764 users and 37100 items."
            ],
            "text/html": [
              "<pre>    Data has 2471174 observations with 407764 users and 37100 items.</pre>"
            ]
          },
          "metadata": {}
        },
        {
          "output_type": "display_data",
          "data": {
            "text/plain": [
              "    Data prepared in: 1.23173s"
            ],
            "text/html": [
              "<pre>    Data prepared in: 1.23173s</pre>"
            ]
          },
          "metadata": {}
        },
        {
          "output_type": "display_data",
          "data": {
            "text/plain": [
              "Training model from provided data."
            ],
            "text/html": [
              "<pre>Training model from provided data.</pre>"
            ]
          },
          "metadata": {}
        },
        {
          "output_type": "display_data",
          "data": {
            "text/plain": [
              "Gathering per-item and per-user statistics."
            ],
            "text/html": [
              "<pre>Gathering per-item and per-user statistics.</pre>"
            ]
          },
          "metadata": {}
        },
        {
          "output_type": "display_data",
          "data": {
            "text/plain": [
              "+--------------------------------+------------+"
            ],
            "text/html": [
              "<pre>+--------------------------------+------------+</pre>"
            ]
          },
          "metadata": {}
        },
        {
          "output_type": "display_data",
          "data": {
            "text/plain": [
              "| Elapsed Time (Item Statistics) | % Complete |"
            ],
            "text/html": [
              "<pre>| Elapsed Time (Item Statistics) | % Complete |</pre>"
            ]
          },
          "metadata": {}
        },
        {
          "output_type": "display_data",
          "data": {
            "text/plain": [
              "+--------------------------------+------------+"
            ],
            "text/html": [
              "<pre>+--------------------------------+------------+</pre>"
            ]
          },
          "metadata": {}
        },
        {
          "output_type": "display_data",
          "data": {
            "text/plain": [
              "| 1.432ms                        | 0          |"
            ],
            "text/html": [
              "<pre>| 1.432ms                        | 0          |</pre>"
            ]
          },
          "metadata": {}
        },
        {
          "output_type": "display_data",
          "data": {
            "text/plain": [
              "| 75.787ms                       | 100        |"
            ],
            "text/html": [
              "<pre>| 75.787ms                       | 100        |</pre>"
            ]
          },
          "metadata": {}
        },
        {
          "output_type": "display_data",
          "data": {
            "text/plain": [
              "+--------------------------------+------------+"
            ],
            "text/html": [
              "<pre>+--------------------------------+------------+</pre>"
            ]
          },
          "metadata": {}
        },
        {
          "output_type": "display_data",
          "data": {
            "text/plain": [
              "Setting up lookup tables."
            ],
            "text/html": [
              "<pre>Setting up lookup tables.</pre>"
            ]
          },
          "metadata": {}
        },
        {
          "output_type": "display_data",
          "data": {
            "text/plain": [
              "Processing data in one pass using dense lookup tables."
            ],
            "text/html": [
              "<pre>Processing data in one pass using dense lookup tables.</pre>"
            ]
          },
          "metadata": {}
        },
        {
          "output_type": "display_data",
          "data": {
            "text/plain": [
              "+-------------------------------------+------------------+-----------------+"
            ],
            "text/html": [
              "<pre>+-------------------------------------+------------------+-----------------+</pre>"
            ]
          },
          "metadata": {}
        },
        {
          "output_type": "display_data",
          "data": {
            "text/plain": [
              "| Elapsed Time (Constructing Lookups) | Total % Complete | Items Processed |"
            ],
            "text/html": [
              "<pre>| Elapsed Time (Constructing Lookups) | Total % Complete | Items Processed |</pre>"
            ]
          },
          "metadata": {}
        },
        {
          "output_type": "display_data",
          "data": {
            "text/plain": [
              "+-------------------------------------+------------------+-----------------+"
            ],
            "text/html": [
              "<pre>+-------------------------------------+------------------+-----------------+</pre>"
            ]
          },
          "metadata": {}
        },
        {
          "output_type": "display_data",
          "data": {
            "text/plain": [
              "| 2.37s                               | 0                | 1               |"
            ],
            "text/html": [
              "<pre>| 2.37s                               | 0                | 1               |</pre>"
            ]
          },
          "metadata": {}
        },
        {
          "output_type": "display_data",
          "data": {
            "text/plain": [
              "| 8.47s                               | 100              | 37100           |"
            ],
            "text/html": [
              "<pre>| 8.47s                               | 100              | 37100           |</pre>"
            ]
          },
          "metadata": {}
        },
        {
          "output_type": "display_data",
          "data": {
            "text/plain": [
              "+-------------------------------------+------------------+-----------------+"
            ],
            "text/html": [
              "<pre>+-------------------------------------+------------------+-----------------+</pre>"
            ]
          },
          "metadata": {}
        },
        {
          "output_type": "display_data",
          "data": {
            "text/plain": [
              "Finalizing lookup tables."
            ],
            "text/html": [
              "<pre>Finalizing lookup tables.</pre>"
            ]
          },
          "metadata": {}
        },
        {
          "output_type": "display_data",
          "data": {
            "text/plain": [
              "Generating candidate set for working with new users."
            ],
            "text/html": [
              "<pre>Generating candidate set for working with new users.</pre>"
            ]
          },
          "metadata": {}
        },
        {
          "output_type": "display_data",
          "data": {
            "text/plain": [
              "Finished training in 9.59966s"
            ],
            "text/html": [
              "<pre>Finished training in 9.59966s</pre>"
            ]
          },
          "metadata": {}
        },
        {
          "output_type": "display_data",
          "data": {
            "text/plain": [
              "recommendations finished on 1000/407764 queries. users per second: 6525.16"
            ],
            "text/html": [
              "<pre>recommendations finished on 1000/407764 queries. users per second: 6525.16</pre>"
            ]
          },
          "metadata": {}
        },
        {
          "output_type": "display_data",
          "data": {
            "text/plain": [
              "recommendations finished on 2000/407764 queries. users per second: 6405.55"
            ],
            "text/html": [
              "<pre>recommendations finished on 2000/407764 queries. users per second: 6405.55</pre>"
            ]
          },
          "metadata": {}
        },
        {
          "output_type": "display_data",
          "data": {
            "text/plain": [
              "recommendations finished on 3000/407764 queries. users per second: 6398.98"
            ],
            "text/html": [
              "<pre>recommendations finished on 3000/407764 queries. users per second: 6398.98</pre>"
            ]
          },
          "metadata": {}
        },
        {
          "output_type": "display_data",
          "data": {
            "text/plain": [
              "recommendations finished on 4000/407764 queries. users per second: 6425.75"
            ],
            "text/html": [
              "<pre>recommendations finished on 4000/407764 queries. users per second: 6425.75</pre>"
            ]
          },
          "metadata": {}
        },
        {
          "output_type": "display_data",
          "data": {
            "text/plain": [
              "recommendations finished on 5000/407764 queries. users per second: 6455.43"
            ],
            "text/html": [
              "<pre>recommendations finished on 5000/407764 queries. users per second: 6455.43</pre>"
            ]
          },
          "metadata": {}
        },
        {
          "output_type": "display_data",
          "data": {
            "text/plain": [
              "recommendations finished on 6000/407764 queries. users per second: 6417.31"
            ],
            "text/html": [
              "<pre>recommendations finished on 6000/407764 queries. users per second: 6417.31</pre>"
            ]
          },
          "metadata": {}
        },
        {
          "output_type": "display_data",
          "data": {
            "text/plain": [
              "recommendations finished on 7000/407764 queries. users per second: 6417.67"
            ],
            "text/html": [
              "<pre>recommendations finished on 7000/407764 queries. users per second: 6417.67</pre>"
            ]
          },
          "metadata": {}
        },
        {
          "output_type": "display_data",
          "data": {
            "text/plain": [
              "recommendations finished on 8000/407764 queries. users per second: 6405.37"
            ],
            "text/html": [
              "<pre>recommendations finished on 8000/407764 queries. users per second: 6405.37</pre>"
            ]
          },
          "metadata": {}
        },
        {
          "output_type": "display_data",
          "data": {
            "text/plain": [
              "recommendations finished on 9000/407764 queries. users per second: 6424.96"
            ],
            "text/html": [
              "<pre>recommendations finished on 9000/407764 queries. users per second: 6424.96</pre>"
            ]
          },
          "metadata": {}
        },
        {
          "output_type": "display_data",
          "data": {
            "text/plain": [
              "recommendations finished on 10000/407764 queries. users per second: 6418.46"
            ],
            "text/html": [
              "<pre>recommendations finished on 10000/407764 queries. users per second: 6418.46</pre>"
            ]
          },
          "metadata": {}
        },
        {
          "output_type": "display_data",
          "data": {
            "text/plain": [
              "recommendations finished on 11000/407764 queries. users per second: 6415.69"
            ],
            "text/html": [
              "<pre>recommendations finished on 11000/407764 queries. users per second: 6415.69</pre>"
            ]
          },
          "metadata": {}
        },
        {
          "output_type": "display_data",
          "data": {
            "text/plain": [
              "recommendations finished on 12000/407764 queries. users per second: 6422.48"
            ],
            "text/html": [
              "<pre>recommendations finished on 12000/407764 queries. users per second: 6422.48</pre>"
            ]
          },
          "metadata": {}
        },
        {
          "output_type": "display_data",
          "data": {
            "text/plain": [
              "recommendations finished on 13000/407764 queries. users per second: 6434.19"
            ],
            "text/html": [
              "<pre>recommendations finished on 13000/407764 queries. users per second: 6434.19</pre>"
            ]
          },
          "metadata": {}
        },
        {
          "output_type": "display_data",
          "data": {
            "text/plain": [
              "recommendations finished on 14000/407764 queries. users per second: 6444.99"
            ],
            "text/html": [
              "<pre>recommendations finished on 14000/407764 queries. users per second: 6444.99</pre>"
            ]
          },
          "metadata": {}
        },
        {
          "output_type": "display_data",
          "data": {
            "text/plain": [
              "recommendations finished on 15000/407764 queries. users per second: 6425.2"
            ],
            "text/html": [
              "<pre>recommendations finished on 15000/407764 queries. users per second: 6425.2</pre>"
            ]
          },
          "metadata": {}
        },
        {
          "output_type": "display_data",
          "data": {
            "text/plain": [
              "recommendations finished on 16000/407764 queries. users per second: 6433.07"
            ],
            "text/html": [
              "<pre>recommendations finished on 16000/407764 queries. users per second: 6433.07</pre>"
            ]
          },
          "metadata": {}
        },
        {
          "output_type": "display_data",
          "data": {
            "text/plain": [
              "recommendations finished on 17000/407764 queries. users per second: 6437.65"
            ],
            "text/html": [
              "<pre>recommendations finished on 17000/407764 queries. users per second: 6437.65</pre>"
            ]
          },
          "metadata": {}
        },
        {
          "output_type": "display_data",
          "data": {
            "text/plain": [
              "recommendations finished on 18000/407764 queries. users per second: 6441.81"
            ],
            "text/html": [
              "<pre>recommendations finished on 18000/407764 queries. users per second: 6441.81</pre>"
            ]
          },
          "metadata": {}
        },
        {
          "output_type": "display_data",
          "data": {
            "text/plain": [
              "recommendations finished on 19000/407764 queries. users per second: 6448.54"
            ],
            "text/html": [
              "<pre>recommendations finished on 19000/407764 queries. users per second: 6448.54</pre>"
            ]
          },
          "metadata": {}
        },
        {
          "output_type": "display_data",
          "data": {
            "text/plain": [
              "recommendations finished on 20000/407764 queries. users per second: 6452.93"
            ],
            "text/html": [
              "<pre>recommendations finished on 20000/407764 queries. users per second: 6452.93</pre>"
            ]
          },
          "metadata": {}
        },
        {
          "output_type": "display_data",
          "data": {
            "text/plain": [
              "recommendations finished on 21000/407764 queries. users per second: 6456.91"
            ],
            "text/html": [
              "<pre>recommendations finished on 21000/407764 queries. users per second: 6456.91</pre>"
            ]
          },
          "metadata": {}
        },
        {
          "output_type": "display_data",
          "data": {
            "text/plain": [
              "recommendations finished on 22000/407764 queries. users per second: 6443.1"
            ],
            "text/html": [
              "<pre>recommendations finished on 22000/407764 queries. users per second: 6443.1</pre>"
            ]
          },
          "metadata": {}
        },
        {
          "output_type": "display_data",
          "data": {
            "text/plain": [
              "recommendations finished on 23000/407764 queries. users per second: 6444.72"
            ],
            "text/html": [
              "<pre>recommendations finished on 23000/407764 queries. users per second: 6444.72</pre>"
            ]
          },
          "metadata": {}
        },
        {
          "output_type": "display_data",
          "data": {
            "text/plain": [
              "recommendations finished on 24000/407764 queries. users per second: 6449.69"
            ],
            "text/html": [
              "<pre>recommendations finished on 24000/407764 queries. users per second: 6449.69</pre>"
            ]
          },
          "metadata": {}
        },
        {
          "output_type": "display_data",
          "data": {
            "text/plain": [
              "recommendations finished on 25000/407764 queries. users per second: 6456.03"
            ],
            "text/html": [
              "<pre>recommendations finished on 25000/407764 queries. users per second: 6456.03</pre>"
            ]
          },
          "metadata": {}
        },
        {
          "output_type": "display_data",
          "data": {
            "text/plain": [
              "recommendations finished on 26000/407764 queries. users per second: 6458.02"
            ],
            "text/html": [
              "<pre>recommendations finished on 26000/407764 queries. users per second: 6458.02</pre>"
            ]
          },
          "metadata": {}
        },
        {
          "output_type": "display_data",
          "data": {
            "text/plain": [
              "recommendations finished on 27000/407764 queries. users per second: 6464.43"
            ],
            "text/html": [
              "<pre>recommendations finished on 27000/407764 queries. users per second: 6464.43</pre>"
            ]
          },
          "metadata": {}
        },
        {
          "output_type": "display_data",
          "data": {
            "text/plain": [
              "recommendations finished on 28000/407764 queries. users per second: 6459.65"
            ],
            "text/html": [
              "<pre>recommendations finished on 28000/407764 queries. users per second: 6459.65</pre>"
            ]
          },
          "metadata": {}
        },
        {
          "output_type": "display_data",
          "data": {
            "text/plain": [
              "recommendations finished on 29000/407764 queries. users per second: 6457.71"
            ],
            "text/html": [
              "<pre>recommendations finished on 29000/407764 queries. users per second: 6457.71</pre>"
            ]
          },
          "metadata": {}
        },
        {
          "output_type": "display_data",
          "data": {
            "text/plain": [
              "recommendations finished on 30000/407764 queries. users per second: 6461.22"
            ],
            "text/html": [
              "<pre>recommendations finished on 30000/407764 queries. users per second: 6461.22</pre>"
            ]
          },
          "metadata": {}
        },
        {
          "output_type": "display_data",
          "data": {
            "text/plain": [
              "recommendations finished on 31000/407764 queries. users per second: 6465.44"
            ],
            "text/html": [
              "<pre>recommendations finished on 31000/407764 queries. users per second: 6465.44</pre>"
            ]
          },
          "metadata": {}
        },
        {
          "output_type": "display_data",
          "data": {
            "text/plain": [
              "recommendations finished on 32000/407764 queries. users per second: 6461.34"
            ],
            "text/html": [
              "<pre>recommendations finished on 32000/407764 queries. users per second: 6461.34</pre>"
            ]
          },
          "metadata": {}
        },
        {
          "output_type": "display_data",
          "data": {
            "text/plain": [
              "recommendations finished on 33000/407764 queries. users per second: 6463.46"
            ],
            "text/html": [
              "<pre>recommendations finished on 33000/407764 queries. users per second: 6463.46</pre>"
            ]
          },
          "metadata": {}
        },
        {
          "output_type": "display_data",
          "data": {
            "text/plain": [
              "recommendations finished on 34000/407764 queries. users per second: 6467"
            ],
            "text/html": [
              "<pre>recommendations finished on 34000/407764 queries. users per second: 6467</pre>"
            ]
          },
          "metadata": {}
        },
        {
          "output_type": "display_data",
          "data": {
            "text/plain": [
              "recommendations finished on 35000/407764 queries. users per second: 6462.59"
            ],
            "text/html": [
              "<pre>recommendations finished on 35000/407764 queries. users per second: 6462.59</pre>"
            ]
          },
          "metadata": {}
        },
        {
          "output_type": "display_data",
          "data": {
            "text/plain": [
              "recommendations finished on 36000/407764 queries. users per second: 6465.58"
            ],
            "text/html": [
              "<pre>recommendations finished on 36000/407764 queries. users per second: 6465.58</pre>"
            ]
          },
          "metadata": {}
        },
        {
          "output_type": "display_data",
          "data": {
            "text/plain": [
              "recommendations finished on 37000/407764 queries. users per second: 6466.82"
            ],
            "text/html": [
              "<pre>recommendations finished on 37000/407764 queries. users per second: 6466.82</pre>"
            ]
          },
          "metadata": {}
        },
        {
          "output_type": "display_data",
          "data": {
            "text/plain": [
              "recommendations finished on 38000/407764 queries. users per second: 6463.62"
            ],
            "text/html": [
              "<pre>recommendations finished on 38000/407764 queries. users per second: 6463.62</pre>"
            ]
          },
          "metadata": {}
        },
        {
          "output_type": "display_data",
          "data": {
            "text/plain": [
              "recommendations finished on 39000/407764 queries. users per second: 6465.71"
            ],
            "text/html": [
              "<pre>recommendations finished on 39000/407764 queries. users per second: 6465.71</pre>"
            ]
          },
          "metadata": {}
        },
        {
          "output_type": "display_data",
          "data": {
            "text/plain": [
              "recommendations finished on 40000/407764 queries. users per second: 6467.99"
            ],
            "text/html": [
              "<pre>recommendations finished on 40000/407764 queries. users per second: 6467.99</pre>"
            ]
          },
          "metadata": {}
        },
        {
          "output_type": "display_data",
          "data": {
            "text/plain": [
              "recommendations finished on 41000/407764 queries. users per second: 6457.42"
            ],
            "text/html": [
              "<pre>recommendations finished on 41000/407764 queries. users per second: 6457.42</pre>"
            ]
          },
          "metadata": {}
        },
        {
          "output_type": "display_data",
          "data": {
            "text/plain": [
              "recommendations finished on 42000/407764 queries. users per second: 6438.79"
            ],
            "text/html": [
              "<pre>recommendations finished on 42000/407764 queries. users per second: 6438.79</pre>"
            ]
          },
          "metadata": {}
        },
        {
          "output_type": "display_data",
          "data": {
            "text/plain": [
              "recommendations finished on 43000/407764 queries. users per second: 6439.24"
            ],
            "text/html": [
              "<pre>recommendations finished on 43000/407764 queries. users per second: 6439.24</pre>"
            ]
          },
          "metadata": {}
        },
        {
          "output_type": "display_data",
          "data": {
            "text/plain": [
              "recommendations finished on 44000/407764 queries. users per second: 6440.03"
            ],
            "text/html": [
              "<pre>recommendations finished on 44000/407764 queries. users per second: 6440.03</pre>"
            ]
          },
          "metadata": {}
        },
        {
          "output_type": "display_data",
          "data": {
            "text/plain": [
              "recommendations finished on 45000/407764 queries. users per second: 6439.01"
            ],
            "text/html": [
              "<pre>recommendations finished on 45000/407764 queries. users per second: 6439.01</pre>"
            ]
          },
          "metadata": {}
        },
        {
          "output_type": "display_data",
          "data": {
            "text/plain": [
              "recommendations finished on 46000/407764 queries. users per second: 6441.1"
            ],
            "text/html": [
              "<pre>recommendations finished on 46000/407764 queries. users per second: 6441.1</pre>"
            ]
          },
          "metadata": {}
        },
        {
          "output_type": "display_data",
          "data": {
            "text/plain": [
              "recommendations finished on 47000/407764 queries. users per second: 6444.48"
            ],
            "text/html": [
              "<pre>recommendations finished on 47000/407764 queries. users per second: 6444.48</pre>"
            ]
          },
          "metadata": {}
        },
        {
          "output_type": "display_data",
          "data": {
            "text/plain": [
              "recommendations finished on 48000/407764 queries. users per second: 6441.91"
            ],
            "text/html": [
              "<pre>recommendations finished on 48000/407764 queries. users per second: 6441.91</pre>"
            ]
          },
          "metadata": {}
        },
        {
          "output_type": "display_data",
          "data": {
            "text/plain": [
              "recommendations finished on 49000/407764 queries. users per second: 6442.9"
            ],
            "text/html": [
              "<pre>recommendations finished on 49000/407764 queries. users per second: 6442.9</pre>"
            ]
          },
          "metadata": {}
        },
        {
          "output_type": "display_data",
          "data": {
            "text/plain": [
              "recommendations finished on 50000/407764 queries. users per second: 6445.75"
            ],
            "text/html": [
              "<pre>recommendations finished on 50000/407764 queries. users per second: 6445.75</pre>"
            ]
          },
          "metadata": {}
        },
        {
          "output_type": "display_data",
          "data": {
            "text/plain": [
              "recommendations finished on 51000/407764 queries. users per second: 6448.76"
            ],
            "text/html": [
              "<pre>recommendations finished on 51000/407764 queries. users per second: 6448.76</pre>"
            ]
          },
          "metadata": {}
        },
        {
          "output_type": "display_data",
          "data": {
            "text/plain": [
              "recommendations finished on 52000/407764 queries. users per second: 6450.06"
            ],
            "text/html": [
              "<pre>recommendations finished on 52000/407764 queries. users per second: 6450.06</pre>"
            ]
          },
          "metadata": {}
        },
        {
          "output_type": "display_data",
          "data": {
            "text/plain": [
              "recommendations finished on 53000/407764 queries. users per second: 6449.27"
            ],
            "text/html": [
              "<pre>recommendations finished on 53000/407764 queries. users per second: 6449.27</pre>"
            ]
          },
          "metadata": {}
        },
        {
          "output_type": "display_data",
          "data": {
            "text/plain": [
              "recommendations finished on 54000/407764 queries. users per second: 6449.61"
            ],
            "text/html": [
              "<pre>recommendations finished on 54000/407764 queries. users per second: 6449.61</pre>"
            ]
          },
          "metadata": {}
        },
        {
          "output_type": "display_data",
          "data": {
            "text/plain": [
              "recommendations finished on 55000/407764 queries. users per second: 6447.22"
            ],
            "text/html": [
              "<pre>recommendations finished on 55000/407764 queries. users per second: 6447.22</pre>"
            ]
          },
          "metadata": {}
        },
        {
          "output_type": "display_data",
          "data": {
            "text/plain": [
              "recommendations finished on 56000/407764 queries. users per second: 6449.36"
            ],
            "text/html": [
              "<pre>recommendations finished on 56000/407764 queries. users per second: 6449.36</pre>"
            ]
          },
          "metadata": {}
        },
        {
          "output_type": "display_data",
          "data": {
            "text/plain": [
              "recommendations finished on 57000/407764 queries. users per second: 6451.59"
            ],
            "text/html": [
              "<pre>recommendations finished on 57000/407764 queries. users per second: 6451.59</pre>"
            ]
          },
          "metadata": {}
        },
        {
          "output_type": "display_data",
          "data": {
            "text/plain": [
              "recommendations finished on 58000/407764 queries. users per second: 6451.86"
            ],
            "text/html": [
              "<pre>recommendations finished on 58000/407764 queries. users per second: 6451.86</pre>"
            ]
          },
          "metadata": {}
        },
        {
          "output_type": "display_data",
          "data": {
            "text/plain": [
              "recommendations finished on 59000/407764 queries. users per second: 6452.27"
            ],
            "text/html": [
              "<pre>recommendations finished on 59000/407764 queries. users per second: 6452.27</pre>"
            ]
          },
          "metadata": {}
        },
        {
          "output_type": "display_data",
          "data": {
            "text/plain": [
              "recommendations finished on 60000/407764 queries. users per second: 6453.32"
            ],
            "text/html": [
              "<pre>recommendations finished on 60000/407764 queries. users per second: 6453.32</pre>"
            ]
          },
          "metadata": {}
        },
        {
          "output_type": "display_data",
          "data": {
            "text/plain": [
              "recommendations finished on 61000/407764 queries. users per second: 6452.56"
            ],
            "text/html": [
              "<pre>recommendations finished on 61000/407764 queries. users per second: 6452.56</pre>"
            ]
          },
          "metadata": {}
        },
        {
          "output_type": "display_data",
          "data": {
            "text/plain": [
              "recommendations finished on 62000/407764 queries. users per second: 6454.75"
            ],
            "text/html": [
              "<pre>recommendations finished on 62000/407764 queries. users per second: 6454.75</pre>"
            ]
          },
          "metadata": {}
        },
        {
          "output_type": "display_data",
          "data": {
            "text/plain": [
              "recommendations finished on 63000/407764 queries. users per second: 6454.48"
            ],
            "text/html": [
              "<pre>recommendations finished on 63000/407764 queries. users per second: 6454.48</pre>"
            ]
          },
          "metadata": {}
        },
        {
          "output_type": "display_data",
          "data": {
            "text/plain": [
              "recommendations finished on 64000/407764 queries. users per second: 6454.6"
            ],
            "text/html": [
              "<pre>recommendations finished on 64000/407764 queries. users per second: 6454.6</pre>"
            ]
          },
          "metadata": {}
        },
        {
          "output_type": "display_data",
          "data": {
            "text/plain": [
              "recommendations finished on 65000/407764 queries. users per second: 6455.91"
            ],
            "text/html": [
              "<pre>recommendations finished on 65000/407764 queries. users per second: 6455.91</pre>"
            ]
          },
          "metadata": {}
        },
        {
          "output_type": "display_data",
          "data": {
            "text/plain": [
              "recommendations finished on 66000/407764 queries. users per second: 6458.03"
            ],
            "text/html": [
              "<pre>recommendations finished on 66000/407764 queries. users per second: 6458.03</pre>"
            ]
          },
          "metadata": {}
        },
        {
          "output_type": "display_data",
          "data": {
            "text/plain": [
              "recommendations finished on 67000/407764 queries. users per second: 6458.65"
            ],
            "text/html": [
              "<pre>recommendations finished on 67000/407764 queries. users per second: 6458.65</pre>"
            ]
          },
          "metadata": {}
        },
        {
          "output_type": "display_data",
          "data": {
            "text/plain": [
              "recommendations finished on 68000/407764 queries. users per second: 6457.48"
            ],
            "text/html": [
              "<pre>recommendations finished on 68000/407764 queries. users per second: 6457.48</pre>"
            ]
          },
          "metadata": {}
        },
        {
          "output_type": "display_data",
          "data": {
            "text/plain": [
              "recommendations finished on 69000/407764 queries. users per second: 6457.92"
            ],
            "text/html": [
              "<pre>recommendations finished on 69000/407764 queries. users per second: 6457.92</pre>"
            ]
          },
          "metadata": {}
        },
        {
          "output_type": "display_data",
          "data": {
            "text/plain": [
              "recommendations finished on 70000/407764 queries. users per second: 6456.74"
            ],
            "text/html": [
              "<pre>recommendations finished on 70000/407764 queries. users per second: 6456.74</pre>"
            ]
          },
          "metadata": {}
        },
        {
          "output_type": "display_data",
          "data": {
            "text/plain": [
              "recommendations finished on 71000/407764 queries. users per second: 6458.69"
            ],
            "text/html": [
              "<pre>recommendations finished on 71000/407764 queries. users per second: 6458.69</pre>"
            ]
          },
          "metadata": {}
        },
        {
          "output_type": "display_data",
          "data": {
            "text/plain": [
              "recommendations finished on 72000/407764 queries. users per second: 6459.41"
            ],
            "text/html": [
              "<pre>recommendations finished on 72000/407764 queries. users per second: 6459.41</pre>"
            ]
          },
          "metadata": {}
        },
        {
          "output_type": "display_data",
          "data": {
            "text/plain": [
              "recommendations finished on 73000/407764 queries. users per second: 6461.04"
            ],
            "text/html": [
              "<pre>recommendations finished on 73000/407764 queries. users per second: 6461.04</pre>"
            ]
          },
          "metadata": {}
        },
        {
          "output_type": "display_data",
          "data": {
            "text/plain": [
              "recommendations finished on 74000/407764 queries. users per second: 6459.46"
            ],
            "text/html": [
              "<pre>recommendations finished on 74000/407764 queries. users per second: 6459.46</pre>"
            ]
          },
          "metadata": {}
        },
        {
          "output_type": "display_data",
          "data": {
            "text/plain": [
              "recommendations finished on 75000/407764 queries. users per second: 6455.05"
            ],
            "text/html": [
              "<pre>recommendations finished on 75000/407764 queries. users per second: 6455.05</pre>"
            ]
          },
          "metadata": {}
        },
        {
          "output_type": "display_data",
          "data": {
            "text/plain": [
              "recommendations finished on 76000/407764 queries. users per second: 6453.2"
            ],
            "text/html": [
              "<pre>recommendations finished on 76000/407764 queries. users per second: 6453.2</pre>"
            ]
          },
          "metadata": {}
        },
        {
          "output_type": "display_data",
          "data": {
            "text/plain": [
              "recommendations finished on 77000/407764 queries. users per second: 6453.24"
            ],
            "text/html": [
              "<pre>recommendations finished on 77000/407764 queries. users per second: 6453.24</pre>"
            ]
          },
          "metadata": {}
        },
        {
          "output_type": "display_data",
          "data": {
            "text/plain": [
              "recommendations finished on 78000/407764 queries. users per second: 6453.66"
            ],
            "text/html": [
              "<pre>recommendations finished on 78000/407764 queries. users per second: 6453.66</pre>"
            ]
          },
          "metadata": {}
        },
        {
          "output_type": "display_data",
          "data": {
            "text/plain": [
              "recommendations finished on 79000/407764 queries. users per second: 6455.33"
            ],
            "text/html": [
              "<pre>recommendations finished on 79000/407764 queries. users per second: 6455.33</pre>"
            ]
          },
          "metadata": {}
        },
        {
          "output_type": "display_data",
          "data": {
            "text/plain": [
              "recommendations finished on 80000/407764 queries. users per second: 6453.72"
            ],
            "text/html": [
              "<pre>recommendations finished on 80000/407764 queries. users per second: 6453.72</pre>"
            ]
          },
          "metadata": {}
        },
        {
          "output_type": "display_data",
          "data": {
            "text/plain": [
              "recommendations finished on 81000/407764 queries. users per second: 6452.27"
            ],
            "text/html": [
              "<pre>recommendations finished on 81000/407764 queries. users per second: 6452.27</pre>"
            ]
          },
          "metadata": {}
        },
        {
          "output_type": "display_data",
          "data": {
            "text/plain": [
              "recommendations finished on 82000/407764 queries. users per second: 6452.84"
            ],
            "text/html": [
              "<pre>recommendations finished on 82000/407764 queries. users per second: 6452.84</pre>"
            ]
          },
          "metadata": {}
        },
        {
          "output_type": "display_data",
          "data": {
            "text/plain": [
              "recommendations finished on 83000/407764 queries. users per second: 6453.52"
            ],
            "text/html": [
              "<pre>recommendations finished on 83000/407764 queries. users per second: 6453.52</pre>"
            ]
          },
          "metadata": {}
        },
        {
          "output_type": "display_data",
          "data": {
            "text/plain": [
              "recommendations finished on 84000/407764 queries. users per second: 6453.07"
            ],
            "text/html": [
              "<pre>recommendations finished on 84000/407764 queries. users per second: 6453.07</pre>"
            ]
          },
          "metadata": {}
        },
        {
          "output_type": "display_data",
          "data": {
            "text/plain": [
              "recommendations finished on 85000/407764 queries. users per second: 6453.8"
            ],
            "text/html": [
              "<pre>recommendations finished on 85000/407764 queries. users per second: 6453.8</pre>"
            ]
          },
          "metadata": {}
        },
        {
          "output_type": "display_data",
          "data": {
            "text/plain": [
              "recommendations finished on 86000/407764 queries. users per second: 6455"
            ],
            "text/html": [
              "<pre>recommendations finished on 86000/407764 queries. users per second: 6455</pre>"
            ]
          },
          "metadata": {}
        },
        {
          "output_type": "display_data",
          "data": {
            "text/plain": [
              "recommendations finished on 87000/407764 queries. users per second: 6453.71"
            ],
            "text/html": [
              "<pre>recommendations finished on 87000/407764 queries. users per second: 6453.71</pre>"
            ]
          },
          "metadata": {}
        },
        {
          "output_type": "display_data",
          "data": {
            "text/plain": [
              "recommendations finished on 88000/407764 queries. users per second: 6452.36"
            ],
            "text/html": [
              "<pre>recommendations finished on 88000/407764 queries. users per second: 6452.36</pre>"
            ]
          },
          "metadata": {}
        },
        {
          "output_type": "display_data",
          "data": {
            "text/plain": [
              "recommendations finished on 89000/407764 queries. users per second: 6452.16"
            ],
            "text/html": [
              "<pre>recommendations finished on 89000/407764 queries. users per second: 6452.16</pre>"
            ]
          },
          "metadata": {}
        },
        {
          "output_type": "display_data",
          "data": {
            "text/plain": [
              "recommendations finished on 90000/407764 queries. users per second: 6452.8"
            ],
            "text/html": [
              "<pre>recommendations finished on 90000/407764 queries. users per second: 6452.8</pre>"
            ]
          },
          "metadata": {}
        },
        {
          "output_type": "display_data",
          "data": {
            "text/plain": [
              "recommendations finished on 91000/407764 queries. users per second: 6450.7"
            ],
            "text/html": [
              "<pre>recommendations finished on 91000/407764 queries. users per second: 6450.7</pre>"
            ]
          },
          "metadata": {}
        },
        {
          "output_type": "display_data",
          "data": {
            "text/plain": [
              "recommendations finished on 92000/407764 queries. users per second: 6451.45"
            ],
            "text/html": [
              "<pre>recommendations finished on 92000/407764 queries. users per second: 6451.45</pre>"
            ]
          },
          "metadata": {}
        },
        {
          "output_type": "display_data",
          "data": {
            "text/plain": [
              "recommendations finished on 93000/407764 queries. users per second: 6452.47"
            ],
            "text/html": [
              "<pre>recommendations finished on 93000/407764 queries. users per second: 6452.47</pre>"
            ]
          },
          "metadata": {}
        },
        {
          "output_type": "display_data",
          "data": {
            "text/plain": [
              "recommendations finished on 94000/407764 queries. users per second: 6453.75"
            ],
            "text/html": [
              "<pre>recommendations finished on 94000/407764 queries. users per second: 6453.75</pre>"
            ]
          },
          "metadata": {}
        },
        {
          "output_type": "display_data",
          "data": {
            "text/plain": [
              "recommendations finished on 95000/407764 queries. users per second: 6451.72"
            ],
            "text/html": [
              "<pre>recommendations finished on 95000/407764 queries. users per second: 6451.72</pre>"
            ]
          },
          "metadata": {}
        },
        {
          "output_type": "display_data",
          "data": {
            "text/plain": [
              "recommendations finished on 96000/407764 queries. users per second: 6452.18"
            ],
            "text/html": [
              "<pre>recommendations finished on 96000/407764 queries. users per second: 6452.18</pre>"
            ]
          },
          "metadata": {}
        },
        {
          "output_type": "display_data",
          "data": {
            "text/plain": [
              "recommendations finished on 97000/407764 queries. users per second: 6452.18"
            ],
            "text/html": [
              "<pre>recommendations finished on 97000/407764 queries. users per second: 6452.18</pre>"
            ]
          },
          "metadata": {}
        },
        {
          "output_type": "display_data",
          "data": {
            "text/plain": [
              "recommendations finished on 98000/407764 queries. users per second: 6453.2"
            ],
            "text/html": [
              "<pre>recommendations finished on 98000/407764 queries. users per second: 6453.2</pre>"
            ]
          },
          "metadata": {}
        },
        {
          "output_type": "display_data",
          "data": {
            "text/plain": [
              "recommendations finished on 99000/407764 queries. users per second: 6454.34"
            ],
            "text/html": [
              "<pre>recommendations finished on 99000/407764 queries. users per second: 6454.34</pre>"
            ]
          },
          "metadata": {}
        },
        {
          "output_type": "display_data",
          "data": {
            "text/plain": [
              "recommendations finished on 100000/407764 queries. users per second: 6454.92"
            ],
            "text/html": [
              "<pre>recommendations finished on 100000/407764 queries. users per second: 6454.92</pre>"
            ]
          },
          "metadata": {}
        },
        {
          "output_type": "display_data",
          "data": {
            "text/plain": [
              "recommendations finished on 101000/407764 queries. users per second: 6454.23"
            ],
            "text/html": [
              "<pre>recommendations finished on 101000/407764 queries. users per second: 6454.23</pre>"
            ]
          },
          "metadata": {}
        },
        {
          "output_type": "display_data",
          "data": {
            "text/plain": [
              "recommendations finished on 102000/407764 queries. users per second: 6454.79"
            ],
            "text/html": [
              "<pre>recommendations finished on 102000/407764 queries. users per second: 6454.79</pre>"
            ]
          },
          "metadata": {}
        },
        {
          "output_type": "display_data",
          "data": {
            "text/plain": [
              "recommendations finished on 103000/407764 queries. users per second: 6453.85"
            ],
            "text/html": [
              "<pre>recommendations finished on 103000/407764 queries. users per second: 6453.85</pre>"
            ]
          },
          "metadata": {}
        },
        {
          "output_type": "display_data",
          "data": {
            "text/plain": [
              "recommendations finished on 104000/407764 queries. users per second: 6454.9"
            ],
            "text/html": [
              "<pre>recommendations finished on 104000/407764 queries. users per second: 6454.9</pre>"
            ]
          },
          "metadata": {}
        },
        {
          "output_type": "display_data",
          "data": {
            "text/plain": [
              "recommendations finished on 105000/407764 queries. users per second: 6454.05"
            ],
            "text/html": [
              "<pre>recommendations finished on 105000/407764 queries. users per second: 6454.05</pre>"
            ]
          },
          "metadata": {}
        },
        {
          "output_type": "display_data",
          "data": {
            "text/plain": [
              "recommendations finished on 106000/407764 queries. users per second: 6447.71"
            ],
            "text/html": [
              "<pre>recommendations finished on 106000/407764 queries. users per second: 6447.71</pre>"
            ]
          },
          "metadata": {}
        },
        {
          "output_type": "display_data",
          "data": {
            "text/plain": [
              "recommendations finished on 107000/407764 queries. users per second: 6446.03"
            ],
            "text/html": [
              "<pre>recommendations finished on 107000/407764 queries. users per second: 6446.03</pre>"
            ]
          },
          "metadata": {}
        },
        {
          "output_type": "display_data",
          "data": {
            "text/plain": [
              "recommendations finished on 108000/407764 queries. users per second: 6444.17"
            ],
            "text/html": [
              "<pre>recommendations finished on 108000/407764 queries. users per second: 6444.17</pre>"
            ]
          },
          "metadata": {}
        },
        {
          "output_type": "display_data",
          "data": {
            "text/plain": [
              "recommendations finished on 109000/407764 queries. users per second: 6445.11"
            ],
            "text/html": [
              "<pre>recommendations finished on 109000/407764 queries. users per second: 6445.11</pre>"
            ]
          },
          "metadata": {}
        },
        {
          "output_type": "display_data",
          "data": {
            "text/plain": [
              "recommendations finished on 110000/407764 queries. users per second: 6445.47"
            ],
            "text/html": [
              "<pre>recommendations finished on 110000/407764 queries. users per second: 6445.47</pre>"
            ]
          },
          "metadata": {}
        },
        {
          "output_type": "display_data",
          "data": {
            "text/plain": [
              "recommendations finished on 111000/407764 queries. users per second: 6446.38"
            ],
            "text/html": [
              "<pre>recommendations finished on 111000/407764 queries. users per second: 6446.38</pre>"
            ]
          },
          "metadata": {}
        },
        {
          "output_type": "display_data",
          "data": {
            "text/plain": [
              "recommendations finished on 112000/407764 queries. users per second: 6447.22"
            ],
            "text/html": [
              "<pre>recommendations finished on 112000/407764 queries. users per second: 6447.22</pre>"
            ]
          },
          "metadata": {}
        },
        {
          "output_type": "display_data",
          "data": {
            "text/plain": [
              "recommendations finished on 113000/407764 queries. users per second: 6448.18"
            ],
            "text/html": [
              "<pre>recommendations finished on 113000/407764 queries. users per second: 6448.18</pre>"
            ]
          },
          "metadata": {}
        },
        {
          "output_type": "display_data",
          "data": {
            "text/plain": [
              "recommendations finished on 114000/407764 queries. users per second: 6447.48"
            ],
            "text/html": [
              "<pre>recommendations finished on 114000/407764 queries. users per second: 6447.48</pre>"
            ]
          },
          "metadata": {}
        },
        {
          "output_type": "display_data",
          "data": {
            "text/plain": [
              "recommendations finished on 115000/407764 queries. users per second: 6448.14"
            ],
            "text/html": [
              "<pre>recommendations finished on 115000/407764 queries. users per second: 6448.14</pre>"
            ]
          },
          "metadata": {}
        },
        {
          "output_type": "display_data",
          "data": {
            "text/plain": [
              "recommendations finished on 116000/407764 queries. users per second: 6448.11"
            ],
            "text/html": [
              "<pre>recommendations finished on 116000/407764 queries. users per second: 6448.11</pre>"
            ]
          },
          "metadata": {}
        },
        {
          "output_type": "display_data",
          "data": {
            "text/plain": [
              "recommendations finished on 117000/407764 queries. users per second: 6448.24"
            ],
            "text/html": [
              "<pre>recommendations finished on 117000/407764 queries. users per second: 6448.24</pre>"
            ]
          },
          "metadata": {}
        },
        {
          "output_type": "display_data",
          "data": {
            "text/plain": [
              "recommendations finished on 118000/407764 queries. users per second: 6448.77"
            ],
            "text/html": [
              "<pre>recommendations finished on 118000/407764 queries. users per second: 6448.77</pre>"
            ]
          },
          "metadata": {}
        },
        {
          "output_type": "display_data",
          "data": {
            "text/plain": [
              "recommendations finished on 119000/407764 queries. users per second: 6449.11"
            ],
            "text/html": [
              "<pre>recommendations finished on 119000/407764 queries. users per second: 6449.11</pre>"
            ]
          },
          "metadata": {}
        },
        {
          "output_type": "display_data",
          "data": {
            "text/plain": [
              "recommendations finished on 120000/407764 queries. users per second: 6449.29"
            ],
            "text/html": [
              "<pre>recommendations finished on 120000/407764 queries. users per second: 6449.29</pre>"
            ]
          },
          "metadata": {}
        },
        {
          "output_type": "display_data",
          "data": {
            "text/plain": [
              "recommendations finished on 121000/407764 queries. users per second: 6448.22"
            ],
            "text/html": [
              "<pre>recommendations finished on 121000/407764 queries. users per second: 6448.22</pre>"
            ]
          },
          "metadata": {}
        },
        {
          "output_type": "display_data",
          "data": {
            "text/plain": [
              "recommendations finished on 122000/407764 queries. users per second: 6448.71"
            ],
            "text/html": [
              "<pre>recommendations finished on 122000/407764 queries. users per second: 6448.71</pre>"
            ]
          },
          "metadata": {}
        },
        {
          "output_type": "display_data",
          "data": {
            "text/plain": [
              "recommendations finished on 123000/407764 queries. users per second: 6449.53"
            ],
            "text/html": [
              "<pre>recommendations finished on 123000/407764 queries. users per second: 6449.53</pre>"
            ]
          },
          "metadata": {}
        },
        {
          "output_type": "display_data",
          "data": {
            "text/plain": [
              "recommendations finished on 124000/407764 queries. users per second: 6450.12"
            ],
            "text/html": [
              "<pre>recommendations finished on 124000/407764 queries. users per second: 6450.12</pre>"
            ]
          },
          "metadata": {}
        },
        {
          "output_type": "display_data",
          "data": {
            "text/plain": [
              "recommendations finished on 125000/407764 queries. users per second: 6450.43"
            ],
            "text/html": [
              "<pre>recommendations finished on 125000/407764 queries. users per second: 6450.43</pre>"
            ]
          },
          "metadata": {}
        },
        {
          "output_type": "display_data",
          "data": {
            "text/plain": [
              "recommendations finished on 126000/407764 queries. users per second: 6449.63"
            ],
            "text/html": [
              "<pre>recommendations finished on 126000/407764 queries. users per second: 6449.63</pre>"
            ]
          },
          "metadata": {}
        },
        {
          "output_type": "display_data",
          "data": {
            "text/plain": [
              "recommendations finished on 127000/407764 queries. users per second: 6450.58"
            ],
            "text/html": [
              "<pre>recommendations finished on 127000/407764 queries. users per second: 6450.58</pre>"
            ]
          },
          "metadata": {}
        },
        {
          "output_type": "display_data",
          "data": {
            "text/plain": [
              "recommendations finished on 128000/407764 queries. users per second: 6449.62"
            ],
            "text/html": [
              "<pre>recommendations finished on 128000/407764 queries. users per second: 6449.62</pre>"
            ]
          },
          "metadata": {}
        },
        {
          "output_type": "display_data",
          "data": {
            "text/plain": [
              "recommendations finished on 129000/407764 queries. users per second: 6450.62"
            ],
            "text/html": [
              "<pre>recommendations finished on 129000/407764 queries. users per second: 6450.62</pre>"
            ]
          },
          "metadata": {}
        },
        {
          "output_type": "display_data",
          "data": {
            "text/plain": [
              "recommendations finished on 130000/407764 queries. users per second: 6451.76"
            ],
            "text/html": [
              "<pre>recommendations finished on 130000/407764 queries. users per second: 6451.76</pre>"
            ]
          },
          "metadata": {}
        },
        {
          "output_type": "display_data",
          "data": {
            "text/plain": [
              "recommendations finished on 131000/407764 queries. users per second: 6452.65"
            ],
            "text/html": [
              "<pre>recommendations finished on 131000/407764 queries. users per second: 6452.65</pre>"
            ]
          },
          "metadata": {}
        },
        {
          "output_type": "display_data",
          "data": {
            "text/plain": [
              "recommendations finished on 132000/407764 queries. users per second: 6452.68"
            ],
            "text/html": [
              "<pre>recommendations finished on 132000/407764 queries. users per second: 6452.68</pre>"
            ]
          },
          "metadata": {}
        },
        {
          "output_type": "display_data",
          "data": {
            "text/plain": [
              "recommendations finished on 133000/407764 queries. users per second: 6453.73"
            ],
            "text/html": [
              "<pre>recommendations finished on 133000/407764 queries. users per second: 6453.73</pre>"
            ]
          },
          "metadata": {}
        },
        {
          "output_type": "display_data",
          "data": {
            "text/plain": [
              "recommendations finished on 134000/407764 queries. users per second: 6453.67"
            ],
            "text/html": [
              "<pre>recommendations finished on 134000/407764 queries. users per second: 6453.67</pre>"
            ]
          },
          "metadata": {}
        },
        {
          "output_type": "display_data",
          "data": {
            "text/plain": [
              "recommendations finished on 135000/407764 queries. users per second: 6453.42"
            ],
            "text/html": [
              "<pre>recommendations finished on 135000/407764 queries. users per second: 6453.42</pre>"
            ]
          },
          "metadata": {}
        },
        {
          "output_type": "display_data",
          "data": {
            "text/plain": [
              "recommendations finished on 136000/407764 queries. users per second: 6453.32"
            ],
            "text/html": [
              "<pre>recommendations finished on 136000/407764 queries. users per second: 6453.32</pre>"
            ]
          },
          "metadata": {}
        },
        {
          "output_type": "display_data",
          "data": {
            "text/plain": [
              "recommendations finished on 137000/407764 queries. users per second: 6453.52"
            ],
            "text/html": [
              "<pre>recommendations finished on 137000/407764 queries. users per second: 6453.52</pre>"
            ]
          },
          "metadata": {}
        },
        {
          "output_type": "display_data",
          "data": {
            "text/plain": [
              "recommendations finished on 138000/407764 queries. users per second: 6453.6"
            ],
            "text/html": [
              "<pre>recommendations finished on 138000/407764 queries. users per second: 6453.6</pre>"
            ]
          },
          "metadata": {}
        },
        {
          "output_type": "display_data",
          "data": {
            "text/plain": [
              "recommendations finished on 139000/407764 queries. users per second: 6454.07"
            ],
            "text/html": [
              "<pre>recommendations finished on 139000/407764 queries. users per second: 6454.07</pre>"
            ]
          },
          "metadata": {}
        },
        {
          "output_type": "display_data",
          "data": {
            "text/plain": [
              "recommendations finished on 140000/407764 queries. users per second: 6454.79"
            ],
            "text/html": [
              "<pre>recommendations finished on 140000/407764 queries. users per second: 6454.79</pre>"
            ]
          },
          "metadata": {}
        },
        {
          "output_type": "display_data",
          "data": {
            "text/plain": [
              "recommendations finished on 141000/407764 queries. users per second: 6453.94"
            ],
            "text/html": [
              "<pre>recommendations finished on 141000/407764 queries. users per second: 6453.94</pre>"
            ]
          },
          "metadata": {}
        },
        {
          "output_type": "display_data",
          "data": {
            "text/plain": [
              "recommendations finished on 142000/407764 queries. users per second: 6454.03"
            ],
            "text/html": [
              "<pre>recommendations finished on 142000/407764 queries. users per second: 6454.03</pre>"
            ]
          },
          "metadata": {}
        },
        {
          "output_type": "display_data",
          "data": {
            "text/plain": [
              "recommendations finished on 143000/407764 queries. users per second: 6453.87"
            ],
            "text/html": [
              "<pre>recommendations finished on 143000/407764 queries. users per second: 6453.87</pre>"
            ]
          },
          "metadata": {}
        },
        {
          "output_type": "display_data",
          "data": {
            "text/plain": [
              "recommendations finished on 144000/407764 queries. users per second: 6454.12"
            ],
            "text/html": [
              "<pre>recommendations finished on 144000/407764 queries. users per second: 6454.12</pre>"
            ]
          },
          "metadata": {}
        },
        {
          "output_type": "display_data",
          "data": {
            "text/plain": [
              "recommendations finished on 145000/407764 queries. users per second: 6452.09"
            ],
            "text/html": [
              "<pre>recommendations finished on 145000/407764 queries. users per second: 6452.09</pre>"
            ]
          },
          "metadata": {}
        },
        {
          "output_type": "display_data",
          "data": {
            "text/plain": [
              "recommendations finished on 146000/407764 queries. users per second: 6452.64"
            ],
            "text/html": [
              "<pre>recommendations finished on 146000/407764 queries. users per second: 6452.64</pre>"
            ]
          },
          "metadata": {}
        },
        {
          "output_type": "display_data",
          "data": {
            "text/plain": [
              "recommendations finished on 147000/407764 queries. users per second: 6452.94"
            ],
            "text/html": [
              "<pre>recommendations finished on 147000/407764 queries. users per second: 6452.94</pre>"
            ]
          },
          "metadata": {}
        },
        {
          "output_type": "display_data",
          "data": {
            "text/plain": [
              "recommendations finished on 148000/407764 queries. users per second: 6452.13"
            ],
            "text/html": [
              "<pre>recommendations finished on 148000/407764 queries. users per second: 6452.13</pre>"
            ]
          },
          "metadata": {}
        },
        {
          "output_type": "display_data",
          "data": {
            "text/plain": [
              "recommendations finished on 149000/407764 queries. users per second: 6452.57"
            ],
            "text/html": [
              "<pre>recommendations finished on 149000/407764 queries. users per second: 6452.57</pre>"
            ]
          },
          "metadata": {}
        },
        {
          "output_type": "display_data",
          "data": {
            "text/plain": [
              "recommendations finished on 150000/407764 queries. users per second: 6453.1"
            ],
            "text/html": [
              "<pre>recommendations finished on 150000/407764 queries. users per second: 6453.1</pre>"
            ]
          },
          "metadata": {}
        },
        {
          "output_type": "display_data",
          "data": {
            "text/plain": [
              "recommendations finished on 151000/407764 queries. users per second: 6452.31"
            ],
            "text/html": [
              "<pre>recommendations finished on 151000/407764 queries. users per second: 6452.31</pre>"
            ]
          },
          "metadata": {}
        },
        {
          "output_type": "display_data",
          "data": {
            "text/plain": [
              "recommendations finished on 152000/407764 queries. users per second: 6452.95"
            ],
            "text/html": [
              "<pre>recommendations finished on 152000/407764 queries. users per second: 6452.95</pre>"
            ]
          },
          "metadata": {}
        },
        {
          "output_type": "display_data",
          "data": {
            "text/plain": [
              "recommendations finished on 153000/407764 queries. users per second: 6452.72"
            ],
            "text/html": [
              "<pre>recommendations finished on 153000/407764 queries. users per second: 6452.72</pre>"
            ]
          },
          "metadata": {}
        },
        {
          "output_type": "display_data",
          "data": {
            "text/plain": [
              "recommendations finished on 154000/407764 queries. users per second: 6451.93"
            ],
            "text/html": [
              "<pre>recommendations finished on 154000/407764 queries. users per second: 6451.93</pre>"
            ]
          },
          "metadata": {}
        },
        {
          "output_type": "display_data",
          "data": {
            "text/plain": [
              "recommendations finished on 155000/407764 queries. users per second: 6452.42"
            ],
            "text/html": [
              "<pre>recommendations finished on 155000/407764 queries. users per second: 6452.42</pre>"
            ]
          },
          "metadata": {}
        },
        {
          "output_type": "display_data",
          "data": {
            "text/plain": [
              "recommendations finished on 156000/407764 queries. users per second: 6452.8"
            ],
            "text/html": [
              "<pre>recommendations finished on 156000/407764 queries. users per second: 6452.8</pre>"
            ]
          },
          "metadata": {}
        },
        {
          "output_type": "display_data",
          "data": {
            "text/plain": [
              "recommendations finished on 157000/407764 queries. users per second: 6451.15"
            ],
            "text/html": [
              "<pre>recommendations finished on 157000/407764 queries. users per second: 6451.15</pre>"
            ]
          },
          "metadata": {}
        },
        {
          "output_type": "display_data",
          "data": {
            "text/plain": [
              "recommendations finished on 158000/407764 queries. users per second: 6450.89"
            ],
            "text/html": [
              "<pre>recommendations finished on 158000/407764 queries. users per second: 6450.89</pre>"
            ]
          },
          "metadata": {}
        },
        {
          "output_type": "display_data",
          "data": {
            "text/plain": [
              "recommendations finished on 159000/407764 queries. users per second: 6450.69"
            ],
            "text/html": [
              "<pre>recommendations finished on 159000/407764 queries. users per second: 6450.69</pre>"
            ]
          },
          "metadata": {}
        },
        {
          "output_type": "display_data",
          "data": {
            "text/plain": [
              "recommendations finished on 160000/407764 queries. users per second: 6451.17"
            ],
            "text/html": [
              "<pre>recommendations finished on 160000/407764 queries. users per second: 6451.17</pre>"
            ]
          },
          "metadata": {}
        },
        {
          "output_type": "display_data",
          "data": {
            "text/plain": [
              "recommendations finished on 161000/407764 queries. users per second: 6450.28"
            ],
            "text/html": [
              "<pre>recommendations finished on 161000/407764 queries. users per second: 6450.28</pre>"
            ]
          },
          "metadata": {}
        },
        {
          "output_type": "display_data",
          "data": {
            "text/plain": [
              "recommendations finished on 162000/407764 queries. users per second: 6450.14"
            ],
            "text/html": [
              "<pre>recommendations finished on 162000/407764 queries. users per second: 6450.14</pre>"
            ]
          },
          "metadata": {}
        },
        {
          "output_type": "display_data",
          "data": {
            "text/plain": [
              "recommendations finished on 163000/407764 queries. users per second: 6450.91"
            ],
            "text/html": [
              "<pre>recommendations finished on 163000/407764 queries. users per second: 6450.91</pre>"
            ]
          },
          "metadata": {}
        },
        {
          "output_type": "display_data",
          "data": {
            "text/plain": [
              "recommendations finished on 164000/407764 queries. users per second: 6451.22"
            ],
            "text/html": [
              "<pre>recommendations finished on 164000/407764 queries. users per second: 6451.22</pre>"
            ]
          },
          "metadata": {}
        },
        {
          "output_type": "display_data",
          "data": {
            "text/plain": [
              "recommendations finished on 165000/407764 queries. users per second: 6451.79"
            ],
            "text/html": [
              "<pre>recommendations finished on 165000/407764 queries. users per second: 6451.79</pre>"
            ]
          },
          "metadata": {}
        },
        {
          "output_type": "display_data",
          "data": {
            "text/plain": [
              "recommendations finished on 166000/407764 queries. users per second: 6452.32"
            ],
            "text/html": [
              "<pre>recommendations finished on 166000/407764 queries. users per second: 6452.32</pre>"
            ]
          },
          "metadata": {}
        },
        {
          "output_type": "display_data",
          "data": {
            "text/plain": [
              "recommendations finished on 167000/407764 queries. users per second: 6452.94"
            ],
            "text/html": [
              "<pre>recommendations finished on 167000/407764 queries. users per second: 6452.94</pre>"
            ]
          },
          "metadata": {}
        },
        {
          "output_type": "display_data",
          "data": {
            "text/plain": [
              "recommendations finished on 168000/407764 queries. users per second: 6452.28"
            ],
            "text/html": [
              "<pre>recommendations finished on 168000/407764 queries. users per second: 6452.28</pre>"
            ]
          },
          "metadata": {}
        },
        {
          "output_type": "display_data",
          "data": {
            "text/plain": [
              "recommendations finished on 169000/407764 queries. users per second: 6452.03"
            ],
            "text/html": [
              "<pre>recommendations finished on 169000/407764 queries. users per second: 6452.03</pre>"
            ]
          },
          "metadata": {}
        },
        {
          "output_type": "display_data",
          "data": {
            "text/plain": [
              "recommendations finished on 170000/407764 queries. users per second: 6451.98"
            ],
            "text/html": [
              "<pre>recommendations finished on 170000/407764 queries. users per second: 6451.98</pre>"
            ]
          },
          "metadata": {}
        },
        {
          "output_type": "display_data",
          "data": {
            "text/plain": [
              "recommendations finished on 171000/407764 queries. users per second: 6452.44"
            ],
            "text/html": [
              "<pre>recommendations finished on 171000/407764 queries. users per second: 6452.44</pre>"
            ]
          },
          "metadata": {}
        },
        {
          "output_type": "display_data",
          "data": {
            "text/plain": [
              "recommendations finished on 172000/407764 queries. users per second: 6453.03"
            ],
            "text/html": [
              "<pre>recommendations finished on 172000/407764 queries. users per second: 6453.03</pre>"
            ]
          },
          "metadata": {}
        },
        {
          "output_type": "display_data",
          "data": {
            "text/plain": [
              "recommendations finished on 173000/407764 queries. users per second: 6451.24"
            ],
            "text/html": [
              "<pre>recommendations finished on 173000/407764 queries. users per second: 6451.24</pre>"
            ]
          },
          "metadata": {}
        },
        {
          "output_type": "display_data",
          "data": {
            "text/plain": [
              "recommendations finished on 174000/407764 queries. users per second: 6450.91"
            ],
            "text/html": [
              "<pre>recommendations finished on 174000/407764 queries. users per second: 6450.91</pre>"
            ]
          },
          "metadata": {}
        },
        {
          "output_type": "display_data",
          "data": {
            "text/plain": [
              "recommendations finished on 175000/407764 queries. users per second: 6451.5"
            ],
            "text/html": [
              "<pre>recommendations finished on 175000/407764 queries. users per second: 6451.5</pre>"
            ]
          },
          "metadata": {}
        },
        {
          "output_type": "display_data",
          "data": {
            "text/plain": [
              "recommendations finished on 176000/407764 queries. users per second: 6450.68"
            ],
            "text/html": [
              "<pre>recommendations finished on 176000/407764 queries. users per second: 6450.68</pre>"
            ]
          },
          "metadata": {}
        },
        {
          "output_type": "display_data",
          "data": {
            "text/plain": [
              "recommendations finished on 177000/407764 queries. users per second: 6450.72"
            ],
            "text/html": [
              "<pre>recommendations finished on 177000/407764 queries. users per second: 6450.72</pre>"
            ]
          },
          "metadata": {}
        },
        {
          "output_type": "display_data",
          "data": {
            "text/plain": [
              "recommendations finished on 178000/407764 queries. users per second: 6451.18"
            ],
            "text/html": [
              "<pre>recommendations finished on 178000/407764 queries. users per second: 6451.18</pre>"
            ]
          },
          "metadata": {}
        },
        {
          "output_type": "display_data",
          "data": {
            "text/plain": [
              "recommendations finished on 179000/407764 queries. users per second: 6451.48"
            ],
            "text/html": [
              "<pre>recommendations finished on 179000/407764 queries. users per second: 6451.48</pre>"
            ]
          },
          "metadata": {}
        },
        {
          "output_type": "display_data",
          "data": {
            "text/plain": [
              "recommendations finished on 180000/407764 queries. users per second: 6451.91"
            ],
            "text/html": [
              "<pre>recommendations finished on 180000/407764 queries. users per second: 6451.91</pre>"
            ]
          },
          "metadata": {}
        },
        {
          "output_type": "display_data",
          "data": {
            "text/plain": [
              "recommendations finished on 181000/407764 queries. users per second: 6450.76"
            ],
            "text/html": [
              "<pre>recommendations finished on 181000/407764 queries. users per second: 6450.76</pre>"
            ]
          },
          "metadata": {}
        },
        {
          "output_type": "display_data",
          "data": {
            "text/plain": [
              "recommendations finished on 182000/407764 queries. users per second: 6451.33"
            ],
            "text/html": [
              "<pre>recommendations finished on 182000/407764 queries. users per second: 6451.33</pre>"
            ]
          },
          "metadata": {}
        },
        {
          "output_type": "display_data",
          "data": {
            "text/plain": [
              "recommendations finished on 183000/407764 queries. users per second: 6451.77"
            ],
            "text/html": [
              "<pre>recommendations finished on 183000/407764 queries. users per second: 6451.77</pre>"
            ]
          },
          "metadata": {}
        },
        {
          "output_type": "display_data",
          "data": {
            "text/plain": [
              "recommendations finished on 184000/407764 queries. users per second: 6452.15"
            ],
            "text/html": [
              "<pre>recommendations finished on 184000/407764 queries. users per second: 6452.15</pre>"
            ]
          },
          "metadata": {}
        },
        {
          "output_type": "display_data",
          "data": {
            "text/plain": [
              "recommendations finished on 185000/407764 queries. users per second: 6452.82"
            ],
            "text/html": [
              "<pre>recommendations finished on 185000/407764 queries. users per second: 6452.82</pre>"
            ]
          },
          "metadata": {}
        },
        {
          "output_type": "display_data",
          "data": {
            "text/plain": [
              "recommendations finished on 186000/407764 queries. users per second: 6453.57"
            ],
            "text/html": [
              "<pre>recommendations finished on 186000/407764 queries. users per second: 6453.57</pre>"
            ]
          },
          "metadata": {}
        },
        {
          "output_type": "display_data",
          "data": {
            "text/plain": [
              "recommendations finished on 187000/407764 queries. users per second: 6453.82"
            ],
            "text/html": [
              "<pre>recommendations finished on 187000/407764 queries. users per second: 6453.82</pre>"
            ]
          },
          "metadata": {}
        },
        {
          "output_type": "display_data",
          "data": {
            "text/plain": [
              "recommendations finished on 188000/407764 queries. users per second: 6453.08"
            ],
            "text/html": [
              "<pre>recommendations finished on 188000/407764 queries. users per second: 6453.08</pre>"
            ]
          },
          "metadata": {}
        },
        {
          "output_type": "display_data",
          "data": {
            "text/plain": [
              "recommendations finished on 189000/407764 queries. users per second: 6453.56"
            ],
            "text/html": [
              "<pre>recommendations finished on 189000/407764 queries. users per second: 6453.56</pre>"
            ]
          },
          "metadata": {}
        },
        {
          "output_type": "display_data",
          "data": {
            "text/plain": [
              "recommendations finished on 190000/407764 queries. users per second: 6453.45"
            ],
            "text/html": [
              "<pre>recommendations finished on 190000/407764 queries. users per second: 6453.45</pre>"
            ]
          },
          "metadata": {}
        },
        {
          "output_type": "display_data",
          "data": {
            "text/plain": [
              "recommendations finished on 191000/407764 queries. users per second: 6453.85"
            ],
            "text/html": [
              "<pre>recommendations finished on 191000/407764 queries. users per second: 6453.85</pre>"
            ]
          },
          "metadata": {}
        },
        {
          "output_type": "display_data",
          "data": {
            "text/plain": [
              "recommendations finished on 192000/407764 queries. users per second: 6454.47"
            ],
            "text/html": [
              "<pre>recommendations finished on 192000/407764 queries. users per second: 6454.47</pre>"
            ]
          },
          "metadata": {}
        },
        {
          "output_type": "display_data",
          "data": {
            "text/plain": [
              "recommendations finished on 193000/407764 queries. users per second: 6455.28"
            ],
            "text/html": [
              "<pre>recommendations finished on 193000/407764 queries. users per second: 6455.28</pre>"
            ]
          },
          "metadata": {}
        },
        {
          "output_type": "display_data",
          "data": {
            "text/plain": [
              "recommendations finished on 194000/407764 queries. users per second: 6454.2"
            ],
            "text/html": [
              "<pre>recommendations finished on 194000/407764 queries. users per second: 6454.2</pre>"
            ]
          },
          "metadata": {}
        },
        {
          "output_type": "display_data",
          "data": {
            "text/plain": [
              "recommendations finished on 195000/407764 queries. users per second: 6454.3"
            ],
            "text/html": [
              "<pre>recommendations finished on 195000/407764 queries. users per second: 6454.3</pre>"
            ]
          },
          "metadata": {}
        },
        {
          "output_type": "display_data",
          "data": {
            "text/plain": [
              "recommendations finished on 196000/407764 queries. users per second: 6454.91"
            ],
            "text/html": [
              "<pre>recommendations finished on 196000/407764 queries. users per second: 6454.91</pre>"
            ]
          },
          "metadata": {}
        },
        {
          "output_type": "display_data",
          "data": {
            "text/plain": [
              "recommendations finished on 197000/407764 queries. users per second: 6454.99"
            ],
            "text/html": [
              "<pre>recommendations finished on 197000/407764 queries. users per second: 6454.99</pre>"
            ]
          },
          "metadata": {}
        },
        {
          "output_type": "display_data",
          "data": {
            "text/plain": [
              "recommendations finished on 198000/407764 queries. users per second: 6455.16"
            ],
            "text/html": [
              "<pre>recommendations finished on 198000/407764 queries. users per second: 6455.16</pre>"
            ]
          },
          "metadata": {}
        },
        {
          "output_type": "display_data",
          "data": {
            "text/plain": [
              "recommendations finished on 199000/407764 queries. users per second: 6455.17"
            ],
            "text/html": [
              "<pre>recommendations finished on 199000/407764 queries. users per second: 6455.17</pre>"
            ]
          },
          "metadata": {}
        },
        {
          "output_type": "display_data",
          "data": {
            "text/plain": [
              "recommendations finished on 200000/407764 queries. users per second: 6454.75"
            ],
            "text/html": [
              "<pre>recommendations finished on 200000/407764 queries. users per second: 6454.75</pre>"
            ]
          },
          "metadata": {}
        },
        {
          "output_type": "display_data",
          "data": {
            "text/plain": [
              "recommendations finished on 201000/407764 queries. users per second: 6453.58"
            ],
            "text/html": [
              "<pre>recommendations finished on 201000/407764 queries. users per second: 6453.58</pre>"
            ]
          },
          "metadata": {}
        },
        {
          "output_type": "display_data",
          "data": {
            "text/plain": [
              "recommendations finished on 202000/407764 queries. users per second: 6453.44"
            ],
            "text/html": [
              "<pre>recommendations finished on 202000/407764 queries. users per second: 6453.44</pre>"
            ]
          },
          "metadata": {}
        },
        {
          "output_type": "display_data",
          "data": {
            "text/plain": [
              "recommendations finished on 203000/407764 queries. users per second: 6453.65"
            ],
            "text/html": [
              "<pre>recommendations finished on 203000/407764 queries. users per second: 6453.65</pre>"
            ]
          },
          "metadata": {}
        },
        {
          "output_type": "display_data",
          "data": {
            "text/plain": [
              "recommendations finished on 204000/407764 queries. users per second: 6454.04"
            ],
            "text/html": [
              "<pre>recommendations finished on 204000/407764 queries. users per second: 6454.04</pre>"
            ]
          },
          "metadata": {}
        },
        {
          "output_type": "display_data",
          "data": {
            "text/plain": [
              "recommendations finished on 205000/407764 queries. users per second: 6454.56"
            ],
            "text/html": [
              "<pre>recommendations finished on 205000/407764 queries. users per second: 6454.56</pre>"
            ]
          },
          "metadata": {}
        },
        {
          "output_type": "display_data",
          "data": {
            "text/plain": [
              "recommendations finished on 206000/407764 queries. users per second: 6453.05"
            ],
            "text/html": [
              "<pre>recommendations finished on 206000/407764 queries. users per second: 6453.05</pre>"
            ]
          },
          "metadata": {}
        },
        {
          "output_type": "display_data",
          "data": {
            "text/plain": [
              "recommendations finished on 207000/407764 queries. users per second: 6446.61"
            ],
            "text/html": [
              "<pre>recommendations finished on 207000/407764 queries. users per second: 6446.61</pre>"
            ]
          },
          "metadata": {}
        },
        {
          "output_type": "display_data",
          "data": {
            "text/plain": [
              "recommendations finished on 208000/407764 queries. users per second: 6441.81"
            ],
            "text/html": [
              "<pre>recommendations finished on 208000/407764 queries. users per second: 6441.81</pre>"
            ]
          },
          "metadata": {}
        },
        {
          "output_type": "display_data",
          "data": {
            "text/plain": [
              "recommendations finished on 209000/407764 queries. users per second: 6440.55"
            ],
            "text/html": [
              "<pre>recommendations finished on 209000/407764 queries. users per second: 6440.55</pre>"
            ]
          },
          "metadata": {}
        },
        {
          "output_type": "display_data",
          "data": {
            "text/plain": [
              "recommendations finished on 210000/407764 queries. users per second: 6439.62"
            ],
            "text/html": [
              "<pre>recommendations finished on 210000/407764 queries. users per second: 6439.62</pre>"
            ]
          },
          "metadata": {}
        },
        {
          "output_type": "display_data",
          "data": {
            "text/plain": [
              "recommendations finished on 211000/407764 queries. users per second: 6439.54"
            ],
            "text/html": [
              "<pre>recommendations finished on 211000/407764 queries. users per second: 6439.54</pre>"
            ]
          },
          "metadata": {}
        },
        {
          "output_type": "display_data",
          "data": {
            "text/plain": [
              "recommendations finished on 212000/407764 queries. users per second: 6437.49"
            ],
            "text/html": [
              "<pre>recommendations finished on 212000/407764 queries. users per second: 6437.49</pre>"
            ]
          },
          "metadata": {}
        },
        {
          "output_type": "display_data",
          "data": {
            "text/plain": [
              "recommendations finished on 213000/407764 queries. users per second: 6436.13"
            ],
            "text/html": [
              "<pre>recommendations finished on 213000/407764 queries. users per second: 6436.13</pre>"
            ]
          },
          "metadata": {}
        },
        {
          "output_type": "display_data",
          "data": {
            "text/plain": [
              "recommendations finished on 214000/407764 queries. users per second: 6435.56"
            ],
            "text/html": [
              "<pre>recommendations finished on 214000/407764 queries. users per second: 6435.56</pre>"
            ]
          },
          "metadata": {}
        },
        {
          "output_type": "display_data",
          "data": {
            "text/plain": [
              "recommendations finished on 215000/407764 queries. users per second: 6434.97"
            ],
            "text/html": [
              "<pre>recommendations finished on 215000/407764 queries. users per second: 6434.97</pre>"
            ]
          },
          "metadata": {}
        },
        {
          "output_type": "display_data",
          "data": {
            "text/plain": [
              "recommendations finished on 216000/407764 queries. users per second: 6434.17"
            ],
            "text/html": [
              "<pre>recommendations finished on 216000/407764 queries. users per second: 6434.17</pre>"
            ]
          },
          "metadata": {}
        },
        {
          "output_type": "display_data",
          "data": {
            "text/plain": [
              "recommendations finished on 217000/407764 queries. users per second: 6434.68"
            ],
            "text/html": [
              "<pre>recommendations finished on 217000/407764 queries. users per second: 6434.68</pre>"
            ]
          },
          "metadata": {}
        },
        {
          "output_type": "display_data",
          "data": {
            "text/plain": [
              "recommendations finished on 218000/407764 queries. users per second: 6435.25"
            ],
            "text/html": [
              "<pre>recommendations finished on 218000/407764 queries. users per second: 6435.25</pre>"
            ]
          },
          "metadata": {}
        },
        {
          "output_type": "display_data",
          "data": {
            "text/plain": [
              "recommendations finished on 219000/407764 queries. users per second: 6435.79"
            ],
            "text/html": [
              "<pre>recommendations finished on 219000/407764 queries. users per second: 6435.79</pre>"
            ]
          },
          "metadata": {}
        },
        {
          "output_type": "display_data",
          "data": {
            "text/plain": [
              "recommendations finished on 220000/407764 queries. users per second: 6435.63"
            ],
            "text/html": [
              "<pre>recommendations finished on 220000/407764 queries. users per second: 6435.63</pre>"
            ]
          },
          "metadata": {}
        },
        {
          "output_type": "display_data",
          "data": {
            "text/plain": [
              "recommendations finished on 221000/407764 queries. users per second: 6435.87"
            ],
            "text/html": [
              "<pre>recommendations finished on 221000/407764 queries. users per second: 6435.87</pre>"
            ]
          },
          "metadata": {}
        },
        {
          "output_type": "display_data",
          "data": {
            "text/plain": [
              "recommendations finished on 222000/407764 queries. users per second: 6435.24"
            ],
            "text/html": [
              "<pre>recommendations finished on 222000/407764 queries. users per second: 6435.24</pre>"
            ]
          },
          "metadata": {}
        },
        {
          "output_type": "display_data",
          "data": {
            "text/plain": [
              "recommendations finished on 223000/407764 queries. users per second: 6435.8"
            ],
            "text/html": [
              "<pre>recommendations finished on 223000/407764 queries. users per second: 6435.8</pre>"
            ]
          },
          "metadata": {}
        },
        {
          "output_type": "display_data",
          "data": {
            "text/plain": [
              "recommendations finished on 224000/407764 queries. users per second: 6436.59"
            ],
            "text/html": [
              "<pre>recommendations finished on 224000/407764 queries. users per second: 6436.59</pre>"
            ]
          },
          "metadata": {}
        },
        {
          "output_type": "display_data",
          "data": {
            "text/plain": [
              "recommendations finished on 225000/407764 queries. users per second: 6436.59"
            ],
            "text/html": [
              "<pre>recommendations finished on 225000/407764 queries. users per second: 6436.59</pre>"
            ]
          },
          "metadata": {}
        },
        {
          "output_type": "display_data",
          "data": {
            "text/plain": [
              "recommendations finished on 226000/407764 queries. users per second: 6436.83"
            ],
            "text/html": [
              "<pre>recommendations finished on 226000/407764 queries. users per second: 6436.83</pre>"
            ]
          },
          "metadata": {}
        },
        {
          "output_type": "display_data",
          "data": {
            "text/plain": [
              "recommendations finished on 227000/407764 queries. users per second: 6436.54"
            ],
            "text/html": [
              "<pre>recommendations finished on 227000/407764 queries. users per second: 6436.54</pre>"
            ]
          },
          "metadata": {}
        },
        {
          "output_type": "display_data",
          "data": {
            "text/plain": [
              "recommendations finished on 228000/407764 queries. users per second: 6436.81"
            ],
            "text/html": [
              "<pre>recommendations finished on 228000/407764 queries. users per second: 6436.81</pre>"
            ]
          },
          "metadata": {}
        },
        {
          "output_type": "display_data",
          "data": {
            "text/plain": [
              "recommendations finished on 229000/407764 queries. users per second: 6437.22"
            ],
            "text/html": [
              "<pre>recommendations finished on 229000/407764 queries. users per second: 6437.22</pre>"
            ]
          },
          "metadata": {}
        },
        {
          "output_type": "display_data",
          "data": {
            "text/plain": [
              "recommendations finished on 230000/407764 queries. users per second: 6437.84"
            ],
            "text/html": [
              "<pre>recommendations finished on 230000/407764 queries. users per second: 6437.84</pre>"
            ]
          },
          "metadata": {}
        },
        {
          "output_type": "display_data",
          "data": {
            "text/plain": [
              "recommendations finished on 231000/407764 queries. users per second: 6437.89"
            ],
            "text/html": [
              "<pre>recommendations finished on 231000/407764 queries. users per second: 6437.89</pre>"
            ]
          },
          "metadata": {}
        },
        {
          "output_type": "display_data",
          "data": {
            "text/plain": [
              "recommendations finished on 232000/407764 queries. users per second: 6437.77"
            ],
            "text/html": [
              "<pre>recommendations finished on 232000/407764 queries. users per second: 6437.77</pre>"
            ]
          },
          "metadata": {}
        },
        {
          "output_type": "display_data",
          "data": {
            "text/plain": [
              "recommendations finished on 233000/407764 queries. users per second: 6438.02"
            ],
            "text/html": [
              "<pre>recommendations finished on 233000/407764 queries. users per second: 6438.02</pre>"
            ]
          },
          "metadata": {}
        },
        {
          "output_type": "display_data",
          "data": {
            "text/plain": [
              "recommendations finished on 234000/407764 queries. users per second: 6437.63"
            ],
            "text/html": [
              "<pre>recommendations finished on 234000/407764 queries. users per second: 6437.63</pre>"
            ]
          },
          "metadata": {}
        },
        {
          "output_type": "display_data",
          "data": {
            "text/plain": [
              "recommendations finished on 235000/407764 queries. users per second: 6437.75"
            ],
            "text/html": [
              "<pre>recommendations finished on 235000/407764 queries. users per second: 6437.75</pre>"
            ]
          },
          "metadata": {}
        },
        {
          "output_type": "display_data",
          "data": {
            "text/plain": [
              "recommendations finished on 236000/407764 queries. users per second: 6438.05"
            ],
            "text/html": [
              "<pre>recommendations finished on 236000/407764 queries. users per second: 6438.05</pre>"
            ]
          },
          "metadata": {}
        },
        {
          "output_type": "display_data",
          "data": {
            "text/plain": [
              "recommendations finished on 237000/407764 queries. users per second: 6438.65"
            ],
            "text/html": [
              "<pre>recommendations finished on 237000/407764 queries. users per second: 6438.65</pre>"
            ]
          },
          "metadata": {}
        },
        {
          "output_type": "display_data",
          "data": {
            "text/plain": [
              "recommendations finished on 238000/407764 queries. users per second: 6439.42"
            ],
            "text/html": [
              "<pre>recommendations finished on 238000/407764 queries. users per second: 6439.42</pre>"
            ]
          },
          "metadata": {}
        },
        {
          "output_type": "display_data",
          "data": {
            "text/plain": [
              "recommendations finished on 239000/407764 queries. users per second: 6439.97"
            ],
            "text/html": [
              "<pre>recommendations finished on 239000/407764 queries. users per second: 6439.97</pre>"
            ]
          },
          "metadata": {}
        },
        {
          "output_type": "display_data",
          "data": {
            "text/plain": [
              "recommendations finished on 240000/407764 queries. users per second: 6439.34"
            ],
            "text/html": [
              "<pre>recommendations finished on 240000/407764 queries. users per second: 6439.34</pre>"
            ]
          },
          "metadata": {}
        },
        {
          "output_type": "display_data",
          "data": {
            "text/plain": [
              "recommendations finished on 241000/407764 queries. users per second: 6439.68"
            ],
            "text/html": [
              "<pre>recommendations finished on 241000/407764 queries. users per second: 6439.68</pre>"
            ]
          },
          "metadata": {}
        },
        {
          "output_type": "display_data",
          "data": {
            "text/plain": [
              "recommendations finished on 242000/407764 queries. users per second: 6440.1"
            ],
            "text/html": [
              "<pre>recommendations finished on 242000/407764 queries. users per second: 6440.1</pre>"
            ]
          },
          "metadata": {}
        },
        {
          "output_type": "display_data",
          "data": {
            "text/plain": [
              "recommendations finished on 243000/407764 queries. users per second: 6440.26"
            ],
            "text/html": [
              "<pre>recommendations finished on 243000/407764 queries. users per second: 6440.26</pre>"
            ]
          },
          "metadata": {}
        },
        {
          "output_type": "display_data",
          "data": {
            "text/plain": [
              "recommendations finished on 244000/407764 queries. users per second: 6439.73"
            ],
            "text/html": [
              "<pre>recommendations finished on 244000/407764 queries. users per second: 6439.73</pre>"
            ]
          },
          "metadata": {}
        },
        {
          "output_type": "display_data",
          "data": {
            "text/plain": [
              "recommendations finished on 245000/407764 queries. users per second: 6440.2"
            ],
            "text/html": [
              "<pre>recommendations finished on 245000/407764 queries. users per second: 6440.2</pre>"
            ]
          },
          "metadata": {}
        },
        {
          "output_type": "display_data",
          "data": {
            "text/plain": [
              "recommendations finished on 246000/407764 queries. users per second: 6440.69"
            ],
            "text/html": [
              "<pre>recommendations finished on 246000/407764 queries. users per second: 6440.69</pre>"
            ]
          },
          "metadata": {}
        },
        {
          "output_type": "display_data",
          "data": {
            "text/plain": [
              "recommendations finished on 247000/407764 queries. users per second: 6439.81"
            ],
            "text/html": [
              "<pre>recommendations finished on 247000/407764 queries. users per second: 6439.81</pre>"
            ]
          },
          "metadata": {}
        },
        {
          "output_type": "display_data",
          "data": {
            "text/plain": [
              "recommendations finished on 248000/407764 queries. users per second: 6440.26"
            ],
            "text/html": [
              "<pre>recommendations finished on 248000/407764 queries. users per second: 6440.26</pre>"
            ]
          },
          "metadata": {}
        },
        {
          "output_type": "display_data",
          "data": {
            "text/plain": [
              "recommendations finished on 249000/407764 queries. users per second: 6440.29"
            ],
            "text/html": [
              "<pre>recommendations finished on 249000/407764 queries. users per second: 6440.29</pre>"
            ]
          },
          "metadata": {}
        },
        {
          "output_type": "display_data",
          "data": {
            "text/plain": [
              "recommendations finished on 250000/407764 queries. users per second: 6440.91"
            ],
            "text/html": [
              "<pre>recommendations finished on 250000/407764 queries. users per second: 6440.91</pre>"
            ]
          },
          "metadata": {}
        },
        {
          "output_type": "display_data",
          "data": {
            "text/plain": [
              "recommendations finished on 251000/407764 queries. users per second: 6441.26"
            ],
            "text/html": [
              "<pre>recommendations finished on 251000/407764 queries. users per second: 6441.26</pre>"
            ]
          },
          "metadata": {}
        },
        {
          "output_type": "display_data",
          "data": {
            "text/plain": [
              "recommendations finished on 252000/407764 queries. users per second: 6441.55"
            ],
            "text/html": [
              "<pre>recommendations finished on 252000/407764 queries. users per second: 6441.55</pre>"
            ]
          },
          "metadata": {}
        },
        {
          "output_type": "display_data",
          "data": {
            "text/plain": [
              "recommendations finished on 253000/407764 queries. users per second: 6442.03"
            ],
            "text/html": [
              "<pre>recommendations finished on 253000/407764 queries. users per second: 6442.03</pre>"
            ]
          },
          "metadata": {}
        },
        {
          "output_type": "display_data",
          "data": {
            "text/plain": [
              "recommendations finished on 254000/407764 queries. users per second: 6440.26"
            ],
            "text/html": [
              "<pre>recommendations finished on 254000/407764 queries. users per second: 6440.26</pre>"
            ]
          },
          "metadata": {}
        },
        {
          "output_type": "display_data",
          "data": {
            "text/plain": [
              "recommendations finished on 255000/407764 queries. users per second: 6440.72"
            ],
            "text/html": [
              "<pre>recommendations finished on 255000/407764 queries. users per second: 6440.72</pre>"
            ]
          },
          "metadata": {}
        },
        {
          "output_type": "display_data",
          "data": {
            "text/plain": [
              "recommendations finished on 256000/407764 queries. users per second: 6441.1"
            ],
            "text/html": [
              "<pre>recommendations finished on 256000/407764 queries. users per second: 6441.1</pre>"
            ]
          },
          "metadata": {}
        },
        {
          "output_type": "display_data",
          "data": {
            "text/plain": [
              "recommendations finished on 257000/407764 queries. users per second: 6441.53"
            ],
            "text/html": [
              "<pre>recommendations finished on 257000/407764 queries. users per second: 6441.53</pre>"
            ]
          },
          "metadata": {}
        },
        {
          "output_type": "display_data",
          "data": {
            "text/plain": [
              "recommendations finished on 258000/407764 queries. users per second: 6442"
            ],
            "text/html": [
              "<pre>recommendations finished on 258000/407764 queries. users per second: 6442</pre>"
            ]
          },
          "metadata": {}
        },
        {
          "output_type": "display_data",
          "data": {
            "text/plain": [
              "recommendations finished on 259000/407764 queries. users per second: 6442.5"
            ],
            "text/html": [
              "<pre>recommendations finished on 259000/407764 queries. users per second: 6442.5</pre>"
            ]
          },
          "metadata": {}
        },
        {
          "output_type": "display_data",
          "data": {
            "text/plain": [
              "recommendations finished on 260000/407764 queries. users per second: 6441.42"
            ],
            "text/html": [
              "<pre>recommendations finished on 260000/407764 queries. users per second: 6441.42</pre>"
            ]
          },
          "metadata": {}
        },
        {
          "output_type": "display_data",
          "data": {
            "text/plain": [
              "recommendations finished on 261000/407764 queries. users per second: 6441.92"
            ],
            "text/html": [
              "<pre>recommendations finished on 261000/407764 queries. users per second: 6441.92</pre>"
            ]
          },
          "metadata": {}
        },
        {
          "output_type": "display_data",
          "data": {
            "text/plain": [
              "recommendations finished on 262000/407764 queries. users per second: 6442.3"
            ],
            "text/html": [
              "<pre>recommendations finished on 262000/407764 queries. users per second: 6442.3</pre>"
            ]
          },
          "metadata": {}
        },
        {
          "output_type": "display_data",
          "data": {
            "text/plain": [
              "recommendations finished on 263000/407764 queries. users per second: 6442.92"
            ],
            "text/html": [
              "<pre>recommendations finished on 263000/407764 queries. users per second: 6442.92</pre>"
            ]
          },
          "metadata": {}
        },
        {
          "output_type": "display_data",
          "data": {
            "text/plain": [
              "recommendations finished on 264000/407764 queries. users per second: 6442.38"
            ],
            "text/html": [
              "<pre>recommendations finished on 264000/407764 queries. users per second: 6442.38</pre>"
            ]
          },
          "metadata": {}
        },
        {
          "output_type": "display_data",
          "data": {
            "text/plain": [
              "recommendations finished on 265000/407764 queries. users per second: 6442.48"
            ],
            "text/html": [
              "<pre>recommendations finished on 265000/407764 queries. users per second: 6442.48</pre>"
            ]
          },
          "metadata": {}
        },
        {
          "output_type": "display_data",
          "data": {
            "text/plain": [
              "recommendations finished on 266000/407764 queries. users per second: 6442.8"
            ],
            "text/html": [
              "<pre>recommendations finished on 266000/407764 queries. users per second: 6442.8</pre>"
            ]
          },
          "metadata": {}
        },
        {
          "output_type": "display_data",
          "data": {
            "text/plain": [
              "recommendations finished on 267000/407764 queries. users per second: 6442.35"
            ],
            "text/html": [
              "<pre>recommendations finished on 267000/407764 queries. users per second: 6442.35</pre>"
            ]
          },
          "metadata": {}
        },
        {
          "output_type": "display_data",
          "data": {
            "text/plain": [
              "recommendations finished on 268000/407764 queries. users per second: 6442.21"
            ],
            "text/html": [
              "<pre>recommendations finished on 268000/407764 queries. users per second: 6442.21</pre>"
            ]
          },
          "metadata": {}
        },
        {
          "output_type": "display_data",
          "data": {
            "text/plain": [
              "recommendations finished on 269000/407764 queries. users per second: 6442.58"
            ],
            "text/html": [
              "<pre>recommendations finished on 269000/407764 queries. users per second: 6442.58</pre>"
            ]
          },
          "metadata": {}
        },
        {
          "output_type": "display_data",
          "data": {
            "text/plain": [
              "recommendations finished on 270000/407764 queries. users per second: 6443.12"
            ],
            "text/html": [
              "<pre>recommendations finished on 270000/407764 queries. users per second: 6443.12</pre>"
            ]
          },
          "metadata": {}
        },
        {
          "output_type": "display_data",
          "data": {
            "text/plain": [
              "recommendations finished on 271000/407764 queries. users per second: 6442.98"
            ],
            "text/html": [
              "<pre>recommendations finished on 271000/407764 queries. users per second: 6442.98</pre>"
            ]
          },
          "metadata": {}
        },
        {
          "output_type": "display_data",
          "data": {
            "text/plain": [
              "recommendations finished on 272000/407764 queries. users per second: 6443.01"
            ],
            "text/html": [
              "<pre>recommendations finished on 272000/407764 queries. users per second: 6443.01</pre>"
            ]
          },
          "metadata": {}
        },
        {
          "output_type": "display_data",
          "data": {
            "text/plain": [
              "recommendations finished on 273000/407764 queries. users per second: 6443.03"
            ],
            "text/html": [
              "<pre>recommendations finished on 273000/407764 queries. users per second: 6443.03</pre>"
            ]
          },
          "metadata": {}
        },
        {
          "output_type": "display_data",
          "data": {
            "text/plain": [
              "recommendations finished on 274000/407764 queries. users per second: 6442.33"
            ],
            "text/html": [
              "<pre>recommendations finished on 274000/407764 queries. users per second: 6442.33</pre>"
            ]
          },
          "metadata": {}
        },
        {
          "output_type": "display_data",
          "data": {
            "text/plain": [
              "recommendations finished on 275000/407764 queries. users per second: 6442.28"
            ],
            "text/html": [
              "<pre>recommendations finished on 275000/407764 queries. users per second: 6442.28</pre>"
            ]
          },
          "metadata": {}
        },
        {
          "output_type": "display_data",
          "data": {
            "text/plain": [
              "recommendations finished on 276000/407764 queries. users per second: 6442.66"
            ],
            "text/html": [
              "<pre>recommendations finished on 276000/407764 queries. users per second: 6442.66</pre>"
            ]
          },
          "metadata": {}
        },
        {
          "output_type": "display_data",
          "data": {
            "text/plain": [
              "recommendations finished on 277000/407764 queries. users per second: 6442.28"
            ],
            "text/html": [
              "<pre>recommendations finished on 277000/407764 queries. users per second: 6442.28</pre>"
            ]
          },
          "metadata": {}
        },
        {
          "output_type": "display_data",
          "data": {
            "text/plain": [
              "recommendations finished on 278000/407764 queries. users per second: 6442.15"
            ],
            "text/html": [
              "<pre>recommendations finished on 278000/407764 queries. users per second: 6442.15</pre>"
            ]
          },
          "metadata": {}
        },
        {
          "output_type": "display_data",
          "data": {
            "text/plain": [
              "recommendations finished on 279000/407764 queries. users per second: 6442.41"
            ],
            "text/html": [
              "<pre>recommendations finished on 279000/407764 queries. users per second: 6442.41</pre>"
            ]
          },
          "metadata": {}
        },
        {
          "output_type": "display_data",
          "data": {
            "text/plain": [
              "recommendations finished on 280000/407764 queries. users per second: 6441.7"
            ],
            "text/html": [
              "<pre>recommendations finished on 280000/407764 queries. users per second: 6441.7</pre>"
            ]
          },
          "metadata": {}
        },
        {
          "output_type": "display_data",
          "data": {
            "text/plain": [
              "recommendations finished on 281000/407764 queries. users per second: 6440.83"
            ],
            "text/html": [
              "<pre>recommendations finished on 281000/407764 queries. users per second: 6440.83</pre>"
            ]
          },
          "metadata": {}
        },
        {
          "output_type": "display_data",
          "data": {
            "text/plain": [
              "recommendations finished on 282000/407764 queries. users per second: 6441.11"
            ],
            "text/html": [
              "<pre>recommendations finished on 282000/407764 queries. users per second: 6441.11</pre>"
            ]
          },
          "metadata": {}
        },
        {
          "output_type": "display_data",
          "data": {
            "text/plain": [
              "recommendations finished on 283000/407764 queries. users per second: 6441"
            ],
            "text/html": [
              "<pre>recommendations finished on 283000/407764 queries. users per second: 6441</pre>"
            ]
          },
          "metadata": {}
        },
        {
          "output_type": "display_data",
          "data": {
            "text/plain": [
              "recommendations finished on 284000/407764 queries. users per second: 6440.92"
            ],
            "text/html": [
              "<pre>recommendations finished on 284000/407764 queries. users per second: 6440.92</pre>"
            ]
          },
          "metadata": {}
        },
        {
          "output_type": "display_data",
          "data": {
            "text/plain": [
              "recommendations finished on 285000/407764 queries. users per second: 6441.04"
            ],
            "text/html": [
              "<pre>recommendations finished on 285000/407764 queries. users per second: 6441.04</pre>"
            ]
          },
          "metadata": {}
        },
        {
          "output_type": "display_data",
          "data": {
            "text/plain": [
              "recommendations finished on 286000/407764 queries. users per second: 6440.97"
            ],
            "text/html": [
              "<pre>recommendations finished on 286000/407764 queries. users per second: 6440.97</pre>"
            ]
          },
          "metadata": {}
        },
        {
          "output_type": "display_data",
          "data": {
            "text/plain": [
              "recommendations finished on 287000/407764 queries. users per second: 6440.25"
            ],
            "text/html": [
              "<pre>recommendations finished on 287000/407764 queries. users per second: 6440.25</pre>"
            ]
          },
          "metadata": {}
        },
        {
          "output_type": "display_data",
          "data": {
            "text/plain": [
              "recommendations finished on 288000/407764 queries. users per second: 6440.15"
            ],
            "text/html": [
              "<pre>recommendations finished on 288000/407764 queries. users per second: 6440.15</pre>"
            ]
          },
          "metadata": {}
        },
        {
          "output_type": "display_data",
          "data": {
            "text/plain": [
              "recommendations finished on 289000/407764 queries. users per second: 6440.43"
            ],
            "text/html": [
              "<pre>recommendations finished on 289000/407764 queries. users per second: 6440.43</pre>"
            ]
          },
          "metadata": {}
        },
        {
          "output_type": "display_data",
          "data": {
            "text/plain": [
              "recommendations finished on 290000/407764 queries. users per second: 6440.72"
            ],
            "text/html": [
              "<pre>recommendations finished on 290000/407764 queries. users per second: 6440.72</pre>"
            ]
          },
          "metadata": {}
        },
        {
          "output_type": "display_data",
          "data": {
            "text/plain": [
              "recommendations finished on 291000/407764 queries. users per second: 6440.76"
            ],
            "text/html": [
              "<pre>recommendations finished on 291000/407764 queries. users per second: 6440.76</pre>"
            ]
          },
          "metadata": {}
        },
        {
          "output_type": "display_data",
          "data": {
            "text/plain": [
              "recommendations finished on 292000/407764 queries. users per second: 6440.77"
            ],
            "text/html": [
              "<pre>recommendations finished on 292000/407764 queries. users per second: 6440.77</pre>"
            ]
          },
          "metadata": {}
        },
        {
          "output_type": "display_data",
          "data": {
            "text/plain": [
              "recommendations finished on 293000/407764 queries. users per second: 6440.36"
            ],
            "text/html": [
              "<pre>recommendations finished on 293000/407764 queries. users per second: 6440.36</pre>"
            ]
          },
          "metadata": {}
        },
        {
          "output_type": "display_data",
          "data": {
            "text/plain": [
              "recommendations finished on 294000/407764 queries. users per second: 6440.22"
            ],
            "text/html": [
              "<pre>recommendations finished on 294000/407764 queries. users per second: 6440.22</pre>"
            ]
          },
          "metadata": {}
        },
        {
          "output_type": "display_data",
          "data": {
            "text/plain": [
              "recommendations finished on 295000/407764 queries. users per second: 6440.13"
            ],
            "text/html": [
              "<pre>recommendations finished on 295000/407764 queries. users per second: 6440.13</pre>"
            ]
          },
          "metadata": {}
        },
        {
          "output_type": "display_data",
          "data": {
            "text/plain": [
              "recommendations finished on 296000/407764 queries. users per second: 6437.68"
            ],
            "text/html": [
              "<pre>recommendations finished on 296000/407764 queries. users per second: 6437.68</pre>"
            ]
          },
          "metadata": {}
        },
        {
          "output_type": "display_data",
          "data": {
            "text/plain": [
              "recommendations finished on 297000/407764 queries. users per second: 6436.46"
            ],
            "text/html": [
              "<pre>recommendations finished on 297000/407764 queries. users per second: 6436.46</pre>"
            ]
          },
          "metadata": {}
        },
        {
          "output_type": "display_data",
          "data": {
            "text/plain": [
              "recommendations finished on 298000/407764 queries. users per second: 6435.2"
            ],
            "text/html": [
              "<pre>recommendations finished on 298000/407764 queries. users per second: 6435.2</pre>"
            ]
          },
          "metadata": {}
        },
        {
          "output_type": "display_data",
          "data": {
            "text/plain": [
              "recommendations finished on 299000/407764 queries. users per second: 6434.65"
            ],
            "text/html": [
              "<pre>recommendations finished on 299000/407764 queries. users per second: 6434.65</pre>"
            ]
          },
          "metadata": {}
        },
        {
          "output_type": "display_data",
          "data": {
            "text/plain": [
              "recommendations finished on 300000/407764 queries. users per second: 6433.28"
            ],
            "text/html": [
              "<pre>recommendations finished on 300000/407764 queries. users per second: 6433.28</pre>"
            ]
          },
          "metadata": {}
        },
        {
          "output_type": "display_data",
          "data": {
            "text/plain": [
              "recommendations finished on 301000/407764 queries. users per second: 6432.76"
            ],
            "text/html": [
              "<pre>recommendations finished on 301000/407764 queries. users per second: 6432.76</pre>"
            ]
          },
          "metadata": {}
        },
        {
          "output_type": "display_data",
          "data": {
            "text/plain": [
              "recommendations finished on 302000/407764 queries. users per second: 6431.12"
            ],
            "text/html": [
              "<pre>recommendations finished on 302000/407764 queries. users per second: 6431.12</pre>"
            ]
          },
          "metadata": {}
        },
        {
          "output_type": "display_data",
          "data": {
            "text/plain": [
              "recommendations finished on 303000/407764 queries. users per second: 6430.95"
            ],
            "text/html": [
              "<pre>recommendations finished on 303000/407764 queries. users per second: 6430.95</pre>"
            ]
          },
          "metadata": {}
        },
        {
          "output_type": "display_data",
          "data": {
            "text/plain": [
              "recommendations finished on 304000/407764 queries. users per second: 6430.87"
            ],
            "text/html": [
              "<pre>recommendations finished on 304000/407764 queries. users per second: 6430.87</pre>"
            ]
          },
          "metadata": {}
        },
        {
          "output_type": "display_data",
          "data": {
            "text/plain": [
              "recommendations finished on 305000/407764 queries. users per second: 6430.81"
            ],
            "text/html": [
              "<pre>recommendations finished on 305000/407764 queries. users per second: 6430.81</pre>"
            ]
          },
          "metadata": {}
        },
        {
          "output_type": "display_data",
          "data": {
            "text/plain": [
              "recommendations finished on 306000/407764 queries. users per second: 6427.25"
            ],
            "text/html": [
              "<pre>recommendations finished on 306000/407764 queries. users per second: 6427.25</pre>"
            ]
          },
          "metadata": {}
        },
        {
          "output_type": "display_data",
          "data": {
            "text/plain": [
              "recommendations finished on 307000/407764 queries. users per second: 6421.49"
            ],
            "text/html": [
              "<pre>recommendations finished on 307000/407764 queries. users per second: 6421.49</pre>"
            ]
          },
          "metadata": {}
        },
        {
          "output_type": "display_data",
          "data": {
            "text/plain": [
              "recommendations finished on 308000/407764 queries. users per second: 6419.02"
            ],
            "text/html": [
              "<pre>recommendations finished on 308000/407764 queries. users per second: 6419.02</pre>"
            ]
          },
          "metadata": {}
        },
        {
          "output_type": "display_data",
          "data": {
            "text/plain": [
              "recommendations finished on 309000/407764 queries. users per second: 6419.11"
            ],
            "text/html": [
              "<pre>recommendations finished on 309000/407764 queries. users per second: 6419.11</pre>"
            ]
          },
          "metadata": {}
        },
        {
          "output_type": "display_data",
          "data": {
            "text/plain": [
              "recommendations finished on 310000/407764 queries. users per second: 6419.42"
            ],
            "text/html": [
              "<pre>recommendations finished on 310000/407764 queries. users per second: 6419.42</pre>"
            ]
          },
          "metadata": {}
        },
        {
          "output_type": "display_data",
          "data": {
            "text/plain": [
              "recommendations finished on 311000/407764 queries. users per second: 6419.6"
            ],
            "text/html": [
              "<pre>recommendations finished on 311000/407764 queries. users per second: 6419.6</pre>"
            ]
          },
          "metadata": {}
        },
        {
          "output_type": "display_data",
          "data": {
            "text/plain": [
              "recommendations finished on 312000/407764 queries. users per second: 6419.23"
            ],
            "text/html": [
              "<pre>recommendations finished on 312000/407764 queries. users per second: 6419.23</pre>"
            ]
          },
          "metadata": {}
        },
        {
          "output_type": "display_data",
          "data": {
            "text/plain": [
              "recommendations finished on 313000/407764 queries. users per second: 6419.3"
            ],
            "text/html": [
              "<pre>recommendations finished on 313000/407764 queries. users per second: 6419.3</pre>"
            ]
          },
          "metadata": {}
        },
        {
          "output_type": "display_data",
          "data": {
            "text/plain": [
              "recommendations finished on 314000/407764 queries. users per second: 6419.44"
            ],
            "text/html": [
              "<pre>recommendations finished on 314000/407764 queries. users per second: 6419.44</pre>"
            ]
          },
          "metadata": {}
        },
        {
          "output_type": "display_data",
          "data": {
            "text/plain": [
              "recommendations finished on 315000/407764 queries. users per second: 6419.12"
            ],
            "text/html": [
              "<pre>recommendations finished on 315000/407764 queries. users per second: 6419.12</pre>"
            ]
          },
          "metadata": {}
        },
        {
          "output_type": "display_data",
          "data": {
            "text/plain": [
              "recommendations finished on 316000/407764 queries. users per second: 6419.32"
            ],
            "text/html": [
              "<pre>recommendations finished on 316000/407764 queries. users per second: 6419.32</pre>"
            ]
          },
          "metadata": {}
        },
        {
          "output_type": "display_data",
          "data": {
            "text/plain": [
              "recommendations finished on 317000/407764 queries. users per second: 6419"
            ],
            "text/html": [
              "<pre>recommendations finished on 317000/407764 queries. users per second: 6419</pre>"
            ]
          },
          "metadata": {}
        },
        {
          "output_type": "display_data",
          "data": {
            "text/plain": [
              "recommendations finished on 318000/407764 queries. users per second: 6419.11"
            ],
            "text/html": [
              "<pre>recommendations finished on 318000/407764 queries. users per second: 6419.11</pre>"
            ]
          },
          "metadata": {}
        },
        {
          "output_type": "display_data",
          "data": {
            "text/plain": [
              "recommendations finished on 319000/407764 queries. users per second: 6418.57"
            ],
            "text/html": [
              "<pre>recommendations finished on 319000/407764 queries. users per second: 6418.57</pre>"
            ]
          },
          "metadata": {}
        },
        {
          "output_type": "display_data",
          "data": {
            "text/plain": [
              "recommendations finished on 320000/407764 queries. users per second: 6418.91"
            ],
            "text/html": [
              "<pre>recommendations finished on 320000/407764 queries. users per second: 6418.91</pre>"
            ]
          },
          "metadata": {}
        },
        {
          "output_type": "display_data",
          "data": {
            "text/plain": [
              "recommendations finished on 321000/407764 queries. users per second: 6419.13"
            ],
            "text/html": [
              "<pre>recommendations finished on 321000/407764 queries. users per second: 6419.13</pre>"
            ]
          },
          "metadata": {}
        },
        {
          "output_type": "display_data",
          "data": {
            "text/plain": [
              "recommendations finished on 322000/407764 queries. users per second: 6419.18"
            ],
            "text/html": [
              "<pre>recommendations finished on 322000/407764 queries. users per second: 6419.18</pre>"
            ]
          },
          "metadata": {}
        },
        {
          "output_type": "display_data",
          "data": {
            "text/plain": [
              "recommendations finished on 323000/407764 queries. users per second: 6419.43"
            ],
            "text/html": [
              "<pre>recommendations finished on 323000/407764 queries. users per second: 6419.43</pre>"
            ]
          },
          "metadata": {}
        },
        {
          "output_type": "display_data",
          "data": {
            "text/plain": [
              "recommendations finished on 324000/407764 queries. users per second: 6419.17"
            ],
            "text/html": [
              "<pre>recommendations finished on 324000/407764 queries. users per second: 6419.17</pre>"
            ]
          },
          "metadata": {}
        },
        {
          "output_type": "display_data",
          "data": {
            "text/plain": [
              "recommendations finished on 325000/407764 queries. users per second: 6418.7"
            ],
            "text/html": [
              "<pre>recommendations finished on 325000/407764 queries. users per second: 6418.7</pre>"
            ]
          },
          "metadata": {}
        },
        {
          "output_type": "display_data",
          "data": {
            "text/plain": [
              "recommendations finished on 326000/407764 queries. users per second: 6418.63"
            ],
            "text/html": [
              "<pre>recommendations finished on 326000/407764 queries. users per second: 6418.63</pre>"
            ]
          },
          "metadata": {}
        },
        {
          "output_type": "display_data",
          "data": {
            "text/plain": [
              "recommendations finished on 327000/407764 queries. users per second: 6418.68"
            ],
            "text/html": [
              "<pre>recommendations finished on 327000/407764 queries. users per second: 6418.68</pre>"
            ]
          },
          "metadata": {}
        },
        {
          "output_type": "display_data",
          "data": {
            "text/plain": [
              "recommendations finished on 328000/407764 queries. users per second: 6418.41"
            ],
            "text/html": [
              "<pre>recommendations finished on 328000/407764 queries. users per second: 6418.41</pre>"
            ]
          },
          "metadata": {}
        },
        {
          "output_type": "display_data",
          "data": {
            "text/plain": [
              "recommendations finished on 329000/407764 queries. users per second: 6417.79"
            ],
            "text/html": [
              "<pre>recommendations finished on 329000/407764 queries. users per second: 6417.79</pre>"
            ]
          },
          "metadata": {}
        },
        {
          "output_type": "display_data",
          "data": {
            "text/plain": [
              "recommendations finished on 330000/407764 queries. users per second: 6417.73"
            ],
            "text/html": [
              "<pre>recommendations finished on 330000/407764 queries. users per second: 6417.73</pre>"
            ]
          },
          "metadata": {}
        },
        {
          "output_type": "display_data",
          "data": {
            "text/plain": [
              "recommendations finished on 331000/407764 queries. users per second: 6418"
            ],
            "text/html": [
              "<pre>recommendations finished on 331000/407764 queries. users per second: 6418</pre>"
            ]
          },
          "metadata": {}
        },
        {
          "output_type": "display_data",
          "data": {
            "text/plain": [
              "recommendations finished on 332000/407764 queries. users per second: 6417.4"
            ],
            "text/html": [
              "<pre>recommendations finished on 332000/407764 queries. users per second: 6417.4</pre>"
            ]
          },
          "metadata": {}
        },
        {
          "output_type": "display_data",
          "data": {
            "text/plain": [
              "recommendations finished on 333000/407764 queries. users per second: 6417.78"
            ],
            "text/html": [
              "<pre>recommendations finished on 333000/407764 queries. users per second: 6417.78</pre>"
            ]
          },
          "metadata": {}
        },
        {
          "output_type": "display_data",
          "data": {
            "text/plain": [
              "recommendations finished on 334000/407764 queries. users per second: 6417.93"
            ],
            "text/html": [
              "<pre>recommendations finished on 334000/407764 queries. users per second: 6417.93</pre>"
            ]
          },
          "metadata": {}
        },
        {
          "output_type": "display_data",
          "data": {
            "text/plain": [
              "recommendations finished on 335000/407764 queries. users per second: 6417.77"
            ],
            "text/html": [
              "<pre>recommendations finished on 335000/407764 queries. users per second: 6417.77</pre>"
            ]
          },
          "metadata": {}
        },
        {
          "output_type": "display_data",
          "data": {
            "text/plain": [
              "recommendations finished on 336000/407764 queries. users per second: 6417.93"
            ],
            "text/html": [
              "<pre>recommendations finished on 336000/407764 queries. users per second: 6417.93</pre>"
            ]
          },
          "metadata": {}
        },
        {
          "output_type": "display_data",
          "data": {
            "text/plain": [
              "recommendations finished on 337000/407764 queries. users per second: 6418.19"
            ],
            "text/html": [
              "<pre>recommendations finished on 337000/407764 queries. users per second: 6418.19</pre>"
            ]
          },
          "metadata": {}
        },
        {
          "output_type": "display_data",
          "data": {
            "text/plain": [
              "recommendations finished on 338000/407764 queries. users per second: 6418.2"
            ],
            "text/html": [
              "<pre>recommendations finished on 338000/407764 queries. users per second: 6418.2</pre>"
            ]
          },
          "metadata": {}
        },
        {
          "output_type": "display_data",
          "data": {
            "text/plain": [
              "recommendations finished on 339000/407764 queries. users per second: 6417.86"
            ],
            "text/html": [
              "<pre>recommendations finished on 339000/407764 queries. users per second: 6417.86</pre>"
            ]
          },
          "metadata": {}
        },
        {
          "output_type": "display_data",
          "data": {
            "text/plain": [
              "recommendations finished on 340000/407764 queries. users per second: 6417.21"
            ],
            "text/html": [
              "<pre>recommendations finished on 340000/407764 queries. users per second: 6417.21</pre>"
            ]
          },
          "metadata": {}
        },
        {
          "output_type": "display_data",
          "data": {
            "text/plain": [
              "recommendations finished on 341000/407764 queries. users per second: 6417.01"
            ],
            "text/html": [
              "<pre>recommendations finished on 341000/407764 queries. users per second: 6417.01</pre>"
            ]
          },
          "metadata": {}
        },
        {
          "output_type": "display_data",
          "data": {
            "text/plain": [
              "recommendations finished on 342000/407764 queries. users per second: 6417.2"
            ],
            "text/html": [
              "<pre>recommendations finished on 342000/407764 queries. users per second: 6417.2</pre>"
            ]
          },
          "metadata": {}
        },
        {
          "output_type": "display_data",
          "data": {
            "text/plain": [
              "recommendations finished on 343000/407764 queries. users per second: 6417.54"
            ],
            "text/html": [
              "<pre>recommendations finished on 343000/407764 queries. users per second: 6417.54</pre>"
            ]
          },
          "metadata": {}
        },
        {
          "output_type": "display_data",
          "data": {
            "text/plain": [
              "recommendations finished on 344000/407764 queries. users per second: 6417.42"
            ],
            "text/html": [
              "<pre>recommendations finished on 344000/407764 queries. users per second: 6417.42</pre>"
            ]
          },
          "metadata": {}
        },
        {
          "output_type": "display_data",
          "data": {
            "text/plain": [
              "recommendations finished on 345000/407764 queries. users per second: 6416.55"
            ],
            "text/html": [
              "<pre>recommendations finished on 345000/407764 queries. users per second: 6416.55</pre>"
            ]
          },
          "metadata": {}
        },
        {
          "output_type": "display_data",
          "data": {
            "text/plain": [
              "recommendations finished on 346000/407764 queries. users per second: 6416.86"
            ],
            "text/html": [
              "<pre>recommendations finished on 346000/407764 queries. users per second: 6416.86</pre>"
            ]
          },
          "metadata": {}
        },
        {
          "output_type": "display_data",
          "data": {
            "text/plain": [
              "recommendations finished on 347000/407764 queries. users per second: 6416.21"
            ],
            "text/html": [
              "<pre>recommendations finished on 347000/407764 queries. users per second: 6416.21</pre>"
            ]
          },
          "metadata": {}
        },
        {
          "output_type": "display_data",
          "data": {
            "text/plain": [
              "recommendations finished on 348000/407764 queries. users per second: 6415.5"
            ],
            "text/html": [
              "<pre>recommendations finished on 348000/407764 queries. users per second: 6415.5</pre>"
            ]
          },
          "metadata": {}
        },
        {
          "output_type": "display_data",
          "data": {
            "text/plain": [
              "recommendations finished on 349000/407764 queries. users per second: 6415.08"
            ],
            "text/html": [
              "<pre>recommendations finished on 349000/407764 queries. users per second: 6415.08</pre>"
            ]
          },
          "metadata": {}
        },
        {
          "output_type": "display_data",
          "data": {
            "text/plain": [
              "recommendations finished on 350000/407764 queries. users per second: 6414.38"
            ],
            "text/html": [
              "<pre>recommendations finished on 350000/407764 queries. users per second: 6414.38</pre>"
            ]
          },
          "metadata": {}
        },
        {
          "output_type": "display_data",
          "data": {
            "text/plain": [
              "recommendations finished on 351000/407764 queries. users per second: 6414.4"
            ],
            "text/html": [
              "<pre>recommendations finished on 351000/407764 queries. users per second: 6414.4</pre>"
            ]
          },
          "metadata": {}
        },
        {
          "output_type": "display_data",
          "data": {
            "text/plain": [
              "recommendations finished on 352000/407764 queries. users per second: 6413.81"
            ],
            "text/html": [
              "<pre>recommendations finished on 352000/407764 queries. users per second: 6413.81</pre>"
            ]
          },
          "metadata": {}
        },
        {
          "output_type": "display_data",
          "data": {
            "text/plain": [
              "recommendations finished on 353000/407764 queries. users per second: 6414.19"
            ],
            "text/html": [
              "<pre>recommendations finished on 353000/407764 queries. users per second: 6414.19</pre>"
            ]
          },
          "metadata": {}
        },
        {
          "output_type": "display_data",
          "data": {
            "text/plain": [
              "recommendations finished on 354000/407764 queries. users per second: 6414.45"
            ],
            "text/html": [
              "<pre>recommendations finished on 354000/407764 queries. users per second: 6414.45</pre>"
            ]
          },
          "metadata": {}
        },
        {
          "output_type": "display_data",
          "data": {
            "text/plain": [
              "recommendations finished on 355000/407764 queries. users per second: 6414.78"
            ],
            "text/html": [
              "<pre>recommendations finished on 355000/407764 queries. users per second: 6414.78</pre>"
            ]
          },
          "metadata": {}
        },
        {
          "output_type": "display_data",
          "data": {
            "text/plain": [
              "recommendations finished on 356000/407764 queries. users per second: 6414.7"
            ],
            "text/html": [
              "<pre>recommendations finished on 356000/407764 queries. users per second: 6414.7</pre>"
            ]
          },
          "metadata": {}
        },
        {
          "output_type": "display_data",
          "data": {
            "text/plain": [
              "recommendations finished on 357000/407764 queries. users per second: 6415.18"
            ],
            "text/html": [
              "<pre>recommendations finished on 357000/407764 queries. users per second: 6415.18</pre>"
            ]
          },
          "metadata": {}
        },
        {
          "output_type": "display_data",
          "data": {
            "text/plain": [
              "recommendations finished on 358000/407764 queries. users per second: 6415.24"
            ],
            "text/html": [
              "<pre>recommendations finished on 358000/407764 queries. users per second: 6415.24</pre>"
            ]
          },
          "metadata": {}
        },
        {
          "output_type": "display_data",
          "data": {
            "text/plain": [
              "recommendations finished on 359000/407764 queries. users per second: 6415.22"
            ],
            "text/html": [
              "<pre>recommendations finished on 359000/407764 queries. users per second: 6415.22</pre>"
            ]
          },
          "metadata": {}
        },
        {
          "output_type": "display_data",
          "data": {
            "text/plain": [
              "recommendations finished on 360000/407764 queries. users per second: 6415.54"
            ],
            "text/html": [
              "<pre>recommendations finished on 360000/407764 queries. users per second: 6415.54</pre>"
            ]
          },
          "metadata": {}
        },
        {
          "output_type": "display_data",
          "data": {
            "text/plain": [
              "recommendations finished on 361000/407764 queries. users per second: 6415.76"
            ],
            "text/html": [
              "<pre>recommendations finished on 361000/407764 queries. users per second: 6415.76</pre>"
            ]
          },
          "metadata": {}
        },
        {
          "output_type": "display_data",
          "data": {
            "text/plain": [
              "recommendations finished on 362000/407764 queries. users per second: 6416.11"
            ],
            "text/html": [
              "<pre>recommendations finished on 362000/407764 queries. users per second: 6416.11</pre>"
            ]
          },
          "metadata": {}
        },
        {
          "output_type": "display_data",
          "data": {
            "text/plain": [
              "recommendations finished on 363000/407764 queries. users per second: 6416.15"
            ],
            "text/html": [
              "<pre>recommendations finished on 363000/407764 queries. users per second: 6416.15</pre>"
            ]
          },
          "metadata": {}
        },
        {
          "output_type": "display_data",
          "data": {
            "text/plain": [
              "recommendations finished on 364000/407764 queries. users per second: 6416.57"
            ],
            "text/html": [
              "<pre>recommendations finished on 364000/407764 queries. users per second: 6416.57</pre>"
            ]
          },
          "metadata": {}
        },
        {
          "output_type": "display_data",
          "data": {
            "text/plain": [
              "recommendations finished on 365000/407764 queries. users per second: 6416.5"
            ],
            "text/html": [
              "<pre>recommendations finished on 365000/407764 queries. users per second: 6416.5</pre>"
            ]
          },
          "metadata": {}
        },
        {
          "output_type": "display_data",
          "data": {
            "text/plain": [
              "recommendations finished on 366000/407764 queries. users per second: 6416.53"
            ],
            "text/html": [
              "<pre>recommendations finished on 366000/407764 queries. users per second: 6416.53</pre>"
            ]
          },
          "metadata": {}
        },
        {
          "output_type": "display_data",
          "data": {
            "text/plain": [
              "recommendations finished on 367000/407764 queries. users per second: 6416.77"
            ],
            "text/html": [
              "<pre>recommendations finished on 367000/407764 queries. users per second: 6416.77</pre>"
            ]
          },
          "metadata": {}
        },
        {
          "output_type": "display_data",
          "data": {
            "text/plain": [
              "recommendations finished on 368000/407764 queries. users per second: 6417.01"
            ],
            "text/html": [
              "<pre>recommendations finished on 368000/407764 queries. users per second: 6417.01</pre>"
            ]
          },
          "metadata": {}
        },
        {
          "output_type": "display_data",
          "data": {
            "text/plain": [
              "recommendations finished on 369000/407764 queries. users per second: 6416.9"
            ],
            "text/html": [
              "<pre>recommendations finished on 369000/407764 queries. users per second: 6416.9</pre>"
            ]
          },
          "metadata": {}
        },
        {
          "output_type": "display_data",
          "data": {
            "text/plain": [
              "recommendations finished on 370000/407764 queries. users per second: 6416.98"
            ],
            "text/html": [
              "<pre>recommendations finished on 370000/407764 queries. users per second: 6416.98</pre>"
            ]
          },
          "metadata": {}
        },
        {
          "output_type": "display_data",
          "data": {
            "text/plain": [
              "recommendations finished on 371000/407764 queries. users per second: 6416.94"
            ],
            "text/html": [
              "<pre>recommendations finished on 371000/407764 queries. users per second: 6416.94</pre>"
            ]
          },
          "metadata": {}
        },
        {
          "output_type": "display_data",
          "data": {
            "text/plain": [
              "recommendations finished on 372000/407764 queries. users per second: 6417.1"
            ],
            "text/html": [
              "<pre>recommendations finished on 372000/407764 queries. users per second: 6417.1</pre>"
            ]
          },
          "metadata": {}
        },
        {
          "output_type": "display_data",
          "data": {
            "text/plain": [
              "recommendations finished on 373000/407764 queries. users per second: 6417.35"
            ],
            "text/html": [
              "<pre>recommendations finished on 373000/407764 queries. users per second: 6417.35</pre>"
            ]
          },
          "metadata": {}
        },
        {
          "output_type": "display_data",
          "data": {
            "text/plain": [
              "recommendations finished on 374000/407764 queries. users per second: 6417.24"
            ],
            "text/html": [
              "<pre>recommendations finished on 374000/407764 queries. users per second: 6417.24</pre>"
            ]
          },
          "metadata": {}
        },
        {
          "output_type": "display_data",
          "data": {
            "text/plain": [
              "recommendations finished on 375000/407764 queries. users per second: 6417.43"
            ],
            "text/html": [
              "<pre>recommendations finished on 375000/407764 queries. users per second: 6417.43</pre>"
            ]
          },
          "metadata": {}
        },
        {
          "output_type": "display_data",
          "data": {
            "text/plain": [
              "recommendations finished on 376000/407764 queries. users per second: 6417.87"
            ],
            "text/html": [
              "<pre>recommendations finished on 376000/407764 queries. users per second: 6417.87</pre>"
            ]
          },
          "metadata": {}
        },
        {
          "output_type": "display_data",
          "data": {
            "text/plain": [
              "recommendations finished on 377000/407764 queries. users per second: 6417.77"
            ],
            "text/html": [
              "<pre>recommendations finished on 377000/407764 queries. users per second: 6417.77</pre>"
            ]
          },
          "metadata": {}
        },
        {
          "output_type": "display_data",
          "data": {
            "text/plain": [
              "recommendations finished on 378000/407764 queries. users per second: 6417.49"
            ],
            "text/html": [
              "<pre>recommendations finished on 378000/407764 queries. users per second: 6417.49</pre>"
            ]
          },
          "metadata": {}
        },
        {
          "output_type": "display_data",
          "data": {
            "text/plain": [
              "recommendations finished on 379000/407764 queries. users per second: 6417.89"
            ],
            "text/html": [
              "<pre>recommendations finished on 379000/407764 queries. users per second: 6417.89</pre>"
            ]
          },
          "metadata": {}
        },
        {
          "output_type": "display_data",
          "data": {
            "text/plain": [
              "recommendations finished on 380000/407764 queries. users per second: 6414.79"
            ],
            "text/html": [
              "<pre>recommendations finished on 380000/407764 queries. users per second: 6414.79</pre>"
            ]
          },
          "metadata": {}
        },
        {
          "output_type": "display_data",
          "data": {
            "text/plain": [
              "recommendations finished on 381000/407764 queries. users per second: 6410.37"
            ],
            "text/html": [
              "<pre>recommendations finished on 381000/407764 queries. users per second: 6410.37</pre>"
            ]
          },
          "metadata": {}
        },
        {
          "output_type": "display_data",
          "data": {
            "text/plain": [
              "recommendations finished on 382000/407764 queries. users per second: 6405.97"
            ],
            "text/html": [
              "<pre>recommendations finished on 382000/407764 queries. users per second: 6405.97</pre>"
            ]
          },
          "metadata": {}
        },
        {
          "output_type": "display_data",
          "data": {
            "text/plain": [
              "recommendations finished on 383000/407764 queries. users per second: 6401.67"
            ],
            "text/html": [
              "<pre>recommendations finished on 383000/407764 queries. users per second: 6401.67</pre>"
            ]
          },
          "metadata": {}
        },
        {
          "output_type": "display_data",
          "data": {
            "text/plain": [
              "recommendations finished on 384000/407764 queries. users per second: 6400.23"
            ],
            "text/html": [
              "<pre>recommendations finished on 384000/407764 queries. users per second: 6400.23</pre>"
            ]
          },
          "metadata": {}
        },
        {
          "output_type": "display_data",
          "data": {
            "text/plain": [
              "recommendations finished on 385000/407764 queries. users per second: 6400.63"
            ],
            "text/html": [
              "<pre>recommendations finished on 385000/407764 queries. users per second: 6400.63</pre>"
            ]
          },
          "metadata": {}
        },
        {
          "output_type": "display_data",
          "data": {
            "text/plain": [
              "recommendations finished on 386000/407764 queries. users per second: 6400.79"
            ],
            "text/html": [
              "<pre>recommendations finished on 386000/407764 queries. users per second: 6400.79</pre>"
            ]
          },
          "metadata": {}
        },
        {
          "output_type": "display_data",
          "data": {
            "text/plain": [
              "recommendations finished on 387000/407764 queries. users per second: 6400.52"
            ],
            "text/html": [
              "<pre>recommendations finished on 387000/407764 queries. users per second: 6400.52</pre>"
            ]
          },
          "metadata": {}
        },
        {
          "output_type": "display_data",
          "data": {
            "text/plain": [
              "recommendations finished on 388000/407764 queries. users per second: 6400.72"
            ],
            "text/html": [
              "<pre>recommendations finished on 388000/407764 queries. users per second: 6400.72</pre>"
            ]
          },
          "metadata": {}
        },
        {
          "output_type": "display_data",
          "data": {
            "text/plain": [
              "recommendations finished on 389000/407764 queries. users per second: 6401.16"
            ],
            "text/html": [
              "<pre>recommendations finished on 389000/407764 queries. users per second: 6401.16</pre>"
            ]
          },
          "metadata": {}
        },
        {
          "output_type": "display_data",
          "data": {
            "text/plain": [
              "recommendations finished on 390000/407764 queries. users per second: 6401.13"
            ],
            "text/html": [
              "<pre>recommendations finished on 390000/407764 queries. users per second: 6401.13</pre>"
            ]
          },
          "metadata": {}
        },
        {
          "output_type": "display_data",
          "data": {
            "text/plain": [
              "recommendations finished on 391000/407764 queries. users per second: 6401.37"
            ],
            "text/html": [
              "<pre>recommendations finished on 391000/407764 queries. users per second: 6401.37</pre>"
            ]
          },
          "metadata": {}
        },
        {
          "output_type": "display_data",
          "data": {
            "text/plain": [
              "recommendations finished on 392000/407764 queries. users per second: 6401.43"
            ],
            "text/html": [
              "<pre>recommendations finished on 392000/407764 queries. users per second: 6401.43</pre>"
            ]
          },
          "metadata": {}
        },
        {
          "output_type": "display_data",
          "data": {
            "text/plain": [
              "recommendations finished on 393000/407764 queries. users per second: 6401.64"
            ],
            "text/html": [
              "<pre>recommendations finished on 393000/407764 queries. users per second: 6401.64</pre>"
            ]
          },
          "metadata": {}
        },
        {
          "output_type": "display_data",
          "data": {
            "text/plain": [
              "recommendations finished on 394000/407764 queries. users per second: 6401.96"
            ],
            "text/html": [
              "<pre>recommendations finished on 394000/407764 queries. users per second: 6401.96</pre>"
            ]
          },
          "metadata": {}
        },
        {
          "output_type": "display_data",
          "data": {
            "text/plain": [
              "recommendations finished on 395000/407764 queries. users per second: 6402.35"
            ],
            "text/html": [
              "<pre>recommendations finished on 395000/407764 queries. users per second: 6402.35</pre>"
            ]
          },
          "metadata": {}
        },
        {
          "output_type": "display_data",
          "data": {
            "text/plain": [
              "recommendations finished on 396000/407764 queries. users per second: 6402.55"
            ],
            "text/html": [
              "<pre>recommendations finished on 396000/407764 queries. users per second: 6402.55</pre>"
            ]
          },
          "metadata": {}
        },
        {
          "output_type": "display_data",
          "data": {
            "text/plain": [
              "recommendations finished on 397000/407764 queries. users per second: 6401.15"
            ],
            "text/html": [
              "<pre>recommendations finished on 397000/407764 queries. users per second: 6401.15</pre>"
            ]
          },
          "metadata": {}
        },
        {
          "output_type": "display_data",
          "data": {
            "text/plain": [
              "recommendations finished on 398000/407764 queries. users per second: 6398.1"
            ],
            "text/html": [
              "<pre>recommendations finished on 398000/407764 queries. users per second: 6398.1</pre>"
            ]
          },
          "metadata": {}
        },
        {
          "output_type": "display_data",
          "data": {
            "text/plain": [
              "recommendations finished on 399000/407764 queries. users per second: 6397.06"
            ],
            "text/html": [
              "<pre>recommendations finished on 399000/407764 queries. users per second: 6397.06</pre>"
            ]
          },
          "metadata": {}
        },
        {
          "output_type": "display_data",
          "data": {
            "text/plain": [
              "recommendations finished on 400000/407764 queries. users per second: 6397.37"
            ],
            "text/html": [
              "<pre>recommendations finished on 400000/407764 queries. users per second: 6397.37</pre>"
            ]
          },
          "metadata": {}
        },
        {
          "output_type": "display_data",
          "data": {
            "text/plain": [
              "recommendations finished on 401000/407764 queries. users per second: 6397.72"
            ],
            "text/html": [
              "<pre>recommendations finished on 401000/407764 queries. users per second: 6397.72</pre>"
            ]
          },
          "metadata": {}
        },
        {
          "output_type": "display_data",
          "data": {
            "text/plain": [
              "recommendations finished on 402000/407764 queries. users per second: 6397.77"
            ],
            "text/html": [
              "<pre>recommendations finished on 402000/407764 queries. users per second: 6397.77</pre>"
            ]
          },
          "metadata": {}
        },
        {
          "output_type": "display_data",
          "data": {
            "text/plain": [
              "recommendations finished on 403000/407764 queries. users per second: 6397.76"
            ],
            "text/html": [
              "<pre>recommendations finished on 403000/407764 queries. users per second: 6397.76</pre>"
            ]
          },
          "metadata": {}
        },
        {
          "output_type": "display_data",
          "data": {
            "text/plain": [
              "recommendations finished on 404000/407764 queries. users per second: 6397.94"
            ],
            "text/html": [
              "<pre>recommendations finished on 404000/407764 queries. users per second: 6397.94</pre>"
            ]
          },
          "metadata": {}
        },
        {
          "output_type": "display_data",
          "data": {
            "text/plain": [
              "recommendations finished on 405000/407764 queries. users per second: 6398.01"
            ],
            "text/html": [
              "<pre>recommendations finished on 405000/407764 queries. users per second: 6398.01</pre>"
            ]
          },
          "metadata": {}
        },
        {
          "output_type": "display_data",
          "data": {
            "text/plain": [
              "recommendations finished on 406000/407764 queries. users per second: 6397.84"
            ],
            "text/html": [
              "<pre>recommendations finished on 406000/407764 queries. users per second: 6397.84</pre>"
            ]
          },
          "metadata": {}
        },
        {
          "output_type": "display_data",
          "data": {
            "text/plain": [
              "recommendations finished on 407000/407764 queries. users per second: 6397.06"
            ],
            "text/html": [
              "<pre>recommendations finished on 407000/407764 queries. users per second: 6397.06</pre>"
            ]
          },
          "metadata": {}
        }
      ],
      "source": [
        "jaccard = tc.item_similarity_recommender.create(dfS_train, \n",
        "                                              user_id='customer_id', \n",
        "                                              item_id='article_id',\n",
        "                                              similarity_type='jaccard')\n",
        "# recommend k products for a list of users (None corresponds to all users) \n",
        "recommendation_jac = jaccard.recommend(users=None, k=N_CF_ITEMS)"
      ]
    },
    {
      "cell_type": "code",
      "execution_count": null,
      "metadata": {
        "colab": {
          "base_uri": "https://localhost:8080/"
        },
        "id": "nV-ovTs1X5G_",
        "outputId": "8b1d8d05-143c-405d-f478-5f238b840220"
      },
      "outputs": [
        {
          "output_type": "stream",
          "name": "stdout",
          "text": [
            "+-------------+------------+----------------------+------+\n",
            "| customer_id | article_id |        score         | rank |\n",
            "+-------------+------------+----------------------+------+\n",
            "|      0      |    1920    | 0.15151512622833252  |  1   |\n",
            "|      0      |    2250    | 0.01571708917617798  |  2   |\n",
            "|      0      |   25808    | 0.015126049518585205 |  3   |\n",
            "|      0      |   26708    | 0.015009403228759766 |  4   |\n",
            "|      0      |    613     | 0.01360541582107544  |  5   |\n",
            "|      0      |    845     | 0.012396693229675293 |  6   |\n",
            "|      0      |   16736    | 0.012254893779754639 |  7   |\n",
            "|      0      |    6239    | 0.012096762657165527 |  8   |\n",
            "|      0      |   17289    | 0.011627912521362305 |  9   |\n",
            "|      0      |   26694    | 0.011142075061798096 |  10  |\n",
            "|      0      |    1209    | 0.011009156703948975 |  11  |\n",
            "|      0      |   25684    | 0.010856449604034424 |  12  |\n",
            "|      0      |   18995    | 0.010416686534881592 |  13  |\n",
            "|      0      |    934     | 0.010330557823181152 |  14  |\n",
            "|      0      |    409     | 0.010169506072998047 |  15  |\n",
            "|      0      |    166     | 0.010130226612091064 |  16  |\n",
            "|      0      |    157     | 0.010060369968414307 |  17  |\n",
            "|      0      |   28807    | 0.009890139102935791 |  18  |\n",
            "|      0      |   25370    | 0.009772002696990967 |  19  |\n",
            "|      0      |    3489    | 0.009732365608215332 |  20  |\n",
            "+-------------+------------+----------------------+------+\n",
            "[40776400 rows x 4 columns]\n",
            "\n"
          ]
        }
      ],
      "source": [
        "# print the n first recommendations\n",
        "recommendation_jac.print_rows(20)"
      ]
    },
    {
      "cell_type": "code",
      "execution_count": null,
      "metadata": {
        "id": "Ls2hZArrY5-a",
        "colab": {
          "base_uri": "https://localhost:8080/",
          "height": 1000
        },
        "outputId": "2b06e225-c316-4020-b03a-9507e7480f02"
      },
      "outputs": [
        {
          "output_type": "display_data",
          "data": {
            "text/plain": [
              "recommendations finished on 1000/68984 queries. users per second: 4535.21"
            ],
            "text/html": [
              "<pre>recommendations finished on 1000/68984 queries. users per second: 4535.21</pre>"
            ]
          },
          "metadata": {}
        },
        {
          "output_type": "display_data",
          "data": {
            "text/plain": [
              "recommendations finished on 2000/68984 queries. users per second: 4602.11"
            ],
            "text/html": [
              "<pre>recommendations finished on 2000/68984 queries. users per second: 4602.11</pre>"
            ]
          },
          "metadata": {}
        },
        {
          "output_type": "display_data",
          "data": {
            "text/plain": [
              "recommendations finished on 3000/68984 queries. users per second: 4609.93"
            ],
            "text/html": [
              "<pre>recommendations finished on 3000/68984 queries. users per second: 4609.93</pre>"
            ]
          },
          "metadata": {}
        },
        {
          "output_type": "display_data",
          "data": {
            "text/plain": [
              "recommendations finished on 4000/68984 queries. users per second: 4637.04"
            ],
            "text/html": [
              "<pre>recommendations finished on 4000/68984 queries. users per second: 4637.04</pre>"
            ]
          },
          "metadata": {}
        },
        {
          "output_type": "display_data",
          "data": {
            "text/plain": [
              "recommendations finished on 5000/68984 queries. users per second: 4617.84"
            ],
            "text/html": [
              "<pre>recommendations finished on 5000/68984 queries. users per second: 4617.84</pre>"
            ]
          },
          "metadata": {}
        },
        {
          "output_type": "display_data",
          "data": {
            "text/plain": [
              "recommendations finished on 6000/68984 queries. users per second: 4592.73"
            ],
            "text/html": [
              "<pre>recommendations finished on 6000/68984 queries. users per second: 4592.73</pre>"
            ]
          },
          "metadata": {}
        },
        {
          "output_type": "display_data",
          "data": {
            "text/plain": [
              "recommendations finished on 7000/68984 queries. users per second: 4606.78"
            ],
            "text/html": [
              "<pre>recommendations finished on 7000/68984 queries. users per second: 4606.78</pre>"
            ]
          },
          "metadata": {}
        },
        {
          "output_type": "display_data",
          "data": {
            "text/plain": [
              "recommendations finished on 8000/68984 queries. users per second: 4631.51"
            ],
            "text/html": [
              "<pre>recommendations finished on 8000/68984 queries. users per second: 4631.51</pre>"
            ]
          },
          "metadata": {}
        },
        {
          "output_type": "display_data",
          "data": {
            "text/plain": [
              "recommendations finished on 9000/68984 queries. users per second: 4633.6"
            ],
            "text/html": [
              "<pre>recommendations finished on 9000/68984 queries. users per second: 4633.6</pre>"
            ]
          },
          "metadata": {}
        },
        {
          "output_type": "display_data",
          "data": {
            "text/plain": [
              "recommendations finished on 10000/68984 queries. users per second: 4623.41"
            ],
            "text/html": [
              "<pre>recommendations finished on 10000/68984 queries. users per second: 4623.41</pre>"
            ]
          },
          "metadata": {}
        },
        {
          "output_type": "display_data",
          "data": {
            "text/plain": [
              "recommendations finished on 11000/68984 queries. users per second: 4627.72"
            ],
            "text/html": [
              "<pre>recommendations finished on 11000/68984 queries. users per second: 4627.72</pre>"
            ]
          },
          "metadata": {}
        },
        {
          "output_type": "display_data",
          "data": {
            "text/plain": [
              "recommendations finished on 12000/68984 queries. users per second: 4599.99"
            ],
            "text/html": [
              "<pre>recommendations finished on 12000/68984 queries. users per second: 4599.99</pre>"
            ]
          },
          "metadata": {}
        },
        {
          "output_type": "display_data",
          "data": {
            "text/plain": [
              "recommendations finished on 13000/68984 queries. users per second: 4607.52"
            ],
            "text/html": [
              "<pre>recommendations finished on 13000/68984 queries. users per second: 4607.52</pre>"
            ]
          },
          "metadata": {}
        },
        {
          "output_type": "display_data",
          "data": {
            "text/plain": [
              "recommendations finished on 14000/68984 queries. users per second: 4618.19"
            ],
            "text/html": [
              "<pre>recommendations finished on 14000/68984 queries. users per second: 4618.19</pre>"
            ]
          },
          "metadata": {}
        },
        {
          "output_type": "display_data",
          "data": {
            "text/plain": [
              "recommendations finished on 15000/68984 queries. users per second: 4613.75"
            ],
            "text/html": [
              "<pre>recommendations finished on 15000/68984 queries. users per second: 4613.75</pre>"
            ]
          },
          "metadata": {}
        },
        {
          "output_type": "display_data",
          "data": {
            "text/plain": [
              "recommendations finished on 16000/68984 queries. users per second: 4616.55"
            ],
            "text/html": [
              "<pre>recommendations finished on 16000/68984 queries. users per second: 4616.55</pre>"
            ]
          },
          "metadata": {}
        },
        {
          "output_type": "display_data",
          "data": {
            "text/plain": [
              "recommendations finished on 17000/68984 queries. users per second: 4619.65"
            ],
            "text/html": [
              "<pre>recommendations finished on 17000/68984 queries. users per second: 4619.65</pre>"
            ]
          },
          "metadata": {}
        },
        {
          "output_type": "display_data",
          "data": {
            "text/plain": [
              "recommendations finished on 18000/68984 queries. users per second: 4621.18"
            ],
            "text/html": [
              "<pre>recommendations finished on 18000/68984 queries. users per second: 4621.18</pre>"
            ]
          },
          "metadata": {}
        },
        {
          "output_type": "display_data",
          "data": {
            "text/plain": [
              "recommendations finished on 19000/68984 queries. users per second: 4626.88"
            ],
            "text/html": [
              "<pre>recommendations finished on 19000/68984 queries. users per second: 4626.88</pre>"
            ]
          },
          "metadata": {}
        },
        {
          "output_type": "display_data",
          "data": {
            "text/plain": [
              "recommendations finished on 20000/68984 queries. users per second: 4624.92"
            ],
            "text/html": [
              "<pre>recommendations finished on 20000/68984 queries. users per second: 4624.92</pre>"
            ]
          },
          "metadata": {}
        },
        {
          "output_type": "display_data",
          "data": {
            "text/plain": [
              "recommendations finished on 21000/68984 queries. users per second: 4627.14"
            ],
            "text/html": [
              "<pre>recommendations finished on 21000/68984 queries. users per second: 4627.14</pre>"
            ]
          },
          "metadata": {}
        },
        {
          "output_type": "display_data",
          "data": {
            "text/plain": [
              "recommendations finished on 22000/68984 queries. users per second: 4634.46"
            ],
            "text/html": [
              "<pre>recommendations finished on 22000/68984 queries. users per second: 4634.46</pre>"
            ]
          },
          "metadata": {}
        },
        {
          "output_type": "display_data",
          "data": {
            "text/plain": [
              "recommendations finished on 23000/68984 queries. users per second: 4633.47"
            ],
            "text/html": [
              "<pre>recommendations finished on 23000/68984 queries. users per second: 4633.47</pre>"
            ]
          },
          "metadata": {}
        },
        {
          "output_type": "display_data",
          "data": {
            "text/plain": [
              "recommendations finished on 24000/68984 queries. users per second: 4627.17"
            ],
            "text/html": [
              "<pre>recommendations finished on 24000/68984 queries. users per second: 4627.17</pre>"
            ]
          },
          "metadata": {}
        },
        {
          "output_type": "display_data",
          "data": {
            "text/plain": [
              "recommendations finished on 25000/68984 queries. users per second: 4615.43"
            ],
            "text/html": [
              "<pre>recommendations finished on 25000/68984 queries. users per second: 4615.43</pre>"
            ]
          },
          "metadata": {}
        },
        {
          "output_type": "display_data",
          "data": {
            "text/plain": [
              "recommendations finished on 26000/68984 queries. users per second: 4615.3"
            ],
            "text/html": [
              "<pre>recommendations finished on 26000/68984 queries. users per second: 4615.3</pre>"
            ]
          },
          "metadata": {}
        },
        {
          "output_type": "display_data",
          "data": {
            "text/plain": [
              "recommendations finished on 27000/68984 queries. users per second: 4622.3"
            ],
            "text/html": [
              "<pre>recommendations finished on 27000/68984 queries. users per second: 4622.3</pre>"
            ]
          },
          "metadata": {}
        },
        {
          "output_type": "display_data",
          "data": {
            "text/plain": [
              "recommendations finished on 28000/68984 queries. users per second: 4624.54"
            ],
            "text/html": [
              "<pre>recommendations finished on 28000/68984 queries. users per second: 4624.54</pre>"
            ]
          },
          "metadata": {}
        },
        {
          "output_type": "display_data",
          "data": {
            "text/plain": [
              "recommendations finished on 29000/68984 queries. users per second: 4620.94"
            ],
            "text/html": [
              "<pre>recommendations finished on 29000/68984 queries. users per second: 4620.94</pre>"
            ]
          },
          "metadata": {}
        },
        {
          "output_type": "display_data",
          "data": {
            "text/plain": [
              "recommendations finished on 30000/68984 queries. users per second: 4624.08"
            ],
            "text/html": [
              "<pre>recommendations finished on 30000/68984 queries. users per second: 4624.08</pre>"
            ]
          },
          "metadata": {}
        },
        {
          "output_type": "display_data",
          "data": {
            "text/plain": [
              "recommendations finished on 31000/68984 queries. users per second: 4627.3"
            ],
            "text/html": [
              "<pre>recommendations finished on 31000/68984 queries. users per second: 4627.3</pre>"
            ]
          },
          "metadata": {}
        },
        {
          "output_type": "display_data",
          "data": {
            "text/plain": [
              "recommendations finished on 32000/68984 queries. users per second: 4630.86"
            ],
            "text/html": [
              "<pre>recommendations finished on 32000/68984 queries. users per second: 4630.86</pre>"
            ]
          },
          "metadata": {}
        },
        {
          "output_type": "display_data",
          "data": {
            "text/plain": [
              "recommendations finished on 33000/68984 queries. users per second: 4632.13"
            ],
            "text/html": [
              "<pre>recommendations finished on 33000/68984 queries. users per second: 4632.13</pre>"
            ]
          },
          "metadata": {}
        },
        {
          "output_type": "display_data",
          "data": {
            "text/plain": [
              "recommendations finished on 34000/68984 queries. users per second: 4628.86"
            ],
            "text/html": [
              "<pre>recommendations finished on 34000/68984 queries. users per second: 4628.86</pre>"
            ]
          },
          "metadata": {}
        },
        {
          "output_type": "display_data",
          "data": {
            "text/plain": [
              "recommendations finished on 35000/68984 queries. users per second: 4628.51"
            ],
            "text/html": [
              "<pre>recommendations finished on 35000/68984 queries. users per second: 4628.51</pre>"
            ]
          },
          "metadata": {}
        },
        {
          "output_type": "display_data",
          "data": {
            "text/plain": [
              "recommendations finished on 36000/68984 queries. users per second: 4629.33"
            ],
            "text/html": [
              "<pre>recommendations finished on 36000/68984 queries. users per second: 4629.33</pre>"
            ]
          },
          "metadata": {}
        },
        {
          "output_type": "display_data",
          "data": {
            "text/plain": [
              "recommendations finished on 37000/68984 queries. users per second: 4629.41"
            ],
            "text/html": [
              "<pre>recommendations finished on 37000/68984 queries. users per second: 4629.41</pre>"
            ]
          },
          "metadata": {}
        },
        {
          "output_type": "display_data",
          "data": {
            "text/plain": [
              "recommendations finished on 38000/68984 queries. users per second: 4628.03"
            ],
            "text/html": [
              "<pre>recommendations finished on 38000/68984 queries. users per second: 4628.03</pre>"
            ]
          },
          "metadata": {}
        },
        {
          "output_type": "display_data",
          "data": {
            "text/plain": [
              "recommendations finished on 39000/68984 queries. users per second: 4628.47"
            ],
            "text/html": [
              "<pre>recommendations finished on 39000/68984 queries. users per second: 4628.47</pre>"
            ]
          },
          "metadata": {}
        },
        {
          "output_type": "display_data",
          "data": {
            "text/plain": [
              "recommendations finished on 40000/68984 queries. users per second: 4629.39"
            ],
            "text/html": [
              "<pre>recommendations finished on 40000/68984 queries. users per second: 4629.39</pre>"
            ]
          },
          "metadata": {}
        },
        {
          "output_type": "display_data",
          "data": {
            "text/plain": [
              "recommendations finished on 41000/68984 queries. users per second: 4631.83"
            ],
            "text/html": [
              "<pre>recommendations finished on 41000/68984 queries. users per second: 4631.83</pre>"
            ]
          },
          "metadata": {}
        },
        {
          "output_type": "display_data",
          "data": {
            "text/plain": [
              "recommendations finished on 42000/68984 queries. users per second: 4631.2"
            ],
            "text/html": [
              "<pre>recommendations finished on 42000/68984 queries. users per second: 4631.2</pre>"
            ]
          },
          "metadata": {}
        },
        {
          "output_type": "display_data",
          "data": {
            "text/plain": [
              "recommendations finished on 43000/68984 queries. users per second: 4629.53"
            ],
            "text/html": [
              "<pre>recommendations finished on 43000/68984 queries. users per second: 4629.53</pre>"
            ]
          },
          "metadata": {}
        },
        {
          "output_type": "display_data",
          "data": {
            "text/plain": [
              "recommendations finished on 44000/68984 queries. users per second: 4629.63"
            ],
            "text/html": [
              "<pre>recommendations finished on 44000/68984 queries. users per second: 4629.63</pre>"
            ]
          },
          "metadata": {}
        },
        {
          "output_type": "display_data",
          "data": {
            "text/plain": [
              "recommendations finished on 45000/68984 queries. users per second: 4631.32"
            ],
            "text/html": [
              "<pre>recommendations finished on 45000/68984 queries. users per second: 4631.32</pre>"
            ]
          },
          "metadata": {}
        },
        {
          "output_type": "display_data",
          "data": {
            "text/plain": [
              "recommendations finished on 46000/68984 queries. users per second: 4629.29"
            ],
            "text/html": [
              "<pre>recommendations finished on 46000/68984 queries. users per second: 4629.29</pre>"
            ]
          },
          "metadata": {}
        },
        {
          "output_type": "display_data",
          "data": {
            "text/plain": [
              "recommendations finished on 47000/68984 queries. users per second: 4630.91"
            ],
            "text/html": [
              "<pre>recommendations finished on 47000/68984 queries. users per second: 4630.91</pre>"
            ]
          },
          "metadata": {}
        },
        {
          "output_type": "display_data",
          "data": {
            "text/plain": [
              "recommendations finished on 48000/68984 queries. users per second: 4628.72"
            ],
            "text/html": [
              "<pre>recommendations finished on 48000/68984 queries. users per second: 4628.72</pre>"
            ]
          },
          "metadata": {}
        },
        {
          "output_type": "display_data",
          "data": {
            "text/plain": [
              "recommendations finished on 49000/68984 queries. users per second: 4628.83"
            ],
            "text/html": [
              "<pre>recommendations finished on 49000/68984 queries. users per second: 4628.83</pre>"
            ]
          },
          "metadata": {}
        },
        {
          "output_type": "display_data",
          "data": {
            "text/plain": [
              "recommendations finished on 50000/68984 queries. users per second: 4628.36"
            ],
            "text/html": [
              "<pre>recommendations finished on 50000/68984 queries. users per second: 4628.36</pre>"
            ]
          },
          "metadata": {}
        },
        {
          "output_type": "display_data",
          "data": {
            "text/plain": [
              "recommendations finished on 51000/68984 queries. users per second: 4630.76"
            ],
            "text/html": [
              "<pre>recommendations finished on 51000/68984 queries. users per second: 4630.76</pre>"
            ]
          },
          "metadata": {}
        },
        {
          "output_type": "display_data",
          "data": {
            "text/plain": [
              "recommendations finished on 52000/68984 queries. users per second: 4632.19"
            ],
            "text/html": [
              "<pre>recommendations finished on 52000/68984 queries. users per second: 4632.19</pre>"
            ]
          },
          "metadata": {}
        },
        {
          "output_type": "display_data",
          "data": {
            "text/plain": [
              "recommendations finished on 53000/68984 queries. users per second: 4629.89"
            ],
            "text/html": [
              "<pre>recommendations finished on 53000/68984 queries. users per second: 4629.89</pre>"
            ]
          },
          "metadata": {}
        },
        {
          "output_type": "display_data",
          "data": {
            "text/plain": [
              "recommendations finished on 54000/68984 queries. users per second: 4628.36"
            ],
            "text/html": [
              "<pre>recommendations finished on 54000/68984 queries. users per second: 4628.36</pre>"
            ]
          },
          "metadata": {}
        },
        {
          "output_type": "display_data",
          "data": {
            "text/plain": [
              "recommendations finished on 55000/68984 queries. users per second: 4627.37"
            ],
            "text/html": [
              "<pre>recommendations finished on 55000/68984 queries. users per second: 4627.37</pre>"
            ]
          },
          "metadata": {}
        },
        {
          "output_type": "display_data",
          "data": {
            "text/plain": [
              "recommendations finished on 56000/68984 queries. users per second: 4628.69"
            ],
            "text/html": [
              "<pre>recommendations finished on 56000/68984 queries. users per second: 4628.69</pre>"
            ]
          },
          "metadata": {}
        },
        {
          "output_type": "display_data",
          "data": {
            "text/plain": [
              "recommendations finished on 57000/68984 queries. users per second: 4628.15"
            ],
            "text/html": [
              "<pre>recommendations finished on 57000/68984 queries. users per second: 4628.15</pre>"
            ]
          },
          "metadata": {}
        },
        {
          "output_type": "display_data",
          "data": {
            "text/plain": [
              "recommendations finished on 58000/68984 queries. users per second: 4624.16"
            ],
            "text/html": [
              "<pre>recommendations finished on 58000/68984 queries. users per second: 4624.16</pre>"
            ]
          },
          "metadata": {}
        },
        {
          "output_type": "display_data",
          "data": {
            "text/plain": [
              "recommendations finished on 59000/68984 queries. users per second: 4624.36"
            ],
            "text/html": [
              "<pre>recommendations finished on 59000/68984 queries. users per second: 4624.36</pre>"
            ]
          },
          "metadata": {}
        },
        {
          "output_type": "display_data",
          "data": {
            "text/plain": [
              "recommendations finished on 60000/68984 queries. users per second: 4625.01"
            ],
            "text/html": [
              "<pre>recommendations finished on 60000/68984 queries. users per second: 4625.01</pre>"
            ]
          },
          "metadata": {}
        },
        {
          "output_type": "display_data",
          "data": {
            "text/plain": [
              "recommendations finished on 61000/68984 queries. users per second: 4624.9"
            ],
            "text/html": [
              "<pre>recommendations finished on 61000/68984 queries. users per second: 4624.9</pre>"
            ]
          },
          "metadata": {}
        },
        {
          "output_type": "display_data",
          "data": {
            "text/plain": [
              "recommendations finished on 62000/68984 queries. users per second: 4618.37"
            ],
            "text/html": [
              "<pre>recommendations finished on 62000/68984 queries. users per second: 4618.37</pre>"
            ]
          },
          "metadata": {}
        },
        {
          "output_type": "display_data",
          "data": {
            "text/plain": [
              "recommendations finished on 63000/68984 queries. users per second: 4618.95"
            ],
            "text/html": [
              "<pre>recommendations finished on 63000/68984 queries. users per second: 4618.95</pre>"
            ]
          },
          "metadata": {}
        },
        {
          "output_type": "display_data",
          "data": {
            "text/plain": [
              "recommendations finished on 64000/68984 queries. users per second: 4612.64"
            ],
            "text/html": [
              "<pre>recommendations finished on 64000/68984 queries. users per second: 4612.64</pre>"
            ]
          },
          "metadata": {}
        },
        {
          "output_type": "display_data",
          "data": {
            "text/plain": [
              "recommendations finished on 65000/68984 queries. users per second: 4612.08"
            ],
            "text/html": [
              "<pre>recommendations finished on 65000/68984 queries. users per second: 4612.08</pre>"
            ]
          },
          "metadata": {}
        },
        {
          "output_type": "display_data",
          "data": {
            "text/plain": [
              "recommendations finished on 66000/68984 queries. users per second: 4613.05"
            ],
            "text/html": [
              "<pre>recommendations finished on 66000/68984 queries. users per second: 4613.05</pre>"
            ]
          },
          "metadata": {}
        },
        {
          "output_type": "display_data",
          "data": {
            "text/plain": [
              "recommendations finished on 67000/68984 queries. users per second: 4611.71"
            ],
            "text/html": [
              "<pre>recommendations finished on 67000/68984 queries. users per second: 4611.71</pre>"
            ]
          },
          "metadata": {}
        },
        {
          "output_type": "display_data",
          "data": {
            "text/plain": [
              "recommendations finished on 68000/68984 queries. users per second: 4613.64"
            ],
            "text/html": [
              "<pre>recommendations finished on 68000/68984 queries. users per second: 4613.64</pre>"
            ]
          },
          "metadata": {}
        }
      ],
      "source": [
        "jac_eval = jaccard.evaluate_precision_recall(dfS_val, cutoffs = range(1,13))"
      ]
    },
    {
      "cell_type": "code",
      "execution_count": null,
      "metadata": {
        "colab": {
          "base_uri": "https://localhost:8080/"
        },
        "id": "xHR6gX3jZC_s",
        "outputId": "84b7d0eb-f81e-47c9-f386-b4bff19e12f9"
      },
      "outputs": [
        {
          "output_type": "execute_result",
          "data": {
            "text/plain": [
              "{'precision_recall_by_user': Columns:\n",
              " \tcustomer_id\tint\n",
              " \tcutoff\tint\n",
              " \tprecision\tfloat\n",
              " \trecall\tfloat\n",
              " \tcount\tint\n",
              " \n",
              " Rows: 827808\n",
              " \n",
              " Data:\n",
              " +-------------+--------+-----------+--------+-------+\n",
              " | customer_id | cutoff | precision | recall | count |\n",
              " +-------------+--------+-----------+--------+-------+\n",
              " |      15     |   1    |    0.0    |  0.0   |   4   |\n",
              " |      15     |   2    |    0.0    |  0.0   |   4   |\n",
              " |      15     |   3    |    0.0    |  0.0   |   4   |\n",
              " |      15     |   4    |    0.0    |  0.0   |   4   |\n",
              " |      15     |   5    |    0.0    |  0.0   |   4   |\n",
              " |      15     |   6    |    0.0    |  0.0   |   4   |\n",
              " |      15     |   7    |    0.0    |  0.0   |   4   |\n",
              " |      15     |   8    |    0.0    |  0.0   |   4   |\n",
              " |      15     |   9    |    0.0    |  0.0   |   4   |\n",
              " |      15     |   10   |    0.0    |  0.0   |   4   |\n",
              " +-------------+--------+-----------+--------+-------+\n",
              " [827808 rows x 5 columns]\n",
              " Note: Only the head of the SFrame is printed.\n",
              " You can use print_rows(num_rows=m, num_columns=n) to print more rows and columns.,\n",
              " 'precision_recall_overall': Columns:\n",
              " \tcutoff\tint\n",
              " \tprecision\tfloat\n",
              " \trecall\tfloat\n",
              " \n",
              " Rows: 12\n",
              " \n",
              " Data:\n",
              " +--------+-----------------------+-----------------------+\n",
              " | cutoff |       precision       |         recall        |\n",
              " +--------+-----------------------+-----------------------+\n",
              " |   1    |  0.007697437086860731 | 0.0030885014397077698 |\n",
              " |   2    |  0.007023367737446359 |  0.005481772484271536 |\n",
              " |   3    |  0.006532915845220087 |  0.007528970373897508 |\n",
              " |   4    |  0.005957903281920451 |  0.009054342133923558 |\n",
              " |   5    |  0.005873825814681523 |  0.010913767844413582 |\n",
              " |   6    |  0.005583420310023621 |  0.012274854962544988 |\n",
              " |   7    |  0.00528279849571751  |  0.01334001610144919  |\n",
              " |   8    |  0.005204105299779658 |  0.014873297282046371 |\n",
              " |   9    | 0.0049947169714071515 |  0.015944712707021122 |\n",
              " |   10   |  0.004793865244114593 |  0.016830769542466206 |\n",
              " +--------+-----------------------+-----------------------+\n",
              " [12 rows x 3 columns]\n",
              " Note: Only the head of the SFrame is printed.\n",
              " You can use print_rows(num_rows=m, num_columns=n) to print more rows and columns.}"
            ]
          },
          "metadata": {},
          "execution_count": 22
        }
      ],
      "source": [
        "jac_eval"
      ]
    },
    {
      "cell_type": "code",
      "source": [
        "jac_eval['precision_recall_overall'][11]"
      ],
      "metadata": {
        "colab": {
          "base_uri": "https://localhost:8080/"
        },
        "id": "mghy7WtZ-NcA",
        "outputId": "3295124f-9609-4db8-a87f-43830c95618c"
      },
      "execution_count": null,
      "outputs": [
        {
          "output_type": "execute_result",
          "data": {
            "text/plain": [
              "{'cutoff': 12,\n",
              " 'precision': 0.0044672194518535786,\n",
              " 'recall': 0.018802517576061564}"
            ]
          },
          "metadata": {},
          "execution_count": 23
        }
      ]
    },
    {
      "cell_type": "markdown",
      "source": [
        "#### Matrix Factorization"
      ],
      "metadata": {
        "id": "I1Hyc_DPBHo9"
      }
    },
    {
      "cell_type": "code",
      "source": [
        "# Due to the poor performance of MF in this project, I chose not to include it here"
      ],
      "metadata": {
        "id": "uScTz6TtBLsT"
      },
      "execution_count": null,
      "outputs": []
    },
    {
      "cell_type": "markdown",
      "source": [
        "#### Choosing the best CF model"
      ],
      "metadata": {
        "id": "7-dC1oAk-XAy"
      }
    },
    {
      "cell_type": "code",
      "source": [
        "#training on the whole data\n",
        "jaccard = tc.item_similarity_recommender.create(dfS, \n",
        "                                              user_id='customer_id', \n",
        "                                              item_id='article_id',\n",
        "                                              similarity_type='jaccard')\n",
        "# recommend k products for a list of users (None corresponds to all users) \n",
        "recommendation_jac = jaccard.recommend(users=None, k=N_CF_ITEMS)"
      ],
      "metadata": {
        "id": "knD-5MGPLKsq",
        "colab": {
          "base_uri": "https://localhost:8080/",
          "height": 1000
        },
        "outputId": "a8a72ba0-503b-4db2-8c4d-2118c99282b9"
      },
      "execution_count": null,
      "outputs": [
        {
          "output_type": "display_data",
          "data": {
            "text/plain": [
              "Preparing data set."
            ],
            "text/html": [
              "<pre>Preparing data set.</pre>"
            ]
          },
          "metadata": {}
        },
        {
          "output_type": "display_data",
          "data": {
            "text/plain": [
              "    Data has 1692779 observations with 343677 users and 33971 items."
            ],
            "text/html": [
              "<pre>    Data has 1692779 observations with 343677 users and 33971 items.</pre>"
            ]
          },
          "metadata": {}
        },
        {
          "output_type": "display_data",
          "data": {
            "text/plain": [
              "    Data prepared in: 1.03618s"
            ],
            "text/html": [
              "<pre>    Data prepared in: 1.03618s</pre>"
            ]
          },
          "metadata": {}
        },
        {
          "output_type": "display_data",
          "data": {
            "text/plain": [
              "Training model from provided data."
            ],
            "text/html": [
              "<pre>Training model from provided data.</pre>"
            ]
          },
          "metadata": {}
        },
        {
          "output_type": "display_data",
          "data": {
            "text/plain": [
              "Gathering per-item and per-user statistics."
            ],
            "text/html": [
              "<pre>Gathering per-item and per-user statistics.</pre>"
            ]
          },
          "metadata": {}
        },
        {
          "output_type": "display_data",
          "data": {
            "text/plain": [
              "+--------------------------------+------------+"
            ],
            "text/html": [
              "<pre>+--------------------------------+------------+</pre>"
            ]
          },
          "metadata": {}
        },
        {
          "output_type": "display_data",
          "data": {
            "text/plain": [
              "| Elapsed Time (Item Statistics) | % Complete |"
            ],
            "text/html": [
              "<pre>| Elapsed Time (Item Statistics) | % Complete |</pre>"
            ]
          },
          "metadata": {}
        },
        {
          "output_type": "display_data",
          "data": {
            "text/plain": [
              "+--------------------------------+------------+"
            ],
            "text/html": [
              "<pre>+--------------------------------+------------+</pre>"
            ]
          },
          "metadata": {}
        },
        {
          "output_type": "display_data",
          "data": {
            "text/plain": [
              "| 1.289ms                        | 0.25       |"
            ],
            "text/html": [
              "<pre>| 1.289ms                        | 0.25       |</pre>"
            ]
          },
          "metadata": {}
        },
        {
          "output_type": "display_data",
          "data": {
            "text/plain": [
              "| 67.225ms                       | 100        |"
            ],
            "text/html": [
              "<pre>| 67.225ms                       | 100        |</pre>"
            ]
          },
          "metadata": {}
        },
        {
          "output_type": "display_data",
          "data": {
            "text/plain": [
              "+--------------------------------+------------+"
            ],
            "text/html": [
              "<pre>+--------------------------------+------------+</pre>"
            ]
          },
          "metadata": {}
        },
        {
          "output_type": "display_data",
          "data": {
            "text/plain": [
              "Setting up lookup tables."
            ],
            "text/html": [
              "<pre>Setting up lookup tables.</pre>"
            ]
          },
          "metadata": {}
        },
        {
          "output_type": "display_data",
          "data": {
            "text/plain": [
              "Processing data in one pass using dense lookup tables."
            ],
            "text/html": [
              "<pre>Processing data in one pass using dense lookup tables.</pre>"
            ]
          },
          "metadata": {}
        },
        {
          "output_type": "display_data",
          "data": {
            "text/plain": [
              "+-------------------------------------+------------------+-----------------+"
            ],
            "text/html": [
              "<pre>+-------------------------------------+------------------+-----------------+</pre>"
            ]
          },
          "metadata": {}
        },
        {
          "output_type": "display_data",
          "data": {
            "text/plain": [
              "| Elapsed Time (Constructing Lookups) | Total % Complete | Items Processed |"
            ],
            "text/html": [
              "<pre>| Elapsed Time (Constructing Lookups) | Total % Complete | Items Processed |</pre>"
            ]
          },
          "metadata": {}
        },
        {
          "output_type": "display_data",
          "data": {
            "text/plain": [
              "+-------------------------------------+------------------+-----------------+"
            ],
            "text/html": [
              "<pre>+-------------------------------------+------------------+-----------------+</pre>"
            ]
          },
          "metadata": {}
        },
        {
          "output_type": "display_data",
          "data": {
            "text/plain": [
              "| 2.07s                               | 0                | 0               |"
            ],
            "text/html": [
              "<pre>| 2.07s                               | 0                | 0               |</pre>"
            ]
          },
          "metadata": {}
        },
        {
          "output_type": "display_data",
          "data": {
            "text/plain": [
              "| 7.79s                               | 100              | 33971           |"
            ],
            "text/html": [
              "<pre>| 7.79s                               | 100              | 33971           |</pre>"
            ]
          },
          "metadata": {}
        },
        {
          "output_type": "display_data",
          "data": {
            "text/plain": [
              "+-------------------------------------+------------------+-----------------+"
            ],
            "text/html": [
              "<pre>+-------------------------------------+------------------+-----------------+</pre>"
            ]
          },
          "metadata": {}
        },
        {
          "output_type": "display_data",
          "data": {
            "text/plain": [
              "Finalizing lookup tables."
            ],
            "text/html": [
              "<pre>Finalizing lookup tables.</pre>"
            ]
          },
          "metadata": {}
        },
        {
          "output_type": "display_data",
          "data": {
            "text/plain": [
              "Generating candidate set for working with new users."
            ],
            "text/html": [
              "<pre>Generating candidate set for working with new users.</pre>"
            ]
          },
          "metadata": {}
        },
        {
          "output_type": "display_data",
          "data": {
            "text/plain": [
              "Finished training in 8.89849s"
            ],
            "text/html": [
              "<pre>Finished training in 8.89849s</pre>"
            ]
          },
          "metadata": {}
        },
        {
          "output_type": "display_data",
          "data": {
            "text/plain": [
              "recommendations finished on 1000/343677 queries. users per second: 7405.87"
            ],
            "text/html": [
              "<pre>recommendations finished on 1000/343677 queries. users per second: 7405.87</pre>"
            ]
          },
          "metadata": {}
        },
        {
          "output_type": "display_data",
          "data": {
            "text/plain": [
              "recommendations finished on 2000/343677 queries. users per second: 7398.86"
            ],
            "text/html": [
              "<pre>recommendations finished on 2000/343677 queries. users per second: 7398.86</pre>"
            ]
          },
          "metadata": {}
        },
        {
          "output_type": "display_data",
          "data": {
            "text/plain": [
              "recommendations finished on 3000/343677 queries. users per second: 7357.83"
            ],
            "text/html": [
              "<pre>recommendations finished on 3000/343677 queries. users per second: 7357.83</pre>"
            ]
          },
          "metadata": {}
        },
        {
          "output_type": "display_data",
          "data": {
            "text/plain": [
              "recommendations finished on 4000/343677 queries. users per second: 7375.26"
            ],
            "text/html": [
              "<pre>recommendations finished on 4000/343677 queries. users per second: 7375.26</pre>"
            ]
          },
          "metadata": {}
        },
        {
          "output_type": "display_data",
          "data": {
            "text/plain": [
              "recommendations finished on 5000/343677 queries. users per second: 7369.46"
            ],
            "text/html": [
              "<pre>recommendations finished on 5000/343677 queries. users per second: 7369.46</pre>"
            ]
          },
          "metadata": {}
        },
        {
          "output_type": "display_data",
          "data": {
            "text/plain": [
              "recommendations finished on 6000/343677 queries. users per second: 7338.55"
            ],
            "text/html": [
              "<pre>recommendations finished on 6000/343677 queries. users per second: 7338.55</pre>"
            ]
          },
          "metadata": {}
        },
        {
          "output_type": "display_data",
          "data": {
            "text/plain": [
              "recommendations finished on 7000/343677 queries. users per second: 7252.98"
            ],
            "text/html": [
              "<pre>recommendations finished on 7000/343677 queries. users per second: 7252.98</pre>"
            ]
          },
          "metadata": {}
        },
        {
          "output_type": "display_data",
          "data": {
            "text/plain": [
              "recommendations finished on 8000/343677 queries. users per second: 7230.93"
            ],
            "text/html": [
              "<pre>recommendations finished on 8000/343677 queries. users per second: 7230.93</pre>"
            ]
          },
          "metadata": {}
        },
        {
          "output_type": "display_data",
          "data": {
            "text/plain": [
              "recommendations finished on 9000/343677 queries. users per second: 7256.21"
            ],
            "text/html": [
              "<pre>recommendations finished on 9000/343677 queries. users per second: 7256.21</pre>"
            ]
          },
          "metadata": {}
        },
        {
          "output_type": "display_data",
          "data": {
            "text/plain": [
              "recommendations finished on 10000/343677 queries. users per second: 7268.93"
            ],
            "text/html": [
              "<pre>recommendations finished on 10000/343677 queries. users per second: 7268.93</pre>"
            ]
          },
          "metadata": {}
        },
        {
          "output_type": "display_data",
          "data": {
            "text/plain": [
              "recommendations finished on 11000/343677 queries. users per second: 7275.53"
            ],
            "text/html": [
              "<pre>recommendations finished on 11000/343677 queries. users per second: 7275.53</pre>"
            ]
          },
          "metadata": {}
        },
        {
          "output_type": "display_data",
          "data": {
            "text/plain": [
              "recommendations finished on 12000/343677 queries. users per second: 7289.35"
            ],
            "text/html": [
              "<pre>recommendations finished on 12000/343677 queries. users per second: 7289.35</pre>"
            ]
          },
          "metadata": {}
        },
        {
          "output_type": "display_data",
          "data": {
            "text/plain": [
              "recommendations finished on 13000/343677 queries. users per second: 7294.73"
            ],
            "text/html": [
              "<pre>recommendations finished on 13000/343677 queries. users per second: 7294.73</pre>"
            ]
          },
          "metadata": {}
        },
        {
          "output_type": "display_data",
          "data": {
            "text/plain": [
              "recommendations finished on 14000/343677 queries. users per second: 7295.58"
            ],
            "text/html": [
              "<pre>recommendations finished on 14000/343677 queries. users per second: 7295.58</pre>"
            ]
          },
          "metadata": {}
        },
        {
          "output_type": "display_data",
          "data": {
            "text/plain": [
              "recommendations finished on 15000/343677 queries. users per second: 7287.88"
            ],
            "text/html": [
              "<pre>recommendations finished on 15000/343677 queries. users per second: 7287.88</pre>"
            ]
          },
          "metadata": {}
        },
        {
          "output_type": "display_data",
          "data": {
            "text/plain": [
              "recommendations finished on 16000/343677 queries. users per second: 7288.31"
            ],
            "text/html": [
              "<pre>recommendations finished on 16000/343677 queries. users per second: 7288.31</pre>"
            ]
          },
          "metadata": {}
        },
        {
          "output_type": "display_data",
          "data": {
            "text/plain": [
              "recommendations finished on 17000/343677 queries. users per second: 7295.6"
            ],
            "text/html": [
              "<pre>recommendations finished on 17000/343677 queries. users per second: 7295.6</pre>"
            ]
          },
          "metadata": {}
        },
        {
          "output_type": "display_data",
          "data": {
            "text/plain": [
              "recommendations finished on 18000/343677 queries. users per second: 7297.21"
            ],
            "text/html": [
              "<pre>recommendations finished on 18000/343677 queries. users per second: 7297.21</pre>"
            ]
          },
          "metadata": {}
        },
        {
          "output_type": "display_data",
          "data": {
            "text/plain": [
              "recommendations finished on 19000/343677 queries. users per second: 7298.37"
            ],
            "text/html": [
              "<pre>recommendations finished on 19000/343677 queries. users per second: 7298.37</pre>"
            ]
          },
          "metadata": {}
        },
        {
          "output_type": "display_data",
          "data": {
            "text/plain": [
              "recommendations finished on 20000/343677 queries. users per second: 7287.01"
            ],
            "text/html": [
              "<pre>recommendations finished on 20000/343677 queries. users per second: 7287.01</pre>"
            ]
          },
          "metadata": {}
        },
        {
          "output_type": "display_data",
          "data": {
            "text/plain": [
              "recommendations finished on 21000/343677 queries. users per second: 7255.08"
            ],
            "text/html": [
              "<pre>recommendations finished on 21000/343677 queries. users per second: 7255.08</pre>"
            ]
          },
          "metadata": {}
        },
        {
          "output_type": "display_data",
          "data": {
            "text/plain": [
              "recommendations finished on 22000/343677 queries. users per second: 7250.43"
            ],
            "text/html": [
              "<pre>recommendations finished on 22000/343677 queries. users per second: 7250.43</pre>"
            ]
          },
          "metadata": {}
        },
        {
          "output_type": "display_data",
          "data": {
            "text/plain": [
              "recommendations finished on 23000/343677 queries. users per second: 7254.82"
            ],
            "text/html": [
              "<pre>recommendations finished on 23000/343677 queries. users per second: 7254.82</pre>"
            ]
          },
          "metadata": {}
        },
        {
          "output_type": "display_data",
          "data": {
            "text/plain": [
              "recommendations finished on 24000/343677 queries. users per second: 7248.32"
            ],
            "text/html": [
              "<pre>recommendations finished on 24000/343677 queries. users per second: 7248.32</pre>"
            ]
          },
          "metadata": {}
        },
        {
          "output_type": "display_data",
          "data": {
            "text/plain": [
              "recommendations finished on 25000/343677 queries. users per second: 7246.21"
            ],
            "text/html": [
              "<pre>recommendations finished on 25000/343677 queries. users per second: 7246.21</pre>"
            ]
          },
          "metadata": {}
        },
        {
          "output_type": "display_data",
          "data": {
            "text/plain": [
              "recommendations finished on 26000/343677 queries. users per second: 7251.28"
            ],
            "text/html": [
              "<pre>recommendations finished on 26000/343677 queries. users per second: 7251.28</pre>"
            ]
          },
          "metadata": {}
        },
        {
          "output_type": "display_data",
          "data": {
            "text/plain": [
              "recommendations finished on 27000/343677 queries. users per second: 7245.09"
            ],
            "text/html": [
              "<pre>recommendations finished on 27000/343677 queries. users per second: 7245.09</pre>"
            ]
          },
          "metadata": {}
        },
        {
          "output_type": "display_data",
          "data": {
            "text/plain": [
              "recommendations finished on 28000/343677 queries. users per second: 7250.86"
            ],
            "text/html": [
              "<pre>recommendations finished on 28000/343677 queries. users per second: 7250.86</pre>"
            ]
          },
          "metadata": {}
        },
        {
          "output_type": "display_data",
          "data": {
            "text/plain": [
              "recommendations finished on 29000/343677 queries. users per second: 7257.66"
            ],
            "text/html": [
              "<pre>recommendations finished on 29000/343677 queries. users per second: 7257.66</pre>"
            ]
          },
          "metadata": {}
        },
        {
          "output_type": "display_data",
          "data": {
            "text/plain": [
              "recommendations finished on 30000/343677 queries. users per second: 7253.21"
            ],
            "text/html": [
              "<pre>recommendations finished on 30000/343677 queries. users per second: 7253.21</pre>"
            ]
          },
          "metadata": {}
        },
        {
          "output_type": "display_data",
          "data": {
            "text/plain": [
              "recommendations finished on 31000/343677 queries. users per second: 7258.77"
            ],
            "text/html": [
              "<pre>recommendations finished on 31000/343677 queries. users per second: 7258.77</pre>"
            ]
          },
          "metadata": {}
        },
        {
          "output_type": "display_data",
          "data": {
            "text/plain": [
              "recommendations finished on 32000/343677 queries. users per second: 7257.62"
            ],
            "text/html": [
              "<pre>recommendations finished on 32000/343677 queries. users per second: 7257.62</pre>"
            ]
          },
          "metadata": {}
        },
        {
          "output_type": "display_data",
          "data": {
            "text/plain": [
              "recommendations finished on 33000/343677 queries. users per second: 7263.92"
            ],
            "text/html": [
              "<pre>recommendations finished on 33000/343677 queries. users per second: 7263.92</pre>"
            ]
          },
          "metadata": {}
        },
        {
          "output_type": "display_data",
          "data": {
            "text/plain": [
              "recommendations finished on 34000/343677 queries. users per second: 7267.52"
            ],
            "text/html": [
              "<pre>recommendations finished on 34000/343677 queries. users per second: 7267.52</pre>"
            ]
          },
          "metadata": {}
        },
        {
          "output_type": "display_data",
          "data": {
            "text/plain": [
              "recommendations finished on 35000/343677 queries. users per second: 7270.99"
            ],
            "text/html": [
              "<pre>recommendations finished on 35000/343677 queries. users per second: 7270.99</pre>"
            ]
          },
          "metadata": {}
        },
        {
          "output_type": "display_data",
          "data": {
            "text/plain": [
              "recommendations finished on 36000/343677 queries. users per second: 7276.14"
            ],
            "text/html": [
              "<pre>recommendations finished on 36000/343677 queries. users per second: 7276.14</pre>"
            ]
          },
          "metadata": {}
        },
        {
          "output_type": "display_data",
          "data": {
            "text/plain": [
              "recommendations finished on 37000/343677 queries. users per second: 7269.03"
            ],
            "text/html": [
              "<pre>recommendations finished on 37000/343677 queries. users per second: 7269.03</pre>"
            ]
          },
          "metadata": {}
        },
        {
          "output_type": "display_data",
          "data": {
            "text/plain": [
              "recommendations finished on 38000/343677 queries. users per second: 7272.8"
            ],
            "text/html": [
              "<pre>recommendations finished on 38000/343677 queries. users per second: 7272.8</pre>"
            ]
          },
          "metadata": {}
        },
        {
          "output_type": "display_data",
          "data": {
            "text/plain": [
              "recommendations finished on 39000/343677 queries. users per second: 7275.2"
            ],
            "text/html": [
              "<pre>recommendations finished on 39000/343677 queries. users per second: 7275.2</pre>"
            ]
          },
          "metadata": {}
        },
        {
          "output_type": "display_data",
          "data": {
            "text/plain": [
              "recommendations finished on 40000/343677 queries. users per second: 7277.3"
            ],
            "text/html": [
              "<pre>recommendations finished on 40000/343677 queries. users per second: 7277.3</pre>"
            ]
          },
          "metadata": {}
        },
        {
          "output_type": "display_data",
          "data": {
            "text/plain": [
              "recommendations finished on 41000/343677 queries. users per second: 7276.51"
            ],
            "text/html": [
              "<pre>recommendations finished on 41000/343677 queries. users per second: 7276.51</pre>"
            ]
          },
          "metadata": {}
        },
        {
          "output_type": "display_data",
          "data": {
            "text/plain": [
              "recommendations finished on 42000/343677 queries. users per second: 7278.49"
            ],
            "text/html": [
              "<pre>recommendations finished on 42000/343677 queries. users per second: 7278.49</pre>"
            ]
          },
          "metadata": {}
        },
        {
          "output_type": "display_data",
          "data": {
            "text/plain": [
              "recommendations finished on 43000/343677 queries. users per second: 7278.1"
            ],
            "text/html": [
              "<pre>recommendations finished on 43000/343677 queries. users per second: 7278.1</pre>"
            ]
          },
          "metadata": {}
        },
        {
          "output_type": "display_data",
          "data": {
            "text/plain": [
              "recommendations finished on 44000/343677 queries. users per second: 7260.32"
            ],
            "text/html": [
              "<pre>recommendations finished on 44000/343677 queries. users per second: 7260.32</pre>"
            ]
          },
          "metadata": {}
        },
        {
          "output_type": "display_data",
          "data": {
            "text/plain": [
              "recommendations finished on 45000/343677 queries. users per second: 7233.31"
            ],
            "text/html": [
              "<pre>recommendations finished on 45000/343677 queries. users per second: 7233.31</pre>"
            ]
          },
          "metadata": {}
        },
        {
          "output_type": "display_data",
          "data": {
            "text/plain": [
              "recommendations finished on 46000/343677 queries. users per second: 7228.8"
            ],
            "text/html": [
              "<pre>recommendations finished on 46000/343677 queries. users per second: 7228.8</pre>"
            ]
          },
          "metadata": {}
        },
        {
          "output_type": "display_data",
          "data": {
            "text/plain": [
              "recommendations finished on 47000/343677 queries. users per second: 7230.33"
            ],
            "text/html": [
              "<pre>recommendations finished on 47000/343677 queries. users per second: 7230.33</pre>"
            ]
          },
          "metadata": {}
        },
        {
          "output_type": "display_data",
          "data": {
            "text/plain": [
              "recommendations finished on 48000/343677 queries. users per second: 7233.06"
            ],
            "text/html": [
              "<pre>recommendations finished on 48000/343677 queries. users per second: 7233.06</pre>"
            ]
          },
          "metadata": {}
        },
        {
          "output_type": "display_data",
          "data": {
            "text/plain": [
              "recommendations finished on 49000/343677 queries. users per second: 7234.89"
            ],
            "text/html": [
              "<pre>recommendations finished on 49000/343677 queries. users per second: 7234.89</pre>"
            ]
          },
          "metadata": {}
        },
        {
          "output_type": "display_data",
          "data": {
            "text/plain": [
              "recommendations finished on 50000/343677 queries. users per second: 7237.93"
            ],
            "text/html": [
              "<pre>recommendations finished on 50000/343677 queries. users per second: 7237.93</pre>"
            ]
          },
          "metadata": {}
        },
        {
          "output_type": "display_data",
          "data": {
            "text/plain": [
              "recommendations finished on 51000/343677 queries. users per second: 7238.83"
            ],
            "text/html": [
              "<pre>recommendations finished on 51000/343677 queries. users per second: 7238.83</pre>"
            ]
          },
          "metadata": {}
        },
        {
          "output_type": "display_data",
          "data": {
            "text/plain": [
              "recommendations finished on 52000/343677 queries. users per second: 7236.37"
            ],
            "text/html": [
              "<pre>recommendations finished on 52000/343677 queries. users per second: 7236.37</pre>"
            ]
          },
          "metadata": {}
        },
        {
          "output_type": "display_data",
          "data": {
            "text/plain": [
              "recommendations finished on 53000/343677 queries. users per second: 7237.98"
            ],
            "text/html": [
              "<pre>recommendations finished on 53000/343677 queries. users per second: 7237.98</pre>"
            ]
          },
          "metadata": {}
        },
        {
          "output_type": "display_data",
          "data": {
            "text/plain": [
              "recommendations finished on 54000/343677 queries. users per second: 7240.7"
            ],
            "text/html": [
              "<pre>recommendations finished on 54000/343677 queries. users per second: 7240.7</pre>"
            ]
          },
          "metadata": {}
        },
        {
          "output_type": "display_data",
          "data": {
            "text/plain": [
              "recommendations finished on 55000/343677 queries. users per second: 7243.68"
            ],
            "text/html": [
              "<pre>recommendations finished on 55000/343677 queries. users per second: 7243.68</pre>"
            ]
          },
          "metadata": {}
        },
        {
          "output_type": "display_data",
          "data": {
            "text/plain": [
              "recommendations finished on 56000/343677 queries. users per second: 7241.95"
            ],
            "text/html": [
              "<pre>recommendations finished on 56000/343677 queries. users per second: 7241.95</pre>"
            ]
          },
          "metadata": {}
        },
        {
          "output_type": "display_data",
          "data": {
            "text/plain": [
              "recommendations finished on 57000/343677 queries. users per second: 7245.47"
            ],
            "text/html": [
              "<pre>recommendations finished on 57000/343677 queries. users per second: 7245.47</pre>"
            ]
          },
          "metadata": {}
        },
        {
          "output_type": "display_data",
          "data": {
            "text/plain": [
              "recommendations finished on 58000/343677 queries. users per second: 7248.88"
            ],
            "text/html": [
              "<pre>recommendations finished on 58000/343677 queries. users per second: 7248.88</pre>"
            ]
          },
          "metadata": {}
        },
        {
          "output_type": "display_data",
          "data": {
            "text/plain": [
              "recommendations finished on 59000/343677 queries. users per second: 7251.54"
            ],
            "text/html": [
              "<pre>recommendations finished on 59000/343677 queries. users per second: 7251.54</pre>"
            ]
          },
          "metadata": {}
        },
        {
          "output_type": "display_data",
          "data": {
            "text/plain": [
              "recommendations finished on 60000/343677 queries. users per second: 7249.43"
            ],
            "text/html": [
              "<pre>recommendations finished on 60000/343677 queries. users per second: 7249.43</pre>"
            ]
          },
          "metadata": {}
        },
        {
          "output_type": "display_data",
          "data": {
            "text/plain": [
              "recommendations finished on 61000/343677 queries. users per second: 7251.68"
            ],
            "text/html": [
              "<pre>recommendations finished on 61000/343677 queries. users per second: 7251.68</pre>"
            ]
          },
          "metadata": {}
        },
        {
          "output_type": "display_data",
          "data": {
            "text/plain": [
              "recommendations finished on 62000/343677 queries. users per second: 7247.6"
            ],
            "text/html": [
              "<pre>recommendations finished on 62000/343677 queries. users per second: 7247.6</pre>"
            ]
          },
          "metadata": {}
        },
        {
          "output_type": "display_data",
          "data": {
            "text/plain": [
              "recommendations finished on 63000/343677 queries. users per second: 7248.91"
            ],
            "text/html": [
              "<pre>recommendations finished on 63000/343677 queries. users per second: 7248.91</pre>"
            ]
          },
          "metadata": {}
        },
        {
          "output_type": "display_data",
          "data": {
            "text/plain": [
              "recommendations finished on 64000/343677 queries. users per second: 7251.12"
            ],
            "text/html": [
              "<pre>recommendations finished on 64000/343677 queries. users per second: 7251.12</pre>"
            ]
          },
          "metadata": {}
        },
        {
          "output_type": "display_data",
          "data": {
            "text/plain": [
              "recommendations finished on 65000/343677 queries. users per second: 7253.82"
            ],
            "text/html": [
              "<pre>recommendations finished on 65000/343677 queries. users per second: 7253.82</pre>"
            ]
          },
          "metadata": {}
        },
        {
          "output_type": "display_data",
          "data": {
            "text/plain": [
              "recommendations finished on 66000/343677 queries. users per second: 7254.6"
            ],
            "text/html": [
              "<pre>recommendations finished on 66000/343677 queries. users per second: 7254.6</pre>"
            ]
          },
          "metadata": {}
        },
        {
          "output_type": "display_data",
          "data": {
            "text/plain": [
              "recommendations finished on 67000/343677 queries. users per second: 7252.45"
            ],
            "text/html": [
              "<pre>recommendations finished on 67000/343677 queries. users per second: 7252.45</pre>"
            ]
          },
          "metadata": {}
        },
        {
          "output_type": "display_data",
          "data": {
            "text/plain": [
              "recommendations finished on 68000/343677 queries. users per second: 7254.56"
            ],
            "text/html": [
              "<pre>recommendations finished on 68000/343677 queries. users per second: 7254.56</pre>"
            ]
          },
          "metadata": {}
        },
        {
          "output_type": "display_data",
          "data": {
            "text/plain": [
              "recommendations finished on 69000/343677 queries. users per second: 7254.56"
            ],
            "text/html": [
              "<pre>recommendations finished on 69000/343677 queries. users per second: 7254.56</pre>"
            ]
          },
          "metadata": {}
        },
        {
          "output_type": "display_data",
          "data": {
            "text/plain": [
              "recommendations finished on 70000/343677 queries. users per second: 7256.79"
            ],
            "text/html": [
              "<pre>recommendations finished on 70000/343677 queries. users per second: 7256.79</pre>"
            ]
          },
          "metadata": {}
        },
        {
          "output_type": "display_data",
          "data": {
            "text/plain": [
              "recommendations finished on 71000/343677 queries. users per second: 7258.01"
            ],
            "text/html": [
              "<pre>recommendations finished on 71000/343677 queries. users per second: 7258.01</pre>"
            ]
          },
          "metadata": {}
        },
        {
          "output_type": "display_data",
          "data": {
            "text/plain": [
              "recommendations finished on 72000/343677 queries. users per second: 7260.11"
            ],
            "text/html": [
              "<pre>recommendations finished on 72000/343677 queries. users per second: 7260.11</pre>"
            ]
          },
          "metadata": {}
        },
        {
          "output_type": "display_data",
          "data": {
            "text/plain": [
              "recommendations finished on 73000/343677 queries. users per second: 7261.97"
            ],
            "text/html": [
              "<pre>recommendations finished on 73000/343677 queries. users per second: 7261.97</pre>"
            ]
          },
          "metadata": {}
        },
        {
          "output_type": "display_data",
          "data": {
            "text/plain": [
              "recommendations finished on 74000/343677 queries. users per second: 7263.36"
            ],
            "text/html": [
              "<pre>recommendations finished on 74000/343677 queries. users per second: 7263.36</pre>"
            ]
          },
          "metadata": {}
        },
        {
          "output_type": "display_data",
          "data": {
            "text/plain": [
              "recommendations finished on 75000/343677 queries. users per second: 7260.69"
            ],
            "text/html": [
              "<pre>recommendations finished on 75000/343677 queries. users per second: 7260.69</pre>"
            ]
          },
          "metadata": {}
        },
        {
          "output_type": "display_data",
          "data": {
            "text/plain": [
              "recommendations finished on 76000/343677 queries. users per second: 7260.65"
            ],
            "text/html": [
              "<pre>recommendations finished on 76000/343677 queries. users per second: 7260.65</pre>"
            ]
          },
          "metadata": {}
        },
        {
          "output_type": "display_data",
          "data": {
            "text/plain": [
              "recommendations finished on 77000/343677 queries. users per second: 7263.25"
            ],
            "text/html": [
              "<pre>recommendations finished on 77000/343677 queries. users per second: 7263.25</pre>"
            ]
          },
          "metadata": {}
        },
        {
          "output_type": "display_data",
          "data": {
            "text/plain": [
              "recommendations finished on 78000/343677 queries. users per second: 7264.86"
            ],
            "text/html": [
              "<pre>recommendations finished on 78000/343677 queries. users per second: 7264.86</pre>"
            ]
          },
          "metadata": {}
        },
        {
          "output_type": "display_data",
          "data": {
            "text/plain": [
              "recommendations finished on 79000/343677 queries. users per second: 7264.26"
            ],
            "text/html": [
              "<pre>recommendations finished on 79000/343677 queries. users per second: 7264.26</pre>"
            ]
          },
          "metadata": {}
        },
        {
          "output_type": "display_data",
          "data": {
            "text/plain": [
              "recommendations finished on 80000/343677 queries. users per second: 7266.31"
            ],
            "text/html": [
              "<pre>recommendations finished on 80000/343677 queries. users per second: 7266.31</pre>"
            ]
          },
          "metadata": {}
        },
        {
          "output_type": "display_data",
          "data": {
            "text/plain": [
              "recommendations finished on 81000/343677 queries. users per second: 7267.88"
            ],
            "text/html": [
              "<pre>recommendations finished on 81000/343677 queries. users per second: 7267.88</pre>"
            ]
          },
          "metadata": {}
        },
        {
          "output_type": "display_data",
          "data": {
            "text/plain": [
              "recommendations finished on 82000/343677 queries. users per second: 7264.18"
            ],
            "text/html": [
              "<pre>recommendations finished on 82000/343677 queries. users per second: 7264.18</pre>"
            ]
          },
          "metadata": {}
        },
        {
          "output_type": "display_data",
          "data": {
            "text/plain": [
              "recommendations finished on 83000/343677 queries. users per second: 7260.75"
            ],
            "text/html": [
              "<pre>recommendations finished on 83000/343677 queries. users per second: 7260.75</pre>"
            ]
          },
          "metadata": {}
        },
        {
          "output_type": "display_data",
          "data": {
            "text/plain": [
              "recommendations finished on 84000/343677 queries. users per second: 7262.2"
            ],
            "text/html": [
              "<pre>recommendations finished on 84000/343677 queries. users per second: 7262.2</pre>"
            ]
          },
          "metadata": {}
        },
        {
          "output_type": "display_data",
          "data": {
            "text/plain": [
              "recommendations finished on 85000/343677 queries. users per second: 7263.86"
            ],
            "text/html": [
              "<pre>recommendations finished on 85000/343677 queries. users per second: 7263.86</pre>"
            ]
          },
          "metadata": {}
        },
        {
          "output_type": "display_data",
          "data": {
            "text/plain": [
              "recommendations finished on 86000/343677 queries. users per second: 7265.09"
            ],
            "text/html": [
              "<pre>recommendations finished on 86000/343677 queries. users per second: 7265.09</pre>"
            ]
          },
          "metadata": {}
        },
        {
          "output_type": "display_data",
          "data": {
            "text/plain": [
              "recommendations finished on 87000/343677 queries. users per second: 7267.87"
            ],
            "text/html": [
              "<pre>recommendations finished on 87000/343677 queries. users per second: 7267.87</pre>"
            ]
          },
          "metadata": {}
        },
        {
          "output_type": "display_data",
          "data": {
            "text/plain": [
              "recommendations finished on 88000/343677 queries. users per second: 7269.6"
            ],
            "text/html": [
              "<pre>recommendations finished on 88000/343677 queries. users per second: 7269.6</pre>"
            ]
          },
          "metadata": {}
        },
        {
          "output_type": "display_data",
          "data": {
            "text/plain": [
              "recommendations finished on 89000/343677 queries. users per second: 7269.93"
            ],
            "text/html": [
              "<pre>recommendations finished on 89000/343677 queries. users per second: 7269.93</pre>"
            ]
          },
          "metadata": {}
        },
        {
          "output_type": "display_data",
          "data": {
            "text/plain": [
              "recommendations finished on 90000/343677 queries. users per second: 7268.17"
            ],
            "text/html": [
              "<pre>recommendations finished on 90000/343677 queries. users per second: 7268.17</pre>"
            ]
          },
          "metadata": {}
        },
        {
          "output_type": "display_data",
          "data": {
            "text/plain": [
              "recommendations finished on 91000/343677 queries. users per second: 7268.68"
            ],
            "text/html": [
              "<pre>recommendations finished on 91000/343677 queries. users per second: 7268.68</pre>"
            ]
          },
          "metadata": {}
        },
        {
          "output_type": "display_data",
          "data": {
            "text/plain": [
              "recommendations finished on 92000/343677 queries. users per second: 7270.52"
            ],
            "text/html": [
              "<pre>recommendations finished on 92000/343677 queries. users per second: 7270.52</pre>"
            ]
          },
          "metadata": {}
        },
        {
          "output_type": "display_data",
          "data": {
            "text/plain": [
              "recommendations finished on 93000/343677 queries. users per second: 7272.21"
            ],
            "text/html": [
              "<pre>recommendations finished on 93000/343677 queries. users per second: 7272.21</pre>"
            ]
          },
          "metadata": {}
        },
        {
          "output_type": "display_data",
          "data": {
            "text/plain": [
              "recommendations finished on 94000/343677 queries. users per second: 7272.88"
            ],
            "text/html": [
              "<pre>recommendations finished on 94000/343677 queries. users per second: 7272.88</pre>"
            ]
          },
          "metadata": {}
        },
        {
          "output_type": "display_data",
          "data": {
            "text/plain": [
              "recommendations finished on 95000/343677 queries. users per second: 7274.22"
            ],
            "text/html": [
              "<pre>recommendations finished on 95000/343677 queries. users per second: 7274.22</pre>"
            ]
          },
          "metadata": {}
        },
        {
          "output_type": "display_data",
          "data": {
            "text/plain": [
              "recommendations finished on 96000/343677 queries. users per second: 7274.92"
            ],
            "text/html": [
              "<pre>recommendations finished on 96000/343677 queries. users per second: 7274.92</pre>"
            ]
          },
          "metadata": {}
        },
        {
          "output_type": "display_data",
          "data": {
            "text/plain": [
              "recommendations finished on 97000/343677 queries. users per second: 7272.88"
            ],
            "text/html": [
              "<pre>recommendations finished on 97000/343677 queries. users per second: 7272.88</pre>"
            ]
          },
          "metadata": {}
        },
        {
          "output_type": "display_data",
          "data": {
            "text/plain": [
              "recommendations finished on 98000/343677 queries. users per second: 7273.44"
            ],
            "text/html": [
              "<pre>recommendations finished on 98000/343677 queries. users per second: 7273.44</pre>"
            ]
          },
          "metadata": {}
        },
        {
          "output_type": "display_data",
          "data": {
            "text/plain": [
              "recommendations finished on 99000/343677 queries. users per second: 7273.74"
            ],
            "text/html": [
              "<pre>recommendations finished on 99000/343677 queries. users per second: 7273.74</pre>"
            ]
          },
          "metadata": {}
        },
        {
          "output_type": "display_data",
          "data": {
            "text/plain": [
              "recommendations finished on 100000/343677 queries. users per second: 7275.01"
            ],
            "text/html": [
              "<pre>recommendations finished on 100000/343677 queries. users per second: 7275.01</pre>"
            ]
          },
          "metadata": {}
        },
        {
          "output_type": "display_data",
          "data": {
            "text/plain": [
              "recommendations finished on 101000/343677 queries. users per second: 7275.16"
            ],
            "text/html": [
              "<pre>recommendations finished on 101000/343677 queries. users per second: 7275.16</pre>"
            ]
          },
          "metadata": {}
        },
        {
          "output_type": "display_data",
          "data": {
            "text/plain": [
              "recommendations finished on 102000/343677 queries. users per second: 7275.58"
            ],
            "text/html": [
              "<pre>recommendations finished on 102000/343677 queries. users per second: 7275.58</pre>"
            ]
          },
          "metadata": {}
        },
        {
          "output_type": "display_data",
          "data": {
            "text/plain": [
              "recommendations finished on 103000/343677 queries. users per second: 7276.03"
            ],
            "text/html": [
              "<pre>recommendations finished on 103000/343677 queries. users per second: 7276.03</pre>"
            ]
          },
          "metadata": {}
        },
        {
          "output_type": "display_data",
          "data": {
            "text/plain": [
              "recommendations finished on 104000/343677 queries. users per second: 7277.52"
            ],
            "text/html": [
              "<pre>recommendations finished on 104000/343677 queries. users per second: 7277.52</pre>"
            ]
          },
          "metadata": {}
        },
        {
          "output_type": "display_data",
          "data": {
            "text/plain": [
              "recommendations finished on 105000/343677 queries. users per second: 7275.23"
            ],
            "text/html": [
              "<pre>recommendations finished on 105000/343677 queries. users per second: 7275.23</pre>"
            ]
          },
          "metadata": {}
        },
        {
          "output_type": "display_data",
          "data": {
            "text/plain": [
              "recommendations finished on 106000/343677 queries. users per second: 7275.17"
            ],
            "text/html": [
              "<pre>recommendations finished on 106000/343677 queries. users per second: 7275.17</pre>"
            ]
          },
          "metadata": {}
        },
        {
          "output_type": "display_data",
          "data": {
            "text/plain": [
              "recommendations finished on 107000/343677 queries. users per second: 7275.6"
            ],
            "text/html": [
              "<pre>recommendations finished on 107000/343677 queries. users per second: 7275.6</pre>"
            ]
          },
          "metadata": {}
        },
        {
          "output_type": "display_data",
          "data": {
            "text/plain": [
              "recommendations finished on 108000/343677 queries. users per second: 7276.34"
            ],
            "text/html": [
              "<pre>recommendations finished on 108000/343677 queries. users per second: 7276.34</pre>"
            ]
          },
          "metadata": {}
        },
        {
          "output_type": "display_data",
          "data": {
            "text/plain": [
              "recommendations finished on 109000/343677 queries. users per second: 7278.22"
            ],
            "text/html": [
              "<pre>recommendations finished on 109000/343677 queries. users per second: 7278.22</pre>"
            ]
          },
          "metadata": {}
        },
        {
          "output_type": "display_data",
          "data": {
            "text/plain": [
              "recommendations finished on 110000/343677 queries. users per second: 7278.72"
            ],
            "text/html": [
              "<pre>recommendations finished on 110000/343677 queries. users per second: 7278.72</pre>"
            ]
          },
          "metadata": {}
        },
        {
          "output_type": "display_data",
          "data": {
            "text/plain": [
              "recommendations finished on 111000/343677 queries. users per second: 7279.41"
            ],
            "text/html": [
              "<pre>recommendations finished on 111000/343677 queries. users per second: 7279.41</pre>"
            ]
          },
          "metadata": {}
        },
        {
          "output_type": "display_data",
          "data": {
            "text/plain": [
              "recommendations finished on 112000/343677 queries. users per second: 7277.34"
            ],
            "text/html": [
              "<pre>recommendations finished on 112000/343677 queries. users per second: 7277.34</pre>"
            ]
          },
          "metadata": {}
        },
        {
          "output_type": "display_data",
          "data": {
            "text/plain": [
              "recommendations finished on 113000/343677 queries. users per second: 7277.23"
            ],
            "text/html": [
              "<pre>recommendations finished on 113000/343677 queries. users per second: 7277.23</pre>"
            ]
          },
          "metadata": {}
        },
        {
          "output_type": "display_data",
          "data": {
            "text/plain": [
              "recommendations finished on 114000/343677 queries. users per second: 7276.63"
            ],
            "text/html": [
              "<pre>recommendations finished on 114000/343677 queries. users per second: 7276.63</pre>"
            ]
          },
          "metadata": {}
        },
        {
          "output_type": "display_data",
          "data": {
            "text/plain": [
              "recommendations finished on 115000/343677 queries. users per second: 7277.24"
            ],
            "text/html": [
              "<pre>recommendations finished on 115000/343677 queries. users per second: 7277.24</pre>"
            ]
          },
          "metadata": {}
        },
        {
          "output_type": "display_data",
          "data": {
            "text/plain": [
              "recommendations finished on 116000/343677 queries. users per second: 7277.39"
            ],
            "text/html": [
              "<pre>recommendations finished on 116000/343677 queries. users per second: 7277.39</pre>"
            ]
          },
          "metadata": {}
        },
        {
          "output_type": "display_data",
          "data": {
            "text/plain": [
              "recommendations finished on 117000/343677 queries. users per second: 7278.36"
            ],
            "text/html": [
              "<pre>recommendations finished on 117000/343677 queries. users per second: 7278.36</pre>"
            ]
          },
          "metadata": {}
        },
        {
          "output_type": "display_data",
          "data": {
            "text/plain": [
              "recommendations finished on 118000/343677 queries. users per second: 7279.23"
            ],
            "text/html": [
              "<pre>recommendations finished on 118000/343677 queries. users per second: 7279.23</pre>"
            ]
          },
          "metadata": {}
        },
        {
          "output_type": "display_data",
          "data": {
            "text/plain": [
              "recommendations finished on 119000/343677 queries. users per second: 7279.94"
            ],
            "text/html": [
              "<pre>recommendations finished on 119000/343677 queries. users per second: 7279.94</pre>"
            ]
          },
          "metadata": {}
        },
        {
          "output_type": "display_data",
          "data": {
            "text/plain": [
              "recommendations finished on 120000/343677 queries. users per second: 7278.71"
            ],
            "text/html": [
              "<pre>recommendations finished on 120000/343677 queries. users per second: 7278.71</pre>"
            ]
          },
          "metadata": {}
        },
        {
          "output_type": "display_data",
          "data": {
            "text/plain": [
              "recommendations finished on 121000/343677 queries. users per second: 7279.58"
            ],
            "text/html": [
              "<pre>recommendations finished on 121000/343677 queries. users per second: 7279.58</pre>"
            ]
          },
          "metadata": {}
        },
        {
          "output_type": "display_data",
          "data": {
            "text/plain": [
              "recommendations finished on 122000/343677 queries. users per second: 7280.16"
            ],
            "text/html": [
              "<pre>recommendations finished on 122000/343677 queries. users per second: 7280.16</pre>"
            ]
          },
          "metadata": {}
        },
        {
          "output_type": "display_data",
          "data": {
            "text/plain": [
              "recommendations finished on 123000/343677 queries. users per second: 7281.02"
            ],
            "text/html": [
              "<pre>recommendations finished on 123000/343677 queries. users per second: 7281.02</pre>"
            ]
          },
          "metadata": {}
        },
        {
          "output_type": "display_data",
          "data": {
            "text/plain": [
              "recommendations finished on 124000/343677 queries. users per second: 7281.95"
            ],
            "text/html": [
              "<pre>recommendations finished on 124000/343677 queries. users per second: 7281.95</pre>"
            ]
          },
          "metadata": {}
        },
        {
          "output_type": "display_data",
          "data": {
            "text/plain": [
              "recommendations finished on 125000/343677 queries. users per second: 7283.02"
            ],
            "text/html": [
              "<pre>recommendations finished on 125000/343677 queries. users per second: 7283.02</pre>"
            ]
          },
          "metadata": {}
        },
        {
          "output_type": "display_data",
          "data": {
            "text/plain": [
              "recommendations finished on 126000/343677 queries. users per second: 7282.94"
            ],
            "text/html": [
              "<pre>recommendations finished on 126000/343677 queries. users per second: 7282.94</pre>"
            ]
          },
          "metadata": {}
        },
        {
          "output_type": "display_data",
          "data": {
            "text/plain": [
              "recommendations finished on 127000/343677 queries. users per second: 7281.36"
            ],
            "text/html": [
              "<pre>recommendations finished on 127000/343677 queries. users per second: 7281.36</pre>"
            ]
          },
          "metadata": {}
        },
        {
          "output_type": "display_data",
          "data": {
            "text/plain": [
              "recommendations finished on 128000/343677 queries. users per second: 7282"
            ],
            "text/html": [
              "<pre>recommendations finished on 128000/343677 queries. users per second: 7282</pre>"
            ]
          },
          "metadata": {}
        },
        {
          "output_type": "display_data",
          "data": {
            "text/plain": [
              "recommendations finished on 129000/343677 queries. users per second: 7282.86"
            ],
            "text/html": [
              "<pre>recommendations finished on 129000/343677 queries. users per second: 7282.86</pre>"
            ]
          },
          "metadata": {}
        },
        {
          "output_type": "display_data",
          "data": {
            "text/plain": [
              "recommendations finished on 130000/343677 queries. users per second: 7283.1"
            ],
            "text/html": [
              "<pre>recommendations finished on 130000/343677 queries. users per second: 7283.1</pre>"
            ]
          },
          "metadata": {}
        },
        {
          "output_type": "display_data",
          "data": {
            "text/plain": [
              "recommendations finished on 131000/343677 queries. users per second: 7281.28"
            ],
            "text/html": [
              "<pre>recommendations finished on 131000/343677 queries. users per second: 7281.28</pre>"
            ]
          },
          "metadata": {}
        },
        {
          "output_type": "display_data",
          "data": {
            "text/plain": [
              "recommendations finished on 132000/343677 queries. users per second: 7282.12"
            ],
            "text/html": [
              "<pre>recommendations finished on 132000/343677 queries. users per second: 7282.12</pre>"
            ]
          },
          "metadata": {}
        },
        {
          "output_type": "display_data",
          "data": {
            "text/plain": [
              "recommendations finished on 133000/343677 queries. users per second: 7283.24"
            ],
            "text/html": [
              "<pre>recommendations finished on 133000/343677 queries. users per second: 7283.24</pre>"
            ]
          },
          "metadata": {}
        },
        {
          "output_type": "display_data",
          "data": {
            "text/plain": [
              "recommendations finished on 134000/343677 queries. users per second: 7284.12"
            ],
            "text/html": [
              "<pre>recommendations finished on 134000/343677 queries. users per second: 7284.12</pre>"
            ]
          },
          "metadata": {}
        },
        {
          "output_type": "display_data",
          "data": {
            "text/plain": [
              "recommendations finished on 135000/343677 queries. users per second: 7281.95"
            ],
            "text/html": [
              "<pre>recommendations finished on 135000/343677 queries. users per second: 7281.95</pre>"
            ]
          },
          "metadata": {}
        },
        {
          "output_type": "display_data",
          "data": {
            "text/plain": [
              "recommendations finished on 136000/343677 queries. users per second: 7281.88"
            ],
            "text/html": [
              "<pre>recommendations finished on 136000/343677 queries. users per second: 7281.88</pre>"
            ]
          },
          "metadata": {}
        },
        {
          "output_type": "display_data",
          "data": {
            "text/plain": [
              "recommendations finished on 137000/343677 queries. users per second: 7282.8"
            ],
            "text/html": [
              "<pre>recommendations finished on 137000/343677 queries. users per second: 7282.8</pre>"
            ]
          },
          "metadata": {}
        },
        {
          "output_type": "display_data",
          "data": {
            "text/plain": [
              "recommendations finished on 138000/343677 queries. users per second: 7283.96"
            ],
            "text/html": [
              "<pre>recommendations finished on 138000/343677 queries. users per second: 7283.96</pre>"
            ]
          },
          "metadata": {}
        },
        {
          "output_type": "display_data",
          "data": {
            "text/plain": [
              "recommendations finished on 139000/343677 queries. users per second: 7284.51"
            ],
            "text/html": [
              "<pre>recommendations finished on 139000/343677 queries. users per second: 7284.51</pre>"
            ]
          },
          "metadata": {}
        },
        {
          "output_type": "display_data",
          "data": {
            "text/plain": [
              "recommendations finished on 140000/343677 queries. users per second: 7285.35"
            ],
            "text/html": [
              "<pre>recommendations finished on 140000/343677 queries. users per second: 7285.35</pre>"
            ]
          },
          "metadata": {}
        },
        {
          "output_type": "display_data",
          "data": {
            "text/plain": [
              "recommendations finished on 141000/343677 queries. users per second: 7285.67"
            ],
            "text/html": [
              "<pre>recommendations finished on 141000/343677 queries. users per second: 7285.67</pre>"
            ]
          },
          "metadata": {}
        },
        {
          "output_type": "display_data",
          "data": {
            "text/plain": [
              "recommendations finished on 142000/343677 queries. users per second: 7284.77"
            ],
            "text/html": [
              "<pre>recommendations finished on 142000/343677 queries. users per second: 7284.77</pre>"
            ]
          },
          "metadata": {}
        },
        {
          "output_type": "display_data",
          "data": {
            "text/plain": [
              "recommendations finished on 143000/343677 queries. users per second: 7285.6"
            ],
            "text/html": [
              "<pre>recommendations finished on 143000/343677 queries. users per second: 7285.6</pre>"
            ]
          },
          "metadata": {}
        },
        {
          "output_type": "display_data",
          "data": {
            "text/plain": [
              "recommendations finished on 144000/343677 queries. users per second: 7285.9"
            ],
            "text/html": [
              "<pre>recommendations finished on 144000/343677 queries. users per second: 7285.9</pre>"
            ]
          },
          "metadata": {}
        },
        {
          "output_type": "display_data",
          "data": {
            "text/plain": [
              "recommendations finished on 145000/343677 queries. users per second: 7287.14"
            ],
            "text/html": [
              "<pre>recommendations finished on 145000/343677 queries. users per second: 7287.14</pre>"
            ]
          },
          "metadata": {}
        },
        {
          "output_type": "display_data",
          "data": {
            "text/plain": [
              "recommendations finished on 146000/343677 queries. users per second: 7286.84"
            ],
            "text/html": [
              "<pre>recommendations finished on 146000/343677 queries. users per second: 7286.84</pre>"
            ]
          },
          "metadata": {}
        },
        {
          "output_type": "display_data",
          "data": {
            "text/plain": [
              "recommendations finished on 147000/343677 queries. users per second: 7287.39"
            ],
            "text/html": [
              "<pre>recommendations finished on 147000/343677 queries. users per second: 7287.39</pre>"
            ]
          },
          "metadata": {}
        },
        {
          "output_type": "display_data",
          "data": {
            "text/plain": [
              "recommendations finished on 148000/343677 queries. users per second: 7287.66"
            ],
            "text/html": [
              "<pre>recommendations finished on 148000/343677 queries. users per second: 7287.66</pre>"
            ]
          },
          "metadata": {}
        },
        {
          "output_type": "display_data",
          "data": {
            "text/plain": [
              "recommendations finished on 149000/343677 queries. users per second: 7287.97"
            ],
            "text/html": [
              "<pre>recommendations finished on 149000/343677 queries. users per second: 7287.97</pre>"
            ]
          },
          "metadata": {}
        },
        {
          "output_type": "display_data",
          "data": {
            "text/plain": [
              "recommendations finished on 150000/343677 queries. users per second: 7286.3"
            ],
            "text/html": [
              "<pre>recommendations finished on 150000/343677 queries. users per second: 7286.3</pre>"
            ]
          },
          "metadata": {}
        },
        {
          "output_type": "display_data",
          "data": {
            "text/plain": [
              "recommendations finished on 151000/343677 queries. users per second: 7286.48"
            ],
            "text/html": [
              "<pre>recommendations finished on 151000/343677 queries. users per second: 7286.48</pre>"
            ]
          },
          "metadata": {}
        },
        {
          "output_type": "display_data",
          "data": {
            "text/plain": [
              "recommendations finished on 152000/343677 queries. users per second: 7286.91"
            ],
            "text/html": [
              "<pre>recommendations finished on 152000/343677 queries. users per second: 7286.91</pre>"
            ]
          },
          "metadata": {}
        },
        {
          "output_type": "display_data",
          "data": {
            "text/plain": [
              "recommendations finished on 153000/343677 queries. users per second: 7286.92"
            ],
            "text/html": [
              "<pre>recommendations finished on 153000/343677 queries. users per second: 7286.92</pre>"
            ]
          },
          "metadata": {}
        },
        {
          "output_type": "display_data",
          "data": {
            "text/plain": [
              "recommendations finished on 154000/343677 queries. users per second: 7286.54"
            ],
            "text/html": [
              "<pre>recommendations finished on 154000/343677 queries. users per second: 7286.54</pre>"
            ]
          },
          "metadata": {}
        },
        {
          "output_type": "display_data",
          "data": {
            "text/plain": [
              "recommendations finished on 155000/343677 queries. users per second: 7286.84"
            ],
            "text/html": [
              "<pre>recommendations finished on 155000/343677 queries. users per second: 7286.84</pre>"
            ]
          },
          "metadata": {}
        },
        {
          "output_type": "display_data",
          "data": {
            "text/plain": [
              "recommendations finished on 156000/343677 queries. users per second: 7286.44"
            ],
            "text/html": [
              "<pre>recommendations finished on 156000/343677 queries. users per second: 7286.44</pre>"
            ]
          },
          "metadata": {}
        },
        {
          "output_type": "display_data",
          "data": {
            "text/plain": [
              "recommendations finished on 157000/343677 queries. users per second: 7284.73"
            ],
            "text/html": [
              "<pre>recommendations finished on 157000/343677 queries. users per second: 7284.73</pre>"
            ]
          },
          "metadata": {}
        },
        {
          "output_type": "display_data",
          "data": {
            "text/plain": [
              "recommendations finished on 158000/343677 queries. users per second: 7282.73"
            ],
            "text/html": [
              "<pre>recommendations finished on 158000/343677 queries. users per second: 7282.73</pre>"
            ]
          },
          "metadata": {}
        },
        {
          "output_type": "display_data",
          "data": {
            "text/plain": [
              "recommendations finished on 159000/343677 queries. users per second: 7281.56"
            ],
            "text/html": [
              "<pre>recommendations finished on 159000/343677 queries. users per second: 7281.56</pre>"
            ]
          },
          "metadata": {}
        },
        {
          "output_type": "display_data",
          "data": {
            "text/plain": [
              "recommendations finished on 160000/343677 queries. users per second: 7280.07"
            ],
            "text/html": [
              "<pre>recommendations finished on 160000/343677 queries. users per second: 7280.07</pre>"
            ]
          },
          "metadata": {}
        },
        {
          "output_type": "display_data",
          "data": {
            "text/plain": [
              "recommendations finished on 161000/343677 queries. users per second: 7275.83"
            ],
            "text/html": [
              "<pre>recommendations finished on 161000/343677 queries. users per second: 7275.83</pre>"
            ]
          },
          "metadata": {}
        },
        {
          "output_type": "display_data",
          "data": {
            "text/plain": [
              "recommendations finished on 162000/343677 queries. users per second: 7274.36"
            ],
            "text/html": [
              "<pre>recommendations finished on 162000/343677 queries. users per second: 7274.36</pre>"
            ]
          },
          "metadata": {}
        },
        {
          "output_type": "display_data",
          "data": {
            "text/plain": [
              "recommendations finished on 163000/343677 queries. users per second: 7272.83"
            ],
            "text/html": [
              "<pre>recommendations finished on 163000/343677 queries. users per second: 7272.83</pre>"
            ]
          },
          "metadata": {}
        },
        {
          "output_type": "display_data",
          "data": {
            "text/plain": [
              "recommendations finished on 164000/343677 queries. users per second: 7271.9"
            ],
            "text/html": [
              "<pre>recommendations finished on 164000/343677 queries. users per second: 7271.9</pre>"
            ]
          },
          "metadata": {}
        },
        {
          "output_type": "display_data",
          "data": {
            "text/plain": [
              "recommendations finished on 165000/343677 queries. users per second: 7270.96"
            ],
            "text/html": [
              "<pre>recommendations finished on 165000/343677 queries. users per second: 7270.96</pre>"
            ]
          },
          "metadata": {}
        },
        {
          "output_type": "display_data",
          "data": {
            "text/plain": [
              "recommendations finished on 166000/343677 queries. users per second: 7271.61"
            ],
            "text/html": [
              "<pre>recommendations finished on 166000/343677 queries. users per second: 7271.61</pre>"
            ]
          },
          "metadata": {}
        },
        {
          "output_type": "display_data",
          "data": {
            "text/plain": [
              "recommendations finished on 167000/343677 queries. users per second: 7272.64"
            ],
            "text/html": [
              "<pre>recommendations finished on 167000/343677 queries. users per second: 7272.64</pre>"
            ]
          },
          "metadata": {}
        },
        {
          "output_type": "display_data",
          "data": {
            "text/plain": [
              "recommendations finished on 168000/343677 queries. users per second: 7271.65"
            ],
            "text/html": [
              "<pre>recommendations finished on 168000/343677 queries. users per second: 7271.65</pre>"
            ]
          },
          "metadata": {}
        },
        {
          "output_type": "display_data",
          "data": {
            "text/plain": [
              "recommendations finished on 169000/343677 queries. users per second: 7272.24"
            ],
            "text/html": [
              "<pre>recommendations finished on 169000/343677 queries. users per second: 7272.24</pre>"
            ]
          },
          "metadata": {}
        },
        {
          "output_type": "display_data",
          "data": {
            "text/plain": [
              "recommendations finished on 170000/343677 queries. users per second: 7272.56"
            ],
            "text/html": [
              "<pre>recommendations finished on 170000/343677 queries. users per second: 7272.56</pre>"
            ]
          },
          "metadata": {}
        },
        {
          "output_type": "display_data",
          "data": {
            "text/plain": [
              "recommendations finished on 171000/343677 queries. users per second: 7273.3"
            ],
            "text/html": [
              "<pre>recommendations finished on 171000/343677 queries. users per second: 7273.3</pre>"
            ]
          },
          "metadata": {}
        },
        {
          "output_type": "display_data",
          "data": {
            "text/plain": [
              "recommendations finished on 172000/343677 queries. users per second: 7272.44"
            ],
            "text/html": [
              "<pre>recommendations finished on 172000/343677 queries. users per second: 7272.44</pre>"
            ]
          },
          "metadata": {}
        },
        {
          "output_type": "display_data",
          "data": {
            "text/plain": [
              "recommendations finished on 173000/343677 queries. users per second: 7272.77"
            ],
            "text/html": [
              "<pre>recommendations finished on 173000/343677 queries. users per second: 7272.77</pre>"
            ]
          },
          "metadata": {}
        },
        {
          "output_type": "display_data",
          "data": {
            "text/plain": [
              "recommendations finished on 174000/343677 queries. users per second: 7273.71"
            ],
            "text/html": [
              "<pre>recommendations finished on 174000/343677 queries. users per second: 7273.71</pre>"
            ]
          },
          "metadata": {}
        },
        {
          "output_type": "display_data",
          "data": {
            "text/plain": [
              "recommendations finished on 175000/343677 queries. users per second: 7274.27"
            ],
            "text/html": [
              "<pre>recommendations finished on 175000/343677 queries. users per second: 7274.27</pre>"
            ]
          },
          "metadata": {}
        },
        {
          "output_type": "display_data",
          "data": {
            "text/plain": [
              "recommendations finished on 176000/343677 queries. users per second: 7274.57"
            ],
            "text/html": [
              "<pre>recommendations finished on 176000/343677 queries. users per second: 7274.57</pre>"
            ]
          },
          "metadata": {}
        },
        {
          "output_type": "display_data",
          "data": {
            "text/plain": [
              "recommendations finished on 177000/343677 queries. users per second: 7275.17"
            ],
            "text/html": [
              "<pre>recommendations finished on 177000/343677 queries. users per second: 7275.17</pre>"
            ]
          },
          "metadata": {}
        },
        {
          "output_type": "display_data",
          "data": {
            "text/plain": [
              "recommendations finished on 178000/343677 queries. users per second: 7275.57"
            ],
            "text/html": [
              "<pre>recommendations finished on 178000/343677 queries. users per second: 7275.57</pre>"
            ]
          },
          "metadata": {}
        },
        {
          "output_type": "display_data",
          "data": {
            "text/plain": [
              "recommendations finished on 179000/343677 queries. users per second: 7275.6"
            ],
            "text/html": [
              "<pre>recommendations finished on 179000/343677 queries. users per second: 7275.6</pre>"
            ]
          },
          "metadata": {}
        },
        {
          "output_type": "display_data",
          "data": {
            "text/plain": [
              "recommendations finished on 180000/343677 queries. users per second: 7275.29"
            ],
            "text/html": [
              "<pre>recommendations finished on 180000/343677 queries. users per second: 7275.29</pre>"
            ]
          },
          "metadata": {}
        },
        {
          "output_type": "display_data",
          "data": {
            "text/plain": [
              "recommendations finished on 181000/343677 queries. users per second: 7275.71"
            ],
            "text/html": [
              "<pre>recommendations finished on 181000/343677 queries. users per second: 7275.71</pre>"
            ]
          },
          "metadata": {}
        },
        {
          "output_type": "display_data",
          "data": {
            "text/plain": [
              "recommendations finished on 182000/343677 queries. users per second: 7276.65"
            ],
            "text/html": [
              "<pre>recommendations finished on 182000/343677 queries. users per second: 7276.65</pre>"
            ]
          },
          "metadata": {}
        },
        {
          "output_type": "display_data",
          "data": {
            "text/plain": [
              "recommendations finished on 183000/343677 queries. users per second: 7277.39"
            ],
            "text/html": [
              "<pre>recommendations finished on 183000/343677 queries. users per second: 7277.39</pre>"
            ]
          },
          "metadata": {}
        },
        {
          "output_type": "display_data",
          "data": {
            "text/plain": [
              "recommendations finished on 184000/343677 queries. users per second: 7278.21"
            ],
            "text/html": [
              "<pre>recommendations finished on 184000/343677 queries. users per second: 7278.21</pre>"
            ]
          },
          "metadata": {}
        },
        {
          "output_type": "display_data",
          "data": {
            "text/plain": [
              "recommendations finished on 185000/343677 queries. users per second: 7278.17"
            ],
            "text/html": [
              "<pre>recommendations finished on 185000/343677 queries. users per second: 7278.17</pre>"
            ]
          },
          "metadata": {}
        },
        {
          "output_type": "display_data",
          "data": {
            "text/plain": [
              "recommendations finished on 186000/343677 queries. users per second: 7278.39"
            ],
            "text/html": [
              "<pre>recommendations finished on 186000/343677 queries. users per second: 7278.39</pre>"
            ]
          },
          "metadata": {}
        },
        {
          "output_type": "display_data",
          "data": {
            "text/plain": [
              "recommendations finished on 187000/343677 queries. users per second: 7276.81"
            ],
            "text/html": [
              "<pre>recommendations finished on 187000/343677 queries. users per second: 7276.81</pre>"
            ]
          },
          "metadata": {}
        },
        {
          "output_type": "display_data",
          "data": {
            "text/plain": [
              "recommendations finished on 188000/343677 queries. users per second: 7277.18"
            ],
            "text/html": [
              "<pre>recommendations finished on 188000/343677 queries. users per second: 7277.18</pre>"
            ]
          },
          "metadata": {}
        },
        {
          "output_type": "display_data",
          "data": {
            "text/plain": [
              "recommendations finished on 189000/343677 queries. users per second: 7277.72"
            ],
            "text/html": [
              "<pre>recommendations finished on 189000/343677 queries. users per second: 7277.72</pre>"
            ]
          },
          "metadata": {}
        },
        {
          "output_type": "display_data",
          "data": {
            "text/plain": [
              "recommendations finished on 190000/343677 queries. users per second: 7277.73"
            ],
            "text/html": [
              "<pre>recommendations finished on 190000/343677 queries. users per second: 7277.73</pre>"
            ]
          },
          "metadata": {}
        },
        {
          "output_type": "display_data",
          "data": {
            "text/plain": [
              "recommendations finished on 191000/343677 queries. users per second: 7278.44"
            ],
            "text/html": [
              "<pre>recommendations finished on 191000/343677 queries. users per second: 7278.44</pre>"
            ]
          },
          "metadata": {}
        },
        {
          "output_type": "display_data",
          "data": {
            "text/plain": [
              "recommendations finished on 192000/343677 queries. users per second: 7278.65"
            ],
            "text/html": [
              "<pre>recommendations finished on 192000/343677 queries. users per second: 7278.65</pre>"
            ]
          },
          "metadata": {}
        },
        {
          "output_type": "display_data",
          "data": {
            "text/plain": [
              "recommendations finished on 193000/343677 queries. users per second: 7279.25"
            ],
            "text/html": [
              "<pre>recommendations finished on 193000/343677 queries. users per second: 7279.25</pre>"
            ]
          },
          "metadata": {}
        },
        {
          "output_type": "display_data",
          "data": {
            "text/plain": [
              "recommendations finished on 194000/343677 queries. users per second: 7279.5"
            ],
            "text/html": [
              "<pre>recommendations finished on 194000/343677 queries. users per second: 7279.5</pre>"
            ]
          },
          "metadata": {}
        },
        {
          "output_type": "display_data",
          "data": {
            "text/plain": [
              "recommendations finished on 195000/343677 queries. users per second: 7277.33"
            ],
            "text/html": [
              "<pre>recommendations finished on 195000/343677 queries. users per second: 7277.33</pre>"
            ]
          },
          "metadata": {}
        },
        {
          "output_type": "display_data",
          "data": {
            "text/plain": [
              "recommendations finished on 196000/343677 queries. users per second: 7277.95"
            ],
            "text/html": [
              "<pre>recommendations finished on 196000/343677 queries. users per second: 7277.95</pre>"
            ]
          },
          "metadata": {}
        },
        {
          "output_type": "display_data",
          "data": {
            "text/plain": [
              "recommendations finished on 197000/343677 queries. users per second: 7278.27"
            ],
            "text/html": [
              "<pre>recommendations finished on 197000/343677 queries. users per second: 7278.27</pre>"
            ]
          },
          "metadata": {}
        },
        {
          "output_type": "display_data",
          "data": {
            "text/plain": [
              "recommendations finished on 198000/343677 queries. users per second: 7278.81"
            ],
            "text/html": [
              "<pre>recommendations finished on 198000/343677 queries. users per second: 7278.81</pre>"
            ]
          },
          "metadata": {}
        },
        {
          "output_type": "display_data",
          "data": {
            "text/plain": [
              "recommendations finished on 199000/343677 queries. users per second: 7279.05"
            ],
            "text/html": [
              "<pre>recommendations finished on 199000/343677 queries. users per second: 7279.05</pre>"
            ]
          },
          "metadata": {}
        },
        {
          "output_type": "display_data",
          "data": {
            "text/plain": [
              "recommendations finished on 200000/343677 queries. users per second: 7278.79"
            ],
            "text/html": [
              "<pre>recommendations finished on 200000/343677 queries. users per second: 7278.79</pre>"
            ]
          },
          "metadata": {}
        },
        {
          "output_type": "display_data",
          "data": {
            "text/plain": [
              "recommendations finished on 201000/343677 queries. users per second: 7279.01"
            ],
            "text/html": [
              "<pre>recommendations finished on 201000/343677 queries. users per second: 7279.01</pre>"
            ]
          },
          "metadata": {}
        },
        {
          "output_type": "display_data",
          "data": {
            "text/plain": [
              "recommendations finished on 202000/343677 queries. users per second: 7275.73"
            ],
            "text/html": [
              "<pre>recommendations finished on 202000/343677 queries. users per second: 7275.73</pre>"
            ]
          },
          "metadata": {}
        },
        {
          "output_type": "display_data",
          "data": {
            "text/plain": [
              "recommendations finished on 203000/343677 queries. users per second: 7276.29"
            ],
            "text/html": [
              "<pre>recommendations finished on 203000/343677 queries. users per second: 7276.29</pre>"
            ]
          },
          "metadata": {}
        },
        {
          "output_type": "display_data",
          "data": {
            "text/plain": [
              "recommendations finished on 204000/343677 queries. users per second: 7276.46"
            ],
            "text/html": [
              "<pre>recommendations finished on 204000/343677 queries. users per second: 7276.46</pre>"
            ]
          },
          "metadata": {}
        },
        {
          "output_type": "display_data",
          "data": {
            "text/plain": [
              "recommendations finished on 205000/343677 queries. users per second: 7277.27"
            ],
            "text/html": [
              "<pre>recommendations finished on 205000/343677 queries. users per second: 7277.27</pre>"
            ]
          },
          "metadata": {}
        },
        {
          "output_type": "display_data",
          "data": {
            "text/plain": [
              "recommendations finished on 206000/343677 queries. users per second: 7277.65"
            ],
            "text/html": [
              "<pre>recommendations finished on 206000/343677 queries. users per second: 7277.65</pre>"
            ]
          },
          "metadata": {}
        },
        {
          "output_type": "display_data",
          "data": {
            "text/plain": [
              "recommendations finished on 207000/343677 queries. users per second: 7278.09"
            ],
            "text/html": [
              "<pre>recommendations finished on 207000/343677 queries. users per second: 7278.09</pre>"
            ]
          },
          "metadata": {}
        },
        {
          "output_type": "display_data",
          "data": {
            "text/plain": [
              "recommendations finished on 208000/343677 queries. users per second: 7277.97"
            ],
            "text/html": [
              "<pre>recommendations finished on 208000/343677 queries. users per second: 7277.97</pre>"
            ]
          },
          "metadata": {}
        },
        {
          "output_type": "display_data",
          "data": {
            "text/plain": [
              "recommendations finished on 209000/343677 queries. users per second: 7277.81"
            ],
            "text/html": [
              "<pre>recommendations finished on 209000/343677 queries. users per second: 7277.81</pre>"
            ]
          },
          "metadata": {}
        },
        {
          "output_type": "display_data",
          "data": {
            "text/plain": [
              "recommendations finished on 210000/343677 queries. users per second: 7276.76"
            ],
            "text/html": [
              "<pre>recommendations finished on 210000/343677 queries. users per second: 7276.76</pre>"
            ]
          },
          "metadata": {}
        },
        {
          "output_type": "display_data",
          "data": {
            "text/plain": [
              "recommendations finished on 211000/343677 queries. users per second: 7276.99"
            ],
            "text/html": [
              "<pre>recommendations finished on 211000/343677 queries. users per second: 7276.99</pre>"
            ]
          },
          "metadata": {}
        },
        {
          "output_type": "display_data",
          "data": {
            "text/plain": [
              "recommendations finished on 212000/343677 queries. users per second: 7277.6"
            ],
            "text/html": [
              "<pre>recommendations finished on 212000/343677 queries. users per second: 7277.6</pre>"
            ]
          },
          "metadata": {}
        },
        {
          "output_type": "display_data",
          "data": {
            "text/plain": [
              "recommendations finished on 213000/343677 queries. users per second: 7278.21"
            ],
            "text/html": [
              "<pre>recommendations finished on 213000/343677 queries. users per second: 7278.21</pre>"
            ]
          },
          "metadata": {}
        },
        {
          "output_type": "display_data",
          "data": {
            "text/plain": [
              "recommendations finished on 214000/343677 queries. users per second: 7278.8"
            ],
            "text/html": [
              "<pre>recommendations finished on 214000/343677 queries. users per second: 7278.8</pre>"
            ]
          },
          "metadata": {}
        },
        {
          "output_type": "display_data",
          "data": {
            "text/plain": [
              "recommendations finished on 215000/343677 queries. users per second: 7278.91"
            ],
            "text/html": [
              "<pre>recommendations finished on 215000/343677 queries. users per second: 7278.91</pre>"
            ]
          },
          "metadata": {}
        },
        {
          "output_type": "display_data",
          "data": {
            "text/plain": [
              "recommendations finished on 216000/343677 queries. users per second: 7279.79"
            ],
            "text/html": [
              "<pre>recommendations finished on 216000/343677 queries. users per second: 7279.79</pre>"
            ]
          },
          "metadata": {}
        },
        {
          "output_type": "display_data",
          "data": {
            "text/plain": [
              "recommendations finished on 217000/343677 queries. users per second: 7279.06"
            ],
            "text/html": [
              "<pre>recommendations finished on 217000/343677 queries. users per second: 7279.06</pre>"
            ]
          },
          "metadata": {}
        },
        {
          "output_type": "display_data",
          "data": {
            "text/plain": [
              "recommendations finished on 218000/343677 queries. users per second: 7278.5"
            ],
            "text/html": [
              "<pre>recommendations finished on 218000/343677 queries. users per second: 7278.5</pre>"
            ]
          },
          "metadata": {}
        },
        {
          "output_type": "display_data",
          "data": {
            "text/plain": [
              "recommendations finished on 219000/343677 queries. users per second: 7278.2"
            ],
            "text/html": [
              "<pre>recommendations finished on 219000/343677 queries. users per second: 7278.2</pre>"
            ]
          },
          "metadata": {}
        },
        {
          "output_type": "display_data",
          "data": {
            "text/plain": [
              "recommendations finished on 220000/343677 queries. users per second: 7278.64"
            ],
            "text/html": [
              "<pre>recommendations finished on 220000/343677 queries. users per second: 7278.64</pre>"
            ]
          },
          "metadata": {}
        },
        {
          "output_type": "display_data",
          "data": {
            "text/plain": [
              "recommendations finished on 221000/343677 queries. users per second: 7279.28"
            ],
            "text/html": [
              "<pre>recommendations finished on 221000/343677 queries. users per second: 7279.28</pre>"
            ]
          },
          "metadata": {}
        },
        {
          "output_type": "display_data",
          "data": {
            "text/plain": [
              "recommendations finished on 222000/343677 queries. users per second: 7279.78"
            ],
            "text/html": [
              "<pre>recommendations finished on 222000/343677 queries. users per second: 7279.78</pre>"
            ]
          },
          "metadata": {}
        },
        {
          "output_type": "display_data",
          "data": {
            "text/plain": [
              "recommendations finished on 223000/343677 queries. users per second: 7279.66"
            ],
            "text/html": [
              "<pre>recommendations finished on 223000/343677 queries. users per second: 7279.66</pre>"
            ]
          },
          "metadata": {}
        },
        {
          "output_type": "display_data",
          "data": {
            "text/plain": [
              "recommendations finished on 224000/343677 queries. users per second: 7280.04"
            ],
            "text/html": [
              "<pre>recommendations finished on 224000/343677 queries. users per second: 7280.04</pre>"
            ]
          },
          "metadata": {}
        },
        {
          "output_type": "display_data",
          "data": {
            "text/plain": [
              "recommendations finished on 225000/343677 queries. users per second: 7278.69"
            ],
            "text/html": [
              "<pre>recommendations finished on 225000/343677 queries. users per second: 7278.69</pre>"
            ]
          },
          "metadata": {}
        },
        {
          "output_type": "display_data",
          "data": {
            "text/plain": [
              "recommendations finished on 226000/343677 queries. users per second: 7279.02"
            ],
            "text/html": [
              "<pre>recommendations finished on 226000/343677 queries. users per second: 7279.02</pre>"
            ]
          },
          "metadata": {}
        },
        {
          "output_type": "display_data",
          "data": {
            "text/plain": [
              "recommendations finished on 227000/343677 queries. users per second: 7277.5"
            ],
            "text/html": [
              "<pre>recommendations finished on 227000/343677 queries. users per second: 7277.5</pre>"
            ]
          },
          "metadata": {}
        },
        {
          "output_type": "display_data",
          "data": {
            "text/plain": [
              "recommendations finished on 228000/343677 queries. users per second: 7278.12"
            ],
            "text/html": [
              "<pre>recommendations finished on 228000/343677 queries. users per second: 7278.12</pre>"
            ]
          },
          "metadata": {}
        },
        {
          "output_type": "display_data",
          "data": {
            "text/plain": [
              "recommendations finished on 229000/343677 queries. users per second: 7277.8"
            ],
            "text/html": [
              "<pre>recommendations finished on 229000/343677 queries. users per second: 7277.8</pre>"
            ]
          },
          "metadata": {}
        },
        {
          "output_type": "display_data",
          "data": {
            "text/plain": [
              "recommendations finished on 230000/343677 queries. users per second: 7278.3"
            ],
            "text/html": [
              "<pre>recommendations finished on 230000/343677 queries. users per second: 7278.3</pre>"
            ]
          },
          "metadata": {}
        },
        {
          "output_type": "display_data",
          "data": {
            "text/plain": [
              "recommendations finished on 231000/343677 queries. users per second: 7278.79"
            ],
            "text/html": [
              "<pre>recommendations finished on 231000/343677 queries. users per second: 7278.79</pre>"
            ]
          },
          "metadata": {}
        },
        {
          "output_type": "display_data",
          "data": {
            "text/plain": [
              "recommendations finished on 232000/343677 queries. users per second: 7277.45"
            ],
            "text/html": [
              "<pre>recommendations finished on 232000/343677 queries. users per second: 7277.45</pre>"
            ]
          },
          "metadata": {}
        },
        {
          "output_type": "display_data",
          "data": {
            "text/plain": [
              "recommendations finished on 233000/343677 queries. users per second: 7275.98"
            ],
            "text/html": [
              "<pre>recommendations finished on 233000/343677 queries. users per second: 7275.98</pre>"
            ]
          },
          "metadata": {}
        },
        {
          "output_type": "display_data",
          "data": {
            "text/plain": [
              "recommendations finished on 234000/343677 queries. users per second: 7276.15"
            ],
            "text/html": [
              "<pre>recommendations finished on 234000/343677 queries. users per second: 7276.15</pre>"
            ]
          },
          "metadata": {}
        },
        {
          "output_type": "display_data",
          "data": {
            "text/plain": [
              "recommendations finished on 235000/343677 queries. users per second: 7276.55"
            ],
            "text/html": [
              "<pre>recommendations finished on 235000/343677 queries. users per second: 7276.55</pre>"
            ]
          },
          "metadata": {}
        },
        {
          "output_type": "display_data",
          "data": {
            "text/plain": [
              "recommendations finished on 236000/343677 queries. users per second: 7276.57"
            ],
            "text/html": [
              "<pre>recommendations finished on 236000/343677 queries. users per second: 7276.57</pre>"
            ]
          },
          "metadata": {}
        },
        {
          "output_type": "display_data",
          "data": {
            "text/plain": [
              "recommendations finished on 237000/343677 queries. users per second: 7276.98"
            ],
            "text/html": [
              "<pre>recommendations finished on 237000/343677 queries. users per second: 7276.98</pre>"
            ]
          },
          "metadata": {}
        },
        {
          "output_type": "display_data",
          "data": {
            "text/plain": [
              "recommendations finished on 238000/343677 queries. users per second: 7277.25"
            ],
            "text/html": [
              "<pre>recommendations finished on 238000/343677 queries. users per second: 7277.25</pre>"
            ]
          },
          "metadata": {}
        },
        {
          "output_type": "display_data",
          "data": {
            "text/plain": [
              "recommendations finished on 239000/343677 queries. users per second: 7276.8"
            ],
            "text/html": [
              "<pre>recommendations finished on 239000/343677 queries. users per second: 7276.8</pre>"
            ]
          },
          "metadata": {}
        },
        {
          "output_type": "display_data",
          "data": {
            "text/plain": [
              "recommendations finished on 240000/343677 queries. users per second: 7276.54"
            ],
            "text/html": [
              "<pre>recommendations finished on 240000/343677 queries. users per second: 7276.54</pre>"
            ]
          },
          "metadata": {}
        },
        {
          "output_type": "display_data",
          "data": {
            "text/plain": [
              "recommendations finished on 241000/343677 queries. users per second: 7276.88"
            ],
            "text/html": [
              "<pre>recommendations finished on 241000/343677 queries. users per second: 7276.88</pre>"
            ]
          },
          "metadata": {}
        },
        {
          "output_type": "display_data",
          "data": {
            "text/plain": [
              "recommendations finished on 242000/343677 queries. users per second: 7277.28"
            ],
            "text/html": [
              "<pre>recommendations finished on 242000/343677 queries. users per second: 7277.28</pre>"
            ]
          },
          "metadata": {}
        },
        {
          "output_type": "display_data",
          "data": {
            "text/plain": [
              "recommendations finished on 243000/343677 queries. users per second: 7276.91"
            ],
            "text/html": [
              "<pre>recommendations finished on 243000/343677 queries. users per second: 7276.91</pre>"
            ]
          },
          "metadata": {}
        },
        {
          "output_type": "display_data",
          "data": {
            "text/plain": [
              "recommendations finished on 244000/343677 queries. users per second: 7276.91"
            ],
            "text/html": [
              "<pre>recommendations finished on 244000/343677 queries. users per second: 7276.91</pre>"
            ]
          },
          "metadata": {}
        },
        {
          "output_type": "display_data",
          "data": {
            "text/plain": [
              "recommendations finished on 245000/343677 queries. users per second: 7277.65"
            ],
            "text/html": [
              "<pre>recommendations finished on 245000/343677 queries. users per second: 7277.65</pre>"
            ]
          },
          "metadata": {}
        },
        {
          "output_type": "display_data",
          "data": {
            "text/plain": [
              "recommendations finished on 246000/343677 queries. users per second: 7277.69"
            ],
            "text/html": [
              "<pre>recommendations finished on 246000/343677 queries. users per second: 7277.69</pre>"
            ]
          },
          "metadata": {}
        },
        {
          "output_type": "display_data",
          "data": {
            "text/plain": [
              "recommendations finished on 247000/343677 queries. users per second: 7277.24"
            ],
            "text/html": [
              "<pre>recommendations finished on 247000/343677 queries. users per second: 7277.24</pre>"
            ]
          },
          "metadata": {}
        },
        {
          "output_type": "display_data",
          "data": {
            "text/plain": [
              "recommendations finished on 248000/343677 queries. users per second: 7277.61"
            ],
            "text/html": [
              "<pre>recommendations finished on 248000/343677 queries. users per second: 7277.61</pre>"
            ]
          },
          "metadata": {}
        },
        {
          "output_type": "display_data",
          "data": {
            "text/plain": [
              "recommendations finished on 249000/343677 queries. users per second: 7277.89"
            ],
            "text/html": [
              "<pre>recommendations finished on 249000/343677 queries. users per second: 7277.89</pre>"
            ]
          },
          "metadata": {}
        },
        {
          "output_type": "display_data",
          "data": {
            "text/plain": [
              "recommendations finished on 250000/343677 queries. users per second: 7277.93"
            ],
            "text/html": [
              "<pre>recommendations finished on 250000/343677 queries. users per second: 7277.93</pre>"
            ]
          },
          "metadata": {}
        },
        {
          "output_type": "display_data",
          "data": {
            "text/plain": [
              "recommendations finished on 251000/343677 queries. users per second: 7278.43"
            ],
            "text/html": [
              "<pre>recommendations finished on 251000/343677 queries. users per second: 7278.43</pre>"
            ]
          },
          "metadata": {}
        },
        {
          "output_type": "display_data",
          "data": {
            "text/plain": [
              "recommendations finished on 252000/343677 queries. users per second: 7278.53"
            ],
            "text/html": [
              "<pre>recommendations finished on 252000/343677 queries. users per second: 7278.53</pre>"
            ]
          },
          "metadata": {}
        },
        {
          "output_type": "display_data",
          "data": {
            "text/plain": [
              "recommendations finished on 253000/343677 queries. users per second: 7278.92"
            ],
            "text/html": [
              "<pre>recommendations finished on 253000/343677 queries. users per second: 7278.92</pre>"
            ]
          },
          "metadata": {}
        },
        {
          "output_type": "display_data",
          "data": {
            "text/plain": [
              "recommendations finished on 254000/343677 queries. users per second: 7278.89"
            ],
            "text/html": [
              "<pre>recommendations finished on 254000/343677 queries. users per second: 7278.89</pre>"
            ]
          },
          "metadata": {}
        },
        {
          "output_type": "display_data",
          "data": {
            "text/plain": [
              "recommendations finished on 255000/343677 queries. users per second: 7278.13"
            ],
            "text/html": [
              "<pre>recommendations finished on 255000/343677 queries. users per second: 7278.13</pre>"
            ]
          },
          "metadata": {}
        },
        {
          "output_type": "display_data",
          "data": {
            "text/plain": [
              "recommendations finished on 256000/343677 queries. users per second: 7278.72"
            ],
            "text/html": [
              "<pre>recommendations finished on 256000/343677 queries. users per second: 7278.72</pre>"
            ]
          },
          "metadata": {}
        },
        {
          "output_type": "display_data",
          "data": {
            "text/plain": [
              "recommendations finished on 257000/343677 queries. users per second: 7278.93"
            ],
            "text/html": [
              "<pre>recommendations finished on 257000/343677 queries. users per second: 7278.93</pre>"
            ]
          },
          "metadata": {}
        },
        {
          "output_type": "display_data",
          "data": {
            "text/plain": [
              "recommendations finished on 258000/343677 queries. users per second: 7279.33"
            ],
            "text/html": [
              "<pre>recommendations finished on 258000/343677 queries. users per second: 7279.33</pre>"
            ]
          },
          "metadata": {}
        },
        {
          "output_type": "display_data",
          "data": {
            "text/plain": [
              "recommendations finished on 259000/343677 queries. users per second: 7279.26"
            ],
            "text/html": [
              "<pre>recommendations finished on 259000/343677 queries. users per second: 7279.26</pre>"
            ]
          },
          "metadata": {}
        },
        {
          "output_type": "display_data",
          "data": {
            "text/plain": [
              "recommendations finished on 260000/343677 queries. users per second: 7279.69"
            ],
            "text/html": [
              "<pre>recommendations finished on 260000/343677 queries. users per second: 7279.69</pre>"
            ]
          },
          "metadata": {}
        },
        {
          "output_type": "display_data",
          "data": {
            "text/plain": [
              "recommendations finished on 261000/343677 queries. users per second: 7280.02"
            ],
            "text/html": [
              "<pre>recommendations finished on 261000/343677 queries. users per second: 7280.02</pre>"
            ]
          },
          "metadata": {}
        },
        {
          "output_type": "display_data",
          "data": {
            "text/plain": [
              "recommendations finished on 262000/343677 queries. users per second: 7277.8"
            ],
            "text/html": [
              "<pre>recommendations finished on 262000/343677 queries. users per second: 7277.8</pre>"
            ]
          },
          "metadata": {}
        },
        {
          "output_type": "display_data",
          "data": {
            "text/plain": [
              "recommendations finished on 263000/343677 queries. users per second: 7278.08"
            ],
            "text/html": [
              "<pre>recommendations finished on 263000/343677 queries. users per second: 7278.08</pre>"
            ]
          },
          "metadata": {}
        },
        {
          "output_type": "display_data",
          "data": {
            "text/plain": [
              "recommendations finished on 264000/343677 queries. users per second: 7278.3"
            ],
            "text/html": [
              "<pre>recommendations finished on 264000/343677 queries. users per second: 7278.3</pre>"
            ]
          },
          "metadata": {}
        },
        {
          "output_type": "display_data",
          "data": {
            "text/plain": [
              "recommendations finished on 265000/343677 queries. users per second: 7278.78"
            ],
            "text/html": [
              "<pre>recommendations finished on 265000/343677 queries. users per second: 7278.78</pre>"
            ]
          },
          "metadata": {}
        },
        {
          "output_type": "display_data",
          "data": {
            "text/plain": [
              "recommendations finished on 266000/343677 queries. users per second: 7279.09"
            ],
            "text/html": [
              "<pre>recommendations finished on 266000/343677 queries. users per second: 7279.09</pre>"
            ]
          },
          "metadata": {}
        },
        {
          "output_type": "display_data",
          "data": {
            "text/plain": [
              "recommendations finished on 267000/343677 queries. users per second: 7279.32"
            ],
            "text/html": [
              "<pre>recommendations finished on 267000/343677 queries. users per second: 7279.32</pre>"
            ]
          },
          "metadata": {}
        },
        {
          "output_type": "display_data",
          "data": {
            "text/plain": [
              "recommendations finished on 268000/343677 queries. users per second: 7279.74"
            ],
            "text/html": [
              "<pre>recommendations finished on 268000/343677 queries. users per second: 7279.74</pre>"
            ]
          },
          "metadata": {}
        },
        {
          "output_type": "display_data",
          "data": {
            "text/plain": [
              "recommendations finished on 269000/343677 queries. users per second: 7279.91"
            ],
            "text/html": [
              "<pre>recommendations finished on 269000/343677 queries. users per second: 7279.91</pre>"
            ]
          },
          "metadata": {}
        },
        {
          "output_type": "display_data",
          "data": {
            "text/plain": [
              "recommendations finished on 270000/343677 queries. users per second: 7279.55"
            ],
            "text/html": [
              "<pre>recommendations finished on 270000/343677 queries. users per second: 7279.55</pre>"
            ]
          },
          "metadata": {}
        },
        {
          "output_type": "display_data",
          "data": {
            "text/plain": [
              "recommendations finished on 271000/343677 queries. users per second: 7279.75"
            ],
            "text/html": [
              "<pre>recommendations finished on 271000/343677 queries. users per second: 7279.75</pre>"
            ]
          },
          "metadata": {}
        },
        {
          "output_type": "display_data",
          "data": {
            "text/plain": [
              "recommendations finished on 272000/343677 queries. users per second: 7280.14"
            ],
            "text/html": [
              "<pre>recommendations finished on 272000/343677 queries. users per second: 7280.14</pre>"
            ]
          },
          "metadata": {}
        },
        {
          "output_type": "display_data",
          "data": {
            "text/plain": [
              "recommendations finished on 273000/343677 queries. users per second: 7280.19"
            ],
            "text/html": [
              "<pre>recommendations finished on 273000/343677 queries. users per second: 7280.19</pre>"
            ]
          },
          "metadata": {}
        },
        {
          "output_type": "display_data",
          "data": {
            "text/plain": [
              "recommendations finished on 274000/343677 queries. users per second: 7280.48"
            ],
            "text/html": [
              "<pre>recommendations finished on 274000/343677 queries. users per second: 7280.48</pre>"
            ]
          },
          "metadata": {}
        },
        {
          "output_type": "display_data",
          "data": {
            "text/plain": [
              "recommendations finished on 275000/343677 queries. users per second: 7280.77"
            ],
            "text/html": [
              "<pre>recommendations finished on 275000/343677 queries. users per second: 7280.77</pre>"
            ]
          },
          "metadata": {}
        },
        {
          "output_type": "display_data",
          "data": {
            "text/plain": [
              "recommendations finished on 276000/343677 queries. users per second: 7280.86"
            ],
            "text/html": [
              "<pre>recommendations finished on 276000/343677 queries. users per second: 7280.86</pre>"
            ]
          },
          "metadata": {}
        },
        {
          "output_type": "display_data",
          "data": {
            "text/plain": [
              "recommendations finished on 277000/343677 queries. users per second: 7280.46"
            ],
            "text/html": [
              "<pre>recommendations finished on 277000/343677 queries. users per second: 7280.46</pre>"
            ]
          },
          "metadata": {}
        },
        {
          "output_type": "display_data",
          "data": {
            "text/plain": [
              "recommendations finished on 278000/343677 queries. users per second: 7280.18"
            ],
            "text/html": [
              "<pre>recommendations finished on 278000/343677 queries. users per second: 7280.18</pre>"
            ]
          },
          "metadata": {}
        },
        {
          "output_type": "display_data",
          "data": {
            "text/plain": [
              "recommendations finished on 279000/343677 queries. users per second: 7280.31"
            ],
            "text/html": [
              "<pre>recommendations finished on 279000/343677 queries. users per second: 7280.31</pre>"
            ]
          },
          "metadata": {}
        },
        {
          "output_type": "display_data",
          "data": {
            "text/plain": [
              "recommendations finished on 280000/343677 queries. users per second: 7280.44"
            ],
            "text/html": [
              "<pre>recommendations finished on 280000/343677 queries. users per second: 7280.44</pre>"
            ]
          },
          "metadata": {}
        },
        {
          "output_type": "display_data",
          "data": {
            "text/plain": [
              "recommendations finished on 281000/343677 queries. users per second: 7280.63"
            ],
            "text/html": [
              "<pre>recommendations finished on 281000/343677 queries. users per second: 7280.63</pre>"
            ]
          },
          "metadata": {}
        },
        {
          "output_type": "display_data",
          "data": {
            "text/plain": [
              "recommendations finished on 282000/343677 queries. users per second: 7280.87"
            ],
            "text/html": [
              "<pre>recommendations finished on 282000/343677 queries. users per second: 7280.87</pre>"
            ]
          },
          "metadata": {}
        },
        {
          "output_type": "display_data",
          "data": {
            "text/plain": [
              "recommendations finished on 283000/343677 queries. users per second: 7280.96"
            ],
            "text/html": [
              "<pre>recommendations finished on 283000/343677 queries. users per second: 7280.96</pre>"
            ]
          },
          "metadata": {}
        },
        {
          "output_type": "display_data",
          "data": {
            "text/plain": [
              "recommendations finished on 284000/343677 queries. users per second: 7281.12"
            ],
            "text/html": [
              "<pre>recommendations finished on 284000/343677 queries. users per second: 7281.12</pre>"
            ]
          },
          "metadata": {}
        },
        {
          "output_type": "display_data",
          "data": {
            "text/plain": [
              "recommendations finished on 285000/343677 queries. users per second: 7280.05"
            ],
            "text/html": [
              "<pre>recommendations finished on 285000/343677 queries. users per second: 7280.05</pre>"
            ]
          },
          "metadata": {}
        },
        {
          "output_type": "display_data",
          "data": {
            "text/plain": [
              "recommendations finished on 286000/343677 queries. users per second: 7280.13"
            ],
            "text/html": [
              "<pre>recommendations finished on 286000/343677 queries. users per second: 7280.13</pre>"
            ]
          },
          "metadata": {}
        },
        {
          "output_type": "display_data",
          "data": {
            "text/plain": [
              "recommendations finished on 287000/343677 queries. users per second: 7280.61"
            ],
            "text/html": [
              "<pre>recommendations finished on 287000/343677 queries. users per second: 7280.61</pre>"
            ]
          },
          "metadata": {}
        },
        {
          "output_type": "display_data",
          "data": {
            "text/plain": [
              "recommendations finished on 288000/343677 queries. users per second: 7280.36"
            ],
            "text/html": [
              "<pre>recommendations finished on 288000/343677 queries. users per second: 7280.36</pre>"
            ]
          },
          "metadata": {}
        },
        {
          "output_type": "display_data",
          "data": {
            "text/plain": [
              "recommendations finished on 289000/343677 queries. users per second: 7280.35"
            ],
            "text/html": [
              "<pre>recommendations finished on 289000/343677 queries. users per second: 7280.35</pre>"
            ]
          },
          "metadata": {}
        },
        {
          "output_type": "display_data",
          "data": {
            "text/plain": [
              "recommendations finished on 290000/343677 queries. users per second: 7280.79"
            ],
            "text/html": [
              "<pre>recommendations finished on 290000/343677 queries. users per second: 7280.79</pre>"
            ]
          },
          "metadata": {}
        },
        {
          "output_type": "display_data",
          "data": {
            "text/plain": [
              "recommendations finished on 291000/343677 queries. users per second: 7280.86"
            ],
            "text/html": [
              "<pre>recommendations finished on 291000/343677 queries. users per second: 7280.86</pre>"
            ]
          },
          "metadata": {}
        },
        {
          "output_type": "display_data",
          "data": {
            "text/plain": [
              "recommendations finished on 292000/343677 queries. users per second: 7280.33"
            ],
            "text/html": [
              "<pre>recommendations finished on 292000/343677 queries. users per second: 7280.33</pre>"
            ]
          },
          "metadata": {}
        },
        {
          "output_type": "display_data",
          "data": {
            "text/plain": [
              "recommendations finished on 293000/343677 queries. users per second: 7280.37"
            ],
            "text/html": [
              "<pre>recommendations finished on 293000/343677 queries. users per second: 7280.37</pre>"
            ]
          },
          "metadata": {}
        },
        {
          "output_type": "display_data",
          "data": {
            "text/plain": [
              "recommendations finished on 294000/343677 queries. users per second: 7280.71"
            ],
            "text/html": [
              "<pre>recommendations finished on 294000/343677 queries. users per second: 7280.71</pre>"
            ]
          },
          "metadata": {}
        },
        {
          "output_type": "display_data",
          "data": {
            "text/plain": [
              "recommendations finished on 295000/343677 queries. users per second: 7280.91"
            ],
            "text/html": [
              "<pre>recommendations finished on 295000/343677 queries. users per second: 7280.91</pre>"
            ]
          },
          "metadata": {}
        },
        {
          "output_type": "display_data",
          "data": {
            "text/plain": [
              "recommendations finished on 296000/343677 queries. users per second: 7281.3"
            ],
            "text/html": [
              "<pre>recommendations finished on 296000/343677 queries. users per second: 7281.3</pre>"
            ]
          },
          "metadata": {}
        },
        {
          "output_type": "display_data",
          "data": {
            "text/plain": [
              "recommendations finished on 297000/343677 queries. users per second: 7281.59"
            ],
            "text/html": [
              "<pre>recommendations finished on 297000/343677 queries. users per second: 7281.59</pre>"
            ]
          },
          "metadata": {}
        },
        {
          "output_type": "display_data",
          "data": {
            "text/plain": [
              "recommendations finished on 298000/343677 queries. users per second: 7281.95"
            ],
            "text/html": [
              "<pre>recommendations finished on 298000/343677 queries. users per second: 7281.95</pre>"
            ]
          },
          "metadata": {}
        },
        {
          "output_type": "display_data",
          "data": {
            "text/plain": [
              "recommendations finished on 299000/343677 queries. users per second: 7282.06"
            ],
            "text/html": [
              "<pre>recommendations finished on 299000/343677 queries. users per second: 7282.06</pre>"
            ]
          },
          "metadata": {}
        },
        {
          "output_type": "display_data",
          "data": {
            "text/plain": [
              "recommendations finished on 300000/343677 queries. users per second: 7281.2"
            ],
            "text/html": [
              "<pre>recommendations finished on 300000/343677 queries. users per second: 7281.2</pre>"
            ]
          },
          "metadata": {}
        },
        {
          "output_type": "display_data",
          "data": {
            "text/plain": [
              "recommendations finished on 301000/343677 queries. users per second: 7281.49"
            ],
            "text/html": [
              "<pre>recommendations finished on 301000/343677 queries. users per second: 7281.49</pre>"
            ]
          },
          "metadata": {}
        },
        {
          "output_type": "display_data",
          "data": {
            "text/plain": [
              "recommendations finished on 302000/343677 queries. users per second: 7281.72"
            ],
            "text/html": [
              "<pre>recommendations finished on 302000/343677 queries. users per second: 7281.72</pre>"
            ]
          },
          "metadata": {}
        },
        {
          "output_type": "display_data",
          "data": {
            "text/plain": [
              "recommendations finished on 303000/343677 queries. users per second: 7282.03"
            ],
            "text/html": [
              "<pre>recommendations finished on 303000/343677 queries. users per second: 7282.03</pre>"
            ]
          },
          "metadata": {}
        },
        {
          "output_type": "display_data",
          "data": {
            "text/plain": [
              "recommendations finished on 304000/343677 queries. users per second: 7282.15"
            ],
            "text/html": [
              "<pre>recommendations finished on 304000/343677 queries. users per second: 7282.15</pre>"
            ]
          },
          "metadata": {}
        },
        {
          "output_type": "display_data",
          "data": {
            "text/plain": [
              "recommendations finished on 305000/343677 queries. users per second: 7282.41"
            ],
            "text/html": [
              "<pre>recommendations finished on 305000/343677 queries. users per second: 7282.41</pre>"
            ]
          },
          "metadata": {}
        },
        {
          "output_type": "display_data",
          "data": {
            "text/plain": [
              "recommendations finished on 306000/343677 queries. users per second: 7282.65"
            ],
            "text/html": [
              "<pre>recommendations finished on 306000/343677 queries. users per second: 7282.65</pre>"
            ]
          },
          "metadata": {}
        },
        {
          "output_type": "display_data",
          "data": {
            "text/plain": [
              "recommendations finished on 307000/343677 queries. users per second: 7282.23"
            ],
            "text/html": [
              "<pre>recommendations finished on 307000/343677 queries. users per second: 7282.23</pre>"
            ]
          },
          "metadata": {}
        },
        {
          "output_type": "display_data",
          "data": {
            "text/plain": [
              "recommendations finished on 308000/343677 queries. users per second: 7280.36"
            ],
            "text/html": [
              "<pre>recommendations finished on 308000/343677 queries. users per second: 7280.36</pre>"
            ]
          },
          "metadata": {}
        },
        {
          "output_type": "display_data",
          "data": {
            "text/plain": [
              "recommendations finished on 309000/343677 queries. users per second: 7280.79"
            ],
            "text/html": [
              "<pre>recommendations finished on 309000/343677 queries. users per second: 7280.79</pre>"
            ]
          },
          "metadata": {}
        },
        {
          "output_type": "display_data",
          "data": {
            "text/plain": [
              "recommendations finished on 310000/343677 queries. users per second: 7281.13"
            ],
            "text/html": [
              "<pre>recommendations finished on 310000/343677 queries. users per second: 7281.13</pre>"
            ]
          },
          "metadata": {}
        },
        {
          "output_type": "display_data",
          "data": {
            "text/plain": [
              "recommendations finished on 311000/343677 queries. users per second: 7281.51"
            ],
            "text/html": [
              "<pre>recommendations finished on 311000/343677 queries. users per second: 7281.51</pre>"
            ]
          },
          "metadata": {}
        },
        {
          "output_type": "display_data",
          "data": {
            "text/plain": [
              "recommendations finished on 312000/343677 queries. users per second: 7281.46"
            ],
            "text/html": [
              "<pre>recommendations finished on 312000/343677 queries. users per second: 7281.46</pre>"
            ]
          },
          "metadata": {}
        },
        {
          "output_type": "display_data",
          "data": {
            "text/plain": [
              "recommendations finished on 313000/343677 queries. users per second: 7281.77"
            ],
            "text/html": [
              "<pre>recommendations finished on 313000/343677 queries. users per second: 7281.77</pre>"
            ]
          },
          "metadata": {}
        },
        {
          "output_type": "display_data",
          "data": {
            "text/plain": [
              "recommendations finished on 314000/343677 queries. users per second: 7281.97"
            ],
            "text/html": [
              "<pre>recommendations finished on 314000/343677 queries. users per second: 7281.97</pre>"
            ]
          },
          "metadata": {}
        },
        {
          "output_type": "display_data",
          "data": {
            "text/plain": [
              "recommendations finished on 315000/343677 queries. users per second: 7281.53"
            ],
            "text/html": [
              "<pre>recommendations finished on 315000/343677 queries. users per second: 7281.53</pre>"
            ]
          },
          "metadata": {}
        },
        {
          "output_type": "display_data",
          "data": {
            "text/plain": [
              "recommendations finished on 316000/343677 queries. users per second: 7280.31"
            ],
            "text/html": [
              "<pre>recommendations finished on 316000/343677 queries. users per second: 7280.31</pre>"
            ]
          },
          "metadata": {}
        },
        {
          "output_type": "display_data",
          "data": {
            "text/plain": [
              "recommendations finished on 317000/343677 queries. users per second: 7280.48"
            ],
            "text/html": [
              "<pre>recommendations finished on 317000/343677 queries. users per second: 7280.48</pre>"
            ]
          },
          "metadata": {}
        },
        {
          "output_type": "display_data",
          "data": {
            "text/plain": [
              "recommendations finished on 318000/343677 queries. users per second: 7280.93"
            ],
            "text/html": [
              "<pre>recommendations finished on 318000/343677 queries. users per second: 7280.93</pre>"
            ]
          },
          "metadata": {}
        },
        {
          "output_type": "display_data",
          "data": {
            "text/plain": [
              "recommendations finished on 319000/343677 queries. users per second: 7281.15"
            ],
            "text/html": [
              "<pre>recommendations finished on 319000/343677 queries. users per second: 7281.15</pre>"
            ]
          },
          "metadata": {}
        },
        {
          "output_type": "display_data",
          "data": {
            "text/plain": [
              "recommendations finished on 320000/343677 queries. users per second: 7281.52"
            ],
            "text/html": [
              "<pre>recommendations finished on 320000/343677 queries. users per second: 7281.52</pre>"
            ]
          },
          "metadata": {}
        },
        {
          "output_type": "display_data",
          "data": {
            "text/plain": [
              "recommendations finished on 321000/343677 queries. users per second: 7281.6"
            ],
            "text/html": [
              "<pre>recommendations finished on 321000/343677 queries. users per second: 7281.6</pre>"
            ]
          },
          "metadata": {}
        },
        {
          "output_type": "display_data",
          "data": {
            "text/plain": [
              "recommendations finished on 322000/343677 queries. users per second: 7280.74"
            ],
            "text/html": [
              "<pre>recommendations finished on 322000/343677 queries. users per second: 7280.74</pre>"
            ]
          },
          "metadata": {}
        },
        {
          "output_type": "display_data",
          "data": {
            "text/plain": [
              "recommendations finished on 323000/343677 queries. users per second: 7280.89"
            ],
            "text/html": [
              "<pre>recommendations finished on 323000/343677 queries. users per second: 7280.89</pre>"
            ]
          },
          "metadata": {}
        },
        {
          "output_type": "display_data",
          "data": {
            "text/plain": [
              "recommendations finished on 324000/343677 queries. users per second: 7281.17"
            ],
            "text/html": [
              "<pre>recommendations finished on 324000/343677 queries. users per second: 7281.17</pre>"
            ]
          },
          "metadata": {}
        },
        {
          "output_type": "display_data",
          "data": {
            "text/plain": [
              "recommendations finished on 325000/343677 queries. users per second: 7280.91"
            ],
            "text/html": [
              "<pre>recommendations finished on 325000/343677 queries. users per second: 7280.91</pre>"
            ]
          },
          "metadata": {}
        },
        {
          "output_type": "display_data",
          "data": {
            "text/plain": [
              "recommendations finished on 326000/343677 queries. users per second: 7281.26"
            ],
            "text/html": [
              "<pre>recommendations finished on 326000/343677 queries. users per second: 7281.26</pre>"
            ]
          },
          "metadata": {}
        },
        {
          "output_type": "display_data",
          "data": {
            "text/plain": [
              "recommendations finished on 327000/343677 queries. users per second: 7281.54"
            ],
            "text/html": [
              "<pre>recommendations finished on 327000/343677 queries. users per second: 7281.54</pre>"
            ]
          },
          "metadata": {}
        },
        {
          "output_type": "display_data",
          "data": {
            "text/plain": [
              "recommendations finished on 328000/343677 queries. users per second: 7281.93"
            ],
            "text/html": [
              "<pre>recommendations finished on 328000/343677 queries. users per second: 7281.93</pre>"
            ]
          },
          "metadata": {}
        },
        {
          "output_type": "display_data",
          "data": {
            "text/plain": [
              "recommendations finished on 329000/343677 queries. users per second: 7279.91"
            ],
            "text/html": [
              "<pre>recommendations finished on 329000/343677 queries. users per second: 7279.91</pre>"
            ]
          },
          "metadata": {}
        },
        {
          "output_type": "display_data",
          "data": {
            "text/plain": [
              "recommendations finished on 330000/343677 queries. users per second: 7279.38"
            ],
            "text/html": [
              "<pre>recommendations finished on 330000/343677 queries. users per second: 7279.38</pre>"
            ]
          },
          "metadata": {}
        },
        {
          "output_type": "display_data",
          "data": {
            "text/plain": [
              "recommendations finished on 331000/343677 queries. users per second: 7279.38"
            ],
            "text/html": [
              "<pre>recommendations finished on 331000/343677 queries. users per second: 7279.38</pre>"
            ]
          },
          "metadata": {}
        },
        {
          "output_type": "display_data",
          "data": {
            "text/plain": [
              "recommendations finished on 332000/343677 queries. users per second: 7278.93"
            ],
            "text/html": [
              "<pre>recommendations finished on 332000/343677 queries. users per second: 7278.93</pre>"
            ]
          },
          "metadata": {}
        },
        {
          "output_type": "display_data",
          "data": {
            "text/plain": [
              "recommendations finished on 333000/343677 queries. users per second: 7278.74"
            ],
            "text/html": [
              "<pre>recommendations finished on 333000/343677 queries. users per second: 7278.74</pre>"
            ]
          },
          "metadata": {}
        },
        {
          "output_type": "display_data",
          "data": {
            "text/plain": [
              "recommendations finished on 334000/343677 queries. users per second: 7278.65"
            ],
            "text/html": [
              "<pre>recommendations finished on 334000/343677 queries. users per second: 7278.65</pre>"
            ]
          },
          "metadata": {}
        },
        {
          "output_type": "display_data",
          "data": {
            "text/plain": [
              "recommendations finished on 335000/343677 queries. users per second: 7278.65"
            ],
            "text/html": [
              "<pre>recommendations finished on 335000/343677 queries. users per second: 7278.65</pre>"
            ]
          },
          "metadata": {}
        },
        {
          "output_type": "display_data",
          "data": {
            "text/plain": [
              "recommendations finished on 336000/343677 queries. users per second: 7278.81"
            ],
            "text/html": [
              "<pre>recommendations finished on 336000/343677 queries. users per second: 7278.81</pre>"
            ]
          },
          "metadata": {}
        },
        {
          "output_type": "display_data",
          "data": {
            "text/plain": [
              "recommendations finished on 337000/343677 queries. users per second: 7278.18"
            ],
            "text/html": [
              "<pre>recommendations finished on 337000/343677 queries. users per second: 7278.18</pre>"
            ]
          },
          "metadata": {}
        },
        {
          "output_type": "display_data",
          "data": {
            "text/plain": [
              "recommendations finished on 338000/343677 queries. users per second: 7277.96"
            ],
            "text/html": [
              "<pre>recommendations finished on 338000/343677 queries. users per second: 7277.96</pre>"
            ]
          },
          "metadata": {}
        },
        {
          "output_type": "display_data",
          "data": {
            "text/plain": [
              "recommendations finished on 339000/343677 queries. users per second: 7278.33"
            ],
            "text/html": [
              "<pre>recommendations finished on 339000/343677 queries. users per second: 7278.33</pre>"
            ]
          },
          "metadata": {}
        },
        {
          "output_type": "display_data",
          "data": {
            "text/plain": [
              "recommendations finished on 340000/343677 queries. users per second: 7278.52"
            ],
            "text/html": [
              "<pre>recommendations finished on 340000/343677 queries. users per second: 7278.52</pre>"
            ]
          },
          "metadata": {}
        },
        {
          "output_type": "display_data",
          "data": {
            "text/plain": [
              "recommendations finished on 341000/343677 queries. users per second: 7278.78"
            ],
            "text/html": [
              "<pre>recommendations finished on 341000/343677 queries. users per second: 7278.78</pre>"
            ]
          },
          "metadata": {}
        },
        {
          "output_type": "display_data",
          "data": {
            "text/plain": [
              "recommendations finished on 342000/343677 queries. users per second: 7277.95"
            ],
            "text/html": [
              "<pre>recommendations finished on 342000/343677 queries. users per second: 7277.95</pre>"
            ]
          },
          "metadata": {}
        },
        {
          "output_type": "display_data",
          "data": {
            "text/plain": [
              "recommendations finished on 343000/343677 queries. users per second: 7263.78"
            ],
            "text/html": [
              "<pre>recommendations finished on 343000/343677 queries. users per second: 7263.78</pre>"
            ]
          },
          "metadata": {}
        }
      ]
    },
    {
      "cell_type": "code",
      "source": [
        "recommendation_jac.print_rows(100)"
      ],
      "metadata": {
        "id": "qbxvqP3NA1PV"
      },
      "execution_count": null,
      "outputs": []
    },
    {
      "cell_type": "markdown",
      "source": [
        "### 1-2-2 Popularity"
      ],
      "metadata": {
        "id": "Vtt_hbNK7NNj"
      }
    },
    {
      "cell_type": "code",
      "source": [
        "# Creating a dataset with the N most purchased items during the last 5 weeks\n",
        "N_MOST_POPULAR = 100\n",
        "df_popularity = df_train.groupby('article_id',as_index=False).count().iloc[:,:2]\n",
        "df_popularity.rename(columns={'t_dat': 'popularity_score'},inplace=True)\n",
        "df_best_N = df_popularity.sort_values(by=['popularity_score'], \n",
        "                                      ascending= False).iloc[:N_MOST_POPULAR]\n"
      ],
      "metadata": {
        "id": "A8nviYCO7IZv"
      },
      "execution_count": null,
      "outputs": []
    },
    {
      "cell_type": "code",
      "source": [
        "df_best_N"
      ],
      "metadata": {
        "colab": {
          "base_uri": "https://localhost:8080/",
          "height": 424
        },
        "id": "b5tu47QTxlzW",
        "outputId": "bfde182e-fa67-40df-a398-314151e664db"
      },
      "execution_count": null,
      "outputs": [
        {
          "output_type": "execute_result",
          "data": {
            "text/plain": [
              "       article_id  popularity_score\n",
              "10638   751471001              3302\n",
              "32728   918292001              3082\n",
              "7221    706016001              2794\n",
              "32513   915526001              2678\n",
              "10657   751471043              2598\n",
              "...           ...               ...\n",
              "16245   806388001              1065\n",
              "28631   884319003              1064\n",
              "11838   762846008              1061\n",
              "31571   905957001              1053\n",
              "9330    736870001              1051\n",
              "\n",
              "[100 rows x 2 columns]"
            ],
            "text/html": [
              "\n",
              "  <div id=\"df-978ee90b-bad3-45c2-96b3-7877f3d5ccee\">\n",
              "    <div class=\"colab-df-container\">\n",
              "      <div>\n",
              "<style scoped>\n",
              "    .dataframe tbody tr th:only-of-type {\n",
              "        vertical-align: middle;\n",
              "    }\n",
              "\n",
              "    .dataframe tbody tr th {\n",
              "        vertical-align: top;\n",
              "    }\n",
              "\n",
              "    .dataframe thead th {\n",
              "        text-align: right;\n",
              "    }\n",
              "</style>\n",
              "<table border=\"1\" class=\"dataframe\">\n",
              "  <thead>\n",
              "    <tr style=\"text-align: right;\">\n",
              "      <th></th>\n",
              "      <th>article_id</th>\n",
              "      <th>popularity_score</th>\n",
              "    </tr>\n",
              "  </thead>\n",
              "  <tbody>\n",
              "    <tr>\n",
              "      <th>10638</th>\n",
              "      <td>751471001</td>\n",
              "      <td>3302</td>\n",
              "    </tr>\n",
              "    <tr>\n",
              "      <th>32728</th>\n",
              "      <td>918292001</td>\n",
              "      <td>3082</td>\n",
              "    </tr>\n",
              "    <tr>\n",
              "      <th>7221</th>\n",
              "      <td>706016001</td>\n",
              "      <td>2794</td>\n",
              "    </tr>\n",
              "    <tr>\n",
              "      <th>32513</th>\n",
              "      <td>915526001</td>\n",
              "      <td>2678</td>\n",
              "    </tr>\n",
              "    <tr>\n",
              "      <th>10657</th>\n",
              "      <td>751471043</td>\n",
              "      <td>2598</td>\n",
              "    </tr>\n",
              "    <tr>\n",
              "      <th>...</th>\n",
              "      <td>...</td>\n",
              "      <td>...</td>\n",
              "    </tr>\n",
              "    <tr>\n",
              "      <th>16245</th>\n",
              "      <td>806388001</td>\n",
              "      <td>1065</td>\n",
              "    </tr>\n",
              "    <tr>\n",
              "      <th>28631</th>\n",
              "      <td>884319003</td>\n",
              "      <td>1064</td>\n",
              "    </tr>\n",
              "    <tr>\n",
              "      <th>11838</th>\n",
              "      <td>762846008</td>\n",
              "      <td>1061</td>\n",
              "    </tr>\n",
              "    <tr>\n",
              "      <th>31571</th>\n",
              "      <td>905957001</td>\n",
              "      <td>1053</td>\n",
              "    </tr>\n",
              "    <tr>\n",
              "      <th>9330</th>\n",
              "      <td>736870001</td>\n",
              "      <td>1051</td>\n",
              "    </tr>\n",
              "  </tbody>\n",
              "</table>\n",
              "<p>100 rows × 2 columns</p>\n",
              "</div>\n",
              "      <button class=\"colab-df-convert\" onclick=\"convertToInteractive('df-978ee90b-bad3-45c2-96b3-7877f3d5ccee')\"\n",
              "              title=\"Convert this dataframe to an interactive table.\"\n",
              "              style=\"display:none;\">\n",
              "        \n",
              "  <svg xmlns=\"http://www.w3.org/2000/svg\" height=\"24px\"viewBox=\"0 0 24 24\"\n",
              "       width=\"24px\">\n",
              "    <path d=\"M0 0h24v24H0V0z\" fill=\"none\"/>\n",
              "    <path d=\"M18.56 5.44l.94 2.06.94-2.06 2.06-.94-2.06-.94-.94-2.06-.94 2.06-2.06.94zm-11 1L8.5 8.5l.94-2.06 2.06-.94-2.06-.94L8.5 2.5l-.94 2.06-2.06.94zm10 10l.94 2.06.94-2.06 2.06-.94-2.06-.94-.94-2.06-.94 2.06-2.06.94z\"/><path d=\"M17.41 7.96l-1.37-1.37c-.4-.4-.92-.59-1.43-.59-.52 0-1.04.2-1.43.59L10.3 9.45l-7.72 7.72c-.78.78-.78 2.05 0 2.83L4 21.41c.39.39.9.59 1.41.59.51 0 1.02-.2 1.41-.59l7.78-7.78 2.81-2.81c.8-.78.8-2.07 0-2.86zM5.41 20L4 18.59l7.72-7.72 1.47 1.35L5.41 20z\"/>\n",
              "  </svg>\n",
              "      </button>\n",
              "      \n",
              "  <style>\n",
              "    .colab-df-container {\n",
              "      display:flex;\n",
              "      flex-wrap:wrap;\n",
              "      gap: 12px;\n",
              "    }\n",
              "\n",
              "    .colab-df-convert {\n",
              "      background-color: #E8F0FE;\n",
              "      border: none;\n",
              "      border-radius: 50%;\n",
              "      cursor: pointer;\n",
              "      display: none;\n",
              "      fill: #1967D2;\n",
              "      height: 32px;\n",
              "      padding: 0 0 0 0;\n",
              "      width: 32px;\n",
              "    }\n",
              "\n",
              "    .colab-df-convert:hover {\n",
              "      background-color: #E2EBFA;\n",
              "      box-shadow: 0px 1px 2px rgba(60, 64, 67, 0.3), 0px 1px 3px 1px rgba(60, 64, 67, 0.15);\n",
              "      fill: #174EA6;\n",
              "    }\n",
              "\n",
              "    [theme=dark] .colab-df-convert {\n",
              "      background-color: #3B4455;\n",
              "      fill: #D2E3FC;\n",
              "    }\n",
              "\n",
              "    [theme=dark] .colab-df-convert:hover {\n",
              "      background-color: #434B5C;\n",
              "      box-shadow: 0px 1px 3px 1px rgba(0, 0, 0, 0.15);\n",
              "      filter: drop-shadow(0px 1px 2px rgba(0, 0, 0, 0.3));\n",
              "      fill: #FFFFFF;\n",
              "    }\n",
              "  </style>\n",
              "\n",
              "      <script>\n",
              "        const buttonEl =\n",
              "          document.querySelector('#df-978ee90b-bad3-45c2-96b3-7877f3d5ccee button.colab-df-convert');\n",
              "        buttonEl.style.display =\n",
              "          google.colab.kernel.accessAllowed ? 'block' : 'none';\n",
              "\n",
              "        async function convertToInteractive(key) {\n",
              "          const element = document.querySelector('#df-978ee90b-bad3-45c2-96b3-7877f3d5ccee');\n",
              "          const dataTable =\n",
              "            await google.colab.kernel.invokeFunction('convertToInteractive',\n",
              "                                                     [key], {});\n",
              "          if (!dataTable) return;\n",
              "\n",
              "          const docLinkHtml = 'Like what you see? Visit the ' +\n",
              "            '<a target=\"_blank\" href=https://colab.research.google.com/notebooks/data_table.ipynb>data table notebook</a>'\n",
              "            + ' to learn more about interactive tables.';\n",
              "          element.innerHTML = '';\n",
              "          dataTable['output_type'] = 'display_data';\n",
              "          await google.colab.output.renderOutput(dataTable, element);\n",
              "          const docLink = document.createElement('div');\n",
              "          docLink.innerHTML = docLinkHtml;\n",
              "          element.appendChild(docLink);\n",
              "        }\n",
              "      </script>\n",
              "    </div>\n",
              "  </div>\n",
              "  "
            ]
          },
          "metadata": {},
          "execution_count": 48
        }
      ]
    },
    {
      "cell_type": "code",
      "source": [
        "df_best_N_CF = df_best_N.merge(df_train[['customer_id']].drop_duplicates(),\n",
        "                                how='cross')\n",
        "   "
      ],
      "metadata": {
        "id": "yEo_7cxBROPr"
      },
      "execution_count": null,
      "outputs": []
    },
    {
      "cell_type": "code",
      "source": [
        "df_best_N_CF"
      ],
      "metadata": {
        "colab": {
          "base_uri": "https://localhost:8080/",
          "height": 424
        },
        "id": "mnq21V5uOT8C",
        "outputId": "f3dc4760-7118-48e6-e2c1-a2aeeef96c1d"
      },
      "execution_count": null,
      "outputs": [
        {
          "output_type": "execute_result",
          "data": {
            "text/plain": [
              "          article_id  popularity_score  \\\n",
              "0          751471001              3302   \n",
              "1          751471001              3302   \n",
              "2          751471001              3302   \n",
              "3          751471001              3302   \n",
              "4          751471001              3302   \n",
              "...              ...               ...   \n",
              "27494155   456163060              1143   \n",
              "27494156   456163060              1143   \n",
              "27494157   456163060              1143   \n",
              "27494158   456163060              1143   \n",
              "27494159   456163060              1143   \n",
              "\n",
              "                                                customer_id  \n",
              "0         0011e0bd4c39195ff342c0ca0ac0601ce2b943a8265506...  \n",
              "1         0013bde09d10db6b0a6a3b0987ac60b643013dfc6f924b...  \n",
              "2         002064c9fbf10c4519c8f9aba4a295bb117e8381d6308e...  \n",
              "3         002c6ef01000772abd545032fd61853b2dc06210299455...  \n",
              "4         002ccdddcdc2113cfc8840afe62f05a8edce57a66a8522...  \n",
              "...                                                     ...  \n",
              "27494155  ff5b8a8b26bf93a66290e9bd1b73393ac6a58968a78519...  \n",
              "27494156  ff6f55a51af284b71dcd264396b299e548f968c1769e71...  \n",
              "27494157  ff732b98019465f078144bae647d7d9765d76e3431ef92...  \n",
              "27494158  ffb72741f3bc3d98855703b55d34e05bc7893a5d6a99a3...  \n",
              "27494159  ffc92c3f7b0b302f393c2968b290f6e5c5b5510d1cf1df...  \n",
              "\n",
              "[27494160 rows x 3 columns]"
            ],
            "text/html": [
              "\n",
              "  <div id=\"df-eeb59fb9-3b0f-4407-9564-c4558fda806e\">\n",
              "    <div class=\"colab-df-container\">\n",
              "      <div>\n",
              "<style scoped>\n",
              "    .dataframe tbody tr th:only-of-type {\n",
              "        vertical-align: middle;\n",
              "    }\n",
              "\n",
              "    .dataframe tbody tr th {\n",
              "        vertical-align: top;\n",
              "    }\n",
              "\n",
              "    .dataframe thead th {\n",
              "        text-align: right;\n",
              "    }\n",
              "</style>\n",
              "<table border=\"1\" class=\"dataframe\">\n",
              "  <thead>\n",
              "    <tr style=\"text-align: right;\">\n",
              "      <th></th>\n",
              "      <th>article_id</th>\n",
              "      <th>popularity_score</th>\n",
              "      <th>customer_id</th>\n",
              "    </tr>\n",
              "  </thead>\n",
              "  <tbody>\n",
              "    <tr>\n",
              "      <th>0</th>\n",
              "      <td>751471001</td>\n",
              "      <td>3302</td>\n",
              "      <td>0011e0bd4c39195ff342c0ca0ac0601ce2b943a8265506...</td>\n",
              "    </tr>\n",
              "    <tr>\n",
              "      <th>1</th>\n",
              "      <td>751471001</td>\n",
              "      <td>3302</td>\n",
              "      <td>0013bde09d10db6b0a6a3b0987ac60b643013dfc6f924b...</td>\n",
              "    </tr>\n",
              "    <tr>\n",
              "      <th>2</th>\n",
              "      <td>751471001</td>\n",
              "      <td>3302</td>\n",
              "      <td>002064c9fbf10c4519c8f9aba4a295bb117e8381d6308e...</td>\n",
              "    </tr>\n",
              "    <tr>\n",
              "      <th>3</th>\n",
              "      <td>751471001</td>\n",
              "      <td>3302</td>\n",
              "      <td>002c6ef01000772abd545032fd61853b2dc06210299455...</td>\n",
              "    </tr>\n",
              "    <tr>\n",
              "      <th>4</th>\n",
              "      <td>751471001</td>\n",
              "      <td>3302</td>\n",
              "      <td>002ccdddcdc2113cfc8840afe62f05a8edce57a66a8522...</td>\n",
              "    </tr>\n",
              "    <tr>\n",
              "      <th>...</th>\n",
              "      <td>...</td>\n",
              "      <td>...</td>\n",
              "      <td>...</td>\n",
              "    </tr>\n",
              "    <tr>\n",
              "      <th>27494155</th>\n",
              "      <td>456163060</td>\n",
              "      <td>1143</td>\n",
              "      <td>ff5b8a8b26bf93a66290e9bd1b73393ac6a58968a78519...</td>\n",
              "    </tr>\n",
              "    <tr>\n",
              "      <th>27494156</th>\n",
              "      <td>456163060</td>\n",
              "      <td>1143</td>\n",
              "      <td>ff6f55a51af284b71dcd264396b299e548f968c1769e71...</td>\n",
              "    </tr>\n",
              "    <tr>\n",
              "      <th>27494157</th>\n",
              "      <td>456163060</td>\n",
              "      <td>1143</td>\n",
              "      <td>ff732b98019465f078144bae647d7d9765d76e3431ef92...</td>\n",
              "    </tr>\n",
              "    <tr>\n",
              "      <th>27494158</th>\n",
              "      <td>456163060</td>\n",
              "      <td>1143</td>\n",
              "      <td>ffb72741f3bc3d98855703b55d34e05bc7893a5d6a99a3...</td>\n",
              "    </tr>\n",
              "    <tr>\n",
              "      <th>27494159</th>\n",
              "      <td>456163060</td>\n",
              "      <td>1143</td>\n",
              "      <td>ffc92c3f7b0b302f393c2968b290f6e5c5b5510d1cf1df...</td>\n",
              "    </tr>\n",
              "  </tbody>\n",
              "</table>\n",
              "<p>27494160 rows × 3 columns</p>\n",
              "</div>\n",
              "      <button class=\"colab-df-convert\" onclick=\"convertToInteractive('df-eeb59fb9-3b0f-4407-9564-c4558fda806e')\"\n",
              "              title=\"Convert this dataframe to an interactive table.\"\n",
              "              style=\"display:none;\">\n",
              "        \n",
              "  <svg xmlns=\"http://www.w3.org/2000/svg\" height=\"24px\"viewBox=\"0 0 24 24\"\n",
              "       width=\"24px\">\n",
              "    <path d=\"M0 0h24v24H0V0z\" fill=\"none\"/>\n",
              "    <path d=\"M18.56 5.44l.94 2.06.94-2.06 2.06-.94-2.06-.94-.94-2.06-.94 2.06-2.06.94zm-11 1L8.5 8.5l.94-2.06 2.06-.94-2.06-.94L8.5 2.5l-.94 2.06-2.06.94zm10 10l.94 2.06.94-2.06 2.06-.94-2.06-.94-.94-2.06-.94 2.06-2.06.94z\"/><path d=\"M17.41 7.96l-1.37-1.37c-.4-.4-.92-.59-1.43-.59-.52 0-1.04.2-1.43.59L10.3 9.45l-7.72 7.72c-.78.78-.78 2.05 0 2.83L4 21.41c.39.39.9.59 1.41.59.51 0 1.02-.2 1.41-.59l7.78-7.78 2.81-2.81c.8-.78.8-2.07 0-2.86zM5.41 20L4 18.59l7.72-7.72 1.47 1.35L5.41 20z\"/>\n",
              "  </svg>\n",
              "      </button>\n",
              "      \n",
              "  <style>\n",
              "    .colab-df-container {\n",
              "      display:flex;\n",
              "      flex-wrap:wrap;\n",
              "      gap: 12px;\n",
              "    }\n",
              "\n",
              "    .colab-df-convert {\n",
              "      background-color: #E8F0FE;\n",
              "      border: none;\n",
              "      border-radius: 50%;\n",
              "      cursor: pointer;\n",
              "      display: none;\n",
              "      fill: #1967D2;\n",
              "      height: 32px;\n",
              "      padding: 0 0 0 0;\n",
              "      width: 32px;\n",
              "    }\n",
              "\n",
              "    .colab-df-convert:hover {\n",
              "      background-color: #E2EBFA;\n",
              "      box-shadow: 0px 1px 2px rgba(60, 64, 67, 0.3), 0px 1px 3px 1px rgba(60, 64, 67, 0.15);\n",
              "      fill: #174EA6;\n",
              "    }\n",
              "\n",
              "    [theme=dark] .colab-df-convert {\n",
              "      background-color: #3B4455;\n",
              "      fill: #D2E3FC;\n",
              "    }\n",
              "\n",
              "    [theme=dark] .colab-df-convert:hover {\n",
              "      background-color: #434B5C;\n",
              "      box-shadow: 0px 1px 3px 1px rgba(0, 0, 0, 0.15);\n",
              "      filter: drop-shadow(0px 1px 2px rgba(0, 0, 0, 0.3));\n",
              "      fill: #FFFFFF;\n",
              "    }\n",
              "  </style>\n",
              "\n",
              "      <script>\n",
              "        const buttonEl =\n",
              "          document.querySelector('#df-eeb59fb9-3b0f-4407-9564-c4558fda806e button.colab-df-convert');\n",
              "        buttonEl.style.display =\n",
              "          google.colab.kernel.accessAllowed ? 'block' : 'none';\n",
              "\n",
              "        async function convertToInteractive(key) {\n",
              "          const element = document.querySelector('#df-eeb59fb9-3b0f-4407-9564-c4558fda806e');\n",
              "          const dataTable =\n",
              "            await google.colab.kernel.invokeFunction('convertToInteractive',\n",
              "                                                     [key], {});\n",
              "          if (!dataTable) return;\n",
              "\n",
              "          const docLinkHtml = 'Like what you see? Visit the ' +\n",
              "            '<a target=\"_blank\" href=https://colab.research.google.com/notebooks/data_table.ipynb>data table notebook</a>'\n",
              "            + ' to learn more about interactive tables.';\n",
              "          element.innerHTML = '';\n",
              "          dataTable['output_type'] = 'display_data';\n",
              "          await google.colab.output.renderOutput(dataTable, element);\n",
              "          const docLink = document.createElement('div');\n",
              "          docLink.innerHTML = docLinkHtml;\n",
              "          element.appendChild(docLink);\n",
              "        }\n",
              "      </script>\n",
              "    </div>\n",
              "  </div>\n",
              "  "
            ]
          },
          "metadata": {},
          "execution_count": 35
        }
      ]
    },
    {
      "cell_type": "code",
      "source": [
        "pop_dic = {k:v for k,v in zip(df_popularity['article_id'].tolist(),df_popularity['popularity_score'].tolist())}"
      ],
      "metadata": {
        "id": "x1ztLJFDG5O6"
      },
      "execution_count": null,
      "outputs": []
    },
    {
      "cell_type": "markdown",
      "metadata": {
        "id": "tv4aoCFvJ41R"
      },
      "source": [
        "# 2 Ranking"
      ]
    },
    {
      "cell_type": "markdown",
      "source": [
        "## 2-1 Preprocessing"
      ],
      "metadata": {
        "id": "6hYlnkt_0T7Z"
      }
    },
    {
      "cell_type": "code",
      "execution_count": null,
      "metadata": {
        "colab": {
          "base_uri": "https://localhost:8080/",
          "height": 284
        },
        "id": "K9BEWjfco78x",
        "outputId": "5dd63ca5-930c-4d4b-9c97-3650c853bd4c"
      },
      "outputs": [
        {
          "output_type": "execute_result",
          "data": {
            "text/plain": [
              "Columns:\n",
              "\tcustomer_id\tint\n",
              "\tarticle_id\tint\n",
              "\tscore\tfloat\n",
              "\trank\tint\n",
              "\n",
              "Rows: 6873540\n",
              "\n",
              "Data:\n",
              "+-------------+------------+-----------------------+------+\n",
              "| customer_id | article_id |         score         | rank |\n",
              "+-------------+------------+-----------------------+------+\n",
              "|      0      |   31008    |  0.02474457025527954  |  1   |\n",
              "|      0      |   29442    |  0.01845690608024597  |  2   |\n",
              "|      0      |    2075    |  0.015740762154261272 |  3   |\n",
              "|      0      |    3815    |  0.01178338130315145  |  4   |\n",
              "|      0      |    1052    |  0.01123457153638204  |  5   |\n",
              "|      0      |   14888    |  0.009359250466028849 |  6   |\n",
              "|      0      |   12375    |  0.008570382992426554 |  7   |\n",
              "|      0      |    6889    |  0.007480134566624959 |  8   |\n",
              "|      0      |   29475    |  0.00682218869527181  |  9   |\n",
              "|      0      |    4810    | 0.0062056779861450195 |  10  |\n",
              "+-------------+------------+-----------------------+------+\n",
              "[6873540 rows x 4 columns]\n",
              "Note: Only the head of the SFrame is printed.\n",
              "You can use print_rows(num_rows=m, num_columns=n) to print more rows and columns."
            ],
            "text/html": [
              "<div style=\"max-height:1000px;max-width:1500px;overflow:auto;\"><table frame=\"box\" rules=\"cols\">\n",
              "    <tr>\n",
              "        <th style=\"padding-left: 1em; padding-right: 1em; text-align: center\">customer_id</th>\n",
              "        <th style=\"padding-left: 1em; padding-right: 1em; text-align: center\">article_id</th>\n",
              "        <th style=\"padding-left: 1em; padding-right: 1em; text-align: center\">score</th>\n",
              "        <th style=\"padding-left: 1em; padding-right: 1em; text-align: center\">rank</th>\n",
              "    </tr>\n",
              "    <tr>\n",
              "        <td style=\"padding-left: 1em; padding-right: 1em; text-align: center; vertical-align: top\">0</td>\n",
              "        <td style=\"padding-left: 1em; padding-right: 1em; text-align: center; vertical-align: top\">31008</td>\n",
              "        <td style=\"padding-left: 1em; padding-right: 1em; text-align: center; vertical-align: top\">0.02474457025527954</td>\n",
              "        <td style=\"padding-left: 1em; padding-right: 1em; text-align: center; vertical-align: top\">1</td>\n",
              "    </tr>\n",
              "    <tr>\n",
              "        <td style=\"padding-left: 1em; padding-right: 1em; text-align: center; vertical-align: top\">0</td>\n",
              "        <td style=\"padding-left: 1em; padding-right: 1em; text-align: center; vertical-align: top\">29442</td>\n",
              "        <td style=\"padding-left: 1em; padding-right: 1em; text-align: center; vertical-align: top\">0.01845690608024597</td>\n",
              "        <td style=\"padding-left: 1em; padding-right: 1em; text-align: center; vertical-align: top\">2</td>\n",
              "    </tr>\n",
              "    <tr>\n",
              "        <td style=\"padding-left: 1em; padding-right: 1em; text-align: center; vertical-align: top\">0</td>\n",
              "        <td style=\"padding-left: 1em; padding-right: 1em; text-align: center; vertical-align: top\">2075</td>\n",
              "        <td style=\"padding-left: 1em; padding-right: 1em; text-align: center; vertical-align: top\">0.015740762154261272</td>\n",
              "        <td style=\"padding-left: 1em; padding-right: 1em; text-align: center; vertical-align: top\">3</td>\n",
              "    </tr>\n",
              "    <tr>\n",
              "        <td style=\"padding-left: 1em; padding-right: 1em; text-align: center; vertical-align: top\">0</td>\n",
              "        <td style=\"padding-left: 1em; padding-right: 1em; text-align: center; vertical-align: top\">3815</td>\n",
              "        <td style=\"padding-left: 1em; padding-right: 1em; text-align: center; vertical-align: top\">0.01178338130315145</td>\n",
              "        <td style=\"padding-left: 1em; padding-right: 1em; text-align: center; vertical-align: top\">4</td>\n",
              "    </tr>\n",
              "    <tr>\n",
              "        <td style=\"padding-left: 1em; padding-right: 1em; text-align: center; vertical-align: top\">0</td>\n",
              "        <td style=\"padding-left: 1em; padding-right: 1em; text-align: center; vertical-align: top\">1052</td>\n",
              "        <td style=\"padding-left: 1em; padding-right: 1em; text-align: center; vertical-align: top\">0.01123457153638204</td>\n",
              "        <td style=\"padding-left: 1em; padding-right: 1em; text-align: center; vertical-align: top\">5</td>\n",
              "    </tr>\n",
              "    <tr>\n",
              "        <td style=\"padding-left: 1em; padding-right: 1em; text-align: center; vertical-align: top\">0</td>\n",
              "        <td style=\"padding-left: 1em; padding-right: 1em; text-align: center; vertical-align: top\">14888</td>\n",
              "        <td style=\"padding-left: 1em; padding-right: 1em; text-align: center; vertical-align: top\">0.009359250466028849</td>\n",
              "        <td style=\"padding-left: 1em; padding-right: 1em; text-align: center; vertical-align: top\">6</td>\n",
              "    </tr>\n",
              "    <tr>\n",
              "        <td style=\"padding-left: 1em; padding-right: 1em; text-align: center; vertical-align: top\">0</td>\n",
              "        <td style=\"padding-left: 1em; padding-right: 1em; text-align: center; vertical-align: top\">12375</td>\n",
              "        <td style=\"padding-left: 1em; padding-right: 1em; text-align: center; vertical-align: top\">0.008570382992426554</td>\n",
              "        <td style=\"padding-left: 1em; padding-right: 1em; text-align: center; vertical-align: top\">7</td>\n",
              "    </tr>\n",
              "    <tr>\n",
              "        <td style=\"padding-left: 1em; padding-right: 1em; text-align: center; vertical-align: top\">0</td>\n",
              "        <td style=\"padding-left: 1em; padding-right: 1em; text-align: center; vertical-align: top\">6889</td>\n",
              "        <td style=\"padding-left: 1em; padding-right: 1em; text-align: center; vertical-align: top\">0.007480134566624959</td>\n",
              "        <td style=\"padding-left: 1em; padding-right: 1em; text-align: center; vertical-align: top\">8</td>\n",
              "    </tr>\n",
              "    <tr>\n",
              "        <td style=\"padding-left: 1em; padding-right: 1em; text-align: center; vertical-align: top\">0</td>\n",
              "        <td style=\"padding-left: 1em; padding-right: 1em; text-align: center; vertical-align: top\">29475</td>\n",
              "        <td style=\"padding-left: 1em; padding-right: 1em; text-align: center; vertical-align: top\">0.00682218869527181</td>\n",
              "        <td style=\"padding-left: 1em; padding-right: 1em; text-align: center; vertical-align: top\">9</td>\n",
              "    </tr>\n",
              "    <tr>\n",
              "        <td style=\"padding-left: 1em; padding-right: 1em; text-align: center; vertical-align: top\">0</td>\n",
              "        <td style=\"padding-left: 1em; padding-right: 1em; text-align: center; vertical-align: top\">4810</td>\n",
              "        <td style=\"padding-left: 1em; padding-right: 1em; text-align: center; vertical-align: top\">0.0062056779861450195</td>\n",
              "        <td style=\"padding-left: 1em; padding-right: 1em; text-align: center; vertical-align: top\">10</td>\n",
              "    </tr>\n",
              "</table>\n",
              "[6873540 rows x 4 columns]<br/>Note: Only the head of the SFrame is printed.<br/>You can use print_rows(num_rows=m, num_columns=n) to print more rows and columns.\n",
              "</div>"
            ]
          },
          "metadata": {},
          "execution_count": 37
        }
      ],
      "source": [
        "recommendation_jac"
      ]
    },
    {
      "cell_type": "code",
      "execution_count": null,
      "metadata": {
        "colab": {
          "base_uri": "https://localhost:8080/",
          "height": 424
        },
        "id": "NJQITgFapBda",
        "outputId": "531bcf16-989d-49d3-d0e2-01d4b0f1bea1"
      },
      "outputs": [
        {
          "output_type": "execute_result",
          "data": {
            "text/plain": [
              "         customer_id  article_id     score  rank\n",
              "0                  0       31008  0.024745     1\n",
              "1                  0       29442  0.018457     2\n",
              "2                  0        2075  0.015741     3\n",
              "3                  0        3815  0.011783     4\n",
              "4                  0        1052  0.011235     5\n",
              "...              ...         ...       ...   ...\n",
              "6873535       343676        7794  0.010417    16\n",
              "6873536       343676       31890  0.010417    17\n",
              "6873537       343676        7843  0.010204    18\n",
              "6873538       343676       15724  0.010204    19\n",
              "6873539       343676        3743  0.010204    20\n",
              "\n",
              "[6873540 rows x 4 columns]"
            ],
            "text/html": [
              "\n",
              "  <div id=\"df-f679ad90-0818-4c04-9030-24c4041e399c\">\n",
              "    <div class=\"colab-df-container\">\n",
              "      <div>\n",
              "<style scoped>\n",
              "    .dataframe tbody tr th:only-of-type {\n",
              "        vertical-align: middle;\n",
              "    }\n",
              "\n",
              "    .dataframe tbody tr th {\n",
              "        vertical-align: top;\n",
              "    }\n",
              "\n",
              "    .dataframe thead th {\n",
              "        text-align: right;\n",
              "    }\n",
              "</style>\n",
              "<table border=\"1\" class=\"dataframe\">\n",
              "  <thead>\n",
              "    <tr style=\"text-align: right;\">\n",
              "      <th></th>\n",
              "      <th>customer_id</th>\n",
              "      <th>article_id</th>\n",
              "      <th>score</th>\n",
              "      <th>rank</th>\n",
              "    </tr>\n",
              "  </thead>\n",
              "  <tbody>\n",
              "    <tr>\n",
              "      <th>0</th>\n",
              "      <td>0</td>\n",
              "      <td>31008</td>\n",
              "      <td>0.024745</td>\n",
              "      <td>1</td>\n",
              "    </tr>\n",
              "    <tr>\n",
              "      <th>1</th>\n",
              "      <td>0</td>\n",
              "      <td>29442</td>\n",
              "      <td>0.018457</td>\n",
              "      <td>2</td>\n",
              "    </tr>\n",
              "    <tr>\n",
              "      <th>2</th>\n",
              "      <td>0</td>\n",
              "      <td>2075</td>\n",
              "      <td>0.015741</td>\n",
              "      <td>3</td>\n",
              "    </tr>\n",
              "    <tr>\n",
              "      <th>3</th>\n",
              "      <td>0</td>\n",
              "      <td>3815</td>\n",
              "      <td>0.011783</td>\n",
              "      <td>4</td>\n",
              "    </tr>\n",
              "    <tr>\n",
              "      <th>4</th>\n",
              "      <td>0</td>\n",
              "      <td>1052</td>\n",
              "      <td>0.011235</td>\n",
              "      <td>5</td>\n",
              "    </tr>\n",
              "    <tr>\n",
              "      <th>...</th>\n",
              "      <td>...</td>\n",
              "      <td>...</td>\n",
              "      <td>...</td>\n",
              "      <td>...</td>\n",
              "    </tr>\n",
              "    <tr>\n",
              "      <th>6873535</th>\n",
              "      <td>343676</td>\n",
              "      <td>7794</td>\n",
              "      <td>0.010417</td>\n",
              "      <td>16</td>\n",
              "    </tr>\n",
              "    <tr>\n",
              "      <th>6873536</th>\n",
              "      <td>343676</td>\n",
              "      <td>31890</td>\n",
              "      <td>0.010417</td>\n",
              "      <td>17</td>\n",
              "    </tr>\n",
              "    <tr>\n",
              "      <th>6873537</th>\n",
              "      <td>343676</td>\n",
              "      <td>7843</td>\n",
              "      <td>0.010204</td>\n",
              "      <td>18</td>\n",
              "    </tr>\n",
              "    <tr>\n",
              "      <th>6873538</th>\n",
              "      <td>343676</td>\n",
              "      <td>15724</td>\n",
              "      <td>0.010204</td>\n",
              "      <td>19</td>\n",
              "    </tr>\n",
              "    <tr>\n",
              "      <th>6873539</th>\n",
              "      <td>343676</td>\n",
              "      <td>3743</td>\n",
              "      <td>0.010204</td>\n",
              "      <td>20</td>\n",
              "    </tr>\n",
              "  </tbody>\n",
              "</table>\n",
              "<p>6873540 rows × 4 columns</p>\n",
              "</div>\n",
              "      <button class=\"colab-df-convert\" onclick=\"convertToInteractive('df-f679ad90-0818-4c04-9030-24c4041e399c')\"\n",
              "              title=\"Convert this dataframe to an interactive table.\"\n",
              "              style=\"display:none;\">\n",
              "        \n",
              "  <svg xmlns=\"http://www.w3.org/2000/svg\" height=\"24px\"viewBox=\"0 0 24 24\"\n",
              "       width=\"24px\">\n",
              "    <path d=\"M0 0h24v24H0V0z\" fill=\"none\"/>\n",
              "    <path d=\"M18.56 5.44l.94 2.06.94-2.06 2.06-.94-2.06-.94-.94-2.06-.94 2.06-2.06.94zm-11 1L8.5 8.5l.94-2.06 2.06-.94-2.06-.94L8.5 2.5l-.94 2.06-2.06.94zm10 10l.94 2.06.94-2.06 2.06-.94-2.06-.94-.94-2.06-.94 2.06-2.06.94z\"/><path d=\"M17.41 7.96l-1.37-1.37c-.4-.4-.92-.59-1.43-.59-.52 0-1.04.2-1.43.59L10.3 9.45l-7.72 7.72c-.78.78-.78 2.05 0 2.83L4 21.41c.39.39.9.59 1.41.59.51 0 1.02-.2 1.41-.59l7.78-7.78 2.81-2.81c.8-.78.8-2.07 0-2.86zM5.41 20L4 18.59l7.72-7.72 1.47 1.35L5.41 20z\"/>\n",
              "  </svg>\n",
              "      </button>\n",
              "      \n",
              "  <style>\n",
              "    .colab-df-container {\n",
              "      display:flex;\n",
              "      flex-wrap:wrap;\n",
              "      gap: 12px;\n",
              "    }\n",
              "\n",
              "    .colab-df-convert {\n",
              "      background-color: #E8F0FE;\n",
              "      border: none;\n",
              "      border-radius: 50%;\n",
              "      cursor: pointer;\n",
              "      display: none;\n",
              "      fill: #1967D2;\n",
              "      height: 32px;\n",
              "      padding: 0 0 0 0;\n",
              "      width: 32px;\n",
              "    }\n",
              "\n",
              "    .colab-df-convert:hover {\n",
              "      background-color: #E2EBFA;\n",
              "      box-shadow: 0px 1px 2px rgba(60, 64, 67, 0.3), 0px 1px 3px 1px rgba(60, 64, 67, 0.15);\n",
              "      fill: #174EA6;\n",
              "    }\n",
              "\n",
              "    [theme=dark] .colab-df-convert {\n",
              "      background-color: #3B4455;\n",
              "      fill: #D2E3FC;\n",
              "    }\n",
              "\n",
              "    [theme=dark] .colab-df-convert:hover {\n",
              "      background-color: #434B5C;\n",
              "      box-shadow: 0px 1px 3px 1px rgba(0, 0, 0, 0.15);\n",
              "      filter: drop-shadow(0px 1px 2px rgba(0, 0, 0, 0.3));\n",
              "      fill: #FFFFFF;\n",
              "    }\n",
              "  </style>\n",
              "\n",
              "      <script>\n",
              "        const buttonEl =\n",
              "          document.querySelector('#df-f679ad90-0818-4c04-9030-24c4041e399c button.colab-df-convert');\n",
              "        buttonEl.style.display =\n",
              "          google.colab.kernel.accessAllowed ? 'block' : 'none';\n",
              "\n",
              "        async function convertToInteractive(key) {\n",
              "          const element = document.querySelector('#df-f679ad90-0818-4c04-9030-24c4041e399c');\n",
              "          const dataTable =\n",
              "            await google.colab.kernel.invokeFunction('convertToInteractive',\n",
              "                                                     [key], {});\n",
              "          if (!dataTable) return;\n",
              "\n",
              "          const docLinkHtml = 'Like what you see? Visit the ' +\n",
              "            '<a target=\"_blank\" href=https://colab.research.google.com/notebooks/data_table.ipynb>data table notebook</a>'\n",
              "            + ' to learn more about interactive tables.';\n",
              "          element.innerHTML = '';\n",
              "          dataTable['output_type'] = 'display_data';\n",
              "          await google.colab.output.renderOutput(dataTable, element);\n",
              "          const docLink = document.createElement('div');\n",
              "          docLink.innerHTML = docLinkHtml;\n",
              "          element.appendChild(docLink);\n",
              "        }\n",
              "      </script>\n",
              "    </div>\n",
              "  </div>\n",
              "  "
            ]
          },
          "metadata": {},
          "execution_count": 38
        }
      ],
      "source": [
        "df_CF = recommendation_jac.to_dataframe()\n",
        "df_CF"
      ]
    },
    {
      "cell_type": "code",
      "source": [
        "df_CF = df_CF.iloc[:,:3]\n",
        "df_CF['CF'] = 1\n",
        "df_CF['label'] = 0\n",
        "df_CF = df_CF.rename(columns={'score': 'CF_score'})"
      ],
      "metadata": {
        "id": "-y43f912DbiC"
      },
      "execution_count": null,
      "outputs": []
    },
    {
      "cell_type": "code",
      "source": [
        "inv_users_dic = {v: k for k, v in users_dic.items()}\n",
        "inv_items_dic = {v: k for k, v in items_dic.items()}\n",
        "\n",
        "df_CF['customer_id'] = df_CF['customer_id'].map(inv_users_dic)\n",
        "df_CF['article_id'] = df_CF['article_id'].map(inv_items_dic)"
      ],
      "metadata": {
        "id": "ArqCuMdiPjrE"
      },
      "execution_count": null,
      "outputs": []
    },
    {
      "cell_type": "code",
      "source": [
        "df_CF"
      ],
      "metadata": {
        "colab": {
          "base_uri": "https://localhost:8080/",
          "height": 424
        },
        "id": "NKbvd_d9QXj6",
        "outputId": "6bf6fb71-cafa-47ec-a9d8-26acdce6e7de"
      },
      "execution_count": null,
      "outputs": [
        {
          "output_type": "execute_result",
          "data": {
            "text/plain": [
              "                                               customer_id  article_id  \\\n",
              "0        0011e0bd4c39195ff342c0ca0ac0601ce2b943a8265506...   923758001   \n",
              "1        0011e0bd4c39195ff342c0ca0ac0601ce2b943a8265506...   924243002   \n",
              "2        0011e0bd4c39195ff342c0ca0ac0601ce2b943a8265506...   913688003   \n",
              "3        0011e0bd4c39195ff342c0ca0ac0601ce2b943a8265506...   751471001   \n",
              "4        0011e0bd4c39195ff342c0ca0ac0601ce2b943a8265506...   751471041   \n",
              "...                                                    ...         ...   \n",
              "6873535  ffc92c3f7b0b302f393c2968b290f6e5c5b5510d1cf1df...   780213001   \n",
              "6873536  ffc92c3f7b0b302f393c2968b290f6e5c5b5510d1cf1df...   807241050   \n",
              "6873537  ffc92c3f7b0b302f393c2968b290f6e5c5b5510d1cf1df...   824208003   \n",
              "6873538  ffc92c3f7b0b302f393c2968b290f6e5c5b5510d1cf1df...   894901001   \n",
              "6873539  ffc92c3f7b0b302f393c2968b290f6e5c5b5510d1cf1df...   622710001   \n",
              "\n",
              "         CF_score  CF  label  \n",
              "0        0.024745   1      0  \n",
              "1        0.018457   1      0  \n",
              "2        0.015741   1      0  \n",
              "3        0.011783   1      0  \n",
              "4        0.011235   1      0  \n",
              "...           ...  ..    ...  \n",
              "6873535  0.010417   1      0  \n",
              "6873536  0.010417   1      0  \n",
              "6873537  0.010204   1      0  \n",
              "6873538  0.010204   1      0  \n",
              "6873539  0.010204   1      0  \n",
              "\n",
              "[6873540 rows x 5 columns]"
            ],
            "text/html": [
              "\n",
              "  <div id=\"df-968ef01c-1557-461b-8329-15e606de6508\">\n",
              "    <div class=\"colab-df-container\">\n",
              "      <div>\n",
              "<style scoped>\n",
              "    .dataframe tbody tr th:only-of-type {\n",
              "        vertical-align: middle;\n",
              "    }\n",
              "\n",
              "    .dataframe tbody tr th {\n",
              "        vertical-align: top;\n",
              "    }\n",
              "\n",
              "    .dataframe thead th {\n",
              "        text-align: right;\n",
              "    }\n",
              "</style>\n",
              "<table border=\"1\" class=\"dataframe\">\n",
              "  <thead>\n",
              "    <tr style=\"text-align: right;\">\n",
              "      <th></th>\n",
              "      <th>customer_id</th>\n",
              "      <th>article_id</th>\n",
              "      <th>CF_score</th>\n",
              "      <th>CF</th>\n",
              "      <th>label</th>\n",
              "    </tr>\n",
              "  </thead>\n",
              "  <tbody>\n",
              "    <tr>\n",
              "      <th>0</th>\n",
              "      <td>0011e0bd4c39195ff342c0ca0ac0601ce2b943a8265506...</td>\n",
              "      <td>923758001</td>\n",
              "      <td>0.024745</td>\n",
              "      <td>1</td>\n",
              "      <td>0</td>\n",
              "    </tr>\n",
              "    <tr>\n",
              "      <th>1</th>\n",
              "      <td>0011e0bd4c39195ff342c0ca0ac0601ce2b943a8265506...</td>\n",
              "      <td>924243002</td>\n",
              "      <td>0.018457</td>\n",
              "      <td>1</td>\n",
              "      <td>0</td>\n",
              "    </tr>\n",
              "    <tr>\n",
              "      <th>2</th>\n",
              "      <td>0011e0bd4c39195ff342c0ca0ac0601ce2b943a8265506...</td>\n",
              "      <td>913688003</td>\n",
              "      <td>0.015741</td>\n",
              "      <td>1</td>\n",
              "      <td>0</td>\n",
              "    </tr>\n",
              "    <tr>\n",
              "      <th>3</th>\n",
              "      <td>0011e0bd4c39195ff342c0ca0ac0601ce2b943a8265506...</td>\n",
              "      <td>751471001</td>\n",
              "      <td>0.011783</td>\n",
              "      <td>1</td>\n",
              "      <td>0</td>\n",
              "    </tr>\n",
              "    <tr>\n",
              "      <th>4</th>\n",
              "      <td>0011e0bd4c39195ff342c0ca0ac0601ce2b943a8265506...</td>\n",
              "      <td>751471041</td>\n",
              "      <td>0.011235</td>\n",
              "      <td>1</td>\n",
              "      <td>0</td>\n",
              "    </tr>\n",
              "    <tr>\n",
              "      <th>...</th>\n",
              "      <td>...</td>\n",
              "      <td>...</td>\n",
              "      <td>...</td>\n",
              "      <td>...</td>\n",
              "      <td>...</td>\n",
              "    </tr>\n",
              "    <tr>\n",
              "      <th>6873535</th>\n",
              "      <td>ffc92c3f7b0b302f393c2968b290f6e5c5b5510d1cf1df...</td>\n",
              "      <td>780213001</td>\n",
              "      <td>0.010417</td>\n",
              "      <td>1</td>\n",
              "      <td>0</td>\n",
              "    </tr>\n",
              "    <tr>\n",
              "      <th>6873536</th>\n",
              "      <td>ffc92c3f7b0b302f393c2968b290f6e5c5b5510d1cf1df...</td>\n",
              "      <td>807241050</td>\n",
              "      <td>0.010417</td>\n",
              "      <td>1</td>\n",
              "      <td>0</td>\n",
              "    </tr>\n",
              "    <tr>\n",
              "      <th>6873537</th>\n",
              "      <td>ffc92c3f7b0b302f393c2968b290f6e5c5b5510d1cf1df...</td>\n",
              "      <td>824208003</td>\n",
              "      <td>0.010204</td>\n",
              "      <td>1</td>\n",
              "      <td>0</td>\n",
              "    </tr>\n",
              "    <tr>\n",
              "      <th>6873538</th>\n",
              "      <td>ffc92c3f7b0b302f393c2968b290f6e5c5b5510d1cf1df...</td>\n",
              "      <td>894901001</td>\n",
              "      <td>0.010204</td>\n",
              "      <td>1</td>\n",
              "      <td>0</td>\n",
              "    </tr>\n",
              "    <tr>\n",
              "      <th>6873539</th>\n",
              "      <td>ffc92c3f7b0b302f393c2968b290f6e5c5b5510d1cf1df...</td>\n",
              "      <td>622710001</td>\n",
              "      <td>0.010204</td>\n",
              "      <td>1</td>\n",
              "      <td>0</td>\n",
              "    </tr>\n",
              "  </tbody>\n",
              "</table>\n",
              "<p>6873540 rows × 5 columns</p>\n",
              "</div>\n",
              "      <button class=\"colab-df-convert\" onclick=\"convertToInteractive('df-968ef01c-1557-461b-8329-15e606de6508')\"\n",
              "              title=\"Convert this dataframe to an interactive table.\"\n",
              "              style=\"display:none;\">\n",
              "        \n",
              "  <svg xmlns=\"http://www.w3.org/2000/svg\" height=\"24px\"viewBox=\"0 0 24 24\"\n",
              "       width=\"24px\">\n",
              "    <path d=\"M0 0h24v24H0V0z\" fill=\"none\"/>\n",
              "    <path d=\"M18.56 5.44l.94 2.06.94-2.06 2.06-.94-2.06-.94-.94-2.06-.94 2.06-2.06.94zm-11 1L8.5 8.5l.94-2.06 2.06-.94-2.06-.94L8.5 2.5l-.94 2.06-2.06.94zm10 10l.94 2.06.94-2.06 2.06-.94-2.06-.94-.94-2.06-.94 2.06-2.06.94z\"/><path d=\"M17.41 7.96l-1.37-1.37c-.4-.4-.92-.59-1.43-.59-.52 0-1.04.2-1.43.59L10.3 9.45l-7.72 7.72c-.78.78-.78 2.05 0 2.83L4 21.41c.39.39.9.59 1.41.59.51 0 1.02-.2 1.41-.59l7.78-7.78 2.81-2.81c.8-.78.8-2.07 0-2.86zM5.41 20L4 18.59l7.72-7.72 1.47 1.35L5.41 20z\"/>\n",
              "  </svg>\n",
              "      </button>\n",
              "      \n",
              "  <style>\n",
              "    .colab-df-container {\n",
              "      display:flex;\n",
              "      flex-wrap:wrap;\n",
              "      gap: 12px;\n",
              "    }\n",
              "\n",
              "    .colab-df-convert {\n",
              "      background-color: #E8F0FE;\n",
              "      border: none;\n",
              "      border-radius: 50%;\n",
              "      cursor: pointer;\n",
              "      display: none;\n",
              "      fill: #1967D2;\n",
              "      height: 32px;\n",
              "      padding: 0 0 0 0;\n",
              "      width: 32px;\n",
              "    }\n",
              "\n",
              "    .colab-df-convert:hover {\n",
              "      background-color: #E2EBFA;\n",
              "      box-shadow: 0px 1px 2px rgba(60, 64, 67, 0.3), 0px 1px 3px 1px rgba(60, 64, 67, 0.15);\n",
              "      fill: #174EA6;\n",
              "    }\n",
              "\n",
              "    [theme=dark] .colab-df-convert {\n",
              "      background-color: #3B4455;\n",
              "      fill: #D2E3FC;\n",
              "    }\n",
              "\n",
              "    [theme=dark] .colab-df-convert:hover {\n",
              "      background-color: #434B5C;\n",
              "      box-shadow: 0px 1px 3px 1px rgba(0, 0, 0, 0.15);\n",
              "      filter: drop-shadow(0px 1px 2px rgba(0, 0, 0, 0.3));\n",
              "      fill: #FFFFFF;\n",
              "    }\n",
              "  </style>\n",
              "\n",
              "      <script>\n",
              "        const buttonEl =\n",
              "          document.querySelector('#df-968ef01c-1557-461b-8329-15e606de6508 button.colab-df-convert');\n",
              "        buttonEl.style.display =\n",
              "          google.colab.kernel.accessAllowed ? 'block' : 'none';\n",
              "\n",
              "        async function convertToInteractive(key) {\n",
              "          const element = document.querySelector('#df-968ef01c-1557-461b-8329-15e606de6508');\n",
              "          const dataTable =\n",
              "            await google.colab.kernel.invokeFunction('convertToInteractive',\n",
              "                                                     [key], {});\n",
              "          if (!dataTable) return;\n",
              "\n",
              "          const docLinkHtml = 'Like what you see? Visit the ' +\n",
              "            '<a target=\"_blank\" href=https://colab.research.google.com/notebooks/data_table.ipynb>data table notebook</a>'\n",
              "            + ' to learn more about interactive tables.';\n",
              "          element.innerHTML = '';\n",
              "          dataTable['output_type'] = 'display_data';\n",
              "          await google.colab.output.renderOutput(dataTable, element);\n",
              "          const docLink = document.createElement('div');\n",
              "          docLink.innerHTML = docLinkHtml;\n",
              "          element.appendChild(docLink);\n",
              "        }\n",
              "      </script>\n",
              "    </div>\n",
              "  </div>\n",
              "  "
            ]
          },
          "metadata": {},
          "execution_count": 41
        }
      ]
    },
    {
      "cell_type": "code",
      "source": [
        "df_positives"
      ],
      "metadata": {
        "colab": {
          "base_uri": "https://localhost:8080/",
          "height": 488
        },
        "id": "hXGN_RJHjIO7",
        "outputId": "26f608d6-eac3-4d33-a7da-f4eb5535b2cd"
      },
      "execution_count": null,
      "outputs": [
        {
          "output_type": "execute_result",
          "data": {
            "text/plain": [
              "                                               customer_id  article_id  \\\n",
              "0        0011e0bd4c39195ff342c0ca0ac0601ce2b943a8265506...   751471042   \n",
              "1        0011e0bd4c39195ff342c0ca0ac0601ce2b943a8265506...   824499006   \n",
              "2        0011e0bd4c39195ff342c0ca0ac0601ce2b943a8265506...   913688001   \n",
              "3        0013bde09d10db6b0a6a3b0987ac60b643013dfc6f924b...   776237020   \n",
              "4        0013bde09d10db6b0a6a3b0987ac60b643013dfc6f924b...   599580055   \n",
              "...                                                    ...         ...   \n",
              "1692774  fff2282977442e327b45d8c89afde25617d00124d0f999...   929511001   \n",
              "1692775  fff2282977442e327b45d8c89afde25617d00124d0f999...   891322004   \n",
              "1692776  fff380805474b287b05cb2a7507b9a013482f7dd0bce0e...   918325001   \n",
              "1692777  fff4d3a8b1f3b60af93e78c30a7cb4cf75edaf2590d3e5...   833459002   \n",
              "1692778  fffef3b6b73545df065b521e19f64bf6fe93bfd450ab20...   898573003   \n",
              "\n",
              "            price  sales_channel_id  week  label  CF  CF_score  repurchase  \n",
              "0        0.032746                 2     1    0.0   0         0           1  \n",
              "1        0.065525                 2     1    0.0   0         0           1  \n",
              "2        0.032746                 2     1    0.0   0         0           1  \n",
              "3        0.025407                 2     1    1.0   0         0           0  \n",
              "4        0.016932                 2     1    1.0   0         0           0  \n",
              "...           ...               ...   ...    ...  ..       ...         ...  \n",
              "1692774  0.059305                 2     7    1.0   0         0           0  \n",
              "1692775  0.042356                 2     7    1.0   0         0           0  \n",
              "1692776  0.043203                 1     7    1.0   0         0           0  \n",
              "1692777  0.006763                 1     7    1.0   0         0           0  \n",
              "1692778  0.033881                 2     7    1.0   0         0           0  \n",
              "\n",
              "[1692779 rows x 9 columns]"
            ],
            "text/html": [
              "\n",
              "  <div id=\"df-dc13c82f-0a94-458d-a797-6cbf48a5b5ca\">\n",
              "    <div class=\"colab-df-container\">\n",
              "      <div>\n",
              "<style scoped>\n",
              "    .dataframe tbody tr th:only-of-type {\n",
              "        vertical-align: middle;\n",
              "    }\n",
              "\n",
              "    .dataframe tbody tr th {\n",
              "        vertical-align: top;\n",
              "    }\n",
              "\n",
              "    .dataframe thead th {\n",
              "        text-align: right;\n",
              "    }\n",
              "</style>\n",
              "<table border=\"1\" class=\"dataframe\">\n",
              "  <thead>\n",
              "    <tr style=\"text-align: right;\">\n",
              "      <th></th>\n",
              "      <th>customer_id</th>\n",
              "      <th>article_id</th>\n",
              "      <th>price</th>\n",
              "      <th>sales_channel_id</th>\n",
              "      <th>week</th>\n",
              "      <th>label</th>\n",
              "      <th>CF</th>\n",
              "      <th>CF_score</th>\n",
              "      <th>repurchase</th>\n",
              "    </tr>\n",
              "  </thead>\n",
              "  <tbody>\n",
              "    <tr>\n",
              "      <th>0</th>\n",
              "      <td>0011e0bd4c39195ff342c0ca0ac0601ce2b943a8265506...</td>\n",
              "      <td>751471042</td>\n",
              "      <td>0.032746</td>\n",
              "      <td>2</td>\n",
              "      <td>1</td>\n",
              "      <td>0.0</td>\n",
              "      <td>0</td>\n",
              "      <td>0</td>\n",
              "      <td>1</td>\n",
              "    </tr>\n",
              "    <tr>\n",
              "      <th>1</th>\n",
              "      <td>0011e0bd4c39195ff342c0ca0ac0601ce2b943a8265506...</td>\n",
              "      <td>824499006</td>\n",
              "      <td>0.065525</td>\n",
              "      <td>2</td>\n",
              "      <td>1</td>\n",
              "      <td>0.0</td>\n",
              "      <td>0</td>\n",
              "      <td>0</td>\n",
              "      <td>1</td>\n",
              "    </tr>\n",
              "    <tr>\n",
              "      <th>2</th>\n",
              "      <td>0011e0bd4c39195ff342c0ca0ac0601ce2b943a8265506...</td>\n",
              "      <td>913688001</td>\n",
              "      <td>0.032746</td>\n",
              "      <td>2</td>\n",
              "      <td>1</td>\n",
              "      <td>0.0</td>\n",
              "      <td>0</td>\n",
              "      <td>0</td>\n",
              "      <td>1</td>\n",
              "    </tr>\n",
              "    <tr>\n",
              "      <th>3</th>\n",
              "      <td>0013bde09d10db6b0a6a3b0987ac60b643013dfc6f924b...</td>\n",
              "      <td>776237020</td>\n",
              "      <td>0.025407</td>\n",
              "      <td>2</td>\n",
              "      <td>1</td>\n",
              "      <td>1.0</td>\n",
              "      <td>0</td>\n",
              "      <td>0</td>\n",
              "      <td>0</td>\n",
              "    </tr>\n",
              "    <tr>\n",
              "      <th>4</th>\n",
              "      <td>0013bde09d10db6b0a6a3b0987ac60b643013dfc6f924b...</td>\n",
              "      <td>599580055</td>\n",
              "      <td>0.016932</td>\n",
              "      <td>2</td>\n",
              "      <td>1</td>\n",
              "      <td>1.0</td>\n",
              "      <td>0</td>\n",
              "      <td>0</td>\n",
              "      <td>0</td>\n",
              "    </tr>\n",
              "    <tr>\n",
              "      <th>...</th>\n",
              "      <td>...</td>\n",
              "      <td>...</td>\n",
              "      <td>...</td>\n",
              "      <td>...</td>\n",
              "      <td>...</td>\n",
              "      <td>...</td>\n",
              "      <td>...</td>\n",
              "      <td>...</td>\n",
              "      <td>...</td>\n",
              "    </tr>\n",
              "    <tr>\n",
              "      <th>1692774</th>\n",
              "      <td>fff2282977442e327b45d8c89afde25617d00124d0f999...</td>\n",
              "      <td>929511001</td>\n",
              "      <td>0.059305</td>\n",
              "      <td>2</td>\n",
              "      <td>7</td>\n",
              "      <td>1.0</td>\n",
              "      <td>0</td>\n",
              "      <td>0</td>\n",
              "      <td>0</td>\n",
              "    </tr>\n",
              "    <tr>\n",
              "      <th>1692775</th>\n",
              "      <td>fff2282977442e327b45d8c89afde25617d00124d0f999...</td>\n",
              "      <td>891322004</td>\n",
              "      <td>0.042356</td>\n",
              "      <td>2</td>\n",
              "      <td>7</td>\n",
              "      <td>1.0</td>\n",
              "      <td>0</td>\n",
              "      <td>0</td>\n",
              "      <td>0</td>\n",
              "    </tr>\n",
              "    <tr>\n",
              "      <th>1692776</th>\n",
              "      <td>fff380805474b287b05cb2a7507b9a013482f7dd0bce0e...</td>\n",
              "      <td>918325001</td>\n",
              "      <td>0.043203</td>\n",
              "      <td>1</td>\n",
              "      <td>7</td>\n",
              "      <td>1.0</td>\n",
              "      <td>0</td>\n",
              "      <td>0</td>\n",
              "      <td>0</td>\n",
              "    </tr>\n",
              "    <tr>\n",
              "      <th>1692777</th>\n",
              "      <td>fff4d3a8b1f3b60af93e78c30a7cb4cf75edaf2590d3e5...</td>\n",
              "      <td>833459002</td>\n",
              "      <td>0.006763</td>\n",
              "      <td>1</td>\n",
              "      <td>7</td>\n",
              "      <td>1.0</td>\n",
              "      <td>0</td>\n",
              "      <td>0</td>\n",
              "      <td>0</td>\n",
              "    </tr>\n",
              "    <tr>\n",
              "      <th>1692778</th>\n",
              "      <td>fffef3b6b73545df065b521e19f64bf6fe93bfd450ab20...</td>\n",
              "      <td>898573003</td>\n",
              "      <td>0.033881</td>\n",
              "      <td>2</td>\n",
              "      <td>7</td>\n",
              "      <td>1.0</td>\n",
              "      <td>0</td>\n",
              "      <td>0</td>\n",
              "      <td>0</td>\n",
              "    </tr>\n",
              "  </tbody>\n",
              "</table>\n",
              "<p>1692779 rows × 9 columns</p>\n",
              "</div>\n",
              "      <button class=\"colab-df-convert\" onclick=\"convertToInteractive('df-dc13c82f-0a94-458d-a797-6cbf48a5b5ca')\"\n",
              "              title=\"Convert this dataframe to an interactive table.\"\n",
              "              style=\"display:none;\">\n",
              "        \n",
              "  <svg xmlns=\"http://www.w3.org/2000/svg\" height=\"24px\"viewBox=\"0 0 24 24\"\n",
              "       width=\"24px\">\n",
              "    <path d=\"M0 0h24v24H0V0z\" fill=\"none\"/>\n",
              "    <path d=\"M18.56 5.44l.94 2.06.94-2.06 2.06-.94-2.06-.94-.94-2.06-.94 2.06-2.06.94zm-11 1L8.5 8.5l.94-2.06 2.06-.94-2.06-.94L8.5 2.5l-.94 2.06-2.06.94zm10 10l.94 2.06.94-2.06 2.06-.94-2.06-.94-.94-2.06-.94 2.06-2.06.94z\"/><path d=\"M17.41 7.96l-1.37-1.37c-.4-.4-.92-.59-1.43-.59-.52 0-1.04.2-1.43.59L10.3 9.45l-7.72 7.72c-.78.78-.78 2.05 0 2.83L4 21.41c.39.39.9.59 1.41.59.51 0 1.02-.2 1.41-.59l7.78-7.78 2.81-2.81c.8-.78.8-2.07 0-2.86zM5.41 20L4 18.59l7.72-7.72 1.47 1.35L5.41 20z\"/>\n",
              "  </svg>\n",
              "      </button>\n",
              "      \n",
              "  <style>\n",
              "    .colab-df-container {\n",
              "      display:flex;\n",
              "      flex-wrap:wrap;\n",
              "      gap: 12px;\n",
              "    }\n",
              "\n",
              "    .colab-df-convert {\n",
              "      background-color: #E8F0FE;\n",
              "      border: none;\n",
              "      border-radius: 50%;\n",
              "      cursor: pointer;\n",
              "      display: none;\n",
              "      fill: #1967D2;\n",
              "      height: 32px;\n",
              "      padding: 0 0 0 0;\n",
              "      width: 32px;\n",
              "    }\n",
              "\n",
              "    .colab-df-convert:hover {\n",
              "      background-color: #E2EBFA;\n",
              "      box-shadow: 0px 1px 2px rgba(60, 64, 67, 0.3), 0px 1px 3px 1px rgba(60, 64, 67, 0.15);\n",
              "      fill: #174EA6;\n",
              "    }\n",
              "\n",
              "    [theme=dark] .colab-df-convert {\n",
              "      background-color: #3B4455;\n",
              "      fill: #D2E3FC;\n",
              "    }\n",
              "\n",
              "    [theme=dark] .colab-df-convert:hover {\n",
              "      background-color: #434B5C;\n",
              "      box-shadow: 0px 1px 3px 1px rgba(0, 0, 0, 0.15);\n",
              "      filter: drop-shadow(0px 1px 2px rgba(0, 0, 0, 0.3));\n",
              "      fill: #FFFFFF;\n",
              "    }\n",
              "  </style>\n",
              "\n",
              "      <script>\n",
              "        const buttonEl =\n",
              "          document.querySelector('#df-dc13c82f-0a94-458d-a797-6cbf48a5b5ca button.colab-df-convert');\n",
              "        buttonEl.style.display =\n",
              "          google.colab.kernel.accessAllowed ? 'block' : 'none';\n",
              "\n",
              "        async function convertToInteractive(key) {\n",
              "          const element = document.querySelector('#df-dc13c82f-0a94-458d-a797-6cbf48a5b5ca');\n",
              "          const dataTable =\n",
              "            await google.colab.kernel.invokeFunction('convertToInteractive',\n",
              "                                                     [key], {});\n",
              "          if (!dataTable) return;\n",
              "\n",
              "          const docLinkHtml = 'Like what you see? Visit the ' +\n",
              "            '<a target=\"_blank\" href=https://colab.research.google.com/notebooks/data_table.ipynb>data table notebook</a>'\n",
              "            + ' to learn more about interactive tables.';\n",
              "          element.innerHTML = '';\n",
              "          dataTable['output_type'] = 'display_data';\n",
              "          await google.colab.output.renderOutput(dataTable, element);\n",
              "          const docLink = document.createElement('div');\n",
              "          docLink.innerHTML = docLinkHtml;\n",
              "          element.appendChild(docLink);\n",
              "        }\n",
              "      </script>\n",
              "    </div>\n",
              "  </div>\n",
              "  "
            ]
          },
          "metadata": {},
          "execution_count": 42
        }
      ]
    },
    {
      "cell_type": "code",
      "source": [
        "#concatenating positive samples to CF samples\n",
        "df = pd.concat([df_positives,df_CF])\n",
        "df['popularity_score'] = df['article_id'].map(pop_dic)\n",
        "df"
      ],
      "metadata": {
        "colab": {
          "base_uri": "https://localhost:8080/",
          "height": 488
        },
        "id": "Zj2QfBXaq23f",
        "outputId": "a160f135-f66d-44ec-95bb-e83debc37f0e"
      },
      "execution_count": null,
      "outputs": [
        {
          "output_type": "execute_result",
          "data": {
            "text/plain": [
              "                                               customer_id  article_id  \\\n",
              "0        0011e0bd4c39195ff342c0ca0ac0601ce2b943a8265506...   751471042   \n",
              "1        0011e0bd4c39195ff342c0ca0ac0601ce2b943a8265506...   824499006   \n",
              "2        0011e0bd4c39195ff342c0ca0ac0601ce2b943a8265506...   913688001   \n",
              "3        0013bde09d10db6b0a6a3b0987ac60b643013dfc6f924b...   776237020   \n",
              "4        0013bde09d10db6b0a6a3b0987ac60b643013dfc6f924b...   599580055   \n",
              "...                                                    ...         ...   \n",
              "6873535  ffc92c3f7b0b302f393c2968b290f6e5c5b5510d1cf1df...   780213001   \n",
              "6873536  ffc92c3f7b0b302f393c2968b290f6e5c5b5510d1cf1df...   807241050   \n",
              "6873537  ffc92c3f7b0b302f393c2968b290f6e5c5b5510d1cf1df...   824208003   \n",
              "6873538  ffc92c3f7b0b302f393c2968b290f6e5c5b5510d1cf1df...   894901001   \n",
              "6873539  ffc92c3f7b0b302f393c2968b290f6e5c5b5510d1cf1df...   622710001   \n",
              "\n",
              "            price  sales_channel_id  week  label  CF  CF_score  repurchase  \\\n",
              "0        0.032746               2.0   1.0    0.0   0  0.000000         1.0   \n",
              "1        0.065525               2.0   1.0    0.0   0  0.000000         1.0   \n",
              "2        0.032746               2.0   1.0    0.0   0  0.000000         1.0   \n",
              "3        0.025407               2.0   1.0    1.0   0  0.000000         0.0   \n",
              "4        0.016932               2.0   1.0    1.0   0  0.000000         0.0   \n",
              "...           ...               ...   ...    ...  ..       ...         ...   \n",
              "6873535       NaN               NaN   NaN    0.0   1  0.010417         NaN   \n",
              "6873536       NaN               NaN   NaN    0.0   1  0.010417         NaN   \n",
              "6873537       NaN               NaN   NaN    0.0   1  0.010204         NaN   \n",
              "6873538       NaN               NaN   NaN    0.0   1  0.010204         NaN   \n",
              "6873539       NaN               NaN   NaN    0.0   1  0.010204         NaN   \n",
              "\n",
              "         popularity_score  \n",
              "0                     673  \n",
              "1                     200  \n",
              "2                     400  \n",
              "3                     320  \n",
              "4                     259  \n",
              "...                   ...  \n",
              "6873535                15  \n",
              "6873536                14  \n",
              "6873537                17  \n",
              "6873538                17  \n",
              "6873539                16  \n",
              "\n",
              "[8566319 rows x 10 columns]"
            ],
            "text/html": [
              "\n",
              "  <div id=\"df-2d79e367-bfe8-430f-831d-aa1418a61450\">\n",
              "    <div class=\"colab-df-container\">\n",
              "      <div>\n",
              "<style scoped>\n",
              "    .dataframe tbody tr th:only-of-type {\n",
              "        vertical-align: middle;\n",
              "    }\n",
              "\n",
              "    .dataframe tbody tr th {\n",
              "        vertical-align: top;\n",
              "    }\n",
              "\n",
              "    .dataframe thead th {\n",
              "        text-align: right;\n",
              "    }\n",
              "</style>\n",
              "<table border=\"1\" class=\"dataframe\">\n",
              "  <thead>\n",
              "    <tr style=\"text-align: right;\">\n",
              "      <th></th>\n",
              "      <th>customer_id</th>\n",
              "      <th>article_id</th>\n",
              "      <th>price</th>\n",
              "      <th>sales_channel_id</th>\n",
              "      <th>week</th>\n",
              "      <th>label</th>\n",
              "      <th>CF</th>\n",
              "      <th>CF_score</th>\n",
              "      <th>repurchase</th>\n",
              "      <th>popularity_score</th>\n",
              "    </tr>\n",
              "  </thead>\n",
              "  <tbody>\n",
              "    <tr>\n",
              "      <th>0</th>\n",
              "      <td>0011e0bd4c39195ff342c0ca0ac0601ce2b943a8265506...</td>\n",
              "      <td>751471042</td>\n",
              "      <td>0.032746</td>\n",
              "      <td>2.0</td>\n",
              "      <td>1.0</td>\n",
              "      <td>0.0</td>\n",
              "      <td>0</td>\n",
              "      <td>0.000000</td>\n",
              "      <td>1.0</td>\n",
              "      <td>673</td>\n",
              "    </tr>\n",
              "    <tr>\n",
              "      <th>1</th>\n",
              "      <td>0011e0bd4c39195ff342c0ca0ac0601ce2b943a8265506...</td>\n",
              "      <td>824499006</td>\n",
              "      <td>0.065525</td>\n",
              "      <td>2.0</td>\n",
              "      <td>1.0</td>\n",
              "      <td>0.0</td>\n",
              "      <td>0</td>\n",
              "      <td>0.000000</td>\n",
              "      <td>1.0</td>\n",
              "      <td>200</td>\n",
              "    </tr>\n",
              "    <tr>\n",
              "      <th>2</th>\n",
              "      <td>0011e0bd4c39195ff342c0ca0ac0601ce2b943a8265506...</td>\n",
              "      <td>913688001</td>\n",
              "      <td>0.032746</td>\n",
              "      <td>2.0</td>\n",
              "      <td>1.0</td>\n",
              "      <td>0.0</td>\n",
              "      <td>0</td>\n",
              "      <td>0.000000</td>\n",
              "      <td>1.0</td>\n",
              "      <td>400</td>\n",
              "    </tr>\n",
              "    <tr>\n",
              "      <th>3</th>\n",
              "      <td>0013bde09d10db6b0a6a3b0987ac60b643013dfc6f924b...</td>\n",
              "      <td>776237020</td>\n",
              "      <td>0.025407</td>\n",
              "      <td>2.0</td>\n",
              "      <td>1.0</td>\n",
              "      <td>1.0</td>\n",
              "      <td>0</td>\n",
              "      <td>0.000000</td>\n",
              "      <td>0.0</td>\n",
              "      <td>320</td>\n",
              "    </tr>\n",
              "    <tr>\n",
              "      <th>4</th>\n",
              "      <td>0013bde09d10db6b0a6a3b0987ac60b643013dfc6f924b...</td>\n",
              "      <td>599580055</td>\n",
              "      <td>0.016932</td>\n",
              "      <td>2.0</td>\n",
              "      <td>1.0</td>\n",
              "      <td>1.0</td>\n",
              "      <td>0</td>\n",
              "      <td>0.000000</td>\n",
              "      <td>0.0</td>\n",
              "      <td>259</td>\n",
              "    </tr>\n",
              "    <tr>\n",
              "      <th>...</th>\n",
              "      <td>...</td>\n",
              "      <td>...</td>\n",
              "      <td>...</td>\n",
              "      <td>...</td>\n",
              "      <td>...</td>\n",
              "      <td>...</td>\n",
              "      <td>...</td>\n",
              "      <td>...</td>\n",
              "      <td>...</td>\n",
              "      <td>...</td>\n",
              "    </tr>\n",
              "    <tr>\n",
              "      <th>6873535</th>\n",
              "      <td>ffc92c3f7b0b302f393c2968b290f6e5c5b5510d1cf1df...</td>\n",
              "      <td>780213001</td>\n",
              "      <td>NaN</td>\n",
              "      <td>NaN</td>\n",
              "      <td>NaN</td>\n",
              "      <td>0.0</td>\n",
              "      <td>1</td>\n",
              "      <td>0.010417</td>\n",
              "      <td>NaN</td>\n",
              "      <td>15</td>\n",
              "    </tr>\n",
              "    <tr>\n",
              "      <th>6873536</th>\n",
              "      <td>ffc92c3f7b0b302f393c2968b290f6e5c5b5510d1cf1df...</td>\n",
              "      <td>807241050</td>\n",
              "      <td>NaN</td>\n",
              "      <td>NaN</td>\n",
              "      <td>NaN</td>\n",
              "      <td>0.0</td>\n",
              "      <td>1</td>\n",
              "      <td>0.010417</td>\n",
              "      <td>NaN</td>\n",
              "      <td>14</td>\n",
              "    </tr>\n",
              "    <tr>\n",
              "      <th>6873537</th>\n",
              "      <td>ffc92c3f7b0b302f393c2968b290f6e5c5b5510d1cf1df...</td>\n",
              "      <td>824208003</td>\n",
              "      <td>NaN</td>\n",
              "      <td>NaN</td>\n",
              "      <td>NaN</td>\n",
              "      <td>0.0</td>\n",
              "      <td>1</td>\n",
              "      <td>0.010204</td>\n",
              "      <td>NaN</td>\n",
              "      <td>17</td>\n",
              "    </tr>\n",
              "    <tr>\n",
              "      <th>6873538</th>\n",
              "      <td>ffc92c3f7b0b302f393c2968b290f6e5c5b5510d1cf1df...</td>\n",
              "      <td>894901001</td>\n",
              "      <td>NaN</td>\n",
              "      <td>NaN</td>\n",
              "      <td>NaN</td>\n",
              "      <td>0.0</td>\n",
              "      <td>1</td>\n",
              "      <td>0.010204</td>\n",
              "      <td>NaN</td>\n",
              "      <td>17</td>\n",
              "    </tr>\n",
              "    <tr>\n",
              "      <th>6873539</th>\n",
              "      <td>ffc92c3f7b0b302f393c2968b290f6e5c5b5510d1cf1df...</td>\n",
              "      <td>622710001</td>\n",
              "      <td>NaN</td>\n",
              "      <td>NaN</td>\n",
              "      <td>NaN</td>\n",
              "      <td>0.0</td>\n",
              "      <td>1</td>\n",
              "      <td>0.010204</td>\n",
              "      <td>NaN</td>\n",
              "      <td>16</td>\n",
              "    </tr>\n",
              "  </tbody>\n",
              "</table>\n",
              "<p>8566319 rows × 10 columns</p>\n",
              "</div>\n",
              "      <button class=\"colab-df-convert\" onclick=\"convertToInteractive('df-2d79e367-bfe8-430f-831d-aa1418a61450')\"\n",
              "              title=\"Convert this dataframe to an interactive table.\"\n",
              "              style=\"display:none;\">\n",
              "        \n",
              "  <svg xmlns=\"http://www.w3.org/2000/svg\" height=\"24px\"viewBox=\"0 0 24 24\"\n",
              "       width=\"24px\">\n",
              "    <path d=\"M0 0h24v24H0V0z\" fill=\"none\"/>\n",
              "    <path d=\"M18.56 5.44l.94 2.06.94-2.06 2.06-.94-2.06-.94-.94-2.06-.94 2.06-2.06.94zm-11 1L8.5 8.5l.94-2.06 2.06-.94-2.06-.94L8.5 2.5l-.94 2.06-2.06.94zm10 10l.94 2.06.94-2.06 2.06-.94-2.06-.94-.94-2.06-.94 2.06-2.06.94z\"/><path d=\"M17.41 7.96l-1.37-1.37c-.4-.4-.92-.59-1.43-.59-.52 0-1.04.2-1.43.59L10.3 9.45l-7.72 7.72c-.78.78-.78 2.05 0 2.83L4 21.41c.39.39.9.59 1.41.59.51 0 1.02-.2 1.41-.59l7.78-7.78 2.81-2.81c.8-.78.8-2.07 0-2.86zM5.41 20L4 18.59l7.72-7.72 1.47 1.35L5.41 20z\"/>\n",
              "  </svg>\n",
              "      </button>\n",
              "      \n",
              "  <style>\n",
              "    .colab-df-container {\n",
              "      display:flex;\n",
              "      flex-wrap:wrap;\n",
              "      gap: 12px;\n",
              "    }\n",
              "\n",
              "    .colab-df-convert {\n",
              "      background-color: #E8F0FE;\n",
              "      border: none;\n",
              "      border-radius: 50%;\n",
              "      cursor: pointer;\n",
              "      display: none;\n",
              "      fill: #1967D2;\n",
              "      height: 32px;\n",
              "      padding: 0 0 0 0;\n",
              "      width: 32px;\n",
              "    }\n",
              "\n",
              "    .colab-df-convert:hover {\n",
              "      background-color: #E2EBFA;\n",
              "      box-shadow: 0px 1px 2px rgba(60, 64, 67, 0.3), 0px 1px 3px 1px rgba(60, 64, 67, 0.15);\n",
              "      fill: #174EA6;\n",
              "    }\n",
              "\n",
              "    [theme=dark] .colab-df-convert {\n",
              "      background-color: #3B4455;\n",
              "      fill: #D2E3FC;\n",
              "    }\n",
              "\n",
              "    [theme=dark] .colab-df-convert:hover {\n",
              "      background-color: #434B5C;\n",
              "      box-shadow: 0px 1px 3px 1px rgba(0, 0, 0, 0.15);\n",
              "      filter: drop-shadow(0px 1px 2px rgba(0, 0, 0, 0.3));\n",
              "      fill: #FFFFFF;\n",
              "    }\n",
              "  </style>\n",
              "\n",
              "      <script>\n",
              "        const buttonEl =\n",
              "          document.querySelector('#df-2d79e367-bfe8-430f-831d-aa1418a61450 button.colab-df-convert');\n",
              "        buttonEl.style.display =\n",
              "          google.colab.kernel.accessAllowed ? 'block' : 'none';\n",
              "\n",
              "        async function convertToInteractive(key) {\n",
              "          const element = document.querySelector('#df-2d79e367-bfe8-430f-831d-aa1418a61450');\n",
              "          const dataTable =\n",
              "            await google.colab.kernel.invokeFunction('convertToInteractive',\n",
              "                                                     [key], {});\n",
              "          if (!dataTable) return;\n",
              "\n",
              "          const docLinkHtml = 'Like what you see? Visit the ' +\n",
              "            '<a target=\"_blank\" href=https://colab.research.google.com/notebooks/data_table.ipynb>data table notebook</a>'\n",
              "            + ' to learn more about interactive tables.';\n",
              "          element.innerHTML = '';\n",
              "          dataTable['output_type'] = 'display_data';\n",
              "          await google.colab.output.renderOutput(dataTable, element);\n",
              "          const docLink = document.createElement('div');\n",
              "          docLink.innerHTML = docLinkHtml;\n",
              "          element.appendChild(docLink);\n",
              "        }\n",
              "      </script>\n",
              "    </div>\n",
              "  </div>\n",
              "  "
            ]
          },
          "metadata": {},
          "execution_count": 43
        }
      ]
    },
    {
      "cell_type": "code",
      "source": [
        "del df_popularity\n",
        "del pop_dic"
      ],
      "metadata": {
        "id": "EnFqLOWC0m42"
      },
      "execution_count": null,
      "outputs": []
    },
    {
      "cell_type": "code",
      "source": [
        "df = df.merge(df_best_N_CF, how = 'outer', on = df_best_N_CF.columns.to_list())\n",
        "df"
      ],
      "metadata": {
        "colab": {
          "base_uri": "https://localhost:8080/",
          "height": 488
        },
        "id": "sHossPoIdSUX",
        "outputId": "ae6a6f54-fa92-4809-e678-0a5b6c846441"
      },
      "execution_count": null,
      "outputs": [
        {
          "output_type": "execute_result",
          "data": {
            "text/plain": [
              "                                                customer_id  article_id  \\\n",
              "0         0011e0bd4c39195ff342c0ca0ac0601ce2b943a8265506...   751471042   \n",
              "1         0011e0bd4c39195ff342c0ca0ac0601ce2b943a8265506...   824499006   \n",
              "2         0011e0bd4c39195ff342c0ca0ac0601ce2b943a8265506...   913688001   \n",
              "3         0013bde09d10db6b0a6a3b0987ac60b643013dfc6f924b...   776237020   \n",
              "4         0013bde09d10db6b0a6a3b0987ac60b643013dfc6f924b...   599580055   \n",
              "...                                                     ...         ...   \n",
              "35533975  ff5b8a8b26bf93a66290e9bd1b73393ac6a58968a78519...   456163060   \n",
              "35533976  ff6f55a51af284b71dcd264396b299e548f968c1769e71...   456163060   \n",
              "35533977  ff732b98019465f078144bae647d7d9765d76e3431ef92...   456163060   \n",
              "35533978  ffb72741f3bc3d98855703b55d34e05bc7893a5d6a99a3...   456163060   \n",
              "35533979  ffc92c3f7b0b302f393c2968b290f6e5c5b5510d1cf1df...   456163060   \n",
              "\n",
              "             price  sales_channel_id  week  label   CF  CF_score  repurchase  \\\n",
              "0         0.032746               2.0   1.0    0.0  0.0       0.0         1.0   \n",
              "1         0.065525               2.0   1.0    0.0  0.0       0.0         1.0   \n",
              "2         0.032746               2.0   1.0    0.0  0.0       0.0         1.0   \n",
              "3         0.025407               2.0   1.0    1.0  0.0       0.0         0.0   \n",
              "4         0.016932               2.0   1.0    1.0  0.0       0.0         0.0   \n",
              "...            ...               ...   ...    ...  ...       ...         ...   \n",
              "35533975       NaN               NaN   NaN    NaN  NaN       NaN         NaN   \n",
              "35533976       NaN               NaN   NaN    NaN  NaN       NaN         NaN   \n",
              "35533977       NaN               NaN   NaN    NaN  NaN       NaN         NaN   \n",
              "35533978       NaN               NaN   NaN    NaN  NaN       NaN         NaN   \n",
              "35533979       NaN               NaN   NaN    NaN  NaN       NaN         NaN   \n",
              "\n",
              "          popularity_score  \n",
              "0                      673  \n",
              "1                      200  \n",
              "2                      400  \n",
              "3                      320  \n",
              "4                      259  \n",
              "...                    ...  \n",
              "35533975              1143  \n",
              "35533976              1143  \n",
              "35533977              1143  \n",
              "35533978              1143  \n",
              "35533979              1143  \n",
              "\n",
              "[35533980 rows x 10 columns]"
            ],
            "text/html": [
              "\n",
              "  <div id=\"df-dd68ba31-6041-436b-a245-17bb8d6f32ba\">\n",
              "    <div class=\"colab-df-container\">\n",
              "      <div>\n",
              "<style scoped>\n",
              "    .dataframe tbody tr th:only-of-type {\n",
              "        vertical-align: middle;\n",
              "    }\n",
              "\n",
              "    .dataframe tbody tr th {\n",
              "        vertical-align: top;\n",
              "    }\n",
              "\n",
              "    .dataframe thead th {\n",
              "        text-align: right;\n",
              "    }\n",
              "</style>\n",
              "<table border=\"1\" class=\"dataframe\">\n",
              "  <thead>\n",
              "    <tr style=\"text-align: right;\">\n",
              "      <th></th>\n",
              "      <th>customer_id</th>\n",
              "      <th>article_id</th>\n",
              "      <th>price</th>\n",
              "      <th>sales_channel_id</th>\n",
              "      <th>week</th>\n",
              "      <th>label</th>\n",
              "      <th>CF</th>\n",
              "      <th>CF_score</th>\n",
              "      <th>repurchase</th>\n",
              "      <th>popularity_score</th>\n",
              "    </tr>\n",
              "  </thead>\n",
              "  <tbody>\n",
              "    <tr>\n",
              "      <th>0</th>\n",
              "      <td>0011e0bd4c39195ff342c0ca0ac0601ce2b943a8265506...</td>\n",
              "      <td>751471042</td>\n",
              "      <td>0.032746</td>\n",
              "      <td>2.0</td>\n",
              "      <td>1.0</td>\n",
              "      <td>0.0</td>\n",
              "      <td>0.0</td>\n",
              "      <td>0.0</td>\n",
              "      <td>1.0</td>\n",
              "      <td>673</td>\n",
              "    </tr>\n",
              "    <tr>\n",
              "      <th>1</th>\n",
              "      <td>0011e0bd4c39195ff342c0ca0ac0601ce2b943a8265506...</td>\n",
              "      <td>824499006</td>\n",
              "      <td>0.065525</td>\n",
              "      <td>2.0</td>\n",
              "      <td>1.0</td>\n",
              "      <td>0.0</td>\n",
              "      <td>0.0</td>\n",
              "      <td>0.0</td>\n",
              "      <td>1.0</td>\n",
              "      <td>200</td>\n",
              "    </tr>\n",
              "    <tr>\n",
              "      <th>2</th>\n",
              "      <td>0011e0bd4c39195ff342c0ca0ac0601ce2b943a8265506...</td>\n",
              "      <td>913688001</td>\n",
              "      <td>0.032746</td>\n",
              "      <td>2.0</td>\n",
              "      <td>1.0</td>\n",
              "      <td>0.0</td>\n",
              "      <td>0.0</td>\n",
              "      <td>0.0</td>\n",
              "      <td>1.0</td>\n",
              "      <td>400</td>\n",
              "    </tr>\n",
              "    <tr>\n",
              "      <th>3</th>\n",
              "      <td>0013bde09d10db6b0a6a3b0987ac60b643013dfc6f924b...</td>\n",
              "      <td>776237020</td>\n",
              "      <td>0.025407</td>\n",
              "      <td>2.0</td>\n",
              "      <td>1.0</td>\n",
              "      <td>1.0</td>\n",
              "      <td>0.0</td>\n",
              "      <td>0.0</td>\n",
              "      <td>0.0</td>\n",
              "      <td>320</td>\n",
              "    </tr>\n",
              "    <tr>\n",
              "      <th>4</th>\n",
              "      <td>0013bde09d10db6b0a6a3b0987ac60b643013dfc6f924b...</td>\n",
              "      <td>599580055</td>\n",
              "      <td>0.016932</td>\n",
              "      <td>2.0</td>\n",
              "      <td>1.0</td>\n",
              "      <td>1.0</td>\n",
              "      <td>0.0</td>\n",
              "      <td>0.0</td>\n",
              "      <td>0.0</td>\n",
              "      <td>259</td>\n",
              "    </tr>\n",
              "    <tr>\n",
              "      <th>...</th>\n",
              "      <td>...</td>\n",
              "      <td>...</td>\n",
              "      <td>...</td>\n",
              "      <td>...</td>\n",
              "      <td>...</td>\n",
              "      <td>...</td>\n",
              "      <td>...</td>\n",
              "      <td>...</td>\n",
              "      <td>...</td>\n",
              "      <td>...</td>\n",
              "    </tr>\n",
              "    <tr>\n",
              "      <th>35533975</th>\n",
              "      <td>ff5b8a8b26bf93a66290e9bd1b73393ac6a58968a78519...</td>\n",
              "      <td>456163060</td>\n",
              "      <td>NaN</td>\n",
              "      <td>NaN</td>\n",
              "      <td>NaN</td>\n",
              "      <td>NaN</td>\n",
              "      <td>NaN</td>\n",
              "      <td>NaN</td>\n",
              "      <td>NaN</td>\n",
              "      <td>1143</td>\n",
              "    </tr>\n",
              "    <tr>\n",
              "      <th>35533976</th>\n",
              "      <td>ff6f55a51af284b71dcd264396b299e548f968c1769e71...</td>\n",
              "      <td>456163060</td>\n",
              "      <td>NaN</td>\n",
              "      <td>NaN</td>\n",
              "      <td>NaN</td>\n",
              "      <td>NaN</td>\n",
              "      <td>NaN</td>\n",
              "      <td>NaN</td>\n",
              "      <td>NaN</td>\n",
              "      <td>1143</td>\n",
              "    </tr>\n",
              "    <tr>\n",
              "      <th>35533977</th>\n",
              "      <td>ff732b98019465f078144bae647d7d9765d76e3431ef92...</td>\n",
              "      <td>456163060</td>\n",
              "      <td>NaN</td>\n",
              "      <td>NaN</td>\n",
              "      <td>NaN</td>\n",
              "      <td>NaN</td>\n",
              "      <td>NaN</td>\n",
              "      <td>NaN</td>\n",
              "      <td>NaN</td>\n",
              "      <td>1143</td>\n",
              "    </tr>\n",
              "    <tr>\n",
              "      <th>35533978</th>\n",
              "      <td>ffb72741f3bc3d98855703b55d34e05bc7893a5d6a99a3...</td>\n",
              "      <td>456163060</td>\n",
              "      <td>NaN</td>\n",
              "      <td>NaN</td>\n",
              "      <td>NaN</td>\n",
              "      <td>NaN</td>\n",
              "      <td>NaN</td>\n",
              "      <td>NaN</td>\n",
              "      <td>NaN</td>\n",
              "      <td>1143</td>\n",
              "    </tr>\n",
              "    <tr>\n",
              "      <th>35533979</th>\n",
              "      <td>ffc92c3f7b0b302f393c2968b290f6e5c5b5510d1cf1df...</td>\n",
              "      <td>456163060</td>\n",
              "      <td>NaN</td>\n",
              "      <td>NaN</td>\n",
              "      <td>NaN</td>\n",
              "      <td>NaN</td>\n",
              "      <td>NaN</td>\n",
              "      <td>NaN</td>\n",
              "      <td>NaN</td>\n",
              "      <td>1143</td>\n",
              "    </tr>\n",
              "  </tbody>\n",
              "</table>\n",
              "<p>35533980 rows × 10 columns</p>\n",
              "</div>\n",
              "      <button class=\"colab-df-convert\" onclick=\"convertToInteractive('df-dd68ba31-6041-436b-a245-17bb8d6f32ba')\"\n",
              "              title=\"Convert this dataframe to an interactive table.\"\n",
              "              style=\"display:none;\">\n",
              "        \n",
              "  <svg xmlns=\"http://www.w3.org/2000/svg\" height=\"24px\"viewBox=\"0 0 24 24\"\n",
              "       width=\"24px\">\n",
              "    <path d=\"M0 0h24v24H0V0z\" fill=\"none\"/>\n",
              "    <path d=\"M18.56 5.44l.94 2.06.94-2.06 2.06-.94-2.06-.94-.94-2.06-.94 2.06-2.06.94zm-11 1L8.5 8.5l.94-2.06 2.06-.94-2.06-.94L8.5 2.5l-.94 2.06-2.06.94zm10 10l.94 2.06.94-2.06 2.06-.94-2.06-.94-.94-2.06-.94 2.06-2.06.94z\"/><path d=\"M17.41 7.96l-1.37-1.37c-.4-.4-.92-.59-1.43-.59-.52 0-1.04.2-1.43.59L10.3 9.45l-7.72 7.72c-.78.78-.78 2.05 0 2.83L4 21.41c.39.39.9.59 1.41.59.51 0 1.02-.2 1.41-.59l7.78-7.78 2.81-2.81c.8-.78.8-2.07 0-2.86zM5.41 20L4 18.59l7.72-7.72 1.47 1.35L5.41 20z\"/>\n",
              "  </svg>\n",
              "      </button>\n",
              "      \n",
              "  <style>\n",
              "    .colab-df-container {\n",
              "      display:flex;\n",
              "      flex-wrap:wrap;\n",
              "      gap: 12px;\n",
              "    }\n",
              "\n",
              "    .colab-df-convert {\n",
              "      background-color: #E8F0FE;\n",
              "      border: none;\n",
              "      border-radius: 50%;\n",
              "      cursor: pointer;\n",
              "      display: none;\n",
              "      fill: #1967D2;\n",
              "      height: 32px;\n",
              "      padding: 0 0 0 0;\n",
              "      width: 32px;\n",
              "    }\n",
              "\n",
              "    .colab-df-convert:hover {\n",
              "      background-color: #E2EBFA;\n",
              "      box-shadow: 0px 1px 2px rgba(60, 64, 67, 0.3), 0px 1px 3px 1px rgba(60, 64, 67, 0.15);\n",
              "      fill: #174EA6;\n",
              "    }\n",
              "\n",
              "    [theme=dark] .colab-df-convert {\n",
              "      background-color: #3B4455;\n",
              "      fill: #D2E3FC;\n",
              "    }\n",
              "\n",
              "    [theme=dark] .colab-df-convert:hover {\n",
              "      background-color: #434B5C;\n",
              "      box-shadow: 0px 1px 3px 1px rgba(0, 0, 0, 0.15);\n",
              "      filter: drop-shadow(0px 1px 2px rgba(0, 0, 0, 0.3));\n",
              "      fill: #FFFFFF;\n",
              "    }\n",
              "  </style>\n",
              "\n",
              "      <script>\n",
              "        const buttonEl =\n",
              "          document.querySelector('#df-dd68ba31-6041-436b-a245-17bb8d6f32ba button.colab-df-convert');\n",
              "        buttonEl.style.display =\n",
              "          google.colab.kernel.accessAllowed ? 'block' : 'none';\n",
              "\n",
              "        async function convertToInteractive(key) {\n",
              "          const element = document.querySelector('#df-dd68ba31-6041-436b-a245-17bb8d6f32ba');\n",
              "          const dataTable =\n",
              "            await google.colab.kernel.invokeFunction('convertToInteractive',\n",
              "                                                     [key], {});\n",
              "          if (!dataTable) return;\n",
              "\n",
              "          const docLinkHtml = 'Like what you see? Visit the ' +\n",
              "            '<a target=\"_blank\" href=https://colab.research.google.com/notebooks/data_table.ipynb>data table notebook</a>'\n",
              "            + ' to learn more about interactive tables.';\n",
              "          element.innerHTML = '';\n",
              "          dataTable['output_type'] = 'display_data';\n",
              "          await google.colab.output.renderOutput(dataTable, element);\n",
              "          const docLink = document.createElement('div');\n",
              "          docLink.innerHTML = docLinkHtml;\n",
              "          element.appendChild(docLink);\n",
              "        }\n",
              "      </script>\n",
              "    </div>\n",
              "  </div>\n",
              "  "
            ]
          },
          "metadata": {},
          "execution_count": 45
        }
      ]
    },
    {
      "cell_type": "code",
      "source": [
        "df=df.fillna({'price':0,'sales_channel_id':0,'week':0\n",
        "              ,'repurchase':0,'CF_score':0, 'CF':0,'label':0})\n",
        "df"
      ],
      "metadata": {
        "id": "zzgdbSaX6w9t",
        "colab": {
          "base_uri": "https://localhost:8080/",
          "height": 488
        },
        "outputId": "994445ad-c4b8-4ff0-9dc3-a07320517c43"
      },
      "execution_count": null,
      "outputs": [
        {
          "output_type": "execute_result",
          "data": {
            "text/plain": [
              "                                                customer_id  article_id  \\\n",
              "0         0011e0bd4c39195ff342c0ca0ac0601ce2b943a8265506...   751471042   \n",
              "1         0011e0bd4c39195ff342c0ca0ac0601ce2b943a8265506...   824499006   \n",
              "2         0011e0bd4c39195ff342c0ca0ac0601ce2b943a8265506...   913688001   \n",
              "3         0013bde09d10db6b0a6a3b0987ac60b643013dfc6f924b...   776237020   \n",
              "4         0013bde09d10db6b0a6a3b0987ac60b643013dfc6f924b...   599580055   \n",
              "...                                                     ...         ...   \n",
              "35533975  ff5b8a8b26bf93a66290e9bd1b73393ac6a58968a78519...   456163060   \n",
              "35533976  ff6f55a51af284b71dcd264396b299e548f968c1769e71...   456163060   \n",
              "35533977  ff732b98019465f078144bae647d7d9765d76e3431ef92...   456163060   \n",
              "35533978  ffb72741f3bc3d98855703b55d34e05bc7893a5d6a99a3...   456163060   \n",
              "35533979  ffc92c3f7b0b302f393c2968b290f6e5c5b5510d1cf1df...   456163060   \n",
              "\n",
              "             price  sales_channel_id  week  label   CF  CF_score  repurchase  \\\n",
              "0         0.032746               2.0   1.0    0.0  0.0       0.0         1.0   \n",
              "1         0.065525               2.0   1.0    0.0  0.0       0.0         1.0   \n",
              "2         0.032746               2.0   1.0    0.0  0.0       0.0         1.0   \n",
              "3         0.025407               2.0   1.0    1.0  0.0       0.0         0.0   \n",
              "4         0.016932               2.0   1.0    1.0  0.0       0.0         0.0   \n",
              "...            ...               ...   ...    ...  ...       ...         ...   \n",
              "35533975  0.000000               0.0   0.0    0.0  0.0       0.0         0.0   \n",
              "35533976  0.000000               0.0   0.0    0.0  0.0       0.0         0.0   \n",
              "35533977  0.000000               0.0   0.0    0.0  0.0       0.0         0.0   \n",
              "35533978  0.000000               0.0   0.0    0.0  0.0       0.0         0.0   \n",
              "35533979  0.000000               0.0   0.0    0.0  0.0       0.0         0.0   \n",
              "\n",
              "          popularity_score  \n",
              "0                      673  \n",
              "1                      200  \n",
              "2                      400  \n",
              "3                      320  \n",
              "4                      259  \n",
              "...                    ...  \n",
              "35533975              1143  \n",
              "35533976              1143  \n",
              "35533977              1143  \n",
              "35533978              1143  \n",
              "35533979              1143  \n",
              "\n",
              "[35533980 rows x 10 columns]"
            ],
            "text/html": [
              "\n",
              "  <div id=\"df-afeed818-4422-46cf-9da8-bbd8c5575b0d\">\n",
              "    <div class=\"colab-df-container\">\n",
              "      <div>\n",
              "<style scoped>\n",
              "    .dataframe tbody tr th:only-of-type {\n",
              "        vertical-align: middle;\n",
              "    }\n",
              "\n",
              "    .dataframe tbody tr th {\n",
              "        vertical-align: top;\n",
              "    }\n",
              "\n",
              "    .dataframe thead th {\n",
              "        text-align: right;\n",
              "    }\n",
              "</style>\n",
              "<table border=\"1\" class=\"dataframe\">\n",
              "  <thead>\n",
              "    <tr style=\"text-align: right;\">\n",
              "      <th></th>\n",
              "      <th>customer_id</th>\n",
              "      <th>article_id</th>\n",
              "      <th>price</th>\n",
              "      <th>sales_channel_id</th>\n",
              "      <th>week</th>\n",
              "      <th>label</th>\n",
              "      <th>CF</th>\n",
              "      <th>CF_score</th>\n",
              "      <th>repurchase</th>\n",
              "      <th>popularity_score</th>\n",
              "    </tr>\n",
              "  </thead>\n",
              "  <tbody>\n",
              "    <tr>\n",
              "      <th>0</th>\n",
              "      <td>0011e0bd4c39195ff342c0ca0ac0601ce2b943a8265506...</td>\n",
              "      <td>751471042</td>\n",
              "      <td>0.032746</td>\n",
              "      <td>2.0</td>\n",
              "      <td>1.0</td>\n",
              "      <td>0.0</td>\n",
              "      <td>0.0</td>\n",
              "      <td>0.0</td>\n",
              "      <td>1.0</td>\n",
              "      <td>673</td>\n",
              "    </tr>\n",
              "    <tr>\n",
              "      <th>1</th>\n",
              "      <td>0011e0bd4c39195ff342c0ca0ac0601ce2b943a8265506...</td>\n",
              "      <td>824499006</td>\n",
              "      <td>0.065525</td>\n",
              "      <td>2.0</td>\n",
              "      <td>1.0</td>\n",
              "      <td>0.0</td>\n",
              "      <td>0.0</td>\n",
              "      <td>0.0</td>\n",
              "      <td>1.0</td>\n",
              "      <td>200</td>\n",
              "    </tr>\n",
              "    <tr>\n",
              "      <th>2</th>\n",
              "      <td>0011e0bd4c39195ff342c0ca0ac0601ce2b943a8265506...</td>\n",
              "      <td>913688001</td>\n",
              "      <td>0.032746</td>\n",
              "      <td>2.0</td>\n",
              "      <td>1.0</td>\n",
              "      <td>0.0</td>\n",
              "      <td>0.0</td>\n",
              "      <td>0.0</td>\n",
              "      <td>1.0</td>\n",
              "      <td>400</td>\n",
              "    </tr>\n",
              "    <tr>\n",
              "      <th>3</th>\n",
              "      <td>0013bde09d10db6b0a6a3b0987ac60b643013dfc6f924b...</td>\n",
              "      <td>776237020</td>\n",
              "      <td>0.025407</td>\n",
              "      <td>2.0</td>\n",
              "      <td>1.0</td>\n",
              "      <td>1.0</td>\n",
              "      <td>0.0</td>\n",
              "      <td>0.0</td>\n",
              "      <td>0.0</td>\n",
              "      <td>320</td>\n",
              "    </tr>\n",
              "    <tr>\n",
              "      <th>4</th>\n",
              "      <td>0013bde09d10db6b0a6a3b0987ac60b643013dfc6f924b...</td>\n",
              "      <td>599580055</td>\n",
              "      <td>0.016932</td>\n",
              "      <td>2.0</td>\n",
              "      <td>1.0</td>\n",
              "      <td>1.0</td>\n",
              "      <td>0.0</td>\n",
              "      <td>0.0</td>\n",
              "      <td>0.0</td>\n",
              "      <td>259</td>\n",
              "    </tr>\n",
              "    <tr>\n",
              "      <th>...</th>\n",
              "      <td>...</td>\n",
              "      <td>...</td>\n",
              "      <td>...</td>\n",
              "      <td>...</td>\n",
              "      <td>...</td>\n",
              "      <td>...</td>\n",
              "      <td>...</td>\n",
              "      <td>...</td>\n",
              "      <td>...</td>\n",
              "      <td>...</td>\n",
              "    </tr>\n",
              "    <tr>\n",
              "      <th>35533975</th>\n",
              "      <td>ff5b8a8b26bf93a66290e9bd1b73393ac6a58968a78519...</td>\n",
              "      <td>456163060</td>\n",
              "      <td>0.000000</td>\n",
              "      <td>0.0</td>\n",
              "      <td>0.0</td>\n",
              "      <td>0.0</td>\n",
              "      <td>0.0</td>\n",
              "      <td>0.0</td>\n",
              "      <td>0.0</td>\n",
              "      <td>1143</td>\n",
              "    </tr>\n",
              "    <tr>\n",
              "      <th>35533976</th>\n",
              "      <td>ff6f55a51af284b71dcd264396b299e548f968c1769e71...</td>\n",
              "      <td>456163060</td>\n",
              "      <td>0.000000</td>\n",
              "      <td>0.0</td>\n",
              "      <td>0.0</td>\n",
              "      <td>0.0</td>\n",
              "      <td>0.0</td>\n",
              "      <td>0.0</td>\n",
              "      <td>0.0</td>\n",
              "      <td>1143</td>\n",
              "    </tr>\n",
              "    <tr>\n",
              "      <th>35533977</th>\n",
              "      <td>ff732b98019465f078144bae647d7d9765d76e3431ef92...</td>\n",
              "      <td>456163060</td>\n",
              "      <td>0.000000</td>\n",
              "      <td>0.0</td>\n",
              "      <td>0.0</td>\n",
              "      <td>0.0</td>\n",
              "      <td>0.0</td>\n",
              "      <td>0.0</td>\n",
              "      <td>0.0</td>\n",
              "      <td>1143</td>\n",
              "    </tr>\n",
              "    <tr>\n",
              "      <th>35533978</th>\n",
              "      <td>ffb72741f3bc3d98855703b55d34e05bc7893a5d6a99a3...</td>\n",
              "      <td>456163060</td>\n",
              "      <td>0.000000</td>\n",
              "      <td>0.0</td>\n",
              "      <td>0.0</td>\n",
              "      <td>0.0</td>\n",
              "      <td>0.0</td>\n",
              "      <td>0.0</td>\n",
              "      <td>0.0</td>\n",
              "      <td>1143</td>\n",
              "    </tr>\n",
              "    <tr>\n",
              "      <th>35533979</th>\n",
              "      <td>ffc92c3f7b0b302f393c2968b290f6e5c5b5510d1cf1df...</td>\n",
              "      <td>456163060</td>\n",
              "      <td>0.000000</td>\n",
              "      <td>0.0</td>\n",
              "      <td>0.0</td>\n",
              "      <td>0.0</td>\n",
              "      <td>0.0</td>\n",
              "      <td>0.0</td>\n",
              "      <td>0.0</td>\n",
              "      <td>1143</td>\n",
              "    </tr>\n",
              "  </tbody>\n",
              "</table>\n",
              "<p>35533980 rows × 10 columns</p>\n",
              "</div>\n",
              "      <button class=\"colab-df-convert\" onclick=\"convertToInteractive('df-afeed818-4422-46cf-9da8-bbd8c5575b0d')\"\n",
              "              title=\"Convert this dataframe to an interactive table.\"\n",
              "              style=\"display:none;\">\n",
              "        \n",
              "  <svg xmlns=\"http://www.w3.org/2000/svg\" height=\"24px\"viewBox=\"0 0 24 24\"\n",
              "       width=\"24px\">\n",
              "    <path d=\"M0 0h24v24H0V0z\" fill=\"none\"/>\n",
              "    <path d=\"M18.56 5.44l.94 2.06.94-2.06 2.06-.94-2.06-.94-.94-2.06-.94 2.06-2.06.94zm-11 1L8.5 8.5l.94-2.06 2.06-.94-2.06-.94L8.5 2.5l-.94 2.06-2.06.94zm10 10l.94 2.06.94-2.06 2.06-.94-2.06-.94-.94-2.06-.94 2.06-2.06.94z\"/><path d=\"M17.41 7.96l-1.37-1.37c-.4-.4-.92-.59-1.43-.59-.52 0-1.04.2-1.43.59L10.3 9.45l-7.72 7.72c-.78.78-.78 2.05 0 2.83L4 21.41c.39.39.9.59 1.41.59.51 0 1.02-.2 1.41-.59l7.78-7.78 2.81-2.81c.8-.78.8-2.07 0-2.86zM5.41 20L4 18.59l7.72-7.72 1.47 1.35L5.41 20z\"/>\n",
              "  </svg>\n",
              "      </button>\n",
              "      \n",
              "  <style>\n",
              "    .colab-df-container {\n",
              "      display:flex;\n",
              "      flex-wrap:wrap;\n",
              "      gap: 12px;\n",
              "    }\n",
              "\n",
              "    .colab-df-convert {\n",
              "      background-color: #E8F0FE;\n",
              "      border: none;\n",
              "      border-radius: 50%;\n",
              "      cursor: pointer;\n",
              "      display: none;\n",
              "      fill: #1967D2;\n",
              "      height: 32px;\n",
              "      padding: 0 0 0 0;\n",
              "      width: 32px;\n",
              "    }\n",
              "\n",
              "    .colab-df-convert:hover {\n",
              "      background-color: #E2EBFA;\n",
              "      box-shadow: 0px 1px 2px rgba(60, 64, 67, 0.3), 0px 1px 3px 1px rgba(60, 64, 67, 0.15);\n",
              "      fill: #174EA6;\n",
              "    }\n",
              "\n",
              "    [theme=dark] .colab-df-convert {\n",
              "      background-color: #3B4455;\n",
              "      fill: #D2E3FC;\n",
              "    }\n",
              "\n",
              "    [theme=dark] .colab-df-convert:hover {\n",
              "      background-color: #434B5C;\n",
              "      box-shadow: 0px 1px 3px 1px rgba(0, 0, 0, 0.15);\n",
              "      filter: drop-shadow(0px 1px 2px rgba(0, 0, 0, 0.3));\n",
              "      fill: #FFFFFF;\n",
              "    }\n",
              "  </style>\n",
              "\n",
              "      <script>\n",
              "        const buttonEl =\n",
              "          document.querySelector('#df-afeed818-4422-46cf-9da8-bbd8c5575b0d button.colab-df-convert');\n",
              "        buttonEl.style.display =\n",
              "          google.colab.kernel.accessAllowed ? 'block' : 'none';\n",
              "\n",
              "        async function convertToInteractive(key) {\n",
              "          const element = document.querySelector('#df-afeed818-4422-46cf-9da8-bbd8c5575b0d');\n",
              "          const dataTable =\n",
              "            await google.colab.kernel.invokeFunction('convertToInteractive',\n",
              "                                                     [key], {});\n",
              "          if (!dataTable) return;\n",
              "\n",
              "          const docLinkHtml = 'Like what you see? Visit the ' +\n",
              "            '<a target=\"_blank\" href=https://colab.research.google.com/notebooks/data_table.ipynb>data table notebook</a>'\n",
              "            + ' to learn more about interactive tables.';\n",
              "          element.innerHTML = '';\n",
              "          dataTable['output_type'] = 'display_data';\n",
              "          await google.colab.output.renderOutput(dataTable, element);\n",
              "          const docLink = document.createElement('div');\n",
              "          docLink.innerHTML = docLinkHtml;\n",
              "          element.appendChild(docLink);\n",
              "        }\n",
              "      </script>\n",
              "    </div>\n",
              "  </div>\n",
              "  "
            ]
          },
          "metadata": {},
          "execution_count": 46
        }
      ]
    },
    {
      "cell_type": "code",
      "source": [
        "df.isna().any()"
      ],
      "metadata": {
        "colab": {
          "base_uri": "https://localhost:8080/"
        },
        "id": "3nXX2BMS7qeY",
        "outputId": "f7e7f38f-0bab-45d0-ea7b-62afb5e6cf33"
      },
      "execution_count": null,
      "outputs": [
        {
          "output_type": "execute_result",
          "data": {
            "text/plain": [
              "customer_id         False\n",
              "article_id          False\n",
              "price               False\n",
              "sales_channel_id    False\n",
              "week                False\n",
              "label               False\n",
              "CF                  False\n",
              "CF_score            False\n",
              "repurchase          False\n",
              "popularity_score    False\n",
              "dtype: bool"
            ]
          },
          "metadata": {},
          "execution_count": 47
        }
      ]
    },
    {
      "cell_type": "code",
      "source": [
        "df.to_csv('ranking.csv')"
      ],
      "metadata": {
        "id": "CxjP6J-LSaaA"
      },
      "execution_count": null,
      "outputs": []
    },
    {
      "cell_type": "code",
      "source": [
        "df_cust = pd.read_csv('drive/MyDrive/Thesis/data/customers_cleaned_full.csv')\n",
        "df_art = pd.read_csv('drive/MyDrive/Thesis/data/articles_num.csv')"
      ],
      "metadata": {
        "id": "RdtmW_5SsCOk"
      },
      "execution_count": null,
      "outputs": []
    },
    {
      "cell_type": "code",
      "source": [
        "df = df.merge(df_cust, on = 'customer_id')"
      ],
      "metadata": {
        "id": "Ufdjb-EjtV-x"
      },
      "execution_count": null,
      "outputs": []
    },
    {
      "cell_type": "code",
      "source": [
        "del df_cust"
      ],
      "metadata": {
        "id": "EHtRw16ATphs"
      },
      "execution_count": null,
      "outputs": []
    },
    {
      "cell_type": "code",
      "source": [
        "df = df.merge(df_art[['article_id', 'product_type_no', \n",
        "                      'perceived_colour_master_id','index_group_no']],\n",
        "              on = 'article_id')"
      ],
      "metadata": {
        "id": "fESSXA4KsapU"
      },
      "execution_count": null,
      "outputs": []
    },
    {
      "cell_type": "code",
      "source": [
        "df = df.sort_values('customer_id')"
      ],
      "metadata": {
        "id": "q1u3_tIltTxw"
      },
      "execution_count": null,
      "outputs": []
    },
    {
      "cell_type": "code",
      "source": [
        "df"
      ],
      "metadata": {
        "colab": {
          "base_uri": "https://localhost:8080/",
          "height": 488
        },
        "id": "-OdV8XSPoGS3",
        "outputId": "992d09cc-a665-495b-9434-f03fafa4d8ab"
      },
      "execution_count": null,
      "outputs": [
        {
          "output_type": "execute_result",
          "data": {
            "text/plain": [
              "                                                customer_id  article_id  \\\n",
              "4124087   00000dbacae5abe5e23885899a1fa44253a17956c6d1c3...   915526001   \n",
              "26810942  00000dbacae5abe5e23885899a1fa44253a17956c6d1c3...   706016002   \n",
              "33313074  00000dbacae5abe5e23885899a1fa44253a17956c6d1c3...   858856005   \n",
              "25436086  00000dbacae5abe5e23885899a1fa44253a17956c6d1c3...   572998009   \n",
              "16155695  00000dbacae5abe5e23885899a1fa44253a17956c6d1c3...   579541001   \n",
              "...                                                     ...         ...   \n",
              "10335674  ffffcf35913a0bee60e8741cb2b4e78b8a98ee5ff2e6a1...   758034001   \n",
              "34498276  ffffcf35913a0bee60e8741cb2b4e78b8a98ee5ff2e6a1...   689365050   \n",
              "15148126  ffffcf35913a0bee60e8741cb2b4e78b8a98ee5ff2e6a1...   806388002   \n",
              "28251894  ffffcf35913a0bee60e8741cb2b4e78b8a98ee5ff2e6a1...   889460003   \n",
              "20303970  ffffcf35913a0bee60e8741cb2b4e78b8a98ee5ff2e6a1...   910132001   \n",
              "\n",
              "             price  sales_channel_id  week  label   CF  CF_score  repurchase  \\\n",
              "4124087   0.000000               0.0   0.0    0.0  0.0  0.000000         0.0   \n",
              "26810942  0.000000               0.0   0.0    0.0  0.0  0.000000         0.0   \n",
              "33313074  0.000000               0.0   0.0    0.0  1.0  0.097682         0.0   \n",
              "25436086  0.000000               0.0   0.0    0.0  0.0  0.000000         0.0   \n",
              "16155695  0.000000               0.0   0.0    0.0  0.0  0.000000         0.0   \n",
              "...            ...               ...   ...    ...  ...       ...         ...   \n",
              "10335674  0.000000               0.0   0.0    0.0  0.0  0.000000         0.0   \n",
              "34498276  0.010017               2.0   5.0    0.0  0.0  0.000000         1.0   \n",
              "15148126  0.000000               0.0   0.0    0.0  0.0  0.000000         0.0   \n",
              "28251894  0.000000               0.0   0.0    0.0  1.0  0.010469         0.0   \n",
              "20303970  0.000000               0.0   0.0    0.0  0.0  0.000000         0.0   \n",
              "\n",
              "          popularity_score   age  postal_code  product_type_no  \\\n",
              "4124087               2678  49.0       112978              252   \n",
              "26810942              1151  49.0       112978              272   \n",
              "33313074               174  49.0       112978              275   \n",
              "25436086              1164  49.0       112978              272   \n",
              "16155695              1389  49.0       112978              245   \n",
              "...                    ...   ...          ...              ...   \n",
              "10335674              1695  21.0        95707              286   \n",
              "34498276                96  21.0        95707              259   \n",
              "15148126              1469  21.0        95707              255   \n",
              "28251894               858  21.0        95707              258   \n",
              "20303970              1247  21.0        95707              253   \n",
              "\n",
              "          perceived_colour_master_id  index_group_no  \n",
              "4124087                            9               1  \n",
              "26810942                           2               2  \n",
              "33313074                          19               1  \n",
              "25436086                           2               2  \n",
              "16155695                           5               1  \n",
              "...                              ...             ...  \n",
              "10335674                           5               1  \n",
              "34498276                           4               2  \n",
              "15148126                           9               2  \n",
              "28251894                           1               1  \n",
              "20303970                           5               1  \n",
              "\n",
              "[35533980 rows x 15 columns]"
            ],
            "text/html": [
              "\n",
              "  <div id=\"df-b32e0a5f-0fce-49de-8a03-ca52b91d437f\">\n",
              "    <div class=\"colab-df-container\">\n",
              "      <div>\n",
              "<style scoped>\n",
              "    .dataframe tbody tr th:only-of-type {\n",
              "        vertical-align: middle;\n",
              "    }\n",
              "\n",
              "    .dataframe tbody tr th {\n",
              "        vertical-align: top;\n",
              "    }\n",
              "\n",
              "    .dataframe thead th {\n",
              "        text-align: right;\n",
              "    }\n",
              "</style>\n",
              "<table border=\"1\" class=\"dataframe\">\n",
              "  <thead>\n",
              "    <tr style=\"text-align: right;\">\n",
              "      <th></th>\n",
              "      <th>customer_id</th>\n",
              "      <th>article_id</th>\n",
              "      <th>price</th>\n",
              "      <th>sales_channel_id</th>\n",
              "      <th>week</th>\n",
              "      <th>label</th>\n",
              "      <th>CF</th>\n",
              "      <th>CF_score</th>\n",
              "      <th>repurchase</th>\n",
              "      <th>popularity_score</th>\n",
              "      <th>age</th>\n",
              "      <th>postal_code</th>\n",
              "      <th>product_type_no</th>\n",
              "      <th>perceived_colour_master_id</th>\n",
              "      <th>index_group_no</th>\n",
              "    </tr>\n",
              "  </thead>\n",
              "  <tbody>\n",
              "    <tr>\n",
              "      <th>4124087</th>\n",
              "      <td>00000dbacae5abe5e23885899a1fa44253a17956c6d1c3...</td>\n",
              "      <td>915526001</td>\n",
              "      <td>0.000000</td>\n",
              "      <td>0.0</td>\n",
              "      <td>0.0</td>\n",
              "      <td>0.0</td>\n",
              "      <td>0.0</td>\n",
              "      <td>0.000000</td>\n",
              "      <td>0.0</td>\n",
              "      <td>2678</td>\n",
              "      <td>49.0</td>\n",
              "      <td>112978</td>\n",
              "      <td>252</td>\n",
              "      <td>9</td>\n",
              "      <td>1</td>\n",
              "    </tr>\n",
              "    <tr>\n",
              "      <th>26810942</th>\n",
              "      <td>00000dbacae5abe5e23885899a1fa44253a17956c6d1c3...</td>\n",
              "      <td>706016002</td>\n",
              "      <td>0.000000</td>\n",
              "      <td>0.0</td>\n",
              "      <td>0.0</td>\n",
              "      <td>0.0</td>\n",
              "      <td>0.0</td>\n",
              "      <td>0.000000</td>\n",
              "      <td>0.0</td>\n",
              "      <td>1151</td>\n",
              "      <td>49.0</td>\n",
              "      <td>112978</td>\n",
              "      <td>272</td>\n",
              "      <td>2</td>\n",
              "      <td>2</td>\n",
              "    </tr>\n",
              "    <tr>\n",
              "      <th>33313074</th>\n",
              "      <td>00000dbacae5abe5e23885899a1fa44253a17956c6d1c3...</td>\n",
              "      <td>858856005</td>\n",
              "      <td>0.000000</td>\n",
              "      <td>0.0</td>\n",
              "      <td>0.0</td>\n",
              "      <td>0.0</td>\n",
              "      <td>1.0</td>\n",
              "      <td>0.097682</td>\n",
              "      <td>0.0</td>\n",
              "      <td>174</td>\n",
              "      <td>49.0</td>\n",
              "      <td>112978</td>\n",
              "      <td>275</td>\n",
              "      <td>19</td>\n",
              "      <td>1</td>\n",
              "    </tr>\n",
              "    <tr>\n",
              "      <th>25436086</th>\n",
              "      <td>00000dbacae5abe5e23885899a1fa44253a17956c6d1c3...</td>\n",
              "      <td>572998009</td>\n",
              "      <td>0.000000</td>\n",
              "      <td>0.0</td>\n",
              "      <td>0.0</td>\n",
              "      <td>0.0</td>\n",
              "      <td>0.0</td>\n",
              "      <td>0.000000</td>\n",
              "      <td>0.0</td>\n",
              "      <td>1164</td>\n",
              "      <td>49.0</td>\n",
              "      <td>112978</td>\n",
              "      <td>272</td>\n",
              "      <td>2</td>\n",
              "      <td>2</td>\n",
              "    </tr>\n",
              "    <tr>\n",
              "      <th>16155695</th>\n",
              "      <td>00000dbacae5abe5e23885899a1fa44253a17956c6d1c3...</td>\n",
              "      <td>579541001</td>\n",
              "      <td>0.000000</td>\n",
              "      <td>0.0</td>\n",
              "      <td>0.0</td>\n",
              "      <td>0.0</td>\n",
              "      <td>0.0</td>\n",
              "      <td>0.000000</td>\n",
              "      <td>0.0</td>\n",
              "      <td>1389</td>\n",
              "      <td>49.0</td>\n",
              "      <td>112978</td>\n",
              "      <td>245</td>\n",
              "      <td>5</td>\n",
              "      <td>1</td>\n",
              "    </tr>\n",
              "    <tr>\n",
              "      <th>...</th>\n",
              "      <td>...</td>\n",
              "      <td>...</td>\n",
              "      <td>...</td>\n",
              "      <td>...</td>\n",
              "      <td>...</td>\n",
              "      <td>...</td>\n",
              "      <td>...</td>\n",
              "      <td>...</td>\n",
              "      <td>...</td>\n",
              "      <td>...</td>\n",
              "      <td>...</td>\n",
              "      <td>...</td>\n",
              "      <td>...</td>\n",
              "      <td>...</td>\n",
              "      <td>...</td>\n",
              "    </tr>\n",
              "    <tr>\n",
              "      <th>10335674</th>\n",
              "      <td>ffffcf35913a0bee60e8741cb2b4e78b8a98ee5ff2e6a1...</td>\n",
              "      <td>758034001</td>\n",
              "      <td>0.000000</td>\n",
              "      <td>0.0</td>\n",
              "      <td>0.0</td>\n",
              "      <td>0.0</td>\n",
              "      <td>0.0</td>\n",
              "      <td>0.000000</td>\n",
              "      <td>0.0</td>\n",
              "      <td>1695</td>\n",
              "      <td>21.0</td>\n",
              "      <td>95707</td>\n",
              "      <td>286</td>\n",
              "      <td>5</td>\n",
              "      <td>1</td>\n",
              "    </tr>\n",
              "    <tr>\n",
              "      <th>34498276</th>\n",
              "      <td>ffffcf35913a0bee60e8741cb2b4e78b8a98ee5ff2e6a1...</td>\n",
              "      <td>689365050</td>\n",
              "      <td>0.010017</td>\n",
              "      <td>2.0</td>\n",
              "      <td>5.0</td>\n",
              "      <td>0.0</td>\n",
              "      <td>0.0</td>\n",
              "      <td>0.000000</td>\n",
              "      <td>1.0</td>\n",
              "      <td>96</td>\n",
              "      <td>21.0</td>\n",
              "      <td>95707</td>\n",
              "      <td>259</td>\n",
              "      <td>4</td>\n",
              "      <td>2</td>\n",
              "    </tr>\n",
              "    <tr>\n",
              "      <th>15148126</th>\n",
              "      <td>ffffcf35913a0bee60e8741cb2b4e78b8a98ee5ff2e6a1...</td>\n",
              "      <td>806388002</td>\n",
              "      <td>0.000000</td>\n",
              "      <td>0.0</td>\n",
              "      <td>0.0</td>\n",
              "      <td>0.0</td>\n",
              "      <td>0.0</td>\n",
              "      <td>0.000000</td>\n",
              "      <td>0.0</td>\n",
              "      <td>1469</td>\n",
              "      <td>21.0</td>\n",
              "      <td>95707</td>\n",
              "      <td>255</td>\n",
              "      <td>9</td>\n",
              "      <td>2</td>\n",
              "    </tr>\n",
              "    <tr>\n",
              "      <th>28251894</th>\n",
              "      <td>ffffcf35913a0bee60e8741cb2b4e78b8a98ee5ff2e6a1...</td>\n",
              "      <td>889460003</td>\n",
              "      <td>0.000000</td>\n",
              "      <td>0.0</td>\n",
              "      <td>0.0</td>\n",
              "      <td>0.0</td>\n",
              "      <td>1.0</td>\n",
              "      <td>0.010469</td>\n",
              "      <td>0.0</td>\n",
              "      <td>858</td>\n",
              "      <td>21.0</td>\n",
              "      <td>95707</td>\n",
              "      <td>258</td>\n",
              "      <td>1</td>\n",
              "      <td>1</td>\n",
              "    </tr>\n",
              "    <tr>\n",
              "      <th>20303970</th>\n",
              "      <td>ffffcf35913a0bee60e8741cb2b4e78b8a98ee5ff2e6a1...</td>\n",
              "      <td>910132001</td>\n",
              "      <td>0.000000</td>\n",
              "      <td>0.0</td>\n",
              "      <td>0.0</td>\n",
              "      <td>0.0</td>\n",
              "      <td>0.0</td>\n",
              "      <td>0.000000</td>\n",
              "      <td>0.0</td>\n",
              "      <td>1247</td>\n",
              "      <td>21.0</td>\n",
              "      <td>95707</td>\n",
              "      <td>253</td>\n",
              "      <td>5</td>\n",
              "      <td>1</td>\n",
              "    </tr>\n",
              "  </tbody>\n",
              "</table>\n",
              "<p>35533980 rows × 15 columns</p>\n",
              "</div>\n",
              "      <button class=\"colab-df-convert\" onclick=\"convertToInteractive('df-b32e0a5f-0fce-49de-8a03-ca52b91d437f')\"\n",
              "              title=\"Convert this dataframe to an interactive table.\"\n",
              "              style=\"display:none;\">\n",
              "        \n",
              "  <svg xmlns=\"http://www.w3.org/2000/svg\" height=\"24px\"viewBox=\"0 0 24 24\"\n",
              "       width=\"24px\">\n",
              "    <path d=\"M0 0h24v24H0V0z\" fill=\"none\"/>\n",
              "    <path d=\"M18.56 5.44l.94 2.06.94-2.06 2.06-.94-2.06-.94-.94-2.06-.94 2.06-2.06.94zm-11 1L8.5 8.5l.94-2.06 2.06-.94-2.06-.94L8.5 2.5l-.94 2.06-2.06.94zm10 10l.94 2.06.94-2.06 2.06-.94-2.06-.94-.94-2.06-.94 2.06-2.06.94z\"/><path d=\"M17.41 7.96l-1.37-1.37c-.4-.4-.92-.59-1.43-.59-.52 0-1.04.2-1.43.59L10.3 9.45l-7.72 7.72c-.78.78-.78 2.05 0 2.83L4 21.41c.39.39.9.59 1.41.59.51 0 1.02-.2 1.41-.59l7.78-7.78 2.81-2.81c.8-.78.8-2.07 0-2.86zM5.41 20L4 18.59l7.72-7.72 1.47 1.35L5.41 20z\"/>\n",
              "  </svg>\n",
              "      </button>\n",
              "      \n",
              "  <style>\n",
              "    .colab-df-container {\n",
              "      display:flex;\n",
              "      flex-wrap:wrap;\n",
              "      gap: 12px;\n",
              "    }\n",
              "\n",
              "    .colab-df-convert {\n",
              "      background-color: #E8F0FE;\n",
              "      border: none;\n",
              "      border-radius: 50%;\n",
              "      cursor: pointer;\n",
              "      display: none;\n",
              "      fill: #1967D2;\n",
              "      height: 32px;\n",
              "      padding: 0 0 0 0;\n",
              "      width: 32px;\n",
              "    }\n",
              "\n",
              "    .colab-df-convert:hover {\n",
              "      background-color: #E2EBFA;\n",
              "      box-shadow: 0px 1px 2px rgba(60, 64, 67, 0.3), 0px 1px 3px 1px rgba(60, 64, 67, 0.15);\n",
              "      fill: #174EA6;\n",
              "    }\n",
              "\n",
              "    [theme=dark] .colab-df-convert {\n",
              "      background-color: #3B4455;\n",
              "      fill: #D2E3FC;\n",
              "    }\n",
              "\n",
              "    [theme=dark] .colab-df-convert:hover {\n",
              "      background-color: #434B5C;\n",
              "      box-shadow: 0px 1px 3px 1px rgba(0, 0, 0, 0.15);\n",
              "      filter: drop-shadow(0px 1px 2px rgba(0, 0, 0, 0.3));\n",
              "      fill: #FFFFFF;\n",
              "    }\n",
              "  </style>\n",
              "\n",
              "      <script>\n",
              "        const buttonEl =\n",
              "          document.querySelector('#df-b32e0a5f-0fce-49de-8a03-ca52b91d437f button.colab-df-convert');\n",
              "        buttonEl.style.display =\n",
              "          google.colab.kernel.accessAllowed ? 'block' : 'none';\n",
              "\n",
              "        async function convertToInteractive(key) {\n",
              "          const element = document.querySelector('#df-b32e0a5f-0fce-49de-8a03-ca52b91d437f');\n",
              "          const dataTable =\n",
              "            await google.colab.kernel.invokeFunction('convertToInteractive',\n",
              "                                                     [key], {});\n",
              "          if (!dataTable) return;\n",
              "\n",
              "          const docLinkHtml = 'Like what you see? Visit the ' +\n",
              "            '<a target=\"_blank\" href=https://colab.research.google.com/notebooks/data_table.ipynb>data table notebook</a>'\n",
              "            + ' to learn more about interactive tables.';\n",
              "          element.innerHTML = '';\n",
              "          dataTable['output_type'] = 'display_data';\n",
              "          await google.colab.output.renderOutput(dataTable, element);\n",
              "          const docLink = document.createElement('div');\n",
              "          docLink.innerHTML = docLinkHtml;\n",
              "          element.appendChild(docLink);\n",
              "        }\n",
              "      </script>\n",
              "    </div>\n",
              "  </div>\n",
              "  "
            ]
          },
          "metadata": {},
          "execution_count": 53
        }
      ]
    },
    {
      "cell_type": "code",
      "source": [
        "df.reset_index(drop=True,inplace=True)"
      ],
      "metadata": {
        "id": "Vf8YcX4vobRP"
      },
      "execution_count": null,
      "outputs": []
    },
    {
      "cell_type": "code",
      "source": [
        "df.to_csv('ranking_train.csv',index=False)"
      ],
      "metadata": {
        "id": "vgQj0MkB1Rwn"
      },
      "execution_count": null,
      "outputs": []
    },
    {
      "cell_type": "markdown",
      "source": [
        "## 2-2 GPU Accelerator"
      ],
      "metadata": {
        "id": "yb0hh6TIHB8q"
      }
    },
    {
      "cell_type": "code",
      "source": [
        "!rm -r /opt/conda/lib/python3.6/site-packages/lightgbm\n",
        "!git clone --recursive https://github.com/Microsoft/LightGBM"
      ],
      "metadata": {
        "colab": {
          "base_uri": "https://localhost:8080/"
        },
        "id": "fWIBGCsbABip",
        "outputId": "7a6bda05-c6b4-4d4d-d2a9-9c9fb205619d"
      },
      "execution_count": null,
      "outputs": [
        {
          "output_type": "stream",
          "name": "stdout",
          "text": [
            "rm: cannot remove '/opt/conda/lib/python3.6/site-packages/lightgbm': No such file or directory\n",
            "fatal: destination path 'LightGBM' already exists and is not an empty directory.\n"
          ]
        }
      ]
    },
    {
      "cell_type": "code",
      "source": [
        "!apt-get install -y libboost-all-dev\n",
        "#Note: If you running this script directly from terminal make sure to remove \"!\""
      ],
      "metadata": {
        "colab": {
          "base_uri": "https://localhost:8080/"
        },
        "id": "GzV-1bVzAFix",
        "outputId": "d1089ae9-0179-4c02-8a55-851565047b78"
      },
      "execution_count": null,
      "outputs": [
        {
          "output_type": "stream",
          "name": "stdout",
          "text": [
            "Reading package lists... Done\n",
            "Building dependency tree       \n",
            "Reading state information... Done\n",
            "libboost-all-dev is already the newest version (1.65.1.0ubuntu1).\n",
            "The following package was automatically installed and is no longer required:\n",
            "  libnvidia-common-460\n",
            "Use 'apt autoremove' to remove it.\n",
            "0 upgraded, 0 newly installed, 0 to remove and 20 not upgraded.\n"
          ]
        }
      ]
    },
    {
      "cell_type": "code",
      "source": [
        "!apt-get update --fix-missing\n",
        "#Note: If you running this script directly from terminal make sure to remove \"!\""
      ],
      "metadata": {
        "colab": {
          "base_uri": "https://localhost:8080/"
        },
        "id": "woP28In1AJt2",
        "outputId": "3a34b71d-e535-4f07-af33-f6b1b8256700"
      },
      "execution_count": null,
      "outputs": [
        {
          "output_type": "stream",
          "name": "stdout",
          "text": [
            "\r0% [Working]\r            \rHit:1 https://cloud.r-project.org/bin/linux/ubuntu bionic-cran40/ InRelease\n",
            "\r0% [Connecting to archive.ubuntu.com (91.189.91.39)] [Connecting to security.ub\r0% [1 InRelease gpgv 3,626 B] [Connecting to archive.ubuntu.com (91.189.91.39)]\r                                                                               \rIgn:2 https://developer.download.nvidia.com/compute/machine-learning/repos/ubuntu1804/x86_64  InRelease\n",
            "\r0% [1 InRelease gpgv 3,626 B] [Waiting for headers] [Connecting to security.ubu\r                                                                               \rHit:3 http://archive.ubuntu.com/ubuntu bionic InRelease\n",
            "Get:4 https://developer.download.nvidia.com/compute/cuda/repos/ubuntu1804/x86_64  InRelease [1,581 B]\n",
            "Hit:5 https://developer.download.nvidia.com/compute/machine-learning/repos/ubuntu1804/x86_64  Release\n",
            "Get:6 http://archive.ubuntu.com/ubuntu bionic-updates InRelease [88.7 kB]\n",
            "Hit:7 http://ppa.launchpad.net/c2d4u.team/c2d4u4.0+/ubuntu bionic InRelease\n",
            "Get:8 http://security.ubuntu.com/ubuntu bionic-security InRelease [88.7 kB]\n",
            "Get:9 http://archive.ubuntu.com/ubuntu bionic-backports InRelease [83.3 kB]\n",
            "Hit:10 http://ppa.launchpad.net/cran/libgit2/ubuntu bionic InRelease\n",
            "Get:11 https://developer.download.nvidia.com/compute/cuda/repos/ubuntu1804/x86_64  Packages [913 kB]\n",
            "Hit:13 http://ppa.launchpad.net/deadsnakes/ppa/ubuntu bionic InRelease\n",
            "Hit:14 http://ppa.launchpad.net/graphics-drivers/ppa/ubuntu bionic InRelease\n",
            "Fetched 1,175 kB in 2s (614 kB/s)\n",
            "Reading package lists... Done\n"
          ]
        }
      ]
    },
    {
      "cell_type": "code",
      "source": [
        "#/usr/local/cuda/lib64/libOpenCL.so.1"
      ],
      "metadata": {
        "id": "aLZBIsK8GFuE"
      },
      "execution_count": null,
      "outputs": []
    },
    {
      "cell_type": "code",
      "source": [
        "%%bash\n",
        "cd LightGBM\n",
        "#rm -r build\n",
        "mkdir build\n",
        "cd build\n",
        "cmake -DUSE_GPU=1 -DOpenCL_LIBRARY=/usr/local/cuda/lib64/libOpenCL.so.1 -DOpenCL_INCLUDE_DIR=/usr/local/cuda/include/ ..\n",
        "make -j$(nproc)"
      ],
      "metadata": {
        "colab": {
          "base_uri": "https://localhost:8080/"
        },
        "id": "o6yA30oWGH-Y",
        "outputId": "f138d8f6-5ddc-480e-bba0-a79e14bc9cba"
      },
      "execution_count": null,
      "outputs": [
        {
          "output_type": "stream",
          "name": "stdout",
          "text": [
            "-- OpenCL include directory: /usr/local/cuda/include\n",
            "-- Using _mm_prefetch\n",
            "-- Using _mm_malloc\n",
            "-- Configuring done\n",
            "-- Generating done\n",
            "-- Build files have been written to: /content/LightGBM/build\n",
            "Consolidate compiler generated dependencies of target lightgbm_capi_objs\n",
            "[  1%] Built target lightgbm_capi_objs\n",
            "Consolidate compiler generated dependencies of target lightgbm_objs\n",
            "[ 92%] Built target lightgbm_objs\n",
            "Consolidate compiler generated dependencies of target lightgbm\n",
            "[ 94%] Built target _lightgbm\n",
            "[100%] Built target lightgbm\n"
          ]
        },
        {
          "output_type": "stream",
          "name": "stderr",
          "text": [
            "mkdir: cannot create directory ‘build’: File exists\n"
          ]
        }
      ]
    },
    {
      "cell_type": "markdown",
      "source": [
        "## 2-3 Model"
      ],
      "metadata": {
        "id": "HJFP82vm0tCT"
      }
    },
    {
      "cell_type": "code",
      "source": [
        "import pandas as pd\n",
        "import numpy as np\n",
        "import lightgbm\n",
        "import time\n",
        "from datetime import date, datetime\n",
        "from sklearn.model_selection import train_test_split"
      ],
      "metadata": {
        "id": "8-JC4VqKYHX1"
      },
      "execution_count": null,
      "outputs": []
    },
    {
      "cell_type": "code",
      "source": [
        "df = pd.read_csv('ranking_train.csv')\n",
        "df"
      ],
      "metadata": {
        "colab": {
          "base_uri": "https://localhost:8080/",
          "height": 488
        },
        "id": "HE5xar-N47Is",
        "outputId": "668f036e-9187-43fc-df58-aea79e7e9569"
      },
      "execution_count": null,
      "outputs": [
        {
          "output_type": "execute_result",
          "data": {
            "text/plain": [
              "                                                customer_id  article_id  \\\n",
              "0         00000dbacae5abe5e23885899a1fa44253a17956c6d1c3...   915526001   \n",
              "1         00000dbacae5abe5e23885899a1fa44253a17956c6d1c3...   706016002   \n",
              "2         00000dbacae5abe5e23885899a1fa44253a17956c6d1c3...   858856005   \n",
              "3         00000dbacae5abe5e23885899a1fa44253a17956c6d1c3...   572998009   \n",
              "4         00000dbacae5abe5e23885899a1fa44253a17956c6d1c3...   579541001   \n",
              "...                                                     ...         ...   \n",
              "35533975  ffffcf35913a0bee60e8741cb2b4e78b8a98ee5ff2e6a1...   758034001   \n",
              "35533976  ffffcf35913a0bee60e8741cb2b4e78b8a98ee5ff2e6a1...   689365050   \n",
              "35533977  ffffcf35913a0bee60e8741cb2b4e78b8a98ee5ff2e6a1...   806388002   \n",
              "35533978  ffffcf35913a0bee60e8741cb2b4e78b8a98ee5ff2e6a1...   889460003   \n",
              "35533979  ffffcf35913a0bee60e8741cb2b4e78b8a98ee5ff2e6a1...   910132001   \n",
              "\n",
              "             price  sales_channel_id  week  label   CF  CF_score  repurchase  \\\n",
              "0         0.000000               0.0   0.0    0.0  0.0  0.000000         0.0   \n",
              "1         0.000000               0.0   0.0    0.0  0.0  0.000000         0.0   \n",
              "2         0.000000               0.0   0.0    0.0  1.0  0.097682         0.0   \n",
              "3         0.000000               0.0   0.0    0.0  0.0  0.000000         0.0   \n",
              "4         0.000000               0.0   0.0    0.0  0.0  0.000000         0.0   \n",
              "...            ...               ...   ...    ...  ...       ...         ...   \n",
              "35533975  0.000000               0.0   0.0    0.0  0.0  0.000000         0.0   \n",
              "35533976  0.010017               2.0   5.0    0.0  0.0  0.000000         1.0   \n",
              "35533977  0.000000               0.0   0.0    0.0  0.0  0.000000         0.0   \n",
              "35533978  0.000000               0.0   0.0    0.0  1.0  0.010469         0.0   \n",
              "35533979  0.000000               0.0   0.0    0.0  0.0  0.000000         0.0   \n",
              "\n",
              "          popularity_score   age  postal_code  product_type_no  \\\n",
              "0                     2678  49.0       112978              252   \n",
              "1                     1151  49.0       112978              272   \n",
              "2                      174  49.0       112978              275   \n",
              "3                     1164  49.0       112978              272   \n",
              "4                     1389  49.0       112978              245   \n",
              "...                    ...   ...          ...              ...   \n",
              "35533975              1695  21.0        95707              286   \n",
              "35533976                96  21.0        95707              259   \n",
              "35533977              1469  21.0        95707              255   \n",
              "35533978               858  21.0        95707              258   \n",
              "35533979              1247  21.0        95707              253   \n",
              "\n",
              "          perceived_colour_master_id  index_group_no  \n",
              "0                                  9               1  \n",
              "1                                  2               2  \n",
              "2                                 19               1  \n",
              "3                                  2               2  \n",
              "4                                  5               1  \n",
              "...                              ...             ...  \n",
              "35533975                           5               1  \n",
              "35533976                           4               2  \n",
              "35533977                           9               2  \n",
              "35533978                           1               1  \n",
              "35533979                           5               1  \n",
              "\n",
              "[35533980 rows x 15 columns]"
            ],
            "text/html": [
              "\n",
              "  <div id=\"df-96bccac5-4220-40ae-a1d4-b00faa50dfba\">\n",
              "    <div class=\"colab-df-container\">\n",
              "      <div>\n",
              "<style scoped>\n",
              "    .dataframe tbody tr th:only-of-type {\n",
              "        vertical-align: middle;\n",
              "    }\n",
              "\n",
              "    .dataframe tbody tr th {\n",
              "        vertical-align: top;\n",
              "    }\n",
              "\n",
              "    .dataframe thead th {\n",
              "        text-align: right;\n",
              "    }\n",
              "</style>\n",
              "<table border=\"1\" class=\"dataframe\">\n",
              "  <thead>\n",
              "    <tr style=\"text-align: right;\">\n",
              "      <th></th>\n",
              "      <th>customer_id</th>\n",
              "      <th>article_id</th>\n",
              "      <th>price</th>\n",
              "      <th>sales_channel_id</th>\n",
              "      <th>week</th>\n",
              "      <th>label</th>\n",
              "      <th>CF</th>\n",
              "      <th>CF_score</th>\n",
              "      <th>repurchase</th>\n",
              "      <th>popularity_score</th>\n",
              "      <th>age</th>\n",
              "      <th>postal_code</th>\n",
              "      <th>product_type_no</th>\n",
              "      <th>perceived_colour_master_id</th>\n",
              "      <th>index_group_no</th>\n",
              "    </tr>\n",
              "  </thead>\n",
              "  <tbody>\n",
              "    <tr>\n",
              "      <th>0</th>\n",
              "      <td>00000dbacae5abe5e23885899a1fa44253a17956c6d1c3...</td>\n",
              "      <td>915526001</td>\n",
              "      <td>0.000000</td>\n",
              "      <td>0.0</td>\n",
              "      <td>0.0</td>\n",
              "      <td>0.0</td>\n",
              "      <td>0.0</td>\n",
              "      <td>0.000000</td>\n",
              "      <td>0.0</td>\n",
              "      <td>2678</td>\n",
              "      <td>49.0</td>\n",
              "      <td>112978</td>\n",
              "      <td>252</td>\n",
              "      <td>9</td>\n",
              "      <td>1</td>\n",
              "    </tr>\n",
              "    <tr>\n",
              "      <th>1</th>\n",
              "      <td>00000dbacae5abe5e23885899a1fa44253a17956c6d1c3...</td>\n",
              "      <td>706016002</td>\n",
              "      <td>0.000000</td>\n",
              "      <td>0.0</td>\n",
              "      <td>0.0</td>\n",
              "      <td>0.0</td>\n",
              "      <td>0.0</td>\n",
              "      <td>0.000000</td>\n",
              "      <td>0.0</td>\n",
              "      <td>1151</td>\n",
              "      <td>49.0</td>\n",
              "      <td>112978</td>\n",
              "      <td>272</td>\n",
              "      <td>2</td>\n",
              "      <td>2</td>\n",
              "    </tr>\n",
              "    <tr>\n",
              "      <th>2</th>\n",
              "      <td>00000dbacae5abe5e23885899a1fa44253a17956c6d1c3...</td>\n",
              "      <td>858856005</td>\n",
              "      <td>0.000000</td>\n",
              "      <td>0.0</td>\n",
              "      <td>0.0</td>\n",
              "      <td>0.0</td>\n",
              "      <td>1.0</td>\n",
              "      <td>0.097682</td>\n",
              "      <td>0.0</td>\n",
              "      <td>174</td>\n",
              "      <td>49.0</td>\n",
              "      <td>112978</td>\n",
              "      <td>275</td>\n",
              "      <td>19</td>\n",
              "      <td>1</td>\n",
              "    </tr>\n",
              "    <tr>\n",
              "      <th>3</th>\n",
              "      <td>00000dbacae5abe5e23885899a1fa44253a17956c6d1c3...</td>\n",
              "      <td>572998009</td>\n",
              "      <td>0.000000</td>\n",
              "      <td>0.0</td>\n",
              "      <td>0.0</td>\n",
              "      <td>0.0</td>\n",
              "      <td>0.0</td>\n",
              "      <td>0.000000</td>\n",
              "      <td>0.0</td>\n",
              "      <td>1164</td>\n",
              "      <td>49.0</td>\n",
              "      <td>112978</td>\n",
              "      <td>272</td>\n",
              "      <td>2</td>\n",
              "      <td>2</td>\n",
              "    </tr>\n",
              "    <tr>\n",
              "      <th>4</th>\n",
              "      <td>00000dbacae5abe5e23885899a1fa44253a17956c6d1c3...</td>\n",
              "      <td>579541001</td>\n",
              "      <td>0.000000</td>\n",
              "      <td>0.0</td>\n",
              "      <td>0.0</td>\n",
              "      <td>0.0</td>\n",
              "      <td>0.0</td>\n",
              "      <td>0.000000</td>\n",
              "      <td>0.0</td>\n",
              "      <td>1389</td>\n",
              "      <td>49.0</td>\n",
              "      <td>112978</td>\n",
              "      <td>245</td>\n",
              "      <td>5</td>\n",
              "      <td>1</td>\n",
              "    </tr>\n",
              "    <tr>\n",
              "      <th>...</th>\n",
              "      <td>...</td>\n",
              "      <td>...</td>\n",
              "      <td>...</td>\n",
              "      <td>...</td>\n",
              "      <td>...</td>\n",
              "      <td>...</td>\n",
              "      <td>...</td>\n",
              "      <td>...</td>\n",
              "      <td>...</td>\n",
              "      <td>...</td>\n",
              "      <td>...</td>\n",
              "      <td>...</td>\n",
              "      <td>...</td>\n",
              "      <td>...</td>\n",
              "      <td>...</td>\n",
              "    </tr>\n",
              "    <tr>\n",
              "      <th>35533975</th>\n",
              "      <td>ffffcf35913a0bee60e8741cb2b4e78b8a98ee5ff2e6a1...</td>\n",
              "      <td>758034001</td>\n",
              "      <td>0.000000</td>\n",
              "      <td>0.0</td>\n",
              "      <td>0.0</td>\n",
              "      <td>0.0</td>\n",
              "      <td>0.0</td>\n",
              "      <td>0.000000</td>\n",
              "      <td>0.0</td>\n",
              "      <td>1695</td>\n",
              "      <td>21.0</td>\n",
              "      <td>95707</td>\n",
              "      <td>286</td>\n",
              "      <td>5</td>\n",
              "      <td>1</td>\n",
              "    </tr>\n",
              "    <tr>\n",
              "      <th>35533976</th>\n",
              "      <td>ffffcf35913a0bee60e8741cb2b4e78b8a98ee5ff2e6a1...</td>\n",
              "      <td>689365050</td>\n",
              "      <td>0.010017</td>\n",
              "      <td>2.0</td>\n",
              "      <td>5.0</td>\n",
              "      <td>0.0</td>\n",
              "      <td>0.0</td>\n",
              "      <td>0.000000</td>\n",
              "      <td>1.0</td>\n",
              "      <td>96</td>\n",
              "      <td>21.0</td>\n",
              "      <td>95707</td>\n",
              "      <td>259</td>\n",
              "      <td>4</td>\n",
              "      <td>2</td>\n",
              "    </tr>\n",
              "    <tr>\n",
              "      <th>35533977</th>\n",
              "      <td>ffffcf35913a0bee60e8741cb2b4e78b8a98ee5ff2e6a1...</td>\n",
              "      <td>806388002</td>\n",
              "      <td>0.000000</td>\n",
              "      <td>0.0</td>\n",
              "      <td>0.0</td>\n",
              "      <td>0.0</td>\n",
              "      <td>0.0</td>\n",
              "      <td>0.000000</td>\n",
              "      <td>0.0</td>\n",
              "      <td>1469</td>\n",
              "      <td>21.0</td>\n",
              "      <td>95707</td>\n",
              "      <td>255</td>\n",
              "      <td>9</td>\n",
              "      <td>2</td>\n",
              "    </tr>\n",
              "    <tr>\n",
              "      <th>35533978</th>\n",
              "      <td>ffffcf35913a0bee60e8741cb2b4e78b8a98ee5ff2e6a1...</td>\n",
              "      <td>889460003</td>\n",
              "      <td>0.000000</td>\n",
              "      <td>0.0</td>\n",
              "      <td>0.0</td>\n",
              "      <td>0.0</td>\n",
              "      <td>1.0</td>\n",
              "      <td>0.010469</td>\n",
              "      <td>0.0</td>\n",
              "      <td>858</td>\n",
              "      <td>21.0</td>\n",
              "      <td>95707</td>\n",
              "      <td>258</td>\n",
              "      <td>1</td>\n",
              "      <td>1</td>\n",
              "    </tr>\n",
              "    <tr>\n",
              "      <th>35533979</th>\n",
              "      <td>ffffcf35913a0bee60e8741cb2b4e78b8a98ee5ff2e6a1...</td>\n",
              "      <td>910132001</td>\n",
              "      <td>0.000000</td>\n",
              "      <td>0.0</td>\n",
              "      <td>0.0</td>\n",
              "      <td>0.0</td>\n",
              "      <td>0.0</td>\n",
              "      <td>0.000000</td>\n",
              "      <td>0.0</td>\n",
              "      <td>1247</td>\n",
              "      <td>21.0</td>\n",
              "      <td>95707</td>\n",
              "      <td>253</td>\n",
              "      <td>5</td>\n",
              "      <td>1</td>\n",
              "    </tr>\n",
              "  </tbody>\n",
              "</table>\n",
              "<p>35533980 rows × 15 columns</p>\n",
              "</div>\n",
              "      <button class=\"colab-df-convert\" onclick=\"convertToInteractive('df-96bccac5-4220-40ae-a1d4-b00faa50dfba')\"\n",
              "              title=\"Convert this dataframe to an interactive table.\"\n",
              "              style=\"display:none;\">\n",
              "        \n",
              "  <svg xmlns=\"http://www.w3.org/2000/svg\" height=\"24px\"viewBox=\"0 0 24 24\"\n",
              "       width=\"24px\">\n",
              "    <path d=\"M0 0h24v24H0V0z\" fill=\"none\"/>\n",
              "    <path d=\"M18.56 5.44l.94 2.06.94-2.06 2.06-.94-2.06-.94-.94-2.06-.94 2.06-2.06.94zm-11 1L8.5 8.5l.94-2.06 2.06-.94-2.06-.94L8.5 2.5l-.94 2.06-2.06.94zm10 10l.94 2.06.94-2.06 2.06-.94-2.06-.94-.94-2.06-.94 2.06-2.06.94z\"/><path d=\"M17.41 7.96l-1.37-1.37c-.4-.4-.92-.59-1.43-.59-.52 0-1.04.2-1.43.59L10.3 9.45l-7.72 7.72c-.78.78-.78 2.05 0 2.83L4 21.41c.39.39.9.59 1.41.59.51 0 1.02-.2 1.41-.59l7.78-7.78 2.81-2.81c.8-.78.8-2.07 0-2.86zM5.41 20L4 18.59l7.72-7.72 1.47 1.35L5.41 20z\"/>\n",
              "  </svg>\n",
              "      </button>\n",
              "      \n",
              "  <style>\n",
              "    .colab-df-container {\n",
              "      display:flex;\n",
              "      flex-wrap:wrap;\n",
              "      gap: 12px;\n",
              "    }\n",
              "\n",
              "    .colab-df-convert {\n",
              "      background-color: #E8F0FE;\n",
              "      border: none;\n",
              "      border-radius: 50%;\n",
              "      cursor: pointer;\n",
              "      display: none;\n",
              "      fill: #1967D2;\n",
              "      height: 32px;\n",
              "      padding: 0 0 0 0;\n",
              "      width: 32px;\n",
              "    }\n",
              "\n",
              "    .colab-df-convert:hover {\n",
              "      background-color: #E2EBFA;\n",
              "      box-shadow: 0px 1px 2px rgba(60, 64, 67, 0.3), 0px 1px 3px 1px rgba(60, 64, 67, 0.15);\n",
              "      fill: #174EA6;\n",
              "    }\n",
              "\n",
              "    [theme=dark] .colab-df-convert {\n",
              "      background-color: #3B4455;\n",
              "      fill: #D2E3FC;\n",
              "    }\n",
              "\n",
              "    [theme=dark] .colab-df-convert:hover {\n",
              "      background-color: #434B5C;\n",
              "      box-shadow: 0px 1px 3px 1px rgba(0, 0, 0, 0.15);\n",
              "      filter: drop-shadow(0px 1px 2px rgba(0, 0, 0, 0.3));\n",
              "      fill: #FFFFFF;\n",
              "    }\n",
              "  </style>\n",
              "\n",
              "      <script>\n",
              "        const buttonEl =\n",
              "          document.querySelector('#df-96bccac5-4220-40ae-a1d4-b00faa50dfba button.colab-df-convert');\n",
              "        buttonEl.style.display =\n",
              "          google.colab.kernel.accessAllowed ? 'block' : 'none';\n",
              "\n",
              "        async function convertToInteractive(key) {\n",
              "          const element = document.querySelector('#df-96bccac5-4220-40ae-a1d4-b00faa50dfba');\n",
              "          const dataTable =\n",
              "            await google.colab.kernel.invokeFunction('convertToInteractive',\n",
              "                                                     [key], {});\n",
              "          if (!dataTable) return;\n",
              "\n",
              "          const docLinkHtml = 'Like what you see? Visit the ' +\n",
              "            '<a target=\"_blank\" href=https://colab.research.google.com/notebooks/data_table.ipynb>data table notebook</a>'\n",
              "            + ' to learn more about interactive tables.';\n",
              "          element.innerHTML = '';\n",
              "          dataTable['output_type'] = 'display_data';\n",
              "          await google.colab.output.renderOutput(dataTable, element);\n",
              "          const docLink = document.createElement('div');\n",
              "          docLink.innerHTML = docLinkHtml;\n",
              "          element.appendChild(docLink);\n",
              "        }\n",
              "      </script>\n",
              "    </div>\n",
              "  </div>\n",
              "  "
            ]
          },
          "metadata": {},
          "execution_count": 13
        }
      ]
    },
    {
      "cell_type": "code",
      "source": [
        "qids_train = df.groupby('customer_id')['customer_id'].count().to_numpy()\n",
        "X_train = df.drop(['customer_id', 'label'], axis=1)\n",
        "y_train = df['label']\n",
        "\n",
        "#qids_validation = df_val.groupby('customer_id')['customer_id'].count().to_numpy()\n",
        "#X_validation = df_val.drop(['customer_id', 'label'], axis=1)\n",
        "#y_validation = df_val['label']"
      ],
      "metadata": {
        "id": "gFm3WCqJbSmG"
      },
      "execution_count": null,
      "outputs": []
    },
    {
      "cell_type": "code",
      "source": [
        "model = lightgbm.LGBMRanker(\n",
        "    objective='lambdarank',\n",
        "    learning_rate=0.001,\n",
        "    n_estimators=300,\n",
        "    num_leaves=40,\n",
        "    n_jobs=-1,\n",
        ")"
      ],
      "metadata": {
        "id": "XdjZLbdCdV44"
      },
      "execution_count": null,
      "outputs": []
    },
    {
      "cell_type": "code",
      "source": [
        "model.fit(\n",
        "    X=X_train,\n",
        "    y=y_train,\n",
        "    group=qids_train,\n",
        "    #eval_set=[(X_validation, y_validation)],\n",
        "    #eval_group=[qids_validation],\n",
        "    #eval_at=12,\n",
        "    verbose=10,\n",
        ")"
      ],
      "metadata": {
        "colab": {
          "base_uri": "https://localhost:8080/"
        },
        "id": "tpVjwWaEdYqy",
        "outputId": "42ebf509-4062-4460-8bd9-01c44e847f7e"
      },
      "execution_count": null,
      "outputs": [
        {
          "output_type": "execute_result",
          "data": {
            "text/plain": [
              "LGBMRanker(learning_rate=0.001, n_estimators=300, num_leaves=40,\n",
              "           objective='lambdarank')"
            ]
          },
          "metadata": {},
          "execution_count": 10
        }
      ]
    },
    {
      "cell_type": "code",
      "source": [
        "import pickle\n",
        "\n",
        "with open(\"rank-model.pkl\", \"wb\") as f:\n",
        "    pickle.dump(model, f)"
      ],
      "metadata": {
        "id": "ZIxJ77ANMUif"
      },
      "execution_count": null,
      "outputs": []
    },
    {
      "cell_type": "markdown",
      "source": [
        "## Prediction"
      ],
      "metadata": {
        "id": "UdaRefN6ujI_"
      }
    },
    {
      "cell_type": "code",
      "source": [
        "import pickle\n",
        "with open(\"rank-model.pkl\", \"rb\") as f:\n",
        "    model = pickle.load(f)"
      ],
      "metadata": {
        "id": "AwdpYVY5NuIr"
      },
      "execution_count": null,
      "outputs": []
    },
    {
      "cell_type": "code",
      "source": [
        "pred_train = model.predict(X_train)\n",
        "pred_train"
      ],
      "metadata": {
        "colab": {
          "base_uri": "https://localhost:8080/"
        },
        "id": "Hf_84ePQA9o1",
        "outputId": "1f76c0a4-8cf2-4efc-9d6b-ba2fa285c892"
      },
      "execution_count": null,
      "outputs": [
        {
          "output_type": "execute_result",
          "data": {
            "text/plain": [
              "array([-0.1326638, -0.1326638, -0.1326638, ..., -0.1326638, -0.1326638,\n",
              "       -0.1326638])"
            ]
          },
          "metadata": {},
          "execution_count": 15
        }
      ]
    },
    {
      "cell_type": "code",
      "source": [
        "pred_train.shape"
      ],
      "metadata": {
        "colab": {
          "base_uri": "https://localhost:8080/"
        },
        "id": "-WYTypqyEDQZ",
        "outputId": "54bea83b-771a-4d7a-fa87-dac0761b86e8"
      },
      "execution_count": null,
      "outputs": [
        {
          "output_type": "execute_result",
          "data": {
            "text/plain": [
              "(35533980,)"
            ]
          },
          "metadata": {},
          "execution_count": 16
        }
      ]
    },
    {
      "cell_type": "code",
      "source": [
        "df_pred_train = df.iloc[:,:2]\n",
        "df_pred_train['pred'] = pred_train\n",
        "df_pred_train"
      ],
      "metadata": {
        "colab": {
          "base_uri": "https://localhost:8080/",
          "height": 424
        },
        "id": "C8b0_MP_FsGt",
        "outputId": "3421ebec-b0b3-49ab-b1c3-660c69a6f3b3"
      },
      "execution_count": null,
      "outputs": [
        {
          "output_type": "execute_result",
          "data": {
            "text/plain": [
              "                                                customer_id  article_id  \\\n",
              "0         00000dbacae5abe5e23885899a1fa44253a17956c6d1c3...   915526001   \n",
              "1         00000dbacae5abe5e23885899a1fa44253a17956c6d1c3...   706016002   \n",
              "2         00000dbacae5abe5e23885899a1fa44253a17956c6d1c3...   858856005   \n",
              "3         00000dbacae5abe5e23885899a1fa44253a17956c6d1c3...   572998009   \n",
              "4         00000dbacae5abe5e23885899a1fa44253a17956c6d1c3...   579541001   \n",
              "...                                                     ...         ...   \n",
              "35533975  ffffcf35913a0bee60e8741cb2b4e78b8a98ee5ff2e6a1...   758034001   \n",
              "35533976  ffffcf35913a0bee60e8741cb2b4e78b8a98ee5ff2e6a1...   689365050   \n",
              "35533977  ffffcf35913a0bee60e8741cb2b4e78b8a98ee5ff2e6a1...   806388002   \n",
              "35533978  ffffcf35913a0bee60e8741cb2b4e78b8a98ee5ff2e6a1...   889460003   \n",
              "35533979  ffffcf35913a0bee60e8741cb2b4e78b8a98ee5ff2e6a1...   910132001   \n",
              "\n",
              "              pred  \n",
              "0        -0.132664  \n",
              "1        -0.132664  \n",
              "2        -0.132664  \n",
              "3        -0.132664  \n",
              "4        -0.132664  \n",
              "...            ...  \n",
              "35533975 -0.132664  \n",
              "35533976 -0.132664  \n",
              "35533977 -0.132664  \n",
              "35533978 -0.132664  \n",
              "35533979 -0.132664  \n",
              "\n",
              "[35533980 rows x 3 columns]"
            ],
            "text/html": [
              "\n",
              "  <div id=\"df-8a65c392-a4bf-429e-a833-9e74e6e58e64\">\n",
              "    <div class=\"colab-df-container\">\n",
              "      <div>\n",
              "<style scoped>\n",
              "    .dataframe tbody tr th:only-of-type {\n",
              "        vertical-align: middle;\n",
              "    }\n",
              "\n",
              "    .dataframe tbody tr th {\n",
              "        vertical-align: top;\n",
              "    }\n",
              "\n",
              "    .dataframe thead th {\n",
              "        text-align: right;\n",
              "    }\n",
              "</style>\n",
              "<table border=\"1\" class=\"dataframe\">\n",
              "  <thead>\n",
              "    <tr style=\"text-align: right;\">\n",
              "      <th></th>\n",
              "      <th>customer_id</th>\n",
              "      <th>article_id</th>\n",
              "      <th>pred</th>\n",
              "    </tr>\n",
              "  </thead>\n",
              "  <tbody>\n",
              "    <tr>\n",
              "      <th>0</th>\n",
              "      <td>00000dbacae5abe5e23885899a1fa44253a17956c6d1c3...</td>\n",
              "      <td>915526001</td>\n",
              "      <td>-0.132664</td>\n",
              "    </tr>\n",
              "    <tr>\n",
              "      <th>1</th>\n",
              "      <td>00000dbacae5abe5e23885899a1fa44253a17956c6d1c3...</td>\n",
              "      <td>706016002</td>\n",
              "      <td>-0.132664</td>\n",
              "    </tr>\n",
              "    <tr>\n",
              "      <th>2</th>\n",
              "      <td>00000dbacae5abe5e23885899a1fa44253a17956c6d1c3...</td>\n",
              "      <td>858856005</td>\n",
              "      <td>-0.132664</td>\n",
              "    </tr>\n",
              "    <tr>\n",
              "      <th>3</th>\n",
              "      <td>00000dbacae5abe5e23885899a1fa44253a17956c6d1c3...</td>\n",
              "      <td>572998009</td>\n",
              "      <td>-0.132664</td>\n",
              "    </tr>\n",
              "    <tr>\n",
              "      <th>4</th>\n",
              "      <td>00000dbacae5abe5e23885899a1fa44253a17956c6d1c3...</td>\n",
              "      <td>579541001</td>\n",
              "      <td>-0.132664</td>\n",
              "    </tr>\n",
              "    <tr>\n",
              "      <th>...</th>\n",
              "      <td>...</td>\n",
              "      <td>...</td>\n",
              "      <td>...</td>\n",
              "    </tr>\n",
              "    <tr>\n",
              "      <th>35533975</th>\n",
              "      <td>ffffcf35913a0bee60e8741cb2b4e78b8a98ee5ff2e6a1...</td>\n",
              "      <td>758034001</td>\n",
              "      <td>-0.132664</td>\n",
              "    </tr>\n",
              "    <tr>\n",
              "      <th>35533976</th>\n",
              "      <td>ffffcf35913a0bee60e8741cb2b4e78b8a98ee5ff2e6a1...</td>\n",
              "      <td>689365050</td>\n",
              "      <td>-0.132664</td>\n",
              "    </tr>\n",
              "    <tr>\n",
              "      <th>35533977</th>\n",
              "      <td>ffffcf35913a0bee60e8741cb2b4e78b8a98ee5ff2e6a1...</td>\n",
              "      <td>806388002</td>\n",
              "      <td>-0.132664</td>\n",
              "    </tr>\n",
              "    <tr>\n",
              "      <th>35533978</th>\n",
              "      <td>ffffcf35913a0bee60e8741cb2b4e78b8a98ee5ff2e6a1...</td>\n",
              "      <td>889460003</td>\n",
              "      <td>-0.132664</td>\n",
              "    </tr>\n",
              "    <tr>\n",
              "      <th>35533979</th>\n",
              "      <td>ffffcf35913a0bee60e8741cb2b4e78b8a98ee5ff2e6a1...</td>\n",
              "      <td>910132001</td>\n",
              "      <td>-0.132664</td>\n",
              "    </tr>\n",
              "  </tbody>\n",
              "</table>\n",
              "<p>35533980 rows × 3 columns</p>\n",
              "</div>\n",
              "      <button class=\"colab-df-convert\" onclick=\"convertToInteractive('df-8a65c392-a4bf-429e-a833-9e74e6e58e64')\"\n",
              "              title=\"Convert this dataframe to an interactive table.\"\n",
              "              style=\"display:none;\">\n",
              "        \n",
              "  <svg xmlns=\"http://www.w3.org/2000/svg\" height=\"24px\"viewBox=\"0 0 24 24\"\n",
              "       width=\"24px\">\n",
              "    <path d=\"M0 0h24v24H0V0z\" fill=\"none\"/>\n",
              "    <path d=\"M18.56 5.44l.94 2.06.94-2.06 2.06-.94-2.06-.94-.94-2.06-.94 2.06-2.06.94zm-11 1L8.5 8.5l.94-2.06 2.06-.94-2.06-.94L8.5 2.5l-.94 2.06-2.06.94zm10 10l.94 2.06.94-2.06 2.06-.94-2.06-.94-.94-2.06-.94 2.06-2.06.94z\"/><path d=\"M17.41 7.96l-1.37-1.37c-.4-.4-.92-.59-1.43-.59-.52 0-1.04.2-1.43.59L10.3 9.45l-7.72 7.72c-.78.78-.78 2.05 0 2.83L4 21.41c.39.39.9.59 1.41.59.51 0 1.02-.2 1.41-.59l7.78-7.78 2.81-2.81c.8-.78.8-2.07 0-2.86zM5.41 20L4 18.59l7.72-7.72 1.47 1.35L5.41 20z\"/>\n",
              "  </svg>\n",
              "      </button>\n",
              "      \n",
              "  <style>\n",
              "    .colab-df-container {\n",
              "      display:flex;\n",
              "      flex-wrap:wrap;\n",
              "      gap: 12px;\n",
              "    }\n",
              "\n",
              "    .colab-df-convert {\n",
              "      background-color: #E8F0FE;\n",
              "      border: none;\n",
              "      border-radius: 50%;\n",
              "      cursor: pointer;\n",
              "      display: none;\n",
              "      fill: #1967D2;\n",
              "      height: 32px;\n",
              "      padding: 0 0 0 0;\n",
              "      width: 32px;\n",
              "    }\n",
              "\n",
              "    .colab-df-convert:hover {\n",
              "      background-color: #E2EBFA;\n",
              "      box-shadow: 0px 1px 2px rgba(60, 64, 67, 0.3), 0px 1px 3px 1px rgba(60, 64, 67, 0.15);\n",
              "      fill: #174EA6;\n",
              "    }\n",
              "\n",
              "    [theme=dark] .colab-df-convert {\n",
              "      background-color: #3B4455;\n",
              "      fill: #D2E3FC;\n",
              "    }\n",
              "\n",
              "    [theme=dark] .colab-df-convert:hover {\n",
              "      background-color: #434B5C;\n",
              "      box-shadow: 0px 1px 3px 1px rgba(0, 0, 0, 0.15);\n",
              "      filter: drop-shadow(0px 1px 2px rgba(0, 0, 0, 0.3));\n",
              "      fill: #FFFFFF;\n",
              "    }\n",
              "  </style>\n",
              "\n",
              "      <script>\n",
              "        const buttonEl =\n",
              "          document.querySelector('#df-8a65c392-a4bf-429e-a833-9e74e6e58e64 button.colab-df-convert');\n",
              "        buttonEl.style.display =\n",
              "          google.colab.kernel.accessAllowed ? 'block' : 'none';\n",
              "\n",
              "        async function convertToInteractive(key) {\n",
              "          const element = document.querySelector('#df-8a65c392-a4bf-429e-a833-9e74e6e58e64');\n",
              "          const dataTable =\n",
              "            await google.colab.kernel.invokeFunction('convertToInteractive',\n",
              "                                                     [key], {});\n",
              "          if (!dataTable) return;\n",
              "\n",
              "          const docLinkHtml = 'Like what you see? Visit the ' +\n",
              "            '<a target=\"_blank\" href=https://colab.research.google.com/notebooks/data_table.ipynb>data table notebook</a>'\n",
              "            + ' to learn more about interactive tables.';\n",
              "          element.innerHTML = '';\n",
              "          dataTable['output_type'] = 'display_data';\n",
              "          await google.colab.output.renderOutput(dataTable, element);\n",
              "          const docLink = document.createElement('div');\n",
              "          docLink.innerHTML = docLinkHtml;\n",
              "          element.appendChild(docLink);\n",
              "        }\n",
              "      </script>\n",
              "    </div>\n",
              "  </div>\n",
              "  "
            ]
          },
          "metadata": {},
          "execution_count": 17
        }
      ]
    },
    {
      "cell_type": "code",
      "source": [],
      "metadata": {
        "id": "cGpvtBx7v9oe"
      },
      "execution_count": null,
      "outputs": []
    },
    {
      "cell_type": "code",
      "source": [
        "df_pred_train.reset_index(drop=True,inplace=True)"
      ],
      "metadata": {
        "id": "pgWzzCXbHmNg"
      },
      "execution_count": null,
      "outputs": []
    },
    {
      "cell_type": "code",
      "source": [
        "df_pred_train.sort_values(['customer_id','pred'],ascending=False,inplace= True)"
      ],
      "metadata": {
        "id": "dNNMvTNfGDpE"
      },
      "execution_count": null,
      "outputs": []
    },
    {
      "cell_type": "code",
      "source": [
        "df_pred_train"
      ],
      "metadata": {
        "colab": {
          "base_uri": "https://localhost:8080/",
          "height": 424
        },
        "id": "Ap-MM25kIN7E",
        "outputId": "26329b4e-d168-4791-c627-2336cee4d95b"
      },
      "execution_count": null,
      "outputs": [
        {
          "output_type": "execute_result",
          "data": {
            "text/plain": [
              "                                                customer_id  article_id  \\\n",
              "35533930  ffffcf35913a0bee60e8741cb2b4e78b8a98ee5ff2e6a1...   762846027   \n",
              "35533887  ffffcf35913a0bee60e8741cb2b4e78b8a98ee5ff2e6a1...   896152001   \n",
              "35533897  ffffcf35913a0bee60e8741cb2b4e78b8a98ee5ff2e6a1...   896152003   \n",
              "35533968  ffffcf35913a0bee60e8741cb2b4e78b8a98ee5ff2e6a1...   896169002   \n",
              "35533912  ffffcf35913a0bee60e8741cb2b4e78b8a98ee5ff2e6a1...   896152002   \n",
              "...                                                     ...         ...   \n",
              "25        00000dbacae5abe5e23885899a1fa44253a17956c6d1c3...   717490008   \n",
              "69        00000dbacae5abe5e23885899a1fa44253a17956c6d1c3...   723469001   \n",
              "71        00000dbacae5abe5e23885899a1fa44253a17956c6d1c3...   916468003   \n",
              "45        00000dbacae5abe5e23885899a1fa44253a17956c6d1c3...   779781015   \n",
              "55        00000dbacae5abe5e23885899a1fa44253a17956c6d1c3...   924243001   \n",
              "\n",
              "              pred  \n",
              "35533930  0.132664  \n",
              "35533887 -0.132664  \n",
              "35533897 -0.132664  \n",
              "35533968 -0.132664  \n",
              "35533912 -0.132664  \n",
              "...            ...  \n",
              "25       -0.132664  \n",
              "69       -0.132664  \n",
              "71       -0.132664  \n",
              "45       -0.132664  \n",
              "55       -0.132664  \n",
              "\n",
              "[35533980 rows x 3 columns]"
            ],
            "text/html": [
              "\n",
              "  <div id=\"df-ac8fdcf3-cc28-48b1-af53-a9567c3f5b1e\">\n",
              "    <div class=\"colab-df-container\">\n",
              "      <div>\n",
              "<style scoped>\n",
              "    .dataframe tbody tr th:only-of-type {\n",
              "        vertical-align: middle;\n",
              "    }\n",
              "\n",
              "    .dataframe tbody tr th {\n",
              "        vertical-align: top;\n",
              "    }\n",
              "\n",
              "    .dataframe thead th {\n",
              "        text-align: right;\n",
              "    }\n",
              "</style>\n",
              "<table border=\"1\" class=\"dataframe\">\n",
              "  <thead>\n",
              "    <tr style=\"text-align: right;\">\n",
              "      <th></th>\n",
              "      <th>customer_id</th>\n",
              "      <th>article_id</th>\n",
              "      <th>pred</th>\n",
              "    </tr>\n",
              "  </thead>\n",
              "  <tbody>\n",
              "    <tr>\n",
              "      <th>35533930</th>\n",
              "      <td>ffffcf35913a0bee60e8741cb2b4e78b8a98ee5ff2e6a1...</td>\n",
              "      <td>762846027</td>\n",
              "      <td>0.132664</td>\n",
              "    </tr>\n",
              "    <tr>\n",
              "      <th>35533887</th>\n",
              "      <td>ffffcf35913a0bee60e8741cb2b4e78b8a98ee5ff2e6a1...</td>\n",
              "      <td>896152001</td>\n",
              "      <td>-0.132664</td>\n",
              "    </tr>\n",
              "    <tr>\n",
              "      <th>35533897</th>\n",
              "      <td>ffffcf35913a0bee60e8741cb2b4e78b8a98ee5ff2e6a1...</td>\n",
              "      <td>896152003</td>\n",
              "      <td>-0.132664</td>\n",
              "    </tr>\n",
              "    <tr>\n",
              "      <th>35533968</th>\n",
              "      <td>ffffcf35913a0bee60e8741cb2b4e78b8a98ee5ff2e6a1...</td>\n",
              "      <td>896169002</td>\n",
              "      <td>-0.132664</td>\n",
              "    </tr>\n",
              "    <tr>\n",
              "      <th>35533912</th>\n",
              "      <td>ffffcf35913a0bee60e8741cb2b4e78b8a98ee5ff2e6a1...</td>\n",
              "      <td>896152002</td>\n",
              "      <td>-0.132664</td>\n",
              "    </tr>\n",
              "    <tr>\n",
              "      <th>...</th>\n",
              "      <td>...</td>\n",
              "      <td>...</td>\n",
              "      <td>...</td>\n",
              "    </tr>\n",
              "    <tr>\n",
              "      <th>25</th>\n",
              "      <td>00000dbacae5abe5e23885899a1fa44253a17956c6d1c3...</td>\n",
              "      <td>717490008</td>\n",
              "      <td>-0.132664</td>\n",
              "    </tr>\n",
              "    <tr>\n",
              "      <th>69</th>\n",
              "      <td>00000dbacae5abe5e23885899a1fa44253a17956c6d1c3...</td>\n",
              "      <td>723469001</td>\n",
              "      <td>-0.132664</td>\n",
              "    </tr>\n",
              "    <tr>\n",
              "      <th>71</th>\n",
              "      <td>00000dbacae5abe5e23885899a1fa44253a17956c6d1c3...</td>\n",
              "      <td>916468003</td>\n",
              "      <td>-0.132664</td>\n",
              "    </tr>\n",
              "    <tr>\n",
              "      <th>45</th>\n",
              "      <td>00000dbacae5abe5e23885899a1fa44253a17956c6d1c3...</td>\n",
              "      <td>779781015</td>\n",
              "      <td>-0.132664</td>\n",
              "    </tr>\n",
              "    <tr>\n",
              "      <th>55</th>\n",
              "      <td>00000dbacae5abe5e23885899a1fa44253a17956c6d1c3...</td>\n",
              "      <td>924243001</td>\n",
              "      <td>-0.132664</td>\n",
              "    </tr>\n",
              "  </tbody>\n",
              "</table>\n",
              "<p>35533980 rows × 3 columns</p>\n",
              "</div>\n",
              "      <button class=\"colab-df-convert\" onclick=\"convertToInteractive('df-ac8fdcf3-cc28-48b1-af53-a9567c3f5b1e')\"\n",
              "              title=\"Convert this dataframe to an interactive table.\"\n",
              "              style=\"display:none;\">\n",
              "        \n",
              "  <svg xmlns=\"http://www.w3.org/2000/svg\" height=\"24px\"viewBox=\"0 0 24 24\"\n",
              "       width=\"24px\">\n",
              "    <path d=\"M0 0h24v24H0V0z\" fill=\"none\"/>\n",
              "    <path d=\"M18.56 5.44l.94 2.06.94-2.06 2.06-.94-2.06-.94-.94-2.06-.94 2.06-2.06.94zm-11 1L8.5 8.5l.94-2.06 2.06-.94-2.06-.94L8.5 2.5l-.94 2.06-2.06.94zm10 10l.94 2.06.94-2.06 2.06-.94-2.06-.94-.94-2.06-.94 2.06-2.06.94z\"/><path d=\"M17.41 7.96l-1.37-1.37c-.4-.4-.92-.59-1.43-.59-.52 0-1.04.2-1.43.59L10.3 9.45l-7.72 7.72c-.78.78-.78 2.05 0 2.83L4 21.41c.39.39.9.59 1.41.59.51 0 1.02-.2 1.41-.59l7.78-7.78 2.81-2.81c.8-.78.8-2.07 0-2.86zM5.41 20L4 18.59l7.72-7.72 1.47 1.35L5.41 20z\"/>\n",
              "  </svg>\n",
              "      </button>\n",
              "      \n",
              "  <style>\n",
              "    .colab-df-container {\n",
              "      display:flex;\n",
              "      flex-wrap:wrap;\n",
              "      gap: 12px;\n",
              "    }\n",
              "\n",
              "    .colab-df-convert {\n",
              "      background-color: #E8F0FE;\n",
              "      border: none;\n",
              "      border-radius: 50%;\n",
              "      cursor: pointer;\n",
              "      display: none;\n",
              "      fill: #1967D2;\n",
              "      height: 32px;\n",
              "      padding: 0 0 0 0;\n",
              "      width: 32px;\n",
              "    }\n",
              "\n",
              "    .colab-df-convert:hover {\n",
              "      background-color: #E2EBFA;\n",
              "      box-shadow: 0px 1px 2px rgba(60, 64, 67, 0.3), 0px 1px 3px 1px rgba(60, 64, 67, 0.15);\n",
              "      fill: #174EA6;\n",
              "    }\n",
              "\n",
              "    [theme=dark] .colab-df-convert {\n",
              "      background-color: #3B4455;\n",
              "      fill: #D2E3FC;\n",
              "    }\n",
              "\n",
              "    [theme=dark] .colab-df-convert:hover {\n",
              "      background-color: #434B5C;\n",
              "      box-shadow: 0px 1px 3px 1px rgba(0, 0, 0, 0.15);\n",
              "      filter: drop-shadow(0px 1px 2px rgba(0, 0, 0, 0.3));\n",
              "      fill: #FFFFFF;\n",
              "    }\n",
              "  </style>\n",
              "\n",
              "      <script>\n",
              "        const buttonEl =\n",
              "          document.querySelector('#df-ac8fdcf3-cc28-48b1-af53-a9567c3f5b1e button.colab-df-convert');\n",
              "        buttonEl.style.display =\n",
              "          google.colab.kernel.accessAllowed ? 'block' : 'none';\n",
              "\n",
              "        async function convertToInteractive(key) {\n",
              "          const element = document.querySelector('#df-ac8fdcf3-cc28-48b1-af53-a9567c3f5b1e');\n",
              "          const dataTable =\n",
              "            await google.colab.kernel.invokeFunction('convertToInteractive',\n",
              "                                                     [key], {});\n",
              "          if (!dataTable) return;\n",
              "\n",
              "          const docLinkHtml = 'Like what you see? Visit the ' +\n",
              "            '<a target=\"_blank\" href=https://colab.research.google.com/notebooks/data_table.ipynb>data table notebook</a>'\n",
              "            + ' to learn more about interactive tables.';\n",
              "          element.innerHTML = '';\n",
              "          dataTable['output_type'] = 'display_data';\n",
              "          await google.colab.output.renderOutput(dataTable, element);\n",
              "          const docLink = document.createElement('div');\n",
              "          docLink.innerHTML = docLinkHtml;\n",
              "          element.appendChild(docLink);\n",
              "        }\n",
              "      </script>\n",
              "    </div>\n",
              "  </div>\n",
              "  "
            ]
          },
          "metadata": {},
          "execution_count": 20
        }
      ]
    },
    {
      "cell_type": "code",
      "source": [
        "df_pred_train = df_pred_train.groupby('customer_id').head(12)\n",
        "df_pred_train = df_pred_train.drop(columns=['pred'])\n",
        "df_pred_train"
      ],
      "metadata": {
        "colab": {
          "base_uri": "https://localhost:8080/",
          "height": 424
        },
        "id": "v0DeqOUSIEVL",
        "outputId": "02f45daf-05cb-485c-a546-fff13066f25a"
      },
      "execution_count": null,
      "outputs": [
        {
          "output_type": "execute_result",
          "data": {
            "text/plain": [
              "                                                customer_id  article_id\n",
              "35533930  ffffcf35913a0bee60e8741cb2b4e78b8a98ee5ff2e6a1...   762846027\n",
              "35533887  ffffcf35913a0bee60e8741cb2b4e78b8a98ee5ff2e6a1...   896152001\n",
              "35533897  ffffcf35913a0bee60e8741cb2b4e78b8a98ee5ff2e6a1...   896152003\n",
              "35533968  ffffcf35913a0bee60e8741cb2b4e78b8a98ee5ff2e6a1...   896169002\n",
              "35533912  ffffcf35913a0bee60e8741cb2b4e78b8a98ee5ff2e6a1...   896152002\n",
              "...                                                     ...         ...\n",
              "54        00000dbacae5abe5e23885899a1fa44253a17956c6d1c3...   884319001\n",
              "86        00000dbacae5abe5e23885899a1fa44253a17956c6d1c3...   372860001\n",
              "58        00000dbacae5abe5e23885899a1fa44253a17956c6d1c3...   865929003\n",
              "27        00000dbacae5abe5e23885899a1fa44253a17956c6d1c3...   863583001\n",
              "82        00000dbacae5abe5e23885899a1fa44253a17956c6d1c3...   863583002\n",
              "\n",
              "[4124124 rows x 2 columns]"
            ],
            "text/html": [
              "\n",
              "  <div id=\"df-0a096b37-cc6f-4609-8ae0-02382f320d69\">\n",
              "    <div class=\"colab-df-container\">\n",
              "      <div>\n",
              "<style scoped>\n",
              "    .dataframe tbody tr th:only-of-type {\n",
              "        vertical-align: middle;\n",
              "    }\n",
              "\n",
              "    .dataframe tbody tr th {\n",
              "        vertical-align: top;\n",
              "    }\n",
              "\n",
              "    .dataframe thead th {\n",
              "        text-align: right;\n",
              "    }\n",
              "</style>\n",
              "<table border=\"1\" class=\"dataframe\">\n",
              "  <thead>\n",
              "    <tr style=\"text-align: right;\">\n",
              "      <th></th>\n",
              "      <th>customer_id</th>\n",
              "      <th>article_id</th>\n",
              "    </tr>\n",
              "  </thead>\n",
              "  <tbody>\n",
              "    <tr>\n",
              "      <th>35533930</th>\n",
              "      <td>ffffcf35913a0bee60e8741cb2b4e78b8a98ee5ff2e6a1...</td>\n",
              "      <td>762846027</td>\n",
              "    </tr>\n",
              "    <tr>\n",
              "      <th>35533887</th>\n",
              "      <td>ffffcf35913a0bee60e8741cb2b4e78b8a98ee5ff2e6a1...</td>\n",
              "      <td>896152001</td>\n",
              "    </tr>\n",
              "    <tr>\n",
              "      <th>35533897</th>\n",
              "      <td>ffffcf35913a0bee60e8741cb2b4e78b8a98ee5ff2e6a1...</td>\n",
              "      <td>896152003</td>\n",
              "    </tr>\n",
              "    <tr>\n",
              "      <th>35533968</th>\n",
              "      <td>ffffcf35913a0bee60e8741cb2b4e78b8a98ee5ff2e6a1...</td>\n",
              "      <td>896169002</td>\n",
              "    </tr>\n",
              "    <tr>\n",
              "      <th>35533912</th>\n",
              "      <td>ffffcf35913a0bee60e8741cb2b4e78b8a98ee5ff2e6a1...</td>\n",
              "      <td>896152002</td>\n",
              "    </tr>\n",
              "    <tr>\n",
              "      <th>...</th>\n",
              "      <td>...</td>\n",
              "      <td>...</td>\n",
              "    </tr>\n",
              "    <tr>\n",
              "      <th>54</th>\n",
              "      <td>00000dbacae5abe5e23885899a1fa44253a17956c6d1c3...</td>\n",
              "      <td>884319001</td>\n",
              "    </tr>\n",
              "    <tr>\n",
              "      <th>86</th>\n",
              "      <td>00000dbacae5abe5e23885899a1fa44253a17956c6d1c3...</td>\n",
              "      <td>372860001</td>\n",
              "    </tr>\n",
              "    <tr>\n",
              "      <th>58</th>\n",
              "      <td>00000dbacae5abe5e23885899a1fa44253a17956c6d1c3...</td>\n",
              "      <td>865929003</td>\n",
              "    </tr>\n",
              "    <tr>\n",
              "      <th>27</th>\n",
              "      <td>00000dbacae5abe5e23885899a1fa44253a17956c6d1c3...</td>\n",
              "      <td>863583001</td>\n",
              "    </tr>\n",
              "    <tr>\n",
              "      <th>82</th>\n",
              "      <td>00000dbacae5abe5e23885899a1fa44253a17956c6d1c3...</td>\n",
              "      <td>863583002</td>\n",
              "    </tr>\n",
              "  </tbody>\n",
              "</table>\n",
              "<p>4124124 rows × 2 columns</p>\n",
              "</div>\n",
              "      <button class=\"colab-df-convert\" onclick=\"convertToInteractive('df-0a096b37-cc6f-4609-8ae0-02382f320d69')\"\n",
              "              title=\"Convert this dataframe to an interactive table.\"\n",
              "              style=\"display:none;\">\n",
              "        \n",
              "  <svg xmlns=\"http://www.w3.org/2000/svg\" height=\"24px\"viewBox=\"0 0 24 24\"\n",
              "       width=\"24px\">\n",
              "    <path d=\"M0 0h24v24H0V0z\" fill=\"none\"/>\n",
              "    <path d=\"M18.56 5.44l.94 2.06.94-2.06 2.06-.94-2.06-.94-.94-2.06-.94 2.06-2.06.94zm-11 1L8.5 8.5l.94-2.06 2.06-.94-2.06-.94L8.5 2.5l-.94 2.06-2.06.94zm10 10l.94 2.06.94-2.06 2.06-.94-2.06-.94-.94-2.06-.94 2.06-2.06.94z\"/><path d=\"M17.41 7.96l-1.37-1.37c-.4-.4-.92-.59-1.43-.59-.52 0-1.04.2-1.43.59L10.3 9.45l-7.72 7.72c-.78.78-.78 2.05 0 2.83L4 21.41c.39.39.9.59 1.41.59.51 0 1.02-.2 1.41-.59l7.78-7.78 2.81-2.81c.8-.78.8-2.07 0-2.86zM5.41 20L4 18.59l7.72-7.72 1.47 1.35L5.41 20z\"/>\n",
              "  </svg>\n",
              "      </button>\n",
              "      \n",
              "  <style>\n",
              "    .colab-df-container {\n",
              "      display:flex;\n",
              "      flex-wrap:wrap;\n",
              "      gap: 12px;\n",
              "    }\n",
              "\n",
              "    .colab-df-convert {\n",
              "      background-color: #E8F0FE;\n",
              "      border: none;\n",
              "      border-radius: 50%;\n",
              "      cursor: pointer;\n",
              "      display: none;\n",
              "      fill: #1967D2;\n",
              "      height: 32px;\n",
              "      padding: 0 0 0 0;\n",
              "      width: 32px;\n",
              "    }\n",
              "\n",
              "    .colab-df-convert:hover {\n",
              "      background-color: #E2EBFA;\n",
              "      box-shadow: 0px 1px 2px rgba(60, 64, 67, 0.3), 0px 1px 3px 1px rgba(60, 64, 67, 0.15);\n",
              "      fill: #174EA6;\n",
              "    }\n",
              "\n",
              "    [theme=dark] .colab-df-convert {\n",
              "      background-color: #3B4455;\n",
              "      fill: #D2E3FC;\n",
              "    }\n",
              "\n",
              "    [theme=dark] .colab-df-convert:hover {\n",
              "      background-color: #434B5C;\n",
              "      box-shadow: 0px 1px 3px 1px rgba(0, 0, 0, 0.15);\n",
              "      filter: drop-shadow(0px 1px 2px rgba(0, 0, 0, 0.3));\n",
              "      fill: #FFFFFF;\n",
              "    }\n",
              "  </style>\n",
              "\n",
              "      <script>\n",
              "        const buttonEl =\n",
              "          document.querySelector('#df-0a096b37-cc6f-4609-8ae0-02382f320d69 button.colab-df-convert');\n",
              "        buttonEl.style.display =\n",
              "          google.colab.kernel.accessAllowed ? 'block' : 'none';\n",
              "\n",
              "        async function convertToInteractive(key) {\n",
              "          const element = document.querySelector('#df-0a096b37-cc6f-4609-8ae0-02382f320d69');\n",
              "          const dataTable =\n",
              "            await google.colab.kernel.invokeFunction('convertToInteractive',\n",
              "                                                     [key], {});\n",
              "          if (!dataTable) return;\n",
              "\n",
              "          const docLinkHtml = 'Like what you see? Visit the ' +\n",
              "            '<a target=\"_blank\" href=https://colab.research.google.com/notebooks/data_table.ipynb>data table notebook</a>'\n",
              "            + ' to learn more about interactive tables.';\n",
              "          element.innerHTML = '';\n",
              "          dataTable['output_type'] = 'display_data';\n",
              "          await google.colab.output.renderOutput(dataTable, element);\n",
              "          const docLink = document.createElement('div');\n",
              "          docLink.innerHTML = docLinkHtml;\n",
              "          element.appendChild(docLink);\n",
              "        }\n",
              "      </script>\n",
              "    </div>\n",
              "  </div>\n",
              "  "
            ]
          },
          "metadata": {},
          "execution_count": 21
        }
      ]
    },
    {
      "cell_type": "code",
      "source": [
        "df_cust = pd.read_csv('drive/MyDrive/Thesis/data/customers_cleaned_full.csv')\n",
        "df_art = pd.read_csv('drive/MyDrive/Thesis/data/articles_num.csv')"
      ],
      "metadata": {
        "id": "Q0O5rI4EVjkL"
      },
      "execution_count": null,
      "outputs": []
    },
    {
      "cell_type": "code",
      "source": [
        "customers = df_cust['customer_id'].to_list()\n",
        "customers_pred = df_pred_train['customer_id'].unique()\n",
        "customers_rmn = list(set(customers) - set(customers_pred))\n",
        "len(customers_rmn)"
      ],
      "metadata": {
        "colab": {
          "base_uri": "https://localhost:8080/"
        },
        "id": "BNM6ojEvJbaH",
        "outputId": "b0c98031-050c-4185-9bcb-9d932fa40cfb"
      },
      "execution_count": null,
      "outputs": [
        {
          "output_type": "execute_result",
          "data": {
            "text/plain": [
              "1028303"
            ]
          },
          "metadata": {},
          "execution_count": 23
        }
      ]
    },
    {
      "cell_type": "code",
      "source": [
        "df_rmn = pd.DataFrame({'customer_id' : customers_rmn})\n",
        "df_rmn"
      ],
      "metadata": {
        "colab": {
          "base_uri": "https://localhost:8080/",
          "height": 424
        },
        "id": "FIGY42VyJlGF",
        "outputId": "2c479cc9-114f-46e7-d19d-93e5d0a7510d"
      },
      "execution_count": null,
      "outputs": [
        {
          "output_type": "execute_result",
          "data": {
            "text/plain": [
              "                                               customer_id\n",
              "0        573404df7566bb81d427a28af393dc0fea07f9c64dbd33...\n",
              "1        c7d6bf885067f3f0c0567f9773c63a07f578fe0486852b...\n",
              "2        92dd75ce548b4380462f6f5915752be300383fc54add40...\n",
              "3        c44a2d11c300b457e2900ade701e536fdcaf32f1d78967...\n",
              "4        87033d3e5137c6d9eff8696e9f51bc7032231f2bc1139d...\n",
              "...                                                    ...\n",
              "1028298  91ddf428e254cdf11d4962e813f54bb56e0006e03c1406...\n",
              "1028299  c8220ebe32e6c3808b149ef6afa577ef29d5b32dec6204...\n",
              "1028300  d6f791bbddaf1d3d986ad31fb76534cbac65196823f510...\n",
              "1028301  accda919dc33fc06545e2678b40b5110f0745ce533af8d...\n",
              "1028302  3bb1eb7181a08d5a0e048cb4ddacd9e1ddc0b275620edc...\n",
              "\n",
              "[1028303 rows x 1 columns]"
            ],
            "text/html": [
              "\n",
              "  <div id=\"df-ab82f5fb-3c2e-48be-aeb8-242ea8e9a950\">\n",
              "    <div class=\"colab-df-container\">\n",
              "      <div>\n",
              "<style scoped>\n",
              "    .dataframe tbody tr th:only-of-type {\n",
              "        vertical-align: middle;\n",
              "    }\n",
              "\n",
              "    .dataframe tbody tr th {\n",
              "        vertical-align: top;\n",
              "    }\n",
              "\n",
              "    .dataframe thead th {\n",
              "        text-align: right;\n",
              "    }\n",
              "</style>\n",
              "<table border=\"1\" class=\"dataframe\">\n",
              "  <thead>\n",
              "    <tr style=\"text-align: right;\">\n",
              "      <th></th>\n",
              "      <th>customer_id</th>\n",
              "    </tr>\n",
              "  </thead>\n",
              "  <tbody>\n",
              "    <tr>\n",
              "      <th>0</th>\n",
              "      <td>573404df7566bb81d427a28af393dc0fea07f9c64dbd33...</td>\n",
              "    </tr>\n",
              "    <tr>\n",
              "      <th>1</th>\n",
              "      <td>c7d6bf885067f3f0c0567f9773c63a07f578fe0486852b...</td>\n",
              "    </tr>\n",
              "    <tr>\n",
              "      <th>2</th>\n",
              "      <td>92dd75ce548b4380462f6f5915752be300383fc54add40...</td>\n",
              "    </tr>\n",
              "    <tr>\n",
              "      <th>3</th>\n",
              "      <td>c44a2d11c300b457e2900ade701e536fdcaf32f1d78967...</td>\n",
              "    </tr>\n",
              "    <tr>\n",
              "      <th>4</th>\n",
              "      <td>87033d3e5137c6d9eff8696e9f51bc7032231f2bc1139d...</td>\n",
              "    </tr>\n",
              "    <tr>\n",
              "      <th>...</th>\n",
              "      <td>...</td>\n",
              "    </tr>\n",
              "    <tr>\n",
              "      <th>1028298</th>\n",
              "      <td>91ddf428e254cdf11d4962e813f54bb56e0006e03c1406...</td>\n",
              "    </tr>\n",
              "    <tr>\n",
              "      <th>1028299</th>\n",
              "      <td>c8220ebe32e6c3808b149ef6afa577ef29d5b32dec6204...</td>\n",
              "    </tr>\n",
              "    <tr>\n",
              "      <th>1028300</th>\n",
              "      <td>d6f791bbddaf1d3d986ad31fb76534cbac65196823f510...</td>\n",
              "    </tr>\n",
              "    <tr>\n",
              "      <th>1028301</th>\n",
              "      <td>accda919dc33fc06545e2678b40b5110f0745ce533af8d...</td>\n",
              "    </tr>\n",
              "    <tr>\n",
              "      <th>1028302</th>\n",
              "      <td>3bb1eb7181a08d5a0e048cb4ddacd9e1ddc0b275620edc...</td>\n",
              "    </tr>\n",
              "  </tbody>\n",
              "</table>\n",
              "<p>1028303 rows × 1 columns</p>\n",
              "</div>\n",
              "      <button class=\"colab-df-convert\" onclick=\"convertToInteractive('df-ab82f5fb-3c2e-48be-aeb8-242ea8e9a950')\"\n",
              "              title=\"Convert this dataframe to an interactive table.\"\n",
              "              style=\"display:none;\">\n",
              "        \n",
              "  <svg xmlns=\"http://www.w3.org/2000/svg\" height=\"24px\"viewBox=\"0 0 24 24\"\n",
              "       width=\"24px\">\n",
              "    <path d=\"M0 0h24v24H0V0z\" fill=\"none\"/>\n",
              "    <path d=\"M18.56 5.44l.94 2.06.94-2.06 2.06-.94-2.06-.94-.94-2.06-.94 2.06-2.06.94zm-11 1L8.5 8.5l.94-2.06 2.06-.94-2.06-.94L8.5 2.5l-.94 2.06-2.06.94zm10 10l.94 2.06.94-2.06 2.06-.94-2.06-.94-.94-2.06-.94 2.06-2.06.94z\"/><path d=\"M17.41 7.96l-1.37-1.37c-.4-.4-.92-.59-1.43-.59-.52 0-1.04.2-1.43.59L10.3 9.45l-7.72 7.72c-.78.78-.78 2.05 0 2.83L4 21.41c.39.39.9.59 1.41.59.51 0 1.02-.2 1.41-.59l7.78-7.78 2.81-2.81c.8-.78.8-2.07 0-2.86zM5.41 20L4 18.59l7.72-7.72 1.47 1.35L5.41 20z\"/>\n",
              "  </svg>\n",
              "      </button>\n",
              "      \n",
              "  <style>\n",
              "    .colab-df-container {\n",
              "      display:flex;\n",
              "      flex-wrap:wrap;\n",
              "      gap: 12px;\n",
              "    }\n",
              "\n",
              "    .colab-df-convert {\n",
              "      background-color: #E8F0FE;\n",
              "      border: none;\n",
              "      border-radius: 50%;\n",
              "      cursor: pointer;\n",
              "      display: none;\n",
              "      fill: #1967D2;\n",
              "      height: 32px;\n",
              "      padding: 0 0 0 0;\n",
              "      width: 32px;\n",
              "    }\n",
              "\n",
              "    .colab-df-convert:hover {\n",
              "      background-color: #E2EBFA;\n",
              "      box-shadow: 0px 1px 2px rgba(60, 64, 67, 0.3), 0px 1px 3px 1px rgba(60, 64, 67, 0.15);\n",
              "      fill: #174EA6;\n",
              "    }\n",
              "\n",
              "    [theme=dark] .colab-df-convert {\n",
              "      background-color: #3B4455;\n",
              "      fill: #D2E3FC;\n",
              "    }\n",
              "\n",
              "    [theme=dark] .colab-df-convert:hover {\n",
              "      background-color: #434B5C;\n",
              "      box-shadow: 0px 1px 3px 1px rgba(0, 0, 0, 0.15);\n",
              "      filter: drop-shadow(0px 1px 2px rgba(0, 0, 0, 0.3));\n",
              "      fill: #FFFFFF;\n",
              "    }\n",
              "  </style>\n",
              "\n",
              "      <script>\n",
              "        const buttonEl =\n",
              "          document.querySelector('#df-ab82f5fb-3c2e-48be-aeb8-242ea8e9a950 button.colab-df-convert');\n",
              "        buttonEl.style.display =\n",
              "          google.colab.kernel.accessAllowed ? 'block' : 'none';\n",
              "\n",
              "        async function convertToInteractive(key) {\n",
              "          const element = document.querySelector('#df-ab82f5fb-3c2e-48be-aeb8-242ea8e9a950');\n",
              "          const dataTable =\n",
              "            await google.colab.kernel.invokeFunction('convertToInteractive',\n",
              "                                                     [key], {});\n",
              "          if (!dataTable) return;\n",
              "\n",
              "          const docLinkHtml = 'Like what you see? Visit the ' +\n",
              "            '<a target=\"_blank\" href=https://colab.research.google.com/notebooks/data_table.ipynb>data table notebook</a>'\n",
              "            + ' to learn more about interactive tables.';\n",
              "          element.innerHTML = '';\n",
              "          dataTable['output_type'] = 'display_data';\n",
              "          await google.colab.output.renderOutput(dataTable, element);\n",
              "          const docLink = document.createElement('div');\n",
              "          docLink.innerHTML = docLinkHtml;\n",
              "          element.appendChild(docLink);\n",
              "        }\n",
              "      </script>\n",
              "    </div>\n",
              "  </div>\n",
              "  "
            ]
          },
          "metadata": {},
          "execution_count": 24
        }
      ]
    },
    {
      "cell_type": "code",
      "source": [
        "df_rmn['price']=0\n",
        "df_rmn['sales_channel_id']=0\n",
        "df_rmn['week']=0\n",
        "df_rmn['repurchase']=0\n",
        "df_rmn['CF_score']=0\n",
        "df_rmn['CF']=0\n",
        "df_rmn"
      ],
      "metadata": {
        "colab": {
          "base_uri": "https://localhost:8080/",
          "height": 488
        },
        "id": "R6140Q5qU0jj",
        "outputId": "df52dd0c-4635-46b3-b381-8751803bc73c"
      },
      "execution_count": null,
      "outputs": [
        {
          "output_type": "execute_result",
          "data": {
            "text/plain": [
              "                                               customer_id  price  \\\n",
              "0        573404df7566bb81d427a28af393dc0fea07f9c64dbd33...      0   \n",
              "1        c7d6bf885067f3f0c0567f9773c63a07f578fe0486852b...      0   \n",
              "2        92dd75ce548b4380462f6f5915752be300383fc54add40...      0   \n",
              "3        c44a2d11c300b457e2900ade701e536fdcaf32f1d78967...      0   \n",
              "4        87033d3e5137c6d9eff8696e9f51bc7032231f2bc1139d...      0   \n",
              "...                                                    ...    ...   \n",
              "1028298  91ddf428e254cdf11d4962e813f54bb56e0006e03c1406...      0   \n",
              "1028299  c8220ebe32e6c3808b149ef6afa577ef29d5b32dec6204...      0   \n",
              "1028300  d6f791bbddaf1d3d986ad31fb76534cbac65196823f510...      0   \n",
              "1028301  accda919dc33fc06545e2678b40b5110f0745ce533af8d...      0   \n",
              "1028302  3bb1eb7181a08d5a0e048cb4ddacd9e1ddc0b275620edc...      0   \n",
              "\n",
              "         sales_channel_id  week  repurchase  CF_score  CF  \n",
              "0                       0     0           0         0   0  \n",
              "1                       0     0           0         0   0  \n",
              "2                       0     0           0         0   0  \n",
              "3                       0     0           0         0   0  \n",
              "4                       0     0           0         0   0  \n",
              "...                   ...   ...         ...       ...  ..  \n",
              "1028298                 0     0           0         0   0  \n",
              "1028299                 0     0           0         0   0  \n",
              "1028300                 0     0           0         0   0  \n",
              "1028301                 0     0           0         0   0  \n",
              "1028302                 0     0           0         0   0  \n",
              "\n",
              "[1028303 rows x 7 columns]"
            ],
            "text/html": [
              "\n",
              "  <div id=\"df-7fee8b34-554a-46da-8148-ade84e75fb4b\">\n",
              "    <div class=\"colab-df-container\">\n",
              "      <div>\n",
              "<style scoped>\n",
              "    .dataframe tbody tr th:only-of-type {\n",
              "        vertical-align: middle;\n",
              "    }\n",
              "\n",
              "    .dataframe tbody tr th {\n",
              "        vertical-align: top;\n",
              "    }\n",
              "\n",
              "    .dataframe thead th {\n",
              "        text-align: right;\n",
              "    }\n",
              "</style>\n",
              "<table border=\"1\" class=\"dataframe\">\n",
              "  <thead>\n",
              "    <tr style=\"text-align: right;\">\n",
              "      <th></th>\n",
              "      <th>customer_id</th>\n",
              "      <th>price</th>\n",
              "      <th>sales_channel_id</th>\n",
              "      <th>week</th>\n",
              "      <th>repurchase</th>\n",
              "      <th>CF_score</th>\n",
              "      <th>CF</th>\n",
              "    </tr>\n",
              "  </thead>\n",
              "  <tbody>\n",
              "    <tr>\n",
              "      <th>0</th>\n",
              "      <td>573404df7566bb81d427a28af393dc0fea07f9c64dbd33...</td>\n",
              "      <td>0</td>\n",
              "      <td>0</td>\n",
              "      <td>0</td>\n",
              "      <td>0</td>\n",
              "      <td>0</td>\n",
              "      <td>0</td>\n",
              "    </tr>\n",
              "    <tr>\n",
              "      <th>1</th>\n",
              "      <td>c7d6bf885067f3f0c0567f9773c63a07f578fe0486852b...</td>\n",
              "      <td>0</td>\n",
              "      <td>0</td>\n",
              "      <td>0</td>\n",
              "      <td>0</td>\n",
              "      <td>0</td>\n",
              "      <td>0</td>\n",
              "    </tr>\n",
              "    <tr>\n",
              "      <th>2</th>\n",
              "      <td>92dd75ce548b4380462f6f5915752be300383fc54add40...</td>\n",
              "      <td>0</td>\n",
              "      <td>0</td>\n",
              "      <td>0</td>\n",
              "      <td>0</td>\n",
              "      <td>0</td>\n",
              "      <td>0</td>\n",
              "    </tr>\n",
              "    <tr>\n",
              "      <th>3</th>\n",
              "      <td>c44a2d11c300b457e2900ade701e536fdcaf32f1d78967...</td>\n",
              "      <td>0</td>\n",
              "      <td>0</td>\n",
              "      <td>0</td>\n",
              "      <td>0</td>\n",
              "      <td>0</td>\n",
              "      <td>0</td>\n",
              "    </tr>\n",
              "    <tr>\n",
              "      <th>4</th>\n",
              "      <td>87033d3e5137c6d9eff8696e9f51bc7032231f2bc1139d...</td>\n",
              "      <td>0</td>\n",
              "      <td>0</td>\n",
              "      <td>0</td>\n",
              "      <td>0</td>\n",
              "      <td>0</td>\n",
              "      <td>0</td>\n",
              "    </tr>\n",
              "    <tr>\n",
              "      <th>...</th>\n",
              "      <td>...</td>\n",
              "      <td>...</td>\n",
              "      <td>...</td>\n",
              "      <td>...</td>\n",
              "      <td>...</td>\n",
              "      <td>...</td>\n",
              "      <td>...</td>\n",
              "    </tr>\n",
              "    <tr>\n",
              "      <th>1028298</th>\n",
              "      <td>91ddf428e254cdf11d4962e813f54bb56e0006e03c1406...</td>\n",
              "      <td>0</td>\n",
              "      <td>0</td>\n",
              "      <td>0</td>\n",
              "      <td>0</td>\n",
              "      <td>0</td>\n",
              "      <td>0</td>\n",
              "    </tr>\n",
              "    <tr>\n",
              "      <th>1028299</th>\n",
              "      <td>c8220ebe32e6c3808b149ef6afa577ef29d5b32dec6204...</td>\n",
              "      <td>0</td>\n",
              "      <td>0</td>\n",
              "      <td>0</td>\n",
              "      <td>0</td>\n",
              "      <td>0</td>\n",
              "      <td>0</td>\n",
              "    </tr>\n",
              "    <tr>\n",
              "      <th>1028300</th>\n",
              "      <td>d6f791bbddaf1d3d986ad31fb76534cbac65196823f510...</td>\n",
              "      <td>0</td>\n",
              "      <td>0</td>\n",
              "      <td>0</td>\n",
              "      <td>0</td>\n",
              "      <td>0</td>\n",
              "      <td>0</td>\n",
              "    </tr>\n",
              "    <tr>\n",
              "      <th>1028301</th>\n",
              "      <td>accda919dc33fc06545e2678b40b5110f0745ce533af8d...</td>\n",
              "      <td>0</td>\n",
              "      <td>0</td>\n",
              "      <td>0</td>\n",
              "      <td>0</td>\n",
              "      <td>0</td>\n",
              "      <td>0</td>\n",
              "    </tr>\n",
              "    <tr>\n",
              "      <th>1028302</th>\n",
              "      <td>3bb1eb7181a08d5a0e048cb4ddacd9e1ddc0b275620edc...</td>\n",
              "      <td>0</td>\n",
              "      <td>0</td>\n",
              "      <td>0</td>\n",
              "      <td>0</td>\n",
              "      <td>0</td>\n",
              "      <td>0</td>\n",
              "    </tr>\n",
              "  </tbody>\n",
              "</table>\n",
              "<p>1028303 rows × 7 columns</p>\n",
              "</div>\n",
              "      <button class=\"colab-df-convert\" onclick=\"convertToInteractive('df-7fee8b34-554a-46da-8148-ade84e75fb4b')\"\n",
              "              title=\"Convert this dataframe to an interactive table.\"\n",
              "              style=\"display:none;\">\n",
              "        \n",
              "  <svg xmlns=\"http://www.w3.org/2000/svg\" height=\"24px\"viewBox=\"0 0 24 24\"\n",
              "       width=\"24px\">\n",
              "    <path d=\"M0 0h24v24H0V0z\" fill=\"none\"/>\n",
              "    <path d=\"M18.56 5.44l.94 2.06.94-2.06 2.06-.94-2.06-.94-.94-2.06-.94 2.06-2.06.94zm-11 1L8.5 8.5l.94-2.06 2.06-.94-2.06-.94L8.5 2.5l-.94 2.06-2.06.94zm10 10l.94 2.06.94-2.06 2.06-.94-2.06-.94-.94-2.06-.94 2.06-2.06.94z\"/><path d=\"M17.41 7.96l-1.37-1.37c-.4-.4-.92-.59-1.43-.59-.52 0-1.04.2-1.43.59L10.3 9.45l-7.72 7.72c-.78.78-.78 2.05 0 2.83L4 21.41c.39.39.9.59 1.41.59.51 0 1.02-.2 1.41-.59l7.78-7.78 2.81-2.81c.8-.78.8-2.07 0-2.86zM5.41 20L4 18.59l7.72-7.72 1.47 1.35L5.41 20z\"/>\n",
              "  </svg>\n",
              "      </button>\n",
              "      \n",
              "  <style>\n",
              "    .colab-df-container {\n",
              "      display:flex;\n",
              "      flex-wrap:wrap;\n",
              "      gap: 12px;\n",
              "    }\n",
              "\n",
              "    .colab-df-convert {\n",
              "      background-color: #E8F0FE;\n",
              "      border: none;\n",
              "      border-radius: 50%;\n",
              "      cursor: pointer;\n",
              "      display: none;\n",
              "      fill: #1967D2;\n",
              "      height: 32px;\n",
              "      padding: 0 0 0 0;\n",
              "      width: 32px;\n",
              "    }\n",
              "\n",
              "    .colab-df-convert:hover {\n",
              "      background-color: #E2EBFA;\n",
              "      box-shadow: 0px 1px 2px rgba(60, 64, 67, 0.3), 0px 1px 3px 1px rgba(60, 64, 67, 0.15);\n",
              "      fill: #174EA6;\n",
              "    }\n",
              "\n",
              "    [theme=dark] .colab-df-convert {\n",
              "      background-color: #3B4455;\n",
              "      fill: #D2E3FC;\n",
              "    }\n",
              "\n",
              "    [theme=dark] .colab-df-convert:hover {\n",
              "      background-color: #434B5C;\n",
              "      box-shadow: 0px 1px 3px 1px rgba(0, 0, 0, 0.15);\n",
              "      filter: drop-shadow(0px 1px 2px rgba(0, 0, 0, 0.3));\n",
              "      fill: #FFFFFF;\n",
              "    }\n",
              "  </style>\n",
              "\n",
              "      <script>\n",
              "        const buttonEl =\n",
              "          document.querySelector('#df-7fee8b34-554a-46da-8148-ade84e75fb4b button.colab-df-convert');\n",
              "        buttonEl.style.display =\n",
              "          google.colab.kernel.accessAllowed ? 'block' : 'none';\n",
              "\n",
              "        async function convertToInteractive(key) {\n",
              "          const element = document.querySelector('#df-7fee8b34-554a-46da-8148-ade84e75fb4b');\n",
              "          const dataTable =\n",
              "            await google.colab.kernel.invokeFunction('convertToInteractive',\n",
              "                                                     [key], {});\n",
              "          if (!dataTable) return;\n",
              "\n",
              "          const docLinkHtml = 'Like what you see? Visit the ' +\n",
              "            '<a target=\"_blank\" href=https://colab.research.google.com/notebooks/data_table.ipynb>data table notebook</a>'\n",
              "            + ' to learn more about interactive tables.';\n",
              "          element.innerHTML = '';\n",
              "          dataTable['output_type'] = 'display_data';\n",
              "          await google.colab.output.renderOutput(dataTable, element);\n",
              "          const docLink = document.createElement('div');\n",
              "          docLink.innerHTML = docLinkHtml;\n",
              "          element.appendChild(docLink);\n",
              "        }\n",
              "      </script>\n",
              "    </div>\n",
              "  </div>\n",
              "  "
            ]
          },
          "metadata": {},
          "execution_count": 25
        }
      ]
    },
    {
      "cell_type": "code",
      "source": [
        "# get the features names in the same order as for the training set to create \n",
        "# prediction set. LightGBM doesn't take into account the names so features must\n",
        "#be in the same order\n",
        "features = df.columns.tolist()\n",
        "features.remove('label')\n",
        "features"
      ],
      "metadata": {
        "colab": {
          "base_uri": "https://localhost:8080/"
        },
        "id": "LcUt2wqGVw5H",
        "outputId": "ed2f237b-3313-454b-f63c-71191333cd60"
      },
      "execution_count": null,
      "outputs": [
        {
          "output_type": "execute_result",
          "data": {
            "text/plain": [
              "['customer_id',\n",
              " 'article_id',\n",
              " 'price',\n",
              " 'sales_channel_id',\n",
              " 'week',\n",
              " 'CF',\n",
              " 'CF_score',\n",
              " 'repurchase',\n",
              " 'popularity_score',\n",
              " 'age',\n",
              " 'postal_code',\n",
              " 'product_type_no',\n",
              " 'perceived_colour_master_id',\n",
              " 'index_group_no']"
            ]
          },
          "metadata": {},
          "execution_count": 26
        }
      ]
    },
    {
      "cell_type": "code",
      "source": [
        "#We divide our data to be passed to the model into N batches so that the data \n",
        "# can fit into memory\n",
        "N_MOST_POPULAR = 100\n",
        "nb_batches = 8\n",
        "nb_cust_rmn = df_rmn.shape[0]\n",
        "batch_size = int((nb_cust_rmn * N_MOST_POPULAR) / nb_batches)\n",
        "cust_per_batch = int(nb_cust_rmn / nb_batches) "
      ],
      "metadata": {
        "id": "tTGRAhQ2BK7X"
      },
      "execution_count": null,
      "outputs": []
    },
    {
      "cell_type": "code",
      "source": [
        "cust_per_batch"
      ],
      "metadata": {
        "colab": {
          "base_uri": "https://localhost:8080/"
        },
        "id": "gi8ZiL0uYUBZ",
        "outputId": "f2ac01b1-d6ce-4b4d-c892-36c900ce2578"
      },
      "execution_count": null,
      "outputs": [
        {
          "output_type": "execute_result",
          "data": {
            "text/plain": [
              "128537"
            ]
          },
          "metadata": {},
          "execution_count": 28
        }
      ]
    },
    {
      "cell_type": "code",
      "source": [
        "df_rmn_copy = df_rmn.copy()"
      ],
      "metadata": {
        "id": "CC9naQ0UZJl6"
      },
      "execution_count": null,
      "outputs": []
    },
    {
      "cell_type": "code",
      "source": [
        "l = []\n",
        "\n",
        "for i in range(nb_batches):\n",
        "  if i < nb_batches-1:\n",
        "    df_rmn_i = df_rmn_copy.iloc[:cust_per_batch,:]\n",
        "    df_rmn_copy = df_rmn_copy[cust_per_batch:]\n",
        "  else:\n",
        "    df_rmn_i = df_rmn_copy\n",
        "\n",
        "  df_rmn_i = df_rmn_i.merge(df_best_N, how='cross')\n",
        "  df_rmn_i.reset_index(drop=True, inplace= True)\n",
        "\n",
        "\n",
        "  df_rmn_i = df_rmn_i.merge(df_art[['article_id', 'product_type_no', \n",
        "                      'perceived_colour_master_id', 'section_no','index_group_no']],\n",
        "              on = 'article_id')\n",
        "  \n",
        "\n",
        "  df_rmn_i = df_rmn_i.merge(df_cust, on = 'customer_id')\n",
        "  df_rmn_i = df_rmn_i[features] \n",
        "\n",
        "  y = model.predict(df_rmn_i.iloc[:,1:])\n",
        "  \n",
        "  df_rmn_i = df_rmn_i.iloc[:,:2]\n",
        "  df_rmn_i['pred'] = y\n",
        "\n",
        "  df_rmn_i.sort_values(['customer_id','pred'],ascending=False,inplace= True)\n",
        "  df_rmn_i = df_rmn_i.groupby('customer_id').head(12)\n",
        "\n",
        "  l.append(df_rmn_i.drop(columns=['pred']))\n",
        "\n",
        "  "
      ],
      "metadata": {
        "colab": {
          "base_uri": "https://localhost:8080/"
        },
        "id": "Tr-tascMDp90",
        "outputId": "35c16e9e-7798-4eb4-84cc-378a3b14475c"
      },
      "execution_count": null,
      "outputs": [
        {
          "output_type": "stream",
          "name": "stdout",
          "text": [
            "7\n"
          ]
        }
      ]
    },
    {
      "cell_type": "code",
      "source": [
        "l.append(df_pred_train)"
      ],
      "metadata": {
        "id": "Mlfkcw7fCsVy"
      },
      "execution_count": null,
      "outputs": []
    },
    {
      "cell_type": "markdown",
      "source": [
        "# Submission"
      ],
      "metadata": {
        "id": "8x6ovad8u8O4"
      }
    },
    {
      "cell_type": "code",
      "source": [
        "submission = pd.concat(l,axis=0)\n",
        "submission"
      ],
      "metadata": {
        "colab": {
          "base_uri": "https://localhost:8080/",
          "height": 424
        },
        "id": "N9gjY9poMX1X",
        "outputId": "b011d019-5904-4be8-ad63-c3a292ebb511"
      },
      "execution_count": null,
      "outputs": [
        {
          "output_type": "execute_result",
          "data": {
            "text/plain": [
              "                                               customer_id  article_id\n",
              "9977220  ffffaff3905b803d1c7e153a1378a5151e1f34f236ba54...   896169002\n",
              "9977226  ffffaff3905b803d1c7e153a1378a5151e1f34f236ba54...   896152001\n",
              "9977240  ffffaff3905b803d1c7e153a1378a5151e1f34f236ba54...   896152003\n",
              "9977206  ffffaff3905b803d1c7e153a1378a5151e1f34f236ba54...   896152002\n",
              "9977246  ffffaff3905b803d1c7e153a1378a5151e1f34f236ba54...   874754002\n",
              "...                                                    ...         ...\n",
              "54       00000dbacae5abe5e23885899a1fa44253a17956c6d1c3...   884319001\n",
              "86       00000dbacae5abe5e23885899a1fa44253a17956c6d1c3...   372860001\n",
              "58       00000dbacae5abe5e23885899a1fa44253a17956c6d1c3...   865929003\n",
              "27       00000dbacae5abe5e23885899a1fa44253a17956c6d1c3...   863583001\n",
              "82       00000dbacae5abe5e23885899a1fa44253a17956c6d1c3...   863583002\n",
              "\n",
              "[16463760 rows x 2 columns]"
            ],
            "text/html": [
              "\n",
              "  <div id=\"df-9381d0c4-901e-4aaa-94fd-cbff08d435b3\">\n",
              "    <div class=\"colab-df-container\">\n",
              "      <div>\n",
              "<style scoped>\n",
              "    .dataframe tbody tr th:only-of-type {\n",
              "        vertical-align: middle;\n",
              "    }\n",
              "\n",
              "    .dataframe tbody tr th {\n",
              "        vertical-align: top;\n",
              "    }\n",
              "\n",
              "    .dataframe thead th {\n",
              "        text-align: right;\n",
              "    }\n",
              "</style>\n",
              "<table border=\"1\" class=\"dataframe\">\n",
              "  <thead>\n",
              "    <tr style=\"text-align: right;\">\n",
              "      <th></th>\n",
              "      <th>customer_id</th>\n",
              "      <th>article_id</th>\n",
              "    </tr>\n",
              "  </thead>\n",
              "  <tbody>\n",
              "    <tr>\n",
              "      <th>9977220</th>\n",
              "      <td>ffffaff3905b803d1c7e153a1378a5151e1f34f236ba54...</td>\n",
              "      <td>896169002</td>\n",
              "    </tr>\n",
              "    <tr>\n",
              "      <th>9977226</th>\n",
              "      <td>ffffaff3905b803d1c7e153a1378a5151e1f34f236ba54...</td>\n",
              "      <td>896152001</td>\n",
              "    </tr>\n",
              "    <tr>\n",
              "      <th>9977240</th>\n",
              "      <td>ffffaff3905b803d1c7e153a1378a5151e1f34f236ba54...</td>\n",
              "      <td>896152003</td>\n",
              "    </tr>\n",
              "    <tr>\n",
              "      <th>9977206</th>\n",
              "      <td>ffffaff3905b803d1c7e153a1378a5151e1f34f236ba54...</td>\n",
              "      <td>896152002</td>\n",
              "    </tr>\n",
              "    <tr>\n",
              "      <th>9977246</th>\n",
              "      <td>ffffaff3905b803d1c7e153a1378a5151e1f34f236ba54...</td>\n",
              "      <td>874754002</td>\n",
              "    </tr>\n",
              "    <tr>\n",
              "      <th>...</th>\n",
              "      <td>...</td>\n",
              "      <td>...</td>\n",
              "    </tr>\n",
              "    <tr>\n",
              "      <th>54</th>\n",
              "      <td>00000dbacae5abe5e23885899a1fa44253a17956c6d1c3...</td>\n",
              "      <td>884319001</td>\n",
              "    </tr>\n",
              "    <tr>\n",
              "      <th>86</th>\n",
              "      <td>00000dbacae5abe5e23885899a1fa44253a17956c6d1c3...</td>\n",
              "      <td>372860001</td>\n",
              "    </tr>\n",
              "    <tr>\n",
              "      <th>58</th>\n",
              "      <td>00000dbacae5abe5e23885899a1fa44253a17956c6d1c3...</td>\n",
              "      <td>865929003</td>\n",
              "    </tr>\n",
              "    <tr>\n",
              "      <th>27</th>\n",
              "      <td>00000dbacae5abe5e23885899a1fa44253a17956c6d1c3...</td>\n",
              "      <td>863583001</td>\n",
              "    </tr>\n",
              "    <tr>\n",
              "      <th>82</th>\n",
              "      <td>00000dbacae5abe5e23885899a1fa44253a17956c6d1c3...</td>\n",
              "      <td>863583002</td>\n",
              "    </tr>\n",
              "  </tbody>\n",
              "</table>\n",
              "<p>16463760 rows × 2 columns</p>\n",
              "</div>\n",
              "      <button class=\"colab-df-convert\" onclick=\"convertToInteractive('df-9381d0c4-901e-4aaa-94fd-cbff08d435b3')\"\n",
              "              title=\"Convert this dataframe to an interactive table.\"\n",
              "              style=\"display:none;\">\n",
              "        \n",
              "  <svg xmlns=\"http://www.w3.org/2000/svg\" height=\"24px\"viewBox=\"0 0 24 24\"\n",
              "       width=\"24px\">\n",
              "    <path d=\"M0 0h24v24H0V0z\" fill=\"none\"/>\n",
              "    <path d=\"M18.56 5.44l.94 2.06.94-2.06 2.06-.94-2.06-.94-.94-2.06-.94 2.06-2.06.94zm-11 1L8.5 8.5l.94-2.06 2.06-.94-2.06-.94L8.5 2.5l-.94 2.06-2.06.94zm10 10l.94 2.06.94-2.06 2.06-.94-2.06-.94-.94-2.06-.94 2.06-2.06.94z\"/><path d=\"M17.41 7.96l-1.37-1.37c-.4-.4-.92-.59-1.43-.59-.52 0-1.04.2-1.43.59L10.3 9.45l-7.72 7.72c-.78.78-.78 2.05 0 2.83L4 21.41c.39.39.9.59 1.41.59.51 0 1.02-.2 1.41-.59l7.78-7.78 2.81-2.81c.8-.78.8-2.07 0-2.86zM5.41 20L4 18.59l7.72-7.72 1.47 1.35L5.41 20z\"/>\n",
              "  </svg>\n",
              "      </button>\n",
              "      \n",
              "  <style>\n",
              "    .colab-df-container {\n",
              "      display:flex;\n",
              "      flex-wrap:wrap;\n",
              "      gap: 12px;\n",
              "    }\n",
              "\n",
              "    .colab-df-convert {\n",
              "      background-color: #E8F0FE;\n",
              "      border: none;\n",
              "      border-radius: 50%;\n",
              "      cursor: pointer;\n",
              "      display: none;\n",
              "      fill: #1967D2;\n",
              "      height: 32px;\n",
              "      padding: 0 0 0 0;\n",
              "      width: 32px;\n",
              "    }\n",
              "\n",
              "    .colab-df-convert:hover {\n",
              "      background-color: #E2EBFA;\n",
              "      box-shadow: 0px 1px 2px rgba(60, 64, 67, 0.3), 0px 1px 3px 1px rgba(60, 64, 67, 0.15);\n",
              "      fill: #174EA6;\n",
              "    }\n",
              "\n",
              "    [theme=dark] .colab-df-convert {\n",
              "      background-color: #3B4455;\n",
              "      fill: #D2E3FC;\n",
              "    }\n",
              "\n",
              "    [theme=dark] .colab-df-convert:hover {\n",
              "      background-color: #434B5C;\n",
              "      box-shadow: 0px 1px 3px 1px rgba(0, 0, 0, 0.15);\n",
              "      filter: drop-shadow(0px 1px 2px rgba(0, 0, 0, 0.3));\n",
              "      fill: #FFFFFF;\n",
              "    }\n",
              "  </style>\n",
              "\n",
              "      <script>\n",
              "        const buttonEl =\n",
              "          document.querySelector('#df-9381d0c4-901e-4aaa-94fd-cbff08d435b3 button.colab-df-convert');\n",
              "        buttonEl.style.display =\n",
              "          google.colab.kernel.accessAllowed ? 'block' : 'none';\n",
              "\n",
              "        async function convertToInteractive(key) {\n",
              "          const element = document.querySelector('#df-9381d0c4-901e-4aaa-94fd-cbff08d435b3');\n",
              "          const dataTable =\n",
              "            await google.colab.kernel.invokeFunction('convertToInteractive',\n",
              "                                                     [key], {});\n",
              "          if (!dataTable) return;\n",
              "\n",
              "          const docLinkHtml = 'Like what you see? Visit the ' +\n",
              "            '<a target=\"_blank\" href=https://colab.research.google.com/notebooks/data_table.ipynb>data table notebook</a>'\n",
              "            + ' to learn more about interactive tables.';\n",
              "          element.innerHTML = '';\n",
              "          dataTable['output_type'] = 'display_data';\n",
              "          await google.colab.output.renderOutput(dataTable, element);\n",
              "          const docLink = document.createElement('div');\n",
              "          docLink.innerHTML = docLinkHtml;\n",
              "          element.appendChild(docLink);\n",
              "        }\n",
              "      </script>\n",
              "    </div>\n",
              "  </div>\n",
              "  "
            ]
          },
          "metadata": {},
          "execution_count": 34
        }
      ]
    },
    {
      "cell_type": "code",
      "source": [
        "submission['article_id'] = submission['article_id'].apply(lambda x: '0'+str(x))"
      ],
      "metadata": {
        "id": "ZKDXELDhLHaw"
      },
      "execution_count": null,
      "outputs": []
    },
    {
      "cell_type": "code",
      "source": [
        "submission = submission.groupby(by = 'customer_id', as_index = False).agg({'article_id': ' '.join})\n",
        "submission"
      ],
      "metadata": {
        "colab": {
          "base_uri": "https://localhost:8080/",
          "height": 468
        },
        "id": "oZZFyR63K1yL",
        "outputId": "0ee00ccb-3b8d-48b4-e5b4-99da8547f890"
      },
      "execution_count": null,
      "outputs": [
        {
          "output_type": "execute_result",
          "data": {
            "text/plain": [
              "                                               customer_id  \\\n",
              "0        00000dbacae5abe5e23885899a1fa44253a17956c6d1c3...   \n",
              "1        0000423b00ade91418cceaf3b26c6af3dd342b51fd051e...   \n",
              "2        000058a12d5b43e67d225668fa1f8d618c13dc232df0ca...   \n",
              "3        00005ca1c9ed5f5146b52ac8639a40ca9d57aeff4d1bd2...   \n",
              "4        00006413d8573cd20ed7128e53b7b13819fe5cfc2d801f...   \n",
              "...                                                    ...   \n",
              "1371975  ffffbbf78b6eaac697a8a5dfbfd2bfa8113ee5b403e474...   \n",
              "1371976  ffffcd5046a6143d29a04fb8c424ce494a76e5cdf4fab5...   \n",
              "1371977  ffffcf35913a0bee60e8741cb2b4e78b8a98ee5ff2e6a1...   \n",
              "1371978  ffffd7744cebcf3aca44ae7049d2a94b87074c3d4ffe38...   \n",
              "1371979  ffffd9ac14e89946416d80e791d064701994755c3ab686...   \n",
              "\n",
              "                                                article_id  \n",
              "0        0568601043 0896169002 0896152003 0896152001 08...  \n",
              "1        0896169002 0896152001 0896152003 0896152002 08...  \n",
              "2        0794321007 0896169002 0896152003 0896152001 08...  \n",
              "3        0896169002 0896152001 0896152003 0896152002 08...  \n",
              "4        0730683050 0791587015 0927530004 0896152002 08...  \n",
              "...                                                    ...  \n",
              "1371975  0804992033 0740922009 0791587007 0720125039 07...  \n",
              "1371976  0762846031 0896152001 0896169002 0896152003 08...  \n",
              "1371977  0762846027 0896152001 0896152003 0896169002 08...  \n",
              "1371978  0896169002 0896152001 0896152003 0896152002 08...  \n",
              "1371979  0896169002 0896152001 0896152003 0896152002 08...  \n",
              "\n",
              "[1371980 rows x 2 columns]"
            ],
            "text/html": [
              "\n",
              "  <div id=\"df-4d7a1099-f68f-4ea7-a339-e74d615bfd1f\">\n",
              "    <div class=\"colab-df-container\">\n",
              "      <div>\n",
              "<style scoped>\n",
              "    .dataframe tbody tr th:only-of-type {\n",
              "        vertical-align: middle;\n",
              "    }\n",
              "\n",
              "    .dataframe tbody tr th {\n",
              "        vertical-align: top;\n",
              "    }\n",
              "\n",
              "    .dataframe thead th {\n",
              "        text-align: right;\n",
              "    }\n",
              "</style>\n",
              "<table border=\"1\" class=\"dataframe\">\n",
              "  <thead>\n",
              "    <tr style=\"text-align: right;\">\n",
              "      <th></th>\n",
              "      <th>customer_id</th>\n",
              "      <th>article_id</th>\n",
              "    </tr>\n",
              "  </thead>\n",
              "  <tbody>\n",
              "    <tr>\n",
              "      <th>0</th>\n",
              "      <td>00000dbacae5abe5e23885899a1fa44253a17956c6d1c3...</td>\n",
              "      <td>0568601043 0896169002 0896152003 0896152001 08...</td>\n",
              "    </tr>\n",
              "    <tr>\n",
              "      <th>1</th>\n",
              "      <td>0000423b00ade91418cceaf3b26c6af3dd342b51fd051e...</td>\n",
              "      <td>0896169002 0896152001 0896152003 0896152002 08...</td>\n",
              "    </tr>\n",
              "    <tr>\n",
              "      <th>2</th>\n",
              "      <td>000058a12d5b43e67d225668fa1f8d618c13dc232df0ca...</td>\n",
              "      <td>0794321007 0896169002 0896152003 0896152001 08...</td>\n",
              "    </tr>\n",
              "    <tr>\n",
              "      <th>3</th>\n",
              "      <td>00005ca1c9ed5f5146b52ac8639a40ca9d57aeff4d1bd2...</td>\n",
              "      <td>0896169002 0896152001 0896152003 0896152002 08...</td>\n",
              "    </tr>\n",
              "    <tr>\n",
              "      <th>4</th>\n",
              "      <td>00006413d8573cd20ed7128e53b7b13819fe5cfc2d801f...</td>\n",
              "      <td>0730683050 0791587015 0927530004 0896152002 08...</td>\n",
              "    </tr>\n",
              "    <tr>\n",
              "      <th>...</th>\n",
              "      <td>...</td>\n",
              "      <td>...</td>\n",
              "    </tr>\n",
              "    <tr>\n",
              "      <th>1371975</th>\n",
              "      <td>ffffbbf78b6eaac697a8a5dfbfd2bfa8113ee5b403e474...</td>\n",
              "      <td>0804992033 0740922009 0791587007 0720125039 07...</td>\n",
              "    </tr>\n",
              "    <tr>\n",
              "      <th>1371976</th>\n",
              "      <td>ffffcd5046a6143d29a04fb8c424ce494a76e5cdf4fab5...</td>\n",
              "      <td>0762846031 0896152001 0896169002 0896152003 08...</td>\n",
              "    </tr>\n",
              "    <tr>\n",
              "      <th>1371977</th>\n",
              "      <td>ffffcf35913a0bee60e8741cb2b4e78b8a98ee5ff2e6a1...</td>\n",
              "      <td>0762846027 0896152001 0896152003 0896169002 08...</td>\n",
              "    </tr>\n",
              "    <tr>\n",
              "      <th>1371978</th>\n",
              "      <td>ffffd7744cebcf3aca44ae7049d2a94b87074c3d4ffe38...</td>\n",
              "      <td>0896169002 0896152001 0896152003 0896152002 08...</td>\n",
              "    </tr>\n",
              "    <tr>\n",
              "      <th>1371979</th>\n",
              "      <td>ffffd9ac14e89946416d80e791d064701994755c3ab686...</td>\n",
              "      <td>0896169002 0896152001 0896152003 0896152002 08...</td>\n",
              "    </tr>\n",
              "  </tbody>\n",
              "</table>\n",
              "<p>1371980 rows × 2 columns</p>\n",
              "</div>\n",
              "      <button class=\"colab-df-convert\" onclick=\"convertToInteractive('df-4d7a1099-f68f-4ea7-a339-e74d615bfd1f')\"\n",
              "              title=\"Convert this dataframe to an interactive table.\"\n",
              "              style=\"display:none;\">\n",
              "        \n",
              "  <svg xmlns=\"http://www.w3.org/2000/svg\" height=\"24px\"viewBox=\"0 0 24 24\"\n",
              "       width=\"24px\">\n",
              "    <path d=\"M0 0h24v24H0V0z\" fill=\"none\"/>\n",
              "    <path d=\"M18.56 5.44l.94 2.06.94-2.06 2.06-.94-2.06-.94-.94-2.06-.94 2.06-2.06.94zm-11 1L8.5 8.5l.94-2.06 2.06-.94-2.06-.94L8.5 2.5l-.94 2.06-2.06.94zm10 10l.94 2.06.94-2.06 2.06-.94-2.06-.94-.94-2.06-.94 2.06-2.06.94z\"/><path d=\"M17.41 7.96l-1.37-1.37c-.4-.4-.92-.59-1.43-.59-.52 0-1.04.2-1.43.59L10.3 9.45l-7.72 7.72c-.78.78-.78 2.05 0 2.83L4 21.41c.39.39.9.59 1.41.59.51 0 1.02-.2 1.41-.59l7.78-7.78 2.81-2.81c.8-.78.8-2.07 0-2.86zM5.41 20L4 18.59l7.72-7.72 1.47 1.35L5.41 20z\"/>\n",
              "  </svg>\n",
              "      </button>\n",
              "      \n",
              "  <style>\n",
              "    .colab-df-container {\n",
              "      display:flex;\n",
              "      flex-wrap:wrap;\n",
              "      gap: 12px;\n",
              "    }\n",
              "\n",
              "    .colab-df-convert {\n",
              "      background-color: #E8F0FE;\n",
              "      border: none;\n",
              "      border-radius: 50%;\n",
              "      cursor: pointer;\n",
              "      display: none;\n",
              "      fill: #1967D2;\n",
              "      height: 32px;\n",
              "      padding: 0 0 0 0;\n",
              "      width: 32px;\n",
              "    }\n",
              "\n",
              "    .colab-df-convert:hover {\n",
              "      background-color: #E2EBFA;\n",
              "      box-shadow: 0px 1px 2px rgba(60, 64, 67, 0.3), 0px 1px 3px 1px rgba(60, 64, 67, 0.15);\n",
              "      fill: #174EA6;\n",
              "    }\n",
              "\n",
              "    [theme=dark] .colab-df-convert {\n",
              "      background-color: #3B4455;\n",
              "      fill: #D2E3FC;\n",
              "    }\n",
              "\n",
              "    [theme=dark] .colab-df-convert:hover {\n",
              "      background-color: #434B5C;\n",
              "      box-shadow: 0px 1px 3px 1px rgba(0, 0, 0, 0.15);\n",
              "      filter: drop-shadow(0px 1px 2px rgba(0, 0, 0, 0.3));\n",
              "      fill: #FFFFFF;\n",
              "    }\n",
              "  </style>\n",
              "\n",
              "      <script>\n",
              "        const buttonEl =\n",
              "          document.querySelector('#df-4d7a1099-f68f-4ea7-a339-e74d615bfd1f button.colab-df-convert');\n",
              "        buttonEl.style.display =\n",
              "          google.colab.kernel.accessAllowed ? 'block' : 'none';\n",
              "\n",
              "        async function convertToInteractive(key) {\n",
              "          const element = document.querySelector('#df-4d7a1099-f68f-4ea7-a339-e74d615bfd1f');\n",
              "          const dataTable =\n",
              "            await google.colab.kernel.invokeFunction('convertToInteractive',\n",
              "                                                     [key], {});\n",
              "          if (!dataTable) return;\n",
              "\n",
              "          const docLinkHtml = 'Like what you see? Visit the ' +\n",
              "            '<a target=\"_blank\" href=https://colab.research.google.com/notebooks/data_table.ipynb>data table notebook</a>'\n",
              "            + ' to learn more about interactive tables.';\n",
              "          element.innerHTML = '';\n",
              "          dataTable['output_type'] = 'display_data';\n",
              "          await google.colab.output.renderOutput(dataTable, element);\n",
              "          const docLink = document.createElement('div');\n",
              "          docLink.innerHTML = docLinkHtml;\n",
              "          element.appendChild(docLink);\n",
              "        }\n",
              "      </script>\n",
              "    </div>\n",
              "  </div>\n",
              "  "
            ]
          },
          "metadata": {},
          "execution_count": 36
        }
      ]
    },
    {
      "cell_type": "code",
      "source": [
        "submission.dtypes"
      ],
      "metadata": {
        "colab": {
          "base_uri": "https://localhost:8080/"
        },
        "id": "DE_QWSAl3y5p",
        "outputId": "b90d3c70-21ac-4799-d11e-803f76e3459c"
      },
      "execution_count": null,
      "outputs": [
        {
          "output_type": "execute_result",
          "data": {
            "text/plain": [
              "customer_id    object\n",
              "article_id     object\n",
              "dtype: object"
            ]
          },
          "metadata": {},
          "execution_count": 37
        }
      ]
    },
    {
      "cell_type": "code",
      "source": [
        "len(submission['customer_id'].unique())"
      ],
      "metadata": {
        "colab": {
          "base_uri": "https://localhost:8080/"
        },
        "id": "3x6byzZP2d8D",
        "outputId": "dd10eb3b-1ef3-48c6-8b6c-3518261150b7"
      },
      "execution_count": null,
      "outputs": [
        {
          "output_type": "execute_result",
          "data": {
            "text/plain": [
              "1371980"
            ]
          },
          "metadata": {},
          "execution_count": 38
        }
      ]
    },
    {
      "cell_type": "code",
      "source": [
        "submission = submission.rename(columns={'article_id':'prediction'})\n",
        "submission"
      ],
      "metadata": {
        "colab": {
          "base_uri": "https://localhost:8080/",
          "height": 468
        },
        "id": "3PTI0MhZFpeX",
        "outputId": "fed5294b-2412-4eb9-8ef6-034ab4c73bb5"
      },
      "execution_count": null,
      "outputs": [
        {
          "output_type": "execute_result",
          "data": {
            "text/plain": [
              "                                               customer_id  \\\n",
              "0        00000dbacae5abe5e23885899a1fa44253a17956c6d1c3...   \n",
              "1        0000423b00ade91418cceaf3b26c6af3dd342b51fd051e...   \n",
              "2        000058a12d5b43e67d225668fa1f8d618c13dc232df0ca...   \n",
              "3        00005ca1c9ed5f5146b52ac8639a40ca9d57aeff4d1bd2...   \n",
              "4        00006413d8573cd20ed7128e53b7b13819fe5cfc2d801f...   \n",
              "...                                                    ...   \n",
              "1371975  ffffbbf78b6eaac697a8a5dfbfd2bfa8113ee5b403e474...   \n",
              "1371976  ffffcd5046a6143d29a04fb8c424ce494a76e5cdf4fab5...   \n",
              "1371977  ffffcf35913a0bee60e8741cb2b4e78b8a98ee5ff2e6a1...   \n",
              "1371978  ffffd7744cebcf3aca44ae7049d2a94b87074c3d4ffe38...   \n",
              "1371979  ffffd9ac14e89946416d80e791d064701994755c3ab686...   \n",
              "\n",
              "                                                prediction  \n",
              "0        0568601043 0896169002 0896152003 0896152001 08...  \n",
              "1        0896169002 0896152001 0896152003 0896152002 08...  \n",
              "2        0794321007 0896169002 0896152003 0896152001 08...  \n",
              "3        0896169002 0896152001 0896152003 0896152002 08...  \n",
              "4        0730683050 0791587015 0927530004 0896152002 08...  \n",
              "...                                                    ...  \n",
              "1371975  0804992033 0740922009 0791587007 0720125039 07...  \n",
              "1371976  0762846031 0896152001 0896169002 0896152003 08...  \n",
              "1371977  0762846027 0896152001 0896152003 0896169002 08...  \n",
              "1371978  0896169002 0896152001 0896152003 0896152002 08...  \n",
              "1371979  0896169002 0896152001 0896152003 0896152002 08...  \n",
              "\n",
              "[1371980 rows x 2 columns]"
            ],
            "text/html": [
              "\n",
              "  <div id=\"df-0326b645-0b4b-4d0b-b00e-552a088c129d\">\n",
              "    <div class=\"colab-df-container\">\n",
              "      <div>\n",
              "<style scoped>\n",
              "    .dataframe tbody tr th:only-of-type {\n",
              "        vertical-align: middle;\n",
              "    }\n",
              "\n",
              "    .dataframe tbody tr th {\n",
              "        vertical-align: top;\n",
              "    }\n",
              "\n",
              "    .dataframe thead th {\n",
              "        text-align: right;\n",
              "    }\n",
              "</style>\n",
              "<table border=\"1\" class=\"dataframe\">\n",
              "  <thead>\n",
              "    <tr style=\"text-align: right;\">\n",
              "      <th></th>\n",
              "      <th>customer_id</th>\n",
              "      <th>prediction</th>\n",
              "    </tr>\n",
              "  </thead>\n",
              "  <tbody>\n",
              "    <tr>\n",
              "      <th>0</th>\n",
              "      <td>00000dbacae5abe5e23885899a1fa44253a17956c6d1c3...</td>\n",
              "      <td>0568601043 0896169002 0896152003 0896152001 08...</td>\n",
              "    </tr>\n",
              "    <tr>\n",
              "      <th>1</th>\n",
              "      <td>0000423b00ade91418cceaf3b26c6af3dd342b51fd051e...</td>\n",
              "      <td>0896169002 0896152001 0896152003 0896152002 08...</td>\n",
              "    </tr>\n",
              "    <tr>\n",
              "      <th>2</th>\n",
              "      <td>000058a12d5b43e67d225668fa1f8d618c13dc232df0ca...</td>\n",
              "      <td>0794321007 0896169002 0896152003 0896152001 08...</td>\n",
              "    </tr>\n",
              "    <tr>\n",
              "      <th>3</th>\n",
              "      <td>00005ca1c9ed5f5146b52ac8639a40ca9d57aeff4d1bd2...</td>\n",
              "      <td>0896169002 0896152001 0896152003 0896152002 08...</td>\n",
              "    </tr>\n",
              "    <tr>\n",
              "      <th>4</th>\n",
              "      <td>00006413d8573cd20ed7128e53b7b13819fe5cfc2d801f...</td>\n",
              "      <td>0730683050 0791587015 0927530004 0896152002 08...</td>\n",
              "    </tr>\n",
              "    <tr>\n",
              "      <th>...</th>\n",
              "      <td>...</td>\n",
              "      <td>...</td>\n",
              "    </tr>\n",
              "    <tr>\n",
              "      <th>1371975</th>\n",
              "      <td>ffffbbf78b6eaac697a8a5dfbfd2bfa8113ee5b403e474...</td>\n",
              "      <td>0804992033 0740922009 0791587007 0720125039 07...</td>\n",
              "    </tr>\n",
              "    <tr>\n",
              "      <th>1371976</th>\n",
              "      <td>ffffcd5046a6143d29a04fb8c424ce494a76e5cdf4fab5...</td>\n",
              "      <td>0762846031 0896152001 0896169002 0896152003 08...</td>\n",
              "    </tr>\n",
              "    <tr>\n",
              "      <th>1371977</th>\n",
              "      <td>ffffcf35913a0bee60e8741cb2b4e78b8a98ee5ff2e6a1...</td>\n",
              "      <td>0762846027 0896152001 0896152003 0896169002 08...</td>\n",
              "    </tr>\n",
              "    <tr>\n",
              "      <th>1371978</th>\n",
              "      <td>ffffd7744cebcf3aca44ae7049d2a94b87074c3d4ffe38...</td>\n",
              "      <td>0896169002 0896152001 0896152003 0896152002 08...</td>\n",
              "    </tr>\n",
              "    <tr>\n",
              "      <th>1371979</th>\n",
              "      <td>ffffd9ac14e89946416d80e791d064701994755c3ab686...</td>\n",
              "      <td>0896169002 0896152001 0896152003 0896152002 08...</td>\n",
              "    </tr>\n",
              "  </tbody>\n",
              "</table>\n",
              "<p>1371980 rows × 2 columns</p>\n",
              "</div>\n",
              "      <button class=\"colab-df-convert\" onclick=\"convertToInteractive('df-0326b645-0b4b-4d0b-b00e-552a088c129d')\"\n",
              "              title=\"Convert this dataframe to an interactive table.\"\n",
              "              style=\"display:none;\">\n",
              "        \n",
              "  <svg xmlns=\"http://www.w3.org/2000/svg\" height=\"24px\"viewBox=\"0 0 24 24\"\n",
              "       width=\"24px\">\n",
              "    <path d=\"M0 0h24v24H0V0z\" fill=\"none\"/>\n",
              "    <path d=\"M18.56 5.44l.94 2.06.94-2.06 2.06-.94-2.06-.94-.94-2.06-.94 2.06-2.06.94zm-11 1L8.5 8.5l.94-2.06 2.06-.94-2.06-.94L8.5 2.5l-.94 2.06-2.06.94zm10 10l.94 2.06.94-2.06 2.06-.94-2.06-.94-.94-2.06-.94 2.06-2.06.94z\"/><path d=\"M17.41 7.96l-1.37-1.37c-.4-.4-.92-.59-1.43-.59-.52 0-1.04.2-1.43.59L10.3 9.45l-7.72 7.72c-.78.78-.78 2.05 0 2.83L4 21.41c.39.39.9.59 1.41.59.51 0 1.02-.2 1.41-.59l7.78-7.78 2.81-2.81c.8-.78.8-2.07 0-2.86zM5.41 20L4 18.59l7.72-7.72 1.47 1.35L5.41 20z\"/>\n",
              "  </svg>\n",
              "      </button>\n",
              "      \n",
              "  <style>\n",
              "    .colab-df-container {\n",
              "      display:flex;\n",
              "      flex-wrap:wrap;\n",
              "      gap: 12px;\n",
              "    }\n",
              "\n",
              "    .colab-df-convert {\n",
              "      background-color: #E8F0FE;\n",
              "      border: none;\n",
              "      border-radius: 50%;\n",
              "      cursor: pointer;\n",
              "      display: none;\n",
              "      fill: #1967D2;\n",
              "      height: 32px;\n",
              "      padding: 0 0 0 0;\n",
              "      width: 32px;\n",
              "    }\n",
              "\n",
              "    .colab-df-convert:hover {\n",
              "      background-color: #E2EBFA;\n",
              "      box-shadow: 0px 1px 2px rgba(60, 64, 67, 0.3), 0px 1px 3px 1px rgba(60, 64, 67, 0.15);\n",
              "      fill: #174EA6;\n",
              "    }\n",
              "\n",
              "    [theme=dark] .colab-df-convert {\n",
              "      background-color: #3B4455;\n",
              "      fill: #D2E3FC;\n",
              "    }\n",
              "\n",
              "    [theme=dark] .colab-df-convert:hover {\n",
              "      background-color: #434B5C;\n",
              "      box-shadow: 0px 1px 3px 1px rgba(0, 0, 0, 0.15);\n",
              "      filter: drop-shadow(0px 1px 2px rgba(0, 0, 0, 0.3));\n",
              "      fill: #FFFFFF;\n",
              "    }\n",
              "  </style>\n",
              "\n",
              "      <script>\n",
              "        const buttonEl =\n",
              "          document.querySelector('#df-0326b645-0b4b-4d0b-b00e-552a088c129d button.colab-df-convert');\n",
              "        buttonEl.style.display =\n",
              "          google.colab.kernel.accessAllowed ? 'block' : 'none';\n",
              "\n",
              "        async function convertToInteractive(key) {\n",
              "          const element = document.querySelector('#df-0326b645-0b4b-4d0b-b00e-552a088c129d');\n",
              "          const dataTable =\n",
              "            await google.colab.kernel.invokeFunction('convertToInteractive',\n",
              "                                                     [key], {});\n",
              "          if (!dataTable) return;\n",
              "\n",
              "          const docLinkHtml = 'Like what you see? Visit the ' +\n",
              "            '<a target=\"_blank\" href=https://colab.research.google.com/notebooks/data_table.ipynb>data table notebook</a>'\n",
              "            + ' to learn more about interactive tables.';\n",
              "          element.innerHTML = '';\n",
              "          dataTable['output_type'] = 'display_data';\n",
              "          await google.colab.output.renderOutput(dataTable, element);\n",
              "          const docLink = document.createElement('div');\n",
              "          docLink.innerHTML = docLinkHtml;\n",
              "          element.appendChild(docLink);\n",
              "        }\n",
              "      </script>\n",
              "    </div>\n",
              "  </div>\n",
              "  "
            ]
          },
          "metadata": {},
          "execution_count": 40
        }
      ]
    },
    {
      "cell_type": "code",
      "execution_count": null,
      "metadata": {
        "id": "zD73ZN4zmMHy"
      },
      "outputs": [],
      "source": [
        "submission.to_csv('my_submission.csv',index=False)"
      ]
    },
    {
      "cell_type": "code",
      "source": [
        "submission['length'] = submission['article_id'].apply(lambda s: len(s))"
      ],
      "metadata": {
        "id": "Hb5tlsE-NMBy"
      },
      "execution_count": null,
      "outputs": []
    },
    {
      "cell_type": "code",
      "source": [
        "submission"
      ],
      "metadata": {
        "colab": {
          "base_uri": "https://localhost:8080/",
          "height": 641
        },
        "id": "yeEFYaKlc8ZB",
        "outputId": "a0486320-879e-4d8b-f4e9-9e0e1c4bdd75"
      },
      "execution_count": null,
      "outputs": [
        {
          "output_type": "execute_result",
          "data": {
            "text/plain": [
              "                                               customer_id  \\\n",
              "0        00000dbacae5abe5e23885899a1fa44253a17956c6d1c3...   \n",
              "1        0000423b00ade91418cceaf3b26c6af3dd342b51fd051e...   \n",
              "2        000058a12d5b43e67d225668fa1f8d618c13dc232df0ca...   \n",
              "3        00005ca1c9ed5f5146b52ac8639a40ca9d57aeff4d1bd2...   \n",
              "4        00006413d8573cd20ed7128e53b7b13819fe5cfc2d801f...   \n",
              "...                                                    ...   \n",
              "1371975  ffffbbf78b6eaac697a8a5dfbfd2bfa8113ee5b403e474...   \n",
              "1371976  ffffcd5046a6143d29a04fb8c424ce494a76e5cdf4fab5...   \n",
              "1371977  ffffcf35913a0bee60e8741cb2b4e78b8a98ee5ff2e6a1...   \n",
              "1371978  ffffd7744cebcf3aca44ae7049d2a94b87074c3d4ffe38...   \n",
              "1371979  ffffd9ac14e89946416d80e791d064701994755c3ab686...   \n",
              "\n",
              "                                                article_id  length  \n",
              "0        0568601043 0751471001 0751471043 0896152002 09...     131  \n",
              "1        0751471001 0706016001 0915526001 0751471043 09...     131  \n",
              "2        0794321007 0915526001 0916468003 0909370001 09...     131  \n",
              "3        0751471001 0706016001 0915526001 0751471043 09...     131  \n",
              "4        0751471001 0706016001 0915526001 0751471043 09...     131  \n",
              "...                                                    ...     ...  \n",
              "1371975  0713997002 0740922009 0791587007 0557599022 07...     131  \n",
              "1371976  0751471001 0706016001 0915526001 0751471043 09...     131  \n",
              "1371977  0762846027 0915526001 0916468003 0915526002 09...     131  \n",
              "1371978  0751471001 0706016001 0915526001 0751471043 09...     131  \n",
              "1371979  0751471001 0706016001 0915526001 0751471043 09...     131  \n",
              "\n",
              "[1371980 rows x 3 columns]"
            ],
            "text/html": [
              "\n",
              "  <div id=\"df-60d7fc32-5b81-4874-b8bf-36e77a47d5a3\">\n",
              "    <div class=\"colab-df-container\">\n",
              "      <div>\n",
              "<style scoped>\n",
              "    .dataframe tbody tr th:only-of-type {\n",
              "        vertical-align: middle;\n",
              "    }\n",
              "\n",
              "    .dataframe tbody tr th {\n",
              "        vertical-align: top;\n",
              "    }\n",
              "\n",
              "    .dataframe thead th {\n",
              "        text-align: right;\n",
              "    }\n",
              "</style>\n",
              "<table border=\"1\" class=\"dataframe\">\n",
              "  <thead>\n",
              "    <tr style=\"text-align: right;\">\n",
              "      <th></th>\n",
              "      <th>customer_id</th>\n",
              "      <th>article_id</th>\n",
              "      <th>length</th>\n",
              "    </tr>\n",
              "  </thead>\n",
              "  <tbody>\n",
              "    <tr>\n",
              "      <th>0</th>\n",
              "      <td>00000dbacae5abe5e23885899a1fa44253a17956c6d1c3...</td>\n",
              "      <td>0568601043 0751471001 0751471043 0896152002 09...</td>\n",
              "      <td>131</td>\n",
              "    </tr>\n",
              "    <tr>\n",
              "      <th>1</th>\n",
              "      <td>0000423b00ade91418cceaf3b26c6af3dd342b51fd051e...</td>\n",
              "      <td>0751471001 0706016001 0915526001 0751471043 09...</td>\n",
              "      <td>131</td>\n",
              "    </tr>\n",
              "    <tr>\n",
              "      <th>2</th>\n",
              "      <td>000058a12d5b43e67d225668fa1f8d618c13dc232df0ca...</td>\n",
              "      <td>0794321007 0915526001 0916468003 0909370001 09...</td>\n",
              "      <td>131</td>\n",
              "    </tr>\n",
              "    <tr>\n",
              "      <th>3</th>\n",
              "      <td>00005ca1c9ed5f5146b52ac8639a40ca9d57aeff4d1bd2...</td>\n",
              "      <td>0751471001 0706016001 0915526001 0751471043 09...</td>\n",
              "      <td>131</td>\n",
              "    </tr>\n",
              "    <tr>\n",
              "      <th>4</th>\n",
              "      <td>00006413d8573cd20ed7128e53b7b13819fe5cfc2d801f...</td>\n",
              "      <td>0751471001 0706016001 0915526001 0751471043 09...</td>\n",
              "      <td>131</td>\n",
              "    </tr>\n",
              "    <tr>\n",
              "      <th>...</th>\n",
              "      <td>...</td>\n",
              "      <td>...</td>\n",
              "      <td>...</td>\n",
              "    </tr>\n",
              "    <tr>\n",
              "      <th>1371975</th>\n",
              "      <td>ffffbbf78b6eaac697a8a5dfbfd2bfa8113ee5b403e474...</td>\n",
              "      <td>0713997002 0740922009 0791587007 0557599022 07...</td>\n",
              "      <td>131</td>\n",
              "    </tr>\n",
              "    <tr>\n",
              "      <th>1371976</th>\n",
              "      <td>ffffcd5046a6143d29a04fb8c424ce494a76e5cdf4fab5...</td>\n",
              "      <td>0751471001 0706016001 0915526001 0751471043 09...</td>\n",
              "      <td>131</td>\n",
              "    </tr>\n",
              "    <tr>\n",
              "      <th>1371977</th>\n",
              "      <td>ffffcf35913a0bee60e8741cb2b4e78b8a98ee5ff2e6a1...</td>\n",
              "      <td>0762846027 0915526001 0916468003 0915526002 09...</td>\n",
              "      <td>131</td>\n",
              "    </tr>\n",
              "    <tr>\n",
              "      <th>1371978</th>\n",
              "      <td>ffffd7744cebcf3aca44ae7049d2a94b87074c3d4ffe38...</td>\n",
              "      <td>0751471001 0706016001 0915526001 0751471043 09...</td>\n",
              "      <td>131</td>\n",
              "    </tr>\n",
              "    <tr>\n",
              "      <th>1371979</th>\n",
              "      <td>ffffd9ac14e89946416d80e791d064701994755c3ab686...</td>\n",
              "      <td>0751471001 0706016001 0915526001 0751471043 09...</td>\n",
              "      <td>131</td>\n",
              "    </tr>\n",
              "  </tbody>\n",
              "</table>\n",
              "<p>1371980 rows × 3 columns</p>\n",
              "</div>\n",
              "      <button class=\"colab-df-convert\" onclick=\"convertToInteractive('df-60d7fc32-5b81-4874-b8bf-36e77a47d5a3')\"\n",
              "              title=\"Convert this dataframe to an interactive table.\"\n",
              "              style=\"display:none;\">\n",
              "        \n",
              "  <svg xmlns=\"http://www.w3.org/2000/svg\" height=\"24px\"viewBox=\"0 0 24 24\"\n",
              "       width=\"24px\">\n",
              "    <path d=\"M0 0h24v24H0V0z\" fill=\"none\"/>\n",
              "    <path d=\"M18.56 5.44l.94 2.06.94-2.06 2.06-.94-2.06-.94-.94-2.06-.94 2.06-2.06.94zm-11 1L8.5 8.5l.94-2.06 2.06-.94-2.06-.94L8.5 2.5l-.94 2.06-2.06.94zm10 10l.94 2.06.94-2.06 2.06-.94-2.06-.94-.94-2.06-.94 2.06-2.06.94z\"/><path d=\"M17.41 7.96l-1.37-1.37c-.4-.4-.92-.59-1.43-.59-.52 0-1.04.2-1.43.59L10.3 9.45l-7.72 7.72c-.78.78-.78 2.05 0 2.83L4 21.41c.39.39.9.59 1.41.59.51 0 1.02-.2 1.41-.59l7.78-7.78 2.81-2.81c.8-.78.8-2.07 0-2.86zM5.41 20L4 18.59l7.72-7.72 1.47 1.35L5.41 20z\"/>\n",
              "  </svg>\n",
              "      </button>\n",
              "      \n",
              "  <style>\n",
              "    .colab-df-container {\n",
              "      display:flex;\n",
              "      flex-wrap:wrap;\n",
              "      gap: 12px;\n",
              "    }\n",
              "\n",
              "    .colab-df-convert {\n",
              "      background-color: #E8F0FE;\n",
              "      border: none;\n",
              "      border-radius: 50%;\n",
              "      cursor: pointer;\n",
              "      display: none;\n",
              "      fill: #1967D2;\n",
              "      height: 32px;\n",
              "      padding: 0 0 0 0;\n",
              "      width: 32px;\n",
              "    }\n",
              "\n",
              "    .colab-df-convert:hover {\n",
              "      background-color: #E2EBFA;\n",
              "      box-shadow: 0px 1px 2px rgba(60, 64, 67, 0.3), 0px 1px 3px 1px rgba(60, 64, 67, 0.15);\n",
              "      fill: #174EA6;\n",
              "    }\n",
              "\n",
              "    [theme=dark] .colab-df-convert {\n",
              "      background-color: #3B4455;\n",
              "      fill: #D2E3FC;\n",
              "    }\n",
              "\n",
              "    [theme=dark] .colab-df-convert:hover {\n",
              "      background-color: #434B5C;\n",
              "      box-shadow: 0px 1px 3px 1px rgba(0, 0, 0, 0.15);\n",
              "      filter: drop-shadow(0px 1px 2px rgba(0, 0, 0, 0.3));\n",
              "      fill: #FFFFFF;\n",
              "    }\n",
              "  </style>\n",
              "\n",
              "      <script>\n",
              "        const buttonEl =\n",
              "          document.querySelector('#df-60d7fc32-5b81-4874-b8bf-36e77a47d5a3 button.colab-df-convert');\n",
              "        buttonEl.style.display =\n",
              "          google.colab.kernel.accessAllowed ? 'block' : 'none';\n",
              "\n",
              "        async function convertToInteractive(key) {\n",
              "          const element = document.querySelector('#df-60d7fc32-5b81-4874-b8bf-36e77a47d5a3');\n",
              "          const dataTable =\n",
              "            await google.colab.kernel.invokeFunction('convertToInteractive',\n",
              "                                                     [key], {});\n",
              "          if (!dataTable) return;\n",
              "\n",
              "          const docLinkHtml = 'Like what you see? Visit the ' +\n",
              "            '<a target=\"_blank\" href=https://colab.research.google.com/notebooks/data_table.ipynb>data table notebook</a>'\n",
              "            + ' to learn more about interactive tables.';\n",
              "          element.innerHTML = '';\n",
              "          dataTable['output_type'] = 'display_data';\n",
              "          await google.colab.output.renderOutput(dataTable, element);\n",
              "          const docLink = document.createElement('div');\n",
              "          docLink.innerHTML = docLinkHtml;\n",
              "          element.appendChild(docLink);\n",
              "        }\n",
              "      </script>\n",
              "    </div>\n",
              "  </div>\n",
              "  "
            ]
          },
          "metadata": {},
          "execution_count": 36
        }
      ]
    }
  ],
  "metadata": {
    "colab": {
      "collapsed_sections": [
        "Nvx0_nI2Xm4A",
        "yb0hh6TIHB8q"
      ],
      "provenance": [],
      "machine_shape": "hm",
      "mount_file_id": "1v-JshWY84x3FYuavR14b7Rd1LjQDZddA",
      "authorship_tag": "ABX9TyNYQJWmF3ILdquak5L/Ideg",
      "include_colab_link": true
    },
    "gpuClass": "standard",
    "kernelspec": {
      "display_name": "Python 3",
      "name": "python3"
    },
    "language_info": {
      "name": "python"
    },
    "accelerator": "GPU"
  },
  "nbformat": 4,
  "nbformat_minor": 0
}