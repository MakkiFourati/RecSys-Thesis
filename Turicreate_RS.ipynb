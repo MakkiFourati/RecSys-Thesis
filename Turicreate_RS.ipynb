{
  "nbformat": 4,
  "nbformat_minor": 0,
  "metadata": {
    "colab": {
      "provenance": [],
      "collapsed_sections": [
        "W8vRBnjrKxYc",
        "Nvx0_nI2Xm4A",
        "WGxO3TZmg9Yv",
        "gqjWGLbticY6",
        "RyINVBRQig0p"
      ],
      "machine_shape": "hm",
      "mount_file_id": "18Y2HXH93mgdKBL08bQwG9A9q4lA8EK4S",
      "authorship_tag": "ABX9TyM7eoOVdM/qO5kEqPGFsDHp",
      "include_colab_link": true
    },
    "kernelspec": {
      "name": "python3",
      "display_name": "Python 3"
    },
    "language_info": {
      "name": "python"
    },
    "accelerator": "GPU",
    "gpuClass": "premium"
  },
  "cells": [
    {
      "cell_type": "markdown",
      "metadata": {
        "id": "view-in-github",
        "colab_type": "text"
      },
      "source": [
        "<a href=\"https://colab.research.google.com/github/MakkiFourati/RecSys-Thesis/blob/main/Turicreate_RS.ipynb\" target=\"_parent\"><img src=\"https://colab.research.google.com/assets/colab-badge.svg\" alt=\"Open In Colab\"/></a>"
      ]
    },
    {
      "cell_type": "code",
      "source": [
        "!pip install turicreate"
      ],
      "metadata": {
        "colab": {
          "base_uri": "https://localhost:8080/"
        },
        "id": "QCWRVvzQZzuF",
        "outputId": "43d5a50b-dc33-4c3b-b94e-8f3d6c44e090"
      },
      "execution_count": null,
      "outputs": [
        {
          "output_type": "stream",
          "name": "stdout",
          "text": [
            "Looking in indexes: https://pypi.org/simple, https://us-python.pkg.dev/colab-wheels/public/simple/\n",
            "Requirement already satisfied: turicreate in /usr/local/lib/python3.7/dist-packages (6.4.1)\n",
            "Requirement already satisfied: numba<0.51.0 in /usr/local/lib/python3.7/dist-packages (from turicreate) (0.50.1)\n",
            "Requirement already satisfied: numpy in /usr/local/lib/python3.7/dist-packages (from turicreate) (1.18.5)\n",
            "Requirement already satisfied: requests>=2.9.1 in /usr/local/lib/python3.7/dist-packages (from turicreate) (2.23.0)\n",
            "Requirement already satisfied: scipy>=1.1.0 in /usr/local/lib/python3.7/dist-packages (from turicreate) (1.7.3)\n",
            "Requirement already satisfied: six>=1.10.0 in /usr/local/lib/python3.7/dist-packages (from turicreate) (1.15.0)\n",
            "Requirement already satisfied: pillow>=5.2.0 in /usr/local/lib/python3.7/dist-packages (from turicreate) (7.1.2)\n",
            "Requirement already satisfied: prettytable==0.7.2 in /usr/local/lib/python3.7/dist-packages (from turicreate) (0.7.2)\n",
            "Requirement already satisfied: pandas>=0.23.2 in /usr/local/lib/python3.7/dist-packages (from turicreate) (1.3.5)\n",
            "Requirement already satisfied: tensorflow<2.1.0,>=2.0.0 in /usr/local/lib/python3.7/dist-packages (from turicreate) (2.0.4)\n",
            "Requirement already satisfied: resampy==0.2.1 in /usr/local/lib/python3.7/dist-packages (from turicreate) (0.2.1)\n",
            "Requirement already satisfied: coremltools==3.3 in /usr/local/lib/python3.7/dist-packages (from turicreate) (3.3)\n",
            "Requirement already satisfied: decorator>=4.0.9 in /usr/local/lib/python3.7/dist-packages (from turicreate) (4.4.2)\n",
            "Requirement already satisfied: protobuf>=3.1.0 in /usr/local/lib/python3.7/dist-packages (from coremltools==3.3->turicreate) (3.17.3)\n",
            "Requirement already satisfied: llvmlite<0.34,>=0.33.0.dev0 in /usr/local/lib/python3.7/dist-packages (from numba<0.51.0->turicreate) (0.33.0)\n",
            "Requirement already satisfied: setuptools in /usr/local/lib/python3.7/dist-packages (from numba<0.51.0->turicreate) (57.4.0)\n",
            "Requirement already satisfied: python-dateutil>=2.7.3 in /usr/local/lib/python3.7/dist-packages (from pandas>=0.23.2->turicreate) (2.8.2)\n",
            "Requirement already satisfied: pytz>=2017.3 in /usr/local/lib/python3.7/dist-packages (from pandas>=0.23.2->turicreate) (2022.4)\n",
            "Requirement already satisfied: chardet<4,>=3.0.2 in /usr/local/lib/python3.7/dist-packages (from requests>=2.9.1->turicreate) (3.0.4)\n",
            "Requirement already satisfied: idna<3,>=2.5 in /usr/local/lib/python3.7/dist-packages (from requests>=2.9.1->turicreate) (2.10)\n",
            "Requirement already satisfied: urllib3!=1.25.0,!=1.25.1,<1.26,>=1.21.1 in /usr/local/lib/python3.7/dist-packages (from requests>=2.9.1->turicreate) (1.24.3)\n",
            "Requirement already satisfied: certifi>=2017.4.17 in /usr/local/lib/python3.7/dist-packages (from requests>=2.9.1->turicreate) (2022.9.24)\n",
            "Requirement already satisfied: opt-einsum>=2.3.2 in /usr/local/lib/python3.7/dist-packages (from tensorflow<2.1.0,>=2.0.0->turicreate) (3.3.0)\n",
            "Requirement already satisfied: keras-preprocessing>=1.0.5 in /usr/local/lib/python3.7/dist-packages (from tensorflow<2.1.0,>=2.0.0->turicreate) (1.1.2)\n",
            "Requirement already satisfied: h5py<=2.10.0 in /usr/local/lib/python3.7/dist-packages (from tensorflow<2.1.0,>=2.0.0->turicreate) (2.10.0)\n",
            "Requirement already satisfied: grpcio>=1.8.6 in /usr/local/lib/python3.7/dist-packages (from tensorflow<2.1.0,>=2.0.0->turicreate) (1.49.1)\n",
            "Requirement already satisfied: tensorflow-estimator<2.1.0,>=2.0.0 in /usr/local/lib/python3.7/dist-packages (from tensorflow<2.1.0,>=2.0.0->turicreate) (2.0.1)\n",
            "Requirement already satisfied: wheel>=0.26 in /usr/local/lib/python3.7/dist-packages (from tensorflow<2.1.0,>=2.0.0->turicreate) (0.37.1)\n",
            "Requirement already satisfied: google-pasta>=0.1.6 in /usr/local/lib/python3.7/dist-packages (from tensorflow<2.1.0,>=2.0.0->turicreate) (0.2.0)\n",
            "Requirement already satisfied: keras-applications>=1.0.8 in /usr/local/lib/python3.7/dist-packages (from tensorflow<2.1.0,>=2.0.0->turicreate) (1.0.8)\n",
            "Requirement already satisfied: tensorboard<2.1.0,>=2.0.0 in /usr/local/lib/python3.7/dist-packages (from tensorflow<2.1.0,>=2.0.0->turicreate) (2.0.2)\n",
            "Requirement already satisfied: termcolor>=1.1.0 in /usr/local/lib/python3.7/dist-packages (from tensorflow<2.1.0,>=2.0.0->turicreate) (2.0.1)\n",
            "Requirement already satisfied: astor>=0.6.0 in /usr/local/lib/python3.7/dist-packages (from tensorflow<2.1.0,>=2.0.0->turicreate) (0.8.1)\n",
            "Requirement already satisfied: wrapt>=1.11.1 in /usr/local/lib/python3.7/dist-packages (from tensorflow<2.1.0,>=2.0.0->turicreate) (1.14.1)\n",
            "Requirement already satisfied: absl-py>=0.7.0 in /usr/local/lib/python3.7/dist-packages (from tensorflow<2.1.0,>=2.0.0->turicreate) (1.2.0)\n",
            "Requirement already satisfied: gast==0.2.2 in /usr/local/lib/python3.7/dist-packages (from tensorflow<2.1.0,>=2.0.0->turicreate) (0.2.2)\n",
            "Requirement already satisfied: werkzeug>=0.11.15 in /usr/local/lib/python3.7/dist-packages (from tensorboard<2.1.0,>=2.0.0->tensorflow<2.1.0,>=2.0.0->turicreate) (1.0.1)\n",
            "Requirement already satisfied: google-auth<2,>=1.6.3 in /usr/local/lib/python3.7/dist-packages (from tensorboard<2.1.0,>=2.0.0->tensorflow<2.1.0,>=2.0.0->turicreate) (1.35.0)\n",
            "Requirement already satisfied: markdown>=2.6.8 in /usr/local/lib/python3.7/dist-packages (from tensorboard<2.1.0,>=2.0.0->tensorflow<2.1.0,>=2.0.0->turicreate) (3.4.1)\n",
            "Requirement already satisfied: google-auth-oauthlib<0.5,>=0.4.1 in /usr/local/lib/python3.7/dist-packages (from tensorboard<2.1.0,>=2.0.0->tensorflow<2.1.0,>=2.0.0->turicreate) (0.4.6)\n",
            "Requirement already satisfied: rsa<5,>=3.1.4 in /usr/local/lib/python3.7/dist-packages (from google-auth<2,>=1.6.3->tensorboard<2.1.0,>=2.0.0->tensorflow<2.1.0,>=2.0.0->turicreate) (4.9)\n",
            "Requirement already satisfied: pyasn1-modules>=0.2.1 in /usr/local/lib/python3.7/dist-packages (from google-auth<2,>=1.6.3->tensorboard<2.1.0,>=2.0.0->tensorflow<2.1.0,>=2.0.0->turicreate) (0.2.8)\n",
            "Requirement already satisfied: cachetools<5.0,>=2.0.0 in /usr/local/lib/python3.7/dist-packages (from google-auth<2,>=1.6.3->tensorboard<2.1.0,>=2.0.0->tensorflow<2.1.0,>=2.0.0->turicreate) (4.2.4)\n",
            "Requirement already satisfied: requests-oauthlib>=0.7.0 in /usr/local/lib/python3.7/dist-packages (from google-auth-oauthlib<0.5,>=0.4.1->tensorboard<2.1.0,>=2.0.0->tensorflow<2.1.0,>=2.0.0->turicreate) (1.3.1)\n",
            "Requirement already satisfied: importlib-metadata>=4.4 in /usr/local/lib/python3.7/dist-packages (from markdown>=2.6.8->tensorboard<2.1.0,>=2.0.0->tensorflow<2.1.0,>=2.0.0->turicreate) (5.0.0)\n",
            "Requirement already satisfied: zipp>=0.5 in /usr/local/lib/python3.7/dist-packages (from importlib-metadata>=4.4->markdown>=2.6.8->tensorboard<2.1.0,>=2.0.0->tensorflow<2.1.0,>=2.0.0->turicreate) (3.8.1)\n",
            "Requirement already satisfied: typing-extensions>=3.6.4 in /usr/local/lib/python3.7/dist-packages (from importlib-metadata>=4.4->markdown>=2.6.8->tensorboard<2.1.0,>=2.0.0->tensorflow<2.1.0,>=2.0.0->turicreate) (4.1.1)\n",
            "Requirement already satisfied: pyasn1<0.5.0,>=0.4.6 in /usr/local/lib/python3.7/dist-packages (from pyasn1-modules>=0.2.1->google-auth<2,>=1.6.3->tensorboard<2.1.0,>=2.0.0->tensorflow<2.1.0,>=2.0.0->turicreate) (0.4.8)\n",
            "Requirement already satisfied: oauthlib>=3.0.0 in /usr/local/lib/python3.7/dist-packages (from requests-oauthlib>=0.7.0->google-auth-oauthlib<0.5,>=0.4.1->tensorboard<2.1.0,>=2.0.0->tensorflow<2.1.0,>=2.0.0->turicreate) (3.2.1)\n"
          ]
        }
      ]
    },
    {
      "cell_type": "code",
      "execution_count": null,
      "metadata": {
        "id": "GoI1coJLWYII"
      },
      "outputs": [],
      "source": [
        "import pandas as pd\n",
        "import numpy as np\n",
        "import time\n",
        "import turicreate as tc\n",
        "from sklearn.model_selection import train_test_split"
      ]
    },
    {
      "cell_type": "code",
      "source": [
        "df_t = pd.read_csv('drive/MyDrive/Thesis/data/transactions_train.csv')"
      ],
      "metadata": {
        "id": "7MeSy-eLYij6"
      },
      "execution_count": null,
      "outputs": []
    },
    {
      "cell_type": "code",
      "source": [
        "df_t = df_t.drop_duplicates(subset=['customer_id','article_id'])\n",
        "df_t"
      ],
      "metadata": {
        "id": "FvEo15mNo4iQ",
        "colab": {
          "base_uri": "https://localhost:8080/",
          "height": 661
        },
        "outputId": "b09786c4-aeb9-4690-afc5-a6bb79c80595"
      },
      "execution_count": null,
      "outputs": [
        {
          "output_type": "execute_result",
          "data": {
            "text/plain": [
              "               t_dat                                        customer_id  \\\n",
              "0         2018-09-20  000058a12d5b43e67d225668fa1f8d618c13dc232df0ca...   \n",
              "1         2018-09-20  000058a12d5b43e67d225668fa1f8d618c13dc232df0ca...   \n",
              "2         2018-09-20  00007d2de826758b65a93dd24ce629ed66842531df6699...   \n",
              "3         2018-09-20  00007d2de826758b65a93dd24ce629ed66842531df6699...   \n",
              "4         2018-09-20  00007d2de826758b65a93dd24ce629ed66842531df6699...   \n",
              "...              ...                                                ...   \n",
              "31788318  2020-09-22  ffd4cf2217de4a0a3f9f610cdec334c803692a18af08ac...   \n",
              "31788319  2020-09-22  fff2282977442e327b45d8c89afde25617d00124d0f999...   \n",
              "31788321  2020-09-22  fff380805474b287b05cb2a7507b9a013482f7dd0bce0e...   \n",
              "31788322  2020-09-22  fff4d3a8b1f3b60af93e78c30a7cb4cf75edaf2590d3e5...   \n",
              "31788323  2020-09-22  fffef3b6b73545df065b521e19f64bf6fe93bfd450ab20...   \n",
              "\n",
              "          article_id     price  sales_channel_id  \n",
              "0          663713001  0.050831                 2  \n",
              "1          541518023  0.030492                 2  \n",
              "2          505221004  0.015237                 2  \n",
              "3          685687003  0.016932                 2  \n",
              "4          685687004  0.016932                 2  \n",
              "...              ...       ...               ...  \n",
              "31788318   856440002  0.042356                 2  \n",
              "31788319   929511001  0.059305                 2  \n",
              "31788321   918325001  0.043203                 1  \n",
              "31788322   833459002  0.006763                 1  \n",
              "31788323   898573003  0.033881                 2  \n",
              "\n",
              "[27306439 rows x 5 columns]"
            ],
            "text/html": [
              "\n",
              "  <div id=\"df-2c46a3fa-2ad4-4725-9e65-ebbce409e442\">\n",
              "    <div class=\"colab-df-container\">\n",
              "      <div>\n",
              "<style scoped>\n",
              "    .dataframe tbody tr th:only-of-type {\n",
              "        vertical-align: middle;\n",
              "    }\n",
              "\n",
              "    .dataframe tbody tr th {\n",
              "        vertical-align: top;\n",
              "    }\n",
              "\n",
              "    .dataframe thead th {\n",
              "        text-align: right;\n",
              "    }\n",
              "</style>\n",
              "<table border=\"1\" class=\"dataframe\">\n",
              "  <thead>\n",
              "    <tr style=\"text-align: right;\">\n",
              "      <th></th>\n",
              "      <th>t_dat</th>\n",
              "      <th>customer_id</th>\n",
              "      <th>article_id</th>\n",
              "      <th>price</th>\n",
              "      <th>sales_channel_id</th>\n",
              "    </tr>\n",
              "  </thead>\n",
              "  <tbody>\n",
              "    <tr>\n",
              "      <th>0</th>\n",
              "      <td>2018-09-20</td>\n",
              "      <td>000058a12d5b43e67d225668fa1f8d618c13dc232df0ca...</td>\n",
              "      <td>663713001</td>\n",
              "      <td>0.050831</td>\n",
              "      <td>2</td>\n",
              "    </tr>\n",
              "    <tr>\n",
              "      <th>1</th>\n",
              "      <td>2018-09-20</td>\n",
              "      <td>000058a12d5b43e67d225668fa1f8d618c13dc232df0ca...</td>\n",
              "      <td>541518023</td>\n",
              "      <td>0.030492</td>\n",
              "      <td>2</td>\n",
              "    </tr>\n",
              "    <tr>\n",
              "      <th>2</th>\n",
              "      <td>2018-09-20</td>\n",
              "      <td>00007d2de826758b65a93dd24ce629ed66842531df6699...</td>\n",
              "      <td>505221004</td>\n",
              "      <td>0.015237</td>\n",
              "      <td>2</td>\n",
              "    </tr>\n",
              "    <tr>\n",
              "      <th>3</th>\n",
              "      <td>2018-09-20</td>\n",
              "      <td>00007d2de826758b65a93dd24ce629ed66842531df6699...</td>\n",
              "      <td>685687003</td>\n",
              "      <td>0.016932</td>\n",
              "      <td>2</td>\n",
              "    </tr>\n",
              "    <tr>\n",
              "      <th>4</th>\n",
              "      <td>2018-09-20</td>\n",
              "      <td>00007d2de826758b65a93dd24ce629ed66842531df6699...</td>\n",
              "      <td>685687004</td>\n",
              "      <td>0.016932</td>\n",
              "      <td>2</td>\n",
              "    </tr>\n",
              "    <tr>\n",
              "      <th>...</th>\n",
              "      <td>...</td>\n",
              "      <td>...</td>\n",
              "      <td>...</td>\n",
              "      <td>...</td>\n",
              "      <td>...</td>\n",
              "    </tr>\n",
              "    <tr>\n",
              "      <th>31788318</th>\n",
              "      <td>2020-09-22</td>\n",
              "      <td>ffd4cf2217de4a0a3f9f610cdec334c803692a18af08ac...</td>\n",
              "      <td>856440002</td>\n",
              "      <td>0.042356</td>\n",
              "      <td>2</td>\n",
              "    </tr>\n",
              "    <tr>\n",
              "      <th>31788319</th>\n",
              "      <td>2020-09-22</td>\n",
              "      <td>fff2282977442e327b45d8c89afde25617d00124d0f999...</td>\n",
              "      <td>929511001</td>\n",
              "      <td>0.059305</td>\n",
              "      <td>2</td>\n",
              "    </tr>\n",
              "    <tr>\n",
              "      <th>31788321</th>\n",
              "      <td>2020-09-22</td>\n",
              "      <td>fff380805474b287b05cb2a7507b9a013482f7dd0bce0e...</td>\n",
              "      <td>918325001</td>\n",
              "      <td>0.043203</td>\n",
              "      <td>1</td>\n",
              "    </tr>\n",
              "    <tr>\n",
              "      <th>31788322</th>\n",
              "      <td>2020-09-22</td>\n",
              "      <td>fff4d3a8b1f3b60af93e78c30a7cb4cf75edaf2590d3e5...</td>\n",
              "      <td>833459002</td>\n",
              "      <td>0.006763</td>\n",
              "      <td>1</td>\n",
              "    </tr>\n",
              "    <tr>\n",
              "      <th>31788323</th>\n",
              "      <td>2020-09-22</td>\n",
              "      <td>fffef3b6b73545df065b521e19f64bf6fe93bfd450ab20...</td>\n",
              "      <td>898573003</td>\n",
              "      <td>0.033881</td>\n",
              "      <td>2</td>\n",
              "    </tr>\n",
              "  </tbody>\n",
              "</table>\n",
              "<p>27306439 rows × 5 columns</p>\n",
              "</div>\n",
              "      <button class=\"colab-df-convert\" onclick=\"convertToInteractive('df-2c46a3fa-2ad4-4725-9e65-ebbce409e442')\"\n",
              "              title=\"Convert this dataframe to an interactive table.\"\n",
              "              style=\"display:none;\">\n",
              "        \n",
              "  <svg xmlns=\"http://www.w3.org/2000/svg\" height=\"24px\"viewBox=\"0 0 24 24\"\n",
              "       width=\"24px\">\n",
              "    <path d=\"M0 0h24v24H0V0z\" fill=\"none\"/>\n",
              "    <path d=\"M18.56 5.44l.94 2.06.94-2.06 2.06-.94-2.06-.94-.94-2.06-.94 2.06-2.06.94zm-11 1L8.5 8.5l.94-2.06 2.06-.94-2.06-.94L8.5 2.5l-.94 2.06-2.06.94zm10 10l.94 2.06.94-2.06 2.06-.94-2.06-.94-.94-2.06-.94 2.06-2.06.94z\"/><path d=\"M17.41 7.96l-1.37-1.37c-.4-.4-.92-.59-1.43-.59-.52 0-1.04.2-1.43.59L10.3 9.45l-7.72 7.72c-.78.78-.78 2.05 0 2.83L4 21.41c.39.39.9.59 1.41.59.51 0 1.02-.2 1.41-.59l7.78-7.78 2.81-2.81c.8-.78.8-2.07 0-2.86zM5.41 20L4 18.59l7.72-7.72 1.47 1.35L5.41 20z\"/>\n",
              "  </svg>\n",
              "      </button>\n",
              "      \n",
              "  <style>\n",
              "    .colab-df-container {\n",
              "      display:flex;\n",
              "      flex-wrap:wrap;\n",
              "      gap: 12px;\n",
              "    }\n",
              "\n",
              "    .colab-df-convert {\n",
              "      background-color: #E8F0FE;\n",
              "      border: none;\n",
              "      border-radius: 50%;\n",
              "      cursor: pointer;\n",
              "      display: none;\n",
              "      fill: #1967D2;\n",
              "      height: 32px;\n",
              "      padding: 0 0 0 0;\n",
              "      width: 32px;\n",
              "    }\n",
              "\n",
              "    .colab-df-convert:hover {\n",
              "      background-color: #E2EBFA;\n",
              "      box-shadow: 0px 1px 2px rgba(60, 64, 67, 0.3), 0px 1px 3px 1px rgba(60, 64, 67, 0.15);\n",
              "      fill: #174EA6;\n",
              "    }\n",
              "\n",
              "    [theme=dark] .colab-df-convert {\n",
              "      background-color: #3B4455;\n",
              "      fill: #D2E3FC;\n",
              "    }\n",
              "\n",
              "    [theme=dark] .colab-df-convert:hover {\n",
              "      background-color: #434B5C;\n",
              "      box-shadow: 0px 1px 3px 1px rgba(0, 0, 0, 0.15);\n",
              "      filter: drop-shadow(0px 1px 2px rgba(0, 0, 0, 0.3));\n",
              "      fill: #FFFFFF;\n",
              "    }\n",
              "  </style>\n",
              "\n",
              "      <script>\n",
              "        const buttonEl =\n",
              "          document.querySelector('#df-2c46a3fa-2ad4-4725-9e65-ebbce409e442 button.colab-df-convert');\n",
              "        buttonEl.style.display =\n",
              "          google.colab.kernel.accessAllowed ? 'block' : 'none';\n",
              "\n",
              "        async function convertToInteractive(key) {\n",
              "          const element = document.querySelector('#df-2c46a3fa-2ad4-4725-9e65-ebbce409e442');\n",
              "          const dataTable =\n",
              "            await google.colab.kernel.invokeFunction('convertToInteractive',\n",
              "                                                     [key], {});\n",
              "          if (!dataTable) return;\n",
              "\n",
              "          const docLinkHtml = 'Like what you see? Visit the ' +\n",
              "            '<a target=\"_blank\" href=https://colab.research.google.com/notebooks/data_table.ipynb>data table notebook</a>'\n",
              "            + ' to learn more about interactive tables.';\n",
              "          element.innerHTML = '';\n",
              "          dataTable['output_type'] = 'display_data';\n",
              "          await google.colab.output.renderOutput(dataTable, element);\n",
              "          const docLink = document.createElement('div');\n",
              "          docLink.innerHTML = docLinkHtml;\n",
              "          element.appendChild(docLink);\n",
              "        }\n",
              "      </script>\n",
              "    </div>\n",
              "  </div>\n",
              "  "
            ]
          },
          "metadata": {},
          "execution_count": 4
        }
      ]
    },
    {
      "cell_type": "code",
      "source": [
        "df_c = df_t.groupby('customer_id',as_index=False).count().iloc[:,:2]\n",
        "df_c.rename(columns={\"t_dat\": \"count\"},inplace=True)"
      ],
      "metadata": {
        "id": "FnOdsw8KgnDP"
      },
      "execution_count": null,
      "outputs": []
    },
    {
      "cell_type": "code",
      "source": [
        "df = df_t.merge(df_c[df_c['count']>26].loc[:,['customer_id']],on='customer_id')\n",
        "df"
      ],
      "metadata": {
        "colab": {
          "base_uri": "https://localhost:8080/",
          "height": 661
        },
        "id": "dcSml2oohpjs",
        "outputId": "48a72a8b-3dd3-4e36-c381-36c58a5c97ae"
      },
      "execution_count": null,
      "outputs": [
        {
          "output_type": "execute_result",
          "data": {
            "text/plain": [
              "               t_dat                                        customer_id  \\\n",
              "0         2018-09-20  00007d2de826758b65a93dd24ce629ed66842531df6699...   \n",
              "1         2018-09-20  00007d2de826758b65a93dd24ce629ed66842531df6699...   \n",
              "2         2018-09-20  00007d2de826758b65a93dd24ce629ed66842531df6699...   \n",
              "3         2018-09-20  00007d2de826758b65a93dd24ce629ed66842531df6699...   \n",
              "4         2018-09-20  00007d2de826758b65a93dd24ce629ed66842531df6699...   \n",
              "...              ...                                                ...   \n",
              "19145785  2020-09-20  fca7ad1d634298b310c9072343ac671353d014bd1e8c6f...   \n",
              "19145786  2020-09-20  fca7ad1d634298b310c9072343ac671353d014bd1e8c6f...   \n",
              "19145787  2020-09-20  fca7ad1d634298b310c9072343ac671353d014bd1e8c6f...   \n",
              "19145788  2020-09-20  fca7ad1d634298b310c9072343ac671353d014bd1e8c6f...   \n",
              "19145789  2020-09-20  fca7ad1d634298b310c9072343ac671353d014bd1e8c6f...   \n",
              "\n",
              "          article_id     price  sales_channel_id  \n",
              "0          505221004  0.015237                 2  \n",
              "1          685687003  0.016932                 2  \n",
              "2          685687004  0.016932                 2  \n",
              "3          685687001  0.016932                 2  \n",
              "4          505221001  0.020322                 2  \n",
              "...              ...       ...               ...  \n",
              "19145785   916417001  0.067780                 2  \n",
              "19145786   873884006  0.033881                 2  \n",
              "19145787   876148004  0.101678                 2  \n",
              "19145788   895610005  0.050831                 2  \n",
              "19145789   902413001  0.025407                 2  \n",
              "\n",
              "[19145790 rows x 5 columns]"
            ],
            "text/html": [
              "\n",
              "  <div id=\"df-e59bdc28-27cb-42d1-a26b-94f0610610a7\">\n",
              "    <div class=\"colab-df-container\">\n",
              "      <div>\n",
              "<style scoped>\n",
              "    .dataframe tbody tr th:only-of-type {\n",
              "        vertical-align: middle;\n",
              "    }\n",
              "\n",
              "    .dataframe tbody tr th {\n",
              "        vertical-align: top;\n",
              "    }\n",
              "\n",
              "    .dataframe thead th {\n",
              "        text-align: right;\n",
              "    }\n",
              "</style>\n",
              "<table border=\"1\" class=\"dataframe\">\n",
              "  <thead>\n",
              "    <tr style=\"text-align: right;\">\n",
              "      <th></th>\n",
              "      <th>t_dat</th>\n",
              "      <th>customer_id</th>\n",
              "      <th>article_id</th>\n",
              "      <th>price</th>\n",
              "      <th>sales_channel_id</th>\n",
              "    </tr>\n",
              "  </thead>\n",
              "  <tbody>\n",
              "    <tr>\n",
              "      <th>0</th>\n",
              "      <td>2018-09-20</td>\n",
              "      <td>00007d2de826758b65a93dd24ce629ed66842531df6699...</td>\n",
              "      <td>505221004</td>\n",
              "      <td>0.015237</td>\n",
              "      <td>2</td>\n",
              "    </tr>\n",
              "    <tr>\n",
              "      <th>1</th>\n",
              "      <td>2018-09-20</td>\n",
              "      <td>00007d2de826758b65a93dd24ce629ed66842531df6699...</td>\n",
              "      <td>685687003</td>\n",
              "      <td>0.016932</td>\n",
              "      <td>2</td>\n",
              "    </tr>\n",
              "    <tr>\n",
              "      <th>2</th>\n",
              "      <td>2018-09-20</td>\n",
              "      <td>00007d2de826758b65a93dd24ce629ed66842531df6699...</td>\n",
              "      <td>685687004</td>\n",
              "      <td>0.016932</td>\n",
              "      <td>2</td>\n",
              "    </tr>\n",
              "    <tr>\n",
              "      <th>3</th>\n",
              "      <td>2018-09-20</td>\n",
              "      <td>00007d2de826758b65a93dd24ce629ed66842531df6699...</td>\n",
              "      <td>685687001</td>\n",
              "      <td>0.016932</td>\n",
              "      <td>2</td>\n",
              "    </tr>\n",
              "    <tr>\n",
              "      <th>4</th>\n",
              "      <td>2018-09-20</td>\n",
              "      <td>00007d2de826758b65a93dd24ce629ed66842531df6699...</td>\n",
              "      <td>505221001</td>\n",
              "      <td>0.020322</td>\n",
              "      <td>2</td>\n",
              "    </tr>\n",
              "    <tr>\n",
              "      <th>...</th>\n",
              "      <td>...</td>\n",
              "      <td>...</td>\n",
              "      <td>...</td>\n",
              "      <td>...</td>\n",
              "      <td>...</td>\n",
              "    </tr>\n",
              "    <tr>\n",
              "      <th>19145785</th>\n",
              "      <td>2020-09-20</td>\n",
              "      <td>fca7ad1d634298b310c9072343ac671353d014bd1e8c6f...</td>\n",
              "      <td>916417001</td>\n",
              "      <td>0.067780</td>\n",
              "      <td>2</td>\n",
              "    </tr>\n",
              "    <tr>\n",
              "      <th>19145786</th>\n",
              "      <td>2020-09-20</td>\n",
              "      <td>fca7ad1d634298b310c9072343ac671353d014bd1e8c6f...</td>\n",
              "      <td>873884006</td>\n",
              "      <td>0.033881</td>\n",
              "      <td>2</td>\n",
              "    </tr>\n",
              "    <tr>\n",
              "      <th>19145787</th>\n",
              "      <td>2020-09-20</td>\n",
              "      <td>fca7ad1d634298b310c9072343ac671353d014bd1e8c6f...</td>\n",
              "      <td>876148004</td>\n",
              "      <td>0.101678</td>\n",
              "      <td>2</td>\n",
              "    </tr>\n",
              "    <tr>\n",
              "      <th>19145788</th>\n",
              "      <td>2020-09-20</td>\n",
              "      <td>fca7ad1d634298b310c9072343ac671353d014bd1e8c6f...</td>\n",
              "      <td>895610005</td>\n",
              "      <td>0.050831</td>\n",
              "      <td>2</td>\n",
              "    </tr>\n",
              "    <tr>\n",
              "      <th>19145789</th>\n",
              "      <td>2020-09-20</td>\n",
              "      <td>fca7ad1d634298b310c9072343ac671353d014bd1e8c6f...</td>\n",
              "      <td>902413001</td>\n",
              "      <td>0.025407</td>\n",
              "      <td>2</td>\n",
              "    </tr>\n",
              "  </tbody>\n",
              "</table>\n",
              "<p>19145790 rows × 5 columns</p>\n",
              "</div>\n",
              "      <button class=\"colab-df-convert\" onclick=\"convertToInteractive('df-e59bdc28-27cb-42d1-a26b-94f0610610a7')\"\n",
              "              title=\"Convert this dataframe to an interactive table.\"\n",
              "              style=\"display:none;\">\n",
              "        \n",
              "  <svg xmlns=\"http://www.w3.org/2000/svg\" height=\"24px\"viewBox=\"0 0 24 24\"\n",
              "       width=\"24px\">\n",
              "    <path d=\"M0 0h24v24H0V0z\" fill=\"none\"/>\n",
              "    <path d=\"M18.56 5.44l.94 2.06.94-2.06 2.06-.94-2.06-.94-.94-2.06-.94 2.06-2.06.94zm-11 1L8.5 8.5l.94-2.06 2.06-.94-2.06-.94L8.5 2.5l-.94 2.06-2.06.94zm10 10l.94 2.06.94-2.06 2.06-.94-2.06-.94-.94-2.06-.94 2.06-2.06.94z\"/><path d=\"M17.41 7.96l-1.37-1.37c-.4-.4-.92-.59-1.43-.59-.52 0-1.04.2-1.43.59L10.3 9.45l-7.72 7.72c-.78.78-.78 2.05 0 2.83L4 21.41c.39.39.9.59 1.41.59.51 0 1.02-.2 1.41-.59l7.78-7.78 2.81-2.81c.8-.78.8-2.07 0-2.86zM5.41 20L4 18.59l7.72-7.72 1.47 1.35L5.41 20z\"/>\n",
              "  </svg>\n",
              "      </button>\n",
              "      \n",
              "  <style>\n",
              "    .colab-df-container {\n",
              "      display:flex;\n",
              "      flex-wrap:wrap;\n",
              "      gap: 12px;\n",
              "    }\n",
              "\n",
              "    .colab-df-convert {\n",
              "      background-color: #E8F0FE;\n",
              "      border: none;\n",
              "      border-radius: 50%;\n",
              "      cursor: pointer;\n",
              "      display: none;\n",
              "      fill: #1967D2;\n",
              "      height: 32px;\n",
              "      padding: 0 0 0 0;\n",
              "      width: 32px;\n",
              "    }\n",
              "\n",
              "    .colab-df-convert:hover {\n",
              "      background-color: #E2EBFA;\n",
              "      box-shadow: 0px 1px 2px rgba(60, 64, 67, 0.3), 0px 1px 3px 1px rgba(60, 64, 67, 0.15);\n",
              "      fill: #174EA6;\n",
              "    }\n",
              "\n",
              "    [theme=dark] .colab-df-convert {\n",
              "      background-color: #3B4455;\n",
              "      fill: #D2E3FC;\n",
              "    }\n",
              "\n",
              "    [theme=dark] .colab-df-convert:hover {\n",
              "      background-color: #434B5C;\n",
              "      box-shadow: 0px 1px 3px 1px rgba(0, 0, 0, 0.15);\n",
              "      filter: drop-shadow(0px 1px 2px rgba(0, 0, 0, 0.3));\n",
              "      fill: #FFFFFF;\n",
              "    }\n",
              "  </style>\n",
              "\n",
              "      <script>\n",
              "        const buttonEl =\n",
              "          document.querySelector('#df-e59bdc28-27cb-42d1-a26b-94f0610610a7 button.colab-df-convert');\n",
              "        buttonEl.style.display =\n",
              "          google.colab.kernel.accessAllowed ? 'block' : 'none';\n",
              "\n",
              "        async function convertToInteractive(key) {\n",
              "          const element = document.querySelector('#df-e59bdc28-27cb-42d1-a26b-94f0610610a7');\n",
              "          const dataTable =\n",
              "            await google.colab.kernel.invokeFunction('convertToInteractive',\n",
              "                                                     [key], {});\n",
              "          if (!dataTable) return;\n",
              "\n",
              "          const docLinkHtml = 'Like what you see? Visit the ' +\n",
              "            '<a target=\"_blank\" href=https://colab.research.google.com/notebooks/data_table.ipynb>data table notebook</a>'\n",
              "            + ' to learn more about interactive tables.';\n",
              "          element.innerHTML = '';\n",
              "          dataTable['output_type'] = 'display_data';\n",
              "          await google.colab.output.renderOutput(dataTable, element);\n",
              "          const docLink = document.createElement('div');\n",
              "          docLink.innerHTML = docLinkHtml;\n",
              "          element.appendChild(docLink);\n",
              "        }\n",
              "      </script>\n",
              "    </div>\n",
              "  </div>\n",
              "  "
            ]
          },
          "metadata": {},
          "execution_count": 6
        }
      ]
    },
    {
      "cell_type": "code",
      "source": [
        "df_a = df_t.groupby('article_id',as_index=False).count()\n",
        "df_a.rename(columns={\"t_dat\": \"count\"},inplace=True)"
      ],
      "metadata": {
        "id": "SlNFUUrcYKMC"
      },
      "execution_count": null,
      "outputs": []
    },
    {
      "cell_type": "code",
      "source": [
        "df_a"
      ],
      "metadata": {
        "colab": {
          "base_uri": "https://localhost:8080/",
          "height": 424
        },
        "id": "JUHFgi1GaWhX",
        "outputId": "7b0a44b9-a2c6-4a8a-d74c-d46be7142813"
      },
      "execution_count": null,
      "outputs": [
        {
          "output_type": "execute_result",
          "data": {
            "text/plain": [
              "        article_id  count  customer_id  price  sales_channel_id\n",
              "0        108775015   6885         6885   6885              6885\n",
              "1        108775044   5284         5284   5284              5284\n",
              "2        108775051    168          168    168               168\n",
              "3        110065001    945          945    945               945\n",
              "4        110065002    460          460    460               460\n",
              "...            ...    ...          ...    ...               ...\n",
              "104542   952267001     34           34     34                34\n",
              "104543   952938001      9            9      9                 9\n",
              "104544   953450001     16           16     16                16\n",
              "104545   953763001     23           23     23                23\n",
              "104546   956217002     17           17     17                17\n",
              "\n",
              "[104547 rows x 5 columns]"
            ],
            "text/html": [
              "\n",
              "  <div id=\"df-eb0925f6-67b8-4ca1-9c1e-d6ced60b2dcd\">\n",
              "    <div class=\"colab-df-container\">\n",
              "      <div>\n",
              "<style scoped>\n",
              "    .dataframe tbody tr th:only-of-type {\n",
              "        vertical-align: middle;\n",
              "    }\n",
              "\n",
              "    .dataframe tbody tr th {\n",
              "        vertical-align: top;\n",
              "    }\n",
              "\n",
              "    .dataframe thead th {\n",
              "        text-align: right;\n",
              "    }\n",
              "</style>\n",
              "<table border=\"1\" class=\"dataframe\">\n",
              "  <thead>\n",
              "    <tr style=\"text-align: right;\">\n",
              "      <th></th>\n",
              "      <th>article_id</th>\n",
              "      <th>count</th>\n",
              "      <th>customer_id</th>\n",
              "      <th>price</th>\n",
              "      <th>sales_channel_id</th>\n",
              "    </tr>\n",
              "  </thead>\n",
              "  <tbody>\n",
              "    <tr>\n",
              "      <th>0</th>\n",
              "      <td>108775015</td>\n",
              "      <td>6885</td>\n",
              "      <td>6885</td>\n",
              "      <td>6885</td>\n",
              "      <td>6885</td>\n",
              "    </tr>\n",
              "    <tr>\n",
              "      <th>1</th>\n",
              "      <td>108775044</td>\n",
              "      <td>5284</td>\n",
              "      <td>5284</td>\n",
              "      <td>5284</td>\n",
              "      <td>5284</td>\n",
              "    </tr>\n",
              "    <tr>\n",
              "      <th>2</th>\n",
              "      <td>108775051</td>\n",
              "      <td>168</td>\n",
              "      <td>168</td>\n",
              "      <td>168</td>\n",
              "      <td>168</td>\n",
              "    </tr>\n",
              "    <tr>\n",
              "      <th>3</th>\n",
              "      <td>110065001</td>\n",
              "      <td>945</td>\n",
              "      <td>945</td>\n",
              "      <td>945</td>\n",
              "      <td>945</td>\n",
              "    </tr>\n",
              "    <tr>\n",
              "      <th>4</th>\n",
              "      <td>110065002</td>\n",
              "      <td>460</td>\n",
              "      <td>460</td>\n",
              "      <td>460</td>\n",
              "      <td>460</td>\n",
              "    </tr>\n",
              "    <tr>\n",
              "      <th>...</th>\n",
              "      <td>...</td>\n",
              "      <td>...</td>\n",
              "      <td>...</td>\n",
              "      <td>...</td>\n",
              "      <td>...</td>\n",
              "    </tr>\n",
              "    <tr>\n",
              "      <th>104542</th>\n",
              "      <td>952267001</td>\n",
              "      <td>34</td>\n",
              "      <td>34</td>\n",
              "      <td>34</td>\n",
              "      <td>34</td>\n",
              "    </tr>\n",
              "    <tr>\n",
              "      <th>104543</th>\n",
              "      <td>952938001</td>\n",
              "      <td>9</td>\n",
              "      <td>9</td>\n",
              "      <td>9</td>\n",
              "      <td>9</td>\n",
              "    </tr>\n",
              "    <tr>\n",
              "      <th>104544</th>\n",
              "      <td>953450001</td>\n",
              "      <td>16</td>\n",
              "      <td>16</td>\n",
              "      <td>16</td>\n",
              "      <td>16</td>\n",
              "    </tr>\n",
              "    <tr>\n",
              "      <th>104545</th>\n",
              "      <td>953763001</td>\n",
              "      <td>23</td>\n",
              "      <td>23</td>\n",
              "      <td>23</td>\n",
              "      <td>23</td>\n",
              "    </tr>\n",
              "    <tr>\n",
              "      <th>104546</th>\n",
              "      <td>956217002</td>\n",
              "      <td>17</td>\n",
              "      <td>17</td>\n",
              "      <td>17</td>\n",
              "      <td>17</td>\n",
              "    </tr>\n",
              "  </tbody>\n",
              "</table>\n",
              "<p>104547 rows × 5 columns</p>\n",
              "</div>\n",
              "      <button class=\"colab-df-convert\" onclick=\"convertToInteractive('df-eb0925f6-67b8-4ca1-9c1e-d6ced60b2dcd')\"\n",
              "              title=\"Convert this dataframe to an interactive table.\"\n",
              "              style=\"display:none;\">\n",
              "        \n",
              "  <svg xmlns=\"http://www.w3.org/2000/svg\" height=\"24px\"viewBox=\"0 0 24 24\"\n",
              "       width=\"24px\">\n",
              "    <path d=\"M0 0h24v24H0V0z\" fill=\"none\"/>\n",
              "    <path d=\"M18.56 5.44l.94 2.06.94-2.06 2.06-.94-2.06-.94-.94-2.06-.94 2.06-2.06.94zm-11 1L8.5 8.5l.94-2.06 2.06-.94-2.06-.94L8.5 2.5l-.94 2.06-2.06.94zm10 10l.94 2.06.94-2.06 2.06-.94-2.06-.94-.94-2.06-.94 2.06-2.06.94z\"/><path d=\"M17.41 7.96l-1.37-1.37c-.4-.4-.92-.59-1.43-.59-.52 0-1.04.2-1.43.59L10.3 9.45l-7.72 7.72c-.78.78-.78 2.05 0 2.83L4 21.41c.39.39.9.59 1.41.59.51 0 1.02-.2 1.41-.59l7.78-7.78 2.81-2.81c.8-.78.8-2.07 0-2.86zM5.41 20L4 18.59l7.72-7.72 1.47 1.35L5.41 20z\"/>\n",
              "  </svg>\n",
              "      </button>\n",
              "      \n",
              "  <style>\n",
              "    .colab-df-container {\n",
              "      display:flex;\n",
              "      flex-wrap:wrap;\n",
              "      gap: 12px;\n",
              "    }\n",
              "\n",
              "    .colab-df-convert {\n",
              "      background-color: #E8F0FE;\n",
              "      border: none;\n",
              "      border-radius: 50%;\n",
              "      cursor: pointer;\n",
              "      display: none;\n",
              "      fill: #1967D2;\n",
              "      height: 32px;\n",
              "      padding: 0 0 0 0;\n",
              "      width: 32px;\n",
              "    }\n",
              "\n",
              "    .colab-df-convert:hover {\n",
              "      background-color: #E2EBFA;\n",
              "      box-shadow: 0px 1px 2px rgba(60, 64, 67, 0.3), 0px 1px 3px 1px rgba(60, 64, 67, 0.15);\n",
              "      fill: #174EA6;\n",
              "    }\n",
              "\n",
              "    [theme=dark] .colab-df-convert {\n",
              "      background-color: #3B4455;\n",
              "      fill: #D2E3FC;\n",
              "    }\n",
              "\n",
              "    [theme=dark] .colab-df-convert:hover {\n",
              "      background-color: #434B5C;\n",
              "      box-shadow: 0px 1px 3px 1px rgba(0, 0, 0, 0.15);\n",
              "      filter: drop-shadow(0px 1px 2px rgba(0, 0, 0, 0.3));\n",
              "      fill: #FFFFFF;\n",
              "    }\n",
              "  </style>\n",
              "\n",
              "      <script>\n",
              "        const buttonEl =\n",
              "          document.querySelector('#df-eb0925f6-67b8-4ca1-9c1e-d6ced60b2dcd button.colab-df-convert');\n",
              "        buttonEl.style.display =\n",
              "          google.colab.kernel.accessAllowed ? 'block' : 'none';\n",
              "\n",
              "        async function convertToInteractive(key) {\n",
              "          const element = document.querySelector('#df-eb0925f6-67b8-4ca1-9c1e-d6ced60b2dcd');\n",
              "          const dataTable =\n",
              "            await google.colab.kernel.invokeFunction('convertToInteractive',\n",
              "                                                     [key], {});\n",
              "          if (!dataTable) return;\n",
              "\n",
              "          const docLinkHtml = 'Like what you see? Visit the ' +\n",
              "            '<a target=\"_blank\" href=https://colab.research.google.com/notebooks/data_table.ipynb>data table notebook</a>'\n",
              "            + ' to learn more about interactive tables.';\n",
              "          element.innerHTML = '';\n",
              "          dataTable['output_type'] = 'display_data';\n",
              "          await google.colab.output.renderOutput(dataTable, element);\n",
              "          const docLink = document.createElement('div');\n",
              "          docLink.innerHTML = docLinkHtml;\n",
              "          element.appendChild(docLink);\n",
              "        }\n",
              "      </script>\n",
              "    </div>\n",
              "  </div>\n",
              "  "
            ]
          },
          "metadata": {},
          "execution_count": 8
        }
      ]
    },
    {
      "cell_type": "code",
      "source": [
        "df = df.merge(df_a[df_a['count']>100].loc[:,['article_id']],on='article_id')\n",
        "df"
      ],
      "metadata": {
        "colab": {
          "base_uri": "https://localhost:8080/",
          "height": 661
        },
        "id": "YbOx_62oY9xM",
        "outputId": "4ce35439-7bd0-4c0d-f217-077f7727d564"
      },
      "execution_count": null,
      "outputs": [
        {
          "output_type": "execute_result",
          "data": {
            "text/plain": [
              "               t_dat                                        customer_id  \\\n",
              "0         2018-09-20  00007d2de826758b65a93dd24ce629ed66842531df6699...   \n",
              "1         2018-11-08  018584209ee49c1e2a461c7773bd642306432ff77eef6f...   \n",
              "2         2018-09-24  020bf2b7e1b1d36c8b7ea7e09782d5cfc7d4c31a740660...   \n",
              "3         2018-09-20  021bfdd3e66576efce4fdffc66c8e7837abad6ac50c10d...   \n",
              "4         2018-09-20  034f0c7ca393e5fad0a9d12f71c54e346fb65e9fcb2df6...   \n",
              "...              ...                                                ...   \n",
              "17968024  2019-05-19  6b031bc09fec0f0e97b989c333aa52a4bf572473ec32c7...   \n",
              "17968025  2019-06-11  ccd9c73ef4561ba20db44f6668b8ccc300c5afe4e4c378...   \n",
              "17968026  2019-06-10  94126b872462f5b81b133cced21880c03d1fbd70c74b7d...   \n",
              "17968027  2019-07-14  f4fcf9db9bf849c701a629135baab99fe359d8a60fb3fd...   \n",
              "17968028  2019-08-26  4bf942c1a5cd3ca32d7e9fb86ec62c3785ba95b88e2797...   \n",
              "\n",
              "          article_id     price  sales_channel_id  \n",
              "0          685687003  0.016932                 2  \n",
              "1          685687003  0.033881                 2  \n",
              "2          685687003  0.016932                 2  \n",
              "3          685687003  0.016932                 2  \n",
              "4          685687003  0.016932                 2  \n",
              "...              ...       ...               ...  \n",
              "17968024   654266011  0.022017                 2  \n",
              "17968025   654266011  0.022017                 2  \n",
              "17968026   654266011  0.022017                 1  \n",
              "17968027   654266011  0.022017                 2  \n",
              "17968028   654266011  0.011847                 1  \n",
              "\n",
              "[17968029 rows x 5 columns]"
            ],
            "text/html": [
              "\n",
              "  <div id=\"df-d477fb49-f6ae-418e-a97b-a1a75bb70f52\">\n",
              "    <div class=\"colab-df-container\">\n",
              "      <div>\n",
              "<style scoped>\n",
              "    .dataframe tbody tr th:only-of-type {\n",
              "        vertical-align: middle;\n",
              "    }\n",
              "\n",
              "    .dataframe tbody tr th {\n",
              "        vertical-align: top;\n",
              "    }\n",
              "\n",
              "    .dataframe thead th {\n",
              "        text-align: right;\n",
              "    }\n",
              "</style>\n",
              "<table border=\"1\" class=\"dataframe\">\n",
              "  <thead>\n",
              "    <tr style=\"text-align: right;\">\n",
              "      <th></th>\n",
              "      <th>t_dat</th>\n",
              "      <th>customer_id</th>\n",
              "      <th>article_id</th>\n",
              "      <th>price</th>\n",
              "      <th>sales_channel_id</th>\n",
              "    </tr>\n",
              "  </thead>\n",
              "  <tbody>\n",
              "    <tr>\n",
              "      <th>0</th>\n",
              "      <td>2018-09-20</td>\n",
              "      <td>00007d2de826758b65a93dd24ce629ed66842531df6699...</td>\n",
              "      <td>685687003</td>\n",
              "      <td>0.016932</td>\n",
              "      <td>2</td>\n",
              "    </tr>\n",
              "    <tr>\n",
              "      <th>1</th>\n",
              "      <td>2018-11-08</td>\n",
              "      <td>018584209ee49c1e2a461c7773bd642306432ff77eef6f...</td>\n",
              "      <td>685687003</td>\n",
              "      <td>0.033881</td>\n",
              "      <td>2</td>\n",
              "    </tr>\n",
              "    <tr>\n",
              "      <th>2</th>\n",
              "      <td>2018-09-24</td>\n",
              "      <td>020bf2b7e1b1d36c8b7ea7e09782d5cfc7d4c31a740660...</td>\n",
              "      <td>685687003</td>\n",
              "      <td>0.016932</td>\n",
              "      <td>2</td>\n",
              "    </tr>\n",
              "    <tr>\n",
              "      <th>3</th>\n",
              "      <td>2018-09-20</td>\n",
              "      <td>021bfdd3e66576efce4fdffc66c8e7837abad6ac50c10d...</td>\n",
              "      <td>685687003</td>\n",
              "      <td>0.016932</td>\n",
              "      <td>2</td>\n",
              "    </tr>\n",
              "    <tr>\n",
              "      <th>4</th>\n",
              "      <td>2018-09-20</td>\n",
              "      <td>034f0c7ca393e5fad0a9d12f71c54e346fb65e9fcb2df6...</td>\n",
              "      <td>685687003</td>\n",
              "      <td>0.016932</td>\n",
              "      <td>2</td>\n",
              "    </tr>\n",
              "    <tr>\n",
              "      <th>...</th>\n",
              "      <td>...</td>\n",
              "      <td>...</td>\n",
              "      <td>...</td>\n",
              "      <td>...</td>\n",
              "      <td>...</td>\n",
              "    </tr>\n",
              "    <tr>\n",
              "      <th>17968024</th>\n",
              "      <td>2019-05-19</td>\n",
              "      <td>6b031bc09fec0f0e97b989c333aa52a4bf572473ec32c7...</td>\n",
              "      <td>654266011</td>\n",
              "      <td>0.022017</td>\n",
              "      <td>2</td>\n",
              "    </tr>\n",
              "    <tr>\n",
              "      <th>17968025</th>\n",
              "      <td>2019-06-11</td>\n",
              "      <td>ccd9c73ef4561ba20db44f6668b8ccc300c5afe4e4c378...</td>\n",
              "      <td>654266011</td>\n",
              "      <td>0.022017</td>\n",
              "      <td>2</td>\n",
              "    </tr>\n",
              "    <tr>\n",
              "      <th>17968026</th>\n",
              "      <td>2019-06-10</td>\n",
              "      <td>94126b872462f5b81b133cced21880c03d1fbd70c74b7d...</td>\n",
              "      <td>654266011</td>\n",
              "      <td>0.022017</td>\n",
              "      <td>1</td>\n",
              "    </tr>\n",
              "    <tr>\n",
              "      <th>17968027</th>\n",
              "      <td>2019-07-14</td>\n",
              "      <td>f4fcf9db9bf849c701a629135baab99fe359d8a60fb3fd...</td>\n",
              "      <td>654266011</td>\n",
              "      <td>0.022017</td>\n",
              "      <td>2</td>\n",
              "    </tr>\n",
              "    <tr>\n",
              "      <th>17968028</th>\n",
              "      <td>2019-08-26</td>\n",
              "      <td>4bf942c1a5cd3ca32d7e9fb86ec62c3785ba95b88e2797...</td>\n",
              "      <td>654266011</td>\n",
              "      <td>0.011847</td>\n",
              "      <td>1</td>\n",
              "    </tr>\n",
              "  </tbody>\n",
              "</table>\n",
              "<p>17968029 rows × 5 columns</p>\n",
              "</div>\n",
              "      <button class=\"colab-df-convert\" onclick=\"convertToInteractive('df-d477fb49-f6ae-418e-a97b-a1a75bb70f52')\"\n",
              "              title=\"Convert this dataframe to an interactive table.\"\n",
              "              style=\"display:none;\">\n",
              "        \n",
              "  <svg xmlns=\"http://www.w3.org/2000/svg\" height=\"24px\"viewBox=\"0 0 24 24\"\n",
              "       width=\"24px\">\n",
              "    <path d=\"M0 0h24v24H0V0z\" fill=\"none\"/>\n",
              "    <path d=\"M18.56 5.44l.94 2.06.94-2.06 2.06-.94-2.06-.94-.94-2.06-.94 2.06-2.06.94zm-11 1L8.5 8.5l.94-2.06 2.06-.94-2.06-.94L8.5 2.5l-.94 2.06-2.06.94zm10 10l.94 2.06.94-2.06 2.06-.94-2.06-.94-.94-2.06-.94 2.06-2.06.94z\"/><path d=\"M17.41 7.96l-1.37-1.37c-.4-.4-.92-.59-1.43-.59-.52 0-1.04.2-1.43.59L10.3 9.45l-7.72 7.72c-.78.78-.78 2.05 0 2.83L4 21.41c.39.39.9.59 1.41.59.51 0 1.02-.2 1.41-.59l7.78-7.78 2.81-2.81c.8-.78.8-2.07 0-2.86zM5.41 20L4 18.59l7.72-7.72 1.47 1.35L5.41 20z\"/>\n",
              "  </svg>\n",
              "      </button>\n",
              "      \n",
              "  <style>\n",
              "    .colab-df-container {\n",
              "      display:flex;\n",
              "      flex-wrap:wrap;\n",
              "      gap: 12px;\n",
              "    }\n",
              "\n",
              "    .colab-df-convert {\n",
              "      background-color: #E8F0FE;\n",
              "      border: none;\n",
              "      border-radius: 50%;\n",
              "      cursor: pointer;\n",
              "      display: none;\n",
              "      fill: #1967D2;\n",
              "      height: 32px;\n",
              "      padding: 0 0 0 0;\n",
              "      width: 32px;\n",
              "    }\n",
              "\n",
              "    .colab-df-convert:hover {\n",
              "      background-color: #E2EBFA;\n",
              "      box-shadow: 0px 1px 2px rgba(60, 64, 67, 0.3), 0px 1px 3px 1px rgba(60, 64, 67, 0.15);\n",
              "      fill: #174EA6;\n",
              "    }\n",
              "\n",
              "    [theme=dark] .colab-df-convert {\n",
              "      background-color: #3B4455;\n",
              "      fill: #D2E3FC;\n",
              "    }\n",
              "\n",
              "    [theme=dark] .colab-df-convert:hover {\n",
              "      background-color: #434B5C;\n",
              "      box-shadow: 0px 1px 3px 1px rgba(0, 0, 0, 0.15);\n",
              "      filter: drop-shadow(0px 1px 2px rgba(0, 0, 0, 0.3));\n",
              "      fill: #FFFFFF;\n",
              "    }\n",
              "  </style>\n",
              "\n",
              "      <script>\n",
              "        const buttonEl =\n",
              "          document.querySelector('#df-d477fb49-f6ae-418e-a97b-a1a75bb70f52 button.colab-df-convert');\n",
              "        buttonEl.style.display =\n",
              "          google.colab.kernel.accessAllowed ? 'block' : 'none';\n",
              "\n",
              "        async function convertToInteractive(key) {\n",
              "          const element = document.querySelector('#df-d477fb49-f6ae-418e-a97b-a1a75bb70f52');\n",
              "          const dataTable =\n",
              "            await google.colab.kernel.invokeFunction('convertToInteractive',\n",
              "                                                     [key], {});\n",
              "          if (!dataTable) return;\n",
              "\n",
              "          const docLinkHtml = 'Like what you see? Visit the ' +\n",
              "            '<a target=\"_blank\" href=https://colab.research.google.com/notebooks/data_table.ipynb>data table notebook</a>'\n",
              "            + ' to learn more about interactive tables.';\n",
              "          element.innerHTML = '';\n",
              "          dataTable['output_type'] = 'display_data';\n",
              "          await google.colab.output.renderOutput(dataTable, element);\n",
              "          const docLink = document.createElement('div');\n",
              "          docLink.innerHTML = docLinkHtml;\n",
              "          element.appendChild(docLink);\n",
              "        }\n",
              "      </script>\n",
              "    </div>\n",
              "  </div>\n",
              "  "
            ]
          },
          "metadata": {},
          "execution_count": 9
        }
      ]
    },
    {
      "cell_type": "code",
      "source": [
        "df=df.iloc[:,1:3]\n",
        "df"
      ],
      "metadata": {
        "id": "TTl8_FyxAJ2R",
        "colab": {
          "base_uri": "https://localhost:8080/",
          "height": 424
        },
        "outputId": "970af18f-3304-466f-fd5e-e9bce204fce6"
      },
      "execution_count": null,
      "outputs": [
        {
          "output_type": "execute_result",
          "data": {
            "text/plain": [
              "                                                customer_id  article_id\n",
              "0         00007d2de826758b65a93dd24ce629ed66842531df6699...   685687003\n",
              "1         018584209ee49c1e2a461c7773bd642306432ff77eef6f...   685687003\n",
              "2         020bf2b7e1b1d36c8b7ea7e09782d5cfc7d4c31a740660...   685687003\n",
              "3         021bfdd3e66576efce4fdffc66c8e7837abad6ac50c10d...   685687003\n",
              "4         034f0c7ca393e5fad0a9d12f71c54e346fb65e9fcb2df6...   685687003\n",
              "...                                                     ...         ...\n",
              "17968024  6b031bc09fec0f0e97b989c333aa52a4bf572473ec32c7...   654266011\n",
              "17968025  ccd9c73ef4561ba20db44f6668b8ccc300c5afe4e4c378...   654266011\n",
              "17968026  94126b872462f5b81b133cced21880c03d1fbd70c74b7d...   654266011\n",
              "17968027  f4fcf9db9bf849c701a629135baab99fe359d8a60fb3fd...   654266011\n",
              "17968028  4bf942c1a5cd3ca32d7e9fb86ec62c3785ba95b88e2797...   654266011\n",
              "\n",
              "[17968029 rows x 2 columns]"
            ],
            "text/html": [
              "\n",
              "  <div id=\"df-6d64ce6a-221a-4ed4-b5a1-ff9e1b0647cb\">\n",
              "    <div class=\"colab-df-container\">\n",
              "      <div>\n",
              "<style scoped>\n",
              "    .dataframe tbody tr th:only-of-type {\n",
              "        vertical-align: middle;\n",
              "    }\n",
              "\n",
              "    .dataframe tbody tr th {\n",
              "        vertical-align: top;\n",
              "    }\n",
              "\n",
              "    .dataframe thead th {\n",
              "        text-align: right;\n",
              "    }\n",
              "</style>\n",
              "<table border=\"1\" class=\"dataframe\">\n",
              "  <thead>\n",
              "    <tr style=\"text-align: right;\">\n",
              "      <th></th>\n",
              "      <th>customer_id</th>\n",
              "      <th>article_id</th>\n",
              "    </tr>\n",
              "  </thead>\n",
              "  <tbody>\n",
              "    <tr>\n",
              "      <th>0</th>\n",
              "      <td>00007d2de826758b65a93dd24ce629ed66842531df6699...</td>\n",
              "      <td>685687003</td>\n",
              "    </tr>\n",
              "    <tr>\n",
              "      <th>1</th>\n",
              "      <td>018584209ee49c1e2a461c7773bd642306432ff77eef6f...</td>\n",
              "      <td>685687003</td>\n",
              "    </tr>\n",
              "    <tr>\n",
              "      <th>2</th>\n",
              "      <td>020bf2b7e1b1d36c8b7ea7e09782d5cfc7d4c31a740660...</td>\n",
              "      <td>685687003</td>\n",
              "    </tr>\n",
              "    <tr>\n",
              "      <th>3</th>\n",
              "      <td>021bfdd3e66576efce4fdffc66c8e7837abad6ac50c10d...</td>\n",
              "      <td>685687003</td>\n",
              "    </tr>\n",
              "    <tr>\n",
              "      <th>4</th>\n",
              "      <td>034f0c7ca393e5fad0a9d12f71c54e346fb65e9fcb2df6...</td>\n",
              "      <td>685687003</td>\n",
              "    </tr>\n",
              "    <tr>\n",
              "      <th>...</th>\n",
              "      <td>...</td>\n",
              "      <td>...</td>\n",
              "    </tr>\n",
              "    <tr>\n",
              "      <th>17968024</th>\n",
              "      <td>6b031bc09fec0f0e97b989c333aa52a4bf572473ec32c7...</td>\n",
              "      <td>654266011</td>\n",
              "    </tr>\n",
              "    <tr>\n",
              "      <th>17968025</th>\n",
              "      <td>ccd9c73ef4561ba20db44f6668b8ccc300c5afe4e4c378...</td>\n",
              "      <td>654266011</td>\n",
              "    </tr>\n",
              "    <tr>\n",
              "      <th>17968026</th>\n",
              "      <td>94126b872462f5b81b133cced21880c03d1fbd70c74b7d...</td>\n",
              "      <td>654266011</td>\n",
              "    </tr>\n",
              "    <tr>\n",
              "      <th>17968027</th>\n",
              "      <td>f4fcf9db9bf849c701a629135baab99fe359d8a60fb3fd...</td>\n",
              "      <td>654266011</td>\n",
              "    </tr>\n",
              "    <tr>\n",
              "      <th>17968028</th>\n",
              "      <td>4bf942c1a5cd3ca32d7e9fb86ec62c3785ba95b88e2797...</td>\n",
              "      <td>654266011</td>\n",
              "    </tr>\n",
              "  </tbody>\n",
              "</table>\n",
              "<p>17968029 rows × 2 columns</p>\n",
              "</div>\n",
              "      <button class=\"colab-df-convert\" onclick=\"convertToInteractive('df-6d64ce6a-221a-4ed4-b5a1-ff9e1b0647cb')\"\n",
              "              title=\"Convert this dataframe to an interactive table.\"\n",
              "              style=\"display:none;\">\n",
              "        \n",
              "  <svg xmlns=\"http://www.w3.org/2000/svg\" height=\"24px\"viewBox=\"0 0 24 24\"\n",
              "       width=\"24px\">\n",
              "    <path d=\"M0 0h24v24H0V0z\" fill=\"none\"/>\n",
              "    <path d=\"M18.56 5.44l.94 2.06.94-2.06 2.06-.94-2.06-.94-.94-2.06-.94 2.06-2.06.94zm-11 1L8.5 8.5l.94-2.06 2.06-.94-2.06-.94L8.5 2.5l-.94 2.06-2.06.94zm10 10l.94 2.06.94-2.06 2.06-.94-2.06-.94-.94-2.06-.94 2.06-2.06.94z\"/><path d=\"M17.41 7.96l-1.37-1.37c-.4-.4-.92-.59-1.43-.59-.52 0-1.04.2-1.43.59L10.3 9.45l-7.72 7.72c-.78.78-.78 2.05 0 2.83L4 21.41c.39.39.9.59 1.41.59.51 0 1.02-.2 1.41-.59l7.78-7.78 2.81-2.81c.8-.78.8-2.07 0-2.86zM5.41 20L4 18.59l7.72-7.72 1.47 1.35L5.41 20z\"/>\n",
              "  </svg>\n",
              "      </button>\n",
              "      \n",
              "  <style>\n",
              "    .colab-df-container {\n",
              "      display:flex;\n",
              "      flex-wrap:wrap;\n",
              "      gap: 12px;\n",
              "    }\n",
              "\n",
              "    .colab-df-convert {\n",
              "      background-color: #E8F0FE;\n",
              "      border: none;\n",
              "      border-radius: 50%;\n",
              "      cursor: pointer;\n",
              "      display: none;\n",
              "      fill: #1967D2;\n",
              "      height: 32px;\n",
              "      padding: 0 0 0 0;\n",
              "      width: 32px;\n",
              "    }\n",
              "\n",
              "    .colab-df-convert:hover {\n",
              "      background-color: #E2EBFA;\n",
              "      box-shadow: 0px 1px 2px rgba(60, 64, 67, 0.3), 0px 1px 3px 1px rgba(60, 64, 67, 0.15);\n",
              "      fill: #174EA6;\n",
              "    }\n",
              "\n",
              "    [theme=dark] .colab-df-convert {\n",
              "      background-color: #3B4455;\n",
              "      fill: #D2E3FC;\n",
              "    }\n",
              "\n",
              "    [theme=dark] .colab-df-convert:hover {\n",
              "      background-color: #434B5C;\n",
              "      box-shadow: 0px 1px 3px 1px rgba(0, 0, 0, 0.15);\n",
              "      filter: drop-shadow(0px 1px 2px rgba(0, 0, 0, 0.3));\n",
              "      fill: #FFFFFF;\n",
              "    }\n",
              "  </style>\n",
              "\n",
              "      <script>\n",
              "        const buttonEl =\n",
              "          document.querySelector('#df-6d64ce6a-221a-4ed4-b5a1-ff9e1b0647cb button.colab-df-convert');\n",
              "        buttonEl.style.display =\n",
              "          google.colab.kernel.accessAllowed ? 'block' : 'none';\n",
              "\n",
              "        async function convertToInteractive(key) {\n",
              "          const element = document.querySelector('#df-6d64ce6a-221a-4ed4-b5a1-ff9e1b0647cb');\n",
              "          const dataTable =\n",
              "            await google.colab.kernel.invokeFunction('convertToInteractive',\n",
              "                                                     [key], {});\n",
              "          if (!dataTable) return;\n",
              "\n",
              "          const docLinkHtml = 'Like what you see? Visit the ' +\n",
              "            '<a target=\"_blank\" href=https://colab.research.google.com/notebooks/data_table.ipynb>data table notebook</a>'\n",
              "            + ' to learn more about interactive tables.';\n",
              "          element.innerHTML = '';\n",
              "          dataTable['output_type'] = 'display_data';\n",
              "          await google.colab.output.renderOutput(dataTable, element);\n",
              "          const docLink = document.createElement('div');\n",
              "          docLink.innerHTML = docLinkHtml;\n",
              "          element.appendChild(docLink);\n",
              "        }\n",
              "      </script>\n",
              "    </div>\n",
              "  </div>\n",
              "  "
            ]
          },
          "metadata": {},
          "execution_count": 10
        }
      ]
    },
    {
      "cell_type": "code",
      "source": [
        "users_ids = df['customer_id'].unique()\n",
        "users_dic = {u:j for u,j in zip(users_ids,range(len(users_ids)))}"
      ],
      "metadata": {
        "id": "fmHx08hXjnIf"
      },
      "execution_count": null,
      "outputs": []
    },
    {
      "cell_type": "code",
      "source": [
        "items_ids = df['article_id'].unique()\n",
        "items_dic = {i:j for i,j in zip(items_ids ,range(len(items_ids)))}"
      ],
      "metadata": {
        "id": "uVpuxjUnjpsS"
      },
      "execution_count": null,
      "outputs": []
    },
    {
      "cell_type": "code",
      "source": [
        "df['customer_id'] = df['customer_id'].map(users_dic)\n",
        "df['article_id'] = df['article_id'].map(items_dic)\n",
        "df"
      ],
      "metadata": {
        "colab": {
          "base_uri": "https://localhost:8080/",
          "height": 424
        },
        "id": "wITVakK2js5W",
        "outputId": "639a8955-aa61-4e08-fbd9-5b89d6c8817b"
      },
      "execution_count": null,
      "outputs": [
        {
          "output_type": "execute_result",
          "data": {
            "text/plain": [
              "          customer_id  article_id\n",
              "0                   0           0\n",
              "1                   1           0\n",
              "2                   2           0\n",
              "3                   3           0\n",
              "4                   4           0\n",
              "...               ...         ...\n",
              "17968024       182334       42372\n",
              "17968025       305768       42372\n",
              "17968026       283744       42372\n",
              "17968027       302297       42372\n",
              "17968028       262526       42372\n",
              "\n",
              "[17968029 rows x 2 columns]"
            ],
            "text/html": [
              "\n",
              "  <div id=\"df-0000822e-4dfa-4803-a0e8-306c92a2ccfb\">\n",
              "    <div class=\"colab-df-container\">\n",
              "      <div>\n",
              "<style scoped>\n",
              "    .dataframe tbody tr th:only-of-type {\n",
              "        vertical-align: middle;\n",
              "    }\n",
              "\n",
              "    .dataframe tbody tr th {\n",
              "        vertical-align: top;\n",
              "    }\n",
              "\n",
              "    .dataframe thead th {\n",
              "        text-align: right;\n",
              "    }\n",
              "</style>\n",
              "<table border=\"1\" class=\"dataframe\">\n",
              "  <thead>\n",
              "    <tr style=\"text-align: right;\">\n",
              "      <th></th>\n",
              "      <th>customer_id</th>\n",
              "      <th>article_id</th>\n",
              "    </tr>\n",
              "  </thead>\n",
              "  <tbody>\n",
              "    <tr>\n",
              "      <th>0</th>\n",
              "      <td>0</td>\n",
              "      <td>0</td>\n",
              "    </tr>\n",
              "    <tr>\n",
              "      <th>1</th>\n",
              "      <td>1</td>\n",
              "      <td>0</td>\n",
              "    </tr>\n",
              "    <tr>\n",
              "      <th>2</th>\n",
              "      <td>2</td>\n",
              "      <td>0</td>\n",
              "    </tr>\n",
              "    <tr>\n",
              "      <th>3</th>\n",
              "      <td>3</td>\n",
              "      <td>0</td>\n",
              "    </tr>\n",
              "    <tr>\n",
              "      <th>4</th>\n",
              "      <td>4</td>\n",
              "      <td>0</td>\n",
              "    </tr>\n",
              "    <tr>\n",
              "      <th>...</th>\n",
              "      <td>...</td>\n",
              "      <td>...</td>\n",
              "    </tr>\n",
              "    <tr>\n",
              "      <th>17968024</th>\n",
              "      <td>182334</td>\n",
              "      <td>42372</td>\n",
              "    </tr>\n",
              "    <tr>\n",
              "      <th>17968025</th>\n",
              "      <td>305768</td>\n",
              "      <td>42372</td>\n",
              "    </tr>\n",
              "    <tr>\n",
              "      <th>17968026</th>\n",
              "      <td>283744</td>\n",
              "      <td>42372</td>\n",
              "    </tr>\n",
              "    <tr>\n",
              "      <th>17968027</th>\n",
              "      <td>302297</td>\n",
              "      <td>42372</td>\n",
              "    </tr>\n",
              "    <tr>\n",
              "      <th>17968028</th>\n",
              "      <td>262526</td>\n",
              "      <td>42372</td>\n",
              "    </tr>\n",
              "  </tbody>\n",
              "</table>\n",
              "<p>17968029 rows × 2 columns</p>\n",
              "</div>\n",
              "      <button class=\"colab-df-convert\" onclick=\"convertToInteractive('df-0000822e-4dfa-4803-a0e8-306c92a2ccfb')\"\n",
              "              title=\"Convert this dataframe to an interactive table.\"\n",
              "              style=\"display:none;\">\n",
              "        \n",
              "  <svg xmlns=\"http://www.w3.org/2000/svg\" height=\"24px\"viewBox=\"0 0 24 24\"\n",
              "       width=\"24px\">\n",
              "    <path d=\"M0 0h24v24H0V0z\" fill=\"none\"/>\n",
              "    <path d=\"M18.56 5.44l.94 2.06.94-2.06 2.06-.94-2.06-.94-.94-2.06-.94 2.06-2.06.94zm-11 1L8.5 8.5l.94-2.06 2.06-.94-2.06-.94L8.5 2.5l-.94 2.06-2.06.94zm10 10l.94 2.06.94-2.06 2.06-.94-2.06-.94-.94-2.06-.94 2.06-2.06.94z\"/><path d=\"M17.41 7.96l-1.37-1.37c-.4-.4-.92-.59-1.43-.59-.52 0-1.04.2-1.43.59L10.3 9.45l-7.72 7.72c-.78.78-.78 2.05 0 2.83L4 21.41c.39.39.9.59 1.41.59.51 0 1.02-.2 1.41-.59l7.78-7.78 2.81-2.81c.8-.78.8-2.07 0-2.86zM5.41 20L4 18.59l7.72-7.72 1.47 1.35L5.41 20z\"/>\n",
              "  </svg>\n",
              "      </button>\n",
              "      \n",
              "  <style>\n",
              "    .colab-df-container {\n",
              "      display:flex;\n",
              "      flex-wrap:wrap;\n",
              "      gap: 12px;\n",
              "    }\n",
              "\n",
              "    .colab-df-convert {\n",
              "      background-color: #E8F0FE;\n",
              "      border: none;\n",
              "      border-radius: 50%;\n",
              "      cursor: pointer;\n",
              "      display: none;\n",
              "      fill: #1967D2;\n",
              "      height: 32px;\n",
              "      padding: 0 0 0 0;\n",
              "      width: 32px;\n",
              "    }\n",
              "\n",
              "    .colab-df-convert:hover {\n",
              "      background-color: #E2EBFA;\n",
              "      box-shadow: 0px 1px 2px rgba(60, 64, 67, 0.3), 0px 1px 3px 1px rgba(60, 64, 67, 0.15);\n",
              "      fill: #174EA6;\n",
              "    }\n",
              "\n",
              "    [theme=dark] .colab-df-convert {\n",
              "      background-color: #3B4455;\n",
              "      fill: #D2E3FC;\n",
              "    }\n",
              "\n",
              "    [theme=dark] .colab-df-convert:hover {\n",
              "      background-color: #434B5C;\n",
              "      box-shadow: 0px 1px 3px 1px rgba(0, 0, 0, 0.15);\n",
              "      filter: drop-shadow(0px 1px 2px rgba(0, 0, 0, 0.3));\n",
              "      fill: #FFFFFF;\n",
              "    }\n",
              "  </style>\n",
              "\n",
              "      <script>\n",
              "        const buttonEl =\n",
              "          document.querySelector('#df-0000822e-4dfa-4803-a0e8-306c92a2ccfb button.colab-df-convert');\n",
              "        buttonEl.style.display =\n",
              "          google.colab.kernel.accessAllowed ? 'block' : 'none';\n",
              "\n",
              "        async function convertToInteractive(key) {\n",
              "          const element = document.querySelector('#df-0000822e-4dfa-4803-a0e8-306c92a2ccfb');\n",
              "          const dataTable =\n",
              "            await google.colab.kernel.invokeFunction('convertToInteractive',\n",
              "                                                     [key], {});\n",
              "          if (!dataTable) return;\n",
              "\n",
              "          const docLinkHtml = 'Like what you see? Visit the ' +\n",
              "            '<a target=\"_blank\" href=https://colab.research.google.com/notebooks/data_table.ipynb>data table notebook</a>'\n",
              "            + ' to learn more about interactive tables.';\n",
              "          element.innerHTML = '';\n",
              "          dataTable['output_type'] = 'display_data';\n",
              "          await google.colab.output.renderOutput(dataTable, element);\n",
              "          const docLink = document.createElement('div');\n",
              "          docLink.innerHTML = docLinkHtml;\n",
              "          element.appendChild(docLink);\n",
              "        }\n",
              "      </script>\n",
              "    </div>\n",
              "  </div>\n",
              "  "
            ]
          },
          "metadata": {},
          "execution_count": 13
        }
      ]
    },
    {
      "cell_type": "code",
      "source": [
        "# create an SFrame out of df\n",
        "dfS = tc.SFrame(df)\n",
        "dfS"
      ],
      "metadata": {
        "id": "CyroU-2BKKJ9",
        "colab": {
          "base_uri": "https://localhost:8080/",
          "height": 284
        },
        "outputId": "70ff2d38-1aeb-4b20-85a4-34aba924271d"
      },
      "execution_count": null,
      "outputs": [
        {
          "output_type": "execute_result",
          "data": {
            "text/plain": [
              "Columns:\n",
              "\tcustomer_id\tint\n",
              "\tarticle_id\tint\n",
              "\n",
              "Rows: 17968029\n",
              "\n",
              "Data:\n",
              "+-------------+------------+\n",
              "| customer_id | article_id |\n",
              "+-------------+------------+\n",
              "|      0      |     0      |\n",
              "|      1      |     0      |\n",
              "|      2      |     0      |\n",
              "|      3      |     0      |\n",
              "|      4      |     0      |\n",
              "|      5      |     0      |\n",
              "|      6      |     0      |\n",
              "|      7      |     0      |\n",
              "|      8      |     0      |\n",
              "|      9      |     0      |\n",
              "+-------------+------------+\n",
              "[17968029 rows x 2 columns]\n",
              "Note: Only the head of the SFrame is printed.\n",
              "You can use print_rows(num_rows=m, num_columns=n) to print more rows and columns."
            ],
            "text/html": [
              "<div style=\"max-height:1000px;max-width:1500px;overflow:auto;\"><table frame=\"box\" rules=\"cols\">\n",
              "    <tr>\n",
              "        <th style=\"padding-left: 1em; padding-right: 1em; text-align: center\">customer_id</th>\n",
              "        <th style=\"padding-left: 1em; padding-right: 1em; text-align: center\">article_id</th>\n",
              "    </tr>\n",
              "    <tr>\n",
              "        <td style=\"padding-left: 1em; padding-right: 1em; text-align: center; vertical-align: top\">0</td>\n",
              "        <td style=\"padding-left: 1em; padding-right: 1em; text-align: center; vertical-align: top\">0</td>\n",
              "    </tr>\n",
              "    <tr>\n",
              "        <td style=\"padding-left: 1em; padding-right: 1em; text-align: center; vertical-align: top\">1</td>\n",
              "        <td style=\"padding-left: 1em; padding-right: 1em; text-align: center; vertical-align: top\">0</td>\n",
              "    </tr>\n",
              "    <tr>\n",
              "        <td style=\"padding-left: 1em; padding-right: 1em; text-align: center; vertical-align: top\">2</td>\n",
              "        <td style=\"padding-left: 1em; padding-right: 1em; text-align: center; vertical-align: top\">0</td>\n",
              "    </tr>\n",
              "    <tr>\n",
              "        <td style=\"padding-left: 1em; padding-right: 1em; text-align: center; vertical-align: top\">3</td>\n",
              "        <td style=\"padding-left: 1em; padding-right: 1em; text-align: center; vertical-align: top\">0</td>\n",
              "    </tr>\n",
              "    <tr>\n",
              "        <td style=\"padding-left: 1em; padding-right: 1em; text-align: center; vertical-align: top\">4</td>\n",
              "        <td style=\"padding-left: 1em; padding-right: 1em; text-align: center; vertical-align: top\">0</td>\n",
              "    </tr>\n",
              "    <tr>\n",
              "        <td style=\"padding-left: 1em; padding-right: 1em; text-align: center; vertical-align: top\">5</td>\n",
              "        <td style=\"padding-left: 1em; padding-right: 1em; text-align: center; vertical-align: top\">0</td>\n",
              "    </tr>\n",
              "    <tr>\n",
              "        <td style=\"padding-left: 1em; padding-right: 1em; text-align: center; vertical-align: top\">6</td>\n",
              "        <td style=\"padding-left: 1em; padding-right: 1em; text-align: center; vertical-align: top\">0</td>\n",
              "    </tr>\n",
              "    <tr>\n",
              "        <td style=\"padding-left: 1em; padding-right: 1em; text-align: center; vertical-align: top\">7</td>\n",
              "        <td style=\"padding-left: 1em; padding-right: 1em; text-align: center; vertical-align: top\">0</td>\n",
              "    </tr>\n",
              "    <tr>\n",
              "        <td style=\"padding-left: 1em; padding-right: 1em; text-align: center; vertical-align: top\">8</td>\n",
              "        <td style=\"padding-left: 1em; padding-right: 1em; text-align: center; vertical-align: top\">0</td>\n",
              "    </tr>\n",
              "    <tr>\n",
              "        <td style=\"padding-left: 1em; padding-right: 1em; text-align: center; vertical-align: top\">9</td>\n",
              "        <td style=\"padding-left: 1em; padding-right: 1em; text-align: center; vertical-align: top\">0</td>\n",
              "    </tr>\n",
              "</table>\n",
              "[17968029 rows x 2 columns]<br/>Note: Only the head of the SFrame is printed.<br/>You can use print_rows(num_rows=m, num_columns=n) to print more rows and columns.\n",
              "</div>"
            ]
          },
          "metadata": {},
          "execution_count": 14
        }
      ]
    },
    {
      "cell_type": "code",
      "source": [
        "# split data into train and test\n",
        "df_train, df_test = tc.recommender.util.random_split_by_user(dfS,\n",
        "                                                             user_id='customer_id',\n",
        "                                                             item_id='article_id',\n",
        "                                                             max_num_users=90000,\n",
        "                                                             item_test_proportion=0.3,\n",
        "                                                             random_seed=20)"
      ],
      "metadata": {
        "id": "niMDSgVMcaD4"
      },
      "execution_count": null,
      "outputs": []
    },
    {
      "cell_type": "code",
      "source": [
        "df_train.shape"
      ],
      "metadata": {
        "id": "c6GOVqx38HcR",
        "colab": {
          "base_uri": "https://localhost:8080/"
        },
        "outputId": "38adbc14-a617-4ca2-ce82-0cd64c160f61"
      },
      "execution_count": null,
      "outputs": [
        {
          "output_type": "execute_result",
          "data": {
            "text/plain": [
              "(16380622, 2)"
            ]
          },
          "metadata": {},
          "execution_count": 16
        }
      ]
    },
    {
      "cell_type": "code",
      "source": [
        "df_test.shape"
      ],
      "metadata": {
        "id": "tI98_dUt9Cp0",
        "colab": {
          "base_uri": "https://localhost:8080/"
        },
        "outputId": "d9859375-ece1-430a-b92f-a0149460beda"
      },
      "execution_count": null,
      "outputs": [
        {
          "output_type": "execute_result",
          "data": {
            "text/plain": [
              "(1587407, 2)"
            ]
          },
          "metadata": {},
          "execution_count": 17
        }
      ]
    },
    {
      "cell_type": "markdown",
      "source": [
        "# 1 Item similarity recommender"
      ],
      "metadata": {
        "id": "ax5B8LaoKh7G"
      }
    },
    {
      "cell_type": "markdown",
      "source": [
        "## 1-1 Cosine Similarity"
      ],
      "metadata": {
        "id": "W8vRBnjrKxYc"
      }
    },
    {
      "cell_type": "code",
      "source": [
        "cosine = tc.item_similarity_recommender.create(df_train, \n",
        "                                              user_id='customer_id', \n",
        "                                              item_id='article_id',\n",
        "                                              similarity_type='cosine')\n",
        "# recommend k products for a list of users (None corresponds to all users) \n",
        "#recommendation = cosine.recommend(users=None, k=12)\n",
        "# print the n first recommendations\n",
        "#recommendation.print_rows(30)"
      ],
      "metadata": {
        "colab": {
          "base_uri": "https://localhost:8080/",
          "height": 434
        },
        "id": "OCDBsZYF9GMW",
        "outputId": "a4c5cd81-02a4-458b-d577-2e9a1605f69d"
      },
      "execution_count": null,
      "outputs": [
        {
          "output_type": "display_data",
          "data": {
            "text/plain": [
              "Preparing data set."
            ],
            "text/html": [
              "<pre>Preparing data set.</pre>"
            ]
          },
          "metadata": {}
        },
        {
          "output_type": "display_data",
          "data": {
            "text/plain": [
              "    Data has 16380622 observations with 305945 users and 42373 items."
            ],
            "text/html": [
              "<pre>    Data has 16380622 observations with 305945 users and 42373 items.</pre>"
            ]
          },
          "metadata": {}
        },
        {
          "output_type": "display_data",
          "data": {
            "text/plain": [
              "    Data prepared in: 6.01072s"
            ],
            "text/html": [
              "<pre>    Data prepared in: 6.01072s</pre>"
            ]
          },
          "metadata": {}
        },
        {
          "output_type": "display_data",
          "data": {
            "text/plain": [
              "Training model from provided data."
            ],
            "text/html": [
              "<pre>Training model from provided data.</pre>"
            ]
          },
          "metadata": {}
        },
        {
          "output_type": "display_data",
          "data": {
            "text/plain": [
              "Gathering per-item and per-user statistics."
            ],
            "text/html": [
              "<pre>Gathering per-item and per-user statistics.</pre>"
            ]
          },
          "metadata": {}
        },
        {
          "output_type": "display_data",
          "data": {
            "text/plain": [
              "+--------------------------------+------------+"
            ],
            "text/html": [
              "<pre>+--------------------------------+------------+</pre>"
            ]
          },
          "metadata": {}
        },
        {
          "output_type": "display_data",
          "data": {
            "text/plain": [
              "| Elapsed Time (Item Statistics) | % Complete |"
            ],
            "text/html": [
              "<pre>| Elapsed Time (Item Statistics) | % Complete |</pre>"
            ]
          },
          "metadata": {}
        },
        {
          "output_type": "display_data",
          "data": {
            "text/plain": [
              "+--------------------------------+------------+"
            ],
            "text/html": [
              "<pre>+--------------------------------+------------+</pre>"
            ]
          },
          "metadata": {}
        },
        {
          "output_type": "display_data",
          "data": {
            "text/plain": [
              "| 2.239ms                        | 0.25       |"
            ],
            "text/html": [
              "<pre>| 2.239ms                        | 0.25       |</pre>"
            ]
          },
          "metadata": {}
        },
        {
          "output_type": "display_data",
          "data": {
            "text/plain": [
              "| 159.508ms                      | 100        |"
            ],
            "text/html": [
              "<pre>| 159.508ms                      | 100        |</pre>"
            ]
          },
          "metadata": {}
        },
        {
          "output_type": "display_data",
          "data": {
            "text/plain": [
              "+--------------------------------+------------+"
            ],
            "text/html": [
              "<pre>+--------------------------------+------------+</pre>"
            ]
          },
          "metadata": {}
        },
        {
          "output_type": "display_data",
          "data": {
            "text/plain": [
              "Setting up lookup tables."
            ],
            "text/html": [
              "<pre>Setting up lookup tables.</pre>"
            ]
          },
          "metadata": {}
        },
        {
          "output_type": "display_data",
          "data": {
            "text/plain": [
              "Processing data in one pass using dense lookup tables."
            ],
            "text/html": [
              "<pre>Processing data in one pass using dense lookup tables.</pre>"
            ]
          },
          "metadata": {}
        },
        {
          "output_type": "display_data",
          "data": {
            "text/plain": [
              "+-------------------------------------+------------------+-----------------+"
            ],
            "text/html": [
              "<pre>+-------------------------------------+------------------+-----------------+</pre>"
            ]
          },
          "metadata": {}
        },
        {
          "output_type": "display_data",
          "data": {
            "text/plain": [
              "| Elapsed Time (Constructing Lookups) | Total % Complete | Items Processed |"
            ],
            "text/html": [
              "<pre>| Elapsed Time (Constructing Lookups) | Total % Complete | Items Processed |</pre>"
            ]
          },
          "metadata": {}
        },
        {
          "output_type": "display_data",
          "data": {
            "text/plain": [
              "+-------------------------------------+------------------+-----------------+"
            ],
            "text/html": [
              "<pre>+-------------------------------------+------------------+-----------------+</pre>"
            ]
          },
          "metadata": {}
        },
        {
          "output_type": "display_data",
          "data": {
            "text/plain": [
              "| 3.20s                               | 0                | 2               |"
            ],
            "text/html": [
              "<pre>| 3.20s                               | 0                | 2               |</pre>"
            ]
          },
          "metadata": {}
        },
        {
          "output_type": "display_data",
          "data": {
            "text/plain": [
              "| 6.20s                               | 45.25            | 19225           |"
            ],
            "text/html": [
              "<pre>| 6.20s                               | 45.25            | 19225           |</pre>"
            ]
          },
          "metadata": {}
        },
        {
          "output_type": "display_data",
          "data": {
            "text/plain": [
              "| 9.20s                               | 88.75            | 37694           |"
            ],
            "text/html": [
              "<pre>| 9.20s                               | 88.75            | 37694           |</pre>"
            ]
          },
          "metadata": {}
        },
        {
          "output_type": "display_data",
          "data": {
            "text/plain": [
              "| 13.81s                              | 100              | 42373           |"
            ],
            "text/html": [
              "<pre>| 13.81s                              | 100              | 42373           |</pre>"
            ]
          },
          "metadata": {}
        },
        {
          "output_type": "display_data",
          "data": {
            "text/plain": [
              "+-------------------------------------+------------------+-----------------+"
            ],
            "text/html": [
              "<pre>+-------------------------------------+------------------+-----------------+</pre>"
            ]
          },
          "metadata": {}
        },
        {
          "output_type": "display_data",
          "data": {
            "text/plain": [
              "Finalizing lookup tables."
            ],
            "text/html": [
              "<pre>Finalizing lookup tables.</pre>"
            ]
          },
          "metadata": {}
        },
        {
          "output_type": "display_data",
          "data": {
            "text/plain": [
              "Generating candidate set for working with new users."
            ],
            "text/html": [
              "<pre>Generating candidate set for working with new users.</pre>"
            ]
          },
          "metadata": {}
        },
        {
          "output_type": "display_data",
          "data": {
            "text/plain": [
              "Finished training in 15.2818s"
            ],
            "text/html": [
              "<pre>Finished training in 15.2818s</pre>"
            ]
          },
          "metadata": {}
        }
      ]
    },
    {
      "cell_type": "code",
      "source": [
        "recommendation.print_rows(100)"
      ],
      "metadata": {
        "id": "VnH4UBo-T44m"
      },
      "execution_count": null,
      "outputs": []
    },
    {
      "cell_type": "code",
      "source": [
        "# evaluating the model\n",
        "cos_eval = cosine.evaluate_precision_recall(df_test,cutoffs=[1,12])"
      ],
      "metadata": {
        "id": "gq17PZatSVol",
        "colab": {
          "base_uri": "https://localhost:8080/",
          "height": 1000
        },
        "outputId": "31434b09-677f-44a6-eef6-29cf2d3bfcab"
      },
      "execution_count": null,
      "outputs": [
        {
          "output_type": "display_data",
          "data": {
            "text/plain": [
              "recommendations finished on 1000/89981 queries. users per second: 7203.16"
            ],
            "text/html": [
              "<pre>recommendations finished on 1000/89981 queries. users per second: 7203.16</pre>"
            ]
          },
          "metadata": {}
        },
        {
          "output_type": "display_data",
          "data": {
            "text/plain": [
              "recommendations finished on 2000/89981 queries. users per second: 7151.46"
            ],
            "text/html": [
              "<pre>recommendations finished on 2000/89981 queries. users per second: 7151.46</pre>"
            ]
          },
          "metadata": {}
        },
        {
          "output_type": "display_data",
          "data": {
            "text/plain": [
              "recommendations finished on 3000/89981 queries. users per second: 7214.56"
            ],
            "text/html": [
              "<pre>recommendations finished on 3000/89981 queries. users per second: 7214.56</pre>"
            ]
          },
          "metadata": {}
        },
        {
          "output_type": "display_data",
          "data": {
            "text/plain": [
              "recommendations finished on 4000/89981 queries. users per second: 7270.73"
            ],
            "text/html": [
              "<pre>recommendations finished on 4000/89981 queries. users per second: 7270.73</pre>"
            ]
          },
          "metadata": {}
        },
        {
          "output_type": "display_data",
          "data": {
            "text/plain": [
              "recommendations finished on 5000/89981 queries. users per second: 7291.97"
            ],
            "text/html": [
              "<pre>recommendations finished on 5000/89981 queries. users per second: 7291.97</pre>"
            ]
          },
          "metadata": {}
        },
        {
          "output_type": "display_data",
          "data": {
            "text/plain": [
              "recommendations finished on 6000/89981 queries. users per second: 7296.5"
            ],
            "text/html": [
              "<pre>recommendations finished on 6000/89981 queries. users per second: 7296.5</pre>"
            ]
          },
          "metadata": {}
        },
        {
          "output_type": "display_data",
          "data": {
            "text/plain": [
              "recommendations finished on 7000/89981 queries. users per second: 7309.99"
            ],
            "text/html": [
              "<pre>recommendations finished on 7000/89981 queries. users per second: 7309.99</pre>"
            ]
          },
          "metadata": {}
        },
        {
          "output_type": "display_data",
          "data": {
            "text/plain": [
              "recommendations finished on 8000/89981 queries. users per second: 7307.22"
            ],
            "text/html": [
              "<pre>recommendations finished on 8000/89981 queries. users per second: 7307.22</pre>"
            ]
          },
          "metadata": {}
        },
        {
          "output_type": "display_data",
          "data": {
            "text/plain": [
              "recommendations finished on 9000/89981 queries. users per second: 7326.41"
            ],
            "text/html": [
              "<pre>recommendations finished on 9000/89981 queries. users per second: 7326.41</pre>"
            ]
          },
          "metadata": {}
        },
        {
          "output_type": "display_data",
          "data": {
            "text/plain": [
              "recommendations finished on 10000/89981 queries. users per second: 7253.11"
            ],
            "text/html": [
              "<pre>recommendations finished on 10000/89981 queries. users per second: 7253.11</pre>"
            ]
          },
          "metadata": {}
        },
        {
          "output_type": "display_data",
          "data": {
            "text/plain": [
              "recommendations finished on 11000/89981 queries. users per second: 7270.55"
            ],
            "text/html": [
              "<pre>recommendations finished on 11000/89981 queries. users per second: 7270.55</pre>"
            ]
          },
          "metadata": {}
        },
        {
          "output_type": "display_data",
          "data": {
            "text/plain": [
              "recommendations finished on 12000/89981 queries. users per second: 7288.97"
            ],
            "text/html": [
              "<pre>recommendations finished on 12000/89981 queries. users per second: 7288.97</pre>"
            ]
          },
          "metadata": {}
        },
        {
          "output_type": "display_data",
          "data": {
            "text/plain": [
              "recommendations finished on 13000/89981 queries. users per second: 7306.37"
            ],
            "text/html": [
              "<pre>recommendations finished on 13000/89981 queries. users per second: 7306.37</pre>"
            ]
          },
          "metadata": {}
        },
        {
          "output_type": "display_data",
          "data": {
            "text/plain": [
              "recommendations finished on 14000/89981 queries. users per second: 7313.29"
            ],
            "text/html": [
              "<pre>recommendations finished on 14000/89981 queries. users per second: 7313.29</pre>"
            ]
          },
          "metadata": {}
        },
        {
          "output_type": "display_data",
          "data": {
            "text/plain": [
              "recommendations finished on 15000/89981 queries. users per second: 7313.27"
            ],
            "text/html": [
              "<pre>recommendations finished on 15000/89981 queries. users per second: 7313.27</pre>"
            ]
          },
          "metadata": {}
        },
        {
          "output_type": "display_data",
          "data": {
            "text/plain": [
              "recommendations finished on 16000/89981 queries. users per second: 7326.11"
            ],
            "text/html": [
              "<pre>recommendations finished on 16000/89981 queries. users per second: 7326.11</pre>"
            ]
          },
          "metadata": {}
        },
        {
          "output_type": "display_data",
          "data": {
            "text/plain": [
              "recommendations finished on 17000/89981 queries. users per second: 7297.53"
            ],
            "text/html": [
              "<pre>recommendations finished on 17000/89981 queries. users per second: 7297.53</pre>"
            ]
          },
          "metadata": {}
        },
        {
          "output_type": "display_data",
          "data": {
            "text/plain": [
              "recommendations finished on 18000/89981 queries. users per second: 7305.49"
            ],
            "text/html": [
              "<pre>recommendations finished on 18000/89981 queries. users per second: 7305.49</pre>"
            ]
          },
          "metadata": {}
        },
        {
          "output_type": "display_data",
          "data": {
            "text/plain": [
              "recommendations finished on 19000/89981 queries. users per second: 7309.33"
            ],
            "text/html": [
              "<pre>recommendations finished on 19000/89981 queries. users per second: 7309.33</pre>"
            ]
          },
          "metadata": {}
        },
        {
          "output_type": "display_data",
          "data": {
            "text/plain": [
              "recommendations finished on 20000/89981 queries. users per second: 7314.13"
            ],
            "text/html": [
              "<pre>recommendations finished on 20000/89981 queries. users per second: 7314.13</pre>"
            ]
          },
          "metadata": {}
        },
        {
          "output_type": "display_data",
          "data": {
            "text/plain": [
              "recommendations finished on 21000/89981 queries. users per second: 7314.52"
            ],
            "text/html": [
              "<pre>recommendations finished on 21000/89981 queries. users per second: 7314.52</pre>"
            ]
          },
          "metadata": {}
        },
        {
          "output_type": "display_data",
          "data": {
            "text/plain": [
              "recommendations finished on 22000/89981 queries. users per second: 7317.43"
            ],
            "text/html": [
              "<pre>recommendations finished on 22000/89981 queries. users per second: 7317.43</pre>"
            ]
          },
          "metadata": {}
        },
        {
          "output_type": "display_data",
          "data": {
            "text/plain": [
              "recommendations finished on 23000/89981 queries. users per second: 7318.7"
            ],
            "text/html": [
              "<pre>recommendations finished on 23000/89981 queries. users per second: 7318.7</pre>"
            ]
          },
          "metadata": {}
        },
        {
          "output_type": "display_data",
          "data": {
            "text/plain": [
              "recommendations finished on 24000/89981 queries. users per second: 7325.2"
            ],
            "text/html": [
              "<pre>recommendations finished on 24000/89981 queries. users per second: 7325.2</pre>"
            ]
          },
          "metadata": {}
        },
        {
          "output_type": "display_data",
          "data": {
            "text/plain": [
              "recommendations finished on 25000/89981 queries. users per second: 7327.75"
            ],
            "text/html": [
              "<pre>recommendations finished on 25000/89981 queries. users per second: 7327.75</pre>"
            ]
          },
          "metadata": {}
        },
        {
          "output_type": "display_data",
          "data": {
            "text/plain": [
              "recommendations finished on 26000/89981 queries. users per second: 7331.25"
            ],
            "text/html": [
              "<pre>recommendations finished on 26000/89981 queries. users per second: 7331.25</pre>"
            ]
          },
          "metadata": {}
        },
        {
          "output_type": "display_data",
          "data": {
            "text/plain": [
              "recommendations finished on 27000/89981 queries. users per second: 7332.04"
            ],
            "text/html": [
              "<pre>recommendations finished on 27000/89981 queries. users per second: 7332.04</pre>"
            ]
          },
          "metadata": {}
        },
        {
          "output_type": "display_data",
          "data": {
            "text/plain": [
              "recommendations finished on 28000/89981 queries. users per second: 7330.51"
            ],
            "text/html": [
              "<pre>recommendations finished on 28000/89981 queries. users per second: 7330.51</pre>"
            ]
          },
          "metadata": {}
        },
        {
          "output_type": "display_data",
          "data": {
            "text/plain": [
              "recommendations finished on 29000/89981 queries. users per second: 7328.37"
            ],
            "text/html": [
              "<pre>recommendations finished on 29000/89981 queries. users per second: 7328.37</pre>"
            ]
          },
          "metadata": {}
        },
        {
          "output_type": "display_data",
          "data": {
            "text/plain": [
              "recommendations finished on 30000/89981 queries. users per second: 7324.99"
            ],
            "text/html": [
              "<pre>recommendations finished on 30000/89981 queries. users per second: 7324.99</pre>"
            ]
          },
          "metadata": {}
        },
        {
          "output_type": "display_data",
          "data": {
            "text/plain": [
              "recommendations finished on 31000/89981 queries. users per second: 7331.91"
            ],
            "text/html": [
              "<pre>recommendations finished on 31000/89981 queries. users per second: 7331.91</pre>"
            ]
          },
          "metadata": {}
        },
        {
          "output_type": "display_data",
          "data": {
            "text/plain": [
              "recommendations finished on 32000/89981 queries. users per second: 7335.68"
            ],
            "text/html": [
              "<pre>recommendations finished on 32000/89981 queries. users per second: 7335.68</pre>"
            ]
          },
          "metadata": {}
        },
        {
          "output_type": "display_data",
          "data": {
            "text/plain": [
              "recommendations finished on 33000/89981 queries. users per second: 7337.92"
            ],
            "text/html": [
              "<pre>recommendations finished on 33000/89981 queries. users per second: 7337.92</pre>"
            ]
          },
          "metadata": {}
        },
        {
          "output_type": "display_data",
          "data": {
            "text/plain": [
              "recommendations finished on 34000/89981 queries. users per second: 7340.54"
            ],
            "text/html": [
              "<pre>recommendations finished on 34000/89981 queries. users per second: 7340.54</pre>"
            ]
          },
          "metadata": {}
        },
        {
          "output_type": "display_data",
          "data": {
            "text/plain": [
              "recommendations finished on 35000/89981 queries. users per second: 7346.12"
            ],
            "text/html": [
              "<pre>recommendations finished on 35000/89981 queries. users per second: 7346.12</pre>"
            ]
          },
          "metadata": {}
        },
        {
          "output_type": "display_data",
          "data": {
            "text/plain": [
              "recommendations finished on 36000/89981 queries. users per second: 7348.45"
            ],
            "text/html": [
              "<pre>recommendations finished on 36000/89981 queries. users per second: 7348.45</pre>"
            ]
          },
          "metadata": {}
        },
        {
          "output_type": "display_data",
          "data": {
            "text/plain": [
              "recommendations finished on 37000/89981 queries. users per second: 7351.4"
            ],
            "text/html": [
              "<pre>recommendations finished on 37000/89981 queries. users per second: 7351.4</pre>"
            ]
          },
          "metadata": {}
        },
        {
          "output_type": "display_data",
          "data": {
            "text/plain": [
              "recommendations finished on 38000/89981 queries. users per second: 7348.19"
            ],
            "text/html": [
              "<pre>recommendations finished on 38000/89981 queries. users per second: 7348.19</pre>"
            ]
          },
          "metadata": {}
        },
        {
          "output_type": "display_data",
          "data": {
            "text/plain": [
              "recommendations finished on 39000/89981 queries. users per second: 7353.4"
            ],
            "text/html": [
              "<pre>recommendations finished on 39000/89981 queries. users per second: 7353.4</pre>"
            ]
          },
          "metadata": {}
        },
        {
          "output_type": "display_data",
          "data": {
            "text/plain": [
              "recommendations finished on 40000/89981 queries. users per second: 7337.02"
            ],
            "text/html": [
              "<pre>recommendations finished on 40000/89981 queries. users per second: 7337.02</pre>"
            ]
          },
          "metadata": {}
        },
        {
          "output_type": "display_data",
          "data": {
            "text/plain": [
              "recommendations finished on 41000/89981 queries. users per second: 7339.2"
            ],
            "text/html": [
              "<pre>recommendations finished on 41000/89981 queries. users per second: 7339.2</pre>"
            ]
          },
          "metadata": {}
        },
        {
          "output_type": "display_data",
          "data": {
            "text/plain": [
              "recommendations finished on 42000/89981 queries. users per second: 7344.42"
            ],
            "text/html": [
              "<pre>recommendations finished on 42000/89981 queries. users per second: 7344.42</pre>"
            ]
          },
          "metadata": {}
        },
        {
          "output_type": "display_data",
          "data": {
            "text/plain": [
              "recommendations finished on 43000/89981 queries. users per second: 7342.86"
            ],
            "text/html": [
              "<pre>recommendations finished on 43000/89981 queries. users per second: 7342.86</pre>"
            ]
          },
          "metadata": {}
        },
        {
          "output_type": "display_data",
          "data": {
            "text/plain": [
              "recommendations finished on 44000/89981 queries. users per second: 7342.69"
            ],
            "text/html": [
              "<pre>recommendations finished on 44000/89981 queries. users per second: 7342.69</pre>"
            ]
          },
          "metadata": {}
        },
        {
          "output_type": "display_data",
          "data": {
            "text/plain": [
              "recommendations finished on 45000/89981 queries. users per second: 7345.74"
            ],
            "text/html": [
              "<pre>recommendations finished on 45000/89981 queries. users per second: 7345.74</pre>"
            ]
          },
          "metadata": {}
        },
        {
          "output_type": "display_data",
          "data": {
            "text/plain": [
              "recommendations finished on 46000/89981 queries. users per second: 7345.22"
            ],
            "text/html": [
              "<pre>recommendations finished on 46000/89981 queries. users per second: 7345.22</pre>"
            ]
          },
          "metadata": {}
        },
        {
          "output_type": "display_data",
          "data": {
            "text/plain": [
              "recommendations finished on 47000/89981 queries. users per second: 7345.83"
            ],
            "text/html": [
              "<pre>recommendations finished on 47000/89981 queries. users per second: 7345.83</pre>"
            ]
          },
          "metadata": {}
        },
        {
          "output_type": "display_data",
          "data": {
            "text/plain": [
              "recommendations finished on 48000/89981 queries. users per second: 7349.78"
            ],
            "text/html": [
              "<pre>recommendations finished on 48000/89981 queries. users per second: 7349.78</pre>"
            ]
          },
          "metadata": {}
        },
        {
          "output_type": "display_data",
          "data": {
            "text/plain": [
              "recommendations finished on 49000/89981 queries. users per second: 7350.9"
            ],
            "text/html": [
              "<pre>recommendations finished on 49000/89981 queries. users per second: 7350.9</pre>"
            ]
          },
          "metadata": {}
        },
        {
          "output_type": "display_data",
          "data": {
            "text/plain": [
              "recommendations finished on 50000/89981 queries. users per second: 7353.72"
            ],
            "text/html": [
              "<pre>recommendations finished on 50000/89981 queries. users per second: 7353.72</pre>"
            ]
          },
          "metadata": {}
        },
        {
          "output_type": "display_data",
          "data": {
            "text/plain": [
              "recommendations finished on 51000/89981 queries. users per second: 7351.21"
            ],
            "text/html": [
              "<pre>recommendations finished on 51000/89981 queries. users per second: 7351.21</pre>"
            ]
          },
          "metadata": {}
        },
        {
          "output_type": "display_data",
          "data": {
            "text/plain": [
              "recommendations finished on 52000/89981 queries. users per second: 7352.72"
            ],
            "text/html": [
              "<pre>recommendations finished on 52000/89981 queries. users per second: 7352.72</pre>"
            ]
          },
          "metadata": {}
        },
        {
          "output_type": "display_data",
          "data": {
            "text/plain": [
              "recommendations finished on 53000/89981 queries. users per second: 7353.83"
            ],
            "text/html": [
              "<pre>recommendations finished on 53000/89981 queries. users per second: 7353.83</pre>"
            ]
          },
          "metadata": {}
        },
        {
          "output_type": "display_data",
          "data": {
            "text/plain": [
              "recommendations finished on 54000/89981 queries. users per second: 7356.95"
            ],
            "text/html": [
              "<pre>recommendations finished on 54000/89981 queries. users per second: 7356.95</pre>"
            ]
          },
          "metadata": {}
        },
        {
          "output_type": "display_data",
          "data": {
            "text/plain": [
              "recommendations finished on 55000/89981 queries. users per second: 7356.8"
            ],
            "text/html": [
              "<pre>recommendations finished on 55000/89981 queries. users per second: 7356.8</pre>"
            ]
          },
          "metadata": {}
        },
        {
          "output_type": "display_data",
          "data": {
            "text/plain": [
              "recommendations finished on 56000/89981 queries. users per second: 7358.96"
            ],
            "text/html": [
              "<pre>recommendations finished on 56000/89981 queries. users per second: 7358.96</pre>"
            ]
          },
          "metadata": {}
        },
        {
          "output_type": "display_data",
          "data": {
            "text/plain": [
              "recommendations finished on 57000/89981 queries. users per second: 7361.94"
            ],
            "text/html": [
              "<pre>recommendations finished on 57000/89981 queries. users per second: 7361.94</pre>"
            ]
          },
          "metadata": {}
        },
        {
          "output_type": "display_data",
          "data": {
            "text/plain": [
              "recommendations finished on 58000/89981 queries. users per second: 7363.42"
            ],
            "text/html": [
              "<pre>recommendations finished on 58000/89981 queries. users per second: 7363.42</pre>"
            ]
          },
          "metadata": {}
        },
        {
          "output_type": "display_data",
          "data": {
            "text/plain": [
              "recommendations finished on 59000/89981 queries. users per second: 7363.82"
            ],
            "text/html": [
              "<pre>recommendations finished on 59000/89981 queries. users per second: 7363.82</pre>"
            ]
          },
          "metadata": {}
        },
        {
          "output_type": "display_data",
          "data": {
            "text/plain": [
              "recommendations finished on 60000/89981 queries. users per second: 7366.37"
            ],
            "text/html": [
              "<pre>recommendations finished on 60000/89981 queries. users per second: 7366.37</pre>"
            ]
          },
          "metadata": {}
        },
        {
          "output_type": "display_data",
          "data": {
            "text/plain": [
              "recommendations finished on 61000/89981 queries. users per second: 7366.8"
            ],
            "text/html": [
              "<pre>recommendations finished on 61000/89981 queries. users per second: 7366.8</pre>"
            ]
          },
          "metadata": {}
        },
        {
          "output_type": "display_data",
          "data": {
            "text/plain": [
              "recommendations finished on 62000/89981 queries. users per second: 7366.06"
            ],
            "text/html": [
              "<pre>recommendations finished on 62000/89981 queries. users per second: 7366.06</pre>"
            ]
          },
          "metadata": {}
        },
        {
          "output_type": "display_data",
          "data": {
            "text/plain": [
              "recommendations finished on 63000/89981 queries. users per second: 7366.69"
            ],
            "text/html": [
              "<pre>recommendations finished on 63000/89981 queries. users per second: 7366.69</pre>"
            ]
          },
          "metadata": {}
        },
        {
          "output_type": "display_data",
          "data": {
            "text/plain": [
              "recommendations finished on 64000/89981 queries. users per second: 7368.42"
            ],
            "text/html": [
              "<pre>recommendations finished on 64000/89981 queries. users per second: 7368.42</pre>"
            ]
          },
          "metadata": {}
        },
        {
          "output_type": "display_data",
          "data": {
            "text/plain": [
              "recommendations finished on 65000/89981 queries. users per second: 7370"
            ],
            "text/html": [
              "<pre>recommendations finished on 65000/89981 queries. users per second: 7370</pre>"
            ]
          },
          "metadata": {}
        },
        {
          "output_type": "display_data",
          "data": {
            "text/plain": [
              "recommendations finished on 66000/89981 queries. users per second: 7368.06"
            ],
            "text/html": [
              "<pre>recommendations finished on 66000/89981 queries. users per second: 7368.06</pre>"
            ]
          },
          "metadata": {}
        },
        {
          "output_type": "display_data",
          "data": {
            "text/plain": [
              "recommendations finished on 67000/89981 queries. users per second: 7369.53"
            ],
            "text/html": [
              "<pre>recommendations finished on 67000/89981 queries. users per second: 7369.53</pre>"
            ]
          },
          "metadata": {}
        },
        {
          "output_type": "display_data",
          "data": {
            "text/plain": [
              "recommendations finished on 68000/89981 queries. users per second: 7370.81"
            ],
            "text/html": [
              "<pre>recommendations finished on 68000/89981 queries. users per second: 7370.81</pre>"
            ]
          },
          "metadata": {}
        },
        {
          "output_type": "display_data",
          "data": {
            "text/plain": [
              "recommendations finished on 69000/89981 queries. users per second: 7371.23"
            ],
            "text/html": [
              "<pre>recommendations finished on 69000/89981 queries. users per second: 7371.23</pre>"
            ]
          },
          "metadata": {}
        },
        {
          "output_type": "display_data",
          "data": {
            "text/plain": [
              "recommendations finished on 70000/89981 queries. users per second: 7371.36"
            ],
            "text/html": [
              "<pre>recommendations finished on 70000/89981 queries. users per second: 7371.36</pre>"
            ]
          },
          "metadata": {}
        },
        {
          "output_type": "display_data",
          "data": {
            "text/plain": [
              "recommendations finished on 71000/89981 queries. users per second: 7372.9"
            ],
            "text/html": [
              "<pre>recommendations finished on 71000/89981 queries. users per second: 7372.9</pre>"
            ]
          },
          "metadata": {}
        },
        {
          "output_type": "display_data",
          "data": {
            "text/plain": [
              "recommendations finished on 72000/89981 queries. users per second: 7373.57"
            ],
            "text/html": [
              "<pre>recommendations finished on 72000/89981 queries. users per second: 7373.57</pre>"
            ]
          },
          "metadata": {}
        },
        {
          "output_type": "display_data",
          "data": {
            "text/plain": [
              "recommendations finished on 73000/89981 queries. users per second: 7371.93"
            ],
            "text/html": [
              "<pre>recommendations finished on 73000/89981 queries. users per second: 7371.93</pre>"
            ]
          },
          "metadata": {}
        },
        {
          "output_type": "display_data",
          "data": {
            "text/plain": [
              "recommendations finished on 74000/89981 queries. users per second: 7370.81"
            ],
            "text/html": [
              "<pre>recommendations finished on 74000/89981 queries. users per second: 7370.81</pre>"
            ]
          },
          "metadata": {}
        },
        {
          "output_type": "display_data",
          "data": {
            "text/plain": [
              "recommendations finished on 75000/89981 queries. users per second: 7371.85"
            ],
            "text/html": [
              "<pre>recommendations finished on 75000/89981 queries. users per second: 7371.85</pre>"
            ]
          },
          "metadata": {}
        },
        {
          "output_type": "display_data",
          "data": {
            "text/plain": [
              "recommendations finished on 76000/89981 queries. users per second: 7372.37"
            ],
            "text/html": [
              "<pre>recommendations finished on 76000/89981 queries. users per second: 7372.37</pre>"
            ]
          },
          "metadata": {}
        },
        {
          "output_type": "display_data",
          "data": {
            "text/plain": [
              "recommendations finished on 77000/89981 queries. users per second: 7373.44"
            ],
            "text/html": [
              "<pre>recommendations finished on 77000/89981 queries. users per second: 7373.44</pre>"
            ]
          },
          "metadata": {}
        },
        {
          "output_type": "display_data",
          "data": {
            "text/plain": [
              "recommendations finished on 78000/89981 queries. users per second: 7371.23"
            ],
            "text/html": [
              "<pre>recommendations finished on 78000/89981 queries. users per second: 7371.23</pre>"
            ]
          },
          "metadata": {}
        },
        {
          "output_type": "display_data",
          "data": {
            "text/plain": [
              "recommendations finished on 79000/89981 queries. users per second: 7372.36"
            ],
            "text/html": [
              "<pre>recommendations finished on 79000/89981 queries. users per second: 7372.36</pre>"
            ]
          },
          "metadata": {}
        },
        {
          "output_type": "display_data",
          "data": {
            "text/plain": [
              "recommendations finished on 80000/89981 queries. users per second: 7374.13"
            ],
            "text/html": [
              "<pre>recommendations finished on 80000/89981 queries. users per second: 7374.13</pre>"
            ]
          },
          "metadata": {}
        },
        {
          "output_type": "display_data",
          "data": {
            "text/plain": [
              "recommendations finished on 81000/89981 queries. users per second: 7373.72"
            ],
            "text/html": [
              "<pre>recommendations finished on 81000/89981 queries. users per second: 7373.72</pre>"
            ]
          },
          "metadata": {}
        },
        {
          "output_type": "display_data",
          "data": {
            "text/plain": [
              "recommendations finished on 82000/89981 queries. users per second: 7375.38"
            ],
            "text/html": [
              "<pre>recommendations finished on 82000/89981 queries. users per second: 7375.38</pre>"
            ]
          },
          "metadata": {}
        },
        {
          "output_type": "display_data",
          "data": {
            "text/plain": [
              "recommendations finished on 83000/89981 queries. users per second: 7376.13"
            ],
            "text/html": [
              "<pre>recommendations finished on 83000/89981 queries. users per second: 7376.13</pre>"
            ]
          },
          "metadata": {}
        },
        {
          "output_type": "display_data",
          "data": {
            "text/plain": [
              "recommendations finished on 84000/89981 queries. users per second: 7375.96"
            ],
            "text/html": [
              "<pre>recommendations finished on 84000/89981 queries. users per second: 7375.96</pre>"
            ]
          },
          "metadata": {}
        },
        {
          "output_type": "display_data",
          "data": {
            "text/plain": [
              "recommendations finished on 85000/89981 queries. users per second: 7375.64"
            ],
            "text/html": [
              "<pre>recommendations finished on 85000/89981 queries. users per second: 7375.64</pre>"
            ]
          },
          "metadata": {}
        },
        {
          "output_type": "display_data",
          "data": {
            "text/plain": [
              "recommendations finished on 86000/89981 queries. users per second: 7375.77"
            ],
            "text/html": [
              "<pre>recommendations finished on 86000/89981 queries. users per second: 7375.77</pre>"
            ]
          },
          "metadata": {}
        },
        {
          "output_type": "display_data",
          "data": {
            "text/plain": [
              "recommendations finished on 87000/89981 queries. users per second: 7378.1"
            ],
            "text/html": [
              "<pre>recommendations finished on 87000/89981 queries. users per second: 7378.1</pre>"
            ]
          },
          "metadata": {}
        },
        {
          "output_type": "display_data",
          "data": {
            "text/plain": [
              "recommendations finished on 88000/89981 queries. users per second: 7378.95"
            ],
            "text/html": [
              "<pre>recommendations finished on 88000/89981 queries. users per second: 7378.95</pre>"
            ]
          },
          "metadata": {}
        },
        {
          "output_type": "display_data",
          "data": {
            "text/plain": [
              "recommendations finished on 89000/89981 queries. users per second: 7378.44"
            ],
            "text/html": [
              "<pre>recommendations finished on 89000/89981 queries. users per second: 7378.44</pre>"
            ]
          },
          "metadata": {}
        }
      ]
    },
    {
      "cell_type": "code",
      "source": [
        "cos_eval"
      ],
      "metadata": {
        "colab": {
          "base_uri": "https://localhost:8080/"
        },
        "id": "n_yj3s93TCk1",
        "outputId": "e77487cb-fa94-41d4-a701-1914a615b4bc"
      },
      "execution_count": null,
      "outputs": [
        {
          "output_type": "execute_result",
          "data": {
            "text/plain": [
              "{'precision_recall_by_user': Columns:\n",
              " \tcustomer_id\tint\n",
              " \tcutoff\tint\n",
              " \tprecision\tfloat\n",
              " \trecall\tfloat\n",
              " \tcount\tint\n",
              " \n",
              " Rows: 179962\n",
              " \n",
              " Data:\n",
              " +-------------+--------+-----------+----------------------+-------+\n",
              " | customer_id | cutoff | precision |        recall        | count |\n",
              " +-------------+--------+-----------+----------------------+-------+\n",
              " |      5      |   1    |    0.0    |         0.0          |   9   |\n",
              " |      5      |   12   |    0.0    |         0.0          |   9   |\n",
              " |      12     |   1    |    0.0    |         0.0          |   12  |\n",
              " |      12     |   12   |    0.0    |         0.0          |   12  |\n",
              " |      14     |   1    |    0.0    |         0.0          |   11  |\n",
              " |      14     |   12   |    0.0    |         0.0          |   11  |\n",
              " |      24     |   1    |    0.0    |         0.0          |   85  |\n",
              " |      24     |   12   |    0.25   | 0.03529411764705882  |   85  |\n",
              " |      29     |   1    |    1.0    | 0.018867924528301886 |   53  |\n",
              " |      29     |   12   |    0.25   | 0.05660377358490566  |   53  |\n",
              " +-------------+--------+-----------+----------------------+-------+\n",
              " [179962 rows x 5 columns]\n",
              " Note: Only the head of the SFrame is printed.\n",
              " You can use print_rows(num_rows=m, num_columns=n) to print more rows and columns.,\n",
              " 'precision_recall_overall': Columns:\n",
              " \tcutoff\tint\n",
              " \tprecision\tfloat\n",
              " \trecall\tfloat\n",
              " \n",
              " Rows: 2\n",
              " \n",
              " Data:\n",
              " +--------+---------------------+---------------------+\n",
              " | cutoff |      precision      |        recall       |\n",
              " +--------+---------------------+---------------------+\n",
              " |   1    | 0.21533434836243212 | 0.01587364410639019 |\n",
              " |   12   | 0.08671552883386498 |  0.0699311067092163 |\n",
              " +--------+---------------------+---------------------+\n",
              " [2 rows x 3 columns]}"
            ]
          },
          "metadata": {},
          "execution_count": 26
        }
      ]
    },
    {
      "cell_type": "code",
      "source": [],
      "metadata": {
        "id": "fg0LtE5WkhxN"
      },
      "execution_count": null,
      "outputs": []
    },
    {
      "cell_type": "markdown",
      "source": [
        "## 1-2 Jaccard similarity"
      ],
      "metadata": {
        "id": "Nvx0_nI2Xm4A"
      }
    },
    {
      "cell_type": "code",
      "source": [
        "jaccard = tc.item_similarity_recommender.create(df_train, \n",
        "                                              user_id='customer_id', \n",
        "                                              item_id='article_id',\n",
        "                                              similarity_type='jaccard')\n",
        "# recommend k products for a list of users (None corresponds to all users) \n",
        "#recommendation = jaccard.recommend(users=None, k=12)"
      ],
      "metadata": {
        "colab": {
          "base_uri": "https://localhost:8080/",
          "height": 434
        },
        "id": "z3g-BfDMUo7A",
        "outputId": "329203d6-353f-4fd8-978c-e4f28c131a15"
      },
      "execution_count": null,
      "outputs": [
        {
          "output_type": "display_data",
          "data": {
            "text/plain": [
              "Preparing data set."
            ],
            "text/html": [
              "<pre>Preparing data set.</pre>"
            ]
          },
          "metadata": {}
        },
        {
          "output_type": "display_data",
          "data": {
            "text/plain": [
              "    Data has 16380622 observations with 305945 users and 42373 items."
            ],
            "text/html": [
              "<pre>    Data has 16380622 observations with 305945 users and 42373 items.</pre>"
            ]
          },
          "metadata": {}
        },
        {
          "output_type": "display_data",
          "data": {
            "text/plain": [
              "    Data prepared in: 6.32085s"
            ],
            "text/html": [
              "<pre>    Data prepared in: 6.32085s</pre>"
            ]
          },
          "metadata": {}
        },
        {
          "output_type": "display_data",
          "data": {
            "text/plain": [
              "Training model from provided data."
            ],
            "text/html": [
              "<pre>Training model from provided data.</pre>"
            ]
          },
          "metadata": {}
        },
        {
          "output_type": "display_data",
          "data": {
            "text/plain": [
              "Gathering per-item and per-user statistics."
            ],
            "text/html": [
              "<pre>Gathering per-item and per-user statistics.</pre>"
            ]
          },
          "metadata": {}
        },
        {
          "output_type": "display_data",
          "data": {
            "text/plain": [
              "+--------------------------------+------------+"
            ],
            "text/html": [
              "<pre>+--------------------------------+------------+</pre>"
            ]
          },
          "metadata": {}
        },
        {
          "output_type": "display_data",
          "data": {
            "text/plain": [
              "| Elapsed Time (Item Statistics) | % Complete |"
            ],
            "text/html": [
              "<pre>| Elapsed Time (Item Statistics) | % Complete |</pre>"
            ]
          },
          "metadata": {}
        },
        {
          "output_type": "display_data",
          "data": {
            "text/plain": [
              "+--------------------------------+------------+"
            ],
            "text/html": [
              "<pre>+--------------------------------+------------+</pre>"
            ]
          },
          "metadata": {}
        },
        {
          "output_type": "display_data",
          "data": {
            "text/plain": [
              "| 2.315ms                        | 0.25       |"
            ],
            "text/html": [
              "<pre>| 2.315ms                        | 0.25       |</pre>"
            ]
          },
          "metadata": {}
        },
        {
          "output_type": "display_data",
          "data": {
            "text/plain": [
              "| 154.961ms                      | 100        |"
            ],
            "text/html": [
              "<pre>| 154.961ms                      | 100        |</pre>"
            ]
          },
          "metadata": {}
        },
        {
          "output_type": "display_data",
          "data": {
            "text/plain": [
              "+--------------------------------+------------+"
            ],
            "text/html": [
              "<pre>+--------------------------------+------------+</pre>"
            ]
          },
          "metadata": {}
        },
        {
          "output_type": "display_data",
          "data": {
            "text/plain": [
              "Setting up lookup tables."
            ],
            "text/html": [
              "<pre>Setting up lookup tables.</pre>"
            ]
          },
          "metadata": {}
        },
        {
          "output_type": "display_data",
          "data": {
            "text/plain": [
              "Processing data in one pass using dense lookup tables."
            ],
            "text/html": [
              "<pre>Processing data in one pass using dense lookup tables.</pre>"
            ]
          },
          "metadata": {}
        },
        {
          "output_type": "display_data",
          "data": {
            "text/plain": [
              "+-------------------------------------+------------------+-----------------+"
            ],
            "text/html": [
              "<pre>+-------------------------------------+------------------+-----------------+</pre>"
            ]
          },
          "metadata": {}
        },
        {
          "output_type": "display_data",
          "data": {
            "text/plain": [
              "| Elapsed Time (Constructing Lookups) | Total % Complete | Items Processed |"
            ],
            "text/html": [
              "<pre>| Elapsed Time (Constructing Lookups) | Total % Complete | Items Processed |</pre>"
            ]
          },
          "metadata": {}
        },
        {
          "output_type": "display_data",
          "data": {
            "text/plain": [
              "+-------------------------------------+------------------+-----------------+"
            ],
            "text/html": [
              "<pre>+-------------------------------------+------------------+-----------------+</pre>"
            ]
          },
          "metadata": {}
        },
        {
          "output_type": "display_data",
          "data": {
            "text/plain": [
              "| 3.29s                               | 0                | 0               |"
            ],
            "text/html": [
              "<pre>| 3.29s                               | 0                | 0               |</pre>"
            ]
          },
          "metadata": {}
        },
        {
          "output_type": "display_data",
          "data": {
            "text/plain": [
              "| 6.29s                               | 46.25            | 19635           |"
            ],
            "text/html": [
              "<pre>| 6.29s                               | 46.25            | 19635           |</pre>"
            ]
          },
          "metadata": {}
        },
        {
          "output_type": "display_data",
          "data": {
            "text/plain": [
              "| 9.29s                               | 90.5             | 38449           |"
            ],
            "text/html": [
              "<pre>| 9.29s                               | 90.5             | 38449           |</pre>"
            ]
          },
          "metadata": {}
        },
        {
          "output_type": "display_data",
          "data": {
            "text/plain": [
              "| 14.74s                              | 100              | 42373           |"
            ],
            "text/html": [
              "<pre>| 14.74s                              | 100              | 42373           |</pre>"
            ]
          },
          "metadata": {}
        },
        {
          "output_type": "display_data",
          "data": {
            "text/plain": [
              "+-------------------------------------+------------------+-----------------+"
            ],
            "text/html": [
              "<pre>+-------------------------------------+------------------+-----------------+</pre>"
            ]
          },
          "metadata": {}
        },
        {
          "output_type": "display_data",
          "data": {
            "text/plain": [
              "Finalizing lookup tables."
            ],
            "text/html": [
              "<pre>Finalizing lookup tables.</pre>"
            ]
          },
          "metadata": {}
        },
        {
          "output_type": "display_data",
          "data": {
            "text/plain": [
              "Generating candidate set for working with new users."
            ],
            "text/html": [
              "<pre>Generating candidate set for working with new users.</pre>"
            ]
          },
          "metadata": {}
        },
        {
          "output_type": "display_data",
          "data": {
            "text/plain": [
              "Finished training in 15.2s"
            ],
            "text/html": [
              "<pre>Finished training in 15.2s</pre>"
            ]
          },
          "metadata": {}
        }
      ]
    },
    {
      "cell_type": "code",
      "source": [
        "# print the n first recommendations\n",
        "recommendation.print_rows(100)"
      ],
      "metadata": {
        "colab": {
          "base_uri": "https://localhost:8080/"
        },
        "id": "nV-ovTs1X5G_",
        "outputId": "c15479c4-f735-4cb1-bcc0-aa3cb894b90b"
      },
      "execution_count": null,
      "outputs": [
        {
          "output_type": "stream",
          "name": "stdout",
          "text": [
            "+---------+---------+-----------------------+------+\n",
            "| user_id | item_id |         score         | rank |\n",
            "+---------+---------+-----------------------+------+\n",
            "|    0    |  19240  | 0.0026329703952955165 |  1   |\n",
            "|    0    |   152   |  0.002247720956802368 |  2   |\n",
            "|    0    |   1744  | 0.0020862435517103777 |  3   |\n",
            "|    0    |  23080  | 0.0017583804286044576 |  4   |\n",
            "|    0    |  19023  | 0.0016552216332891712 |  5   |\n",
            "|    0    |   3921  | 0.0015621729519056237 |  6   |\n",
            "|    0    |  27017  | 0.0015527029400286467 |  7   |\n",
            "|    0    |  22885  | 0.0015468228122462397 |  8   |\n",
            "|    0    |   3724  | 0.0015233625536379607 |  9   |\n",
            "|    0    |  31797  | 0.0014299957648567531 |  10  |\n",
            "|    0    |   571   |  0.001376674227092577 |  11  |\n",
            "|    0    |  17142  | 0.0013392334399016006 |  12  |\n",
            "|    1    |  33170  |  0.004627175403363777 |  1   |\n",
            "|    1    |   8268  |  0.004484389767502294 |  2   |\n",
            "|    1    |   6233  | 0.0038152319012266216 |  3   |\n",
            "|    1    |   8188  |  0.003765563170115153 |  4   |\n",
            "|    1    |  29553  | 0.0031824834419019294 |  5   |\n",
            "|    1    |  26703  | 0.0027696309667645078 |  6   |\n",
            "|    1    |  15506  |  0.002718020569194447 |  7   |\n",
            "|    1    |   2526  | 0.0027097860972086587 |  8   |\n",
            "|    1    |  18734  | 0.0026992703929091945 |  9   |\n",
            "|    1    |  20399  |  0.002607128836891868 |  10  |\n",
            "|    1    |   1703  | 0.0025833393588210597 |  11  |\n",
            "|    1    |   5371  |  0.002400188735037139 |  12  |\n",
            "|    2    |   5035  |  0.007599184146294227 |  1   |\n",
            "|    2    |   5036  |  0.005769417836115911 |  2   |\n",
            "|    2    |  23194  |  0.005494505167007446 |  3   |\n",
            "|    2    |  24938  | 0.0049749979606041545 |  4   |\n",
            "|    2    |   6573  |  0.004858812460532555 |  5   |\n",
            "|    2    |   3186  |  0.00452156479542072  |  6   |\n",
            "|    2    |  26879  | 0.0041755735874176025 |  7   |\n",
            "|    2    |   6565  |  0.004001200199127197 |  8   |\n",
            "|    2    |  34380  | 0.0037851792115431568 |  9   |\n",
            "|    2    |   9959  |  0.003664605892621554 |  10  |\n",
            "|    2    |  13523  | 0.0036341616740593542 |  11  |\n",
            "|    2    |  30499  |  0.003387237970645611 |  12  |\n",
            "|    3    |   3000  | 0.0054993611924788535 |  1   |\n",
            "|    3    |   5506  |  0.004675293669981115 |  2   |\n",
            "|    3    |  11001  |  0.00403411072843215  |  3   |\n",
            "|    3    |   2712  | 0.0035359035519992605 |  4   |\n",
            "|    3    |   2713  | 0.0034509897232055664 |  5   |\n",
            "|    3    |  11030  |  0.003431917989955229 |  6   |\n",
            "|    3    |  28633  |  0.003331429818097283 |  7   |\n",
            "|    3    |  19499  | 0.0030436200254103716 |  8   |\n",
            "|    3    |   8799  | 0.0029701537945691276 |  9   |\n",
            "|    3    |   762   |  0.002901715390822467 |  10  |\n",
            "|    3    |  22927  |  0.002826213836669922 |  11  |\n",
            "|    3    |   8184  | 0.0028142929077148438 |  12  |\n",
            "|    4    |  31314  |  0.005824470052532121 |  1   |\n",
            "|    4    |  27661  |  0.005058647370805927 |  2   |\n",
            "|    4    |   9704  |  0.003176130500494265 |  3   |\n",
            "|    4    |  16978  | 0.0025578223022760128 |  4   |\n",
            "|    4    |   7983  | 0.0024703670950496897 |  5   |\n",
            "|    4    |   3154  |  0.002323923157710655 |  6   |\n",
            "|    4    |   4744  |  0.002196622829811246 |  7   |\n",
            "|    4    |  13667  |  0.002031302919574812 |  8   |\n",
            "|    4    |  26117  |  0.001900338659099504 |  9   |\n",
            "|    4    |  24767  | 0.0018431918293822045 |  10  |\n",
            "|    4    |   909   | 0.0018326032395456352 |  11  |\n",
            "|    4    |   8056  | 0.0018149392277586694 |  12  |\n",
            "|    5    |  32229  |  0.013552867597149264 |  1   |\n",
            "|    5    |  29848  |  0.008064516129032258 |  2   |\n",
            "|    5    |   4898  |  0.005542430185502575 |  3   |\n",
            "|    5    |  24847  | 0.0033818944807975523 |  4   |\n",
            "|    5    |   3431  | 0.0031429548417368242 |  5   |\n",
            "|    5    |  17516  | 0.0029420218160075527 |  6   |\n",
            "|    5    |  13053  |  0.002912821308259041 |  7   |\n",
            "|    5    |  30277  |  0.002584474702035227 |  8   |\n",
            "|    5    |    1    | 0.0025273407659223003 |  9   |\n",
            "|    5    |    2    |  0.002464623220505253 |  10  |\n",
            "|    5    |  15742  | 0.0024156032070036856 |  11  |\n",
            "|    5    |  22470  | 0.0023854297976340015 |  12  |\n",
            "|    6    |   788   |  0.002603938633745367 |  1   |\n",
            "|    6    |   509   | 0.0023537305268374357 |  2   |\n",
            "|    6    |   794   | 0.0019717196171933956 |  3   |\n",
            "|    6    |   999   |  0.001632926816290075 |  4   |\n",
            "|    6    |  11031  | 0.0016280724243684249 |  5   |\n",
            "|    6    |   9898  |  0.001470603726126931 |  6   |\n",
            "|    6    |   8200  | 0.0014476423913782294 |  7   |\n",
            "|    6    |   9585  | 0.0014407038688659668 |  8   |\n",
            "|    6    |   2814  | 0.0013944174755703318 |  9   |\n",
            "|    6    |  19961  | 0.0013585700230164962 |  10  |\n",
            "|    6    |  12777  | 0.0013575398109175942 |  11  |\n",
            "|    6    |   9897  | 0.0013373961502855475 |  12  |\n",
            "|    7    |   175   | 0.0013650403204691936 |  1   |\n",
            "|    7    |   600   | 0.0011544733880514122 |  2   |\n",
            "|    7    |   1441  | 0.0011437270775377512 |  3   |\n",
            "|    7    |   174   | 0.0011423605991654608 |  4   |\n",
            "|    7    |   176   |  0.001074431411712524 |  5   |\n",
            "|    7    |   4265  | 0.0010706765584677577 |  6   |\n",
            "|    7    |   680   | 0.0009176619799740343 |  7   |\n",
            "|    7    |   1779  | 0.0008960234592238583 |  8   |\n",
            "|    7    |   8312  | 0.0008451221697780501 |  9   |\n",
            "|    7    |   504   | 0.0008376094710874749 |  10  |\n",
            "|    7    |    88   | 0.0008025605037030446 |  11  |\n",
            "|    7    |  29668  |  0.000794890654613694 |  12  |\n",
            "|    8    |   4988  | 0.0026213835267459647 |  1   |\n",
            "|    8    |   6329  | 0.0024590176694533404 |  2   |\n",
            "|    8    |   8359  | 0.0023444014437058393 |  3   |\n",
            "|    8    |   9638  |  0.002270689431358786 |  4   |\n",
            "+---------+---------+-----------------------+------+\n",
            "[3671340 rows x 4 columns]\n",
            "\n"
          ]
        }
      ]
    },
    {
      "cell_type": "code",
      "source": [
        "jac_eval = jaccard.evaluate_precision_recall(df_test,cutoffs=[1,12])"
      ],
      "metadata": {
        "id": "Ls2hZArrY5-a",
        "colab": {
          "base_uri": "https://localhost:8080/",
          "height": 1000
        },
        "outputId": "a490dd96-29a0-4cf8-c1e3-14fb0f68d840"
      },
      "execution_count": null,
      "outputs": [
        {
          "output_type": "display_data",
          "data": {
            "text/plain": [
              "recommendations finished on 1000/89981 queries. users per second: 7152.21"
            ],
            "text/html": [
              "<pre>recommendations finished on 1000/89981 queries. users per second: 7152.21</pre>"
            ]
          },
          "metadata": {}
        },
        {
          "output_type": "display_data",
          "data": {
            "text/plain": [
              "recommendations finished on 2000/89981 queries. users per second: 7428.1"
            ],
            "text/html": [
              "<pre>recommendations finished on 2000/89981 queries. users per second: 7428.1</pre>"
            ]
          },
          "metadata": {}
        },
        {
          "output_type": "display_data",
          "data": {
            "text/plain": [
              "recommendations finished on 3000/89981 queries. users per second: 7490.99"
            ],
            "text/html": [
              "<pre>recommendations finished on 3000/89981 queries. users per second: 7490.99</pre>"
            ]
          },
          "metadata": {}
        },
        {
          "output_type": "display_data",
          "data": {
            "text/plain": [
              "recommendations finished on 4000/89981 queries. users per second: 7566.87"
            ],
            "text/html": [
              "<pre>recommendations finished on 4000/89981 queries. users per second: 7566.87</pre>"
            ]
          },
          "metadata": {}
        },
        {
          "output_type": "display_data",
          "data": {
            "text/plain": [
              "recommendations finished on 5000/89981 queries. users per second: 7561.46"
            ],
            "text/html": [
              "<pre>recommendations finished on 5000/89981 queries. users per second: 7561.46</pre>"
            ]
          },
          "metadata": {}
        },
        {
          "output_type": "display_data",
          "data": {
            "text/plain": [
              "recommendations finished on 6000/89981 queries. users per second: 7594.1"
            ],
            "text/html": [
              "<pre>recommendations finished on 6000/89981 queries. users per second: 7594.1</pre>"
            ]
          },
          "metadata": {}
        },
        {
          "output_type": "display_data",
          "data": {
            "text/plain": [
              "recommendations finished on 7000/89981 queries. users per second: 7610.79"
            ],
            "text/html": [
              "<pre>recommendations finished on 7000/89981 queries. users per second: 7610.79</pre>"
            ]
          },
          "metadata": {}
        },
        {
          "output_type": "display_data",
          "data": {
            "text/plain": [
              "recommendations finished on 8000/89981 queries. users per second: 7628.9"
            ],
            "text/html": [
              "<pre>recommendations finished on 8000/89981 queries. users per second: 7628.9</pre>"
            ]
          },
          "metadata": {}
        },
        {
          "output_type": "display_data",
          "data": {
            "text/plain": [
              "recommendations finished on 9000/89981 queries. users per second: 7619.02"
            ],
            "text/html": [
              "<pre>recommendations finished on 9000/89981 queries. users per second: 7619.02</pre>"
            ]
          },
          "metadata": {}
        },
        {
          "output_type": "display_data",
          "data": {
            "text/plain": [
              "recommendations finished on 10000/89981 queries. users per second: 7624.1"
            ],
            "text/html": [
              "<pre>recommendations finished on 10000/89981 queries. users per second: 7624.1</pre>"
            ]
          },
          "metadata": {}
        },
        {
          "output_type": "display_data",
          "data": {
            "text/plain": [
              "recommendations finished on 11000/89981 queries. users per second: 7616.58"
            ],
            "text/html": [
              "<pre>recommendations finished on 11000/89981 queries. users per second: 7616.58</pre>"
            ]
          },
          "metadata": {}
        },
        {
          "output_type": "display_data",
          "data": {
            "text/plain": [
              "recommendations finished on 12000/89981 queries. users per second: 7633.4"
            ],
            "text/html": [
              "<pre>recommendations finished on 12000/89981 queries. users per second: 7633.4</pre>"
            ]
          },
          "metadata": {}
        },
        {
          "output_type": "display_data",
          "data": {
            "text/plain": [
              "recommendations finished on 13000/89981 queries. users per second: 7630.16"
            ],
            "text/html": [
              "<pre>recommendations finished on 13000/89981 queries. users per second: 7630.16</pre>"
            ]
          },
          "metadata": {}
        },
        {
          "output_type": "display_data",
          "data": {
            "text/plain": [
              "recommendations finished on 14000/89981 queries. users per second: 7634.62"
            ],
            "text/html": [
              "<pre>recommendations finished on 14000/89981 queries. users per second: 7634.62</pre>"
            ]
          },
          "metadata": {}
        },
        {
          "output_type": "display_data",
          "data": {
            "text/plain": [
              "recommendations finished on 15000/89981 queries. users per second: 7644.39"
            ],
            "text/html": [
              "<pre>recommendations finished on 15000/89981 queries. users per second: 7644.39</pre>"
            ]
          },
          "metadata": {}
        },
        {
          "output_type": "display_data",
          "data": {
            "text/plain": [
              "recommendations finished on 16000/89981 queries. users per second: 7655.44"
            ],
            "text/html": [
              "<pre>recommendations finished on 16000/89981 queries. users per second: 7655.44</pre>"
            ]
          },
          "metadata": {}
        },
        {
          "output_type": "display_data",
          "data": {
            "text/plain": [
              "recommendations finished on 17000/89981 queries. users per second: 7629.73"
            ],
            "text/html": [
              "<pre>recommendations finished on 17000/89981 queries. users per second: 7629.73</pre>"
            ]
          },
          "metadata": {}
        },
        {
          "output_type": "display_data",
          "data": {
            "text/plain": [
              "recommendations finished on 18000/89981 queries. users per second: 7632.11"
            ],
            "text/html": [
              "<pre>recommendations finished on 18000/89981 queries. users per second: 7632.11</pre>"
            ]
          },
          "metadata": {}
        },
        {
          "output_type": "display_data",
          "data": {
            "text/plain": [
              "recommendations finished on 19000/89981 queries. users per second: 7626.37"
            ],
            "text/html": [
              "<pre>recommendations finished on 19000/89981 queries. users per second: 7626.37</pre>"
            ]
          },
          "metadata": {}
        },
        {
          "output_type": "display_data",
          "data": {
            "text/plain": [
              "recommendations finished on 20000/89981 queries. users per second: 7636.86"
            ],
            "text/html": [
              "<pre>recommendations finished on 20000/89981 queries. users per second: 7636.86</pre>"
            ]
          },
          "metadata": {}
        },
        {
          "output_type": "display_data",
          "data": {
            "text/plain": [
              "recommendations finished on 21000/89981 queries. users per second: 7636.51"
            ],
            "text/html": [
              "<pre>recommendations finished on 21000/89981 queries. users per second: 7636.51</pre>"
            ]
          },
          "metadata": {}
        },
        {
          "output_type": "display_data",
          "data": {
            "text/plain": [
              "recommendations finished on 22000/89981 queries. users per second: 7638.23"
            ],
            "text/html": [
              "<pre>recommendations finished on 22000/89981 queries. users per second: 7638.23</pre>"
            ]
          },
          "metadata": {}
        },
        {
          "output_type": "display_data",
          "data": {
            "text/plain": [
              "recommendations finished on 23000/89981 queries. users per second: 7645.06"
            ],
            "text/html": [
              "<pre>recommendations finished on 23000/89981 queries. users per second: 7645.06</pre>"
            ]
          },
          "metadata": {}
        },
        {
          "output_type": "display_data",
          "data": {
            "text/plain": [
              "recommendations finished on 24000/89981 queries. users per second: 7649.1"
            ],
            "text/html": [
              "<pre>recommendations finished on 24000/89981 queries. users per second: 7649.1</pre>"
            ]
          },
          "metadata": {}
        },
        {
          "output_type": "display_data",
          "data": {
            "text/plain": [
              "recommendations finished on 25000/89981 queries. users per second: 7643.05"
            ],
            "text/html": [
              "<pre>recommendations finished on 25000/89981 queries. users per second: 7643.05</pre>"
            ]
          },
          "metadata": {}
        },
        {
          "output_type": "display_data",
          "data": {
            "text/plain": [
              "recommendations finished on 26000/89981 queries. users per second: 7646.25"
            ],
            "text/html": [
              "<pre>recommendations finished on 26000/89981 queries. users per second: 7646.25</pre>"
            ]
          },
          "metadata": {}
        },
        {
          "output_type": "display_data",
          "data": {
            "text/plain": [
              "recommendations finished on 27000/89981 queries. users per second: 7642.43"
            ],
            "text/html": [
              "<pre>recommendations finished on 27000/89981 queries. users per second: 7642.43</pre>"
            ]
          },
          "metadata": {}
        },
        {
          "output_type": "display_data",
          "data": {
            "text/plain": [
              "recommendations finished on 28000/89981 queries. users per second: 7641.72"
            ],
            "text/html": [
              "<pre>recommendations finished on 28000/89981 queries. users per second: 7641.72</pre>"
            ]
          },
          "metadata": {}
        },
        {
          "output_type": "display_data",
          "data": {
            "text/plain": [
              "recommendations finished on 29000/89981 queries. users per second: 7642.24"
            ],
            "text/html": [
              "<pre>recommendations finished on 29000/89981 queries. users per second: 7642.24</pre>"
            ]
          },
          "metadata": {}
        },
        {
          "output_type": "display_data",
          "data": {
            "text/plain": [
              "recommendations finished on 30000/89981 queries. users per second: 7647.11"
            ],
            "text/html": [
              "<pre>recommendations finished on 30000/89981 queries. users per second: 7647.11</pre>"
            ]
          },
          "metadata": {}
        },
        {
          "output_type": "display_data",
          "data": {
            "text/plain": [
              "recommendations finished on 31000/89981 queries. users per second: 7650.08"
            ],
            "text/html": [
              "<pre>recommendations finished on 31000/89981 queries. users per second: 7650.08</pre>"
            ]
          },
          "metadata": {}
        },
        {
          "output_type": "display_data",
          "data": {
            "text/plain": [
              "recommendations finished on 32000/89981 queries. users per second: 7651.05"
            ],
            "text/html": [
              "<pre>recommendations finished on 32000/89981 queries. users per second: 7651.05</pre>"
            ]
          },
          "metadata": {}
        },
        {
          "output_type": "display_data",
          "data": {
            "text/plain": [
              "recommendations finished on 33000/89981 queries. users per second: 7652.83"
            ],
            "text/html": [
              "<pre>recommendations finished on 33000/89981 queries. users per second: 7652.83</pre>"
            ]
          },
          "metadata": {}
        },
        {
          "output_type": "display_data",
          "data": {
            "text/plain": [
              "recommendations finished on 34000/89981 queries. users per second: 7655.42"
            ],
            "text/html": [
              "<pre>recommendations finished on 34000/89981 queries. users per second: 7655.42</pre>"
            ]
          },
          "metadata": {}
        },
        {
          "output_type": "display_data",
          "data": {
            "text/plain": [
              "recommendations finished on 35000/89981 queries. users per second: 7655.75"
            ],
            "text/html": [
              "<pre>recommendations finished on 35000/89981 queries. users per second: 7655.75</pre>"
            ]
          },
          "metadata": {}
        },
        {
          "output_type": "display_data",
          "data": {
            "text/plain": [
              "recommendations finished on 36000/89981 queries. users per second: 7657.25"
            ],
            "text/html": [
              "<pre>recommendations finished on 36000/89981 queries. users per second: 7657.25</pre>"
            ]
          },
          "metadata": {}
        },
        {
          "output_type": "display_data",
          "data": {
            "text/plain": [
              "recommendations finished on 37000/89981 queries. users per second: 7659.57"
            ],
            "text/html": [
              "<pre>recommendations finished on 37000/89981 queries. users per second: 7659.57</pre>"
            ]
          },
          "metadata": {}
        },
        {
          "output_type": "display_data",
          "data": {
            "text/plain": [
              "recommendations finished on 38000/89981 queries. users per second: 7662.56"
            ],
            "text/html": [
              "<pre>recommendations finished on 38000/89981 queries. users per second: 7662.56</pre>"
            ]
          },
          "metadata": {}
        },
        {
          "output_type": "display_data",
          "data": {
            "text/plain": [
              "recommendations finished on 39000/89981 queries. users per second: 7666.61"
            ],
            "text/html": [
              "<pre>recommendations finished on 39000/89981 queries. users per second: 7666.61</pre>"
            ]
          },
          "metadata": {}
        },
        {
          "output_type": "display_data",
          "data": {
            "text/plain": [
              "recommendations finished on 40000/89981 queries. users per second: 7665.07"
            ],
            "text/html": [
              "<pre>recommendations finished on 40000/89981 queries. users per second: 7665.07</pre>"
            ]
          },
          "metadata": {}
        },
        {
          "output_type": "display_data",
          "data": {
            "text/plain": [
              "recommendations finished on 41000/89981 queries. users per second: 7665.51"
            ],
            "text/html": [
              "<pre>recommendations finished on 41000/89981 queries. users per second: 7665.51</pre>"
            ]
          },
          "metadata": {}
        },
        {
          "output_type": "display_data",
          "data": {
            "text/plain": [
              "recommendations finished on 42000/89981 queries. users per second: 7668.76"
            ],
            "text/html": [
              "<pre>recommendations finished on 42000/89981 queries. users per second: 7668.76</pre>"
            ]
          },
          "metadata": {}
        },
        {
          "output_type": "display_data",
          "data": {
            "text/plain": [
              "recommendations finished on 43000/89981 queries. users per second: 7666.6"
            ],
            "text/html": [
              "<pre>recommendations finished on 43000/89981 queries. users per second: 7666.6</pre>"
            ]
          },
          "metadata": {}
        },
        {
          "output_type": "display_data",
          "data": {
            "text/plain": [
              "recommendations finished on 44000/89981 queries. users per second: 7667.62"
            ],
            "text/html": [
              "<pre>recommendations finished on 44000/89981 queries. users per second: 7667.62</pre>"
            ]
          },
          "metadata": {}
        },
        {
          "output_type": "display_data",
          "data": {
            "text/plain": [
              "recommendations finished on 45000/89981 queries. users per second: 7668.52"
            ],
            "text/html": [
              "<pre>recommendations finished on 45000/89981 queries. users per second: 7668.52</pre>"
            ]
          },
          "metadata": {}
        },
        {
          "output_type": "display_data",
          "data": {
            "text/plain": [
              "recommendations finished on 46000/89981 queries. users per second: 7671.04"
            ],
            "text/html": [
              "<pre>recommendations finished on 46000/89981 queries. users per second: 7671.04</pre>"
            ]
          },
          "metadata": {}
        },
        {
          "output_type": "display_data",
          "data": {
            "text/plain": [
              "recommendations finished on 47000/89981 queries. users per second: 7671.63"
            ],
            "text/html": [
              "<pre>recommendations finished on 47000/89981 queries. users per second: 7671.63</pre>"
            ]
          },
          "metadata": {}
        },
        {
          "output_type": "display_data",
          "data": {
            "text/plain": [
              "recommendations finished on 48000/89981 queries. users per second: 7669.91"
            ],
            "text/html": [
              "<pre>recommendations finished on 48000/89981 queries. users per second: 7669.91</pre>"
            ]
          },
          "metadata": {}
        },
        {
          "output_type": "display_data",
          "data": {
            "text/plain": [
              "recommendations finished on 49000/89981 queries. users per second: 7669.91"
            ],
            "text/html": [
              "<pre>recommendations finished on 49000/89981 queries. users per second: 7669.91</pre>"
            ]
          },
          "metadata": {}
        },
        {
          "output_type": "display_data",
          "data": {
            "text/plain": [
              "recommendations finished on 50000/89981 queries. users per second: 7672.17"
            ],
            "text/html": [
              "<pre>recommendations finished on 50000/89981 queries. users per second: 7672.17</pre>"
            ]
          },
          "metadata": {}
        },
        {
          "output_type": "display_data",
          "data": {
            "text/plain": [
              "recommendations finished on 51000/89981 queries. users per second: 7669.52"
            ],
            "text/html": [
              "<pre>recommendations finished on 51000/89981 queries. users per second: 7669.52</pre>"
            ]
          },
          "metadata": {}
        },
        {
          "output_type": "display_data",
          "data": {
            "text/plain": [
              "recommendations finished on 52000/89981 queries. users per second: 7668.72"
            ],
            "text/html": [
              "<pre>recommendations finished on 52000/89981 queries. users per second: 7668.72</pre>"
            ]
          },
          "metadata": {}
        },
        {
          "output_type": "display_data",
          "data": {
            "text/plain": [
              "recommendations finished on 53000/89981 queries. users per second: 7670.07"
            ],
            "text/html": [
              "<pre>recommendations finished on 53000/89981 queries. users per second: 7670.07</pre>"
            ]
          },
          "metadata": {}
        },
        {
          "output_type": "display_data",
          "data": {
            "text/plain": [
              "recommendations finished on 54000/89981 queries. users per second: 7671.2"
            ],
            "text/html": [
              "<pre>recommendations finished on 54000/89981 queries. users per second: 7671.2</pre>"
            ]
          },
          "metadata": {}
        },
        {
          "output_type": "display_data",
          "data": {
            "text/plain": [
              "recommendations finished on 55000/89981 queries. users per second: 7672.9"
            ],
            "text/html": [
              "<pre>recommendations finished on 55000/89981 queries. users per second: 7672.9</pre>"
            ]
          },
          "metadata": {}
        },
        {
          "output_type": "display_data",
          "data": {
            "text/plain": [
              "recommendations finished on 56000/89981 queries. users per second: 7670.87"
            ],
            "text/html": [
              "<pre>recommendations finished on 56000/89981 queries. users per second: 7670.87</pre>"
            ]
          },
          "metadata": {}
        },
        {
          "output_type": "display_data",
          "data": {
            "text/plain": [
              "recommendations finished on 57000/89981 queries. users per second: 7660.46"
            ],
            "text/html": [
              "<pre>recommendations finished on 57000/89981 queries. users per second: 7660.46</pre>"
            ]
          },
          "metadata": {}
        },
        {
          "output_type": "display_data",
          "data": {
            "text/plain": [
              "recommendations finished on 58000/89981 queries. users per second: 7661.63"
            ],
            "text/html": [
              "<pre>recommendations finished on 58000/89981 queries. users per second: 7661.63</pre>"
            ]
          },
          "metadata": {}
        },
        {
          "output_type": "display_data",
          "data": {
            "text/plain": [
              "recommendations finished on 59000/89981 queries. users per second: 7662.02"
            ],
            "text/html": [
              "<pre>recommendations finished on 59000/89981 queries. users per second: 7662.02</pre>"
            ]
          },
          "metadata": {}
        },
        {
          "output_type": "display_data",
          "data": {
            "text/plain": [
              "recommendations finished on 60000/89981 queries. users per second: 7660.36"
            ],
            "text/html": [
              "<pre>recommendations finished on 60000/89981 queries. users per second: 7660.36</pre>"
            ]
          },
          "metadata": {}
        },
        {
          "output_type": "display_data",
          "data": {
            "text/plain": [
              "recommendations finished on 61000/89981 queries. users per second: 7662.39"
            ],
            "text/html": [
              "<pre>recommendations finished on 61000/89981 queries. users per second: 7662.39</pre>"
            ]
          },
          "metadata": {}
        },
        {
          "output_type": "display_data",
          "data": {
            "text/plain": [
              "recommendations finished on 62000/89981 queries. users per second: 7664.22"
            ],
            "text/html": [
              "<pre>recommendations finished on 62000/89981 queries. users per second: 7664.22</pre>"
            ]
          },
          "metadata": {}
        },
        {
          "output_type": "display_data",
          "data": {
            "text/plain": [
              "recommendations finished on 63000/89981 queries. users per second: 7666.28"
            ],
            "text/html": [
              "<pre>recommendations finished on 63000/89981 queries. users per second: 7666.28</pre>"
            ]
          },
          "metadata": {}
        },
        {
          "output_type": "display_data",
          "data": {
            "text/plain": [
              "recommendations finished on 64000/89981 queries. users per second: 7665.21"
            ],
            "text/html": [
              "<pre>recommendations finished on 64000/89981 queries. users per second: 7665.21</pre>"
            ]
          },
          "metadata": {}
        },
        {
          "output_type": "display_data",
          "data": {
            "text/plain": [
              "recommendations finished on 65000/89981 queries. users per second: 7665.17"
            ],
            "text/html": [
              "<pre>recommendations finished on 65000/89981 queries. users per second: 7665.17</pre>"
            ]
          },
          "metadata": {}
        },
        {
          "output_type": "display_data",
          "data": {
            "text/plain": [
              "recommendations finished on 66000/89981 queries. users per second: 7665.56"
            ],
            "text/html": [
              "<pre>recommendations finished on 66000/89981 queries. users per second: 7665.56</pre>"
            ]
          },
          "metadata": {}
        },
        {
          "output_type": "display_data",
          "data": {
            "text/plain": [
              "recommendations finished on 67000/89981 queries. users per second: 7665.63"
            ],
            "text/html": [
              "<pre>recommendations finished on 67000/89981 queries. users per second: 7665.63</pre>"
            ]
          },
          "metadata": {}
        },
        {
          "output_type": "display_data",
          "data": {
            "text/plain": [
              "recommendations finished on 68000/89981 queries. users per second: 7664.33"
            ],
            "text/html": [
              "<pre>recommendations finished on 68000/89981 queries. users per second: 7664.33</pre>"
            ]
          },
          "metadata": {}
        },
        {
          "output_type": "display_data",
          "data": {
            "text/plain": [
              "recommendations finished on 69000/89981 queries. users per second: 7664.72"
            ],
            "text/html": [
              "<pre>recommendations finished on 69000/89981 queries. users per second: 7664.72</pre>"
            ]
          },
          "metadata": {}
        },
        {
          "output_type": "display_data",
          "data": {
            "text/plain": [
              "recommendations finished on 70000/89981 queries. users per second: 7666.39"
            ],
            "text/html": [
              "<pre>recommendations finished on 70000/89981 queries. users per second: 7666.39</pre>"
            ]
          },
          "metadata": {}
        },
        {
          "output_type": "display_data",
          "data": {
            "text/plain": [
              "recommendations finished on 71000/89981 queries. users per second: 7666.61"
            ],
            "text/html": [
              "<pre>recommendations finished on 71000/89981 queries. users per second: 7666.61</pre>"
            ]
          },
          "metadata": {}
        },
        {
          "output_type": "display_data",
          "data": {
            "text/plain": [
              "recommendations finished on 72000/89981 queries. users per second: 7660.35"
            ],
            "text/html": [
              "<pre>recommendations finished on 72000/89981 queries. users per second: 7660.35</pre>"
            ]
          },
          "metadata": {}
        },
        {
          "output_type": "display_data",
          "data": {
            "text/plain": [
              "recommendations finished on 73000/89981 queries. users per second: 7661.25"
            ],
            "text/html": [
              "<pre>recommendations finished on 73000/89981 queries. users per second: 7661.25</pre>"
            ]
          },
          "metadata": {}
        },
        {
          "output_type": "display_data",
          "data": {
            "text/plain": [
              "recommendations finished on 74000/89981 queries. users per second: 7662.93"
            ],
            "text/html": [
              "<pre>recommendations finished on 74000/89981 queries. users per second: 7662.93</pre>"
            ]
          },
          "metadata": {}
        },
        {
          "output_type": "display_data",
          "data": {
            "text/plain": [
              "recommendations finished on 75000/89981 queries. users per second: 7662.54"
            ],
            "text/html": [
              "<pre>recommendations finished on 75000/89981 queries. users per second: 7662.54</pre>"
            ]
          },
          "metadata": {}
        },
        {
          "output_type": "display_data",
          "data": {
            "text/plain": [
              "recommendations finished on 76000/89981 queries. users per second: 7661.88"
            ],
            "text/html": [
              "<pre>recommendations finished on 76000/89981 queries. users per second: 7661.88</pre>"
            ]
          },
          "metadata": {}
        },
        {
          "output_type": "display_data",
          "data": {
            "text/plain": [
              "recommendations finished on 77000/89981 queries. users per second: 7662.85"
            ],
            "text/html": [
              "<pre>recommendations finished on 77000/89981 queries. users per second: 7662.85</pre>"
            ]
          },
          "metadata": {}
        },
        {
          "output_type": "display_data",
          "data": {
            "text/plain": [
              "recommendations finished on 78000/89981 queries. users per second: 7662.34"
            ],
            "text/html": [
              "<pre>recommendations finished on 78000/89981 queries. users per second: 7662.34</pre>"
            ]
          },
          "metadata": {}
        },
        {
          "output_type": "display_data",
          "data": {
            "text/plain": [
              "recommendations finished on 79000/89981 queries. users per second: 7656.58"
            ],
            "text/html": [
              "<pre>recommendations finished on 79000/89981 queries. users per second: 7656.58</pre>"
            ]
          },
          "metadata": {}
        },
        {
          "output_type": "display_data",
          "data": {
            "text/plain": [
              "recommendations finished on 80000/89981 queries. users per second: 7656.12"
            ],
            "text/html": [
              "<pre>recommendations finished on 80000/89981 queries. users per second: 7656.12</pre>"
            ]
          },
          "metadata": {}
        },
        {
          "output_type": "display_data",
          "data": {
            "text/plain": [
              "recommendations finished on 81000/89981 queries. users per second: 7656.67"
            ],
            "text/html": [
              "<pre>recommendations finished on 81000/89981 queries. users per second: 7656.67</pre>"
            ]
          },
          "metadata": {}
        },
        {
          "output_type": "display_data",
          "data": {
            "text/plain": [
              "recommendations finished on 82000/89981 queries. users per second: 7657.92"
            ],
            "text/html": [
              "<pre>recommendations finished on 82000/89981 queries. users per second: 7657.92</pre>"
            ]
          },
          "metadata": {}
        },
        {
          "output_type": "display_data",
          "data": {
            "text/plain": [
              "recommendations finished on 83000/89981 queries. users per second: 7657.92"
            ],
            "text/html": [
              "<pre>recommendations finished on 83000/89981 queries. users per second: 7657.92</pre>"
            ]
          },
          "metadata": {}
        },
        {
          "output_type": "display_data",
          "data": {
            "text/plain": [
              "recommendations finished on 84000/89981 queries. users per second: 7657.84"
            ],
            "text/html": [
              "<pre>recommendations finished on 84000/89981 queries. users per second: 7657.84</pre>"
            ]
          },
          "metadata": {}
        },
        {
          "output_type": "display_data",
          "data": {
            "text/plain": [
              "recommendations finished on 85000/89981 queries. users per second: 7658.61"
            ],
            "text/html": [
              "<pre>recommendations finished on 85000/89981 queries. users per second: 7658.61</pre>"
            ]
          },
          "metadata": {}
        },
        {
          "output_type": "display_data",
          "data": {
            "text/plain": [
              "recommendations finished on 86000/89981 queries. users per second: 7659.54"
            ],
            "text/html": [
              "<pre>recommendations finished on 86000/89981 queries. users per second: 7659.54</pre>"
            ]
          },
          "metadata": {}
        },
        {
          "output_type": "display_data",
          "data": {
            "text/plain": [
              "recommendations finished on 87000/89981 queries. users per second: 7660.69"
            ],
            "text/html": [
              "<pre>recommendations finished on 87000/89981 queries. users per second: 7660.69</pre>"
            ]
          },
          "metadata": {}
        },
        {
          "output_type": "display_data",
          "data": {
            "text/plain": [
              "recommendations finished on 88000/89981 queries. users per second: 7655.25"
            ],
            "text/html": [
              "<pre>recommendations finished on 88000/89981 queries. users per second: 7655.25</pre>"
            ]
          },
          "metadata": {}
        },
        {
          "output_type": "display_data",
          "data": {
            "text/plain": [
              "recommendations finished on 89000/89981 queries. users per second: 7655.61"
            ],
            "text/html": [
              "<pre>recommendations finished on 89000/89981 queries. users per second: 7655.61</pre>"
            ]
          },
          "metadata": {}
        }
      ]
    },
    {
      "cell_type": "code",
      "source": [
        "jac_eval"
      ],
      "metadata": {
        "colab": {
          "base_uri": "https://localhost:8080/"
        },
        "id": "xHR6gX3jZC_s",
        "outputId": "0f757eaf-26c5-4f89-a880-3fd1740fc882"
      },
      "execution_count": null,
      "outputs": [
        {
          "output_type": "execute_result",
          "data": {
            "text/plain": [
              "{'precision_recall_by_user': Columns:\n",
              " \tcustomer_id\tint\n",
              " \tcutoff\tint\n",
              " \tprecision\tfloat\n",
              " \trecall\tfloat\n",
              " \tcount\tint\n",
              " \n",
              " Rows: 179962\n",
              " \n",
              " Data:\n",
              " +-------------+--------+--------------------+----------------------+-------+\n",
              " | customer_id | cutoff |     precision      |        recall        | count |\n",
              " +-------------+--------+--------------------+----------------------+-------+\n",
              " |      5      |   1    |        0.0         |         0.0          |   9   |\n",
              " |      5      |   12   |        0.0         |         0.0          |   9   |\n",
              " |      12     |   1    |        0.0         |         0.0          |   12  |\n",
              " |      12     |   12   |        0.0         |         0.0          |   12  |\n",
              " |      14     |   1    |        0.0         |         0.0          |   11  |\n",
              " |      14     |   12   |        0.0         |         0.0          |   11  |\n",
              " |      24     |   1    |        1.0         | 0.011764705882352941 |   85  |\n",
              " |      24     |   12   |        0.5         | 0.07058823529411765  |   85  |\n",
              " |      29     |   1    |        1.0         | 0.018867924528301886 |   53  |\n",
              " |      29     |   12   | 0.3333333333333333 | 0.07547169811320754  |   53  |\n",
              " +-------------+--------+--------------------+----------------------+-------+\n",
              " [179962 rows x 5 columns]\n",
              " Note: Only the head of the SFrame is printed.\n",
              " You can use print_rows(num_rows=m, num_columns=n) to print more rows and columns.,\n",
              " 'precision_recall_overall': Columns:\n",
              " \tcutoff\tint\n",
              " \tprecision\tfloat\n",
              " \trecall\tfloat\n",
              " \n",
              " Rows: 2\n",
              " \n",
              " Data:\n",
              " +--------+---------------------+---------------------+\n",
              " | cutoff |      precision      |        recall       |\n",
              " +--------+---------------------+---------------------+\n",
              " |   1    |  0.2574210111023445 | 0.01785760975101164 |\n",
              " |   12   | 0.09470980910784872 | 0.07449916550740955 |\n",
              " +--------+---------------------+---------------------+\n",
              " [2 rows x 3 columns]}"
            ]
          },
          "metadata": {},
          "execution_count": 30
        }
      ]
    },
    {
      "cell_type": "markdown",
      "source": [
        "# 2 Matrirx Factorization"
      ],
      "metadata": {
        "id": "WGxO3TZmg9Yv"
      }
    },
    {
      "cell_type": "markdown",
      "source": [
        "Latent dimensionality: K < 18609"
      ],
      "metadata": {
        "id": "bWAStoCUxRnH"
      }
    },
    {
      "cell_type": "markdown",
      "source": [
        "## 2-1 Adagrad and SGD"
      ],
      "metadata": {
        "id": "gqjWGLbticY6"
      }
    },
    {
      "cell_type": "code",
      "source": [
        "mf_grad = tc.ranking_factorization_recommender.create(df_train, \n",
        "                                              user_id='user_id', \n",
        "                                              item_id='item_id',\n",
        "                                              num_factors=10,\n",
        "                                              #max_iterations=40\n",
        "                                              solver='adagrad')\n",
        "# recommend k products for a list of users (None corresponds to all users) \n",
        "recommendation = mf_grad.recommend(users=None, k=12)"
      ],
      "metadata": {
        "colab": {
          "base_uri": "https://localhost:8080/",
          "height": 1000
        },
        "id": "01UNoe3-i3oY",
        "outputId": "f72991dc-0146-45f8-b1fe-161fca74ebc9"
      },
      "execution_count": null,
      "outputs": [
        {
          "output_type": "display_data",
          "data": {
            "text/plain": [
              "Preparing data set."
            ],
            "text/html": [
              "<pre>Preparing data set.</pre>"
            ]
          },
          "metadata": {}
        },
        {
          "output_type": "display_data",
          "data": {
            "text/plain": [
              "    Data has 16380622 observations with 305945 users and 42373 items."
            ],
            "text/html": [
              "<pre>    Data has 16380622 observations with 305945 users and 42373 items.</pre>"
            ]
          },
          "metadata": {}
        },
        {
          "output_type": "display_data",
          "data": {
            "text/plain": [
              "    Data prepared in: 16.0679s"
            ],
            "text/html": [
              "<pre>    Data prepared in: 16.0679s</pre>"
            ]
          },
          "metadata": {}
        },
        {
          "output_type": "display_data",
          "data": {
            "text/plain": [
              "Training ranking_factorization_recommender for recommendations."
            ],
            "text/html": [
              "<pre>Training ranking_factorization_recommender for recommendations.</pre>"
            ]
          },
          "metadata": {}
        },
        {
          "output_type": "display_data",
          "data": {
            "text/plain": [
              "+--------------------------------+--------------------------------------------------+----------+"
            ],
            "text/html": [
              "<pre>+--------------------------------+--------------------------------------------------+----------+</pre>"
            ]
          },
          "metadata": {}
        },
        {
          "output_type": "display_data",
          "data": {
            "text/plain": [
              "| Parameter                      | Description                                      | Value    |"
            ],
            "text/html": [
              "<pre>| Parameter                      | Description                                      | Value    |</pre>"
            ]
          },
          "metadata": {}
        },
        {
          "output_type": "display_data",
          "data": {
            "text/plain": [
              "+--------------------------------+--------------------------------------------------+----------+"
            ],
            "text/html": [
              "<pre>+--------------------------------+--------------------------------------------------+----------+</pre>"
            ]
          },
          "metadata": {}
        },
        {
          "output_type": "display_data",
          "data": {
            "text/plain": [
              "| num_factors                    | Factor Dimension                                 | 10       |"
            ],
            "text/html": [
              "<pre>| num_factors                    | Factor Dimension                                 | 10       |</pre>"
            ]
          },
          "metadata": {}
        },
        {
          "output_type": "display_data",
          "data": {
            "text/plain": [
              "| regularization                 | L2 Regularization on Factors                     | 1e-09    |"
            ],
            "text/html": [
              "<pre>| regularization                 | L2 Regularization on Factors                     | 1e-09    |</pre>"
            ]
          },
          "metadata": {}
        },
        {
          "output_type": "display_data",
          "data": {
            "text/plain": [
              "| solver                         | Solver used for training                         | adagrad  |"
            ],
            "text/html": [
              "<pre>| solver                         | Solver used for training                         | adagrad  |</pre>"
            ]
          },
          "metadata": {}
        },
        {
          "output_type": "display_data",
          "data": {
            "text/plain": [
              "| linear_regularization          | L2 Regularization on Linear Coefficients         | 1e-09    |"
            ],
            "text/html": [
              "<pre>| linear_regularization          | L2 Regularization on Linear Coefficients         | 1e-09    |</pre>"
            ]
          },
          "metadata": {}
        },
        {
          "output_type": "display_data",
          "data": {
            "text/plain": [
              "| binary_target                  | Assume Binary Targets                            | True     |"
            ],
            "text/html": [
              "<pre>| binary_target                  | Assume Binary Targets                            | True     |</pre>"
            ]
          },
          "metadata": {}
        },
        {
          "output_type": "display_data",
          "data": {
            "text/plain": [
              "| max_iterations                 | Maximum Number of Iterations                     | 25       |"
            ],
            "text/html": [
              "<pre>| max_iterations                 | Maximum Number of Iterations                     | 25       |</pre>"
            ]
          },
          "metadata": {}
        },
        {
          "output_type": "display_data",
          "data": {
            "text/plain": [
              "+--------------------------------+--------------------------------------------------+----------+"
            ],
            "text/html": [
              "<pre>+--------------------------------+--------------------------------------------------+----------+</pre>"
            ]
          },
          "metadata": {}
        },
        {
          "output_type": "display_data",
          "data": {
            "text/plain": [
              "  Optimizing model using SGD; tuning step size."
            ],
            "text/html": [
              "<pre>  Optimizing model using SGD; tuning step size.</pre>"
            ]
          },
          "metadata": {}
        },
        {
          "output_type": "display_data",
          "data": {
            "text/plain": [
              "  Using 2047577 / 16380622 points for tuning the step size."
            ],
            "text/html": [
              "<pre>  Using 2047577 / 16380622 points for tuning the step size.</pre>"
            ]
          },
          "metadata": {}
        },
        {
          "output_type": "display_data",
          "data": {
            "text/plain": [
              "+---------+-------------------+------------------------------------------+"
            ],
            "text/html": [
              "<pre>+---------+-------------------+------------------------------------------+</pre>"
            ]
          },
          "metadata": {}
        },
        {
          "output_type": "display_data",
          "data": {
            "text/plain": [
              "| Attempt | Initial Step Size | Estimated Objective Value                |"
            ],
            "text/html": [
              "<pre>| Attempt | Initial Step Size | Estimated Objective Value                |</pre>"
            ]
          },
          "metadata": {}
        },
        {
          "output_type": "display_data",
          "data": {
            "text/plain": [
              "+---------+-------------------+------------------------------------------+"
            ],
            "text/html": [
              "<pre>+---------+-------------------+------------------------------------------+</pre>"
            ]
          },
          "metadata": {}
        },
        {
          "output_type": "display_data",
          "data": {
            "text/plain": [
              "| 0       | 25                | No Decrease (13.1825 >= 1.38644)         |"
            ],
            "text/html": [
              "<pre>| 0       | 25                | No Decrease (13.1825 >= 1.38644)         |</pre>"
            ]
          },
          "metadata": {}
        },
        {
          "output_type": "display_data",
          "data": {
            "text/plain": [
              "| 1       | 6.25              | No Decrease (3.33527 >= 1.38644)         |"
            ],
            "text/html": [
              "<pre>| 1       | 6.25              | No Decrease (3.33527 >= 1.38644)         |</pre>"
            ]
          },
          "metadata": {}
        },
        {
          "output_type": "display_data",
          "data": {
            "text/plain": [
              "| 2       | 1.5625            | No Decrease (1.45021 >= 1.38644)         |"
            ],
            "text/html": [
              "<pre>| 2       | 1.5625            | No Decrease (1.45021 >= 1.38644)         |</pre>"
            ]
          },
          "metadata": {}
        },
        {
          "output_type": "display_data",
          "data": {
            "text/plain": [
              "| 3       | 0.390625          | 1.26471                                  |"
            ],
            "text/html": [
              "<pre>| 3       | 0.390625          | 1.26471                                  |</pre>"
            ]
          },
          "metadata": {}
        },
        {
          "output_type": "display_data",
          "data": {
            "text/plain": [
              "| 4       | 0.195312          | 1.2637                                   |"
            ],
            "text/html": [
              "<pre>| 4       | 0.195312          | 1.2637                                   |</pre>"
            ]
          },
          "metadata": {}
        },
        {
          "output_type": "display_data",
          "data": {
            "text/plain": [
              "| 5       | 0.0976562         | 1.28823                                  |"
            ],
            "text/html": [
              "<pre>| 5       | 0.0976562         | 1.28823                                  |</pre>"
            ]
          },
          "metadata": {}
        },
        {
          "output_type": "display_data",
          "data": {
            "text/plain": [
              "| 6       | 0.0488281         | 1.32305                                  |"
            ],
            "text/html": [
              "<pre>| 6       | 0.0488281         | 1.32305                                  |</pre>"
            ]
          },
          "metadata": {}
        },
        {
          "output_type": "display_data",
          "data": {
            "text/plain": [
              "| 7       | 0.0244141         | 1.34976                                  |"
            ],
            "text/html": [
              "<pre>| 7       | 0.0244141         | 1.34976                                  |</pre>"
            ]
          },
          "metadata": {}
        },
        {
          "output_type": "display_data",
          "data": {
            "text/plain": [
              "+---------+-------------------+------------------------------------------+"
            ],
            "text/html": [
              "<pre>+---------+-------------------+------------------------------------------+</pre>"
            ]
          },
          "metadata": {}
        },
        {
          "output_type": "display_data",
          "data": {
            "text/plain": [
              "| Final   | 0.195312          | 1.2637                                   |"
            ],
            "text/html": [
              "<pre>| Final   | 0.195312          | 1.2637                                   |</pre>"
            ]
          },
          "metadata": {}
        },
        {
          "output_type": "display_data",
          "data": {
            "text/plain": [
              "+---------+-------------------+------------------------------------------+"
            ],
            "text/html": [
              "<pre>+---------+-------------------+------------------------------------------+</pre>"
            ]
          },
          "metadata": {}
        },
        {
          "output_type": "display_data",
          "data": {
            "text/plain": [
              "Starting Optimization."
            ],
            "text/html": [
              "<pre>Starting Optimization.</pre>"
            ]
          },
          "metadata": {}
        },
        {
          "output_type": "display_data",
          "data": {
            "text/plain": [
              "+---------+--------------+-------------------+-----------------------------------+-------------+"
            ],
            "text/html": [
              "<pre>+---------+--------------+-------------------+-----------------------------------+-------------+</pre>"
            ]
          },
          "metadata": {}
        },
        {
          "output_type": "display_data",
          "data": {
            "text/plain": [
              "| Iter.   | Elapsed Time | Approx. Objective | Approx. Training Predictive Error | Step Size   |"
            ],
            "text/html": [
              "<pre>| Iter.   | Elapsed Time | Approx. Objective | Approx. Training Predictive Error | Step Size   |</pre>"
            ]
          },
          "metadata": {}
        },
        {
          "output_type": "display_data",
          "data": {
            "text/plain": [
              "+---------+--------------+-------------------+-----------------------------------+-------------+"
            ],
            "text/html": [
              "<pre>+---------+--------------+-------------------+-----------------------------------+-------------+</pre>"
            ]
          },
          "metadata": {}
        },
        {
          "output_type": "display_data",
          "data": {
            "text/plain": [
              "| Initial | 122us        | 1.38644           | 0.693146                          |             |"
            ],
            "text/html": [
              "<pre>| Initial | 122us        | 1.38644           | 0.693146                          |             |</pre>"
            ]
          },
          "metadata": {}
        },
        {
          "output_type": "display_data",
          "data": {
            "text/plain": [
              "+---------+--------------+-------------------+-----------------------------------+-------------+"
            ],
            "text/html": [
              "<pre>+---------+--------------+-------------------+-----------------------------------+-------------+</pre>"
            ]
          },
          "metadata": {}
        },
        {
          "output_type": "display_data",
          "data": {
            "text/plain": [
              "| 1       | 22.19s       | 1.29411           | 0.644891                          | 0.195312    |"
            ],
            "text/html": [
              "<pre>| 1       | 22.19s       | 1.29411           | 0.644891                          | 0.195312    |</pre>"
            ]
          },
          "metadata": {}
        },
        {
          "output_type": "display_data",
          "data": {
            "text/plain": [
              "| 2       | 44.68s       | 1.32145           | 0.66609                           | 0.195312    |"
            ],
            "text/html": [
              "<pre>| 2       | 44.68s       | 1.32145           | 0.66609                           | 0.195312    |</pre>"
            ]
          },
          "metadata": {}
        },
        {
          "output_type": "display_data",
          "data": {
            "text/plain": [
              "| 3       | 1m 6s        | 1.28842           | 0.64992                           | 0.195312    |"
            ],
            "text/html": [
              "<pre>| 3       | 1m 6s        | 1.28842           | 0.64992                           | 0.195312    |</pre>"
            ]
          },
          "metadata": {}
        },
        {
          "output_type": "display_data",
          "data": {
            "text/plain": [
              "| 4       | 1m 29s       | 1.27334           | 0.642814                          | 0.195312    |"
            ],
            "text/html": [
              "<pre>| 4       | 1m 29s       | 1.27334           | 0.642814                          | 0.195312    |</pre>"
            ]
          },
          "metadata": {}
        },
        {
          "output_type": "display_data",
          "data": {
            "text/plain": [
              "| 5       | 1m 53s       | 1.26437           | 0.638682                          | 0.195312    |"
            ],
            "text/html": [
              "<pre>| 5       | 1m 53s       | 1.26437           | 0.638682                          | 0.195312    |</pre>"
            ]
          },
          "metadata": {}
        },
        {
          "output_type": "display_data",
          "data": {
            "text/plain": [
              "| 7       | 2m 35s       | 1.2541            | 0.633889                          | 0.195312    |"
            ],
            "text/html": [
              "<pre>| 7       | 2m 35s       | 1.2541            | 0.633889                          | 0.195312    |</pre>"
            ]
          },
          "metadata": {}
        },
        {
          "output_type": "display_data",
          "data": {
            "text/plain": [
              "| 8       | 2m 56s       | 1.25055           | 0.631531                          | 0.195312    |"
            ],
            "text/html": [
              "<pre>| 8       | 2m 56s       | 1.25055           | 0.631531                          | 0.195312    |</pre>"
            ]
          },
          "metadata": {}
        },
        {
          "output_type": "display_data",
          "data": {
            "text/plain": [
              "| 9       | 3m 17s       | 1.24803           | 0.630747                          | 0.195312    |"
            ],
            "text/html": [
              "<pre>| 9       | 3m 17s       | 1.24803           | 0.630747                          | 0.195312    |</pre>"
            ]
          },
          "metadata": {}
        },
        {
          "output_type": "display_data",
          "data": {
            "text/plain": [
              "| 10      | 3m 38s       | 1.24605           | 0.629364                          | 0.195312    |"
            ],
            "text/html": [
              "<pre>| 10      | 3m 38s       | 1.24605           | 0.629364                          | 0.195312    |</pre>"
            ]
          },
          "metadata": {}
        },
        {
          "output_type": "display_data",
          "data": {
            "text/plain": [
              "| 11      | 4m 1s        | 1.24421           | 0.628246                          | 0.195312    |"
            ],
            "text/html": [
              "<pre>| 11      | 4m 1s        | 1.24421           | 0.628246                          | 0.195312    |</pre>"
            ]
          },
          "metadata": {}
        },
        {
          "output_type": "display_data",
          "data": {
            "text/plain": [
              "| 12      | 4m 22s       | 1.2426            | 0.627749                          | 0.195312    |"
            ],
            "text/html": [
              "<pre>| 12      | 4m 22s       | 1.2426            | 0.627749                          | 0.195312    |</pre>"
            ]
          },
          "metadata": {}
        },
        {
          "output_type": "display_data",
          "data": {
            "text/plain": [
              "| 13      | 4m 43s       | 1.24116           | 0.626753                          | 0.195312    |"
            ],
            "text/html": [
              "<pre>| 13      | 4m 43s       | 1.24116           | 0.626753                          | 0.195312    |</pre>"
            ]
          },
          "metadata": {}
        },
        {
          "output_type": "display_data",
          "data": {
            "text/plain": [
              "| 14      | 5m 4s        | 1.24008           | 0.62614                           | 0.195312    |"
            ],
            "text/html": [
              "<pre>| 14      | 5m 4s        | 1.24008           | 0.62614                           | 0.195312    |</pre>"
            ]
          },
          "metadata": {}
        },
        {
          "output_type": "display_data",
          "data": {
            "text/plain": [
              "| 15      | 5m 25s       | 1.23896           | 0.625872                          | 0.195312    |"
            ],
            "text/html": [
              "<pre>| 15      | 5m 25s       | 1.23896           | 0.625872                          | 0.195312    |</pre>"
            ]
          },
          "metadata": {}
        },
        {
          "output_type": "display_data",
          "data": {
            "text/plain": [
              "| 16      | 5m 47s       | 1.23791           | 0.624912                          | 0.195312    |"
            ],
            "text/html": [
              "<pre>| 16      | 5m 47s       | 1.23791           | 0.624912                          | 0.195312    |</pre>"
            ]
          },
          "metadata": {}
        },
        {
          "output_type": "display_data",
          "data": {
            "text/plain": [
              "| 17      | 6m 8s        | 1.23713           | 0.624498                          | 0.195312    |"
            ],
            "text/html": [
              "<pre>| 17      | 6m 8s        | 1.23713           | 0.624498                          | 0.195312    |</pre>"
            ]
          },
          "metadata": {}
        },
        {
          "output_type": "display_data",
          "data": {
            "text/plain": [
              "| 18      | 6m 29s       | 1.23664           | 0.624203                          | 0.195312    |"
            ],
            "text/html": [
              "<pre>| 18      | 6m 29s       | 1.23664           | 0.624203                          | 0.195312    |</pre>"
            ]
          },
          "metadata": {}
        },
        {
          "output_type": "display_data",
          "data": {
            "text/plain": [
              "| 19      | 6m 50s       | 1.23571           | 0.623788                          | 0.195312    |"
            ],
            "text/html": [
              "<pre>| 19      | 6m 50s       | 1.23571           | 0.623788                          | 0.195312    |</pre>"
            ]
          },
          "metadata": {}
        },
        {
          "output_type": "display_data",
          "data": {
            "text/plain": [
              "| 20      | 7m 11s       | 1.23512           | 0.623478                          | 0.195312    |"
            ],
            "text/html": [
              "<pre>| 20      | 7m 11s       | 1.23512           | 0.623478                          | 0.195312    |</pre>"
            ]
          },
          "metadata": {}
        },
        {
          "output_type": "display_data",
          "data": {
            "text/plain": [
              "| 21      | 7m 32s       | 1.23451           | 0.623094                          | 0.195312    |"
            ],
            "text/html": [
              "<pre>| 21      | 7m 32s       | 1.23451           | 0.623094                          | 0.195312    |</pre>"
            ]
          },
          "metadata": {}
        },
        {
          "output_type": "display_data",
          "data": {
            "text/plain": [
              "| 22      | 7m 55s       | 1.23416           | 0.622804                          | 0.195312    |"
            ],
            "text/html": [
              "<pre>| 22      | 7m 55s       | 1.23416           | 0.622804                          | 0.195312    |</pre>"
            ]
          },
          "metadata": {}
        },
        {
          "output_type": "display_data",
          "data": {
            "text/plain": [
              "| 23      | 8m 16s       | 1.23361           | 0.622601                          | 0.195312    |"
            ],
            "text/html": [
              "<pre>| 23      | 8m 16s       | 1.23361           | 0.622601                          | 0.195312    |</pre>"
            ]
          },
          "metadata": {}
        },
        {
          "output_type": "display_data",
          "data": {
            "text/plain": [
              "| 24      | 8m 36s       | 1.23316           | 0.62214                           | 0.195312    |"
            ],
            "text/html": [
              "<pre>| 24      | 8m 36s       | 1.23316           | 0.62214                           | 0.195312    |</pre>"
            ]
          },
          "metadata": {}
        },
        {
          "output_type": "display_data",
          "data": {
            "text/plain": [
              "| 25      | 8m 56s       | 1.23283           | 0.621907                          | 0.195312    |"
            ],
            "text/html": [
              "<pre>| 25      | 8m 56s       | 1.23283           | 0.621907                          | 0.195312    |</pre>"
            ]
          },
          "metadata": {}
        },
        {
          "output_type": "display_data",
          "data": {
            "text/plain": [
              "+---------+--------------+-------------------+-----------------------------------+-------------+"
            ],
            "text/html": [
              "<pre>+---------+--------------+-------------------+-----------------------------------+-------------+</pre>"
            ]
          },
          "metadata": {}
        },
        {
          "output_type": "display_data",
          "data": {
            "text/plain": [
              "Optimization Complete: Maximum number of passes through the data reached."
            ],
            "text/html": [
              "<pre>Optimization Complete: Maximum number of passes through the data reached.</pre>"
            ]
          },
          "metadata": {}
        },
        {
          "output_type": "display_data",
          "data": {
            "text/plain": [
              "Computing final objective value and training Predictive Error."
            ],
            "text/html": [
              "<pre>Computing final objective value and training Predictive Error.</pre>"
            ]
          },
          "metadata": {}
        },
        {
          "output_type": "display_data",
          "data": {
            "text/plain": [
              "       Final objective value: 1.22702"
            ],
            "text/html": [
              "<pre>       Final objective value: 1.22702</pre>"
            ]
          },
          "metadata": {}
        },
        {
          "output_type": "display_data",
          "data": {
            "text/plain": [
              "       Final training Predictive Error: 0.624688"
            ],
            "text/html": [
              "<pre>       Final training Predictive Error: 0.624688</pre>"
            ]
          },
          "metadata": {}
        },
        {
          "output_type": "display_data",
          "data": {
            "text/plain": [
              "recommendations finished on 1000/305945 queries. users per second: 1360.41"
            ],
            "text/html": [
              "<pre>recommendations finished on 1000/305945 queries. users per second: 1360.41</pre>"
            ]
          },
          "metadata": {}
        },
        {
          "output_type": "display_data",
          "data": {
            "text/plain": [
              "recommendations finished on 2000/305945 queries. users per second: 1396.41"
            ],
            "text/html": [
              "<pre>recommendations finished on 2000/305945 queries. users per second: 1396.41</pre>"
            ]
          },
          "metadata": {}
        },
        {
          "output_type": "display_data",
          "data": {
            "text/plain": [
              "recommendations finished on 3000/305945 queries. users per second: 1397.36"
            ],
            "text/html": [
              "<pre>recommendations finished on 3000/305945 queries. users per second: 1397.36</pre>"
            ]
          },
          "metadata": {}
        },
        {
          "output_type": "display_data",
          "data": {
            "text/plain": [
              "recommendations finished on 4000/305945 queries. users per second: 1398.59"
            ],
            "text/html": [
              "<pre>recommendations finished on 4000/305945 queries. users per second: 1398.59</pre>"
            ]
          },
          "metadata": {}
        },
        {
          "output_type": "display_data",
          "data": {
            "text/plain": [
              "recommendations finished on 5000/305945 queries. users per second: 1407.3"
            ],
            "text/html": [
              "<pre>recommendations finished on 5000/305945 queries. users per second: 1407.3</pre>"
            ]
          },
          "metadata": {}
        },
        {
          "output_type": "display_data",
          "data": {
            "text/plain": [
              "recommendations finished on 6000/305945 queries. users per second: 1407.99"
            ],
            "text/html": [
              "<pre>recommendations finished on 6000/305945 queries. users per second: 1407.99</pre>"
            ]
          },
          "metadata": {}
        },
        {
          "output_type": "display_data",
          "data": {
            "text/plain": [
              "recommendations finished on 7000/305945 queries. users per second: 1407.09"
            ],
            "text/html": [
              "<pre>recommendations finished on 7000/305945 queries. users per second: 1407.09</pre>"
            ]
          },
          "metadata": {}
        },
        {
          "output_type": "display_data",
          "data": {
            "text/plain": [
              "recommendations finished on 8000/305945 queries. users per second: 1409.27"
            ],
            "text/html": [
              "<pre>recommendations finished on 8000/305945 queries. users per second: 1409.27</pre>"
            ]
          },
          "metadata": {}
        },
        {
          "output_type": "display_data",
          "data": {
            "text/plain": [
              "recommendations finished on 9000/305945 queries. users per second: 1404.72"
            ],
            "text/html": [
              "<pre>recommendations finished on 9000/305945 queries. users per second: 1404.72</pre>"
            ]
          },
          "metadata": {}
        },
        {
          "output_type": "display_data",
          "data": {
            "text/plain": [
              "recommendations finished on 10000/305945 queries. users per second: 1405.38"
            ],
            "text/html": [
              "<pre>recommendations finished on 10000/305945 queries. users per second: 1405.38</pre>"
            ]
          },
          "metadata": {}
        },
        {
          "output_type": "display_data",
          "data": {
            "text/plain": [
              "recommendations finished on 11000/305945 queries. users per second: 1401.94"
            ],
            "text/html": [
              "<pre>recommendations finished on 11000/305945 queries. users per second: 1401.94</pre>"
            ]
          },
          "metadata": {}
        },
        {
          "output_type": "display_data",
          "data": {
            "text/plain": [
              "recommendations finished on 12000/305945 queries. users per second: 1398.11"
            ],
            "text/html": [
              "<pre>recommendations finished on 12000/305945 queries. users per second: 1398.11</pre>"
            ]
          },
          "metadata": {}
        },
        {
          "output_type": "display_data",
          "data": {
            "text/plain": [
              "recommendations finished on 13000/305945 queries. users per second: 1395.93"
            ],
            "text/html": [
              "<pre>recommendations finished on 13000/305945 queries. users per second: 1395.93</pre>"
            ]
          },
          "metadata": {}
        },
        {
          "output_type": "display_data",
          "data": {
            "text/plain": [
              "recommendations finished on 14000/305945 queries. users per second: 1392.56"
            ],
            "text/html": [
              "<pre>recommendations finished on 14000/305945 queries. users per second: 1392.56</pre>"
            ]
          },
          "metadata": {}
        },
        {
          "output_type": "display_data",
          "data": {
            "text/plain": [
              "recommendations finished on 15000/305945 queries. users per second: 1393.88"
            ],
            "text/html": [
              "<pre>recommendations finished on 15000/305945 queries. users per second: 1393.88</pre>"
            ]
          },
          "metadata": {}
        },
        {
          "output_type": "display_data",
          "data": {
            "text/plain": [
              "recommendations finished on 16000/305945 queries. users per second: 1395.07"
            ],
            "text/html": [
              "<pre>recommendations finished on 16000/305945 queries. users per second: 1395.07</pre>"
            ]
          },
          "metadata": {}
        },
        {
          "output_type": "display_data",
          "data": {
            "text/plain": [
              "recommendations finished on 17000/305945 queries. users per second: 1394.78"
            ],
            "text/html": [
              "<pre>recommendations finished on 17000/305945 queries. users per second: 1394.78</pre>"
            ]
          },
          "metadata": {}
        },
        {
          "output_type": "display_data",
          "data": {
            "text/plain": [
              "recommendations finished on 18000/305945 queries. users per second: 1393.36"
            ],
            "text/html": [
              "<pre>recommendations finished on 18000/305945 queries. users per second: 1393.36</pre>"
            ]
          },
          "metadata": {}
        },
        {
          "output_type": "display_data",
          "data": {
            "text/plain": [
              "recommendations finished on 19000/305945 queries. users per second: 1391.9"
            ],
            "text/html": [
              "<pre>recommendations finished on 19000/305945 queries. users per second: 1391.9</pre>"
            ]
          },
          "metadata": {}
        },
        {
          "output_type": "display_data",
          "data": {
            "text/plain": [
              "recommendations finished on 20000/305945 queries. users per second: 1391.93"
            ],
            "text/html": [
              "<pre>recommendations finished on 20000/305945 queries. users per second: 1391.93</pre>"
            ]
          },
          "metadata": {}
        },
        {
          "output_type": "display_data",
          "data": {
            "text/plain": [
              "recommendations finished on 21000/305945 queries. users per second: 1392.39"
            ],
            "text/html": [
              "<pre>recommendations finished on 21000/305945 queries. users per second: 1392.39</pre>"
            ]
          },
          "metadata": {}
        },
        {
          "output_type": "display_data",
          "data": {
            "text/plain": [
              "recommendations finished on 22000/305945 queries. users per second: 1394.15"
            ],
            "text/html": [
              "<pre>recommendations finished on 22000/305945 queries. users per second: 1394.15</pre>"
            ]
          },
          "metadata": {}
        },
        {
          "output_type": "display_data",
          "data": {
            "text/plain": [
              "recommendations finished on 23000/305945 queries. users per second: 1393.76"
            ],
            "text/html": [
              "<pre>recommendations finished on 23000/305945 queries. users per second: 1393.76</pre>"
            ]
          },
          "metadata": {}
        },
        {
          "output_type": "display_data",
          "data": {
            "text/plain": [
              "recommendations finished on 24000/305945 queries. users per second: 1393.23"
            ],
            "text/html": [
              "<pre>recommendations finished on 24000/305945 queries. users per second: 1393.23</pre>"
            ]
          },
          "metadata": {}
        },
        {
          "output_type": "display_data",
          "data": {
            "text/plain": [
              "recommendations finished on 25000/305945 queries. users per second: 1394.19"
            ],
            "text/html": [
              "<pre>recommendations finished on 25000/305945 queries. users per second: 1394.19</pre>"
            ]
          },
          "metadata": {}
        },
        {
          "output_type": "display_data",
          "data": {
            "text/plain": [
              "recommendations finished on 26000/305945 queries. users per second: 1393.32"
            ],
            "text/html": [
              "<pre>recommendations finished on 26000/305945 queries. users per second: 1393.32</pre>"
            ]
          },
          "metadata": {}
        },
        {
          "output_type": "display_data",
          "data": {
            "text/plain": [
              "recommendations finished on 27000/305945 queries. users per second: 1394.7"
            ],
            "text/html": [
              "<pre>recommendations finished on 27000/305945 queries. users per second: 1394.7</pre>"
            ]
          },
          "metadata": {}
        },
        {
          "output_type": "display_data",
          "data": {
            "text/plain": [
              "recommendations finished on 28000/305945 queries. users per second: 1396.16"
            ],
            "text/html": [
              "<pre>recommendations finished on 28000/305945 queries. users per second: 1396.16</pre>"
            ]
          },
          "metadata": {}
        },
        {
          "output_type": "display_data",
          "data": {
            "text/plain": [
              "recommendations finished on 29000/305945 queries. users per second: 1397.21"
            ],
            "text/html": [
              "<pre>recommendations finished on 29000/305945 queries. users per second: 1397.21</pre>"
            ]
          },
          "metadata": {}
        },
        {
          "output_type": "display_data",
          "data": {
            "text/plain": [
              "recommendations finished on 30000/305945 queries. users per second: 1397.81"
            ],
            "text/html": [
              "<pre>recommendations finished on 30000/305945 queries. users per second: 1397.81</pre>"
            ]
          },
          "metadata": {}
        },
        {
          "output_type": "display_data",
          "data": {
            "text/plain": [
              "recommendations finished on 31000/305945 queries. users per second: 1398.3"
            ],
            "text/html": [
              "<pre>recommendations finished on 31000/305945 queries. users per second: 1398.3</pre>"
            ]
          },
          "metadata": {}
        },
        {
          "output_type": "display_data",
          "data": {
            "text/plain": [
              "recommendations finished on 32000/305945 queries. users per second: 1399.27"
            ],
            "text/html": [
              "<pre>recommendations finished on 32000/305945 queries. users per second: 1399.27</pre>"
            ]
          },
          "metadata": {}
        },
        {
          "output_type": "display_data",
          "data": {
            "text/plain": [
              "recommendations finished on 33000/305945 queries. users per second: 1399.61"
            ],
            "text/html": [
              "<pre>recommendations finished on 33000/305945 queries. users per second: 1399.61</pre>"
            ]
          },
          "metadata": {}
        },
        {
          "output_type": "display_data",
          "data": {
            "text/plain": [
              "recommendations finished on 34000/305945 queries. users per second: 1399.67"
            ],
            "text/html": [
              "<pre>recommendations finished on 34000/305945 queries. users per second: 1399.67</pre>"
            ]
          },
          "metadata": {}
        },
        {
          "output_type": "display_data",
          "data": {
            "text/plain": [
              "recommendations finished on 35000/305945 queries. users per second: 1398.91"
            ],
            "text/html": [
              "<pre>recommendations finished on 35000/305945 queries. users per second: 1398.91</pre>"
            ]
          },
          "metadata": {}
        },
        {
          "output_type": "display_data",
          "data": {
            "text/plain": [
              "recommendations finished on 36000/305945 queries. users per second: 1398.95"
            ],
            "text/html": [
              "<pre>recommendations finished on 36000/305945 queries. users per second: 1398.95</pre>"
            ]
          },
          "metadata": {}
        },
        {
          "output_type": "display_data",
          "data": {
            "text/plain": [
              "recommendations finished on 37000/305945 queries. users per second: 1398.24"
            ],
            "text/html": [
              "<pre>recommendations finished on 37000/305945 queries. users per second: 1398.24</pre>"
            ]
          },
          "metadata": {}
        },
        {
          "output_type": "display_data",
          "data": {
            "text/plain": [
              "recommendations finished on 38000/305945 queries. users per second: 1398.14"
            ],
            "text/html": [
              "<pre>recommendations finished on 38000/305945 queries. users per second: 1398.14</pre>"
            ]
          },
          "metadata": {}
        },
        {
          "output_type": "display_data",
          "data": {
            "text/plain": [
              "recommendations finished on 39000/305945 queries. users per second: 1398.2"
            ],
            "text/html": [
              "<pre>recommendations finished on 39000/305945 queries. users per second: 1398.2</pre>"
            ]
          },
          "metadata": {}
        },
        {
          "output_type": "display_data",
          "data": {
            "text/plain": [
              "recommendations finished on 40000/305945 queries. users per second: 1398.02"
            ],
            "text/html": [
              "<pre>recommendations finished on 40000/305945 queries. users per second: 1398.02</pre>"
            ]
          },
          "metadata": {}
        },
        {
          "output_type": "display_data",
          "data": {
            "text/plain": [
              "recommendations finished on 41000/305945 queries. users per second: 1396.86"
            ],
            "text/html": [
              "<pre>recommendations finished on 41000/305945 queries. users per second: 1396.86</pre>"
            ]
          },
          "metadata": {}
        },
        {
          "output_type": "display_data",
          "data": {
            "text/plain": [
              "recommendations finished on 42000/305945 queries. users per second: 1397.09"
            ],
            "text/html": [
              "<pre>recommendations finished on 42000/305945 queries. users per second: 1397.09</pre>"
            ]
          },
          "metadata": {}
        },
        {
          "output_type": "display_data",
          "data": {
            "text/plain": [
              "recommendations finished on 43000/305945 queries. users per second: 1397.65"
            ],
            "text/html": [
              "<pre>recommendations finished on 43000/305945 queries. users per second: 1397.65</pre>"
            ]
          },
          "metadata": {}
        },
        {
          "output_type": "display_data",
          "data": {
            "text/plain": [
              "recommendations finished on 44000/305945 queries. users per second: 1397.82"
            ],
            "text/html": [
              "<pre>recommendations finished on 44000/305945 queries. users per second: 1397.82</pre>"
            ]
          },
          "metadata": {}
        },
        {
          "output_type": "display_data",
          "data": {
            "text/plain": [
              "recommendations finished on 45000/305945 queries. users per second: 1397.91"
            ],
            "text/html": [
              "<pre>recommendations finished on 45000/305945 queries. users per second: 1397.91</pre>"
            ]
          },
          "metadata": {}
        },
        {
          "output_type": "display_data",
          "data": {
            "text/plain": [
              "recommendations finished on 46000/305945 queries. users per second: 1397.66"
            ],
            "text/html": [
              "<pre>recommendations finished on 46000/305945 queries. users per second: 1397.66</pre>"
            ]
          },
          "metadata": {}
        },
        {
          "output_type": "display_data",
          "data": {
            "text/plain": [
              "recommendations finished on 47000/305945 queries. users per second: 1397.94"
            ],
            "text/html": [
              "<pre>recommendations finished on 47000/305945 queries. users per second: 1397.94</pre>"
            ]
          },
          "metadata": {}
        },
        {
          "output_type": "display_data",
          "data": {
            "text/plain": [
              "recommendations finished on 48000/305945 queries. users per second: 1398.55"
            ],
            "text/html": [
              "<pre>recommendations finished on 48000/305945 queries. users per second: 1398.55</pre>"
            ]
          },
          "metadata": {}
        },
        {
          "output_type": "display_data",
          "data": {
            "text/plain": [
              "recommendations finished on 49000/305945 queries. users per second: 1398.3"
            ],
            "text/html": [
              "<pre>recommendations finished on 49000/305945 queries. users per second: 1398.3</pre>"
            ]
          },
          "metadata": {}
        },
        {
          "output_type": "display_data",
          "data": {
            "text/plain": [
              "recommendations finished on 50000/305945 queries. users per second: 1397.88"
            ],
            "text/html": [
              "<pre>recommendations finished on 50000/305945 queries. users per second: 1397.88</pre>"
            ]
          },
          "metadata": {}
        },
        {
          "output_type": "display_data",
          "data": {
            "text/plain": [
              "recommendations finished on 51000/305945 queries. users per second: 1397.48"
            ],
            "text/html": [
              "<pre>recommendations finished on 51000/305945 queries. users per second: 1397.48</pre>"
            ]
          },
          "metadata": {}
        },
        {
          "output_type": "display_data",
          "data": {
            "text/plain": [
              "recommendations finished on 52000/305945 queries. users per second: 1397.17"
            ],
            "text/html": [
              "<pre>recommendations finished on 52000/305945 queries. users per second: 1397.17</pre>"
            ]
          },
          "metadata": {}
        },
        {
          "output_type": "display_data",
          "data": {
            "text/plain": [
              "recommendations finished on 53000/305945 queries. users per second: 1396.88"
            ],
            "text/html": [
              "<pre>recommendations finished on 53000/305945 queries. users per second: 1396.88</pre>"
            ]
          },
          "metadata": {}
        },
        {
          "output_type": "display_data",
          "data": {
            "text/plain": [
              "recommendations finished on 54000/305945 queries. users per second: 1397.08"
            ],
            "text/html": [
              "<pre>recommendations finished on 54000/305945 queries. users per second: 1397.08</pre>"
            ]
          },
          "metadata": {}
        },
        {
          "output_type": "display_data",
          "data": {
            "text/plain": [
              "recommendations finished on 55000/305945 queries. users per second: 1397.67"
            ],
            "text/html": [
              "<pre>recommendations finished on 55000/305945 queries. users per second: 1397.67</pre>"
            ]
          },
          "metadata": {}
        },
        {
          "output_type": "display_data",
          "data": {
            "text/plain": [
              "recommendations finished on 56000/305945 queries. users per second: 1397.49"
            ],
            "text/html": [
              "<pre>recommendations finished on 56000/305945 queries. users per second: 1397.49</pre>"
            ]
          },
          "metadata": {}
        },
        {
          "output_type": "display_data",
          "data": {
            "text/plain": [
              "recommendations finished on 57000/305945 queries. users per second: 1397.67"
            ],
            "text/html": [
              "<pre>recommendations finished on 57000/305945 queries. users per second: 1397.67</pre>"
            ]
          },
          "metadata": {}
        },
        {
          "output_type": "display_data",
          "data": {
            "text/plain": [
              "recommendations finished on 58000/305945 queries. users per second: 1398.19"
            ],
            "text/html": [
              "<pre>recommendations finished on 58000/305945 queries. users per second: 1398.19</pre>"
            ]
          },
          "metadata": {}
        },
        {
          "output_type": "display_data",
          "data": {
            "text/plain": [
              "recommendations finished on 59000/305945 queries. users per second: 1398.68"
            ],
            "text/html": [
              "<pre>recommendations finished on 59000/305945 queries. users per second: 1398.68</pre>"
            ]
          },
          "metadata": {}
        },
        {
          "output_type": "display_data",
          "data": {
            "text/plain": [
              "recommendations finished on 60000/305945 queries. users per second: 1398.56"
            ],
            "text/html": [
              "<pre>recommendations finished on 60000/305945 queries. users per second: 1398.56</pre>"
            ]
          },
          "metadata": {}
        },
        {
          "output_type": "display_data",
          "data": {
            "text/plain": [
              "recommendations finished on 61000/305945 queries. users per second: 1398.28"
            ],
            "text/html": [
              "<pre>recommendations finished on 61000/305945 queries. users per second: 1398.28</pre>"
            ]
          },
          "metadata": {}
        },
        {
          "output_type": "display_data",
          "data": {
            "text/plain": [
              "recommendations finished on 62000/305945 queries. users per second: 1398.08"
            ],
            "text/html": [
              "<pre>recommendations finished on 62000/305945 queries. users per second: 1398.08</pre>"
            ]
          },
          "metadata": {}
        },
        {
          "output_type": "display_data",
          "data": {
            "text/plain": [
              "recommendations finished on 63000/305945 queries. users per second: 1397.45"
            ],
            "text/html": [
              "<pre>recommendations finished on 63000/305945 queries. users per second: 1397.45</pre>"
            ]
          },
          "metadata": {}
        },
        {
          "output_type": "display_data",
          "data": {
            "text/plain": [
              "recommendations finished on 64000/305945 queries. users per second: 1397.33"
            ],
            "text/html": [
              "<pre>recommendations finished on 64000/305945 queries. users per second: 1397.33</pre>"
            ]
          },
          "metadata": {}
        },
        {
          "output_type": "display_data",
          "data": {
            "text/plain": [
              "recommendations finished on 65000/305945 queries. users per second: 1388.7"
            ],
            "text/html": [
              "<pre>recommendations finished on 65000/305945 queries. users per second: 1388.7</pre>"
            ]
          },
          "metadata": {}
        },
        {
          "output_type": "display_data",
          "data": {
            "text/plain": [
              "recommendations finished on 66000/305945 queries. users per second: 1371.46"
            ],
            "text/html": [
              "<pre>recommendations finished on 66000/305945 queries. users per second: 1371.46</pre>"
            ]
          },
          "metadata": {}
        },
        {
          "output_type": "display_data",
          "data": {
            "text/plain": [
              "recommendations finished on 67000/305945 queries. users per second: 1355.8"
            ],
            "text/html": [
              "<pre>recommendations finished on 67000/305945 queries. users per second: 1355.8</pre>"
            ]
          },
          "metadata": {}
        },
        {
          "output_type": "display_data",
          "data": {
            "text/plain": [
              "recommendations finished on 68000/305945 queries. users per second: 1345.77"
            ],
            "text/html": [
              "<pre>recommendations finished on 68000/305945 queries. users per second: 1345.77</pre>"
            ]
          },
          "metadata": {}
        },
        {
          "output_type": "display_data",
          "data": {
            "text/plain": [
              "recommendations finished on 69000/305945 queries. users per second: 1346.88"
            ],
            "text/html": [
              "<pre>recommendations finished on 69000/305945 queries. users per second: 1346.88</pre>"
            ]
          },
          "metadata": {}
        },
        {
          "output_type": "display_data",
          "data": {
            "text/plain": [
              "recommendations finished on 70000/305945 queries. users per second: 1347.47"
            ],
            "text/html": [
              "<pre>recommendations finished on 70000/305945 queries. users per second: 1347.47</pre>"
            ]
          },
          "metadata": {}
        },
        {
          "output_type": "display_data",
          "data": {
            "text/plain": [
              "recommendations finished on 71000/305945 queries. users per second: 1348.46"
            ],
            "text/html": [
              "<pre>recommendations finished on 71000/305945 queries. users per second: 1348.46</pre>"
            ]
          },
          "metadata": {}
        },
        {
          "output_type": "display_data",
          "data": {
            "text/plain": [
              "recommendations finished on 72000/305945 queries. users per second: 1349.21"
            ],
            "text/html": [
              "<pre>recommendations finished on 72000/305945 queries. users per second: 1349.21</pre>"
            ]
          },
          "metadata": {}
        },
        {
          "output_type": "display_data",
          "data": {
            "text/plain": [
              "recommendations finished on 73000/305945 queries. users per second: 1350.32"
            ],
            "text/html": [
              "<pre>recommendations finished on 73000/305945 queries. users per second: 1350.32</pre>"
            ]
          },
          "metadata": {}
        },
        {
          "output_type": "display_data",
          "data": {
            "text/plain": [
              "recommendations finished on 74000/305945 queries. users per second: 1351.36"
            ],
            "text/html": [
              "<pre>recommendations finished on 74000/305945 queries. users per second: 1351.36</pre>"
            ]
          },
          "metadata": {}
        },
        {
          "output_type": "display_data",
          "data": {
            "text/plain": [
              "recommendations finished on 75000/305945 queries. users per second: 1351.72"
            ],
            "text/html": [
              "<pre>recommendations finished on 75000/305945 queries. users per second: 1351.72</pre>"
            ]
          },
          "metadata": {}
        },
        {
          "output_type": "display_data",
          "data": {
            "text/plain": [
              "recommendations finished on 76000/305945 queries. users per second: 1351.96"
            ],
            "text/html": [
              "<pre>recommendations finished on 76000/305945 queries. users per second: 1351.96</pre>"
            ]
          },
          "metadata": {}
        },
        {
          "output_type": "display_data",
          "data": {
            "text/plain": [
              "recommendations finished on 77000/305945 queries. users per second: 1352.83"
            ],
            "text/html": [
              "<pre>recommendations finished on 77000/305945 queries. users per second: 1352.83</pre>"
            ]
          },
          "metadata": {}
        },
        {
          "output_type": "display_data",
          "data": {
            "text/plain": [
              "recommendations finished on 78000/305945 queries. users per second: 1353.37"
            ],
            "text/html": [
              "<pre>recommendations finished on 78000/305945 queries. users per second: 1353.37</pre>"
            ]
          },
          "metadata": {}
        },
        {
          "output_type": "display_data",
          "data": {
            "text/plain": [
              "recommendations finished on 79000/305945 queries. users per second: 1353.96"
            ],
            "text/html": [
              "<pre>recommendations finished on 79000/305945 queries. users per second: 1353.96</pre>"
            ]
          },
          "metadata": {}
        },
        {
          "output_type": "display_data",
          "data": {
            "text/plain": [
              "recommendations finished on 80000/305945 queries. users per second: 1354.18"
            ],
            "text/html": [
              "<pre>recommendations finished on 80000/305945 queries. users per second: 1354.18</pre>"
            ]
          },
          "metadata": {}
        },
        {
          "output_type": "display_data",
          "data": {
            "text/plain": [
              "recommendations finished on 81000/305945 queries. users per second: 1355.04"
            ],
            "text/html": [
              "<pre>recommendations finished on 81000/305945 queries. users per second: 1355.04</pre>"
            ]
          },
          "metadata": {}
        },
        {
          "output_type": "display_data",
          "data": {
            "text/plain": [
              "recommendations finished on 82000/305945 queries. users per second: 1355.98"
            ],
            "text/html": [
              "<pre>recommendations finished on 82000/305945 queries. users per second: 1355.98</pre>"
            ]
          },
          "metadata": {}
        },
        {
          "output_type": "display_data",
          "data": {
            "text/plain": [
              "recommendations finished on 83000/305945 queries. users per second: 1356.66"
            ],
            "text/html": [
              "<pre>recommendations finished on 83000/305945 queries. users per second: 1356.66</pre>"
            ]
          },
          "metadata": {}
        },
        {
          "output_type": "display_data",
          "data": {
            "text/plain": [
              "recommendations finished on 84000/305945 queries. users per second: 1357.51"
            ],
            "text/html": [
              "<pre>recommendations finished on 84000/305945 queries. users per second: 1357.51</pre>"
            ]
          },
          "metadata": {}
        },
        {
          "output_type": "display_data",
          "data": {
            "text/plain": [
              "recommendations finished on 85000/305945 queries. users per second: 1357.51"
            ],
            "text/html": [
              "<pre>recommendations finished on 85000/305945 queries. users per second: 1357.51</pre>"
            ]
          },
          "metadata": {}
        },
        {
          "output_type": "display_data",
          "data": {
            "text/plain": [
              "recommendations finished on 86000/305945 queries. users per second: 1357.63"
            ],
            "text/html": [
              "<pre>recommendations finished on 86000/305945 queries. users per second: 1357.63</pre>"
            ]
          },
          "metadata": {}
        },
        {
          "output_type": "display_data",
          "data": {
            "text/plain": [
              "recommendations finished on 87000/305945 queries. users per second: 1358.38"
            ],
            "text/html": [
              "<pre>recommendations finished on 87000/305945 queries. users per second: 1358.38</pre>"
            ]
          },
          "metadata": {}
        },
        {
          "output_type": "display_data",
          "data": {
            "text/plain": [
              "recommendations finished on 88000/305945 queries. users per second: 1358.82"
            ],
            "text/html": [
              "<pre>recommendations finished on 88000/305945 queries. users per second: 1358.82</pre>"
            ]
          },
          "metadata": {}
        },
        {
          "output_type": "display_data",
          "data": {
            "text/plain": [
              "recommendations finished on 89000/305945 queries. users per second: 1359.51"
            ],
            "text/html": [
              "<pre>recommendations finished on 89000/305945 queries. users per second: 1359.51</pre>"
            ]
          },
          "metadata": {}
        },
        {
          "output_type": "display_data",
          "data": {
            "text/plain": [
              "recommendations finished on 90000/305945 queries. users per second: 1360.44"
            ],
            "text/html": [
              "<pre>recommendations finished on 90000/305945 queries. users per second: 1360.44</pre>"
            ]
          },
          "metadata": {}
        },
        {
          "output_type": "display_data",
          "data": {
            "text/plain": [
              "recommendations finished on 91000/305945 queries. users per second: 1361.34"
            ],
            "text/html": [
              "<pre>recommendations finished on 91000/305945 queries. users per second: 1361.34</pre>"
            ]
          },
          "metadata": {}
        },
        {
          "output_type": "display_data",
          "data": {
            "text/plain": [
              "recommendations finished on 92000/305945 queries. users per second: 1362.13"
            ],
            "text/html": [
              "<pre>recommendations finished on 92000/305945 queries. users per second: 1362.13</pre>"
            ]
          },
          "metadata": {}
        },
        {
          "output_type": "display_data",
          "data": {
            "text/plain": [
              "recommendations finished on 93000/305945 queries. users per second: 1362.69"
            ],
            "text/html": [
              "<pre>recommendations finished on 93000/305945 queries. users per second: 1362.69</pre>"
            ]
          },
          "metadata": {}
        },
        {
          "output_type": "display_data",
          "data": {
            "text/plain": [
              "recommendations finished on 94000/305945 queries. users per second: 1363.34"
            ],
            "text/html": [
              "<pre>recommendations finished on 94000/305945 queries. users per second: 1363.34</pre>"
            ]
          },
          "metadata": {}
        },
        {
          "output_type": "display_data",
          "data": {
            "text/plain": [
              "recommendations finished on 95000/305945 queries. users per second: 1363.82"
            ],
            "text/html": [
              "<pre>recommendations finished on 95000/305945 queries. users per second: 1363.82</pre>"
            ]
          },
          "metadata": {}
        },
        {
          "output_type": "display_data",
          "data": {
            "text/plain": [
              "recommendations finished on 96000/305945 queries. users per second: 1364.13"
            ],
            "text/html": [
              "<pre>recommendations finished on 96000/305945 queries. users per second: 1364.13</pre>"
            ]
          },
          "metadata": {}
        },
        {
          "output_type": "display_data",
          "data": {
            "text/plain": [
              "recommendations finished on 97000/305945 queries. users per second: 1364.61"
            ],
            "text/html": [
              "<pre>recommendations finished on 97000/305945 queries. users per second: 1364.61</pre>"
            ]
          },
          "metadata": {}
        },
        {
          "output_type": "display_data",
          "data": {
            "text/plain": [
              "recommendations finished on 98000/305945 queries. users per second: 1365.07"
            ],
            "text/html": [
              "<pre>recommendations finished on 98000/305945 queries. users per second: 1365.07</pre>"
            ]
          },
          "metadata": {}
        },
        {
          "output_type": "display_data",
          "data": {
            "text/plain": [
              "recommendations finished on 99000/305945 queries. users per second: 1365.68"
            ],
            "text/html": [
              "<pre>recommendations finished on 99000/305945 queries. users per second: 1365.68</pre>"
            ]
          },
          "metadata": {}
        },
        {
          "output_type": "display_data",
          "data": {
            "text/plain": [
              "recommendations finished on 100000/305945 queries. users per second: 1366.22"
            ],
            "text/html": [
              "<pre>recommendations finished on 100000/305945 queries. users per second: 1366.22</pre>"
            ]
          },
          "metadata": {}
        },
        {
          "output_type": "display_data",
          "data": {
            "text/plain": [
              "recommendations finished on 101000/305945 queries. users per second: 1366.35"
            ],
            "text/html": [
              "<pre>recommendations finished on 101000/305945 queries. users per second: 1366.35</pre>"
            ]
          },
          "metadata": {}
        },
        {
          "output_type": "display_data",
          "data": {
            "text/plain": [
              "recommendations finished on 102000/305945 queries. users per second: 1366.35"
            ],
            "text/html": [
              "<pre>recommendations finished on 102000/305945 queries. users per second: 1366.35</pre>"
            ]
          },
          "metadata": {}
        },
        {
          "output_type": "display_data",
          "data": {
            "text/plain": [
              "recommendations finished on 103000/305945 queries. users per second: 1366.7"
            ],
            "text/html": [
              "<pre>recommendations finished on 103000/305945 queries. users per second: 1366.7</pre>"
            ]
          },
          "metadata": {}
        },
        {
          "output_type": "display_data",
          "data": {
            "text/plain": [
              "recommendations finished on 104000/305945 queries. users per second: 1367.23"
            ],
            "text/html": [
              "<pre>recommendations finished on 104000/305945 queries. users per second: 1367.23</pre>"
            ]
          },
          "metadata": {}
        },
        {
          "output_type": "display_data",
          "data": {
            "text/plain": [
              "recommendations finished on 105000/305945 queries. users per second: 1367.54"
            ],
            "text/html": [
              "<pre>recommendations finished on 105000/305945 queries. users per second: 1367.54</pre>"
            ]
          },
          "metadata": {}
        },
        {
          "output_type": "display_data",
          "data": {
            "text/plain": [
              "recommendations finished on 106000/305945 queries. users per second: 1367.96"
            ],
            "text/html": [
              "<pre>recommendations finished on 106000/305945 queries. users per second: 1367.96</pre>"
            ]
          },
          "metadata": {}
        },
        {
          "output_type": "display_data",
          "data": {
            "text/plain": [
              "recommendations finished on 107000/305945 queries. users per second: 1368.15"
            ],
            "text/html": [
              "<pre>recommendations finished on 107000/305945 queries. users per second: 1368.15</pre>"
            ]
          },
          "metadata": {}
        },
        {
          "output_type": "display_data",
          "data": {
            "text/plain": [
              "recommendations finished on 108000/305945 queries. users per second: 1368.61"
            ],
            "text/html": [
              "<pre>recommendations finished on 108000/305945 queries. users per second: 1368.61</pre>"
            ]
          },
          "metadata": {}
        },
        {
          "output_type": "display_data",
          "data": {
            "text/plain": [
              "recommendations finished on 109000/305945 queries. users per second: 1368.9"
            ],
            "text/html": [
              "<pre>recommendations finished on 109000/305945 queries. users per second: 1368.9</pre>"
            ]
          },
          "metadata": {}
        },
        {
          "output_type": "display_data",
          "data": {
            "text/plain": [
              "recommendations finished on 110000/305945 queries. users per second: 1369.41"
            ],
            "text/html": [
              "<pre>recommendations finished on 110000/305945 queries. users per second: 1369.41</pre>"
            ]
          },
          "metadata": {}
        },
        {
          "output_type": "display_data",
          "data": {
            "text/plain": [
              "recommendations finished on 111000/305945 queries. users per second: 1369.64"
            ],
            "text/html": [
              "<pre>recommendations finished on 111000/305945 queries. users per second: 1369.64</pre>"
            ]
          },
          "metadata": {}
        },
        {
          "output_type": "display_data",
          "data": {
            "text/plain": [
              "recommendations finished on 112000/305945 queries. users per second: 1370.22"
            ],
            "text/html": [
              "<pre>recommendations finished on 112000/305945 queries. users per second: 1370.22</pre>"
            ]
          },
          "metadata": {}
        },
        {
          "output_type": "display_data",
          "data": {
            "text/plain": [
              "recommendations finished on 113000/305945 queries. users per second: 1370.6"
            ],
            "text/html": [
              "<pre>recommendations finished on 113000/305945 queries. users per second: 1370.6</pre>"
            ]
          },
          "metadata": {}
        },
        {
          "output_type": "display_data",
          "data": {
            "text/plain": [
              "recommendations finished on 114000/305945 queries. users per second: 1371.06"
            ],
            "text/html": [
              "<pre>recommendations finished on 114000/305945 queries. users per second: 1371.06</pre>"
            ]
          },
          "metadata": {}
        },
        {
          "output_type": "display_data",
          "data": {
            "text/plain": [
              "recommendations finished on 115000/305945 queries. users per second: 1371.41"
            ],
            "text/html": [
              "<pre>recommendations finished on 115000/305945 queries. users per second: 1371.41</pre>"
            ]
          },
          "metadata": {}
        },
        {
          "output_type": "display_data",
          "data": {
            "text/plain": [
              "recommendations finished on 116000/305945 queries. users per second: 1371.82"
            ],
            "text/html": [
              "<pre>recommendations finished on 116000/305945 queries. users per second: 1371.82</pre>"
            ]
          },
          "metadata": {}
        },
        {
          "output_type": "display_data",
          "data": {
            "text/plain": [
              "recommendations finished on 117000/305945 queries. users per second: 1372.22"
            ],
            "text/html": [
              "<pre>recommendations finished on 117000/305945 queries. users per second: 1372.22</pre>"
            ]
          },
          "metadata": {}
        },
        {
          "output_type": "display_data",
          "data": {
            "text/plain": [
              "recommendations finished on 118000/305945 queries. users per second: 1372.62"
            ],
            "text/html": [
              "<pre>recommendations finished on 118000/305945 queries. users per second: 1372.62</pre>"
            ]
          },
          "metadata": {}
        },
        {
          "output_type": "display_data",
          "data": {
            "text/plain": [
              "recommendations finished on 119000/305945 queries. users per second: 1373.15"
            ],
            "text/html": [
              "<pre>recommendations finished on 119000/305945 queries. users per second: 1373.15</pre>"
            ]
          },
          "metadata": {}
        },
        {
          "output_type": "display_data",
          "data": {
            "text/plain": [
              "recommendations finished on 120000/305945 queries. users per second: 1373.48"
            ],
            "text/html": [
              "<pre>recommendations finished on 120000/305945 queries. users per second: 1373.48</pre>"
            ]
          },
          "metadata": {}
        },
        {
          "output_type": "display_data",
          "data": {
            "text/plain": [
              "recommendations finished on 121000/305945 queries. users per second: 1373.95"
            ],
            "text/html": [
              "<pre>recommendations finished on 121000/305945 queries. users per second: 1373.95</pre>"
            ]
          },
          "metadata": {}
        },
        {
          "output_type": "display_data",
          "data": {
            "text/plain": [
              "recommendations finished on 122000/305945 queries. users per second: 1374.37"
            ],
            "text/html": [
              "<pre>recommendations finished on 122000/305945 queries. users per second: 1374.37</pre>"
            ]
          },
          "metadata": {}
        },
        {
          "output_type": "display_data",
          "data": {
            "text/plain": [
              "recommendations finished on 123000/305945 queries. users per second: 1374.75"
            ],
            "text/html": [
              "<pre>recommendations finished on 123000/305945 queries. users per second: 1374.75</pre>"
            ]
          },
          "metadata": {}
        },
        {
          "output_type": "display_data",
          "data": {
            "text/plain": [
              "recommendations finished on 124000/305945 queries. users per second: 1374.95"
            ],
            "text/html": [
              "<pre>recommendations finished on 124000/305945 queries. users per second: 1374.95</pre>"
            ]
          },
          "metadata": {}
        },
        {
          "output_type": "display_data",
          "data": {
            "text/plain": [
              "recommendations finished on 125000/305945 queries. users per second: 1375.43"
            ],
            "text/html": [
              "<pre>recommendations finished on 125000/305945 queries. users per second: 1375.43</pre>"
            ]
          },
          "metadata": {}
        },
        {
          "output_type": "display_data",
          "data": {
            "text/plain": [
              "recommendations finished on 126000/305945 queries. users per second: 1375.95"
            ],
            "text/html": [
              "<pre>recommendations finished on 126000/305945 queries. users per second: 1375.95</pre>"
            ]
          },
          "metadata": {}
        },
        {
          "output_type": "display_data",
          "data": {
            "text/plain": [
              "recommendations finished on 127000/305945 queries. users per second: 1376.33"
            ],
            "text/html": [
              "<pre>recommendations finished on 127000/305945 queries. users per second: 1376.33</pre>"
            ]
          },
          "metadata": {}
        },
        {
          "output_type": "display_data",
          "data": {
            "text/plain": [
              "recommendations finished on 128000/305945 queries. users per second: 1376.4"
            ],
            "text/html": [
              "<pre>recommendations finished on 128000/305945 queries. users per second: 1376.4</pre>"
            ]
          },
          "metadata": {}
        },
        {
          "output_type": "display_data",
          "data": {
            "text/plain": [
              "recommendations finished on 129000/305945 queries. users per second: 1376.87"
            ],
            "text/html": [
              "<pre>recommendations finished on 129000/305945 queries. users per second: 1376.87</pre>"
            ]
          },
          "metadata": {}
        },
        {
          "output_type": "display_data",
          "data": {
            "text/plain": [
              "recommendations finished on 130000/305945 queries. users per second: 1377.26"
            ],
            "text/html": [
              "<pre>recommendations finished on 130000/305945 queries. users per second: 1377.26</pre>"
            ]
          },
          "metadata": {}
        },
        {
          "output_type": "display_data",
          "data": {
            "text/plain": [
              "recommendations finished on 131000/305945 queries. users per second: 1377.48"
            ],
            "text/html": [
              "<pre>recommendations finished on 131000/305945 queries. users per second: 1377.48</pre>"
            ]
          },
          "metadata": {}
        },
        {
          "output_type": "display_data",
          "data": {
            "text/plain": [
              "recommendations finished on 132000/305945 queries. users per second: 1377.64"
            ],
            "text/html": [
              "<pre>recommendations finished on 132000/305945 queries. users per second: 1377.64</pre>"
            ]
          },
          "metadata": {}
        },
        {
          "output_type": "display_data",
          "data": {
            "text/plain": [
              "recommendations finished on 133000/305945 queries. users per second: 1377.9"
            ],
            "text/html": [
              "<pre>recommendations finished on 133000/305945 queries. users per second: 1377.9</pre>"
            ]
          },
          "metadata": {}
        },
        {
          "output_type": "display_data",
          "data": {
            "text/plain": [
              "recommendations finished on 134000/305945 queries. users per second: 1378.15"
            ],
            "text/html": [
              "<pre>recommendations finished on 134000/305945 queries. users per second: 1378.15</pre>"
            ]
          },
          "metadata": {}
        },
        {
          "output_type": "display_data",
          "data": {
            "text/plain": [
              "recommendations finished on 135000/305945 queries. users per second: 1378.61"
            ],
            "text/html": [
              "<pre>recommendations finished on 135000/305945 queries. users per second: 1378.61</pre>"
            ]
          },
          "metadata": {}
        },
        {
          "output_type": "display_data",
          "data": {
            "text/plain": [
              "recommendations finished on 136000/305945 queries. users per second: 1378.74"
            ],
            "text/html": [
              "<pre>recommendations finished on 136000/305945 queries. users per second: 1378.74</pre>"
            ]
          },
          "metadata": {}
        },
        {
          "output_type": "display_data",
          "data": {
            "text/plain": [
              "recommendations finished on 137000/305945 queries. users per second: 1378.67"
            ],
            "text/html": [
              "<pre>recommendations finished on 137000/305945 queries. users per second: 1378.67</pre>"
            ]
          },
          "metadata": {}
        },
        {
          "output_type": "display_data",
          "data": {
            "text/plain": [
              "recommendations finished on 138000/305945 queries. users per second: 1378.69"
            ],
            "text/html": [
              "<pre>recommendations finished on 138000/305945 queries. users per second: 1378.69</pre>"
            ]
          },
          "metadata": {}
        },
        {
          "output_type": "display_data",
          "data": {
            "text/plain": [
              "recommendations finished on 139000/305945 queries. users per second: 1378.89"
            ],
            "text/html": [
              "<pre>recommendations finished on 139000/305945 queries. users per second: 1378.89</pre>"
            ]
          },
          "metadata": {}
        },
        {
          "output_type": "display_data",
          "data": {
            "text/plain": [
              "recommendations finished on 140000/305945 queries. users per second: 1379.14"
            ],
            "text/html": [
              "<pre>recommendations finished on 140000/305945 queries. users per second: 1379.14</pre>"
            ]
          },
          "metadata": {}
        },
        {
          "output_type": "display_data",
          "data": {
            "text/plain": [
              "recommendations finished on 141000/305945 queries. users per second: 1379.48"
            ],
            "text/html": [
              "<pre>recommendations finished on 141000/305945 queries. users per second: 1379.48</pre>"
            ]
          },
          "metadata": {}
        },
        {
          "output_type": "display_data",
          "data": {
            "text/plain": [
              "recommendations finished on 142000/305945 queries. users per second: 1379.86"
            ],
            "text/html": [
              "<pre>recommendations finished on 142000/305945 queries. users per second: 1379.86</pre>"
            ]
          },
          "metadata": {}
        },
        {
          "output_type": "display_data",
          "data": {
            "text/plain": [
              "recommendations finished on 143000/305945 queries. users per second: 1380.04"
            ],
            "text/html": [
              "<pre>recommendations finished on 143000/305945 queries. users per second: 1380.04</pre>"
            ]
          },
          "metadata": {}
        },
        {
          "output_type": "display_data",
          "data": {
            "text/plain": [
              "recommendations finished on 144000/305945 queries. users per second: 1380.27"
            ],
            "text/html": [
              "<pre>recommendations finished on 144000/305945 queries. users per second: 1380.27</pre>"
            ]
          },
          "metadata": {}
        },
        {
          "output_type": "display_data",
          "data": {
            "text/plain": [
              "recommendations finished on 145000/305945 queries. users per second: 1379.88"
            ],
            "text/html": [
              "<pre>recommendations finished on 145000/305945 queries. users per second: 1379.88</pre>"
            ]
          },
          "metadata": {}
        },
        {
          "output_type": "display_data",
          "data": {
            "text/plain": [
              "recommendations finished on 146000/305945 queries. users per second: 1380.09"
            ],
            "text/html": [
              "<pre>recommendations finished on 146000/305945 queries. users per second: 1380.09</pre>"
            ]
          },
          "metadata": {}
        },
        {
          "output_type": "display_data",
          "data": {
            "text/plain": [
              "recommendations finished on 147000/305945 queries. users per second: 1380.04"
            ],
            "text/html": [
              "<pre>recommendations finished on 147000/305945 queries. users per second: 1380.04</pre>"
            ]
          },
          "metadata": {}
        },
        {
          "output_type": "display_data",
          "data": {
            "text/plain": [
              "recommendations finished on 148000/305945 queries. users per second: 1380.02"
            ],
            "text/html": [
              "<pre>recommendations finished on 148000/305945 queries. users per second: 1380.02</pre>"
            ]
          },
          "metadata": {}
        },
        {
          "output_type": "display_data",
          "data": {
            "text/plain": [
              "recommendations finished on 149000/305945 queries. users per second: 1380.16"
            ],
            "text/html": [
              "<pre>recommendations finished on 149000/305945 queries. users per second: 1380.16</pre>"
            ]
          },
          "metadata": {}
        },
        {
          "output_type": "display_data",
          "data": {
            "text/plain": [
              "recommendations finished on 150000/305945 queries. users per second: 1380.15"
            ],
            "text/html": [
              "<pre>recommendations finished on 150000/305945 queries. users per second: 1380.15</pre>"
            ]
          },
          "metadata": {}
        },
        {
          "output_type": "display_data",
          "data": {
            "text/plain": [
              "recommendations finished on 151000/305945 queries. users per second: 1380.31"
            ],
            "text/html": [
              "<pre>recommendations finished on 151000/305945 queries. users per second: 1380.31</pre>"
            ]
          },
          "metadata": {}
        },
        {
          "output_type": "display_data",
          "data": {
            "text/plain": [
              "recommendations finished on 152000/305945 queries. users per second: 1380.45"
            ],
            "text/html": [
              "<pre>recommendations finished on 152000/305945 queries. users per second: 1380.45</pre>"
            ]
          },
          "metadata": {}
        },
        {
          "output_type": "display_data",
          "data": {
            "text/plain": [
              "recommendations finished on 153000/305945 queries. users per second: 1380.6"
            ],
            "text/html": [
              "<pre>recommendations finished on 153000/305945 queries. users per second: 1380.6</pre>"
            ]
          },
          "metadata": {}
        },
        {
          "output_type": "display_data",
          "data": {
            "text/plain": [
              "recommendations finished on 154000/305945 queries. users per second: 1380.8"
            ],
            "text/html": [
              "<pre>recommendations finished on 154000/305945 queries. users per second: 1380.8</pre>"
            ]
          },
          "metadata": {}
        },
        {
          "output_type": "display_data",
          "data": {
            "text/plain": [
              "recommendations finished on 155000/305945 queries. users per second: 1381.09"
            ],
            "text/html": [
              "<pre>recommendations finished on 155000/305945 queries. users per second: 1381.09</pre>"
            ]
          },
          "metadata": {}
        },
        {
          "output_type": "display_data",
          "data": {
            "text/plain": [
              "recommendations finished on 156000/305945 queries. users per second: 1381.25"
            ],
            "text/html": [
              "<pre>recommendations finished on 156000/305945 queries. users per second: 1381.25</pre>"
            ]
          },
          "metadata": {}
        },
        {
          "output_type": "display_data",
          "data": {
            "text/plain": [
              "recommendations finished on 157000/305945 queries. users per second: 1381.37"
            ],
            "text/html": [
              "<pre>recommendations finished on 157000/305945 queries. users per second: 1381.37</pre>"
            ]
          },
          "metadata": {}
        },
        {
          "output_type": "display_data",
          "data": {
            "text/plain": [
              "recommendations finished on 158000/305945 queries. users per second: 1381.67"
            ],
            "text/html": [
              "<pre>recommendations finished on 158000/305945 queries. users per second: 1381.67</pre>"
            ]
          },
          "metadata": {}
        },
        {
          "output_type": "display_data",
          "data": {
            "text/plain": [
              "recommendations finished on 159000/305945 queries. users per second: 1381.5"
            ],
            "text/html": [
              "<pre>recommendations finished on 159000/305945 queries. users per second: 1381.5</pre>"
            ]
          },
          "metadata": {}
        },
        {
          "output_type": "display_data",
          "data": {
            "text/plain": [
              "recommendations finished on 160000/305945 queries. users per second: 1381.61"
            ],
            "text/html": [
              "<pre>recommendations finished on 160000/305945 queries. users per second: 1381.61</pre>"
            ]
          },
          "metadata": {}
        },
        {
          "output_type": "display_data",
          "data": {
            "text/plain": [
              "recommendations finished on 161000/305945 queries. users per second: 1381.88"
            ],
            "text/html": [
              "<pre>recommendations finished on 161000/305945 queries. users per second: 1381.88</pre>"
            ]
          },
          "metadata": {}
        },
        {
          "output_type": "display_data",
          "data": {
            "text/plain": [
              "recommendations finished on 162000/305945 queries. users per second: 1382.19"
            ],
            "text/html": [
              "<pre>recommendations finished on 162000/305945 queries. users per second: 1382.19</pre>"
            ]
          },
          "metadata": {}
        },
        {
          "output_type": "display_data",
          "data": {
            "text/plain": [
              "recommendations finished on 163000/305945 queries. users per second: 1382.28"
            ],
            "text/html": [
              "<pre>recommendations finished on 163000/305945 queries. users per second: 1382.28</pre>"
            ]
          },
          "metadata": {}
        },
        {
          "output_type": "display_data",
          "data": {
            "text/plain": [
              "recommendations finished on 164000/305945 queries. users per second: 1382.49"
            ],
            "text/html": [
              "<pre>recommendations finished on 164000/305945 queries. users per second: 1382.49</pre>"
            ]
          },
          "metadata": {}
        },
        {
          "output_type": "display_data",
          "data": {
            "text/plain": [
              "recommendations finished on 165000/305945 queries. users per second: 1382.85"
            ],
            "text/html": [
              "<pre>recommendations finished on 165000/305945 queries. users per second: 1382.85</pre>"
            ]
          },
          "metadata": {}
        },
        {
          "output_type": "display_data",
          "data": {
            "text/plain": [
              "recommendations finished on 166000/305945 queries. users per second: 1383.02"
            ],
            "text/html": [
              "<pre>recommendations finished on 166000/305945 queries. users per second: 1383.02</pre>"
            ]
          },
          "metadata": {}
        },
        {
          "output_type": "display_data",
          "data": {
            "text/plain": [
              "recommendations finished on 167000/305945 queries. users per second: 1383.08"
            ],
            "text/html": [
              "<pre>recommendations finished on 167000/305945 queries. users per second: 1383.08</pre>"
            ]
          },
          "metadata": {}
        },
        {
          "output_type": "display_data",
          "data": {
            "text/plain": [
              "recommendations finished on 168000/305945 queries. users per second: 1383.42"
            ],
            "text/html": [
              "<pre>recommendations finished on 168000/305945 queries. users per second: 1383.42</pre>"
            ]
          },
          "metadata": {}
        },
        {
          "output_type": "display_data",
          "data": {
            "text/plain": [
              "recommendations finished on 169000/305945 queries. users per second: 1383.5"
            ],
            "text/html": [
              "<pre>recommendations finished on 169000/305945 queries. users per second: 1383.5</pre>"
            ]
          },
          "metadata": {}
        },
        {
          "output_type": "display_data",
          "data": {
            "text/plain": [
              "recommendations finished on 170000/305945 queries. users per second: 1383.49"
            ],
            "text/html": [
              "<pre>recommendations finished on 170000/305945 queries. users per second: 1383.49</pre>"
            ]
          },
          "metadata": {}
        },
        {
          "output_type": "display_data",
          "data": {
            "text/plain": [
              "recommendations finished on 171000/305945 queries. users per second: 1383.66"
            ],
            "text/html": [
              "<pre>recommendations finished on 171000/305945 queries. users per second: 1383.66</pre>"
            ]
          },
          "metadata": {}
        },
        {
          "output_type": "display_data",
          "data": {
            "text/plain": [
              "recommendations finished on 172000/305945 queries. users per second: 1383.78"
            ],
            "text/html": [
              "<pre>recommendations finished on 172000/305945 queries. users per second: 1383.78</pre>"
            ]
          },
          "metadata": {}
        },
        {
          "output_type": "display_data",
          "data": {
            "text/plain": [
              "recommendations finished on 173000/305945 queries. users per second: 1383.9"
            ],
            "text/html": [
              "<pre>recommendations finished on 173000/305945 queries. users per second: 1383.9</pre>"
            ]
          },
          "metadata": {}
        },
        {
          "output_type": "display_data",
          "data": {
            "text/plain": [
              "recommendations finished on 174000/305945 queries. users per second: 1383.8"
            ],
            "text/html": [
              "<pre>recommendations finished on 174000/305945 queries. users per second: 1383.8</pre>"
            ]
          },
          "metadata": {}
        },
        {
          "output_type": "display_data",
          "data": {
            "text/plain": [
              "recommendations finished on 175000/305945 queries. users per second: 1383.93"
            ],
            "text/html": [
              "<pre>recommendations finished on 175000/305945 queries. users per second: 1383.93</pre>"
            ]
          },
          "metadata": {}
        },
        {
          "output_type": "display_data",
          "data": {
            "text/plain": [
              "recommendations finished on 176000/305945 queries. users per second: 1384.03"
            ],
            "text/html": [
              "<pre>recommendations finished on 176000/305945 queries. users per second: 1384.03</pre>"
            ]
          },
          "metadata": {}
        },
        {
          "output_type": "display_data",
          "data": {
            "text/plain": [
              "recommendations finished on 177000/305945 queries. users per second: 1384.08"
            ],
            "text/html": [
              "<pre>recommendations finished on 177000/305945 queries. users per second: 1384.08</pre>"
            ]
          },
          "metadata": {}
        },
        {
          "output_type": "display_data",
          "data": {
            "text/plain": [
              "recommendations finished on 178000/305945 queries. users per second: 1384.3"
            ],
            "text/html": [
              "<pre>recommendations finished on 178000/305945 queries. users per second: 1384.3</pre>"
            ]
          },
          "metadata": {}
        },
        {
          "output_type": "display_data",
          "data": {
            "text/plain": [
              "recommendations finished on 179000/305945 queries. users per second: 1384.37"
            ],
            "text/html": [
              "<pre>recommendations finished on 179000/305945 queries. users per second: 1384.37</pre>"
            ]
          },
          "metadata": {}
        },
        {
          "output_type": "display_data",
          "data": {
            "text/plain": [
              "recommendations finished on 180000/305945 queries. users per second: 1384.44"
            ],
            "text/html": [
              "<pre>recommendations finished on 180000/305945 queries. users per second: 1384.44</pre>"
            ]
          },
          "metadata": {}
        },
        {
          "output_type": "display_data",
          "data": {
            "text/plain": [
              "recommendations finished on 181000/305945 queries. users per second: 1384.61"
            ],
            "text/html": [
              "<pre>recommendations finished on 181000/305945 queries. users per second: 1384.61</pre>"
            ]
          },
          "metadata": {}
        },
        {
          "output_type": "display_data",
          "data": {
            "text/plain": [
              "recommendations finished on 182000/305945 queries. users per second: 1384.67"
            ],
            "text/html": [
              "<pre>recommendations finished on 182000/305945 queries. users per second: 1384.67</pre>"
            ]
          },
          "metadata": {}
        },
        {
          "output_type": "display_data",
          "data": {
            "text/plain": [
              "recommendations finished on 183000/305945 queries. users per second: 1384.8"
            ],
            "text/html": [
              "<pre>recommendations finished on 183000/305945 queries. users per second: 1384.8</pre>"
            ]
          },
          "metadata": {}
        },
        {
          "output_type": "display_data",
          "data": {
            "text/plain": [
              "recommendations finished on 184000/305945 queries. users per second: 1384.78"
            ],
            "text/html": [
              "<pre>recommendations finished on 184000/305945 queries. users per second: 1384.78</pre>"
            ]
          },
          "metadata": {}
        },
        {
          "output_type": "display_data",
          "data": {
            "text/plain": [
              "recommendations finished on 185000/305945 queries. users per second: 1385.06"
            ],
            "text/html": [
              "<pre>recommendations finished on 185000/305945 queries. users per second: 1385.06</pre>"
            ]
          },
          "metadata": {}
        },
        {
          "output_type": "display_data",
          "data": {
            "text/plain": [
              "recommendations finished on 186000/305945 queries. users per second: 1385.18"
            ],
            "text/html": [
              "<pre>recommendations finished on 186000/305945 queries. users per second: 1385.18</pre>"
            ]
          },
          "metadata": {}
        },
        {
          "output_type": "display_data",
          "data": {
            "text/plain": [
              "recommendations finished on 187000/305945 queries. users per second: 1385.46"
            ],
            "text/html": [
              "<pre>recommendations finished on 187000/305945 queries. users per second: 1385.46</pre>"
            ]
          },
          "metadata": {}
        },
        {
          "output_type": "display_data",
          "data": {
            "text/plain": [
              "recommendations finished on 188000/305945 queries. users per second: 1385.68"
            ],
            "text/html": [
              "<pre>recommendations finished on 188000/305945 queries. users per second: 1385.68</pre>"
            ]
          },
          "metadata": {}
        },
        {
          "output_type": "display_data",
          "data": {
            "text/plain": [
              "recommendations finished on 189000/305945 queries. users per second: 1385.59"
            ],
            "text/html": [
              "<pre>recommendations finished on 189000/305945 queries. users per second: 1385.59</pre>"
            ]
          },
          "metadata": {}
        },
        {
          "output_type": "display_data",
          "data": {
            "text/plain": [
              "recommendations finished on 190000/305945 queries. users per second: 1385.76"
            ],
            "text/html": [
              "<pre>recommendations finished on 190000/305945 queries. users per second: 1385.76</pre>"
            ]
          },
          "metadata": {}
        },
        {
          "output_type": "display_data",
          "data": {
            "text/plain": [
              "recommendations finished on 191000/305945 queries. users per second: 1386.02"
            ],
            "text/html": [
              "<pre>recommendations finished on 191000/305945 queries. users per second: 1386.02</pre>"
            ]
          },
          "metadata": {}
        },
        {
          "output_type": "display_data",
          "data": {
            "text/plain": [
              "recommendations finished on 192000/305945 queries. users per second: 1386.15"
            ],
            "text/html": [
              "<pre>recommendations finished on 192000/305945 queries. users per second: 1386.15</pre>"
            ]
          },
          "metadata": {}
        },
        {
          "output_type": "display_data",
          "data": {
            "text/plain": [
              "recommendations finished on 193000/305945 queries. users per second: 1386.41"
            ],
            "text/html": [
              "<pre>recommendations finished on 193000/305945 queries. users per second: 1386.41</pre>"
            ]
          },
          "metadata": {}
        },
        {
          "output_type": "display_data",
          "data": {
            "text/plain": [
              "recommendations finished on 194000/305945 queries. users per second: 1386.55"
            ],
            "text/html": [
              "<pre>recommendations finished on 194000/305945 queries. users per second: 1386.55</pre>"
            ]
          },
          "metadata": {}
        },
        {
          "output_type": "display_data",
          "data": {
            "text/plain": [
              "recommendations finished on 195000/305945 queries. users per second: 1386.63"
            ],
            "text/html": [
              "<pre>recommendations finished on 195000/305945 queries. users per second: 1386.63</pre>"
            ]
          },
          "metadata": {}
        },
        {
          "output_type": "display_data",
          "data": {
            "text/plain": [
              "recommendations finished on 196000/305945 queries. users per second: 1386.58"
            ],
            "text/html": [
              "<pre>recommendations finished on 196000/305945 queries. users per second: 1386.58</pre>"
            ]
          },
          "metadata": {}
        },
        {
          "output_type": "display_data",
          "data": {
            "text/plain": [
              "recommendations finished on 197000/305945 queries. users per second: 1386.49"
            ],
            "text/html": [
              "<pre>recommendations finished on 197000/305945 queries. users per second: 1386.49</pre>"
            ]
          },
          "metadata": {}
        },
        {
          "output_type": "display_data",
          "data": {
            "text/plain": [
              "recommendations finished on 198000/305945 queries. users per second: 1386.59"
            ],
            "text/html": [
              "<pre>recommendations finished on 198000/305945 queries. users per second: 1386.59</pre>"
            ]
          },
          "metadata": {}
        },
        {
          "output_type": "display_data",
          "data": {
            "text/plain": [
              "recommendations finished on 199000/305945 queries. users per second: 1386.7"
            ],
            "text/html": [
              "<pre>recommendations finished on 199000/305945 queries. users per second: 1386.7</pre>"
            ]
          },
          "metadata": {}
        },
        {
          "output_type": "display_data",
          "data": {
            "text/plain": [
              "recommendations finished on 200000/305945 queries. users per second: 1386.53"
            ],
            "text/html": [
              "<pre>recommendations finished on 200000/305945 queries. users per second: 1386.53</pre>"
            ]
          },
          "metadata": {}
        },
        {
          "output_type": "display_data",
          "data": {
            "text/plain": [
              "recommendations finished on 201000/305945 queries. users per second: 1386.57"
            ],
            "text/html": [
              "<pre>recommendations finished on 201000/305945 queries. users per second: 1386.57</pre>"
            ]
          },
          "metadata": {}
        },
        {
          "output_type": "display_data",
          "data": {
            "text/plain": [
              "recommendations finished on 202000/305945 queries. users per second: 1386.64"
            ],
            "text/html": [
              "<pre>recommendations finished on 202000/305945 queries. users per second: 1386.64</pre>"
            ]
          },
          "metadata": {}
        },
        {
          "output_type": "display_data",
          "data": {
            "text/plain": [
              "recommendations finished on 203000/305945 queries. users per second: 1386.49"
            ],
            "text/html": [
              "<pre>recommendations finished on 203000/305945 queries. users per second: 1386.49</pre>"
            ]
          },
          "metadata": {}
        },
        {
          "output_type": "display_data",
          "data": {
            "text/plain": [
              "recommendations finished on 204000/305945 queries. users per second: 1386.36"
            ],
            "text/html": [
              "<pre>recommendations finished on 204000/305945 queries. users per second: 1386.36</pre>"
            ]
          },
          "metadata": {}
        },
        {
          "output_type": "display_data",
          "data": {
            "text/plain": [
              "recommendations finished on 205000/305945 queries. users per second: 1386.46"
            ],
            "text/html": [
              "<pre>recommendations finished on 205000/305945 queries. users per second: 1386.46</pre>"
            ]
          },
          "metadata": {}
        },
        {
          "output_type": "display_data",
          "data": {
            "text/plain": [
              "recommendations finished on 206000/305945 queries. users per second: 1386.43"
            ],
            "text/html": [
              "<pre>recommendations finished on 206000/305945 queries. users per second: 1386.43</pre>"
            ]
          },
          "metadata": {}
        },
        {
          "output_type": "display_data",
          "data": {
            "text/plain": [
              "recommendations finished on 207000/305945 queries. users per second: 1386.54"
            ],
            "text/html": [
              "<pre>recommendations finished on 207000/305945 queries. users per second: 1386.54</pre>"
            ]
          },
          "metadata": {}
        },
        {
          "output_type": "display_data",
          "data": {
            "text/plain": [
              "recommendations finished on 208000/305945 queries. users per second: 1386.61"
            ],
            "text/html": [
              "<pre>recommendations finished on 208000/305945 queries. users per second: 1386.61</pre>"
            ]
          },
          "metadata": {}
        },
        {
          "output_type": "display_data",
          "data": {
            "text/plain": [
              "recommendations finished on 209000/305945 queries. users per second: 1386.66"
            ],
            "text/html": [
              "<pre>recommendations finished on 209000/305945 queries. users per second: 1386.66</pre>"
            ]
          },
          "metadata": {}
        },
        {
          "output_type": "display_data",
          "data": {
            "text/plain": [
              "recommendations finished on 210000/305945 queries. users per second: 1386.68"
            ],
            "text/html": [
              "<pre>recommendations finished on 210000/305945 queries. users per second: 1386.68</pre>"
            ]
          },
          "metadata": {}
        },
        {
          "output_type": "display_data",
          "data": {
            "text/plain": [
              "recommendations finished on 211000/305945 queries. users per second: 1386.89"
            ],
            "text/html": [
              "<pre>recommendations finished on 211000/305945 queries. users per second: 1386.89</pre>"
            ]
          },
          "metadata": {}
        },
        {
          "output_type": "display_data",
          "data": {
            "text/plain": [
              "recommendations finished on 212000/305945 queries. users per second: 1387.1"
            ],
            "text/html": [
              "<pre>recommendations finished on 212000/305945 queries. users per second: 1387.1</pre>"
            ]
          },
          "metadata": {}
        },
        {
          "output_type": "display_data",
          "data": {
            "text/plain": [
              "recommendations finished on 213000/305945 queries. users per second: 1387.23"
            ],
            "text/html": [
              "<pre>recommendations finished on 213000/305945 queries. users per second: 1387.23</pre>"
            ]
          },
          "metadata": {}
        },
        {
          "output_type": "display_data",
          "data": {
            "text/plain": [
              "recommendations finished on 214000/305945 queries. users per second: 1387.4"
            ],
            "text/html": [
              "<pre>recommendations finished on 214000/305945 queries. users per second: 1387.4</pre>"
            ]
          },
          "metadata": {}
        },
        {
          "output_type": "display_data",
          "data": {
            "text/plain": [
              "recommendations finished on 215000/305945 queries. users per second: 1387.43"
            ],
            "text/html": [
              "<pre>recommendations finished on 215000/305945 queries. users per second: 1387.43</pre>"
            ]
          },
          "metadata": {}
        },
        {
          "output_type": "display_data",
          "data": {
            "text/plain": [
              "recommendations finished on 216000/305945 queries. users per second: 1387.43"
            ],
            "text/html": [
              "<pre>recommendations finished on 216000/305945 queries. users per second: 1387.43</pre>"
            ]
          },
          "metadata": {}
        },
        {
          "output_type": "display_data",
          "data": {
            "text/plain": [
              "recommendations finished on 217000/305945 queries. users per second: 1387.33"
            ],
            "text/html": [
              "<pre>recommendations finished on 217000/305945 queries. users per second: 1387.33</pre>"
            ]
          },
          "metadata": {}
        },
        {
          "output_type": "display_data",
          "data": {
            "text/plain": [
              "recommendations finished on 218000/305945 queries. users per second: 1387.41"
            ],
            "text/html": [
              "<pre>recommendations finished on 218000/305945 queries. users per second: 1387.41</pre>"
            ]
          },
          "metadata": {}
        },
        {
          "output_type": "display_data",
          "data": {
            "text/plain": [
              "recommendations finished on 219000/305945 queries. users per second: 1387.29"
            ],
            "text/html": [
              "<pre>recommendations finished on 219000/305945 queries. users per second: 1387.29</pre>"
            ]
          },
          "metadata": {}
        },
        {
          "output_type": "display_data",
          "data": {
            "text/plain": [
              "recommendations finished on 220000/305945 queries. users per second: 1387.33"
            ],
            "text/html": [
              "<pre>recommendations finished on 220000/305945 queries. users per second: 1387.33</pre>"
            ]
          },
          "metadata": {}
        },
        {
          "output_type": "display_data",
          "data": {
            "text/plain": [
              "recommendations finished on 221000/305945 queries. users per second: 1387.1"
            ],
            "text/html": [
              "<pre>recommendations finished on 221000/305945 queries. users per second: 1387.1</pre>"
            ]
          },
          "metadata": {}
        },
        {
          "output_type": "display_data",
          "data": {
            "text/plain": [
              "recommendations finished on 222000/305945 queries. users per second: 1387.09"
            ],
            "text/html": [
              "<pre>recommendations finished on 222000/305945 queries. users per second: 1387.09</pre>"
            ]
          },
          "metadata": {}
        },
        {
          "output_type": "display_data",
          "data": {
            "text/plain": [
              "recommendations finished on 223000/305945 queries. users per second: 1387.12"
            ],
            "text/html": [
              "<pre>recommendations finished on 223000/305945 queries. users per second: 1387.12</pre>"
            ]
          },
          "metadata": {}
        },
        {
          "output_type": "display_data",
          "data": {
            "text/plain": [
              "recommendations finished on 224000/305945 queries. users per second: 1387.2"
            ],
            "text/html": [
              "<pre>recommendations finished on 224000/305945 queries. users per second: 1387.2</pre>"
            ]
          },
          "metadata": {}
        },
        {
          "output_type": "display_data",
          "data": {
            "text/plain": [
              "recommendations finished on 225000/305945 queries. users per second: 1387.15"
            ],
            "text/html": [
              "<pre>recommendations finished on 225000/305945 queries. users per second: 1387.15</pre>"
            ]
          },
          "metadata": {}
        },
        {
          "output_type": "display_data",
          "data": {
            "text/plain": [
              "recommendations finished on 226000/305945 queries. users per second: 1387.31"
            ],
            "text/html": [
              "<pre>recommendations finished on 226000/305945 queries. users per second: 1387.31</pre>"
            ]
          },
          "metadata": {}
        },
        {
          "output_type": "display_data",
          "data": {
            "text/plain": [
              "recommendations finished on 227000/305945 queries. users per second: 1387.36"
            ],
            "text/html": [
              "<pre>recommendations finished on 227000/305945 queries. users per second: 1387.36</pre>"
            ]
          },
          "metadata": {}
        },
        {
          "output_type": "display_data",
          "data": {
            "text/plain": [
              "recommendations finished on 228000/305945 queries. users per second: 1387.43"
            ],
            "text/html": [
              "<pre>recommendations finished on 228000/305945 queries. users per second: 1387.43</pre>"
            ]
          },
          "metadata": {}
        },
        {
          "output_type": "display_data",
          "data": {
            "text/plain": [
              "recommendations finished on 229000/305945 queries. users per second: 1387.44"
            ],
            "text/html": [
              "<pre>recommendations finished on 229000/305945 queries. users per second: 1387.44</pre>"
            ]
          },
          "metadata": {}
        },
        {
          "output_type": "display_data",
          "data": {
            "text/plain": [
              "recommendations finished on 230000/305945 queries. users per second: 1387.39"
            ],
            "text/html": [
              "<pre>recommendations finished on 230000/305945 queries. users per second: 1387.39</pre>"
            ]
          },
          "metadata": {}
        },
        {
          "output_type": "display_data",
          "data": {
            "text/plain": [
              "recommendations finished on 231000/305945 queries. users per second: 1387.39"
            ],
            "text/html": [
              "<pre>recommendations finished on 231000/305945 queries. users per second: 1387.39</pre>"
            ]
          },
          "metadata": {}
        },
        {
          "output_type": "display_data",
          "data": {
            "text/plain": [
              "recommendations finished on 232000/305945 queries. users per second: 1387.28"
            ],
            "text/html": [
              "<pre>recommendations finished on 232000/305945 queries. users per second: 1387.28</pre>"
            ]
          },
          "metadata": {}
        },
        {
          "output_type": "display_data",
          "data": {
            "text/plain": [
              "recommendations finished on 233000/305945 queries. users per second: 1387.29"
            ],
            "text/html": [
              "<pre>recommendations finished on 233000/305945 queries. users per second: 1387.29</pre>"
            ]
          },
          "metadata": {}
        },
        {
          "output_type": "display_data",
          "data": {
            "text/plain": [
              "recommendations finished on 234000/305945 queries. users per second: 1387.37"
            ],
            "text/html": [
              "<pre>recommendations finished on 234000/305945 queries. users per second: 1387.37</pre>"
            ]
          },
          "metadata": {}
        },
        {
          "output_type": "display_data",
          "data": {
            "text/plain": [
              "recommendations finished on 235000/305945 queries. users per second: 1387.03"
            ],
            "text/html": [
              "<pre>recommendations finished on 235000/305945 queries. users per second: 1387.03</pre>"
            ]
          },
          "metadata": {}
        },
        {
          "output_type": "display_data",
          "data": {
            "text/plain": [
              "recommendations finished on 236000/305945 queries. users per second: 1386.69"
            ],
            "text/html": [
              "<pre>recommendations finished on 236000/305945 queries. users per second: 1386.69</pre>"
            ]
          },
          "metadata": {}
        },
        {
          "output_type": "display_data",
          "data": {
            "text/plain": [
              "recommendations finished on 237000/305945 queries. users per second: 1382.46"
            ],
            "text/html": [
              "<pre>recommendations finished on 237000/305945 queries. users per second: 1382.46</pre>"
            ]
          },
          "metadata": {}
        },
        {
          "output_type": "display_data",
          "data": {
            "text/plain": [
              "recommendations finished on 238000/305945 queries. users per second: 1377.85"
            ],
            "text/html": [
              "<pre>recommendations finished on 238000/305945 queries. users per second: 1377.85</pre>"
            ]
          },
          "metadata": {}
        },
        {
          "output_type": "display_data",
          "data": {
            "text/plain": [
              "recommendations finished on 239000/305945 queries. users per second: 1373.36"
            ],
            "text/html": [
              "<pre>recommendations finished on 239000/305945 queries. users per second: 1373.36</pre>"
            ]
          },
          "metadata": {}
        },
        {
          "output_type": "display_data",
          "data": {
            "text/plain": [
              "recommendations finished on 240000/305945 queries. users per second: 1372.69"
            ],
            "text/html": [
              "<pre>recommendations finished on 240000/305945 queries. users per second: 1372.69</pre>"
            ]
          },
          "metadata": {}
        },
        {
          "output_type": "display_data",
          "data": {
            "text/plain": [
              "recommendations finished on 241000/305945 queries. users per second: 1372.71"
            ],
            "text/html": [
              "<pre>recommendations finished on 241000/305945 queries. users per second: 1372.71</pre>"
            ]
          },
          "metadata": {}
        },
        {
          "output_type": "display_data",
          "data": {
            "text/plain": [
              "recommendations finished on 242000/305945 queries. users per second: 1372.82"
            ],
            "text/html": [
              "<pre>recommendations finished on 242000/305945 queries. users per second: 1372.82</pre>"
            ]
          },
          "metadata": {}
        },
        {
          "output_type": "display_data",
          "data": {
            "text/plain": [
              "recommendations finished on 243000/305945 queries. users per second: 1372.98"
            ],
            "text/html": [
              "<pre>recommendations finished on 243000/305945 queries. users per second: 1372.98</pre>"
            ]
          },
          "metadata": {}
        },
        {
          "output_type": "display_data",
          "data": {
            "text/plain": [
              "recommendations finished on 244000/305945 queries. users per second: 1373.19"
            ],
            "text/html": [
              "<pre>recommendations finished on 244000/305945 queries. users per second: 1373.19</pre>"
            ]
          },
          "metadata": {}
        },
        {
          "output_type": "display_data",
          "data": {
            "text/plain": [
              "recommendations finished on 245000/305945 queries. users per second: 1373.27"
            ],
            "text/html": [
              "<pre>recommendations finished on 245000/305945 queries. users per second: 1373.27</pre>"
            ]
          },
          "metadata": {}
        },
        {
          "output_type": "display_data",
          "data": {
            "text/plain": [
              "recommendations finished on 246000/305945 queries. users per second: 1373.35"
            ],
            "text/html": [
              "<pre>recommendations finished on 246000/305945 queries. users per second: 1373.35</pre>"
            ]
          },
          "metadata": {}
        },
        {
          "output_type": "display_data",
          "data": {
            "text/plain": [
              "recommendations finished on 247000/305945 queries. users per second: 1373.48"
            ],
            "text/html": [
              "<pre>recommendations finished on 247000/305945 queries. users per second: 1373.48</pre>"
            ]
          },
          "metadata": {}
        },
        {
          "output_type": "display_data",
          "data": {
            "text/plain": [
              "recommendations finished on 248000/305945 queries. users per second: 1373.45"
            ],
            "text/html": [
              "<pre>recommendations finished on 248000/305945 queries. users per second: 1373.45</pre>"
            ]
          },
          "metadata": {}
        },
        {
          "output_type": "display_data",
          "data": {
            "text/plain": [
              "recommendations finished on 249000/305945 queries. users per second: 1373.52"
            ],
            "text/html": [
              "<pre>recommendations finished on 249000/305945 queries. users per second: 1373.52</pre>"
            ]
          },
          "metadata": {}
        },
        {
          "output_type": "display_data",
          "data": {
            "text/plain": [
              "recommendations finished on 250000/305945 queries. users per second: 1373.63"
            ],
            "text/html": [
              "<pre>recommendations finished on 250000/305945 queries. users per second: 1373.63</pre>"
            ]
          },
          "metadata": {}
        },
        {
          "output_type": "display_data",
          "data": {
            "text/plain": [
              "recommendations finished on 251000/305945 queries. users per second: 1373.69"
            ],
            "text/html": [
              "<pre>recommendations finished on 251000/305945 queries. users per second: 1373.69</pre>"
            ]
          },
          "metadata": {}
        },
        {
          "output_type": "display_data",
          "data": {
            "text/plain": [
              "recommendations finished on 252000/305945 queries. users per second: 1373.7"
            ],
            "text/html": [
              "<pre>recommendations finished on 252000/305945 queries. users per second: 1373.7</pre>"
            ]
          },
          "metadata": {}
        },
        {
          "output_type": "display_data",
          "data": {
            "text/plain": [
              "recommendations finished on 253000/305945 queries. users per second: 1373.73"
            ],
            "text/html": [
              "<pre>recommendations finished on 253000/305945 queries. users per second: 1373.73</pre>"
            ]
          },
          "metadata": {}
        },
        {
          "output_type": "display_data",
          "data": {
            "text/plain": [
              "recommendations finished on 254000/305945 queries. users per second: 1373.82"
            ],
            "text/html": [
              "<pre>recommendations finished on 254000/305945 queries. users per second: 1373.82</pre>"
            ]
          },
          "metadata": {}
        },
        {
          "output_type": "display_data",
          "data": {
            "text/plain": [
              "recommendations finished on 255000/305945 queries. users per second: 1374.04"
            ],
            "text/html": [
              "<pre>recommendations finished on 255000/305945 queries. users per second: 1374.04</pre>"
            ]
          },
          "metadata": {}
        },
        {
          "output_type": "display_data",
          "data": {
            "text/plain": [
              "recommendations finished on 256000/305945 queries. users per second: 1374.1"
            ],
            "text/html": [
              "<pre>recommendations finished on 256000/305945 queries. users per second: 1374.1</pre>"
            ]
          },
          "metadata": {}
        },
        {
          "output_type": "display_data",
          "data": {
            "text/plain": [
              "recommendations finished on 257000/305945 queries. users per second: 1374.26"
            ],
            "text/html": [
              "<pre>recommendations finished on 257000/305945 queries. users per second: 1374.26</pre>"
            ]
          },
          "metadata": {}
        },
        {
          "output_type": "display_data",
          "data": {
            "text/plain": [
              "recommendations finished on 258000/305945 queries. users per second: 1374.35"
            ],
            "text/html": [
              "<pre>recommendations finished on 258000/305945 queries. users per second: 1374.35</pre>"
            ]
          },
          "metadata": {}
        },
        {
          "output_type": "display_data",
          "data": {
            "text/plain": [
              "recommendations finished on 259000/305945 queries. users per second: 1374.39"
            ],
            "text/html": [
              "<pre>recommendations finished on 259000/305945 queries. users per second: 1374.39</pre>"
            ]
          },
          "metadata": {}
        },
        {
          "output_type": "display_data",
          "data": {
            "text/plain": [
              "recommendations finished on 260000/305945 queries. users per second: 1374.58"
            ],
            "text/html": [
              "<pre>recommendations finished on 260000/305945 queries. users per second: 1374.58</pre>"
            ]
          },
          "metadata": {}
        },
        {
          "output_type": "display_data",
          "data": {
            "text/plain": [
              "recommendations finished on 261000/305945 queries. users per second: 1374.68"
            ],
            "text/html": [
              "<pre>recommendations finished on 261000/305945 queries. users per second: 1374.68</pre>"
            ]
          },
          "metadata": {}
        },
        {
          "output_type": "display_data",
          "data": {
            "text/plain": [
              "recommendations finished on 262000/305945 queries. users per second: 1374.7"
            ],
            "text/html": [
              "<pre>recommendations finished on 262000/305945 queries. users per second: 1374.7</pre>"
            ]
          },
          "metadata": {}
        },
        {
          "output_type": "display_data",
          "data": {
            "text/plain": [
              "recommendations finished on 263000/305945 queries. users per second: 1374.77"
            ],
            "text/html": [
              "<pre>recommendations finished on 263000/305945 queries. users per second: 1374.77</pre>"
            ]
          },
          "metadata": {}
        },
        {
          "output_type": "display_data",
          "data": {
            "text/plain": [
              "recommendations finished on 264000/305945 queries. users per second: 1374.92"
            ],
            "text/html": [
              "<pre>recommendations finished on 264000/305945 queries. users per second: 1374.92</pre>"
            ]
          },
          "metadata": {}
        },
        {
          "output_type": "display_data",
          "data": {
            "text/plain": [
              "recommendations finished on 265000/305945 queries. users per second: 1374.94"
            ],
            "text/html": [
              "<pre>recommendations finished on 265000/305945 queries. users per second: 1374.94</pre>"
            ]
          },
          "metadata": {}
        },
        {
          "output_type": "display_data",
          "data": {
            "text/plain": [
              "recommendations finished on 266000/305945 queries. users per second: 1375.03"
            ],
            "text/html": [
              "<pre>recommendations finished on 266000/305945 queries. users per second: 1375.03</pre>"
            ]
          },
          "metadata": {}
        },
        {
          "output_type": "display_data",
          "data": {
            "text/plain": [
              "recommendations finished on 267000/305945 queries. users per second: 1375.23"
            ],
            "text/html": [
              "<pre>recommendations finished on 267000/305945 queries. users per second: 1375.23</pre>"
            ]
          },
          "metadata": {}
        },
        {
          "output_type": "display_data",
          "data": {
            "text/plain": [
              "recommendations finished on 268000/305945 queries. users per second: 1375.33"
            ],
            "text/html": [
              "<pre>recommendations finished on 268000/305945 queries. users per second: 1375.33</pre>"
            ]
          },
          "metadata": {}
        },
        {
          "output_type": "display_data",
          "data": {
            "text/plain": [
              "recommendations finished on 269000/305945 queries. users per second: 1375.43"
            ],
            "text/html": [
              "<pre>recommendations finished on 269000/305945 queries. users per second: 1375.43</pre>"
            ]
          },
          "metadata": {}
        },
        {
          "output_type": "display_data",
          "data": {
            "text/plain": [
              "recommendations finished on 270000/305945 queries. users per second: 1375.37"
            ],
            "text/html": [
              "<pre>recommendations finished on 270000/305945 queries. users per second: 1375.37</pre>"
            ]
          },
          "metadata": {}
        },
        {
          "output_type": "display_data",
          "data": {
            "text/plain": [
              "recommendations finished on 271000/305945 queries. users per second: 1375.31"
            ],
            "text/html": [
              "<pre>recommendations finished on 271000/305945 queries. users per second: 1375.31</pre>"
            ]
          },
          "metadata": {}
        },
        {
          "output_type": "display_data",
          "data": {
            "text/plain": [
              "recommendations finished on 272000/305945 queries. users per second: 1375.31"
            ],
            "text/html": [
              "<pre>recommendations finished on 272000/305945 queries. users per second: 1375.31</pre>"
            ]
          },
          "metadata": {}
        },
        {
          "output_type": "display_data",
          "data": {
            "text/plain": [
              "recommendations finished on 273000/305945 queries. users per second: 1375.43"
            ],
            "text/html": [
              "<pre>recommendations finished on 273000/305945 queries. users per second: 1375.43</pre>"
            ]
          },
          "metadata": {}
        },
        {
          "output_type": "display_data",
          "data": {
            "text/plain": [
              "recommendations finished on 274000/305945 queries. users per second: 1375.5"
            ],
            "text/html": [
              "<pre>recommendations finished on 274000/305945 queries. users per second: 1375.5</pre>"
            ]
          },
          "metadata": {}
        },
        {
          "output_type": "display_data",
          "data": {
            "text/plain": [
              "recommendations finished on 275000/305945 queries. users per second: 1375.49"
            ],
            "text/html": [
              "<pre>recommendations finished on 275000/305945 queries. users per second: 1375.49</pre>"
            ]
          },
          "metadata": {}
        },
        {
          "output_type": "display_data",
          "data": {
            "text/plain": [
              "recommendations finished on 276000/305945 queries. users per second: 1375.53"
            ],
            "text/html": [
              "<pre>recommendations finished on 276000/305945 queries. users per second: 1375.53</pre>"
            ]
          },
          "metadata": {}
        },
        {
          "output_type": "display_data",
          "data": {
            "text/plain": [
              "recommendations finished on 277000/305945 queries. users per second: 1375.62"
            ],
            "text/html": [
              "<pre>recommendations finished on 277000/305945 queries. users per second: 1375.62</pre>"
            ]
          },
          "metadata": {}
        },
        {
          "output_type": "display_data",
          "data": {
            "text/plain": [
              "recommendations finished on 278000/305945 queries. users per second: 1375.74"
            ],
            "text/html": [
              "<pre>recommendations finished on 278000/305945 queries. users per second: 1375.74</pre>"
            ]
          },
          "metadata": {}
        },
        {
          "output_type": "display_data",
          "data": {
            "text/plain": [
              "recommendations finished on 279000/305945 queries. users per second: 1375.78"
            ],
            "text/html": [
              "<pre>recommendations finished on 279000/305945 queries. users per second: 1375.78</pre>"
            ]
          },
          "metadata": {}
        },
        {
          "output_type": "display_data",
          "data": {
            "text/plain": [
              "recommendations finished on 280000/305945 queries. users per second: 1375.87"
            ],
            "text/html": [
              "<pre>recommendations finished on 280000/305945 queries. users per second: 1375.87</pre>"
            ]
          },
          "metadata": {}
        },
        {
          "output_type": "display_data",
          "data": {
            "text/plain": [
              "recommendations finished on 281000/305945 queries. users per second: 1375.82"
            ],
            "text/html": [
              "<pre>recommendations finished on 281000/305945 queries. users per second: 1375.82</pre>"
            ]
          },
          "metadata": {}
        },
        {
          "output_type": "display_data",
          "data": {
            "text/plain": [
              "recommendations finished on 282000/305945 queries. users per second: 1375.83"
            ],
            "text/html": [
              "<pre>recommendations finished on 282000/305945 queries. users per second: 1375.83</pre>"
            ]
          },
          "metadata": {}
        },
        {
          "output_type": "display_data",
          "data": {
            "text/plain": [
              "recommendations finished on 283000/305945 queries. users per second: 1375.91"
            ],
            "text/html": [
              "<pre>recommendations finished on 283000/305945 queries. users per second: 1375.91</pre>"
            ]
          },
          "metadata": {}
        },
        {
          "output_type": "display_data",
          "data": {
            "text/plain": [
              "recommendations finished on 284000/305945 queries. users per second: 1375.9"
            ],
            "text/html": [
              "<pre>recommendations finished on 284000/305945 queries. users per second: 1375.9</pre>"
            ]
          },
          "metadata": {}
        },
        {
          "output_type": "display_data",
          "data": {
            "text/plain": [
              "recommendations finished on 285000/305945 queries. users per second: 1375.84"
            ],
            "text/html": [
              "<pre>recommendations finished on 285000/305945 queries. users per second: 1375.84</pre>"
            ]
          },
          "metadata": {}
        },
        {
          "output_type": "display_data",
          "data": {
            "text/plain": [
              "recommendations finished on 286000/305945 queries. users per second: 1375.87"
            ],
            "text/html": [
              "<pre>recommendations finished on 286000/305945 queries. users per second: 1375.87</pre>"
            ]
          },
          "metadata": {}
        },
        {
          "output_type": "display_data",
          "data": {
            "text/plain": [
              "recommendations finished on 287000/305945 queries. users per second: 1375.91"
            ],
            "text/html": [
              "<pre>recommendations finished on 287000/305945 queries. users per second: 1375.91</pre>"
            ]
          },
          "metadata": {}
        },
        {
          "output_type": "display_data",
          "data": {
            "text/plain": [
              "recommendations finished on 288000/305945 queries. users per second: 1375.96"
            ],
            "text/html": [
              "<pre>recommendations finished on 288000/305945 queries. users per second: 1375.96</pre>"
            ]
          },
          "metadata": {}
        },
        {
          "output_type": "display_data",
          "data": {
            "text/plain": [
              "recommendations finished on 289000/305945 queries. users per second: 1376.09"
            ],
            "text/html": [
              "<pre>recommendations finished on 289000/305945 queries. users per second: 1376.09</pre>"
            ]
          },
          "metadata": {}
        },
        {
          "output_type": "display_data",
          "data": {
            "text/plain": [
              "recommendations finished on 290000/305945 queries. users per second: 1376.13"
            ],
            "text/html": [
              "<pre>recommendations finished on 290000/305945 queries. users per second: 1376.13</pre>"
            ]
          },
          "metadata": {}
        },
        {
          "output_type": "display_data",
          "data": {
            "text/plain": [
              "recommendations finished on 291000/305945 queries. users per second: 1376.1"
            ],
            "text/html": [
              "<pre>recommendations finished on 291000/305945 queries. users per second: 1376.1</pre>"
            ]
          },
          "metadata": {}
        },
        {
          "output_type": "display_data",
          "data": {
            "text/plain": [
              "recommendations finished on 292000/305945 queries. users per second: 1375.95"
            ],
            "text/html": [
              "<pre>recommendations finished on 292000/305945 queries. users per second: 1375.95</pre>"
            ]
          },
          "metadata": {}
        },
        {
          "output_type": "display_data",
          "data": {
            "text/plain": [
              "recommendations finished on 293000/305945 queries. users per second: 1375.91"
            ],
            "text/html": [
              "<pre>recommendations finished on 293000/305945 queries. users per second: 1375.91</pre>"
            ]
          },
          "metadata": {}
        },
        {
          "output_type": "display_data",
          "data": {
            "text/plain": [
              "recommendations finished on 294000/305945 queries. users per second: 1375.97"
            ],
            "text/html": [
              "<pre>recommendations finished on 294000/305945 queries. users per second: 1375.97</pre>"
            ]
          },
          "metadata": {}
        },
        {
          "output_type": "display_data",
          "data": {
            "text/plain": [
              "recommendations finished on 295000/305945 queries. users per second: 1375.93"
            ],
            "text/html": [
              "<pre>recommendations finished on 295000/305945 queries. users per second: 1375.93</pre>"
            ]
          },
          "metadata": {}
        },
        {
          "output_type": "display_data",
          "data": {
            "text/plain": [
              "recommendations finished on 296000/305945 queries. users per second: 1375.86"
            ],
            "text/html": [
              "<pre>recommendations finished on 296000/305945 queries. users per second: 1375.86</pre>"
            ]
          },
          "metadata": {}
        },
        {
          "output_type": "display_data",
          "data": {
            "text/plain": [
              "recommendations finished on 297000/305945 queries. users per second: 1375.97"
            ],
            "text/html": [
              "<pre>recommendations finished on 297000/305945 queries. users per second: 1375.97</pre>"
            ]
          },
          "metadata": {}
        },
        {
          "output_type": "display_data",
          "data": {
            "text/plain": [
              "recommendations finished on 298000/305945 queries. users per second: 1376.07"
            ],
            "text/html": [
              "<pre>recommendations finished on 298000/305945 queries. users per second: 1376.07</pre>"
            ]
          },
          "metadata": {}
        },
        {
          "output_type": "display_data",
          "data": {
            "text/plain": [
              "recommendations finished on 299000/305945 queries. users per second: 1376.01"
            ],
            "text/html": [
              "<pre>recommendations finished on 299000/305945 queries. users per second: 1376.01</pre>"
            ]
          },
          "metadata": {}
        },
        {
          "output_type": "display_data",
          "data": {
            "text/plain": [
              "recommendations finished on 300000/305945 queries. users per second: 1376.1"
            ],
            "text/html": [
              "<pre>recommendations finished on 300000/305945 queries. users per second: 1376.1</pre>"
            ]
          },
          "metadata": {}
        },
        {
          "output_type": "display_data",
          "data": {
            "text/plain": [
              "recommendations finished on 301000/305945 queries. users per second: 1376.21"
            ],
            "text/html": [
              "<pre>recommendations finished on 301000/305945 queries. users per second: 1376.21</pre>"
            ]
          },
          "metadata": {}
        },
        {
          "output_type": "display_data",
          "data": {
            "text/plain": [
              "recommendations finished on 302000/305945 queries. users per second: 1376.23"
            ],
            "text/html": [
              "<pre>recommendations finished on 302000/305945 queries. users per second: 1376.23</pre>"
            ]
          },
          "metadata": {}
        },
        {
          "output_type": "display_data",
          "data": {
            "text/plain": [
              "recommendations finished on 303000/305945 queries. users per second: 1376.33"
            ],
            "text/html": [
              "<pre>recommendations finished on 303000/305945 queries. users per second: 1376.33</pre>"
            ]
          },
          "metadata": {}
        },
        {
          "output_type": "display_data",
          "data": {
            "text/plain": [
              "recommendations finished on 304000/305945 queries. users per second: 1376.4"
            ],
            "text/html": [
              "<pre>recommendations finished on 304000/305945 queries. users per second: 1376.4</pre>"
            ]
          },
          "metadata": {}
        },
        {
          "output_type": "display_data",
          "data": {
            "text/plain": [
              "recommendations finished on 305000/305945 queries. users per second: 1376.54"
            ],
            "text/html": [
              "<pre>recommendations finished on 305000/305945 queries. users per second: 1376.54</pre>"
            ]
          },
          "metadata": {}
        }
      ]
    },
    {
      "cell_type": "code",
      "source": [
        "# print the n first recommendations\n",
        "recommendation.print_rows(100)"
      ],
      "metadata": {
        "id": "xKdwjYiopVPx",
        "colab": {
          "base_uri": "https://localhost:8080/"
        },
        "outputId": "2fe63d33-7b9a-4ef2-a838-7b81edc7b637"
      },
      "execution_count": null,
      "outputs": [
        {
          "output_type": "stream",
          "name": "stdout",
          "text": [
            "+---------+---------+---------------------+------+\n",
            "| user_id | item_id |        score        | rank |\n",
            "+---------+---------+---------------------+------+\n",
            "|    0    |  19240  | 0.35698288679122925 |  1   |\n",
            "|    0    |   3921  |  0.3095870316028595 |  2   |\n",
            "|    0    |   3876  |  0.2810938358306885 |  3   |\n",
            "|    0    |   6153  | 0.22873052954673767 |  4   |\n",
            "|    0    |   1179  | 0.21884199976921082 |  5   |\n",
            "|    0    |   2350  | 0.20630986988544464 |  6   |\n",
            "|    0    |   6691  | 0.19016516208648682 |  7   |\n",
            "|    0    |   1744  | 0.16090434789657593 |  8   |\n",
            "|    0    |   7937  | 0.15766994655132294 |  9   |\n",
            "|    0    |   1125  | 0.15361566841602325 |  10  |\n",
            "|    0    |   7928  | 0.15068849921226501 |  11  |\n",
            "|    0    |   6079  | 0.13560670614242554 |  12  |\n",
            "|    1    |   896   |  0.2353052794933319 |  1   |\n",
            "|    1    |   3559  |  0.2041281759738922 |  2   |\n",
            "|    1    |   5371  | 0.18876758217811584 |  3   |\n",
            "|    1    |   3431  | 0.17464987933635712 |  4   |\n",
            "|    1    |   361   |  0.1396971344947815 |  5   |\n",
            "|    1    |   1127  | 0.11500201374292374 |  6   |\n",
            "|    1    |   8915  |  0.1145920529961586 |  7   |\n",
            "|    1    |   1125  | 0.10855940729379654 |  8   |\n",
            "|    1    |   1293  |  0.1084841936826706 |  9   |\n",
            "|    1    |   3691  | 0.10593197494745255 |  10  |\n",
            "|    1    |   4467  | 0.09895715862512589 |  11  |\n",
            "|    1    |   2433  | 0.09463860094547272 |  12  |\n",
            "|    2    |   1779  | 0.12206225842237473 |  1   |\n",
            "|    2    |   9976  |  0.1129414439201355 |  2   |\n",
            "|    2    |   5035  | 0.09633030742406845 |  3   |\n",
            "|    2    |   9332  | 0.08647596091032028 |  4   |\n",
            "|    2    |   1462  | 0.07868199050426483 |  5   |\n",
            "|    2    |   1968  | 0.07450259476900101 |  6   |\n",
            "|    2    |   3815  | 0.07360730320215225 |  7   |\n",
            "|    2    |  12515  | 0.07098530232906342 |  8   |\n",
            "|    2    |   174   | 0.06985746324062347 |  9   |\n",
            "|    2    |   1930  | 0.06899910420179367 |  10  |\n",
            "|    2    |  12162  |  0.0688633993268013 |  11  |\n",
            "|    2    |   3691  | 0.06764675676822662 |  12  |\n",
            "|    3    |   836   | 0.24058295786380768 |  1   |\n",
            "|    3    |   762   |  0.2362111508846283 |  2   |\n",
            "|    3    |   2712  |  0.2292376160621643 |  3   |\n",
            "|    3    |   2713  |  0.2041490375995636 |  4   |\n",
            "|    3    |   8184  | 0.17885655164718628 |  5   |\n",
            "|    3    |   2941  |  0.1543007493019104 |  6   |\n",
            "|    3    |   6414  | 0.14577357470989227 |  7   |\n",
            "|    3    |   3876  | 0.14012372493743896 |  8   |\n",
            "|    3    |   1117  |  0.1341417133808136 |  9   |\n",
            "|    3    |   1211  | 0.13397444784641266 |  10  |\n",
            "|    3    |   600   | 0.13008958101272583 |  11  |\n",
            "|    3    |   554   | 0.11591397225856781 |  12  |\n",
            "|    4    |   9704  | 0.30686241388320923 |  1   |\n",
            "|    4    |   1757  | 0.18582135438919067 |  2   |\n",
            "|    4    |   3725  | 0.13515086472034454 |  3   |\n",
            "|    4    |   5875  | 0.12767484784126282 |  4   |\n",
            "|    4    |   969   | 0.11879612505435944 |  5   |\n",
            "|    4    |  13667  | 0.11866089701652527 |  6   |\n",
            "|    4    |   1179  |  0.1157846599817276 |  7   |\n",
            "|    4    |   2120  | 0.11218460649251938 |  8   |\n",
            "|    4    |   2350  | 0.11101537942886353 |  9   |\n",
            "|    4    |   2007  | 0.10409960150718689 |  10  |\n",
            "|    4    |   1187  | 0.10220187902450562 |  11  |\n",
            "|    4    |   613   | 0.10017025470733643 |  12  |\n",
            "|    5    |   3431  |  0.2123647779226303 |  1   |\n",
            "|    5    |   554   | 0.12999507784843445 |  2   |\n",
            "|    5    |   1806  | 0.11691966652870178 |  3   |\n",
            "|    5    |   1187  |  0.1090298593044281 |  4   |\n",
            "|    5    |   286   | 0.10167474299669266 |  5   |\n",
            "|    5    |  13271  | 0.09575289487838745 |  6   |\n",
            "|    5    |   5371  | 0.08948931097984314 |  7   |\n",
            "|    5    |   5456  | 0.07659880816936493 |  8   |\n",
            "|    5    |  11860  |  0.0744687095284462 |  9   |\n",
            "|    5    |  22470  | 0.07252097129821777 |  10  |\n",
            "|    5    |   6825  | 0.07207901775836945 |  11  |\n",
            "|    5    |   3352  | 0.06758829206228256 |  12  |\n",
            "|    6    |   3559  |  0.4721381664276123 |  1   |\n",
            "|    6    |   361   |  0.3702249825000763 |  2   |\n",
            "|    6    |   429   |  0.3176714777946472 |  3   |\n",
            "|    6    |   497   | 0.30555111169815063 |  4   |\n",
            "|    6    |  11278  |  0.287710964679718  |  5   |\n",
            "|    6    |   509   | 0.24426211416721344 |  6   |\n",
            "|    6    |   999   | 0.22274300456047058 |  7   |\n",
            "|    6    |   969   |  0.2109735906124115 |  8   |\n",
            "|    6    |   3637  | 0.20565757155418396 |  9   |\n",
            "|    6    |   7951  | 0.18439799547195435 |  10  |\n",
            "|    6    |   851   | 0.17922434210777283 |  11  |\n",
            "|    6    |   867   |  0.1766829788684845 |  12  |\n",
            "|    7    |   6075  |  0.7149144411087036 |  1   |\n",
            "|    7    |    88   |  0.7133349180221558 |  2   |\n",
            "|    7    |   3501  |  0.684447705745697  |  3   |\n",
            "|    7    |   1374  |  0.6806724071502686 |  4   |\n",
            "|    7    |   1779  |  0.6006115078926086 |  5   |\n",
            "|    7    |   1441  |  0.5673649311065674 |  6   |\n",
            "|    7    |   3482  |  0.5603530406951904 |  7   |\n",
            "|    7    |   1127  |  0.557433545589447  |  8   |\n",
            "|    7    |   1776  |  0.5567293167114258 |  9   |\n",
            "|    7    |   6354  |  0.5351152420043945 |  10  |\n",
            "|    7    |   4173  |  0.532363772392273  |  11  |\n",
            "|    7    |   554   |  0.5130189657211304 |  12  |\n",
            "|    8    |   286   | 0.22845911979675293 |  1   |\n",
            "|    8    |   1374  |  0.2155235856771469 |  2   |\n",
            "|    8    |   462   | 0.19142234325408936 |  3   |\n",
            "|    8    |   939   |  0.1831125020980835 |  4   |\n",
            "+---------+---------+---------------------+------+\n",
            "[3671340 rows x 4 columns]\n",
            "\n"
          ]
        }
      ]
    },
    {
      "cell_type": "code",
      "source": [
        "mfg_eval = mf_grad.evaluate_precision_recall(df_test)"
      ],
      "metadata": {
        "id": "nruo33dppY4_"
      },
      "execution_count": null,
      "outputs": []
    },
    {
      "cell_type": "code",
      "source": [
        "mfg_eval"
      ],
      "metadata": {
        "id": "fouAx2k1paOr",
        "colab": {
          "base_uri": "https://localhost:8080/"
        },
        "outputId": "9dd9dae6-54af-476f-e4ee-c14863dd8409"
      },
      "execution_count": null,
      "outputs": [
        {
          "output_type": "execute_result",
          "data": {
            "text/plain": [
              "{'precision_recall_by_user': Columns:\n",
              " \tuser_id\tint\n",
              " \tcutoff\tint\n",
              " \tprecision\tfloat\n",
              " \trecall\tfloat\n",
              " \tcount\tint\n",
              " \n",
              " Rows: 1619658\n",
              " \n",
              " Data:\n",
              " +---------+--------+-----------+--------+-------+\n",
              " | user_id | cutoff | precision | recall | count |\n",
              " +---------+--------+-----------+--------+-------+\n",
              " |    5    |   1    |    0.0    |  0.0   |   9   |\n",
              " |    5    |   2    |    0.0    |  0.0   |   9   |\n",
              " |    5    |   3    |    0.0    |  0.0   |   9   |\n",
              " |    5    |   4    |    0.0    |  0.0   |   9   |\n",
              " |    5    |   5    |    0.0    |  0.0   |   9   |\n",
              " |    5    |   6    |    0.0    |  0.0   |   9   |\n",
              " |    5    |   7    |    0.0    |  0.0   |   9   |\n",
              " |    5    |   8    |    0.0    |  0.0   |   9   |\n",
              " |    5    |   9    |    0.0    |  0.0   |   9   |\n",
              " |    5    |   10   |    0.0    |  0.0   |   9   |\n",
              " +---------+--------+-----------+--------+-------+\n",
              " [1619658 rows x 5 columns]\n",
              " Note: Only the head of the SFrame is printed.\n",
              " You can use print_rows(num_rows=m, num_columns=n) to print more rows and columns.,\n",
              " 'precision_recall_overall': Columns:\n",
              " \tcutoff\tint\n",
              " \tprecision\tfloat\n",
              " \trecall\tfloat\n",
              " \n",
              " Rows: 18\n",
              " \n",
              " Data:\n",
              " +--------+----------------------+-----------------------+\n",
              " | cutoff |      precision       |         recall        |\n",
              " +--------+----------------------+-----------------------+\n",
              " |   1    | 0.04227559151376417  | 0.0027063045808191147 |\n",
              " |   2    | 0.03743012413731789  |  0.004803563538087145 |\n",
              " |   3    | 0.034470240013633746 |  0.006608808602403164 |\n",
              " |   4    | 0.03252075438148046  |  0.00830224070295459  |\n",
              " |   5    | 0.030986541603226694 |  0.00988403942131205  |\n",
              " |   6    | 0.02983592832560921  |  0.011400139371867938 |\n",
              " |   7    | 0.028734637629849114 |  0.012792843808877819 |\n",
              " |   8    | 0.027761416298996446 |  0.014093805603643107 |\n",
              " |   9    | 0.02694519460281045  |  0.015412700738938136 |\n",
              " |   10   | 0.02628554917148996  |  0.016737909461139896 |\n",
              " +--------+----------------------+-----------------------+\n",
              " [18 rows x 3 columns]\n",
              " Note: Only the head of the SFrame is printed.\n",
              " You can use print_rows(num_rows=m, num_columns=n) to print more rows and columns.}"
            ]
          },
          "metadata": {},
          "execution_count": 23
        }
      ]
    },
    {
      "cell_type": "markdown",
      "source": [
        "## 2-2 iALS"
      ],
      "metadata": {
        "id": "RyINVBRQig0p"
      }
    },
    {
      "cell_type": "code",
      "source": [
        "mf_als = tc.ranking_factorization_recommender.create(df_train, \n",
        "                                              user_id='customer_id', \n",
        "                                              item_id='article_id',\n",
        "                                              num_factors=100,\n",
        "                                              regularization=1e-07,\n",
        "                                              max_iterations=25,\n",
        "                                              solver='ials')\n",
        "# recommend k products for a list of users (None corresponds to all users) \n",
        "#recommendation = mf_als.recommend(users=None, k=12)"
      ],
      "metadata": {
        "colab": {
          "base_uri": "https://localhost:8080/",
          "height": 798
        },
        "id": "HNMq-blTZEr-",
        "outputId": "a32a104b-44b2-4f7f-ca28-1d040ae66c35"
      },
      "execution_count": null,
      "outputs": [
        {
          "output_type": "display_data",
          "data": {
            "text/plain": [
              "Preparing data set."
            ],
            "text/html": [
              "<pre>Preparing data set.</pre>"
            ]
          },
          "metadata": {}
        },
        {
          "output_type": "display_data",
          "data": {
            "text/plain": [
              "    Data has 16380622 observations with 305945 users and 42373 items."
            ],
            "text/html": [
              "<pre>    Data has 16380622 observations with 305945 users and 42373 items.</pre>"
            ]
          },
          "metadata": {}
        },
        {
          "output_type": "display_data",
          "data": {
            "text/plain": [
              "    Data prepared in: 6.13287s"
            ],
            "text/html": [
              "<pre>    Data prepared in: 6.13287s</pre>"
            ]
          },
          "metadata": {}
        },
        {
          "output_type": "display_data",
          "data": {
            "text/plain": [
              "Training ranking_factorization_recommender for recommendations."
            ],
            "text/html": [
              "<pre>Training ranking_factorization_recommender for recommendations.</pre>"
            ]
          },
          "metadata": {}
        },
        {
          "output_type": "display_data",
          "data": {
            "text/plain": [
              "+------------------------------+--------------------------------------------------+----------+"
            ],
            "text/html": [
              "<pre>+------------------------------+--------------------------------------------------+----------+</pre>"
            ]
          },
          "metadata": {}
        },
        {
          "output_type": "display_data",
          "data": {
            "text/plain": [
              "| Parameter                    | Description                                      | Value    |"
            ],
            "text/html": [
              "<pre>| Parameter                    | Description                                      | Value    |</pre>"
            ]
          },
          "metadata": {}
        },
        {
          "output_type": "display_data",
          "data": {
            "text/plain": [
              "+------------------------------+--------------------------------------------------+----------+"
            ],
            "text/html": [
              "<pre>+------------------------------+--------------------------------------------------+----------+</pre>"
            ]
          },
          "metadata": {}
        },
        {
          "output_type": "display_data",
          "data": {
            "text/plain": [
              "| num_factors                  | Factor Dimension                                 | 100      |"
            ],
            "text/html": [
              "<pre>| num_factors                  | Factor Dimension                                 | 100      |</pre>"
            ]
          },
          "metadata": {}
        },
        {
          "output_type": "display_data",
          "data": {
            "text/plain": [
              "| regularization               | L2 Regularization on Factors                     | 1e-07    |"
            ],
            "text/html": [
              "<pre>| regularization               | L2 Regularization on Factors                     | 1e-07    |</pre>"
            ]
          },
          "metadata": {}
        },
        {
          "output_type": "display_data",
          "data": {
            "text/plain": [
              "| max_iterations               | Maximum Number of Iterations                     | 25       |"
            ],
            "text/html": [
              "<pre>| max_iterations               | Maximum Number of Iterations                     | 25       |</pre>"
            ]
          },
          "metadata": {}
        },
        {
          "output_type": "display_data",
          "data": {
            "text/plain": [
              "| solver                       | Solver used for training                         | ials     |"
            ],
            "text/html": [
              "<pre>| solver                       | Solver used for training                         | ials     |</pre>"
            ]
          },
          "metadata": {}
        },
        {
          "output_type": "display_data",
          "data": {
            "text/plain": [
              "+------------------------------+--------------------------------------------------+----------+"
            ],
            "text/html": [
              "<pre>+------------------------------+--------------------------------------------------+----------+</pre>"
            ]
          },
          "metadata": {}
        },
        {
          "output_type": "display_data",
          "data": {
            "text/plain": [
              "+---------+--------------+---------------------------+"
            ],
            "text/html": [
              "<pre>+---------+--------------+---------------------------+</pre>"
            ]
          },
          "metadata": {}
        },
        {
          "output_type": "display_data",
          "data": {
            "text/plain": [
              "| Iter.   | Elapsed time | Estimated Objective Value |"
            ],
            "text/html": [
              "<pre>| Iter.   | Elapsed time | Estimated Objective Value |</pre>"
            ]
          },
          "metadata": {}
        },
        {
          "output_type": "display_data",
          "data": {
            "text/plain": [
              "+---------+--------------+---------------------------+"
            ],
            "text/html": [
              "<pre>+---------+--------------+---------------------------+</pre>"
            ]
          },
          "metadata": {}
        },
        {
          "output_type": "display_data",
          "data": {
            "text/plain": [
              "| Initial | 101us        | NA                        |"
            ],
            "text/html": [
              "<pre>| Initial | 101us        | NA                        |</pre>"
            ]
          },
          "metadata": {}
        },
        {
          "output_type": "display_data",
          "data": {
            "text/plain": [
              "+---------+--------------+---------------------------+"
            ],
            "text/html": [
              "<pre>+---------+--------------+---------------------------+</pre>"
            ]
          },
          "metadata": {}
        },
        {
          "output_type": "display_data",
          "data": {
            "text/plain": [
              "| 0       | 16.43s       | 0.998922                  |"
            ],
            "text/html": [
              "<pre>| 0       | 16.43s       | 0.998922                  |</pre>"
            ]
          },
          "metadata": {}
        },
        {
          "output_type": "display_data",
          "data": {
            "text/plain": [
              "| 1       | 32.29s       | 0.950603                  |"
            ],
            "text/html": [
              "<pre>| 1       | 32.29s       | 0.950603                  |</pre>"
            ]
          },
          "metadata": {}
        },
        {
          "output_type": "display_data",
          "data": {
            "text/plain": [
              "| 2       | 48.20s       | 0.94451                   |"
            ],
            "text/html": [
              "<pre>| 2       | 48.20s       | 0.94451                   |</pre>"
            ]
          },
          "metadata": {}
        },
        {
          "output_type": "display_data",
          "data": {
            "text/plain": [
              "| 3       | 1m 4s        | 0.942493                  |"
            ],
            "text/html": [
              "<pre>| 3       | 1m 4s        | 0.942493                  |</pre>"
            ]
          },
          "metadata": {}
        },
        {
          "output_type": "display_data",
          "data": {
            "text/plain": [
              "| 4       | 1m 20s       | 0.941519                  |"
            ],
            "text/html": [
              "<pre>| 4       | 1m 20s       | 0.941519                  |</pre>"
            ]
          },
          "metadata": {}
        },
        {
          "output_type": "display_data",
          "data": {
            "text/plain": [
              "| 5       | 1m 36s       | 0.940946                  |"
            ],
            "text/html": [
              "<pre>| 5       | 1m 36s       | 0.940946                  |</pre>"
            ]
          },
          "metadata": {}
        },
        {
          "output_type": "display_data",
          "data": {
            "text/plain": [
              "| 6       | 1m 52s       | 0.940571                  |"
            ],
            "text/html": [
              "<pre>| 6       | 1m 52s       | 0.940571                  |</pre>"
            ]
          },
          "metadata": {}
        },
        {
          "output_type": "display_data",
          "data": {
            "text/plain": [
              "| 7       | 2m 8s        | 0.940308                  |"
            ],
            "text/html": [
              "<pre>| 7       | 2m 8s        | 0.940308                  |</pre>"
            ]
          },
          "metadata": {}
        },
        {
          "output_type": "display_data",
          "data": {
            "text/plain": [
              "| 8       | 2m 24s       | 0.940114                  |"
            ],
            "text/html": [
              "<pre>| 8       | 2m 24s       | 0.940114                  |</pre>"
            ]
          },
          "metadata": {}
        },
        {
          "output_type": "display_data",
          "data": {
            "text/plain": [
              "| 9       | 2m 39s       | 0.939966                  |"
            ],
            "text/html": [
              "<pre>| 9       | 2m 39s       | 0.939966                  |</pre>"
            ]
          },
          "metadata": {}
        },
        {
          "output_type": "display_data",
          "data": {
            "text/plain": [
              "| 10      | 2m 55s       | 0.93985                   |"
            ],
            "text/html": [
              "<pre>| 10      | 2m 55s       | 0.93985                   |</pre>"
            ]
          },
          "metadata": {}
        },
        {
          "output_type": "display_data",
          "data": {
            "text/plain": [
              "| 11      | 3m 11s       | 0.939756                  |"
            ],
            "text/html": [
              "<pre>| 11      | 3m 11s       | 0.939756                  |</pre>"
            ]
          },
          "metadata": {}
        },
        {
          "output_type": "display_data",
          "data": {
            "text/plain": [
              "| 12      | 3m 27s       | 0.939678                  |"
            ],
            "text/html": [
              "<pre>| 12      | 3m 27s       | 0.939678                  |</pre>"
            ]
          },
          "metadata": {}
        },
        {
          "output_type": "display_data",
          "data": {
            "text/plain": [
              "| 13      | 3m 43s       | 0.939614                  |"
            ],
            "text/html": [
              "<pre>| 13      | 3m 43s       | 0.939614                  |</pre>"
            ]
          },
          "metadata": {}
        },
        {
          "output_type": "display_data",
          "data": {
            "text/plain": [
              "| 14      | 3m 59s       | 0.939559                  |"
            ],
            "text/html": [
              "<pre>| 14      | 3m 59s       | 0.939559                  |</pre>"
            ]
          },
          "metadata": {}
        },
        {
          "output_type": "display_data",
          "data": {
            "text/plain": [
              "| 15      | 4m 15s       | 0.939512                  |"
            ],
            "text/html": [
              "<pre>| 15      | 4m 15s       | 0.939512                  |</pre>"
            ]
          },
          "metadata": {}
        },
        {
          "output_type": "display_data",
          "data": {
            "text/plain": [
              "| 16      | 4m 31s       | 0.939471                  |"
            ],
            "text/html": [
              "<pre>| 16      | 4m 31s       | 0.939471                  |</pre>"
            ]
          },
          "metadata": {}
        },
        {
          "output_type": "display_data",
          "data": {
            "text/plain": [
              "| 17      | 4m 46s       | 0.939435                  |"
            ],
            "text/html": [
              "<pre>| 17      | 4m 46s       | 0.939435                  |</pre>"
            ]
          },
          "metadata": {}
        },
        {
          "output_type": "display_data",
          "data": {
            "text/plain": [
              "| 18      | 5m 2s        | 0.939404                  |"
            ],
            "text/html": [
              "<pre>| 18      | 5m 2s        | 0.939404                  |</pre>"
            ]
          },
          "metadata": {}
        },
        {
          "output_type": "display_data",
          "data": {
            "text/plain": [
              "| 19      | 5m 18s       | 0.939376                  |"
            ],
            "text/html": [
              "<pre>| 19      | 5m 18s       | 0.939376                  |</pre>"
            ]
          },
          "metadata": {}
        },
        {
          "output_type": "display_data",
          "data": {
            "text/plain": [
              "| 20      | 5m 34s       | 0.939352                  |"
            ],
            "text/html": [
              "<pre>| 20      | 5m 34s       | 0.939352                  |</pre>"
            ]
          },
          "metadata": {}
        },
        {
          "output_type": "display_data",
          "data": {
            "text/plain": [
              "| 21      | 5m 50s       | 0.93933                   |"
            ],
            "text/html": [
              "<pre>| 21      | 5m 50s       | 0.93933                   |</pre>"
            ]
          },
          "metadata": {}
        },
        {
          "output_type": "display_data",
          "data": {
            "text/plain": [
              "| 22      | 6m 6s        | 0.93931                   |"
            ],
            "text/html": [
              "<pre>| 22      | 6m 6s        | 0.93931                   |</pre>"
            ]
          },
          "metadata": {}
        },
        {
          "output_type": "display_data",
          "data": {
            "text/plain": [
              "| 23      | 6m 22s       | 0.939292                  |"
            ],
            "text/html": [
              "<pre>| 23      | 6m 22s       | 0.939292                  |</pre>"
            ]
          },
          "metadata": {}
        },
        {
          "output_type": "display_data",
          "data": {
            "text/plain": [
              "| 24      | 6m 38s       | 0.939276                  |"
            ],
            "text/html": [
              "<pre>| 24      | 6m 38s       | 0.939276                  |</pre>"
            ]
          },
          "metadata": {}
        },
        {
          "output_type": "display_data",
          "data": {
            "text/plain": [
              "| FINAL   | 6m 38s       | 0.939276                  |"
            ],
            "text/html": [
              "<pre>| FINAL   | 6m 38s       | 0.939276                  |</pre>"
            ]
          },
          "metadata": {}
        },
        {
          "output_type": "display_data",
          "data": {
            "text/plain": [
              "+---------+--------------+---------------------------+"
            ],
            "text/html": [
              "<pre>+---------+--------------+---------------------------+</pre>"
            ]
          },
          "metadata": {}
        },
        {
          "output_type": "display_data",
          "data": {
            "text/plain": [
              "Optimization Complete: Iteration limit reached."
            ],
            "text/html": [
              "<pre>Optimization Complete: Iteration limit reached.</pre>"
            ]
          },
          "metadata": {}
        }
      ]
    },
    {
      "cell_type": "code",
      "source": [
        "# print the n first recommendations\n",
        "recommendation.print_rows(100)"
      ],
      "metadata": {
        "colab": {
          "base_uri": "https://localhost:8080/"
        },
        "id": "BB9ceIHRprOJ",
        "outputId": "a385ecfa-3d4b-4055-e13c-5ab1d1882193"
      },
      "execution_count": null,
      "outputs": [
        {
          "output_type": "stream",
          "name": "stdout",
          "text": [
            "+---------+---------+---------------------+------+\n",
            "| user_id | item_id |        score        | rank |\n",
            "+---------+---------+---------------------+------+\n",
            "|    0    |  19240  | 0.35698288679122925 |  1   |\n",
            "|    0    |   3921  |  0.3095870316028595 |  2   |\n",
            "|    0    |   3876  |  0.2810938358306885 |  3   |\n",
            "|    0    |   6153  | 0.22873052954673767 |  4   |\n",
            "|    0    |   1179  | 0.21884199976921082 |  5   |\n",
            "|    0    |   2350  | 0.20630986988544464 |  6   |\n",
            "|    0    |   6691  | 0.19016516208648682 |  7   |\n",
            "|    0    |   1744  | 0.16090434789657593 |  8   |\n",
            "|    0    |   7937  | 0.15766994655132294 |  9   |\n",
            "|    0    |   1125  | 0.15361566841602325 |  10  |\n",
            "|    0    |   7928  | 0.15068849921226501 |  11  |\n",
            "|    0    |   6079  | 0.13560670614242554 |  12  |\n",
            "|    1    |   896   |  0.2353052794933319 |  1   |\n",
            "|    1    |   3559  |  0.2041281759738922 |  2   |\n",
            "|    1    |   5371  | 0.18876758217811584 |  3   |\n",
            "|    1    |   3431  | 0.17464987933635712 |  4   |\n",
            "|    1    |   361   |  0.1396971344947815 |  5   |\n",
            "|    1    |   1127  | 0.11500201374292374 |  6   |\n",
            "|    1    |   8915  |  0.1145920529961586 |  7   |\n",
            "|    1    |   1125  | 0.10855940729379654 |  8   |\n",
            "|    1    |   1293  |  0.1084841936826706 |  9   |\n",
            "|    1    |   3691  | 0.10593197494745255 |  10  |\n",
            "|    1    |   4467  | 0.09895715862512589 |  11  |\n",
            "|    1    |   2433  | 0.09463860094547272 |  12  |\n",
            "|    2    |   1779  | 0.12206225842237473 |  1   |\n",
            "|    2    |   9976  |  0.1129414439201355 |  2   |\n",
            "|    2    |   5035  | 0.09633030742406845 |  3   |\n",
            "|    2    |   9332  | 0.08647596091032028 |  4   |\n",
            "|    2    |   1462  | 0.07868199050426483 |  5   |\n",
            "|    2    |   1968  | 0.07450259476900101 |  6   |\n",
            "|    2    |   3815  | 0.07360730320215225 |  7   |\n",
            "|    2    |  12515  | 0.07098530232906342 |  8   |\n",
            "|    2    |   174   | 0.06985746324062347 |  9   |\n",
            "|    2    |   1930  | 0.06899910420179367 |  10  |\n",
            "|    2    |  12162  |  0.0688633993268013 |  11  |\n",
            "|    2    |   3691  | 0.06764675676822662 |  12  |\n",
            "|    3    |   836   | 0.24058295786380768 |  1   |\n",
            "|    3    |   762   |  0.2362111508846283 |  2   |\n",
            "|    3    |   2712  |  0.2292376160621643 |  3   |\n",
            "|    3    |   2713  |  0.2041490375995636 |  4   |\n",
            "|    3    |   8184  | 0.17885655164718628 |  5   |\n",
            "|    3    |   2941  |  0.1543007493019104 |  6   |\n",
            "|    3    |   6414  | 0.14577357470989227 |  7   |\n",
            "|    3    |   3876  | 0.14012372493743896 |  8   |\n",
            "|    3    |   1117  |  0.1341417133808136 |  9   |\n",
            "|    3    |   1211  | 0.13397444784641266 |  10  |\n",
            "|    3    |   600   | 0.13008958101272583 |  11  |\n",
            "|    3    |   554   | 0.11591397225856781 |  12  |\n",
            "|    4    |   9704  | 0.30686241388320923 |  1   |\n",
            "|    4    |   1757  | 0.18582135438919067 |  2   |\n",
            "|    4    |   3725  | 0.13515086472034454 |  3   |\n",
            "|    4    |   5875  | 0.12767484784126282 |  4   |\n",
            "|    4    |   969   | 0.11879612505435944 |  5   |\n",
            "|    4    |  13667  | 0.11866089701652527 |  6   |\n",
            "|    4    |   1179  |  0.1157846599817276 |  7   |\n",
            "|    4    |   2120  | 0.11218460649251938 |  8   |\n",
            "|    4    |   2350  | 0.11101537942886353 |  9   |\n",
            "|    4    |   2007  | 0.10409960150718689 |  10  |\n",
            "|    4    |   1187  | 0.10220187902450562 |  11  |\n",
            "|    4    |   613   | 0.10017025470733643 |  12  |\n",
            "|    5    |   3431  |  0.2123647779226303 |  1   |\n",
            "|    5    |   554   | 0.12999507784843445 |  2   |\n",
            "|    5    |   1806  | 0.11691966652870178 |  3   |\n",
            "|    5    |   1187  |  0.1090298593044281 |  4   |\n",
            "|    5    |   286   | 0.10167474299669266 |  5   |\n",
            "|    5    |  13271  | 0.09575289487838745 |  6   |\n",
            "|    5    |   5371  | 0.08948931097984314 |  7   |\n",
            "|    5    |   5456  | 0.07659880816936493 |  8   |\n",
            "|    5    |  11860  |  0.0744687095284462 |  9   |\n",
            "|    5    |  22470  | 0.07252097129821777 |  10  |\n",
            "|    5    |   6825  | 0.07207901775836945 |  11  |\n",
            "|    5    |   3352  | 0.06758829206228256 |  12  |\n",
            "|    6    |   3559  |  0.4721381664276123 |  1   |\n",
            "|    6    |   361   |  0.3702249825000763 |  2   |\n",
            "|    6    |   429   |  0.3176714777946472 |  3   |\n",
            "|    6    |   497   | 0.30555111169815063 |  4   |\n",
            "|    6    |  11278  |  0.287710964679718  |  5   |\n",
            "|    6    |   509   | 0.24426211416721344 |  6   |\n",
            "|    6    |   999   | 0.22274300456047058 |  7   |\n",
            "|    6    |   969   |  0.2109735906124115 |  8   |\n",
            "|    6    |   3637  | 0.20565757155418396 |  9   |\n",
            "|    6    |   7951  | 0.18439799547195435 |  10  |\n",
            "|    6    |   851   | 0.17922434210777283 |  11  |\n",
            "|    6    |   867   |  0.1766829788684845 |  12  |\n",
            "|    7    |   6075  |  0.7149144411087036 |  1   |\n",
            "|    7    |    88   |  0.7133349180221558 |  2   |\n",
            "|    7    |   3501  |  0.684447705745697  |  3   |\n",
            "|    7    |   1374  |  0.6806724071502686 |  4   |\n",
            "|    7    |   1779  |  0.6006115078926086 |  5   |\n",
            "|    7    |   1441  |  0.5673649311065674 |  6   |\n",
            "|    7    |   3482  |  0.5603530406951904 |  7   |\n",
            "|    7    |   1127  |  0.557433545589447  |  8   |\n",
            "|    7    |   1776  |  0.5567293167114258 |  9   |\n",
            "|    7    |   6354  |  0.5351152420043945 |  10  |\n",
            "|    7    |   4173  |  0.532363772392273  |  11  |\n",
            "|    7    |   554   |  0.5130189657211304 |  12  |\n",
            "|    8    |   286   | 0.22845911979675293 |  1   |\n",
            "|    8    |   1374  |  0.2155235856771469 |  2   |\n",
            "|    8    |   462   | 0.19142234325408936 |  3   |\n",
            "|    8    |   939   |  0.1831125020980835 |  4   |\n",
            "+---------+---------+---------------------+------+\n",
            "[3671340 rows x 4 columns]\n",
            "\n"
          ]
        }
      ]
    },
    {
      "cell_type": "code",
      "source": [
        "mfa_eval = mf_als.evaluate_precision_recall(df_test,cutoffs=[1,12])"
      ],
      "metadata": {
        "id": "S6mguVhcpsF3",
        "colab": {
          "base_uri": "https://localhost:8080/",
          "height": 1000
        },
        "outputId": "68a01010-8fda-4692-b0c5-169c33e5c81f"
      },
      "execution_count": null,
      "outputs": [
        {
          "output_type": "display_data",
          "data": {
            "text/plain": [
              "recommendations finished on 1000/89981 queries. users per second: 3356.25"
            ],
            "text/html": [
              "<pre>recommendations finished on 1000/89981 queries. users per second: 3356.25</pre>"
            ]
          },
          "metadata": {}
        },
        {
          "output_type": "display_data",
          "data": {
            "text/plain": [
              "recommendations finished on 2000/89981 queries. users per second: 3405.17"
            ],
            "text/html": [
              "<pre>recommendations finished on 2000/89981 queries. users per second: 3405.17</pre>"
            ]
          },
          "metadata": {}
        },
        {
          "output_type": "display_data",
          "data": {
            "text/plain": [
              "recommendations finished on 3000/89981 queries. users per second: 3415.34"
            ],
            "text/html": [
              "<pre>recommendations finished on 3000/89981 queries. users per second: 3415.34</pre>"
            ]
          },
          "metadata": {}
        },
        {
          "output_type": "display_data",
          "data": {
            "text/plain": [
              "recommendations finished on 4000/89981 queries. users per second: 3449.41"
            ],
            "text/html": [
              "<pre>recommendations finished on 4000/89981 queries. users per second: 3449.41</pre>"
            ]
          },
          "metadata": {}
        },
        {
          "output_type": "display_data",
          "data": {
            "text/plain": [
              "recommendations finished on 5000/89981 queries. users per second: 3433.73"
            ],
            "text/html": [
              "<pre>recommendations finished on 5000/89981 queries. users per second: 3433.73</pre>"
            ]
          },
          "metadata": {}
        },
        {
          "output_type": "display_data",
          "data": {
            "text/plain": [
              "recommendations finished on 6000/89981 queries. users per second: 3444.6"
            ],
            "text/html": [
              "<pre>recommendations finished on 6000/89981 queries. users per second: 3444.6</pre>"
            ]
          },
          "metadata": {}
        },
        {
          "output_type": "display_data",
          "data": {
            "text/plain": [
              "recommendations finished on 7000/89981 queries. users per second: 3435.47"
            ],
            "text/html": [
              "<pre>recommendations finished on 7000/89981 queries. users per second: 3435.47</pre>"
            ]
          },
          "metadata": {}
        },
        {
          "output_type": "display_data",
          "data": {
            "text/plain": [
              "recommendations finished on 8000/89981 queries. users per second: 3448.36"
            ],
            "text/html": [
              "<pre>recommendations finished on 8000/89981 queries. users per second: 3448.36</pre>"
            ]
          },
          "metadata": {}
        },
        {
          "output_type": "display_data",
          "data": {
            "text/plain": [
              "recommendations finished on 9000/89981 queries. users per second: 3436.31"
            ],
            "text/html": [
              "<pre>recommendations finished on 9000/89981 queries. users per second: 3436.31</pre>"
            ]
          },
          "metadata": {}
        },
        {
          "output_type": "display_data",
          "data": {
            "text/plain": [
              "recommendations finished on 10000/89981 queries. users per second: 3446.99"
            ],
            "text/html": [
              "<pre>recommendations finished on 10000/89981 queries. users per second: 3446.99</pre>"
            ]
          },
          "metadata": {}
        },
        {
          "output_type": "display_data",
          "data": {
            "text/plain": [
              "recommendations finished on 11000/89981 queries. users per second: 3437.66"
            ],
            "text/html": [
              "<pre>recommendations finished on 11000/89981 queries. users per second: 3437.66</pre>"
            ]
          },
          "metadata": {}
        },
        {
          "output_type": "display_data",
          "data": {
            "text/plain": [
              "recommendations finished on 12000/89981 queries. users per second: 3447.86"
            ],
            "text/html": [
              "<pre>recommendations finished on 12000/89981 queries. users per second: 3447.86</pre>"
            ]
          },
          "metadata": {}
        },
        {
          "output_type": "display_data",
          "data": {
            "text/plain": [
              "recommendations finished on 13000/89981 queries. users per second: 3442.34"
            ],
            "text/html": [
              "<pre>recommendations finished on 13000/89981 queries. users per second: 3442.34</pre>"
            ]
          },
          "metadata": {}
        },
        {
          "output_type": "display_data",
          "data": {
            "text/plain": [
              "recommendations finished on 14000/89981 queries. users per second: 3444.36"
            ],
            "text/html": [
              "<pre>recommendations finished on 14000/89981 queries. users per second: 3444.36</pre>"
            ]
          },
          "metadata": {}
        },
        {
          "output_type": "display_data",
          "data": {
            "text/plain": [
              "recommendations finished on 15000/89981 queries. users per second: 3447.81"
            ],
            "text/html": [
              "<pre>recommendations finished on 15000/89981 queries. users per second: 3447.81</pre>"
            ]
          },
          "metadata": {}
        },
        {
          "output_type": "display_data",
          "data": {
            "text/plain": [
              "recommendations finished on 16000/89981 queries. users per second: 3443.05"
            ],
            "text/html": [
              "<pre>recommendations finished on 16000/89981 queries. users per second: 3443.05</pre>"
            ]
          },
          "metadata": {}
        },
        {
          "output_type": "display_data",
          "data": {
            "text/plain": [
              "recommendations finished on 17000/89981 queries. users per second: 3447.14"
            ],
            "text/html": [
              "<pre>recommendations finished on 17000/89981 queries. users per second: 3447.14</pre>"
            ]
          },
          "metadata": {}
        },
        {
          "output_type": "display_data",
          "data": {
            "text/plain": [
              "recommendations finished on 18000/89981 queries. users per second: 3447.95"
            ],
            "text/html": [
              "<pre>recommendations finished on 18000/89981 queries. users per second: 3447.95</pre>"
            ]
          },
          "metadata": {}
        },
        {
          "output_type": "display_data",
          "data": {
            "text/plain": [
              "recommendations finished on 19000/89981 queries. users per second: 3449.7"
            ],
            "text/html": [
              "<pre>recommendations finished on 19000/89981 queries. users per second: 3449.7</pre>"
            ]
          },
          "metadata": {}
        },
        {
          "output_type": "display_data",
          "data": {
            "text/plain": [
              "recommendations finished on 20000/89981 queries. users per second: 3450.49"
            ],
            "text/html": [
              "<pre>recommendations finished on 20000/89981 queries. users per second: 3450.49</pre>"
            ]
          },
          "metadata": {}
        },
        {
          "output_type": "display_data",
          "data": {
            "text/plain": [
              "recommendations finished on 21000/89981 queries. users per second: 3455.52"
            ],
            "text/html": [
              "<pre>recommendations finished on 21000/89981 queries. users per second: 3455.52</pre>"
            ]
          },
          "metadata": {}
        },
        {
          "output_type": "display_data",
          "data": {
            "text/plain": [
              "recommendations finished on 22000/89981 queries. users per second: 3454.95"
            ],
            "text/html": [
              "<pre>recommendations finished on 22000/89981 queries. users per second: 3454.95</pre>"
            ]
          },
          "metadata": {}
        },
        {
          "output_type": "display_data",
          "data": {
            "text/plain": [
              "recommendations finished on 23000/89981 queries. users per second: 3458.61"
            ],
            "text/html": [
              "<pre>recommendations finished on 23000/89981 queries. users per second: 3458.61</pre>"
            ]
          },
          "metadata": {}
        },
        {
          "output_type": "display_data",
          "data": {
            "text/plain": [
              "recommendations finished on 24000/89981 queries. users per second: 3456.23"
            ],
            "text/html": [
              "<pre>recommendations finished on 24000/89981 queries. users per second: 3456.23</pre>"
            ]
          },
          "metadata": {}
        },
        {
          "output_type": "display_data",
          "data": {
            "text/plain": [
              "recommendations finished on 25000/89981 queries. users per second: 3456.88"
            ],
            "text/html": [
              "<pre>recommendations finished on 25000/89981 queries. users per second: 3456.88</pre>"
            ]
          },
          "metadata": {}
        },
        {
          "output_type": "display_data",
          "data": {
            "text/plain": [
              "recommendations finished on 26000/89981 queries. users per second: 3454.45"
            ],
            "text/html": [
              "<pre>recommendations finished on 26000/89981 queries. users per second: 3454.45</pre>"
            ]
          },
          "metadata": {}
        },
        {
          "output_type": "display_data",
          "data": {
            "text/plain": [
              "recommendations finished on 27000/89981 queries. users per second: 3457.84"
            ],
            "text/html": [
              "<pre>recommendations finished on 27000/89981 queries. users per second: 3457.84</pre>"
            ]
          },
          "metadata": {}
        },
        {
          "output_type": "display_data",
          "data": {
            "text/plain": [
              "recommendations finished on 28000/89981 queries. users per second: 3455.81"
            ],
            "text/html": [
              "<pre>recommendations finished on 28000/89981 queries. users per second: 3455.81</pre>"
            ]
          },
          "metadata": {}
        },
        {
          "output_type": "display_data",
          "data": {
            "text/plain": [
              "recommendations finished on 29000/89981 queries. users per second: 3461.8"
            ],
            "text/html": [
              "<pre>recommendations finished on 29000/89981 queries. users per second: 3461.8</pre>"
            ]
          },
          "metadata": {}
        },
        {
          "output_type": "display_data",
          "data": {
            "text/plain": [
              "recommendations finished on 30000/89981 queries. users per second: 3457.65"
            ],
            "text/html": [
              "<pre>recommendations finished on 30000/89981 queries. users per second: 3457.65</pre>"
            ]
          },
          "metadata": {}
        },
        {
          "output_type": "display_data",
          "data": {
            "text/plain": [
              "recommendations finished on 31000/89981 queries. users per second: 3460.95"
            ],
            "text/html": [
              "<pre>recommendations finished on 31000/89981 queries. users per second: 3460.95</pre>"
            ]
          },
          "metadata": {}
        },
        {
          "output_type": "display_data",
          "data": {
            "text/plain": [
              "recommendations finished on 32000/89981 queries. users per second: 3457.03"
            ],
            "text/html": [
              "<pre>recommendations finished on 32000/89981 queries. users per second: 3457.03</pre>"
            ]
          },
          "metadata": {}
        },
        {
          "output_type": "display_data",
          "data": {
            "text/plain": [
              "recommendations finished on 33000/89981 queries. users per second: 3457.64"
            ],
            "text/html": [
              "<pre>recommendations finished on 33000/89981 queries. users per second: 3457.64</pre>"
            ]
          },
          "metadata": {}
        },
        {
          "output_type": "display_data",
          "data": {
            "text/plain": [
              "recommendations finished on 34000/89981 queries. users per second: 3457.32"
            ],
            "text/html": [
              "<pre>recommendations finished on 34000/89981 queries. users per second: 3457.32</pre>"
            ]
          },
          "metadata": {}
        },
        {
          "output_type": "display_data",
          "data": {
            "text/plain": [
              "recommendations finished on 35000/89981 queries. users per second: 3458.26"
            ],
            "text/html": [
              "<pre>recommendations finished on 35000/89981 queries. users per second: 3458.26</pre>"
            ]
          },
          "metadata": {}
        },
        {
          "output_type": "display_data",
          "data": {
            "text/plain": [
              "recommendations finished on 36000/89981 queries. users per second: 3459.44"
            ],
            "text/html": [
              "<pre>recommendations finished on 36000/89981 queries. users per second: 3459.44</pre>"
            ]
          },
          "metadata": {}
        },
        {
          "output_type": "display_data",
          "data": {
            "text/plain": [
              "recommendations finished on 37000/89981 queries. users per second: 3458.15"
            ],
            "text/html": [
              "<pre>recommendations finished on 37000/89981 queries. users per second: 3458.15</pre>"
            ]
          },
          "metadata": {}
        },
        {
          "output_type": "display_data",
          "data": {
            "text/plain": [
              "recommendations finished on 38000/89981 queries. users per second: 3461.69"
            ],
            "text/html": [
              "<pre>recommendations finished on 38000/89981 queries. users per second: 3461.69</pre>"
            ]
          },
          "metadata": {}
        },
        {
          "output_type": "display_data",
          "data": {
            "text/plain": [
              "recommendations finished on 39000/89981 queries. users per second: 3460.15"
            ],
            "text/html": [
              "<pre>recommendations finished on 39000/89981 queries. users per second: 3460.15</pre>"
            ]
          },
          "metadata": {}
        },
        {
          "output_type": "display_data",
          "data": {
            "text/plain": [
              "recommendations finished on 40000/89981 queries. users per second: 3462.04"
            ],
            "text/html": [
              "<pre>recommendations finished on 40000/89981 queries. users per second: 3462.04</pre>"
            ]
          },
          "metadata": {}
        },
        {
          "output_type": "display_data",
          "data": {
            "text/plain": [
              "recommendations finished on 41000/89981 queries. users per second: 3460.41"
            ],
            "text/html": [
              "<pre>recommendations finished on 41000/89981 queries. users per second: 3460.41</pre>"
            ]
          },
          "metadata": {}
        },
        {
          "output_type": "display_data",
          "data": {
            "text/plain": [
              "recommendations finished on 42000/89981 queries. users per second: 3461.26"
            ],
            "text/html": [
              "<pre>recommendations finished on 42000/89981 queries. users per second: 3461.26</pre>"
            ]
          },
          "metadata": {}
        },
        {
          "output_type": "display_data",
          "data": {
            "text/plain": [
              "recommendations finished on 43000/89981 queries. users per second: 3459.73"
            ],
            "text/html": [
              "<pre>recommendations finished on 43000/89981 queries. users per second: 3459.73</pre>"
            ]
          },
          "metadata": {}
        },
        {
          "output_type": "display_data",
          "data": {
            "text/plain": [
              "recommendations finished on 44000/89981 queries. users per second: 3461.17"
            ],
            "text/html": [
              "<pre>recommendations finished on 44000/89981 queries. users per second: 3461.17</pre>"
            ]
          },
          "metadata": {}
        },
        {
          "output_type": "display_data",
          "data": {
            "text/plain": [
              "recommendations finished on 45000/89981 queries. users per second: 3458.57"
            ],
            "text/html": [
              "<pre>recommendations finished on 45000/89981 queries. users per second: 3458.57</pre>"
            ]
          },
          "metadata": {}
        },
        {
          "output_type": "display_data",
          "data": {
            "text/plain": [
              "recommendations finished on 46000/89981 queries. users per second: 3461.65"
            ],
            "text/html": [
              "<pre>recommendations finished on 46000/89981 queries. users per second: 3461.65</pre>"
            ]
          },
          "metadata": {}
        },
        {
          "output_type": "display_data",
          "data": {
            "text/plain": [
              "recommendations finished on 47000/89981 queries. users per second: 3458.81"
            ],
            "text/html": [
              "<pre>recommendations finished on 47000/89981 queries. users per second: 3458.81</pre>"
            ]
          },
          "metadata": {}
        },
        {
          "output_type": "display_data",
          "data": {
            "text/plain": [
              "recommendations finished on 48000/89981 queries. users per second: 3462"
            ],
            "text/html": [
              "<pre>recommendations finished on 48000/89981 queries. users per second: 3462</pre>"
            ]
          },
          "metadata": {}
        },
        {
          "output_type": "display_data",
          "data": {
            "text/plain": [
              "recommendations finished on 49000/89981 queries. users per second: 3460.41"
            ],
            "text/html": [
              "<pre>recommendations finished on 49000/89981 queries. users per second: 3460.41</pre>"
            ]
          },
          "metadata": {}
        },
        {
          "output_type": "display_data",
          "data": {
            "text/plain": [
              "recommendations finished on 50000/89981 queries. users per second: 3460.73"
            ],
            "text/html": [
              "<pre>recommendations finished on 50000/89981 queries. users per second: 3460.73</pre>"
            ]
          },
          "metadata": {}
        },
        {
          "output_type": "display_data",
          "data": {
            "text/plain": [
              "recommendations finished on 51000/89981 queries. users per second: 3459.57"
            ],
            "text/html": [
              "<pre>recommendations finished on 51000/89981 queries. users per second: 3459.57</pre>"
            ]
          },
          "metadata": {}
        },
        {
          "output_type": "display_data",
          "data": {
            "text/plain": [
              "recommendations finished on 52000/89981 queries. users per second: 3459.52"
            ],
            "text/html": [
              "<pre>recommendations finished on 52000/89981 queries. users per second: 3459.52</pre>"
            ]
          },
          "metadata": {}
        },
        {
          "output_type": "display_data",
          "data": {
            "text/plain": [
              "recommendations finished on 53000/89981 queries. users per second: 3459.58"
            ],
            "text/html": [
              "<pre>recommendations finished on 53000/89981 queries. users per second: 3459.58</pre>"
            ]
          },
          "metadata": {}
        },
        {
          "output_type": "display_data",
          "data": {
            "text/plain": [
              "recommendations finished on 54000/89981 queries. users per second: 3459.09"
            ],
            "text/html": [
              "<pre>recommendations finished on 54000/89981 queries. users per second: 3459.09</pre>"
            ]
          },
          "metadata": {}
        },
        {
          "output_type": "display_data",
          "data": {
            "text/plain": [
              "recommendations finished on 55000/89981 queries. users per second: 3459.11"
            ],
            "text/html": [
              "<pre>recommendations finished on 55000/89981 queries. users per second: 3459.11</pre>"
            ]
          },
          "metadata": {}
        },
        {
          "output_type": "display_data",
          "data": {
            "text/plain": [
              "recommendations finished on 56000/89981 queries. users per second: 3458.71"
            ],
            "text/html": [
              "<pre>recommendations finished on 56000/89981 queries. users per second: 3458.71</pre>"
            ]
          },
          "metadata": {}
        },
        {
          "output_type": "display_data",
          "data": {
            "text/plain": [
              "recommendations finished on 57000/89981 queries. users per second: 3461.08"
            ],
            "text/html": [
              "<pre>recommendations finished on 57000/89981 queries. users per second: 3461.08</pre>"
            ]
          },
          "metadata": {}
        },
        {
          "output_type": "display_data",
          "data": {
            "text/plain": [
              "recommendations finished on 58000/89981 queries. users per second: 3460.9"
            ],
            "text/html": [
              "<pre>recommendations finished on 58000/89981 queries. users per second: 3460.9</pre>"
            ]
          },
          "metadata": {}
        },
        {
          "output_type": "display_data",
          "data": {
            "text/plain": [
              "recommendations finished on 59000/89981 queries. users per second: 3460.89"
            ],
            "text/html": [
              "<pre>recommendations finished on 59000/89981 queries. users per second: 3460.89</pre>"
            ]
          },
          "metadata": {}
        },
        {
          "output_type": "display_data",
          "data": {
            "text/plain": [
              "recommendations finished on 60000/89981 queries. users per second: 3462.09"
            ],
            "text/html": [
              "<pre>recommendations finished on 60000/89981 queries. users per second: 3462.09</pre>"
            ]
          },
          "metadata": {}
        },
        {
          "output_type": "display_data",
          "data": {
            "text/plain": [
              "recommendations finished on 61000/89981 queries. users per second: 3462.58"
            ],
            "text/html": [
              "<pre>recommendations finished on 61000/89981 queries. users per second: 3462.58</pre>"
            ]
          },
          "metadata": {}
        },
        {
          "output_type": "display_data",
          "data": {
            "text/plain": [
              "recommendations finished on 62000/89981 queries. users per second: 3459.77"
            ],
            "text/html": [
              "<pre>recommendations finished on 62000/89981 queries. users per second: 3459.77</pre>"
            ]
          },
          "metadata": {}
        },
        {
          "output_type": "display_data",
          "data": {
            "text/plain": [
              "recommendations finished on 63000/89981 queries. users per second: 3460.58"
            ],
            "text/html": [
              "<pre>recommendations finished on 63000/89981 queries. users per second: 3460.58</pre>"
            ]
          },
          "metadata": {}
        },
        {
          "output_type": "display_data",
          "data": {
            "text/plain": [
              "recommendations finished on 64000/89981 queries. users per second: 3459.16"
            ],
            "text/html": [
              "<pre>recommendations finished on 64000/89981 queries. users per second: 3459.16</pre>"
            ]
          },
          "metadata": {}
        },
        {
          "output_type": "display_data",
          "data": {
            "text/plain": [
              "recommendations finished on 65000/89981 queries. users per second: 3460.89"
            ],
            "text/html": [
              "<pre>recommendations finished on 65000/89981 queries. users per second: 3460.89</pre>"
            ]
          },
          "metadata": {}
        },
        {
          "output_type": "display_data",
          "data": {
            "text/plain": [
              "recommendations finished on 66000/89981 queries. users per second: 3458.55"
            ],
            "text/html": [
              "<pre>recommendations finished on 66000/89981 queries. users per second: 3458.55</pre>"
            ]
          },
          "metadata": {}
        },
        {
          "output_type": "display_data",
          "data": {
            "text/plain": [
              "recommendations finished on 67000/89981 queries. users per second: 3460.6"
            ],
            "text/html": [
              "<pre>recommendations finished on 67000/89981 queries. users per second: 3460.6</pre>"
            ]
          },
          "metadata": {}
        },
        {
          "output_type": "display_data",
          "data": {
            "text/plain": [
              "recommendations finished on 68000/89981 queries. users per second: 3458.85"
            ],
            "text/html": [
              "<pre>recommendations finished on 68000/89981 queries. users per second: 3458.85</pre>"
            ]
          },
          "metadata": {}
        },
        {
          "output_type": "display_data",
          "data": {
            "text/plain": [
              "recommendations finished on 69000/89981 queries. users per second: 3458.01"
            ],
            "text/html": [
              "<pre>recommendations finished on 69000/89981 queries. users per second: 3458.01</pre>"
            ]
          },
          "metadata": {}
        },
        {
          "output_type": "display_data",
          "data": {
            "text/plain": [
              "recommendations finished on 70000/89981 queries. users per second: 3457.89"
            ],
            "text/html": [
              "<pre>recommendations finished on 70000/89981 queries. users per second: 3457.89</pre>"
            ]
          },
          "metadata": {}
        },
        {
          "output_type": "display_data",
          "data": {
            "text/plain": [
              "recommendations finished on 71000/89981 queries. users per second: 3457.09"
            ],
            "text/html": [
              "<pre>recommendations finished on 71000/89981 queries. users per second: 3457.09</pre>"
            ]
          },
          "metadata": {}
        },
        {
          "output_type": "display_data",
          "data": {
            "text/plain": [
              "recommendations finished on 72000/89981 queries. users per second: 3457.94"
            ],
            "text/html": [
              "<pre>recommendations finished on 72000/89981 queries. users per second: 3457.94</pre>"
            ]
          },
          "metadata": {}
        },
        {
          "output_type": "display_data",
          "data": {
            "text/plain": [
              "recommendations finished on 73000/89981 queries. users per second: 3456.33"
            ],
            "text/html": [
              "<pre>recommendations finished on 73000/89981 queries. users per second: 3456.33</pre>"
            ]
          },
          "metadata": {}
        },
        {
          "output_type": "display_data",
          "data": {
            "text/plain": [
              "recommendations finished on 74000/89981 queries. users per second: 3456.92"
            ],
            "text/html": [
              "<pre>recommendations finished on 74000/89981 queries. users per second: 3456.92</pre>"
            ]
          },
          "metadata": {}
        },
        {
          "output_type": "display_data",
          "data": {
            "text/plain": [
              "recommendations finished on 75000/89981 queries. users per second: 3455.93"
            ],
            "text/html": [
              "<pre>recommendations finished on 75000/89981 queries. users per second: 3455.93</pre>"
            ]
          },
          "metadata": {}
        },
        {
          "output_type": "display_data",
          "data": {
            "text/plain": [
              "recommendations finished on 76000/89981 queries. users per second: 3454.98"
            ],
            "text/html": [
              "<pre>recommendations finished on 76000/89981 queries. users per second: 3454.98</pre>"
            ]
          },
          "metadata": {}
        },
        {
          "output_type": "display_data",
          "data": {
            "text/plain": [
              "recommendations finished on 77000/89981 queries. users per second: 3453.59"
            ],
            "text/html": [
              "<pre>recommendations finished on 77000/89981 queries. users per second: 3453.59</pre>"
            ]
          },
          "metadata": {}
        },
        {
          "output_type": "display_data",
          "data": {
            "text/plain": [
              "recommendations finished on 78000/89981 queries. users per second: 3454.74"
            ],
            "text/html": [
              "<pre>recommendations finished on 78000/89981 queries. users per second: 3454.74</pre>"
            ]
          },
          "metadata": {}
        },
        {
          "output_type": "display_data",
          "data": {
            "text/plain": [
              "recommendations finished on 79000/89981 queries. users per second: 3453.44"
            ],
            "text/html": [
              "<pre>recommendations finished on 79000/89981 queries. users per second: 3453.44</pre>"
            ]
          },
          "metadata": {}
        },
        {
          "output_type": "display_data",
          "data": {
            "text/plain": [
              "recommendations finished on 80000/89981 queries. users per second: 3454.41"
            ],
            "text/html": [
              "<pre>recommendations finished on 80000/89981 queries. users per second: 3454.41</pre>"
            ]
          },
          "metadata": {}
        },
        {
          "output_type": "display_data",
          "data": {
            "text/plain": [
              "recommendations finished on 81000/89981 queries. users per second: 3453.95"
            ],
            "text/html": [
              "<pre>recommendations finished on 81000/89981 queries. users per second: 3453.95</pre>"
            ]
          },
          "metadata": {}
        },
        {
          "output_type": "display_data",
          "data": {
            "text/plain": [
              "recommendations finished on 82000/89981 queries. users per second: 3454.72"
            ],
            "text/html": [
              "<pre>recommendations finished on 82000/89981 queries. users per second: 3454.72</pre>"
            ]
          },
          "metadata": {}
        },
        {
          "output_type": "display_data",
          "data": {
            "text/plain": [
              "recommendations finished on 83000/89981 queries. users per second: 3453.38"
            ],
            "text/html": [
              "<pre>recommendations finished on 83000/89981 queries. users per second: 3453.38</pre>"
            ]
          },
          "metadata": {}
        },
        {
          "output_type": "display_data",
          "data": {
            "text/plain": [
              "recommendations finished on 84000/89981 queries. users per second: 3453.81"
            ],
            "text/html": [
              "<pre>recommendations finished on 84000/89981 queries. users per second: 3453.81</pre>"
            ]
          },
          "metadata": {}
        },
        {
          "output_type": "display_data",
          "data": {
            "text/plain": [
              "recommendations finished on 85000/89981 queries. users per second: 3454.01"
            ],
            "text/html": [
              "<pre>recommendations finished on 85000/89981 queries. users per second: 3454.01</pre>"
            ]
          },
          "metadata": {}
        },
        {
          "output_type": "display_data",
          "data": {
            "text/plain": [
              "recommendations finished on 86000/89981 queries. users per second: 3453.73"
            ],
            "text/html": [
              "<pre>recommendations finished on 86000/89981 queries. users per second: 3453.73</pre>"
            ]
          },
          "metadata": {}
        },
        {
          "output_type": "display_data",
          "data": {
            "text/plain": [
              "recommendations finished on 87000/89981 queries. users per second: 3454.73"
            ],
            "text/html": [
              "<pre>recommendations finished on 87000/89981 queries. users per second: 3454.73</pre>"
            ]
          },
          "metadata": {}
        },
        {
          "output_type": "display_data",
          "data": {
            "text/plain": [
              "recommendations finished on 88000/89981 queries. users per second: 3454.41"
            ],
            "text/html": [
              "<pre>recommendations finished on 88000/89981 queries. users per second: 3454.41</pre>"
            ]
          },
          "metadata": {}
        },
        {
          "output_type": "display_data",
          "data": {
            "text/plain": [
              "recommendations finished on 89000/89981 queries. users per second: 3454.94"
            ],
            "text/html": [
              "<pre>recommendations finished on 89000/89981 queries. users per second: 3454.94</pre>"
            ]
          },
          "metadata": {}
        }
      ]
    },
    {
      "cell_type": "code",
      "source": [
        "mfa_eval"
      ],
      "metadata": {
        "colab": {
          "base_uri": "https://localhost:8080/"
        },
        "id": "gYOb6Qllp-2A",
        "outputId": "48bdb191-46fb-438f-a79e-7de3ce8cdd4e"
      },
      "execution_count": null,
      "outputs": [
        {
          "output_type": "execute_result",
          "data": {
            "text/plain": [
              "{'precision_recall_by_user': Columns:\n",
              " \tcustomer_id\tint\n",
              " \tcutoff\tint\n",
              " \tprecision\tfloat\n",
              " \trecall\tfloat\n",
              " \tcount\tint\n",
              " \n",
              " Rows: 179962\n",
              " \n",
              " Data:\n",
              " +-------------+--------+---------------------+----------------------+-------+\n",
              " | customer_id | cutoff |      precision      |        recall        | count |\n",
              " +-------------+--------+---------------------+----------------------+-------+\n",
              " |      5      |   1    |         0.0         |         0.0          |   9   |\n",
              " |      5      |   12   |         0.0         |         0.0          |   9   |\n",
              " |      12     |   1    |         0.0         |         0.0          |   12  |\n",
              " |      12     |   12   |         0.0         |         0.0          |   12  |\n",
              " |      14     |   1    |         0.0         |         0.0          |   11  |\n",
              " |      14     |   12   | 0.08333333333333333 | 0.09090909090909091  |   11  |\n",
              " |      24     |   1    |         0.0         |         0.0          |   85  |\n",
              " |      24     |   12   | 0.16666666666666666 | 0.023529411764705882 |   85  |\n",
              " |      29     |   1    |         0.0         |         0.0          |   53  |\n",
              " |      29     |   12   | 0.08333333333333333 | 0.018867924528301886 |   53  |\n",
              " +-------------+--------+---------------------+----------------------+-------+\n",
              " [179962 rows x 5 columns]\n",
              " Note: Only the head of the SFrame is printed.\n",
              " You can use print_rows(num_rows=m, num_columns=n) to print more rows and columns.,\n",
              " 'precision_recall_overall': Columns:\n",
              " \tcutoff\tint\n",
              " \tprecision\tfloat\n",
              " \trecall\tfloat\n",
              " \n",
              " Rows: 2\n",
              " \n",
              " Data:\n",
              " +--------+---------------------+----------------------+\n",
              " | cutoff |      precision      |        recall        |\n",
              " +--------+---------------------+----------------------+\n",
              " |   1    | 0.09479779064469161 | 0.006444508396740198 |\n",
              " |   12   | 0.04321560477582292 |  0.0333856765015168  |\n",
              " +--------+---------------------+----------------------+\n",
              " [2 rows x 3 columns]}"
            ]
          },
          "metadata": {},
          "execution_count": 28
        }
      ]
    },
    {
      "cell_type": "markdown",
      "source": [
        "# 4 Using items and users features"
      ],
      "metadata": {
        "id": "dndQFxQF0QH6"
      }
    },
    {
      "cell_type": "code",
      "source": [
        "df_cust = pd.read_csv('drive/MyDrive/Thesis/data/customers_cleaned_1.csv')\n",
        "df_art = pd.read_csv('drive/MyDrive/Thesis/data/articles_num.csv')"
      ],
      "metadata": {
        "id": "okQbPZK20MsT"
      },
      "execution_count": null,
      "outputs": []
    },
    {
      "cell_type": "code",
      "source": [
        "df_cust.rename(columns={'customer_id':'user_id'},inplace=True)\n",
        "df_art.rename(columns={'article_id':'item_id'},inplace=True)"
      ],
      "metadata": {
        "id": "1AXEVrYI1Y-O"
      },
      "execution_count": null,
      "outputs": []
    },
    {
      "cell_type": "code",
      "source": [
        "df_cust"
      ],
      "metadata": {
        "colab": {
          "base_uri": "https://localhost:8080/",
          "height": 424
        },
        "id": "23HtM6rs0pZP",
        "outputId": "2ae84023-51c7-4932-943a-dfaad017228e"
      },
      "execution_count": null,
      "outputs": [
        {
          "output_type": "execute_result",
          "data": {
            "text/plain": [
              "        user_id   age  postal_code\n",
              "0         95142  31.0            0\n",
              "1        190025  47.0            1\n",
              "2         89445  55.0            2\n",
              "3         51400  30.0            3\n",
              "4         24315  30.0            4\n",
              "...         ...   ...          ...\n",
              "305941   232465  57.0       181683\n",
              "305942    51135  26.0       181684\n",
              "305943   219648  24.0       181684\n",
              "305944    16724  54.0       181684\n",
              "305945    37606  29.0       181685\n",
              "\n",
              "[305946 rows x 3 columns]"
            ],
            "text/html": [
              "\n",
              "  <div id=\"df-47c5b4dc-d675-4bcc-a506-e24cde08a957\">\n",
              "    <div class=\"colab-df-container\">\n",
              "      <div>\n",
              "<style scoped>\n",
              "    .dataframe tbody tr th:only-of-type {\n",
              "        vertical-align: middle;\n",
              "    }\n",
              "\n",
              "    .dataframe tbody tr th {\n",
              "        vertical-align: top;\n",
              "    }\n",
              "\n",
              "    .dataframe thead th {\n",
              "        text-align: right;\n",
              "    }\n",
              "</style>\n",
              "<table border=\"1\" class=\"dataframe\">\n",
              "  <thead>\n",
              "    <tr style=\"text-align: right;\">\n",
              "      <th></th>\n",
              "      <th>user_id</th>\n",
              "      <th>age</th>\n",
              "      <th>postal_code</th>\n",
              "    </tr>\n",
              "  </thead>\n",
              "  <tbody>\n",
              "    <tr>\n",
              "      <th>0</th>\n",
              "      <td>95142</td>\n",
              "      <td>31.0</td>\n",
              "      <td>0</td>\n",
              "    </tr>\n",
              "    <tr>\n",
              "      <th>1</th>\n",
              "      <td>190025</td>\n",
              "      <td>47.0</td>\n",
              "      <td>1</td>\n",
              "    </tr>\n",
              "    <tr>\n",
              "      <th>2</th>\n",
              "      <td>89445</td>\n",
              "      <td>55.0</td>\n",
              "      <td>2</td>\n",
              "    </tr>\n",
              "    <tr>\n",
              "      <th>3</th>\n",
              "      <td>51400</td>\n",
              "      <td>30.0</td>\n",
              "      <td>3</td>\n",
              "    </tr>\n",
              "    <tr>\n",
              "      <th>4</th>\n",
              "      <td>24315</td>\n",
              "      <td>30.0</td>\n",
              "      <td>4</td>\n",
              "    </tr>\n",
              "    <tr>\n",
              "      <th>...</th>\n",
              "      <td>...</td>\n",
              "      <td>...</td>\n",
              "      <td>...</td>\n",
              "    </tr>\n",
              "    <tr>\n",
              "      <th>305941</th>\n",
              "      <td>232465</td>\n",
              "      <td>57.0</td>\n",
              "      <td>181683</td>\n",
              "    </tr>\n",
              "    <tr>\n",
              "      <th>305942</th>\n",
              "      <td>51135</td>\n",
              "      <td>26.0</td>\n",
              "      <td>181684</td>\n",
              "    </tr>\n",
              "    <tr>\n",
              "      <th>305943</th>\n",
              "      <td>219648</td>\n",
              "      <td>24.0</td>\n",
              "      <td>181684</td>\n",
              "    </tr>\n",
              "    <tr>\n",
              "      <th>305944</th>\n",
              "      <td>16724</td>\n",
              "      <td>54.0</td>\n",
              "      <td>181684</td>\n",
              "    </tr>\n",
              "    <tr>\n",
              "      <th>305945</th>\n",
              "      <td>37606</td>\n",
              "      <td>29.0</td>\n",
              "      <td>181685</td>\n",
              "    </tr>\n",
              "  </tbody>\n",
              "</table>\n",
              "<p>305946 rows × 3 columns</p>\n",
              "</div>\n",
              "      <button class=\"colab-df-convert\" onclick=\"convertToInteractive('df-47c5b4dc-d675-4bcc-a506-e24cde08a957')\"\n",
              "              title=\"Convert this dataframe to an interactive table.\"\n",
              "              style=\"display:none;\">\n",
              "        \n",
              "  <svg xmlns=\"http://www.w3.org/2000/svg\" height=\"24px\"viewBox=\"0 0 24 24\"\n",
              "       width=\"24px\">\n",
              "    <path d=\"M0 0h24v24H0V0z\" fill=\"none\"/>\n",
              "    <path d=\"M18.56 5.44l.94 2.06.94-2.06 2.06-.94-2.06-.94-.94-2.06-.94 2.06-2.06.94zm-11 1L8.5 8.5l.94-2.06 2.06-.94-2.06-.94L8.5 2.5l-.94 2.06-2.06.94zm10 10l.94 2.06.94-2.06 2.06-.94-2.06-.94-.94-2.06-.94 2.06-2.06.94z\"/><path d=\"M17.41 7.96l-1.37-1.37c-.4-.4-.92-.59-1.43-.59-.52 0-1.04.2-1.43.59L10.3 9.45l-7.72 7.72c-.78.78-.78 2.05 0 2.83L4 21.41c.39.39.9.59 1.41.59.51 0 1.02-.2 1.41-.59l7.78-7.78 2.81-2.81c.8-.78.8-2.07 0-2.86zM5.41 20L4 18.59l7.72-7.72 1.47 1.35L5.41 20z\"/>\n",
              "  </svg>\n",
              "      </button>\n",
              "      \n",
              "  <style>\n",
              "    .colab-df-container {\n",
              "      display:flex;\n",
              "      flex-wrap:wrap;\n",
              "      gap: 12px;\n",
              "    }\n",
              "\n",
              "    .colab-df-convert {\n",
              "      background-color: #E8F0FE;\n",
              "      border: none;\n",
              "      border-radius: 50%;\n",
              "      cursor: pointer;\n",
              "      display: none;\n",
              "      fill: #1967D2;\n",
              "      height: 32px;\n",
              "      padding: 0 0 0 0;\n",
              "      width: 32px;\n",
              "    }\n",
              "\n",
              "    .colab-df-convert:hover {\n",
              "      background-color: #E2EBFA;\n",
              "      box-shadow: 0px 1px 2px rgba(60, 64, 67, 0.3), 0px 1px 3px 1px rgba(60, 64, 67, 0.15);\n",
              "      fill: #174EA6;\n",
              "    }\n",
              "\n",
              "    [theme=dark] .colab-df-convert {\n",
              "      background-color: #3B4455;\n",
              "      fill: #D2E3FC;\n",
              "    }\n",
              "\n",
              "    [theme=dark] .colab-df-convert:hover {\n",
              "      background-color: #434B5C;\n",
              "      box-shadow: 0px 1px 3px 1px rgba(0, 0, 0, 0.15);\n",
              "      filter: drop-shadow(0px 1px 2px rgba(0, 0, 0, 0.3));\n",
              "      fill: #FFFFFF;\n",
              "    }\n",
              "  </style>\n",
              "\n",
              "      <script>\n",
              "        const buttonEl =\n",
              "          document.querySelector('#df-47c5b4dc-d675-4bcc-a506-e24cde08a957 button.colab-df-convert');\n",
              "        buttonEl.style.display =\n",
              "          google.colab.kernel.accessAllowed ? 'block' : 'none';\n",
              "\n",
              "        async function convertToInteractive(key) {\n",
              "          const element = document.querySelector('#df-47c5b4dc-d675-4bcc-a506-e24cde08a957');\n",
              "          const dataTable =\n",
              "            await google.colab.kernel.invokeFunction('convertToInteractive',\n",
              "                                                     [key], {});\n",
              "          if (!dataTable) return;\n",
              "\n",
              "          const docLinkHtml = 'Like what you see? Visit the ' +\n",
              "            '<a target=\"_blank\" href=https://colab.research.google.com/notebooks/data_table.ipynb>data table notebook</a>'\n",
              "            + ' to learn more about interactive tables.';\n",
              "          element.innerHTML = '';\n",
              "          dataTable['output_type'] = 'display_data';\n",
              "          await google.colab.output.renderOutput(dataTable, element);\n",
              "          const docLink = document.createElement('div');\n",
              "          docLink.innerHTML = docLinkHtml;\n",
              "          element.appendChild(docLink);\n",
              "        }\n",
              "      </script>\n",
              "    </div>\n",
              "  </div>\n",
              "  "
            ]
          },
          "metadata": {},
          "execution_count": 13
        }
      ]
    },
    {
      "cell_type": "code",
      "source": [
        "# create an SFrame out of dfs\n",
        "df_cust_S = tc.SFrame(df_cust)\n",
        "df_art_S = tc.SFrame(df_art)"
      ],
      "metadata": {
        "id": "8iUweFan0a5Q"
      },
      "execution_count": null,
      "outputs": []
    },
    {
      "cell_type": "code",
      "source": [
        "mf_sideFtrs = tc.ranking_factorization_recommender.create(df_train, \n",
        "                                              user_id='user_id', \n",
        "                                              item_id='item_id',\n",
        "                                              user_data=df_cust_S,\n",
        "                                              item_data=df_art_S,\n",
        "                                              num_factors=100,\n",
        "                                              #regularization=0.001,\n",
        "                                              #max_iterations=40\n",
        "                                              solver='sgd')\n"
      ],
      "metadata": {
        "colab": {
          "base_uri": "https://localhost:8080/",
          "height": 1000
        },
        "id": "_-5wnpAB1EjK",
        "outputId": "e5d4fb6c-8a65-4545-afe6-8eaedbd8afb4"
      },
      "execution_count": null,
      "outputs": [
        {
          "output_type": "display_data",
          "data": {
            "text/plain": [
              "Preparing data set."
            ],
            "text/html": [
              "<pre>Preparing data set.</pre>"
            ]
          },
          "metadata": {}
        },
        {
          "output_type": "display_data",
          "data": {
            "text/plain": [
              "    Data has 16380622 observations with 305946 users and 42373 items."
            ],
            "text/html": [
              "<pre>    Data has 16380622 observations with 305946 users and 42373 items.</pre>"
            ]
          },
          "metadata": {}
        },
        {
          "output_type": "display_data",
          "data": {
            "text/plain": [
              "    Data prepared in: 15.5966s"
            ],
            "text/html": [
              "<pre>    Data prepared in: 15.5966s</pre>"
            ]
          },
          "metadata": {}
        },
        {
          "output_type": "display_data",
          "data": {
            "text/plain": [
              "Training ranking_factorization_recommender for recommendations."
            ],
            "text/html": [
              "<pre>Training ranking_factorization_recommender for recommendations.</pre>"
            ]
          },
          "metadata": {}
        },
        {
          "output_type": "display_data",
          "data": {
            "text/plain": [
              "+--------------------------------+--------------------------------------------------+----------+"
            ],
            "text/html": [
              "<pre>+--------------------------------+--------------------------------------------------+----------+</pre>"
            ]
          },
          "metadata": {}
        },
        {
          "output_type": "display_data",
          "data": {
            "text/plain": [
              "| Parameter                      | Description                                      | Value    |"
            ],
            "text/html": [
              "<pre>| Parameter                      | Description                                      | Value    |</pre>"
            ]
          },
          "metadata": {}
        },
        {
          "output_type": "display_data",
          "data": {
            "text/plain": [
              "+--------------------------------+--------------------------------------------------+----------+"
            ],
            "text/html": [
              "<pre>+--------------------------------+--------------------------------------------------+----------+</pre>"
            ]
          },
          "metadata": {}
        },
        {
          "output_type": "display_data",
          "data": {
            "text/plain": [
              "| num_factors                    | Factor Dimension                                 | 100      |"
            ],
            "text/html": [
              "<pre>| num_factors                    | Factor Dimension                                 | 100      |</pre>"
            ]
          },
          "metadata": {}
        },
        {
          "output_type": "display_data",
          "data": {
            "text/plain": [
              "| regularization                 | L2 Regularization on Factors                     | 1e-09    |"
            ],
            "text/html": [
              "<pre>| regularization                 | L2 Regularization on Factors                     | 1e-09    |</pre>"
            ]
          },
          "metadata": {}
        },
        {
          "output_type": "display_data",
          "data": {
            "text/plain": [
              "| solver                         | Solver used for training                         | sgd      |"
            ],
            "text/html": [
              "<pre>| solver                         | Solver used for training                         | sgd      |</pre>"
            ]
          },
          "metadata": {}
        },
        {
          "output_type": "display_data",
          "data": {
            "text/plain": [
              "| linear_regularization          | L2 Regularization on Linear Coefficients         | 1e-09    |"
            ],
            "text/html": [
              "<pre>| linear_regularization          | L2 Regularization on Linear Coefficients         | 1e-09    |</pre>"
            ]
          },
          "metadata": {}
        },
        {
          "output_type": "display_data",
          "data": {
            "text/plain": [
              "| binary_target                  | Assume Binary Targets                            | True     |"
            ],
            "text/html": [
              "<pre>| binary_target                  | Assume Binary Targets                            | True     |</pre>"
            ]
          },
          "metadata": {}
        },
        {
          "output_type": "display_data",
          "data": {
            "text/plain": [
              "| side_data_factorization        | Assign Factors for Side Data                     | True     |"
            ],
            "text/html": [
              "<pre>| side_data_factorization        | Assign Factors for Side Data                     | True     |</pre>"
            ]
          },
          "metadata": {}
        },
        {
          "output_type": "display_data",
          "data": {
            "text/plain": [
              "| max_iterations                 | Maximum Number of Iterations                     | 25       |"
            ],
            "text/html": [
              "<pre>| max_iterations                 | Maximum Number of Iterations                     | 25       |</pre>"
            ]
          },
          "metadata": {}
        },
        {
          "output_type": "display_data",
          "data": {
            "text/plain": [
              "+--------------------------------+--------------------------------------------------+----------+"
            ],
            "text/html": [
              "<pre>+--------------------------------+--------------------------------------------------+----------+</pre>"
            ]
          },
          "metadata": {}
        },
        {
          "output_type": "display_data",
          "data": {
            "text/plain": [
              "  Optimizing model using SGD; tuning step size."
            ],
            "text/html": [
              "<pre>  Optimizing model using SGD; tuning step size.</pre>"
            ]
          },
          "metadata": {}
        },
        {
          "output_type": "display_data",
          "data": {
            "text/plain": [
              "  Using 2047577 / 16380622 points for tuning the step size."
            ],
            "text/html": [
              "<pre>  Using 2047577 / 16380622 points for tuning the step size.</pre>"
            ]
          },
          "metadata": {}
        },
        {
          "output_type": "display_data",
          "data": {
            "text/plain": [
              "+---------+-------------------+------------------------------------------+"
            ],
            "text/html": [
              "<pre>+---------+-------------------+------------------------------------------+</pre>"
            ]
          },
          "metadata": {}
        },
        {
          "output_type": "display_data",
          "data": {
            "text/plain": [
              "| Attempt | Initial Step Size | Estimated Objective Value                |"
            ],
            "text/html": [
              "<pre>| Attempt | Initial Step Size | Estimated Objective Value                |</pre>"
            ]
          },
          "metadata": {}
        },
        {
          "output_type": "display_data",
          "data": {
            "text/plain": [
              "+---------+-------------------+------------------------------------------+"
            ],
            "text/html": [
              "<pre>+---------+-------------------+------------------------------------------+</pre>"
            ]
          },
          "metadata": {}
        },
        {
          "output_type": "display_data",
          "data": {
            "text/plain": [
              "| 0       | 3.57143           | Not Viable                               |"
            ],
            "text/html": [
              "<pre>| 0       | 3.57143           | Not Viable                               |</pre>"
            ]
          },
          "metadata": {}
        },
        {
          "output_type": "display_data",
          "data": {
            "text/plain": [
              "| 1       | 0.892857          | Not Viable                               |"
            ],
            "text/html": [
              "<pre>| 1       | 0.892857          | Not Viable                               |</pre>"
            ]
          },
          "metadata": {}
        },
        {
          "output_type": "display_data",
          "data": {
            "text/plain": [
              "| 2       | 0.223214          | Not Viable                               |"
            ],
            "text/html": [
              "<pre>| 2       | 0.223214          | Not Viable                               |</pre>"
            ]
          },
          "metadata": {}
        },
        {
          "output_type": "display_data",
          "data": {
            "text/plain": [
              "| 3       | 0.0558036         | Not Viable                               |"
            ],
            "text/html": [
              "<pre>| 3       | 0.0558036         | Not Viable                               |</pre>"
            ]
          },
          "metadata": {}
        },
        {
          "output_type": "display_data",
          "data": {
            "text/plain": [
              "| 4       | 0.0139509         | Not Viable                               |"
            ],
            "text/html": [
              "<pre>| 4       | 0.0139509         | Not Viable                               |</pre>"
            ]
          },
          "metadata": {}
        },
        {
          "output_type": "display_data",
          "data": {
            "text/plain": [
              "| 5       | 0.00348772        | Not Viable                               |"
            ],
            "text/html": [
              "<pre>| 5       | 0.00348772        | Not Viable                               |</pre>"
            ]
          },
          "metadata": {}
        },
        {
          "output_type": "display_data",
          "data": {
            "text/plain": [
              "| 6       | 0.000871931       | Not Viable                               |"
            ],
            "text/html": [
              "<pre>| 6       | 0.000871931       | Not Viable                               |</pre>"
            ]
          },
          "metadata": {}
        },
        {
          "output_type": "display_data",
          "data": {
            "text/plain": [
              "| 7       | 0.000217983       | No Decrease (2.49919 >= 1.38665)         |"
            ],
            "text/html": [
              "<pre>| 7       | 0.000217983       | No Decrease (2.49919 >= 1.38665)         |</pre>"
            ]
          },
          "metadata": {}
        },
        {
          "output_type": "display_data",
          "data": {
            "text/plain": [
              "| 8       | 5.44957e-05       | Not Viable                               |"
            ],
            "text/html": [
              "<pre>| 8       | 5.44957e-05       | Not Viable                               |</pre>"
            ]
          },
          "metadata": {}
        },
        {
          "output_type": "display_data",
          "data": {
            "text/plain": [
              "| 9       | 1.36239e-05       | No Decrease (1.51264 >= 1.38665)         |"
            ],
            "text/html": [
              "<pre>| 9       | 1.36239e-05       | No Decrease (1.51264 >= 1.38665)         |</pre>"
            ]
          },
          "metadata": {}
        },
        {
          "output_type": "display_data",
          "data": {
            "text/plain": [
              "| 10      | 3.40598e-06       | No Decrease (1.41919 >= 1.38665)         |"
            ],
            "text/html": [
              "<pre>| 10      | 3.40598e-06       | No Decrease (1.41919 >= 1.38665)         |</pre>"
            ]
          },
          "metadata": {}
        },
        {
          "output_type": "display_data",
          "data": {
            "text/plain": [
              "| 11      | 8.51495e-07       | No Decrease (1.39072 >= 1.38665)         |"
            ],
            "text/html": [
              "<pre>| 11      | 8.51495e-07       | No Decrease (1.39072 >= 1.38665)         |</pre>"
            ]
          },
          "metadata": {}
        },
        {
          "output_type": "display_data",
          "data": {
            "text/plain": [
              "| 12      | 2.12874e-07       | No Decrease (1.38762 >= 1.38665)         |"
            ],
            "text/html": [
              "<pre>| 12      | 2.12874e-07       | No Decrease (1.38762 >= 1.38665)         |</pre>"
            ]
          },
          "metadata": {}
        },
        {
          "output_type": "display_data",
          "data": {
            "text/plain": [
              "| 13      | 5.32184e-08       | 1.38657                                  |"
            ],
            "text/html": [
              "<pre>| 13      | 5.32184e-08       | 1.38657                                  |</pre>"
            ]
          },
          "metadata": {}
        },
        {
          "output_type": "display_data",
          "data": {
            "text/plain": [
              "| 14      | 2.66092e-08       | 1.3865                                   |"
            ],
            "text/html": [
              "<pre>| 14      | 2.66092e-08       | 1.3865                                   |</pre>"
            ]
          },
          "metadata": {}
        },
        {
          "output_type": "display_data",
          "data": {
            "text/plain": [
              "| 15      | 1.33046e-08       | 1.38644                                  |"
            ],
            "text/html": [
              "<pre>| 15      | 1.33046e-08       | 1.38644                                  |</pre>"
            ]
          },
          "metadata": {}
        },
        {
          "output_type": "display_data",
          "data": {
            "text/plain": [
              "| 16      | 6.6523e-09        | 1.38644                                  |"
            ],
            "text/html": [
              "<pre>| 16      | 6.6523e-09        | 1.38644                                  |</pre>"
            ]
          },
          "metadata": {}
        },
        {
          "output_type": "display_data",
          "data": {
            "text/plain": [
              "| 17      | 3.32615e-09       | 1.38644                                  |"
            ],
            "text/html": [
              "<pre>| 17      | 3.32615e-09       | 1.38644                                  |</pre>"
            ]
          },
          "metadata": {}
        },
        {
          "output_type": "display_data",
          "data": {
            "text/plain": [
              "| 18      | 1.66308e-09       | 1.38644                                  |"
            ],
            "text/html": [
              "<pre>| 18      | 1.66308e-09       | 1.38644                                  |</pre>"
            ]
          },
          "metadata": {}
        },
        {
          "output_type": "display_data",
          "data": {
            "text/plain": [
              "+---------+-------------------+------------------------------------------+"
            ],
            "text/html": [
              "<pre>+---------+-------------------+------------------------------------------+</pre>"
            ]
          },
          "metadata": {}
        },
        {
          "output_type": "display_data",
          "data": {
            "text/plain": [
              "| Final   | 1.33046e-08       | 1.38644                                  |"
            ],
            "text/html": [
              "<pre>| Final   | 1.33046e-08       | 1.38644                                  |</pre>"
            ]
          },
          "metadata": {}
        },
        {
          "output_type": "display_data",
          "data": {
            "text/plain": [
              "+---------+-------------------+------------------------------------------+"
            ],
            "text/html": [
              "<pre>+---------+-------------------+------------------------------------------+</pre>"
            ]
          },
          "metadata": {}
        },
        {
          "output_type": "display_data",
          "data": {
            "text/plain": [
              "Starting Optimization."
            ],
            "text/html": [
              "<pre>Starting Optimization.</pre>"
            ]
          },
          "metadata": {}
        },
        {
          "output_type": "display_data",
          "data": {
            "text/plain": [
              "+---------+--------------+-------------------+-----------------------------------+-------------+"
            ],
            "text/html": [
              "<pre>+---------+--------------+-------------------+-----------------------------------+-------------+</pre>"
            ]
          },
          "metadata": {}
        },
        {
          "output_type": "display_data",
          "data": {
            "text/plain": [
              "| Iter.   | Elapsed Time | Approx. Objective | Approx. Training Predictive Error | Step Size   |"
            ],
            "text/html": [
              "<pre>| Iter.   | Elapsed Time | Approx. Objective | Approx. Training Predictive Error | Step Size   |</pre>"
            ]
          },
          "metadata": {}
        },
        {
          "output_type": "display_data",
          "data": {
            "text/plain": [
              "+---------+--------------+-------------------+-----------------------------------+-------------+"
            ],
            "text/html": [
              "<pre>+---------+--------------+-------------------+-----------------------------------+-------------+</pre>"
            ]
          },
          "metadata": {}
        },
        {
          "output_type": "display_data",
          "data": {
            "text/plain": [
              "| Initial | 182us        | 1.38665           | 0.693116                          |             |"
            ],
            "text/html": [
              "<pre>| Initial | 182us        | 1.38665           | 0.693116                          |             |</pre>"
            ]
          },
          "metadata": {}
        },
        {
          "output_type": "display_data",
          "data": {
            "text/plain": [
              "+---------+--------------+-------------------+-----------------------------------+-------------+"
            ],
            "text/html": [
              "<pre>+---------+--------------+-------------------+-----------------------------------+-------------+</pre>"
            ]
          },
          "metadata": {}
        },
        {
          "output_type": "display_data",
          "data": {
            "text/plain": [
              "| 1       | 2m 52s       | 1.38637           | 0.69311                           | 1.33046e-08 |"
            ],
            "text/html": [
              "<pre>| 1       | 2m 52s       | 1.38637           | 0.69311                           | 1.33046e-08 |</pre>"
            ]
          },
          "metadata": {}
        },
        {
          "output_type": "display_data",
          "data": {
            "text/plain": [
              "| 2       | 5m 42s       | 1.3864            | 0.693126                          | 7.91097e-09 |"
            ],
            "text/html": [
              "<pre>| 2       | 5m 42s       | 1.3864            | 0.693126                          | 7.91097e-09 |</pre>"
            ]
          },
          "metadata": {}
        },
        {
          "output_type": "display_data",
          "data": {
            "text/plain": [
              "| 3       | 8m 33s       | 1.38642           | 0.693131                          | 5.83662e-09 |"
            ],
            "text/html": [
              "<pre>| 3       | 8m 33s       | 1.38642           | 0.693131                          | 5.83662e-09 |</pre>"
            ]
          },
          "metadata": {}
        },
        {
          "output_type": "display_data",
          "data": {
            "text/plain": [
              "| 4       | 11m 27s      | 1.38643           | 0.693134                          | 3.95548e-09 |"
            ],
            "text/html": [
              "<pre>| 4       | 11m 27s      | 1.38643           | 0.693134                          | 3.95548e-09 |</pre>"
            ]
          },
          "metadata": {}
        },
        {
          "output_type": "display_data",
          "data": {
            "text/plain": [
              "| 5       | 14m 19s      | 1.38643           | 0.693134                          | 1.88156e-09 |"
            ],
            "text/html": [
              "<pre>| 5       | 14m 19s      | 1.38643           | 0.693134                          | 1.88156e-09 |</pre>"
            ]
          },
          "metadata": {}
        },
        {
          "output_type": "display_data",
          "data": {
            "text/plain": [
              "| 6       | 17m 8s       | 1.38643           | 0.693134                          | 1.37998e-09 |"
            ],
            "text/html": [
              "<pre>| 6       | 17m 8s       | 1.38643           | 0.693134                          | 1.37998e-09 |</pre>"
            ]
          },
          "metadata": {}
        },
        {
          "output_type": "display_data",
          "data": {
            "text/plain": [
              "+---------+--------------+-------------------+-----------------------------------+-------------+"
            ],
            "text/html": [
              "<pre>+---------+--------------+-------------------+-----------------------------------+-------------+</pre>"
            ]
          },
          "metadata": {}
        },
        {
          "output_type": "display_data",
          "data": {
            "text/plain": [
              "Optimization Complete: Convergence on objective within bounds."
            ],
            "text/html": [
              "<pre>Optimization Complete: Convergence on objective within bounds.</pre>"
            ]
          },
          "metadata": {}
        },
        {
          "output_type": "display_data",
          "data": {
            "text/plain": [
              "Computing final objective value and training Predictive Error."
            ],
            "text/html": [
              "<pre>Computing final objective value and training Predictive Error.</pre>"
            ]
          },
          "metadata": {}
        },
        {
          "output_type": "display_data",
          "data": {
            "text/plain": [
              "       Final objective value: 1.38643"
            ],
            "text/html": [
              "<pre>       Final objective value: 1.38643</pre>"
            ]
          },
          "metadata": {}
        },
        {
          "output_type": "display_data",
          "data": {
            "text/plain": [
              "       Final training Predictive Error: 0.693134"
            ],
            "text/html": [
              "<pre>       Final training Predictive Error: 0.693134</pre>"
            ]
          },
          "metadata": {}
        }
      ]
    },
    {
      "cell_type": "code",
      "source": [
        "# recommend k products for a list of users (None corresponds to all users) \n",
        "recommendation = mf_sideFtrs.recommend(users=None, k=12)"
      ],
      "metadata": {
        "colab": {
          "base_uri": "https://localhost:8080/",
          "height": 1000
        },
        "id": "0Vz1QrDv11IT",
        "outputId": "92af54b8-a4ba-47ea-b51f-79c5f432694f"
      },
      "execution_count": null,
      "outputs": [
        {
          "data": {
            "text/html": [
              "<pre>recommendations finished on 1000/305946 queries. users per second: 19.0735</pre>"
            ],
            "text/plain": [
              "recommendations finished on 1000/305946 queries. users per second: 19.0735"
            ]
          },
          "metadata": {},
          "output_type": "display_data"
        },
        {
          "data": {
            "text/html": [
              "<pre>recommendations finished on 2000/305946 queries. users per second: 19.0761</pre>"
            ],
            "text/plain": [
              "recommendations finished on 2000/305946 queries. users per second: 19.0761"
            ]
          },
          "metadata": {},
          "output_type": "display_data"
        },
        {
          "data": {
            "text/html": [
              "<pre>recommendations finished on 3000/305946 queries. users per second: 19.0958</pre>"
            ],
            "text/plain": [
              "recommendations finished on 3000/305946 queries. users per second: 19.0958"
            ]
          },
          "metadata": {},
          "output_type": "display_data"
        },
        {
          "data": {
            "text/html": [
              "<pre>recommendations finished on 4000/305946 queries. users per second: 18.9471</pre>"
            ],
            "text/plain": [
              "recommendations finished on 4000/305946 queries. users per second: 18.9471"
            ]
          },
          "metadata": {},
          "output_type": "display_data"
        },
        {
          "data": {
            "text/html": [
              "<pre>recommendations finished on 5000/305946 queries. users per second: 18.9817</pre>"
            ],
            "text/plain": [
              "recommendations finished on 5000/305946 queries. users per second: 18.9817"
            ]
          },
          "metadata": {},
          "output_type": "display_data"
        },
        {
          "data": {
            "text/html": [
              "<pre>recommendations finished on 6000/305946 queries. users per second: 19.0006</pre>"
            ],
            "text/plain": [
              "recommendations finished on 6000/305946 queries. users per second: 19.0006"
            ]
          },
          "metadata": {},
          "output_type": "display_data"
        },
        {
          "data": {
            "text/html": [
              "<pre>recommendations finished on 7000/305946 queries. users per second: 19.014</pre>"
            ],
            "text/plain": [
              "recommendations finished on 7000/305946 queries. users per second: 19.014"
            ]
          },
          "metadata": {},
          "output_type": "display_data"
        },
        {
          "data": {
            "text/html": [
              "<pre>recommendations finished on 8000/305946 queries. users per second: 19.0238</pre>"
            ],
            "text/plain": [
              "recommendations finished on 8000/305946 queries. users per second: 19.0238"
            ]
          },
          "metadata": {},
          "output_type": "display_data"
        },
        {
          "data": {
            "text/html": [
              "<pre>recommendations finished on 9000/305946 queries. users per second: 19.0327</pre>"
            ],
            "text/plain": [
              "recommendations finished on 9000/305946 queries. users per second: 19.0327"
            ]
          },
          "metadata": {},
          "output_type": "display_data"
        },
        {
          "data": {
            "text/html": [
              "<pre>recommendations finished on 10000/305946 queries. users per second: 19.0402</pre>"
            ],
            "text/plain": [
              "recommendations finished on 10000/305946 queries. users per second: 19.0402"
            ]
          },
          "metadata": {},
          "output_type": "display_data"
        },
        {
          "data": {
            "text/html": [
              "<pre>recommendations finished on 11000/305946 queries. users per second: 19.0443</pre>"
            ],
            "text/plain": [
              "recommendations finished on 11000/305946 queries. users per second: 19.0443"
            ]
          },
          "metadata": {},
          "output_type": "display_data"
        },
        {
          "data": {
            "text/html": [
              "<pre>recommendations finished on 12000/305946 queries. users per second: 19.0471</pre>"
            ],
            "text/plain": [
              "recommendations finished on 12000/305946 queries. users per second: 19.0471"
            ]
          },
          "metadata": {},
          "output_type": "display_data"
        },
        {
          "data": {
            "text/html": [
              "<pre>recommendations finished on 13000/305946 queries. users per second: 19.0483</pre>"
            ],
            "text/plain": [
              "recommendations finished on 13000/305946 queries. users per second: 19.0483"
            ]
          },
          "metadata": {},
          "output_type": "display_data"
        },
        {
          "data": {
            "text/html": [
              "<pre>recommendations finished on 14000/305946 queries. users per second: 19.0502</pre>"
            ],
            "text/plain": [
              "recommendations finished on 14000/305946 queries. users per second: 19.0502"
            ]
          },
          "metadata": {},
          "output_type": "display_data"
        },
        {
          "data": {
            "text/html": [
              "<pre>recommendations finished on 15000/305946 queries. users per second: 19.0487</pre>"
            ],
            "text/plain": [
              "recommendations finished on 15000/305946 queries. users per second: 19.0487"
            ]
          },
          "metadata": {},
          "output_type": "display_data"
        },
        {
          "data": {
            "text/html": [
              "<pre>recommendations finished on 16000/305946 queries. users per second: 19.0461</pre>"
            ],
            "text/plain": [
              "recommendations finished on 16000/305946 queries. users per second: 19.0461"
            ]
          },
          "metadata": {},
          "output_type": "display_data"
        },
        {
          "data": {
            "text/html": [
              "<pre>recommendations finished on 17000/305946 queries. users per second: 19.0455</pre>"
            ],
            "text/plain": [
              "recommendations finished on 17000/305946 queries. users per second: 19.0455"
            ]
          },
          "metadata": {},
          "output_type": "display_data"
        },
        {
          "data": {
            "text/html": [
              "<pre>recommendations finished on 18000/305946 queries. users per second: 19.0505</pre>"
            ],
            "text/plain": [
              "recommendations finished on 18000/305946 queries. users per second: 19.0505"
            ]
          },
          "metadata": {},
          "output_type": "display_data"
        },
        {
          "data": {
            "text/html": [
              "<pre>recommendations finished on 19000/305946 queries. users per second: 19.0541</pre>"
            ],
            "text/plain": [
              "recommendations finished on 19000/305946 queries. users per second: 19.0541"
            ]
          },
          "metadata": {},
          "output_type": "display_data"
        },
        {
          "data": {
            "text/html": [
              "<pre>recommendations finished on 20000/305946 queries. users per second: 19.0586</pre>"
            ],
            "text/plain": [
              "recommendations finished on 20000/305946 queries. users per second: 19.0586"
            ]
          },
          "metadata": {},
          "output_type": "display_data"
        },
        {
          "data": {
            "text/html": [
              "<pre>recommendations finished on 21000/305946 queries. users per second: 19.0625</pre>"
            ],
            "text/plain": [
              "recommendations finished on 21000/305946 queries. users per second: 19.0625"
            ]
          },
          "metadata": {},
          "output_type": "display_data"
        },
        {
          "data": {
            "text/html": [
              "<pre>recommendations finished on 22000/305946 queries. users per second: 19.0642</pre>"
            ],
            "text/plain": [
              "recommendations finished on 22000/305946 queries. users per second: 19.0642"
            ]
          },
          "metadata": {},
          "output_type": "display_data"
        },
        {
          "data": {
            "text/html": [
              "<pre>recommendations finished on 23000/305946 queries. users per second: 19.0678</pre>"
            ],
            "text/plain": [
              "recommendations finished on 23000/305946 queries. users per second: 19.0678"
            ]
          },
          "metadata": {},
          "output_type": "display_data"
        },
        {
          "data": {
            "text/html": [
              "<pre>recommendations finished on 24000/305946 queries. users per second: 19.0715</pre>"
            ],
            "text/plain": [
              "recommendations finished on 24000/305946 queries. users per second: 19.0715"
            ]
          },
          "metadata": {},
          "output_type": "display_data"
        },
        {
          "data": {
            "text/html": [
              "<pre>recommendations finished on 25000/305946 queries. users per second: 19.0729</pre>"
            ],
            "text/plain": [
              "recommendations finished on 25000/305946 queries. users per second: 19.0729"
            ]
          },
          "metadata": {},
          "output_type": "display_data"
        },
        {
          "data": {
            "text/html": [
              "<pre>recommendations finished on 26000/305946 queries. users per second: 19.0747</pre>"
            ],
            "text/plain": [
              "recommendations finished on 26000/305946 queries. users per second: 19.0747"
            ]
          },
          "metadata": {},
          "output_type": "display_data"
        },
        {
          "data": {
            "text/html": [
              "<pre>recommendations finished on 27000/305946 queries. users per second: 19.0783</pre>"
            ],
            "text/plain": [
              "recommendations finished on 27000/305946 queries. users per second: 19.0783"
            ]
          },
          "metadata": {},
          "output_type": "display_data"
        },
        {
          "data": {
            "text/html": [
              "<pre>recommendations finished on 28000/305946 queries. users per second: 19.0797</pre>"
            ],
            "text/plain": [
              "recommendations finished on 28000/305946 queries. users per second: 19.0797"
            ]
          },
          "metadata": {},
          "output_type": "display_data"
        },
        {
          "data": {
            "text/html": [
              "<pre>recommendations finished on 29000/305946 queries. users per second: 19.0813</pre>"
            ],
            "text/plain": [
              "recommendations finished on 29000/305946 queries. users per second: 19.0813"
            ]
          },
          "metadata": {},
          "output_type": "display_data"
        },
        {
          "data": {
            "text/html": [
              "<pre>recommendations finished on 30000/305946 queries. users per second: 19.0833</pre>"
            ],
            "text/plain": [
              "recommendations finished on 30000/305946 queries. users per second: 19.0833"
            ]
          },
          "metadata": {},
          "output_type": "display_data"
        },
        {
          "data": {
            "text/html": [
              "<pre>recommendations finished on 31000/305946 queries. users per second: 19.0862</pre>"
            ],
            "text/plain": [
              "recommendations finished on 31000/305946 queries. users per second: 19.0862"
            ]
          },
          "metadata": {},
          "output_type": "display_data"
        },
        {
          "data": {
            "text/html": [
              "<pre>recommendations finished on 32000/305946 queries. users per second: 19.0865</pre>"
            ],
            "text/plain": [
              "recommendations finished on 32000/305946 queries. users per second: 19.0865"
            ]
          },
          "metadata": {},
          "output_type": "display_data"
        },
        {
          "data": {
            "text/html": [
              "<pre>recommendations finished on 33000/305946 queries. users per second: 19.0852</pre>"
            ],
            "text/plain": [
              "recommendations finished on 33000/305946 queries. users per second: 19.0852"
            ]
          },
          "metadata": {},
          "output_type": "display_data"
        },
        {
          "data": {
            "text/html": [
              "<pre>recommendations finished on 34000/305946 queries. users per second: 19.0852</pre>"
            ],
            "text/plain": [
              "recommendations finished on 34000/305946 queries. users per second: 19.0852"
            ]
          },
          "metadata": {},
          "output_type": "display_data"
        },
        {
          "data": {
            "text/html": [
              "<pre>recommendations finished on 35000/305946 queries. users per second: 19.0859</pre>"
            ],
            "text/plain": [
              "recommendations finished on 35000/305946 queries. users per second: 19.0859"
            ]
          },
          "metadata": {},
          "output_type": "display_data"
        },
        {
          "data": {
            "text/html": [
              "<pre>recommendations finished on 36000/305946 queries. users per second: 19.0847</pre>"
            ],
            "text/plain": [
              "recommendations finished on 36000/305946 queries. users per second: 19.0847"
            ]
          },
          "metadata": {},
          "output_type": "display_data"
        },
        {
          "data": {
            "text/html": [
              "<pre>recommendations finished on 37000/305946 queries. users per second: 19.0851</pre>"
            ],
            "text/plain": [
              "recommendations finished on 37000/305946 queries. users per second: 19.0851"
            ]
          },
          "metadata": {},
          "output_type": "display_data"
        },
        {
          "data": {
            "text/html": [
              "<pre>recommendations finished on 38000/305946 queries. users per second: 19.0858</pre>"
            ],
            "text/plain": [
              "recommendations finished on 38000/305946 queries. users per second: 19.0858"
            ]
          },
          "metadata": {},
          "output_type": "display_data"
        },
        {
          "data": {
            "text/html": [
              "<pre>recommendations finished on 39000/305946 queries. users per second: 19.0858</pre>"
            ],
            "text/plain": [
              "recommendations finished on 39000/305946 queries. users per second: 19.0858"
            ]
          },
          "metadata": {},
          "output_type": "display_data"
        },
        {
          "data": {
            "text/html": [
              "<pre>recommendations finished on 40000/305946 queries. users per second: 19.086</pre>"
            ],
            "text/plain": [
              "recommendations finished on 40000/305946 queries. users per second: 19.086"
            ]
          },
          "metadata": {},
          "output_type": "display_data"
        },
        {
          "data": {
            "text/html": [
              "<pre>recommendations finished on 41000/305946 queries. users per second: 19.0867</pre>"
            ],
            "text/plain": [
              "recommendations finished on 41000/305946 queries. users per second: 19.0867"
            ]
          },
          "metadata": {},
          "output_type": "display_data"
        },
        {
          "data": {
            "text/html": [
              "<pre>recommendations finished on 42000/305946 queries. users per second: 19.0883</pre>"
            ],
            "text/plain": [
              "recommendations finished on 42000/305946 queries. users per second: 19.0883"
            ]
          },
          "metadata": {},
          "output_type": "display_data"
        },
        {
          "data": {
            "text/html": [
              "<pre>recommendations finished on 43000/305946 queries. users per second: 19.0876</pre>"
            ],
            "text/plain": [
              "recommendations finished on 43000/305946 queries. users per second: 19.0876"
            ]
          },
          "metadata": {},
          "output_type": "display_data"
        },
        {
          "data": {
            "text/html": [
              "<pre>recommendations finished on 44000/305946 queries. users per second: 19.0881</pre>"
            ],
            "text/plain": [
              "recommendations finished on 44000/305946 queries. users per second: 19.0881"
            ]
          },
          "metadata": {},
          "output_type": "display_data"
        },
        {
          "data": {
            "text/html": [
              "<pre>recommendations finished on 45000/305946 queries. users per second: 19.089</pre>"
            ],
            "text/plain": [
              "recommendations finished on 45000/305946 queries. users per second: 19.089"
            ]
          },
          "metadata": {},
          "output_type": "display_data"
        },
        {
          "data": {
            "text/html": [
              "<pre>recommendations finished on 46000/305946 queries. users per second: 19.0879</pre>"
            ],
            "text/plain": [
              "recommendations finished on 46000/305946 queries. users per second: 19.0879"
            ]
          },
          "metadata": {},
          "output_type": "display_data"
        },
        {
          "data": {
            "text/html": [
              "<pre>recommendations finished on 47000/305946 queries. users per second: 19.0884</pre>"
            ],
            "text/plain": [
              "recommendations finished on 47000/305946 queries. users per second: 19.0884"
            ]
          },
          "metadata": {},
          "output_type": "display_data"
        },
        {
          "data": {
            "text/html": [
              "<pre>recommendations finished on 48000/305946 queries. users per second: 19.0883</pre>"
            ],
            "text/plain": [
              "recommendations finished on 48000/305946 queries. users per second: 19.0883"
            ]
          },
          "metadata": {},
          "output_type": "display_data"
        },
        {
          "data": {
            "text/html": [
              "<pre>recommendations finished on 49000/305946 queries. users per second: 19.0882</pre>"
            ],
            "text/plain": [
              "recommendations finished on 49000/305946 queries. users per second: 19.0882"
            ]
          },
          "metadata": {},
          "output_type": "display_data"
        },
        {
          "data": {
            "text/html": [
              "<pre>recommendations finished on 50000/305946 queries. users per second: 19.0889</pre>"
            ],
            "text/plain": [
              "recommendations finished on 50000/305946 queries. users per second: 19.0889"
            ]
          },
          "metadata": {},
          "output_type": "display_data"
        },
        {
          "data": {
            "text/html": [
              "<pre>recommendations finished on 51000/305946 queries. users per second: 19.0893</pre>"
            ],
            "text/plain": [
              "recommendations finished on 51000/305946 queries. users per second: 19.0893"
            ]
          },
          "metadata": {},
          "output_type": "display_data"
        },
        {
          "data": {
            "text/html": [
              "<pre>recommendations finished on 52000/305946 queries. users per second: 19.089</pre>"
            ],
            "text/plain": [
              "recommendations finished on 52000/305946 queries. users per second: 19.089"
            ]
          },
          "metadata": {},
          "output_type": "display_data"
        },
        {
          "data": {
            "text/html": [
              "<pre>recommendations finished on 53000/305946 queries. users per second: 19.0888</pre>"
            ],
            "text/plain": [
              "recommendations finished on 53000/305946 queries. users per second: 19.0888"
            ]
          },
          "metadata": {},
          "output_type": "display_data"
        },
        {
          "data": {
            "text/html": [
              "<pre>recommendations finished on 54000/305946 queries. users per second: 19.0891</pre>"
            ],
            "text/plain": [
              "recommendations finished on 54000/305946 queries. users per second: 19.0891"
            ]
          },
          "metadata": {},
          "output_type": "display_data"
        },
        {
          "data": {
            "text/html": [
              "<pre>recommendations finished on 55000/305946 queries. users per second: 19.0901</pre>"
            ],
            "text/plain": [
              "recommendations finished on 55000/305946 queries. users per second: 19.0901"
            ]
          },
          "metadata": {},
          "output_type": "display_data"
        },
        {
          "data": {
            "text/html": [
              "<pre>recommendations finished on 56000/305946 queries. users per second: 19.092</pre>"
            ],
            "text/plain": [
              "recommendations finished on 56000/305946 queries. users per second: 19.092"
            ]
          },
          "metadata": {},
          "output_type": "display_data"
        },
        {
          "data": {
            "text/html": [
              "<pre>recommendations finished on 57000/305946 queries. users per second: 19.0942</pre>"
            ],
            "text/plain": [
              "recommendations finished on 57000/305946 queries. users per second: 19.0942"
            ]
          },
          "metadata": {},
          "output_type": "display_data"
        },
        {
          "data": {
            "text/html": [
              "<pre>recommendations finished on 58000/305946 queries. users per second: 19.0964</pre>"
            ],
            "text/plain": [
              "recommendations finished on 58000/305946 queries. users per second: 19.0964"
            ]
          },
          "metadata": {},
          "output_type": "display_data"
        },
        {
          "data": {
            "text/html": [
              "<pre>recommendations finished on 59000/305946 queries. users per second: 19.0982</pre>"
            ],
            "text/plain": [
              "recommendations finished on 59000/305946 queries. users per second: 19.0982"
            ]
          },
          "metadata": {},
          "output_type": "display_data"
        },
        {
          "data": {
            "text/html": [
              "<pre>recommendations finished on 60000/305946 queries. users per second: 19.1003</pre>"
            ],
            "text/plain": [
              "recommendations finished on 60000/305946 queries. users per second: 19.1003"
            ]
          },
          "metadata": {},
          "output_type": "display_data"
        },
        {
          "data": {
            "text/html": [
              "<pre>recommendations finished on 61000/305946 queries. users per second: 19.1023</pre>"
            ],
            "text/plain": [
              "recommendations finished on 61000/305946 queries. users per second: 19.1023"
            ]
          },
          "metadata": {},
          "output_type": "display_data"
        },
        {
          "output_type": "display_data",
          "data": {
            "text/plain": [
              "recommendations finished on 62000/305946 queries. users per second: 19.1033"
            ],
            "text/html": [
              "<pre>recommendations finished on 62000/305946 queries. users per second: 19.1033</pre>"
            ]
          },
          "metadata": {}
        },
        {
          "output_type": "display_data",
          "data": {
            "text/plain": [
              "recommendations finished on 63000/305946 queries. users per second: 19.1046"
            ],
            "text/html": [
              "<pre>recommendations finished on 63000/305946 queries. users per second: 19.1046</pre>"
            ]
          },
          "metadata": {}
        },
        {
          "output_type": "display_data",
          "data": {
            "text/plain": [
              "recommendations finished on 64000/305946 queries. users per second: 19.1066"
            ],
            "text/html": [
              "<pre>recommendations finished on 64000/305946 queries. users per second: 19.1066</pre>"
            ]
          },
          "metadata": {}
        },
        {
          "output_type": "display_data",
          "data": {
            "text/plain": [
              "recommendations finished on 65000/305946 queries. users per second: 19.1083"
            ],
            "text/html": [
              "<pre>recommendations finished on 65000/305946 queries. users per second: 19.1083</pre>"
            ]
          },
          "metadata": {}
        },
        {
          "output_type": "display_data",
          "data": {
            "text/plain": [
              "recommendations finished on 66000/305946 queries. users per second: 19.1103"
            ],
            "text/html": [
              "<pre>recommendations finished on 66000/305946 queries. users per second: 19.1103</pre>"
            ]
          },
          "metadata": {}
        },
        {
          "output_type": "display_data",
          "data": {
            "text/plain": [
              "recommendations finished on 67000/305946 queries. users per second: 19.0999"
            ],
            "text/html": [
              "<pre>recommendations finished on 67000/305946 queries. users per second: 19.0999</pre>"
            ]
          },
          "metadata": {}
        },
        {
          "output_type": "display_data",
          "data": {
            "text/plain": [
              "recommendations finished on 68000/305946 queries. users per second: 19.1013"
            ],
            "text/html": [
              "<pre>recommendations finished on 68000/305946 queries. users per second: 19.1013</pre>"
            ]
          },
          "metadata": {}
        },
        {
          "output_type": "display_data",
          "data": {
            "text/plain": [
              "recommendations finished on 69000/305946 queries. users per second: 19.1034"
            ],
            "text/html": [
              "<pre>recommendations finished on 69000/305946 queries. users per second: 19.1034</pre>"
            ]
          },
          "metadata": {}
        },
        {
          "output_type": "display_data",
          "data": {
            "text/plain": [
              "recommendations finished on 70000/305946 queries. users per second: 19.1064"
            ],
            "text/html": [
              "<pre>recommendations finished on 70000/305946 queries. users per second: 19.1064</pre>"
            ]
          },
          "metadata": {}
        },
        {
          "output_type": "display_data",
          "data": {
            "text/plain": [
              "recommendations finished on 71000/305946 queries. users per second: 19.1097"
            ],
            "text/html": [
              "<pre>recommendations finished on 71000/305946 queries. users per second: 19.1097</pre>"
            ]
          },
          "metadata": {}
        },
        {
          "output_type": "display_data",
          "data": {
            "text/plain": [
              "recommendations finished on 72000/305946 queries. users per second: 19.1127"
            ],
            "text/html": [
              "<pre>recommendations finished on 72000/305946 queries. users per second: 19.1127</pre>"
            ]
          },
          "metadata": {}
        },
        {
          "output_type": "display_data",
          "data": {
            "text/plain": [
              "recommendations finished on 73000/305946 queries. users per second: 19.1156"
            ],
            "text/html": [
              "<pre>recommendations finished on 73000/305946 queries. users per second: 19.1156</pre>"
            ]
          },
          "metadata": {}
        },
        {
          "output_type": "display_data",
          "data": {
            "text/plain": [
              "recommendations finished on 74000/305946 queries. users per second: 19.1186"
            ],
            "text/html": [
              "<pre>recommendations finished on 74000/305946 queries. users per second: 19.1186</pre>"
            ]
          },
          "metadata": {}
        },
        {
          "output_type": "display_data",
          "data": {
            "text/plain": [
              "recommendations finished on 75000/305946 queries. users per second: 19.1217"
            ],
            "text/html": [
              "<pre>recommendations finished on 75000/305946 queries. users per second: 19.1217</pre>"
            ]
          },
          "metadata": {}
        },
        {
          "output_type": "display_data",
          "data": {
            "text/plain": [
              "recommendations finished on 76000/305946 queries. users per second: 19.1245"
            ],
            "text/html": [
              "<pre>recommendations finished on 76000/305946 queries. users per second: 19.1245</pre>"
            ]
          },
          "metadata": {}
        },
        {
          "output_type": "display_data",
          "data": {
            "text/plain": [
              "recommendations finished on 77000/305946 queries. users per second: 19.1272"
            ],
            "text/html": [
              "<pre>recommendations finished on 77000/305946 queries. users per second: 19.1272</pre>"
            ]
          },
          "metadata": {}
        },
        {
          "output_type": "display_data",
          "data": {
            "text/plain": [
              "recommendations finished on 78000/305946 queries. users per second: 19.1299"
            ],
            "text/html": [
              "<pre>recommendations finished on 78000/305946 queries. users per second: 19.1299</pre>"
            ]
          },
          "metadata": {}
        },
        {
          "output_type": "display_data",
          "data": {
            "text/plain": [
              "recommendations finished on 79000/305946 queries. users per second: 19.1326"
            ],
            "text/html": [
              "<pre>recommendations finished on 79000/305946 queries. users per second: 19.1326</pre>"
            ]
          },
          "metadata": {}
        },
        {
          "output_type": "display_data",
          "data": {
            "text/plain": [
              "recommendations finished on 80000/305946 queries. users per second: 19.135"
            ],
            "text/html": [
              "<pre>recommendations finished on 80000/305946 queries. users per second: 19.135</pre>"
            ]
          },
          "metadata": {}
        },
        {
          "output_type": "display_data",
          "data": {
            "text/plain": [
              "recommendations finished on 81000/305946 queries. users per second: 19.1376"
            ],
            "text/html": [
              "<pre>recommendations finished on 81000/305946 queries. users per second: 19.1376</pre>"
            ]
          },
          "metadata": {}
        },
        {
          "output_type": "display_data",
          "data": {
            "text/plain": [
              "recommendations finished on 82000/305946 queries. users per second: 19.1404"
            ],
            "text/html": [
              "<pre>recommendations finished on 82000/305946 queries. users per second: 19.1404</pre>"
            ]
          },
          "metadata": {}
        },
        {
          "output_type": "display_data",
          "data": {
            "text/plain": [
              "recommendations finished on 83000/305946 queries. users per second: 19.1423"
            ],
            "text/html": [
              "<pre>recommendations finished on 83000/305946 queries. users per second: 19.1423</pre>"
            ]
          },
          "metadata": {}
        },
        {
          "output_type": "display_data",
          "data": {
            "text/plain": [
              "recommendations finished on 84000/305946 queries. users per second: 19.1451"
            ],
            "text/html": [
              "<pre>recommendations finished on 84000/305946 queries. users per second: 19.1451</pre>"
            ]
          },
          "metadata": {}
        },
        {
          "output_type": "display_data",
          "data": {
            "text/plain": [
              "recommendations finished on 85000/305946 queries. users per second: 19.1474"
            ],
            "text/html": [
              "<pre>recommendations finished on 85000/305946 queries. users per second: 19.1474</pre>"
            ]
          },
          "metadata": {}
        },
        {
          "output_type": "display_data",
          "data": {
            "text/plain": [
              "recommendations finished on 86000/305946 queries. users per second: 19.1496"
            ],
            "text/html": [
              "<pre>recommendations finished on 86000/305946 queries. users per second: 19.1496</pre>"
            ]
          },
          "metadata": {}
        },
        {
          "output_type": "display_data",
          "data": {
            "text/plain": [
              "recommendations finished on 87000/305946 queries. users per second: 19.1513"
            ],
            "text/html": [
              "<pre>recommendations finished on 87000/305946 queries. users per second: 19.1513</pre>"
            ]
          },
          "metadata": {}
        },
        {
          "output_type": "display_data",
          "data": {
            "text/plain": [
              "recommendations finished on 88000/305946 queries. users per second: 19.1535"
            ],
            "text/html": [
              "<pre>recommendations finished on 88000/305946 queries. users per second: 19.1535</pre>"
            ]
          },
          "metadata": {}
        },
        {
          "output_type": "display_data",
          "data": {
            "text/plain": [
              "recommendations finished on 89000/305946 queries. users per second: 19.1559"
            ],
            "text/html": [
              "<pre>recommendations finished on 89000/305946 queries. users per second: 19.1559</pre>"
            ]
          },
          "metadata": {}
        },
        {
          "output_type": "display_data",
          "data": {
            "text/plain": [
              "recommendations finished on 90000/305946 queries. users per second: 19.1577"
            ],
            "text/html": [
              "<pre>recommendations finished on 90000/305946 queries. users per second: 19.1577</pre>"
            ]
          },
          "metadata": {}
        },
        {
          "output_type": "display_data",
          "data": {
            "text/plain": [
              "recommendations finished on 91000/305946 queries. users per second: 19.1596"
            ],
            "text/html": [
              "<pre>recommendations finished on 91000/305946 queries. users per second: 19.1596</pre>"
            ]
          },
          "metadata": {}
        },
        {
          "output_type": "display_data",
          "data": {
            "text/plain": [
              "recommendations finished on 92000/305946 queries. users per second: 19.1615"
            ],
            "text/html": [
              "<pre>recommendations finished on 92000/305946 queries. users per second: 19.1615</pre>"
            ]
          },
          "metadata": {}
        },
        {
          "output_type": "display_data",
          "data": {
            "text/plain": [
              "recommendations finished on 93000/305946 queries. users per second: 19.1635"
            ],
            "text/html": [
              "<pre>recommendations finished on 93000/305946 queries. users per second: 19.1635</pre>"
            ]
          },
          "metadata": {}
        },
        {
          "output_type": "display_data",
          "data": {
            "text/plain": [
              "recommendations finished on 94000/305946 queries. users per second: 19.1654"
            ],
            "text/html": [
              "<pre>recommendations finished on 94000/305946 queries. users per second: 19.1654</pre>"
            ]
          },
          "metadata": {}
        },
        {
          "output_type": "display_data",
          "data": {
            "text/plain": [
              "recommendations finished on 95000/305946 queries. users per second: 19.1669"
            ],
            "text/html": [
              "<pre>recommendations finished on 95000/305946 queries. users per second: 19.1669</pre>"
            ]
          },
          "metadata": {}
        },
        {
          "output_type": "display_data",
          "data": {
            "text/plain": [
              "recommendations finished on 96000/305946 queries. users per second: 19.1686"
            ],
            "text/html": [
              "<pre>recommendations finished on 96000/305946 queries. users per second: 19.1686</pre>"
            ]
          },
          "metadata": {}
        },
        {
          "output_type": "display_data",
          "data": {
            "text/plain": [
              "recommendations finished on 97000/305946 queries. users per second: 19.1704"
            ],
            "text/html": [
              "<pre>recommendations finished on 97000/305946 queries. users per second: 19.1704</pre>"
            ]
          },
          "metadata": {}
        },
        {
          "output_type": "display_data",
          "data": {
            "text/plain": [
              "recommendations finished on 98000/305946 queries. users per second: 19.1724"
            ],
            "text/html": [
              "<pre>recommendations finished on 98000/305946 queries. users per second: 19.1724</pre>"
            ]
          },
          "metadata": {}
        },
        {
          "output_type": "display_data",
          "data": {
            "text/plain": [
              "recommendations finished on 99000/305946 queries. users per second: 19.174"
            ],
            "text/html": [
              "<pre>recommendations finished on 99000/305946 queries. users per second: 19.174</pre>"
            ]
          },
          "metadata": {}
        },
        {
          "output_type": "display_data",
          "data": {
            "text/plain": [
              "recommendations finished on 100000/305946 queries. users per second: 19.1754"
            ],
            "text/html": [
              "<pre>recommendations finished on 100000/305946 queries. users per second: 19.1754</pre>"
            ]
          },
          "metadata": {}
        },
        {
          "output_type": "display_data",
          "data": {
            "text/plain": [
              "recommendations finished on 101000/305946 queries. users per second: 19.1772"
            ],
            "text/html": [
              "<pre>recommendations finished on 101000/305946 queries. users per second: 19.1772</pre>"
            ]
          },
          "metadata": {}
        },
        {
          "output_type": "display_data",
          "data": {
            "text/plain": [
              "recommendations finished on 102000/305946 queries. users per second: 19.1785"
            ],
            "text/html": [
              "<pre>recommendations finished on 102000/305946 queries. users per second: 19.1785</pre>"
            ]
          },
          "metadata": {}
        },
        {
          "output_type": "display_data",
          "data": {
            "text/plain": [
              "recommendations finished on 103000/305946 queries. users per second: 19.1801"
            ],
            "text/html": [
              "<pre>recommendations finished on 103000/305946 queries. users per second: 19.1801</pre>"
            ]
          },
          "metadata": {}
        },
        {
          "output_type": "display_data",
          "data": {
            "text/plain": [
              "recommendations finished on 104000/305946 queries. users per second: 19.1817"
            ],
            "text/html": [
              "<pre>recommendations finished on 104000/305946 queries. users per second: 19.1817</pre>"
            ]
          },
          "metadata": {}
        },
        {
          "output_type": "display_data",
          "data": {
            "text/plain": [
              "recommendations finished on 105000/305946 queries. users per second: 19.1829"
            ],
            "text/html": [
              "<pre>recommendations finished on 105000/305946 queries. users per second: 19.1829</pre>"
            ]
          },
          "metadata": {}
        },
        {
          "output_type": "display_data",
          "data": {
            "text/plain": [
              "recommendations finished on 106000/305946 queries. users per second: 19.1844"
            ],
            "text/html": [
              "<pre>recommendations finished on 106000/305946 queries. users per second: 19.1844</pre>"
            ]
          },
          "metadata": {}
        },
        {
          "output_type": "display_data",
          "data": {
            "text/plain": [
              "recommendations finished on 107000/305946 queries. users per second: 19.1859"
            ],
            "text/html": [
              "<pre>recommendations finished on 107000/305946 queries. users per second: 19.1859</pre>"
            ]
          },
          "metadata": {}
        },
        {
          "output_type": "display_data",
          "data": {
            "text/plain": [
              "recommendations finished on 108000/305946 queries. users per second: 19.1871"
            ],
            "text/html": [
              "<pre>recommendations finished on 108000/305946 queries. users per second: 19.1871</pre>"
            ]
          },
          "metadata": {}
        },
        {
          "output_type": "display_data",
          "data": {
            "text/plain": [
              "recommendations finished on 109000/305946 queries. users per second: 19.1882"
            ],
            "text/html": [
              "<pre>recommendations finished on 109000/305946 queries. users per second: 19.1882</pre>"
            ]
          },
          "metadata": {}
        },
        {
          "output_type": "display_data",
          "data": {
            "text/plain": [
              "recommendations finished on 110000/305946 queries. users per second: 19.1895"
            ],
            "text/html": [
              "<pre>recommendations finished on 110000/305946 queries. users per second: 19.1895</pre>"
            ]
          },
          "metadata": {}
        },
        {
          "output_type": "display_data",
          "data": {
            "text/plain": [
              "recommendations finished on 111000/305946 queries. users per second: 19.1907"
            ],
            "text/html": [
              "<pre>recommendations finished on 111000/305946 queries. users per second: 19.1907</pre>"
            ]
          },
          "metadata": {}
        },
        {
          "output_type": "display_data",
          "data": {
            "text/plain": [
              "recommendations finished on 112000/305946 queries. users per second: 19.1919"
            ],
            "text/html": [
              "<pre>recommendations finished on 112000/305946 queries. users per second: 19.1919</pre>"
            ]
          },
          "metadata": {}
        },
        {
          "output_type": "display_data",
          "data": {
            "text/plain": [
              "recommendations finished on 113000/305946 queries. users per second: 19.1932"
            ],
            "text/html": [
              "<pre>recommendations finished on 113000/305946 queries. users per second: 19.1932</pre>"
            ]
          },
          "metadata": {}
        },
        {
          "output_type": "display_data",
          "data": {
            "text/plain": [
              "recommendations finished on 114000/305946 queries. users per second: 19.1943"
            ],
            "text/html": [
              "<pre>recommendations finished on 114000/305946 queries. users per second: 19.1943</pre>"
            ]
          },
          "metadata": {}
        },
        {
          "output_type": "display_data",
          "data": {
            "text/plain": [
              "recommendations finished on 115000/305946 queries. users per second: 19.1955"
            ],
            "text/html": [
              "<pre>recommendations finished on 115000/305946 queries. users per second: 19.1955</pre>"
            ]
          },
          "metadata": {}
        },
        {
          "output_type": "display_data",
          "data": {
            "text/plain": [
              "recommendations finished on 116000/305946 queries. users per second: 19.1966"
            ],
            "text/html": [
              "<pre>recommendations finished on 116000/305946 queries. users per second: 19.1966</pre>"
            ]
          },
          "metadata": {}
        },
        {
          "output_type": "display_data",
          "data": {
            "text/plain": [
              "recommendations finished on 117000/305946 queries. users per second: 19.1979"
            ],
            "text/html": [
              "<pre>recommendations finished on 117000/305946 queries. users per second: 19.1979</pre>"
            ]
          },
          "metadata": {}
        },
        {
          "output_type": "display_data",
          "data": {
            "text/plain": [
              "recommendations finished on 118000/305946 queries. users per second: 19.1988"
            ],
            "text/html": [
              "<pre>recommendations finished on 118000/305946 queries. users per second: 19.1988</pre>"
            ]
          },
          "metadata": {}
        },
        {
          "output_type": "display_data",
          "data": {
            "text/plain": [
              "recommendations finished on 119000/305946 queries. users per second: 19.1999"
            ],
            "text/html": [
              "<pre>recommendations finished on 119000/305946 queries. users per second: 19.1999</pre>"
            ]
          },
          "metadata": {}
        },
        {
          "output_type": "display_data",
          "data": {
            "text/plain": [
              "recommendations finished on 120000/305946 queries. users per second: 19.2007"
            ],
            "text/html": [
              "<pre>recommendations finished on 120000/305946 queries. users per second: 19.2007</pre>"
            ]
          },
          "metadata": {}
        },
        {
          "output_type": "display_data",
          "data": {
            "text/plain": [
              "recommendations finished on 121000/305946 queries. users per second: 19.2019"
            ],
            "text/html": [
              "<pre>recommendations finished on 121000/305946 queries. users per second: 19.2019</pre>"
            ]
          },
          "metadata": {}
        },
        {
          "output_type": "display_data",
          "data": {
            "text/plain": [
              "recommendations finished on 122000/305946 queries. users per second: 19.2027"
            ],
            "text/html": [
              "<pre>recommendations finished on 122000/305946 queries. users per second: 19.2027</pre>"
            ]
          },
          "metadata": {}
        },
        {
          "output_type": "display_data",
          "data": {
            "text/plain": [
              "recommendations finished on 123000/305946 queries. users per second: 19.2037"
            ],
            "text/html": [
              "<pre>recommendations finished on 123000/305946 queries. users per second: 19.2037</pre>"
            ]
          },
          "metadata": {}
        },
        {
          "output_type": "display_data",
          "data": {
            "text/plain": [
              "recommendations finished on 124000/305946 queries. users per second: 19.2048"
            ],
            "text/html": [
              "<pre>recommendations finished on 124000/305946 queries. users per second: 19.2048</pre>"
            ]
          },
          "metadata": {}
        },
        {
          "output_type": "display_data",
          "data": {
            "text/plain": [
              "recommendations finished on 125000/305946 queries. users per second: 19.2057"
            ],
            "text/html": [
              "<pre>recommendations finished on 125000/305946 queries. users per second: 19.2057</pre>"
            ]
          },
          "metadata": {}
        },
        {
          "output_type": "display_data",
          "data": {
            "text/plain": [
              "recommendations finished on 126000/305946 queries. users per second: 19.2067"
            ],
            "text/html": [
              "<pre>recommendations finished on 126000/305946 queries. users per second: 19.2067</pre>"
            ]
          },
          "metadata": {}
        },
        {
          "output_type": "display_data",
          "data": {
            "text/plain": [
              "recommendations finished on 127000/305946 queries. users per second: 19.2076"
            ],
            "text/html": [
              "<pre>recommendations finished on 127000/305946 queries. users per second: 19.2076</pre>"
            ]
          },
          "metadata": {}
        },
        {
          "output_type": "display_data",
          "data": {
            "text/plain": [
              "recommendations finished on 128000/305946 queries. users per second: 19.2085"
            ],
            "text/html": [
              "<pre>recommendations finished on 128000/305946 queries. users per second: 19.2085</pre>"
            ]
          },
          "metadata": {}
        },
        {
          "output_type": "display_data",
          "data": {
            "text/plain": [
              "recommendations finished on 129000/305946 queries. users per second: 19.2093"
            ],
            "text/html": [
              "<pre>recommendations finished on 129000/305946 queries. users per second: 19.2093</pre>"
            ]
          },
          "metadata": {}
        },
        {
          "output_type": "display_data",
          "data": {
            "text/plain": [
              "recommendations finished on 130000/305946 queries. users per second: 19.2103"
            ],
            "text/html": [
              "<pre>recommendations finished on 130000/305946 queries. users per second: 19.2103</pre>"
            ]
          },
          "metadata": {}
        },
        {
          "output_type": "display_data",
          "data": {
            "text/plain": [
              "recommendations finished on 131000/305946 queries. users per second: 19.2113"
            ],
            "text/html": [
              "<pre>recommendations finished on 131000/305946 queries. users per second: 19.2113</pre>"
            ]
          },
          "metadata": {}
        },
        {
          "output_type": "display_data",
          "data": {
            "text/plain": [
              "recommendations finished on 132000/305946 queries. users per second: 19.212"
            ],
            "text/html": [
              "<pre>recommendations finished on 132000/305946 queries. users per second: 19.212</pre>"
            ]
          },
          "metadata": {}
        },
        {
          "output_type": "display_data",
          "data": {
            "text/plain": [
              "recommendations finished on 133000/305946 queries. users per second: 19.2126"
            ],
            "text/html": [
              "<pre>recommendations finished on 133000/305946 queries. users per second: 19.2126</pre>"
            ]
          },
          "metadata": {}
        },
        {
          "output_type": "display_data",
          "data": {
            "text/plain": [
              "recommendations finished on 134000/305946 queries. users per second: 19.2134"
            ],
            "text/html": [
              "<pre>recommendations finished on 134000/305946 queries. users per second: 19.2134</pre>"
            ]
          },
          "metadata": {}
        },
        {
          "output_type": "display_data",
          "data": {
            "text/plain": [
              "recommendations finished on 135000/305946 queries. users per second: 19.2141"
            ],
            "text/html": [
              "<pre>recommendations finished on 135000/305946 queries. users per second: 19.2141</pre>"
            ]
          },
          "metadata": {}
        },
        {
          "output_type": "display_data",
          "data": {
            "text/plain": [
              "recommendations finished on 136000/305946 queries. users per second: 19.2147"
            ],
            "text/html": [
              "<pre>recommendations finished on 136000/305946 queries. users per second: 19.2147</pre>"
            ]
          },
          "metadata": {}
        },
        {
          "output_type": "display_data",
          "data": {
            "text/plain": [
              "recommendations finished on 137000/305946 queries. users per second: 19.2154"
            ],
            "text/html": [
              "<pre>recommendations finished on 137000/305946 queries. users per second: 19.2154</pre>"
            ]
          },
          "metadata": {}
        },
        {
          "output_type": "display_data",
          "data": {
            "text/plain": [
              "recommendations finished on 138000/305946 queries. users per second: 19.2159"
            ],
            "text/html": [
              "<pre>recommendations finished on 138000/305946 queries. users per second: 19.2159</pre>"
            ]
          },
          "metadata": {}
        },
        {
          "output_type": "display_data",
          "data": {
            "text/plain": [
              "recommendations finished on 139000/305946 queries. users per second: 19.2166"
            ],
            "text/html": [
              "<pre>recommendations finished on 139000/305946 queries. users per second: 19.2166</pre>"
            ]
          },
          "metadata": {}
        },
        {
          "output_type": "display_data",
          "data": {
            "text/plain": [
              "recommendations finished on 140000/305946 queries. users per second: 19.2176"
            ],
            "text/html": [
              "<pre>recommendations finished on 140000/305946 queries. users per second: 19.2176</pre>"
            ]
          },
          "metadata": {}
        },
        {
          "output_type": "display_data",
          "data": {
            "text/plain": [
              "recommendations finished on 141000/305946 queries. users per second: 19.2183"
            ],
            "text/html": [
              "<pre>recommendations finished on 141000/305946 queries. users per second: 19.2183</pre>"
            ]
          },
          "metadata": {}
        },
        {
          "output_type": "display_data",
          "data": {
            "text/plain": [
              "recommendations finished on 142000/305946 queries. users per second: 19.2191"
            ],
            "text/html": [
              "<pre>recommendations finished on 142000/305946 queries. users per second: 19.2191</pre>"
            ]
          },
          "metadata": {}
        },
        {
          "output_type": "display_data",
          "data": {
            "text/plain": [
              "recommendations finished on 143000/305946 queries. users per second: 19.2197"
            ],
            "text/html": [
              "<pre>recommendations finished on 143000/305946 queries. users per second: 19.2197</pre>"
            ]
          },
          "metadata": {}
        },
        {
          "output_type": "display_data",
          "data": {
            "text/plain": [
              "recommendations finished on 144000/305946 queries. users per second: 19.2206"
            ],
            "text/html": [
              "<pre>recommendations finished on 144000/305946 queries. users per second: 19.2206</pre>"
            ]
          },
          "metadata": {}
        },
        {
          "output_type": "display_data",
          "data": {
            "text/plain": [
              "recommendations finished on 145000/305946 queries. users per second: 19.2211"
            ],
            "text/html": [
              "<pre>recommendations finished on 145000/305946 queries. users per second: 19.2211</pre>"
            ]
          },
          "metadata": {}
        },
        {
          "output_type": "display_data",
          "data": {
            "text/plain": [
              "recommendations finished on 146000/305946 queries. users per second: 19.2215"
            ],
            "text/html": [
              "<pre>recommendations finished on 146000/305946 queries. users per second: 19.2215</pre>"
            ]
          },
          "metadata": {}
        },
        {
          "output_type": "display_data",
          "data": {
            "text/plain": [
              "recommendations finished on 147000/305946 queries. users per second: 19.222"
            ],
            "text/html": [
              "<pre>recommendations finished on 147000/305946 queries. users per second: 19.222</pre>"
            ]
          },
          "metadata": {}
        },
        {
          "output_type": "display_data",
          "data": {
            "text/plain": [
              "recommendations finished on 148000/305946 queries. users per second: 19.2224"
            ],
            "text/html": [
              "<pre>recommendations finished on 148000/305946 queries. users per second: 19.2224</pre>"
            ]
          },
          "metadata": {}
        },
        {
          "output_type": "display_data",
          "data": {
            "text/plain": [
              "recommendations finished on 149000/305946 queries. users per second: 19.223"
            ],
            "text/html": [
              "<pre>recommendations finished on 149000/305946 queries. users per second: 19.223</pre>"
            ]
          },
          "metadata": {}
        },
        {
          "output_type": "display_data",
          "data": {
            "text/plain": [
              "recommendations finished on 150000/305946 queries. users per second: 19.2234"
            ],
            "text/html": [
              "<pre>recommendations finished on 150000/305946 queries. users per second: 19.2234</pre>"
            ]
          },
          "metadata": {}
        },
        {
          "output_type": "display_data",
          "data": {
            "text/plain": [
              "recommendations finished on 151000/305946 queries. users per second: 19.2239"
            ],
            "text/html": [
              "<pre>recommendations finished on 151000/305946 queries. users per second: 19.2239</pre>"
            ]
          },
          "metadata": {}
        },
        {
          "output_type": "display_data",
          "data": {
            "text/plain": [
              "recommendations finished on 152000/305946 queries. users per second: 19.2244"
            ],
            "text/html": [
              "<pre>recommendations finished on 152000/305946 queries. users per second: 19.2244</pre>"
            ]
          },
          "metadata": {}
        },
        {
          "output_type": "display_data",
          "data": {
            "text/plain": [
              "recommendations finished on 153000/305946 queries. users per second: 19.225"
            ],
            "text/html": [
              "<pre>recommendations finished on 153000/305946 queries. users per second: 19.225</pre>"
            ]
          },
          "metadata": {}
        },
        {
          "output_type": "display_data",
          "data": {
            "text/plain": [
              "recommendations finished on 154000/305946 queries. users per second: 19.2255"
            ],
            "text/html": [
              "<pre>recommendations finished on 154000/305946 queries. users per second: 19.2255</pre>"
            ]
          },
          "metadata": {}
        },
        {
          "output_type": "display_data",
          "data": {
            "text/plain": [
              "recommendations finished on 155000/305946 queries. users per second: 19.2261"
            ],
            "text/html": [
              "<pre>recommendations finished on 155000/305946 queries. users per second: 19.2261</pre>"
            ]
          },
          "metadata": {}
        },
        {
          "output_type": "display_data",
          "data": {
            "text/plain": [
              "recommendations finished on 156000/305946 queries. users per second: 19.2267"
            ],
            "text/html": [
              "<pre>recommendations finished on 156000/305946 queries. users per second: 19.2267</pre>"
            ]
          },
          "metadata": {}
        },
        {
          "output_type": "display_data",
          "data": {
            "text/plain": [
              "recommendations finished on 157000/305946 queries. users per second: 19.2271"
            ],
            "text/html": [
              "<pre>recommendations finished on 157000/305946 queries. users per second: 19.2271</pre>"
            ]
          },
          "metadata": {}
        },
        {
          "output_type": "display_data",
          "data": {
            "text/plain": [
              "recommendations finished on 158000/305946 queries. users per second: 19.2277"
            ],
            "text/html": [
              "<pre>recommendations finished on 158000/305946 queries. users per second: 19.2277</pre>"
            ]
          },
          "metadata": {}
        },
        {
          "output_type": "display_data",
          "data": {
            "text/plain": [
              "recommendations finished on 159000/305946 queries. users per second: 19.2282"
            ],
            "text/html": [
              "<pre>recommendations finished on 159000/305946 queries. users per second: 19.2282</pre>"
            ]
          },
          "metadata": {}
        },
        {
          "output_type": "display_data",
          "data": {
            "text/plain": [
              "recommendations finished on 160000/305946 queries. users per second: 19.2287"
            ],
            "text/html": [
              "<pre>recommendations finished on 160000/305946 queries. users per second: 19.2287</pre>"
            ]
          },
          "metadata": {}
        },
        {
          "output_type": "display_data",
          "data": {
            "text/plain": [
              "recommendations finished on 161000/305946 queries. users per second: 19.2291"
            ],
            "text/html": [
              "<pre>recommendations finished on 161000/305946 queries. users per second: 19.2291</pre>"
            ]
          },
          "metadata": {}
        },
        {
          "output_type": "display_data",
          "data": {
            "text/plain": [
              "recommendations finished on 162000/305946 queries. users per second: 19.2296"
            ],
            "text/html": [
              "<pre>recommendations finished on 162000/305946 queries. users per second: 19.2296</pre>"
            ]
          },
          "metadata": {}
        },
        {
          "output_type": "display_data",
          "data": {
            "text/plain": [
              "recommendations finished on 163000/305946 queries. users per second: 19.2301"
            ],
            "text/html": [
              "<pre>recommendations finished on 163000/305946 queries. users per second: 19.2301</pre>"
            ]
          },
          "metadata": {}
        },
        {
          "output_type": "display_data",
          "data": {
            "text/plain": [
              "recommendations finished on 164000/305946 queries. users per second: 19.2306"
            ],
            "text/html": [
              "<pre>recommendations finished on 164000/305946 queries. users per second: 19.2306</pre>"
            ]
          },
          "metadata": {}
        },
        {
          "output_type": "display_data",
          "data": {
            "text/plain": [
              "recommendations finished on 165000/305946 queries. users per second: 19.2311"
            ],
            "text/html": [
              "<pre>recommendations finished on 165000/305946 queries. users per second: 19.2311</pre>"
            ]
          },
          "metadata": {}
        },
        {
          "output_type": "display_data",
          "data": {
            "text/plain": [
              "recommendations finished on 166000/305946 queries. users per second: 19.2318"
            ],
            "text/html": [
              "<pre>recommendations finished on 166000/305946 queries. users per second: 19.2318</pre>"
            ]
          },
          "metadata": {}
        },
        {
          "output_type": "display_data",
          "data": {
            "text/plain": [
              "recommendations finished on 167000/305946 queries. users per second: 19.2322"
            ],
            "text/html": [
              "<pre>recommendations finished on 167000/305946 queries. users per second: 19.2322</pre>"
            ]
          },
          "metadata": {}
        },
        {
          "output_type": "display_data",
          "data": {
            "text/plain": [
              "recommendations finished on 168000/305946 queries. users per second: 19.2326"
            ],
            "text/html": [
              "<pre>recommendations finished on 168000/305946 queries. users per second: 19.2326</pre>"
            ]
          },
          "metadata": {}
        },
        {
          "output_type": "display_data",
          "data": {
            "text/plain": [
              "recommendations finished on 169000/305946 queries. users per second: 19.233"
            ],
            "text/html": [
              "<pre>recommendations finished on 169000/305946 queries. users per second: 19.233</pre>"
            ]
          },
          "metadata": {}
        },
        {
          "output_type": "display_data",
          "data": {
            "text/plain": [
              "recommendations finished on 170000/305946 queries. users per second: 19.2335"
            ],
            "text/html": [
              "<pre>recommendations finished on 170000/305946 queries. users per second: 19.2335</pre>"
            ]
          },
          "metadata": {}
        },
        {
          "output_type": "display_data",
          "data": {
            "text/plain": [
              "recommendations finished on 171000/305946 queries. users per second: 19.2341"
            ],
            "text/html": [
              "<pre>recommendations finished on 171000/305946 queries. users per second: 19.2341</pre>"
            ]
          },
          "metadata": {}
        },
        {
          "output_type": "display_data",
          "data": {
            "text/plain": [
              "recommendations finished on 172000/305946 queries. users per second: 19.2345"
            ],
            "text/html": [
              "<pre>recommendations finished on 172000/305946 queries. users per second: 19.2345</pre>"
            ]
          },
          "metadata": {}
        },
        {
          "output_type": "display_data",
          "data": {
            "text/plain": [
              "recommendations finished on 173000/305946 queries. users per second: 19.235"
            ],
            "text/html": [
              "<pre>recommendations finished on 173000/305946 queries. users per second: 19.235</pre>"
            ]
          },
          "metadata": {}
        },
        {
          "output_type": "display_data",
          "data": {
            "text/plain": [
              "recommendations finished on 174000/305946 queries. users per second: 19.2356"
            ],
            "text/html": [
              "<pre>recommendations finished on 174000/305946 queries. users per second: 19.2356</pre>"
            ]
          },
          "metadata": {}
        },
        {
          "output_type": "display_data",
          "data": {
            "text/plain": [
              "recommendations finished on 175000/305946 queries. users per second: 19.236"
            ],
            "text/html": [
              "<pre>recommendations finished on 175000/305946 queries. users per second: 19.236</pre>"
            ]
          },
          "metadata": {}
        },
        {
          "output_type": "display_data",
          "data": {
            "text/plain": [
              "recommendations finished on 176000/305946 queries. users per second: 19.2365"
            ],
            "text/html": [
              "<pre>recommendations finished on 176000/305946 queries. users per second: 19.2365</pre>"
            ]
          },
          "metadata": {}
        },
        {
          "output_type": "display_data",
          "data": {
            "text/plain": [
              "recommendations finished on 177000/305946 queries. users per second: 19.2368"
            ],
            "text/html": [
              "<pre>recommendations finished on 177000/305946 queries. users per second: 19.2368</pre>"
            ]
          },
          "metadata": {}
        },
        {
          "output_type": "display_data",
          "data": {
            "text/plain": [
              "recommendations finished on 178000/305946 queries. users per second: 19.2373"
            ],
            "text/html": [
              "<pre>recommendations finished on 178000/305946 queries. users per second: 19.2373</pre>"
            ]
          },
          "metadata": {}
        },
        {
          "output_type": "display_data",
          "data": {
            "text/plain": [
              "recommendations finished on 179000/305946 queries. users per second: 19.2379"
            ],
            "text/html": [
              "<pre>recommendations finished on 179000/305946 queries. users per second: 19.2379</pre>"
            ]
          },
          "metadata": {}
        },
        {
          "output_type": "display_data",
          "data": {
            "text/plain": [
              "recommendations finished on 180000/305946 queries. users per second: 19.2384"
            ],
            "text/html": [
              "<pre>recommendations finished on 180000/305946 queries. users per second: 19.2384</pre>"
            ]
          },
          "metadata": {}
        },
        {
          "output_type": "display_data",
          "data": {
            "text/plain": [
              "recommendations finished on 181000/305946 queries. users per second: 19.2387"
            ],
            "text/html": [
              "<pre>recommendations finished on 181000/305946 queries. users per second: 19.2387</pre>"
            ]
          },
          "metadata": {}
        },
        {
          "output_type": "display_data",
          "data": {
            "text/plain": [
              "recommendations finished on 182000/305946 queries. users per second: 19.2391"
            ],
            "text/html": [
              "<pre>recommendations finished on 182000/305946 queries. users per second: 19.2391</pre>"
            ]
          },
          "metadata": {}
        },
        {
          "output_type": "display_data",
          "data": {
            "text/plain": [
              "recommendations finished on 183000/305946 queries. users per second: 19.2396"
            ],
            "text/html": [
              "<pre>recommendations finished on 183000/305946 queries. users per second: 19.2396</pre>"
            ]
          },
          "metadata": {}
        },
        {
          "output_type": "display_data",
          "data": {
            "text/plain": [
              "recommendations finished on 184000/305946 queries. users per second: 19.24"
            ],
            "text/html": [
              "<pre>recommendations finished on 184000/305946 queries. users per second: 19.24</pre>"
            ]
          },
          "metadata": {}
        },
        {
          "output_type": "display_data",
          "data": {
            "text/plain": [
              "recommendations finished on 185000/305946 queries. users per second: 19.2405"
            ],
            "text/html": [
              "<pre>recommendations finished on 185000/305946 queries. users per second: 19.2405</pre>"
            ]
          },
          "metadata": {}
        },
        {
          "output_type": "display_data",
          "data": {
            "text/plain": [
              "recommendations finished on 186000/305946 queries. users per second: 19.2409"
            ],
            "text/html": [
              "<pre>recommendations finished on 186000/305946 queries. users per second: 19.2409</pre>"
            ]
          },
          "metadata": {}
        },
        {
          "output_type": "display_data",
          "data": {
            "text/plain": [
              "recommendations finished on 187000/305946 queries. users per second: 19.2413"
            ],
            "text/html": [
              "<pre>recommendations finished on 187000/305946 queries. users per second: 19.2413</pre>"
            ]
          },
          "metadata": {}
        },
        {
          "output_type": "display_data",
          "data": {
            "text/plain": [
              "recommendations finished on 188000/305946 queries. users per second: 19.2416"
            ],
            "text/html": [
              "<pre>recommendations finished on 188000/305946 queries. users per second: 19.2416</pre>"
            ]
          },
          "metadata": {}
        },
        {
          "output_type": "display_data",
          "data": {
            "text/plain": [
              "recommendations finished on 189000/305946 queries. users per second: 19.242"
            ],
            "text/html": [
              "<pre>recommendations finished on 189000/305946 queries. users per second: 19.242</pre>"
            ]
          },
          "metadata": {}
        },
        {
          "output_type": "display_data",
          "data": {
            "text/plain": [
              "recommendations finished on 190000/305946 queries. users per second: 19.2425"
            ],
            "text/html": [
              "<pre>recommendations finished on 190000/305946 queries. users per second: 19.2425</pre>"
            ]
          },
          "metadata": {}
        },
        {
          "output_type": "display_data",
          "data": {
            "text/plain": [
              "recommendations finished on 191000/305946 queries. users per second: 19.2429"
            ],
            "text/html": [
              "<pre>recommendations finished on 191000/305946 queries. users per second: 19.2429</pre>"
            ]
          },
          "metadata": {}
        },
        {
          "output_type": "display_data",
          "data": {
            "text/plain": [
              "recommendations finished on 192000/305946 queries. users per second: 19.2433"
            ],
            "text/html": [
              "<pre>recommendations finished on 192000/305946 queries. users per second: 19.2433</pre>"
            ]
          },
          "metadata": {}
        },
        {
          "output_type": "display_data",
          "data": {
            "text/plain": [
              "recommendations finished on 193000/305946 queries. users per second: 19.2435"
            ],
            "text/html": [
              "<pre>recommendations finished on 193000/305946 queries. users per second: 19.2435</pre>"
            ]
          },
          "metadata": {}
        },
        {
          "output_type": "display_data",
          "data": {
            "text/plain": [
              "recommendations finished on 194000/305946 queries. users per second: 19.2437"
            ],
            "text/html": [
              "<pre>recommendations finished on 194000/305946 queries. users per second: 19.2437</pre>"
            ]
          },
          "metadata": {}
        },
        {
          "output_type": "display_data",
          "data": {
            "text/plain": [
              "recommendations finished on 195000/305946 queries. users per second: 19.244"
            ],
            "text/html": [
              "<pre>recommendations finished on 195000/305946 queries. users per second: 19.244</pre>"
            ]
          },
          "metadata": {}
        },
        {
          "output_type": "display_data",
          "data": {
            "text/plain": [
              "recommendations finished on 196000/305946 queries. users per second: 19.2444"
            ],
            "text/html": [
              "<pre>recommendations finished on 196000/305946 queries. users per second: 19.2444</pre>"
            ]
          },
          "metadata": {}
        },
        {
          "output_type": "display_data",
          "data": {
            "text/plain": [
              "recommendations finished on 197000/305946 queries. users per second: 19.2446"
            ],
            "text/html": [
              "<pre>recommendations finished on 197000/305946 queries. users per second: 19.2446</pre>"
            ]
          },
          "metadata": {}
        },
        {
          "output_type": "display_data",
          "data": {
            "text/plain": [
              "recommendations finished on 198000/305946 queries. users per second: 19.245"
            ],
            "text/html": [
              "<pre>recommendations finished on 198000/305946 queries. users per second: 19.245</pre>"
            ]
          },
          "metadata": {}
        },
        {
          "output_type": "display_data",
          "data": {
            "text/plain": [
              "recommendations finished on 199000/305946 queries. users per second: 19.2453"
            ],
            "text/html": [
              "<pre>recommendations finished on 199000/305946 queries. users per second: 19.2453</pre>"
            ]
          },
          "metadata": {}
        },
        {
          "output_type": "display_data",
          "data": {
            "text/plain": [
              "recommendations finished on 201000/305946 queries. users per second: 19.2458"
            ],
            "text/html": [
              "<pre>recommendations finished on 201000/305946 queries. users per second: 19.2458</pre>"
            ]
          },
          "metadata": {}
        },
        {
          "output_type": "display_data",
          "data": {
            "text/plain": [
              "recommendations finished on 202000/305946 queries. users per second: 19.2462"
            ],
            "text/html": [
              "<pre>recommendations finished on 202000/305946 queries. users per second: 19.2462</pre>"
            ]
          },
          "metadata": {}
        },
        {
          "output_type": "display_data",
          "data": {
            "text/plain": [
              "recommendations finished on 203000/305946 queries. users per second: 19.2465"
            ],
            "text/html": [
              "<pre>recommendations finished on 203000/305946 queries. users per second: 19.2465</pre>"
            ]
          },
          "metadata": {}
        },
        {
          "output_type": "display_data",
          "data": {
            "text/plain": [
              "recommendations finished on 204000/305946 queries. users per second: 19.2464"
            ],
            "text/html": [
              "<pre>recommendations finished on 204000/305946 queries. users per second: 19.2464</pre>"
            ]
          },
          "metadata": {}
        },
        {
          "output_type": "display_data",
          "data": {
            "text/plain": [
              "recommendations finished on 205000/305946 queries. users per second: 19.2467"
            ],
            "text/html": [
              "<pre>recommendations finished on 205000/305946 queries. users per second: 19.2467</pre>"
            ]
          },
          "metadata": {}
        },
        {
          "output_type": "display_data",
          "data": {
            "text/plain": [
              "recommendations finished on 206000/305946 queries. users per second: 19.247"
            ],
            "text/html": [
              "<pre>recommendations finished on 206000/305946 queries. users per second: 19.247</pre>"
            ]
          },
          "metadata": {}
        },
        {
          "output_type": "display_data",
          "data": {
            "text/plain": [
              "recommendations finished on 207000/305946 queries. users per second: 19.2473"
            ],
            "text/html": [
              "<pre>recommendations finished on 207000/305946 queries. users per second: 19.2473</pre>"
            ]
          },
          "metadata": {}
        },
        {
          "output_type": "display_data",
          "data": {
            "text/plain": [
              "recommendations finished on 208000/305946 queries. users per second: 19.2475"
            ],
            "text/html": [
              "<pre>recommendations finished on 208000/305946 queries. users per second: 19.2475</pre>"
            ]
          },
          "metadata": {}
        },
        {
          "output_type": "display_data",
          "data": {
            "text/plain": [
              "recommendations finished on 209000/305946 queries. users per second: 19.2476"
            ],
            "text/html": [
              "<pre>recommendations finished on 209000/305946 queries. users per second: 19.2476</pre>"
            ]
          },
          "metadata": {}
        },
        {
          "output_type": "display_data",
          "data": {
            "text/plain": [
              "recommendations finished on 210000/305946 queries. users per second: 19.248"
            ],
            "text/html": [
              "<pre>recommendations finished on 210000/305946 queries. users per second: 19.248</pre>"
            ]
          },
          "metadata": {}
        },
        {
          "output_type": "display_data",
          "data": {
            "text/plain": [
              "recommendations finished on 211000/305946 queries. users per second: 19.2482"
            ],
            "text/html": [
              "<pre>recommendations finished on 211000/305946 queries. users per second: 19.2482</pre>"
            ]
          },
          "metadata": {}
        },
        {
          "output_type": "display_data",
          "data": {
            "text/plain": [
              "recommendations finished on 212000/305946 queries. users per second: 19.2485"
            ],
            "text/html": [
              "<pre>recommendations finished on 212000/305946 queries. users per second: 19.2485</pre>"
            ]
          },
          "metadata": {}
        },
        {
          "output_type": "display_data",
          "data": {
            "text/plain": [
              "recommendations finished on 213000/305946 queries. users per second: 19.2489"
            ],
            "text/html": [
              "<pre>recommendations finished on 213000/305946 queries. users per second: 19.2489</pre>"
            ]
          },
          "metadata": {}
        },
        {
          "output_type": "display_data",
          "data": {
            "text/plain": [
              "recommendations finished on 214000/305946 queries. users per second: 19.2493"
            ],
            "text/html": [
              "<pre>recommendations finished on 214000/305946 queries. users per second: 19.2493</pre>"
            ]
          },
          "metadata": {}
        },
        {
          "output_type": "display_data",
          "data": {
            "text/plain": [
              "recommendations finished on 215000/305946 queries. users per second: 19.2495"
            ],
            "text/html": [
              "<pre>recommendations finished on 215000/305946 queries. users per second: 19.2495</pre>"
            ]
          },
          "metadata": {}
        },
        {
          "output_type": "display_data",
          "data": {
            "text/plain": [
              "recommendations finished on 216000/305946 queries. users per second: 19.2497"
            ],
            "text/html": [
              "<pre>recommendations finished on 216000/305946 queries. users per second: 19.2497</pre>"
            ]
          },
          "metadata": {}
        },
        {
          "output_type": "display_data",
          "data": {
            "text/plain": [
              "recommendations finished on 217000/305946 queries. users per second: 19.2499"
            ],
            "text/html": [
              "<pre>recommendations finished on 217000/305946 queries. users per second: 19.2499</pre>"
            ]
          },
          "metadata": {}
        },
        {
          "output_type": "display_data",
          "data": {
            "text/plain": [
              "recommendations finished on 218000/305946 queries. users per second: 19.2501"
            ],
            "text/html": [
              "<pre>recommendations finished on 218000/305946 queries. users per second: 19.2501</pre>"
            ]
          },
          "metadata": {}
        },
        {
          "output_type": "display_data",
          "data": {
            "text/plain": [
              "recommendations finished on 219000/305946 queries. users per second: 19.2505"
            ],
            "text/html": [
              "<pre>recommendations finished on 219000/305946 queries. users per second: 19.2505</pre>"
            ]
          },
          "metadata": {}
        },
        {
          "output_type": "display_data",
          "data": {
            "text/plain": [
              "recommendations finished on 220000/305946 queries. users per second: 19.2507"
            ],
            "text/html": [
              "<pre>recommendations finished on 220000/305946 queries. users per second: 19.2507</pre>"
            ]
          },
          "metadata": {}
        }
      ]
    },
    {
      "cell_type": "code",
      "source": [
        "# print the n first recommendations\n",
        "recommendation.print_rows(100)"
      ],
      "metadata": {
        "colab": {
          "base_uri": "https://localhost:8080/",
          "height": 187
        },
        "id": "KZ0VrmziKN3q",
        "outputId": "eff7a857-7e80-4562-d535-029d36df74e7"
      },
      "execution_count": null,
      "outputs": [
        {
          "output_type": "error",
          "ename": "NameError",
          "evalue": "ignored",
          "traceback": [
            "\u001b[0;31m---------------------------------------------------------------------------\u001b[0m",
            "\u001b[0;31mNameError\u001b[0m                                 Traceback (most recent call last)",
            "\u001b[0;32m<ipython-input-16-f9e03c77bfef>\u001b[0m in \u001b[0;36m<module>\u001b[0;34m()\u001b[0m\n\u001b[1;32m      1\u001b[0m \u001b[0;31m# print the n first recommendations\u001b[0m\u001b[0;34m\u001b[0m\u001b[0;34m\u001b[0m\u001b[0;34m\u001b[0m\u001b[0m\n\u001b[0;32m----> 2\u001b[0;31m \u001b[0mrecommendation\u001b[0m\u001b[0;34m.\u001b[0m\u001b[0mprint_rows\u001b[0m\u001b[0;34m(\u001b[0m\u001b[0;36m100\u001b[0m\u001b[0;34m)\u001b[0m\u001b[0;34m\u001b[0m\u001b[0;34m\u001b[0m\u001b[0m\n\u001b[0m",
            "\u001b[0;31mNameError\u001b[0m: name 'recommendation' is not defined"
          ]
        }
      ]
    },
    {
      "cell_type": "code",
      "source": [
        "mf_feat_eval = mf_sideFtrs.evaluate_precision_recall(df_test)"
      ],
      "metadata": {
        "colab": {
          "base_uri": "https://localhost:8080/",
          "height": 1000
        },
        "id": "KKsv1d2FXSub",
        "outputId": "872f760e-e4fd-47f6-cf26-cf2bc7b34516"
      },
      "execution_count": null,
      "outputs": [
        {
          "output_type": "display_data",
          "data": {
            "text/plain": [
              "recommendations finished on 1000/89981 queries. users per second: 23.2944"
            ],
            "text/html": [
              "<pre>recommendations finished on 1000/89981 queries. users per second: 23.2944</pre>"
            ]
          },
          "metadata": {}
        },
        {
          "output_type": "display_data",
          "data": {
            "text/plain": [
              "recommendations finished on 2000/89981 queries. users per second: 23.3739"
            ],
            "text/html": [
              "<pre>recommendations finished on 2000/89981 queries. users per second: 23.3739</pre>"
            ]
          },
          "metadata": {}
        },
        {
          "output_type": "display_data",
          "data": {
            "text/plain": [
              "recommendations finished on 3000/89981 queries. users per second: 23.3721"
            ],
            "text/html": [
              "<pre>recommendations finished on 3000/89981 queries. users per second: 23.3721</pre>"
            ]
          },
          "metadata": {}
        },
        {
          "output_type": "display_data",
          "data": {
            "text/plain": [
              "recommendations finished on 4000/89981 queries. users per second: 23.3034"
            ],
            "text/html": [
              "<pre>recommendations finished on 4000/89981 queries. users per second: 23.3034</pre>"
            ]
          },
          "metadata": {}
        },
        {
          "output_type": "display_data",
          "data": {
            "text/plain": [
              "recommendations finished on 5000/89981 queries. users per second: 23.2433"
            ],
            "text/html": [
              "<pre>recommendations finished on 5000/89981 queries. users per second: 23.2433</pre>"
            ]
          },
          "metadata": {}
        },
        {
          "output_type": "display_data",
          "data": {
            "text/plain": [
              "recommendations finished on 6000/89981 queries. users per second: 23.2338"
            ],
            "text/html": [
              "<pre>recommendations finished on 6000/89981 queries. users per second: 23.2338</pre>"
            ]
          },
          "metadata": {}
        },
        {
          "output_type": "display_data",
          "data": {
            "text/plain": [
              "recommendations finished on 7000/89981 queries. users per second: 23.256"
            ],
            "text/html": [
              "<pre>recommendations finished on 7000/89981 queries. users per second: 23.256</pre>"
            ]
          },
          "metadata": {}
        },
        {
          "output_type": "display_data",
          "data": {
            "text/plain": [
              "recommendations finished on 8000/89981 queries. users per second: 23.2626"
            ],
            "text/html": [
              "<pre>recommendations finished on 8000/89981 queries. users per second: 23.2626</pre>"
            ]
          },
          "metadata": {}
        },
        {
          "output_type": "display_data",
          "data": {
            "text/plain": [
              "recommendations finished on 9000/89981 queries. users per second: 23.2802"
            ],
            "text/html": [
              "<pre>recommendations finished on 9000/89981 queries. users per second: 23.2802</pre>"
            ]
          },
          "metadata": {}
        },
        {
          "output_type": "display_data",
          "data": {
            "text/plain": [
              "recommendations finished on 10000/89981 queries. users per second: 23.2568"
            ],
            "text/html": [
              "<pre>recommendations finished on 10000/89981 queries. users per second: 23.2568</pre>"
            ]
          },
          "metadata": {}
        },
        {
          "output_type": "display_data",
          "data": {
            "text/plain": [
              "recommendations finished on 11000/89981 queries. users per second: 23.2544"
            ],
            "text/html": [
              "<pre>recommendations finished on 11000/89981 queries. users per second: 23.2544</pre>"
            ]
          },
          "metadata": {}
        },
        {
          "output_type": "display_data",
          "data": {
            "text/plain": [
              "recommendations finished on 12000/89981 queries. users per second: 23.223"
            ],
            "text/html": [
              "<pre>recommendations finished on 12000/89981 queries. users per second: 23.223</pre>"
            ]
          },
          "metadata": {}
        },
        {
          "output_type": "display_data",
          "data": {
            "text/plain": [
              "recommendations finished on 13000/89981 queries. users per second: 23.2057"
            ],
            "text/html": [
              "<pre>recommendations finished on 13000/89981 queries. users per second: 23.2057</pre>"
            ]
          },
          "metadata": {}
        },
        {
          "output_type": "display_data",
          "data": {
            "text/plain": [
              "recommendations finished on 14000/89981 queries. users per second: 23.1782"
            ],
            "text/html": [
              "<pre>recommendations finished on 14000/89981 queries. users per second: 23.1782</pre>"
            ]
          },
          "metadata": {}
        },
        {
          "output_type": "display_data",
          "data": {
            "text/plain": [
              "recommendations finished on 15000/89981 queries. users per second: 23.1731"
            ],
            "text/html": [
              "<pre>recommendations finished on 15000/89981 queries. users per second: 23.1731</pre>"
            ]
          },
          "metadata": {}
        },
        {
          "output_type": "display_data",
          "data": {
            "text/plain": [
              "recommendations finished on 16000/89981 queries. users per second: 23.1731"
            ],
            "text/html": [
              "<pre>recommendations finished on 16000/89981 queries. users per second: 23.1731</pre>"
            ]
          },
          "metadata": {}
        },
        {
          "output_type": "display_data",
          "data": {
            "text/plain": [
              "recommendations finished on 17000/89981 queries. users per second: 23.1715"
            ],
            "text/html": [
              "<pre>recommendations finished on 17000/89981 queries. users per second: 23.1715</pre>"
            ]
          },
          "metadata": {}
        },
        {
          "output_type": "display_data",
          "data": {
            "text/plain": [
              "recommendations finished on 18000/89981 queries. users per second: 23.1737"
            ],
            "text/html": [
              "<pre>recommendations finished on 18000/89981 queries. users per second: 23.1737</pre>"
            ]
          },
          "metadata": {}
        },
        {
          "output_type": "display_data",
          "data": {
            "text/plain": [
              "recommendations finished on 19000/89981 queries. users per second: 23.1632"
            ],
            "text/html": [
              "<pre>recommendations finished on 19000/89981 queries. users per second: 23.1632</pre>"
            ]
          },
          "metadata": {}
        },
        {
          "output_type": "display_data",
          "data": {
            "text/plain": [
              "recommendations finished on 20000/89981 queries. users per second: 23.1692"
            ],
            "text/html": [
              "<pre>recommendations finished on 20000/89981 queries. users per second: 23.1692</pre>"
            ]
          },
          "metadata": {}
        },
        {
          "output_type": "display_data",
          "data": {
            "text/plain": [
              "recommendations finished on 21000/89981 queries. users per second: 23.1748"
            ],
            "text/html": [
              "<pre>recommendations finished on 21000/89981 queries. users per second: 23.1748</pre>"
            ]
          },
          "metadata": {}
        },
        {
          "output_type": "display_data",
          "data": {
            "text/plain": [
              "recommendations finished on 22000/89981 queries. users per second: 23.1787"
            ],
            "text/html": [
              "<pre>recommendations finished on 22000/89981 queries. users per second: 23.1787</pre>"
            ]
          },
          "metadata": {}
        },
        {
          "output_type": "display_data",
          "data": {
            "text/plain": [
              "recommendations finished on 23000/89981 queries. users per second: 23.1777"
            ],
            "text/html": [
              "<pre>recommendations finished on 23000/89981 queries. users per second: 23.1777</pre>"
            ]
          },
          "metadata": {}
        },
        {
          "output_type": "display_data",
          "data": {
            "text/plain": [
              "recommendations finished on 24000/89981 queries. users per second: 23.1785"
            ],
            "text/html": [
              "<pre>recommendations finished on 24000/89981 queries. users per second: 23.1785</pre>"
            ]
          },
          "metadata": {}
        },
        {
          "output_type": "display_data",
          "data": {
            "text/plain": [
              "recommendations finished on 25000/89981 queries. users per second: 23.1715"
            ],
            "text/html": [
              "<pre>recommendations finished on 25000/89981 queries. users per second: 23.1715</pre>"
            ]
          },
          "metadata": {}
        },
        {
          "output_type": "display_data",
          "data": {
            "text/plain": [
              "recommendations finished on 26000/89981 queries. users per second: 23.1781"
            ],
            "text/html": [
              "<pre>recommendations finished on 26000/89981 queries. users per second: 23.1781</pre>"
            ]
          },
          "metadata": {}
        },
        {
          "output_type": "display_data",
          "data": {
            "text/plain": [
              "recommendations finished on 27000/89981 queries. users per second: 23.1699"
            ],
            "text/html": [
              "<pre>recommendations finished on 27000/89981 queries. users per second: 23.1699</pre>"
            ]
          },
          "metadata": {}
        },
        {
          "output_type": "display_data",
          "data": {
            "text/plain": [
              "recommendations finished on 28000/89981 queries. users per second: 23.1759"
            ],
            "text/html": [
              "<pre>recommendations finished on 28000/89981 queries. users per second: 23.1759</pre>"
            ]
          },
          "metadata": {}
        },
        {
          "output_type": "display_data",
          "data": {
            "text/plain": [
              "recommendations finished on 29000/89981 queries. users per second: 23.1827"
            ],
            "text/html": [
              "<pre>recommendations finished on 29000/89981 queries. users per second: 23.1827</pre>"
            ]
          },
          "metadata": {}
        },
        {
          "output_type": "display_data",
          "data": {
            "text/plain": [
              "recommendations finished on 30000/89981 queries. users per second: 23.1924"
            ],
            "text/html": [
              "<pre>recommendations finished on 30000/89981 queries. users per second: 23.1924</pre>"
            ]
          },
          "metadata": {}
        },
        {
          "output_type": "display_data",
          "data": {
            "text/plain": [
              "recommendations finished on 31000/89981 queries. users per second: 23.2057"
            ],
            "text/html": [
              "<pre>recommendations finished on 31000/89981 queries. users per second: 23.2057</pre>"
            ]
          },
          "metadata": {}
        },
        {
          "output_type": "display_data",
          "data": {
            "text/plain": [
              "recommendations finished on 32000/89981 queries. users per second: 23.2179"
            ],
            "text/html": [
              "<pre>recommendations finished on 32000/89981 queries. users per second: 23.2179</pre>"
            ]
          },
          "metadata": {}
        },
        {
          "output_type": "display_data",
          "data": {
            "text/plain": [
              "recommendations finished on 33000/89981 queries. users per second: 23.2196"
            ],
            "text/html": [
              "<pre>recommendations finished on 33000/89981 queries. users per second: 23.2196</pre>"
            ]
          },
          "metadata": {}
        },
        {
          "output_type": "display_data",
          "data": {
            "text/plain": [
              "recommendations finished on 34000/89981 queries. users per second: 23.2312"
            ],
            "text/html": [
              "<pre>recommendations finished on 34000/89981 queries. users per second: 23.2312</pre>"
            ]
          },
          "metadata": {}
        },
        {
          "output_type": "display_data",
          "data": {
            "text/plain": [
              "recommendations finished on 35000/89981 queries. users per second: 23.2342"
            ],
            "text/html": [
              "<pre>recommendations finished on 35000/89981 queries. users per second: 23.2342</pre>"
            ]
          },
          "metadata": {}
        },
        {
          "output_type": "display_data",
          "data": {
            "text/plain": [
              "recommendations finished on 36000/89981 queries. users per second: 23.2429"
            ],
            "text/html": [
              "<pre>recommendations finished on 36000/89981 queries. users per second: 23.2429</pre>"
            ]
          },
          "metadata": {}
        },
        {
          "output_type": "display_data",
          "data": {
            "text/plain": [
              "recommendations finished on 37000/89981 queries. users per second: 23.2547"
            ],
            "text/html": [
              "<pre>recommendations finished on 37000/89981 queries. users per second: 23.2547</pre>"
            ]
          },
          "metadata": {}
        },
        {
          "output_type": "display_data",
          "data": {
            "text/plain": [
              "recommendations finished on 38000/89981 queries. users per second: 23.265"
            ],
            "text/html": [
              "<pre>recommendations finished on 38000/89981 queries. users per second: 23.265</pre>"
            ]
          },
          "metadata": {}
        },
        {
          "output_type": "display_data",
          "data": {
            "text/plain": [
              "recommendations finished on 39000/89981 queries. users per second: 23.2772"
            ],
            "text/html": [
              "<pre>recommendations finished on 39000/89981 queries. users per second: 23.2772</pre>"
            ]
          },
          "metadata": {}
        },
        {
          "output_type": "display_data",
          "data": {
            "text/plain": [
              "recommendations finished on 40000/89981 queries. users per second: 23.2863"
            ],
            "text/html": [
              "<pre>recommendations finished on 40000/89981 queries. users per second: 23.2863</pre>"
            ]
          },
          "metadata": {}
        },
        {
          "output_type": "display_data",
          "data": {
            "text/plain": [
              "recommendations finished on 41000/89981 queries. users per second: 23.2939"
            ],
            "text/html": [
              "<pre>recommendations finished on 41000/89981 queries. users per second: 23.2939</pre>"
            ]
          },
          "metadata": {}
        },
        {
          "output_type": "display_data",
          "data": {
            "text/plain": [
              "recommendations finished on 42000/89981 queries. users per second: 23.3003"
            ],
            "text/html": [
              "<pre>recommendations finished on 42000/89981 queries. users per second: 23.3003</pre>"
            ]
          },
          "metadata": {}
        },
        {
          "output_type": "display_data",
          "data": {
            "text/plain": [
              "recommendations finished on 43000/89981 queries. users per second: 23.3067"
            ],
            "text/html": [
              "<pre>recommendations finished on 43000/89981 queries. users per second: 23.3067</pre>"
            ]
          },
          "metadata": {}
        },
        {
          "output_type": "display_data",
          "data": {
            "text/plain": [
              "recommendations finished on 44000/89981 queries. users per second: 23.3136"
            ],
            "text/html": [
              "<pre>recommendations finished on 44000/89981 queries. users per second: 23.3136</pre>"
            ]
          },
          "metadata": {}
        },
        {
          "output_type": "display_data",
          "data": {
            "text/plain": [
              "recommendations finished on 45000/89981 queries. users per second: 23.3195"
            ],
            "text/html": [
              "<pre>recommendations finished on 45000/89981 queries. users per second: 23.3195</pre>"
            ]
          },
          "metadata": {}
        },
        {
          "output_type": "display_data",
          "data": {
            "text/plain": [
              "recommendations finished on 46000/89981 queries. users per second: 23.3213"
            ],
            "text/html": [
              "<pre>recommendations finished on 46000/89981 queries. users per second: 23.3213</pre>"
            ]
          },
          "metadata": {}
        },
        {
          "output_type": "display_data",
          "data": {
            "text/plain": [
              "recommendations finished on 47000/89981 queries. users per second: 23.3358"
            ],
            "text/html": [
              "<pre>recommendations finished on 47000/89981 queries. users per second: 23.3358</pre>"
            ]
          },
          "metadata": {}
        },
        {
          "output_type": "display_data",
          "data": {
            "text/plain": [
              "recommendations finished on 48000/89981 queries. users per second: 23.3494"
            ],
            "text/html": [
              "<pre>recommendations finished on 48000/89981 queries. users per second: 23.3494</pre>"
            ]
          },
          "metadata": {}
        },
        {
          "output_type": "display_data",
          "data": {
            "text/plain": [
              "recommendations finished on 49000/89981 queries. users per second: 23.3658"
            ],
            "text/html": [
              "<pre>recommendations finished on 49000/89981 queries. users per second: 23.3658</pre>"
            ]
          },
          "metadata": {}
        },
        {
          "output_type": "display_data",
          "data": {
            "text/plain": [
              "recommendations finished on 50000/89981 queries. users per second: 23.3843"
            ],
            "text/html": [
              "<pre>recommendations finished on 50000/89981 queries. users per second: 23.3843</pre>"
            ]
          },
          "metadata": {}
        },
        {
          "output_type": "display_data",
          "data": {
            "text/plain": [
              "recommendations finished on 51000/89981 queries. users per second: 23.4014"
            ],
            "text/html": [
              "<pre>recommendations finished on 51000/89981 queries. users per second: 23.4014</pre>"
            ]
          },
          "metadata": {}
        },
        {
          "output_type": "display_data",
          "data": {
            "text/plain": [
              "recommendations finished on 52000/89981 queries. users per second: 23.4125"
            ],
            "text/html": [
              "<pre>recommendations finished on 52000/89981 queries. users per second: 23.4125</pre>"
            ]
          },
          "metadata": {}
        },
        {
          "output_type": "display_data",
          "data": {
            "text/plain": [
              "recommendations finished on 53000/89981 queries. users per second: 23.4191"
            ],
            "text/html": [
              "<pre>recommendations finished on 53000/89981 queries. users per second: 23.4191</pre>"
            ]
          },
          "metadata": {}
        },
        {
          "output_type": "display_data",
          "data": {
            "text/plain": [
              "recommendations finished on 54000/89981 queries. users per second: 23.4286"
            ],
            "text/html": [
              "<pre>recommendations finished on 54000/89981 queries. users per second: 23.4286</pre>"
            ]
          },
          "metadata": {}
        },
        {
          "output_type": "display_data",
          "data": {
            "text/plain": [
              "recommendations finished on 55000/89981 queries. users per second: 23.4409"
            ],
            "text/html": [
              "<pre>recommendations finished on 55000/89981 queries. users per second: 23.4409</pre>"
            ]
          },
          "metadata": {}
        },
        {
          "output_type": "display_data",
          "data": {
            "text/plain": [
              "recommendations finished on 56000/89981 queries. users per second: 23.4543"
            ],
            "text/html": [
              "<pre>recommendations finished on 56000/89981 queries. users per second: 23.4543</pre>"
            ]
          },
          "metadata": {}
        },
        {
          "output_type": "display_data",
          "data": {
            "text/plain": [
              "recommendations finished on 57000/89981 queries. users per second: 23.4625"
            ],
            "text/html": [
              "<pre>recommendations finished on 57000/89981 queries. users per second: 23.4625</pre>"
            ]
          },
          "metadata": {}
        },
        {
          "output_type": "display_data",
          "data": {
            "text/plain": [
              "recommendations finished on 58000/89981 queries. users per second: 23.4678"
            ],
            "text/html": [
              "<pre>recommendations finished on 58000/89981 queries. users per second: 23.4678</pre>"
            ]
          },
          "metadata": {}
        },
        {
          "output_type": "display_data",
          "data": {
            "text/plain": [
              "recommendations finished on 59000/89981 queries. users per second: 23.4773"
            ],
            "text/html": [
              "<pre>recommendations finished on 59000/89981 queries. users per second: 23.4773</pre>"
            ]
          },
          "metadata": {}
        },
        {
          "output_type": "display_data",
          "data": {
            "text/plain": [
              "recommendations finished on 60000/89981 queries. users per second: 23.4915"
            ],
            "text/html": [
              "<pre>recommendations finished on 60000/89981 queries. users per second: 23.4915</pre>"
            ]
          },
          "metadata": {}
        },
        {
          "output_type": "display_data",
          "data": {
            "text/plain": [
              "recommendations finished on 61000/89981 queries. users per second: 23.4958"
            ],
            "text/html": [
              "<pre>recommendations finished on 61000/89981 queries. users per second: 23.4958</pre>"
            ]
          },
          "metadata": {}
        },
        {
          "output_type": "display_data",
          "data": {
            "text/plain": [
              "recommendations finished on 62000/89981 queries. users per second: 23.5045"
            ],
            "text/html": [
              "<pre>recommendations finished on 62000/89981 queries. users per second: 23.5045</pre>"
            ]
          },
          "metadata": {}
        },
        {
          "output_type": "display_data",
          "data": {
            "text/plain": [
              "recommendations finished on 63000/89981 queries. users per second: 23.512"
            ],
            "text/html": [
              "<pre>recommendations finished on 63000/89981 queries. users per second: 23.512</pre>"
            ]
          },
          "metadata": {}
        },
        {
          "output_type": "display_data",
          "data": {
            "text/plain": [
              "recommendations finished on 64000/89981 queries. users per second: 23.5218"
            ],
            "text/html": [
              "<pre>recommendations finished on 64000/89981 queries. users per second: 23.5218</pre>"
            ]
          },
          "metadata": {}
        },
        {
          "output_type": "display_data",
          "data": {
            "text/plain": [
              "recommendations finished on 65000/89981 queries. users per second: 23.5303"
            ],
            "text/html": [
              "<pre>recommendations finished on 65000/89981 queries. users per second: 23.5303</pre>"
            ]
          },
          "metadata": {}
        },
        {
          "output_type": "display_data",
          "data": {
            "text/plain": [
              "recommendations finished on 66000/89981 queries. users per second: 23.5395"
            ],
            "text/html": [
              "<pre>recommendations finished on 66000/89981 queries. users per second: 23.5395</pre>"
            ]
          },
          "metadata": {}
        },
        {
          "output_type": "display_data",
          "data": {
            "text/plain": [
              "recommendations finished on 67000/89981 queries. users per second: 23.5432"
            ],
            "text/html": [
              "<pre>recommendations finished on 67000/89981 queries. users per second: 23.5432</pre>"
            ]
          },
          "metadata": {}
        },
        {
          "output_type": "display_data",
          "data": {
            "text/plain": [
              "recommendations finished on 68000/89981 queries. users per second: 23.5498"
            ],
            "text/html": [
              "<pre>recommendations finished on 68000/89981 queries. users per second: 23.5498</pre>"
            ]
          },
          "metadata": {}
        },
        {
          "output_type": "display_data",
          "data": {
            "text/plain": [
              "recommendations finished on 69000/89981 queries. users per second: 23.5529"
            ],
            "text/html": [
              "<pre>recommendations finished on 69000/89981 queries. users per second: 23.5529</pre>"
            ]
          },
          "metadata": {}
        },
        {
          "output_type": "display_data",
          "data": {
            "text/plain": [
              "recommendations finished on 70000/89981 queries. users per second: 23.5583"
            ],
            "text/html": [
              "<pre>recommendations finished on 70000/89981 queries. users per second: 23.5583</pre>"
            ]
          },
          "metadata": {}
        },
        {
          "output_type": "display_data",
          "data": {
            "text/plain": [
              "recommendations finished on 71000/89981 queries. users per second: 23.5624"
            ],
            "text/html": [
              "<pre>recommendations finished on 71000/89981 queries. users per second: 23.5624</pre>"
            ]
          },
          "metadata": {}
        },
        {
          "output_type": "display_data",
          "data": {
            "text/plain": [
              "recommendations finished on 72000/89981 queries. users per second: 23.569"
            ],
            "text/html": [
              "<pre>recommendations finished on 72000/89981 queries. users per second: 23.569</pre>"
            ]
          },
          "metadata": {}
        },
        {
          "output_type": "display_data",
          "data": {
            "text/plain": [
              "recommendations finished on 73000/89981 queries. users per second: 23.571"
            ],
            "text/html": [
              "<pre>recommendations finished on 73000/89981 queries. users per second: 23.571</pre>"
            ]
          },
          "metadata": {}
        },
        {
          "output_type": "display_data",
          "data": {
            "text/plain": [
              "recommendations finished on 74000/89981 queries. users per second: 23.5809"
            ],
            "text/html": [
              "<pre>recommendations finished on 74000/89981 queries. users per second: 23.5809</pre>"
            ]
          },
          "metadata": {}
        },
        {
          "output_type": "display_data",
          "data": {
            "text/plain": [
              "recommendations finished on 75000/89981 queries. users per second: 23.5865"
            ],
            "text/html": [
              "<pre>recommendations finished on 75000/89981 queries. users per second: 23.5865</pre>"
            ]
          },
          "metadata": {}
        },
        {
          "output_type": "display_data",
          "data": {
            "text/plain": [
              "recommendations finished on 76000/89981 queries. users per second: 23.5902"
            ],
            "text/html": [
              "<pre>recommendations finished on 76000/89981 queries. users per second: 23.5902</pre>"
            ]
          },
          "metadata": {}
        },
        {
          "output_type": "display_data",
          "data": {
            "text/plain": [
              "recommendations finished on 77000/89981 queries. users per second: 23.5958"
            ],
            "text/html": [
              "<pre>recommendations finished on 77000/89981 queries. users per second: 23.5958</pre>"
            ]
          },
          "metadata": {}
        },
        {
          "output_type": "display_data",
          "data": {
            "text/plain": [
              "recommendations finished on 78000/89981 queries. users per second: 23.5996"
            ],
            "text/html": [
              "<pre>recommendations finished on 78000/89981 queries. users per second: 23.5996</pre>"
            ]
          },
          "metadata": {}
        },
        {
          "output_type": "display_data",
          "data": {
            "text/plain": [
              "recommendations finished on 79000/89981 queries. users per second: 23.6046"
            ],
            "text/html": [
              "<pre>recommendations finished on 79000/89981 queries. users per second: 23.6046</pre>"
            ]
          },
          "metadata": {}
        },
        {
          "output_type": "display_data",
          "data": {
            "text/plain": [
              "recommendations finished on 80000/89981 queries. users per second: 23.613"
            ],
            "text/html": [
              "<pre>recommendations finished on 80000/89981 queries. users per second: 23.613</pre>"
            ]
          },
          "metadata": {}
        },
        {
          "output_type": "display_data",
          "data": {
            "text/plain": [
              "recommendations finished on 81000/89981 queries. users per second: 23.614"
            ],
            "text/html": [
              "<pre>recommendations finished on 81000/89981 queries. users per second: 23.614</pre>"
            ]
          },
          "metadata": {}
        },
        {
          "output_type": "display_data",
          "data": {
            "text/plain": [
              "recommendations finished on 82000/89981 queries. users per second: 23.6177"
            ],
            "text/html": [
              "<pre>recommendations finished on 82000/89981 queries. users per second: 23.6177</pre>"
            ]
          },
          "metadata": {}
        },
        {
          "output_type": "display_data",
          "data": {
            "text/plain": [
              "recommendations finished on 83000/89981 queries. users per second: 23.6225"
            ],
            "text/html": [
              "<pre>recommendations finished on 83000/89981 queries. users per second: 23.6225</pre>"
            ]
          },
          "metadata": {}
        },
        {
          "output_type": "display_data",
          "data": {
            "text/plain": [
              "recommendations finished on 84000/89981 queries. users per second: 23.6248"
            ],
            "text/html": [
              "<pre>recommendations finished on 84000/89981 queries. users per second: 23.6248</pre>"
            ]
          },
          "metadata": {}
        },
        {
          "output_type": "display_data",
          "data": {
            "text/plain": [
              "recommendations finished on 85000/89981 queries. users per second: 23.6275"
            ],
            "text/html": [
              "<pre>recommendations finished on 85000/89981 queries. users per second: 23.6275</pre>"
            ]
          },
          "metadata": {}
        },
        {
          "output_type": "display_data",
          "data": {
            "text/plain": [
              "recommendations finished on 86000/89981 queries. users per second: 23.631"
            ],
            "text/html": [
              "<pre>recommendations finished on 86000/89981 queries. users per second: 23.631</pre>"
            ]
          },
          "metadata": {}
        },
        {
          "output_type": "display_data",
          "data": {
            "text/plain": [
              "recommendations finished on 87000/89981 queries. users per second: 23.6359"
            ],
            "text/html": [
              "<pre>recommendations finished on 87000/89981 queries. users per second: 23.6359</pre>"
            ]
          },
          "metadata": {}
        },
        {
          "output_type": "display_data",
          "data": {
            "text/plain": [
              "recommendations finished on 88000/89981 queries. users per second: 23.6414"
            ],
            "text/html": [
              "<pre>recommendations finished on 88000/89981 queries. users per second: 23.6414</pre>"
            ]
          },
          "metadata": {}
        },
        {
          "output_type": "display_data",
          "data": {
            "text/plain": [
              "recommendations finished on 89000/89981 queries. users per second: 23.6477"
            ],
            "text/html": [
              "<pre>recommendations finished on 89000/89981 queries. users per second: 23.6477</pre>"
            ]
          },
          "metadata": {}
        }
      ]
    },
    {
      "cell_type": "code",
      "source": [
        "mf_feat_eval"
      ],
      "metadata": {
        "colab": {
          "base_uri": "https://localhost:8080/"
        },
        "id": "2DLo-fHRXluN",
        "outputId": "6c31369a-f7df-4fc4-91c4-1ab5c1b69a8f"
      },
      "execution_count": null,
      "outputs": [
        {
          "output_type": "execute_result",
          "data": {
            "text/plain": [
              "{'precision_recall_by_user': Columns:\n",
              " \tuser_id\tint\n",
              " \tcutoff\tint\n",
              " \tprecision\tfloat\n",
              " \trecall\tfloat\n",
              " \tcount\tint\n",
              " \n",
              " Rows: 1619658\n",
              " \n",
              " Data:\n",
              " +---------+--------+-----------+--------+-------+\n",
              " | user_id | cutoff | precision | recall | count |\n",
              " +---------+--------+-----------+--------+-------+\n",
              " |  34063  |   1    |    0.0    |  0.0   |   79  |\n",
              " |  34063  |   2    |    0.0    |  0.0   |   79  |\n",
              " |  34063  |   3    |    0.0    |  0.0   |   79  |\n",
              " |  34063  |   4    |    0.0    |  0.0   |   79  |\n",
              " |  34063  |   5    |    0.0    |  0.0   |   79  |\n",
              " |  34063  |   6    |    0.0    |  0.0   |   79  |\n",
              " |  34063  |   7    |    0.0    |  0.0   |   79  |\n",
              " |  34063  |   8    |    0.0    |  0.0   |   79  |\n",
              " |  34063  |   9    |    0.0    |  0.0   |   79  |\n",
              " |  34063  |   10   |    0.0    |  0.0   |   79  |\n",
              " +---------+--------+-----------+--------+-------+\n",
              " [1619658 rows x 5 columns]\n",
              " Note: Only the head of the SFrame is printed.\n",
              " You can use print_rows(num_rows=m, num_columns=n) to print more rows and columns.,\n",
              " 'precision_recall_overall': Columns:\n",
              " \tcutoff\tint\n",
              " \tprecision\tfloat\n",
              " \trecall\tfloat\n",
              " \n",
              " Rows: 18\n",
              " \n",
              " Data:\n",
              " +--------+-----------------------+-----------------------+\n",
              " | cutoff |       precision       |         recall        |\n",
              " +--------+-----------------------+-----------------------+\n",
              " |   1    | 0.0061012880496993825 | 0.0003662970892812346 |\n",
              " |   2    |  0.005323346039719499 | 0.0006350392273088179 |\n",
              " |   3    | 0.0043898156277435724 | 0.0007845120283227919 |\n",
              " |   4    |  0.003981396072504215 |  0.000941768486697125 |\n",
              " |   5    | 0.0037118947333324897 | 0.0010925341815826856 |\n",
              " |   6    | 0.0032062324268456476 | 0.0011320556919319365 |\n",
              " |   7    | 0.0031435207750207554 |  0.001296390946044633 |\n",
              " |   8    | 0.0028200397861770786 | 0.0013269165298486522 |\n",
              " |   9    | 0.0025869658903299874 | 0.0013647229501392013 |\n",
              " |   10   |  0.002898389660039238 | 0.0017295489368789958 |\n",
              " +--------+-----------------------+-----------------------+\n",
              " [18 rows x 3 columns]\n",
              " Note: Only the head of the SFrame is printed.\n",
              " You can use print_rows(num_rows=m, num_columns=n) to print more rows and columns.}"
            ]
          },
          "metadata": {},
          "execution_count": 18
        }
      ]
    },
    {
      "cell_type": "code",
      "source": [],
      "metadata": {
        "id": "zN0DWD0p2ADO"
      },
      "execution_count": null,
      "outputs": []
    }
  ]
}