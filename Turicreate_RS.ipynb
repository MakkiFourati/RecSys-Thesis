{
  "nbformat": 4,
  "nbformat_minor": 0,
  "metadata": {
    "colab": {
      "provenance": [],
      "collapsed_sections": [
        "W8vRBnjrKxYc",
        "Nvx0_nI2Xm4A",
        "WGxO3TZmg9Yv",
        "gqjWGLbticY6",
        "RyINVBRQig0p"
      ],
      "mount_file_id": "18Y2HXH93mgdKBL08bQwG9A9q4lA8EK4S",
      "authorship_tag": "ABX9TyNGYsWY7Qgegtda7bG5hohx",
      "include_colab_link": true
    },
    "kernelspec": {
      "name": "python3",
      "display_name": "Python 3"
    },
    "language_info": {
      "name": "python"
    },
    "accelerator": "GPU",
    "gpuClass": "standard"
  },
  "cells": [
    {
      "cell_type": "markdown",
      "metadata": {
        "id": "view-in-github",
        "colab_type": "text"
      },
      "source": [
        "<a href=\"https://colab.research.google.com/github/MakkiFourati/RecSys-Thesis/blob/main/Turicreate_RS.ipynb\" target=\"_parent\"><img src=\"https://colab.research.google.com/assets/colab-badge.svg\" alt=\"Open In Colab\"/></a>"
      ]
    },
    {
      "cell_type": "code",
      "source": [
        "!pip install turicreate"
      ],
      "metadata": {
        "colab": {
          "base_uri": "https://localhost:8080/",
          "height": 1000
        },
        "id": "QCWRVvzQZzuF",
        "outputId": "40889efe-7ffe-4d6d-9220-ded74b4be5ca"
      },
      "execution_count": null,
      "outputs": [
        {
          "output_type": "stream",
          "name": "stdout",
          "text": [
            "Looking in indexes: https://pypi.org/simple, https://us-python.pkg.dev/colab-wheels/public/simple/\n",
            "Collecting turicreate\n",
            "  Downloading turicreate-6.4.1-cp37-cp37m-manylinux1_x86_64.whl (92.0 MB)\n",
            "\u001b[K     |████████████████████████████████| 92.0 MB 1.2 MB/s \n",
            "\u001b[?25hRequirement already satisfied: numpy in /usr/local/lib/python3.7/dist-packages (from turicreate) (1.21.6)\n",
            "Requirement already satisfied: pandas>=0.23.2 in /usr/local/lib/python3.7/dist-packages (from turicreate) (1.3.5)\n",
            "Requirement already satisfied: six>=1.10.0 in /usr/local/lib/python3.7/dist-packages (from turicreate) (1.15.0)\n",
            "Requirement already satisfied: requests>=2.9.1 in /usr/local/lib/python3.7/dist-packages (from turicreate) (2.23.0)\n",
            "Collecting numba<0.51.0\n",
            "  Downloading numba-0.50.1-cp37-cp37m-manylinux2014_x86_64.whl (3.6 MB)\n",
            "\u001b[K     |████████████████████████████████| 3.6 MB 41.2 MB/s \n",
            "\u001b[?25hCollecting tensorflow<2.1.0,>=2.0.0\n",
            "  Downloading tensorflow-2.0.4-cp37-cp37m-manylinux2010_x86_64.whl (86.4 MB)\n",
            "\u001b[K     |████████████████████████████████| 86.4 MB 65 kB/s \n",
            "\u001b[?25hCollecting coremltools==3.3\n",
            "  Downloading coremltools-3.3-cp37-none-manylinux1_x86_64.whl (3.5 MB)\n",
            "\u001b[K     |████████████████████████████████| 3.5 MB 45.0 MB/s \n",
            "\u001b[?25hCollecting resampy==0.2.1\n",
            "  Downloading resampy-0.2.1.tar.gz (322 kB)\n",
            "\u001b[K     |████████████████████████████████| 322 kB 78.2 MB/s \n",
            "\u001b[?25hRequirement already satisfied: decorator>=4.0.9 in /usr/local/lib/python3.7/dist-packages (from turicreate) (4.4.2)\n",
            "Requirement already satisfied: scipy>=1.1.0 in /usr/local/lib/python3.7/dist-packages (from turicreate) (1.7.3)\n",
            "Requirement already satisfied: pillow>=5.2.0 in /usr/local/lib/python3.7/dist-packages (from turicreate) (7.1.2)\n",
            "Collecting prettytable==0.7.2\n",
            "  Downloading prettytable-0.7.2.zip (28 kB)\n",
            "Requirement already satisfied: protobuf>=3.1.0 in /usr/local/lib/python3.7/dist-packages (from coremltools==3.3->turicreate) (3.17.3)\n",
            "Requirement already satisfied: setuptools in /usr/local/lib/python3.7/dist-packages (from numba<0.51.0->turicreate) (57.4.0)\n",
            "Collecting llvmlite<0.34,>=0.33.0.dev0\n",
            "  Downloading llvmlite-0.33.0-cp37-cp37m-manylinux1_x86_64.whl (18.3 MB)\n",
            "\u001b[K     |████████████████████████████████| 18.3 MB 1.2 MB/s \n",
            "\u001b[?25hRequirement already satisfied: pytz>=2017.3 in /usr/local/lib/python3.7/dist-packages (from pandas>=0.23.2->turicreate) (2022.1)\n",
            "Requirement already satisfied: python-dateutil>=2.7.3 in /usr/local/lib/python3.7/dist-packages (from pandas>=0.23.2->turicreate) (2.8.2)\n",
            "Requirement already satisfied: urllib3!=1.25.0,!=1.25.1,<1.26,>=1.21.1 in /usr/local/lib/python3.7/dist-packages (from requests>=2.9.1->turicreate) (1.24.3)\n",
            "Requirement already satisfied: chardet<4,>=3.0.2 in /usr/local/lib/python3.7/dist-packages (from requests>=2.9.1->turicreate) (3.0.4)\n",
            "Requirement already satisfied: certifi>=2017.4.17 in /usr/local/lib/python3.7/dist-packages (from requests>=2.9.1->turicreate) (2022.6.15)\n",
            "Requirement already satisfied: idna<3,>=2.5 in /usr/local/lib/python3.7/dist-packages (from requests>=2.9.1->turicreate) (2.10)\n",
            "Collecting tensorflow-estimator<2.1.0,>=2.0.0\n",
            "  Downloading tensorflow_estimator-2.0.1-py2.py3-none-any.whl (449 kB)\n",
            "\u001b[K     |████████████████████████████████| 449 kB 65.4 MB/s \n",
            "\u001b[?25hCollecting tensorboard<2.1.0,>=2.0.0\n",
            "  Downloading tensorboard-2.0.2-py3-none-any.whl (3.8 MB)\n",
            "\u001b[K     |████████████████████████████████| 3.8 MB 58.8 MB/s \n",
            "\u001b[?25hRequirement already satisfied: wrapt>=1.11.1 in /usr/local/lib/python3.7/dist-packages (from tensorflow<2.1.0,>=2.0.0->turicreate) (1.14.1)\n",
            "Collecting keras-applications>=1.0.8\n",
            "  Downloading Keras_Applications-1.0.8-py3-none-any.whl (50 kB)\n",
            "\u001b[K     |████████████████████████████████| 50 kB 6.6 MB/s \n",
            "\u001b[?25hCollecting gast==0.2.2\n",
            "  Downloading gast-0.2.2.tar.gz (10 kB)\n",
            "Requirement already satisfied: astor>=0.6.0 in /usr/local/lib/python3.7/dist-packages (from tensorflow<2.1.0,>=2.0.0->turicreate) (0.8.1)\n",
            "Requirement already satisfied: opt-einsum>=2.3.2 in /usr/local/lib/python3.7/dist-packages (from tensorflow<2.1.0,>=2.0.0->turicreate) (3.3.0)\n",
            "Requirement already satisfied: google-pasta>=0.1.6 in /usr/local/lib/python3.7/dist-packages (from tensorflow<2.1.0,>=2.0.0->turicreate) (0.2.0)\n",
            "Requirement already satisfied: termcolor>=1.1.0 in /usr/local/lib/python3.7/dist-packages (from tensorflow<2.1.0,>=2.0.0->turicreate) (1.1.0)\n",
            "Collecting numpy\n",
            "  Downloading numpy-1.18.5-cp37-cp37m-manylinux1_x86_64.whl (20.1 MB)\n",
            "\u001b[K     |████████████████████████████████| 20.1 MB 1.3 MB/s \n",
            "\u001b[?25hCollecting h5py<=2.10.0\n",
            "  Downloading h5py-2.10.0-cp37-cp37m-manylinux1_x86_64.whl (2.9 MB)\n",
            "\u001b[K     |████████████████████████████████| 2.9 MB 70.9 MB/s \n",
            "\u001b[?25hRequirement already satisfied: absl-py>=0.7.0 in /usr/local/lib/python3.7/dist-packages (from tensorflow<2.1.0,>=2.0.0->turicreate) (1.2.0)\n",
            "Requirement already satisfied: grpcio>=1.8.6 in /usr/local/lib/python3.7/dist-packages (from tensorflow<2.1.0,>=2.0.0->turicreate) (1.47.0)\n",
            "Requirement already satisfied: keras-preprocessing>=1.0.5 in /usr/local/lib/python3.7/dist-packages (from tensorflow<2.1.0,>=2.0.0->turicreate) (1.1.2)\n",
            "Requirement already satisfied: wheel>=0.26 in /usr/local/lib/python3.7/dist-packages (from tensorflow<2.1.0,>=2.0.0->turicreate) (0.37.1)\n",
            "Requirement already satisfied: werkzeug>=0.11.15 in /usr/local/lib/python3.7/dist-packages (from tensorboard<2.1.0,>=2.0.0->tensorflow<2.1.0,>=2.0.0->turicreate) (1.0.1)\n",
            "Requirement already satisfied: google-auth<2,>=1.6.3 in /usr/local/lib/python3.7/dist-packages (from tensorboard<2.1.0,>=2.0.0->tensorflow<2.1.0,>=2.0.0->turicreate) (1.35.0)\n",
            "Requirement already satisfied: google-auth-oauthlib<0.5,>=0.4.1 in /usr/local/lib/python3.7/dist-packages (from tensorboard<2.1.0,>=2.0.0->tensorflow<2.1.0,>=2.0.0->turicreate) (0.4.6)\n",
            "Requirement already satisfied: markdown>=2.6.8 in /usr/local/lib/python3.7/dist-packages (from tensorboard<2.1.0,>=2.0.0->tensorflow<2.1.0,>=2.0.0->turicreate) (3.4.1)\n",
            "Requirement already satisfied: cachetools<5.0,>=2.0.0 in /usr/local/lib/python3.7/dist-packages (from google-auth<2,>=1.6.3->tensorboard<2.1.0,>=2.0.0->tensorflow<2.1.0,>=2.0.0->turicreate) (4.2.4)\n",
            "Requirement already satisfied: rsa<5,>=3.1.4 in /usr/local/lib/python3.7/dist-packages (from google-auth<2,>=1.6.3->tensorboard<2.1.0,>=2.0.0->tensorflow<2.1.0,>=2.0.0->turicreate) (4.9)\n",
            "Requirement already satisfied: pyasn1-modules>=0.2.1 in /usr/local/lib/python3.7/dist-packages (from google-auth<2,>=1.6.3->tensorboard<2.1.0,>=2.0.0->tensorflow<2.1.0,>=2.0.0->turicreate) (0.2.8)\n",
            "Requirement already satisfied: requests-oauthlib>=0.7.0 in /usr/local/lib/python3.7/dist-packages (from google-auth-oauthlib<0.5,>=0.4.1->tensorboard<2.1.0,>=2.0.0->tensorflow<2.1.0,>=2.0.0->turicreate) (1.3.1)\n",
            "Requirement already satisfied: importlib-metadata>=4.4 in /usr/local/lib/python3.7/dist-packages (from markdown>=2.6.8->tensorboard<2.1.0,>=2.0.0->tensorflow<2.1.0,>=2.0.0->turicreate) (4.12.0)\n",
            "Requirement already satisfied: typing-extensions>=3.6.4 in /usr/local/lib/python3.7/dist-packages (from importlib-metadata>=4.4->markdown>=2.6.8->tensorboard<2.1.0,>=2.0.0->tensorflow<2.1.0,>=2.0.0->turicreate) (4.1.1)\n",
            "Requirement already satisfied: zipp>=0.5 in /usr/local/lib/python3.7/dist-packages (from importlib-metadata>=4.4->markdown>=2.6.8->tensorboard<2.1.0,>=2.0.0->tensorflow<2.1.0,>=2.0.0->turicreate) (3.8.1)\n",
            "Requirement already satisfied: pyasn1<0.5.0,>=0.4.6 in /usr/local/lib/python3.7/dist-packages (from pyasn1-modules>=0.2.1->google-auth<2,>=1.6.3->tensorboard<2.1.0,>=2.0.0->tensorflow<2.1.0,>=2.0.0->turicreate) (0.4.8)\n",
            "Requirement already satisfied: oauthlib>=3.0.0 in /usr/local/lib/python3.7/dist-packages (from requests-oauthlib>=0.7.0->google-auth-oauthlib<0.5,>=0.4.1->tensorboard<2.1.0,>=2.0.0->tensorflow<2.1.0,>=2.0.0->turicreate) (3.2.0)\n",
            "Building wheels for collected packages: prettytable, resampy, gast\n",
            "  Building wheel for prettytable (setup.py) ... \u001b[?25l\u001b[?25hdone\n",
            "  Created wheel for prettytable: filename=prettytable-0.7.2-py3-none-any.whl size=13714 sha256=3daf76b42d98a9d7065c5960b268c3636fddbcdc8f4a3fa4ffba520804e55ae8\n",
            "  Stored in directory: /root/.cache/pip/wheels/b2/7f/f6/f180315b584f00445045ff1699b550fa895d09471337ce21c6\n",
            "  Building wheel for resampy (setup.py) ... \u001b[?25l\u001b[?25hdone\n",
            "  Created wheel for resampy: filename=resampy-0.2.1-py3-none-any.whl size=320859 sha256=e43f1af39aee5b7adccf22bd96ba8c7e2617e4600f64cc59c7502b6c548a8a52\n",
            "  Stored in directory: /root/.cache/pip/wheels/71/74/53/d5ceb7c5ee7a168c7d106041863e71ac3273f4a4677743a284\n",
            "  Building wheel for gast (setup.py) ... \u001b[?25l\u001b[?25hdone\n",
            "  Created wheel for gast: filename=gast-0.2.2-py3-none-any.whl size=7554 sha256=64bf2a91264cc6817ee54b842331d4ff83c6649faa2626f253e6e142249a8331\n",
            "  Stored in directory: /root/.cache/pip/wheels/21/7f/02/420f32a803f7d0967b48dd823da3f558c5166991bfd204eef3\n",
            "Successfully built prettytable resampy gast\n",
            "Installing collected packages: numpy, llvmlite, h5py, tensorflow-estimator, tensorboard, numba, keras-applications, gast, tensorflow, resampy, prettytable, coremltools, turicreate\n",
            "  Attempting uninstall: numpy\n",
            "    Found existing installation: numpy 1.21.6\n",
            "    Uninstalling numpy-1.21.6:\n",
            "      Successfully uninstalled numpy-1.21.6\n",
            "  Attempting uninstall: llvmlite\n",
            "    Found existing installation: llvmlite 0.34.0\n",
            "    Uninstalling llvmlite-0.34.0:\n",
            "      Successfully uninstalled llvmlite-0.34.0\n",
            "  Attempting uninstall: h5py\n",
            "    Found existing installation: h5py 3.1.0\n",
            "    Uninstalling h5py-3.1.0:\n",
            "      Successfully uninstalled h5py-3.1.0\n",
            "  Attempting uninstall: tensorflow-estimator\n",
            "    Found existing installation: tensorflow-estimator 2.8.0\n",
            "    Uninstalling tensorflow-estimator-2.8.0:\n",
            "      Successfully uninstalled tensorflow-estimator-2.8.0\n",
            "  Attempting uninstall: tensorboard\n",
            "    Found existing installation: tensorboard 2.8.0\n",
            "    Uninstalling tensorboard-2.8.0:\n",
            "      Successfully uninstalled tensorboard-2.8.0\n",
            "  Attempting uninstall: numba\n",
            "    Found existing installation: numba 0.51.2\n",
            "    Uninstalling numba-0.51.2:\n",
            "      Successfully uninstalled numba-0.51.2\n",
            "  Attempting uninstall: gast\n",
            "    Found existing installation: gast 0.5.3\n",
            "    Uninstalling gast-0.5.3:\n",
            "      Successfully uninstalled gast-0.5.3\n",
            "  Attempting uninstall: tensorflow\n",
            "    Found existing installation: tensorflow 2.8.2+zzzcolab20220719082949\n",
            "    Uninstalling tensorflow-2.8.2+zzzcolab20220719082949:\n",
            "      Successfully uninstalled tensorflow-2.8.2+zzzcolab20220719082949\n",
            "  Attempting uninstall: resampy\n",
            "    Found existing installation: resampy 0.3.1\n",
            "    Uninstalling resampy-0.3.1:\n",
            "      Successfully uninstalled resampy-0.3.1\n",
            "  Attempting uninstall: prettytable\n",
            "    Found existing installation: prettytable 3.3.0\n",
            "    Uninstalling prettytable-3.3.0:\n",
            "      Successfully uninstalled prettytable-3.3.0\n",
            "\u001b[31mERROR: pip's dependency resolver does not currently take into account all the packages that are installed. This behaviour is the source of the following dependency conflicts.\n",
            "xarray-einstats 0.2.2 requires numpy>=1.21, but you have numpy 1.18.5 which is incompatible.\n",
            "tensorflow-probability 0.16.0 requires gast>=0.3.2, but you have gast 0.2.2 which is incompatible.\n",
            "tables 3.7.0 requires numpy>=1.19.0, but you have numpy 1.18.5 which is incompatible.\n",
            "librosa 0.8.1 requires resampy>=0.2.2, but you have resampy 0.2.1 which is incompatible.\n",
            "jaxlib 0.3.14+cuda11.cudnn805 requires numpy>=1.19, but you have numpy 1.18.5 which is incompatible.\n",
            "jax 0.3.14 requires numpy>=1.19, but you have numpy 1.18.5 which is incompatible.\n",
            "datascience 0.10.6 requires folium==0.2.1, but you have folium 0.8.3 which is incompatible.\n",
            "albumentations 0.1.12 requires imgaug<0.2.7,>=0.2.5, but you have imgaug 0.2.9 which is incompatible.\u001b[0m\n",
            "Successfully installed coremltools-3.3 gast-0.2.2 h5py-2.10.0 keras-applications-1.0.8 llvmlite-0.33.0 numba-0.50.1 numpy-1.18.5 prettytable-0.7.2 resampy-0.2.1 tensorboard-2.0.2 tensorflow-2.0.4 tensorflow-estimator-2.0.1 turicreate-6.4.1\n"
          ]
        },
        {
          "output_type": "display_data",
          "data": {
            "application/vnd.colab-display-data+json": {
              "pip_warning": {
                "packages": [
                  "numpy"
                ]
              }
            }
          },
          "metadata": {}
        }
      ]
    },
    {
      "cell_type": "code",
      "execution_count": null,
      "metadata": {
        "id": "GoI1coJLWYII"
      },
      "outputs": [],
      "source": [
        "import pandas as pd\n",
        "import numpy as np\n",
        "import time\n",
        "import turicreate as tc\n",
        "from sklearn.model_selection import train_test_split"
      ]
    },
    {
      "cell_type": "code",
      "source": [
        "df = pd.read_csv('drive/MyDrive/Thesis/data/cleaned_transactions.csv')"
      ],
      "metadata": {
        "id": "7MeSy-eLYij6"
      },
      "execution_count": null,
      "outputs": []
    },
    {
      "cell_type": "code",
      "source": [
        "df=df.drop(axis=1,columns=['t_dat','price','sales_channel_id'])\n",
        "df"
      ],
      "metadata": {
        "colab": {
          "base_uri": "https://localhost:8080/",
          "height": 424
        },
        "id": "TTl8_FyxAJ2R",
        "outputId": "dcf079d8-9a8d-44aa-96f6-f95832f50752"
      },
      "execution_count": null,
      "outputs": [
        {
          "output_type": "execute_result",
          "data": {
            "text/plain": [
              "          Unnamed: 0  user_id  item_id\n",
              "0                 35        0        0\n",
              "1                 36        1        0\n",
              "2                 37        2        0\n",
              "3                 38        3        0\n",
              "4                 39        4        0\n",
              "...              ...      ...      ...\n",
              "17968024    19096018   182334    42372\n",
              "17968025    19096019   305768    42372\n",
              "17968026    19096020   283744    42372\n",
              "17968027    19096021   302297    42372\n",
              "17968028    19096022   262526    42372\n",
              "\n",
              "[17968029 rows x 3 columns]"
            ],
            "text/html": [
              "\n",
              "  <div id=\"df-1ef48604-4465-4f2d-9960-b2d8cbbca97b\">\n",
              "    <div class=\"colab-df-container\">\n",
              "      <div>\n",
              "<style scoped>\n",
              "    .dataframe tbody tr th:only-of-type {\n",
              "        vertical-align: middle;\n",
              "    }\n",
              "\n",
              "    .dataframe tbody tr th {\n",
              "        vertical-align: top;\n",
              "    }\n",
              "\n",
              "    .dataframe thead th {\n",
              "        text-align: right;\n",
              "    }\n",
              "</style>\n",
              "<table border=\"1\" class=\"dataframe\">\n",
              "  <thead>\n",
              "    <tr style=\"text-align: right;\">\n",
              "      <th></th>\n",
              "      <th>Unnamed: 0</th>\n",
              "      <th>user_id</th>\n",
              "      <th>item_id</th>\n",
              "    </tr>\n",
              "  </thead>\n",
              "  <tbody>\n",
              "    <tr>\n",
              "      <th>0</th>\n",
              "      <td>35</td>\n",
              "      <td>0</td>\n",
              "      <td>0</td>\n",
              "    </tr>\n",
              "    <tr>\n",
              "      <th>1</th>\n",
              "      <td>36</td>\n",
              "      <td>1</td>\n",
              "      <td>0</td>\n",
              "    </tr>\n",
              "    <tr>\n",
              "      <th>2</th>\n",
              "      <td>37</td>\n",
              "      <td>2</td>\n",
              "      <td>0</td>\n",
              "    </tr>\n",
              "    <tr>\n",
              "      <th>3</th>\n",
              "      <td>38</td>\n",
              "      <td>3</td>\n",
              "      <td>0</td>\n",
              "    </tr>\n",
              "    <tr>\n",
              "      <th>4</th>\n",
              "      <td>39</td>\n",
              "      <td>4</td>\n",
              "      <td>0</td>\n",
              "    </tr>\n",
              "    <tr>\n",
              "      <th>...</th>\n",
              "      <td>...</td>\n",
              "      <td>...</td>\n",
              "      <td>...</td>\n",
              "    </tr>\n",
              "    <tr>\n",
              "      <th>17968024</th>\n",
              "      <td>19096018</td>\n",
              "      <td>182334</td>\n",
              "      <td>42372</td>\n",
              "    </tr>\n",
              "    <tr>\n",
              "      <th>17968025</th>\n",
              "      <td>19096019</td>\n",
              "      <td>305768</td>\n",
              "      <td>42372</td>\n",
              "    </tr>\n",
              "    <tr>\n",
              "      <th>17968026</th>\n",
              "      <td>19096020</td>\n",
              "      <td>283744</td>\n",
              "      <td>42372</td>\n",
              "    </tr>\n",
              "    <tr>\n",
              "      <th>17968027</th>\n",
              "      <td>19096021</td>\n",
              "      <td>302297</td>\n",
              "      <td>42372</td>\n",
              "    </tr>\n",
              "    <tr>\n",
              "      <th>17968028</th>\n",
              "      <td>19096022</td>\n",
              "      <td>262526</td>\n",
              "      <td>42372</td>\n",
              "    </tr>\n",
              "  </tbody>\n",
              "</table>\n",
              "<p>17968029 rows × 3 columns</p>\n",
              "</div>\n",
              "      <button class=\"colab-df-convert\" onclick=\"convertToInteractive('df-1ef48604-4465-4f2d-9960-b2d8cbbca97b')\"\n",
              "              title=\"Convert this dataframe to an interactive table.\"\n",
              "              style=\"display:none;\">\n",
              "        \n",
              "  <svg xmlns=\"http://www.w3.org/2000/svg\" height=\"24px\"viewBox=\"0 0 24 24\"\n",
              "       width=\"24px\">\n",
              "    <path d=\"M0 0h24v24H0V0z\" fill=\"none\"/>\n",
              "    <path d=\"M18.56 5.44l.94 2.06.94-2.06 2.06-.94-2.06-.94-.94-2.06-.94 2.06-2.06.94zm-11 1L8.5 8.5l.94-2.06 2.06-.94-2.06-.94L8.5 2.5l-.94 2.06-2.06.94zm10 10l.94 2.06.94-2.06 2.06-.94-2.06-.94-.94-2.06-.94 2.06-2.06.94z\"/><path d=\"M17.41 7.96l-1.37-1.37c-.4-.4-.92-.59-1.43-.59-.52 0-1.04.2-1.43.59L10.3 9.45l-7.72 7.72c-.78.78-.78 2.05 0 2.83L4 21.41c.39.39.9.59 1.41.59.51 0 1.02-.2 1.41-.59l7.78-7.78 2.81-2.81c.8-.78.8-2.07 0-2.86zM5.41 20L4 18.59l7.72-7.72 1.47 1.35L5.41 20z\"/>\n",
              "  </svg>\n",
              "      </button>\n",
              "      \n",
              "  <style>\n",
              "    .colab-df-container {\n",
              "      display:flex;\n",
              "      flex-wrap:wrap;\n",
              "      gap: 12px;\n",
              "    }\n",
              "\n",
              "    .colab-df-convert {\n",
              "      background-color: #E8F0FE;\n",
              "      border: none;\n",
              "      border-radius: 50%;\n",
              "      cursor: pointer;\n",
              "      display: none;\n",
              "      fill: #1967D2;\n",
              "      height: 32px;\n",
              "      padding: 0 0 0 0;\n",
              "      width: 32px;\n",
              "    }\n",
              "\n",
              "    .colab-df-convert:hover {\n",
              "      background-color: #E2EBFA;\n",
              "      box-shadow: 0px 1px 2px rgba(60, 64, 67, 0.3), 0px 1px 3px 1px rgba(60, 64, 67, 0.15);\n",
              "      fill: #174EA6;\n",
              "    }\n",
              "\n",
              "    [theme=dark] .colab-df-convert {\n",
              "      background-color: #3B4455;\n",
              "      fill: #D2E3FC;\n",
              "    }\n",
              "\n",
              "    [theme=dark] .colab-df-convert:hover {\n",
              "      background-color: #434B5C;\n",
              "      box-shadow: 0px 1px 3px 1px rgba(0, 0, 0, 0.15);\n",
              "      filter: drop-shadow(0px 1px 2px rgba(0, 0, 0, 0.3));\n",
              "      fill: #FFFFFF;\n",
              "    }\n",
              "  </style>\n",
              "\n",
              "      <script>\n",
              "        const buttonEl =\n",
              "          document.querySelector('#df-1ef48604-4465-4f2d-9960-b2d8cbbca97b button.colab-df-convert');\n",
              "        buttonEl.style.display =\n",
              "          google.colab.kernel.accessAllowed ? 'block' : 'none';\n",
              "\n",
              "        async function convertToInteractive(key) {\n",
              "          const element = document.querySelector('#df-1ef48604-4465-4f2d-9960-b2d8cbbca97b');\n",
              "          const dataTable =\n",
              "            await google.colab.kernel.invokeFunction('convertToInteractive',\n",
              "                                                     [key], {});\n",
              "          if (!dataTable) return;\n",
              "\n",
              "          const docLinkHtml = 'Like what you see? Visit the ' +\n",
              "            '<a target=\"_blank\" href=https://colab.research.google.com/notebooks/data_table.ipynb>data table notebook</a>'\n",
              "            + ' to learn more about interactive tables.';\n",
              "          element.innerHTML = '';\n",
              "          dataTable['output_type'] = 'display_data';\n",
              "          await google.colab.output.renderOutput(dataTable, element);\n",
              "          const docLink = document.createElement('div');\n",
              "          docLink.innerHTML = docLinkHtml;\n",
              "          element.appendChild(docLink);\n",
              "        }\n",
              "      </script>\n",
              "    </div>\n",
              "  </div>\n",
              "  "
            ]
          },
          "metadata": {},
          "execution_count": 4
        }
      ]
    },
    {
      "cell_type": "code",
      "source": [
        "df = df.loc[:,'user_id':]\n",
        "df"
      ],
      "metadata": {
        "colab": {
          "base_uri": "https://localhost:8080/",
          "height": 424
        },
        "id": "WX3X8Rx5Ic17",
        "outputId": "4b103ef6-d9bd-4376-8b78-73db01aae125"
      },
      "execution_count": null,
      "outputs": [
        {
          "output_type": "execute_result",
          "data": {
            "text/plain": [
              "          user_id  item_id\n",
              "0               0        0\n",
              "1               1        0\n",
              "2               2        0\n",
              "3               3        0\n",
              "4               4        0\n",
              "...           ...      ...\n",
              "17968024   182334    42372\n",
              "17968025   305768    42372\n",
              "17968026   283744    42372\n",
              "17968027   302297    42372\n",
              "17968028   262526    42372\n",
              "\n",
              "[17968029 rows x 2 columns]"
            ],
            "text/html": [
              "\n",
              "  <div id=\"df-7883fb84-2d41-4662-9c93-8b7adfd162e1\">\n",
              "    <div class=\"colab-df-container\">\n",
              "      <div>\n",
              "<style scoped>\n",
              "    .dataframe tbody tr th:only-of-type {\n",
              "        vertical-align: middle;\n",
              "    }\n",
              "\n",
              "    .dataframe tbody tr th {\n",
              "        vertical-align: top;\n",
              "    }\n",
              "\n",
              "    .dataframe thead th {\n",
              "        text-align: right;\n",
              "    }\n",
              "</style>\n",
              "<table border=\"1\" class=\"dataframe\">\n",
              "  <thead>\n",
              "    <tr style=\"text-align: right;\">\n",
              "      <th></th>\n",
              "      <th>user_id</th>\n",
              "      <th>item_id</th>\n",
              "    </tr>\n",
              "  </thead>\n",
              "  <tbody>\n",
              "    <tr>\n",
              "      <th>0</th>\n",
              "      <td>0</td>\n",
              "      <td>0</td>\n",
              "    </tr>\n",
              "    <tr>\n",
              "      <th>1</th>\n",
              "      <td>1</td>\n",
              "      <td>0</td>\n",
              "    </tr>\n",
              "    <tr>\n",
              "      <th>2</th>\n",
              "      <td>2</td>\n",
              "      <td>0</td>\n",
              "    </tr>\n",
              "    <tr>\n",
              "      <th>3</th>\n",
              "      <td>3</td>\n",
              "      <td>0</td>\n",
              "    </tr>\n",
              "    <tr>\n",
              "      <th>4</th>\n",
              "      <td>4</td>\n",
              "      <td>0</td>\n",
              "    </tr>\n",
              "    <tr>\n",
              "      <th>...</th>\n",
              "      <td>...</td>\n",
              "      <td>...</td>\n",
              "    </tr>\n",
              "    <tr>\n",
              "      <th>17968024</th>\n",
              "      <td>182334</td>\n",
              "      <td>42372</td>\n",
              "    </tr>\n",
              "    <tr>\n",
              "      <th>17968025</th>\n",
              "      <td>305768</td>\n",
              "      <td>42372</td>\n",
              "    </tr>\n",
              "    <tr>\n",
              "      <th>17968026</th>\n",
              "      <td>283744</td>\n",
              "      <td>42372</td>\n",
              "    </tr>\n",
              "    <tr>\n",
              "      <th>17968027</th>\n",
              "      <td>302297</td>\n",
              "      <td>42372</td>\n",
              "    </tr>\n",
              "    <tr>\n",
              "      <th>17968028</th>\n",
              "      <td>262526</td>\n",
              "      <td>42372</td>\n",
              "    </tr>\n",
              "  </tbody>\n",
              "</table>\n",
              "<p>17968029 rows × 2 columns</p>\n",
              "</div>\n",
              "      <button class=\"colab-df-convert\" onclick=\"convertToInteractive('df-7883fb84-2d41-4662-9c93-8b7adfd162e1')\"\n",
              "              title=\"Convert this dataframe to an interactive table.\"\n",
              "              style=\"display:none;\">\n",
              "        \n",
              "  <svg xmlns=\"http://www.w3.org/2000/svg\" height=\"24px\"viewBox=\"0 0 24 24\"\n",
              "       width=\"24px\">\n",
              "    <path d=\"M0 0h24v24H0V0z\" fill=\"none\"/>\n",
              "    <path d=\"M18.56 5.44l.94 2.06.94-2.06 2.06-.94-2.06-.94-.94-2.06-.94 2.06-2.06.94zm-11 1L8.5 8.5l.94-2.06 2.06-.94-2.06-.94L8.5 2.5l-.94 2.06-2.06.94zm10 10l.94 2.06.94-2.06 2.06-.94-2.06-.94-.94-2.06-.94 2.06-2.06.94z\"/><path d=\"M17.41 7.96l-1.37-1.37c-.4-.4-.92-.59-1.43-.59-.52 0-1.04.2-1.43.59L10.3 9.45l-7.72 7.72c-.78.78-.78 2.05 0 2.83L4 21.41c.39.39.9.59 1.41.59.51 0 1.02-.2 1.41-.59l7.78-7.78 2.81-2.81c.8-.78.8-2.07 0-2.86zM5.41 20L4 18.59l7.72-7.72 1.47 1.35L5.41 20z\"/>\n",
              "  </svg>\n",
              "      </button>\n",
              "      \n",
              "  <style>\n",
              "    .colab-df-container {\n",
              "      display:flex;\n",
              "      flex-wrap:wrap;\n",
              "      gap: 12px;\n",
              "    }\n",
              "\n",
              "    .colab-df-convert {\n",
              "      background-color: #E8F0FE;\n",
              "      border: none;\n",
              "      border-radius: 50%;\n",
              "      cursor: pointer;\n",
              "      display: none;\n",
              "      fill: #1967D2;\n",
              "      height: 32px;\n",
              "      padding: 0 0 0 0;\n",
              "      width: 32px;\n",
              "    }\n",
              "\n",
              "    .colab-df-convert:hover {\n",
              "      background-color: #E2EBFA;\n",
              "      box-shadow: 0px 1px 2px rgba(60, 64, 67, 0.3), 0px 1px 3px 1px rgba(60, 64, 67, 0.15);\n",
              "      fill: #174EA6;\n",
              "    }\n",
              "\n",
              "    [theme=dark] .colab-df-convert {\n",
              "      background-color: #3B4455;\n",
              "      fill: #D2E3FC;\n",
              "    }\n",
              "\n",
              "    [theme=dark] .colab-df-convert:hover {\n",
              "      background-color: #434B5C;\n",
              "      box-shadow: 0px 1px 3px 1px rgba(0, 0, 0, 0.15);\n",
              "      filter: drop-shadow(0px 1px 2px rgba(0, 0, 0, 0.3));\n",
              "      fill: #FFFFFF;\n",
              "    }\n",
              "  </style>\n",
              "\n",
              "      <script>\n",
              "        const buttonEl =\n",
              "          document.querySelector('#df-7883fb84-2d41-4662-9c93-8b7adfd162e1 button.colab-df-convert');\n",
              "        buttonEl.style.display =\n",
              "          google.colab.kernel.accessAllowed ? 'block' : 'none';\n",
              "\n",
              "        async function convertToInteractive(key) {\n",
              "          const element = document.querySelector('#df-7883fb84-2d41-4662-9c93-8b7adfd162e1');\n",
              "          const dataTable =\n",
              "            await google.colab.kernel.invokeFunction('convertToInteractive',\n",
              "                                                     [key], {});\n",
              "          if (!dataTable) return;\n",
              "\n",
              "          const docLinkHtml = 'Like what you see? Visit the ' +\n",
              "            '<a target=\"_blank\" href=https://colab.research.google.com/notebooks/data_table.ipynb>data table notebook</a>'\n",
              "            + ' to learn more about interactive tables.';\n",
              "          element.innerHTML = '';\n",
              "          dataTable['output_type'] = 'display_data';\n",
              "          await google.colab.output.renderOutput(dataTable, element);\n",
              "          const docLink = document.createElement('div');\n",
              "          docLink.innerHTML = docLinkHtml;\n",
              "          element.appendChild(docLink);\n",
              "        }\n",
              "      </script>\n",
              "    </div>\n",
              "  </div>\n",
              "  "
            ]
          },
          "metadata": {},
          "execution_count": 5
        }
      ]
    },
    {
      "cell_type": "code",
      "source": [
        "df.shape"
      ],
      "metadata": {
        "colab": {
          "base_uri": "https://localhost:8080/"
        },
        "id": "YrO-dwgd6qq6",
        "outputId": "6557fc5d-9cb5-4352-f8f8-133347adbdb2"
      },
      "execution_count": null,
      "outputs": [
        {
          "output_type": "execute_result",
          "data": {
            "text/plain": [
              "(17968029, 2)"
            ]
          },
          "metadata": {},
          "execution_count": 6
        }
      ]
    },
    {
      "cell_type": "code",
      "source": [
        "# create an SFrame out of df\n",
        "dfS = tc.SFrame(df)\n",
        "dfS"
      ],
      "metadata": {
        "colab": {
          "base_uri": "https://localhost:8080/",
          "height": 284
        },
        "id": "CyroU-2BKKJ9",
        "outputId": "8e42cf59-0571-4b64-df50-cea9f4c43694"
      },
      "execution_count": null,
      "outputs": [
        {
          "output_type": "execute_result",
          "data": {
            "text/plain": [
              "Columns:\n",
              "\tuser_id\tint\n",
              "\titem_id\tint\n",
              "\n",
              "Rows: 17968029\n",
              "\n",
              "Data:\n",
              "+---------+---------+\n",
              "| user_id | item_id |\n",
              "+---------+---------+\n",
              "|    0    |    0    |\n",
              "|    1    |    0    |\n",
              "|    2    |    0    |\n",
              "|    3    |    0    |\n",
              "|    4    |    0    |\n",
              "|    5    |    0    |\n",
              "|    6    |    0    |\n",
              "|    7    |    0    |\n",
              "|    8    |    0    |\n",
              "|    9    |    0    |\n",
              "+---------+---------+\n",
              "[17968029 rows x 2 columns]\n",
              "Note: Only the head of the SFrame is printed.\n",
              "You can use print_rows(num_rows=m, num_columns=n) to print more rows and columns."
            ],
            "text/html": [
              "<div style=\"max-height:1000px;max-width:1500px;overflow:auto;\"><table frame=\"box\" rules=\"cols\">\n",
              "    <tr>\n",
              "        <th style=\"padding-left: 1em; padding-right: 1em; text-align: center\">user_id</th>\n",
              "        <th style=\"padding-left: 1em; padding-right: 1em; text-align: center\">item_id</th>\n",
              "    </tr>\n",
              "    <tr>\n",
              "        <td style=\"padding-left: 1em; padding-right: 1em; text-align: center; vertical-align: top\">0</td>\n",
              "        <td style=\"padding-left: 1em; padding-right: 1em; text-align: center; vertical-align: top\">0</td>\n",
              "    </tr>\n",
              "    <tr>\n",
              "        <td style=\"padding-left: 1em; padding-right: 1em; text-align: center; vertical-align: top\">1</td>\n",
              "        <td style=\"padding-left: 1em; padding-right: 1em; text-align: center; vertical-align: top\">0</td>\n",
              "    </tr>\n",
              "    <tr>\n",
              "        <td style=\"padding-left: 1em; padding-right: 1em; text-align: center; vertical-align: top\">2</td>\n",
              "        <td style=\"padding-left: 1em; padding-right: 1em; text-align: center; vertical-align: top\">0</td>\n",
              "    </tr>\n",
              "    <tr>\n",
              "        <td style=\"padding-left: 1em; padding-right: 1em; text-align: center; vertical-align: top\">3</td>\n",
              "        <td style=\"padding-left: 1em; padding-right: 1em; text-align: center; vertical-align: top\">0</td>\n",
              "    </tr>\n",
              "    <tr>\n",
              "        <td style=\"padding-left: 1em; padding-right: 1em; text-align: center; vertical-align: top\">4</td>\n",
              "        <td style=\"padding-left: 1em; padding-right: 1em; text-align: center; vertical-align: top\">0</td>\n",
              "    </tr>\n",
              "    <tr>\n",
              "        <td style=\"padding-left: 1em; padding-right: 1em; text-align: center; vertical-align: top\">5</td>\n",
              "        <td style=\"padding-left: 1em; padding-right: 1em; text-align: center; vertical-align: top\">0</td>\n",
              "    </tr>\n",
              "    <tr>\n",
              "        <td style=\"padding-left: 1em; padding-right: 1em; text-align: center; vertical-align: top\">6</td>\n",
              "        <td style=\"padding-left: 1em; padding-right: 1em; text-align: center; vertical-align: top\">0</td>\n",
              "    </tr>\n",
              "    <tr>\n",
              "        <td style=\"padding-left: 1em; padding-right: 1em; text-align: center; vertical-align: top\">7</td>\n",
              "        <td style=\"padding-left: 1em; padding-right: 1em; text-align: center; vertical-align: top\">0</td>\n",
              "    </tr>\n",
              "    <tr>\n",
              "        <td style=\"padding-left: 1em; padding-right: 1em; text-align: center; vertical-align: top\">8</td>\n",
              "        <td style=\"padding-left: 1em; padding-right: 1em; text-align: center; vertical-align: top\">0</td>\n",
              "    </tr>\n",
              "    <tr>\n",
              "        <td style=\"padding-left: 1em; padding-right: 1em; text-align: center; vertical-align: top\">9</td>\n",
              "        <td style=\"padding-left: 1em; padding-right: 1em; text-align: center; vertical-align: top\">0</td>\n",
              "    </tr>\n",
              "</table>\n",
              "[17968029 rows x 2 columns]<br/>Note: Only the head of the SFrame is printed.<br/>You can use print_rows(num_rows=m, num_columns=n) to print more rows and columns.\n",
              "</div>"
            ]
          },
          "metadata": {},
          "execution_count": 7
        }
      ]
    },
    {
      "cell_type": "code",
      "source": [
        "# split data into train and test\n",
        "df_train, df_test = tc.recommender.util.random_split_by_user(dfS,\n",
        "                                                             max_num_users=90000,\n",
        "                                                             item_test_proportion=0.3,\n",
        "                                                             random_seed=20)"
      ],
      "metadata": {
        "id": "niMDSgVMcaD4"
      },
      "execution_count": null,
      "outputs": []
    },
    {
      "cell_type": "code",
      "source": [
        "df_train.shape"
      ],
      "metadata": {
        "colab": {
          "base_uri": "https://localhost:8080/"
        },
        "id": "c6GOVqx38HcR",
        "outputId": "14cf4826-fa8e-4eaf-eb4b-b8899198f591"
      },
      "execution_count": null,
      "outputs": [
        {
          "output_type": "execute_result",
          "data": {
            "text/plain": [
              "(16380622, 2)"
            ]
          },
          "metadata": {},
          "execution_count": 9
        }
      ]
    },
    {
      "cell_type": "code",
      "source": [
        "df_test.shape"
      ],
      "metadata": {
        "colab": {
          "base_uri": "https://localhost:8080/"
        },
        "id": "tI98_dUt9Cp0",
        "outputId": "419b1ef9-bce4-4e0a-852b-3c95e3988b58"
      },
      "execution_count": null,
      "outputs": [
        {
          "output_type": "execute_result",
          "data": {
            "text/plain": [
              "(1587407, 2)"
            ]
          },
          "metadata": {},
          "execution_count": 10
        }
      ]
    },
    {
      "cell_type": "markdown",
      "source": [
        "# 1 Item similarity recommender"
      ],
      "metadata": {
        "id": "ax5B8LaoKh7G"
      }
    },
    {
      "cell_type": "markdown",
      "source": [
        "## 1-1 Cosine Similarity"
      ],
      "metadata": {
        "id": "W8vRBnjrKxYc"
      }
    },
    {
      "cell_type": "code",
      "source": [
        "cosine = tc.item_similarity_recommender.create(df_train, \n",
        "                                              user_id='user_id', \n",
        "                                              item_id='item_id',\n",
        "                                              similarity_type='cosine')\n",
        "# recommend k products for a list of users (None corresponds to all users) \n",
        "recommendation = cosine.recommend(users=None, k=12)\n",
        "# print the n first recommendations\n",
        "recommendation.print_rows(30)"
      ],
      "metadata": {
        "colab": {
          "base_uri": "https://localhost:8080/",
          "height": 1000
        },
        "id": "OCDBsZYF9GMW",
        "outputId": "544d139d-7123-4f01-900a-70a4609d957e"
      },
      "execution_count": null,
      "outputs": [
        {
          "output_type": "display_data",
          "data": {
            "text/plain": [
              "Preparing data set."
            ],
            "text/html": [
              "<pre>Preparing data set.</pre>"
            ]
          },
          "metadata": {}
        },
        {
          "output_type": "display_data",
          "data": {
            "text/plain": [
              "    Data has 16380622 observations with 305945 users and 42373 items."
            ],
            "text/html": [
              "<pre>    Data has 16380622 observations with 305945 users and 42373 items.</pre>"
            ]
          },
          "metadata": {}
        },
        {
          "output_type": "display_data",
          "data": {
            "text/plain": [
              "    Data prepared in: 15.7531s"
            ],
            "text/html": [
              "<pre>    Data prepared in: 15.7531s</pre>"
            ]
          },
          "metadata": {}
        },
        {
          "output_type": "display_data",
          "data": {
            "text/plain": [
              "Training model from provided data."
            ],
            "text/html": [
              "<pre>Training model from provided data.</pre>"
            ]
          },
          "metadata": {}
        },
        {
          "output_type": "display_data",
          "data": {
            "text/plain": [
              "Gathering per-item and per-user statistics."
            ],
            "text/html": [
              "<pre>Gathering per-item and per-user statistics.</pre>"
            ]
          },
          "metadata": {}
        },
        {
          "output_type": "display_data",
          "data": {
            "text/plain": [
              "+--------------------------------+------------+"
            ],
            "text/html": [
              "<pre>+--------------------------------+------------+</pre>"
            ]
          },
          "metadata": {}
        },
        {
          "output_type": "display_data",
          "data": {
            "text/plain": [
              "| Elapsed Time (Item Statistics) | % Complete |"
            ],
            "text/html": [
              "<pre>| Elapsed Time (Item Statistics) | % Complete |</pre>"
            ]
          },
          "metadata": {}
        },
        {
          "output_type": "display_data",
          "data": {
            "text/plain": [
              "+--------------------------------+------------+"
            ],
            "text/html": [
              "<pre>+--------------------------------+------------+</pre>"
            ]
          },
          "metadata": {}
        },
        {
          "output_type": "display_data",
          "data": {
            "text/plain": [
              "| 4.785ms                        | 0.25       |"
            ],
            "text/html": [
              "<pre>| 4.785ms                        | 0.25       |</pre>"
            ]
          },
          "metadata": {}
        },
        {
          "output_type": "display_data",
          "data": {
            "text/plain": [
              "| 640.772ms                      | 100        |"
            ],
            "text/html": [
              "<pre>| 640.772ms                      | 100        |</pre>"
            ]
          },
          "metadata": {}
        },
        {
          "output_type": "display_data",
          "data": {
            "text/plain": [
              "+--------------------------------+------------+"
            ],
            "text/html": [
              "<pre>+--------------------------------+------------+</pre>"
            ]
          },
          "metadata": {}
        },
        {
          "output_type": "display_data",
          "data": {
            "text/plain": [
              "Setting up lookup tables."
            ],
            "text/html": [
              "<pre>Setting up lookup tables.</pre>"
            ]
          },
          "metadata": {}
        },
        {
          "output_type": "display_data",
          "data": {
            "text/plain": [
              "Processing data in one pass using dense lookup tables."
            ],
            "text/html": [
              "<pre>Processing data in one pass using dense lookup tables.</pre>"
            ]
          },
          "metadata": {}
        },
        {
          "output_type": "display_data",
          "data": {
            "text/plain": [
              "+-------------------------------------+------------------+-----------------+"
            ],
            "text/html": [
              "<pre>+-------------------------------------+------------------+-----------------+</pre>"
            ]
          },
          "metadata": {}
        },
        {
          "output_type": "display_data",
          "data": {
            "text/plain": [
              "| Elapsed Time (Constructing Lookups) | Total % Complete | Items Processed |"
            ],
            "text/html": [
              "<pre>| Elapsed Time (Constructing Lookups) | Total % Complete | Items Processed |</pre>"
            ]
          },
          "metadata": {}
        },
        {
          "output_type": "display_data",
          "data": {
            "text/plain": [
              "+-------------------------------------+------------------+-----------------+"
            ],
            "text/html": [
              "<pre>+-------------------------------------+------------------+-----------------+</pre>"
            ]
          },
          "metadata": {}
        },
        {
          "output_type": "display_data",
          "data": {
            "text/plain": [
              "| 3.65s                               | 0                | 0               |"
            ],
            "text/html": [
              "<pre>| 3.65s                               | 0                | 0               |</pre>"
            ]
          },
          "metadata": {}
        },
        {
          "output_type": "display_data",
          "data": {
            "text/plain": [
              "| 6.65s                               | 7.5              | 3213            |"
            ],
            "text/html": [
              "<pre>| 6.65s                               | 7.5              | 3213            |</pre>"
            ]
          },
          "metadata": {}
        },
        {
          "output_type": "display_data",
          "data": {
            "text/plain": [
              "| 9.65s                               | 15               | 6395            |"
            ],
            "text/html": [
              "<pre>| 9.65s                               | 15               | 6395            |</pre>"
            ]
          },
          "metadata": {}
        },
        {
          "output_type": "display_data",
          "data": {
            "text/plain": [
              "| 12.65s                              | 22.5             | 9560            |"
            ],
            "text/html": [
              "<pre>| 12.65s                              | 22.5             | 9560            |</pre>"
            ]
          },
          "metadata": {}
        },
        {
          "output_type": "display_data",
          "data": {
            "text/plain": [
              "| 15.65s                              | 30               | 12724           |"
            ],
            "text/html": [
              "<pre>| 15.65s                              | 30               | 12724           |</pre>"
            ]
          },
          "metadata": {}
        },
        {
          "output_type": "display_data",
          "data": {
            "text/plain": [
              "| 18.65s                              | 37.25            | 15846           |"
            ],
            "text/html": [
              "<pre>| 18.65s                              | 37.25            | 15846           |</pre>"
            ]
          },
          "metadata": {}
        },
        {
          "output_type": "display_data",
          "data": {
            "text/plain": [
              "| 21.65s                              | 44.75            | 18963           |"
            ],
            "text/html": [
              "<pre>| 21.65s                              | 44.75            | 18963           |</pre>"
            ]
          },
          "metadata": {}
        },
        {
          "output_type": "display_data",
          "data": {
            "text/plain": [
              "| 24.65s                              | 52               | 22059           |"
            ],
            "text/html": [
              "<pre>| 24.65s                              | 52               | 22059           |</pre>"
            ]
          },
          "metadata": {}
        },
        {
          "output_type": "display_data",
          "data": {
            "text/plain": [
              "| 27.65s                              | 59.25            | 25128           |"
            ],
            "text/html": [
              "<pre>| 27.65s                              | 59.25            | 25128           |</pre>"
            ]
          },
          "metadata": {}
        },
        {
          "output_type": "display_data",
          "data": {
            "text/plain": [
              "| 30.65s                              | 66.25            | 28151           |"
            ],
            "text/html": [
              "<pre>| 30.65s                              | 66.25            | 28151           |</pre>"
            ]
          },
          "metadata": {}
        },
        {
          "output_type": "display_data",
          "data": {
            "text/plain": [
              "| 33.65s                              | 71               | 30149           |"
            ],
            "text/html": [
              "<pre>| 33.65s                              | 71               | 30149           |</pre>"
            ]
          },
          "metadata": {}
        },
        {
          "output_type": "display_data",
          "data": {
            "text/plain": [
              "| 36.65s                              | 78.25            | 33167           |"
            ],
            "text/html": [
              "<pre>| 36.65s                              | 78.25            | 33167           |</pre>"
            ]
          },
          "metadata": {}
        },
        {
          "output_type": "display_data",
          "data": {
            "text/plain": [
              "| 39.65s                              | 85.25            | 36154           |"
            ],
            "text/html": [
              "<pre>| 39.65s                              | 85.25            | 36154           |</pre>"
            ]
          },
          "metadata": {}
        },
        {
          "output_type": "display_data",
          "data": {
            "text/plain": [
              "| 42.65s                              | 92               | 39070           |"
            ],
            "text/html": [
              "<pre>| 42.65s                              | 92               | 39070           |</pre>"
            ]
          },
          "metadata": {}
        },
        {
          "output_type": "display_data",
          "data": {
            "text/plain": [
              "| 45.65s                              | 98.75            | 41938           |"
            ],
            "text/html": [
              "<pre>| 45.65s                              | 98.75            | 41938           |</pre>"
            ]
          },
          "metadata": {}
        },
        {
          "output_type": "display_data",
          "data": {
            "text/plain": [
              "| 1m 6s                               | 100              | 42373           |"
            ],
            "text/html": [
              "<pre>| 1m 6s                               | 100              | 42373           |</pre>"
            ]
          },
          "metadata": {}
        },
        {
          "output_type": "display_data",
          "data": {
            "text/plain": [
              "+-------------------------------------+------------------+-----------------+"
            ],
            "text/html": [
              "<pre>+-------------------------------------+------------------+-----------------+</pre>"
            ]
          },
          "metadata": {}
        },
        {
          "output_type": "display_data",
          "data": {
            "text/plain": [
              "Finalizing lookup tables."
            ],
            "text/html": [
              "<pre>Finalizing lookup tables.</pre>"
            ]
          },
          "metadata": {}
        },
        {
          "output_type": "display_data",
          "data": {
            "text/plain": [
              "Generating candidate set for working with new users."
            ],
            "text/html": [
              "<pre>Generating candidate set for working with new users.</pre>"
            ]
          },
          "metadata": {}
        },
        {
          "output_type": "display_data",
          "data": {
            "text/plain": [
              "Finished training in 68.3353s"
            ],
            "text/html": [
              "<pre>Finished training in 68.3353s</pre>"
            ]
          },
          "metadata": {}
        },
        {
          "output_type": "display_data",
          "data": {
            "text/plain": [
              "recommendations finished on 1000/305945 queries. users per second: 1718.82"
            ],
            "text/html": [
              "<pre>recommendations finished on 1000/305945 queries. users per second: 1718.82</pre>"
            ]
          },
          "metadata": {}
        },
        {
          "output_type": "display_data",
          "data": {
            "text/plain": [
              "recommendations finished on 2000/305945 queries. users per second: 1703.52"
            ],
            "text/html": [
              "<pre>recommendations finished on 2000/305945 queries. users per second: 1703.52</pre>"
            ]
          },
          "metadata": {}
        },
        {
          "output_type": "display_data",
          "data": {
            "text/plain": [
              "recommendations finished on 3000/305945 queries. users per second: 1604.7"
            ],
            "text/html": [
              "<pre>recommendations finished on 3000/305945 queries. users per second: 1604.7</pre>"
            ]
          },
          "metadata": {}
        },
        {
          "output_type": "display_data",
          "data": {
            "text/plain": [
              "recommendations finished on 4000/305945 queries. users per second: 1380.95"
            ],
            "text/html": [
              "<pre>recommendations finished on 4000/305945 queries. users per second: 1380.95</pre>"
            ]
          },
          "metadata": {}
        },
        {
          "output_type": "display_data",
          "data": {
            "text/plain": [
              "recommendations finished on 5000/305945 queries. users per second: 1287.01"
            ],
            "text/html": [
              "<pre>recommendations finished on 5000/305945 queries. users per second: 1287.01</pre>"
            ]
          },
          "metadata": {}
        },
        {
          "output_type": "display_data",
          "data": {
            "text/plain": [
              "recommendations finished on 6000/305945 queries. users per second: 1239"
            ],
            "text/html": [
              "<pre>recommendations finished on 6000/305945 queries. users per second: 1239</pre>"
            ]
          },
          "metadata": {}
        },
        {
          "output_type": "display_data",
          "data": {
            "text/plain": [
              "recommendations finished on 7000/305945 queries. users per second: 1182.7"
            ],
            "text/html": [
              "<pre>recommendations finished on 7000/305945 queries. users per second: 1182.7</pre>"
            ]
          },
          "metadata": {}
        },
        {
          "output_type": "display_data",
          "data": {
            "text/plain": [
              "recommendations finished on 8000/305945 queries. users per second: 1200.93"
            ],
            "text/html": [
              "<pre>recommendations finished on 8000/305945 queries. users per second: 1200.93</pre>"
            ]
          },
          "metadata": {}
        },
        {
          "output_type": "display_data",
          "data": {
            "text/plain": [
              "recommendations finished on 9000/305945 queries. users per second: 1236.79"
            ],
            "text/html": [
              "<pre>recommendations finished on 9000/305945 queries. users per second: 1236.79</pre>"
            ]
          },
          "metadata": {}
        },
        {
          "output_type": "display_data",
          "data": {
            "text/plain": [
              "recommendations finished on 10000/305945 queries. users per second: 1272.25"
            ],
            "text/html": [
              "<pre>recommendations finished on 10000/305945 queries. users per second: 1272.25</pre>"
            ]
          },
          "metadata": {}
        },
        {
          "output_type": "display_data",
          "data": {
            "text/plain": [
              "recommendations finished on 11000/305945 queries. users per second: 1301.95"
            ],
            "text/html": [
              "<pre>recommendations finished on 11000/305945 queries. users per second: 1301.95</pre>"
            ]
          },
          "metadata": {}
        },
        {
          "output_type": "display_data",
          "data": {
            "text/plain": [
              "recommendations finished on 12000/305945 queries. users per second: 1328.85"
            ],
            "text/html": [
              "<pre>recommendations finished on 12000/305945 queries. users per second: 1328.85</pre>"
            ]
          },
          "metadata": {}
        },
        {
          "output_type": "display_data",
          "data": {
            "text/plain": [
              "recommendations finished on 13000/305945 queries. users per second: 1351.82"
            ],
            "text/html": [
              "<pre>recommendations finished on 13000/305945 queries. users per second: 1351.82</pre>"
            ]
          },
          "metadata": {}
        },
        {
          "output_type": "display_data",
          "data": {
            "text/plain": [
              "recommendations finished on 14000/305945 queries. users per second: 1373.48"
            ],
            "text/html": [
              "<pre>recommendations finished on 14000/305945 queries. users per second: 1373.48</pre>"
            ]
          },
          "metadata": {}
        },
        {
          "output_type": "display_data",
          "data": {
            "text/plain": [
              "recommendations finished on 15000/305945 queries. users per second: 1392.05"
            ],
            "text/html": [
              "<pre>recommendations finished on 15000/305945 queries. users per second: 1392.05</pre>"
            ]
          },
          "metadata": {}
        },
        {
          "output_type": "display_data",
          "data": {
            "text/plain": [
              "recommendations finished on 16000/305945 queries. users per second: 1406.42"
            ],
            "text/html": [
              "<pre>recommendations finished on 16000/305945 queries. users per second: 1406.42</pre>"
            ]
          },
          "metadata": {}
        },
        {
          "output_type": "display_data",
          "data": {
            "text/plain": [
              "recommendations finished on 17000/305945 queries. users per second: 1421.34"
            ],
            "text/html": [
              "<pre>recommendations finished on 17000/305945 queries. users per second: 1421.34</pre>"
            ]
          },
          "metadata": {}
        },
        {
          "output_type": "display_data",
          "data": {
            "text/plain": [
              "recommendations finished on 18000/305945 queries. users per second: 1433.13"
            ],
            "text/html": [
              "<pre>recommendations finished on 18000/305945 queries. users per second: 1433.13</pre>"
            ]
          },
          "metadata": {}
        },
        {
          "output_type": "display_data",
          "data": {
            "text/plain": [
              "recommendations finished on 19000/305945 queries. users per second: 1445.1"
            ],
            "text/html": [
              "<pre>recommendations finished on 19000/305945 queries. users per second: 1445.1</pre>"
            ]
          },
          "metadata": {}
        },
        {
          "output_type": "display_data",
          "data": {
            "text/plain": [
              "recommendations finished on 20000/305945 queries. users per second: 1454.39"
            ],
            "text/html": [
              "<pre>recommendations finished on 20000/305945 queries. users per second: 1454.39</pre>"
            ]
          },
          "metadata": {}
        },
        {
          "output_type": "display_data",
          "data": {
            "text/plain": [
              "recommendations finished on 21000/305945 queries. users per second: 1462.88"
            ],
            "text/html": [
              "<pre>recommendations finished on 21000/305945 queries. users per second: 1462.88</pre>"
            ]
          },
          "metadata": {}
        },
        {
          "output_type": "display_data",
          "data": {
            "text/plain": [
              "recommendations finished on 22000/305945 queries. users per second: 1471.14"
            ],
            "text/html": [
              "<pre>recommendations finished on 22000/305945 queries. users per second: 1471.14</pre>"
            ]
          },
          "metadata": {}
        },
        {
          "output_type": "display_data",
          "data": {
            "text/plain": [
              "recommendations finished on 23000/305945 queries. users per second: 1481.06"
            ],
            "text/html": [
              "<pre>recommendations finished on 23000/305945 queries. users per second: 1481.06</pre>"
            ]
          },
          "metadata": {}
        },
        {
          "output_type": "display_data",
          "data": {
            "text/plain": [
              "recommendations finished on 24000/305945 queries. users per second: 1489.52"
            ],
            "text/html": [
              "<pre>recommendations finished on 24000/305945 queries. users per second: 1489.52</pre>"
            ]
          },
          "metadata": {}
        },
        {
          "output_type": "display_data",
          "data": {
            "text/plain": [
              "recommendations finished on 25000/305945 queries. users per second: 1496.9"
            ],
            "text/html": [
              "<pre>recommendations finished on 25000/305945 queries. users per second: 1496.9</pre>"
            ]
          },
          "metadata": {}
        },
        {
          "output_type": "display_data",
          "data": {
            "text/plain": [
              "recommendations finished on 26000/305945 queries. users per second: 1505.14"
            ],
            "text/html": [
              "<pre>recommendations finished on 26000/305945 queries. users per second: 1505.14</pre>"
            ]
          },
          "metadata": {}
        },
        {
          "output_type": "display_data",
          "data": {
            "text/plain": [
              "recommendations finished on 27000/305945 queries. users per second: 1511.81"
            ],
            "text/html": [
              "<pre>recommendations finished on 27000/305945 queries. users per second: 1511.81</pre>"
            ]
          },
          "metadata": {}
        },
        {
          "output_type": "display_data",
          "data": {
            "text/plain": [
              "recommendations finished on 28000/305945 queries. users per second: 1517.81"
            ],
            "text/html": [
              "<pre>recommendations finished on 28000/305945 queries. users per second: 1517.81</pre>"
            ]
          },
          "metadata": {}
        },
        {
          "output_type": "display_data",
          "data": {
            "text/plain": [
              "recommendations finished on 29000/305945 queries. users per second: 1523.38"
            ],
            "text/html": [
              "<pre>recommendations finished on 29000/305945 queries. users per second: 1523.38</pre>"
            ]
          },
          "metadata": {}
        },
        {
          "output_type": "display_data",
          "data": {
            "text/plain": [
              "recommendations finished on 30000/305945 queries. users per second: 1528.49"
            ],
            "text/html": [
              "<pre>recommendations finished on 30000/305945 queries. users per second: 1528.49</pre>"
            ]
          },
          "metadata": {}
        },
        {
          "output_type": "display_data",
          "data": {
            "text/plain": [
              "recommendations finished on 31000/305945 queries. users per second: 1533.52"
            ],
            "text/html": [
              "<pre>recommendations finished on 31000/305945 queries. users per second: 1533.52</pre>"
            ]
          },
          "metadata": {}
        },
        {
          "output_type": "display_data",
          "data": {
            "text/plain": [
              "recommendations finished on 32000/305945 queries. users per second: 1538.03"
            ],
            "text/html": [
              "<pre>recommendations finished on 32000/305945 queries. users per second: 1538.03</pre>"
            ]
          },
          "metadata": {}
        },
        {
          "output_type": "display_data",
          "data": {
            "text/plain": [
              "recommendations finished on 33000/305945 queries. users per second: 1542.65"
            ],
            "text/html": [
              "<pre>recommendations finished on 33000/305945 queries. users per second: 1542.65</pre>"
            ]
          },
          "metadata": {}
        },
        {
          "output_type": "display_data",
          "data": {
            "text/plain": [
              "recommendations finished on 34000/305945 queries. users per second: 1546.65"
            ],
            "text/html": [
              "<pre>recommendations finished on 34000/305945 queries. users per second: 1546.65</pre>"
            ]
          },
          "metadata": {}
        },
        {
          "output_type": "display_data",
          "data": {
            "text/plain": [
              "recommendations finished on 35000/305945 queries. users per second: 1550.61"
            ],
            "text/html": [
              "<pre>recommendations finished on 35000/305945 queries. users per second: 1550.61</pre>"
            ]
          },
          "metadata": {}
        },
        {
          "output_type": "display_data",
          "data": {
            "text/plain": [
              "recommendations finished on 36000/305945 queries. users per second: 1555.32"
            ],
            "text/html": [
              "<pre>recommendations finished on 36000/305945 queries. users per second: 1555.32</pre>"
            ]
          },
          "metadata": {}
        },
        {
          "output_type": "display_data",
          "data": {
            "text/plain": [
              "recommendations finished on 37000/305945 queries. users per second: 1557.45"
            ],
            "text/html": [
              "<pre>recommendations finished on 37000/305945 queries. users per second: 1557.45</pre>"
            ]
          },
          "metadata": {}
        },
        {
          "output_type": "display_data",
          "data": {
            "text/plain": [
              "recommendations finished on 38000/305945 queries. users per second: 1560.87"
            ],
            "text/html": [
              "<pre>recommendations finished on 38000/305945 queries. users per second: 1560.87</pre>"
            ]
          },
          "metadata": {}
        },
        {
          "output_type": "display_data",
          "data": {
            "text/plain": [
              "recommendations finished on 39000/305945 queries. users per second: 1564.19"
            ],
            "text/html": [
              "<pre>recommendations finished on 39000/305945 queries. users per second: 1564.19</pre>"
            ]
          },
          "metadata": {}
        },
        {
          "output_type": "display_data",
          "data": {
            "text/plain": [
              "recommendations finished on 40000/305945 queries. users per second: 1567.48"
            ],
            "text/html": [
              "<pre>recommendations finished on 40000/305945 queries. users per second: 1567.48</pre>"
            ]
          },
          "metadata": {}
        },
        {
          "output_type": "display_data",
          "data": {
            "text/plain": [
              "recommendations finished on 41000/305945 queries. users per second: 1571.14"
            ],
            "text/html": [
              "<pre>recommendations finished on 41000/305945 queries. users per second: 1571.14</pre>"
            ]
          },
          "metadata": {}
        },
        {
          "output_type": "display_data",
          "data": {
            "text/plain": [
              "recommendations finished on 42000/305945 queries. users per second: 1574.4"
            ],
            "text/html": [
              "<pre>recommendations finished on 42000/305945 queries. users per second: 1574.4</pre>"
            ]
          },
          "metadata": {}
        },
        {
          "output_type": "display_data",
          "data": {
            "text/plain": [
              "recommendations finished on 43000/305945 queries. users per second: 1577.16"
            ],
            "text/html": [
              "<pre>recommendations finished on 43000/305945 queries. users per second: 1577.16</pre>"
            ]
          },
          "metadata": {}
        },
        {
          "output_type": "display_data",
          "data": {
            "text/plain": [
              "recommendations finished on 44000/305945 queries. users per second: 1578.38"
            ],
            "text/html": [
              "<pre>recommendations finished on 44000/305945 queries. users per second: 1578.38</pre>"
            ]
          },
          "metadata": {}
        },
        {
          "output_type": "display_data",
          "data": {
            "text/plain": [
              "recommendations finished on 45000/305945 queries. users per second: 1581.58"
            ],
            "text/html": [
              "<pre>recommendations finished on 45000/305945 queries. users per second: 1581.58</pre>"
            ]
          },
          "metadata": {}
        },
        {
          "output_type": "display_data",
          "data": {
            "text/plain": [
              "recommendations finished on 46000/305945 queries. users per second: 1584.35"
            ],
            "text/html": [
              "<pre>recommendations finished on 46000/305945 queries. users per second: 1584.35</pre>"
            ]
          },
          "metadata": {}
        },
        {
          "output_type": "display_data",
          "data": {
            "text/plain": [
              "recommendations finished on 47000/305945 queries. users per second: 1587.2"
            ],
            "text/html": [
              "<pre>recommendations finished on 47000/305945 queries. users per second: 1587.2</pre>"
            ]
          },
          "metadata": {}
        },
        {
          "output_type": "display_data",
          "data": {
            "text/plain": [
              "recommendations finished on 48000/305945 queries. users per second: 1588.84"
            ],
            "text/html": [
              "<pre>recommendations finished on 48000/305945 queries. users per second: 1588.84</pre>"
            ]
          },
          "metadata": {}
        },
        {
          "output_type": "display_data",
          "data": {
            "text/plain": [
              "recommendations finished on 49000/305945 queries. users per second: 1590.68"
            ],
            "text/html": [
              "<pre>recommendations finished on 49000/305945 queries. users per second: 1590.68</pre>"
            ]
          },
          "metadata": {}
        },
        {
          "output_type": "display_data",
          "data": {
            "text/plain": [
              "recommendations finished on 50000/305945 queries. users per second: 1593.49"
            ],
            "text/html": [
              "<pre>recommendations finished on 50000/305945 queries. users per second: 1593.49</pre>"
            ]
          },
          "metadata": {}
        },
        {
          "output_type": "display_data",
          "data": {
            "text/plain": [
              "recommendations finished on 51000/305945 queries. users per second: 1595.79"
            ],
            "text/html": [
              "<pre>recommendations finished on 51000/305945 queries. users per second: 1595.79</pre>"
            ]
          },
          "metadata": {}
        },
        {
          "output_type": "display_data",
          "data": {
            "text/plain": [
              "recommendations finished on 52000/305945 queries. users per second: 1598.73"
            ],
            "text/html": [
              "<pre>recommendations finished on 52000/305945 queries. users per second: 1598.73</pre>"
            ]
          },
          "metadata": {}
        },
        {
          "output_type": "display_data",
          "data": {
            "text/plain": [
              "recommendations finished on 53000/305945 queries. users per second: 1601.06"
            ],
            "text/html": [
              "<pre>recommendations finished on 53000/305945 queries. users per second: 1601.06</pre>"
            ]
          },
          "metadata": {}
        },
        {
          "output_type": "display_data",
          "data": {
            "text/plain": [
              "recommendations finished on 54000/305945 queries. users per second: 1603.44"
            ],
            "text/html": [
              "<pre>recommendations finished on 54000/305945 queries. users per second: 1603.44</pre>"
            ]
          },
          "metadata": {}
        },
        {
          "output_type": "display_data",
          "data": {
            "text/plain": [
              "recommendations finished on 55000/305945 queries. users per second: 1605.31"
            ],
            "text/html": [
              "<pre>recommendations finished on 55000/305945 queries. users per second: 1605.31</pre>"
            ]
          },
          "metadata": {}
        },
        {
          "output_type": "display_data",
          "data": {
            "text/plain": [
              "recommendations finished on 56000/305945 queries. users per second: 1606.78"
            ],
            "text/html": [
              "<pre>recommendations finished on 56000/305945 queries. users per second: 1606.78</pre>"
            ]
          },
          "metadata": {}
        },
        {
          "output_type": "display_data",
          "data": {
            "text/plain": [
              "recommendations finished on 57000/305945 queries. users per second: 1609.31"
            ],
            "text/html": [
              "<pre>recommendations finished on 57000/305945 queries. users per second: 1609.31</pre>"
            ]
          },
          "metadata": {}
        },
        {
          "output_type": "display_data",
          "data": {
            "text/plain": [
              "recommendations finished on 58000/305945 queries. users per second: 1610.26"
            ],
            "text/html": [
              "<pre>recommendations finished on 58000/305945 queries. users per second: 1610.26</pre>"
            ]
          },
          "metadata": {}
        },
        {
          "output_type": "display_data",
          "data": {
            "text/plain": [
              "recommendations finished on 59000/305945 queries. users per second: 1612.47"
            ],
            "text/html": [
              "<pre>recommendations finished on 59000/305945 queries. users per second: 1612.47</pre>"
            ]
          },
          "metadata": {}
        },
        {
          "output_type": "display_data",
          "data": {
            "text/plain": [
              "recommendations finished on 60000/305945 queries. users per second: 1613.96"
            ],
            "text/html": [
              "<pre>recommendations finished on 60000/305945 queries. users per second: 1613.96</pre>"
            ]
          },
          "metadata": {}
        },
        {
          "output_type": "display_data",
          "data": {
            "text/plain": [
              "recommendations finished on 61000/305945 queries. users per second: 1615.2"
            ],
            "text/html": [
              "<pre>recommendations finished on 61000/305945 queries. users per second: 1615.2</pre>"
            ]
          },
          "metadata": {}
        },
        {
          "output_type": "display_data",
          "data": {
            "text/plain": [
              "recommendations finished on 62000/305945 queries. users per second: 1615.78"
            ],
            "text/html": [
              "<pre>recommendations finished on 62000/305945 queries. users per second: 1615.78</pre>"
            ]
          },
          "metadata": {}
        },
        {
          "output_type": "display_data",
          "data": {
            "text/plain": [
              "recommendations finished on 63000/305945 queries. users per second: 1617.3"
            ],
            "text/html": [
              "<pre>recommendations finished on 63000/305945 queries. users per second: 1617.3</pre>"
            ]
          },
          "metadata": {}
        },
        {
          "output_type": "display_data",
          "data": {
            "text/plain": [
              "recommendations finished on 64000/305945 queries. users per second: 1618.71"
            ],
            "text/html": [
              "<pre>recommendations finished on 64000/305945 queries. users per second: 1618.71</pre>"
            ]
          },
          "metadata": {}
        },
        {
          "output_type": "display_data",
          "data": {
            "text/plain": [
              "recommendations finished on 65000/305945 queries. users per second: 1619.6"
            ],
            "text/html": [
              "<pre>recommendations finished on 65000/305945 queries. users per second: 1619.6</pre>"
            ]
          },
          "metadata": {}
        },
        {
          "output_type": "display_data",
          "data": {
            "text/plain": [
              "recommendations finished on 66000/305945 queries. users per second: 1621.26"
            ],
            "text/html": [
              "<pre>recommendations finished on 66000/305945 queries. users per second: 1621.26</pre>"
            ]
          },
          "metadata": {}
        },
        {
          "output_type": "display_data",
          "data": {
            "text/plain": [
              "recommendations finished on 67000/305945 queries. users per second: 1622.49"
            ],
            "text/html": [
              "<pre>recommendations finished on 67000/305945 queries. users per second: 1622.49</pre>"
            ]
          },
          "metadata": {}
        },
        {
          "output_type": "display_data",
          "data": {
            "text/plain": [
              "recommendations finished on 68000/305945 queries. users per second: 1624.16"
            ],
            "text/html": [
              "<pre>recommendations finished on 68000/305945 queries. users per second: 1624.16</pre>"
            ]
          },
          "metadata": {}
        },
        {
          "output_type": "display_data",
          "data": {
            "text/plain": [
              "recommendations finished on 69000/305945 queries. users per second: 1625.12"
            ],
            "text/html": [
              "<pre>recommendations finished on 69000/305945 queries. users per second: 1625.12</pre>"
            ]
          },
          "metadata": {}
        },
        {
          "output_type": "display_data",
          "data": {
            "text/plain": [
              "recommendations finished on 70000/305945 queries. users per second: 1625.63"
            ],
            "text/html": [
              "<pre>recommendations finished on 70000/305945 queries. users per second: 1625.63</pre>"
            ]
          },
          "metadata": {}
        },
        {
          "output_type": "display_data",
          "data": {
            "text/plain": [
              "recommendations finished on 71000/305945 queries. users per second: 1627.08"
            ],
            "text/html": [
              "<pre>recommendations finished on 71000/305945 queries. users per second: 1627.08</pre>"
            ]
          },
          "metadata": {}
        },
        {
          "output_type": "display_data",
          "data": {
            "text/plain": [
              "recommendations finished on 72000/305945 queries. users per second: 1627.88"
            ],
            "text/html": [
              "<pre>recommendations finished on 72000/305945 queries. users per second: 1627.88</pre>"
            ]
          },
          "metadata": {}
        },
        {
          "output_type": "display_data",
          "data": {
            "text/plain": [
              "recommendations finished on 73000/305945 queries. users per second: 1629.19"
            ],
            "text/html": [
              "<pre>recommendations finished on 73000/305945 queries. users per second: 1629.19</pre>"
            ]
          },
          "metadata": {}
        },
        {
          "output_type": "display_data",
          "data": {
            "text/plain": [
              "recommendations finished on 74000/305945 queries. users per second: 1630.52"
            ],
            "text/html": [
              "<pre>recommendations finished on 74000/305945 queries. users per second: 1630.52</pre>"
            ]
          },
          "metadata": {}
        },
        {
          "output_type": "display_data",
          "data": {
            "text/plain": [
              "recommendations finished on 75000/305945 queries. users per second: 1632.05"
            ],
            "text/html": [
              "<pre>recommendations finished on 75000/305945 queries. users per second: 1632.05</pre>"
            ]
          },
          "metadata": {}
        },
        {
          "output_type": "display_data",
          "data": {
            "text/plain": [
              "recommendations finished on 76000/305945 queries. users per second: 1632.75"
            ],
            "text/html": [
              "<pre>recommendations finished on 76000/305945 queries. users per second: 1632.75</pre>"
            ]
          },
          "metadata": {}
        },
        {
          "output_type": "display_data",
          "data": {
            "text/plain": [
              "recommendations finished on 77000/305945 queries. users per second: 1633.58"
            ],
            "text/html": [
              "<pre>recommendations finished on 77000/305945 queries. users per second: 1633.58</pre>"
            ]
          },
          "metadata": {}
        },
        {
          "output_type": "display_data",
          "data": {
            "text/plain": [
              "recommendations finished on 78000/305945 queries. users per second: 1635.03"
            ],
            "text/html": [
              "<pre>recommendations finished on 78000/305945 queries. users per second: 1635.03</pre>"
            ]
          },
          "metadata": {}
        },
        {
          "output_type": "display_data",
          "data": {
            "text/plain": [
              "recommendations finished on 79000/305945 queries. users per second: 1635.76"
            ],
            "text/html": [
              "<pre>recommendations finished on 79000/305945 queries. users per second: 1635.76</pre>"
            ]
          },
          "metadata": {}
        },
        {
          "output_type": "display_data",
          "data": {
            "text/plain": [
              "recommendations finished on 80000/305945 queries. users per second: 1636.79"
            ],
            "text/html": [
              "<pre>recommendations finished on 80000/305945 queries. users per second: 1636.79</pre>"
            ]
          },
          "metadata": {}
        },
        {
          "output_type": "display_data",
          "data": {
            "text/plain": [
              "recommendations finished on 81000/305945 queries. users per second: 1637.15"
            ],
            "text/html": [
              "<pre>recommendations finished on 81000/305945 queries. users per second: 1637.15</pre>"
            ]
          },
          "metadata": {}
        },
        {
          "output_type": "display_data",
          "data": {
            "text/plain": [
              "recommendations finished on 82000/305945 queries. users per second: 1638.22"
            ],
            "text/html": [
              "<pre>recommendations finished on 82000/305945 queries. users per second: 1638.22</pre>"
            ]
          },
          "metadata": {}
        },
        {
          "output_type": "display_data",
          "data": {
            "text/plain": [
              "recommendations finished on 83000/305945 queries. users per second: 1639.52"
            ],
            "text/html": [
              "<pre>recommendations finished on 83000/305945 queries. users per second: 1639.52</pre>"
            ]
          },
          "metadata": {}
        },
        {
          "output_type": "display_data",
          "data": {
            "text/plain": [
              "recommendations finished on 84000/305945 queries. users per second: 1640.86"
            ],
            "text/html": [
              "<pre>recommendations finished on 84000/305945 queries. users per second: 1640.86</pre>"
            ]
          },
          "metadata": {}
        },
        {
          "output_type": "display_data",
          "data": {
            "text/plain": [
              "recommendations finished on 85000/305945 queries. users per second: 1641.9"
            ],
            "text/html": [
              "<pre>recommendations finished on 85000/305945 queries. users per second: 1641.9</pre>"
            ]
          },
          "metadata": {}
        },
        {
          "output_type": "display_data",
          "data": {
            "text/plain": [
              "recommendations finished on 86000/305945 queries. users per second: 1642.78"
            ],
            "text/html": [
              "<pre>recommendations finished on 86000/305945 queries. users per second: 1642.78</pre>"
            ]
          },
          "metadata": {}
        },
        {
          "output_type": "display_data",
          "data": {
            "text/plain": [
              "recommendations finished on 87000/305945 queries. users per second: 1643.82"
            ],
            "text/html": [
              "<pre>recommendations finished on 87000/305945 queries. users per second: 1643.82</pre>"
            ]
          },
          "metadata": {}
        },
        {
          "output_type": "display_data",
          "data": {
            "text/plain": [
              "recommendations finished on 88000/305945 queries. users per second: 1644.61"
            ],
            "text/html": [
              "<pre>recommendations finished on 88000/305945 queries. users per second: 1644.61</pre>"
            ]
          },
          "metadata": {}
        },
        {
          "output_type": "display_data",
          "data": {
            "text/plain": [
              "recommendations finished on 89000/305945 queries. users per second: 1645.85"
            ],
            "text/html": [
              "<pre>recommendations finished on 89000/305945 queries. users per second: 1645.85</pre>"
            ]
          },
          "metadata": {}
        },
        {
          "output_type": "display_data",
          "data": {
            "text/plain": [
              "recommendations finished on 90000/305945 queries. users per second: 1646.74"
            ],
            "text/html": [
              "<pre>recommendations finished on 90000/305945 queries. users per second: 1646.74</pre>"
            ]
          },
          "metadata": {}
        },
        {
          "output_type": "display_data",
          "data": {
            "text/plain": [
              "recommendations finished on 91000/305945 queries. users per second: 1647.85"
            ],
            "text/html": [
              "<pre>recommendations finished on 91000/305945 queries. users per second: 1647.85</pre>"
            ]
          },
          "metadata": {}
        },
        {
          "output_type": "display_data",
          "data": {
            "text/plain": [
              "recommendations finished on 92000/305945 queries. users per second: 1648.69"
            ],
            "text/html": [
              "<pre>recommendations finished on 92000/305945 queries. users per second: 1648.69</pre>"
            ]
          },
          "metadata": {}
        },
        {
          "output_type": "display_data",
          "data": {
            "text/plain": [
              "recommendations finished on 93000/305945 queries. users per second: 1649.48"
            ],
            "text/html": [
              "<pre>recommendations finished on 93000/305945 queries. users per second: 1649.48</pre>"
            ]
          },
          "metadata": {}
        },
        {
          "output_type": "display_data",
          "data": {
            "text/plain": [
              "recommendations finished on 94000/305945 queries. users per second: 1649.83"
            ],
            "text/html": [
              "<pre>recommendations finished on 94000/305945 queries. users per second: 1649.83</pre>"
            ]
          },
          "metadata": {}
        },
        {
          "output_type": "display_data",
          "data": {
            "text/plain": [
              "recommendations finished on 95000/305945 queries. users per second: 1650.76"
            ],
            "text/html": [
              "<pre>recommendations finished on 95000/305945 queries. users per second: 1650.76</pre>"
            ]
          },
          "metadata": {}
        },
        {
          "output_type": "display_data",
          "data": {
            "text/plain": [
              "recommendations finished on 96000/305945 queries. users per second: 1651.65"
            ],
            "text/html": [
              "<pre>recommendations finished on 96000/305945 queries. users per second: 1651.65</pre>"
            ]
          },
          "metadata": {}
        },
        {
          "output_type": "display_data",
          "data": {
            "text/plain": [
              "recommendations finished on 97000/305945 queries. users per second: 1651.96"
            ],
            "text/html": [
              "<pre>recommendations finished on 97000/305945 queries. users per second: 1651.96</pre>"
            ]
          },
          "metadata": {}
        },
        {
          "output_type": "display_data",
          "data": {
            "text/plain": [
              "recommendations finished on 98000/305945 queries. users per second: 1652.69"
            ],
            "text/html": [
              "<pre>recommendations finished on 98000/305945 queries. users per second: 1652.69</pre>"
            ]
          },
          "metadata": {}
        },
        {
          "output_type": "display_data",
          "data": {
            "text/plain": [
              "recommendations finished on 99000/305945 queries. users per second: 1653.21"
            ],
            "text/html": [
              "<pre>recommendations finished on 99000/305945 queries. users per second: 1653.21</pre>"
            ]
          },
          "metadata": {}
        },
        {
          "output_type": "display_data",
          "data": {
            "text/plain": [
              "recommendations finished on 100000/305945 queries. users per second: 1653.66"
            ],
            "text/html": [
              "<pre>recommendations finished on 100000/305945 queries. users per second: 1653.66</pre>"
            ]
          },
          "metadata": {}
        },
        {
          "output_type": "display_data",
          "data": {
            "text/plain": [
              "recommendations finished on 101000/305945 queries. users per second: 1654.34"
            ],
            "text/html": [
              "<pre>recommendations finished on 101000/305945 queries. users per second: 1654.34</pre>"
            ]
          },
          "metadata": {}
        },
        {
          "output_type": "display_data",
          "data": {
            "text/plain": [
              "recommendations finished on 102000/305945 queries. users per second: 1654.81"
            ],
            "text/html": [
              "<pre>recommendations finished on 102000/305945 queries. users per second: 1654.81</pre>"
            ]
          },
          "metadata": {}
        },
        {
          "output_type": "display_data",
          "data": {
            "text/plain": [
              "recommendations finished on 103000/305945 queries. users per second: 1655.4"
            ],
            "text/html": [
              "<pre>recommendations finished on 103000/305945 queries. users per second: 1655.4</pre>"
            ]
          },
          "metadata": {}
        },
        {
          "output_type": "display_data",
          "data": {
            "text/plain": [
              "recommendations finished on 104000/305945 queries. users per second: 1656.37"
            ],
            "text/html": [
              "<pre>recommendations finished on 104000/305945 queries. users per second: 1656.37</pre>"
            ]
          },
          "metadata": {}
        },
        {
          "output_type": "display_data",
          "data": {
            "text/plain": [
              "recommendations finished on 105000/305945 queries. users per second: 1657.53"
            ],
            "text/html": [
              "<pre>recommendations finished on 105000/305945 queries. users per second: 1657.53</pre>"
            ]
          },
          "metadata": {}
        },
        {
          "output_type": "display_data",
          "data": {
            "text/plain": [
              "recommendations finished on 106000/305945 queries. users per second: 1658.27"
            ],
            "text/html": [
              "<pre>recommendations finished on 106000/305945 queries. users per second: 1658.27</pre>"
            ]
          },
          "metadata": {}
        },
        {
          "output_type": "display_data",
          "data": {
            "text/plain": [
              "recommendations finished on 107000/305945 queries. users per second: 1659.21"
            ],
            "text/html": [
              "<pre>recommendations finished on 107000/305945 queries. users per second: 1659.21</pre>"
            ]
          },
          "metadata": {}
        },
        {
          "output_type": "display_data",
          "data": {
            "text/plain": [
              "recommendations finished on 108000/305945 queries. users per second: 1659.4"
            ],
            "text/html": [
              "<pre>recommendations finished on 108000/305945 queries. users per second: 1659.4</pre>"
            ]
          },
          "metadata": {}
        },
        {
          "output_type": "display_data",
          "data": {
            "text/plain": [
              "recommendations finished on 109000/305945 queries. users per second: 1660.25"
            ],
            "text/html": [
              "<pre>recommendations finished on 109000/305945 queries. users per second: 1660.25</pre>"
            ]
          },
          "metadata": {}
        },
        {
          "output_type": "display_data",
          "data": {
            "text/plain": [
              "recommendations finished on 110000/305945 queries. users per second: 1661.09"
            ],
            "text/html": [
              "<pre>recommendations finished on 110000/305945 queries. users per second: 1661.09</pre>"
            ]
          },
          "metadata": {}
        },
        {
          "output_type": "display_data",
          "data": {
            "text/plain": [
              "recommendations finished on 111000/305945 queries. users per second: 1661.65"
            ],
            "text/html": [
              "<pre>recommendations finished on 111000/305945 queries. users per second: 1661.65</pre>"
            ]
          },
          "metadata": {}
        },
        {
          "output_type": "display_data",
          "data": {
            "text/plain": [
              "recommendations finished on 112000/305945 queries. users per second: 1662.36"
            ],
            "text/html": [
              "<pre>recommendations finished on 112000/305945 queries. users per second: 1662.36</pre>"
            ]
          },
          "metadata": {}
        },
        {
          "output_type": "display_data",
          "data": {
            "text/plain": [
              "recommendations finished on 113000/305945 queries. users per second: 1662.22"
            ],
            "text/html": [
              "<pre>recommendations finished on 113000/305945 queries. users per second: 1662.22</pre>"
            ]
          },
          "metadata": {}
        },
        {
          "output_type": "display_data",
          "data": {
            "text/plain": [
              "recommendations finished on 114000/305945 queries. users per second: 1662.68"
            ],
            "text/html": [
              "<pre>recommendations finished on 114000/305945 queries. users per second: 1662.68</pre>"
            ]
          },
          "metadata": {}
        },
        {
          "output_type": "display_data",
          "data": {
            "text/plain": [
              "recommendations finished on 115000/305945 queries. users per second: 1662.91"
            ],
            "text/html": [
              "<pre>recommendations finished on 115000/305945 queries. users per second: 1662.91</pre>"
            ]
          },
          "metadata": {}
        },
        {
          "output_type": "display_data",
          "data": {
            "text/plain": [
              "recommendations finished on 116000/305945 queries. users per second: 1663.42"
            ],
            "text/html": [
              "<pre>recommendations finished on 116000/305945 queries. users per second: 1663.42</pre>"
            ]
          },
          "metadata": {}
        },
        {
          "output_type": "display_data",
          "data": {
            "text/plain": [
              "recommendations finished on 117000/305945 queries. users per second: 1663.68"
            ],
            "text/html": [
              "<pre>recommendations finished on 117000/305945 queries. users per second: 1663.68</pre>"
            ]
          },
          "metadata": {}
        },
        {
          "output_type": "display_data",
          "data": {
            "text/plain": [
              "recommendations finished on 118000/305945 queries. users per second: 1664.25"
            ],
            "text/html": [
              "<pre>recommendations finished on 118000/305945 queries. users per second: 1664.25</pre>"
            ]
          },
          "metadata": {}
        },
        {
          "output_type": "display_data",
          "data": {
            "text/plain": [
              "recommendations finished on 119000/305945 queries. users per second: 1664.86"
            ],
            "text/html": [
              "<pre>recommendations finished on 119000/305945 queries. users per second: 1664.86</pre>"
            ]
          },
          "metadata": {}
        },
        {
          "output_type": "display_data",
          "data": {
            "text/plain": [
              "recommendations finished on 120000/305945 queries. users per second: 1665.17"
            ],
            "text/html": [
              "<pre>recommendations finished on 120000/305945 queries. users per second: 1665.17</pre>"
            ]
          },
          "metadata": {}
        },
        {
          "output_type": "display_data",
          "data": {
            "text/plain": [
              "recommendations finished on 121000/305945 queries. users per second: 1665.87"
            ],
            "text/html": [
              "<pre>recommendations finished on 121000/305945 queries. users per second: 1665.87</pre>"
            ]
          },
          "metadata": {}
        },
        {
          "output_type": "display_data",
          "data": {
            "text/plain": [
              "recommendations finished on 122000/305945 queries. users per second: 1666.2"
            ],
            "text/html": [
              "<pre>recommendations finished on 122000/305945 queries. users per second: 1666.2</pre>"
            ]
          },
          "metadata": {}
        },
        {
          "output_type": "display_data",
          "data": {
            "text/plain": [
              "recommendations finished on 123000/305945 queries. users per second: 1666.27"
            ],
            "text/html": [
              "<pre>recommendations finished on 123000/305945 queries. users per second: 1666.27</pre>"
            ]
          },
          "metadata": {}
        },
        {
          "output_type": "display_data",
          "data": {
            "text/plain": [
              "recommendations finished on 124000/305945 queries. users per second: 1666.89"
            ],
            "text/html": [
              "<pre>recommendations finished on 124000/305945 queries. users per second: 1666.89</pre>"
            ]
          },
          "metadata": {}
        },
        {
          "output_type": "display_data",
          "data": {
            "text/plain": [
              "recommendations finished on 125000/305945 queries. users per second: 1667.29"
            ],
            "text/html": [
              "<pre>recommendations finished on 125000/305945 queries. users per second: 1667.29</pre>"
            ]
          },
          "metadata": {}
        },
        {
          "output_type": "display_data",
          "data": {
            "text/plain": [
              "recommendations finished on 126000/305945 queries. users per second: 1667.79"
            ],
            "text/html": [
              "<pre>recommendations finished on 126000/305945 queries. users per second: 1667.79</pre>"
            ]
          },
          "metadata": {}
        },
        {
          "output_type": "display_data",
          "data": {
            "text/plain": [
              "recommendations finished on 127000/305945 queries. users per second: 1668.24"
            ],
            "text/html": [
              "<pre>recommendations finished on 127000/305945 queries. users per second: 1668.24</pre>"
            ]
          },
          "metadata": {}
        },
        {
          "output_type": "display_data",
          "data": {
            "text/plain": [
              "recommendations finished on 128000/305945 queries. users per second: 1668.98"
            ],
            "text/html": [
              "<pre>recommendations finished on 128000/305945 queries. users per second: 1668.98</pre>"
            ]
          },
          "metadata": {}
        },
        {
          "output_type": "display_data",
          "data": {
            "text/plain": [
              "recommendations finished on 129000/305945 queries. users per second: 1669.64"
            ],
            "text/html": [
              "<pre>recommendations finished on 129000/305945 queries. users per second: 1669.64</pre>"
            ]
          },
          "metadata": {}
        },
        {
          "output_type": "display_data",
          "data": {
            "text/plain": [
              "recommendations finished on 130000/305945 queries. users per second: 1670.3"
            ],
            "text/html": [
              "<pre>recommendations finished on 130000/305945 queries. users per second: 1670.3</pre>"
            ]
          },
          "metadata": {}
        },
        {
          "output_type": "display_data",
          "data": {
            "text/plain": [
              "recommendations finished on 131000/305945 queries. users per second: 1670.82"
            ],
            "text/html": [
              "<pre>recommendations finished on 131000/305945 queries. users per second: 1670.82</pre>"
            ]
          },
          "metadata": {}
        },
        {
          "output_type": "display_data",
          "data": {
            "text/plain": [
              "recommendations finished on 132000/305945 queries. users per second: 1670.94"
            ],
            "text/html": [
              "<pre>recommendations finished on 132000/305945 queries. users per second: 1670.94</pre>"
            ]
          },
          "metadata": {}
        },
        {
          "output_type": "display_data",
          "data": {
            "text/plain": [
              "recommendations finished on 133000/305945 queries. users per second: 1671.53"
            ],
            "text/html": [
              "<pre>recommendations finished on 133000/305945 queries. users per second: 1671.53</pre>"
            ]
          },
          "metadata": {}
        },
        {
          "output_type": "display_data",
          "data": {
            "text/plain": [
              "recommendations finished on 134000/305945 queries. users per second: 1671.98"
            ],
            "text/html": [
              "<pre>recommendations finished on 134000/305945 queries. users per second: 1671.98</pre>"
            ]
          },
          "metadata": {}
        },
        {
          "output_type": "display_data",
          "data": {
            "text/plain": [
              "recommendations finished on 135000/305945 queries. users per second: 1672.65"
            ],
            "text/html": [
              "<pre>recommendations finished on 135000/305945 queries. users per second: 1672.65</pre>"
            ]
          },
          "metadata": {}
        },
        {
          "output_type": "display_data",
          "data": {
            "text/plain": [
              "recommendations finished on 136000/305945 queries. users per second: 1672.77"
            ],
            "text/html": [
              "<pre>recommendations finished on 136000/305945 queries. users per second: 1672.77</pre>"
            ]
          },
          "metadata": {}
        },
        {
          "output_type": "display_data",
          "data": {
            "text/plain": [
              "recommendations finished on 137000/305945 queries. users per second: 1672.95"
            ],
            "text/html": [
              "<pre>recommendations finished on 137000/305945 queries. users per second: 1672.95</pre>"
            ]
          },
          "metadata": {}
        },
        {
          "output_type": "display_data",
          "data": {
            "text/plain": [
              "recommendations finished on 138000/305945 queries. users per second: 1673.57"
            ],
            "text/html": [
              "<pre>recommendations finished on 138000/305945 queries. users per second: 1673.57</pre>"
            ]
          },
          "metadata": {}
        },
        {
          "output_type": "display_data",
          "data": {
            "text/plain": [
              "recommendations finished on 139000/305945 queries. users per second: 1673.96"
            ],
            "text/html": [
              "<pre>recommendations finished on 139000/305945 queries. users per second: 1673.96</pre>"
            ]
          },
          "metadata": {}
        },
        {
          "output_type": "display_data",
          "data": {
            "text/plain": [
              "recommendations finished on 140000/305945 queries. users per second: 1674.65"
            ],
            "text/html": [
              "<pre>recommendations finished on 140000/305945 queries. users per second: 1674.65</pre>"
            ]
          },
          "metadata": {}
        },
        {
          "output_type": "display_data",
          "data": {
            "text/plain": [
              "recommendations finished on 141000/305945 queries. users per second: 1675.19"
            ],
            "text/html": [
              "<pre>recommendations finished on 141000/305945 queries. users per second: 1675.19</pre>"
            ]
          },
          "metadata": {}
        },
        {
          "output_type": "display_data",
          "data": {
            "text/plain": [
              "recommendations finished on 142000/305945 queries. users per second: 1675.6"
            ],
            "text/html": [
              "<pre>recommendations finished on 142000/305945 queries. users per second: 1675.6</pre>"
            ]
          },
          "metadata": {}
        },
        {
          "output_type": "display_data",
          "data": {
            "text/plain": [
              "recommendations finished on 143000/305945 queries. users per second: 1675.79"
            ],
            "text/html": [
              "<pre>recommendations finished on 143000/305945 queries. users per second: 1675.79</pre>"
            ]
          },
          "metadata": {}
        },
        {
          "output_type": "display_data",
          "data": {
            "text/plain": [
              "recommendations finished on 144000/305945 queries. users per second: 1676.26"
            ],
            "text/html": [
              "<pre>recommendations finished on 144000/305945 queries. users per second: 1676.26</pre>"
            ]
          },
          "metadata": {}
        },
        {
          "output_type": "display_data",
          "data": {
            "text/plain": [
              "recommendations finished on 145000/305945 queries. users per second: 1676.59"
            ],
            "text/html": [
              "<pre>recommendations finished on 145000/305945 queries. users per second: 1676.59</pre>"
            ]
          },
          "metadata": {}
        },
        {
          "output_type": "display_data",
          "data": {
            "text/plain": [
              "recommendations finished on 146000/305945 queries. users per second: 1677.33"
            ],
            "text/html": [
              "<pre>recommendations finished on 146000/305945 queries. users per second: 1677.33</pre>"
            ]
          },
          "metadata": {}
        },
        {
          "output_type": "display_data",
          "data": {
            "text/plain": [
              "recommendations finished on 147000/305945 queries. users per second: 1677.82"
            ],
            "text/html": [
              "<pre>recommendations finished on 147000/305945 queries. users per second: 1677.82</pre>"
            ]
          },
          "metadata": {}
        },
        {
          "output_type": "display_data",
          "data": {
            "text/plain": [
              "recommendations finished on 148000/305945 queries. users per second: 1678.45"
            ],
            "text/html": [
              "<pre>recommendations finished on 148000/305945 queries. users per second: 1678.45</pre>"
            ]
          },
          "metadata": {}
        },
        {
          "output_type": "display_data",
          "data": {
            "text/plain": [
              "recommendations finished on 149000/305945 queries. users per second: 1679.42"
            ],
            "text/html": [
              "<pre>recommendations finished on 149000/305945 queries. users per second: 1679.42</pre>"
            ]
          },
          "metadata": {}
        },
        {
          "output_type": "display_data",
          "data": {
            "text/plain": [
              "recommendations finished on 150000/305945 queries. users per second: 1679.5"
            ],
            "text/html": [
              "<pre>recommendations finished on 150000/305945 queries. users per second: 1679.5</pre>"
            ]
          },
          "metadata": {}
        },
        {
          "output_type": "display_data",
          "data": {
            "text/plain": [
              "recommendations finished on 151000/305945 queries. users per second: 1680.03"
            ],
            "text/html": [
              "<pre>recommendations finished on 151000/305945 queries. users per second: 1680.03</pre>"
            ]
          },
          "metadata": {}
        },
        {
          "output_type": "display_data",
          "data": {
            "text/plain": [
              "recommendations finished on 152000/305945 queries. users per second: 1680.48"
            ],
            "text/html": [
              "<pre>recommendations finished on 152000/305945 queries. users per second: 1680.48</pre>"
            ]
          },
          "metadata": {}
        },
        {
          "output_type": "display_data",
          "data": {
            "text/plain": [
              "recommendations finished on 153000/305945 queries. users per second: 1681.07"
            ],
            "text/html": [
              "<pre>recommendations finished on 153000/305945 queries. users per second: 1681.07</pre>"
            ]
          },
          "metadata": {}
        },
        {
          "output_type": "display_data",
          "data": {
            "text/plain": [
              "recommendations finished on 154000/305945 queries. users per second: 1681.44"
            ],
            "text/html": [
              "<pre>recommendations finished on 154000/305945 queries. users per second: 1681.44</pre>"
            ]
          },
          "metadata": {}
        },
        {
          "output_type": "display_data",
          "data": {
            "text/plain": [
              "recommendations finished on 155000/305945 queries. users per second: 1681.69"
            ],
            "text/html": [
              "<pre>recommendations finished on 155000/305945 queries. users per second: 1681.69</pre>"
            ]
          },
          "metadata": {}
        },
        {
          "output_type": "display_data",
          "data": {
            "text/plain": [
              "recommendations finished on 156000/305945 queries. users per second: 1682.02"
            ],
            "text/html": [
              "<pre>recommendations finished on 156000/305945 queries. users per second: 1682.02</pre>"
            ]
          },
          "metadata": {}
        },
        {
          "output_type": "display_data",
          "data": {
            "text/plain": [
              "recommendations finished on 157000/305945 queries. users per second: 1682.32"
            ],
            "text/html": [
              "<pre>recommendations finished on 157000/305945 queries. users per second: 1682.32</pre>"
            ]
          },
          "metadata": {}
        },
        {
          "output_type": "display_data",
          "data": {
            "text/plain": [
              "recommendations finished on 158000/305945 queries. users per second: 1682.86"
            ],
            "text/html": [
              "<pre>recommendations finished on 158000/305945 queries. users per second: 1682.86</pre>"
            ]
          },
          "metadata": {}
        },
        {
          "output_type": "display_data",
          "data": {
            "text/plain": [
              "recommendations finished on 159000/305945 queries. users per second: 1683.33"
            ],
            "text/html": [
              "<pre>recommendations finished on 159000/305945 queries. users per second: 1683.33</pre>"
            ]
          },
          "metadata": {}
        },
        {
          "output_type": "display_data",
          "data": {
            "text/plain": [
              "recommendations finished on 160000/305945 queries. users per second: 1683.64"
            ],
            "text/html": [
              "<pre>recommendations finished on 160000/305945 queries. users per second: 1683.64</pre>"
            ]
          },
          "metadata": {}
        },
        {
          "output_type": "display_data",
          "data": {
            "text/plain": [
              "recommendations finished on 161000/305945 queries. users per second: 1683.75"
            ],
            "text/html": [
              "<pre>recommendations finished on 161000/305945 queries. users per second: 1683.75</pre>"
            ]
          },
          "metadata": {}
        },
        {
          "output_type": "display_data",
          "data": {
            "text/plain": [
              "recommendations finished on 162000/305945 queries. users per second: 1684.09"
            ],
            "text/html": [
              "<pre>recommendations finished on 162000/305945 queries. users per second: 1684.09</pre>"
            ]
          },
          "metadata": {}
        },
        {
          "output_type": "display_data",
          "data": {
            "text/plain": [
              "recommendations finished on 163000/305945 queries. users per second: 1684.55"
            ],
            "text/html": [
              "<pre>recommendations finished on 163000/305945 queries. users per second: 1684.55</pre>"
            ]
          },
          "metadata": {}
        },
        {
          "output_type": "display_data",
          "data": {
            "text/plain": [
              "recommendations finished on 164000/305945 queries. users per second: 1684.98"
            ],
            "text/html": [
              "<pre>recommendations finished on 164000/305945 queries. users per second: 1684.98</pre>"
            ]
          },
          "metadata": {}
        },
        {
          "output_type": "display_data",
          "data": {
            "text/plain": [
              "recommendations finished on 165000/305945 queries. users per second: 1685.39"
            ],
            "text/html": [
              "<pre>recommendations finished on 165000/305945 queries. users per second: 1685.39</pre>"
            ]
          },
          "metadata": {}
        },
        {
          "output_type": "display_data",
          "data": {
            "text/plain": [
              "recommendations finished on 166000/305945 queries. users per second: 1685.53"
            ],
            "text/html": [
              "<pre>recommendations finished on 166000/305945 queries. users per second: 1685.53</pre>"
            ]
          },
          "metadata": {}
        },
        {
          "output_type": "display_data",
          "data": {
            "text/plain": [
              "recommendations finished on 167000/305945 queries. users per second: 1685.92"
            ],
            "text/html": [
              "<pre>recommendations finished on 167000/305945 queries. users per second: 1685.92</pre>"
            ]
          },
          "metadata": {}
        },
        {
          "output_type": "display_data",
          "data": {
            "text/plain": [
              "recommendations finished on 168000/305945 queries. users per second: 1686.03"
            ],
            "text/html": [
              "<pre>recommendations finished on 168000/305945 queries. users per second: 1686.03</pre>"
            ]
          },
          "metadata": {}
        },
        {
          "output_type": "display_data",
          "data": {
            "text/plain": [
              "recommendations finished on 169000/305945 queries. users per second: 1686.44"
            ],
            "text/html": [
              "<pre>recommendations finished on 169000/305945 queries. users per second: 1686.44</pre>"
            ]
          },
          "metadata": {}
        },
        {
          "output_type": "display_data",
          "data": {
            "text/plain": [
              "recommendations finished on 170000/305945 queries. users per second: 1686.73"
            ],
            "text/html": [
              "<pre>recommendations finished on 170000/305945 queries. users per second: 1686.73</pre>"
            ]
          },
          "metadata": {}
        },
        {
          "output_type": "display_data",
          "data": {
            "text/plain": [
              "recommendations finished on 171000/305945 queries. users per second: 1687.15"
            ],
            "text/html": [
              "<pre>recommendations finished on 171000/305945 queries. users per second: 1687.15</pre>"
            ]
          },
          "metadata": {}
        },
        {
          "output_type": "display_data",
          "data": {
            "text/plain": [
              "recommendations finished on 172000/305945 queries. users per second: 1687.38"
            ],
            "text/html": [
              "<pre>recommendations finished on 172000/305945 queries. users per second: 1687.38</pre>"
            ]
          },
          "metadata": {}
        },
        {
          "output_type": "display_data",
          "data": {
            "text/plain": [
              "recommendations finished on 173000/305945 queries. users per second: 1687.77"
            ],
            "text/html": [
              "<pre>recommendations finished on 173000/305945 queries. users per second: 1687.77</pre>"
            ]
          },
          "metadata": {}
        },
        {
          "output_type": "display_data",
          "data": {
            "text/plain": [
              "recommendations finished on 174000/305945 queries. users per second: 1688.07"
            ],
            "text/html": [
              "<pre>recommendations finished on 174000/305945 queries. users per second: 1688.07</pre>"
            ]
          },
          "metadata": {}
        },
        {
          "output_type": "display_data",
          "data": {
            "text/plain": [
              "recommendations finished on 175000/305945 queries. users per second: 1688.2"
            ],
            "text/html": [
              "<pre>recommendations finished on 175000/305945 queries. users per second: 1688.2</pre>"
            ]
          },
          "metadata": {}
        },
        {
          "output_type": "display_data",
          "data": {
            "text/plain": [
              "recommendations finished on 176000/305945 queries. users per second: 1688.59"
            ],
            "text/html": [
              "<pre>recommendations finished on 176000/305945 queries. users per second: 1688.59</pre>"
            ]
          },
          "metadata": {}
        },
        {
          "output_type": "display_data",
          "data": {
            "text/plain": [
              "recommendations finished on 177000/305945 queries. users per second: 1688.81"
            ],
            "text/html": [
              "<pre>recommendations finished on 177000/305945 queries. users per second: 1688.81</pre>"
            ]
          },
          "metadata": {}
        },
        {
          "output_type": "display_data",
          "data": {
            "text/plain": [
              "recommendations finished on 178000/305945 queries. users per second: 1689.09"
            ],
            "text/html": [
              "<pre>recommendations finished on 178000/305945 queries. users per second: 1689.09</pre>"
            ]
          },
          "metadata": {}
        },
        {
          "output_type": "display_data",
          "data": {
            "text/plain": [
              "recommendations finished on 179000/305945 queries. users per second: 1689.39"
            ],
            "text/html": [
              "<pre>recommendations finished on 179000/305945 queries. users per second: 1689.39</pre>"
            ]
          },
          "metadata": {}
        },
        {
          "output_type": "display_data",
          "data": {
            "text/plain": [
              "recommendations finished on 180000/305945 queries. users per second: 1689.6"
            ],
            "text/html": [
              "<pre>recommendations finished on 180000/305945 queries. users per second: 1689.6</pre>"
            ]
          },
          "metadata": {}
        },
        {
          "output_type": "display_data",
          "data": {
            "text/plain": [
              "recommendations finished on 181000/305945 queries. users per second: 1689.69"
            ],
            "text/html": [
              "<pre>recommendations finished on 181000/305945 queries. users per second: 1689.69</pre>"
            ]
          },
          "metadata": {}
        },
        {
          "output_type": "display_data",
          "data": {
            "text/plain": [
              "recommendations finished on 182000/305945 queries. users per second: 1689.88"
            ],
            "text/html": [
              "<pre>recommendations finished on 182000/305945 queries. users per second: 1689.88</pre>"
            ]
          },
          "metadata": {}
        },
        {
          "output_type": "display_data",
          "data": {
            "text/plain": [
              "recommendations finished on 183000/305945 queries. users per second: 1690.2"
            ],
            "text/html": [
              "<pre>recommendations finished on 183000/305945 queries. users per second: 1690.2</pre>"
            ]
          },
          "metadata": {}
        },
        {
          "output_type": "display_data",
          "data": {
            "text/plain": [
              "recommendations finished on 184000/305945 queries. users per second: 1690.44"
            ],
            "text/html": [
              "<pre>recommendations finished on 184000/305945 queries. users per second: 1690.44</pre>"
            ]
          },
          "metadata": {}
        },
        {
          "output_type": "display_data",
          "data": {
            "text/plain": [
              "recommendations finished on 185000/305945 queries. users per second: 1690.56"
            ],
            "text/html": [
              "<pre>recommendations finished on 185000/305945 queries. users per second: 1690.56</pre>"
            ]
          },
          "metadata": {}
        },
        {
          "output_type": "display_data",
          "data": {
            "text/plain": [
              "recommendations finished on 186000/305945 queries. users per second: 1690.69"
            ],
            "text/html": [
              "<pre>recommendations finished on 186000/305945 queries. users per second: 1690.69</pre>"
            ]
          },
          "metadata": {}
        },
        {
          "output_type": "display_data",
          "data": {
            "text/plain": [
              "recommendations finished on 187000/305945 queries. users per second: 1690.76"
            ],
            "text/html": [
              "<pre>recommendations finished on 187000/305945 queries. users per second: 1690.76</pre>"
            ]
          },
          "metadata": {}
        },
        {
          "output_type": "display_data",
          "data": {
            "text/plain": [
              "recommendations finished on 188000/305945 queries. users per second: 1690.9"
            ],
            "text/html": [
              "<pre>recommendations finished on 188000/305945 queries. users per second: 1690.9</pre>"
            ]
          },
          "metadata": {}
        },
        {
          "output_type": "display_data",
          "data": {
            "text/plain": [
              "recommendations finished on 189000/305945 queries. users per second: 1691.09"
            ],
            "text/html": [
              "<pre>recommendations finished on 189000/305945 queries. users per second: 1691.09</pre>"
            ]
          },
          "metadata": {}
        },
        {
          "output_type": "display_data",
          "data": {
            "text/plain": [
              "recommendations finished on 190000/305945 queries. users per second: 1691.44"
            ],
            "text/html": [
              "<pre>recommendations finished on 190000/305945 queries. users per second: 1691.44</pre>"
            ]
          },
          "metadata": {}
        },
        {
          "output_type": "display_data",
          "data": {
            "text/plain": [
              "recommendations finished on 191000/305945 queries. users per second: 1691.59"
            ],
            "text/html": [
              "<pre>recommendations finished on 191000/305945 queries. users per second: 1691.59</pre>"
            ]
          },
          "metadata": {}
        },
        {
          "output_type": "display_data",
          "data": {
            "text/plain": [
              "recommendations finished on 192000/305945 queries. users per second: 1691.86"
            ],
            "text/html": [
              "<pre>recommendations finished on 192000/305945 queries. users per second: 1691.86</pre>"
            ]
          },
          "metadata": {}
        },
        {
          "output_type": "display_data",
          "data": {
            "text/plain": [
              "recommendations finished on 193000/305945 queries. users per second: 1692.1"
            ],
            "text/html": [
              "<pre>recommendations finished on 193000/305945 queries. users per second: 1692.1</pre>"
            ]
          },
          "metadata": {}
        },
        {
          "output_type": "display_data",
          "data": {
            "text/plain": [
              "recommendations finished on 194000/305945 queries. users per second: 1692.47"
            ],
            "text/html": [
              "<pre>recommendations finished on 194000/305945 queries. users per second: 1692.47</pre>"
            ]
          },
          "metadata": {}
        },
        {
          "output_type": "display_data",
          "data": {
            "text/plain": [
              "recommendations finished on 195000/305945 queries. users per second: 1692.62"
            ],
            "text/html": [
              "<pre>recommendations finished on 195000/305945 queries. users per second: 1692.62</pre>"
            ]
          },
          "metadata": {}
        },
        {
          "output_type": "display_data",
          "data": {
            "text/plain": [
              "recommendations finished on 196000/305945 queries. users per second: 1692.85"
            ],
            "text/html": [
              "<pre>recommendations finished on 196000/305945 queries. users per second: 1692.85</pre>"
            ]
          },
          "metadata": {}
        },
        {
          "output_type": "display_data",
          "data": {
            "text/plain": [
              "recommendations finished on 197000/305945 queries. users per second: 1692.81"
            ],
            "text/html": [
              "<pre>recommendations finished on 197000/305945 queries. users per second: 1692.81</pre>"
            ]
          },
          "metadata": {}
        },
        {
          "output_type": "display_data",
          "data": {
            "text/plain": [
              "recommendations finished on 198000/305945 queries. users per second: 1692.57"
            ],
            "text/html": [
              "<pre>recommendations finished on 198000/305945 queries. users per second: 1692.57</pre>"
            ]
          },
          "metadata": {}
        },
        {
          "output_type": "display_data",
          "data": {
            "text/plain": [
              "recommendations finished on 199000/305945 queries. users per second: 1693"
            ],
            "text/html": [
              "<pre>recommendations finished on 199000/305945 queries. users per second: 1693</pre>"
            ]
          },
          "metadata": {}
        },
        {
          "output_type": "display_data",
          "data": {
            "text/plain": [
              "recommendations finished on 200000/305945 queries. users per second: 1693.26"
            ],
            "text/html": [
              "<pre>recommendations finished on 200000/305945 queries. users per second: 1693.26</pre>"
            ]
          },
          "metadata": {}
        },
        {
          "output_type": "display_data",
          "data": {
            "text/plain": [
              "recommendations finished on 201000/305945 queries. users per second: 1693.74"
            ],
            "text/html": [
              "<pre>recommendations finished on 201000/305945 queries. users per second: 1693.74</pre>"
            ]
          },
          "metadata": {}
        },
        {
          "output_type": "display_data",
          "data": {
            "text/plain": [
              "recommendations finished on 202000/305945 queries. users per second: 1694.06"
            ],
            "text/html": [
              "<pre>recommendations finished on 202000/305945 queries. users per second: 1694.06</pre>"
            ]
          },
          "metadata": {}
        },
        {
          "output_type": "display_data",
          "data": {
            "text/plain": [
              "recommendations finished on 203000/305945 queries. users per second: 1694.68"
            ],
            "text/html": [
              "<pre>recommendations finished on 203000/305945 queries. users per second: 1694.68</pre>"
            ]
          },
          "metadata": {}
        },
        {
          "output_type": "display_data",
          "data": {
            "text/plain": [
              "recommendations finished on 204000/305945 queries. users per second: 1695.07"
            ],
            "text/html": [
              "<pre>recommendations finished on 204000/305945 queries. users per second: 1695.07</pre>"
            ]
          },
          "metadata": {}
        },
        {
          "output_type": "display_data",
          "data": {
            "text/plain": [
              "recommendations finished on 205000/305945 queries. users per second: 1695.37"
            ],
            "text/html": [
              "<pre>recommendations finished on 205000/305945 queries. users per second: 1695.37</pre>"
            ]
          },
          "metadata": {}
        },
        {
          "output_type": "display_data",
          "data": {
            "text/plain": [
              "recommendations finished on 206000/305945 queries. users per second: 1695.66"
            ],
            "text/html": [
              "<pre>recommendations finished on 206000/305945 queries. users per second: 1695.66</pre>"
            ]
          },
          "metadata": {}
        },
        {
          "output_type": "display_data",
          "data": {
            "text/plain": [
              "recommendations finished on 207000/305945 queries. users per second: 1695.81"
            ],
            "text/html": [
              "<pre>recommendations finished on 207000/305945 queries. users per second: 1695.81</pre>"
            ]
          },
          "metadata": {}
        },
        {
          "output_type": "display_data",
          "data": {
            "text/plain": [
              "recommendations finished on 208000/305945 queries. users per second: 1696.33"
            ],
            "text/html": [
              "<pre>recommendations finished on 208000/305945 queries. users per second: 1696.33</pre>"
            ]
          },
          "metadata": {}
        },
        {
          "output_type": "display_data",
          "data": {
            "text/plain": [
              "recommendations finished on 209000/305945 queries. users per second: 1696.61"
            ],
            "text/html": [
              "<pre>recommendations finished on 209000/305945 queries. users per second: 1696.61</pre>"
            ]
          },
          "metadata": {}
        },
        {
          "output_type": "display_data",
          "data": {
            "text/plain": [
              "recommendations finished on 210000/305945 queries. users per second: 1696.95"
            ],
            "text/html": [
              "<pre>recommendations finished on 210000/305945 queries. users per second: 1696.95</pre>"
            ]
          },
          "metadata": {}
        },
        {
          "output_type": "display_data",
          "data": {
            "text/plain": [
              "recommendations finished on 211000/305945 queries. users per second: 1696.98"
            ],
            "text/html": [
              "<pre>recommendations finished on 211000/305945 queries. users per second: 1696.98</pre>"
            ]
          },
          "metadata": {}
        },
        {
          "output_type": "display_data",
          "data": {
            "text/plain": [
              "recommendations finished on 212000/305945 queries. users per second: 1697.25"
            ],
            "text/html": [
              "<pre>recommendations finished on 212000/305945 queries. users per second: 1697.25</pre>"
            ]
          },
          "metadata": {}
        },
        {
          "output_type": "display_data",
          "data": {
            "text/plain": [
              "recommendations finished on 213000/305945 queries. users per second: 1697.4"
            ],
            "text/html": [
              "<pre>recommendations finished on 213000/305945 queries. users per second: 1697.4</pre>"
            ]
          },
          "metadata": {}
        },
        {
          "output_type": "display_data",
          "data": {
            "text/plain": [
              "recommendations finished on 214000/305945 queries. users per second: 1697.8"
            ],
            "text/html": [
              "<pre>recommendations finished on 214000/305945 queries. users per second: 1697.8</pre>"
            ]
          },
          "metadata": {}
        },
        {
          "output_type": "display_data",
          "data": {
            "text/plain": [
              "recommendations finished on 215000/305945 queries. users per second: 1698.15"
            ],
            "text/html": [
              "<pre>recommendations finished on 215000/305945 queries. users per second: 1698.15</pre>"
            ]
          },
          "metadata": {}
        },
        {
          "output_type": "display_data",
          "data": {
            "text/plain": [
              "recommendations finished on 216000/305945 queries. users per second: 1698.29"
            ],
            "text/html": [
              "<pre>recommendations finished on 216000/305945 queries. users per second: 1698.29</pre>"
            ]
          },
          "metadata": {}
        },
        {
          "output_type": "display_data",
          "data": {
            "text/plain": [
              "recommendations finished on 217000/305945 queries. users per second: 1698.53"
            ],
            "text/html": [
              "<pre>recommendations finished on 217000/305945 queries. users per second: 1698.53</pre>"
            ]
          },
          "metadata": {}
        },
        {
          "output_type": "display_data",
          "data": {
            "text/plain": [
              "recommendations finished on 218000/305945 queries. users per second: 1698.68"
            ],
            "text/html": [
              "<pre>recommendations finished on 218000/305945 queries. users per second: 1698.68</pre>"
            ]
          },
          "metadata": {}
        },
        {
          "output_type": "display_data",
          "data": {
            "text/plain": [
              "recommendations finished on 219000/305945 queries. users per second: 1698.9"
            ],
            "text/html": [
              "<pre>recommendations finished on 219000/305945 queries. users per second: 1698.9</pre>"
            ]
          },
          "metadata": {}
        },
        {
          "output_type": "display_data",
          "data": {
            "text/plain": [
              "recommendations finished on 220000/305945 queries. users per second: 1699.13"
            ],
            "text/html": [
              "<pre>recommendations finished on 220000/305945 queries. users per second: 1699.13</pre>"
            ]
          },
          "metadata": {}
        },
        {
          "output_type": "display_data",
          "data": {
            "text/plain": [
              "recommendations finished on 221000/305945 queries. users per second: 1699.36"
            ],
            "text/html": [
              "<pre>recommendations finished on 221000/305945 queries. users per second: 1699.36</pre>"
            ]
          },
          "metadata": {}
        },
        {
          "output_type": "display_data",
          "data": {
            "text/plain": [
              "recommendations finished on 222000/305945 queries. users per second: 1695.38"
            ],
            "text/html": [
              "<pre>recommendations finished on 222000/305945 queries. users per second: 1695.38</pre>"
            ]
          },
          "metadata": {}
        },
        {
          "output_type": "display_data",
          "data": {
            "text/plain": [
              "recommendations finished on 223000/305945 queries. users per second: 1688.87"
            ],
            "text/html": [
              "<pre>recommendations finished on 223000/305945 queries. users per second: 1688.87</pre>"
            ]
          },
          "metadata": {}
        },
        {
          "output_type": "display_data",
          "data": {
            "text/plain": [
              "recommendations finished on 224000/305945 queries. users per second: 1682.4"
            ],
            "text/html": [
              "<pre>recommendations finished on 224000/305945 queries. users per second: 1682.4</pre>"
            ]
          },
          "metadata": {}
        },
        {
          "output_type": "display_data",
          "data": {
            "text/plain": [
              "recommendations finished on 225000/305945 queries. users per second: 1676.58"
            ],
            "text/html": [
              "<pre>recommendations finished on 225000/305945 queries. users per second: 1676.58</pre>"
            ]
          },
          "metadata": {}
        },
        {
          "output_type": "display_data",
          "data": {
            "text/plain": [
              "recommendations finished on 226000/305945 queries. users per second: 1676.95"
            ],
            "text/html": [
              "<pre>recommendations finished on 226000/305945 queries. users per second: 1676.95</pre>"
            ]
          },
          "metadata": {}
        },
        {
          "output_type": "display_data",
          "data": {
            "text/plain": [
              "recommendations finished on 227000/305945 queries. users per second: 1677.34"
            ],
            "text/html": [
              "<pre>recommendations finished on 227000/305945 queries. users per second: 1677.34</pre>"
            ]
          },
          "metadata": {}
        },
        {
          "output_type": "display_data",
          "data": {
            "text/plain": [
              "recommendations finished on 228000/305945 queries. users per second: 1677.51"
            ],
            "text/html": [
              "<pre>recommendations finished on 228000/305945 queries. users per second: 1677.51</pre>"
            ]
          },
          "metadata": {}
        },
        {
          "output_type": "display_data",
          "data": {
            "text/plain": [
              "recommendations finished on 229000/305945 queries. users per second: 1677.79"
            ],
            "text/html": [
              "<pre>recommendations finished on 229000/305945 queries. users per second: 1677.79</pre>"
            ]
          },
          "metadata": {}
        },
        {
          "output_type": "display_data",
          "data": {
            "text/plain": [
              "recommendations finished on 230000/305945 queries. users per second: 1678.14"
            ],
            "text/html": [
              "<pre>recommendations finished on 230000/305945 queries. users per second: 1678.14</pre>"
            ]
          },
          "metadata": {}
        },
        {
          "output_type": "display_data",
          "data": {
            "text/plain": [
              "recommendations finished on 231000/305945 queries. users per second: 1678.45"
            ],
            "text/html": [
              "<pre>recommendations finished on 231000/305945 queries. users per second: 1678.45</pre>"
            ]
          },
          "metadata": {}
        },
        {
          "output_type": "display_data",
          "data": {
            "text/plain": [
              "recommendations finished on 232000/305945 queries. users per second: 1678.88"
            ],
            "text/html": [
              "<pre>recommendations finished on 232000/305945 queries. users per second: 1678.88</pre>"
            ]
          },
          "metadata": {}
        },
        {
          "output_type": "display_data",
          "data": {
            "text/plain": [
              "recommendations finished on 233000/305945 queries. users per second: 1679.19"
            ],
            "text/html": [
              "<pre>recommendations finished on 233000/305945 queries. users per second: 1679.19</pre>"
            ]
          },
          "metadata": {}
        },
        {
          "output_type": "display_data",
          "data": {
            "text/plain": [
              "recommendations finished on 234000/305945 queries. users per second: 1679.58"
            ],
            "text/html": [
              "<pre>recommendations finished on 234000/305945 queries. users per second: 1679.58</pre>"
            ]
          },
          "metadata": {}
        },
        {
          "output_type": "display_data",
          "data": {
            "text/plain": [
              "recommendations finished on 235000/305945 queries. users per second: 1679.95"
            ],
            "text/html": [
              "<pre>recommendations finished on 235000/305945 queries. users per second: 1679.95</pre>"
            ]
          },
          "metadata": {}
        },
        {
          "output_type": "display_data",
          "data": {
            "text/plain": [
              "recommendations finished on 236000/305945 queries. users per second: 1680.44"
            ],
            "text/html": [
              "<pre>recommendations finished on 236000/305945 queries. users per second: 1680.44</pre>"
            ]
          },
          "metadata": {}
        },
        {
          "output_type": "display_data",
          "data": {
            "text/plain": [
              "recommendations finished on 237000/305945 queries. users per second: 1680.52"
            ],
            "text/html": [
              "<pre>recommendations finished on 237000/305945 queries. users per second: 1680.52</pre>"
            ]
          },
          "metadata": {}
        },
        {
          "output_type": "display_data",
          "data": {
            "text/plain": [
              "recommendations finished on 238000/305945 queries. users per second: 1680.65"
            ],
            "text/html": [
              "<pre>recommendations finished on 238000/305945 queries. users per second: 1680.65</pre>"
            ]
          },
          "metadata": {}
        },
        {
          "output_type": "display_data",
          "data": {
            "text/plain": [
              "recommendations finished on 239000/305945 queries. users per second: 1680.9"
            ],
            "text/html": [
              "<pre>recommendations finished on 239000/305945 queries. users per second: 1680.9</pre>"
            ]
          },
          "metadata": {}
        },
        {
          "output_type": "display_data",
          "data": {
            "text/plain": [
              "recommendations finished on 240000/305945 queries. users per second: 1681.13"
            ],
            "text/html": [
              "<pre>recommendations finished on 240000/305945 queries. users per second: 1681.13</pre>"
            ]
          },
          "metadata": {}
        },
        {
          "output_type": "display_data",
          "data": {
            "text/plain": [
              "recommendations finished on 241000/305945 queries. users per second: 1681.58"
            ],
            "text/html": [
              "<pre>recommendations finished on 241000/305945 queries. users per second: 1681.58</pre>"
            ]
          },
          "metadata": {}
        },
        {
          "output_type": "display_data",
          "data": {
            "text/plain": [
              "recommendations finished on 242000/305945 queries. users per second: 1681.82"
            ],
            "text/html": [
              "<pre>recommendations finished on 242000/305945 queries. users per second: 1681.82</pre>"
            ]
          },
          "metadata": {}
        },
        {
          "output_type": "display_data",
          "data": {
            "text/plain": [
              "recommendations finished on 243000/305945 queries. users per second: 1682.2"
            ],
            "text/html": [
              "<pre>recommendations finished on 243000/305945 queries. users per second: 1682.2</pre>"
            ]
          },
          "metadata": {}
        },
        {
          "output_type": "display_data",
          "data": {
            "text/plain": [
              "recommendations finished on 244000/305945 queries. users per second: 1682.27"
            ],
            "text/html": [
              "<pre>recommendations finished on 244000/305945 queries. users per second: 1682.27</pre>"
            ]
          },
          "metadata": {}
        },
        {
          "output_type": "display_data",
          "data": {
            "text/plain": [
              "recommendations finished on 245000/305945 queries. users per second: 1682.64"
            ],
            "text/html": [
              "<pre>recommendations finished on 245000/305945 queries. users per second: 1682.64</pre>"
            ]
          },
          "metadata": {}
        },
        {
          "output_type": "display_data",
          "data": {
            "text/plain": [
              "recommendations finished on 246000/305945 queries. users per second: 1682.81"
            ],
            "text/html": [
              "<pre>recommendations finished on 246000/305945 queries. users per second: 1682.81</pre>"
            ]
          },
          "metadata": {}
        },
        {
          "output_type": "display_data",
          "data": {
            "text/plain": [
              "recommendations finished on 247000/305945 queries. users per second: 1683.15"
            ],
            "text/html": [
              "<pre>recommendations finished on 247000/305945 queries. users per second: 1683.15</pre>"
            ]
          },
          "metadata": {}
        },
        {
          "output_type": "display_data",
          "data": {
            "text/plain": [
              "recommendations finished on 248000/305945 queries. users per second: 1683.62"
            ],
            "text/html": [
              "<pre>recommendations finished on 248000/305945 queries. users per second: 1683.62</pre>"
            ]
          },
          "metadata": {}
        },
        {
          "output_type": "display_data",
          "data": {
            "text/plain": [
              "recommendations finished on 249000/305945 queries. users per second: 1683.89"
            ],
            "text/html": [
              "<pre>recommendations finished on 249000/305945 queries. users per second: 1683.89</pre>"
            ]
          },
          "metadata": {}
        },
        {
          "output_type": "display_data",
          "data": {
            "text/plain": [
              "recommendations finished on 250000/305945 queries. users per second: 1684.37"
            ],
            "text/html": [
              "<pre>recommendations finished on 250000/305945 queries. users per second: 1684.37</pre>"
            ]
          },
          "metadata": {}
        },
        {
          "output_type": "display_data",
          "data": {
            "text/plain": [
              "recommendations finished on 251000/305945 queries. users per second: 1684.52"
            ],
            "text/html": [
              "<pre>recommendations finished on 251000/305945 queries. users per second: 1684.52</pre>"
            ]
          },
          "metadata": {}
        },
        {
          "output_type": "display_data",
          "data": {
            "text/plain": [
              "recommendations finished on 252000/305945 queries. users per second: 1684.95"
            ],
            "text/html": [
              "<pre>recommendations finished on 252000/305945 queries. users per second: 1684.95</pre>"
            ]
          },
          "metadata": {}
        },
        {
          "output_type": "display_data",
          "data": {
            "text/plain": [
              "recommendations finished on 253000/305945 queries. users per second: 1685.15"
            ],
            "text/html": [
              "<pre>recommendations finished on 253000/305945 queries. users per second: 1685.15</pre>"
            ]
          },
          "metadata": {}
        },
        {
          "output_type": "display_data",
          "data": {
            "text/plain": [
              "recommendations finished on 254000/305945 queries. users per second: 1685.42"
            ],
            "text/html": [
              "<pre>recommendations finished on 254000/305945 queries. users per second: 1685.42</pre>"
            ]
          },
          "metadata": {}
        },
        {
          "output_type": "display_data",
          "data": {
            "text/plain": [
              "recommendations finished on 255000/305945 queries. users per second: 1685.48"
            ],
            "text/html": [
              "<pre>recommendations finished on 255000/305945 queries. users per second: 1685.48</pre>"
            ]
          },
          "metadata": {}
        },
        {
          "output_type": "display_data",
          "data": {
            "text/plain": [
              "recommendations finished on 256000/305945 queries. users per second: 1685.54"
            ],
            "text/html": [
              "<pre>recommendations finished on 256000/305945 queries. users per second: 1685.54</pre>"
            ]
          },
          "metadata": {}
        },
        {
          "output_type": "display_data",
          "data": {
            "text/plain": [
              "recommendations finished on 257000/305945 queries. users per second: 1685.8"
            ],
            "text/html": [
              "<pre>recommendations finished on 257000/305945 queries. users per second: 1685.8</pre>"
            ]
          },
          "metadata": {}
        },
        {
          "output_type": "display_data",
          "data": {
            "text/plain": [
              "recommendations finished on 258000/305945 queries. users per second: 1686.07"
            ],
            "text/html": [
              "<pre>recommendations finished on 258000/305945 queries. users per second: 1686.07</pre>"
            ]
          },
          "metadata": {}
        },
        {
          "output_type": "display_data",
          "data": {
            "text/plain": [
              "recommendations finished on 259000/305945 queries. users per second: 1686.4"
            ],
            "text/html": [
              "<pre>recommendations finished on 259000/305945 queries. users per second: 1686.4</pre>"
            ]
          },
          "metadata": {}
        },
        {
          "output_type": "display_data",
          "data": {
            "text/plain": [
              "recommendations finished on 260000/305945 queries. users per second: 1686.57"
            ],
            "text/html": [
              "<pre>recommendations finished on 260000/305945 queries. users per second: 1686.57</pre>"
            ]
          },
          "metadata": {}
        },
        {
          "output_type": "display_data",
          "data": {
            "text/plain": [
              "recommendations finished on 261000/305945 queries. users per second: 1686.86"
            ],
            "text/html": [
              "<pre>recommendations finished on 261000/305945 queries. users per second: 1686.86</pre>"
            ]
          },
          "metadata": {}
        },
        {
          "output_type": "display_data",
          "data": {
            "text/plain": [
              "recommendations finished on 262000/305945 queries. users per second: 1687.12"
            ],
            "text/html": [
              "<pre>recommendations finished on 262000/305945 queries. users per second: 1687.12</pre>"
            ]
          },
          "metadata": {}
        },
        {
          "output_type": "display_data",
          "data": {
            "text/plain": [
              "recommendations finished on 263000/305945 queries. users per second: 1687.52"
            ],
            "text/html": [
              "<pre>recommendations finished on 263000/305945 queries. users per second: 1687.52</pre>"
            ]
          },
          "metadata": {}
        },
        {
          "output_type": "display_data",
          "data": {
            "text/plain": [
              "recommendations finished on 264000/305945 queries. users per second: 1687.71"
            ],
            "text/html": [
              "<pre>recommendations finished on 264000/305945 queries. users per second: 1687.71</pre>"
            ]
          },
          "metadata": {}
        },
        {
          "output_type": "display_data",
          "data": {
            "text/plain": [
              "recommendations finished on 265000/305945 queries. users per second: 1687.92"
            ],
            "text/html": [
              "<pre>recommendations finished on 265000/305945 queries. users per second: 1687.92</pre>"
            ]
          },
          "metadata": {}
        },
        {
          "output_type": "display_data",
          "data": {
            "text/plain": [
              "recommendations finished on 266000/305945 queries. users per second: 1688.31"
            ],
            "text/html": [
              "<pre>recommendations finished on 266000/305945 queries. users per second: 1688.31</pre>"
            ]
          },
          "metadata": {}
        },
        {
          "output_type": "display_data",
          "data": {
            "text/plain": [
              "recommendations finished on 267000/305945 queries. users per second: 1688.48"
            ],
            "text/html": [
              "<pre>recommendations finished on 267000/305945 queries. users per second: 1688.48</pre>"
            ]
          },
          "metadata": {}
        },
        {
          "output_type": "display_data",
          "data": {
            "text/plain": [
              "recommendations finished on 268000/305945 queries. users per second: 1688.88"
            ],
            "text/html": [
              "<pre>recommendations finished on 268000/305945 queries. users per second: 1688.88</pre>"
            ]
          },
          "metadata": {}
        },
        {
          "output_type": "display_data",
          "data": {
            "text/plain": [
              "recommendations finished on 269000/305945 queries. users per second: 1689.08"
            ],
            "text/html": [
              "<pre>recommendations finished on 269000/305945 queries. users per second: 1689.08</pre>"
            ]
          },
          "metadata": {}
        },
        {
          "output_type": "display_data",
          "data": {
            "text/plain": [
              "recommendations finished on 270000/305945 queries. users per second: 1689.52"
            ],
            "text/html": [
              "<pre>recommendations finished on 270000/305945 queries. users per second: 1689.52</pre>"
            ]
          },
          "metadata": {}
        },
        {
          "output_type": "display_data",
          "data": {
            "text/plain": [
              "recommendations finished on 271000/305945 queries. users per second: 1689.77"
            ],
            "text/html": [
              "<pre>recommendations finished on 271000/305945 queries. users per second: 1689.77</pre>"
            ]
          },
          "metadata": {}
        },
        {
          "output_type": "display_data",
          "data": {
            "text/plain": [
              "recommendations finished on 272000/305945 queries. users per second: 1690.03"
            ],
            "text/html": [
              "<pre>recommendations finished on 272000/305945 queries. users per second: 1690.03</pre>"
            ]
          },
          "metadata": {}
        },
        {
          "output_type": "display_data",
          "data": {
            "text/plain": [
              "recommendations finished on 273000/305945 queries. users per second: 1690.21"
            ],
            "text/html": [
              "<pre>recommendations finished on 273000/305945 queries. users per second: 1690.21</pre>"
            ]
          },
          "metadata": {}
        },
        {
          "output_type": "display_data",
          "data": {
            "text/plain": [
              "recommendations finished on 274000/305945 queries. users per second: 1690.5"
            ],
            "text/html": [
              "<pre>recommendations finished on 274000/305945 queries. users per second: 1690.5</pre>"
            ]
          },
          "metadata": {}
        },
        {
          "output_type": "display_data",
          "data": {
            "text/plain": [
              "recommendations finished on 275000/305945 queries. users per second: 1690.94"
            ],
            "text/html": [
              "<pre>recommendations finished on 275000/305945 queries. users per second: 1690.94</pre>"
            ]
          },
          "metadata": {}
        },
        {
          "output_type": "display_data",
          "data": {
            "text/plain": [
              "recommendations finished on 276000/305945 queries. users per second: 1691.01"
            ],
            "text/html": [
              "<pre>recommendations finished on 276000/305945 queries. users per second: 1691.01</pre>"
            ]
          },
          "metadata": {}
        },
        {
          "output_type": "display_data",
          "data": {
            "text/plain": [
              "recommendations finished on 277000/305945 queries. users per second: 1691.23"
            ],
            "text/html": [
              "<pre>recommendations finished on 277000/305945 queries. users per second: 1691.23</pre>"
            ]
          },
          "metadata": {}
        },
        {
          "output_type": "display_data",
          "data": {
            "text/plain": [
              "recommendations finished on 278000/305945 queries. users per second: 1691.27"
            ],
            "text/html": [
              "<pre>recommendations finished on 278000/305945 queries. users per second: 1691.27</pre>"
            ]
          },
          "metadata": {}
        },
        {
          "output_type": "display_data",
          "data": {
            "text/plain": [
              "recommendations finished on 279000/305945 queries. users per second: 1691.6"
            ],
            "text/html": [
              "<pre>recommendations finished on 279000/305945 queries. users per second: 1691.6</pre>"
            ]
          },
          "metadata": {}
        },
        {
          "output_type": "display_data",
          "data": {
            "text/plain": [
              "recommendations finished on 280000/305945 queries. users per second: 1691.98"
            ],
            "text/html": [
              "<pre>recommendations finished on 280000/305945 queries. users per second: 1691.98</pre>"
            ]
          },
          "metadata": {}
        },
        {
          "output_type": "display_data",
          "data": {
            "text/plain": [
              "recommendations finished on 281000/305945 queries. users per second: 1692.22"
            ],
            "text/html": [
              "<pre>recommendations finished on 281000/305945 queries. users per second: 1692.22</pre>"
            ]
          },
          "metadata": {}
        },
        {
          "output_type": "display_data",
          "data": {
            "text/plain": [
              "recommendations finished on 282000/305945 queries. users per second: 1692.55"
            ],
            "text/html": [
              "<pre>recommendations finished on 282000/305945 queries. users per second: 1692.55</pre>"
            ]
          },
          "metadata": {}
        },
        {
          "output_type": "display_data",
          "data": {
            "text/plain": [
              "recommendations finished on 283000/305945 queries. users per second: 1692.76"
            ],
            "text/html": [
              "<pre>recommendations finished on 283000/305945 queries. users per second: 1692.76</pre>"
            ]
          },
          "metadata": {}
        },
        {
          "output_type": "display_data",
          "data": {
            "text/plain": [
              "recommendations finished on 284000/305945 queries. users per second: 1693.17"
            ],
            "text/html": [
              "<pre>recommendations finished on 284000/305945 queries. users per second: 1693.17</pre>"
            ]
          },
          "metadata": {}
        },
        {
          "output_type": "display_data",
          "data": {
            "text/plain": [
              "recommendations finished on 285000/305945 queries. users per second: 1693.5"
            ],
            "text/html": [
              "<pre>recommendations finished on 285000/305945 queries. users per second: 1693.5</pre>"
            ]
          },
          "metadata": {}
        },
        {
          "output_type": "display_data",
          "data": {
            "text/plain": [
              "recommendations finished on 286000/305945 queries. users per second: 1693.81"
            ],
            "text/html": [
              "<pre>recommendations finished on 286000/305945 queries. users per second: 1693.81</pre>"
            ]
          },
          "metadata": {}
        },
        {
          "output_type": "display_data",
          "data": {
            "text/plain": [
              "recommendations finished on 287000/305945 queries. users per second: 1694.11"
            ],
            "text/html": [
              "<pre>recommendations finished on 287000/305945 queries. users per second: 1694.11</pre>"
            ]
          },
          "metadata": {}
        },
        {
          "output_type": "display_data",
          "data": {
            "text/plain": [
              "recommendations finished on 288000/305945 queries. users per second: 1694.45"
            ],
            "text/html": [
              "<pre>recommendations finished on 288000/305945 queries. users per second: 1694.45</pre>"
            ]
          },
          "metadata": {}
        },
        {
          "output_type": "display_data",
          "data": {
            "text/plain": [
              "recommendations finished on 289000/305945 queries. users per second: 1694.7"
            ],
            "text/html": [
              "<pre>recommendations finished on 289000/305945 queries. users per second: 1694.7</pre>"
            ]
          },
          "metadata": {}
        },
        {
          "output_type": "display_data",
          "data": {
            "text/plain": [
              "recommendations finished on 290000/305945 queries. users per second: 1695.03"
            ],
            "text/html": [
              "<pre>recommendations finished on 290000/305945 queries. users per second: 1695.03</pre>"
            ]
          },
          "metadata": {}
        },
        {
          "output_type": "display_data",
          "data": {
            "text/plain": [
              "recommendations finished on 291000/305945 queries. users per second: 1695.33"
            ],
            "text/html": [
              "<pre>recommendations finished on 291000/305945 queries. users per second: 1695.33</pre>"
            ]
          },
          "metadata": {}
        },
        {
          "output_type": "display_data",
          "data": {
            "text/plain": [
              "recommendations finished on 292000/305945 queries. users per second: 1695.82"
            ],
            "text/html": [
              "<pre>recommendations finished on 292000/305945 queries. users per second: 1695.82</pre>"
            ]
          },
          "metadata": {}
        },
        {
          "output_type": "display_data",
          "data": {
            "text/plain": [
              "recommendations finished on 293000/305945 queries. users per second: 1696.07"
            ],
            "text/html": [
              "<pre>recommendations finished on 293000/305945 queries. users per second: 1696.07</pre>"
            ]
          },
          "metadata": {}
        },
        {
          "output_type": "display_data",
          "data": {
            "text/plain": [
              "recommendations finished on 294000/305945 queries. users per second: 1696.15"
            ],
            "text/html": [
              "<pre>recommendations finished on 294000/305945 queries. users per second: 1696.15</pre>"
            ]
          },
          "metadata": {}
        },
        {
          "output_type": "display_data",
          "data": {
            "text/plain": [
              "recommendations finished on 295000/305945 queries. users per second: 1696.47"
            ],
            "text/html": [
              "<pre>recommendations finished on 295000/305945 queries. users per second: 1696.47</pre>"
            ]
          },
          "metadata": {}
        },
        {
          "output_type": "display_data",
          "data": {
            "text/plain": [
              "recommendations finished on 296000/305945 queries. users per second: 1696.78"
            ],
            "text/html": [
              "<pre>recommendations finished on 296000/305945 queries. users per second: 1696.78</pre>"
            ]
          },
          "metadata": {}
        },
        {
          "output_type": "display_data",
          "data": {
            "text/plain": [
              "recommendations finished on 297000/305945 queries. users per second: 1697.1"
            ],
            "text/html": [
              "<pre>recommendations finished on 297000/305945 queries. users per second: 1697.1</pre>"
            ]
          },
          "metadata": {}
        },
        {
          "output_type": "display_data",
          "data": {
            "text/plain": [
              "recommendations finished on 298000/305945 queries. users per second: 1697.45"
            ],
            "text/html": [
              "<pre>recommendations finished on 298000/305945 queries. users per second: 1697.45</pre>"
            ]
          },
          "metadata": {}
        },
        {
          "output_type": "display_data",
          "data": {
            "text/plain": [
              "recommendations finished on 299000/305945 queries. users per second: 1697.81"
            ],
            "text/html": [
              "<pre>recommendations finished on 299000/305945 queries. users per second: 1697.81</pre>"
            ]
          },
          "metadata": {}
        },
        {
          "output_type": "display_data",
          "data": {
            "text/plain": [
              "recommendations finished on 300000/305945 queries. users per second: 1697.96"
            ],
            "text/html": [
              "<pre>recommendations finished on 300000/305945 queries. users per second: 1697.96</pre>"
            ]
          },
          "metadata": {}
        },
        {
          "output_type": "display_data",
          "data": {
            "text/plain": [
              "recommendations finished on 301000/305945 queries. users per second: 1697.49"
            ],
            "text/html": [
              "<pre>recommendations finished on 301000/305945 queries. users per second: 1697.49</pre>"
            ]
          },
          "metadata": {}
        },
        {
          "output_type": "display_data",
          "data": {
            "text/plain": [
              "recommendations finished on 302000/305945 queries. users per second: 1697.1"
            ],
            "text/html": [
              "<pre>recommendations finished on 302000/305945 queries. users per second: 1697.1</pre>"
            ]
          },
          "metadata": {}
        },
        {
          "output_type": "display_data",
          "data": {
            "text/plain": [
              "recommendations finished on 303000/305945 queries. users per second: 1696.66"
            ],
            "text/html": [
              "<pre>recommendations finished on 303000/305945 queries. users per second: 1696.66</pre>"
            ]
          },
          "metadata": {}
        },
        {
          "output_type": "display_data",
          "data": {
            "text/plain": [
              "recommendations finished on 304000/305945 queries. users per second: 1696.47"
            ],
            "text/html": [
              "<pre>recommendations finished on 304000/305945 queries. users per second: 1696.47</pre>"
            ]
          },
          "metadata": {}
        },
        {
          "output_type": "display_data",
          "data": {
            "text/plain": [
              "recommendations finished on 305000/305945 queries. users per second: 1696.23"
            ],
            "text/html": [
              "<pre>recommendations finished on 305000/305945 queries. users per second: 1696.23</pre>"
            ]
          },
          "metadata": {}
        },
        {
          "output_type": "stream",
          "name": "stdout",
          "text": [
            "+---------+---------+-----------------------+------+\n",
            "| user_id | item_id |         score         | rank |\n",
            "+---------+---------+-----------------------+------+\n",
            "|    0    |  19240  | 0.0051431578138600225 |  1   |\n",
            "|    0    |   175   |  0.005076270388520282 |  2   |\n",
            "|    0    |   1744  |  0.004532939713934194 |  3   |\n",
            "|    0    |   504   |  0.004261071267335311 |  4   |\n",
            "|    0    |   152   |  0.004214028301446334 |  5   |\n",
            "|    0    |   1087  |  0.004186350366343622 |  6   |\n",
            "|    0    |   1757  |  0.003418677526971568 |  7   |\n",
            "|    0    |   3921  | 0.0034182965755462646 |  8   |\n",
            "|    0    |  23080  | 0.0032764614924140597 |  9   |\n",
            "|    0    |  27017  | 0.0031904299621996674 |  10  |\n",
            "|    0    |   2932  |  0.003166989787765171 |  11  |\n",
            "|    0    |   840   |  0.003159938947014187 |  12  |\n",
            "|    1    |  33170  |  0.009186889186049953 |  1   |\n",
            "|    1    |   8268  |  0.009007825995936539 |  2   |\n",
            "|    1    |  20399  |  0.00855834014487989  |  3   |\n",
            "|    1    |   1087  |  0.008022395047274504 |  4   |\n",
            "|    1    |   6233  | 0.0073225263393286505 |  5   |\n",
            "|    1    |  26285  | 0.0071970874612981624 |  6   |\n",
            "|    1    |   8188  |  0.006910753972602613 |  7   |\n",
            "|    1    |  10302  |  0.006514525774753455 |  8   |\n",
            "|    1    |  29553  |  0.006142123179002242 |  9   |\n",
            "|    1    |   175   |  0.005706395163680568 |  10  |\n",
            "|    1    |   1703  |  0.005660739811983975 |  11  |\n",
            "|    1    |  18734  |  0.00540676803299875  |  12  |\n",
            "|    2    |   5035  |  0.013998733117030216 |  1   |\n",
            "|    2    |   5036  |  0.01165798306465149  |  2   |\n",
            "|    2    |  23194  |  0.010430308488699106 |  3   |\n",
            "|    2    |   6573  |  0.00922330067707942  |  4   |\n",
            "|    2    |  24938  |  0.00882471066254836  |  5   |\n",
            "|    2    |   3186  |  0.00824583493746244  |  6   |\n",
            "+---------+---------+-----------------------+------+\n",
            "[3671340 rows x 4 columns]\n",
            "\n"
          ]
        }
      ]
    },
    {
      "cell_type": "code",
      "source": [
        "recommendation.print_rows(100)"
      ],
      "metadata": {
        "colab": {
          "base_uri": "https://localhost:8080/"
        },
        "id": "VnH4UBo-T44m",
        "outputId": "78a34f2a-5fa5-4457-bf4f-6004698cad01"
      },
      "execution_count": null,
      "outputs": [
        {
          "output_type": "stream",
          "name": "stdout",
          "text": [
            "+---------+---------+-----------------------+------+\n",
            "| user_id | item_id |         score         | rank |\n",
            "+---------+---------+-----------------------+------+\n",
            "|    0    |  19240  | 0.0051431578138600225 |  1   |\n",
            "|    0    |   175   |  0.005076270388520282 |  2   |\n",
            "|    0    |   1744  |  0.004532939713934194 |  3   |\n",
            "|    0    |   504   |  0.004261071267335311 |  4   |\n",
            "|    0    |   152   |  0.004214028301446334 |  5   |\n",
            "|    0    |   1087  |  0.004186350366343622 |  6   |\n",
            "|    0    |   1757  |  0.003418677526971568 |  7   |\n",
            "|    0    |   3921  | 0.0034182965755462646 |  8   |\n",
            "|    0    |  23080  | 0.0032764614924140597 |  9   |\n",
            "|    0    |  27017  | 0.0031904299621996674 |  10  |\n",
            "|    0    |   2932  |  0.003166989787765171 |  11  |\n",
            "|    0    |   840   |  0.003159938947014187 |  12  |\n",
            "|    1    |  33170  |  0.009186889186049953 |  1   |\n",
            "|    1    |   8268  |  0.009007825995936539 |  2   |\n",
            "|    1    |  20399  |  0.00855834014487989  |  3   |\n",
            "|    1    |   1087  |  0.008022395047274504 |  4   |\n",
            "|    1    |   6233  | 0.0073225263393286505 |  5   |\n",
            "|    1    |  26285  | 0.0071970874612981624 |  6   |\n",
            "|    1    |   8188  |  0.006910753972602613 |  7   |\n",
            "|    1    |  10302  |  0.006514525774753455 |  8   |\n",
            "|    1    |  29553  |  0.006142123179002242 |  9   |\n",
            "|    1    |   175   |  0.005706395163680568 |  10  |\n",
            "|    1    |   1703  |  0.005660739811983975 |  11  |\n",
            "|    1    |  18734  |  0.00540676803299875  |  12  |\n",
            "|    2    |   5035  |  0.013998733117030216 |  1   |\n",
            "|    2    |   5036  |  0.01165798306465149  |  2   |\n",
            "|    2    |  23194  |  0.010430308488699106 |  3   |\n",
            "|    2    |   6573  |  0.00922330067707942  |  4   |\n",
            "|    2    |  24938  |  0.00882471066254836  |  5   |\n",
            "|    2    |   3186  |  0.00824583493746244  |  6   |\n",
            "|    2    |   6565  |  0.00811094045639038  |  7   |\n",
            "|    2    |  26879  |  0.008088813378260685 |  8   |\n",
            "|    2    |   1461  |  0.007797238918451162 |  9   |\n",
            "|    2    |  34380  |  0.007335924185239351 |  10  |\n",
            "|    2    |  26878  |  0.006891489028930664 |  11  |\n",
            "|    2    |   1087  |  0.006850322851767907 |  12  |\n",
            "|    3    |   3000  |  0.010118808816461003 |  1   |\n",
            "|    3    |   2712  |  0.007916694178300746 |  2   |\n",
            "|    3    |   5506  |  0.007825201048570521 |  3   |\n",
            "|    3    |   2713  |  0.007730347268721636 |  4   |\n",
            "|    3    |  11001  |  0.007304636871113497 |  5   |\n",
            "|    3    |  11030  |  0.006986837176715627 |  6   |\n",
            "|    3    |   615   |  0.006908556994269876 |  7   |\n",
            "|    3    |   762   |  0.006894974147572237 |  8   |\n",
            "|    3    |   504   |  0.006774781381382662 |  9   |\n",
            "|    3    |   1441  |  0.006757017444161808 |  10  |\n",
            "|    3    |  28633  |  0.006240539691027473 |  11  |\n",
            "|    3    |   8184  |  0.006111059118719662 |  12  |\n",
            "|    4    |  31314  |  0.008989862367218616 |  1   |\n",
            "|    4    |   175   |  0.008556675677206003 |  2   |\n",
            "|    4    |  27661  |  0.00806361436843872  |  3   |\n",
            "|    4    |   1441  |  0.006711355611389759 |  4   |\n",
            "|    4    |   174   |  0.006165444850921631 |  5   |\n",
            "|    4    |   9704  |  0.00596928362752877  |  6   |\n",
            "|    4    |   851   |  0.005804837918749042 |  7   |\n",
            "|    4    |   504   |  0.005740532688066072 |  8   |\n",
            "|    4    |   7983  |  0.005076338263118968 |  9   |\n",
            "|    4    |  16978  |  0.005020311065748626 |  10  |\n",
            "|    4    |   4744  |  0.004922204157885383 |  11  |\n",
            "|    4    |   856   |  0.004804054896036784 |  12  |\n",
            "|    5    |  32229  |  0.019099527789700414 |  1   |\n",
            "|    5    |  29848  |  0.013114375452841482 |  2   |\n",
            "|    5    |   175   |  0.010889472499970467 |  3   |\n",
            "|    5    |   4898  |  0.010344147682189941 |  4   |\n",
            "|    5    |   1441  |  0.008386090878517397 |  5   |\n",
            "|    5    |  13053  |  0.006496166029284077 |  6   |\n",
            "|    5    |   615   |  0.006171322637988675 |  7   |\n",
            "|    5    |  24847  |  0.006153527767427506 |  8   |\n",
            "|    5    |   174   |  0.006011289934958181 |  9   |\n",
            "|    5    |   3431  |  0.005773048247060468 |  10  |\n",
            "|    5    |  17516  |  0.00558827769371771  |  11  |\n",
            "|    5    |   856   |  0.005519034401062996 |  12  |\n",
            "|    6    |   851   |  0.005349638109857386 |  1   |\n",
            "|    6    |   497   |  0.005176334218545394 |  2   |\n",
            "|    6    |   1441  |  0.004718424921685999 |  3   |\n",
            "|    6    |   788   |  0.004651433364911513 |  4   |\n",
            "|    6    |   504   |  0.004645011641762473 |  5   |\n",
            "|    6    |   509   | 0.0041215948083183985 |  6   |\n",
            "|    6    |   6386  | 0.0038771622560241008 |  7   |\n",
            "|    6    |   794   | 0.0036366967992349105 |  8   |\n",
            "|    6    |  11031  |  0.003267120231281627 |  9   |\n",
            "|    6    |   615   | 0.0032372481443665242 |  10  |\n",
            "|    6    |    87   |  0.003152124583721161 |  11  |\n",
            "|    6    |   8200  |  0.003150660205971111 |  12  |\n",
            "|    7    |   175   |  0.008955074840760135 |  1   |\n",
            "|    7    |   174   |  0.005509867845290157 |  2   |\n",
            "|    7    |   504   |  0.004281867819138798 |  3   |\n",
            "|    7    |   1441  |  0.004241537736601619 |  4   |\n",
            "|    7    |   176   |  0.003979975679313323 |  5   |\n",
            "|    7    |   600   |  0.003811896565448807 |  6   |\n",
            "|    7    |    87   |  0.003105281466939842 |  7   |\n",
            "|    7    |   1779  |  0.003039031861776329 |  8   |\n",
            "|    7    |  12515  |  0.002897091539030573 |  9   |\n",
            "|    7    |   4265  | 0.0025674236347397648 |  10  |\n",
            "|    7    |   2932  | 0.0023783781681673594 |  11  |\n",
            "|    7    |   3921  |  0.002357097993414086 |  12  |\n",
            "|    8    |   8359  |  0.004978760551003849 |  1   |\n",
            "|    8    |   9638  |  0.004883059333352481 |  2   |\n",
            "|    8    |   4988  |  0.004779483991510728 |  3   |\n",
            "|    8    |   6329  |  0.004755096575793098 |  4   |\n",
            "+---------+---------+-----------------------+------+\n",
            "[3671340 rows x 4 columns]\n",
            "\n"
          ]
        }
      ]
    },
    {
      "cell_type": "code",
      "source": [
        "# evaluating the model\n",
        "cos_eval = cosine.evaluate_precision_recall(df_test)"
      ],
      "metadata": {
        "id": "gq17PZatSVol"
      },
      "execution_count": null,
      "outputs": []
    },
    {
      "cell_type": "code",
      "source": [
        "cos_eval"
      ],
      "metadata": {
        "colab": {
          "base_uri": "https://localhost:8080/"
        },
        "id": "n_yj3s93TCk1",
        "outputId": "83d5ce76-cc96-4686-8b3b-2f41f4fedab2"
      },
      "execution_count": null,
      "outputs": [
        {
          "output_type": "execute_result",
          "data": {
            "text/plain": [
              "{'precision_recall_by_user': Columns:\n",
              " \tuser_id\tint\n",
              " \tcutoff\tint\n",
              " \tprecision\tfloat\n",
              " \trecall\tfloat\n",
              " \tcount\tint\n",
              " \n",
              " Rows: 1619658\n",
              " \n",
              " Data:\n",
              " +---------+--------+-----------+--------+-------+\n",
              " | user_id | cutoff | precision | recall | count |\n",
              " +---------+--------+-----------+--------+-------+\n",
              " |    5    |   1    |    0.0    |  0.0   |   9   |\n",
              " |    5    |   2    |    0.0    |  0.0   |   9   |\n",
              " |    5    |   3    |    0.0    |  0.0   |   9   |\n",
              " |    5    |   4    |    0.0    |  0.0   |   9   |\n",
              " |    5    |   5    |    0.0    |  0.0   |   9   |\n",
              " |    5    |   6    |    0.0    |  0.0   |   9   |\n",
              " |    5    |   7    |    0.0    |  0.0   |   9   |\n",
              " |    5    |   8    |    0.0    |  0.0   |   9   |\n",
              " |    5    |   9    |    0.0    |  0.0   |   9   |\n",
              " |    5    |   10   |    0.0    |  0.0   |   9   |\n",
              " +---------+--------+-----------+--------+-------+\n",
              " [1619658 rows x 5 columns]\n",
              " Note: Only the head of the SFrame is printed.\n",
              " You can use print_rows(num_rows=m, num_columns=n) to print more rows and columns.,\n",
              " 'precision_recall_overall': Columns:\n",
              " \tcutoff\tint\n",
              " \tprecision\tfloat\n",
              " \trecall\tfloat\n",
              " \n",
              " Rows: 18\n",
              " \n",
              " Data:\n",
              " +--------+---------------------+----------------------+\n",
              " | cutoff |      precision      |        recall        |\n",
              " +--------+---------------------+----------------------+\n",
              " |   1    | 0.21536768873428827 | 0.01587973337186984  |\n",
              " |   2    |  0.1783154221446756 |  0.025670259055042   |\n",
              " |   3    | 0.15619223317515207 | 0.033290830165462124 |\n",
              " |   4    | 0.14034629532901308 |  0.0394048224693976  |\n",
              " |   5    | 0.12855825118636124 | 0.04469243680376137  |\n",
              " |   6    | 0.11909180827063523 | 0.04936432860409997  |\n",
              " |   7    |  0.111166325589371  | 0.053399794585660965 |\n",
              " |   8    | 0.10478323201564761 | 0.05720018142130301  |\n",
              " |   9    | 0.09933578570290616 | 0.06075331231667819  |\n",
              " |   10   | 0.09457218746179773 |  0.0639932696481935  |\n",
              " +--------+---------------------+----------------------+\n",
              " [18 rows x 3 columns]\n",
              " Note: Only the head of the SFrame is printed.\n",
              " You can use print_rows(num_rows=m, num_columns=n) to print more rows and columns.}"
            ]
          },
          "metadata": {},
          "execution_count": 15
        }
      ]
    },
    {
      "cell_type": "markdown",
      "source": [
        "## 1-2 Jaccard similarity"
      ],
      "metadata": {
        "id": "Nvx0_nI2Xm4A"
      }
    },
    {
      "cell_type": "code",
      "source": [
        "jaccard = tc.item_similarity_recommender.create(df_train, \n",
        "                                              user_id='user_id', \n",
        "                                              item_id='item_id',\n",
        "                                              similarity_type='jaccard')\n",
        "# recommend k products for a list of users (None corresponds to all users) \n",
        "recommendation = jaccard.recommend(users=None, k=12)"
      ],
      "metadata": {
        "colab": {
          "base_uri": "https://localhost:8080/",
          "height": 1000
        },
        "id": "z3g-BfDMUo7A",
        "outputId": "7caa7521-3853-4d9d-e38f-87d77ad486b4"
      },
      "execution_count": null,
      "outputs": [
        {
          "output_type": "display_data",
          "data": {
            "text/plain": [
              "Preparing data set."
            ],
            "text/html": [
              "<pre>Preparing data set.</pre>"
            ]
          },
          "metadata": {}
        },
        {
          "output_type": "display_data",
          "data": {
            "text/plain": [
              "    Data has 16380622 observations with 305945 users and 42373 items."
            ],
            "text/html": [
              "<pre>    Data has 16380622 observations with 305945 users and 42373 items.</pre>"
            ]
          },
          "metadata": {}
        },
        {
          "output_type": "display_data",
          "data": {
            "text/plain": [
              "    Data prepared in: 15.4085s"
            ],
            "text/html": [
              "<pre>    Data prepared in: 15.4085s</pre>"
            ]
          },
          "metadata": {}
        },
        {
          "output_type": "display_data",
          "data": {
            "text/plain": [
              "Training model from provided data."
            ],
            "text/html": [
              "<pre>Training model from provided data.</pre>"
            ]
          },
          "metadata": {}
        },
        {
          "output_type": "display_data",
          "data": {
            "text/plain": [
              "Gathering per-item and per-user statistics."
            ],
            "text/html": [
              "<pre>Gathering per-item and per-user statistics.</pre>"
            ]
          },
          "metadata": {}
        },
        {
          "output_type": "display_data",
          "data": {
            "text/plain": [
              "+--------------------------------+------------+"
            ],
            "text/html": [
              "<pre>+--------------------------------+------------+</pre>"
            ]
          },
          "metadata": {}
        },
        {
          "output_type": "display_data",
          "data": {
            "text/plain": [
              "| Elapsed Time (Item Statistics) | % Complete |"
            ],
            "text/html": [
              "<pre>| Elapsed Time (Item Statistics) | % Complete |</pre>"
            ]
          },
          "metadata": {}
        },
        {
          "output_type": "display_data",
          "data": {
            "text/plain": [
              "+--------------------------------+------------+"
            ],
            "text/html": [
              "<pre>+--------------------------------+------------+</pre>"
            ]
          },
          "metadata": {}
        },
        {
          "output_type": "display_data",
          "data": {
            "text/plain": [
              "| 15.408ms                       | 0.25       |"
            ],
            "text/html": [
              "<pre>| 15.408ms                       | 0.25       |</pre>"
            ]
          },
          "metadata": {}
        },
        {
          "output_type": "display_data",
          "data": {
            "text/plain": [
              "| 614.672ms                      | 100        |"
            ],
            "text/html": [
              "<pre>| 614.672ms                      | 100        |</pre>"
            ]
          },
          "metadata": {}
        },
        {
          "output_type": "display_data",
          "data": {
            "text/plain": [
              "+--------------------------------+------------+"
            ],
            "text/html": [
              "<pre>+--------------------------------+------------+</pre>"
            ]
          },
          "metadata": {}
        },
        {
          "output_type": "display_data",
          "data": {
            "text/plain": [
              "Setting up lookup tables."
            ],
            "text/html": [
              "<pre>Setting up lookup tables.</pre>"
            ]
          },
          "metadata": {}
        },
        {
          "output_type": "display_data",
          "data": {
            "text/plain": [
              "Processing data in one pass using dense lookup tables."
            ],
            "text/html": [
              "<pre>Processing data in one pass using dense lookup tables.</pre>"
            ]
          },
          "metadata": {}
        },
        {
          "output_type": "display_data",
          "data": {
            "text/plain": [
              "+-------------------------------------+------------------+-----------------+"
            ],
            "text/html": [
              "<pre>+-------------------------------------+------------------+-----------------+</pre>"
            ]
          },
          "metadata": {}
        },
        {
          "output_type": "display_data",
          "data": {
            "text/plain": [
              "| Elapsed Time (Constructing Lookups) | Total % Complete | Items Processed |"
            ],
            "text/html": [
              "<pre>| Elapsed Time (Constructing Lookups) | Total % Complete | Items Processed |</pre>"
            ]
          },
          "metadata": {}
        },
        {
          "output_type": "display_data",
          "data": {
            "text/plain": [
              "+-------------------------------------+------------------+-----------------+"
            ],
            "text/html": [
              "<pre>+-------------------------------------+------------------+-----------------+</pre>"
            ]
          },
          "metadata": {}
        },
        {
          "output_type": "display_data",
          "data": {
            "text/plain": [
              "| 2.05s                               | 0                | 0               |"
            ],
            "text/html": [
              "<pre>| 2.05s                               | 0                | 0               |</pre>"
            ]
          },
          "metadata": {}
        },
        {
          "output_type": "display_data",
          "data": {
            "text/plain": [
              "| 5.05s                               | 7.75             | 3294            |"
            ],
            "text/html": [
              "<pre>| 5.05s                               | 7.75             | 3294            |</pre>"
            ]
          },
          "metadata": {}
        },
        {
          "output_type": "display_data",
          "data": {
            "text/plain": [
              "| 8.05s                               | 15.5             | 6591            |"
            ],
            "text/html": [
              "<pre>| 8.05s                               | 15.5             | 6591            |</pre>"
            ]
          },
          "metadata": {}
        },
        {
          "output_type": "display_data",
          "data": {
            "text/plain": [
              "| 11.05s                              | 23.25            | 9897            |"
            ],
            "text/html": [
              "<pre>| 11.05s                              | 23.25            | 9897            |</pre>"
            ]
          },
          "metadata": {}
        },
        {
          "output_type": "display_data",
          "data": {
            "text/plain": [
              "| 14.05s                              | 31               | 13167           |"
            ],
            "text/html": [
              "<pre>| 14.05s                              | 31               | 13167           |</pre>"
            ]
          },
          "metadata": {}
        },
        {
          "output_type": "display_data",
          "data": {
            "text/plain": [
              "| 17.05s                              | 38.5             | 16415           |"
            ],
            "text/html": [
              "<pre>| 17.05s                              | 38.5             | 16415           |</pre>"
            ]
          },
          "metadata": {}
        },
        {
          "output_type": "display_data",
          "data": {
            "text/plain": [
              "| 20.05s                              | 46.25            | 19672           |"
            ],
            "text/html": [
              "<pre>| 20.05s                              | 46.25            | 19672           |</pre>"
            ]
          },
          "metadata": {}
        },
        {
          "output_type": "display_data",
          "data": {
            "text/plain": [
              "| 23.06s                              | 54               | 22919           |"
            ],
            "text/html": [
              "<pre>| 23.06s                              | 54               | 22919           |</pre>"
            ]
          },
          "metadata": {}
        },
        {
          "output_type": "display_data",
          "data": {
            "text/plain": [
              "| 26.05s                              | 61.5             | 26089           |"
            ],
            "text/html": [
              "<pre>| 26.05s                              | 61.5             | 26089           |</pre>"
            ]
          },
          "metadata": {}
        },
        {
          "output_type": "display_data",
          "data": {
            "text/plain": [
              "| 29.05s                              | 69               | 29311           |"
            ],
            "text/html": [
              "<pre>| 29.05s                              | 69               | 29311           |</pre>"
            ]
          },
          "metadata": {}
        },
        {
          "output_type": "display_data",
          "data": {
            "text/plain": [
              "| 32.05s                              | 76.5             | 32507           |"
            ],
            "text/html": [
              "<pre>| 32.05s                              | 76.5             | 32507           |</pre>"
            ]
          },
          "metadata": {}
        },
        {
          "output_type": "display_data",
          "data": {
            "text/plain": [
              "| 35.05s                              | 84               | 35674           |"
            ],
            "text/html": [
              "<pre>| 35.05s                              | 84               | 35674           |</pre>"
            ]
          },
          "metadata": {}
        },
        {
          "output_type": "display_data",
          "data": {
            "text/plain": [
              "| 38.05s                              | 91.5             | 38807           |"
            ],
            "text/html": [
              "<pre>| 38.05s                              | 91.5             | 38807           |</pre>"
            ]
          },
          "metadata": {}
        },
        {
          "output_type": "display_data",
          "data": {
            "text/plain": [
              "| 41.05s                              | 98.75            | 41879           |"
            ],
            "text/html": [
              "<pre>| 41.05s                              | 98.75            | 41879           |</pre>"
            ]
          },
          "metadata": {}
        },
        {
          "output_type": "display_data",
          "data": {
            "text/plain": [
              "| 1m 0s                               | 100              | 42373           |"
            ],
            "text/html": [
              "<pre>| 1m 0s                               | 100              | 42373           |</pre>"
            ]
          },
          "metadata": {}
        },
        {
          "output_type": "display_data",
          "data": {
            "text/plain": [
              "+-------------------------------------+------------------+-----------------+"
            ],
            "text/html": [
              "<pre>+-------------------------------------+------------------+-----------------+</pre>"
            ]
          },
          "metadata": {}
        },
        {
          "output_type": "display_data",
          "data": {
            "text/plain": [
              "Finalizing lookup tables."
            ],
            "text/html": [
              "<pre>Finalizing lookup tables.</pre>"
            ]
          },
          "metadata": {}
        },
        {
          "output_type": "display_data",
          "data": {
            "text/plain": [
              "Generating candidate set for working with new users."
            ],
            "text/html": [
              "<pre>Generating candidate set for working with new users.</pre>"
            ]
          },
          "metadata": {}
        },
        {
          "output_type": "display_data",
          "data": {
            "text/plain": [
              "Finished training in 61.2501s"
            ],
            "text/html": [
              "<pre>Finished training in 61.2501s</pre>"
            ]
          },
          "metadata": {}
        },
        {
          "output_type": "display_data",
          "data": {
            "text/plain": [
              "recommendations finished on 1000/305945 queries. users per second: 1802.07"
            ],
            "text/html": [
              "<pre>recommendations finished on 1000/305945 queries. users per second: 1802.07</pre>"
            ]
          },
          "metadata": {}
        },
        {
          "output_type": "display_data",
          "data": {
            "text/plain": [
              "recommendations finished on 2000/305945 queries. users per second: 1788.15"
            ],
            "text/html": [
              "<pre>recommendations finished on 2000/305945 queries. users per second: 1788.15</pre>"
            ]
          },
          "metadata": {}
        },
        {
          "output_type": "display_data",
          "data": {
            "text/plain": [
              "recommendations finished on 3000/305945 queries. users per second: 1797.82"
            ],
            "text/html": [
              "<pre>recommendations finished on 3000/305945 queries. users per second: 1797.82</pre>"
            ]
          },
          "metadata": {}
        },
        {
          "output_type": "display_data",
          "data": {
            "text/plain": [
              "recommendations finished on 4000/305945 queries. users per second: 1808.18"
            ],
            "text/html": [
              "<pre>recommendations finished on 4000/305945 queries. users per second: 1808.18</pre>"
            ]
          },
          "metadata": {}
        },
        {
          "output_type": "display_data",
          "data": {
            "text/plain": [
              "recommendations finished on 5000/305945 queries. users per second: 1814.66"
            ],
            "text/html": [
              "<pre>recommendations finished on 5000/305945 queries. users per second: 1814.66</pre>"
            ]
          },
          "metadata": {}
        },
        {
          "output_type": "display_data",
          "data": {
            "text/plain": [
              "recommendations finished on 6000/305945 queries. users per second: 1810.75"
            ],
            "text/html": [
              "<pre>recommendations finished on 6000/305945 queries. users per second: 1810.75</pre>"
            ]
          },
          "metadata": {}
        },
        {
          "output_type": "display_data",
          "data": {
            "text/plain": [
              "recommendations finished on 7000/305945 queries. users per second: 1806.02"
            ],
            "text/html": [
              "<pre>recommendations finished on 7000/305945 queries. users per second: 1806.02</pre>"
            ]
          },
          "metadata": {}
        },
        {
          "output_type": "display_data",
          "data": {
            "text/plain": [
              "recommendations finished on 8000/305945 queries. users per second: 1805.28"
            ],
            "text/html": [
              "<pre>recommendations finished on 8000/305945 queries. users per second: 1805.28</pre>"
            ]
          },
          "metadata": {}
        },
        {
          "output_type": "display_data",
          "data": {
            "text/plain": [
              "recommendations finished on 9000/305945 queries. users per second: 1800.63"
            ],
            "text/html": [
              "<pre>recommendations finished on 9000/305945 queries. users per second: 1800.63</pre>"
            ]
          },
          "metadata": {}
        },
        {
          "output_type": "display_data",
          "data": {
            "text/plain": [
              "recommendations finished on 10000/305945 queries. users per second: 1796.19"
            ],
            "text/html": [
              "<pre>recommendations finished on 10000/305945 queries. users per second: 1796.19</pre>"
            ]
          },
          "metadata": {}
        },
        {
          "output_type": "display_data",
          "data": {
            "text/plain": [
              "recommendations finished on 11000/305945 queries. users per second: 1798.96"
            ],
            "text/html": [
              "<pre>recommendations finished on 11000/305945 queries. users per second: 1798.96</pre>"
            ]
          },
          "metadata": {}
        },
        {
          "output_type": "display_data",
          "data": {
            "text/plain": [
              "recommendations finished on 12000/305945 queries. users per second: 1799.95"
            ],
            "text/html": [
              "<pre>recommendations finished on 12000/305945 queries. users per second: 1799.95</pre>"
            ]
          },
          "metadata": {}
        },
        {
          "output_type": "display_data",
          "data": {
            "text/plain": [
              "recommendations finished on 13000/305945 queries. users per second: 1800.26"
            ],
            "text/html": [
              "<pre>recommendations finished on 13000/305945 queries. users per second: 1800.26</pre>"
            ]
          },
          "metadata": {}
        },
        {
          "output_type": "display_data",
          "data": {
            "text/plain": [
              "recommendations finished on 14000/305945 queries. users per second: 1804.48"
            ],
            "text/html": [
              "<pre>recommendations finished on 14000/305945 queries. users per second: 1804.48</pre>"
            ]
          },
          "metadata": {}
        },
        {
          "output_type": "display_data",
          "data": {
            "text/plain": [
              "recommendations finished on 15000/305945 queries. users per second: 1803.82"
            ],
            "text/html": [
              "<pre>recommendations finished on 15000/305945 queries. users per second: 1803.82</pre>"
            ]
          },
          "metadata": {}
        },
        {
          "output_type": "display_data",
          "data": {
            "text/plain": [
              "recommendations finished on 16000/305945 queries. users per second: 1804.6"
            ],
            "text/html": [
              "<pre>recommendations finished on 16000/305945 queries. users per second: 1804.6</pre>"
            ]
          },
          "metadata": {}
        },
        {
          "output_type": "display_data",
          "data": {
            "text/plain": [
              "recommendations finished on 17000/305945 queries. users per second: 1800.82"
            ],
            "text/html": [
              "<pre>recommendations finished on 17000/305945 queries. users per second: 1800.82</pre>"
            ]
          },
          "metadata": {}
        },
        {
          "output_type": "display_data",
          "data": {
            "text/plain": [
              "recommendations finished on 18000/305945 queries. users per second: 1801.27"
            ],
            "text/html": [
              "<pre>recommendations finished on 18000/305945 queries. users per second: 1801.27</pre>"
            ]
          },
          "metadata": {}
        },
        {
          "output_type": "display_data",
          "data": {
            "text/plain": [
              "recommendations finished on 19000/305945 queries. users per second: 1801.66"
            ],
            "text/html": [
              "<pre>recommendations finished on 19000/305945 queries. users per second: 1801.66</pre>"
            ]
          },
          "metadata": {}
        },
        {
          "output_type": "display_data",
          "data": {
            "text/plain": [
              "recommendations finished on 20000/305945 queries. users per second: 1799.87"
            ],
            "text/html": [
              "<pre>recommendations finished on 20000/305945 queries. users per second: 1799.87</pre>"
            ]
          },
          "metadata": {}
        },
        {
          "output_type": "display_data",
          "data": {
            "text/plain": [
              "recommendations finished on 21000/305945 queries. users per second: 1801.03"
            ],
            "text/html": [
              "<pre>recommendations finished on 21000/305945 queries. users per second: 1801.03</pre>"
            ]
          },
          "metadata": {}
        },
        {
          "output_type": "display_data",
          "data": {
            "text/plain": [
              "recommendations finished on 22000/305945 queries. users per second: 1801.23"
            ],
            "text/html": [
              "<pre>recommendations finished on 22000/305945 queries. users per second: 1801.23</pre>"
            ]
          },
          "metadata": {}
        },
        {
          "output_type": "display_data",
          "data": {
            "text/plain": [
              "recommendations finished on 23000/305945 queries. users per second: 1800.06"
            ],
            "text/html": [
              "<pre>recommendations finished on 23000/305945 queries. users per second: 1800.06</pre>"
            ]
          },
          "metadata": {}
        },
        {
          "output_type": "display_data",
          "data": {
            "text/plain": [
              "recommendations finished on 24000/305945 queries. users per second: 1797.43"
            ],
            "text/html": [
              "<pre>recommendations finished on 24000/305945 queries. users per second: 1797.43</pre>"
            ]
          },
          "metadata": {}
        },
        {
          "output_type": "display_data",
          "data": {
            "text/plain": [
              "recommendations finished on 25000/305945 queries. users per second: 1798.39"
            ],
            "text/html": [
              "<pre>recommendations finished on 25000/305945 queries. users per second: 1798.39</pre>"
            ]
          },
          "metadata": {}
        },
        {
          "output_type": "display_data",
          "data": {
            "text/plain": [
              "recommendations finished on 26000/305945 queries. users per second: 1797.4"
            ],
            "text/html": [
              "<pre>recommendations finished on 26000/305945 queries. users per second: 1797.4</pre>"
            ]
          },
          "metadata": {}
        },
        {
          "output_type": "display_data",
          "data": {
            "text/plain": [
              "recommendations finished on 27000/305945 queries. users per second: 1797.32"
            ],
            "text/html": [
              "<pre>recommendations finished on 27000/305945 queries. users per second: 1797.32</pre>"
            ]
          },
          "metadata": {}
        },
        {
          "output_type": "display_data",
          "data": {
            "text/plain": [
              "recommendations finished on 28000/305945 queries. users per second: 1796.52"
            ],
            "text/html": [
              "<pre>recommendations finished on 28000/305945 queries. users per second: 1796.52</pre>"
            ]
          },
          "metadata": {}
        },
        {
          "output_type": "display_data",
          "data": {
            "text/plain": [
              "recommendations finished on 29000/305945 queries. users per second: 1796.94"
            ],
            "text/html": [
              "<pre>recommendations finished on 29000/305945 queries. users per second: 1796.94</pre>"
            ]
          },
          "metadata": {}
        },
        {
          "output_type": "display_data",
          "data": {
            "text/plain": [
              "recommendations finished on 30000/305945 queries. users per second: 1796.4"
            ],
            "text/html": [
              "<pre>recommendations finished on 30000/305945 queries. users per second: 1796.4</pre>"
            ]
          },
          "metadata": {}
        },
        {
          "output_type": "display_data",
          "data": {
            "text/plain": [
              "recommendations finished on 31000/305945 queries. users per second: 1797.68"
            ],
            "text/html": [
              "<pre>recommendations finished on 31000/305945 queries. users per second: 1797.68</pre>"
            ]
          },
          "metadata": {}
        },
        {
          "output_type": "display_data",
          "data": {
            "text/plain": [
              "recommendations finished on 32000/305945 queries. users per second: 1799.13"
            ],
            "text/html": [
              "<pre>recommendations finished on 32000/305945 queries. users per second: 1799.13</pre>"
            ]
          },
          "metadata": {}
        },
        {
          "output_type": "display_data",
          "data": {
            "text/plain": [
              "recommendations finished on 33000/305945 queries. users per second: 1799.05"
            ],
            "text/html": [
              "<pre>recommendations finished on 33000/305945 queries. users per second: 1799.05</pre>"
            ]
          },
          "metadata": {}
        },
        {
          "output_type": "display_data",
          "data": {
            "text/plain": [
              "recommendations finished on 34000/305945 queries. users per second: 1797.64"
            ],
            "text/html": [
              "<pre>recommendations finished on 34000/305945 queries. users per second: 1797.64</pre>"
            ]
          },
          "metadata": {}
        },
        {
          "output_type": "display_data",
          "data": {
            "text/plain": [
              "recommendations finished on 35000/305945 queries. users per second: 1796.67"
            ],
            "text/html": [
              "<pre>recommendations finished on 35000/305945 queries. users per second: 1796.67</pre>"
            ]
          },
          "metadata": {}
        },
        {
          "output_type": "display_data",
          "data": {
            "text/plain": [
              "recommendations finished on 36000/305945 queries. users per second: 1797.93"
            ],
            "text/html": [
              "<pre>recommendations finished on 36000/305945 queries. users per second: 1797.93</pre>"
            ]
          },
          "metadata": {}
        },
        {
          "output_type": "display_data",
          "data": {
            "text/plain": [
              "recommendations finished on 37000/305945 queries. users per second: 1798.4"
            ],
            "text/html": [
              "<pre>recommendations finished on 37000/305945 queries. users per second: 1798.4</pre>"
            ]
          },
          "metadata": {}
        },
        {
          "output_type": "display_data",
          "data": {
            "text/plain": [
              "recommendations finished on 38000/305945 queries. users per second: 1799.43"
            ],
            "text/html": [
              "<pre>recommendations finished on 38000/305945 queries. users per second: 1799.43</pre>"
            ]
          },
          "metadata": {}
        },
        {
          "output_type": "display_data",
          "data": {
            "text/plain": [
              "recommendations finished on 39000/305945 queries. users per second: 1799.18"
            ],
            "text/html": [
              "<pre>recommendations finished on 39000/305945 queries. users per second: 1799.18</pre>"
            ]
          },
          "metadata": {}
        },
        {
          "output_type": "display_data",
          "data": {
            "text/plain": [
              "recommendations finished on 40000/305945 queries. users per second: 1799.25"
            ],
            "text/html": [
              "<pre>recommendations finished on 40000/305945 queries. users per second: 1799.25</pre>"
            ]
          },
          "metadata": {}
        },
        {
          "output_type": "display_data",
          "data": {
            "text/plain": [
              "recommendations finished on 41000/305945 queries. users per second: 1797.7"
            ],
            "text/html": [
              "<pre>recommendations finished on 41000/305945 queries. users per second: 1797.7</pre>"
            ]
          },
          "metadata": {}
        },
        {
          "output_type": "display_data",
          "data": {
            "text/plain": [
              "recommendations finished on 42000/305945 queries. users per second: 1796.6"
            ],
            "text/html": [
              "<pre>recommendations finished on 42000/305945 queries. users per second: 1796.6</pre>"
            ]
          },
          "metadata": {}
        },
        {
          "output_type": "display_data",
          "data": {
            "text/plain": [
              "recommendations finished on 43000/305945 queries. users per second: 1796.05"
            ],
            "text/html": [
              "<pre>recommendations finished on 43000/305945 queries. users per second: 1796.05</pre>"
            ]
          },
          "metadata": {}
        },
        {
          "output_type": "display_data",
          "data": {
            "text/plain": [
              "recommendations finished on 44000/305945 queries. users per second: 1795.62"
            ],
            "text/html": [
              "<pre>recommendations finished on 44000/305945 queries. users per second: 1795.62</pre>"
            ]
          },
          "metadata": {}
        },
        {
          "output_type": "display_data",
          "data": {
            "text/plain": [
              "recommendations finished on 45000/305945 queries. users per second: 1796.03"
            ],
            "text/html": [
              "<pre>recommendations finished on 45000/305945 queries. users per second: 1796.03</pre>"
            ]
          },
          "metadata": {}
        },
        {
          "output_type": "display_data",
          "data": {
            "text/plain": [
              "recommendations finished on 46000/305945 queries. users per second: 1794.93"
            ],
            "text/html": [
              "<pre>recommendations finished on 46000/305945 queries. users per second: 1794.93</pre>"
            ]
          },
          "metadata": {}
        },
        {
          "output_type": "display_data",
          "data": {
            "text/plain": [
              "recommendations finished on 47000/305945 queries. users per second: 1794.71"
            ],
            "text/html": [
              "<pre>recommendations finished on 47000/305945 queries. users per second: 1794.71</pre>"
            ]
          },
          "metadata": {}
        },
        {
          "output_type": "display_data",
          "data": {
            "text/plain": [
              "recommendations finished on 48000/305945 queries. users per second: 1792.73"
            ],
            "text/html": [
              "<pre>recommendations finished on 48000/305945 queries. users per second: 1792.73</pre>"
            ]
          },
          "metadata": {}
        },
        {
          "output_type": "display_data",
          "data": {
            "text/plain": [
              "recommendations finished on 49000/305945 queries. users per second: 1792.9"
            ],
            "text/html": [
              "<pre>recommendations finished on 49000/305945 queries. users per second: 1792.9</pre>"
            ]
          },
          "metadata": {}
        },
        {
          "output_type": "display_data",
          "data": {
            "text/plain": [
              "recommendations finished on 50000/305945 queries. users per second: 1793.43"
            ],
            "text/html": [
              "<pre>recommendations finished on 50000/305945 queries. users per second: 1793.43</pre>"
            ]
          },
          "metadata": {}
        },
        {
          "output_type": "display_data",
          "data": {
            "text/plain": [
              "recommendations finished on 51000/305945 queries. users per second: 1793.02"
            ],
            "text/html": [
              "<pre>recommendations finished on 51000/305945 queries. users per second: 1793.02</pre>"
            ]
          },
          "metadata": {}
        },
        {
          "output_type": "display_data",
          "data": {
            "text/plain": [
              "recommendations finished on 52000/305945 queries. users per second: 1793.43"
            ],
            "text/html": [
              "<pre>recommendations finished on 52000/305945 queries. users per second: 1793.43</pre>"
            ]
          },
          "metadata": {}
        },
        {
          "output_type": "display_data",
          "data": {
            "text/plain": [
              "recommendations finished on 53000/305945 queries. users per second: 1792.92"
            ],
            "text/html": [
              "<pre>recommendations finished on 53000/305945 queries. users per second: 1792.92</pre>"
            ]
          },
          "metadata": {}
        },
        {
          "output_type": "display_data",
          "data": {
            "text/plain": [
              "recommendations finished on 54000/305945 queries. users per second: 1792.76"
            ],
            "text/html": [
              "<pre>recommendations finished on 54000/305945 queries. users per second: 1792.76</pre>"
            ]
          },
          "metadata": {}
        },
        {
          "output_type": "display_data",
          "data": {
            "text/plain": [
              "recommendations finished on 55000/305945 queries. users per second: 1792.73"
            ],
            "text/html": [
              "<pre>recommendations finished on 55000/305945 queries. users per second: 1792.73</pre>"
            ]
          },
          "metadata": {}
        },
        {
          "output_type": "display_data",
          "data": {
            "text/plain": [
              "recommendations finished on 56000/305945 queries. users per second: 1793.05"
            ],
            "text/html": [
              "<pre>recommendations finished on 56000/305945 queries. users per second: 1793.05</pre>"
            ]
          },
          "metadata": {}
        },
        {
          "output_type": "display_data",
          "data": {
            "text/plain": [
              "recommendations finished on 57000/305945 queries. users per second: 1791.95"
            ],
            "text/html": [
              "<pre>recommendations finished on 57000/305945 queries. users per second: 1791.95</pre>"
            ]
          },
          "metadata": {}
        },
        {
          "output_type": "display_data",
          "data": {
            "text/plain": [
              "recommendations finished on 58000/305945 queries. users per second: 1792.6"
            ],
            "text/html": [
              "<pre>recommendations finished on 58000/305945 queries. users per second: 1792.6</pre>"
            ]
          },
          "metadata": {}
        },
        {
          "output_type": "display_data",
          "data": {
            "text/plain": [
              "recommendations finished on 59000/305945 queries. users per second: 1791.93"
            ],
            "text/html": [
              "<pre>recommendations finished on 59000/305945 queries. users per second: 1791.93</pre>"
            ]
          },
          "metadata": {}
        },
        {
          "output_type": "display_data",
          "data": {
            "text/plain": [
              "recommendations finished on 60000/305945 queries. users per second: 1791.91"
            ],
            "text/html": [
              "<pre>recommendations finished on 60000/305945 queries. users per second: 1791.91</pre>"
            ]
          },
          "metadata": {}
        },
        {
          "output_type": "display_data",
          "data": {
            "text/plain": [
              "recommendations finished on 61000/305945 queries. users per second: 1791.54"
            ],
            "text/html": [
              "<pre>recommendations finished on 61000/305945 queries. users per second: 1791.54</pre>"
            ]
          },
          "metadata": {}
        },
        {
          "output_type": "display_data",
          "data": {
            "text/plain": [
              "recommendations finished on 62000/305945 queries. users per second: 1790.23"
            ],
            "text/html": [
              "<pre>recommendations finished on 62000/305945 queries. users per second: 1790.23</pre>"
            ]
          },
          "metadata": {}
        },
        {
          "output_type": "display_data",
          "data": {
            "text/plain": [
              "recommendations finished on 63000/305945 queries. users per second: 1789.52"
            ],
            "text/html": [
              "<pre>recommendations finished on 63000/305945 queries. users per second: 1789.52</pre>"
            ]
          },
          "metadata": {}
        },
        {
          "output_type": "display_data",
          "data": {
            "text/plain": [
              "recommendations finished on 64000/305945 queries. users per second: 1788.94"
            ],
            "text/html": [
              "<pre>recommendations finished on 64000/305945 queries. users per second: 1788.94</pre>"
            ]
          },
          "metadata": {}
        },
        {
          "output_type": "display_data",
          "data": {
            "text/plain": [
              "recommendations finished on 65000/305945 queries. users per second: 1784.08"
            ],
            "text/html": [
              "<pre>recommendations finished on 65000/305945 queries. users per second: 1784.08</pre>"
            ]
          },
          "metadata": {}
        },
        {
          "output_type": "display_data",
          "data": {
            "text/plain": [
              "recommendations finished on 66000/305945 queries. users per second: 1763.29"
            ],
            "text/html": [
              "<pre>recommendations finished on 66000/305945 queries. users per second: 1763.29</pre>"
            ]
          },
          "metadata": {}
        },
        {
          "output_type": "display_data",
          "data": {
            "text/plain": [
              "recommendations finished on 67000/305945 queries. users per second: 1745.08"
            ],
            "text/html": [
              "<pre>recommendations finished on 67000/305945 queries. users per second: 1745.08</pre>"
            ]
          },
          "metadata": {}
        },
        {
          "output_type": "display_data",
          "data": {
            "text/plain": [
              "recommendations finished on 68000/305945 queries. users per second: 1726.89"
            ],
            "text/html": [
              "<pre>recommendations finished on 68000/305945 queries. users per second: 1726.89</pre>"
            ]
          },
          "metadata": {}
        },
        {
          "output_type": "display_data",
          "data": {
            "text/plain": [
              "recommendations finished on 69000/305945 queries. users per second: 1709.72"
            ],
            "text/html": [
              "<pre>recommendations finished on 69000/305945 queries. users per second: 1709.72</pre>"
            ]
          },
          "metadata": {}
        },
        {
          "output_type": "display_data",
          "data": {
            "text/plain": [
              "recommendations finished on 70000/305945 queries. users per second: 1705.78"
            ],
            "text/html": [
              "<pre>recommendations finished on 70000/305945 queries. users per second: 1705.78</pre>"
            ]
          },
          "metadata": {}
        },
        {
          "output_type": "display_data",
          "data": {
            "text/plain": [
              "recommendations finished on 71000/305945 queries. users per second: 1707.45"
            ],
            "text/html": [
              "<pre>recommendations finished on 71000/305945 queries. users per second: 1707.45</pre>"
            ]
          },
          "metadata": {}
        },
        {
          "output_type": "display_data",
          "data": {
            "text/plain": [
              "recommendations finished on 72000/305945 queries. users per second: 1707.78"
            ],
            "text/html": [
              "<pre>recommendations finished on 72000/305945 queries. users per second: 1707.78</pre>"
            ]
          },
          "metadata": {}
        },
        {
          "output_type": "display_data",
          "data": {
            "text/plain": [
              "recommendations finished on 73000/305945 queries. users per second: 1709.12"
            ],
            "text/html": [
              "<pre>recommendations finished on 73000/305945 queries. users per second: 1709.12</pre>"
            ]
          },
          "metadata": {}
        },
        {
          "output_type": "display_data",
          "data": {
            "text/plain": [
              "recommendations finished on 74000/305945 queries. users per second: 1710.06"
            ],
            "text/html": [
              "<pre>recommendations finished on 74000/305945 queries. users per second: 1710.06</pre>"
            ]
          },
          "metadata": {}
        },
        {
          "output_type": "display_data",
          "data": {
            "text/plain": [
              "recommendations finished on 75000/305945 queries. users per second: 1711.19"
            ],
            "text/html": [
              "<pre>recommendations finished on 75000/305945 queries. users per second: 1711.19</pre>"
            ]
          },
          "metadata": {}
        },
        {
          "output_type": "display_data",
          "data": {
            "text/plain": [
              "recommendations finished on 76000/305945 queries. users per second: 1712.23"
            ],
            "text/html": [
              "<pre>recommendations finished on 76000/305945 queries. users per second: 1712.23</pre>"
            ]
          },
          "metadata": {}
        },
        {
          "output_type": "display_data",
          "data": {
            "text/plain": [
              "recommendations finished on 77000/305945 queries. users per second: 1713.08"
            ],
            "text/html": [
              "<pre>recommendations finished on 77000/305945 queries. users per second: 1713.08</pre>"
            ]
          },
          "metadata": {}
        },
        {
          "output_type": "display_data",
          "data": {
            "text/plain": [
              "recommendations finished on 78000/305945 queries. users per second: 1714.32"
            ],
            "text/html": [
              "<pre>recommendations finished on 78000/305945 queries. users per second: 1714.32</pre>"
            ]
          },
          "metadata": {}
        },
        {
          "output_type": "display_data",
          "data": {
            "text/plain": [
              "recommendations finished on 79000/305945 queries. users per second: 1715.69"
            ],
            "text/html": [
              "<pre>recommendations finished on 79000/305945 queries. users per second: 1715.69</pre>"
            ]
          },
          "metadata": {}
        },
        {
          "output_type": "display_data",
          "data": {
            "text/plain": [
              "recommendations finished on 80000/305945 queries. users per second: 1716.66"
            ],
            "text/html": [
              "<pre>recommendations finished on 80000/305945 queries. users per second: 1716.66</pre>"
            ]
          },
          "metadata": {}
        },
        {
          "output_type": "display_data",
          "data": {
            "text/plain": [
              "recommendations finished on 81000/305945 queries. users per second: 1717.36"
            ],
            "text/html": [
              "<pre>recommendations finished on 81000/305945 queries. users per second: 1717.36</pre>"
            ]
          },
          "metadata": {}
        },
        {
          "output_type": "display_data",
          "data": {
            "text/plain": [
              "recommendations finished on 82000/305945 queries. users per second: 1717.82"
            ],
            "text/html": [
              "<pre>recommendations finished on 82000/305945 queries. users per second: 1717.82</pre>"
            ]
          },
          "metadata": {}
        },
        {
          "output_type": "display_data",
          "data": {
            "text/plain": [
              "recommendations finished on 83000/305945 queries. users per second: 1717.79"
            ],
            "text/html": [
              "<pre>recommendations finished on 83000/305945 queries. users per second: 1717.79</pre>"
            ]
          },
          "metadata": {}
        },
        {
          "output_type": "display_data",
          "data": {
            "text/plain": [
              "recommendations finished on 84000/305945 queries. users per second: 1718.59"
            ],
            "text/html": [
              "<pre>recommendations finished on 84000/305945 queries. users per second: 1718.59</pre>"
            ]
          },
          "metadata": {}
        },
        {
          "output_type": "display_data",
          "data": {
            "text/plain": [
              "recommendations finished on 85000/305945 queries. users per second: 1719.47"
            ],
            "text/html": [
              "<pre>recommendations finished on 85000/305945 queries. users per second: 1719.47</pre>"
            ]
          },
          "metadata": {}
        },
        {
          "output_type": "display_data",
          "data": {
            "text/plain": [
              "recommendations finished on 86000/305945 queries. users per second: 1720.34"
            ],
            "text/html": [
              "<pre>recommendations finished on 86000/305945 queries. users per second: 1720.34</pre>"
            ]
          },
          "metadata": {}
        },
        {
          "output_type": "display_data",
          "data": {
            "text/plain": [
              "recommendations finished on 87000/305945 queries. users per second: 1721.19"
            ],
            "text/html": [
              "<pre>recommendations finished on 87000/305945 queries. users per second: 1721.19</pre>"
            ]
          },
          "metadata": {}
        },
        {
          "output_type": "display_data",
          "data": {
            "text/plain": [
              "recommendations finished on 88000/305945 queries. users per second: 1721.82"
            ],
            "text/html": [
              "<pre>recommendations finished on 88000/305945 queries. users per second: 1721.82</pre>"
            ]
          },
          "metadata": {}
        },
        {
          "output_type": "display_data",
          "data": {
            "text/plain": [
              "recommendations finished on 89000/305945 queries. users per second: 1723.21"
            ],
            "text/html": [
              "<pre>recommendations finished on 89000/305945 queries. users per second: 1723.21</pre>"
            ]
          },
          "metadata": {}
        },
        {
          "output_type": "display_data",
          "data": {
            "text/plain": [
              "recommendations finished on 90000/305945 queries. users per second: 1724.12"
            ],
            "text/html": [
              "<pre>recommendations finished on 90000/305945 queries. users per second: 1724.12</pre>"
            ]
          },
          "metadata": {}
        },
        {
          "output_type": "display_data",
          "data": {
            "text/plain": [
              "recommendations finished on 91000/305945 queries. users per second: 1724.82"
            ],
            "text/html": [
              "<pre>recommendations finished on 91000/305945 queries. users per second: 1724.82</pre>"
            ]
          },
          "metadata": {}
        },
        {
          "output_type": "display_data",
          "data": {
            "text/plain": [
              "recommendations finished on 92000/305945 queries. users per second: 1725.57"
            ],
            "text/html": [
              "<pre>recommendations finished on 92000/305945 queries. users per second: 1725.57</pre>"
            ]
          },
          "metadata": {}
        },
        {
          "output_type": "display_data",
          "data": {
            "text/plain": [
              "recommendations finished on 93000/305945 queries. users per second: 1726.13"
            ],
            "text/html": [
              "<pre>recommendations finished on 93000/305945 queries. users per second: 1726.13</pre>"
            ]
          },
          "metadata": {}
        },
        {
          "output_type": "display_data",
          "data": {
            "text/plain": [
              "recommendations finished on 94000/305945 queries. users per second: 1726.3"
            ],
            "text/html": [
              "<pre>recommendations finished on 94000/305945 queries. users per second: 1726.3</pre>"
            ]
          },
          "metadata": {}
        },
        {
          "output_type": "display_data",
          "data": {
            "text/plain": [
              "recommendations finished on 95000/305945 queries. users per second: 1727.49"
            ],
            "text/html": [
              "<pre>recommendations finished on 95000/305945 queries. users per second: 1727.49</pre>"
            ]
          },
          "metadata": {}
        },
        {
          "output_type": "display_data",
          "data": {
            "text/plain": [
              "recommendations finished on 96000/305945 queries. users per second: 1727.99"
            ],
            "text/html": [
              "<pre>recommendations finished on 96000/305945 queries. users per second: 1727.99</pre>"
            ]
          },
          "metadata": {}
        },
        {
          "output_type": "display_data",
          "data": {
            "text/plain": [
              "recommendations finished on 97000/305945 queries. users per second: 1728.91"
            ],
            "text/html": [
              "<pre>recommendations finished on 97000/305945 queries. users per second: 1728.91</pre>"
            ]
          },
          "metadata": {}
        },
        {
          "output_type": "display_data",
          "data": {
            "text/plain": [
              "recommendations finished on 98000/305945 queries. users per second: 1729.73"
            ],
            "text/html": [
              "<pre>recommendations finished on 98000/305945 queries. users per second: 1729.73</pre>"
            ]
          },
          "metadata": {}
        },
        {
          "output_type": "display_data",
          "data": {
            "text/plain": [
              "recommendations finished on 99000/305945 queries. users per second: 1730.36"
            ],
            "text/html": [
              "<pre>recommendations finished on 99000/305945 queries. users per second: 1730.36</pre>"
            ]
          },
          "metadata": {}
        },
        {
          "output_type": "display_data",
          "data": {
            "text/plain": [
              "recommendations finished on 100000/305945 queries. users per second: 1731.31"
            ],
            "text/html": [
              "<pre>recommendations finished on 100000/305945 queries. users per second: 1731.31</pre>"
            ]
          },
          "metadata": {}
        },
        {
          "output_type": "display_data",
          "data": {
            "text/plain": [
              "recommendations finished on 101000/305945 queries. users per second: 1732.13"
            ],
            "text/html": [
              "<pre>recommendations finished on 101000/305945 queries. users per second: 1732.13</pre>"
            ]
          },
          "metadata": {}
        },
        {
          "output_type": "display_data",
          "data": {
            "text/plain": [
              "recommendations finished on 102000/305945 queries. users per second: 1732.5"
            ],
            "text/html": [
              "<pre>recommendations finished on 102000/305945 queries. users per second: 1732.5</pre>"
            ]
          },
          "metadata": {}
        },
        {
          "output_type": "display_data",
          "data": {
            "text/plain": [
              "recommendations finished on 103000/305945 queries. users per second: 1733.05"
            ],
            "text/html": [
              "<pre>recommendations finished on 103000/305945 queries. users per second: 1733.05</pre>"
            ]
          },
          "metadata": {}
        },
        {
          "output_type": "display_data",
          "data": {
            "text/plain": [
              "recommendations finished on 104000/305945 queries. users per second: 1734.08"
            ],
            "text/html": [
              "<pre>recommendations finished on 104000/305945 queries. users per second: 1734.08</pre>"
            ]
          },
          "metadata": {}
        },
        {
          "output_type": "display_data",
          "data": {
            "text/plain": [
              "recommendations finished on 105000/305945 queries. users per second: 1734.84"
            ],
            "text/html": [
              "<pre>recommendations finished on 105000/305945 queries. users per second: 1734.84</pre>"
            ]
          },
          "metadata": {}
        },
        {
          "output_type": "display_data",
          "data": {
            "text/plain": [
              "recommendations finished on 106000/305945 queries. users per second: 1735.71"
            ],
            "text/html": [
              "<pre>recommendations finished on 106000/305945 queries. users per second: 1735.71</pre>"
            ]
          },
          "metadata": {}
        },
        {
          "output_type": "display_data",
          "data": {
            "text/plain": [
              "recommendations finished on 107000/305945 queries. users per second: 1736.14"
            ],
            "text/html": [
              "<pre>recommendations finished on 107000/305945 queries. users per second: 1736.14</pre>"
            ]
          },
          "metadata": {}
        },
        {
          "output_type": "display_data",
          "data": {
            "text/plain": [
              "recommendations finished on 108000/305945 queries. users per second: 1736.73"
            ],
            "text/html": [
              "<pre>recommendations finished on 108000/305945 queries. users per second: 1736.73</pre>"
            ]
          },
          "metadata": {}
        },
        {
          "output_type": "display_data",
          "data": {
            "text/plain": [
              "recommendations finished on 109000/305945 queries. users per second: 1736.95"
            ],
            "text/html": [
              "<pre>recommendations finished on 109000/305945 queries. users per second: 1736.95</pre>"
            ]
          },
          "metadata": {}
        },
        {
          "output_type": "display_data",
          "data": {
            "text/plain": [
              "recommendations finished on 110000/305945 queries. users per second: 1737.54"
            ],
            "text/html": [
              "<pre>recommendations finished on 110000/305945 queries. users per second: 1737.54</pre>"
            ]
          },
          "metadata": {}
        },
        {
          "output_type": "display_data",
          "data": {
            "text/plain": [
              "recommendations finished on 111000/305945 queries. users per second: 1738.43"
            ],
            "text/html": [
              "<pre>recommendations finished on 111000/305945 queries. users per second: 1738.43</pre>"
            ]
          },
          "metadata": {}
        },
        {
          "output_type": "display_data",
          "data": {
            "text/plain": [
              "recommendations finished on 112000/305945 queries. users per second: 1738.71"
            ],
            "text/html": [
              "<pre>recommendations finished on 112000/305945 queries. users per second: 1738.71</pre>"
            ]
          },
          "metadata": {}
        },
        {
          "output_type": "display_data",
          "data": {
            "text/plain": [
              "recommendations finished on 113000/305945 queries. users per second: 1739.38"
            ],
            "text/html": [
              "<pre>recommendations finished on 113000/305945 queries. users per second: 1739.38</pre>"
            ]
          },
          "metadata": {}
        },
        {
          "output_type": "display_data",
          "data": {
            "text/plain": [
              "recommendations finished on 114000/305945 queries. users per second: 1739.9"
            ],
            "text/html": [
              "<pre>recommendations finished on 114000/305945 queries. users per second: 1739.9</pre>"
            ]
          },
          "metadata": {}
        },
        {
          "output_type": "display_data",
          "data": {
            "text/plain": [
              "recommendations finished on 115000/305945 queries. users per second: 1740.7"
            ],
            "text/html": [
              "<pre>recommendations finished on 115000/305945 queries. users per second: 1740.7</pre>"
            ]
          },
          "metadata": {}
        },
        {
          "output_type": "display_data",
          "data": {
            "text/plain": [
              "recommendations finished on 116000/305945 queries. users per second: 1740.85"
            ],
            "text/html": [
              "<pre>recommendations finished on 116000/305945 queries. users per second: 1740.85</pre>"
            ]
          },
          "metadata": {}
        },
        {
          "output_type": "display_data",
          "data": {
            "text/plain": [
              "recommendations finished on 117000/305945 queries. users per second: 1741.65"
            ],
            "text/html": [
              "<pre>recommendations finished on 117000/305945 queries. users per second: 1741.65</pre>"
            ]
          },
          "metadata": {}
        },
        {
          "output_type": "display_data",
          "data": {
            "text/plain": [
              "recommendations finished on 118000/305945 queries. users per second: 1742.28"
            ],
            "text/html": [
              "<pre>recommendations finished on 118000/305945 queries. users per second: 1742.28</pre>"
            ]
          },
          "metadata": {}
        },
        {
          "output_type": "display_data",
          "data": {
            "text/plain": [
              "recommendations finished on 119000/305945 queries. users per second: 1742.86"
            ],
            "text/html": [
              "<pre>recommendations finished on 119000/305945 queries. users per second: 1742.86</pre>"
            ]
          },
          "metadata": {}
        },
        {
          "output_type": "display_data",
          "data": {
            "text/plain": [
              "recommendations finished on 120000/305945 queries. users per second: 1743.58"
            ],
            "text/html": [
              "<pre>recommendations finished on 120000/305945 queries. users per second: 1743.58</pre>"
            ]
          },
          "metadata": {}
        },
        {
          "output_type": "display_data",
          "data": {
            "text/plain": [
              "recommendations finished on 121000/305945 queries. users per second: 1743.96"
            ],
            "text/html": [
              "<pre>recommendations finished on 121000/305945 queries. users per second: 1743.96</pre>"
            ]
          },
          "metadata": {}
        },
        {
          "output_type": "display_data",
          "data": {
            "text/plain": [
              "recommendations finished on 122000/305945 queries. users per second: 1744.12"
            ],
            "text/html": [
              "<pre>recommendations finished on 122000/305945 queries. users per second: 1744.12</pre>"
            ]
          },
          "metadata": {}
        },
        {
          "output_type": "display_data",
          "data": {
            "text/plain": [
              "recommendations finished on 123000/305945 queries. users per second: 1744.38"
            ],
            "text/html": [
              "<pre>recommendations finished on 123000/305945 queries. users per second: 1744.38</pre>"
            ]
          },
          "metadata": {}
        },
        {
          "output_type": "display_data",
          "data": {
            "text/plain": [
              "recommendations finished on 124000/305945 queries. users per second: 1745.19"
            ],
            "text/html": [
              "<pre>recommendations finished on 124000/305945 queries. users per second: 1745.19</pre>"
            ]
          },
          "metadata": {}
        },
        {
          "output_type": "display_data",
          "data": {
            "text/plain": [
              "recommendations finished on 125000/305945 queries. users per second: 1745.55"
            ],
            "text/html": [
              "<pre>recommendations finished on 125000/305945 queries. users per second: 1745.55</pre>"
            ]
          },
          "metadata": {}
        },
        {
          "output_type": "display_data",
          "data": {
            "text/plain": [
              "recommendations finished on 126000/305945 queries. users per second: 1746.22"
            ],
            "text/html": [
              "<pre>recommendations finished on 126000/305945 queries. users per second: 1746.22</pre>"
            ]
          },
          "metadata": {}
        },
        {
          "output_type": "display_data",
          "data": {
            "text/plain": [
              "recommendations finished on 127000/305945 queries. users per second: 1746.55"
            ],
            "text/html": [
              "<pre>recommendations finished on 127000/305945 queries. users per second: 1746.55</pre>"
            ]
          },
          "metadata": {}
        },
        {
          "output_type": "display_data",
          "data": {
            "text/plain": [
              "recommendations finished on 128000/305945 queries. users per second: 1747.32"
            ],
            "text/html": [
              "<pre>recommendations finished on 128000/305945 queries. users per second: 1747.32</pre>"
            ]
          },
          "metadata": {}
        },
        {
          "output_type": "display_data",
          "data": {
            "text/plain": [
              "recommendations finished on 129000/305945 queries. users per second: 1747.27"
            ],
            "text/html": [
              "<pre>recommendations finished on 129000/305945 queries. users per second: 1747.27</pre>"
            ]
          },
          "metadata": {}
        },
        {
          "output_type": "display_data",
          "data": {
            "text/plain": [
              "recommendations finished on 130000/305945 queries. users per second: 1747.69"
            ],
            "text/html": [
              "<pre>recommendations finished on 130000/305945 queries. users per second: 1747.69</pre>"
            ]
          },
          "metadata": {}
        },
        {
          "output_type": "display_data",
          "data": {
            "text/plain": [
              "recommendations finished on 131000/305945 queries. users per second: 1747.93"
            ],
            "text/html": [
              "<pre>recommendations finished on 131000/305945 queries. users per second: 1747.93</pre>"
            ]
          },
          "metadata": {}
        },
        {
          "output_type": "display_data",
          "data": {
            "text/plain": [
              "recommendations finished on 132000/305945 queries. users per second: 1748.69"
            ],
            "text/html": [
              "<pre>recommendations finished on 132000/305945 queries. users per second: 1748.69</pre>"
            ]
          },
          "metadata": {}
        },
        {
          "output_type": "display_data",
          "data": {
            "text/plain": [
              "recommendations finished on 133000/305945 queries. users per second: 1749.27"
            ],
            "text/html": [
              "<pre>recommendations finished on 133000/305945 queries. users per second: 1749.27</pre>"
            ]
          },
          "metadata": {}
        },
        {
          "output_type": "display_data",
          "data": {
            "text/plain": [
              "recommendations finished on 134000/305945 queries. users per second: 1750.09"
            ],
            "text/html": [
              "<pre>recommendations finished on 134000/305945 queries. users per second: 1750.09</pre>"
            ]
          },
          "metadata": {}
        },
        {
          "output_type": "display_data",
          "data": {
            "text/plain": [
              "recommendations finished on 135000/305945 queries. users per second: 1750.8"
            ],
            "text/html": [
              "<pre>recommendations finished on 135000/305945 queries. users per second: 1750.8</pre>"
            ]
          },
          "metadata": {}
        },
        {
          "output_type": "display_data",
          "data": {
            "text/plain": [
              "recommendations finished on 136000/305945 queries. users per second: 1751.64"
            ],
            "text/html": [
              "<pre>recommendations finished on 136000/305945 queries. users per second: 1751.64</pre>"
            ]
          },
          "metadata": {}
        },
        {
          "output_type": "display_data",
          "data": {
            "text/plain": [
              "recommendations finished on 137000/305945 queries. users per second: 1752.48"
            ],
            "text/html": [
              "<pre>recommendations finished on 137000/305945 queries. users per second: 1752.48</pre>"
            ]
          },
          "metadata": {}
        },
        {
          "output_type": "display_data",
          "data": {
            "text/plain": [
              "recommendations finished on 138000/305945 queries. users per second: 1752.84"
            ],
            "text/html": [
              "<pre>recommendations finished on 138000/305945 queries. users per second: 1752.84</pre>"
            ]
          },
          "metadata": {}
        },
        {
          "output_type": "display_data",
          "data": {
            "text/plain": [
              "recommendations finished on 139000/305945 queries. users per second: 1753.16"
            ],
            "text/html": [
              "<pre>recommendations finished on 139000/305945 queries. users per second: 1753.16</pre>"
            ]
          },
          "metadata": {}
        },
        {
          "output_type": "display_data",
          "data": {
            "text/plain": [
              "recommendations finished on 140000/305945 queries. users per second: 1753.05"
            ],
            "text/html": [
              "<pre>recommendations finished on 140000/305945 queries. users per second: 1753.05</pre>"
            ]
          },
          "metadata": {}
        },
        {
          "output_type": "display_data",
          "data": {
            "text/plain": [
              "recommendations finished on 141000/305945 queries. users per second: 1753.42"
            ],
            "text/html": [
              "<pre>recommendations finished on 141000/305945 queries. users per second: 1753.42</pre>"
            ]
          },
          "metadata": {}
        },
        {
          "output_type": "display_data",
          "data": {
            "text/plain": [
              "recommendations finished on 142000/305945 queries. users per second: 1753.82"
            ],
            "text/html": [
              "<pre>recommendations finished on 142000/305945 queries. users per second: 1753.82</pre>"
            ]
          },
          "metadata": {}
        },
        {
          "output_type": "display_data",
          "data": {
            "text/plain": [
              "recommendations finished on 143000/305945 queries. users per second: 1754.45"
            ],
            "text/html": [
              "<pre>recommendations finished on 143000/305945 queries. users per second: 1754.45</pre>"
            ]
          },
          "metadata": {}
        },
        {
          "output_type": "display_data",
          "data": {
            "text/plain": [
              "recommendations finished on 144000/305945 queries. users per second: 1754.95"
            ],
            "text/html": [
              "<pre>recommendations finished on 144000/305945 queries. users per second: 1754.95</pre>"
            ]
          },
          "metadata": {}
        },
        {
          "output_type": "display_data",
          "data": {
            "text/plain": [
              "recommendations finished on 145000/305945 queries. users per second: 1755.33"
            ],
            "text/html": [
              "<pre>recommendations finished on 145000/305945 queries. users per second: 1755.33</pre>"
            ]
          },
          "metadata": {}
        },
        {
          "output_type": "display_data",
          "data": {
            "text/plain": [
              "recommendations finished on 146000/305945 queries. users per second: 1755.78"
            ],
            "text/html": [
              "<pre>recommendations finished on 146000/305945 queries. users per second: 1755.78</pre>"
            ]
          },
          "metadata": {}
        },
        {
          "output_type": "display_data",
          "data": {
            "text/plain": [
              "recommendations finished on 147000/305945 queries. users per second: 1756.24"
            ],
            "text/html": [
              "<pre>recommendations finished on 147000/305945 queries. users per second: 1756.24</pre>"
            ]
          },
          "metadata": {}
        },
        {
          "output_type": "display_data",
          "data": {
            "text/plain": [
              "recommendations finished on 148000/305945 queries. users per second: 1756.7"
            ],
            "text/html": [
              "<pre>recommendations finished on 148000/305945 queries. users per second: 1756.7</pre>"
            ]
          },
          "metadata": {}
        },
        {
          "output_type": "display_data",
          "data": {
            "text/plain": [
              "recommendations finished on 149000/305945 queries. users per second: 1757.33"
            ],
            "text/html": [
              "<pre>recommendations finished on 149000/305945 queries. users per second: 1757.33</pre>"
            ]
          },
          "metadata": {}
        },
        {
          "output_type": "display_data",
          "data": {
            "text/plain": [
              "recommendations finished on 150000/305945 queries. users per second: 1758.22"
            ],
            "text/html": [
              "<pre>recommendations finished on 150000/305945 queries. users per second: 1758.22</pre>"
            ]
          },
          "metadata": {}
        },
        {
          "output_type": "display_data",
          "data": {
            "text/plain": [
              "recommendations finished on 151000/305945 queries. users per second: 1758.93"
            ],
            "text/html": [
              "<pre>recommendations finished on 151000/305945 queries. users per second: 1758.93</pre>"
            ]
          },
          "metadata": {}
        },
        {
          "output_type": "display_data",
          "data": {
            "text/plain": [
              "recommendations finished on 152000/305945 queries. users per second: 1759.24"
            ],
            "text/html": [
              "<pre>recommendations finished on 152000/305945 queries. users per second: 1759.24</pre>"
            ]
          },
          "metadata": {}
        },
        {
          "output_type": "display_data",
          "data": {
            "text/plain": [
              "recommendations finished on 153000/305945 queries. users per second: 1759.69"
            ],
            "text/html": [
              "<pre>recommendations finished on 153000/305945 queries. users per second: 1759.69</pre>"
            ]
          },
          "metadata": {}
        },
        {
          "output_type": "display_data",
          "data": {
            "text/plain": [
              "recommendations finished on 154000/305945 queries. users per second: 1760.32"
            ],
            "text/html": [
              "<pre>recommendations finished on 154000/305945 queries. users per second: 1760.32</pre>"
            ]
          },
          "metadata": {}
        },
        {
          "output_type": "display_data",
          "data": {
            "text/plain": [
              "recommendations finished on 155000/305945 queries. users per second: 1760.56"
            ],
            "text/html": [
              "<pre>recommendations finished on 155000/305945 queries. users per second: 1760.56</pre>"
            ]
          },
          "metadata": {}
        },
        {
          "output_type": "display_data",
          "data": {
            "text/plain": [
              "recommendations finished on 156000/305945 queries. users per second: 1761.18"
            ],
            "text/html": [
              "<pre>recommendations finished on 156000/305945 queries. users per second: 1761.18</pre>"
            ]
          },
          "metadata": {}
        },
        {
          "output_type": "display_data",
          "data": {
            "text/plain": [
              "recommendations finished on 157000/305945 queries. users per second: 1761.6"
            ],
            "text/html": [
              "<pre>recommendations finished on 157000/305945 queries. users per second: 1761.6</pre>"
            ]
          },
          "metadata": {}
        },
        {
          "output_type": "display_data",
          "data": {
            "text/plain": [
              "recommendations finished on 158000/305945 queries. users per second: 1762.19"
            ],
            "text/html": [
              "<pre>recommendations finished on 158000/305945 queries. users per second: 1762.19</pre>"
            ]
          },
          "metadata": {}
        },
        {
          "output_type": "display_data",
          "data": {
            "text/plain": [
              "recommendations finished on 159000/305945 queries. users per second: 1762.73"
            ],
            "text/html": [
              "<pre>recommendations finished on 159000/305945 queries. users per second: 1762.73</pre>"
            ]
          },
          "metadata": {}
        },
        {
          "output_type": "display_data",
          "data": {
            "text/plain": [
              "recommendations finished on 160000/305945 queries. users per second: 1763.04"
            ],
            "text/html": [
              "<pre>recommendations finished on 160000/305945 queries. users per second: 1763.04</pre>"
            ]
          },
          "metadata": {}
        },
        {
          "output_type": "display_data",
          "data": {
            "text/plain": [
              "recommendations finished on 161000/305945 queries. users per second: 1763.29"
            ],
            "text/html": [
              "<pre>recommendations finished on 161000/305945 queries. users per second: 1763.29</pre>"
            ]
          },
          "metadata": {}
        },
        {
          "output_type": "display_data",
          "data": {
            "text/plain": [
              "recommendations finished on 162000/305945 queries. users per second: 1763.9"
            ],
            "text/html": [
              "<pre>recommendations finished on 162000/305945 queries. users per second: 1763.9</pre>"
            ]
          },
          "metadata": {}
        },
        {
          "output_type": "display_data",
          "data": {
            "text/plain": [
              "recommendations finished on 163000/305945 queries. users per second: 1764"
            ],
            "text/html": [
              "<pre>recommendations finished on 163000/305945 queries. users per second: 1764</pre>"
            ]
          },
          "metadata": {}
        },
        {
          "output_type": "display_data",
          "data": {
            "text/plain": [
              "recommendations finished on 164000/305945 queries. users per second: 1764.21"
            ],
            "text/html": [
              "<pre>recommendations finished on 164000/305945 queries. users per second: 1764.21</pre>"
            ]
          },
          "metadata": {}
        },
        {
          "output_type": "display_data",
          "data": {
            "text/plain": [
              "recommendations finished on 165000/305945 queries. users per second: 1764.6"
            ],
            "text/html": [
              "<pre>recommendations finished on 165000/305945 queries. users per second: 1764.6</pre>"
            ]
          },
          "metadata": {}
        },
        {
          "output_type": "display_data",
          "data": {
            "text/plain": [
              "recommendations finished on 166000/305945 queries. users per second: 1765.02"
            ],
            "text/html": [
              "<pre>recommendations finished on 166000/305945 queries. users per second: 1765.02</pre>"
            ]
          },
          "metadata": {}
        },
        {
          "output_type": "display_data",
          "data": {
            "text/plain": [
              "recommendations finished on 167000/305945 queries. users per second: 1765.61"
            ],
            "text/html": [
              "<pre>recommendations finished on 167000/305945 queries. users per second: 1765.61</pre>"
            ]
          },
          "metadata": {}
        },
        {
          "output_type": "display_data",
          "data": {
            "text/plain": [
              "recommendations finished on 168000/305945 queries. users per second: 1766"
            ],
            "text/html": [
              "<pre>recommendations finished on 168000/305945 queries. users per second: 1766</pre>"
            ]
          },
          "metadata": {}
        },
        {
          "output_type": "display_data",
          "data": {
            "text/plain": [
              "recommendations finished on 169000/305945 queries. users per second: 1766.65"
            ],
            "text/html": [
              "<pre>recommendations finished on 169000/305945 queries. users per second: 1766.65</pre>"
            ]
          },
          "metadata": {}
        },
        {
          "output_type": "display_data",
          "data": {
            "text/plain": [
              "recommendations finished on 170000/305945 queries. users per second: 1766.85"
            ],
            "text/html": [
              "<pre>recommendations finished on 170000/305945 queries. users per second: 1766.85</pre>"
            ]
          },
          "metadata": {}
        },
        {
          "output_type": "display_data",
          "data": {
            "text/plain": [
              "recommendations finished on 171000/305945 queries. users per second: 1767.46"
            ],
            "text/html": [
              "<pre>recommendations finished on 171000/305945 queries. users per second: 1767.46</pre>"
            ]
          },
          "metadata": {}
        },
        {
          "output_type": "display_data",
          "data": {
            "text/plain": [
              "recommendations finished on 172000/305945 queries. users per second: 1767.74"
            ],
            "text/html": [
              "<pre>recommendations finished on 172000/305945 queries. users per second: 1767.74</pre>"
            ]
          },
          "metadata": {}
        },
        {
          "output_type": "display_data",
          "data": {
            "text/plain": [
              "recommendations finished on 173000/305945 queries. users per second: 1768.21"
            ],
            "text/html": [
              "<pre>recommendations finished on 173000/305945 queries. users per second: 1768.21</pre>"
            ]
          },
          "metadata": {}
        },
        {
          "output_type": "display_data",
          "data": {
            "text/plain": [
              "recommendations finished on 174000/305945 queries. users per second: 1768.62"
            ],
            "text/html": [
              "<pre>recommendations finished on 174000/305945 queries. users per second: 1768.62</pre>"
            ]
          },
          "metadata": {}
        },
        {
          "output_type": "display_data",
          "data": {
            "text/plain": [
              "recommendations finished on 175000/305945 queries. users per second: 1769.05"
            ],
            "text/html": [
              "<pre>recommendations finished on 175000/305945 queries. users per second: 1769.05</pre>"
            ]
          },
          "metadata": {}
        },
        {
          "output_type": "display_data",
          "data": {
            "text/plain": [
              "recommendations finished on 176000/305945 queries. users per second: 1769.42"
            ],
            "text/html": [
              "<pre>recommendations finished on 176000/305945 queries. users per second: 1769.42</pre>"
            ]
          },
          "metadata": {}
        },
        {
          "output_type": "display_data",
          "data": {
            "text/plain": [
              "recommendations finished on 177000/305945 queries. users per second: 1769.44"
            ],
            "text/html": [
              "<pre>recommendations finished on 177000/305945 queries. users per second: 1769.44</pre>"
            ]
          },
          "metadata": {}
        },
        {
          "output_type": "display_data",
          "data": {
            "text/plain": [
              "recommendations finished on 178000/305945 queries. users per second: 1769.49"
            ],
            "text/html": [
              "<pre>recommendations finished on 178000/305945 queries. users per second: 1769.49</pre>"
            ]
          },
          "metadata": {}
        },
        {
          "output_type": "display_data",
          "data": {
            "text/plain": [
              "recommendations finished on 179000/305945 queries. users per second: 1769.72"
            ],
            "text/html": [
              "<pre>recommendations finished on 179000/305945 queries. users per second: 1769.72</pre>"
            ]
          },
          "metadata": {}
        },
        {
          "output_type": "display_data",
          "data": {
            "text/plain": [
              "recommendations finished on 180000/305945 queries. users per second: 1770.11"
            ],
            "text/html": [
              "<pre>recommendations finished on 180000/305945 queries. users per second: 1770.11</pre>"
            ]
          },
          "metadata": {}
        },
        {
          "output_type": "display_data",
          "data": {
            "text/plain": [
              "recommendations finished on 181000/305945 queries. users per second: 1770.43"
            ],
            "text/html": [
              "<pre>recommendations finished on 181000/305945 queries. users per second: 1770.43</pre>"
            ]
          },
          "metadata": {}
        },
        {
          "output_type": "display_data",
          "data": {
            "text/plain": [
              "recommendations finished on 182000/305945 queries. users per second: 1770.79"
            ],
            "text/html": [
              "<pre>recommendations finished on 182000/305945 queries. users per second: 1770.79</pre>"
            ]
          },
          "metadata": {}
        },
        {
          "output_type": "display_data",
          "data": {
            "text/plain": [
              "recommendations finished on 183000/305945 queries. users per second: 1770.95"
            ],
            "text/html": [
              "<pre>recommendations finished on 183000/305945 queries. users per second: 1770.95</pre>"
            ]
          },
          "metadata": {}
        },
        {
          "output_type": "display_data",
          "data": {
            "text/plain": [
              "recommendations finished on 184000/305945 queries. users per second: 1771.43"
            ],
            "text/html": [
              "<pre>recommendations finished on 184000/305945 queries. users per second: 1771.43</pre>"
            ]
          },
          "metadata": {}
        },
        {
          "output_type": "display_data",
          "data": {
            "text/plain": [
              "recommendations finished on 185000/305945 queries. users per second: 1771.71"
            ],
            "text/html": [
              "<pre>recommendations finished on 185000/305945 queries. users per second: 1771.71</pre>"
            ]
          },
          "metadata": {}
        },
        {
          "output_type": "display_data",
          "data": {
            "text/plain": [
              "recommendations finished on 186000/305945 queries. users per second: 1772.19"
            ],
            "text/html": [
              "<pre>recommendations finished on 186000/305945 queries. users per second: 1772.19</pre>"
            ]
          },
          "metadata": {}
        },
        {
          "output_type": "display_data",
          "data": {
            "text/plain": [
              "recommendations finished on 187000/305945 queries. users per second: 1772.52"
            ],
            "text/html": [
              "<pre>recommendations finished on 187000/305945 queries. users per second: 1772.52</pre>"
            ]
          },
          "metadata": {}
        },
        {
          "output_type": "display_data",
          "data": {
            "text/plain": [
              "recommendations finished on 188000/305945 queries. users per second: 1772.91"
            ],
            "text/html": [
              "<pre>recommendations finished on 188000/305945 queries. users per second: 1772.91</pre>"
            ]
          },
          "metadata": {}
        },
        {
          "output_type": "display_data",
          "data": {
            "text/plain": [
              "recommendations finished on 189000/305945 queries. users per second: 1773.26"
            ],
            "text/html": [
              "<pre>recommendations finished on 189000/305945 queries. users per second: 1773.26</pre>"
            ]
          },
          "metadata": {}
        },
        {
          "output_type": "display_data",
          "data": {
            "text/plain": [
              "recommendations finished on 190000/305945 queries. users per second: 1773.57"
            ],
            "text/html": [
              "<pre>recommendations finished on 190000/305945 queries. users per second: 1773.57</pre>"
            ]
          },
          "metadata": {}
        },
        {
          "output_type": "display_data",
          "data": {
            "text/plain": [
              "recommendations finished on 191000/305945 queries. users per second: 1773.87"
            ],
            "text/html": [
              "<pre>recommendations finished on 191000/305945 queries. users per second: 1773.87</pre>"
            ]
          },
          "metadata": {}
        },
        {
          "output_type": "display_data",
          "data": {
            "text/plain": [
              "recommendations finished on 192000/305945 queries. users per second: 1774.4"
            ],
            "text/html": [
              "<pre>recommendations finished on 192000/305945 queries. users per second: 1774.4</pre>"
            ]
          },
          "metadata": {}
        },
        {
          "output_type": "display_data",
          "data": {
            "text/plain": [
              "recommendations finished on 193000/305945 queries. users per second: 1774.8"
            ],
            "text/html": [
              "<pre>recommendations finished on 193000/305945 queries. users per second: 1774.8</pre>"
            ]
          },
          "metadata": {}
        },
        {
          "output_type": "display_data",
          "data": {
            "text/plain": [
              "recommendations finished on 194000/305945 queries. users per second: 1775.2"
            ],
            "text/html": [
              "<pre>recommendations finished on 194000/305945 queries. users per second: 1775.2</pre>"
            ]
          },
          "metadata": {}
        },
        {
          "output_type": "display_data",
          "data": {
            "text/plain": [
              "recommendations finished on 195000/305945 queries. users per second: 1775.5"
            ],
            "text/html": [
              "<pre>recommendations finished on 195000/305945 queries. users per second: 1775.5</pre>"
            ]
          },
          "metadata": {}
        },
        {
          "output_type": "display_data",
          "data": {
            "text/plain": [
              "recommendations finished on 196000/305945 queries. users per second: 1775.75"
            ],
            "text/html": [
              "<pre>recommendations finished on 196000/305945 queries. users per second: 1775.75</pre>"
            ]
          },
          "metadata": {}
        },
        {
          "output_type": "display_data",
          "data": {
            "text/plain": [
              "recommendations finished on 197000/305945 queries. users per second: 1776.14"
            ],
            "text/html": [
              "<pre>recommendations finished on 197000/305945 queries. users per second: 1776.14</pre>"
            ]
          },
          "metadata": {}
        },
        {
          "output_type": "display_data",
          "data": {
            "text/plain": [
              "recommendations finished on 198000/305945 queries. users per second: 1776.35"
            ],
            "text/html": [
              "<pre>recommendations finished on 198000/305945 queries. users per second: 1776.35</pre>"
            ]
          },
          "metadata": {}
        },
        {
          "output_type": "display_data",
          "data": {
            "text/plain": [
              "recommendations finished on 199000/305945 queries. users per second: 1776.71"
            ],
            "text/html": [
              "<pre>recommendations finished on 199000/305945 queries. users per second: 1776.71</pre>"
            ]
          },
          "metadata": {}
        },
        {
          "output_type": "display_data",
          "data": {
            "text/plain": [
              "recommendations finished on 200000/305945 queries. users per second: 1777.02"
            ],
            "text/html": [
              "<pre>recommendations finished on 200000/305945 queries. users per second: 1777.02</pre>"
            ]
          },
          "metadata": {}
        },
        {
          "output_type": "display_data",
          "data": {
            "text/plain": [
              "recommendations finished on 201000/305945 queries. users per second: 1777.51"
            ],
            "text/html": [
              "<pre>recommendations finished on 201000/305945 queries. users per second: 1777.51</pre>"
            ]
          },
          "metadata": {}
        },
        {
          "output_type": "display_data",
          "data": {
            "text/plain": [
              "recommendations finished on 202000/305945 queries. users per second: 1777.91"
            ],
            "text/html": [
              "<pre>recommendations finished on 202000/305945 queries. users per second: 1777.91</pre>"
            ]
          },
          "metadata": {}
        },
        {
          "output_type": "display_data",
          "data": {
            "text/plain": [
              "recommendations finished on 203000/305945 queries. users per second: 1778.32"
            ],
            "text/html": [
              "<pre>recommendations finished on 203000/305945 queries. users per second: 1778.32</pre>"
            ]
          },
          "metadata": {}
        },
        {
          "output_type": "display_data",
          "data": {
            "text/plain": [
              "recommendations finished on 204000/305945 queries. users per second: 1778.51"
            ],
            "text/html": [
              "<pre>recommendations finished on 204000/305945 queries. users per second: 1778.51</pre>"
            ]
          },
          "metadata": {}
        },
        {
          "output_type": "display_data",
          "data": {
            "text/plain": [
              "recommendations finished on 205000/305945 queries. users per second: 1778.9"
            ],
            "text/html": [
              "<pre>recommendations finished on 205000/305945 queries. users per second: 1778.9</pre>"
            ]
          },
          "metadata": {}
        },
        {
          "output_type": "display_data",
          "data": {
            "text/plain": [
              "recommendations finished on 206000/305945 queries. users per second: 1779.03"
            ],
            "text/html": [
              "<pre>recommendations finished on 206000/305945 queries. users per second: 1779.03</pre>"
            ]
          },
          "metadata": {}
        },
        {
          "output_type": "display_data",
          "data": {
            "text/plain": [
              "recommendations finished on 207000/305945 queries. users per second: 1779.5"
            ],
            "text/html": [
              "<pre>recommendations finished on 207000/305945 queries. users per second: 1779.5</pre>"
            ]
          },
          "metadata": {}
        },
        {
          "output_type": "display_data",
          "data": {
            "text/plain": [
              "recommendations finished on 208000/305945 queries. users per second: 1779.72"
            ],
            "text/html": [
              "<pre>recommendations finished on 208000/305945 queries. users per second: 1779.72</pre>"
            ]
          },
          "metadata": {}
        },
        {
          "output_type": "display_data",
          "data": {
            "text/plain": [
              "recommendations finished on 209000/305945 queries. users per second: 1780.15"
            ],
            "text/html": [
              "<pre>recommendations finished on 209000/305945 queries. users per second: 1780.15</pre>"
            ]
          },
          "metadata": {}
        },
        {
          "output_type": "display_data",
          "data": {
            "text/plain": [
              "recommendations finished on 210000/305945 queries. users per second: 1780.48"
            ],
            "text/html": [
              "<pre>recommendations finished on 210000/305945 queries. users per second: 1780.48</pre>"
            ]
          },
          "metadata": {}
        },
        {
          "output_type": "display_data",
          "data": {
            "text/plain": [
              "recommendations finished on 211000/305945 queries. users per second: 1780.96"
            ],
            "text/html": [
              "<pre>recommendations finished on 211000/305945 queries. users per second: 1780.96</pre>"
            ]
          },
          "metadata": {}
        },
        {
          "output_type": "display_data",
          "data": {
            "text/plain": [
              "recommendations finished on 212000/305945 queries. users per second: 1781.26"
            ],
            "text/html": [
              "<pre>recommendations finished on 212000/305945 queries. users per second: 1781.26</pre>"
            ]
          },
          "metadata": {}
        },
        {
          "output_type": "display_data",
          "data": {
            "text/plain": [
              "recommendations finished on 213000/305945 queries. users per second: 1781.58"
            ],
            "text/html": [
              "<pre>recommendations finished on 213000/305945 queries. users per second: 1781.58</pre>"
            ]
          },
          "metadata": {}
        },
        {
          "output_type": "display_data",
          "data": {
            "text/plain": [
              "recommendations finished on 214000/305945 queries. users per second: 1781.8"
            ],
            "text/html": [
              "<pre>recommendations finished on 214000/305945 queries. users per second: 1781.8</pre>"
            ]
          },
          "metadata": {}
        },
        {
          "output_type": "display_data",
          "data": {
            "text/plain": [
              "recommendations finished on 215000/305945 queries. users per second: 1782.2"
            ],
            "text/html": [
              "<pre>recommendations finished on 215000/305945 queries. users per second: 1782.2</pre>"
            ]
          },
          "metadata": {}
        },
        {
          "output_type": "display_data",
          "data": {
            "text/plain": [
              "recommendations finished on 216000/305945 queries. users per second: 1782.39"
            ],
            "text/html": [
              "<pre>recommendations finished on 216000/305945 queries. users per second: 1782.39</pre>"
            ]
          },
          "metadata": {}
        },
        {
          "output_type": "display_data",
          "data": {
            "text/plain": [
              "recommendations finished on 217000/305945 queries. users per second: 1782.76"
            ],
            "text/html": [
              "<pre>recommendations finished on 217000/305945 queries. users per second: 1782.76</pre>"
            ]
          },
          "metadata": {}
        },
        {
          "output_type": "display_data",
          "data": {
            "text/plain": [
              "recommendations finished on 218000/305945 queries. users per second: 1782.93"
            ],
            "text/html": [
              "<pre>recommendations finished on 218000/305945 queries. users per second: 1782.93</pre>"
            ]
          },
          "metadata": {}
        },
        {
          "output_type": "display_data",
          "data": {
            "text/plain": [
              "recommendations finished on 219000/305945 queries. users per second: 1782.96"
            ],
            "text/html": [
              "<pre>recommendations finished on 219000/305945 queries. users per second: 1782.96</pre>"
            ]
          },
          "metadata": {}
        },
        {
          "output_type": "display_data",
          "data": {
            "text/plain": [
              "recommendations finished on 220000/305945 queries. users per second: 1783.26"
            ],
            "text/html": [
              "<pre>recommendations finished on 220000/305945 queries. users per second: 1783.26</pre>"
            ]
          },
          "metadata": {}
        },
        {
          "output_type": "display_data",
          "data": {
            "text/plain": [
              "recommendations finished on 221000/305945 queries. users per second: 1783.57"
            ],
            "text/html": [
              "<pre>recommendations finished on 221000/305945 queries. users per second: 1783.57</pre>"
            ]
          },
          "metadata": {}
        },
        {
          "output_type": "display_data",
          "data": {
            "text/plain": [
              "recommendations finished on 222000/305945 queries. users per second: 1783.8"
            ],
            "text/html": [
              "<pre>recommendations finished on 222000/305945 queries. users per second: 1783.8</pre>"
            ]
          },
          "metadata": {}
        },
        {
          "output_type": "display_data",
          "data": {
            "text/plain": [
              "recommendations finished on 223000/305945 queries. users per second: 1784.02"
            ],
            "text/html": [
              "<pre>recommendations finished on 223000/305945 queries. users per second: 1784.02</pre>"
            ]
          },
          "metadata": {}
        },
        {
          "output_type": "display_data",
          "data": {
            "text/plain": [
              "recommendations finished on 224000/305945 queries. users per second: 1784.11"
            ],
            "text/html": [
              "<pre>recommendations finished on 224000/305945 queries. users per second: 1784.11</pre>"
            ]
          },
          "metadata": {}
        },
        {
          "output_type": "display_data",
          "data": {
            "text/plain": [
              "recommendations finished on 225000/305945 queries. users per second: 1784.42"
            ],
            "text/html": [
              "<pre>recommendations finished on 225000/305945 queries. users per second: 1784.42</pre>"
            ]
          },
          "metadata": {}
        },
        {
          "output_type": "display_data",
          "data": {
            "text/plain": [
              "recommendations finished on 226000/305945 queries. users per second: 1784.71"
            ],
            "text/html": [
              "<pre>recommendations finished on 226000/305945 queries. users per second: 1784.71</pre>"
            ]
          },
          "metadata": {}
        },
        {
          "output_type": "display_data",
          "data": {
            "text/plain": [
              "recommendations finished on 227000/305945 queries. users per second: 1784.96"
            ],
            "text/html": [
              "<pre>recommendations finished on 227000/305945 queries. users per second: 1784.96</pre>"
            ]
          },
          "metadata": {}
        },
        {
          "output_type": "display_data",
          "data": {
            "text/plain": [
              "recommendations finished on 228000/305945 queries. users per second: 1785.38"
            ],
            "text/html": [
              "<pre>recommendations finished on 228000/305945 queries. users per second: 1785.38</pre>"
            ]
          },
          "metadata": {}
        },
        {
          "output_type": "display_data",
          "data": {
            "text/plain": [
              "recommendations finished on 229000/305945 queries. users per second: 1785.66"
            ],
            "text/html": [
              "<pre>recommendations finished on 229000/305945 queries. users per second: 1785.66</pre>"
            ]
          },
          "metadata": {}
        },
        {
          "output_type": "display_data",
          "data": {
            "text/plain": [
              "recommendations finished on 230000/305945 queries. users per second: 1785.96"
            ],
            "text/html": [
              "<pre>recommendations finished on 230000/305945 queries. users per second: 1785.96</pre>"
            ]
          },
          "metadata": {}
        },
        {
          "output_type": "display_data",
          "data": {
            "text/plain": [
              "recommendations finished on 231000/305945 queries. users per second: 1786.05"
            ],
            "text/html": [
              "<pre>recommendations finished on 231000/305945 queries. users per second: 1786.05</pre>"
            ]
          },
          "metadata": {}
        },
        {
          "output_type": "display_data",
          "data": {
            "text/plain": [
              "recommendations finished on 232000/305945 queries. users per second: 1786.38"
            ],
            "text/html": [
              "<pre>recommendations finished on 232000/305945 queries. users per second: 1786.38</pre>"
            ]
          },
          "metadata": {}
        },
        {
          "output_type": "display_data",
          "data": {
            "text/plain": [
              "recommendations finished on 233000/305945 queries. users per second: 1786.62"
            ],
            "text/html": [
              "<pre>recommendations finished on 233000/305945 queries. users per second: 1786.62</pre>"
            ]
          },
          "metadata": {}
        },
        {
          "output_type": "display_data",
          "data": {
            "text/plain": [
              "recommendations finished on 234000/305945 queries. users per second: 1787.04"
            ],
            "text/html": [
              "<pre>recommendations finished on 234000/305945 queries. users per second: 1787.04</pre>"
            ]
          },
          "metadata": {}
        },
        {
          "output_type": "display_data",
          "data": {
            "text/plain": [
              "recommendations finished on 235000/305945 queries. users per second: 1787.45"
            ],
            "text/html": [
              "<pre>recommendations finished on 235000/305945 queries. users per second: 1787.45</pre>"
            ]
          },
          "metadata": {}
        },
        {
          "output_type": "display_data",
          "data": {
            "text/plain": [
              "recommendations finished on 236000/305945 queries. users per second: 1787.93"
            ],
            "text/html": [
              "<pre>recommendations finished on 236000/305945 queries. users per second: 1787.93</pre>"
            ]
          },
          "metadata": {}
        },
        {
          "output_type": "display_data",
          "data": {
            "text/plain": [
              "recommendations finished on 237000/305945 queries. users per second: 1788.26"
            ],
            "text/html": [
              "<pre>recommendations finished on 237000/305945 queries. users per second: 1788.26</pre>"
            ]
          },
          "metadata": {}
        },
        {
          "output_type": "display_data",
          "data": {
            "text/plain": [
              "recommendations finished on 238000/305945 queries. users per second: 1788.48"
            ],
            "text/html": [
              "<pre>recommendations finished on 238000/305945 queries. users per second: 1788.48</pre>"
            ]
          },
          "metadata": {}
        },
        {
          "output_type": "display_data",
          "data": {
            "text/plain": [
              "recommendations finished on 239000/305945 queries. users per second: 1788.67"
            ],
            "text/html": [
              "<pre>recommendations finished on 239000/305945 queries. users per second: 1788.67</pre>"
            ]
          },
          "metadata": {}
        },
        {
          "output_type": "display_data",
          "data": {
            "text/plain": [
              "recommendations finished on 240000/305945 queries. users per second: 1788.94"
            ],
            "text/html": [
              "<pre>recommendations finished on 240000/305945 queries. users per second: 1788.94</pre>"
            ]
          },
          "metadata": {}
        },
        {
          "output_type": "display_data",
          "data": {
            "text/plain": [
              "recommendations finished on 241000/305945 queries. users per second: 1789.3"
            ],
            "text/html": [
              "<pre>recommendations finished on 241000/305945 queries. users per second: 1789.3</pre>"
            ]
          },
          "metadata": {}
        },
        {
          "output_type": "display_data",
          "data": {
            "text/plain": [
              "recommendations finished on 242000/305945 queries. users per second: 1789.56"
            ],
            "text/html": [
              "<pre>recommendations finished on 242000/305945 queries. users per second: 1789.56</pre>"
            ]
          },
          "metadata": {}
        },
        {
          "output_type": "display_data",
          "data": {
            "text/plain": [
              "recommendations finished on 243000/305945 queries. users per second: 1790.01"
            ],
            "text/html": [
              "<pre>recommendations finished on 243000/305945 queries. users per second: 1790.01</pre>"
            ]
          },
          "metadata": {}
        },
        {
          "output_type": "display_data",
          "data": {
            "text/plain": [
              "recommendations finished on 244000/305945 queries. users per second: 1790.34"
            ],
            "text/html": [
              "<pre>recommendations finished on 244000/305945 queries. users per second: 1790.34</pre>"
            ]
          },
          "metadata": {}
        },
        {
          "output_type": "display_data",
          "data": {
            "text/plain": [
              "recommendations finished on 245000/305945 queries. users per second: 1790.63"
            ],
            "text/html": [
              "<pre>recommendations finished on 245000/305945 queries. users per second: 1790.63</pre>"
            ]
          },
          "metadata": {}
        },
        {
          "output_type": "display_data",
          "data": {
            "text/plain": [
              "recommendations finished on 246000/305945 queries. users per second: 1790.8"
            ],
            "text/html": [
              "<pre>recommendations finished on 246000/305945 queries. users per second: 1790.8</pre>"
            ]
          },
          "metadata": {}
        },
        {
          "output_type": "display_data",
          "data": {
            "text/plain": [
              "recommendations finished on 247000/305945 queries. users per second: 1791.2"
            ],
            "text/html": [
              "<pre>recommendations finished on 247000/305945 queries. users per second: 1791.2</pre>"
            ]
          },
          "metadata": {}
        },
        {
          "output_type": "display_data",
          "data": {
            "text/plain": [
              "recommendations finished on 248000/305945 queries. users per second: 1791.18"
            ],
            "text/html": [
              "<pre>recommendations finished on 248000/305945 queries. users per second: 1791.18</pre>"
            ]
          },
          "metadata": {}
        },
        {
          "output_type": "display_data",
          "data": {
            "text/plain": [
              "recommendations finished on 249000/305945 queries. users per second: 1791.48"
            ],
            "text/html": [
              "<pre>recommendations finished on 249000/305945 queries. users per second: 1791.48</pre>"
            ]
          },
          "metadata": {}
        },
        {
          "output_type": "display_data",
          "data": {
            "text/plain": [
              "recommendations finished on 250000/305945 queries. users per second: 1791.42"
            ],
            "text/html": [
              "<pre>recommendations finished on 250000/305945 queries. users per second: 1791.42</pre>"
            ]
          },
          "metadata": {}
        },
        {
          "output_type": "display_data",
          "data": {
            "text/plain": [
              "recommendations finished on 251000/305945 queries. users per second: 1791.54"
            ],
            "text/html": [
              "<pre>recommendations finished on 251000/305945 queries. users per second: 1791.54</pre>"
            ]
          },
          "metadata": {}
        },
        {
          "output_type": "display_data",
          "data": {
            "text/plain": [
              "recommendations finished on 252000/305945 queries. users per second: 1791.61"
            ],
            "text/html": [
              "<pre>recommendations finished on 252000/305945 queries. users per second: 1791.61</pre>"
            ]
          },
          "metadata": {}
        },
        {
          "output_type": "display_data",
          "data": {
            "text/plain": [
              "recommendations finished on 253000/305945 queries. users per second: 1791.77"
            ],
            "text/html": [
              "<pre>recommendations finished on 253000/305945 queries. users per second: 1791.77</pre>"
            ]
          },
          "metadata": {}
        },
        {
          "output_type": "display_data",
          "data": {
            "text/plain": [
              "recommendations finished on 254000/305945 queries. users per second: 1792.02"
            ],
            "text/html": [
              "<pre>recommendations finished on 254000/305945 queries. users per second: 1792.02</pre>"
            ]
          },
          "metadata": {}
        },
        {
          "output_type": "display_data",
          "data": {
            "text/plain": [
              "recommendations finished on 255000/305945 queries. users per second: 1792.19"
            ],
            "text/html": [
              "<pre>recommendations finished on 255000/305945 queries. users per second: 1792.19</pre>"
            ]
          },
          "metadata": {}
        },
        {
          "output_type": "display_data",
          "data": {
            "text/plain": [
              "recommendations finished on 256000/305945 queries. users per second: 1792.49"
            ],
            "text/html": [
              "<pre>recommendations finished on 256000/305945 queries. users per second: 1792.49</pre>"
            ]
          },
          "metadata": {}
        },
        {
          "output_type": "display_data",
          "data": {
            "text/plain": [
              "recommendations finished on 257000/305945 queries. users per second: 1792.62"
            ],
            "text/html": [
              "<pre>recommendations finished on 257000/305945 queries. users per second: 1792.62</pre>"
            ]
          },
          "metadata": {}
        },
        {
          "output_type": "display_data",
          "data": {
            "text/plain": [
              "recommendations finished on 258000/305945 queries. users per second: 1792.95"
            ],
            "text/html": [
              "<pre>recommendations finished on 258000/305945 queries. users per second: 1792.95</pre>"
            ]
          },
          "metadata": {}
        },
        {
          "output_type": "display_data",
          "data": {
            "text/plain": [
              "recommendations finished on 259000/305945 queries. users per second: 1793.11"
            ],
            "text/html": [
              "<pre>recommendations finished on 259000/305945 queries. users per second: 1793.11</pre>"
            ]
          },
          "metadata": {}
        },
        {
          "output_type": "display_data",
          "data": {
            "text/plain": [
              "recommendations finished on 260000/305945 queries. users per second: 1793.04"
            ],
            "text/html": [
              "<pre>recommendations finished on 260000/305945 queries. users per second: 1793.04</pre>"
            ]
          },
          "metadata": {}
        },
        {
          "output_type": "display_data",
          "data": {
            "text/plain": [
              "recommendations finished on 261000/305945 queries. users per second: 1793.18"
            ],
            "text/html": [
              "<pre>recommendations finished on 261000/305945 queries. users per second: 1793.18</pre>"
            ]
          },
          "metadata": {}
        },
        {
          "output_type": "display_data",
          "data": {
            "text/plain": [
              "recommendations finished on 262000/305945 queries. users per second: 1793.45"
            ],
            "text/html": [
              "<pre>recommendations finished on 262000/305945 queries. users per second: 1793.45</pre>"
            ]
          },
          "metadata": {}
        },
        {
          "output_type": "display_data",
          "data": {
            "text/plain": [
              "recommendations finished on 263000/305945 queries. users per second: 1793.56"
            ],
            "text/html": [
              "<pre>recommendations finished on 263000/305945 queries. users per second: 1793.56</pre>"
            ]
          },
          "metadata": {}
        },
        {
          "output_type": "display_data",
          "data": {
            "text/plain": [
              "recommendations finished on 264000/305945 queries. users per second: 1793.83"
            ],
            "text/html": [
              "<pre>recommendations finished on 264000/305945 queries. users per second: 1793.83</pre>"
            ]
          },
          "metadata": {}
        },
        {
          "output_type": "display_data",
          "data": {
            "text/plain": [
              "recommendations finished on 265000/305945 queries. users per second: 1793.95"
            ],
            "text/html": [
              "<pre>recommendations finished on 265000/305945 queries. users per second: 1793.95</pre>"
            ]
          },
          "metadata": {}
        },
        {
          "output_type": "display_data",
          "data": {
            "text/plain": [
              "recommendations finished on 266000/305945 queries. users per second: 1794.18"
            ],
            "text/html": [
              "<pre>recommendations finished on 266000/305945 queries. users per second: 1794.18</pre>"
            ]
          },
          "metadata": {}
        },
        {
          "output_type": "display_data",
          "data": {
            "text/plain": [
              "recommendations finished on 267000/305945 queries. users per second: 1794.32"
            ],
            "text/html": [
              "<pre>recommendations finished on 267000/305945 queries. users per second: 1794.32</pre>"
            ]
          },
          "metadata": {}
        },
        {
          "output_type": "display_data",
          "data": {
            "text/plain": [
              "recommendations finished on 268000/305945 queries. users per second: 1794.49"
            ],
            "text/html": [
              "<pre>recommendations finished on 268000/305945 queries. users per second: 1794.49</pre>"
            ]
          },
          "metadata": {}
        },
        {
          "output_type": "display_data",
          "data": {
            "text/plain": [
              "recommendations finished on 269000/305945 queries. users per second: 1794.68"
            ],
            "text/html": [
              "<pre>recommendations finished on 269000/305945 queries. users per second: 1794.68</pre>"
            ]
          },
          "metadata": {}
        },
        {
          "output_type": "display_data",
          "data": {
            "text/plain": [
              "recommendations finished on 270000/305945 queries. users per second: 1794.77"
            ],
            "text/html": [
              "<pre>recommendations finished on 270000/305945 queries. users per second: 1794.77</pre>"
            ]
          },
          "metadata": {}
        },
        {
          "output_type": "display_data",
          "data": {
            "text/plain": [
              "recommendations finished on 271000/305945 queries. users per second: 1795.13"
            ],
            "text/html": [
              "<pre>recommendations finished on 271000/305945 queries. users per second: 1795.13</pre>"
            ]
          },
          "metadata": {}
        },
        {
          "output_type": "display_data",
          "data": {
            "text/plain": [
              "recommendations finished on 272000/305945 queries. users per second: 1795.28"
            ],
            "text/html": [
              "<pre>recommendations finished on 272000/305945 queries. users per second: 1795.28</pre>"
            ]
          },
          "metadata": {}
        },
        {
          "output_type": "display_data",
          "data": {
            "text/plain": [
              "recommendations finished on 273000/305945 queries. users per second: 1795.48"
            ],
            "text/html": [
              "<pre>recommendations finished on 273000/305945 queries. users per second: 1795.48</pre>"
            ]
          },
          "metadata": {}
        },
        {
          "output_type": "display_data",
          "data": {
            "text/plain": [
              "recommendations finished on 274000/305945 queries. users per second: 1795.52"
            ],
            "text/html": [
              "<pre>recommendations finished on 274000/305945 queries. users per second: 1795.52</pre>"
            ]
          },
          "metadata": {}
        },
        {
          "output_type": "display_data",
          "data": {
            "text/plain": [
              "recommendations finished on 275000/305945 queries. users per second: 1795.88"
            ],
            "text/html": [
              "<pre>recommendations finished on 275000/305945 queries. users per second: 1795.88</pre>"
            ]
          },
          "metadata": {}
        },
        {
          "output_type": "display_data",
          "data": {
            "text/plain": [
              "recommendations finished on 276000/305945 queries. users per second: 1795.87"
            ],
            "text/html": [
              "<pre>recommendations finished on 276000/305945 queries. users per second: 1795.87</pre>"
            ]
          },
          "metadata": {}
        },
        {
          "output_type": "display_data",
          "data": {
            "text/plain": [
              "recommendations finished on 277000/305945 queries. users per second: 1796.14"
            ],
            "text/html": [
              "<pre>recommendations finished on 277000/305945 queries. users per second: 1796.14</pre>"
            ]
          },
          "metadata": {}
        },
        {
          "output_type": "display_data",
          "data": {
            "text/plain": [
              "recommendations finished on 278000/305945 queries. users per second: 1796.18"
            ],
            "text/html": [
              "<pre>recommendations finished on 278000/305945 queries. users per second: 1796.18</pre>"
            ]
          },
          "metadata": {}
        },
        {
          "output_type": "display_data",
          "data": {
            "text/plain": [
              "recommendations finished on 279000/305945 queries. users per second: 1796.41"
            ],
            "text/html": [
              "<pre>recommendations finished on 279000/305945 queries. users per second: 1796.41</pre>"
            ]
          },
          "metadata": {}
        },
        {
          "output_type": "display_data",
          "data": {
            "text/plain": [
              "recommendations finished on 280000/305945 queries. users per second: 1796.31"
            ],
            "text/html": [
              "<pre>recommendations finished on 280000/305945 queries. users per second: 1796.31</pre>"
            ]
          },
          "metadata": {}
        },
        {
          "output_type": "display_data",
          "data": {
            "text/plain": [
              "recommendations finished on 281000/305945 queries. users per second: 1796.65"
            ],
            "text/html": [
              "<pre>recommendations finished on 281000/305945 queries. users per second: 1796.65</pre>"
            ]
          },
          "metadata": {}
        },
        {
          "output_type": "display_data",
          "data": {
            "text/plain": [
              "recommendations finished on 282000/305945 queries. users per second: 1796.89"
            ],
            "text/html": [
              "<pre>recommendations finished on 282000/305945 queries. users per second: 1796.89</pre>"
            ]
          },
          "metadata": {}
        },
        {
          "output_type": "display_data",
          "data": {
            "text/plain": [
              "recommendations finished on 283000/305945 queries. users per second: 1797.15"
            ],
            "text/html": [
              "<pre>recommendations finished on 283000/305945 queries. users per second: 1797.15</pre>"
            ]
          },
          "metadata": {}
        },
        {
          "output_type": "display_data",
          "data": {
            "text/plain": [
              "recommendations finished on 284000/305945 queries. users per second: 1797.37"
            ],
            "text/html": [
              "<pre>recommendations finished on 284000/305945 queries. users per second: 1797.37</pre>"
            ]
          },
          "metadata": {}
        },
        {
          "output_type": "display_data",
          "data": {
            "text/plain": [
              "recommendations finished on 285000/305945 queries. users per second: 1797.57"
            ],
            "text/html": [
              "<pre>recommendations finished on 285000/305945 queries. users per second: 1797.57</pre>"
            ]
          },
          "metadata": {}
        },
        {
          "output_type": "display_data",
          "data": {
            "text/plain": [
              "recommendations finished on 286000/305945 queries. users per second: 1797.8"
            ],
            "text/html": [
              "<pre>recommendations finished on 286000/305945 queries. users per second: 1797.8</pre>"
            ]
          },
          "metadata": {}
        },
        {
          "output_type": "display_data",
          "data": {
            "text/plain": [
              "recommendations finished on 287000/305945 queries. users per second: 1798.13"
            ],
            "text/html": [
              "<pre>recommendations finished on 287000/305945 queries. users per second: 1798.13</pre>"
            ]
          },
          "metadata": {}
        },
        {
          "output_type": "display_data",
          "data": {
            "text/plain": [
              "recommendations finished on 288000/305945 queries. users per second: 1798.45"
            ],
            "text/html": [
              "<pre>recommendations finished on 288000/305945 queries. users per second: 1798.45</pre>"
            ]
          },
          "metadata": {}
        },
        {
          "output_type": "display_data",
          "data": {
            "text/plain": [
              "recommendations finished on 289000/305945 queries. users per second: 1798.54"
            ],
            "text/html": [
              "<pre>recommendations finished on 289000/305945 queries. users per second: 1798.54</pre>"
            ]
          },
          "metadata": {}
        },
        {
          "output_type": "display_data",
          "data": {
            "text/plain": [
              "recommendations finished on 290000/305945 queries. users per second: 1798.98"
            ],
            "text/html": [
              "<pre>recommendations finished on 290000/305945 queries. users per second: 1798.98</pre>"
            ]
          },
          "metadata": {}
        },
        {
          "output_type": "display_data",
          "data": {
            "text/plain": [
              "recommendations finished on 291000/305945 queries. users per second: 1799.18"
            ],
            "text/html": [
              "<pre>recommendations finished on 291000/305945 queries. users per second: 1799.18</pre>"
            ]
          },
          "metadata": {}
        },
        {
          "output_type": "display_data",
          "data": {
            "text/plain": [
              "recommendations finished on 292000/305945 queries. users per second: 1799.62"
            ],
            "text/html": [
              "<pre>recommendations finished on 292000/305945 queries. users per second: 1799.62</pre>"
            ]
          },
          "metadata": {}
        },
        {
          "output_type": "display_data",
          "data": {
            "text/plain": [
              "recommendations finished on 293000/305945 queries. users per second: 1799.83"
            ],
            "text/html": [
              "<pre>recommendations finished on 293000/305945 queries. users per second: 1799.83</pre>"
            ]
          },
          "metadata": {}
        },
        {
          "output_type": "display_data",
          "data": {
            "text/plain": [
              "recommendations finished on 294000/305945 queries. users per second: 1800.12"
            ],
            "text/html": [
              "<pre>recommendations finished on 294000/305945 queries. users per second: 1800.12</pre>"
            ]
          },
          "metadata": {}
        },
        {
          "output_type": "display_data",
          "data": {
            "text/plain": [
              "recommendations finished on 295000/305945 queries. users per second: 1797.12"
            ],
            "text/html": [
              "<pre>recommendations finished on 295000/305945 queries. users per second: 1797.12</pre>"
            ]
          },
          "metadata": {}
        },
        {
          "output_type": "display_data",
          "data": {
            "text/plain": [
              "recommendations finished on 296000/305945 queries. users per second: 1792.19"
            ],
            "text/html": [
              "<pre>recommendations finished on 296000/305945 queries. users per second: 1792.19</pre>"
            ]
          },
          "metadata": {}
        },
        {
          "output_type": "display_data",
          "data": {
            "text/plain": [
              "recommendations finished on 297000/305945 queries. users per second: 1788.59"
            ],
            "text/html": [
              "<pre>recommendations finished on 297000/305945 queries. users per second: 1788.59</pre>"
            ]
          },
          "metadata": {}
        },
        {
          "output_type": "display_data",
          "data": {
            "text/plain": [
              "recommendations finished on 298000/305945 queries. users per second: 1784.12"
            ],
            "text/html": [
              "<pre>recommendations finished on 298000/305945 queries. users per second: 1784.12</pre>"
            ]
          },
          "metadata": {}
        },
        {
          "output_type": "display_data",
          "data": {
            "text/plain": [
              "recommendations finished on 299000/305945 queries. users per second: 1781.84"
            ],
            "text/html": [
              "<pre>recommendations finished on 299000/305945 queries. users per second: 1781.84</pre>"
            ]
          },
          "metadata": {}
        },
        {
          "output_type": "display_data",
          "data": {
            "text/plain": [
              "recommendations finished on 300000/305945 queries. users per second: 1782.12"
            ],
            "text/html": [
              "<pre>recommendations finished on 300000/305945 queries. users per second: 1782.12</pre>"
            ]
          },
          "metadata": {}
        },
        {
          "output_type": "display_data",
          "data": {
            "text/plain": [
              "recommendations finished on 301000/305945 queries. users per second: 1781.68"
            ],
            "text/html": [
              "<pre>recommendations finished on 301000/305945 queries. users per second: 1781.68</pre>"
            ]
          },
          "metadata": {}
        },
        {
          "output_type": "display_data",
          "data": {
            "text/plain": [
              "recommendations finished on 302000/305945 queries. users per second: 1781.28"
            ],
            "text/html": [
              "<pre>recommendations finished on 302000/305945 queries. users per second: 1781.28</pre>"
            ]
          },
          "metadata": {}
        },
        {
          "output_type": "display_data",
          "data": {
            "text/plain": [
              "recommendations finished on 303000/305945 queries. users per second: 1780.98"
            ],
            "text/html": [
              "<pre>recommendations finished on 303000/305945 queries. users per second: 1780.98</pre>"
            ]
          },
          "metadata": {}
        },
        {
          "output_type": "display_data",
          "data": {
            "text/plain": [
              "recommendations finished on 304000/305945 queries. users per second: 1780.65"
            ],
            "text/html": [
              "<pre>recommendations finished on 304000/305945 queries. users per second: 1780.65</pre>"
            ]
          },
          "metadata": {}
        },
        {
          "output_type": "display_data",
          "data": {
            "text/plain": [
              "recommendations finished on 305000/305945 queries. users per second: 1780.19"
            ],
            "text/html": [
              "<pre>recommendations finished on 305000/305945 queries. users per second: 1780.19</pre>"
            ]
          },
          "metadata": {}
        }
      ]
    },
    {
      "cell_type": "code",
      "source": [
        "# print the n first recommendations\n",
        "recommendation.print_rows(100)"
      ],
      "metadata": {
        "colab": {
          "base_uri": "https://localhost:8080/"
        },
        "id": "nV-ovTs1X5G_",
        "outputId": "c15479c4-f735-4cb1-bcc0-aa3cb894b90b"
      },
      "execution_count": null,
      "outputs": [
        {
          "output_type": "stream",
          "name": "stdout",
          "text": [
            "+---------+---------+-----------------------+------+\n",
            "| user_id | item_id |         score         | rank |\n",
            "+---------+---------+-----------------------+------+\n",
            "|    0    |  19240  | 0.0026329703952955165 |  1   |\n",
            "|    0    |   152   |  0.002247720956802368 |  2   |\n",
            "|    0    |   1744  | 0.0020862435517103777 |  3   |\n",
            "|    0    |  23080  | 0.0017583804286044576 |  4   |\n",
            "|    0    |  19023  | 0.0016552216332891712 |  5   |\n",
            "|    0    |   3921  | 0.0015621729519056237 |  6   |\n",
            "|    0    |  27017  | 0.0015527029400286467 |  7   |\n",
            "|    0    |  22885  | 0.0015468228122462397 |  8   |\n",
            "|    0    |   3724  | 0.0015233625536379607 |  9   |\n",
            "|    0    |  31797  | 0.0014299957648567531 |  10  |\n",
            "|    0    |   571   |  0.001376674227092577 |  11  |\n",
            "|    0    |  17142  | 0.0013392334399016006 |  12  |\n",
            "|    1    |  33170  |  0.004627175403363777 |  1   |\n",
            "|    1    |   8268  |  0.004484389767502294 |  2   |\n",
            "|    1    |   6233  | 0.0038152319012266216 |  3   |\n",
            "|    1    |   8188  |  0.003765563170115153 |  4   |\n",
            "|    1    |  29553  | 0.0031824834419019294 |  5   |\n",
            "|    1    |  26703  | 0.0027696309667645078 |  6   |\n",
            "|    1    |  15506  |  0.002718020569194447 |  7   |\n",
            "|    1    |   2526  | 0.0027097860972086587 |  8   |\n",
            "|    1    |  18734  | 0.0026992703929091945 |  9   |\n",
            "|    1    |  20399  |  0.002607128836891868 |  10  |\n",
            "|    1    |   1703  | 0.0025833393588210597 |  11  |\n",
            "|    1    |   5371  |  0.002400188735037139 |  12  |\n",
            "|    2    |   5035  |  0.007599184146294227 |  1   |\n",
            "|    2    |   5036  |  0.005769417836115911 |  2   |\n",
            "|    2    |  23194  |  0.005494505167007446 |  3   |\n",
            "|    2    |  24938  | 0.0049749979606041545 |  4   |\n",
            "|    2    |   6573  |  0.004858812460532555 |  5   |\n",
            "|    2    |   3186  |  0.00452156479542072  |  6   |\n",
            "|    2    |  26879  | 0.0041755735874176025 |  7   |\n",
            "|    2    |   6565  |  0.004001200199127197 |  8   |\n",
            "|    2    |  34380  | 0.0037851792115431568 |  9   |\n",
            "|    2    |   9959  |  0.003664605892621554 |  10  |\n",
            "|    2    |  13523  | 0.0036341616740593542 |  11  |\n",
            "|    2    |  30499  |  0.003387237970645611 |  12  |\n",
            "|    3    |   3000  | 0.0054993611924788535 |  1   |\n",
            "|    3    |   5506  |  0.004675293669981115 |  2   |\n",
            "|    3    |  11001  |  0.00403411072843215  |  3   |\n",
            "|    3    |   2712  | 0.0035359035519992605 |  4   |\n",
            "|    3    |   2713  | 0.0034509897232055664 |  5   |\n",
            "|    3    |  11030  |  0.003431917989955229 |  6   |\n",
            "|    3    |  28633  |  0.003331429818097283 |  7   |\n",
            "|    3    |  19499  | 0.0030436200254103716 |  8   |\n",
            "|    3    |   8799  | 0.0029701537945691276 |  9   |\n",
            "|    3    |   762   |  0.002901715390822467 |  10  |\n",
            "|    3    |  22927  |  0.002826213836669922 |  11  |\n",
            "|    3    |   8184  | 0.0028142929077148438 |  12  |\n",
            "|    4    |  31314  |  0.005824470052532121 |  1   |\n",
            "|    4    |  27661  |  0.005058647370805927 |  2   |\n",
            "|    4    |   9704  |  0.003176130500494265 |  3   |\n",
            "|    4    |  16978  | 0.0025578223022760128 |  4   |\n",
            "|    4    |   7983  | 0.0024703670950496897 |  5   |\n",
            "|    4    |   3154  |  0.002323923157710655 |  6   |\n",
            "|    4    |   4744  |  0.002196622829811246 |  7   |\n",
            "|    4    |  13667  |  0.002031302919574812 |  8   |\n",
            "|    4    |  26117  |  0.001900338659099504 |  9   |\n",
            "|    4    |  24767  | 0.0018431918293822045 |  10  |\n",
            "|    4    |   909   | 0.0018326032395456352 |  11  |\n",
            "|    4    |   8056  | 0.0018149392277586694 |  12  |\n",
            "|    5    |  32229  |  0.013552867597149264 |  1   |\n",
            "|    5    |  29848  |  0.008064516129032258 |  2   |\n",
            "|    5    |   4898  |  0.005542430185502575 |  3   |\n",
            "|    5    |  24847  | 0.0033818944807975523 |  4   |\n",
            "|    5    |   3431  | 0.0031429548417368242 |  5   |\n",
            "|    5    |  17516  | 0.0029420218160075527 |  6   |\n",
            "|    5    |  13053  |  0.002912821308259041 |  7   |\n",
            "|    5    |  30277  |  0.002584474702035227 |  8   |\n",
            "|    5    |    1    | 0.0025273407659223003 |  9   |\n",
            "|    5    |    2    |  0.002464623220505253 |  10  |\n",
            "|    5    |  15742  | 0.0024156032070036856 |  11  |\n",
            "|    5    |  22470  | 0.0023854297976340015 |  12  |\n",
            "|    6    |   788   |  0.002603938633745367 |  1   |\n",
            "|    6    |   509   | 0.0023537305268374357 |  2   |\n",
            "|    6    |   794   | 0.0019717196171933956 |  3   |\n",
            "|    6    |   999   |  0.001632926816290075 |  4   |\n",
            "|    6    |  11031  | 0.0016280724243684249 |  5   |\n",
            "|    6    |   9898  |  0.001470603726126931 |  6   |\n",
            "|    6    |   8200  | 0.0014476423913782294 |  7   |\n",
            "|    6    |   9585  | 0.0014407038688659668 |  8   |\n",
            "|    6    |   2814  | 0.0013944174755703318 |  9   |\n",
            "|    6    |  19961  | 0.0013585700230164962 |  10  |\n",
            "|    6    |  12777  | 0.0013575398109175942 |  11  |\n",
            "|    6    |   9897  | 0.0013373961502855475 |  12  |\n",
            "|    7    |   175   | 0.0013650403204691936 |  1   |\n",
            "|    7    |   600   | 0.0011544733880514122 |  2   |\n",
            "|    7    |   1441  | 0.0011437270775377512 |  3   |\n",
            "|    7    |   174   | 0.0011423605991654608 |  4   |\n",
            "|    7    |   176   |  0.001074431411712524 |  5   |\n",
            "|    7    |   4265  | 0.0010706765584677577 |  6   |\n",
            "|    7    |   680   | 0.0009176619799740343 |  7   |\n",
            "|    7    |   1779  | 0.0008960234592238583 |  8   |\n",
            "|    7    |   8312  | 0.0008451221697780501 |  9   |\n",
            "|    7    |   504   | 0.0008376094710874749 |  10  |\n",
            "|    7    |    88   | 0.0008025605037030446 |  11  |\n",
            "|    7    |  29668  |  0.000794890654613694 |  12  |\n",
            "|    8    |   4988  | 0.0026213835267459647 |  1   |\n",
            "|    8    |   6329  | 0.0024590176694533404 |  2   |\n",
            "|    8    |   8359  | 0.0023444014437058393 |  3   |\n",
            "|    8    |   9638  |  0.002270689431358786 |  4   |\n",
            "+---------+---------+-----------------------+------+\n",
            "[3671340 rows x 4 columns]\n",
            "\n"
          ]
        }
      ]
    },
    {
      "cell_type": "code",
      "source": [
        "jac_eval = jaccard.evaluate_precision_recall(df_test)"
      ],
      "metadata": {
        "id": "Ls2hZArrY5-a"
      },
      "execution_count": null,
      "outputs": []
    },
    {
      "cell_type": "code",
      "source": [
        "jac_eval"
      ],
      "metadata": {
        "colab": {
          "base_uri": "https://localhost:8080/"
        },
        "id": "xHR6gX3jZC_s",
        "outputId": "26ef44ba-f3b2-4dd4-9a42-c8b4c58c1d30"
      },
      "execution_count": null,
      "outputs": [
        {
          "output_type": "execute_result",
          "data": {
            "text/plain": [
              "{'precision_recall_by_user': Columns:\n",
              " \tuser_id\tint\n",
              " \tcutoff\tint\n",
              " \tprecision\tfloat\n",
              " \trecall\tfloat\n",
              " \tcount\tint\n",
              " \n",
              " Rows: 1619658\n",
              " \n",
              " Data:\n",
              " +---------+--------+-----------+--------+-------+\n",
              " | user_id | cutoff | precision | recall | count |\n",
              " +---------+--------+-----------+--------+-------+\n",
              " |    5    |   1    |    0.0    |  0.0   |   9   |\n",
              " |    5    |   2    |    0.0    |  0.0   |   9   |\n",
              " |    5    |   3    |    0.0    |  0.0   |   9   |\n",
              " |    5    |   4    |    0.0    |  0.0   |   9   |\n",
              " |    5    |   5    |    0.0    |  0.0   |   9   |\n",
              " |    5    |   6    |    0.0    |  0.0   |   9   |\n",
              " |    5    |   7    |    0.0    |  0.0   |   9   |\n",
              " |    5    |   8    |    0.0    |  0.0   |   9   |\n",
              " |    5    |   9    |    0.0    |  0.0   |   9   |\n",
              " |    5    |   10   |    0.0    |  0.0   |   9   |\n",
              " +---------+--------+-----------+--------+-------+\n",
              " [1619658 rows x 5 columns]\n",
              " Note: Only the head of the SFrame is printed.\n",
              " You can use print_rows(num_rows=m, num_columns=n) to print more rows and columns.,\n",
              " 'precision_recall_overall': Columns:\n",
              " \tcutoff\tint\n",
              " \tprecision\tfloat\n",
              " \trecall\tfloat\n",
              " \n",
              " Rows: 18\n",
              " \n",
              " Data:\n",
              " +--------+---------------------+----------------------+\n",
              " | cutoff |      precision      |        recall        |\n",
              " +--------+---------------------+----------------------+\n",
              " |   1    |  0.2573543303586333 | 0.017858598646577264 |\n",
              " |   2    |  0.2102666118402772 | 0.02867344931811066  |\n",
              " |   3    | 0.18100117432198679 | 0.036651172809033274 |\n",
              " |   4    | 0.16064502506084544 | 0.04308605539516399  |\n",
              " |   5    | 0.14541514319689575 | 0.04858322855534344  |\n",
              " |   6    | 0.13356338189914185 | 0.05333618991773916  |\n",
              " |   7    | 0.12418018407060619 | 0.057680893461563576 |\n",
              " |   8    | 0.11630788722063547 | 0.061558464398518746 |\n",
              " |   9    | 0.10970093686444717 | 0.06514621632861176  |\n",
              " |   10   |   0.10394972271924  | 0.06841639538060973  |\n",
              " +--------+---------------------+----------------------+\n",
              " [18 rows x 3 columns]\n",
              " Note: Only the head of the SFrame is printed.\n",
              " You can use print_rows(num_rows=m, num_columns=n) to print more rows and columns.}"
            ]
          },
          "metadata": {},
          "execution_count": 19
        }
      ]
    },
    {
      "cell_type": "markdown",
      "source": [
        "# 2 Matrirx Factorization"
      ],
      "metadata": {
        "id": "WGxO3TZmg9Yv"
      }
    },
    {
      "cell_type": "markdown",
      "source": [
        "Latent dimensionality: K < 18609"
      ],
      "metadata": {
        "id": "bWAStoCUxRnH"
      }
    },
    {
      "cell_type": "markdown",
      "source": [
        "## 2-1 Adagrad and SGD"
      ],
      "metadata": {
        "id": "gqjWGLbticY6"
      }
    },
    {
      "cell_type": "code",
      "source": [
        "mf_grad = tc.ranking_factorization_recommender.create(df_train, \n",
        "                                              user_id='user_id', \n",
        "                                              item_id='item_id',\n",
        "                                              num_factors=10,\n",
        "                                              #max_iterations=40\n",
        "                                              solver='adagrad')\n",
        "# recommend k products for a list of users (None corresponds to all users) \n",
        "recommendation = mf_grad.recommend(users=None, k=12)"
      ],
      "metadata": {
        "colab": {
          "base_uri": "https://localhost:8080/",
          "height": 1000
        },
        "id": "01UNoe3-i3oY",
        "outputId": "f72991dc-0146-45f8-b1fe-161fca74ebc9"
      },
      "execution_count": null,
      "outputs": [
        {
          "output_type": "display_data",
          "data": {
            "text/plain": [
              "Preparing data set."
            ],
            "text/html": [
              "<pre>Preparing data set.</pre>"
            ]
          },
          "metadata": {}
        },
        {
          "output_type": "display_data",
          "data": {
            "text/plain": [
              "    Data has 16380622 observations with 305945 users and 42373 items."
            ],
            "text/html": [
              "<pre>    Data has 16380622 observations with 305945 users and 42373 items.</pre>"
            ]
          },
          "metadata": {}
        },
        {
          "output_type": "display_data",
          "data": {
            "text/plain": [
              "    Data prepared in: 16.0679s"
            ],
            "text/html": [
              "<pre>    Data prepared in: 16.0679s</pre>"
            ]
          },
          "metadata": {}
        },
        {
          "output_type": "display_data",
          "data": {
            "text/plain": [
              "Training ranking_factorization_recommender for recommendations."
            ],
            "text/html": [
              "<pre>Training ranking_factorization_recommender for recommendations.</pre>"
            ]
          },
          "metadata": {}
        },
        {
          "output_type": "display_data",
          "data": {
            "text/plain": [
              "+--------------------------------+--------------------------------------------------+----------+"
            ],
            "text/html": [
              "<pre>+--------------------------------+--------------------------------------------------+----------+</pre>"
            ]
          },
          "metadata": {}
        },
        {
          "output_type": "display_data",
          "data": {
            "text/plain": [
              "| Parameter                      | Description                                      | Value    |"
            ],
            "text/html": [
              "<pre>| Parameter                      | Description                                      | Value    |</pre>"
            ]
          },
          "metadata": {}
        },
        {
          "output_type": "display_data",
          "data": {
            "text/plain": [
              "+--------------------------------+--------------------------------------------------+----------+"
            ],
            "text/html": [
              "<pre>+--------------------------------+--------------------------------------------------+----------+</pre>"
            ]
          },
          "metadata": {}
        },
        {
          "output_type": "display_data",
          "data": {
            "text/plain": [
              "| num_factors                    | Factor Dimension                                 | 10       |"
            ],
            "text/html": [
              "<pre>| num_factors                    | Factor Dimension                                 | 10       |</pre>"
            ]
          },
          "metadata": {}
        },
        {
          "output_type": "display_data",
          "data": {
            "text/plain": [
              "| regularization                 | L2 Regularization on Factors                     | 1e-09    |"
            ],
            "text/html": [
              "<pre>| regularization                 | L2 Regularization on Factors                     | 1e-09    |</pre>"
            ]
          },
          "metadata": {}
        },
        {
          "output_type": "display_data",
          "data": {
            "text/plain": [
              "| solver                         | Solver used for training                         | adagrad  |"
            ],
            "text/html": [
              "<pre>| solver                         | Solver used for training                         | adagrad  |</pre>"
            ]
          },
          "metadata": {}
        },
        {
          "output_type": "display_data",
          "data": {
            "text/plain": [
              "| linear_regularization          | L2 Regularization on Linear Coefficients         | 1e-09    |"
            ],
            "text/html": [
              "<pre>| linear_regularization          | L2 Regularization on Linear Coefficients         | 1e-09    |</pre>"
            ]
          },
          "metadata": {}
        },
        {
          "output_type": "display_data",
          "data": {
            "text/plain": [
              "| binary_target                  | Assume Binary Targets                            | True     |"
            ],
            "text/html": [
              "<pre>| binary_target                  | Assume Binary Targets                            | True     |</pre>"
            ]
          },
          "metadata": {}
        },
        {
          "output_type": "display_data",
          "data": {
            "text/plain": [
              "| max_iterations                 | Maximum Number of Iterations                     | 25       |"
            ],
            "text/html": [
              "<pre>| max_iterations                 | Maximum Number of Iterations                     | 25       |</pre>"
            ]
          },
          "metadata": {}
        },
        {
          "output_type": "display_data",
          "data": {
            "text/plain": [
              "+--------------------------------+--------------------------------------------------+----------+"
            ],
            "text/html": [
              "<pre>+--------------------------------+--------------------------------------------------+----------+</pre>"
            ]
          },
          "metadata": {}
        },
        {
          "output_type": "display_data",
          "data": {
            "text/plain": [
              "  Optimizing model using SGD; tuning step size."
            ],
            "text/html": [
              "<pre>  Optimizing model using SGD; tuning step size.</pre>"
            ]
          },
          "metadata": {}
        },
        {
          "output_type": "display_data",
          "data": {
            "text/plain": [
              "  Using 2047577 / 16380622 points for tuning the step size."
            ],
            "text/html": [
              "<pre>  Using 2047577 / 16380622 points for tuning the step size.</pre>"
            ]
          },
          "metadata": {}
        },
        {
          "output_type": "display_data",
          "data": {
            "text/plain": [
              "+---------+-------------------+------------------------------------------+"
            ],
            "text/html": [
              "<pre>+---------+-------------------+------------------------------------------+</pre>"
            ]
          },
          "metadata": {}
        },
        {
          "output_type": "display_data",
          "data": {
            "text/plain": [
              "| Attempt | Initial Step Size | Estimated Objective Value                |"
            ],
            "text/html": [
              "<pre>| Attempt | Initial Step Size | Estimated Objective Value                |</pre>"
            ]
          },
          "metadata": {}
        },
        {
          "output_type": "display_data",
          "data": {
            "text/plain": [
              "+---------+-------------------+------------------------------------------+"
            ],
            "text/html": [
              "<pre>+---------+-------------------+------------------------------------------+</pre>"
            ]
          },
          "metadata": {}
        },
        {
          "output_type": "display_data",
          "data": {
            "text/plain": [
              "| 0       | 25                | No Decrease (13.1825 >= 1.38644)         |"
            ],
            "text/html": [
              "<pre>| 0       | 25                | No Decrease (13.1825 >= 1.38644)         |</pre>"
            ]
          },
          "metadata": {}
        },
        {
          "output_type": "display_data",
          "data": {
            "text/plain": [
              "| 1       | 6.25              | No Decrease (3.33527 >= 1.38644)         |"
            ],
            "text/html": [
              "<pre>| 1       | 6.25              | No Decrease (3.33527 >= 1.38644)         |</pre>"
            ]
          },
          "metadata": {}
        },
        {
          "output_type": "display_data",
          "data": {
            "text/plain": [
              "| 2       | 1.5625            | No Decrease (1.45021 >= 1.38644)         |"
            ],
            "text/html": [
              "<pre>| 2       | 1.5625            | No Decrease (1.45021 >= 1.38644)         |</pre>"
            ]
          },
          "metadata": {}
        },
        {
          "output_type": "display_data",
          "data": {
            "text/plain": [
              "| 3       | 0.390625          | 1.26471                                  |"
            ],
            "text/html": [
              "<pre>| 3       | 0.390625          | 1.26471                                  |</pre>"
            ]
          },
          "metadata": {}
        },
        {
          "output_type": "display_data",
          "data": {
            "text/plain": [
              "| 4       | 0.195312          | 1.2637                                   |"
            ],
            "text/html": [
              "<pre>| 4       | 0.195312          | 1.2637                                   |</pre>"
            ]
          },
          "metadata": {}
        },
        {
          "output_type": "display_data",
          "data": {
            "text/plain": [
              "| 5       | 0.0976562         | 1.28823                                  |"
            ],
            "text/html": [
              "<pre>| 5       | 0.0976562         | 1.28823                                  |</pre>"
            ]
          },
          "metadata": {}
        },
        {
          "output_type": "display_data",
          "data": {
            "text/plain": [
              "| 6       | 0.0488281         | 1.32305                                  |"
            ],
            "text/html": [
              "<pre>| 6       | 0.0488281         | 1.32305                                  |</pre>"
            ]
          },
          "metadata": {}
        },
        {
          "output_type": "display_data",
          "data": {
            "text/plain": [
              "| 7       | 0.0244141         | 1.34976                                  |"
            ],
            "text/html": [
              "<pre>| 7       | 0.0244141         | 1.34976                                  |</pre>"
            ]
          },
          "metadata": {}
        },
        {
          "output_type": "display_data",
          "data": {
            "text/plain": [
              "+---------+-------------------+------------------------------------------+"
            ],
            "text/html": [
              "<pre>+---------+-------------------+------------------------------------------+</pre>"
            ]
          },
          "metadata": {}
        },
        {
          "output_type": "display_data",
          "data": {
            "text/plain": [
              "| Final   | 0.195312          | 1.2637                                   |"
            ],
            "text/html": [
              "<pre>| Final   | 0.195312          | 1.2637                                   |</pre>"
            ]
          },
          "metadata": {}
        },
        {
          "output_type": "display_data",
          "data": {
            "text/plain": [
              "+---------+-------------------+------------------------------------------+"
            ],
            "text/html": [
              "<pre>+---------+-------------------+------------------------------------------+</pre>"
            ]
          },
          "metadata": {}
        },
        {
          "output_type": "display_data",
          "data": {
            "text/plain": [
              "Starting Optimization."
            ],
            "text/html": [
              "<pre>Starting Optimization.</pre>"
            ]
          },
          "metadata": {}
        },
        {
          "output_type": "display_data",
          "data": {
            "text/plain": [
              "+---------+--------------+-------------------+-----------------------------------+-------------+"
            ],
            "text/html": [
              "<pre>+---------+--------------+-------------------+-----------------------------------+-------------+</pre>"
            ]
          },
          "metadata": {}
        },
        {
          "output_type": "display_data",
          "data": {
            "text/plain": [
              "| Iter.   | Elapsed Time | Approx. Objective | Approx. Training Predictive Error | Step Size   |"
            ],
            "text/html": [
              "<pre>| Iter.   | Elapsed Time | Approx. Objective | Approx. Training Predictive Error | Step Size   |</pre>"
            ]
          },
          "metadata": {}
        },
        {
          "output_type": "display_data",
          "data": {
            "text/plain": [
              "+---------+--------------+-------------------+-----------------------------------+-------------+"
            ],
            "text/html": [
              "<pre>+---------+--------------+-------------------+-----------------------------------+-------------+</pre>"
            ]
          },
          "metadata": {}
        },
        {
          "output_type": "display_data",
          "data": {
            "text/plain": [
              "| Initial | 122us        | 1.38644           | 0.693146                          |             |"
            ],
            "text/html": [
              "<pre>| Initial | 122us        | 1.38644           | 0.693146                          |             |</pre>"
            ]
          },
          "metadata": {}
        },
        {
          "output_type": "display_data",
          "data": {
            "text/plain": [
              "+---------+--------------+-------------------+-----------------------------------+-------------+"
            ],
            "text/html": [
              "<pre>+---------+--------------+-------------------+-----------------------------------+-------------+</pre>"
            ]
          },
          "metadata": {}
        },
        {
          "output_type": "display_data",
          "data": {
            "text/plain": [
              "| 1       | 22.19s       | 1.29411           | 0.644891                          | 0.195312    |"
            ],
            "text/html": [
              "<pre>| 1       | 22.19s       | 1.29411           | 0.644891                          | 0.195312    |</pre>"
            ]
          },
          "metadata": {}
        },
        {
          "output_type": "display_data",
          "data": {
            "text/plain": [
              "| 2       | 44.68s       | 1.32145           | 0.66609                           | 0.195312    |"
            ],
            "text/html": [
              "<pre>| 2       | 44.68s       | 1.32145           | 0.66609                           | 0.195312    |</pre>"
            ]
          },
          "metadata": {}
        },
        {
          "output_type": "display_data",
          "data": {
            "text/plain": [
              "| 3       | 1m 6s        | 1.28842           | 0.64992                           | 0.195312    |"
            ],
            "text/html": [
              "<pre>| 3       | 1m 6s        | 1.28842           | 0.64992                           | 0.195312    |</pre>"
            ]
          },
          "metadata": {}
        },
        {
          "output_type": "display_data",
          "data": {
            "text/plain": [
              "| 4       | 1m 29s       | 1.27334           | 0.642814                          | 0.195312    |"
            ],
            "text/html": [
              "<pre>| 4       | 1m 29s       | 1.27334           | 0.642814                          | 0.195312    |</pre>"
            ]
          },
          "metadata": {}
        },
        {
          "output_type": "display_data",
          "data": {
            "text/plain": [
              "| 5       | 1m 53s       | 1.26437           | 0.638682                          | 0.195312    |"
            ],
            "text/html": [
              "<pre>| 5       | 1m 53s       | 1.26437           | 0.638682                          | 0.195312    |</pre>"
            ]
          },
          "metadata": {}
        },
        {
          "output_type": "display_data",
          "data": {
            "text/plain": [
              "| 7       | 2m 35s       | 1.2541            | 0.633889                          | 0.195312    |"
            ],
            "text/html": [
              "<pre>| 7       | 2m 35s       | 1.2541            | 0.633889                          | 0.195312    |</pre>"
            ]
          },
          "metadata": {}
        },
        {
          "output_type": "display_data",
          "data": {
            "text/plain": [
              "| 8       | 2m 56s       | 1.25055           | 0.631531                          | 0.195312    |"
            ],
            "text/html": [
              "<pre>| 8       | 2m 56s       | 1.25055           | 0.631531                          | 0.195312    |</pre>"
            ]
          },
          "metadata": {}
        },
        {
          "output_type": "display_data",
          "data": {
            "text/plain": [
              "| 9       | 3m 17s       | 1.24803           | 0.630747                          | 0.195312    |"
            ],
            "text/html": [
              "<pre>| 9       | 3m 17s       | 1.24803           | 0.630747                          | 0.195312    |</pre>"
            ]
          },
          "metadata": {}
        },
        {
          "output_type": "display_data",
          "data": {
            "text/plain": [
              "| 10      | 3m 38s       | 1.24605           | 0.629364                          | 0.195312    |"
            ],
            "text/html": [
              "<pre>| 10      | 3m 38s       | 1.24605           | 0.629364                          | 0.195312    |</pre>"
            ]
          },
          "metadata": {}
        },
        {
          "output_type": "display_data",
          "data": {
            "text/plain": [
              "| 11      | 4m 1s        | 1.24421           | 0.628246                          | 0.195312    |"
            ],
            "text/html": [
              "<pre>| 11      | 4m 1s        | 1.24421           | 0.628246                          | 0.195312    |</pre>"
            ]
          },
          "metadata": {}
        },
        {
          "output_type": "display_data",
          "data": {
            "text/plain": [
              "| 12      | 4m 22s       | 1.2426            | 0.627749                          | 0.195312    |"
            ],
            "text/html": [
              "<pre>| 12      | 4m 22s       | 1.2426            | 0.627749                          | 0.195312    |</pre>"
            ]
          },
          "metadata": {}
        },
        {
          "output_type": "display_data",
          "data": {
            "text/plain": [
              "| 13      | 4m 43s       | 1.24116           | 0.626753                          | 0.195312    |"
            ],
            "text/html": [
              "<pre>| 13      | 4m 43s       | 1.24116           | 0.626753                          | 0.195312    |</pre>"
            ]
          },
          "metadata": {}
        },
        {
          "output_type": "display_data",
          "data": {
            "text/plain": [
              "| 14      | 5m 4s        | 1.24008           | 0.62614                           | 0.195312    |"
            ],
            "text/html": [
              "<pre>| 14      | 5m 4s        | 1.24008           | 0.62614                           | 0.195312    |</pre>"
            ]
          },
          "metadata": {}
        },
        {
          "output_type": "display_data",
          "data": {
            "text/plain": [
              "| 15      | 5m 25s       | 1.23896           | 0.625872                          | 0.195312    |"
            ],
            "text/html": [
              "<pre>| 15      | 5m 25s       | 1.23896           | 0.625872                          | 0.195312    |</pre>"
            ]
          },
          "metadata": {}
        },
        {
          "output_type": "display_data",
          "data": {
            "text/plain": [
              "| 16      | 5m 47s       | 1.23791           | 0.624912                          | 0.195312    |"
            ],
            "text/html": [
              "<pre>| 16      | 5m 47s       | 1.23791           | 0.624912                          | 0.195312    |</pre>"
            ]
          },
          "metadata": {}
        },
        {
          "output_type": "display_data",
          "data": {
            "text/plain": [
              "| 17      | 6m 8s        | 1.23713           | 0.624498                          | 0.195312    |"
            ],
            "text/html": [
              "<pre>| 17      | 6m 8s        | 1.23713           | 0.624498                          | 0.195312    |</pre>"
            ]
          },
          "metadata": {}
        },
        {
          "output_type": "display_data",
          "data": {
            "text/plain": [
              "| 18      | 6m 29s       | 1.23664           | 0.624203                          | 0.195312    |"
            ],
            "text/html": [
              "<pre>| 18      | 6m 29s       | 1.23664           | 0.624203                          | 0.195312    |</pre>"
            ]
          },
          "metadata": {}
        },
        {
          "output_type": "display_data",
          "data": {
            "text/plain": [
              "| 19      | 6m 50s       | 1.23571           | 0.623788                          | 0.195312    |"
            ],
            "text/html": [
              "<pre>| 19      | 6m 50s       | 1.23571           | 0.623788                          | 0.195312    |</pre>"
            ]
          },
          "metadata": {}
        },
        {
          "output_type": "display_data",
          "data": {
            "text/plain": [
              "| 20      | 7m 11s       | 1.23512           | 0.623478                          | 0.195312    |"
            ],
            "text/html": [
              "<pre>| 20      | 7m 11s       | 1.23512           | 0.623478                          | 0.195312    |</pre>"
            ]
          },
          "metadata": {}
        },
        {
          "output_type": "display_data",
          "data": {
            "text/plain": [
              "| 21      | 7m 32s       | 1.23451           | 0.623094                          | 0.195312    |"
            ],
            "text/html": [
              "<pre>| 21      | 7m 32s       | 1.23451           | 0.623094                          | 0.195312    |</pre>"
            ]
          },
          "metadata": {}
        },
        {
          "output_type": "display_data",
          "data": {
            "text/plain": [
              "| 22      | 7m 55s       | 1.23416           | 0.622804                          | 0.195312    |"
            ],
            "text/html": [
              "<pre>| 22      | 7m 55s       | 1.23416           | 0.622804                          | 0.195312    |</pre>"
            ]
          },
          "metadata": {}
        },
        {
          "output_type": "display_data",
          "data": {
            "text/plain": [
              "| 23      | 8m 16s       | 1.23361           | 0.622601                          | 0.195312    |"
            ],
            "text/html": [
              "<pre>| 23      | 8m 16s       | 1.23361           | 0.622601                          | 0.195312    |</pre>"
            ]
          },
          "metadata": {}
        },
        {
          "output_type": "display_data",
          "data": {
            "text/plain": [
              "| 24      | 8m 36s       | 1.23316           | 0.62214                           | 0.195312    |"
            ],
            "text/html": [
              "<pre>| 24      | 8m 36s       | 1.23316           | 0.62214                           | 0.195312    |</pre>"
            ]
          },
          "metadata": {}
        },
        {
          "output_type": "display_data",
          "data": {
            "text/plain": [
              "| 25      | 8m 56s       | 1.23283           | 0.621907                          | 0.195312    |"
            ],
            "text/html": [
              "<pre>| 25      | 8m 56s       | 1.23283           | 0.621907                          | 0.195312    |</pre>"
            ]
          },
          "metadata": {}
        },
        {
          "output_type": "display_data",
          "data": {
            "text/plain": [
              "+---------+--------------+-------------------+-----------------------------------+-------------+"
            ],
            "text/html": [
              "<pre>+---------+--------------+-------------------+-----------------------------------+-------------+</pre>"
            ]
          },
          "metadata": {}
        },
        {
          "output_type": "display_data",
          "data": {
            "text/plain": [
              "Optimization Complete: Maximum number of passes through the data reached."
            ],
            "text/html": [
              "<pre>Optimization Complete: Maximum number of passes through the data reached.</pre>"
            ]
          },
          "metadata": {}
        },
        {
          "output_type": "display_data",
          "data": {
            "text/plain": [
              "Computing final objective value and training Predictive Error."
            ],
            "text/html": [
              "<pre>Computing final objective value and training Predictive Error.</pre>"
            ]
          },
          "metadata": {}
        },
        {
          "output_type": "display_data",
          "data": {
            "text/plain": [
              "       Final objective value: 1.22702"
            ],
            "text/html": [
              "<pre>       Final objective value: 1.22702</pre>"
            ]
          },
          "metadata": {}
        },
        {
          "output_type": "display_data",
          "data": {
            "text/plain": [
              "       Final training Predictive Error: 0.624688"
            ],
            "text/html": [
              "<pre>       Final training Predictive Error: 0.624688</pre>"
            ]
          },
          "metadata": {}
        },
        {
          "output_type": "display_data",
          "data": {
            "text/plain": [
              "recommendations finished on 1000/305945 queries. users per second: 1360.41"
            ],
            "text/html": [
              "<pre>recommendations finished on 1000/305945 queries. users per second: 1360.41</pre>"
            ]
          },
          "metadata": {}
        },
        {
          "output_type": "display_data",
          "data": {
            "text/plain": [
              "recommendations finished on 2000/305945 queries. users per second: 1396.41"
            ],
            "text/html": [
              "<pre>recommendations finished on 2000/305945 queries. users per second: 1396.41</pre>"
            ]
          },
          "metadata": {}
        },
        {
          "output_type": "display_data",
          "data": {
            "text/plain": [
              "recommendations finished on 3000/305945 queries. users per second: 1397.36"
            ],
            "text/html": [
              "<pre>recommendations finished on 3000/305945 queries. users per second: 1397.36</pre>"
            ]
          },
          "metadata": {}
        },
        {
          "output_type": "display_data",
          "data": {
            "text/plain": [
              "recommendations finished on 4000/305945 queries. users per second: 1398.59"
            ],
            "text/html": [
              "<pre>recommendations finished on 4000/305945 queries. users per second: 1398.59</pre>"
            ]
          },
          "metadata": {}
        },
        {
          "output_type": "display_data",
          "data": {
            "text/plain": [
              "recommendations finished on 5000/305945 queries. users per second: 1407.3"
            ],
            "text/html": [
              "<pre>recommendations finished on 5000/305945 queries. users per second: 1407.3</pre>"
            ]
          },
          "metadata": {}
        },
        {
          "output_type": "display_data",
          "data": {
            "text/plain": [
              "recommendations finished on 6000/305945 queries. users per second: 1407.99"
            ],
            "text/html": [
              "<pre>recommendations finished on 6000/305945 queries. users per second: 1407.99</pre>"
            ]
          },
          "metadata": {}
        },
        {
          "output_type": "display_data",
          "data": {
            "text/plain": [
              "recommendations finished on 7000/305945 queries. users per second: 1407.09"
            ],
            "text/html": [
              "<pre>recommendations finished on 7000/305945 queries. users per second: 1407.09</pre>"
            ]
          },
          "metadata": {}
        },
        {
          "output_type": "display_data",
          "data": {
            "text/plain": [
              "recommendations finished on 8000/305945 queries. users per second: 1409.27"
            ],
            "text/html": [
              "<pre>recommendations finished on 8000/305945 queries. users per second: 1409.27</pre>"
            ]
          },
          "metadata": {}
        },
        {
          "output_type": "display_data",
          "data": {
            "text/plain": [
              "recommendations finished on 9000/305945 queries. users per second: 1404.72"
            ],
            "text/html": [
              "<pre>recommendations finished on 9000/305945 queries. users per second: 1404.72</pre>"
            ]
          },
          "metadata": {}
        },
        {
          "output_type": "display_data",
          "data": {
            "text/plain": [
              "recommendations finished on 10000/305945 queries. users per second: 1405.38"
            ],
            "text/html": [
              "<pre>recommendations finished on 10000/305945 queries. users per second: 1405.38</pre>"
            ]
          },
          "metadata": {}
        },
        {
          "output_type": "display_data",
          "data": {
            "text/plain": [
              "recommendations finished on 11000/305945 queries. users per second: 1401.94"
            ],
            "text/html": [
              "<pre>recommendations finished on 11000/305945 queries. users per second: 1401.94</pre>"
            ]
          },
          "metadata": {}
        },
        {
          "output_type": "display_data",
          "data": {
            "text/plain": [
              "recommendations finished on 12000/305945 queries. users per second: 1398.11"
            ],
            "text/html": [
              "<pre>recommendations finished on 12000/305945 queries. users per second: 1398.11</pre>"
            ]
          },
          "metadata": {}
        },
        {
          "output_type": "display_data",
          "data": {
            "text/plain": [
              "recommendations finished on 13000/305945 queries. users per second: 1395.93"
            ],
            "text/html": [
              "<pre>recommendations finished on 13000/305945 queries. users per second: 1395.93</pre>"
            ]
          },
          "metadata": {}
        },
        {
          "output_type": "display_data",
          "data": {
            "text/plain": [
              "recommendations finished on 14000/305945 queries. users per second: 1392.56"
            ],
            "text/html": [
              "<pre>recommendations finished on 14000/305945 queries. users per second: 1392.56</pre>"
            ]
          },
          "metadata": {}
        },
        {
          "output_type": "display_data",
          "data": {
            "text/plain": [
              "recommendations finished on 15000/305945 queries. users per second: 1393.88"
            ],
            "text/html": [
              "<pre>recommendations finished on 15000/305945 queries. users per second: 1393.88</pre>"
            ]
          },
          "metadata": {}
        },
        {
          "output_type": "display_data",
          "data": {
            "text/plain": [
              "recommendations finished on 16000/305945 queries. users per second: 1395.07"
            ],
            "text/html": [
              "<pre>recommendations finished on 16000/305945 queries. users per second: 1395.07</pre>"
            ]
          },
          "metadata": {}
        },
        {
          "output_type": "display_data",
          "data": {
            "text/plain": [
              "recommendations finished on 17000/305945 queries. users per second: 1394.78"
            ],
            "text/html": [
              "<pre>recommendations finished on 17000/305945 queries. users per second: 1394.78</pre>"
            ]
          },
          "metadata": {}
        },
        {
          "output_type": "display_data",
          "data": {
            "text/plain": [
              "recommendations finished on 18000/305945 queries. users per second: 1393.36"
            ],
            "text/html": [
              "<pre>recommendations finished on 18000/305945 queries. users per second: 1393.36</pre>"
            ]
          },
          "metadata": {}
        },
        {
          "output_type": "display_data",
          "data": {
            "text/plain": [
              "recommendations finished on 19000/305945 queries. users per second: 1391.9"
            ],
            "text/html": [
              "<pre>recommendations finished on 19000/305945 queries. users per second: 1391.9</pre>"
            ]
          },
          "metadata": {}
        },
        {
          "output_type": "display_data",
          "data": {
            "text/plain": [
              "recommendations finished on 20000/305945 queries. users per second: 1391.93"
            ],
            "text/html": [
              "<pre>recommendations finished on 20000/305945 queries. users per second: 1391.93</pre>"
            ]
          },
          "metadata": {}
        },
        {
          "output_type": "display_data",
          "data": {
            "text/plain": [
              "recommendations finished on 21000/305945 queries. users per second: 1392.39"
            ],
            "text/html": [
              "<pre>recommendations finished on 21000/305945 queries. users per second: 1392.39</pre>"
            ]
          },
          "metadata": {}
        },
        {
          "output_type": "display_data",
          "data": {
            "text/plain": [
              "recommendations finished on 22000/305945 queries. users per second: 1394.15"
            ],
            "text/html": [
              "<pre>recommendations finished on 22000/305945 queries. users per second: 1394.15</pre>"
            ]
          },
          "metadata": {}
        },
        {
          "output_type": "display_data",
          "data": {
            "text/plain": [
              "recommendations finished on 23000/305945 queries. users per second: 1393.76"
            ],
            "text/html": [
              "<pre>recommendations finished on 23000/305945 queries. users per second: 1393.76</pre>"
            ]
          },
          "metadata": {}
        },
        {
          "output_type": "display_data",
          "data": {
            "text/plain": [
              "recommendations finished on 24000/305945 queries. users per second: 1393.23"
            ],
            "text/html": [
              "<pre>recommendations finished on 24000/305945 queries. users per second: 1393.23</pre>"
            ]
          },
          "metadata": {}
        },
        {
          "output_type": "display_data",
          "data": {
            "text/plain": [
              "recommendations finished on 25000/305945 queries. users per second: 1394.19"
            ],
            "text/html": [
              "<pre>recommendations finished on 25000/305945 queries. users per second: 1394.19</pre>"
            ]
          },
          "metadata": {}
        },
        {
          "output_type": "display_data",
          "data": {
            "text/plain": [
              "recommendations finished on 26000/305945 queries. users per second: 1393.32"
            ],
            "text/html": [
              "<pre>recommendations finished on 26000/305945 queries. users per second: 1393.32</pre>"
            ]
          },
          "metadata": {}
        },
        {
          "output_type": "display_data",
          "data": {
            "text/plain": [
              "recommendations finished on 27000/305945 queries. users per second: 1394.7"
            ],
            "text/html": [
              "<pre>recommendations finished on 27000/305945 queries. users per second: 1394.7</pre>"
            ]
          },
          "metadata": {}
        },
        {
          "output_type": "display_data",
          "data": {
            "text/plain": [
              "recommendations finished on 28000/305945 queries. users per second: 1396.16"
            ],
            "text/html": [
              "<pre>recommendations finished on 28000/305945 queries. users per second: 1396.16</pre>"
            ]
          },
          "metadata": {}
        },
        {
          "output_type": "display_data",
          "data": {
            "text/plain": [
              "recommendations finished on 29000/305945 queries. users per second: 1397.21"
            ],
            "text/html": [
              "<pre>recommendations finished on 29000/305945 queries. users per second: 1397.21</pre>"
            ]
          },
          "metadata": {}
        },
        {
          "output_type": "display_data",
          "data": {
            "text/plain": [
              "recommendations finished on 30000/305945 queries. users per second: 1397.81"
            ],
            "text/html": [
              "<pre>recommendations finished on 30000/305945 queries. users per second: 1397.81</pre>"
            ]
          },
          "metadata": {}
        },
        {
          "output_type": "display_data",
          "data": {
            "text/plain": [
              "recommendations finished on 31000/305945 queries. users per second: 1398.3"
            ],
            "text/html": [
              "<pre>recommendations finished on 31000/305945 queries. users per second: 1398.3</pre>"
            ]
          },
          "metadata": {}
        },
        {
          "output_type": "display_data",
          "data": {
            "text/plain": [
              "recommendations finished on 32000/305945 queries. users per second: 1399.27"
            ],
            "text/html": [
              "<pre>recommendations finished on 32000/305945 queries. users per second: 1399.27</pre>"
            ]
          },
          "metadata": {}
        },
        {
          "output_type": "display_data",
          "data": {
            "text/plain": [
              "recommendations finished on 33000/305945 queries. users per second: 1399.61"
            ],
            "text/html": [
              "<pre>recommendations finished on 33000/305945 queries. users per second: 1399.61</pre>"
            ]
          },
          "metadata": {}
        },
        {
          "output_type": "display_data",
          "data": {
            "text/plain": [
              "recommendations finished on 34000/305945 queries. users per second: 1399.67"
            ],
            "text/html": [
              "<pre>recommendations finished on 34000/305945 queries. users per second: 1399.67</pre>"
            ]
          },
          "metadata": {}
        },
        {
          "output_type": "display_data",
          "data": {
            "text/plain": [
              "recommendations finished on 35000/305945 queries. users per second: 1398.91"
            ],
            "text/html": [
              "<pre>recommendations finished on 35000/305945 queries. users per second: 1398.91</pre>"
            ]
          },
          "metadata": {}
        },
        {
          "output_type": "display_data",
          "data": {
            "text/plain": [
              "recommendations finished on 36000/305945 queries. users per second: 1398.95"
            ],
            "text/html": [
              "<pre>recommendations finished on 36000/305945 queries. users per second: 1398.95</pre>"
            ]
          },
          "metadata": {}
        },
        {
          "output_type": "display_data",
          "data": {
            "text/plain": [
              "recommendations finished on 37000/305945 queries. users per second: 1398.24"
            ],
            "text/html": [
              "<pre>recommendations finished on 37000/305945 queries. users per second: 1398.24</pre>"
            ]
          },
          "metadata": {}
        },
        {
          "output_type": "display_data",
          "data": {
            "text/plain": [
              "recommendations finished on 38000/305945 queries. users per second: 1398.14"
            ],
            "text/html": [
              "<pre>recommendations finished on 38000/305945 queries. users per second: 1398.14</pre>"
            ]
          },
          "metadata": {}
        },
        {
          "output_type": "display_data",
          "data": {
            "text/plain": [
              "recommendations finished on 39000/305945 queries. users per second: 1398.2"
            ],
            "text/html": [
              "<pre>recommendations finished on 39000/305945 queries. users per second: 1398.2</pre>"
            ]
          },
          "metadata": {}
        },
        {
          "output_type": "display_data",
          "data": {
            "text/plain": [
              "recommendations finished on 40000/305945 queries. users per second: 1398.02"
            ],
            "text/html": [
              "<pre>recommendations finished on 40000/305945 queries. users per second: 1398.02</pre>"
            ]
          },
          "metadata": {}
        },
        {
          "output_type": "display_data",
          "data": {
            "text/plain": [
              "recommendations finished on 41000/305945 queries. users per second: 1396.86"
            ],
            "text/html": [
              "<pre>recommendations finished on 41000/305945 queries. users per second: 1396.86</pre>"
            ]
          },
          "metadata": {}
        },
        {
          "output_type": "display_data",
          "data": {
            "text/plain": [
              "recommendations finished on 42000/305945 queries. users per second: 1397.09"
            ],
            "text/html": [
              "<pre>recommendations finished on 42000/305945 queries. users per second: 1397.09</pre>"
            ]
          },
          "metadata": {}
        },
        {
          "output_type": "display_data",
          "data": {
            "text/plain": [
              "recommendations finished on 43000/305945 queries. users per second: 1397.65"
            ],
            "text/html": [
              "<pre>recommendations finished on 43000/305945 queries. users per second: 1397.65</pre>"
            ]
          },
          "metadata": {}
        },
        {
          "output_type": "display_data",
          "data": {
            "text/plain": [
              "recommendations finished on 44000/305945 queries. users per second: 1397.82"
            ],
            "text/html": [
              "<pre>recommendations finished on 44000/305945 queries. users per second: 1397.82</pre>"
            ]
          },
          "metadata": {}
        },
        {
          "output_type": "display_data",
          "data": {
            "text/plain": [
              "recommendations finished on 45000/305945 queries. users per second: 1397.91"
            ],
            "text/html": [
              "<pre>recommendations finished on 45000/305945 queries. users per second: 1397.91</pre>"
            ]
          },
          "metadata": {}
        },
        {
          "output_type": "display_data",
          "data": {
            "text/plain": [
              "recommendations finished on 46000/305945 queries. users per second: 1397.66"
            ],
            "text/html": [
              "<pre>recommendations finished on 46000/305945 queries. users per second: 1397.66</pre>"
            ]
          },
          "metadata": {}
        },
        {
          "output_type": "display_data",
          "data": {
            "text/plain": [
              "recommendations finished on 47000/305945 queries. users per second: 1397.94"
            ],
            "text/html": [
              "<pre>recommendations finished on 47000/305945 queries. users per second: 1397.94</pre>"
            ]
          },
          "metadata": {}
        },
        {
          "output_type": "display_data",
          "data": {
            "text/plain": [
              "recommendations finished on 48000/305945 queries. users per second: 1398.55"
            ],
            "text/html": [
              "<pre>recommendations finished on 48000/305945 queries. users per second: 1398.55</pre>"
            ]
          },
          "metadata": {}
        },
        {
          "output_type": "display_data",
          "data": {
            "text/plain": [
              "recommendations finished on 49000/305945 queries. users per second: 1398.3"
            ],
            "text/html": [
              "<pre>recommendations finished on 49000/305945 queries. users per second: 1398.3</pre>"
            ]
          },
          "metadata": {}
        },
        {
          "output_type": "display_data",
          "data": {
            "text/plain": [
              "recommendations finished on 50000/305945 queries. users per second: 1397.88"
            ],
            "text/html": [
              "<pre>recommendations finished on 50000/305945 queries. users per second: 1397.88</pre>"
            ]
          },
          "metadata": {}
        },
        {
          "output_type": "display_data",
          "data": {
            "text/plain": [
              "recommendations finished on 51000/305945 queries. users per second: 1397.48"
            ],
            "text/html": [
              "<pre>recommendations finished on 51000/305945 queries. users per second: 1397.48</pre>"
            ]
          },
          "metadata": {}
        },
        {
          "output_type": "display_data",
          "data": {
            "text/plain": [
              "recommendations finished on 52000/305945 queries. users per second: 1397.17"
            ],
            "text/html": [
              "<pre>recommendations finished on 52000/305945 queries. users per second: 1397.17</pre>"
            ]
          },
          "metadata": {}
        },
        {
          "output_type": "display_data",
          "data": {
            "text/plain": [
              "recommendations finished on 53000/305945 queries. users per second: 1396.88"
            ],
            "text/html": [
              "<pre>recommendations finished on 53000/305945 queries. users per second: 1396.88</pre>"
            ]
          },
          "metadata": {}
        },
        {
          "output_type": "display_data",
          "data": {
            "text/plain": [
              "recommendations finished on 54000/305945 queries. users per second: 1397.08"
            ],
            "text/html": [
              "<pre>recommendations finished on 54000/305945 queries. users per second: 1397.08</pre>"
            ]
          },
          "metadata": {}
        },
        {
          "output_type": "display_data",
          "data": {
            "text/plain": [
              "recommendations finished on 55000/305945 queries. users per second: 1397.67"
            ],
            "text/html": [
              "<pre>recommendations finished on 55000/305945 queries. users per second: 1397.67</pre>"
            ]
          },
          "metadata": {}
        },
        {
          "output_type": "display_data",
          "data": {
            "text/plain": [
              "recommendations finished on 56000/305945 queries. users per second: 1397.49"
            ],
            "text/html": [
              "<pre>recommendations finished on 56000/305945 queries. users per second: 1397.49</pre>"
            ]
          },
          "metadata": {}
        },
        {
          "output_type": "display_data",
          "data": {
            "text/plain": [
              "recommendations finished on 57000/305945 queries. users per second: 1397.67"
            ],
            "text/html": [
              "<pre>recommendations finished on 57000/305945 queries. users per second: 1397.67</pre>"
            ]
          },
          "metadata": {}
        },
        {
          "output_type": "display_data",
          "data": {
            "text/plain": [
              "recommendations finished on 58000/305945 queries. users per second: 1398.19"
            ],
            "text/html": [
              "<pre>recommendations finished on 58000/305945 queries. users per second: 1398.19</pre>"
            ]
          },
          "metadata": {}
        },
        {
          "output_type": "display_data",
          "data": {
            "text/plain": [
              "recommendations finished on 59000/305945 queries. users per second: 1398.68"
            ],
            "text/html": [
              "<pre>recommendations finished on 59000/305945 queries. users per second: 1398.68</pre>"
            ]
          },
          "metadata": {}
        },
        {
          "output_type": "display_data",
          "data": {
            "text/plain": [
              "recommendations finished on 60000/305945 queries. users per second: 1398.56"
            ],
            "text/html": [
              "<pre>recommendations finished on 60000/305945 queries. users per second: 1398.56</pre>"
            ]
          },
          "metadata": {}
        },
        {
          "output_type": "display_data",
          "data": {
            "text/plain": [
              "recommendations finished on 61000/305945 queries. users per second: 1398.28"
            ],
            "text/html": [
              "<pre>recommendations finished on 61000/305945 queries. users per second: 1398.28</pre>"
            ]
          },
          "metadata": {}
        },
        {
          "output_type": "display_data",
          "data": {
            "text/plain": [
              "recommendations finished on 62000/305945 queries. users per second: 1398.08"
            ],
            "text/html": [
              "<pre>recommendations finished on 62000/305945 queries. users per second: 1398.08</pre>"
            ]
          },
          "metadata": {}
        },
        {
          "output_type": "display_data",
          "data": {
            "text/plain": [
              "recommendations finished on 63000/305945 queries. users per second: 1397.45"
            ],
            "text/html": [
              "<pre>recommendations finished on 63000/305945 queries. users per second: 1397.45</pre>"
            ]
          },
          "metadata": {}
        },
        {
          "output_type": "display_data",
          "data": {
            "text/plain": [
              "recommendations finished on 64000/305945 queries. users per second: 1397.33"
            ],
            "text/html": [
              "<pre>recommendations finished on 64000/305945 queries. users per second: 1397.33</pre>"
            ]
          },
          "metadata": {}
        },
        {
          "output_type": "display_data",
          "data": {
            "text/plain": [
              "recommendations finished on 65000/305945 queries. users per second: 1388.7"
            ],
            "text/html": [
              "<pre>recommendations finished on 65000/305945 queries. users per second: 1388.7</pre>"
            ]
          },
          "metadata": {}
        },
        {
          "output_type": "display_data",
          "data": {
            "text/plain": [
              "recommendations finished on 66000/305945 queries. users per second: 1371.46"
            ],
            "text/html": [
              "<pre>recommendations finished on 66000/305945 queries. users per second: 1371.46</pre>"
            ]
          },
          "metadata": {}
        },
        {
          "output_type": "display_data",
          "data": {
            "text/plain": [
              "recommendations finished on 67000/305945 queries. users per second: 1355.8"
            ],
            "text/html": [
              "<pre>recommendations finished on 67000/305945 queries. users per second: 1355.8</pre>"
            ]
          },
          "metadata": {}
        },
        {
          "output_type": "display_data",
          "data": {
            "text/plain": [
              "recommendations finished on 68000/305945 queries. users per second: 1345.77"
            ],
            "text/html": [
              "<pre>recommendations finished on 68000/305945 queries. users per second: 1345.77</pre>"
            ]
          },
          "metadata": {}
        },
        {
          "output_type": "display_data",
          "data": {
            "text/plain": [
              "recommendations finished on 69000/305945 queries. users per second: 1346.88"
            ],
            "text/html": [
              "<pre>recommendations finished on 69000/305945 queries. users per second: 1346.88</pre>"
            ]
          },
          "metadata": {}
        },
        {
          "output_type": "display_data",
          "data": {
            "text/plain": [
              "recommendations finished on 70000/305945 queries. users per second: 1347.47"
            ],
            "text/html": [
              "<pre>recommendations finished on 70000/305945 queries. users per second: 1347.47</pre>"
            ]
          },
          "metadata": {}
        },
        {
          "output_type": "display_data",
          "data": {
            "text/plain": [
              "recommendations finished on 71000/305945 queries. users per second: 1348.46"
            ],
            "text/html": [
              "<pre>recommendations finished on 71000/305945 queries. users per second: 1348.46</pre>"
            ]
          },
          "metadata": {}
        },
        {
          "output_type": "display_data",
          "data": {
            "text/plain": [
              "recommendations finished on 72000/305945 queries. users per second: 1349.21"
            ],
            "text/html": [
              "<pre>recommendations finished on 72000/305945 queries. users per second: 1349.21</pre>"
            ]
          },
          "metadata": {}
        },
        {
          "output_type": "display_data",
          "data": {
            "text/plain": [
              "recommendations finished on 73000/305945 queries. users per second: 1350.32"
            ],
            "text/html": [
              "<pre>recommendations finished on 73000/305945 queries. users per second: 1350.32</pre>"
            ]
          },
          "metadata": {}
        },
        {
          "output_type": "display_data",
          "data": {
            "text/plain": [
              "recommendations finished on 74000/305945 queries. users per second: 1351.36"
            ],
            "text/html": [
              "<pre>recommendations finished on 74000/305945 queries. users per second: 1351.36</pre>"
            ]
          },
          "metadata": {}
        },
        {
          "output_type": "display_data",
          "data": {
            "text/plain": [
              "recommendations finished on 75000/305945 queries. users per second: 1351.72"
            ],
            "text/html": [
              "<pre>recommendations finished on 75000/305945 queries. users per second: 1351.72</pre>"
            ]
          },
          "metadata": {}
        },
        {
          "output_type": "display_data",
          "data": {
            "text/plain": [
              "recommendations finished on 76000/305945 queries. users per second: 1351.96"
            ],
            "text/html": [
              "<pre>recommendations finished on 76000/305945 queries. users per second: 1351.96</pre>"
            ]
          },
          "metadata": {}
        },
        {
          "output_type": "display_data",
          "data": {
            "text/plain": [
              "recommendations finished on 77000/305945 queries. users per second: 1352.83"
            ],
            "text/html": [
              "<pre>recommendations finished on 77000/305945 queries. users per second: 1352.83</pre>"
            ]
          },
          "metadata": {}
        },
        {
          "output_type": "display_data",
          "data": {
            "text/plain": [
              "recommendations finished on 78000/305945 queries. users per second: 1353.37"
            ],
            "text/html": [
              "<pre>recommendations finished on 78000/305945 queries. users per second: 1353.37</pre>"
            ]
          },
          "metadata": {}
        },
        {
          "output_type": "display_data",
          "data": {
            "text/plain": [
              "recommendations finished on 79000/305945 queries. users per second: 1353.96"
            ],
            "text/html": [
              "<pre>recommendations finished on 79000/305945 queries. users per second: 1353.96</pre>"
            ]
          },
          "metadata": {}
        },
        {
          "output_type": "display_data",
          "data": {
            "text/plain": [
              "recommendations finished on 80000/305945 queries. users per second: 1354.18"
            ],
            "text/html": [
              "<pre>recommendations finished on 80000/305945 queries. users per second: 1354.18</pre>"
            ]
          },
          "metadata": {}
        },
        {
          "output_type": "display_data",
          "data": {
            "text/plain": [
              "recommendations finished on 81000/305945 queries. users per second: 1355.04"
            ],
            "text/html": [
              "<pre>recommendations finished on 81000/305945 queries. users per second: 1355.04</pre>"
            ]
          },
          "metadata": {}
        },
        {
          "output_type": "display_data",
          "data": {
            "text/plain": [
              "recommendations finished on 82000/305945 queries. users per second: 1355.98"
            ],
            "text/html": [
              "<pre>recommendations finished on 82000/305945 queries. users per second: 1355.98</pre>"
            ]
          },
          "metadata": {}
        },
        {
          "output_type": "display_data",
          "data": {
            "text/plain": [
              "recommendations finished on 83000/305945 queries. users per second: 1356.66"
            ],
            "text/html": [
              "<pre>recommendations finished on 83000/305945 queries. users per second: 1356.66</pre>"
            ]
          },
          "metadata": {}
        },
        {
          "output_type": "display_data",
          "data": {
            "text/plain": [
              "recommendations finished on 84000/305945 queries. users per second: 1357.51"
            ],
            "text/html": [
              "<pre>recommendations finished on 84000/305945 queries. users per second: 1357.51</pre>"
            ]
          },
          "metadata": {}
        },
        {
          "output_type": "display_data",
          "data": {
            "text/plain": [
              "recommendations finished on 85000/305945 queries. users per second: 1357.51"
            ],
            "text/html": [
              "<pre>recommendations finished on 85000/305945 queries. users per second: 1357.51</pre>"
            ]
          },
          "metadata": {}
        },
        {
          "output_type": "display_data",
          "data": {
            "text/plain": [
              "recommendations finished on 86000/305945 queries. users per second: 1357.63"
            ],
            "text/html": [
              "<pre>recommendations finished on 86000/305945 queries. users per second: 1357.63</pre>"
            ]
          },
          "metadata": {}
        },
        {
          "output_type": "display_data",
          "data": {
            "text/plain": [
              "recommendations finished on 87000/305945 queries. users per second: 1358.38"
            ],
            "text/html": [
              "<pre>recommendations finished on 87000/305945 queries. users per second: 1358.38</pre>"
            ]
          },
          "metadata": {}
        },
        {
          "output_type": "display_data",
          "data": {
            "text/plain": [
              "recommendations finished on 88000/305945 queries. users per second: 1358.82"
            ],
            "text/html": [
              "<pre>recommendations finished on 88000/305945 queries. users per second: 1358.82</pre>"
            ]
          },
          "metadata": {}
        },
        {
          "output_type": "display_data",
          "data": {
            "text/plain": [
              "recommendations finished on 89000/305945 queries. users per second: 1359.51"
            ],
            "text/html": [
              "<pre>recommendations finished on 89000/305945 queries. users per second: 1359.51</pre>"
            ]
          },
          "metadata": {}
        },
        {
          "output_type": "display_data",
          "data": {
            "text/plain": [
              "recommendations finished on 90000/305945 queries. users per second: 1360.44"
            ],
            "text/html": [
              "<pre>recommendations finished on 90000/305945 queries. users per second: 1360.44</pre>"
            ]
          },
          "metadata": {}
        },
        {
          "output_type": "display_data",
          "data": {
            "text/plain": [
              "recommendations finished on 91000/305945 queries. users per second: 1361.34"
            ],
            "text/html": [
              "<pre>recommendations finished on 91000/305945 queries. users per second: 1361.34</pre>"
            ]
          },
          "metadata": {}
        },
        {
          "output_type": "display_data",
          "data": {
            "text/plain": [
              "recommendations finished on 92000/305945 queries. users per second: 1362.13"
            ],
            "text/html": [
              "<pre>recommendations finished on 92000/305945 queries. users per second: 1362.13</pre>"
            ]
          },
          "metadata": {}
        },
        {
          "output_type": "display_data",
          "data": {
            "text/plain": [
              "recommendations finished on 93000/305945 queries. users per second: 1362.69"
            ],
            "text/html": [
              "<pre>recommendations finished on 93000/305945 queries. users per second: 1362.69</pre>"
            ]
          },
          "metadata": {}
        },
        {
          "output_type": "display_data",
          "data": {
            "text/plain": [
              "recommendations finished on 94000/305945 queries. users per second: 1363.34"
            ],
            "text/html": [
              "<pre>recommendations finished on 94000/305945 queries. users per second: 1363.34</pre>"
            ]
          },
          "metadata": {}
        },
        {
          "output_type": "display_data",
          "data": {
            "text/plain": [
              "recommendations finished on 95000/305945 queries. users per second: 1363.82"
            ],
            "text/html": [
              "<pre>recommendations finished on 95000/305945 queries. users per second: 1363.82</pre>"
            ]
          },
          "metadata": {}
        },
        {
          "output_type": "display_data",
          "data": {
            "text/plain": [
              "recommendations finished on 96000/305945 queries. users per second: 1364.13"
            ],
            "text/html": [
              "<pre>recommendations finished on 96000/305945 queries. users per second: 1364.13</pre>"
            ]
          },
          "metadata": {}
        },
        {
          "output_type": "display_data",
          "data": {
            "text/plain": [
              "recommendations finished on 97000/305945 queries. users per second: 1364.61"
            ],
            "text/html": [
              "<pre>recommendations finished on 97000/305945 queries. users per second: 1364.61</pre>"
            ]
          },
          "metadata": {}
        },
        {
          "output_type": "display_data",
          "data": {
            "text/plain": [
              "recommendations finished on 98000/305945 queries. users per second: 1365.07"
            ],
            "text/html": [
              "<pre>recommendations finished on 98000/305945 queries. users per second: 1365.07</pre>"
            ]
          },
          "metadata": {}
        },
        {
          "output_type": "display_data",
          "data": {
            "text/plain": [
              "recommendations finished on 99000/305945 queries. users per second: 1365.68"
            ],
            "text/html": [
              "<pre>recommendations finished on 99000/305945 queries. users per second: 1365.68</pre>"
            ]
          },
          "metadata": {}
        },
        {
          "output_type": "display_data",
          "data": {
            "text/plain": [
              "recommendations finished on 100000/305945 queries. users per second: 1366.22"
            ],
            "text/html": [
              "<pre>recommendations finished on 100000/305945 queries. users per second: 1366.22</pre>"
            ]
          },
          "metadata": {}
        },
        {
          "output_type": "display_data",
          "data": {
            "text/plain": [
              "recommendations finished on 101000/305945 queries. users per second: 1366.35"
            ],
            "text/html": [
              "<pre>recommendations finished on 101000/305945 queries. users per second: 1366.35</pre>"
            ]
          },
          "metadata": {}
        },
        {
          "output_type": "display_data",
          "data": {
            "text/plain": [
              "recommendations finished on 102000/305945 queries. users per second: 1366.35"
            ],
            "text/html": [
              "<pre>recommendations finished on 102000/305945 queries. users per second: 1366.35</pre>"
            ]
          },
          "metadata": {}
        },
        {
          "output_type": "display_data",
          "data": {
            "text/plain": [
              "recommendations finished on 103000/305945 queries. users per second: 1366.7"
            ],
            "text/html": [
              "<pre>recommendations finished on 103000/305945 queries. users per second: 1366.7</pre>"
            ]
          },
          "metadata": {}
        },
        {
          "output_type": "display_data",
          "data": {
            "text/plain": [
              "recommendations finished on 104000/305945 queries. users per second: 1367.23"
            ],
            "text/html": [
              "<pre>recommendations finished on 104000/305945 queries. users per second: 1367.23</pre>"
            ]
          },
          "metadata": {}
        },
        {
          "output_type": "display_data",
          "data": {
            "text/plain": [
              "recommendations finished on 105000/305945 queries. users per second: 1367.54"
            ],
            "text/html": [
              "<pre>recommendations finished on 105000/305945 queries. users per second: 1367.54</pre>"
            ]
          },
          "metadata": {}
        },
        {
          "output_type": "display_data",
          "data": {
            "text/plain": [
              "recommendations finished on 106000/305945 queries. users per second: 1367.96"
            ],
            "text/html": [
              "<pre>recommendations finished on 106000/305945 queries. users per second: 1367.96</pre>"
            ]
          },
          "metadata": {}
        },
        {
          "output_type": "display_data",
          "data": {
            "text/plain": [
              "recommendations finished on 107000/305945 queries. users per second: 1368.15"
            ],
            "text/html": [
              "<pre>recommendations finished on 107000/305945 queries. users per second: 1368.15</pre>"
            ]
          },
          "metadata": {}
        },
        {
          "output_type": "display_data",
          "data": {
            "text/plain": [
              "recommendations finished on 108000/305945 queries. users per second: 1368.61"
            ],
            "text/html": [
              "<pre>recommendations finished on 108000/305945 queries. users per second: 1368.61</pre>"
            ]
          },
          "metadata": {}
        },
        {
          "output_type": "display_data",
          "data": {
            "text/plain": [
              "recommendations finished on 109000/305945 queries. users per second: 1368.9"
            ],
            "text/html": [
              "<pre>recommendations finished on 109000/305945 queries. users per second: 1368.9</pre>"
            ]
          },
          "metadata": {}
        },
        {
          "output_type": "display_data",
          "data": {
            "text/plain": [
              "recommendations finished on 110000/305945 queries. users per second: 1369.41"
            ],
            "text/html": [
              "<pre>recommendations finished on 110000/305945 queries. users per second: 1369.41</pre>"
            ]
          },
          "metadata": {}
        },
        {
          "output_type": "display_data",
          "data": {
            "text/plain": [
              "recommendations finished on 111000/305945 queries. users per second: 1369.64"
            ],
            "text/html": [
              "<pre>recommendations finished on 111000/305945 queries. users per second: 1369.64</pre>"
            ]
          },
          "metadata": {}
        },
        {
          "output_type": "display_data",
          "data": {
            "text/plain": [
              "recommendations finished on 112000/305945 queries. users per second: 1370.22"
            ],
            "text/html": [
              "<pre>recommendations finished on 112000/305945 queries. users per second: 1370.22</pre>"
            ]
          },
          "metadata": {}
        },
        {
          "output_type": "display_data",
          "data": {
            "text/plain": [
              "recommendations finished on 113000/305945 queries. users per second: 1370.6"
            ],
            "text/html": [
              "<pre>recommendations finished on 113000/305945 queries. users per second: 1370.6</pre>"
            ]
          },
          "metadata": {}
        },
        {
          "output_type": "display_data",
          "data": {
            "text/plain": [
              "recommendations finished on 114000/305945 queries. users per second: 1371.06"
            ],
            "text/html": [
              "<pre>recommendations finished on 114000/305945 queries. users per second: 1371.06</pre>"
            ]
          },
          "metadata": {}
        },
        {
          "output_type": "display_data",
          "data": {
            "text/plain": [
              "recommendations finished on 115000/305945 queries. users per second: 1371.41"
            ],
            "text/html": [
              "<pre>recommendations finished on 115000/305945 queries. users per second: 1371.41</pre>"
            ]
          },
          "metadata": {}
        },
        {
          "output_type": "display_data",
          "data": {
            "text/plain": [
              "recommendations finished on 116000/305945 queries. users per second: 1371.82"
            ],
            "text/html": [
              "<pre>recommendations finished on 116000/305945 queries. users per second: 1371.82</pre>"
            ]
          },
          "metadata": {}
        },
        {
          "output_type": "display_data",
          "data": {
            "text/plain": [
              "recommendations finished on 117000/305945 queries. users per second: 1372.22"
            ],
            "text/html": [
              "<pre>recommendations finished on 117000/305945 queries. users per second: 1372.22</pre>"
            ]
          },
          "metadata": {}
        },
        {
          "output_type": "display_data",
          "data": {
            "text/plain": [
              "recommendations finished on 118000/305945 queries. users per second: 1372.62"
            ],
            "text/html": [
              "<pre>recommendations finished on 118000/305945 queries. users per second: 1372.62</pre>"
            ]
          },
          "metadata": {}
        },
        {
          "output_type": "display_data",
          "data": {
            "text/plain": [
              "recommendations finished on 119000/305945 queries. users per second: 1373.15"
            ],
            "text/html": [
              "<pre>recommendations finished on 119000/305945 queries. users per second: 1373.15</pre>"
            ]
          },
          "metadata": {}
        },
        {
          "output_type": "display_data",
          "data": {
            "text/plain": [
              "recommendations finished on 120000/305945 queries. users per second: 1373.48"
            ],
            "text/html": [
              "<pre>recommendations finished on 120000/305945 queries. users per second: 1373.48</pre>"
            ]
          },
          "metadata": {}
        },
        {
          "output_type": "display_data",
          "data": {
            "text/plain": [
              "recommendations finished on 121000/305945 queries. users per second: 1373.95"
            ],
            "text/html": [
              "<pre>recommendations finished on 121000/305945 queries. users per second: 1373.95</pre>"
            ]
          },
          "metadata": {}
        },
        {
          "output_type": "display_data",
          "data": {
            "text/plain": [
              "recommendations finished on 122000/305945 queries. users per second: 1374.37"
            ],
            "text/html": [
              "<pre>recommendations finished on 122000/305945 queries. users per second: 1374.37</pre>"
            ]
          },
          "metadata": {}
        },
        {
          "output_type": "display_data",
          "data": {
            "text/plain": [
              "recommendations finished on 123000/305945 queries. users per second: 1374.75"
            ],
            "text/html": [
              "<pre>recommendations finished on 123000/305945 queries. users per second: 1374.75</pre>"
            ]
          },
          "metadata": {}
        },
        {
          "output_type": "display_data",
          "data": {
            "text/plain": [
              "recommendations finished on 124000/305945 queries. users per second: 1374.95"
            ],
            "text/html": [
              "<pre>recommendations finished on 124000/305945 queries. users per second: 1374.95</pre>"
            ]
          },
          "metadata": {}
        },
        {
          "output_type": "display_data",
          "data": {
            "text/plain": [
              "recommendations finished on 125000/305945 queries. users per second: 1375.43"
            ],
            "text/html": [
              "<pre>recommendations finished on 125000/305945 queries. users per second: 1375.43</pre>"
            ]
          },
          "metadata": {}
        },
        {
          "output_type": "display_data",
          "data": {
            "text/plain": [
              "recommendations finished on 126000/305945 queries. users per second: 1375.95"
            ],
            "text/html": [
              "<pre>recommendations finished on 126000/305945 queries. users per second: 1375.95</pre>"
            ]
          },
          "metadata": {}
        },
        {
          "output_type": "display_data",
          "data": {
            "text/plain": [
              "recommendations finished on 127000/305945 queries. users per second: 1376.33"
            ],
            "text/html": [
              "<pre>recommendations finished on 127000/305945 queries. users per second: 1376.33</pre>"
            ]
          },
          "metadata": {}
        },
        {
          "output_type": "display_data",
          "data": {
            "text/plain": [
              "recommendations finished on 128000/305945 queries. users per second: 1376.4"
            ],
            "text/html": [
              "<pre>recommendations finished on 128000/305945 queries. users per second: 1376.4</pre>"
            ]
          },
          "metadata": {}
        },
        {
          "output_type": "display_data",
          "data": {
            "text/plain": [
              "recommendations finished on 129000/305945 queries. users per second: 1376.87"
            ],
            "text/html": [
              "<pre>recommendations finished on 129000/305945 queries. users per second: 1376.87</pre>"
            ]
          },
          "metadata": {}
        },
        {
          "output_type": "display_data",
          "data": {
            "text/plain": [
              "recommendations finished on 130000/305945 queries. users per second: 1377.26"
            ],
            "text/html": [
              "<pre>recommendations finished on 130000/305945 queries. users per second: 1377.26</pre>"
            ]
          },
          "metadata": {}
        },
        {
          "output_type": "display_data",
          "data": {
            "text/plain": [
              "recommendations finished on 131000/305945 queries. users per second: 1377.48"
            ],
            "text/html": [
              "<pre>recommendations finished on 131000/305945 queries. users per second: 1377.48</pre>"
            ]
          },
          "metadata": {}
        },
        {
          "output_type": "display_data",
          "data": {
            "text/plain": [
              "recommendations finished on 132000/305945 queries. users per second: 1377.64"
            ],
            "text/html": [
              "<pre>recommendations finished on 132000/305945 queries. users per second: 1377.64</pre>"
            ]
          },
          "metadata": {}
        },
        {
          "output_type": "display_data",
          "data": {
            "text/plain": [
              "recommendations finished on 133000/305945 queries. users per second: 1377.9"
            ],
            "text/html": [
              "<pre>recommendations finished on 133000/305945 queries. users per second: 1377.9</pre>"
            ]
          },
          "metadata": {}
        },
        {
          "output_type": "display_data",
          "data": {
            "text/plain": [
              "recommendations finished on 134000/305945 queries. users per second: 1378.15"
            ],
            "text/html": [
              "<pre>recommendations finished on 134000/305945 queries. users per second: 1378.15</pre>"
            ]
          },
          "metadata": {}
        },
        {
          "output_type": "display_data",
          "data": {
            "text/plain": [
              "recommendations finished on 135000/305945 queries. users per second: 1378.61"
            ],
            "text/html": [
              "<pre>recommendations finished on 135000/305945 queries. users per second: 1378.61</pre>"
            ]
          },
          "metadata": {}
        },
        {
          "output_type": "display_data",
          "data": {
            "text/plain": [
              "recommendations finished on 136000/305945 queries. users per second: 1378.74"
            ],
            "text/html": [
              "<pre>recommendations finished on 136000/305945 queries. users per second: 1378.74</pre>"
            ]
          },
          "metadata": {}
        },
        {
          "output_type": "display_data",
          "data": {
            "text/plain": [
              "recommendations finished on 137000/305945 queries. users per second: 1378.67"
            ],
            "text/html": [
              "<pre>recommendations finished on 137000/305945 queries. users per second: 1378.67</pre>"
            ]
          },
          "metadata": {}
        },
        {
          "output_type": "display_data",
          "data": {
            "text/plain": [
              "recommendations finished on 138000/305945 queries. users per second: 1378.69"
            ],
            "text/html": [
              "<pre>recommendations finished on 138000/305945 queries. users per second: 1378.69</pre>"
            ]
          },
          "metadata": {}
        },
        {
          "output_type": "display_data",
          "data": {
            "text/plain": [
              "recommendations finished on 139000/305945 queries. users per second: 1378.89"
            ],
            "text/html": [
              "<pre>recommendations finished on 139000/305945 queries. users per second: 1378.89</pre>"
            ]
          },
          "metadata": {}
        },
        {
          "output_type": "display_data",
          "data": {
            "text/plain": [
              "recommendations finished on 140000/305945 queries. users per second: 1379.14"
            ],
            "text/html": [
              "<pre>recommendations finished on 140000/305945 queries. users per second: 1379.14</pre>"
            ]
          },
          "metadata": {}
        },
        {
          "output_type": "display_data",
          "data": {
            "text/plain": [
              "recommendations finished on 141000/305945 queries. users per second: 1379.48"
            ],
            "text/html": [
              "<pre>recommendations finished on 141000/305945 queries. users per second: 1379.48</pre>"
            ]
          },
          "metadata": {}
        },
        {
          "output_type": "display_data",
          "data": {
            "text/plain": [
              "recommendations finished on 142000/305945 queries. users per second: 1379.86"
            ],
            "text/html": [
              "<pre>recommendations finished on 142000/305945 queries. users per second: 1379.86</pre>"
            ]
          },
          "metadata": {}
        },
        {
          "output_type": "display_data",
          "data": {
            "text/plain": [
              "recommendations finished on 143000/305945 queries. users per second: 1380.04"
            ],
            "text/html": [
              "<pre>recommendations finished on 143000/305945 queries. users per second: 1380.04</pre>"
            ]
          },
          "metadata": {}
        },
        {
          "output_type": "display_data",
          "data": {
            "text/plain": [
              "recommendations finished on 144000/305945 queries. users per second: 1380.27"
            ],
            "text/html": [
              "<pre>recommendations finished on 144000/305945 queries. users per second: 1380.27</pre>"
            ]
          },
          "metadata": {}
        },
        {
          "output_type": "display_data",
          "data": {
            "text/plain": [
              "recommendations finished on 145000/305945 queries. users per second: 1379.88"
            ],
            "text/html": [
              "<pre>recommendations finished on 145000/305945 queries. users per second: 1379.88</pre>"
            ]
          },
          "metadata": {}
        },
        {
          "output_type": "display_data",
          "data": {
            "text/plain": [
              "recommendations finished on 146000/305945 queries. users per second: 1380.09"
            ],
            "text/html": [
              "<pre>recommendations finished on 146000/305945 queries. users per second: 1380.09</pre>"
            ]
          },
          "metadata": {}
        },
        {
          "output_type": "display_data",
          "data": {
            "text/plain": [
              "recommendations finished on 147000/305945 queries. users per second: 1380.04"
            ],
            "text/html": [
              "<pre>recommendations finished on 147000/305945 queries. users per second: 1380.04</pre>"
            ]
          },
          "metadata": {}
        },
        {
          "output_type": "display_data",
          "data": {
            "text/plain": [
              "recommendations finished on 148000/305945 queries. users per second: 1380.02"
            ],
            "text/html": [
              "<pre>recommendations finished on 148000/305945 queries. users per second: 1380.02</pre>"
            ]
          },
          "metadata": {}
        },
        {
          "output_type": "display_data",
          "data": {
            "text/plain": [
              "recommendations finished on 149000/305945 queries. users per second: 1380.16"
            ],
            "text/html": [
              "<pre>recommendations finished on 149000/305945 queries. users per second: 1380.16</pre>"
            ]
          },
          "metadata": {}
        },
        {
          "output_type": "display_data",
          "data": {
            "text/plain": [
              "recommendations finished on 150000/305945 queries. users per second: 1380.15"
            ],
            "text/html": [
              "<pre>recommendations finished on 150000/305945 queries. users per second: 1380.15</pre>"
            ]
          },
          "metadata": {}
        },
        {
          "output_type": "display_data",
          "data": {
            "text/plain": [
              "recommendations finished on 151000/305945 queries. users per second: 1380.31"
            ],
            "text/html": [
              "<pre>recommendations finished on 151000/305945 queries. users per second: 1380.31</pre>"
            ]
          },
          "metadata": {}
        },
        {
          "output_type": "display_data",
          "data": {
            "text/plain": [
              "recommendations finished on 152000/305945 queries. users per second: 1380.45"
            ],
            "text/html": [
              "<pre>recommendations finished on 152000/305945 queries. users per second: 1380.45</pre>"
            ]
          },
          "metadata": {}
        },
        {
          "output_type": "display_data",
          "data": {
            "text/plain": [
              "recommendations finished on 153000/305945 queries. users per second: 1380.6"
            ],
            "text/html": [
              "<pre>recommendations finished on 153000/305945 queries. users per second: 1380.6</pre>"
            ]
          },
          "metadata": {}
        },
        {
          "output_type": "display_data",
          "data": {
            "text/plain": [
              "recommendations finished on 154000/305945 queries. users per second: 1380.8"
            ],
            "text/html": [
              "<pre>recommendations finished on 154000/305945 queries. users per second: 1380.8</pre>"
            ]
          },
          "metadata": {}
        },
        {
          "output_type": "display_data",
          "data": {
            "text/plain": [
              "recommendations finished on 155000/305945 queries. users per second: 1381.09"
            ],
            "text/html": [
              "<pre>recommendations finished on 155000/305945 queries. users per second: 1381.09</pre>"
            ]
          },
          "metadata": {}
        },
        {
          "output_type": "display_data",
          "data": {
            "text/plain": [
              "recommendations finished on 156000/305945 queries. users per second: 1381.25"
            ],
            "text/html": [
              "<pre>recommendations finished on 156000/305945 queries. users per second: 1381.25</pre>"
            ]
          },
          "metadata": {}
        },
        {
          "output_type": "display_data",
          "data": {
            "text/plain": [
              "recommendations finished on 157000/305945 queries. users per second: 1381.37"
            ],
            "text/html": [
              "<pre>recommendations finished on 157000/305945 queries. users per second: 1381.37</pre>"
            ]
          },
          "metadata": {}
        },
        {
          "output_type": "display_data",
          "data": {
            "text/plain": [
              "recommendations finished on 158000/305945 queries. users per second: 1381.67"
            ],
            "text/html": [
              "<pre>recommendations finished on 158000/305945 queries. users per second: 1381.67</pre>"
            ]
          },
          "metadata": {}
        },
        {
          "output_type": "display_data",
          "data": {
            "text/plain": [
              "recommendations finished on 159000/305945 queries. users per second: 1381.5"
            ],
            "text/html": [
              "<pre>recommendations finished on 159000/305945 queries. users per second: 1381.5</pre>"
            ]
          },
          "metadata": {}
        },
        {
          "output_type": "display_data",
          "data": {
            "text/plain": [
              "recommendations finished on 160000/305945 queries. users per second: 1381.61"
            ],
            "text/html": [
              "<pre>recommendations finished on 160000/305945 queries. users per second: 1381.61</pre>"
            ]
          },
          "metadata": {}
        },
        {
          "output_type": "display_data",
          "data": {
            "text/plain": [
              "recommendations finished on 161000/305945 queries. users per second: 1381.88"
            ],
            "text/html": [
              "<pre>recommendations finished on 161000/305945 queries. users per second: 1381.88</pre>"
            ]
          },
          "metadata": {}
        },
        {
          "output_type": "display_data",
          "data": {
            "text/plain": [
              "recommendations finished on 162000/305945 queries. users per second: 1382.19"
            ],
            "text/html": [
              "<pre>recommendations finished on 162000/305945 queries. users per second: 1382.19</pre>"
            ]
          },
          "metadata": {}
        },
        {
          "output_type": "display_data",
          "data": {
            "text/plain": [
              "recommendations finished on 163000/305945 queries. users per second: 1382.28"
            ],
            "text/html": [
              "<pre>recommendations finished on 163000/305945 queries. users per second: 1382.28</pre>"
            ]
          },
          "metadata": {}
        },
        {
          "output_type": "display_data",
          "data": {
            "text/plain": [
              "recommendations finished on 164000/305945 queries. users per second: 1382.49"
            ],
            "text/html": [
              "<pre>recommendations finished on 164000/305945 queries. users per second: 1382.49</pre>"
            ]
          },
          "metadata": {}
        },
        {
          "output_type": "display_data",
          "data": {
            "text/plain": [
              "recommendations finished on 165000/305945 queries. users per second: 1382.85"
            ],
            "text/html": [
              "<pre>recommendations finished on 165000/305945 queries. users per second: 1382.85</pre>"
            ]
          },
          "metadata": {}
        },
        {
          "output_type": "display_data",
          "data": {
            "text/plain": [
              "recommendations finished on 166000/305945 queries. users per second: 1383.02"
            ],
            "text/html": [
              "<pre>recommendations finished on 166000/305945 queries. users per second: 1383.02</pre>"
            ]
          },
          "metadata": {}
        },
        {
          "output_type": "display_data",
          "data": {
            "text/plain": [
              "recommendations finished on 167000/305945 queries. users per second: 1383.08"
            ],
            "text/html": [
              "<pre>recommendations finished on 167000/305945 queries. users per second: 1383.08</pre>"
            ]
          },
          "metadata": {}
        },
        {
          "output_type": "display_data",
          "data": {
            "text/plain": [
              "recommendations finished on 168000/305945 queries. users per second: 1383.42"
            ],
            "text/html": [
              "<pre>recommendations finished on 168000/305945 queries. users per second: 1383.42</pre>"
            ]
          },
          "metadata": {}
        },
        {
          "output_type": "display_data",
          "data": {
            "text/plain": [
              "recommendations finished on 169000/305945 queries. users per second: 1383.5"
            ],
            "text/html": [
              "<pre>recommendations finished on 169000/305945 queries. users per second: 1383.5</pre>"
            ]
          },
          "metadata": {}
        },
        {
          "output_type": "display_data",
          "data": {
            "text/plain": [
              "recommendations finished on 170000/305945 queries. users per second: 1383.49"
            ],
            "text/html": [
              "<pre>recommendations finished on 170000/305945 queries. users per second: 1383.49</pre>"
            ]
          },
          "metadata": {}
        },
        {
          "output_type": "display_data",
          "data": {
            "text/plain": [
              "recommendations finished on 171000/305945 queries. users per second: 1383.66"
            ],
            "text/html": [
              "<pre>recommendations finished on 171000/305945 queries. users per second: 1383.66</pre>"
            ]
          },
          "metadata": {}
        },
        {
          "output_type": "display_data",
          "data": {
            "text/plain": [
              "recommendations finished on 172000/305945 queries. users per second: 1383.78"
            ],
            "text/html": [
              "<pre>recommendations finished on 172000/305945 queries. users per second: 1383.78</pre>"
            ]
          },
          "metadata": {}
        },
        {
          "output_type": "display_data",
          "data": {
            "text/plain": [
              "recommendations finished on 173000/305945 queries. users per second: 1383.9"
            ],
            "text/html": [
              "<pre>recommendations finished on 173000/305945 queries. users per second: 1383.9</pre>"
            ]
          },
          "metadata": {}
        },
        {
          "output_type": "display_data",
          "data": {
            "text/plain": [
              "recommendations finished on 174000/305945 queries. users per second: 1383.8"
            ],
            "text/html": [
              "<pre>recommendations finished on 174000/305945 queries. users per second: 1383.8</pre>"
            ]
          },
          "metadata": {}
        },
        {
          "output_type": "display_data",
          "data": {
            "text/plain": [
              "recommendations finished on 175000/305945 queries. users per second: 1383.93"
            ],
            "text/html": [
              "<pre>recommendations finished on 175000/305945 queries. users per second: 1383.93</pre>"
            ]
          },
          "metadata": {}
        },
        {
          "output_type": "display_data",
          "data": {
            "text/plain": [
              "recommendations finished on 176000/305945 queries. users per second: 1384.03"
            ],
            "text/html": [
              "<pre>recommendations finished on 176000/305945 queries. users per second: 1384.03</pre>"
            ]
          },
          "metadata": {}
        },
        {
          "output_type": "display_data",
          "data": {
            "text/plain": [
              "recommendations finished on 177000/305945 queries. users per second: 1384.08"
            ],
            "text/html": [
              "<pre>recommendations finished on 177000/305945 queries. users per second: 1384.08</pre>"
            ]
          },
          "metadata": {}
        },
        {
          "output_type": "display_data",
          "data": {
            "text/plain": [
              "recommendations finished on 178000/305945 queries. users per second: 1384.3"
            ],
            "text/html": [
              "<pre>recommendations finished on 178000/305945 queries. users per second: 1384.3</pre>"
            ]
          },
          "metadata": {}
        },
        {
          "output_type": "display_data",
          "data": {
            "text/plain": [
              "recommendations finished on 179000/305945 queries. users per second: 1384.37"
            ],
            "text/html": [
              "<pre>recommendations finished on 179000/305945 queries. users per second: 1384.37</pre>"
            ]
          },
          "metadata": {}
        },
        {
          "output_type": "display_data",
          "data": {
            "text/plain": [
              "recommendations finished on 180000/305945 queries. users per second: 1384.44"
            ],
            "text/html": [
              "<pre>recommendations finished on 180000/305945 queries. users per second: 1384.44</pre>"
            ]
          },
          "metadata": {}
        },
        {
          "output_type": "display_data",
          "data": {
            "text/plain": [
              "recommendations finished on 181000/305945 queries. users per second: 1384.61"
            ],
            "text/html": [
              "<pre>recommendations finished on 181000/305945 queries. users per second: 1384.61</pre>"
            ]
          },
          "metadata": {}
        },
        {
          "output_type": "display_data",
          "data": {
            "text/plain": [
              "recommendations finished on 182000/305945 queries. users per second: 1384.67"
            ],
            "text/html": [
              "<pre>recommendations finished on 182000/305945 queries. users per second: 1384.67</pre>"
            ]
          },
          "metadata": {}
        },
        {
          "output_type": "display_data",
          "data": {
            "text/plain": [
              "recommendations finished on 183000/305945 queries. users per second: 1384.8"
            ],
            "text/html": [
              "<pre>recommendations finished on 183000/305945 queries. users per second: 1384.8</pre>"
            ]
          },
          "metadata": {}
        },
        {
          "output_type": "display_data",
          "data": {
            "text/plain": [
              "recommendations finished on 184000/305945 queries. users per second: 1384.78"
            ],
            "text/html": [
              "<pre>recommendations finished on 184000/305945 queries. users per second: 1384.78</pre>"
            ]
          },
          "metadata": {}
        },
        {
          "output_type": "display_data",
          "data": {
            "text/plain": [
              "recommendations finished on 185000/305945 queries. users per second: 1385.06"
            ],
            "text/html": [
              "<pre>recommendations finished on 185000/305945 queries. users per second: 1385.06</pre>"
            ]
          },
          "metadata": {}
        },
        {
          "output_type": "display_data",
          "data": {
            "text/plain": [
              "recommendations finished on 186000/305945 queries. users per second: 1385.18"
            ],
            "text/html": [
              "<pre>recommendations finished on 186000/305945 queries. users per second: 1385.18</pre>"
            ]
          },
          "metadata": {}
        },
        {
          "output_type": "display_data",
          "data": {
            "text/plain": [
              "recommendations finished on 187000/305945 queries. users per second: 1385.46"
            ],
            "text/html": [
              "<pre>recommendations finished on 187000/305945 queries. users per second: 1385.46</pre>"
            ]
          },
          "metadata": {}
        },
        {
          "output_type": "display_data",
          "data": {
            "text/plain": [
              "recommendations finished on 188000/305945 queries. users per second: 1385.68"
            ],
            "text/html": [
              "<pre>recommendations finished on 188000/305945 queries. users per second: 1385.68</pre>"
            ]
          },
          "metadata": {}
        },
        {
          "output_type": "display_data",
          "data": {
            "text/plain": [
              "recommendations finished on 189000/305945 queries. users per second: 1385.59"
            ],
            "text/html": [
              "<pre>recommendations finished on 189000/305945 queries. users per second: 1385.59</pre>"
            ]
          },
          "metadata": {}
        },
        {
          "output_type": "display_data",
          "data": {
            "text/plain": [
              "recommendations finished on 190000/305945 queries. users per second: 1385.76"
            ],
            "text/html": [
              "<pre>recommendations finished on 190000/305945 queries. users per second: 1385.76</pre>"
            ]
          },
          "metadata": {}
        },
        {
          "output_type": "display_data",
          "data": {
            "text/plain": [
              "recommendations finished on 191000/305945 queries. users per second: 1386.02"
            ],
            "text/html": [
              "<pre>recommendations finished on 191000/305945 queries. users per second: 1386.02</pre>"
            ]
          },
          "metadata": {}
        },
        {
          "output_type": "display_data",
          "data": {
            "text/plain": [
              "recommendations finished on 192000/305945 queries. users per second: 1386.15"
            ],
            "text/html": [
              "<pre>recommendations finished on 192000/305945 queries. users per second: 1386.15</pre>"
            ]
          },
          "metadata": {}
        },
        {
          "output_type": "display_data",
          "data": {
            "text/plain": [
              "recommendations finished on 193000/305945 queries. users per second: 1386.41"
            ],
            "text/html": [
              "<pre>recommendations finished on 193000/305945 queries. users per second: 1386.41</pre>"
            ]
          },
          "metadata": {}
        },
        {
          "output_type": "display_data",
          "data": {
            "text/plain": [
              "recommendations finished on 194000/305945 queries. users per second: 1386.55"
            ],
            "text/html": [
              "<pre>recommendations finished on 194000/305945 queries. users per second: 1386.55</pre>"
            ]
          },
          "metadata": {}
        },
        {
          "output_type": "display_data",
          "data": {
            "text/plain": [
              "recommendations finished on 195000/305945 queries. users per second: 1386.63"
            ],
            "text/html": [
              "<pre>recommendations finished on 195000/305945 queries. users per second: 1386.63</pre>"
            ]
          },
          "metadata": {}
        },
        {
          "output_type": "display_data",
          "data": {
            "text/plain": [
              "recommendations finished on 196000/305945 queries. users per second: 1386.58"
            ],
            "text/html": [
              "<pre>recommendations finished on 196000/305945 queries. users per second: 1386.58</pre>"
            ]
          },
          "metadata": {}
        },
        {
          "output_type": "display_data",
          "data": {
            "text/plain": [
              "recommendations finished on 197000/305945 queries. users per second: 1386.49"
            ],
            "text/html": [
              "<pre>recommendations finished on 197000/305945 queries. users per second: 1386.49</pre>"
            ]
          },
          "metadata": {}
        },
        {
          "output_type": "display_data",
          "data": {
            "text/plain": [
              "recommendations finished on 198000/305945 queries. users per second: 1386.59"
            ],
            "text/html": [
              "<pre>recommendations finished on 198000/305945 queries. users per second: 1386.59</pre>"
            ]
          },
          "metadata": {}
        },
        {
          "output_type": "display_data",
          "data": {
            "text/plain": [
              "recommendations finished on 199000/305945 queries. users per second: 1386.7"
            ],
            "text/html": [
              "<pre>recommendations finished on 199000/305945 queries. users per second: 1386.7</pre>"
            ]
          },
          "metadata": {}
        },
        {
          "output_type": "display_data",
          "data": {
            "text/plain": [
              "recommendations finished on 200000/305945 queries. users per second: 1386.53"
            ],
            "text/html": [
              "<pre>recommendations finished on 200000/305945 queries. users per second: 1386.53</pre>"
            ]
          },
          "metadata": {}
        },
        {
          "output_type": "display_data",
          "data": {
            "text/plain": [
              "recommendations finished on 201000/305945 queries. users per second: 1386.57"
            ],
            "text/html": [
              "<pre>recommendations finished on 201000/305945 queries. users per second: 1386.57</pre>"
            ]
          },
          "metadata": {}
        },
        {
          "output_type": "display_data",
          "data": {
            "text/plain": [
              "recommendations finished on 202000/305945 queries. users per second: 1386.64"
            ],
            "text/html": [
              "<pre>recommendations finished on 202000/305945 queries. users per second: 1386.64</pre>"
            ]
          },
          "metadata": {}
        },
        {
          "output_type": "display_data",
          "data": {
            "text/plain": [
              "recommendations finished on 203000/305945 queries. users per second: 1386.49"
            ],
            "text/html": [
              "<pre>recommendations finished on 203000/305945 queries. users per second: 1386.49</pre>"
            ]
          },
          "metadata": {}
        },
        {
          "output_type": "display_data",
          "data": {
            "text/plain": [
              "recommendations finished on 204000/305945 queries. users per second: 1386.36"
            ],
            "text/html": [
              "<pre>recommendations finished on 204000/305945 queries. users per second: 1386.36</pre>"
            ]
          },
          "metadata": {}
        },
        {
          "output_type": "display_data",
          "data": {
            "text/plain": [
              "recommendations finished on 205000/305945 queries. users per second: 1386.46"
            ],
            "text/html": [
              "<pre>recommendations finished on 205000/305945 queries. users per second: 1386.46</pre>"
            ]
          },
          "metadata": {}
        },
        {
          "output_type": "display_data",
          "data": {
            "text/plain": [
              "recommendations finished on 206000/305945 queries. users per second: 1386.43"
            ],
            "text/html": [
              "<pre>recommendations finished on 206000/305945 queries. users per second: 1386.43</pre>"
            ]
          },
          "metadata": {}
        },
        {
          "output_type": "display_data",
          "data": {
            "text/plain": [
              "recommendations finished on 207000/305945 queries. users per second: 1386.54"
            ],
            "text/html": [
              "<pre>recommendations finished on 207000/305945 queries. users per second: 1386.54</pre>"
            ]
          },
          "metadata": {}
        },
        {
          "output_type": "display_data",
          "data": {
            "text/plain": [
              "recommendations finished on 208000/305945 queries. users per second: 1386.61"
            ],
            "text/html": [
              "<pre>recommendations finished on 208000/305945 queries. users per second: 1386.61</pre>"
            ]
          },
          "metadata": {}
        },
        {
          "output_type": "display_data",
          "data": {
            "text/plain": [
              "recommendations finished on 209000/305945 queries. users per second: 1386.66"
            ],
            "text/html": [
              "<pre>recommendations finished on 209000/305945 queries. users per second: 1386.66</pre>"
            ]
          },
          "metadata": {}
        },
        {
          "output_type": "display_data",
          "data": {
            "text/plain": [
              "recommendations finished on 210000/305945 queries. users per second: 1386.68"
            ],
            "text/html": [
              "<pre>recommendations finished on 210000/305945 queries. users per second: 1386.68</pre>"
            ]
          },
          "metadata": {}
        },
        {
          "output_type": "display_data",
          "data": {
            "text/plain": [
              "recommendations finished on 211000/305945 queries. users per second: 1386.89"
            ],
            "text/html": [
              "<pre>recommendations finished on 211000/305945 queries. users per second: 1386.89</pre>"
            ]
          },
          "metadata": {}
        },
        {
          "output_type": "display_data",
          "data": {
            "text/plain": [
              "recommendations finished on 212000/305945 queries. users per second: 1387.1"
            ],
            "text/html": [
              "<pre>recommendations finished on 212000/305945 queries. users per second: 1387.1</pre>"
            ]
          },
          "metadata": {}
        },
        {
          "output_type": "display_data",
          "data": {
            "text/plain": [
              "recommendations finished on 213000/305945 queries. users per second: 1387.23"
            ],
            "text/html": [
              "<pre>recommendations finished on 213000/305945 queries. users per second: 1387.23</pre>"
            ]
          },
          "metadata": {}
        },
        {
          "output_type": "display_data",
          "data": {
            "text/plain": [
              "recommendations finished on 214000/305945 queries. users per second: 1387.4"
            ],
            "text/html": [
              "<pre>recommendations finished on 214000/305945 queries. users per second: 1387.4</pre>"
            ]
          },
          "metadata": {}
        },
        {
          "output_type": "display_data",
          "data": {
            "text/plain": [
              "recommendations finished on 215000/305945 queries. users per second: 1387.43"
            ],
            "text/html": [
              "<pre>recommendations finished on 215000/305945 queries. users per second: 1387.43</pre>"
            ]
          },
          "metadata": {}
        },
        {
          "output_type": "display_data",
          "data": {
            "text/plain": [
              "recommendations finished on 216000/305945 queries. users per second: 1387.43"
            ],
            "text/html": [
              "<pre>recommendations finished on 216000/305945 queries. users per second: 1387.43</pre>"
            ]
          },
          "metadata": {}
        },
        {
          "output_type": "display_data",
          "data": {
            "text/plain": [
              "recommendations finished on 217000/305945 queries. users per second: 1387.33"
            ],
            "text/html": [
              "<pre>recommendations finished on 217000/305945 queries. users per second: 1387.33</pre>"
            ]
          },
          "metadata": {}
        },
        {
          "output_type": "display_data",
          "data": {
            "text/plain": [
              "recommendations finished on 218000/305945 queries. users per second: 1387.41"
            ],
            "text/html": [
              "<pre>recommendations finished on 218000/305945 queries. users per second: 1387.41</pre>"
            ]
          },
          "metadata": {}
        },
        {
          "output_type": "display_data",
          "data": {
            "text/plain": [
              "recommendations finished on 219000/305945 queries. users per second: 1387.29"
            ],
            "text/html": [
              "<pre>recommendations finished on 219000/305945 queries. users per second: 1387.29</pre>"
            ]
          },
          "metadata": {}
        },
        {
          "output_type": "display_data",
          "data": {
            "text/plain": [
              "recommendations finished on 220000/305945 queries. users per second: 1387.33"
            ],
            "text/html": [
              "<pre>recommendations finished on 220000/305945 queries. users per second: 1387.33</pre>"
            ]
          },
          "metadata": {}
        },
        {
          "output_type": "display_data",
          "data": {
            "text/plain": [
              "recommendations finished on 221000/305945 queries. users per second: 1387.1"
            ],
            "text/html": [
              "<pre>recommendations finished on 221000/305945 queries. users per second: 1387.1</pre>"
            ]
          },
          "metadata": {}
        },
        {
          "output_type": "display_data",
          "data": {
            "text/plain": [
              "recommendations finished on 222000/305945 queries. users per second: 1387.09"
            ],
            "text/html": [
              "<pre>recommendations finished on 222000/305945 queries. users per second: 1387.09</pre>"
            ]
          },
          "metadata": {}
        },
        {
          "output_type": "display_data",
          "data": {
            "text/plain": [
              "recommendations finished on 223000/305945 queries. users per second: 1387.12"
            ],
            "text/html": [
              "<pre>recommendations finished on 223000/305945 queries. users per second: 1387.12</pre>"
            ]
          },
          "metadata": {}
        },
        {
          "output_type": "display_data",
          "data": {
            "text/plain": [
              "recommendations finished on 224000/305945 queries. users per second: 1387.2"
            ],
            "text/html": [
              "<pre>recommendations finished on 224000/305945 queries. users per second: 1387.2</pre>"
            ]
          },
          "metadata": {}
        },
        {
          "output_type": "display_data",
          "data": {
            "text/plain": [
              "recommendations finished on 225000/305945 queries. users per second: 1387.15"
            ],
            "text/html": [
              "<pre>recommendations finished on 225000/305945 queries. users per second: 1387.15</pre>"
            ]
          },
          "metadata": {}
        },
        {
          "output_type": "display_data",
          "data": {
            "text/plain": [
              "recommendations finished on 226000/305945 queries. users per second: 1387.31"
            ],
            "text/html": [
              "<pre>recommendations finished on 226000/305945 queries. users per second: 1387.31</pre>"
            ]
          },
          "metadata": {}
        },
        {
          "output_type": "display_data",
          "data": {
            "text/plain": [
              "recommendations finished on 227000/305945 queries. users per second: 1387.36"
            ],
            "text/html": [
              "<pre>recommendations finished on 227000/305945 queries. users per second: 1387.36</pre>"
            ]
          },
          "metadata": {}
        },
        {
          "output_type": "display_data",
          "data": {
            "text/plain": [
              "recommendations finished on 228000/305945 queries. users per second: 1387.43"
            ],
            "text/html": [
              "<pre>recommendations finished on 228000/305945 queries. users per second: 1387.43</pre>"
            ]
          },
          "metadata": {}
        },
        {
          "output_type": "display_data",
          "data": {
            "text/plain": [
              "recommendations finished on 229000/305945 queries. users per second: 1387.44"
            ],
            "text/html": [
              "<pre>recommendations finished on 229000/305945 queries. users per second: 1387.44</pre>"
            ]
          },
          "metadata": {}
        },
        {
          "output_type": "display_data",
          "data": {
            "text/plain": [
              "recommendations finished on 230000/305945 queries. users per second: 1387.39"
            ],
            "text/html": [
              "<pre>recommendations finished on 230000/305945 queries. users per second: 1387.39</pre>"
            ]
          },
          "metadata": {}
        },
        {
          "output_type": "display_data",
          "data": {
            "text/plain": [
              "recommendations finished on 231000/305945 queries. users per second: 1387.39"
            ],
            "text/html": [
              "<pre>recommendations finished on 231000/305945 queries. users per second: 1387.39</pre>"
            ]
          },
          "metadata": {}
        },
        {
          "output_type": "display_data",
          "data": {
            "text/plain": [
              "recommendations finished on 232000/305945 queries. users per second: 1387.28"
            ],
            "text/html": [
              "<pre>recommendations finished on 232000/305945 queries. users per second: 1387.28</pre>"
            ]
          },
          "metadata": {}
        },
        {
          "output_type": "display_data",
          "data": {
            "text/plain": [
              "recommendations finished on 233000/305945 queries. users per second: 1387.29"
            ],
            "text/html": [
              "<pre>recommendations finished on 233000/305945 queries. users per second: 1387.29</pre>"
            ]
          },
          "metadata": {}
        },
        {
          "output_type": "display_data",
          "data": {
            "text/plain": [
              "recommendations finished on 234000/305945 queries. users per second: 1387.37"
            ],
            "text/html": [
              "<pre>recommendations finished on 234000/305945 queries. users per second: 1387.37</pre>"
            ]
          },
          "metadata": {}
        },
        {
          "output_type": "display_data",
          "data": {
            "text/plain": [
              "recommendations finished on 235000/305945 queries. users per second: 1387.03"
            ],
            "text/html": [
              "<pre>recommendations finished on 235000/305945 queries. users per second: 1387.03</pre>"
            ]
          },
          "metadata": {}
        },
        {
          "output_type": "display_data",
          "data": {
            "text/plain": [
              "recommendations finished on 236000/305945 queries. users per second: 1386.69"
            ],
            "text/html": [
              "<pre>recommendations finished on 236000/305945 queries. users per second: 1386.69</pre>"
            ]
          },
          "metadata": {}
        },
        {
          "output_type": "display_data",
          "data": {
            "text/plain": [
              "recommendations finished on 237000/305945 queries. users per second: 1382.46"
            ],
            "text/html": [
              "<pre>recommendations finished on 237000/305945 queries. users per second: 1382.46</pre>"
            ]
          },
          "metadata": {}
        },
        {
          "output_type": "display_data",
          "data": {
            "text/plain": [
              "recommendations finished on 238000/305945 queries. users per second: 1377.85"
            ],
            "text/html": [
              "<pre>recommendations finished on 238000/305945 queries. users per second: 1377.85</pre>"
            ]
          },
          "metadata": {}
        },
        {
          "output_type": "display_data",
          "data": {
            "text/plain": [
              "recommendations finished on 239000/305945 queries. users per second: 1373.36"
            ],
            "text/html": [
              "<pre>recommendations finished on 239000/305945 queries. users per second: 1373.36</pre>"
            ]
          },
          "metadata": {}
        },
        {
          "output_type": "display_data",
          "data": {
            "text/plain": [
              "recommendations finished on 240000/305945 queries. users per second: 1372.69"
            ],
            "text/html": [
              "<pre>recommendations finished on 240000/305945 queries. users per second: 1372.69</pre>"
            ]
          },
          "metadata": {}
        },
        {
          "output_type": "display_data",
          "data": {
            "text/plain": [
              "recommendations finished on 241000/305945 queries. users per second: 1372.71"
            ],
            "text/html": [
              "<pre>recommendations finished on 241000/305945 queries. users per second: 1372.71</pre>"
            ]
          },
          "metadata": {}
        },
        {
          "output_type": "display_data",
          "data": {
            "text/plain": [
              "recommendations finished on 242000/305945 queries. users per second: 1372.82"
            ],
            "text/html": [
              "<pre>recommendations finished on 242000/305945 queries. users per second: 1372.82</pre>"
            ]
          },
          "metadata": {}
        },
        {
          "output_type": "display_data",
          "data": {
            "text/plain": [
              "recommendations finished on 243000/305945 queries. users per second: 1372.98"
            ],
            "text/html": [
              "<pre>recommendations finished on 243000/305945 queries. users per second: 1372.98</pre>"
            ]
          },
          "metadata": {}
        },
        {
          "output_type": "display_data",
          "data": {
            "text/plain": [
              "recommendations finished on 244000/305945 queries. users per second: 1373.19"
            ],
            "text/html": [
              "<pre>recommendations finished on 244000/305945 queries. users per second: 1373.19</pre>"
            ]
          },
          "metadata": {}
        },
        {
          "output_type": "display_data",
          "data": {
            "text/plain": [
              "recommendations finished on 245000/305945 queries. users per second: 1373.27"
            ],
            "text/html": [
              "<pre>recommendations finished on 245000/305945 queries. users per second: 1373.27</pre>"
            ]
          },
          "metadata": {}
        },
        {
          "output_type": "display_data",
          "data": {
            "text/plain": [
              "recommendations finished on 246000/305945 queries. users per second: 1373.35"
            ],
            "text/html": [
              "<pre>recommendations finished on 246000/305945 queries. users per second: 1373.35</pre>"
            ]
          },
          "metadata": {}
        },
        {
          "output_type": "display_data",
          "data": {
            "text/plain": [
              "recommendations finished on 247000/305945 queries. users per second: 1373.48"
            ],
            "text/html": [
              "<pre>recommendations finished on 247000/305945 queries. users per second: 1373.48</pre>"
            ]
          },
          "metadata": {}
        },
        {
          "output_type": "display_data",
          "data": {
            "text/plain": [
              "recommendations finished on 248000/305945 queries. users per second: 1373.45"
            ],
            "text/html": [
              "<pre>recommendations finished on 248000/305945 queries. users per second: 1373.45</pre>"
            ]
          },
          "metadata": {}
        },
        {
          "output_type": "display_data",
          "data": {
            "text/plain": [
              "recommendations finished on 249000/305945 queries. users per second: 1373.52"
            ],
            "text/html": [
              "<pre>recommendations finished on 249000/305945 queries. users per second: 1373.52</pre>"
            ]
          },
          "metadata": {}
        },
        {
          "output_type": "display_data",
          "data": {
            "text/plain": [
              "recommendations finished on 250000/305945 queries. users per second: 1373.63"
            ],
            "text/html": [
              "<pre>recommendations finished on 250000/305945 queries. users per second: 1373.63</pre>"
            ]
          },
          "metadata": {}
        },
        {
          "output_type": "display_data",
          "data": {
            "text/plain": [
              "recommendations finished on 251000/305945 queries. users per second: 1373.69"
            ],
            "text/html": [
              "<pre>recommendations finished on 251000/305945 queries. users per second: 1373.69</pre>"
            ]
          },
          "metadata": {}
        },
        {
          "output_type": "display_data",
          "data": {
            "text/plain": [
              "recommendations finished on 252000/305945 queries. users per second: 1373.7"
            ],
            "text/html": [
              "<pre>recommendations finished on 252000/305945 queries. users per second: 1373.7</pre>"
            ]
          },
          "metadata": {}
        },
        {
          "output_type": "display_data",
          "data": {
            "text/plain": [
              "recommendations finished on 253000/305945 queries. users per second: 1373.73"
            ],
            "text/html": [
              "<pre>recommendations finished on 253000/305945 queries. users per second: 1373.73</pre>"
            ]
          },
          "metadata": {}
        },
        {
          "output_type": "display_data",
          "data": {
            "text/plain": [
              "recommendations finished on 254000/305945 queries. users per second: 1373.82"
            ],
            "text/html": [
              "<pre>recommendations finished on 254000/305945 queries. users per second: 1373.82</pre>"
            ]
          },
          "metadata": {}
        },
        {
          "output_type": "display_data",
          "data": {
            "text/plain": [
              "recommendations finished on 255000/305945 queries. users per second: 1374.04"
            ],
            "text/html": [
              "<pre>recommendations finished on 255000/305945 queries. users per second: 1374.04</pre>"
            ]
          },
          "metadata": {}
        },
        {
          "output_type": "display_data",
          "data": {
            "text/plain": [
              "recommendations finished on 256000/305945 queries. users per second: 1374.1"
            ],
            "text/html": [
              "<pre>recommendations finished on 256000/305945 queries. users per second: 1374.1</pre>"
            ]
          },
          "metadata": {}
        },
        {
          "output_type": "display_data",
          "data": {
            "text/plain": [
              "recommendations finished on 257000/305945 queries. users per second: 1374.26"
            ],
            "text/html": [
              "<pre>recommendations finished on 257000/305945 queries. users per second: 1374.26</pre>"
            ]
          },
          "metadata": {}
        },
        {
          "output_type": "display_data",
          "data": {
            "text/plain": [
              "recommendations finished on 258000/305945 queries. users per second: 1374.35"
            ],
            "text/html": [
              "<pre>recommendations finished on 258000/305945 queries. users per second: 1374.35</pre>"
            ]
          },
          "metadata": {}
        },
        {
          "output_type": "display_data",
          "data": {
            "text/plain": [
              "recommendations finished on 259000/305945 queries. users per second: 1374.39"
            ],
            "text/html": [
              "<pre>recommendations finished on 259000/305945 queries. users per second: 1374.39</pre>"
            ]
          },
          "metadata": {}
        },
        {
          "output_type": "display_data",
          "data": {
            "text/plain": [
              "recommendations finished on 260000/305945 queries. users per second: 1374.58"
            ],
            "text/html": [
              "<pre>recommendations finished on 260000/305945 queries. users per second: 1374.58</pre>"
            ]
          },
          "metadata": {}
        },
        {
          "output_type": "display_data",
          "data": {
            "text/plain": [
              "recommendations finished on 261000/305945 queries. users per second: 1374.68"
            ],
            "text/html": [
              "<pre>recommendations finished on 261000/305945 queries. users per second: 1374.68</pre>"
            ]
          },
          "metadata": {}
        },
        {
          "output_type": "display_data",
          "data": {
            "text/plain": [
              "recommendations finished on 262000/305945 queries. users per second: 1374.7"
            ],
            "text/html": [
              "<pre>recommendations finished on 262000/305945 queries. users per second: 1374.7</pre>"
            ]
          },
          "metadata": {}
        },
        {
          "output_type": "display_data",
          "data": {
            "text/plain": [
              "recommendations finished on 263000/305945 queries. users per second: 1374.77"
            ],
            "text/html": [
              "<pre>recommendations finished on 263000/305945 queries. users per second: 1374.77</pre>"
            ]
          },
          "metadata": {}
        },
        {
          "output_type": "display_data",
          "data": {
            "text/plain": [
              "recommendations finished on 264000/305945 queries. users per second: 1374.92"
            ],
            "text/html": [
              "<pre>recommendations finished on 264000/305945 queries. users per second: 1374.92</pre>"
            ]
          },
          "metadata": {}
        },
        {
          "output_type": "display_data",
          "data": {
            "text/plain": [
              "recommendations finished on 265000/305945 queries. users per second: 1374.94"
            ],
            "text/html": [
              "<pre>recommendations finished on 265000/305945 queries. users per second: 1374.94</pre>"
            ]
          },
          "metadata": {}
        },
        {
          "output_type": "display_data",
          "data": {
            "text/plain": [
              "recommendations finished on 266000/305945 queries. users per second: 1375.03"
            ],
            "text/html": [
              "<pre>recommendations finished on 266000/305945 queries. users per second: 1375.03</pre>"
            ]
          },
          "metadata": {}
        },
        {
          "output_type": "display_data",
          "data": {
            "text/plain": [
              "recommendations finished on 267000/305945 queries. users per second: 1375.23"
            ],
            "text/html": [
              "<pre>recommendations finished on 267000/305945 queries. users per second: 1375.23</pre>"
            ]
          },
          "metadata": {}
        },
        {
          "output_type": "display_data",
          "data": {
            "text/plain": [
              "recommendations finished on 268000/305945 queries. users per second: 1375.33"
            ],
            "text/html": [
              "<pre>recommendations finished on 268000/305945 queries. users per second: 1375.33</pre>"
            ]
          },
          "metadata": {}
        },
        {
          "output_type": "display_data",
          "data": {
            "text/plain": [
              "recommendations finished on 269000/305945 queries. users per second: 1375.43"
            ],
            "text/html": [
              "<pre>recommendations finished on 269000/305945 queries. users per second: 1375.43</pre>"
            ]
          },
          "metadata": {}
        },
        {
          "output_type": "display_data",
          "data": {
            "text/plain": [
              "recommendations finished on 270000/305945 queries. users per second: 1375.37"
            ],
            "text/html": [
              "<pre>recommendations finished on 270000/305945 queries. users per second: 1375.37</pre>"
            ]
          },
          "metadata": {}
        },
        {
          "output_type": "display_data",
          "data": {
            "text/plain": [
              "recommendations finished on 271000/305945 queries. users per second: 1375.31"
            ],
            "text/html": [
              "<pre>recommendations finished on 271000/305945 queries. users per second: 1375.31</pre>"
            ]
          },
          "metadata": {}
        },
        {
          "output_type": "display_data",
          "data": {
            "text/plain": [
              "recommendations finished on 272000/305945 queries. users per second: 1375.31"
            ],
            "text/html": [
              "<pre>recommendations finished on 272000/305945 queries. users per second: 1375.31</pre>"
            ]
          },
          "metadata": {}
        },
        {
          "output_type": "display_data",
          "data": {
            "text/plain": [
              "recommendations finished on 273000/305945 queries. users per second: 1375.43"
            ],
            "text/html": [
              "<pre>recommendations finished on 273000/305945 queries. users per second: 1375.43</pre>"
            ]
          },
          "metadata": {}
        },
        {
          "output_type": "display_data",
          "data": {
            "text/plain": [
              "recommendations finished on 274000/305945 queries. users per second: 1375.5"
            ],
            "text/html": [
              "<pre>recommendations finished on 274000/305945 queries. users per second: 1375.5</pre>"
            ]
          },
          "metadata": {}
        },
        {
          "output_type": "display_data",
          "data": {
            "text/plain": [
              "recommendations finished on 275000/305945 queries. users per second: 1375.49"
            ],
            "text/html": [
              "<pre>recommendations finished on 275000/305945 queries. users per second: 1375.49</pre>"
            ]
          },
          "metadata": {}
        },
        {
          "output_type": "display_data",
          "data": {
            "text/plain": [
              "recommendations finished on 276000/305945 queries. users per second: 1375.53"
            ],
            "text/html": [
              "<pre>recommendations finished on 276000/305945 queries. users per second: 1375.53</pre>"
            ]
          },
          "metadata": {}
        },
        {
          "output_type": "display_data",
          "data": {
            "text/plain": [
              "recommendations finished on 277000/305945 queries. users per second: 1375.62"
            ],
            "text/html": [
              "<pre>recommendations finished on 277000/305945 queries. users per second: 1375.62</pre>"
            ]
          },
          "metadata": {}
        },
        {
          "output_type": "display_data",
          "data": {
            "text/plain": [
              "recommendations finished on 278000/305945 queries. users per second: 1375.74"
            ],
            "text/html": [
              "<pre>recommendations finished on 278000/305945 queries. users per second: 1375.74</pre>"
            ]
          },
          "metadata": {}
        },
        {
          "output_type": "display_data",
          "data": {
            "text/plain": [
              "recommendations finished on 279000/305945 queries. users per second: 1375.78"
            ],
            "text/html": [
              "<pre>recommendations finished on 279000/305945 queries. users per second: 1375.78</pre>"
            ]
          },
          "metadata": {}
        },
        {
          "output_type": "display_data",
          "data": {
            "text/plain": [
              "recommendations finished on 280000/305945 queries. users per second: 1375.87"
            ],
            "text/html": [
              "<pre>recommendations finished on 280000/305945 queries. users per second: 1375.87</pre>"
            ]
          },
          "metadata": {}
        },
        {
          "output_type": "display_data",
          "data": {
            "text/plain": [
              "recommendations finished on 281000/305945 queries. users per second: 1375.82"
            ],
            "text/html": [
              "<pre>recommendations finished on 281000/305945 queries. users per second: 1375.82</pre>"
            ]
          },
          "metadata": {}
        },
        {
          "output_type": "display_data",
          "data": {
            "text/plain": [
              "recommendations finished on 282000/305945 queries. users per second: 1375.83"
            ],
            "text/html": [
              "<pre>recommendations finished on 282000/305945 queries. users per second: 1375.83</pre>"
            ]
          },
          "metadata": {}
        },
        {
          "output_type": "display_data",
          "data": {
            "text/plain": [
              "recommendations finished on 283000/305945 queries. users per second: 1375.91"
            ],
            "text/html": [
              "<pre>recommendations finished on 283000/305945 queries. users per second: 1375.91</pre>"
            ]
          },
          "metadata": {}
        },
        {
          "output_type": "display_data",
          "data": {
            "text/plain": [
              "recommendations finished on 284000/305945 queries. users per second: 1375.9"
            ],
            "text/html": [
              "<pre>recommendations finished on 284000/305945 queries. users per second: 1375.9</pre>"
            ]
          },
          "metadata": {}
        },
        {
          "output_type": "display_data",
          "data": {
            "text/plain": [
              "recommendations finished on 285000/305945 queries. users per second: 1375.84"
            ],
            "text/html": [
              "<pre>recommendations finished on 285000/305945 queries. users per second: 1375.84</pre>"
            ]
          },
          "metadata": {}
        },
        {
          "output_type": "display_data",
          "data": {
            "text/plain": [
              "recommendations finished on 286000/305945 queries. users per second: 1375.87"
            ],
            "text/html": [
              "<pre>recommendations finished on 286000/305945 queries. users per second: 1375.87</pre>"
            ]
          },
          "metadata": {}
        },
        {
          "output_type": "display_data",
          "data": {
            "text/plain": [
              "recommendations finished on 287000/305945 queries. users per second: 1375.91"
            ],
            "text/html": [
              "<pre>recommendations finished on 287000/305945 queries. users per second: 1375.91</pre>"
            ]
          },
          "metadata": {}
        },
        {
          "output_type": "display_data",
          "data": {
            "text/plain": [
              "recommendations finished on 288000/305945 queries. users per second: 1375.96"
            ],
            "text/html": [
              "<pre>recommendations finished on 288000/305945 queries. users per second: 1375.96</pre>"
            ]
          },
          "metadata": {}
        },
        {
          "output_type": "display_data",
          "data": {
            "text/plain": [
              "recommendations finished on 289000/305945 queries. users per second: 1376.09"
            ],
            "text/html": [
              "<pre>recommendations finished on 289000/305945 queries. users per second: 1376.09</pre>"
            ]
          },
          "metadata": {}
        },
        {
          "output_type": "display_data",
          "data": {
            "text/plain": [
              "recommendations finished on 290000/305945 queries. users per second: 1376.13"
            ],
            "text/html": [
              "<pre>recommendations finished on 290000/305945 queries. users per second: 1376.13</pre>"
            ]
          },
          "metadata": {}
        },
        {
          "output_type": "display_data",
          "data": {
            "text/plain": [
              "recommendations finished on 291000/305945 queries. users per second: 1376.1"
            ],
            "text/html": [
              "<pre>recommendations finished on 291000/305945 queries. users per second: 1376.1</pre>"
            ]
          },
          "metadata": {}
        },
        {
          "output_type": "display_data",
          "data": {
            "text/plain": [
              "recommendations finished on 292000/305945 queries. users per second: 1375.95"
            ],
            "text/html": [
              "<pre>recommendations finished on 292000/305945 queries. users per second: 1375.95</pre>"
            ]
          },
          "metadata": {}
        },
        {
          "output_type": "display_data",
          "data": {
            "text/plain": [
              "recommendations finished on 293000/305945 queries. users per second: 1375.91"
            ],
            "text/html": [
              "<pre>recommendations finished on 293000/305945 queries. users per second: 1375.91</pre>"
            ]
          },
          "metadata": {}
        },
        {
          "output_type": "display_data",
          "data": {
            "text/plain": [
              "recommendations finished on 294000/305945 queries. users per second: 1375.97"
            ],
            "text/html": [
              "<pre>recommendations finished on 294000/305945 queries. users per second: 1375.97</pre>"
            ]
          },
          "metadata": {}
        },
        {
          "output_type": "display_data",
          "data": {
            "text/plain": [
              "recommendations finished on 295000/305945 queries. users per second: 1375.93"
            ],
            "text/html": [
              "<pre>recommendations finished on 295000/305945 queries. users per second: 1375.93</pre>"
            ]
          },
          "metadata": {}
        },
        {
          "output_type": "display_data",
          "data": {
            "text/plain": [
              "recommendations finished on 296000/305945 queries. users per second: 1375.86"
            ],
            "text/html": [
              "<pre>recommendations finished on 296000/305945 queries. users per second: 1375.86</pre>"
            ]
          },
          "metadata": {}
        },
        {
          "output_type": "display_data",
          "data": {
            "text/plain": [
              "recommendations finished on 297000/305945 queries. users per second: 1375.97"
            ],
            "text/html": [
              "<pre>recommendations finished on 297000/305945 queries. users per second: 1375.97</pre>"
            ]
          },
          "metadata": {}
        },
        {
          "output_type": "display_data",
          "data": {
            "text/plain": [
              "recommendations finished on 298000/305945 queries. users per second: 1376.07"
            ],
            "text/html": [
              "<pre>recommendations finished on 298000/305945 queries. users per second: 1376.07</pre>"
            ]
          },
          "metadata": {}
        },
        {
          "output_type": "display_data",
          "data": {
            "text/plain": [
              "recommendations finished on 299000/305945 queries. users per second: 1376.01"
            ],
            "text/html": [
              "<pre>recommendations finished on 299000/305945 queries. users per second: 1376.01</pre>"
            ]
          },
          "metadata": {}
        },
        {
          "output_type": "display_data",
          "data": {
            "text/plain": [
              "recommendations finished on 300000/305945 queries. users per second: 1376.1"
            ],
            "text/html": [
              "<pre>recommendations finished on 300000/305945 queries. users per second: 1376.1</pre>"
            ]
          },
          "metadata": {}
        },
        {
          "output_type": "display_data",
          "data": {
            "text/plain": [
              "recommendations finished on 301000/305945 queries. users per second: 1376.21"
            ],
            "text/html": [
              "<pre>recommendations finished on 301000/305945 queries. users per second: 1376.21</pre>"
            ]
          },
          "metadata": {}
        },
        {
          "output_type": "display_data",
          "data": {
            "text/plain": [
              "recommendations finished on 302000/305945 queries. users per second: 1376.23"
            ],
            "text/html": [
              "<pre>recommendations finished on 302000/305945 queries. users per second: 1376.23</pre>"
            ]
          },
          "metadata": {}
        },
        {
          "output_type": "display_data",
          "data": {
            "text/plain": [
              "recommendations finished on 303000/305945 queries. users per second: 1376.33"
            ],
            "text/html": [
              "<pre>recommendations finished on 303000/305945 queries. users per second: 1376.33</pre>"
            ]
          },
          "metadata": {}
        },
        {
          "output_type": "display_data",
          "data": {
            "text/plain": [
              "recommendations finished on 304000/305945 queries. users per second: 1376.4"
            ],
            "text/html": [
              "<pre>recommendations finished on 304000/305945 queries. users per second: 1376.4</pre>"
            ]
          },
          "metadata": {}
        },
        {
          "output_type": "display_data",
          "data": {
            "text/plain": [
              "recommendations finished on 305000/305945 queries. users per second: 1376.54"
            ],
            "text/html": [
              "<pre>recommendations finished on 305000/305945 queries. users per second: 1376.54</pre>"
            ]
          },
          "metadata": {}
        }
      ]
    },
    {
      "cell_type": "code",
      "source": [
        "# print the n first recommendations\n",
        "recommendation.print_rows(100)"
      ],
      "metadata": {
        "id": "xKdwjYiopVPx",
        "colab": {
          "base_uri": "https://localhost:8080/"
        },
        "outputId": "2fe63d33-7b9a-4ef2-a838-7b81edc7b637"
      },
      "execution_count": null,
      "outputs": [
        {
          "output_type": "stream",
          "name": "stdout",
          "text": [
            "+---------+---------+---------------------+------+\n",
            "| user_id | item_id |        score        | rank |\n",
            "+---------+---------+---------------------+------+\n",
            "|    0    |  19240  | 0.35698288679122925 |  1   |\n",
            "|    0    |   3921  |  0.3095870316028595 |  2   |\n",
            "|    0    |   3876  |  0.2810938358306885 |  3   |\n",
            "|    0    |   6153  | 0.22873052954673767 |  4   |\n",
            "|    0    |   1179  | 0.21884199976921082 |  5   |\n",
            "|    0    |   2350  | 0.20630986988544464 |  6   |\n",
            "|    0    |   6691  | 0.19016516208648682 |  7   |\n",
            "|    0    |   1744  | 0.16090434789657593 |  8   |\n",
            "|    0    |   7937  | 0.15766994655132294 |  9   |\n",
            "|    0    |   1125  | 0.15361566841602325 |  10  |\n",
            "|    0    |   7928  | 0.15068849921226501 |  11  |\n",
            "|    0    |   6079  | 0.13560670614242554 |  12  |\n",
            "|    1    |   896   |  0.2353052794933319 |  1   |\n",
            "|    1    |   3559  |  0.2041281759738922 |  2   |\n",
            "|    1    |   5371  | 0.18876758217811584 |  3   |\n",
            "|    1    |   3431  | 0.17464987933635712 |  4   |\n",
            "|    1    |   361   |  0.1396971344947815 |  5   |\n",
            "|    1    |   1127  | 0.11500201374292374 |  6   |\n",
            "|    1    |   8915  |  0.1145920529961586 |  7   |\n",
            "|    1    |   1125  | 0.10855940729379654 |  8   |\n",
            "|    1    |   1293  |  0.1084841936826706 |  9   |\n",
            "|    1    |   3691  | 0.10593197494745255 |  10  |\n",
            "|    1    |   4467  | 0.09895715862512589 |  11  |\n",
            "|    1    |   2433  | 0.09463860094547272 |  12  |\n",
            "|    2    |   1779  | 0.12206225842237473 |  1   |\n",
            "|    2    |   9976  |  0.1129414439201355 |  2   |\n",
            "|    2    |   5035  | 0.09633030742406845 |  3   |\n",
            "|    2    |   9332  | 0.08647596091032028 |  4   |\n",
            "|    2    |   1462  | 0.07868199050426483 |  5   |\n",
            "|    2    |   1968  | 0.07450259476900101 |  6   |\n",
            "|    2    |   3815  | 0.07360730320215225 |  7   |\n",
            "|    2    |  12515  | 0.07098530232906342 |  8   |\n",
            "|    2    |   174   | 0.06985746324062347 |  9   |\n",
            "|    2    |   1930  | 0.06899910420179367 |  10  |\n",
            "|    2    |  12162  |  0.0688633993268013 |  11  |\n",
            "|    2    |   3691  | 0.06764675676822662 |  12  |\n",
            "|    3    |   836   | 0.24058295786380768 |  1   |\n",
            "|    3    |   762   |  0.2362111508846283 |  2   |\n",
            "|    3    |   2712  |  0.2292376160621643 |  3   |\n",
            "|    3    |   2713  |  0.2041490375995636 |  4   |\n",
            "|    3    |   8184  | 0.17885655164718628 |  5   |\n",
            "|    3    |   2941  |  0.1543007493019104 |  6   |\n",
            "|    3    |   6414  | 0.14577357470989227 |  7   |\n",
            "|    3    |   3876  | 0.14012372493743896 |  8   |\n",
            "|    3    |   1117  |  0.1341417133808136 |  9   |\n",
            "|    3    |   1211  | 0.13397444784641266 |  10  |\n",
            "|    3    |   600   | 0.13008958101272583 |  11  |\n",
            "|    3    |   554   | 0.11591397225856781 |  12  |\n",
            "|    4    |   9704  | 0.30686241388320923 |  1   |\n",
            "|    4    |   1757  | 0.18582135438919067 |  2   |\n",
            "|    4    |   3725  | 0.13515086472034454 |  3   |\n",
            "|    4    |   5875  | 0.12767484784126282 |  4   |\n",
            "|    4    |   969   | 0.11879612505435944 |  5   |\n",
            "|    4    |  13667  | 0.11866089701652527 |  6   |\n",
            "|    4    |   1179  |  0.1157846599817276 |  7   |\n",
            "|    4    |   2120  | 0.11218460649251938 |  8   |\n",
            "|    4    |   2350  | 0.11101537942886353 |  9   |\n",
            "|    4    |   2007  | 0.10409960150718689 |  10  |\n",
            "|    4    |   1187  | 0.10220187902450562 |  11  |\n",
            "|    4    |   613   | 0.10017025470733643 |  12  |\n",
            "|    5    |   3431  |  0.2123647779226303 |  1   |\n",
            "|    5    |   554   | 0.12999507784843445 |  2   |\n",
            "|    5    |   1806  | 0.11691966652870178 |  3   |\n",
            "|    5    |   1187  |  0.1090298593044281 |  4   |\n",
            "|    5    |   286   | 0.10167474299669266 |  5   |\n",
            "|    5    |  13271  | 0.09575289487838745 |  6   |\n",
            "|    5    |   5371  | 0.08948931097984314 |  7   |\n",
            "|    5    |   5456  | 0.07659880816936493 |  8   |\n",
            "|    5    |  11860  |  0.0744687095284462 |  9   |\n",
            "|    5    |  22470  | 0.07252097129821777 |  10  |\n",
            "|    5    |   6825  | 0.07207901775836945 |  11  |\n",
            "|    5    |   3352  | 0.06758829206228256 |  12  |\n",
            "|    6    |   3559  |  0.4721381664276123 |  1   |\n",
            "|    6    |   361   |  0.3702249825000763 |  2   |\n",
            "|    6    |   429   |  0.3176714777946472 |  3   |\n",
            "|    6    |   497   | 0.30555111169815063 |  4   |\n",
            "|    6    |  11278  |  0.287710964679718  |  5   |\n",
            "|    6    |   509   | 0.24426211416721344 |  6   |\n",
            "|    6    |   999   | 0.22274300456047058 |  7   |\n",
            "|    6    |   969   |  0.2109735906124115 |  8   |\n",
            "|    6    |   3637  | 0.20565757155418396 |  9   |\n",
            "|    6    |   7951  | 0.18439799547195435 |  10  |\n",
            "|    6    |   851   | 0.17922434210777283 |  11  |\n",
            "|    6    |   867   |  0.1766829788684845 |  12  |\n",
            "|    7    |   6075  |  0.7149144411087036 |  1   |\n",
            "|    7    |    88   |  0.7133349180221558 |  2   |\n",
            "|    7    |   3501  |  0.684447705745697  |  3   |\n",
            "|    7    |   1374  |  0.6806724071502686 |  4   |\n",
            "|    7    |   1779  |  0.6006115078926086 |  5   |\n",
            "|    7    |   1441  |  0.5673649311065674 |  6   |\n",
            "|    7    |   3482  |  0.5603530406951904 |  7   |\n",
            "|    7    |   1127  |  0.557433545589447  |  8   |\n",
            "|    7    |   1776  |  0.5567293167114258 |  9   |\n",
            "|    7    |   6354  |  0.5351152420043945 |  10  |\n",
            "|    7    |   4173  |  0.532363772392273  |  11  |\n",
            "|    7    |   554   |  0.5130189657211304 |  12  |\n",
            "|    8    |   286   | 0.22845911979675293 |  1   |\n",
            "|    8    |   1374  |  0.2155235856771469 |  2   |\n",
            "|    8    |   462   | 0.19142234325408936 |  3   |\n",
            "|    8    |   939   |  0.1831125020980835 |  4   |\n",
            "+---------+---------+---------------------+------+\n",
            "[3671340 rows x 4 columns]\n",
            "\n"
          ]
        }
      ]
    },
    {
      "cell_type": "code",
      "source": [
        "mfg_eval = mf_grad.evaluate_precision_recall(df_test)"
      ],
      "metadata": {
        "id": "nruo33dppY4_"
      },
      "execution_count": null,
      "outputs": []
    },
    {
      "cell_type": "code",
      "source": [
        "mfg_eval"
      ],
      "metadata": {
        "id": "fouAx2k1paOr",
        "colab": {
          "base_uri": "https://localhost:8080/"
        },
        "outputId": "9dd9dae6-54af-476f-e4ee-c14863dd8409"
      },
      "execution_count": null,
      "outputs": [
        {
          "output_type": "execute_result",
          "data": {
            "text/plain": [
              "{'precision_recall_by_user': Columns:\n",
              " \tuser_id\tint\n",
              " \tcutoff\tint\n",
              " \tprecision\tfloat\n",
              " \trecall\tfloat\n",
              " \tcount\tint\n",
              " \n",
              " Rows: 1619658\n",
              " \n",
              " Data:\n",
              " +---------+--------+-----------+--------+-------+\n",
              " | user_id | cutoff | precision | recall | count |\n",
              " +---------+--------+-----------+--------+-------+\n",
              " |    5    |   1    |    0.0    |  0.0   |   9   |\n",
              " |    5    |   2    |    0.0    |  0.0   |   9   |\n",
              " |    5    |   3    |    0.0    |  0.0   |   9   |\n",
              " |    5    |   4    |    0.0    |  0.0   |   9   |\n",
              " |    5    |   5    |    0.0    |  0.0   |   9   |\n",
              " |    5    |   6    |    0.0    |  0.0   |   9   |\n",
              " |    5    |   7    |    0.0    |  0.0   |   9   |\n",
              " |    5    |   8    |    0.0    |  0.0   |   9   |\n",
              " |    5    |   9    |    0.0    |  0.0   |   9   |\n",
              " |    5    |   10   |    0.0    |  0.0   |   9   |\n",
              " +---------+--------+-----------+--------+-------+\n",
              " [1619658 rows x 5 columns]\n",
              " Note: Only the head of the SFrame is printed.\n",
              " You can use print_rows(num_rows=m, num_columns=n) to print more rows and columns.,\n",
              " 'precision_recall_overall': Columns:\n",
              " \tcutoff\tint\n",
              " \tprecision\tfloat\n",
              " \trecall\tfloat\n",
              " \n",
              " Rows: 18\n",
              " \n",
              " Data:\n",
              " +--------+----------------------+-----------------------+\n",
              " | cutoff |      precision       |         recall        |\n",
              " +--------+----------------------+-----------------------+\n",
              " |   1    | 0.04227559151376417  | 0.0027063045808191147 |\n",
              " |   2    | 0.03743012413731789  |  0.004803563538087145 |\n",
              " |   3    | 0.034470240013633746 |  0.006608808602403164 |\n",
              " |   4    | 0.03252075438148046  |  0.00830224070295459  |\n",
              " |   5    | 0.030986541603226694 |  0.00988403942131205  |\n",
              " |   6    | 0.02983592832560921  |  0.011400139371867938 |\n",
              " |   7    | 0.028734637629849114 |  0.012792843808877819 |\n",
              " |   8    | 0.027761416298996446 |  0.014093805603643107 |\n",
              " |   9    | 0.02694519460281045  |  0.015412700738938136 |\n",
              " |   10   | 0.02628554917148996  |  0.016737909461139896 |\n",
              " +--------+----------------------+-----------------------+\n",
              " [18 rows x 3 columns]\n",
              " Note: Only the head of the SFrame is printed.\n",
              " You can use print_rows(num_rows=m, num_columns=n) to print more rows and columns.}"
            ]
          },
          "metadata": {},
          "execution_count": 23
        }
      ]
    },
    {
      "cell_type": "markdown",
      "source": [
        "## 2-2 iALS"
      ],
      "metadata": {
        "id": "RyINVBRQig0p"
      }
    },
    {
      "cell_type": "code",
      "source": [
        "mf_als = tc.ranking_factorization_recommender.create(df_train, \n",
        "                                              user_id='user_id', \n",
        "                                              item_id='item_id',\n",
        "                                              num_factors=100,\n",
        "                                              regularization=0.001,\n",
        "                                              max_iterations=40\n",
        "                                              solver='ials')\n",
        "# recommend k products for a list of users (None corresponds to all users) \n",
        "recommendation = mf_als.recommend(users=None, k=12)"
      ],
      "metadata": {
        "colab": {
          "base_uri": "https://localhost:8080/",
          "height": 1000
        },
        "id": "HNMq-blTZEr-",
        "outputId": "d428ed13-1c5f-4207-9232-0d7c5690cce4"
      },
      "execution_count": null,
      "outputs": [
        {
          "output_type": "display_data",
          "data": {
            "text/plain": [
              "Preparing data set."
            ],
            "text/html": [
              "<pre>Preparing data set.</pre>"
            ]
          },
          "metadata": {}
        },
        {
          "output_type": "display_data",
          "data": {
            "text/plain": [
              "    Data has 16380622 observations with 305945 users and 42373 items."
            ],
            "text/html": [
              "<pre>    Data has 16380622 observations with 305945 users and 42373 items.</pre>"
            ]
          },
          "metadata": {}
        },
        {
          "output_type": "display_data",
          "data": {
            "text/plain": [
              "    Data prepared in: 16.8412s"
            ],
            "text/html": [
              "<pre>    Data prepared in: 16.8412s</pre>"
            ]
          },
          "metadata": {}
        },
        {
          "output_type": "display_data",
          "data": {
            "text/plain": [
              "Training ranking_factorization_recommender for recommendations."
            ],
            "text/html": [
              "<pre>Training ranking_factorization_recommender for recommendations.</pre>"
            ]
          },
          "metadata": {}
        },
        {
          "output_type": "display_data",
          "data": {
            "text/plain": [
              "+------------------------------+--------------------------------------------------+----------+"
            ],
            "text/html": [
              "<pre>+------------------------------+--------------------------------------------------+----------+</pre>"
            ]
          },
          "metadata": {}
        },
        {
          "output_type": "display_data",
          "data": {
            "text/plain": [
              "| Parameter                    | Description                                      | Value    |"
            ],
            "text/html": [
              "<pre>| Parameter                    | Description                                      | Value    |</pre>"
            ]
          },
          "metadata": {}
        },
        {
          "output_type": "display_data",
          "data": {
            "text/plain": [
              "+------------------------------+--------------------------------------------------+----------+"
            ],
            "text/html": [
              "<pre>+------------------------------+--------------------------------------------------+----------+</pre>"
            ]
          },
          "metadata": {}
        },
        {
          "output_type": "display_data",
          "data": {
            "text/plain": [
              "| num_factors                  | Factor Dimension                                 | 100      |"
            ],
            "text/html": [
              "<pre>| num_factors                  | Factor Dimension                                 | 100      |</pre>"
            ]
          },
          "metadata": {}
        },
        {
          "output_type": "display_data",
          "data": {
            "text/plain": [
              "| regularization               | L2 Regularization on Factors                     | 1e-09    |"
            ],
            "text/html": [
              "<pre>| regularization               | L2 Regularization on Factors                     | 1e-09    |</pre>"
            ]
          },
          "metadata": {}
        },
        {
          "output_type": "display_data",
          "data": {
            "text/plain": [
              "| max_iterations               | Maximum Number of Iterations                     | 25       |"
            ],
            "text/html": [
              "<pre>| max_iterations               | Maximum Number of Iterations                     | 25       |</pre>"
            ]
          },
          "metadata": {}
        },
        {
          "output_type": "display_data",
          "data": {
            "text/plain": [
              "| solver                       | Solver used for training                         | ials     |"
            ],
            "text/html": [
              "<pre>| solver                       | Solver used for training                         | ials     |</pre>"
            ]
          },
          "metadata": {}
        },
        {
          "output_type": "display_data",
          "data": {
            "text/plain": [
              "+------------------------------+--------------------------------------------------+----------+"
            ],
            "text/html": [
              "<pre>+------------------------------+--------------------------------------------------+----------+</pre>"
            ]
          },
          "metadata": {}
        },
        {
          "output_type": "display_data",
          "data": {
            "text/plain": [
              "+---------+--------------+---------------------------+"
            ],
            "text/html": [
              "<pre>+---------+--------------+---------------------------+</pre>"
            ]
          },
          "metadata": {}
        },
        {
          "output_type": "display_data",
          "data": {
            "text/plain": [
              "| Iter.   | Elapsed time | Estimated Objective Value |"
            ],
            "text/html": [
              "<pre>| Iter.   | Elapsed time | Estimated Objective Value |</pre>"
            ]
          },
          "metadata": {}
        },
        {
          "output_type": "display_data",
          "data": {
            "text/plain": [
              "+---------+--------------+---------------------------+"
            ],
            "text/html": [
              "<pre>+---------+--------------+---------------------------+</pre>"
            ]
          },
          "metadata": {}
        },
        {
          "output_type": "display_data",
          "data": {
            "text/plain": [
              "| Initial | 126us        | NA                        |"
            ],
            "text/html": [
              "<pre>| Initial | 126us        | NA                        |</pre>"
            ]
          },
          "metadata": {}
        },
        {
          "output_type": "display_data",
          "data": {
            "text/plain": [
              "+---------+--------------+---------------------------+"
            ],
            "text/html": [
              "<pre>+---------+--------------+---------------------------+</pre>"
            ]
          },
          "metadata": {}
        },
        {
          "output_type": "display_data",
          "data": {
            "text/plain": [
              "| 0       | 1m 24s       | 0.981811                  |"
            ],
            "text/html": [
              "<pre>| 0       | 1m 24s       | 0.981811                  |</pre>"
            ]
          },
          "metadata": {}
        },
        {
          "output_type": "display_data",
          "data": {
            "text/plain": [
              "| 1       | 2m 48s       | 0.949874                  |"
            ],
            "text/html": [
              "<pre>| 1       | 2m 48s       | 0.949874                  |</pre>"
            ]
          },
          "metadata": {}
        },
        {
          "output_type": "display_data",
          "data": {
            "text/plain": [
              "| 2       | 4m 12s       | 0.943706                  |"
            ],
            "text/html": [
              "<pre>| 2       | 4m 12s       | 0.943706                  |</pre>"
            ]
          },
          "metadata": {}
        },
        {
          "output_type": "display_data",
          "data": {
            "text/plain": [
              "| 3       | 5m 35s       | 0.941679                  |"
            ],
            "text/html": [
              "<pre>| 3       | 5m 35s       | 0.941679                  |</pre>"
            ]
          },
          "metadata": {}
        },
        {
          "output_type": "display_data",
          "data": {
            "text/plain": [
              "| 4       | 6m 57s       | 0.940706                  |"
            ],
            "text/html": [
              "<pre>| 4       | 6m 57s       | 0.940706                  |</pre>"
            ]
          },
          "metadata": {}
        },
        {
          "output_type": "display_data",
          "data": {
            "text/plain": [
              "| 5       | 8m 21s       | 0.940141                  |"
            ],
            "text/html": [
              "<pre>| 5       | 8m 21s       | 0.940141                  |</pre>"
            ]
          },
          "metadata": {}
        },
        {
          "output_type": "display_data",
          "data": {
            "text/plain": [
              "| 6       | 9m 44s       | 0.939776                  |"
            ],
            "text/html": [
              "<pre>| 6       | 9m 44s       | 0.939776                  |</pre>"
            ]
          },
          "metadata": {}
        },
        {
          "output_type": "display_data",
          "data": {
            "text/plain": [
              "| 7       | 11m 4s       | 0.939524                  |"
            ],
            "text/html": [
              "<pre>| 7       | 11m 4s       | 0.939524                  |</pre>"
            ]
          },
          "metadata": {}
        },
        {
          "output_type": "display_data",
          "data": {
            "text/plain": [
              "| 8       | 12m 27s      | 0.939341                  |"
            ],
            "text/html": [
              "<pre>| 8       | 12m 27s      | 0.939341                  |</pre>"
            ]
          },
          "metadata": {}
        },
        {
          "output_type": "display_data",
          "data": {
            "text/plain": [
              "| 9       | 13m 49s      | 0.939204                  |"
            ],
            "text/html": [
              "<pre>| 9       | 13m 49s      | 0.939204                  |</pre>"
            ]
          },
          "metadata": {}
        },
        {
          "output_type": "display_data",
          "data": {
            "text/plain": [
              "| 10      | 15m 10s      | 0.939098                  |"
            ],
            "text/html": [
              "<pre>| 10      | 15m 10s      | 0.939098                  |</pre>"
            ]
          },
          "metadata": {}
        },
        {
          "output_type": "display_data",
          "data": {
            "text/plain": [
              "| 11      | 16m 32s      | 0.939015                  |"
            ],
            "text/html": [
              "<pre>| 11      | 16m 32s      | 0.939015                  |</pre>"
            ]
          },
          "metadata": {}
        },
        {
          "output_type": "display_data",
          "data": {
            "text/plain": [
              "| 12      | 17m 55s      | 0.938948                  |"
            ],
            "text/html": [
              "<pre>| 12      | 17m 55s      | 0.938948                  |</pre>"
            ]
          },
          "metadata": {}
        },
        {
          "output_type": "display_data",
          "data": {
            "text/plain": [
              "| 13      | 19m 17s      | 0.938893                  |"
            ],
            "text/html": [
              "<pre>| 13      | 19m 17s      | 0.938893                  |</pre>"
            ]
          },
          "metadata": {}
        },
        {
          "output_type": "display_data",
          "data": {
            "text/plain": [
              "| 14      | 20m 37s      | 0.938848                  |"
            ],
            "text/html": [
              "<pre>| 14      | 20m 37s      | 0.938848                  |</pre>"
            ]
          },
          "metadata": {}
        },
        {
          "output_type": "display_data",
          "data": {
            "text/plain": [
              "| 15      | 22m 0s       | 0.93881                   |"
            ],
            "text/html": [
              "<pre>| 15      | 22m 0s       | 0.93881                   |</pre>"
            ]
          },
          "metadata": {}
        },
        {
          "output_type": "display_data",
          "data": {
            "text/plain": [
              "| 16      | 23m 22s      | 0.938778                  |"
            ],
            "text/html": [
              "<pre>| 16      | 23m 22s      | 0.938778                  |</pre>"
            ]
          },
          "metadata": {}
        },
        {
          "output_type": "display_data",
          "data": {
            "text/plain": [
              "| 17      | 24m 43s      | 0.938751                  |"
            ],
            "text/html": [
              "<pre>| 17      | 24m 43s      | 0.938751                  |</pre>"
            ]
          },
          "metadata": {}
        },
        {
          "output_type": "display_data",
          "data": {
            "text/plain": [
              "| 18      | 26m 5s       | 0.938727                  |"
            ],
            "text/html": [
              "<pre>| 18      | 26m 5s       | 0.938727                  |</pre>"
            ]
          },
          "metadata": {}
        },
        {
          "output_type": "display_data",
          "data": {
            "text/plain": [
              "| 19      | 27m 28s      | 0.938707                  |"
            ],
            "text/html": [
              "<pre>| 19      | 27m 28s      | 0.938707                  |</pre>"
            ]
          },
          "metadata": {}
        },
        {
          "output_type": "display_data",
          "data": {
            "text/plain": [
              "| 20      | 28m 48s      | 0.93869                   |"
            ],
            "text/html": [
              "<pre>| 20      | 28m 48s      | 0.93869                   |</pre>"
            ]
          },
          "metadata": {}
        },
        {
          "output_type": "display_data",
          "data": {
            "text/plain": [
              "| 21      | 30m 11s      | 0.938674                  |"
            ],
            "text/html": [
              "<pre>| 21      | 30m 11s      | 0.938674                  |</pre>"
            ]
          },
          "metadata": {}
        },
        {
          "output_type": "display_data",
          "data": {
            "text/plain": [
              "| 22      | 31m 33s      | 0.938661                  |"
            ],
            "text/html": [
              "<pre>| 22      | 31m 33s      | 0.938661                  |</pre>"
            ]
          },
          "metadata": {}
        },
        {
          "output_type": "display_data",
          "data": {
            "text/plain": [
              "| 23      | 32m 55s      | 0.938649                  |"
            ],
            "text/html": [
              "<pre>| 23      | 32m 55s      | 0.938649                  |</pre>"
            ]
          },
          "metadata": {}
        },
        {
          "output_type": "display_data",
          "data": {
            "text/plain": [
              "| 24      | 34m 16s      | 0.938638                  |"
            ],
            "text/html": [
              "<pre>| 24      | 34m 16s      | 0.938638                  |</pre>"
            ]
          },
          "metadata": {}
        },
        {
          "output_type": "display_data",
          "data": {
            "text/plain": [
              "| FINAL   | 34m 16s      | 0.938638                  |"
            ],
            "text/html": [
              "<pre>| FINAL   | 34m 16s      | 0.938638                  |</pre>"
            ]
          },
          "metadata": {}
        },
        {
          "output_type": "display_data",
          "data": {
            "text/plain": [
              "+---------+--------------+---------------------------+"
            ],
            "text/html": [
              "<pre>+---------+--------------+---------------------------+</pre>"
            ]
          },
          "metadata": {}
        },
        {
          "output_type": "display_data",
          "data": {
            "text/plain": [
              "Optimization Complete: Iteration limit reached."
            ],
            "text/html": [
              "<pre>Optimization Complete: Iteration limit reached.</pre>"
            ]
          },
          "metadata": {}
        },
        {
          "output_type": "display_data",
          "data": {
            "text/plain": [
              "recommendations finished on 1000/305945 queries. users per second: 850.588"
            ],
            "text/html": [
              "<pre>recommendations finished on 1000/305945 queries. users per second: 850.588</pre>"
            ]
          },
          "metadata": {}
        },
        {
          "output_type": "display_data",
          "data": {
            "text/plain": [
              "recommendations finished on 2000/305945 queries. users per second: 863.717"
            ],
            "text/html": [
              "<pre>recommendations finished on 2000/305945 queries. users per second: 863.717</pre>"
            ]
          },
          "metadata": {}
        },
        {
          "output_type": "display_data",
          "data": {
            "text/plain": [
              "recommendations finished on 3000/305945 queries. users per second: 861.422"
            ],
            "text/html": [
              "<pre>recommendations finished on 3000/305945 queries. users per second: 861.422</pre>"
            ]
          },
          "metadata": {}
        },
        {
          "output_type": "display_data",
          "data": {
            "text/plain": [
              "recommendations finished on 4000/305945 queries. users per second: 865.147"
            ],
            "text/html": [
              "<pre>recommendations finished on 4000/305945 queries. users per second: 865.147</pre>"
            ]
          },
          "metadata": {}
        },
        {
          "output_type": "display_data",
          "data": {
            "text/plain": [
              "recommendations finished on 5000/305945 queries. users per second: 868.673"
            ],
            "text/html": [
              "<pre>recommendations finished on 5000/305945 queries. users per second: 868.673</pre>"
            ]
          },
          "metadata": {}
        },
        {
          "output_type": "display_data",
          "data": {
            "text/plain": [
              "recommendations finished on 6000/305945 queries. users per second: 865.834"
            ],
            "text/html": [
              "<pre>recommendations finished on 6000/305945 queries. users per second: 865.834</pre>"
            ]
          },
          "metadata": {}
        },
        {
          "output_type": "display_data",
          "data": {
            "text/plain": [
              "recommendations finished on 7000/305945 queries. users per second: 864.685"
            ],
            "text/html": [
              "<pre>recommendations finished on 7000/305945 queries. users per second: 864.685</pre>"
            ]
          },
          "metadata": {}
        },
        {
          "output_type": "display_data",
          "data": {
            "text/plain": [
              "recommendations finished on 8000/305945 queries. users per second: 866.83"
            ],
            "text/html": [
              "<pre>recommendations finished on 8000/305945 queries. users per second: 866.83</pre>"
            ]
          },
          "metadata": {}
        },
        {
          "output_type": "display_data",
          "data": {
            "text/plain": [
              "recommendations finished on 9000/305945 queries. users per second: 869.515"
            ],
            "text/html": [
              "<pre>recommendations finished on 9000/305945 queries. users per second: 869.515</pre>"
            ]
          },
          "metadata": {}
        },
        {
          "output_type": "display_data",
          "data": {
            "text/plain": [
              "recommendations finished on 10000/305945 queries. users per second: 867.877"
            ],
            "text/html": [
              "<pre>recommendations finished on 10000/305945 queries. users per second: 867.877</pre>"
            ]
          },
          "metadata": {}
        },
        {
          "output_type": "display_data",
          "data": {
            "text/plain": [
              "recommendations finished on 11000/305945 queries. users per second: 868.153"
            ],
            "text/html": [
              "<pre>recommendations finished on 11000/305945 queries. users per second: 868.153</pre>"
            ]
          },
          "metadata": {}
        },
        {
          "output_type": "display_data",
          "data": {
            "text/plain": [
              "recommendations finished on 12000/305945 queries. users per second: 867.401"
            ],
            "text/html": [
              "<pre>recommendations finished on 12000/305945 queries. users per second: 867.401</pre>"
            ]
          },
          "metadata": {}
        },
        {
          "output_type": "display_data",
          "data": {
            "text/plain": [
              "recommendations finished on 13000/305945 queries. users per second: 867.81"
            ],
            "text/html": [
              "<pre>recommendations finished on 13000/305945 queries. users per second: 867.81</pre>"
            ]
          },
          "metadata": {}
        },
        {
          "output_type": "display_data",
          "data": {
            "text/plain": [
              "recommendations finished on 14000/305945 queries. users per second: 866.996"
            ],
            "text/html": [
              "<pre>recommendations finished on 14000/305945 queries. users per second: 866.996</pre>"
            ]
          },
          "metadata": {}
        },
        {
          "output_type": "display_data",
          "data": {
            "text/plain": [
              "recommendations finished on 15000/305945 queries. users per second: 867.458"
            ],
            "text/html": [
              "<pre>recommendations finished on 15000/305945 queries. users per second: 867.458</pre>"
            ]
          },
          "metadata": {}
        },
        {
          "output_type": "display_data",
          "data": {
            "text/plain": [
              "recommendations finished on 16000/305945 queries. users per second: 867.118"
            ],
            "text/html": [
              "<pre>recommendations finished on 16000/305945 queries. users per second: 867.118</pre>"
            ]
          },
          "metadata": {}
        },
        {
          "output_type": "display_data",
          "data": {
            "text/plain": [
              "recommendations finished on 17000/305945 queries. users per second: 866.72"
            ],
            "text/html": [
              "<pre>recommendations finished on 17000/305945 queries. users per second: 866.72</pre>"
            ]
          },
          "metadata": {}
        },
        {
          "output_type": "display_data",
          "data": {
            "text/plain": [
              "recommendations finished on 18000/305945 queries. users per second: 867.494"
            ],
            "text/html": [
              "<pre>recommendations finished on 18000/305945 queries. users per second: 867.494</pre>"
            ]
          },
          "metadata": {}
        },
        {
          "output_type": "display_data",
          "data": {
            "text/plain": [
              "recommendations finished on 19000/305945 queries. users per second: 869.894"
            ],
            "text/html": [
              "<pre>recommendations finished on 19000/305945 queries. users per second: 869.894</pre>"
            ]
          },
          "metadata": {}
        },
        {
          "output_type": "display_data",
          "data": {
            "text/plain": [
              "recommendations finished on 20000/305945 queries. users per second: 871.483"
            ],
            "text/html": [
              "<pre>recommendations finished on 20000/305945 queries. users per second: 871.483</pre>"
            ]
          },
          "metadata": {}
        },
        {
          "output_type": "display_data",
          "data": {
            "text/plain": [
              "recommendations finished on 21000/305945 queries. users per second: 871.542"
            ],
            "text/html": [
              "<pre>recommendations finished on 21000/305945 queries. users per second: 871.542</pre>"
            ]
          },
          "metadata": {}
        },
        {
          "output_type": "display_data",
          "data": {
            "text/plain": [
              "recommendations finished on 22000/305945 queries. users per second: 873.044"
            ],
            "text/html": [
              "<pre>recommendations finished on 22000/305945 queries. users per second: 873.044</pre>"
            ]
          },
          "metadata": {}
        },
        {
          "output_type": "display_data",
          "data": {
            "text/plain": [
              "recommendations finished on 23000/305945 queries. users per second: 870.488"
            ],
            "text/html": [
              "<pre>recommendations finished on 23000/305945 queries. users per second: 870.488</pre>"
            ]
          },
          "metadata": {}
        },
        {
          "output_type": "display_data",
          "data": {
            "text/plain": [
              "recommendations finished on 24000/305945 queries. users per second: 841.081"
            ],
            "text/html": [
              "<pre>recommendations finished on 24000/305945 queries. users per second: 841.081</pre>"
            ]
          },
          "metadata": {}
        },
        {
          "output_type": "display_data",
          "data": {
            "text/plain": [
              "recommendations finished on 25000/305945 queries. users per second: 823.918"
            ],
            "text/html": [
              "<pre>recommendations finished on 25000/305945 queries. users per second: 823.918</pre>"
            ]
          },
          "metadata": {}
        },
        {
          "output_type": "display_data",
          "data": {
            "text/plain": [
              "recommendations finished on 26000/305945 queries. users per second: 825.451"
            ],
            "text/html": [
              "<pre>recommendations finished on 26000/305945 queries. users per second: 825.451</pre>"
            ]
          },
          "metadata": {}
        },
        {
          "output_type": "display_data",
          "data": {
            "text/plain": [
              "recommendations finished on 27000/305945 queries. users per second: 826.962"
            ],
            "text/html": [
              "<pre>recommendations finished on 27000/305945 queries. users per second: 826.962</pre>"
            ]
          },
          "metadata": {}
        },
        {
          "output_type": "display_data",
          "data": {
            "text/plain": [
              "recommendations finished on 28000/305945 queries. users per second: 828.529"
            ],
            "text/html": [
              "<pre>recommendations finished on 28000/305945 queries. users per second: 828.529</pre>"
            ]
          },
          "metadata": {}
        },
        {
          "output_type": "display_data",
          "data": {
            "text/plain": [
              "recommendations finished on 29000/305945 queries. users per second: 830.297"
            ],
            "text/html": [
              "<pre>recommendations finished on 29000/305945 queries. users per second: 830.297</pre>"
            ]
          },
          "metadata": {}
        },
        {
          "output_type": "display_data",
          "data": {
            "text/plain": [
              "recommendations finished on 30000/305945 queries. users per second: 832.283"
            ],
            "text/html": [
              "<pre>recommendations finished on 30000/305945 queries. users per second: 832.283</pre>"
            ]
          },
          "metadata": {}
        },
        {
          "output_type": "display_data",
          "data": {
            "text/plain": [
              "recommendations finished on 31000/305945 queries. users per second: 834.637"
            ],
            "text/html": [
              "<pre>recommendations finished on 31000/305945 queries. users per second: 834.637</pre>"
            ]
          },
          "metadata": {}
        },
        {
          "output_type": "display_data",
          "data": {
            "text/plain": [
              "recommendations finished on 32000/305945 queries. users per second: 836.172"
            ],
            "text/html": [
              "<pre>recommendations finished on 32000/305945 queries. users per second: 836.172</pre>"
            ]
          },
          "metadata": {}
        },
        {
          "output_type": "display_data",
          "data": {
            "text/plain": [
              "recommendations finished on 33000/305945 queries. users per second: 837.849"
            ],
            "text/html": [
              "<pre>recommendations finished on 33000/305945 queries. users per second: 837.849</pre>"
            ]
          },
          "metadata": {}
        },
        {
          "output_type": "display_data",
          "data": {
            "text/plain": [
              "recommendations finished on 34000/305945 queries. users per second: 839.457"
            ],
            "text/html": [
              "<pre>recommendations finished on 34000/305945 queries. users per second: 839.457</pre>"
            ]
          },
          "metadata": {}
        },
        {
          "output_type": "display_data",
          "data": {
            "text/plain": [
              "recommendations finished on 35000/305945 queries. users per second: 840.507"
            ],
            "text/html": [
              "<pre>recommendations finished on 35000/305945 queries. users per second: 840.507</pre>"
            ]
          },
          "metadata": {}
        },
        {
          "output_type": "display_data",
          "data": {
            "text/plain": [
              "recommendations finished on 36000/305945 queries. users per second: 841.954"
            ],
            "text/html": [
              "<pre>recommendations finished on 36000/305945 queries. users per second: 841.954</pre>"
            ]
          },
          "metadata": {}
        },
        {
          "output_type": "display_data",
          "data": {
            "text/plain": [
              "recommendations finished on 37000/305945 queries. users per second: 843.164"
            ],
            "text/html": [
              "<pre>recommendations finished on 37000/305945 queries. users per second: 843.164</pre>"
            ]
          },
          "metadata": {}
        },
        {
          "output_type": "display_data",
          "data": {
            "text/plain": [
              "recommendations finished on 38000/305945 queries. users per second: 844.223"
            ],
            "text/html": [
              "<pre>recommendations finished on 38000/305945 queries. users per second: 844.223</pre>"
            ]
          },
          "metadata": {}
        },
        {
          "output_type": "display_data",
          "data": {
            "text/plain": [
              "recommendations finished on 39000/305945 queries. users per second: 844.811"
            ],
            "text/html": [
              "<pre>recommendations finished on 39000/305945 queries. users per second: 844.811</pre>"
            ]
          },
          "metadata": {}
        },
        {
          "output_type": "display_data",
          "data": {
            "text/plain": [
              "recommendations finished on 40000/305945 queries. users per second: 845.727"
            ],
            "text/html": [
              "<pre>recommendations finished on 40000/305945 queries. users per second: 845.727</pre>"
            ]
          },
          "metadata": {}
        },
        {
          "output_type": "display_data",
          "data": {
            "text/plain": [
              "recommendations finished on 41000/305945 queries. users per second: 846.051"
            ],
            "text/html": [
              "<pre>recommendations finished on 41000/305945 queries. users per second: 846.051</pre>"
            ]
          },
          "metadata": {}
        },
        {
          "output_type": "display_data",
          "data": {
            "text/plain": [
              "recommendations finished on 42000/305945 queries. users per second: 846.645"
            ],
            "text/html": [
              "<pre>recommendations finished on 42000/305945 queries. users per second: 846.645</pre>"
            ]
          },
          "metadata": {}
        },
        {
          "output_type": "display_data",
          "data": {
            "text/plain": [
              "recommendations finished on 43000/305945 queries. users per second: 847.016"
            ],
            "text/html": [
              "<pre>recommendations finished on 43000/305945 queries. users per second: 847.016</pre>"
            ]
          },
          "metadata": {}
        },
        {
          "output_type": "display_data",
          "data": {
            "text/plain": [
              "recommendations finished on 44000/305945 queries. users per second: 847.341"
            ],
            "text/html": [
              "<pre>recommendations finished on 44000/305945 queries. users per second: 847.341</pre>"
            ]
          },
          "metadata": {}
        },
        {
          "output_type": "display_data",
          "data": {
            "text/plain": [
              "recommendations finished on 45000/305945 queries. users per second: 848.115"
            ],
            "text/html": [
              "<pre>recommendations finished on 45000/305945 queries. users per second: 848.115</pre>"
            ]
          },
          "metadata": {}
        },
        {
          "output_type": "display_data",
          "data": {
            "text/plain": [
              "recommendations finished on 46000/305945 queries. users per second: 848.335"
            ],
            "text/html": [
              "<pre>recommendations finished on 46000/305945 queries. users per second: 848.335</pre>"
            ]
          },
          "metadata": {}
        },
        {
          "output_type": "display_data",
          "data": {
            "text/plain": [
              "recommendations finished on 47000/305945 queries. users per second: 849.201"
            ],
            "text/html": [
              "<pre>recommendations finished on 47000/305945 queries. users per second: 849.201</pre>"
            ]
          },
          "metadata": {}
        },
        {
          "output_type": "display_data",
          "data": {
            "text/plain": [
              "recommendations finished on 48000/305945 queries. users per second: 849.313"
            ],
            "text/html": [
              "<pre>recommendations finished on 48000/305945 queries. users per second: 849.313</pre>"
            ]
          },
          "metadata": {}
        },
        {
          "output_type": "display_data",
          "data": {
            "text/plain": [
              "recommendations finished on 49000/305945 queries. users per second: 849.268"
            ],
            "text/html": [
              "<pre>recommendations finished on 49000/305945 queries. users per second: 849.268</pre>"
            ]
          },
          "metadata": {}
        },
        {
          "output_type": "display_data",
          "data": {
            "text/plain": [
              "recommendations finished on 50000/305945 queries. users per second: 849.505"
            ],
            "text/html": [
              "<pre>recommendations finished on 50000/305945 queries. users per second: 849.505</pre>"
            ]
          },
          "metadata": {}
        },
        {
          "output_type": "display_data",
          "data": {
            "text/plain": [
              "recommendations finished on 51000/305945 queries. users per second: 850.179"
            ],
            "text/html": [
              "<pre>recommendations finished on 51000/305945 queries. users per second: 850.179</pre>"
            ]
          },
          "metadata": {}
        },
        {
          "output_type": "display_data",
          "data": {
            "text/plain": [
              "recommendations finished on 52000/305945 queries. users per second: 850.403"
            ],
            "text/html": [
              "<pre>recommendations finished on 52000/305945 queries. users per second: 850.403</pre>"
            ]
          },
          "metadata": {}
        },
        {
          "output_type": "display_data",
          "data": {
            "text/plain": [
              "recommendations finished on 53000/305945 queries. users per second: 850.818"
            ],
            "text/html": [
              "<pre>recommendations finished on 53000/305945 queries. users per second: 850.818</pre>"
            ]
          },
          "metadata": {}
        },
        {
          "output_type": "display_data",
          "data": {
            "text/plain": [
              "recommendations finished on 54000/305945 queries. users per second: 850.921"
            ],
            "text/html": [
              "<pre>recommendations finished on 54000/305945 queries. users per second: 850.921</pre>"
            ]
          },
          "metadata": {}
        },
        {
          "output_type": "display_data",
          "data": {
            "text/plain": [
              "recommendations finished on 55000/305945 queries. users per second: 851.286"
            ],
            "text/html": [
              "<pre>recommendations finished on 55000/305945 queries. users per second: 851.286</pre>"
            ]
          },
          "metadata": {}
        },
        {
          "output_type": "display_data",
          "data": {
            "text/plain": [
              "recommendations finished on 56000/305945 queries. users per second: 851.541"
            ],
            "text/html": [
              "<pre>recommendations finished on 56000/305945 queries. users per second: 851.541</pre>"
            ]
          },
          "metadata": {}
        },
        {
          "output_type": "display_data",
          "data": {
            "text/plain": [
              "recommendations finished on 57000/305945 queries. users per second: 852.078"
            ],
            "text/html": [
              "<pre>recommendations finished on 57000/305945 queries. users per second: 852.078</pre>"
            ]
          },
          "metadata": {}
        },
        {
          "output_type": "display_data",
          "data": {
            "text/plain": [
              "recommendations finished on 58000/305945 queries. users per second: 852.226"
            ],
            "text/html": [
              "<pre>recommendations finished on 58000/305945 queries. users per second: 852.226</pre>"
            ]
          },
          "metadata": {}
        },
        {
          "output_type": "display_data",
          "data": {
            "text/plain": [
              "recommendations finished on 59000/305945 queries. users per second: 852.676"
            ],
            "text/html": [
              "<pre>recommendations finished on 59000/305945 queries. users per second: 852.676</pre>"
            ]
          },
          "metadata": {}
        },
        {
          "output_type": "display_data",
          "data": {
            "text/plain": [
              "recommendations finished on 60000/305945 queries. users per second: 853.329"
            ],
            "text/html": [
              "<pre>recommendations finished on 60000/305945 queries. users per second: 853.329</pre>"
            ]
          },
          "metadata": {}
        },
        {
          "output_type": "display_data",
          "data": {
            "text/plain": [
              "recommendations finished on 61000/305945 queries. users per second: 853.825"
            ],
            "text/html": [
              "<pre>recommendations finished on 61000/305945 queries. users per second: 853.825</pre>"
            ]
          },
          "metadata": {}
        },
        {
          "output_type": "display_data",
          "data": {
            "text/plain": [
              "recommendations finished on 62000/305945 queries. users per second: 854.43"
            ],
            "text/html": [
              "<pre>recommendations finished on 62000/305945 queries. users per second: 854.43</pre>"
            ]
          },
          "metadata": {}
        },
        {
          "output_type": "display_data",
          "data": {
            "text/plain": [
              "recommendations finished on 63000/305945 queries. users per second: 854.873"
            ],
            "text/html": [
              "<pre>recommendations finished on 63000/305945 queries. users per second: 854.873</pre>"
            ]
          },
          "metadata": {}
        },
        {
          "output_type": "display_data",
          "data": {
            "text/plain": [
              "recommendations finished on 64000/305945 queries. users per second: 855.625"
            ],
            "text/html": [
              "<pre>recommendations finished on 64000/305945 queries. users per second: 855.625</pre>"
            ]
          },
          "metadata": {}
        },
        {
          "output_type": "display_data",
          "data": {
            "text/plain": [
              "recommendations finished on 65000/305945 queries. users per second: 855.825"
            ],
            "text/html": [
              "<pre>recommendations finished on 65000/305945 queries. users per second: 855.825</pre>"
            ]
          },
          "metadata": {}
        },
        {
          "output_type": "display_data",
          "data": {
            "text/plain": [
              "recommendations finished on 66000/305945 queries. users per second: 856.408"
            ],
            "text/html": [
              "<pre>recommendations finished on 66000/305945 queries. users per second: 856.408</pre>"
            ]
          },
          "metadata": {}
        },
        {
          "output_type": "display_data",
          "data": {
            "text/plain": [
              "recommendations finished on 67000/305945 queries. users per second: 856.892"
            ],
            "text/html": [
              "<pre>recommendations finished on 67000/305945 queries. users per second: 856.892</pre>"
            ]
          },
          "metadata": {}
        },
        {
          "output_type": "display_data",
          "data": {
            "text/plain": [
              "recommendations finished on 68000/305945 queries. users per second: 857.374"
            ],
            "text/html": [
              "<pre>recommendations finished on 68000/305945 queries. users per second: 857.374</pre>"
            ]
          },
          "metadata": {}
        },
        {
          "output_type": "display_data",
          "data": {
            "text/plain": [
              "recommendations finished on 69000/305945 queries. users per second: 857.584"
            ],
            "text/html": [
              "<pre>recommendations finished on 69000/305945 queries. users per second: 857.584</pre>"
            ]
          },
          "metadata": {}
        },
        {
          "output_type": "display_data",
          "data": {
            "text/plain": [
              "recommendations finished on 70000/305945 queries. users per second: 857.774"
            ],
            "text/html": [
              "<pre>recommendations finished on 70000/305945 queries. users per second: 857.774</pre>"
            ]
          },
          "metadata": {}
        },
        {
          "output_type": "display_data",
          "data": {
            "text/plain": [
              "recommendations finished on 71000/305945 queries. users per second: 858.007"
            ],
            "text/html": [
              "<pre>recommendations finished on 71000/305945 queries. users per second: 858.007</pre>"
            ]
          },
          "metadata": {}
        },
        {
          "output_type": "display_data",
          "data": {
            "text/plain": [
              "recommendations finished on 72000/305945 queries. users per second: 857.978"
            ],
            "text/html": [
              "<pre>recommendations finished on 72000/305945 queries. users per second: 857.978</pre>"
            ]
          },
          "metadata": {}
        },
        {
          "output_type": "display_data",
          "data": {
            "text/plain": [
              "recommendations finished on 73000/305945 queries. users per second: 858.109"
            ],
            "text/html": [
              "<pre>recommendations finished on 73000/305945 queries. users per second: 858.109</pre>"
            ]
          },
          "metadata": {}
        },
        {
          "output_type": "display_data",
          "data": {
            "text/plain": [
              "recommendations finished on 74000/305945 queries. users per second: 858.269"
            ],
            "text/html": [
              "<pre>recommendations finished on 74000/305945 queries. users per second: 858.269</pre>"
            ]
          },
          "metadata": {}
        },
        {
          "output_type": "display_data",
          "data": {
            "text/plain": [
              "recommendations finished on 75000/305945 queries. users per second: 858.836"
            ],
            "text/html": [
              "<pre>recommendations finished on 75000/305945 queries. users per second: 858.836</pre>"
            ]
          },
          "metadata": {}
        },
        {
          "output_type": "display_data",
          "data": {
            "text/plain": [
              "recommendations finished on 76000/305945 queries. users per second: 859.098"
            ],
            "text/html": [
              "<pre>recommendations finished on 76000/305945 queries. users per second: 859.098</pre>"
            ]
          },
          "metadata": {}
        },
        {
          "output_type": "display_data",
          "data": {
            "text/plain": [
              "recommendations finished on 77000/305945 queries. users per second: 859.597"
            ],
            "text/html": [
              "<pre>recommendations finished on 77000/305945 queries. users per second: 859.597</pre>"
            ]
          },
          "metadata": {}
        },
        {
          "output_type": "display_data",
          "data": {
            "text/plain": [
              "recommendations finished on 78000/305945 queries. users per second: 859.888"
            ],
            "text/html": [
              "<pre>recommendations finished on 78000/305945 queries. users per second: 859.888</pre>"
            ]
          },
          "metadata": {}
        },
        {
          "output_type": "display_data",
          "data": {
            "text/plain": [
              "recommendations finished on 79000/305945 queries. users per second: 859.871"
            ],
            "text/html": [
              "<pre>recommendations finished on 79000/305945 queries. users per second: 859.871</pre>"
            ]
          },
          "metadata": {}
        },
        {
          "output_type": "display_data",
          "data": {
            "text/plain": [
              "recommendations finished on 80000/305945 queries. users per second: 860.174"
            ],
            "text/html": [
              "<pre>recommendations finished on 80000/305945 queries. users per second: 860.174</pre>"
            ]
          },
          "metadata": {}
        },
        {
          "output_type": "display_data",
          "data": {
            "text/plain": [
              "recommendations finished on 81000/305945 queries. users per second: 860.597"
            ],
            "text/html": [
              "<pre>recommendations finished on 81000/305945 queries. users per second: 860.597</pre>"
            ]
          },
          "metadata": {}
        },
        {
          "output_type": "display_data",
          "data": {
            "text/plain": [
              "recommendations finished on 82000/305945 queries. users per second: 860.597"
            ],
            "text/html": [
              "<pre>recommendations finished on 82000/305945 queries. users per second: 860.597</pre>"
            ]
          },
          "metadata": {}
        },
        {
          "output_type": "display_data",
          "data": {
            "text/plain": [
              "recommendations finished on 83000/305945 queries. users per second: 860.827"
            ],
            "text/html": [
              "<pre>recommendations finished on 83000/305945 queries. users per second: 860.827</pre>"
            ]
          },
          "metadata": {}
        },
        {
          "output_type": "display_data",
          "data": {
            "text/plain": [
              "recommendations finished on 84000/305945 queries. users per second: 860.928"
            ],
            "text/html": [
              "<pre>recommendations finished on 84000/305945 queries. users per second: 860.928</pre>"
            ]
          },
          "metadata": {}
        },
        {
          "output_type": "display_data",
          "data": {
            "text/plain": [
              "recommendations finished on 85000/305945 queries. users per second: 860.824"
            ],
            "text/html": [
              "<pre>recommendations finished on 85000/305945 queries. users per second: 860.824</pre>"
            ]
          },
          "metadata": {}
        },
        {
          "output_type": "display_data",
          "data": {
            "text/plain": [
              "recommendations finished on 86000/305945 queries. users per second: 860.832"
            ],
            "text/html": [
              "<pre>recommendations finished on 86000/305945 queries. users per second: 860.832</pre>"
            ]
          },
          "metadata": {}
        },
        {
          "output_type": "display_data",
          "data": {
            "text/plain": [
              "recommendations finished on 87000/305945 queries. users per second: 860.94"
            ],
            "text/html": [
              "<pre>recommendations finished on 87000/305945 queries. users per second: 860.94</pre>"
            ]
          },
          "metadata": {}
        },
        {
          "output_type": "display_data",
          "data": {
            "text/plain": [
              "recommendations finished on 88000/305945 queries. users per second: 860.872"
            ],
            "text/html": [
              "<pre>recommendations finished on 88000/305945 queries. users per second: 860.872</pre>"
            ]
          },
          "metadata": {}
        },
        {
          "output_type": "display_data",
          "data": {
            "text/plain": [
              "recommendations finished on 89000/305945 queries. users per second: 861.097"
            ],
            "text/html": [
              "<pre>recommendations finished on 89000/305945 queries. users per second: 861.097</pre>"
            ]
          },
          "metadata": {}
        },
        {
          "output_type": "display_data",
          "data": {
            "text/plain": [
              "recommendations finished on 90000/305945 queries. users per second: 861.511"
            ],
            "text/html": [
              "<pre>recommendations finished on 90000/305945 queries. users per second: 861.511</pre>"
            ]
          },
          "metadata": {}
        },
        {
          "output_type": "display_data",
          "data": {
            "text/plain": [
              "recommendations finished on 91000/305945 queries. users per second: 861.821"
            ],
            "text/html": [
              "<pre>recommendations finished on 91000/305945 queries. users per second: 861.821</pre>"
            ]
          },
          "metadata": {}
        },
        {
          "output_type": "display_data",
          "data": {
            "text/plain": [
              "recommendations finished on 92000/305945 queries. users per second: 862.111"
            ],
            "text/html": [
              "<pre>recommendations finished on 92000/305945 queries. users per second: 862.111</pre>"
            ]
          },
          "metadata": {}
        },
        {
          "output_type": "display_data",
          "data": {
            "text/plain": [
              "recommendations finished on 93000/305945 queries. users per second: 862.526"
            ],
            "text/html": [
              "<pre>recommendations finished on 93000/305945 queries. users per second: 862.526</pre>"
            ]
          },
          "metadata": {}
        },
        {
          "output_type": "display_data",
          "data": {
            "text/plain": [
              "recommendations finished on 94000/305945 queries. users per second: 862.905"
            ],
            "text/html": [
              "<pre>recommendations finished on 94000/305945 queries. users per second: 862.905</pre>"
            ]
          },
          "metadata": {}
        },
        {
          "output_type": "display_data",
          "data": {
            "text/plain": [
              "recommendations finished on 95000/305945 queries. users per second: 863.047"
            ],
            "text/html": [
              "<pre>recommendations finished on 95000/305945 queries. users per second: 863.047</pre>"
            ]
          },
          "metadata": {}
        },
        {
          "output_type": "display_data",
          "data": {
            "text/plain": [
              "recommendations finished on 96000/305945 queries. users per second: 863.125"
            ],
            "text/html": [
              "<pre>recommendations finished on 96000/305945 queries. users per second: 863.125</pre>"
            ]
          },
          "metadata": {}
        },
        {
          "output_type": "display_data",
          "data": {
            "text/plain": [
              "recommendations finished on 97000/305945 queries. users per second: 863.226"
            ],
            "text/html": [
              "<pre>recommendations finished on 97000/305945 queries. users per second: 863.226</pre>"
            ]
          },
          "metadata": {}
        },
        {
          "output_type": "display_data",
          "data": {
            "text/plain": [
              "recommendations finished on 98000/305945 queries. users per second: 863.438"
            ],
            "text/html": [
              "<pre>recommendations finished on 98000/305945 queries. users per second: 863.438</pre>"
            ]
          },
          "metadata": {}
        },
        {
          "output_type": "display_data",
          "data": {
            "text/plain": [
              "recommendations finished on 99000/305945 queries. users per second: 863.383"
            ],
            "text/html": [
              "<pre>recommendations finished on 99000/305945 queries. users per second: 863.383</pre>"
            ]
          },
          "metadata": {}
        },
        {
          "output_type": "display_data",
          "data": {
            "text/plain": [
              "recommendations finished on 100000/305945 queries. users per second: 863.22"
            ],
            "text/html": [
              "<pre>recommendations finished on 100000/305945 queries. users per second: 863.22</pre>"
            ]
          },
          "metadata": {}
        },
        {
          "output_type": "display_data",
          "data": {
            "text/plain": [
              "recommendations finished on 101000/305945 queries. users per second: 863.461"
            ],
            "text/html": [
              "<pre>recommendations finished on 101000/305945 queries. users per second: 863.461</pre>"
            ]
          },
          "metadata": {}
        },
        {
          "output_type": "display_data",
          "data": {
            "text/plain": [
              "recommendations finished on 102000/305945 queries. users per second: 863.409"
            ],
            "text/html": [
              "<pre>recommendations finished on 102000/305945 queries. users per second: 863.409</pre>"
            ]
          },
          "metadata": {}
        },
        {
          "output_type": "display_data",
          "data": {
            "text/plain": [
              "recommendations finished on 103000/305945 queries. users per second: 863.612"
            ],
            "text/html": [
              "<pre>recommendations finished on 103000/305945 queries. users per second: 863.612</pre>"
            ]
          },
          "metadata": {}
        },
        {
          "output_type": "display_data",
          "data": {
            "text/plain": [
              "recommendations finished on 104000/305945 queries. users per second: 863.907"
            ],
            "text/html": [
              "<pre>recommendations finished on 104000/305945 queries. users per second: 863.907</pre>"
            ]
          },
          "metadata": {}
        },
        {
          "output_type": "display_data",
          "data": {
            "text/plain": [
              "recommendations finished on 105000/305945 queries. users per second: 864.043"
            ],
            "text/html": [
              "<pre>recommendations finished on 105000/305945 queries. users per second: 864.043</pre>"
            ]
          },
          "metadata": {}
        },
        {
          "output_type": "display_data",
          "data": {
            "text/plain": [
              "recommendations finished on 106000/305945 queries. users per second: 864.285"
            ],
            "text/html": [
              "<pre>recommendations finished on 106000/305945 queries. users per second: 864.285</pre>"
            ]
          },
          "metadata": {}
        },
        {
          "output_type": "display_data",
          "data": {
            "text/plain": [
              "recommendations finished on 107000/305945 queries. users per second: 864.456"
            ],
            "text/html": [
              "<pre>recommendations finished on 107000/305945 queries. users per second: 864.456</pre>"
            ]
          },
          "metadata": {}
        },
        {
          "output_type": "display_data",
          "data": {
            "text/plain": [
              "recommendations finished on 108000/305945 queries. users per second: 864.509"
            ],
            "text/html": [
              "<pre>recommendations finished on 108000/305945 queries. users per second: 864.509</pre>"
            ]
          },
          "metadata": {}
        },
        {
          "output_type": "display_data",
          "data": {
            "text/plain": [
              "recommendations finished on 109000/305945 queries. users per second: 864.558"
            ],
            "text/html": [
              "<pre>recommendations finished on 109000/305945 queries. users per second: 864.558</pre>"
            ]
          },
          "metadata": {}
        },
        {
          "output_type": "display_data",
          "data": {
            "text/plain": [
              "recommendations finished on 110000/305945 queries. users per second: 864.622"
            ],
            "text/html": [
              "<pre>recommendations finished on 110000/305945 queries. users per second: 864.622</pre>"
            ]
          },
          "metadata": {}
        },
        {
          "output_type": "display_data",
          "data": {
            "text/plain": [
              "recommendations finished on 111000/305945 queries. users per second: 864.641"
            ],
            "text/html": [
              "<pre>recommendations finished on 111000/305945 queries. users per second: 864.641</pre>"
            ]
          },
          "metadata": {}
        },
        {
          "output_type": "display_data",
          "data": {
            "text/plain": [
              "recommendations finished on 112000/305945 queries. users per second: 864.636"
            ],
            "text/html": [
              "<pre>recommendations finished on 112000/305945 queries. users per second: 864.636</pre>"
            ]
          },
          "metadata": {}
        },
        {
          "output_type": "display_data",
          "data": {
            "text/plain": [
              "recommendations finished on 113000/305945 queries. users per second: 864.508"
            ],
            "text/html": [
              "<pre>recommendations finished on 113000/305945 queries. users per second: 864.508</pre>"
            ]
          },
          "metadata": {}
        },
        {
          "output_type": "display_data",
          "data": {
            "text/plain": [
              "recommendations finished on 114000/305945 queries. users per second: 864.358"
            ],
            "text/html": [
              "<pre>recommendations finished on 114000/305945 queries. users per second: 864.358</pre>"
            ]
          },
          "metadata": {}
        },
        {
          "output_type": "display_data",
          "data": {
            "text/plain": [
              "recommendations finished on 115000/305945 queries. users per second: 864.52"
            ],
            "text/html": [
              "<pre>recommendations finished on 115000/305945 queries. users per second: 864.52</pre>"
            ]
          },
          "metadata": {}
        },
        {
          "output_type": "display_data",
          "data": {
            "text/plain": [
              "recommendations finished on 116000/305945 queries. users per second: 864.591"
            ],
            "text/html": [
              "<pre>recommendations finished on 116000/305945 queries. users per second: 864.591</pre>"
            ]
          },
          "metadata": {}
        },
        {
          "output_type": "display_data",
          "data": {
            "text/plain": [
              "recommendations finished on 117000/305945 queries. users per second: 864.576"
            ],
            "text/html": [
              "<pre>recommendations finished on 117000/305945 queries. users per second: 864.576</pre>"
            ]
          },
          "metadata": {}
        },
        {
          "output_type": "display_data",
          "data": {
            "text/plain": [
              "recommendations finished on 118000/305945 queries. users per second: 864.68"
            ],
            "text/html": [
              "<pre>recommendations finished on 118000/305945 queries. users per second: 864.68</pre>"
            ]
          },
          "metadata": {}
        },
        {
          "output_type": "display_data",
          "data": {
            "text/plain": [
              "recommendations finished on 119000/305945 queries. users per second: 864.756"
            ],
            "text/html": [
              "<pre>recommendations finished on 119000/305945 queries. users per second: 864.756</pre>"
            ]
          },
          "metadata": {}
        },
        {
          "output_type": "display_data",
          "data": {
            "text/plain": [
              "recommendations finished on 120000/305945 queries. users per second: 864.949"
            ],
            "text/html": [
              "<pre>recommendations finished on 120000/305945 queries. users per second: 864.949</pre>"
            ]
          },
          "metadata": {}
        },
        {
          "output_type": "display_data",
          "data": {
            "text/plain": [
              "recommendations finished on 121000/305945 queries. users per second: 864.895"
            ],
            "text/html": [
              "<pre>recommendations finished on 121000/305945 queries. users per second: 864.895</pre>"
            ]
          },
          "metadata": {}
        },
        {
          "output_type": "display_data",
          "data": {
            "text/plain": [
              "recommendations finished on 122000/305945 queries. users per second: 864.988"
            ],
            "text/html": [
              "<pre>recommendations finished on 122000/305945 queries. users per second: 864.988</pre>"
            ]
          },
          "metadata": {}
        },
        {
          "output_type": "display_data",
          "data": {
            "text/plain": [
              "recommendations finished on 123000/305945 queries. users per second: 861.755"
            ],
            "text/html": [
              "<pre>recommendations finished on 123000/305945 queries. users per second: 861.755</pre>"
            ]
          },
          "metadata": {}
        },
        {
          "output_type": "display_data",
          "data": {
            "text/plain": [
              "recommendations finished on 124000/305945 queries. users per second: 855.682"
            ],
            "text/html": [
              "<pre>recommendations finished on 124000/305945 queries. users per second: 855.682</pre>"
            ]
          },
          "metadata": {}
        },
        {
          "output_type": "display_data",
          "data": {
            "text/plain": [
              "recommendations finished on 125000/305945 queries. users per second: 854.74"
            ],
            "text/html": [
              "<pre>recommendations finished on 125000/305945 queries. users per second: 854.74</pre>"
            ]
          },
          "metadata": {}
        },
        {
          "output_type": "display_data",
          "data": {
            "text/plain": [
              "recommendations finished on 126000/305945 queries. users per second: 854.843"
            ],
            "text/html": [
              "<pre>recommendations finished on 126000/305945 queries. users per second: 854.843</pre>"
            ]
          },
          "metadata": {}
        },
        {
          "output_type": "display_data",
          "data": {
            "text/plain": [
              "recommendations finished on 127000/305945 queries. users per second: 854.779"
            ],
            "text/html": [
              "<pre>recommendations finished on 127000/305945 queries. users per second: 854.779</pre>"
            ]
          },
          "metadata": {}
        },
        {
          "output_type": "display_data",
          "data": {
            "text/plain": [
              "recommendations finished on 128000/305945 queries. users per second: 854.975"
            ],
            "text/html": [
              "<pre>recommendations finished on 128000/305945 queries. users per second: 854.975</pre>"
            ]
          },
          "metadata": {}
        },
        {
          "output_type": "display_data",
          "data": {
            "text/plain": [
              "recommendations finished on 129000/305945 queries. users per second: 855.08"
            ],
            "text/html": [
              "<pre>recommendations finished on 129000/305945 queries. users per second: 855.08</pre>"
            ]
          },
          "metadata": {}
        },
        {
          "output_type": "display_data",
          "data": {
            "text/plain": [
              "recommendations finished on 130000/305945 queries. users per second: 855.272"
            ],
            "text/html": [
              "<pre>recommendations finished on 130000/305945 queries. users per second: 855.272</pre>"
            ]
          },
          "metadata": {}
        },
        {
          "output_type": "display_data",
          "data": {
            "text/plain": [
              "recommendations finished on 131000/305945 queries. users per second: 855.641"
            ],
            "text/html": [
              "<pre>recommendations finished on 131000/305945 queries. users per second: 855.641</pre>"
            ]
          },
          "metadata": {}
        },
        {
          "output_type": "display_data",
          "data": {
            "text/plain": [
              "recommendations finished on 132000/305945 queries. users per second: 856.057"
            ],
            "text/html": [
              "<pre>recommendations finished on 132000/305945 queries. users per second: 856.057</pre>"
            ]
          },
          "metadata": {}
        },
        {
          "output_type": "display_data",
          "data": {
            "text/plain": [
              "recommendations finished on 133000/305945 queries. users per second: 856.356"
            ],
            "text/html": [
              "<pre>recommendations finished on 133000/305945 queries. users per second: 856.356</pre>"
            ]
          },
          "metadata": {}
        },
        {
          "output_type": "display_data",
          "data": {
            "text/plain": [
              "recommendations finished on 134000/305945 queries. users per second: 856.646"
            ],
            "text/html": [
              "<pre>recommendations finished on 134000/305945 queries. users per second: 856.646</pre>"
            ]
          },
          "metadata": {}
        },
        {
          "output_type": "display_data",
          "data": {
            "text/plain": [
              "recommendations finished on 135000/305945 queries. users per second: 856.905"
            ],
            "text/html": [
              "<pre>recommendations finished on 135000/305945 queries. users per second: 856.905</pre>"
            ]
          },
          "metadata": {}
        },
        {
          "output_type": "display_data",
          "data": {
            "text/plain": [
              "recommendations finished on 136000/305945 queries. users per second: 857.063"
            ],
            "text/html": [
              "<pre>recommendations finished on 136000/305945 queries. users per second: 857.063</pre>"
            ]
          },
          "metadata": {}
        },
        {
          "output_type": "display_data",
          "data": {
            "text/plain": [
              "recommendations finished on 137000/305945 queries. users per second: 857"
            ],
            "text/html": [
              "<pre>recommendations finished on 137000/305945 queries. users per second: 857</pre>"
            ]
          },
          "metadata": {}
        },
        {
          "output_type": "display_data",
          "data": {
            "text/plain": [
              "recommendations finished on 138000/305945 queries. users per second: 857.053"
            ],
            "text/html": [
              "<pre>recommendations finished on 138000/305945 queries. users per second: 857.053</pre>"
            ]
          },
          "metadata": {}
        },
        {
          "output_type": "display_data",
          "data": {
            "text/plain": [
              "recommendations finished on 139000/305945 queries. users per second: 857.046"
            ],
            "text/html": [
              "<pre>recommendations finished on 139000/305945 queries. users per second: 857.046</pre>"
            ]
          },
          "metadata": {}
        },
        {
          "output_type": "display_data",
          "data": {
            "text/plain": [
              "recommendations finished on 140000/305945 queries. users per second: 857.219"
            ],
            "text/html": [
              "<pre>recommendations finished on 140000/305945 queries. users per second: 857.219</pre>"
            ]
          },
          "metadata": {}
        },
        {
          "output_type": "display_data",
          "data": {
            "text/plain": [
              "recommendations finished on 141000/305945 queries. users per second: 857.332"
            ],
            "text/html": [
              "<pre>recommendations finished on 141000/305945 queries. users per second: 857.332</pre>"
            ]
          },
          "metadata": {}
        },
        {
          "output_type": "display_data",
          "data": {
            "text/plain": [
              "recommendations finished on 142000/305945 queries. users per second: 857.534"
            ],
            "text/html": [
              "<pre>recommendations finished on 142000/305945 queries. users per second: 857.534</pre>"
            ]
          },
          "metadata": {}
        },
        {
          "output_type": "display_data",
          "data": {
            "text/plain": [
              "recommendations finished on 143000/305945 queries. users per second: 857.767"
            ],
            "text/html": [
              "<pre>recommendations finished on 143000/305945 queries. users per second: 857.767</pre>"
            ]
          },
          "metadata": {}
        },
        {
          "output_type": "display_data",
          "data": {
            "text/plain": [
              "recommendations finished on 144000/305945 queries. users per second: 857.988"
            ],
            "text/html": [
              "<pre>recommendations finished on 144000/305945 queries. users per second: 857.988</pre>"
            ]
          },
          "metadata": {}
        },
        {
          "output_type": "display_data",
          "data": {
            "text/plain": [
              "recommendations finished on 145000/305945 queries. users per second: 858.14"
            ],
            "text/html": [
              "<pre>recommendations finished on 145000/305945 queries. users per second: 858.14</pre>"
            ]
          },
          "metadata": {}
        },
        {
          "output_type": "display_data",
          "data": {
            "text/plain": [
              "recommendations finished on 146000/305945 queries. users per second: 858.185"
            ],
            "text/html": [
              "<pre>recommendations finished on 146000/305945 queries. users per second: 858.185</pre>"
            ]
          },
          "metadata": {}
        },
        {
          "output_type": "display_data",
          "data": {
            "text/plain": [
              "recommendations finished on 147000/305945 queries. users per second: 858.456"
            ],
            "text/html": [
              "<pre>recommendations finished on 147000/305945 queries. users per second: 858.456</pre>"
            ]
          },
          "metadata": {}
        },
        {
          "output_type": "display_data",
          "data": {
            "text/plain": [
              "recommendations finished on 148000/305945 queries. users per second: 858.582"
            ],
            "text/html": [
              "<pre>recommendations finished on 148000/305945 queries. users per second: 858.582</pre>"
            ]
          },
          "metadata": {}
        },
        {
          "output_type": "display_data",
          "data": {
            "text/plain": [
              "recommendations finished on 149000/305945 queries. users per second: 858.778"
            ],
            "text/html": [
              "<pre>recommendations finished on 149000/305945 queries. users per second: 858.778</pre>"
            ]
          },
          "metadata": {}
        },
        {
          "output_type": "display_data",
          "data": {
            "text/plain": [
              "recommendations finished on 150000/305945 queries. users per second: 858.989"
            ],
            "text/html": [
              "<pre>recommendations finished on 150000/305945 queries. users per second: 858.989</pre>"
            ]
          },
          "metadata": {}
        },
        {
          "output_type": "display_data",
          "data": {
            "text/plain": [
              "recommendations finished on 151000/305945 queries. users per second: 859.207"
            ],
            "text/html": [
              "<pre>recommendations finished on 151000/305945 queries. users per second: 859.207</pre>"
            ]
          },
          "metadata": {}
        },
        {
          "output_type": "display_data",
          "data": {
            "text/plain": [
              "recommendations finished on 152000/305945 queries. users per second: 859.371"
            ],
            "text/html": [
              "<pre>recommendations finished on 152000/305945 queries. users per second: 859.371</pre>"
            ]
          },
          "metadata": {}
        },
        {
          "output_type": "display_data",
          "data": {
            "text/plain": [
              "recommendations finished on 153000/305945 queries. users per second: 859.666"
            ],
            "text/html": [
              "<pre>recommendations finished on 153000/305945 queries. users per second: 859.666</pre>"
            ]
          },
          "metadata": {}
        },
        {
          "output_type": "display_data",
          "data": {
            "text/plain": [
              "recommendations finished on 154000/305945 queries. users per second: 859.744"
            ],
            "text/html": [
              "<pre>recommendations finished on 154000/305945 queries. users per second: 859.744</pre>"
            ]
          },
          "metadata": {}
        },
        {
          "output_type": "display_data",
          "data": {
            "text/plain": [
              "recommendations finished on 155000/305945 queries. users per second: 859.954"
            ],
            "text/html": [
              "<pre>recommendations finished on 155000/305945 queries. users per second: 859.954</pre>"
            ]
          },
          "metadata": {}
        },
        {
          "output_type": "display_data",
          "data": {
            "text/plain": [
              "recommendations finished on 156000/305945 queries. users per second: 860.072"
            ],
            "text/html": [
              "<pre>recommendations finished on 156000/305945 queries. users per second: 860.072</pre>"
            ]
          },
          "metadata": {}
        },
        {
          "output_type": "display_data",
          "data": {
            "text/plain": [
              "recommendations finished on 157000/305945 queries. users per second: 860.189"
            ],
            "text/html": [
              "<pre>recommendations finished on 157000/305945 queries. users per second: 860.189</pre>"
            ]
          },
          "metadata": {}
        },
        {
          "output_type": "display_data",
          "data": {
            "text/plain": [
              "recommendations finished on 158000/305945 queries. users per second: 860.315"
            ],
            "text/html": [
              "<pre>recommendations finished on 158000/305945 queries. users per second: 860.315</pre>"
            ]
          },
          "metadata": {}
        },
        {
          "output_type": "display_data",
          "data": {
            "text/plain": [
              "recommendations finished on 159000/305945 queries. users per second: 860.478"
            ],
            "text/html": [
              "<pre>recommendations finished on 159000/305945 queries. users per second: 860.478</pre>"
            ]
          },
          "metadata": {}
        },
        {
          "output_type": "display_data",
          "data": {
            "text/plain": [
              "recommendations finished on 160000/305945 queries. users per second: 860.564"
            ],
            "text/html": [
              "<pre>recommendations finished on 160000/305945 queries. users per second: 860.564</pre>"
            ]
          },
          "metadata": {}
        },
        {
          "output_type": "display_data",
          "data": {
            "text/plain": [
              "recommendations finished on 161000/305945 queries. users per second: 860.842"
            ],
            "text/html": [
              "<pre>recommendations finished on 161000/305945 queries. users per second: 860.842</pre>"
            ]
          },
          "metadata": {}
        },
        {
          "output_type": "display_data",
          "data": {
            "text/plain": [
              "recommendations finished on 162000/305945 queries. users per second: 861.07"
            ],
            "text/html": [
              "<pre>recommendations finished on 162000/305945 queries. users per second: 861.07</pre>"
            ]
          },
          "metadata": {}
        },
        {
          "output_type": "display_data",
          "data": {
            "text/plain": [
              "recommendations finished on 163000/305945 queries. users per second: 861.308"
            ],
            "text/html": [
              "<pre>recommendations finished on 163000/305945 queries. users per second: 861.308</pre>"
            ]
          },
          "metadata": {}
        },
        {
          "output_type": "display_data",
          "data": {
            "text/plain": [
              "recommendations finished on 164000/305945 queries. users per second: 861.445"
            ],
            "text/html": [
              "<pre>recommendations finished on 164000/305945 queries. users per second: 861.445</pre>"
            ]
          },
          "metadata": {}
        },
        {
          "output_type": "display_data",
          "data": {
            "text/plain": [
              "recommendations finished on 165000/305945 queries. users per second: 861.597"
            ],
            "text/html": [
              "<pre>recommendations finished on 165000/305945 queries. users per second: 861.597</pre>"
            ]
          },
          "metadata": {}
        },
        {
          "output_type": "display_data",
          "data": {
            "text/plain": [
              "recommendations finished on 166000/305945 queries. users per second: 861.615"
            ],
            "text/html": [
              "<pre>recommendations finished on 166000/305945 queries. users per second: 861.615</pre>"
            ]
          },
          "metadata": {}
        },
        {
          "output_type": "display_data",
          "data": {
            "text/plain": [
              "recommendations finished on 167000/305945 queries. users per second: 861.721"
            ],
            "text/html": [
              "<pre>recommendations finished on 167000/305945 queries. users per second: 861.721</pre>"
            ]
          },
          "metadata": {}
        },
        {
          "output_type": "display_data",
          "data": {
            "text/plain": [
              "recommendations finished on 168000/305945 queries. users per second: 861.945"
            ],
            "text/html": [
              "<pre>recommendations finished on 168000/305945 queries. users per second: 861.945</pre>"
            ]
          },
          "metadata": {}
        },
        {
          "output_type": "display_data",
          "data": {
            "text/plain": [
              "recommendations finished on 169000/305945 queries. users per second: 862.114"
            ],
            "text/html": [
              "<pre>recommendations finished on 169000/305945 queries. users per second: 862.114</pre>"
            ]
          },
          "metadata": {}
        },
        {
          "output_type": "display_data",
          "data": {
            "text/plain": [
              "recommendations finished on 170000/305945 queries. users per second: 862.316"
            ],
            "text/html": [
              "<pre>recommendations finished on 170000/305945 queries. users per second: 862.316</pre>"
            ]
          },
          "metadata": {}
        },
        {
          "output_type": "display_data",
          "data": {
            "text/plain": [
              "recommendations finished on 171000/305945 queries. users per second: 862.52"
            ],
            "text/html": [
              "<pre>recommendations finished on 171000/305945 queries. users per second: 862.52</pre>"
            ]
          },
          "metadata": {}
        },
        {
          "output_type": "display_data",
          "data": {
            "text/plain": [
              "recommendations finished on 172000/305945 queries. users per second: 862.571"
            ],
            "text/html": [
              "<pre>recommendations finished on 172000/305945 queries. users per second: 862.571</pre>"
            ]
          },
          "metadata": {}
        },
        {
          "output_type": "display_data",
          "data": {
            "text/plain": [
              "recommendations finished on 173000/305945 queries. users per second: 862.717"
            ],
            "text/html": [
              "<pre>recommendations finished on 173000/305945 queries. users per second: 862.717</pre>"
            ]
          },
          "metadata": {}
        },
        {
          "output_type": "display_data",
          "data": {
            "text/plain": [
              "recommendations finished on 174000/305945 queries. users per second: 862.844"
            ],
            "text/html": [
              "<pre>recommendations finished on 174000/305945 queries. users per second: 862.844</pre>"
            ]
          },
          "metadata": {}
        },
        {
          "output_type": "display_data",
          "data": {
            "text/plain": [
              "recommendations finished on 175000/305945 queries. users per second: 862.872"
            ],
            "text/html": [
              "<pre>recommendations finished on 175000/305945 queries. users per second: 862.872</pre>"
            ]
          },
          "metadata": {}
        },
        {
          "output_type": "display_data",
          "data": {
            "text/plain": [
              "recommendations finished on 176000/305945 queries. users per second: 862.885"
            ],
            "text/html": [
              "<pre>recommendations finished on 176000/305945 queries. users per second: 862.885</pre>"
            ]
          },
          "metadata": {}
        },
        {
          "output_type": "display_data",
          "data": {
            "text/plain": [
              "recommendations finished on 177000/305945 queries. users per second: 863.024"
            ],
            "text/html": [
              "<pre>recommendations finished on 177000/305945 queries. users per second: 863.024</pre>"
            ]
          },
          "metadata": {}
        },
        {
          "output_type": "display_data",
          "data": {
            "text/plain": [
              "recommendations finished on 178000/305945 queries. users per second: 862.964"
            ],
            "text/html": [
              "<pre>recommendations finished on 178000/305945 queries. users per second: 862.964</pre>"
            ]
          },
          "metadata": {}
        },
        {
          "output_type": "display_data",
          "data": {
            "text/plain": [
              "recommendations finished on 179000/305945 queries. users per second: 863.027"
            ],
            "text/html": [
              "<pre>recommendations finished on 179000/305945 queries. users per second: 863.027</pre>"
            ]
          },
          "metadata": {}
        },
        {
          "output_type": "display_data",
          "data": {
            "text/plain": [
              "recommendations finished on 180000/305945 queries. users per second: 863.03"
            ],
            "text/html": [
              "<pre>recommendations finished on 180000/305945 queries. users per second: 863.03</pre>"
            ]
          },
          "metadata": {}
        },
        {
          "output_type": "display_data",
          "data": {
            "text/plain": [
              "recommendations finished on 181000/305945 queries. users per second: 863.051"
            ],
            "text/html": [
              "<pre>recommendations finished on 181000/305945 queries. users per second: 863.051</pre>"
            ]
          },
          "metadata": {}
        },
        {
          "output_type": "display_data",
          "data": {
            "text/plain": [
              "recommendations finished on 182000/305945 queries. users per second: 863.088"
            ],
            "text/html": [
              "<pre>recommendations finished on 182000/305945 queries. users per second: 863.088</pre>"
            ]
          },
          "metadata": {}
        },
        {
          "output_type": "display_data",
          "data": {
            "text/plain": [
              "recommendations finished on 183000/305945 queries. users per second: 863.166"
            ],
            "text/html": [
              "<pre>recommendations finished on 183000/305945 queries. users per second: 863.166</pre>"
            ]
          },
          "metadata": {}
        },
        {
          "output_type": "display_data",
          "data": {
            "text/plain": [
              "recommendations finished on 184000/305945 queries. users per second: 863.207"
            ],
            "text/html": [
              "<pre>recommendations finished on 184000/305945 queries. users per second: 863.207</pre>"
            ]
          },
          "metadata": {}
        },
        {
          "output_type": "display_data",
          "data": {
            "text/plain": [
              "recommendations finished on 185000/305945 queries. users per second: 863.171"
            ],
            "text/html": [
              "<pre>recommendations finished on 185000/305945 queries. users per second: 863.171</pre>"
            ]
          },
          "metadata": {}
        },
        {
          "output_type": "display_data",
          "data": {
            "text/plain": [
              "recommendations finished on 186000/305945 queries. users per second: 863.258"
            ],
            "text/html": [
              "<pre>recommendations finished on 186000/305945 queries. users per second: 863.258</pre>"
            ]
          },
          "metadata": {}
        },
        {
          "output_type": "display_data",
          "data": {
            "text/plain": [
              "recommendations finished on 187000/305945 queries. users per second: 863.32"
            ],
            "text/html": [
              "<pre>recommendations finished on 187000/305945 queries. users per second: 863.32</pre>"
            ]
          },
          "metadata": {}
        },
        {
          "output_type": "display_data",
          "data": {
            "text/plain": [
              "recommendations finished on 188000/305945 queries. users per second: 863.448"
            ],
            "text/html": [
              "<pre>recommendations finished on 188000/305945 queries. users per second: 863.448</pre>"
            ]
          },
          "metadata": {}
        },
        {
          "output_type": "display_data",
          "data": {
            "text/plain": [
              "recommendations finished on 189000/305945 queries. users per second: 863.632"
            ],
            "text/html": [
              "<pre>recommendations finished on 189000/305945 queries. users per second: 863.632</pre>"
            ]
          },
          "metadata": {}
        },
        {
          "output_type": "display_data",
          "data": {
            "text/plain": [
              "recommendations finished on 190000/305945 queries. users per second: 863.67"
            ],
            "text/html": [
              "<pre>recommendations finished on 190000/305945 queries. users per second: 863.67</pre>"
            ]
          },
          "metadata": {}
        },
        {
          "output_type": "display_data",
          "data": {
            "text/plain": [
              "recommendations finished on 191000/305945 queries. users per second: 863.752"
            ],
            "text/html": [
              "<pre>recommendations finished on 191000/305945 queries. users per second: 863.752</pre>"
            ]
          },
          "metadata": {}
        },
        {
          "output_type": "display_data",
          "data": {
            "text/plain": [
              "recommendations finished on 192000/305945 queries. users per second: 863.965"
            ],
            "text/html": [
              "<pre>recommendations finished on 192000/305945 queries. users per second: 863.965</pre>"
            ]
          },
          "metadata": {}
        },
        {
          "output_type": "display_data",
          "data": {
            "text/plain": [
              "recommendations finished on 193000/305945 queries. users per second: 864.01"
            ],
            "text/html": [
              "<pre>recommendations finished on 193000/305945 queries. users per second: 864.01</pre>"
            ]
          },
          "metadata": {}
        },
        {
          "output_type": "display_data",
          "data": {
            "text/plain": [
              "recommendations finished on 194000/305945 queries. users per second: 864.169"
            ],
            "text/html": [
              "<pre>recommendations finished on 194000/305945 queries. users per second: 864.169</pre>"
            ]
          },
          "metadata": {}
        },
        {
          "output_type": "display_data",
          "data": {
            "text/plain": [
              "recommendations finished on 195000/305945 queries. users per second: 864.151"
            ],
            "text/html": [
              "<pre>recommendations finished on 195000/305945 queries. users per second: 864.151</pre>"
            ]
          },
          "metadata": {}
        },
        {
          "output_type": "display_data",
          "data": {
            "text/plain": [
              "recommendations finished on 196000/305945 queries. users per second: 864.318"
            ],
            "text/html": [
              "<pre>recommendations finished on 196000/305945 queries. users per second: 864.318</pre>"
            ]
          },
          "metadata": {}
        },
        {
          "output_type": "display_data",
          "data": {
            "text/plain": [
              "recommendations finished on 197000/305945 queries. users per second: 864.5"
            ],
            "text/html": [
              "<pre>recommendations finished on 197000/305945 queries. users per second: 864.5</pre>"
            ]
          },
          "metadata": {}
        },
        {
          "output_type": "display_data",
          "data": {
            "text/plain": [
              "recommendations finished on 198000/305945 queries. users per second: 864.579"
            ],
            "text/html": [
              "<pre>recommendations finished on 198000/305945 queries. users per second: 864.579</pre>"
            ]
          },
          "metadata": {}
        },
        {
          "output_type": "display_data",
          "data": {
            "text/plain": [
              "recommendations finished on 199000/305945 queries. users per second: 864.517"
            ],
            "text/html": [
              "<pre>recommendations finished on 199000/305945 queries. users per second: 864.517</pre>"
            ]
          },
          "metadata": {}
        },
        {
          "output_type": "display_data",
          "data": {
            "text/plain": [
              "recommendations finished on 200000/305945 queries. users per second: 864.645"
            ],
            "text/html": [
              "<pre>recommendations finished on 200000/305945 queries. users per second: 864.645</pre>"
            ]
          },
          "metadata": {}
        },
        {
          "output_type": "display_data",
          "data": {
            "text/plain": [
              "recommendations finished on 201000/305945 queries. users per second: 864.659"
            ],
            "text/html": [
              "<pre>recommendations finished on 201000/305945 queries. users per second: 864.659</pre>"
            ]
          },
          "metadata": {}
        },
        {
          "output_type": "display_data",
          "data": {
            "text/plain": [
              "recommendations finished on 202000/305945 queries. users per second: 864.752"
            ],
            "text/html": [
              "<pre>recommendations finished on 202000/305945 queries. users per second: 864.752</pre>"
            ]
          },
          "metadata": {}
        },
        {
          "output_type": "display_data",
          "data": {
            "text/plain": [
              "recommendations finished on 203000/305945 queries. users per second: 864.821"
            ],
            "text/html": [
              "<pre>recommendations finished on 203000/305945 queries. users per second: 864.821</pre>"
            ]
          },
          "metadata": {}
        },
        {
          "output_type": "display_data",
          "data": {
            "text/plain": [
              "recommendations finished on 204000/305945 queries. users per second: 864.9"
            ],
            "text/html": [
              "<pre>recommendations finished on 204000/305945 queries. users per second: 864.9</pre>"
            ]
          },
          "metadata": {}
        },
        {
          "output_type": "display_data",
          "data": {
            "text/plain": [
              "recommendations finished on 205000/305945 queries. users per second: 865.015"
            ],
            "text/html": [
              "<pre>recommendations finished on 205000/305945 queries. users per second: 865.015</pre>"
            ]
          },
          "metadata": {}
        },
        {
          "output_type": "display_data",
          "data": {
            "text/plain": [
              "recommendations finished on 206000/305945 queries. users per second: 865.188"
            ],
            "text/html": [
              "<pre>recommendations finished on 206000/305945 queries. users per second: 865.188</pre>"
            ]
          },
          "metadata": {}
        },
        {
          "output_type": "display_data",
          "data": {
            "text/plain": [
              "recommendations finished on 207000/305945 queries. users per second: 865.316"
            ],
            "text/html": [
              "<pre>recommendations finished on 207000/305945 queries. users per second: 865.316</pre>"
            ]
          },
          "metadata": {}
        },
        {
          "output_type": "display_data",
          "data": {
            "text/plain": [
              "recommendations finished on 208000/305945 queries. users per second: 865.287"
            ],
            "text/html": [
              "<pre>recommendations finished on 208000/305945 queries. users per second: 865.287</pre>"
            ]
          },
          "metadata": {}
        },
        {
          "output_type": "display_data",
          "data": {
            "text/plain": [
              "recommendations finished on 209000/305945 queries. users per second: 865.318"
            ],
            "text/html": [
              "<pre>recommendations finished on 209000/305945 queries. users per second: 865.318</pre>"
            ]
          },
          "metadata": {}
        },
        {
          "output_type": "display_data",
          "data": {
            "text/plain": [
              "recommendations finished on 210000/305945 queries. users per second: 865.514"
            ],
            "text/html": [
              "<pre>recommendations finished on 210000/305945 queries. users per second: 865.514</pre>"
            ]
          },
          "metadata": {}
        },
        {
          "output_type": "display_data",
          "data": {
            "text/plain": [
              "recommendations finished on 211000/305945 queries. users per second: 865.695"
            ],
            "text/html": [
              "<pre>recommendations finished on 211000/305945 queries. users per second: 865.695</pre>"
            ]
          },
          "metadata": {}
        },
        {
          "output_type": "display_data",
          "data": {
            "text/plain": [
              "recommendations finished on 212000/305945 queries. users per second: 865.787"
            ],
            "text/html": [
              "<pre>recommendations finished on 212000/305945 queries. users per second: 865.787</pre>"
            ]
          },
          "metadata": {}
        },
        {
          "output_type": "display_data",
          "data": {
            "text/plain": [
              "recommendations finished on 213000/305945 queries. users per second: 865.894"
            ],
            "text/html": [
              "<pre>recommendations finished on 213000/305945 queries. users per second: 865.894</pre>"
            ]
          },
          "metadata": {}
        },
        {
          "output_type": "display_data",
          "data": {
            "text/plain": [
              "recommendations finished on 214000/305945 queries. users per second: 865.962"
            ],
            "text/html": [
              "<pre>recommendations finished on 214000/305945 queries. users per second: 865.962</pre>"
            ]
          },
          "metadata": {}
        },
        {
          "output_type": "display_data",
          "data": {
            "text/plain": [
              "recommendations finished on 215000/305945 queries. users per second: 866.138"
            ],
            "text/html": [
              "<pre>recommendations finished on 215000/305945 queries. users per second: 866.138</pre>"
            ]
          },
          "metadata": {}
        },
        {
          "output_type": "display_data",
          "data": {
            "text/plain": [
              "recommendations finished on 216000/305945 queries. users per second: 866.177"
            ],
            "text/html": [
              "<pre>recommendations finished on 216000/305945 queries. users per second: 866.177</pre>"
            ]
          },
          "metadata": {}
        },
        {
          "output_type": "display_data",
          "data": {
            "text/plain": [
              "recommendations finished on 217000/305945 queries. users per second: 866.234"
            ],
            "text/html": [
              "<pre>recommendations finished on 217000/305945 queries. users per second: 866.234</pre>"
            ]
          },
          "metadata": {}
        },
        {
          "output_type": "display_data",
          "data": {
            "text/plain": [
              "recommendations finished on 218000/305945 queries. users per second: 866.219"
            ],
            "text/html": [
              "<pre>recommendations finished on 218000/305945 queries. users per second: 866.219</pre>"
            ]
          },
          "metadata": {}
        },
        {
          "output_type": "display_data",
          "data": {
            "text/plain": [
              "recommendations finished on 219000/305945 queries. users per second: 866.311"
            ],
            "text/html": [
              "<pre>recommendations finished on 219000/305945 queries. users per second: 866.311</pre>"
            ]
          },
          "metadata": {}
        },
        {
          "output_type": "display_data",
          "data": {
            "text/plain": [
              "recommendations finished on 220000/305945 queries. users per second: 866.294"
            ],
            "text/html": [
              "<pre>recommendations finished on 220000/305945 queries. users per second: 866.294</pre>"
            ]
          },
          "metadata": {}
        },
        {
          "output_type": "display_data",
          "data": {
            "text/plain": [
              "recommendations finished on 221000/305945 queries. users per second: 866.451"
            ],
            "text/html": [
              "<pre>recommendations finished on 221000/305945 queries. users per second: 866.451</pre>"
            ]
          },
          "metadata": {}
        },
        {
          "output_type": "display_data",
          "data": {
            "text/plain": [
              "recommendations finished on 222000/305945 queries. users per second: 866.545"
            ],
            "text/html": [
              "<pre>recommendations finished on 222000/305945 queries. users per second: 866.545</pre>"
            ]
          },
          "metadata": {}
        },
        {
          "output_type": "display_data",
          "data": {
            "text/plain": [
              "recommendations finished on 223000/305945 queries. users per second: 866.549"
            ],
            "text/html": [
              "<pre>recommendations finished on 223000/305945 queries. users per second: 866.549</pre>"
            ]
          },
          "metadata": {}
        },
        {
          "output_type": "display_data",
          "data": {
            "text/plain": [
              "recommendations finished on 224000/305945 queries. users per second: 864.055"
            ],
            "text/html": [
              "<pre>recommendations finished on 224000/305945 queries. users per second: 864.055</pre>"
            ]
          },
          "metadata": {}
        },
        {
          "output_type": "display_data",
          "data": {
            "text/plain": [
              "recommendations finished on 225000/305945 queries. users per second: 861.592"
            ],
            "text/html": [
              "<pre>recommendations finished on 225000/305945 queries. users per second: 861.592</pre>"
            ]
          },
          "metadata": {}
        },
        {
          "output_type": "display_data",
          "data": {
            "text/plain": [
              "recommendations finished on 226000/305945 queries. users per second: 860.727"
            ],
            "text/html": [
              "<pre>recommendations finished on 226000/305945 queries. users per second: 860.727</pre>"
            ]
          },
          "metadata": {}
        },
        {
          "output_type": "display_data",
          "data": {
            "text/plain": [
              "recommendations finished on 227000/305945 queries. users per second: 860.72"
            ],
            "text/html": [
              "<pre>recommendations finished on 227000/305945 queries. users per second: 860.72</pre>"
            ]
          },
          "metadata": {}
        },
        {
          "output_type": "display_data",
          "data": {
            "text/plain": [
              "recommendations finished on 228000/305945 queries. users per second: 860.865"
            ],
            "text/html": [
              "<pre>recommendations finished on 228000/305945 queries. users per second: 860.865</pre>"
            ]
          },
          "metadata": {}
        },
        {
          "output_type": "display_data",
          "data": {
            "text/plain": [
              "recommendations finished on 229000/305945 queries. users per second: 860.965"
            ],
            "text/html": [
              "<pre>recommendations finished on 229000/305945 queries. users per second: 860.965</pre>"
            ]
          },
          "metadata": {}
        },
        {
          "output_type": "display_data",
          "data": {
            "text/plain": [
              "recommendations finished on 230000/305945 queries. users per second: 861.115"
            ],
            "text/html": [
              "<pre>recommendations finished on 230000/305945 queries. users per second: 861.115</pre>"
            ]
          },
          "metadata": {}
        },
        {
          "output_type": "display_data",
          "data": {
            "text/plain": [
              "recommendations finished on 231000/305945 queries. users per second: 861.259"
            ],
            "text/html": [
              "<pre>recommendations finished on 231000/305945 queries. users per second: 861.259</pre>"
            ]
          },
          "metadata": {}
        },
        {
          "output_type": "display_data",
          "data": {
            "text/plain": [
              "recommendations finished on 232000/305945 queries. users per second: 861.323"
            ],
            "text/html": [
              "<pre>recommendations finished on 232000/305945 queries. users per second: 861.323</pre>"
            ]
          },
          "metadata": {}
        },
        {
          "output_type": "display_data",
          "data": {
            "text/plain": [
              "recommendations finished on 233000/305945 queries. users per second: 861.4"
            ],
            "text/html": [
              "<pre>recommendations finished on 233000/305945 queries. users per second: 861.4</pre>"
            ]
          },
          "metadata": {}
        },
        {
          "output_type": "display_data",
          "data": {
            "text/plain": [
              "recommendations finished on 234000/305945 queries. users per second: 861.577"
            ],
            "text/html": [
              "<pre>recommendations finished on 234000/305945 queries. users per second: 861.577</pre>"
            ]
          },
          "metadata": {}
        },
        {
          "output_type": "display_data",
          "data": {
            "text/plain": [
              "recommendations finished on 235000/305945 queries. users per second: 861.701"
            ],
            "text/html": [
              "<pre>recommendations finished on 235000/305945 queries. users per second: 861.701</pre>"
            ]
          },
          "metadata": {}
        },
        {
          "output_type": "display_data",
          "data": {
            "text/plain": [
              "recommendations finished on 236000/305945 queries. users per second: 861.828"
            ],
            "text/html": [
              "<pre>recommendations finished on 236000/305945 queries. users per second: 861.828</pre>"
            ]
          },
          "metadata": {}
        },
        {
          "output_type": "display_data",
          "data": {
            "text/plain": [
              "recommendations finished on 237000/305945 queries. users per second: 861.963"
            ],
            "text/html": [
              "<pre>recommendations finished on 237000/305945 queries. users per second: 861.963</pre>"
            ]
          },
          "metadata": {}
        },
        {
          "output_type": "display_data",
          "data": {
            "text/plain": [
              "recommendations finished on 238000/305945 queries. users per second: 861.903"
            ],
            "text/html": [
              "<pre>recommendations finished on 238000/305945 queries. users per second: 861.903</pre>"
            ]
          },
          "metadata": {}
        },
        {
          "output_type": "display_data",
          "data": {
            "text/plain": [
              "recommendations finished on 239000/305945 queries. users per second: 861.989"
            ],
            "text/html": [
              "<pre>recommendations finished on 239000/305945 queries. users per second: 861.989</pre>"
            ]
          },
          "metadata": {}
        },
        {
          "output_type": "display_data",
          "data": {
            "text/plain": [
              "recommendations finished on 240000/305945 queries. users per second: 862.131"
            ],
            "text/html": [
              "<pre>recommendations finished on 240000/305945 queries. users per second: 862.131</pre>"
            ]
          },
          "metadata": {}
        },
        {
          "output_type": "display_data",
          "data": {
            "text/plain": [
              "recommendations finished on 241000/305945 queries. users per second: 862.133"
            ],
            "text/html": [
              "<pre>recommendations finished on 241000/305945 queries. users per second: 862.133</pre>"
            ]
          },
          "metadata": {}
        },
        {
          "output_type": "display_data",
          "data": {
            "text/plain": [
              "recommendations finished on 242000/305945 queries. users per second: 862.198"
            ],
            "text/html": [
              "<pre>recommendations finished on 242000/305945 queries. users per second: 862.198</pre>"
            ]
          },
          "metadata": {}
        },
        {
          "output_type": "display_data",
          "data": {
            "text/plain": [
              "recommendations finished on 243000/305945 queries. users per second: 862.253"
            ],
            "text/html": [
              "<pre>recommendations finished on 243000/305945 queries. users per second: 862.253</pre>"
            ]
          },
          "metadata": {}
        },
        {
          "output_type": "display_data",
          "data": {
            "text/plain": [
              "recommendations finished on 244000/305945 queries. users per second: 862.307"
            ],
            "text/html": [
              "<pre>recommendations finished on 244000/305945 queries. users per second: 862.307</pre>"
            ]
          },
          "metadata": {}
        },
        {
          "output_type": "display_data",
          "data": {
            "text/plain": [
              "recommendations finished on 245000/305945 queries. users per second: 862.35"
            ],
            "text/html": [
              "<pre>recommendations finished on 245000/305945 queries. users per second: 862.35</pre>"
            ]
          },
          "metadata": {}
        },
        {
          "output_type": "display_data",
          "data": {
            "text/plain": [
              "recommendations finished on 246000/305945 queries. users per second: 862.503"
            ],
            "text/html": [
              "<pre>recommendations finished on 246000/305945 queries. users per second: 862.503</pre>"
            ]
          },
          "metadata": {}
        },
        {
          "output_type": "display_data",
          "data": {
            "text/plain": [
              "recommendations finished on 247000/305945 queries. users per second: 862.539"
            ],
            "text/html": [
              "<pre>recommendations finished on 247000/305945 queries. users per second: 862.539</pre>"
            ]
          },
          "metadata": {}
        },
        {
          "output_type": "display_data",
          "data": {
            "text/plain": [
              "recommendations finished on 248000/305945 queries. users per second: 862.649"
            ],
            "text/html": [
              "<pre>recommendations finished on 248000/305945 queries. users per second: 862.649</pre>"
            ]
          },
          "metadata": {}
        },
        {
          "output_type": "display_data",
          "data": {
            "text/plain": [
              "recommendations finished on 249000/305945 queries. users per second: 862.713"
            ],
            "text/html": [
              "<pre>recommendations finished on 249000/305945 queries. users per second: 862.713</pre>"
            ]
          },
          "metadata": {}
        },
        {
          "output_type": "display_data",
          "data": {
            "text/plain": [
              "recommendations finished on 250000/305945 queries. users per second: 862.835"
            ],
            "text/html": [
              "<pre>recommendations finished on 250000/305945 queries. users per second: 862.835</pre>"
            ]
          },
          "metadata": {}
        },
        {
          "output_type": "display_data",
          "data": {
            "text/plain": [
              "recommendations finished on 251000/305945 queries. users per second: 862.91"
            ],
            "text/html": [
              "<pre>recommendations finished on 251000/305945 queries. users per second: 862.91</pre>"
            ]
          },
          "metadata": {}
        },
        {
          "output_type": "display_data",
          "data": {
            "text/plain": [
              "recommendations finished on 252000/305945 queries. users per second: 863.002"
            ],
            "text/html": [
              "<pre>recommendations finished on 252000/305945 queries. users per second: 863.002</pre>"
            ]
          },
          "metadata": {}
        },
        {
          "output_type": "display_data",
          "data": {
            "text/plain": [
              "recommendations finished on 253000/305945 queries. users per second: 863.139"
            ],
            "text/html": [
              "<pre>recommendations finished on 253000/305945 queries. users per second: 863.139</pre>"
            ]
          },
          "metadata": {}
        },
        {
          "output_type": "display_data",
          "data": {
            "text/plain": [
              "recommendations finished on 254000/305945 queries. users per second: 863.229"
            ],
            "text/html": [
              "<pre>recommendations finished on 254000/305945 queries. users per second: 863.229</pre>"
            ]
          },
          "metadata": {}
        },
        {
          "output_type": "display_data",
          "data": {
            "text/plain": [
              "recommendations finished on 255000/305945 queries. users per second: 863.37"
            ],
            "text/html": [
              "<pre>recommendations finished on 255000/305945 queries. users per second: 863.37</pre>"
            ]
          },
          "metadata": {}
        },
        {
          "output_type": "display_data",
          "data": {
            "text/plain": [
              "recommendations finished on 256000/305945 queries. users per second: 863.477"
            ],
            "text/html": [
              "<pre>recommendations finished on 256000/305945 queries. users per second: 863.477</pre>"
            ]
          },
          "metadata": {}
        },
        {
          "output_type": "display_data",
          "data": {
            "text/plain": [
              "recommendations finished on 257000/305945 queries. users per second: 863.675"
            ],
            "text/html": [
              "<pre>recommendations finished on 257000/305945 queries. users per second: 863.675</pre>"
            ]
          },
          "metadata": {}
        },
        {
          "output_type": "display_data",
          "data": {
            "text/plain": [
              "recommendations finished on 258000/305945 queries. users per second: 863.86"
            ],
            "text/html": [
              "<pre>recommendations finished on 258000/305945 queries. users per second: 863.86</pre>"
            ]
          },
          "metadata": {}
        },
        {
          "output_type": "display_data",
          "data": {
            "text/plain": [
              "recommendations finished on 259000/305945 queries. users per second: 863.954"
            ],
            "text/html": [
              "<pre>recommendations finished on 259000/305945 queries. users per second: 863.954</pre>"
            ]
          },
          "metadata": {}
        },
        {
          "output_type": "display_data",
          "data": {
            "text/plain": [
              "recommendations finished on 260000/305945 queries. users per second: 864.034"
            ],
            "text/html": [
              "<pre>recommendations finished on 260000/305945 queries. users per second: 864.034</pre>"
            ]
          },
          "metadata": {}
        },
        {
          "output_type": "display_data",
          "data": {
            "text/plain": [
              "recommendations finished on 261000/305945 queries. users per second: 863.955"
            ],
            "text/html": [
              "<pre>recommendations finished on 261000/305945 queries. users per second: 863.955</pre>"
            ]
          },
          "metadata": {}
        },
        {
          "output_type": "display_data",
          "data": {
            "text/plain": [
              "recommendations finished on 262000/305945 queries. users per second: 864.057"
            ],
            "text/html": [
              "<pre>recommendations finished on 262000/305945 queries. users per second: 864.057</pre>"
            ]
          },
          "metadata": {}
        },
        {
          "output_type": "display_data",
          "data": {
            "text/plain": [
              "recommendations finished on 263000/305945 queries. users per second: 864.207"
            ],
            "text/html": [
              "<pre>recommendations finished on 263000/305945 queries. users per second: 864.207</pre>"
            ]
          },
          "metadata": {}
        },
        {
          "output_type": "display_data",
          "data": {
            "text/plain": [
              "recommendations finished on 264000/305945 queries. users per second: 864.283"
            ],
            "text/html": [
              "<pre>recommendations finished on 264000/305945 queries. users per second: 864.283</pre>"
            ]
          },
          "metadata": {}
        },
        {
          "output_type": "display_data",
          "data": {
            "text/plain": [
              "recommendations finished on 265000/305945 queries. users per second: 864.319"
            ],
            "text/html": [
              "<pre>recommendations finished on 265000/305945 queries. users per second: 864.319</pre>"
            ]
          },
          "metadata": {}
        },
        {
          "output_type": "display_data",
          "data": {
            "text/plain": [
              "recommendations finished on 266000/305945 queries. users per second: 864.443"
            ],
            "text/html": [
              "<pre>recommendations finished on 266000/305945 queries. users per second: 864.443</pre>"
            ]
          },
          "metadata": {}
        },
        {
          "output_type": "display_data",
          "data": {
            "text/plain": [
              "recommendations finished on 267000/305945 queries. users per second: 864.533"
            ],
            "text/html": [
              "<pre>recommendations finished on 267000/305945 queries. users per second: 864.533</pre>"
            ]
          },
          "metadata": {}
        },
        {
          "output_type": "display_data",
          "data": {
            "text/plain": [
              "recommendations finished on 268000/305945 queries. users per second: 864.575"
            ],
            "text/html": [
              "<pre>recommendations finished on 268000/305945 queries. users per second: 864.575</pre>"
            ]
          },
          "metadata": {}
        },
        {
          "output_type": "display_data",
          "data": {
            "text/plain": [
              "recommendations finished on 269000/305945 queries. users per second: 864.622"
            ],
            "text/html": [
              "<pre>recommendations finished on 269000/305945 queries. users per second: 864.622</pre>"
            ]
          },
          "metadata": {}
        },
        {
          "output_type": "display_data",
          "data": {
            "text/plain": [
              "recommendations finished on 270000/305945 queries. users per second: 864.688"
            ],
            "text/html": [
              "<pre>recommendations finished on 270000/305945 queries. users per second: 864.688</pre>"
            ]
          },
          "metadata": {}
        },
        {
          "output_type": "display_data",
          "data": {
            "text/plain": [
              "recommendations finished on 271000/305945 queries. users per second: 864.779"
            ],
            "text/html": [
              "<pre>recommendations finished on 271000/305945 queries. users per second: 864.779</pre>"
            ]
          },
          "metadata": {}
        },
        {
          "output_type": "display_data",
          "data": {
            "text/plain": [
              "recommendations finished on 272000/305945 queries. users per second: 864.858"
            ],
            "text/html": [
              "<pre>recommendations finished on 272000/305945 queries. users per second: 864.858</pre>"
            ]
          },
          "metadata": {}
        },
        {
          "output_type": "display_data",
          "data": {
            "text/plain": [
              "recommendations finished on 273000/305945 queries. users per second: 864.876"
            ],
            "text/html": [
              "<pre>recommendations finished on 273000/305945 queries. users per second: 864.876</pre>"
            ]
          },
          "metadata": {}
        },
        {
          "output_type": "display_data",
          "data": {
            "text/plain": [
              "recommendations finished on 274000/305945 queries. users per second: 864.898"
            ],
            "text/html": [
              "<pre>recommendations finished on 274000/305945 queries. users per second: 864.898</pre>"
            ]
          },
          "metadata": {}
        },
        {
          "output_type": "display_data",
          "data": {
            "text/plain": [
              "recommendations finished on 275000/305945 queries. users per second: 865.026"
            ],
            "text/html": [
              "<pre>recommendations finished on 275000/305945 queries. users per second: 865.026</pre>"
            ]
          },
          "metadata": {}
        },
        {
          "output_type": "display_data",
          "data": {
            "text/plain": [
              "recommendations finished on 276000/305945 queries. users per second: 865.128"
            ],
            "text/html": [
              "<pre>recommendations finished on 276000/305945 queries. users per second: 865.128</pre>"
            ]
          },
          "metadata": {}
        },
        {
          "output_type": "display_data",
          "data": {
            "text/plain": [
              "recommendations finished on 277000/305945 queries. users per second: 865.154"
            ],
            "text/html": [
              "<pre>recommendations finished on 277000/305945 queries. users per second: 865.154</pre>"
            ]
          },
          "metadata": {}
        },
        {
          "output_type": "display_data",
          "data": {
            "text/plain": [
              "recommendations finished on 278000/305945 queries. users per second: 865.269"
            ],
            "text/html": [
              "<pre>recommendations finished on 278000/305945 queries. users per second: 865.269</pre>"
            ]
          },
          "metadata": {}
        },
        {
          "output_type": "display_data",
          "data": {
            "text/plain": [
              "recommendations finished on 279000/305945 queries. users per second: 865.395"
            ],
            "text/html": [
              "<pre>recommendations finished on 279000/305945 queries. users per second: 865.395</pre>"
            ]
          },
          "metadata": {}
        },
        {
          "output_type": "display_data",
          "data": {
            "text/plain": [
              "recommendations finished on 280000/305945 queries. users per second: 865.468"
            ],
            "text/html": [
              "<pre>recommendations finished on 280000/305945 queries. users per second: 865.468</pre>"
            ]
          },
          "metadata": {}
        },
        {
          "output_type": "display_data",
          "data": {
            "text/plain": [
              "recommendations finished on 281000/305945 queries. users per second: 865.553"
            ],
            "text/html": [
              "<pre>recommendations finished on 281000/305945 queries. users per second: 865.553</pre>"
            ]
          },
          "metadata": {}
        },
        {
          "output_type": "display_data",
          "data": {
            "text/plain": [
              "recommendations finished on 282000/305945 queries. users per second: 865.589"
            ],
            "text/html": [
              "<pre>recommendations finished on 282000/305945 queries. users per second: 865.589</pre>"
            ]
          },
          "metadata": {}
        },
        {
          "output_type": "display_data",
          "data": {
            "text/plain": [
              "recommendations finished on 283000/305945 queries. users per second: 865.693"
            ],
            "text/html": [
              "<pre>recommendations finished on 283000/305945 queries. users per second: 865.693</pre>"
            ]
          },
          "metadata": {}
        },
        {
          "output_type": "display_data",
          "data": {
            "text/plain": [
              "recommendations finished on 284000/305945 queries. users per second: 865.766"
            ],
            "text/html": [
              "<pre>recommendations finished on 284000/305945 queries. users per second: 865.766</pre>"
            ]
          },
          "metadata": {}
        },
        {
          "output_type": "display_data",
          "data": {
            "text/plain": [
              "recommendations finished on 285000/305945 queries. users per second: 865.729"
            ],
            "text/html": [
              "<pre>recommendations finished on 285000/305945 queries. users per second: 865.729</pre>"
            ]
          },
          "metadata": {}
        },
        {
          "output_type": "display_data",
          "data": {
            "text/plain": [
              "recommendations finished on 286000/305945 queries. users per second: 865.684"
            ],
            "text/html": [
              "<pre>recommendations finished on 286000/305945 queries. users per second: 865.684</pre>"
            ]
          },
          "metadata": {}
        },
        {
          "output_type": "display_data",
          "data": {
            "text/plain": [
              "recommendations finished on 287000/305945 queries. users per second: 865.752"
            ],
            "text/html": [
              "<pre>recommendations finished on 287000/305945 queries. users per second: 865.752</pre>"
            ]
          },
          "metadata": {}
        },
        {
          "output_type": "display_data",
          "data": {
            "text/plain": [
              "recommendations finished on 288000/305945 queries. users per second: 865.832"
            ],
            "text/html": [
              "<pre>recommendations finished on 288000/305945 queries. users per second: 865.832</pre>"
            ]
          },
          "metadata": {}
        },
        {
          "output_type": "display_data",
          "data": {
            "text/plain": [
              "recommendations finished on 289000/305945 queries. users per second: 865.812"
            ],
            "text/html": [
              "<pre>recommendations finished on 289000/305945 queries. users per second: 865.812</pre>"
            ]
          },
          "metadata": {}
        },
        {
          "output_type": "display_data",
          "data": {
            "text/plain": [
              "recommendations finished on 290000/305945 queries. users per second: 865.858"
            ],
            "text/html": [
              "<pre>recommendations finished on 290000/305945 queries. users per second: 865.858</pre>"
            ]
          },
          "metadata": {}
        },
        {
          "output_type": "display_data",
          "data": {
            "text/plain": [
              "recommendations finished on 291000/305945 queries. users per second: 865.92"
            ],
            "text/html": [
              "<pre>recommendations finished on 291000/305945 queries. users per second: 865.92</pre>"
            ]
          },
          "metadata": {}
        },
        {
          "output_type": "display_data",
          "data": {
            "text/plain": [
              "recommendations finished on 292000/305945 queries. users per second: 866.085"
            ],
            "text/html": [
              "<pre>recommendations finished on 292000/305945 queries. users per second: 866.085</pre>"
            ]
          },
          "metadata": {}
        },
        {
          "output_type": "display_data",
          "data": {
            "text/plain": [
              "recommendations finished on 293000/305945 queries. users per second: 866.169"
            ],
            "text/html": [
              "<pre>recommendations finished on 293000/305945 queries. users per second: 866.169</pre>"
            ]
          },
          "metadata": {}
        },
        {
          "output_type": "display_data",
          "data": {
            "text/plain": [
              "recommendations finished on 294000/305945 queries. users per second: 866.246"
            ],
            "text/html": [
              "<pre>recommendations finished on 294000/305945 queries. users per second: 866.246</pre>"
            ]
          },
          "metadata": {}
        },
        {
          "output_type": "display_data",
          "data": {
            "text/plain": [
              "recommendations finished on 295000/305945 queries. users per second: 866.271"
            ],
            "text/html": [
              "<pre>recommendations finished on 295000/305945 queries. users per second: 866.271</pre>"
            ]
          },
          "metadata": {}
        },
        {
          "output_type": "display_data",
          "data": {
            "text/plain": [
              "recommendations finished on 296000/305945 queries. users per second: 866.359"
            ],
            "text/html": [
              "<pre>recommendations finished on 296000/305945 queries. users per second: 866.359</pre>"
            ]
          },
          "metadata": {}
        },
        {
          "output_type": "display_data",
          "data": {
            "text/plain": [
              "recommendations finished on 297000/305945 queries. users per second: 866.491"
            ],
            "text/html": [
              "<pre>recommendations finished on 297000/305945 queries. users per second: 866.491</pre>"
            ]
          },
          "metadata": {}
        },
        {
          "output_type": "display_data",
          "data": {
            "text/plain": [
              "recommendations finished on 298000/305945 queries. users per second: 866.538"
            ],
            "text/html": [
              "<pre>recommendations finished on 298000/305945 queries. users per second: 866.538</pre>"
            ]
          },
          "metadata": {}
        },
        {
          "output_type": "display_data",
          "data": {
            "text/plain": [
              "recommendations finished on 299000/305945 queries. users per second: 866.586"
            ],
            "text/html": [
              "<pre>recommendations finished on 299000/305945 queries. users per second: 866.586</pre>"
            ]
          },
          "metadata": {}
        },
        {
          "output_type": "display_data",
          "data": {
            "text/plain": [
              "recommendations finished on 300000/305945 queries. users per second: 866.668"
            ],
            "text/html": [
              "<pre>recommendations finished on 300000/305945 queries. users per second: 866.668</pre>"
            ]
          },
          "metadata": {}
        },
        {
          "output_type": "display_data",
          "data": {
            "text/plain": [
              "recommendations finished on 301000/305945 queries. users per second: 866.759"
            ],
            "text/html": [
              "<pre>recommendations finished on 301000/305945 queries. users per second: 866.759</pre>"
            ]
          },
          "metadata": {}
        },
        {
          "output_type": "display_data",
          "data": {
            "text/plain": [
              "recommendations finished on 302000/305945 queries. users per second: 866.821"
            ],
            "text/html": [
              "<pre>recommendations finished on 302000/305945 queries. users per second: 866.821</pre>"
            ]
          },
          "metadata": {}
        },
        {
          "output_type": "display_data",
          "data": {
            "text/plain": [
              "recommendations finished on 303000/305945 queries. users per second: 866.884"
            ],
            "text/html": [
              "<pre>recommendations finished on 303000/305945 queries. users per second: 866.884</pre>"
            ]
          },
          "metadata": {}
        },
        {
          "output_type": "display_data",
          "data": {
            "text/plain": [
              "recommendations finished on 304000/305945 queries. users per second: 866.911"
            ],
            "text/html": [
              "<pre>recommendations finished on 304000/305945 queries. users per second: 866.911</pre>"
            ]
          },
          "metadata": {}
        },
        {
          "output_type": "display_data",
          "data": {
            "text/plain": [
              "recommendations finished on 305000/305945 queries. users per second: 866.922"
            ],
            "text/html": [
              "<pre>recommendations finished on 305000/305945 queries. users per second: 866.922</pre>"
            ]
          },
          "metadata": {}
        }
      ]
    },
    {
      "cell_type": "code",
      "source": [
        "# print the n first recommendations\n",
        "recommendation.print_rows(100)"
      ],
      "metadata": {
        "colab": {
          "base_uri": "https://localhost:8080/"
        },
        "id": "BB9ceIHRprOJ",
        "outputId": "a385ecfa-3d4b-4055-e13c-5ab1d1882193"
      },
      "execution_count": null,
      "outputs": [
        {
          "output_type": "stream",
          "name": "stdout",
          "text": [
            "+---------+---------+---------------------+------+\n",
            "| user_id | item_id |        score        | rank |\n",
            "+---------+---------+---------------------+------+\n",
            "|    0    |  19240  | 0.35698288679122925 |  1   |\n",
            "|    0    |   3921  |  0.3095870316028595 |  2   |\n",
            "|    0    |   3876  |  0.2810938358306885 |  3   |\n",
            "|    0    |   6153  | 0.22873052954673767 |  4   |\n",
            "|    0    |   1179  | 0.21884199976921082 |  5   |\n",
            "|    0    |   2350  | 0.20630986988544464 |  6   |\n",
            "|    0    |   6691  | 0.19016516208648682 |  7   |\n",
            "|    0    |   1744  | 0.16090434789657593 |  8   |\n",
            "|    0    |   7937  | 0.15766994655132294 |  9   |\n",
            "|    0    |   1125  | 0.15361566841602325 |  10  |\n",
            "|    0    |   7928  | 0.15068849921226501 |  11  |\n",
            "|    0    |   6079  | 0.13560670614242554 |  12  |\n",
            "|    1    |   896   |  0.2353052794933319 |  1   |\n",
            "|    1    |   3559  |  0.2041281759738922 |  2   |\n",
            "|    1    |   5371  | 0.18876758217811584 |  3   |\n",
            "|    1    |   3431  | 0.17464987933635712 |  4   |\n",
            "|    1    |   361   |  0.1396971344947815 |  5   |\n",
            "|    1    |   1127  | 0.11500201374292374 |  6   |\n",
            "|    1    |   8915  |  0.1145920529961586 |  7   |\n",
            "|    1    |   1125  | 0.10855940729379654 |  8   |\n",
            "|    1    |   1293  |  0.1084841936826706 |  9   |\n",
            "|    1    |   3691  | 0.10593197494745255 |  10  |\n",
            "|    1    |   4467  | 0.09895715862512589 |  11  |\n",
            "|    1    |   2433  | 0.09463860094547272 |  12  |\n",
            "|    2    |   1779  | 0.12206225842237473 |  1   |\n",
            "|    2    |   9976  |  0.1129414439201355 |  2   |\n",
            "|    2    |   5035  | 0.09633030742406845 |  3   |\n",
            "|    2    |   9332  | 0.08647596091032028 |  4   |\n",
            "|    2    |   1462  | 0.07868199050426483 |  5   |\n",
            "|    2    |   1968  | 0.07450259476900101 |  6   |\n",
            "|    2    |   3815  | 0.07360730320215225 |  7   |\n",
            "|    2    |  12515  | 0.07098530232906342 |  8   |\n",
            "|    2    |   174   | 0.06985746324062347 |  9   |\n",
            "|    2    |   1930  | 0.06899910420179367 |  10  |\n",
            "|    2    |  12162  |  0.0688633993268013 |  11  |\n",
            "|    2    |   3691  | 0.06764675676822662 |  12  |\n",
            "|    3    |   836   | 0.24058295786380768 |  1   |\n",
            "|    3    |   762   |  0.2362111508846283 |  2   |\n",
            "|    3    |   2712  |  0.2292376160621643 |  3   |\n",
            "|    3    |   2713  |  0.2041490375995636 |  4   |\n",
            "|    3    |   8184  | 0.17885655164718628 |  5   |\n",
            "|    3    |   2941  |  0.1543007493019104 |  6   |\n",
            "|    3    |   6414  | 0.14577357470989227 |  7   |\n",
            "|    3    |   3876  | 0.14012372493743896 |  8   |\n",
            "|    3    |   1117  |  0.1341417133808136 |  9   |\n",
            "|    3    |   1211  | 0.13397444784641266 |  10  |\n",
            "|    3    |   600   | 0.13008958101272583 |  11  |\n",
            "|    3    |   554   | 0.11591397225856781 |  12  |\n",
            "|    4    |   9704  | 0.30686241388320923 |  1   |\n",
            "|    4    |   1757  | 0.18582135438919067 |  2   |\n",
            "|    4    |   3725  | 0.13515086472034454 |  3   |\n",
            "|    4    |   5875  | 0.12767484784126282 |  4   |\n",
            "|    4    |   969   | 0.11879612505435944 |  5   |\n",
            "|    4    |  13667  | 0.11866089701652527 |  6   |\n",
            "|    4    |   1179  |  0.1157846599817276 |  7   |\n",
            "|    4    |   2120  | 0.11218460649251938 |  8   |\n",
            "|    4    |   2350  | 0.11101537942886353 |  9   |\n",
            "|    4    |   2007  | 0.10409960150718689 |  10  |\n",
            "|    4    |   1187  | 0.10220187902450562 |  11  |\n",
            "|    4    |   613   | 0.10017025470733643 |  12  |\n",
            "|    5    |   3431  |  0.2123647779226303 |  1   |\n",
            "|    5    |   554   | 0.12999507784843445 |  2   |\n",
            "|    5    |   1806  | 0.11691966652870178 |  3   |\n",
            "|    5    |   1187  |  0.1090298593044281 |  4   |\n",
            "|    5    |   286   | 0.10167474299669266 |  5   |\n",
            "|    5    |  13271  | 0.09575289487838745 |  6   |\n",
            "|    5    |   5371  | 0.08948931097984314 |  7   |\n",
            "|    5    |   5456  | 0.07659880816936493 |  8   |\n",
            "|    5    |  11860  |  0.0744687095284462 |  9   |\n",
            "|    5    |  22470  | 0.07252097129821777 |  10  |\n",
            "|    5    |   6825  | 0.07207901775836945 |  11  |\n",
            "|    5    |   3352  | 0.06758829206228256 |  12  |\n",
            "|    6    |   3559  |  0.4721381664276123 |  1   |\n",
            "|    6    |   361   |  0.3702249825000763 |  2   |\n",
            "|    6    |   429   |  0.3176714777946472 |  3   |\n",
            "|    6    |   497   | 0.30555111169815063 |  4   |\n",
            "|    6    |  11278  |  0.287710964679718  |  5   |\n",
            "|    6    |   509   | 0.24426211416721344 |  6   |\n",
            "|    6    |   999   | 0.22274300456047058 |  7   |\n",
            "|    6    |   969   |  0.2109735906124115 |  8   |\n",
            "|    6    |   3637  | 0.20565757155418396 |  9   |\n",
            "|    6    |   7951  | 0.18439799547195435 |  10  |\n",
            "|    6    |   851   | 0.17922434210777283 |  11  |\n",
            "|    6    |   867   |  0.1766829788684845 |  12  |\n",
            "|    7    |   6075  |  0.7149144411087036 |  1   |\n",
            "|    7    |    88   |  0.7133349180221558 |  2   |\n",
            "|    7    |   3501  |  0.684447705745697  |  3   |\n",
            "|    7    |   1374  |  0.6806724071502686 |  4   |\n",
            "|    7    |   1779  |  0.6006115078926086 |  5   |\n",
            "|    7    |   1441  |  0.5673649311065674 |  6   |\n",
            "|    7    |   3482  |  0.5603530406951904 |  7   |\n",
            "|    7    |   1127  |  0.557433545589447  |  8   |\n",
            "|    7    |   1776  |  0.5567293167114258 |  9   |\n",
            "|    7    |   6354  |  0.5351152420043945 |  10  |\n",
            "|    7    |   4173  |  0.532363772392273  |  11  |\n",
            "|    7    |   554   |  0.5130189657211304 |  12  |\n",
            "|    8    |   286   | 0.22845911979675293 |  1   |\n",
            "|    8    |   1374  |  0.2155235856771469 |  2   |\n",
            "|    8    |   462   | 0.19142234325408936 |  3   |\n",
            "|    8    |   939   |  0.1831125020980835 |  4   |\n",
            "+---------+---------+---------------------+------+\n",
            "[3671340 rows x 4 columns]\n",
            "\n"
          ]
        }
      ]
    },
    {
      "cell_type": "code",
      "source": [
        "mfa_eval = mf_als.evaluate_precision_recall(df_test)"
      ],
      "metadata": {
        "id": "S6mguVhcpsF3",
        "colab": {
          "base_uri": "https://localhost:8080/",
          "height": 1000
        },
        "outputId": "87c17515-3a09-4dd2-dd71-89fa7fea906b"
      },
      "execution_count": null,
      "outputs": [
        {
          "output_type": "display_data",
          "data": {
            "text/plain": [
              "recommendations finished on 1000/89981 queries. users per second: 681.044"
            ],
            "text/html": [
              "<pre>recommendations finished on 1000/89981 queries. users per second: 681.044</pre>"
            ]
          },
          "metadata": {}
        },
        {
          "output_type": "display_data",
          "data": {
            "text/plain": [
              "recommendations finished on 2000/89981 queries. users per second: 683.848"
            ],
            "text/html": [
              "<pre>recommendations finished on 2000/89981 queries. users per second: 683.848</pre>"
            ]
          },
          "metadata": {}
        },
        {
          "output_type": "display_data",
          "data": {
            "text/plain": [
              "recommendations finished on 3000/89981 queries. users per second: 687.323"
            ],
            "text/html": [
              "<pre>recommendations finished on 3000/89981 queries. users per second: 687.323</pre>"
            ]
          },
          "metadata": {}
        },
        {
          "output_type": "display_data",
          "data": {
            "text/plain": [
              "recommendations finished on 4000/89981 queries. users per second: 688.821"
            ],
            "text/html": [
              "<pre>recommendations finished on 4000/89981 queries. users per second: 688.821</pre>"
            ]
          },
          "metadata": {}
        },
        {
          "output_type": "display_data",
          "data": {
            "text/plain": [
              "recommendations finished on 5000/89981 queries. users per second: 690.32"
            ],
            "text/html": [
              "<pre>recommendations finished on 5000/89981 queries. users per second: 690.32</pre>"
            ]
          },
          "metadata": {}
        },
        {
          "output_type": "display_data",
          "data": {
            "text/plain": [
              "recommendations finished on 6000/89981 queries. users per second: 692.286"
            ],
            "text/html": [
              "<pre>recommendations finished on 6000/89981 queries. users per second: 692.286</pre>"
            ]
          },
          "metadata": {}
        },
        {
          "output_type": "display_data",
          "data": {
            "text/plain": [
              "recommendations finished on 7000/89981 queries. users per second: 695.08"
            ],
            "text/html": [
              "<pre>recommendations finished on 7000/89981 queries. users per second: 695.08</pre>"
            ]
          },
          "metadata": {}
        },
        {
          "output_type": "display_data",
          "data": {
            "text/plain": [
              "recommendations finished on 8000/89981 queries. users per second: 696.244"
            ],
            "text/html": [
              "<pre>recommendations finished on 8000/89981 queries. users per second: 696.244</pre>"
            ]
          },
          "metadata": {}
        },
        {
          "output_type": "display_data",
          "data": {
            "text/plain": [
              "recommendations finished on 9000/89981 queries. users per second: 698.177"
            ],
            "text/html": [
              "<pre>recommendations finished on 9000/89981 queries. users per second: 698.177</pre>"
            ]
          },
          "metadata": {}
        },
        {
          "output_type": "display_data",
          "data": {
            "text/plain": [
              "recommendations finished on 10000/89981 queries. users per second: 699.95"
            ],
            "text/html": [
              "<pre>recommendations finished on 10000/89981 queries. users per second: 699.95</pre>"
            ]
          },
          "metadata": {}
        },
        {
          "output_type": "display_data",
          "data": {
            "text/plain": [
              "recommendations finished on 11000/89981 queries. users per second: 701.081"
            ],
            "text/html": [
              "<pre>recommendations finished on 11000/89981 queries. users per second: 701.081</pre>"
            ]
          },
          "metadata": {}
        },
        {
          "output_type": "display_data",
          "data": {
            "text/plain": [
              "recommendations finished on 12000/89981 queries. users per second: 702.107"
            ],
            "text/html": [
              "<pre>recommendations finished on 12000/89981 queries. users per second: 702.107</pre>"
            ]
          },
          "metadata": {}
        },
        {
          "output_type": "display_data",
          "data": {
            "text/plain": [
              "recommendations finished on 13000/89981 queries. users per second: 702.413"
            ],
            "text/html": [
              "<pre>recommendations finished on 13000/89981 queries. users per second: 702.413</pre>"
            ]
          },
          "metadata": {}
        },
        {
          "output_type": "display_data",
          "data": {
            "text/plain": [
              "recommendations finished on 14000/89981 queries. users per second: 702.88"
            ],
            "text/html": [
              "<pre>recommendations finished on 14000/89981 queries. users per second: 702.88</pre>"
            ]
          },
          "metadata": {}
        },
        {
          "output_type": "display_data",
          "data": {
            "text/plain": [
              "recommendations finished on 15000/89981 queries. users per second: 702.982"
            ],
            "text/html": [
              "<pre>recommendations finished on 15000/89981 queries. users per second: 702.982</pre>"
            ]
          },
          "metadata": {}
        },
        {
          "output_type": "display_data",
          "data": {
            "text/plain": [
              "recommendations finished on 16000/89981 queries. users per second: 702.121"
            ],
            "text/html": [
              "<pre>recommendations finished on 16000/89981 queries. users per second: 702.121</pre>"
            ]
          },
          "metadata": {}
        },
        {
          "output_type": "display_data",
          "data": {
            "text/plain": [
              "recommendations finished on 17000/89981 queries. users per second: 702.358"
            ],
            "text/html": [
              "<pre>recommendations finished on 17000/89981 queries. users per second: 702.358</pre>"
            ]
          },
          "metadata": {}
        },
        {
          "output_type": "display_data",
          "data": {
            "text/plain": [
              "recommendations finished on 18000/89981 queries. users per second: 701.651"
            ],
            "text/html": [
              "<pre>recommendations finished on 18000/89981 queries. users per second: 701.651</pre>"
            ]
          },
          "metadata": {}
        },
        {
          "output_type": "display_data",
          "data": {
            "text/plain": [
              "recommendations finished on 19000/89981 queries. users per second: 702.41"
            ],
            "text/html": [
              "<pre>recommendations finished on 19000/89981 queries. users per second: 702.41</pre>"
            ]
          },
          "metadata": {}
        },
        {
          "output_type": "display_data",
          "data": {
            "text/plain": [
              "recommendations finished on 20000/89981 queries. users per second: 702.193"
            ],
            "text/html": [
              "<pre>recommendations finished on 20000/89981 queries. users per second: 702.193</pre>"
            ]
          },
          "metadata": {}
        },
        {
          "output_type": "display_data",
          "data": {
            "text/plain": [
              "recommendations finished on 21000/89981 queries. users per second: 702.262"
            ],
            "text/html": [
              "<pre>recommendations finished on 21000/89981 queries. users per second: 702.262</pre>"
            ]
          },
          "metadata": {}
        },
        {
          "output_type": "display_data",
          "data": {
            "text/plain": [
              "recommendations finished on 22000/89981 queries. users per second: 703.151"
            ],
            "text/html": [
              "<pre>recommendations finished on 22000/89981 queries. users per second: 703.151</pre>"
            ]
          },
          "metadata": {}
        },
        {
          "output_type": "display_data",
          "data": {
            "text/plain": [
              "recommendations finished on 23000/89981 queries. users per second: 703.377"
            ],
            "text/html": [
              "<pre>recommendations finished on 23000/89981 queries. users per second: 703.377</pre>"
            ]
          },
          "metadata": {}
        },
        {
          "output_type": "display_data",
          "data": {
            "text/plain": [
              "recommendations finished on 24000/89981 queries. users per second: 703.918"
            ],
            "text/html": [
              "<pre>recommendations finished on 24000/89981 queries. users per second: 703.918</pre>"
            ]
          },
          "metadata": {}
        },
        {
          "output_type": "display_data",
          "data": {
            "text/plain": [
              "recommendations finished on 25000/89981 queries. users per second: 704.564"
            ],
            "text/html": [
              "<pre>recommendations finished on 25000/89981 queries. users per second: 704.564</pre>"
            ]
          },
          "metadata": {}
        },
        {
          "output_type": "display_data",
          "data": {
            "text/plain": [
              "recommendations finished on 26000/89981 queries. users per second: 705.565"
            ],
            "text/html": [
              "<pre>recommendations finished on 26000/89981 queries. users per second: 705.565</pre>"
            ]
          },
          "metadata": {}
        },
        {
          "output_type": "display_data",
          "data": {
            "text/plain": [
              "recommendations finished on 27000/89981 queries. users per second: 705.671"
            ],
            "text/html": [
              "<pre>recommendations finished on 27000/89981 queries. users per second: 705.671</pre>"
            ]
          },
          "metadata": {}
        },
        {
          "output_type": "display_data",
          "data": {
            "text/plain": [
              "recommendations finished on 28000/89981 queries. users per second: 706.605"
            ],
            "text/html": [
              "<pre>recommendations finished on 28000/89981 queries. users per second: 706.605</pre>"
            ]
          },
          "metadata": {}
        },
        {
          "output_type": "display_data",
          "data": {
            "text/plain": [
              "recommendations finished on 29000/89981 queries. users per second: 707.419"
            ],
            "text/html": [
              "<pre>recommendations finished on 29000/89981 queries. users per second: 707.419</pre>"
            ]
          },
          "metadata": {}
        },
        {
          "output_type": "display_data",
          "data": {
            "text/plain": [
              "recommendations finished on 30000/89981 queries. users per second: 708.087"
            ],
            "text/html": [
              "<pre>recommendations finished on 30000/89981 queries. users per second: 708.087</pre>"
            ]
          },
          "metadata": {}
        },
        {
          "output_type": "display_data",
          "data": {
            "text/plain": [
              "recommendations finished on 31000/89981 queries. users per second: 708.72"
            ],
            "text/html": [
              "<pre>recommendations finished on 31000/89981 queries. users per second: 708.72</pre>"
            ]
          },
          "metadata": {}
        },
        {
          "output_type": "display_data",
          "data": {
            "text/plain": [
              "recommendations finished on 32000/89981 queries. users per second: 708.576"
            ],
            "text/html": [
              "<pre>recommendations finished on 32000/89981 queries. users per second: 708.576</pre>"
            ]
          },
          "metadata": {}
        },
        {
          "output_type": "display_data",
          "data": {
            "text/plain": [
              "recommendations finished on 33000/89981 queries. users per second: 708.529"
            ],
            "text/html": [
              "<pre>recommendations finished on 33000/89981 queries. users per second: 708.529</pre>"
            ]
          },
          "metadata": {}
        },
        {
          "output_type": "display_data",
          "data": {
            "text/plain": [
              "recommendations finished on 34000/89981 queries. users per second: 708.768"
            ],
            "text/html": [
              "<pre>recommendations finished on 34000/89981 queries. users per second: 708.768</pre>"
            ]
          },
          "metadata": {}
        },
        {
          "output_type": "display_data",
          "data": {
            "text/plain": [
              "recommendations finished on 35000/89981 queries. users per second: 708.725"
            ],
            "text/html": [
              "<pre>recommendations finished on 35000/89981 queries. users per second: 708.725</pre>"
            ]
          },
          "metadata": {}
        },
        {
          "output_type": "display_data",
          "data": {
            "text/plain": [
              "recommendations finished on 36000/89981 queries. users per second: 709.311"
            ],
            "text/html": [
              "<pre>recommendations finished on 36000/89981 queries. users per second: 709.311</pre>"
            ]
          },
          "metadata": {}
        },
        {
          "output_type": "display_data",
          "data": {
            "text/plain": [
              "recommendations finished on 37000/89981 queries. users per second: 709.543"
            ],
            "text/html": [
              "<pre>recommendations finished on 37000/89981 queries. users per second: 709.543</pre>"
            ]
          },
          "metadata": {}
        },
        {
          "output_type": "display_data",
          "data": {
            "text/plain": [
              "recommendations finished on 38000/89981 queries. users per second: 709.627"
            ],
            "text/html": [
              "<pre>recommendations finished on 38000/89981 queries. users per second: 709.627</pre>"
            ]
          },
          "metadata": {}
        },
        {
          "output_type": "display_data",
          "data": {
            "text/plain": [
              "recommendations finished on 39000/89981 queries. users per second: 710.341"
            ],
            "text/html": [
              "<pre>recommendations finished on 39000/89981 queries. users per second: 710.341</pre>"
            ]
          },
          "metadata": {}
        },
        {
          "output_type": "display_data",
          "data": {
            "text/plain": [
              "recommendations finished on 40000/89981 queries. users per second: 711.119"
            ],
            "text/html": [
              "<pre>recommendations finished on 40000/89981 queries. users per second: 711.119</pre>"
            ]
          },
          "metadata": {}
        },
        {
          "output_type": "display_data",
          "data": {
            "text/plain": [
              "recommendations finished on 41000/89981 queries. users per second: 711.202"
            ],
            "text/html": [
              "<pre>recommendations finished on 41000/89981 queries. users per second: 711.202</pre>"
            ]
          },
          "metadata": {}
        },
        {
          "output_type": "display_data",
          "data": {
            "text/plain": [
              "recommendations finished on 42000/89981 queries. users per second: 711.236"
            ],
            "text/html": [
              "<pre>recommendations finished on 42000/89981 queries. users per second: 711.236</pre>"
            ]
          },
          "metadata": {}
        },
        {
          "output_type": "display_data",
          "data": {
            "text/plain": [
              "recommendations finished on 43000/89981 queries. users per second: 711.367"
            ],
            "text/html": [
              "<pre>recommendations finished on 43000/89981 queries. users per second: 711.367</pre>"
            ]
          },
          "metadata": {}
        },
        {
          "output_type": "display_data",
          "data": {
            "text/plain": [
              "recommendations finished on 44000/89981 queries. users per second: 711.146"
            ],
            "text/html": [
              "<pre>recommendations finished on 44000/89981 queries. users per second: 711.146</pre>"
            ]
          },
          "metadata": {}
        },
        {
          "output_type": "display_data",
          "data": {
            "text/plain": [
              "recommendations finished on 45000/89981 queries. users per second: 711.406"
            ],
            "text/html": [
              "<pre>recommendations finished on 45000/89981 queries. users per second: 711.406</pre>"
            ]
          },
          "metadata": {}
        },
        {
          "output_type": "display_data",
          "data": {
            "text/plain": [
              "recommendations finished on 46000/89981 queries. users per second: 711.78"
            ],
            "text/html": [
              "<pre>recommendations finished on 46000/89981 queries. users per second: 711.78</pre>"
            ]
          },
          "metadata": {}
        },
        {
          "output_type": "display_data",
          "data": {
            "text/plain": [
              "recommendations finished on 47000/89981 queries. users per second: 711.69"
            ],
            "text/html": [
              "<pre>recommendations finished on 47000/89981 queries. users per second: 711.69</pre>"
            ]
          },
          "metadata": {}
        },
        {
          "output_type": "display_data",
          "data": {
            "text/plain": [
              "recommendations finished on 48000/89981 queries. users per second: 711.723"
            ],
            "text/html": [
              "<pre>recommendations finished on 48000/89981 queries. users per second: 711.723</pre>"
            ]
          },
          "metadata": {}
        },
        {
          "output_type": "display_data",
          "data": {
            "text/plain": [
              "recommendations finished on 49000/89981 queries. users per second: 711.239"
            ],
            "text/html": [
              "<pre>recommendations finished on 49000/89981 queries. users per second: 711.239</pre>"
            ]
          },
          "metadata": {}
        },
        {
          "output_type": "display_data",
          "data": {
            "text/plain": [
              "recommendations finished on 50000/89981 queries. users per second: 711.327"
            ],
            "text/html": [
              "<pre>recommendations finished on 50000/89981 queries. users per second: 711.327</pre>"
            ]
          },
          "metadata": {}
        },
        {
          "output_type": "display_data",
          "data": {
            "text/plain": [
              "recommendations finished on 51000/89981 queries. users per second: 711.39"
            ],
            "text/html": [
              "<pre>recommendations finished on 51000/89981 queries. users per second: 711.39</pre>"
            ]
          },
          "metadata": {}
        },
        {
          "output_type": "display_data",
          "data": {
            "text/plain": [
              "recommendations finished on 52000/89981 queries. users per second: 711.292"
            ],
            "text/html": [
              "<pre>recommendations finished on 52000/89981 queries. users per second: 711.292</pre>"
            ]
          },
          "metadata": {}
        },
        {
          "output_type": "display_data",
          "data": {
            "text/plain": [
              "recommendations finished on 53000/89981 queries. users per second: 711.417"
            ],
            "text/html": [
              "<pre>recommendations finished on 53000/89981 queries. users per second: 711.417</pre>"
            ]
          },
          "metadata": {}
        },
        {
          "output_type": "display_data",
          "data": {
            "text/plain": [
              "recommendations finished on 54000/89981 queries. users per second: 711.355"
            ],
            "text/html": [
              "<pre>recommendations finished on 54000/89981 queries. users per second: 711.355</pre>"
            ]
          },
          "metadata": {}
        },
        {
          "output_type": "display_data",
          "data": {
            "text/plain": [
              "recommendations finished on 55000/89981 queries. users per second: 711.245"
            ],
            "text/html": [
              "<pre>recommendations finished on 55000/89981 queries. users per second: 711.245</pre>"
            ]
          },
          "metadata": {}
        },
        {
          "output_type": "display_data",
          "data": {
            "text/plain": [
              "recommendations finished on 56000/89981 queries. users per second: 711.134"
            ],
            "text/html": [
              "<pre>recommendations finished on 56000/89981 queries. users per second: 711.134</pre>"
            ]
          },
          "metadata": {}
        },
        {
          "output_type": "display_data",
          "data": {
            "text/plain": [
              "recommendations finished on 57000/89981 queries. users per second: 711.075"
            ],
            "text/html": [
              "<pre>recommendations finished on 57000/89981 queries. users per second: 711.075</pre>"
            ]
          },
          "metadata": {}
        },
        {
          "output_type": "display_data",
          "data": {
            "text/plain": [
              "recommendations finished on 58000/89981 queries. users per second: 711.416"
            ],
            "text/html": [
              "<pre>recommendations finished on 58000/89981 queries. users per second: 711.416</pre>"
            ]
          },
          "metadata": {}
        },
        {
          "output_type": "display_data",
          "data": {
            "text/plain": [
              "recommendations finished on 59000/89981 queries. users per second: 711.279"
            ],
            "text/html": [
              "<pre>recommendations finished on 59000/89981 queries. users per second: 711.279</pre>"
            ]
          },
          "metadata": {}
        },
        {
          "output_type": "display_data",
          "data": {
            "text/plain": [
              "recommendations finished on 60000/89981 queries. users per second: 711.191"
            ],
            "text/html": [
              "<pre>recommendations finished on 60000/89981 queries. users per second: 711.191</pre>"
            ]
          },
          "metadata": {}
        },
        {
          "output_type": "display_data",
          "data": {
            "text/plain": [
              "recommendations finished on 61000/89981 queries. users per second: 711.437"
            ],
            "text/html": [
              "<pre>recommendations finished on 61000/89981 queries. users per second: 711.437</pre>"
            ]
          },
          "metadata": {}
        },
        {
          "output_type": "display_data",
          "data": {
            "text/plain": [
              "recommendations finished on 62000/89981 queries. users per second: 711.258"
            ],
            "text/html": [
              "<pre>recommendations finished on 62000/89981 queries. users per second: 711.258</pre>"
            ]
          },
          "metadata": {}
        },
        {
          "output_type": "display_data",
          "data": {
            "text/plain": [
              "recommendations finished on 63000/89981 queries. users per second: 711.161"
            ],
            "text/html": [
              "<pre>recommendations finished on 63000/89981 queries. users per second: 711.161</pre>"
            ]
          },
          "metadata": {}
        },
        {
          "output_type": "display_data",
          "data": {
            "text/plain": [
              "recommendations finished on 64000/89981 queries. users per second: 711.24"
            ],
            "text/html": [
              "<pre>recommendations finished on 64000/89981 queries. users per second: 711.24</pre>"
            ]
          },
          "metadata": {}
        },
        {
          "output_type": "display_data",
          "data": {
            "text/plain": [
              "recommendations finished on 65000/89981 queries. users per second: 711.275"
            ],
            "text/html": [
              "<pre>recommendations finished on 65000/89981 queries. users per second: 711.275</pre>"
            ]
          },
          "metadata": {}
        },
        {
          "output_type": "display_data",
          "data": {
            "text/plain": [
              "recommendations finished on 66000/89981 queries. users per second: 711.145"
            ],
            "text/html": [
              "<pre>recommendations finished on 66000/89981 queries. users per second: 711.145</pre>"
            ]
          },
          "metadata": {}
        },
        {
          "output_type": "display_data",
          "data": {
            "text/plain": [
              "recommendations finished on 67000/89981 queries. users per second: 711.475"
            ],
            "text/html": [
              "<pre>recommendations finished on 67000/89981 queries. users per second: 711.475</pre>"
            ]
          },
          "metadata": {}
        },
        {
          "output_type": "display_data",
          "data": {
            "text/plain": [
              "recommendations finished on 68000/89981 queries. users per second: 711.684"
            ],
            "text/html": [
              "<pre>recommendations finished on 68000/89981 queries. users per second: 711.684</pre>"
            ]
          },
          "metadata": {}
        },
        {
          "output_type": "display_data",
          "data": {
            "text/plain": [
              "recommendations finished on 69000/89981 queries. users per second: 711.594"
            ],
            "text/html": [
              "<pre>recommendations finished on 69000/89981 queries. users per second: 711.594</pre>"
            ]
          },
          "metadata": {}
        },
        {
          "output_type": "display_data",
          "data": {
            "text/plain": [
              "recommendations finished on 70000/89981 queries. users per second: 711.7"
            ],
            "text/html": [
              "<pre>recommendations finished on 70000/89981 queries. users per second: 711.7</pre>"
            ]
          },
          "metadata": {}
        },
        {
          "output_type": "display_data",
          "data": {
            "text/plain": [
              "recommendations finished on 71000/89981 queries. users per second: 711.779"
            ],
            "text/html": [
              "<pre>recommendations finished on 71000/89981 queries. users per second: 711.779</pre>"
            ]
          },
          "metadata": {}
        },
        {
          "output_type": "display_data",
          "data": {
            "text/plain": [
              "recommendations finished on 72000/89981 queries. users per second: 711.993"
            ],
            "text/html": [
              "<pre>recommendations finished on 72000/89981 queries. users per second: 711.993</pre>"
            ]
          },
          "metadata": {}
        },
        {
          "output_type": "display_data",
          "data": {
            "text/plain": [
              "recommendations finished on 73000/89981 queries. users per second: 712.139"
            ],
            "text/html": [
              "<pre>recommendations finished on 73000/89981 queries. users per second: 712.139</pre>"
            ]
          },
          "metadata": {}
        },
        {
          "output_type": "display_data",
          "data": {
            "text/plain": [
              "recommendations finished on 74000/89981 queries. users per second: 712.34"
            ],
            "text/html": [
              "<pre>recommendations finished on 74000/89981 queries. users per second: 712.34</pre>"
            ]
          },
          "metadata": {}
        },
        {
          "output_type": "display_data",
          "data": {
            "text/plain": [
              "recommendations finished on 75000/89981 queries. users per second: 712.403"
            ],
            "text/html": [
              "<pre>recommendations finished on 75000/89981 queries. users per second: 712.403</pre>"
            ]
          },
          "metadata": {}
        },
        {
          "output_type": "display_data",
          "data": {
            "text/plain": [
              "recommendations finished on 76000/89981 queries. users per second: 712.511"
            ],
            "text/html": [
              "<pre>recommendations finished on 76000/89981 queries. users per second: 712.511</pre>"
            ]
          },
          "metadata": {}
        },
        {
          "output_type": "display_data",
          "data": {
            "text/plain": [
              "recommendations finished on 77000/89981 queries. users per second: 712.173"
            ],
            "text/html": [
              "<pre>recommendations finished on 77000/89981 queries. users per second: 712.173</pre>"
            ]
          },
          "metadata": {}
        },
        {
          "output_type": "display_data",
          "data": {
            "text/plain": [
              "recommendations finished on 78000/89981 queries. users per second: 705.168"
            ],
            "text/html": [
              "<pre>recommendations finished on 78000/89981 queries. users per second: 705.168</pre>"
            ]
          },
          "metadata": {}
        },
        {
          "output_type": "display_data",
          "data": {
            "text/plain": [
              "recommendations finished on 79000/89981 queries. users per second: 700.981"
            ],
            "text/html": [
              "<pre>recommendations finished on 79000/89981 queries. users per second: 700.981</pre>"
            ]
          },
          "metadata": {}
        },
        {
          "output_type": "display_data",
          "data": {
            "text/plain": [
              "recommendations finished on 80000/89981 queries. users per second: 700.873"
            ],
            "text/html": [
              "<pre>recommendations finished on 80000/89981 queries. users per second: 700.873</pre>"
            ]
          },
          "metadata": {}
        },
        {
          "output_type": "display_data",
          "data": {
            "text/plain": [
              "recommendations finished on 81000/89981 queries. users per second: 701.157"
            ],
            "text/html": [
              "<pre>recommendations finished on 81000/89981 queries. users per second: 701.157</pre>"
            ]
          },
          "metadata": {}
        },
        {
          "output_type": "display_data",
          "data": {
            "text/plain": [
              "recommendations finished on 82000/89981 queries. users per second: 701.328"
            ],
            "text/html": [
              "<pre>recommendations finished on 82000/89981 queries. users per second: 701.328</pre>"
            ]
          },
          "metadata": {}
        },
        {
          "output_type": "display_data",
          "data": {
            "text/plain": [
              "recommendations finished on 83000/89981 queries. users per second: 701.259"
            ],
            "text/html": [
              "<pre>recommendations finished on 83000/89981 queries. users per second: 701.259</pre>"
            ]
          },
          "metadata": {}
        },
        {
          "output_type": "display_data",
          "data": {
            "text/plain": [
              "recommendations finished on 84000/89981 queries. users per second: 701.3"
            ],
            "text/html": [
              "<pre>recommendations finished on 84000/89981 queries. users per second: 701.3</pre>"
            ]
          },
          "metadata": {}
        },
        {
          "output_type": "display_data",
          "data": {
            "text/plain": [
              "recommendations finished on 85000/89981 queries. users per second: 701.515"
            ],
            "text/html": [
              "<pre>recommendations finished on 85000/89981 queries. users per second: 701.515</pre>"
            ]
          },
          "metadata": {}
        },
        {
          "output_type": "display_data",
          "data": {
            "text/plain": [
              "recommendations finished on 86000/89981 queries. users per second: 701.62"
            ],
            "text/html": [
              "<pre>recommendations finished on 86000/89981 queries. users per second: 701.62</pre>"
            ]
          },
          "metadata": {}
        },
        {
          "output_type": "display_data",
          "data": {
            "text/plain": [
              "recommendations finished on 87000/89981 queries. users per second: 701.806"
            ],
            "text/html": [
              "<pre>recommendations finished on 87000/89981 queries. users per second: 701.806</pre>"
            ]
          },
          "metadata": {}
        },
        {
          "output_type": "display_data",
          "data": {
            "text/plain": [
              "recommendations finished on 88000/89981 queries. users per second: 701.883"
            ],
            "text/html": [
              "<pre>recommendations finished on 88000/89981 queries. users per second: 701.883</pre>"
            ]
          },
          "metadata": {}
        },
        {
          "output_type": "display_data",
          "data": {
            "text/plain": [
              "recommendations finished on 89000/89981 queries. users per second: 701.97"
            ],
            "text/html": [
              "<pre>recommendations finished on 89000/89981 queries. users per second: 701.97</pre>"
            ]
          },
          "metadata": {}
        }
      ]
    },
    {
      "cell_type": "code",
      "source": [
        "mfa_eval"
      ],
      "metadata": {
        "colab": {
          "base_uri": "https://localhost:8080/"
        },
        "id": "gYOb6Qllp-2A",
        "outputId": "341a0374-288b-47ae-f187-e3db487b24a8"
      },
      "execution_count": null,
      "outputs": [
        {
          "output_type": "execute_result",
          "data": {
            "text/plain": [
              "{'precision_recall_by_user': Columns:\n",
              " \tuser_id\tint\n",
              " \tcutoff\tint\n",
              " \tprecision\tfloat\n",
              " \trecall\tfloat\n",
              " \tcount\tint\n",
              " \n",
              " Rows: 1619658\n",
              " \n",
              " Data:\n",
              " +---------+--------+-----------+--------+-------+\n",
              " | user_id | cutoff | precision | recall | count |\n",
              " +---------+--------+-----------+--------+-------+\n",
              " |    5    |   1    |    0.0    |  0.0   |   9   |\n",
              " |    5    |   2    |    0.0    |  0.0   |   9   |\n",
              " |    5    |   3    |    0.0    |  0.0   |   9   |\n",
              " |    5    |   4    |    0.0    |  0.0   |   9   |\n",
              " |    5    |   5    |    0.0    |  0.0   |   9   |\n",
              " |    5    |   6    |    0.0    |  0.0   |   9   |\n",
              " |    5    |   7    |    0.0    |  0.0   |   9   |\n",
              " |    5    |   8    |    0.0    |  0.0   |   9   |\n",
              " |    5    |   9    |    0.0    |  0.0   |   9   |\n",
              " |    5    |   10   |    0.0    |  0.0   |   9   |\n",
              " +---------+--------+-----------+--------+-------+\n",
              " [1619658 rows x 5 columns]\n",
              " Note: Only the head of the SFrame is printed.\n",
              " You can use print_rows(num_rows=m, num_columns=n) to print more rows and columns.,\n",
              " 'precision_recall_overall': Columns:\n",
              " \tcutoff\tint\n",
              " \tprecision\tfloat\n",
              " \trecall\tfloat\n",
              " \n",
              " Rows: 18\n",
              " \n",
              " Data:\n",
              " +--------+----------------------+----------------------+\n",
              " | cutoff |      precision       |        recall        |\n",
              " +--------+----------------------+----------------------+\n",
              " |   1    | 0.09585356908680727  | 0.006501282302369816 |\n",
              " |   2    | 0.08093930940976461  | 0.010798494390268351 |\n",
              " |   3    | 0.07190406863671084  | 0.014282448224905202 |\n",
              " |   4    | 0.06595281226036602  | 0.01738284922433971  |\n",
              " |   5    | 0.061026216645733114 | 0.019982959170105556 |\n",
              " |   6    | 0.056995365688311914 | 0.022319540760934186 |\n",
              " |   7    | 0.05366370995781855  |  0.0244382007234695  |\n",
              " |   8    | 0.05099687711850266  | 0.026469120454665228 |\n",
              " |   9    | 0.04861149699504703  | 0.02832457338107626  |\n",
              " |   10   | 0.046595392360609195 | 0.03007670389688931  |\n",
              " +--------+----------------------+----------------------+\n",
              " [18 rows x 3 columns]\n",
              " Note: Only the head of the SFrame is printed.\n",
              " You can use print_rows(num_rows=m, num_columns=n) to print more rows and columns.}"
            ]
          },
          "metadata": {},
          "execution_count": 31
        }
      ]
    },
    {
      "cell_type": "markdown",
      "source": [
        "# 4 Using items and users features"
      ],
      "metadata": {
        "id": "dndQFxQF0QH6"
      }
    },
    {
      "cell_type": "code",
      "source": [
        "df_cust = pd.read_csv('drive/MyDrive/Thesis/data/customers_cleaned_1.csv')\n",
        "df_art = pd.read_csv('drive/MyDrive/Thesis/data/articles_num.csv')"
      ],
      "metadata": {
        "id": "okQbPZK20MsT"
      },
      "execution_count": null,
      "outputs": []
    },
    {
      "cell_type": "code",
      "source": [
        "df_cust.rename(columns={'customer_id':'user_id'},inplace=True)\n",
        "df_art.rename(columns={'article_id':'item_id'},inplace=True)"
      ],
      "metadata": {
        "id": "1AXEVrYI1Y-O"
      },
      "execution_count": null,
      "outputs": []
    },
    {
      "cell_type": "code",
      "source": [
        "df_cust"
      ],
      "metadata": {
        "colab": {
          "base_uri": "https://localhost:8080/",
          "height": 424
        },
        "id": "23HtM6rs0pZP",
        "outputId": "2ae84023-51c7-4932-943a-dfaad017228e"
      },
      "execution_count": null,
      "outputs": [
        {
          "output_type": "execute_result",
          "data": {
            "text/plain": [
              "        user_id   age  postal_code\n",
              "0         95142  31.0            0\n",
              "1        190025  47.0            1\n",
              "2         89445  55.0            2\n",
              "3         51400  30.0            3\n",
              "4         24315  30.0            4\n",
              "...         ...   ...          ...\n",
              "305941   232465  57.0       181683\n",
              "305942    51135  26.0       181684\n",
              "305943   219648  24.0       181684\n",
              "305944    16724  54.0       181684\n",
              "305945    37606  29.0       181685\n",
              "\n",
              "[305946 rows x 3 columns]"
            ],
            "text/html": [
              "\n",
              "  <div id=\"df-47c5b4dc-d675-4bcc-a506-e24cde08a957\">\n",
              "    <div class=\"colab-df-container\">\n",
              "      <div>\n",
              "<style scoped>\n",
              "    .dataframe tbody tr th:only-of-type {\n",
              "        vertical-align: middle;\n",
              "    }\n",
              "\n",
              "    .dataframe tbody tr th {\n",
              "        vertical-align: top;\n",
              "    }\n",
              "\n",
              "    .dataframe thead th {\n",
              "        text-align: right;\n",
              "    }\n",
              "</style>\n",
              "<table border=\"1\" class=\"dataframe\">\n",
              "  <thead>\n",
              "    <tr style=\"text-align: right;\">\n",
              "      <th></th>\n",
              "      <th>user_id</th>\n",
              "      <th>age</th>\n",
              "      <th>postal_code</th>\n",
              "    </tr>\n",
              "  </thead>\n",
              "  <tbody>\n",
              "    <tr>\n",
              "      <th>0</th>\n",
              "      <td>95142</td>\n",
              "      <td>31.0</td>\n",
              "      <td>0</td>\n",
              "    </tr>\n",
              "    <tr>\n",
              "      <th>1</th>\n",
              "      <td>190025</td>\n",
              "      <td>47.0</td>\n",
              "      <td>1</td>\n",
              "    </tr>\n",
              "    <tr>\n",
              "      <th>2</th>\n",
              "      <td>89445</td>\n",
              "      <td>55.0</td>\n",
              "      <td>2</td>\n",
              "    </tr>\n",
              "    <tr>\n",
              "      <th>3</th>\n",
              "      <td>51400</td>\n",
              "      <td>30.0</td>\n",
              "      <td>3</td>\n",
              "    </tr>\n",
              "    <tr>\n",
              "      <th>4</th>\n",
              "      <td>24315</td>\n",
              "      <td>30.0</td>\n",
              "      <td>4</td>\n",
              "    </tr>\n",
              "    <tr>\n",
              "      <th>...</th>\n",
              "      <td>...</td>\n",
              "      <td>...</td>\n",
              "      <td>...</td>\n",
              "    </tr>\n",
              "    <tr>\n",
              "      <th>305941</th>\n",
              "      <td>232465</td>\n",
              "      <td>57.0</td>\n",
              "      <td>181683</td>\n",
              "    </tr>\n",
              "    <tr>\n",
              "      <th>305942</th>\n",
              "      <td>51135</td>\n",
              "      <td>26.0</td>\n",
              "      <td>181684</td>\n",
              "    </tr>\n",
              "    <tr>\n",
              "      <th>305943</th>\n",
              "      <td>219648</td>\n",
              "      <td>24.0</td>\n",
              "      <td>181684</td>\n",
              "    </tr>\n",
              "    <tr>\n",
              "      <th>305944</th>\n",
              "      <td>16724</td>\n",
              "      <td>54.0</td>\n",
              "      <td>181684</td>\n",
              "    </tr>\n",
              "    <tr>\n",
              "      <th>305945</th>\n",
              "      <td>37606</td>\n",
              "      <td>29.0</td>\n",
              "      <td>181685</td>\n",
              "    </tr>\n",
              "  </tbody>\n",
              "</table>\n",
              "<p>305946 rows × 3 columns</p>\n",
              "</div>\n",
              "      <button class=\"colab-df-convert\" onclick=\"convertToInteractive('df-47c5b4dc-d675-4bcc-a506-e24cde08a957')\"\n",
              "              title=\"Convert this dataframe to an interactive table.\"\n",
              "              style=\"display:none;\">\n",
              "        \n",
              "  <svg xmlns=\"http://www.w3.org/2000/svg\" height=\"24px\"viewBox=\"0 0 24 24\"\n",
              "       width=\"24px\">\n",
              "    <path d=\"M0 0h24v24H0V0z\" fill=\"none\"/>\n",
              "    <path d=\"M18.56 5.44l.94 2.06.94-2.06 2.06-.94-2.06-.94-.94-2.06-.94 2.06-2.06.94zm-11 1L8.5 8.5l.94-2.06 2.06-.94-2.06-.94L8.5 2.5l-.94 2.06-2.06.94zm10 10l.94 2.06.94-2.06 2.06-.94-2.06-.94-.94-2.06-.94 2.06-2.06.94z\"/><path d=\"M17.41 7.96l-1.37-1.37c-.4-.4-.92-.59-1.43-.59-.52 0-1.04.2-1.43.59L10.3 9.45l-7.72 7.72c-.78.78-.78 2.05 0 2.83L4 21.41c.39.39.9.59 1.41.59.51 0 1.02-.2 1.41-.59l7.78-7.78 2.81-2.81c.8-.78.8-2.07 0-2.86zM5.41 20L4 18.59l7.72-7.72 1.47 1.35L5.41 20z\"/>\n",
              "  </svg>\n",
              "      </button>\n",
              "      \n",
              "  <style>\n",
              "    .colab-df-container {\n",
              "      display:flex;\n",
              "      flex-wrap:wrap;\n",
              "      gap: 12px;\n",
              "    }\n",
              "\n",
              "    .colab-df-convert {\n",
              "      background-color: #E8F0FE;\n",
              "      border: none;\n",
              "      border-radius: 50%;\n",
              "      cursor: pointer;\n",
              "      display: none;\n",
              "      fill: #1967D2;\n",
              "      height: 32px;\n",
              "      padding: 0 0 0 0;\n",
              "      width: 32px;\n",
              "    }\n",
              "\n",
              "    .colab-df-convert:hover {\n",
              "      background-color: #E2EBFA;\n",
              "      box-shadow: 0px 1px 2px rgba(60, 64, 67, 0.3), 0px 1px 3px 1px rgba(60, 64, 67, 0.15);\n",
              "      fill: #174EA6;\n",
              "    }\n",
              "\n",
              "    [theme=dark] .colab-df-convert {\n",
              "      background-color: #3B4455;\n",
              "      fill: #D2E3FC;\n",
              "    }\n",
              "\n",
              "    [theme=dark] .colab-df-convert:hover {\n",
              "      background-color: #434B5C;\n",
              "      box-shadow: 0px 1px 3px 1px rgba(0, 0, 0, 0.15);\n",
              "      filter: drop-shadow(0px 1px 2px rgba(0, 0, 0, 0.3));\n",
              "      fill: #FFFFFF;\n",
              "    }\n",
              "  </style>\n",
              "\n",
              "      <script>\n",
              "        const buttonEl =\n",
              "          document.querySelector('#df-47c5b4dc-d675-4bcc-a506-e24cde08a957 button.colab-df-convert');\n",
              "        buttonEl.style.display =\n",
              "          google.colab.kernel.accessAllowed ? 'block' : 'none';\n",
              "\n",
              "        async function convertToInteractive(key) {\n",
              "          const element = document.querySelector('#df-47c5b4dc-d675-4bcc-a506-e24cde08a957');\n",
              "          const dataTable =\n",
              "            await google.colab.kernel.invokeFunction('convertToInteractive',\n",
              "                                                     [key], {});\n",
              "          if (!dataTable) return;\n",
              "\n",
              "          const docLinkHtml = 'Like what you see? Visit the ' +\n",
              "            '<a target=\"_blank\" href=https://colab.research.google.com/notebooks/data_table.ipynb>data table notebook</a>'\n",
              "            + ' to learn more about interactive tables.';\n",
              "          element.innerHTML = '';\n",
              "          dataTable['output_type'] = 'display_data';\n",
              "          await google.colab.output.renderOutput(dataTable, element);\n",
              "          const docLink = document.createElement('div');\n",
              "          docLink.innerHTML = docLinkHtml;\n",
              "          element.appendChild(docLink);\n",
              "        }\n",
              "      </script>\n",
              "    </div>\n",
              "  </div>\n",
              "  "
            ]
          },
          "metadata": {},
          "execution_count": 13
        }
      ]
    },
    {
      "cell_type": "code",
      "source": [
        "# create an SFrame out of dfs\n",
        "df_cust_S = tc.SFrame(df_cust)\n",
        "df_art_S = tc.SFrame(df_art)"
      ],
      "metadata": {
        "id": "8iUweFan0a5Q"
      },
      "execution_count": null,
      "outputs": []
    },
    {
      "cell_type": "code",
      "source": [
        "mf_sideFtrs = tc.ranking_factorization_recommender.create(df_train, \n",
        "                                              user_id='user_id', \n",
        "                                              item_id='item_id',\n",
        "                                              user_data=df_cust_S,\n",
        "                                              item_data=df_art_S,\n",
        "                                              num_factors=100,\n",
        "                                              #regularization=0.001,\n",
        "                                              #max_iterations=40\n",
        "                                              solver='sgd')\n"
      ],
      "metadata": {
        "colab": {
          "base_uri": "https://localhost:8080/",
          "height": 1000
        },
        "id": "_-5wnpAB1EjK",
        "outputId": "e5d4fb6c-8a65-4545-afe6-8eaedbd8afb4"
      },
      "execution_count": null,
      "outputs": [
        {
          "output_type": "display_data",
          "data": {
            "text/plain": [
              "Preparing data set."
            ],
            "text/html": [
              "<pre>Preparing data set.</pre>"
            ]
          },
          "metadata": {}
        },
        {
          "output_type": "display_data",
          "data": {
            "text/plain": [
              "    Data has 16380622 observations with 305946 users and 42373 items."
            ],
            "text/html": [
              "<pre>    Data has 16380622 observations with 305946 users and 42373 items.</pre>"
            ]
          },
          "metadata": {}
        },
        {
          "output_type": "display_data",
          "data": {
            "text/plain": [
              "    Data prepared in: 15.5966s"
            ],
            "text/html": [
              "<pre>    Data prepared in: 15.5966s</pre>"
            ]
          },
          "metadata": {}
        },
        {
          "output_type": "display_data",
          "data": {
            "text/plain": [
              "Training ranking_factorization_recommender for recommendations."
            ],
            "text/html": [
              "<pre>Training ranking_factorization_recommender for recommendations.</pre>"
            ]
          },
          "metadata": {}
        },
        {
          "output_type": "display_data",
          "data": {
            "text/plain": [
              "+--------------------------------+--------------------------------------------------+----------+"
            ],
            "text/html": [
              "<pre>+--------------------------------+--------------------------------------------------+----------+</pre>"
            ]
          },
          "metadata": {}
        },
        {
          "output_type": "display_data",
          "data": {
            "text/plain": [
              "| Parameter                      | Description                                      | Value    |"
            ],
            "text/html": [
              "<pre>| Parameter                      | Description                                      | Value    |</pre>"
            ]
          },
          "metadata": {}
        },
        {
          "output_type": "display_data",
          "data": {
            "text/plain": [
              "+--------------------------------+--------------------------------------------------+----------+"
            ],
            "text/html": [
              "<pre>+--------------------------------+--------------------------------------------------+----------+</pre>"
            ]
          },
          "metadata": {}
        },
        {
          "output_type": "display_data",
          "data": {
            "text/plain": [
              "| num_factors                    | Factor Dimension                                 | 100      |"
            ],
            "text/html": [
              "<pre>| num_factors                    | Factor Dimension                                 | 100      |</pre>"
            ]
          },
          "metadata": {}
        },
        {
          "output_type": "display_data",
          "data": {
            "text/plain": [
              "| regularization                 | L2 Regularization on Factors                     | 1e-09    |"
            ],
            "text/html": [
              "<pre>| regularization                 | L2 Regularization on Factors                     | 1e-09    |</pre>"
            ]
          },
          "metadata": {}
        },
        {
          "output_type": "display_data",
          "data": {
            "text/plain": [
              "| solver                         | Solver used for training                         | sgd      |"
            ],
            "text/html": [
              "<pre>| solver                         | Solver used for training                         | sgd      |</pre>"
            ]
          },
          "metadata": {}
        },
        {
          "output_type": "display_data",
          "data": {
            "text/plain": [
              "| linear_regularization          | L2 Regularization on Linear Coefficients         | 1e-09    |"
            ],
            "text/html": [
              "<pre>| linear_regularization          | L2 Regularization on Linear Coefficients         | 1e-09    |</pre>"
            ]
          },
          "metadata": {}
        },
        {
          "output_type": "display_data",
          "data": {
            "text/plain": [
              "| binary_target                  | Assume Binary Targets                            | True     |"
            ],
            "text/html": [
              "<pre>| binary_target                  | Assume Binary Targets                            | True     |</pre>"
            ]
          },
          "metadata": {}
        },
        {
          "output_type": "display_data",
          "data": {
            "text/plain": [
              "| side_data_factorization        | Assign Factors for Side Data                     | True     |"
            ],
            "text/html": [
              "<pre>| side_data_factorization        | Assign Factors for Side Data                     | True     |</pre>"
            ]
          },
          "metadata": {}
        },
        {
          "output_type": "display_data",
          "data": {
            "text/plain": [
              "| max_iterations                 | Maximum Number of Iterations                     | 25       |"
            ],
            "text/html": [
              "<pre>| max_iterations                 | Maximum Number of Iterations                     | 25       |</pre>"
            ]
          },
          "metadata": {}
        },
        {
          "output_type": "display_data",
          "data": {
            "text/plain": [
              "+--------------------------------+--------------------------------------------------+----------+"
            ],
            "text/html": [
              "<pre>+--------------------------------+--------------------------------------------------+----------+</pre>"
            ]
          },
          "metadata": {}
        },
        {
          "output_type": "display_data",
          "data": {
            "text/plain": [
              "  Optimizing model using SGD; tuning step size."
            ],
            "text/html": [
              "<pre>  Optimizing model using SGD; tuning step size.</pre>"
            ]
          },
          "metadata": {}
        },
        {
          "output_type": "display_data",
          "data": {
            "text/plain": [
              "  Using 2047577 / 16380622 points for tuning the step size."
            ],
            "text/html": [
              "<pre>  Using 2047577 / 16380622 points for tuning the step size.</pre>"
            ]
          },
          "metadata": {}
        },
        {
          "output_type": "display_data",
          "data": {
            "text/plain": [
              "+---------+-------------------+------------------------------------------+"
            ],
            "text/html": [
              "<pre>+---------+-------------------+------------------------------------------+</pre>"
            ]
          },
          "metadata": {}
        },
        {
          "output_type": "display_data",
          "data": {
            "text/plain": [
              "| Attempt | Initial Step Size | Estimated Objective Value                |"
            ],
            "text/html": [
              "<pre>| Attempt | Initial Step Size | Estimated Objective Value                |</pre>"
            ]
          },
          "metadata": {}
        },
        {
          "output_type": "display_data",
          "data": {
            "text/plain": [
              "+---------+-------------------+------------------------------------------+"
            ],
            "text/html": [
              "<pre>+---------+-------------------+------------------------------------------+</pre>"
            ]
          },
          "metadata": {}
        },
        {
          "output_type": "display_data",
          "data": {
            "text/plain": [
              "| 0       | 3.57143           | Not Viable                               |"
            ],
            "text/html": [
              "<pre>| 0       | 3.57143           | Not Viable                               |</pre>"
            ]
          },
          "metadata": {}
        },
        {
          "output_type": "display_data",
          "data": {
            "text/plain": [
              "| 1       | 0.892857          | Not Viable                               |"
            ],
            "text/html": [
              "<pre>| 1       | 0.892857          | Not Viable                               |</pre>"
            ]
          },
          "metadata": {}
        },
        {
          "output_type": "display_data",
          "data": {
            "text/plain": [
              "| 2       | 0.223214          | Not Viable                               |"
            ],
            "text/html": [
              "<pre>| 2       | 0.223214          | Not Viable                               |</pre>"
            ]
          },
          "metadata": {}
        },
        {
          "output_type": "display_data",
          "data": {
            "text/plain": [
              "| 3       | 0.0558036         | Not Viable                               |"
            ],
            "text/html": [
              "<pre>| 3       | 0.0558036         | Not Viable                               |</pre>"
            ]
          },
          "metadata": {}
        },
        {
          "output_type": "display_data",
          "data": {
            "text/plain": [
              "| 4       | 0.0139509         | Not Viable                               |"
            ],
            "text/html": [
              "<pre>| 4       | 0.0139509         | Not Viable                               |</pre>"
            ]
          },
          "metadata": {}
        },
        {
          "output_type": "display_data",
          "data": {
            "text/plain": [
              "| 5       | 0.00348772        | Not Viable                               |"
            ],
            "text/html": [
              "<pre>| 5       | 0.00348772        | Not Viable                               |</pre>"
            ]
          },
          "metadata": {}
        },
        {
          "output_type": "display_data",
          "data": {
            "text/plain": [
              "| 6       | 0.000871931       | Not Viable                               |"
            ],
            "text/html": [
              "<pre>| 6       | 0.000871931       | Not Viable                               |</pre>"
            ]
          },
          "metadata": {}
        },
        {
          "output_type": "display_data",
          "data": {
            "text/plain": [
              "| 7       | 0.000217983       | No Decrease (2.49919 >= 1.38665)         |"
            ],
            "text/html": [
              "<pre>| 7       | 0.000217983       | No Decrease (2.49919 >= 1.38665)         |</pre>"
            ]
          },
          "metadata": {}
        },
        {
          "output_type": "display_data",
          "data": {
            "text/plain": [
              "| 8       | 5.44957e-05       | Not Viable                               |"
            ],
            "text/html": [
              "<pre>| 8       | 5.44957e-05       | Not Viable                               |</pre>"
            ]
          },
          "metadata": {}
        },
        {
          "output_type": "display_data",
          "data": {
            "text/plain": [
              "| 9       | 1.36239e-05       | No Decrease (1.51264 >= 1.38665)         |"
            ],
            "text/html": [
              "<pre>| 9       | 1.36239e-05       | No Decrease (1.51264 >= 1.38665)         |</pre>"
            ]
          },
          "metadata": {}
        },
        {
          "output_type": "display_data",
          "data": {
            "text/plain": [
              "| 10      | 3.40598e-06       | No Decrease (1.41919 >= 1.38665)         |"
            ],
            "text/html": [
              "<pre>| 10      | 3.40598e-06       | No Decrease (1.41919 >= 1.38665)         |</pre>"
            ]
          },
          "metadata": {}
        },
        {
          "output_type": "display_data",
          "data": {
            "text/plain": [
              "| 11      | 8.51495e-07       | No Decrease (1.39072 >= 1.38665)         |"
            ],
            "text/html": [
              "<pre>| 11      | 8.51495e-07       | No Decrease (1.39072 >= 1.38665)         |</pre>"
            ]
          },
          "metadata": {}
        },
        {
          "output_type": "display_data",
          "data": {
            "text/plain": [
              "| 12      | 2.12874e-07       | No Decrease (1.38762 >= 1.38665)         |"
            ],
            "text/html": [
              "<pre>| 12      | 2.12874e-07       | No Decrease (1.38762 >= 1.38665)         |</pre>"
            ]
          },
          "metadata": {}
        },
        {
          "output_type": "display_data",
          "data": {
            "text/plain": [
              "| 13      | 5.32184e-08       | 1.38657                                  |"
            ],
            "text/html": [
              "<pre>| 13      | 5.32184e-08       | 1.38657                                  |</pre>"
            ]
          },
          "metadata": {}
        },
        {
          "output_type": "display_data",
          "data": {
            "text/plain": [
              "| 14      | 2.66092e-08       | 1.3865                                   |"
            ],
            "text/html": [
              "<pre>| 14      | 2.66092e-08       | 1.3865                                   |</pre>"
            ]
          },
          "metadata": {}
        },
        {
          "output_type": "display_data",
          "data": {
            "text/plain": [
              "| 15      | 1.33046e-08       | 1.38644                                  |"
            ],
            "text/html": [
              "<pre>| 15      | 1.33046e-08       | 1.38644                                  |</pre>"
            ]
          },
          "metadata": {}
        },
        {
          "output_type": "display_data",
          "data": {
            "text/plain": [
              "| 16      | 6.6523e-09        | 1.38644                                  |"
            ],
            "text/html": [
              "<pre>| 16      | 6.6523e-09        | 1.38644                                  |</pre>"
            ]
          },
          "metadata": {}
        },
        {
          "output_type": "display_data",
          "data": {
            "text/plain": [
              "| 17      | 3.32615e-09       | 1.38644                                  |"
            ],
            "text/html": [
              "<pre>| 17      | 3.32615e-09       | 1.38644                                  |</pre>"
            ]
          },
          "metadata": {}
        },
        {
          "output_type": "display_data",
          "data": {
            "text/plain": [
              "| 18      | 1.66308e-09       | 1.38644                                  |"
            ],
            "text/html": [
              "<pre>| 18      | 1.66308e-09       | 1.38644                                  |</pre>"
            ]
          },
          "metadata": {}
        },
        {
          "output_type": "display_data",
          "data": {
            "text/plain": [
              "+---------+-------------------+------------------------------------------+"
            ],
            "text/html": [
              "<pre>+---------+-------------------+------------------------------------------+</pre>"
            ]
          },
          "metadata": {}
        },
        {
          "output_type": "display_data",
          "data": {
            "text/plain": [
              "| Final   | 1.33046e-08       | 1.38644                                  |"
            ],
            "text/html": [
              "<pre>| Final   | 1.33046e-08       | 1.38644                                  |</pre>"
            ]
          },
          "metadata": {}
        },
        {
          "output_type": "display_data",
          "data": {
            "text/plain": [
              "+---------+-------------------+------------------------------------------+"
            ],
            "text/html": [
              "<pre>+---------+-------------------+------------------------------------------+</pre>"
            ]
          },
          "metadata": {}
        },
        {
          "output_type": "display_data",
          "data": {
            "text/plain": [
              "Starting Optimization."
            ],
            "text/html": [
              "<pre>Starting Optimization.</pre>"
            ]
          },
          "metadata": {}
        },
        {
          "output_type": "display_data",
          "data": {
            "text/plain": [
              "+---------+--------------+-------------------+-----------------------------------+-------------+"
            ],
            "text/html": [
              "<pre>+---------+--------------+-------------------+-----------------------------------+-------------+</pre>"
            ]
          },
          "metadata": {}
        },
        {
          "output_type": "display_data",
          "data": {
            "text/plain": [
              "| Iter.   | Elapsed Time | Approx. Objective | Approx. Training Predictive Error | Step Size   |"
            ],
            "text/html": [
              "<pre>| Iter.   | Elapsed Time | Approx. Objective | Approx. Training Predictive Error | Step Size   |</pre>"
            ]
          },
          "metadata": {}
        },
        {
          "output_type": "display_data",
          "data": {
            "text/plain": [
              "+---------+--------------+-------------------+-----------------------------------+-------------+"
            ],
            "text/html": [
              "<pre>+---------+--------------+-------------------+-----------------------------------+-------------+</pre>"
            ]
          },
          "metadata": {}
        },
        {
          "output_type": "display_data",
          "data": {
            "text/plain": [
              "| Initial | 182us        | 1.38665           | 0.693116                          |             |"
            ],
            "text/html": [
              "<pre>| Initial | 182us        | 1.38665           | 0.693116                          |             |</pre>"
            ]
          },
          "metadata": {}
        },
        {
          "output_type": "display_data",
          "data": {
            "text/plain": [
              "+---------+--------------+-------------------+-----------------------------------+-------------+"
            ],
            "text/html": [
              "<pre>+---------+--------------+-------------------+-----------------------------------+-------------+</pre>"
            ]
          },
          "metadata": {}
        },
        {
          "output_type": "display_data",
          "data": {
            "text/plain": [
              "| 1       | 2m 52s       | 1.38637           | 0.69311                           | 1.33046e-08 |"
            ],
            "text/html": [
              "<pre>| 1       | 2m 52s       | 1.38637           | 0.69311                           | 1.33046e-08 |</pre>"
            ]
          },
          "metadata": {}
        },
        {
          "output_type": "display_data",
          "data": {
            "text/plain": [
              "| 2       | 5m 42s       | 1.3864            | 0.693126                          | 7.91097e-09 |"
            ],
            "text/html": [
              "<pre>| 2       | 5m 42s       | 1.3864            | 0.693126                          | 7.91097e-09 |</pre>"
            ]
          },
          "metadata": {}
        },
        {
          "output_type": "display_data",
          "data": {
            "text/plain": [
              "| 3       | 8m 33s       | 1.38642           | 0.693131                          | 5.83662e-09 |"
            ],
            "text/html": [
              "<pre>| 3       | 8m 33s       | 1.38642           | 0.693131                          | 5.83662e-09 |</pre>"
            ]
          },
          "metadata": {}
        },
        {
          "output_type": "display_data",
          "data": {
            "text/plain": [
              "| 4       | 11m 27s      | 1.38643           | 0.693134                          | 3.95548e-09 |"
            ],
            "text/html": [
              "<pre>| 4       | 11m 27s      | 1.38643           | 0.693134                          | 3.95548e-09 |</pre>"
            ]
          },
          "metadata": {}
        },
        {
          "output_type": "display_data",
          "data": {
            "text/plain": [
              "| 5       | 14m 19s      | 1.38643           | 0.693134                          | 1.88156e-09 |"
            ],
            "text/html": [
              "<pre>| 5       | 14m 19s      | 1.38643           | 0.693134                          | 1.88156e-09 |</pre>"
            ]
          },
          "metadata": {}
        },
        {
          "output_type": "display_data",
          "data": {
            "text/plain": [
              "| 6       | 17m 8s       | 1.38643           | 0.693134                          | 1.37998e-09 |"
            ],
            "text/html": [
              "<pre>| 6       | 17m 8s       | 1.38643           | 0.693134                          | 1.37998e-09 |</pre>"
            ]
          },
          "metadata": {}
        },
        {
          "output_type": "display_data",
          "data": {
            "text/plain": [
              "+---------+--------------+-------------------+-----------------------------------+-------------+"
            ],
            "text/html": [
              "<pre>+---------+--------------+-------------------+-----------------------------------+-------------+</pre>"
            ]
          },
          "metadata": {}
        },
        {
          "output_type": "display_data",
          "data": {
            "text/plain": [
              "Optimization Complete: Convergence on objective within bounds."
            ],
            "text/html": [
              "<pre>Optimization Complete: Convergence on objective within bounds.</pre>"
            ]
          },
          "metadata": {}
        },
        {
          "output_type": "display_data",
          "data": {
            "text/plain": [
              "Computing final objective value and training Predictive Error."
            ],
            "text/html": [
              "<pre>Computing final objective value and training Predictive Error.</pre>"
            ]
          },
          "metadata": {}
        },
        {
          "output_type": "display_data",
          "data": {
            "text/plain": [
              "       Final objective value: 1.38643"
            ],
            "text/html": [
              "<pre>       Final objective value: 1.38643</pre>"
            ]
          },
          "metadata": {}
        },
        {
          "output_type": "display_data",
          "data": {
            "text/plain": [
              "       Final training Predictive Error: 0.693134"
            ],
            "text/html": [
              "<pre>       Final training Predictive Error: 0.693134</pre>"
            ]
          },
          "metadata": {}
        }
      ]
    },
    {
      "cell_type": "code",
      "source": [
        "# recommend k products for a list of users (None corresponds to all users) \n",
        "recommendation = mf_sideFtrs.recommend(users=None, k=12)"
      ],
      "metadata": {
        "colab": {
          "base_uri": "https://localhost:8080/",
          "height": 1000
        },
        "id": "0Vz1QrDv11IT",
        "outputId": "92af54b8-a4ba-47ea-b51f-79c5f432694f"
      },
      "execution_count": null,
      "outputs": [
        {
          "data": {
            "text/html": [
              "<pre>recommendations finished on 1000/305946 queries. users per second: 19.0735</pre>"
            ],
            "text/plain": [
              "recommendations finished on 1000/305946 queries. users per second: 19.0735"
            ]
          },
          "metadata": {},
          "output_type": "display_data"
        },
        {
          "data": {
            "text/html": [
              "<pre>recommendations finished on 2000/305946 queries. users per second: 19.0761</pre>"
            ],
            "text/plain": [
              "recommendations finished on 2000/305946 queries. users per second: 19.0761"
            ]
          },
          "metadata": {},
          "output_type": "display_data"
        },
        {
          "data": {
            "text/html": [
              "<pre>recommendations finished on 3000/305946 queries. users per second: 19.0958</pre>"
            ],
            "text/plain": [
              "recommendations finished on 3000/305946 queries. users per second: 19.0958"
            ]
          },
          "metadata": {},
          "output_type": "display_data"
        },
        {
          "data": {
            "text/html": [
              "<pre>recommendations finished on 4000/305946 queries. users per second: 18.9471</pre>"
            ],
            "text/plain": [
              "recommendations finished on 4000/305946 queries. users per second: 18.9471"
            ]
          },
          "metadata": {},
          "output_type": "display_data"
        },
        {
          "data": {
            "text/html": [
              "<pre>recommendations finished on 5000/305946 queries. users per second: 18.9817</pre>"
            ],
            "text/plain": [
              "recommendations finished on 5000/305946 queries. users per second: 18.9817"
            ]
          },
          "metadata": {},
          "output_type": "display_data"
        },
        {
          "data": {
            "text/html": [
              "<pre>recommendations finished on 6000/305946 queries. users per second: 19.0006</pre>"
            ],
            "text/plain": [
              "recommendations finished on 6000/305946 queries. users per second: 19.0006"
            ]
          },
          "metadata": {},
          "output_type": "display_data"
        },
        {
          "data": {
            "text/html": [
              "<pre>recommendations finished on 7000/305946 queries. users per second: 19.014</pre>"
            ],
            "text/plain": [
              "recommendations finished on 7000/305946 queries. users per second: 19.014"
            ]
          },
          "metadata": {},
          "output_type": "display_data"
        },
        {
          "data": {
            "text/html": [
              "<pre>recommendations finished on 8000/305946 queries. users per second: 19.0238</pre>"
            ],
            "text/plain": [
              "recommendations finished on 8000/305946 queries. users per second: 19.0238"
            ]
          },
          "metadata": {},
          "output_type": "display_data"
        },
        {
          "data": {
            "text/html": [
              "<pre>recommendations finished on 9000/305946 queries. users per second: 19.0327</pre>"
            ],
            "text/plain": [
              "recommendations finished on 9000/305946 queries. users per second: 19.0327"
            ]
          },
          "metadata": {},
          "output_type": "display_data"
        },
        {
          "data": {
            "text/html": [
              "<pre>recommendations finished on 10000/305946 queries. users per second: 19.0402</pre>"
            ],
            "text/plain": [
              "recommendations finished on 10000/305946 queries. users per second: 19.0402"
            ]
          },
          "metadata": {},
          "output_type": "display_data"
        },
        {
          "data": {
            "text/html": [
              "<pre>recommendations finished on 11000/305946 queries. users per second: 19.0443</pre>"
            ],
            "text/plain": [
              "recommendations finished on 11000/305946 queries. users per second: 19.0443"
            ]
          },
          "metadata": {},
          "output_type": "display_data"
        },
        {
          "data": {
            "text/html": [
              "<pre>recommendations finished on 12000/305946 queries. users per second: 19.0471</pre>"
            ],
            "text/plain": [
              "recommendations finished on 12000/305946 queries. users per second: 19.0471"
            ]
          },
          "metadata": {},
          "output_type": "display_data"
        },
        {
          "data": {
            "text/html": [
              "<pre>recommendations finished on 13000/305946 queries. users per second: 19.0483</pre>"
            ],
            "text/plain": [
              "recommendations finished on 13000/305946 queries. users per second: 19.0483"
            ]
          },
          "metadata": {},
          "output_type": "display_data"
        },
        {
          "data": {
            "text/html": [
              "<pre>recommendations finished on 14000/305946 queries. users per second: 19.0502</pre>"
            ],
            "text/plain": [
              "recommendations finished on 14000/305946 queries. users per second: 19.0502"
            ]
          },
          "metadata": {},
          "output_type": "display_data"
        },
        {
          "data": {
            "text/html": [
              "<pre>recommendations finished on 15000/305946 queries. users per second: 19.0487</pre>"
            ],
            "text/plain": [
              "recommendations finished on 15000/305946 queries. users per second: 19.0487"
            ]
          },
          "metadata": {},
          "output_type": "display_data"
        },
        {
          "data": {
            "text/html": [
              "<pre>recommendations finished on 16000/305946 queries. users per second: 19.0461</pre>"
            ],
            "text/plain": [
              "recommendations finished on 16000/305946 queries. users per second: 19.0461"
            ]
          },
          "metadata": {},
          "output_type": "display_data"
        },
        {
          "data": {
            "text/html": [
              "<pre>recommendations finished on 17000/305946 queries. users per second: 19.0455</pre>"
            ],
            "text/plain": [
              "recommendations finished on 17000/305946 queries. users per second: 19.0455"
            ]
          },
          "metadata": {},
          "output_type": "display_data"
        },
        {
          "data": {
            "text/html": [
              "<pre>recommendations finished on 18000/305946 queries. users per second: 19.0505</pre>"
            ],
            "text/plain": [
              "recommendations finished on 18000/305946 queries. users per second: 19.0505"
            ]
          },
          "metadata": {},
          "output_type": "display_data"
        },
        {
          "data": {
            "text/html": [
              "<pre>recommendations finished on 19000/305946 queries. users per second: 19.0541</pre>"
            ],
            "text/plain": [
              "recommendations finished on 19000/305946 queries. users per second: 19.0541"
            ]
          },
          "metadata": {},
          "output_type": "display_data"
        },
        {
          "data": {
            "text/html": [
              "<pre>recommendations finished on 20000/305946 queries. users per second: 19.0586</pre>"
            ],
            "text/plain": [
              "recommendations finished on 20000/305946 queries. users per second: 19.0586"
            ]
          },
          "metadata": {},
          "output_type": "display_data"
        },
        {
          "data": {
            "text/html": [
              "<pre>recommendations finished on 21000/305946 queries. users per second: 19.0625</pre>"
            ],
            "text/plain": [
              "recommendations finished on 21000/305946 queries. users per second: 19.0625"
            ]
          },
          "metadata": {},
          "output_type": "display_data"
        },
        {
          "data": {
            "text/html": [
              "<pre>recommendations finished on 22000/305946 queries. users per second: 19.0642</pre>"
            ],
            "text/plain": [
              "recommendations finished on 22000/305946 queries. users per second: 19.0642"
            ]
          },
          "metadata": {},
          "output_type": "display_data"
        },
        {
          "data": {
            "text/html": [
              "<pre>recommendations finished on 23000/305946 queries. users per second: 19.0678</pre>"
            ],
            "text/plain": [
              "recommendations finished on 23000/305946 queries. users per second: 19.0678"
            ]
          },
          "metadata": {},
          "output_type": "display_data"
        },
        {
          "data": {
            "text/html": [
              "<pre>recommendations finished on 24000/305946 queries. users per second: 19.0715</pre>"
            ],
            "text/plain": [
              "recommendations finished on 24000/305946 queries. users per second: 19.0715"
            ]
          },
          "metadata": {},
          "output_type": "display_data"
        },
        {
          "data": {
            "text/html": [
              "<pre>recommendations finished on 25000/305946 queries. users per second: 19.0729</pre>"
            ],
            "text/plain": [
              "recommendations finished on 25000/305946 queries. users per second: 19.0729"
            ]
          },
          "metadata": {},
          "output_type": "display_data"
        },
        {
          "data": {
            "text/html": [
              "<pre>recommendations finished on 26000/305946 queries. users per second: 19.0747</pre>"
            ],
            "text/plain": [
              "recommendations finished on 26000/305946 queries. users per second: 19.0747"
            ]
          },
          "metadata": {},
          "output_type": "display_data"
        },
        {
          "data": {
            "text/html": [
              "<pre>recommendations finished on 27000/305946 queries. users per second: 19.0783</pre>"
            ],
            "text/plain": [
              "recommendations finished on 27000/305946 queries. users per second: 19.0783"
            ]
          },
          "metadata": {},
          "output_type": "display_data"
        },
        {
          "data": {
            "text/html": [
              "<pre>recommendations finished on 28000/305946 queries. users per second: 19.0797</pre>"
            ],
            "text/plain": [
              "recommendations finished on 28000/305946 queries. users per second: 19.0797"
            ]
          },
          "metadata": {},
          "output_type": "display_data"
        },
        {
          "data": {
            "text/html": [
              "<pre>recommendations finished on 29000/305946 queries. users per second: 19.0813</pre>"
            ],
            "text/plain": [
              "recommendations finished on 29000/305946 queries. users per second: 19.0813"
            ]
          },
          "metadata": {},
          "output_type": "display_data"
        },
        {
          "data": {
            "text/html": [
              "<pre>recommendations finished on 30000/305946 queries. users per second: 19.0833</pre>"
            ],
            "text/plain": [
              "recommendations finished on 30000/305946 queries. users per second: 19.0833"
            ]
          },
          "metadata": {},
          "output_type": "display_data"
        },
        {
          "data": {
            "text/html": [
              "<pre>recommendations finished on 31000/305946 queries. users per second: 19.0862</pre>"
            ],
            "text/plain": [
              "recommendations finished on 31000/305946 queries. users per second: 19.0862"
            ]
          },
          "metadata": {},
          "output_type": "display_data"
        },
        {
          "data": {
            "text/html": [
              "<pre>recommendations finished on 32000/305946 queries. users per second: 19.0865</pre>"
            ],
            "text/plain": [
              "recommendations finished on 32000/305946 queries. users per second: 19.0865"
            ]
          },
          "metadata": {},
          "output_type": "display_data"
        },
        {
          "data": {
            "text/html": [
              "<pre>recommendations finished on 33000/305946 queries. users per second: 19.0852</pre>"
            ],
            "text/plain": [
              "recommendations finished on 33000/305946 queries. users per second: 19.0852"
            ]
          },
          "metadata": {},
          "output_type": "display_data"
        },
        {
          "data": {
            "text/html": [
              "<pre>recommendations finished on 34000/305946 queries. users per second: 19.0852</pre>"
            ],
            "text/plain": [
              "recommendations finished on 34000/305946 queries. users per second: 19.0852"
            ]
          },
          "metadata": {},
          "output_type": "display_data"
        },
        {
          "data": {
            "text/html": [
              "<pre>recommendations finished on 35000/305946 queries. users per second: 19.0859</pre>"
            ],
            "text/plain": [
              "recommendations finished on 35000/305946 queries. users per second: 19.0859"
            ]
          },
          "metadata": {},
          "output_type": "display_data"
        },
        {
          "data": {
            "text/html": [
              "<pre>recommendations finished on 36000/305946 queries. users per second: 19.0847</pre>"
            ],
            "text/plain": [
              "recommendations finished on 36000/305946 queries. users per second: 19.0847"
            ]
          },
          "metadata": {},
          "output_type": "display_data"
        },
        {
          "data": {
            "text/html": [
              "<pre>recommendations finished on 37000/305946 queries. users per second: 19.0851</pre>"
            ],
            "text/plain": [
              "recommendations finished on 37000/305946 queries. users per second: 19.0851"
            ]
          },
          "metadata": {},
          "output_type": "display_data"
        },
        {
          "data": {
            "text/html": [
              "<pre>recommendations finished on 38000/305946 queries. users per second: 19.0858</pre>"
            ],
            "text/plain": [
              "recommendations finished on 38000/305946 queries. users per second: 19.0858"
            ]
          },
          "metadata": {},
          "output_type": "display_data"
        },
        {
          "data": {
            "text/html": [
              "<pre>recommendations finished on 39000/305946 queries. users per second: 19.0858</pre>"
            ],
            "text/plain": [
              "recommendations finished on 39000/305946 queries. users per second: 19.0858"
            ]
          },
          "metadata": {},
          "output_type": "display_data"
        },
        {
          "data": {
            "text/html": [
              "<pre>recommendations finished on 40000/305946 queries. users per second: 19.086</pre>"
            ],
            "text/plain": [
              "recommendations finished on 40000/305946 queries. users per second: 19.086"
            ]
          },
          "metadata": {},
          "output_type": "display_data"
        },
        {
          "data": {
            "text/html": [
              "<pre>recommendations finished on 41000/305946 queries. users per second: 19.0867</pre>"
            ],
            "text/plain": [
              "recommendations finished on 41000/305946 queries. users per second: 19.0867"
            ]
          },
          "metadata": {},
          "output_type": "display_data"
        },
        {
          "data": {
            "text/html": [
              "<pre>recommendations finished on 42000/305946 queries. users per second: 19.0883</pre>"
            ],
            "text/plain": [
              "recommendations finished on 42000/305946 queries. users per second: 19.0883"
            ]
          },
          "metadata": {},
          "output_type": "display_data"
        },
        {
          "data": {
            "text/html": [
              "<pre>recommendations finished on 43000/305946 queries. users per second: 19.0876</pre>"
            ],
            "text/plain": [
              "recommendations finished on 43000/305946 queries. users per second: 19.0876"
            ]
          },
          "metadata": {},
          "output_type": "display_data"
        },
        {
          "data": {
            "text/html": [
              "<pre>recommendations finished on 44000/305946 queries. users per second: 19.0881</pre>"
            ],
            "text/plain": [
              "recommendations finished on 44000/305946 queries. users per second: 19.0881"
            ]
          },
          "metadata": {},
          "output_type": "display_data"
        },
        {
          "data": {
            "text/html": [
              "<pre>recommendations finished on 45000/305946 queries. users per second: 19.089</pre>"
            ],
            "text/plain": [
              "recommendations finished on 45000/305946 queries. users per second: 19.089"
            ]
          },
          "metadata": {},
          "output_type": "display_data"
        },
        {
          "data": {
            "text/html": [
              "<pre>recommendations finished on 46000/305946 queries. users per second: 19.0879</pre>"
            ],
            "text/plain": [
              "recommendations finished on 46000/305946 queries. users per second: 19.0879"
            ]
          },
          "metadata": {},
          "output_type": "display_data"
        },
        {
          "data": {
            "text/html": [
              "<pre>recommendations finished on 47000/305946 queries. users per second: 19.0884</pre>"
            ],
            "text/plain": [
              "recommendations finished on 47000/305946 queries. users per second: 19.0884"
            ]
          },
          "metadata": {},
          "output_type": "display_data"
        },
        {
          "data": {
            "text/html": [
              "<pre>recommendations finished on 48000/305946 queries. users per second: 19.0883</pre>"
            ],
            "text/plain": [
              "recommendations finished on 48000/305946 queries. users per second: 19.0883"
            ]
          },
          "metadata": {},
          "output_type": "display_data"
        },
        {
          "data": {
            "text/html": [
              "<pre>recommendations finished on 49000/305946 queries. users per second: 19.0882</pre>"
            ],
            "text/plain": [
              "recommendations finished on 49000/305946 queries. users per second: 19.0882"
            ]
          },
          "metadata": {},
          "output_type": "display_data"
        },
        {
          "data": {
            "text/html": [
              "<pre>recommendations finished on 50000/305946 queries. users per second: 19.0889</pre>"
            ],
            "text/plain": [
              "recommendations finished on 50000/305946 queries. users per second: 19.0889"
            ]
          },
          "metadata": {},
          "output_type": "display_data"
        },
        {
          "data": {
            "text/html": [
              "<pre>recommendations finished on 51000/305946 queries. users per second: 19.0893</pre>"
            ],
            "text/plain": [
              "recommendations finished on 51000/305946 queries. users per second: 19.0893"
            ]
          },
          "metadata": {},
          "output_type": "display_data"
        },
        {
          "data": {
            "text/html": [
              "<pre>recommendations finished on 52000/305946 queries. users per second: 19.089</pre>"
            ],
            "text/plain": [
              "recommendations finished on 52000/305946 queries. users per second: 19.089"
            ]
          },
          "metadata": {},
          "output_type": "display_data"
        },
        {
          "data": {
            "text/html": [
              "<pre>recommendations finished on 53000/305946 queries. users per second: 19.0888</pre>"
            ],
            "text/plain": [
              "recommendations finished on 53000/305946 queries. users per second: 19.0888"
            ]
          },
          "metadata": {},
          "output_type": "display_data"
        },
        {
          "data": {
            "text/html": [
              "<pre>recommendations finished on 54000/305946 queries. users per second: 19.0891</pre>"
            ],
            "text/plain": [
              "recommendations finished on 54000/305946 queries. users per second: 19.0891"
            ]
          },
          "metadata": {},
          "output_type": "display_data"
        },
        {
          "data": {
            "text/html": [
              "<pre>recommendations finished on 55000/305946 queries. users per second: 19.0901</pre>"
            ],
            "text/plain": [
              "recommendations finished on 55000/305946 queries. users per second: 19.0901"
            ]
          },
          "metadata": {},
          "output_type": "display_data"
        },
        {
          "data": {
            "text/html": [
              "<pre>recommendations finished on 56000/305946 queries. users per second: 19.092</pre>"
            ],
            "text/plain": [
              "recommendations finished on 56000/305946 queries. users per second: 19.092"
            ]
          },
          "metadata": {},
          "output_type": "display_data"
        },
        {
          "data": {
            "text/html": [
              "<pre>recommendations finished on 57000/305946 queries. users per second: 19.0942</pre>"
            ],
            "text/plain": [
              "recommendations finished on 57000/305946 queries. users per second: 19.0942"
            ]
          },
          "metadata": {},
          "output_type": "display_data"
        },
        {
          "data": {
            "text/html": [
              "<pre>recommendations finished on 58000/305946 queries. users per second: 19.0964</pre>"
            ],
            "text/plain": [
              "recommendations finished on 58000/305946 queries. users per second: 19.0964"
            ]
          },
          "metadata": {},
          "output_type": "display_data"
        },
        {
          "data": {
            "text/html": [
              "<pre>recommendations finished on 59000/305946 queries. users per second: 19.0982</pre>"
            ],
            "text/plain": [
              "recommendations finished on 59000/305946 queries. users per second: 19.0982"
            ]
          },
          "metadata": {},
          "output_type": "display_data"
        },
        {
          "data": {
            "text/html": [
              "<pre>recommendations finished on 60000/305946 queries. users per second: 19.1003</pre>"
            ],
            "text/plain": [
              "recommendations finished on 60000/305946 queries. users per second: 19.1003"
            ]
          },
          "metadata": {},
          "output_type": "display_data"
        },
        {
          "data": {
            "text/html": [
              "<pre>recommendations finished on 61000/305946 queries. users per second: 19.1023</pre>"
            ],
            "text/plain": [
              "recommendations finished on 61000/305946 queries. users per second: 19.1023"
            ]
          },
          "metadata": {},
          "output_type": "display_data"
        },
        {
          "output_type": "display_data",
          "data": {
            "text/plain": [
              "recommendations finished on 62000/305946 queries. users per second: 19.1033"
            ],
            "text/html": [
              "<pre>recommendations finished on 62000/305946 queries. users per second: 19.1033</pre>"
            ]
          },
          "metadata": {}
        },
        {
          "output_type": "display_data",
          "data": {
            "text/plain": [
              "recommendations finished on 63000/305946 queries. users per second: 19.1046"
            ],
            "text/html": [
              "<pre>recommendations finished on 63000/305946 queries. users per second: 19.1046</pre>"
            ]
          },
          "metadata": {}
        },
        {
          "output_type": "display_data",
          "data": {
            "text/plain": [
              "recommendations finished on 64000/305946 queries. users per second: 19.1066"
            ],
            "text/html": [
              "<pre>recommendations finished on 64000/305946 queries. users per second: 19.1066</pre>"
            ]
          },
          "metadata": {}
        },
        {
          "output_type": "display_data",
          "data": {
            "text/plain": [
              "recommendations finished on 65000/305946 queries. users per second: 19.1083"
            ],
            "text/html": [
              "<pre>recommendations finished on 65000/305946 queries. users per second: 19.1083</pre>"
            ]
          },
          "metadata": {}
        },
        {
          "output_type": "display_data",
          "data": {
            "text/plain": [
              "recommendations finished on 66000/305946 queries. users per second: 19.1103"
            ],
            "text/html": [
              "<pre>recommendations finished on 66000/305946 queries. users per second: 19.1103</pre>"
            ]
          },
          "metadata": {}
        },
        {
          "output_type": "display_data",
          "data": {
            "text/plain": [
              "recommendations finished on 67000/305946 queries. users per second: 19.0999"
            ],
            "text/html": [
              "<pre>recommendations finished on 67000/305946 queries. users per second: 19.0999</pre>"
            ]
          },
          "metadata": {}
        },
        {
          "output_type": "display_data",
          "data": {
            "text/plain": [
              "recommendations finished on 68000/305946 queries. users per second: 19.1013"
            ],
            "text/html": [
              "<pre>recommendations finished on 68000/305946 queries. users per second: 19.1013</pre>"
            ]
          },
          "metadata": {}
        },
        {
          "output_type": "display_data",
          "data": {
            "text/plain": [
              "recommendations finished on 69000/305946 queries. users per second: 19.1034"
            ],
            "text/html": [
              "<pre>recommendations finished on 69000/305946 queries. users per second: 19.1034</pre>"
            ]
          },
          "metadata": {}
        },
        {
          "output_type": "display_data",
          "data": {
            "text/plain": [
              "recommendations finished on 70000/305946 queries. users per second: 19.1064"
            ],
            "text/html": [
              "<pre>recommendations finished on 70000/305946 queries. users per second: 19.1064</pre>"
            ]
          },
          "metadata": {}
        },
        {
          "output_type": "display_data",
          "data": {
            "text/plain": [
              "recommendations finished on 71000/305946 queries. users per second: 19.1097"
            ],
            "text/html": [
              "<pre>recommendations finished on 71000/305946 queries. users per second: 19.1097</pre>"
            ]
          },
          "metadata": {}
        },
        {
          "output_type": "display_data",
          "data": {
            "text/plain": [
              "recommendations finished on 72000/305946 queries. users per second: 19.1127"
            ],
            "text/html": [
              "<pre>recommendations finished on 72000/305946 queries. users per second: 19.1127</pre>"
            ]
          },
          "metadata": {}
        },
        {
          "output_type": "display_data",
          "data": {
            "text/plain": [
              "recommendations finished on 73000/305946 queries. users per second: 19.1156"
            ],
            "text/html": [
              "<pre>recommendations finished on 73000/305946 queries. users per second: 19.1156</pre>"
            ]
          },
          "metadata": {}
        },
        {
          "output_type": "display_data",
          "data": {
            "text/plain": [
              "recommendations finished on 74000/305946 queries. users per second: 19.1186"
            ],
            "text/html": [
              "<pre>recommendations finished on 74000/305946 queries. users per second: 19.1186</pre>"
            ]
          },
          "metadata": {}
        },
        {
          "output_type": "display_data",
          "data": {
            "text/plain": [
              "recommendations finished on 75000/305946 queries. users per second: 19.1217"
            ],
            "text/html": [
              "<pre>recommendations finished on 75000/305946 queries. users per second: 19.1217</pre>"
            ]
          },
          "metadata": {}
        },
        {
          "output_type": "display_data",
          "data": {
            "text/plain": [
              "recommendations finished on 76000/305946 queries. users per second: 19.1245"
            ],
            "text/html": [
              "<pre>recommendations finished on 76000/305946 queries. users per second: 19.1245</pre>"
            ]
          },
          "metadata": {}
        },
        {
          "output_type": "display_data",
          "data": {
            "text/plain": [
              "recommendations finished on 77000/305946 queries. users per second: 19.1272"
            ],
            "text/html": [
              "<pre>recommendations finished on 77000/305946 queries. users per second: 19.1272</pre>"
            ]
          },
          "metadata": {}
        },
        {
          "output_type": "display_data",
          "data": {
            "text/plain": [
              "recommendations finished on 78000/305946 queries. users per second: 19.1299"
            ],
            "text/html": [
              "<pre>recommendations finished on 78000/305946 queries. users per second: 19.1299</pre>"
            ]
          },
          "metadata": {}
        },
        {
          "output_type": "display_data",
          "data": {
            "text/plain": [
              "recommendations finished on 79000/305946 queries. users per second: 19.1326"
            ],
            "text/html": [
              "<pre>recommendations finished on 79000/305946 queries. users per second: 19.1326</pre>"
            ]
          },
          "metadata": {}
        },
        {
          "output_type": "display_data",
          "data": {
            "text/plain": [
              "recommendations finished on 80000/305946 queries. users per second: 19.135"
            ],
            "text/html": [
              "<pre>recommendations finished on 80000/305946 queries. users per second: 19.135</pre>"
            ]
          },
          "metadata": {}
        },
        {
          "output_type": "display_data",
          "data": {
            "text/plain": [
              "recommendations finished on 81000/305946 queries. users per second: 19.1376"
            ],
            "text/html": [
              "<pre>recommendations finished on 81000/305946 queries. users per second: 19.1376</pre>"
            ]
          },
          "metadata": {}
        },
        {
          "output_type": "display_data",
          "data": {
            "text/plain": [
              "recommendations finished on 82000/305946 queries. users per second: 19.1404"
            ],
            "text/html": [
              "<pre>recommendations finished on 82000/305946 queries. users per second: 19.1404</pre>"
            ]
          },
          "metadata": {}
        },
        {
          "output_type": "display_data",
          "data": {
            "text/plain": [
              "recommendations finished on 83000/305946 queries. users per second: 19.1423"
            ],
            "text/html": [
              "<pre>recommendations finished on 83000/305946 queries. users per second: 19.1423</pre>"
            ]
          },
          "metadata": {}
        },
        {
          "output_type": "display_data",
          "data": {
            "text/plain": [
              "recommendations finished on 84000/305946 queries. users per second: 19.1451"
            ],
            "text/html": [
              "<pre>recommendations finished on 84000/305946 queries. users per second: 19.1451</pre>"
            ]
          },
          "metadata": {}
        },
        {
          "output_type": "display_data",
          "data": {
            "text/plain": [
              "recommendations finished on 85000/305946 queries. users per second: 19.1474"
            ],
            "text/html": [
              "<pre>recommendations finished on 85000/305946 queries. users per second: 19.1474</pre>"
            ]
          },
          "metadata": {}
        },
        {
          "output_type": "display_data",
          "data": {
            "text/plain": [
              "recommendations finished on 86000/305946 queries. users per second: 19.1496"
            ],
            "text/html": [
              "<pre>recommendations finished on 86000/305946 queries. users per second: 19.1496</pre>"
            ]
          },
          "metadata": {}
        },
        {
          "output_type": "display_data",
          "data": {
            "text/plain": [
              "recommendations finished on 87000/305946 queries. users per second: 19.1513"
            ],
            "text/html": [
              "<pre>recommendations finished on 87000/305946 queries. users per second: 19.1513</pre>"
            ]
          },
          "metadata": {}
        },
        {
          "output_type": "display_data",
          "data": {
            "text/plain": [
              "recommendations finished on 88000/305946 queries. users per second: 19.1535"
            ],
            "text/html": [
              "<pre>recommendations finished on 88000/305946 queries. users per second: 19.1535</pre>"
            ]
          },
          "metadata": {}
        },
        {
          "output_type": "display_data",
          "data": {
            "text/plain": [
              "recommendations finished on 89000/305946 queries. users per second: 19.1559"
            ],
            "text/html": [
              "<pre>recommendations finished on 89000/305946 queries. users per second: 19.1559</pre>"
            ]
          },
          "metadata": {}
        },
        {
          "output_type": "display_data",
          "data": {
            "text/plain": [
              "recommendations finished on 90000/305946 queries. users per second: 19.1577"
            ],
            "text/html": [
              "<pre>recommendations finished on 90000/305946 queries. users per second: 19.1577</pre>"
            ]
          },
          "metadata": {}
        },
        {
          "output_type": "display_data",
          "data": {
            "text/plain": [
              "recommendations finished on 91000/305946 queries. users per second: 19.1596"
            ],
            "text/html": [
              "<pre>recommendations finished on 91000/305946 queries. users per second: 19.1596</pre>"
            ]
          },
          "metadata": {}
        },
        {
          "output_type": "display_data",
          "data": {
            "text/plain": [
              "recommendations finished on 92000/305946 queries. users per second: 19.1615"
            ],
            "text/html": [
              "<pre>recommendations finished on 92000/305946 queries. users per second: 19.1615</pre>"
            ]
          },
          "metadata": {}
        },
        {
          "output_type": "display_data",
          "data": {
            "text/plain": [
              "recommendations finished on 93000/305946 queries. users per second: 19.1635"
            ],
            "text/html": [
              "<pre>recommendations finished on 93000/305946 queries. users per second: 19.1635</pre>"
            ]
          },
          "metadata": {}
        },
        {
          "output_type": "display_data",
          "data": {
            "text/plain": [
              "recommendations finished on 94000/305946 queries. users per second: 19.1654"
            ],
            "text/html": [
              "<pre>recommendations finished on 94000/305946 queries. users per second: 19.1654</pre>"
            ]
          },
          "metadata": {}
        },
        {
          "output_type": "display_data",
          "data": {
            "text/plain": [
              "recommendations finished on 95000/305946 queries. users per second: 19.1669"
            ],
            "text/html": [
              "<pre>recommendations finished on 95000/305946 queries. users per second: 19.1669</pre>"
            ]
          },
          "metadata": {}
        },
        {
          "output_type": "display_data",
          "data": {
            "text/plain": [
              "recommendations finished on 96000/305946 queries. users per second: 19.1686"
            ],
            "text/html": [
              "<pre>recommendations finished on 96000/305946 queries. users per second: 19.1686</pre>"
            ]
          },
          "metadata": {}
        },
        {
          "output_type": "display_data",
          "data": {
            "text/plain": [
              "recommendations finished on 97000/305946 queries. users per second: 19.1704"
            ],
            "text/html": [
              "<pre>recommendations finished on 97000/305946 queries. users per second: 19.1704</pre>"
            ]
          },
          "metadata": {}
        },
        {
          "output_type": "display_data",
          "data": {
            "text/plain": [
              "recommendations finished on 98000/305946 queries. users per second: 19.1724"
            ],
            "text/html": [
              "<pre>recommendations finished on 98000/305946 queries. users per second: 19.1724</pre>"
            ]
          },
          "metadata": {}
        },
        {
          "output_type": "display_data",
          "data": {
            "text/plain": [
              "recommendations finished on 99000/305946 queries. users per second: 19.174"
            ],
            "text/html": [
              "<pre>recommendations finished on 99000/305946 queries. users per second: 19.174</pre>"
            ]
          },
          "metadata": {}
        },
        {
          "output_type": "display_data",
          "data": {
            "text/plain": [
              "recommendations finished on 100000/305946 queries. users per second: 19.1754"
            ],
            "text/html": [
              "<pre>recommendations finished on 100000/305946 queries. users per second: 19.1754</pre>"
            ]
          },
          "metadata": {}
        },
        {
          "output_type": "display_data",
          "data": {
            "text/plain": [
              "recommendations finished on 101000/305946 queries. users per second: 19.1772"
            ],
            "text/html": [
              "<pre>recommendations finished on 101000/305946 queries. users per second: 19.1772</pre>"
            ]
          },
          "metadata": {}
        },
        {
          "output_type": "display_data",
          "data": {
            "text/plain": [
              "recommendations finished on 102000/305946 queries. users per second: 19.1785"
            ],
            "text/html": [
              "<pre>recommendations finished on 102000/305946 queries. users per second: 19.1785</pre>"
            ]
          },
          "metadata": {}
        },
        {
          "output_type": "display_data",
          "data": {
            "text/plain": [
              "recommendations finished on 103000/305946 queries. users per second: 19.1801"
            ],
            "text/html": [
              "<pre>recommendations finished on 103000/305946 queries. users per second: 19.1801</pre>"
            ]
          },
          "metadata": {}
        },
        {
          "output_type": "display_data",
          "data": {
            "text/plain": [
              "recommendations finished on 104000/305946 queries. users per second: 19.1817"
            ],
            "text/html": [
              "<pre>recommendations finished on 104000/305946 queries. users per second: 19.1817</pre>"
            ]
          },
          "metadata": {}
        },
        {
          "output_type": "display_data",
          "data": {
            "text/plain": [
              "recommendations finished on 105000/305946 queries. users per second: 19.1829"
            ],
            "text/html": [
              "<pre>recommendations finished on 105000/305946 queries. users per second: 19.1829</pre>"
            ]
          },
          "metadata": {}
        },
        {
          "output_type": "display_data",
          "data": {
            "text/plain": [
              "recommendations finished on 106000/305946 queries. users per second: 19.1844"
            ],
            "text/html": [
              "<pre>recommendations finished on 106000/305946 queries. users per second: 19.1844</pre>"
            ]
          },
          "metadata": {}
        },
        {
          "output_type": "display_data",
          "data": {
            "text/plain": [
              "recommendations finished on 107000/305946 queries. users per second: 19.1859"
            ],
            "text/html": [
              "<pre>recommendations finished on 107000/305946 queries. users per second: 19.1859</pre>"
            ]
          },
          "metadata": {}
        },
        {
          "output_type": "display_data",
          "data": {
            "text/plain": [
              "recommendations finished on 108000/305946 queries. users per second: 19.1871"
            ],
            "text/html": [
              "<pre>recommendations finished on 108000/305946 queries. users per second: 19.1871</pre>"
            ]
          },
          "metadata": {}
        },
        {
          "output_type": "display_data",
          "data": {
            "text/plain": [
              "recommendations finished on 109000/305946 queries. users per second: 19.1882"
            ],
            "text/html": [
              "<pre>recommendations finished on 109000/305946 queries. users per second: 19.1882</pre>"
            ]
          },
          "metadata": {}
        },
        {
          "output_type": "display_data",
          "data": {
            "text/plain": [
              "recommendations finished on 110000/305946 queries. users per second: 19.1895"
            ],
            "text/html": [
              "<pre>recommendations finished on 110000/305946 queries. users per second: 19.1895</pre>"
            ]
          },
          "metadata": {}
        },
        {
          "output_type": "display_data",
          "data": {
            "text/plain": [
              "recommendations finished on 111000/305946 queries. users per second: 19.1907"
            ],
            "text/html": [
              "<pre>recommendations finished on 111000/305946 queries. users per second: 19.1907</pre>"
            ]
          },
          "metadata": {}
        },
        {
          "output_type": "display_data",
          "data": {
            "text/plain": [
              "recommendations finished on 112000/305946 queries. users per second: 19.1919"
            ],
            "text/html": [
              "<pre>recommendations finished on 112000/305946 queries. users per second: 19.1919</pre>"
            ]
          },
          "metadata": {}
        },
        {
          "output_type": "display_data",
          "data": {
            "text/plain": [
              "recommendations finished on 113000/305946 queries. users per second: 19.1932"
            ],
            "text/html": [
              "<pre>recommendations finished on 113000/305946 queries. users per second: 19.1932</pre>"
            ]
          },
          "metadata": {}
        },
        {
          "output_type": "display_data",
          "data": {
            "text/plain": [
              "recommendations finished on 114000/305946 queries. users per second: 19.1943"
            ],
            "text/html": [
              "<pre>recommendations finished on 114000/305946 queries. users per second: 19.1943</pre>"
            ]
          },
          "metadata": {}
        },
        {
          "output_type": "display_data",
          "data": {
            "text/plain": [
              "recommendations finished on 115000/305946 queries. users per second: 19.1955"
            ],
            "text/html": [
              "<pre>recommendations finished on 115000/305946 queries. users per second: 19.1955</pre>"
            ]
          },
          "metadata": {}
        },
        {
          "output_type": "display_data",
          "data": {
            "text/plain": [
              "recommendations finished on 116000/305946 queries. users per second: 19.1966"
            ],
            "text/html": [
              "<pre>recommendations finished on 116000/305946 queries. users per second: 19.1966</pre>"
            ]
          },
          "metadata": {}
        },
        {
          "output_type": "display_data",
          "data": {
            "text/plain": [
              "recommendations finished on 117000/305946 queries. users per second: 19.1979"
            ],
            "text/html": [
              "<pre>recommendations finished on 117000/305946 queries. users per second: 19.1979</pre>"
            ]
          },
          "metadata": {}
        },
        {
          "output_type": "display_data",
          "data": {
            "text/plain": [
              "recommendations finished on 118000/305946 queries. users per second: 19.1988"
            ],
            "text/html": [
              "<pre>recommendations finished on 118000/305946 queries. users per second: 19.1988</pre>"
            ]
          },
          "metadata": {}
        },
        {
          "output_type": "display_data",
          "data": {
            "text/plain": [
              "recommendations finished on 119000/305946 queries. users per second: 19.1999"
            ],
            "text/html": [
              "<pre>recommendations finished on 119000/305946 queries. users per second: 19.1999</pre>"
            ]
          },
          "metadata": {}
        },
        {
          "output_type": "display_data",
          "data": {
            "text/plain": [
              "recommendations finished on 120000/305946 queries. users per second: 19.2007"
            ],
            "text/html": [
              "<pre>recommendations finished on 120000/305946 queries. users per second: 19.2007</pre>"
            ]
          },
          "metadata": {}
        },
        {
          "output_type": "display_data",
          "data": {
            "text/plain": [
              "recommendations finished on 121000/305946 queries. users per second: 19.2019"
            ],
            "text/html": [
              "<pre>recommendations finished on 121000/305946 queries. users per second: 19.2019</pre>"
            ]
          },
          "metadata": {}
        },
        {
          "output_type": "display_data",
          "data": {
            "text/plain": [
              "recommendations finished on 122000/305946 queries. users per second: 19.2027"
            ],
            "text/html": [
              "<pre>recommendations finished on 122000/305946 queries. users per second: 19.2027</pre>"
            ]
          },
          "metadata": {}
        },
        {
          "output_type": "display_data",
          "data": {
            "text/plain": [
              "recommendations finished on 123000/305946 queries. users per second: 19.2037"
            ],
            "text/html": [
              "<pre>recommendations finished on 123000/305946 queries. users per second: 19.2037</pre>"
            ]
          },
          "metadata": {}
        },
        {
          "output_type": "display_data",
          "data": {
            "text/plain": [
              "recommendations finished on 124000/305946 queries. users per second: 19.2048"
            ],
            "text/html": [
              "<pre>recommendations finished on 124000/305946 queries. users per second: 19.2048</pre>"
            ]
          },
          "metadata": {}
        },
        {
          "output_type": "display_data",
          "data": {
            "text/plain": [
              "recommendations finished on 125000/305946 queries. users per second: 19.2057"
            ],
            "text/html": [
              "<pre>recommendations finished on 125000/305946 queries. users per second: 19.2057</pre>"
            ]
          },
          "metadata": {}
        },
        {
          "output_type": "display_data",
          "data": {
            "text/plain": [
              "recommendations finished on 126000/305946 queries. users per second: 19.2067"
            ],
            "text/html": [
              "<pre>recommendations finished on 126000/305946 queries. users per second: 19.2067</pre>"
            ]
          },
          "metadata": {}
        },
        {
          "output_type": "display_data",
          "data": {
            "text/plain": [
              "recommendations finished on 127000/305946 queries. users per second: 19.2076"
            ],
            "text/html": [
              "<pre>recommendations finished on 127000/305946 queries. users per second: 19.2076</pre>"
            ]
          },
          "metadata": {}
        },
        {
          "output_type": "display_data",
          "data": {
            "text/plain": [
              "recommendations finished on 128000/305946 queries. users per second: 19.2085"
            ],
            "text/html": [
              "<pre>recommendations finished on 128000/305946 queries. users per second: 19.2085</pre>"
            ]
          },
          "metadata": {}
        },
        {
          "output_type": "display_data",
          "data": {
            "text/plain": [
              "recommendations finished on 129000/305946 queries. users per second: 19.2093"
            ],
            "text/html": [
              "<pre>recommendations finished on 129000/305946 queries. users per second: 19.2093</pre>"
            ]
          },
          "metadata": {}
        },
        {
          "output_type": "display_data",
          "data": {
            "text/plain": [
              "recommendations finished on 130000/305946 queries. users per second: 19.2103"
            ],
            "text/html": [
              "<pre>recommendations finished on 130000/305946 queries. users per second: 19.2103</pre>"
            ]
          },
          "metadata": {}
        },
        {
          "output_type": "display_data",
          "data": {
            "text/plain": [
              "recommendations finished on 131000/305946 queries. users per second: 19.2113"
            ],
            "text/html": [
              "<pre>recommendations finished on 131000/305946 queries. users per second: 19.2113</pre>"
            ]
          },
          "metadata": {}
        },
        {
          "output_type": "display_data",
          "data": {
            "text/plain": [
              "recommendations finished on 132000/305946 queries. users per second: 19.212"
            ],
            "text/html": [
              "<pre>recommendations finished on 132000/305946 queries. users per second: 19.212</pre>"
            ]
          },
          "metadata": {}
        },
        {
          "output_type": "display_data",
          "data": {
            "text/plain": [
              "recommendations finished on 133000/305946 queries. users per second: 19.2126"
            ],
            "text/html": [
              "<pre>recommendations finished on 133000/305946 queries. users per second: 19.2126</pre>"
            ]
          },
          "metadata": {}
        },
        {
          "output_type": "display_data",
          "data": {
            "text/plain": [
              "recommendations finished on 134000/305946 queries. users per second: 19.2134"
            ],
            "text/html": [
              "<pre>recommendations finished on 134000/305946 queries. users per second: 19.2134</pre>"
            ]
          },
          "metadata": {}
        },
        {
          "output_type": "display_data",
          "data": {
            "text/plain": [
              "recommendations finished on 135000/305946 queries. users per second: 19.2141"
            ],
            "text/html": [
              "<pre>recommendations finished on 135000/305946 queries. users per second: 19.2141</pre>"
            ]
          },
          "metadata": {}
        },
        {
          "output_type": "display_data",
          "data": {
            "text/plain": [
              "recommendations finished on 136000/305946 queries. users per second: 19.2147"
            ],
            "text/html": [
              "<pre>recommendations finished on 136000/305946 queries. users per second: 19.2147</pre>"
            ]
          },
          "metadata": {}
        },
        {
          "output_type": "display_data",
          "data": {
            "text/plain": [
              "recommendations finished on 137000/305946 queries. users per second: 19.2154"
            ],
            "text/html": [
              "<pre>recommendations finished on 137000/305946 queries. users per second: 19.2154</pre>"
            ]
          },
          "metadata": {}
        },
        {
          "output_type": "display_data",
          "data": {
            "text/plain": [
              "recommendations finished on 138000/305946 queries. users per second: 19.2159"
            ],
            "text/html": [
              "<pre>recommendations finished on 138000/305946 queries. users per second: 19.2159</pre>"
            ]
          },
          "metadata": {}
        },
        {
          "output_type": "display_data",
          "data": {
            "text/plain": [
              "recommendations finished on 139000/305946 queries. users per second: 19.2166"
            ],
            "text/html": [
              "<pre>recommendations finished on 139000/305946 queries. users per second: 19.2166</pre>"
            ]
          },
          "metadata": {}
        },
        {
          "output_type": "display_data",
          "data": {
            "text/plain": [
              "recommendations finished on 140000/305946 queries. users per second: 19.2176"
            ],
            "text/html": [
              "<pre>recommendations finished on 140000/305946 queries. users per second: 19.2176</pre>"
            ]
          },
          "metadata": {}
        },
        {
          "output_type": "display_data",
          "data": {
            "text/plain": [
              "recommendations finished on 141000/305946 queries. users per second: 19.2183"
            ],
            "text/html": [
              "<pre>recommendations finished on 141000/305946 queries. users per second: 19.2183</pre>"
            ]
          },
          "metadata": {}
        },
        {
          "output_type": "display_data",
          "data": {
            "text/plain": [
              "recommendations finished on 142000/305946 queries. users per second: 19.2191"
            ],
            "text/html": [
              "<pre>recommendations finished on 142000/305946 queries. users per second: 19.2191</pre>"
            ]
          },
          "metadata": {}
        },
        {
          "output_type": "display_data",
          "data": {
            "text/plain": [
              "recommendations finished on 143000/305946 queries. users per second: 19.2197"
            ],
            "text/html": [
              "<pre>recommendations finished on 143000/305946 queries. users per second: 19.2197</pre>"
            ]
          },
          "metadata": {}
        },
        {
          "output_type": "display_data",
          "data": {
            "text/plain": [
              "recommendations finished on 144000/305946 queries. users per second: 19.2206"
            ],
            "text/html": [
              "<pre>recommendations finished on 144000/305946 queries. users per second: 19.2206</pre>"
            ]
          },
          "metadata": {}
        },
        {
          "output_type": "display_data",
          "data": {
            "text/plain": [
              "recommendations finished on 145000/305946 queries. users per second: 19.2211"
            ],
            "text/html": [
              "<pre>recommendations finished on 145000/305946 queries. users per second: 19.2211</pre>"
            ]
          },
          "metadata": {}
        },
        {
          "output_type": "display_data",
          "data": {
            "text/plain": [
              "recommendations finished on 146000/305946 queries. users per second: 19.2215"
            ],
            "text/html": [
              "<pre>recommendations finished on 146000/305946 queries. users per second: 19.2215</pre>"
            ]
          },
          "metadata": {}
        },
        {
          "output_type": "display_data",
          "data": {
            "text/plain": [
              "recommendations finished on 147000/305946 queries. users per second: 19.222"
            ],
            "text/html": [
              "<pre>recommendations finished on 147000/305946 queries. users per second: 19.222</pre>"
            ]
          },
          "metadata": {}
        },
        {
          "output_type": "display_data",
          "data": {
            "text/plain": [
              "recommendations finished on 148000/305946 queries. users per second: 19.2224"
            ],
            "text/html": [
              "<pre>recommendations finished on 148000/305946 queries. users per second: 19.2224</pre>"
            ]
          },
          "metadata": {}
        },
        {
          "output_type": "display_data",
          "data": {
            "text/plain": [
              "recommendations finished on 149000/305946 queries. users per second: 19.223"
            ],
            "text/html": [
              "<pre>recommendations finished on 149000/305946 queries. users per second: 19.223</pre>"
            ]
          },
          "metadata": {}
        },
        {
          "output_type": "display_data",
          "data": {
            "text/plain": [
              "recommendations finished on 150000/305946 queries. users per second: 19.2234"
            ],
            "text/html": [
              "<pre>recommendations finished on 150000/305946 queries. users per second: 19.2234</pre>"
            ]
          },
          "metadata": {}
        },
        {
          "output_type": "display_data",
          "data": {
            "text/plain": [
              "recommendations finished on 151000/305946 queries. users per second: 19.2239"
            ],
            "text/html": [
              "<pre>recommendations finished on 151000/305946 queries. users per second: 19.2239</pre>"
            ]
          },
          "metadata": {}
        },
        {
          "output_type": "display_data",
          "data": {
            "text/plain": [
              "recommendations finished on 152000/305946 queries. users per second: 19.2244"
            ],
            "text/html": [
              "<pre>recommendations finished on 152000/305946 queries. users per second: 19.2244</pre>"
            ]
          },
          "metadata": {}
        },
        {
          "output_type": "display_data",
          "data": {
            "text/plain": [
              "recommendations finished on 153000/305946 queries. users per second: 19.225"
            ],
            "text/html": [
              "<pre>recommendations finished on 153000/305946 queries. users per second: 19.225</pre>"
            ]
          },
          "metadata": {}
        },
        {
          "output_type": "display_data",
          "data": {
            "text/plain": [
              "recommendations finished on 154000/305946 queries. users per second: 19.2255"
            ],
            "text/html": [
              "<pre>recommendations finished on 154000/305946 queries. users per second: 19.2255</pre>"
            ]
          },
          "metadata": {}
        },
        {
          "output_type": "display_data",
          "data": {
            "text/plain": [
              "recommendations finished on 155000/305946 queries. users per second: 19.2261"
            ],
            "text/html": [
              "<pre>recommendations finished on 155000/305946 queries. users per second: 19.2261</pre>"
            ]
          },
          "metadata": {}
        },
        {
          "output_type": "display_data",
          "data": {
            "text/plain": [
              "recommendations finished on 156000/305946 queries. users per second: 19.2267"
            ],
            "text/html": [
              "<pre>recommendations finished on 156000/305946 queries. users per second: 19.2267</pre>"
            ]
          },
          "metadata": {}
        },
        {
          "output_type": "display_data",
          "data": {
            "text/plain": [
              "recommendations finished on 157000/305946 queries. users per second: 19.2271"
            ],
            "text/html": [
              "<pre>recommendations finished on 157000/305946 queries. users per second: 19.2271</pre>"
            ]
          },
          "metadata": {}
        },
        {
          "output_type": "display_data",
          "data": {
            "text/plain": [
              "recommendations finished on 158000/305946 queries. users per second: 19.2277"
            ],
            "text/html": [
              "<pre>recommendations finished on 158000/305946 queries. users per second: 19.2277</pre>"
            ]
          },
          "metadata": {}
        },
        {
          "output_type": "display_data",
          "data": {
            "text/plain": [
              "recommendations finished on 159000/305946 queries. users per second: 19.2282"
            ],
            "text/html": [
              "<pre>recommendations finished on 159000/305946 queries. users per second: 19.2282</pre>"
            ]
          },
          "metadata": {}
        },
        {
          "output_type": "display_data",
          "data": {
            "text/plain": [
              "recommendations finished on 160000/305946 queries. users per second: 19.2287"
            ],
            "text/html": [
              "<pre>recommendations finished on 160000/305946 queries. users per second: 19.2287</pre>"
            ]
          },
          "metadata": {}
        },
        {
          "output_type": "display_data",
          "data": {
            "text/plain": [
              "recommendations finished on 161000/305946 queries. users per second: 19.2291"
            ],
            "text/html": [
              "<pre>recommendations finished on 161000/305946 queries. users per second: 19.2291</pre>"
            ]
          },
          "metadata": {}
        },
        {
          "output_type": "display_data",
          "data": {
            "text/plain": [
              "recommendations finished on 162000/305946 queries. users per second: 19.2296"
            ],
            "text/html": [
              "<pre>recommendations finished on 162000/305946 queries. users per second: 19.2296</pre>"
            ]
          },
          "metadata": {}
        },
        {
          "output_type": "display_data",
          "data": {
            "text/plain": [
              "recommendations finished on 163000/305946 queries. users per second: 19.2301"
            ],
            "text/html": [
              "<pre>recommendations finished on 163000/305946 queries. users per second: 19.2301</pre>"
            ]
          },
          "metadata": {}
        },
        {
          "output_type": "display_data",
          "data": {
            "text/plain": [
              "recommendations finished on 164000/305946 queries. users per second: 19.2306"
            ],
            "text/html": [
              "<pre>recommendations finished on 164000/305946 queries. users per second: 19.2306</pre>"
            ]
          },
          "metadata": {}
        },
        {
          "output_type": "display_data",
          "data": {
            "text/plain": [
              "recommendations finished on 165000/305946 queries. users per second: 19.2311"
            ],
            "text/html": [
              "<pre>recommendations finished on 165000/305946 queries. users per second: 19.2311</pre>"
            ]
          },
          "metadata": {}
        },
        {
          "output_type": "display_data",
          "data": {
            "text/plain": [
              "recommendations finished on 166000/305946 queries. users per second: 19.2318"
            ],
            "text/html": [
              "<pre>recommendations finished on 166000/305946 queries. users per second: 19.2318</pre>"
            ]
          },
          "metadata": {}
        },
        {
          "output_type": "display_data",
          "data": {
            "text/plain": [
              "recommendations finished on 167000/305946 queries. users per second: 19.2322"
            ],
            "text/html": [
              "<pre>recommendations finished on 167000/305946 queries. users per second: 19.2322</pre>"
            ]
          },
          "metadata": {}
        },
        {
          "output_type": "display_data",
          "data": {
            "text/plain": [
              "recommendations finished on 168000/305946 queries. users per second: 19.2326"
            ],
            "text/html": [
              "<pre>recommendations finished on 168000/305946 queries. users per second: 19.2326</pre>"
            ]
          },
          "metadata": {}
        },
        {
          "output_type": "display_data",
          "data": {
            "text/plain": [
              "recommendations finished on 169000/305946 queries. users per second: 19.233"
            ],
            "text/html": [
              "<pre>recommendations finished on 169000/305946 queries. users per second: 19.233</pre>"
            ]
          },
          "metadata": {}
        },
        {
          "output_type": "display_data",
          "data": {
            "text/plain": [
              "recommendations finished on 170000/305946 queries. users per second: 19.2335"
            ],
            "text/html": [
              "<pre>recommendations finished on 170000/305946 queries. users per second: 19.2335</pre>"
            ]
          },
          "metadata": {}
        },
        {
          "output_type": "display_data",
          "data": {
            "text/plain": [
              "recommendations finished on 171000/305946 queries. users per second: 19.2341"
            ],
            "text/html": [
              "<pre>recommendations finished on 171000/305946 queries. users per second: 19.2341</pre>"
            ]
          },
          "metadata": {}
        },
        {
          "output_type": "display_data",
          "data": {
            "text/plain": [
              "recommendations finished on 172000/305946 queries. users per second: 19.2345"
            ],
            "text/html": [
              "<pre>recommendations finished on 172000/305946 queries. users per second: 19.2345</pre>"
            ]
          },
          "metadata": {}
        },
        {
          "output_type": "display_data",
          "data": {
            "text/plain": [
              "recommendations finished on 173000/305946 queries. users per second: 19.235"
            ],
            "text/html": [
              "<pre>recommendations finished on 173000/305946 queries. users per second: 19.235</pre>"
            ]
          },
          "metadata": {}
        },
        {
          "output_type": "display_data",
          "data": {
            "text/plain": [
              "recommendations finished on 174000/305946 queries. users per second: 19.2356"
            ],
            "text/html": [
              "<pre>recommendations finished on 174000/305946 queries. users per second: 19.2356</pre>"
            ]
          },
          "metadata": {}
        },
        {
          "output_type": "display_data",
          "data": {
            "text/plain": [
              "recommendations finished on 175000/305946 queries. users per second: 19.236"
            ],
            "text/html": [
              "<pre>recommendations finished on 175000/305946 queries. users per second: 19.236</pre>"
            ]
          },
          "metadata": {}
        },
        {
          "output_type": "display_data",
          "data": {
            "text/plain": [
              "recommendations finished on 176000/305946 queries. users per second: 19.2365"
            ],
            "text/html": [
              "<pre>recommendations finished on 176000/305946 queries. users per second: 19.2365</pre>"
            ]
          },
          "metadata": {}
        },
        {
          "output_type": "display_data",
          "data": {
            "text/plain": [
              "recommendations finished on 177000/305946 queries. users per second: 19.2368"
            ],
            "text/html": [
              "<pre>recommendations finished on 177000/305946 queries. users per second: 19.2368</pre>"
            ]
          },
          "metadata": {}
        },
        {
          "output_type": "display_data",
          "data": {
            "text/plain": [
              "recommendations finished on 178000/305946 queries. users per second: 19.2373"
            ],
            "text/html": [
              "<pre>recommendations finished on 178000/305946 queries. users per second: 19.2373</pre>"
            ]
          },
          "metadata": {}
        },
        {
          "output_type": "display_data",
          "data": {
            "text/plain": [
              "recommendations finished on 179000/305946 queries. users per second: 19.2379"
            ],
            "text/html": [
              "<pre>recommendations finished on 179000/305946 queries. users per second: 19.2379</pre>"
            ]
          },
          "metadata": {}
        },
        {
          "output_type": "display_data",
          "data": {
            "text/plain": [
              "recommendations finished on 180000/305946 queries. users per second: 19.2384"
            ],
            "text/html": [
              "<pre>recommendations finished on 180000/305946 queries. users per second: 19.2384</pre>"
            ]
          },
          "metadata": {}
        },
        {
          "output_type": "display_data",
          "data": {
            "text/plain": [
              "recommendations finished on 181000/305946 queries. users per second: 19.2387"
            ],
            "text/html": [
              "<pre>recommendations finished on 181000/305946 queries. users per second: 19.2387</pre>"
            ]
          },
          "metadata": {}
        },
        {
          "output_type": "display_data",
          "data": {
            "text/plain": [
              "recommendations finished on 182000/305946 queries. users per second: 19.2391"
            ],
            "text/html": [
              "<pre>recommendations finished on 182000/305946 queries. users per second: 19.2391</pre>"
            ]
          },
          "metadata": {}
        },
        {
          "output_type": "display_data",
          "data": {
            "text/plain": [
              "recommendations finished on 183000/305946 queries. users per second: 19.2396"
            ],
            "text/html": [
              "<pre>recommendations finished on 183000/305946 queries. users per second: 19.2396</pre>"
            ]
          },
          "metadata": {}
        },
        {
          "output_type": "display_data",
          "data": {
            "text/plain": [
              "recommendations finished on 184000/305946 queries. users per second: 19.24"
            ],
            "text/html": [
              "<pre>recommendations finished on 184000/305946 queries. users per second: 19.24</pre>"
            ]
          },
          "metadata": {}
        },
        {
          "output_type": "display_data",
          "data": {
            "text/plain": [
              "recommendations finished on 185000/305946 queries. users per second: 19.2405"
            ],
            "text/html": [
              "<pre>recommendations finished on 185000/305946 queries. users per second: 19.2405</pre>"
            ]
          },
          "metadata": {}
        },
        {
          "output_type": "display_data",
          "data": {
            "text/plain": [
              "recommendations finished on 186000/305946 queries. users per second: 19.2409"
            ],
            "text/html": [
              "<pre>recommendations finished on 186000/305946 queries. users per second: 19.2409</pre>"
            ]
          },
          "metadata": {}
        },
        {
          "output_type": "display_data",
          "data": {
            "text/plain": [
              "recommendations finished on 187000/305946 queries. users per second: 19.2413"
            ],
            "text/html": [
              "<pre>recommendations finished on 187000/305946 queries. users per second: 19.2413</pre>"
            ]
          },
          "metadata": {}
        },
        {
          "output_type": "display_data",
          "data": {
            "text/plain": [
              "recommendations finished on 188000/305946 queries. users per second: 19.2416"
            ],
            "text/html": [
              "<pre>recommendations finished on 188000/305946 queries. users per second: 19.2416</pre>"
            ]
          },
          "metadata": {}
        },
        {
          "output_type": "display_data",
          "data": {
            "text/plain": [
              "recommendations finished on 189000/305946 queries. users per second: 19.242"
            ],
            "text/html": [
              "<pre>recommendations finished on 189000/305946 queries. users per second: 19.242</pre>"
            ]
          },
          "metadata": {}
        },
        {
          "output_type": "display_data",
          "data": {
            "text/plain": [
              "recommendations finished on 190000/305946 queries. users per second: 19.2425"
            ],
            "text/html": [
              "<pre>recommendations finished on 190000/305946 queries. users per second: 19.2425</pre>"
            ]
          },
          "metadata": {}
        },
        {
          "output_type": "display_data",
          "data": {
            "text/plain": [
              "recommendations finished on 191000/305946 queries. users per second: 19.2429"
            ],
            "text/html": [
              "<pre>recommendations finished on 191000/305946 queries. users per second: 19.2429</pre>"
            ]
          },
          "metadata": {}
        },
        {
          "output_type": "display_data",
          "data": {
            "text/plain": [
              "recommendations finished on 192000/305946 queries. users per second: 19.2433"
            ],
            "text/html": [
              "<pre>recommendations finished on 192000/305946 queries. users per second: 19.2433</pre>"
            ]
          },
          "metadata": {}
        },
        {
          "output_type": "display_data",
          "data": {
            "text/plain": [
              "recommendations finished on 193000/305946 queries. users per second: 19.2435"
            ],
            "text/html": [
              "<pre>recommendations finished on 193000/305946 queries. users per second: 19.2435</pre>"
            ]
          },
          "metadata": {}
        },
        {
          "output_type": "display_data",
          "data": {
            "text/plain": [
              "recommendations finished on 194000/305946 queries. users per second: 19.2437"
            ],
            "text/html": [
              "<pre>recommendations finished on 194000/305946 queries. users per second: 19.2437</pre>"
            ]
          },
          "metadata": {}
        },
        {
          "output_type": "display_data",
          "data": {
            "text/plain": [
              "recommendations finished on 195000/305946 queries. users per second: 19.244"
            ],
            "text/html": [
              "<pre>recommendations finished on 195000/305946 queries. users per second: 19.244</pre>"
            ]
          },
          "metadata": {}
        },
        {
          "output_type": "display_data",
          "data": {
            "text/plain": [
              "recommendations finished on 196000/305946 queries. users per second: 19.2444"
            ],
            "text/html": [
              "<pre>recommendations finished on 196000/305946 queries. users per second: 19.2444</pre>"
            ]
          },
          "metadata": {}
        },
        {
          "output_type": "display_data",
          "data": {
            "text/plain": [
              "recommendations finished on 197000/305946 queries. users per second: 19.2446"
            ],
            "text/html": [
              "<pre>recommendations finished on 197000/305946 queries. users per second: 19.2446</pre>"
            ]
          },
          "metadata": {}
        },
        {
          "output_type": "display_data",
          "data": {
            "text/plain": [
              "recommendations finished on 198000/305946 queries. users per second: 19.245"
            ],
            "text/html": [
              "<pre>recommendations finished on 198000/305946 queries. users per second: 19.245</pre>"
            ]
          },
          "metadata": {}
        },
        {
          "output_type": "display_data",
          "data": {
            "text/plain": [
              "recommendations finished on 199000/305946 queries. users per second: 19.2453"
            ],
            "text/html": [
              "<pre>recommendations finished on 199000/305946 queries. users per second: 19.2453</pre>"
            ]
          },
          "metadata": {}
        },
        {
          "output_type": "display_data",
          "data": {
            "text/plain": [
              "recommendations finished on 201000/305946 queries. users per second: 19.2458"
            ],
            "text/html": [
              "<pre>recommendations finished on 201000/305946 queries. users per second: 19.2458</pre>"
            ]
          },
          "metadata": {}
        },
        {
          "output_type": "display_data",
          "data": {
            "text/plain": [
              "recommendations finished on 202000/305946 queries. users per second: 19.2462"
            ],
            "text/html": [
              "<pre>recommendations finished on 202000/305946 queries. users per second: 19.2462</pre>"
            ]
          },
          "metadata": {}
        },
        {
          "output_type": "display_data",
          "data": {
            "text/plain": [
              "recommendations finished on 203000/305946 queries. users per second: 19.2465"
            ],
            "text/html": [
              "<pre>recommendations finished on 203000/305946 queries. users per second: 19.2465</pre>"
            ]
          },
          "metadata": {}
        },
        {
          "output_type": "display_data",
          "data": {
            "text/plain": [
              "recommendations finished on 204000/305946 queries. users per second: 19.2464"
            ],
            "text/html": [
              "<pre>recommendations finished on 204000/305946 queries. users per second: 19.2464</pre>"
            ]
          },
          "metadata": {}
        },
        {
          "output_type": "display_data",
          "data": {
            "text/plain": [
              "recommendations finished on 205000/305946 queries. users per second: 19.2467"
            ],
            "text/html": [
              "<pre>recommendations finished on 205000/305946 queries. users per second: 19.2467</pre>"
            ]
          },
          "metadata": {}
        },
        {
          "output_type": "display_data",
          "data": {
            "text/plain": [
              "recommendations finished on 206000/305946 queries. users per second: 19.247"
            ],
            "text/html": [
              "<pre>recommendations finished on 206000/305946 queries. users per second: 19.247</pre>"
            ]
          },
          "metadata": {}
        },
        {
          "output_type": "display_data",
          "data": {
            "text/plain": [
              "recommendations finished on 207000/305946 queries. users per second: 19.2473"
            ],
            "text/html": [
              "<pre>recommendations finished on 207000/305946 queries. users per second: 19.2473</pre>"
            ]
          },
          "metadata": {}
        },
        {
          "output_type": "display_data",
          "data": {
            "text/plain": [
              "recommendations finished on 208000/305946 queries. users per second: 19.2475"
            ],
            "text/html": [
              "<pre>recommendations finished on 208000/305946 queries. users per second: 19.2475</pre>"
            ]
          },
          "metadata": {}
        },
        {
          "output_type": "display_data",
          "data": {
            "text/plain": [
              "recommendations finished on 209000/305946 queries. users per second: 19.2476"
            ],
            "text/html": [
              "<pre>recommendations finished on 209000/305946 queries. users per second: 19.2476</pre>"
            ]
          },
          "metadata": {}
        },
        {
          "output_type": "display_data",
          "data": {
            "text/plain": [
              "recommendations finished on 210000/305946 queries. users per second: 19.248"
            ],
            "text/html": [
              "<pre>recommendations finished on 210000/305946 queries. users per second: 19.248</pre>"
            ]
          },
          "metadata": {}
        },
        {
          "output_type": "display_data",
          "data": {
            "text/plain": [
              "recommendations finished on 211000/305946 queries. users per second: 19.2482"
            ],
            "text/html": [
              "<pre>recommendations finished on 211000/305946 queries. users per second: 19.2482</pre>"
            ]
          },
          "metadata": {}
        },
        {
          "output_type": "display_data",
          "data": {
            "text/plain": [
              "recommendations finished on 212000/305946 queries. users per second: 19.2485"
            ],
            "text/html": [
              "<pre>recommendations finished on 212000/305946 queries. users per second: 19.2485</pre>"
            ]
          },
          "metadata": {}
        },
        {
          "output_type": "display_data",
          "data": {
            "text/plain": [
              "recommendations finished on 213000/305946 queries. users per second: 19.2489"
            ],
            "text/html": [
              "<pre>recommendations finished on 213000/305946 queries. users per second: 19.2489</pre>"
            ]
          },
          "metadata": {}
        },
        {
          "output_type": "display_data",
          "data": {
            "text/plain": [
              "recommendations finished on 214000/305946 queries. users per second: 19.2493"
            ],
            "text/html": [
              "<pre>recommendations finished on 214000/305946 queries. users per second: 19.2493</pre>"
            ]
          },
          "metadata": {}
        },
        {
          "output_type": "display_data",
          "data": {
            "text/plain": [
              "recommendations finished on 215000/305946 queries. users per second: 19.2495"
            ],
            "text/html": [
              "<pre>recommendations finished on 215000/305946 queries. users per second: 19.2495</pre>"
            ]
          },
          "metadata": {}
        },
        {
          "output_type": "display_data",
          "data": {
            "text/plain": [
              "recommendations finished on 216000/305946 queries. users per second: 19.2497"
            ],
            "text/html": [
              "<pre>recommendations finished on 216000/305946 queries. users per second: 19.2497</pre>"
            ]
          },
          "metadata": {}
        },
        {
          "output_type": "display_data",
          "data": {
            "text/plain": [
              "recommendations finished on 217000/305946 queries. users per second: 19.2499"
            ],
            "text/html": [
              "<pre>recommendations finished on 217000/305946 queries. users per second: 19.2499</pre>"
            ]
          },
          "metadata": {}
        },
        {
          "output_type": "display_data",
          "data": {
            "text/plain": [
              "recommendations finished on 218000/305946 queries. users per second: 19.2501"
            ],
            "text/html": [
              "<pre>recommendations finished on 218000/305946 queries. users per second: 19.2501</pre>"
            ]
          },
          "metadata": {}
        },
        {
          "output_type": "display_data",
          "data": {
            "text/plain": [
              "recommendations finished on 219000/305946 queries. users per second: 19.2505"
            ],
            "text/html": [
              "<pre>recommendations finished on 219000/305946 queries. users per second: 19.2505</pre>"
            ]
          },
          "metadata": {}
        },
        {
          "output_type": "display_data",
          "data": {
            "text/plain": [
              "recommendations finished on 220000/305946 queries. users per second: 19.2507"
            ],
            "text/html": [
              "<pre>recommendations finished on 220000/305946 queries. users per second: 19.2507</pre>"
            ]
          },
          "metadata": {}
        }
      ]
    },
    {
      "cell_type": "code",
      "source": [
        "# print the n first recommendations\n",
        "recommendation.print_rows(100)"
      ],
      "metadata": {
        "colab": {
          "base_uri": "https://localhost:8080/",
          "height": 187
        },
        "id": "KZ0VrmziKN3q",
        "outputId": "eff7a857-7e80-4562-d535-029d36df74e7"
      },
      "execution_count": null,
      "outputs": [
        {
          "output_type": "error",
          "ename": "NameError",
          "evalue": "ignored",
          "traceback": [
            "\u001b[0;31m---------------------------------------------------------------------------\u001b[0m",
            "\u001b[0;31mNameError\u001b[0m                                 Traceback (most recent call last)",
            "\u001b[0;32m<ipython-input-16-f9e03c77bfef>\u001b[0m in \u001b[0;36m<module>\u001b[0;34m()\u001b[0m\n\u001b[1;32m      1\u001b[0m \u001b[0;31m# print the n first recommendations\u001b[0m\u001b[0;34m\u001b[0m\u001b[0;34m\u001b[0m\u001b[0;34m\u001b[0m\u001b[0m\n\u001b[0;32m----> 2\u001b[0;31m \u001b[0mrecommendation\u001b[0m\u001b[0;34m.\u001b[0m\u001b[0mprint_rows\u001b[0m\u001b[0;34m(\u001b[0m\u001b[0;36m100\u001b[0m\u001b[0;34m)\u001b[0m\u001b[0;34m\u001b[0m\u001b[0;34m\u001b[0m\u001b[0m\n\u001b[0m",
            "\u001b[0;31mNameError\u001b[0m: name 'recommendation' is not defined"
          ]
        }
      ]
    },
    {
      "cell_type": "code",
      "source": [
        "mf_feat_eval = mf_sideFtrs.evaluate_precision_recall(df_test)"
      ],
      "metadata": {
        "colab": {
          "base_uri": "https://localhost:8080/",
          "height": 1000
        },
        "id": "KKsv1d2FXSub",
        "outputId": "872f760e-e4fd-47f6-cf26-cf2bc7b34516"
      },
      "execution_count": null,
      "outputs": [
        {
          "output_type": "display_data",
          "data": {
            "text/plain": [
              "recommendations finished on 1000/89981 queries. users per second: 23.2944"
            ],
            "text/html": [
              "<pre>recommendations finished on 1000/89981 queries. users per second: 23.2944</pre>"
            ]
          },
          "metadata": {}
        },
        {
          "output_type": "display_data",
          "data": {
            "text/plain": [
              "recommendations finished on 2000/89981 queries. users per second: 23.3739"
            ],
            "text/html": [
              "<pre>recommendations finished on 2000/89981 queries. users per second: 23.3739</pre>"
            ]
          },
          "metadata": {}
        },
        {
          "output_type": "display_data",
          "data": {
            "text/plain": [
              "recommendations finished on 3000/89981 queries. users per second: 23.3721"
            ],
            "text/html": [
              "<pre>recommendations finished on 3000/89981 queries. users per second: 23.3721</pre>"
            ]
          },
          "metadata": {}
        },
        {
          "output_type": "display_data",
          "data": {
            "text/plain": [
              "recommendations finished on 4000/89981 queries. users per second: 23.3034"
            ],
            "text/html": [
              "<pre>recommendations finished on 4000/89981 queries. users per second: 23.3034</pre>"
            ]
          },
          "metadata": {}
        },
        {
          "output_type": "display_data",
          "data": {
            "text/plain": [
              "recommendations finished on 5000/89981 queries. users per second: 23.2433"
            ],
            "text/html": [
              "<pre>recommendations finished on 5000/89981 queries. users per second: 23.2433</pre>"
            ]
          },
          "metadata": {}
        },
        {
          "output_type": "display_data",
          "data": {
            "text/plain": [
              "recommendations finished on 6000/89981 queries. users per second: 23.2338"
            ],
            "text/html": [
              "<pre>recommendations finished on 6000/89981 queries. users per second: 23.2338</pre>"
            ]
          },
          "metadata": {}
        },
        {
          "output_type": "display_data",
          "data": {
            "text/plain": [
              "recommendations finished on 7000/89981 queries. users per second: 23.256"
            ],
            "text/html": [
              "<pre>recommendations finished on 7000/89981 queries. users per second: 23.256</pre>"
            ]
          },
          "metadata": {}
        },
        {
          "output_type": "display_data",
          "data": {
            "text/plain": [
              "recommendations finished on 8000/89981 queries. users per second: 23.2626"
            ],
            "text/html": [
              "<pre>recommendations finished on 8000/89981 queries. users per second: 23.2626</pre>"
            ]
          },
          "metadata": {}
        },
        {
          "output_type": "display_data",
          "data": {
            "text/plain": [
              "recommendations finished on 9000/89981 queries. users per second: 23.2802"
            ],
            "text/html": [
              "<pre>recommendations finished on 9000/89981 queries. users per second: 23.2802</pre>"
            ]
          },
          "metadata": {}
        },
        {
          "output_type": "display_data",
          "data": {
            "text/plain": [
              "recommendations finished on 10000/89981 queries. users per second: 23.2568"
            ],
            "text/html": [
              "<pre>recommendations finished on 10000/89981 queries. users per second: 23.2568</pre>"
            ]
          },
          "metadata": {}
        },
        {
          "output_type": "display_data",
          "data": {
            "text/plain": [
              "recommendations finished on 11000/89981 queries. users per second: 23.2544"
            ],
            "text/html": [
              "<pre>recommendations finished on 11000/89981 queries. users per second: 23.2544</pre>"
            ]
          },
          "metadata": {}
        },
        {
          "output_type": "display_data",
          "data": {
            "text/plain": [
              "recommendations finished on 12000/89981 queries. users per second: 23.223"
            ],
            "text/html": [
              "<pre>recommendations finished on 12000/89981 queries. users per second: 23.223</pre>"
            ]
          },
          "metadata": {}
        },
        {
          "output_type": "display_data",
          "data": {
            "text/plain": [
              "recommendations finished on 13000/89981 queries. users per second: 23.2057"
            ],
            "text/html": [
              "<pre>recommendations finished on 13000/89981 queries. users per second: 23.2057</pre>"
            ]
          },
          "metadata": {}
        },
        {
          "output_type": "display_data",
          "data": {
            "text/plain": [
              "recommendations finished on 14000/89981 queries. users per second: 23.1782"
            ],
            "text/html": [
              "<pre>recommendations finished on 14000/89981 queries. users per second: 23.1782</pre>"
            ]
          },
          "metadata": {}
        },
        {
          "output_type": "display_data",
          "data": {
            "text/plain": [
              "recommendations finished on 15000/89981 queries. users per second: 23.1731"
            ],
            "text/html": [
              "<pre>recommendations finished on 15000/89981 queries. users per second: 23.1731</pre>"
            ]
          },
          "metadata": {}
        },
        {
          "output_type": "display_data",
          "data": {
            "text/plain": [
              "recommendations finished on 16000/89981 queries. users per second: 23.1731"
            ],
            "text/html": [
              "<pre>recommendations finished on 16000/89981 queries. users per second: 23.1731</pre>"
            ]
          },
          "metadata": {}
        },
        {
          "output_type": "display_data",
          "data": {
            "text/plain": [
              "recommendations finished on 17000/89981 queries. users per second: 23.1715"
            ],
            "text/html": [
              "<pre>recommendations finished on 17000/89981 queries. users per second: 23.1715</pre>"
            ]
          },
          "metadata": {}
        },
        {
          "output_type": "display_data",
          "data": {
            "text/plain": [
              "recommendations finished on 18000/89981 queries. users per second: 23.1737"
            ],
            "text/html": [
              "<pre>recommendations finished on 18000/89981 queries. users per second: 23.1737</pre>"
            ]
          },
          "metadata": {}
        },
        {
          "output_type": "display_data",
          "data": {
            "text/plain": [
              "recommendations finished on 19000/89981 queries. users per second: 23.1632"
            ],
            "text/html": [
              "<pre>recommendations finished on 19000/89981 queries. users per second: 23.1632</pre>"
            ]
          },
          "metadata": {}
        },
        {
          "output_type": "display_data",
          "data": {
            "text/plain": [
              "recommendations finished on 20000/89981 queries. users per second: 23.1692"
            ],
            "text/html": [
              "<pre>recommendations finished on 20000/89981 queries. users per second: 23.1692</pre>"
            ]
          },
          "metadata": {}
        },
        {
          "output_type": "display_data",
          "data": {
            "text/plain": [
              "recommendations finished on 21000/89981 queries. users per second: 23.1748"
            ],
            "text/html": [
              "<pre>recommendations finished on 21000/89981 queries. users per second: 23.1748</pre>"
            ]
          },
          "metadata": {}
        },
        {
          "output_type": "display_data",
          "data": {
            "text/plain": [
              "recommendations finished on 22000/89981 queries. users per second: 23.1787"
            ],
            "text/html": [
              "<pre>recommendations finished on 22000/89981 queries. users per second: 23.1787</pre>"
            ]
          },
          "metadata": {}
        },
        {
          "output_type": "display_data",
          "data": {
            "text/plain": [
              "recommendations finished on 23000/89981 queries. users per second: 23.1777"
            ],
            "text/html": [
              "<pre>recommendations finished on 23000/89981 queries. users per second: 23.1777</pre>"
            ]
          },
          "metadata": {}
        },
        {
          "output_type": "display_data",
          "data": {
            "text/plain": [
              "recommendations finished on 24000/89981 queries. users per second: 23.1785"
            ],
            "text/html": [
              "<pre>recommendations finished on 24000/89981 queries. users per second: 23.1785</pre>"
            ]
          },
          "metadata": {}
        },
        {
          "output_type": "display_data",
          "data": {
            "text/plain": [
              "recommendations finished on 25000/89981 queries. users per second: 23.1715"
            ],
            "text/html": [
              "<pre>recommendations finished on 25000/89981 queries. users per second: 23.1715</pre>"
            ]
          },
          "metadata": {}
        },
        {
          "output_type": "display_data",
          "data": {
            "text/plain": [
              "recommendations finished on 26000/89981 queries. users per second: 23.1781"
            ],
            "text/html": [
              "<pre>recommendations finished on 26000/89981 queries. users per second: 23.1781</pre>"
            ]
          },
          "metadata": {}
        },
        {
          "output_type": "display_data",
          "data": {
            "text/plain": [
              "recommendations finished on 27000/89981 queries. users per second: 23.1699"
            ],
            "text/html": [
              "<pre>recommendations finished on 27000/89981 queries. users per second: 23.1699</pre>"
            ]
          },
          "metadata": {}
        },
        {
          "output_type": "display_data",
          "data": {
            "text/plain": [
              "recommendations finished on 28000/89981 queries. users per second: 23.1759"
            ],
            "text/html": [
              "<pre>recommendations finished on 28000/89981 queries. users per second: 23.1759</pre>"
            ]
          },
          "metadata": {}
        },
        {
          "output_type": "display_data",
          "data": {
            "text/plain": [
              "recommendations finished on 29000/89981 queries. users per second: 23.1827"
            ],
            "text/html": [
              "<pre>recommendations finished on 29000/89981 queries. users per second: 23.1827</pre>"
            ]
          },
          "metadata": {}
        },
        {
          "output_type": "display_data",
          "data": {
            "text/plain": [
              "recommendations finished on 30000/89981 queries. users per second: 23.1924"
            ],
            "text/html": [
              "<pre>recommendations finished on 30000/89981 queries. users per second: 23.1924</pre>"
            ]
          },
          "metadata": {}
        },
        {
          "output_type": "display_data",
          "data": {
            "text/plain": [
              "recommendations finished on 31000/89981 queries. users per second: 23.2057"
            ],
            "text/html": [
              "<pre>recommendations finished on 31000/89981 queries. users per second: 23.2057</pre>"
            ]
          },
          "metadata": {}
        },
        {
          "output_type": "display_data",
          "data": {
            "text/plain": [
              "recommendations finished on 32000/89981 queries. users per second: 23.2179"
            ],
            "text/html": [
              "<pre>recommendations finished on 32000/89981 queries. users per second: 23.2179</pre>"
            ]
          },
          "metadata": {}
        },
        {
          "output_type": "display_data",
          "data": {
            "text/plain": [
              "recommendations finished on 33000/89981 queries. users per second: 23.2196"
            ],
            "text/html": [
              "<pre>recommendations finished on 33000/89981 queries. users per second: 23.2196</pre>"
            ]
          },
          "metadata": {}
        },
        {
          "output_type": "display_data",
          "data": {
            "text/plain": [
              "recommendations finished on 34000/89981 queries. users per second: 23.2312"
            ],
            "text/html": [
              "<pre>recommendations finished on 34000/89981 queries. users per second: 23.2312</pre>"
            ]
          },
          "metadata": {}
        },
        {
          "output_type": "display_data",
          "data": {
            "text/plain": [
              "recommendations finished on 35000/89981 queries. users per second: 23.2342"
            ],
            "text/html": [
              "<pre>recommendations finished on 35000/89981 queries. users per second: 23.2342</pre>"
            ]
          },
          "metadata": {}
        },
        {
          "output_type": "display_data",
          "data": {
            "text/plain": [
              "recommendations finished on 36000/89981 queries. users per second: 23.2429"
            ],
            "text/html": [
              "<pre>recommendations finished on 36000/89981 queries. users per second: 23.2429</pre>"
            ]
          },
          "metadata": {}
        },
        {
          "output_type": "display_data",
          "data": {
            "text/plain": [
              "recommendations finished on 37000/89981 queries. users per second: 23.2547"
            ],
            "text/html": [
              "<pre>recommendations finished on 37000/89981 queries. users per second: 23.2547</pre>"
            ]
          },
          "metadata": {}
        },
        {
          "output_type": "display_data",
          "data": {
            "text/plain": [
              "recommendations finished on 38000/89981 queries. users per second: 23.265"
            ],
            "text/html": [
              "<pre>recommendations finished on 38000/89981 queries. users per second: 23.265</pre>"
            ]
          },
          "metadata": {}
        },
        {
          "output_type": "display_data",
          "data": {
            "text/plain": [
              "recommendations finished on 39000/89981 queries. users per second: 23.2772"
            ],
            "text/html": [
              "<pre>recommendations finished on 39000/89981 queries. users per second: 23.2772</pre>"
            ]
          },
          "metadata": {}
        },
        {
          "output_type": "display_data",
          "data": {
            "text/plain": [
              "recommendations finished on 40000/89981 queries. users per second: 23.2863"
            ],
            "text/html": [
              "<pre>recommendations finished on 40000/89981 queries. users per second: 23.2863</pre>"
            ]
          },
          "metadata": {}
        },
        {
          "output_type": "display_data",
          "data": {
            "text/plain": [
              "recommendations finished on 41000/89981 queries. users per second: 23.2939"
            ],
            "text/html": [
              "<pre>recommendations finished on 41000/89981 queries. users per second: 23.2939</pre>"
            ]
          },
          "metadata": {}
        },
        {
          "output_type": "display_data",
          "data": {
            "text/plain": [
              "recommendations finished on 42000/89981 queries. users per second: 23.3003"
            ],
            "text/html": [
              "<pre>recommendations finished on 42000/89981 queries. users per second: 23.3003</pre>"
            ]
          },
          "metadata": {}
        },
        {
          "output_type": "display_data",
          "data": {
            "text/plain": [
              "recommendations finished on 43000/89981 queries. users per second: 23.3067"
            ],
            "text/html": [
              "<pre>recommendations finished on 43000/89981 queries. users per second: 23.3067</pre>"
            ]
          },
          "metadata": {}
        },
        {
          "output_type": "display_data",
          "data": {
            "text/plain": [
              "recommendations finished on 44000/89981 queries. users per second: 23.3136"
            ],
            "text/html": [
              "<pre>recommendations finished on 44000/89981 queries. users per second: 23.3136</pre>"
            ]
          },
          "metadata": {}
        },
        {
          "output_type": "display_data",
          "data": {
            "text/plain": [
              "recommendations finished on 45000/89981 queries. users per second: 23.3195"
            ],
            "text/html": [
              "<pre>recommendations finished on 45000/89981 queries. users per second: 23.3195</pre>"
            ]
          },
          "metadata": {}
        },
        {
          "output_type": "display_data",
          "data": {
            "text/plain": [
              "recommendations finished on 46000/89981 queries. users per second: 23.3213"
            ],
            "text/html": [
              "<pre>recommendations finished on 46000/89981 queries. users per second: 23.3213</pre>"
            ]
          },
          "metadata": {}
        },
        {
          "output_type": "display_data",
          "data": {
            "text/plain": [
              "recommendations finished on 47000/89981 queries. users per second: 23.3358"
            ],
            "text/html": [
              "<pre>recommendations finished on 47000/89981 queries. users per second: 23.3358</pre>"
            ]
          },
          "metadata": {}
        },
        {
          "output_type": "display_data",
          "data": {
            "text/plain": [
              "recommendations finished on 48000/89981 queries. users per second: 23.3494"
            ],
            "text/html": [
              "<pre>recommendations finished on 48000/89981 queries. users per second: 23.3494</pre>"
            ]
          },
          "metadata": {}
        },
        {
          "output_type": "display_data",
          "data": {
            "text/plain": [
              "recommendations finished on 49000/89981 queries. users per second: 23.3658"
            ],
            "text/html": [
              "<pre>recommendations finished on 49000/89981 queries. users per second: 23.3658</pre>"
            ]
          },
          "metadata": {}
        },
        {
          "output_type": "display_data",
          "data": {
            "text/plain": [
              "recommendations finished on 50000/89981 queries. users per second: 23.3843"
            ],
            "text/html": [
              "<pre>recommendations finished on 50000/89981 queries. users per second: 23.3843</pre>"
            ]
          },
          "metadata": {}
        },
        {
          "output_type": "display_data",
          "data": {
            "text/plain": [
              "recommendations finished on 51000/89981 queries. users per second: 23.4014"
            ],
            "text/html": [
              "<pre>recommendations finished on 51000/89981 queries. users per second: 23.4014</pre>"
            ]
          },
          "metadata": {}
        },
        {
          "output_type": "display_data",
          "data": {
            "text/plain": [
              "recommendations finished on 52000/89981 queries. users per second: 23.4125"
            ],
            "text/html": [
              "<pre>recommendations finished on 52000/89981 queries. users per second: 23.4125</pre>"
            ]
          },
          "metadata": {}
        },
        {
          "output_type": "display_data",
          "data": {
            "text/plain": [
              "recommendations finished on 53000/89981 queries. users per second: 23.4191"
            ],
            "text/html": [
              "<pre>recommendations finished on 53000/89981 queries. users per second: 23.4191</pre>"
            ]
          },
          "metadata": {}
        },
        {
          "output_type": "display_data",
          "data": {
            "text/plain": [
              "recommendations finished on 54000/89981 queries. users per second: 23.4286"
            ],
            "text/html": [
              "<pre>recommendations finished on 54000/89981 queries. users per second: 23.4286</pre>"
            ]
          },
          "metadata": {}
        },
        {
          "output_type": "display_data",
          "data": {
            "text/plain": [
              "recommendations finished on 55000/89981 queries. users per second: 23.4409"
            ],
            "text/html": [
              "<pre>recommendations finished on 55000/89981 queries. users per second: 23.4409</pre>"
            ]
          },
          "metadata": {}
        },
        {
          "output_type": "display_data",
          "data": {
            "text/plain": [
              "recommendations finished on 56000/89981 queries. users per second: 23.4543"
            ],
            "text/html": [
              "<pre>recommendations finished on 56000/89981 queries. users per second: 23.4543</pre>"
            ]
          },
          "metadata": {}
        },
        {
          "output_type": "display_data",
          "data": {
            "text/plain": [
              "recommendations finished on 57000/89981 queries. users per second: 23.4625"
            ],
            "text/html": [
              "<pre>recommendations finished on 57000/89981 queries. users per second: 23.4625</pre>"
            ]
          },
          "metadata": {}
        },
        {
          "output_type": "display_data",
          "data": {
            "text/plain": [
              "recommendations finished on 58000/89981 queries. users per second: 23.4678"
            ],
            "text/html": [
              "<pre>recommendations finished on 58000/89981 queries. users per second: 23.4678</pre>"
            ]
          },
          "metadata": {}
        },
        {
          "output_type": "display_data",
          "data": {
            "text/plain": [
              "recommendations finished on 59000/89981 queries. users per second: 23.4773"
            ],
            "text/html": [
              "<pre>recommendations finished on 59000/89981 queries. users per second: 23.4773</pre>"
            ]
          },
          "metadata": {}
        },
        {
          "output_type": "display_data",
          "data": {
            "text/plain": [
              "recommendations finished on 60000/89981 queries. users per second: 23.4915"
            ],
            "text/html": [
              "<pre>recommendations finished on 60000/89981 queries. users per second: 23.4915</pre>"
            ]
          },
          "metadata": {}
        },
        {
          "output_type": "display_data",
          "data": {
            "text/plain": [
              "recommendations finished on 61000/89981 queries. users per second: 23.4958"
            ],
            "text/html": [
              "<pre>recommendations finished on 61000/89981 queries. users per second: 23.4958</pre>"
            ]
          },
          "metadata": {}
        },
        {
          "output_type": "display_data",
          "data": {
            "text/plain": [
              "recommendations finished on 62000/89981 queries. users per second: 23.5045"
            ],
            "text/html": [
              "<pre>recommendations finished on 62000/89981 queries. users per second: 23.5045</pre>"
            ]
          },
          "metadata": {}
        },
        {
          "output_type": "display_data",
          "data": {
            "text/plain": [
              "recommendations finished on 63000/89981 queries. users per second: 23.512"
            ],
            "text/html": [
              "<pre>recommendations finished on 63000/89981 queries. users per second: 23.512</pre>"
            ]
          },
          "metadata": {}
        },
        {
          "output_type": "display_data",
          "data": {
            "text/plain": [
              "recommendations finished on 64000/89981 queries. users per second: 23.5218"
            ],
            "text/html": [
              "<pre>recommendations finished on 64000/89981 queries. users per second: 23.5218</pre>"
            ]
          },
          "metadata": {}
        },
        {
          "output_type": "display_data",
          "data": {
            "text/plain": [
              "recommendations finished on 65000/89981 queries. users per second: 23.5303"
            ],
            "text/html": [
              "<pre>recommendations finished on 65000/89981 queries. users per second: 23.5303</pre>"
            ]
          },
          "metadata": {}
        },
        {
          "output_type": "display_data",
          "data": {
            "text/plain": [
              "recommendations finished on 66000/89981 queries. users per second: 23.5395"
            ],
            "text/html": [
              "<pre>recommendations finished on 66000/89981 queries. users per second: 23.5395</pre>"
            ]
          },
          "metadata": {}
        },
        {
          "output_type": "display_data",
          "data": {
            "text/plain": [
              "recommendations finished on 67000/89981 queries. users per second: 23.5432"
            ],
            "text/html": [
              "<pre>recommendations finished on 67000/89981 queries. users per second: 23.5432</pre>"
            ]
          },
          "metadata": {}
        },
        {
          "output_type": "display_data",
          "data": {
            "text/plain": [
              "recommendations finished on 68000/89981 queries. users per second: 23.5498"
            ],
            "text/html": [
              "<pre>recommendations finished on 68000/89981 queries. users per second: 23.5498</pre>"
            ]
          },
          "metadata": {}
        },
        {
          "output_type": "display_data",
          "data": {
            "text/plain": [
              "recommendations finished on 69000/89981 queries. users per second: 23.5529"
            ],
            "text/html": [
              "<pre>recommendations finished on 69000/89981 queries. users per second: 23.5529</pre>"
            ]
          },
          "metadata": {}
        },
        {
          "output_type": "display_data",
          "data": {
            "text/plain": [
              "recommendations finished on 70000/89981 queries. users per second: 23.5583"
            ],
            "text/html": [
              "<pre>recommendations finished on 70000/89981 queries. users per second: 23.5583</pre>"
            ]
          },
          "metadata": {}
        },
        {
          "output_type": "display_data",
          "data": {
            "text/plain": [
              "recommendations finished on 71000/89981 queries. users per second: 23.5624"
            ],
            "text/html": [
              "<pre>recommendations finished on 71000/89981 queries. users per second: 23.5624</pre>"
            ]
          },
          "metadata": {}
        },
        {
          "output_type": "display_data",
          "data": {
            "text/plain": [
              "recommendations finished on 72000/89981 queries. users per second: 23.569"
            ],
            "text/html": [
              "<pre>recommendations finished on 72000/89981 queries. users per second: 23.569</pre>"
            ]
          },
          "metadata": {}
        },
        {
          "output_type": "display_data",
          "data": {
            "text/plain": [
              "recommendations finished on 73000/89981 queries. users per second: 23.571"
            ],
            "text/html": [
              "<pre>recommendations finished on 73000/89981 queries. users per second: 23.571</pre>"
            ]
          },
          "metadata": {}
        },
        {
          "output_type": "display_data",
          "data": {
            "text/plain": [
              "recommendations finished on 74000/89981 queries. users per second: 23.5809"
            ],
            "text/html": [
              "<pre>recommendations finished on 74000/89981 queries. users per second: 23.5809</pre>"
            ]
          },
          "metadata": {}
        },
        {
          "output_type": "display_data",
          "data": {
            "text/plain": [
              "recommendations finished on 75000/89981 queries. users per second: 23.5865"
            ],
            "text/html": [
              "<pre>recommendations finished on 75000/89981 queries. users per second: 23.5865</pre>"
            ]
          },
          "metadata": {}
        },
        {
          "output_type": "display_data",
          "data": {
            "text/plain": [
              "recommendations finished on 76000/89981 queries. users per second: 23.5902"
            ],
            "text/html": [
              "<pre>recommendations finished on 76000/89981 queries. users per second: 23.5902</pre>"
            ]
          },
          "metadata": {}
        },
        {
          "output_type": "display_data",
          "data": {
            "text/plain": [
              "recommendations finished on 77000/89981 queries. users per second: 23.5958"
            ],
            "text/html": [
              "<pre>recommendations finished on 77000/89981 queries. users per second: 23.5958</pre>"
            ]
          },
          "metadata": {}
        },
        {
          "output_type": "display_data",
          "data": {
            "text/plain": [
              "recommendations finished on 78000/89981 queries. users per second: 23.5996"
            ],
            "text/html": [
              "<pre>recommendations finished on 78000/89981 queries. users per second: 23.5996</pre>"
            ]
          },
          "metadata": {}
        },
        {
          "output_type": "display_data",
          "data": {
            "text/plain": [
              "recommendations finished on 79000/89981 queries. users per second: 23.6046"
            ],
            "text/html": [
              "<pre>recommendations finished on 79000/89981 queries. users per second: 23.6046</pre>"
            ]
          },
          "metadata": {}
        },
        {
          "output_type": "display_data",
          "data": {
            "text/plain": [
              "recommendations finished on 80000/89981 queries. users per second: 23.613"
            ],
            "text/html": [
              "<pre>recommendations finished on 80000/89981 queries. users per second: 23.613</pre>"
            ]
          },
          "metadata": {}
        },
        {
          "output_type": "display_data",
          "data": {
            "text/plain": [
              "recommendations finished on 81000/89981 queries. users per second: 23.614"
            ],
            "text/html": [
              "<pre>recommendations finished on 81000/89981 queries. users per second: 23.614</pre>"
            ]
          },
          "metadata": {}
        },
        {
          "output_type": "display_data",
          "data": {
            "text/plain": [
              "recommendations finished on 82000/89981 queries. users per second: 23.6177"
            ],
            "text/html": [
              "<pre>recommendations finished on 82000/89981 queries. users per second: 23.6177</pre>"
            ]
          },
          "metadata": {}
        },
        {
          "output_type": "display_data",
          "data": {
            "text/plain": [
              "recommendations finished on 83000/89981 queries. users per second: 23.6225"
            ],
            "text/html": [
              "<pre>recommendations finished on 83000/89981 queries. users per second: 23.6225</pre>"
            ]
          },
          "metadata": {}
        },
        {
          "output_type": "display_data",
          "data": {
            "text/plain": [
              "recommendations finished on 84000/89981 queries. users per second: 23.6248"
            ],
            "text/html": [
              "<pre>recommendations finished on 84000/89981 queries. users per second: 23.6248</pre>"
            ]
          },
          "metadata": {}
        },
        {
          "output_type": "display_data",
          "data": {
            "text/plain": [
              "recommendations finished on 85000/89981 queries. users per second: 23.6275"
            ],
            "text/html": [
              "<pre>recommendations finished on 85000/89981 queries. users per second: 23.6275</pre>"
            ]
          },
          "metadata": {}
        },
        {
          "output_type": "display_data",
          "data": {
            "text/plain": [
              "recommendations finished on 86000/89981 queries. users per second: 23.631"
            ],
            "text/html": [
              "<pre>recommendations finished on 86000/89981 queries. users per second: 23.631</pre>"
            ]
          },
          "metadata": {}
        },
        {
          "output_type": "display_data",
          "data": {
            "text/plain": [
              "recommendations finished on 87000/89981 queries. users per second: 23.6359"
            ],
            "text/html": [
              "<pre>recommendations finished on 87000/89981 queries. users per second: 23.6359</pre>"
            ]
          },
          "metadata": {}
        },
        {
          "output_type": "display_data",
          "data": {
            "text/plain": [
              "recommendations finished on 88000/89981 queries. users per second: 23.6414"
            ],
            "text/html": [
              "<pre>recommendations finished on 88000/89981 queries. users per second: 23.6414</pre>"
            ]
          },
          "metadata": {}
        },
        {
          "output_type": "display_data",
          "data": {
            "text/plain": [
              "recommendations finished on 89000/89981 queries. users per second: 23.6477"
            ],
            "text/html": [
              "<pre>recommendations finished on 89000/89981 queries. users per second: 23.6477</pre>"
            ]
          },
          "metadata": {}
        }
      ]
    },
    {
      "cell_type": "code",
      "source": [
        "mf_feat_eval"
      ],
      "metadata": {
        "colab": {
          "base_uri": "https://localhost:8080/"
        },
        "id": "2DLo-fHRXluN",
        "outputId": "6c31369a-f7df-4fc4-91c4-1ab5c1b69a8f"
      },
      "execution_count": null,
      "outputs": [
        {
          "output_type": "execute_result",
          "data": {
            "text/plain": [
              "{'precision_recall_by_user': Columns:\n",
              " \tuser_id\tint\n",
              " \tcutoff\tint\n",
              " \tprecision\tfloat\n",
              " \trecall\tfloat\n",
              " \tcount\tint\n",
              " \n",
              " Rows: 1619658\n",
              " \n",
              " Data:\n",
              " +---------+--------+-----------+--------+-------+\n",
              " | user_id | cutoff | precision | recall | count |\n",
              " +---------+--------+-----------+--------+-------+\n",
              " |  34063  |   1    |    0.0    |  0.0   |   79  |\n",
              " |  34063  |   2    |    0.0    |  0.0   |   79  |\n",
              " |  34063  |   3    |    0.0    |  0.0   |   79  |\n",
              " |  34063  |   4    |    0.0    |  0.0   |   79  |\n",
              " |  34063  |   5    |    0.0    |  0.0   |   79  |\n",
              " |  34063  |   6    |    0.0    |  0.0   |   79  |\n",
              " |  34063  |   7    |    0.0    |  0.0   |   79  |\n",
              " |  34063  |   8    |    0.0    |  0.0   |   79  |\n",
              " |  34063  |   9    |    0.0    |  0.0   |   79  |\n",
              " |  34063  |   10   |    0.0    |  0.0   |   79  |\n",
              " +---------+--------+-----------+--------+-------+\n",
              " [1619658 rows x 5 columns]\n",
              " Note: Only the head of the SFrame is printed.\n",
              " You can use print_rows(num_rows=m, num_columns=n) to print more rows and columns.,\n",
              " 'precision_recall_overall': Columns:\n",
              " \tcutoff\tint\n",
              " \tprecision\tfloat\n",
              " \trecall\tfloat\n",
              " \n",
              " Rows: 18\n",
              " \n",
              " Data:\n",
              " +--------+-----------------------+-----------------------+\n",
              " | cutoff |       precision       |         recall        |\n",
              " +--------+-----------------------+-----------------------+\n",
              " |   1    | 0.0061012880496993825 | 0.0003662970892812346 |\n",
              " |   2    |  0.005323346039719499 | 0.0006350392273088179 |\n",
              " |   3    | 0.0043898156277435724 | 0.0007845120283227919 |\n",
              " |   4    |  0.003981396072504215 |  0.000941768486697125 |\n",
              " |   5    | 0.0037118947333324897 | 0.0010925341815826856 |\n",
              " |   6    | 0.0032062324268456476 | 0.0011320556919319365 |\n",
              " |   7    | 0.0031435207750207554 |  0.001296390946044633 |\n",
              " |   8    | 0.0028200397861770786 | 0.0013269165298486522 |\n",
              " |   9    | 0.0025869658903299874 | 0.0013647229501392013 |\n",
              " |   10   |  0.002898389660039238 | 0.0017295489368789958 |\n",
              " +--------+-----------------------+-----------------------+\n",
              " [18 rows x 3 columns]\n",
              " Note: Only the head of the SFrame is printed.\n",
              " You can use print_rows(num_rows=m, num_columns=n) to print more rows and columns.}"
            ]
          },
          "metadata": {},
          "execution_count": 18
        }
      ]
    },
    {
      "cell_type": "code",
      "source": [],
      "metadata": {
        "id": "zN0DWD0p2ADO"
      },
      "execution_count": null,
      "outputs": []
    }
  ]
}